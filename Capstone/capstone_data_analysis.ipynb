{
 "cells": [
  {
   "cell_type": "code",
   "execution_count": 1,
   "metadata": {},
   "outputs": [],
   "source": [
    "# Operating System\n",
    "import os\n",
    "\n",
    "import pandas as pd\n",
    "import numpy as np\n",
    "\n",
    "import random\n",
    "\n",
    "import matplotlib.pyplot as plt\n",
    "%matplotlib inline"
   ]
  },
  {
   "cell_type": "markdown",
   "metadata": {},
   "source": [
    "# Load original data"
   ]
  },
  {
   "cell_type": "code",
   "execution_count": 2,
   "metadata": {},
   "outputs": [],
   "source": [
    "#file_path = \".\\data\\train.csv\"\n",
    "file_path = os.path.join('data', 'train.csv')\n",
    "\n",
    "\n",
    "# Option 1 for reading a sample of the file\n",
    "n_total_rows = 2437645\n",
    "prc_rows_to_read = 10\n",
    "n_rows_to_read = int(prc_rows_to_read/100*n_total_rows)\n",
    "n_rows_to_skip = n_total_rows - n_rows_to_read\n",
    "\n",
    "random.seed(178) # this is to get always the same sample. can be removed if we want the sample to change\n",
    "list_of_rows_to_skip = random.sample(\n",
    "    range(1, n_total_rows-1), # this is a range from the first row after the header, to the last row on the file\n",
    "    n_rows_to_skip # this is the number of rows we want to sample, i.e, to skip\n",
    ")\n",
    "\n",
    "\n",
    "# Option 2 for reading a sample of the file\n",
    "# sample 10% of the rows\n",
    "p = 0.01\n",
    "\n",
    "try:\n",
    "    df_original = pd.read_csv(file_path, \n",
    "                             skiprows = lambda row_num: random.random() > p and row_num > 0, \n",
    "                             #nrows = 10000, \n",
    "                             header=0,\n",
    "                             warn_bad_lines=True)\n",
    "except:\n",
    "    print('Ooops!!! We got an error!')\n"
   ]
  },
  {
   "cell_type": "code",
   "execution_count": 3,
   "metadata": {
    "scrolled": true
   },
   "outputs": [
    {
     "name": "stdout",
     "output_type": "stream",
     "text": [
      "<class 'pandas.core.frame.DataFrame'>\n",
      "RangeIndex: 24827 entries, 0 to 24826\n",
      "Data columns (total 15 columns):\n",
      "VehicleSearchedIndicator            24827 non-null bool\n",
      "ContrabandIndicator                 24827 non-null bool\n",
      "Department Name                     24827 non-null object\n",
      "InterventionDateTime                24827 non-null object\n",
      "InterventionLocationName            24827 non-null object\n",
      "InterventionReasonCode              24827 non-null object\n",
      "ReportingOfficerIdentificationID    24827 non-null object\n",
      "ResidentIndicator                   24827 non-null bool\n",
      "SearchAuthorizationCode             24826 non-null object\n",
      "StatuteReason                       24820 non-null object\n",
      "SubjectAge                          24827 non-null float64\n",
      "SubjectEthnicityCode                24827 non-null object\n",
      "SubjectRaceCode                     24827 non-null object\n",
      "SubjectSexCode                      24827 non-null object\n",
      "TownResidentIndicator               24827 non-null bool\n",
      "dtypes: bool(4), float64(1), object(10)\n",
      "memory usage: 2.2+ MB\n"
     ]
    }
   ],
   "source": [
    "df_original.info()"
   ]
  },
  {
   "cell_type": "markdown",
   "metadata": {},
   "source": [
    "# Transform data to analysis"
   ]
  },
  {
   "cell_type": "code",
   "execution_count": 4,
   "metadata": {
    "scrolled": false
   },
   "outputs": [],
   "source": [
    "remane_columns_dict = {'VehicleSearchedIndicator': 'search', \n",
    "                       'ContrabandIndicator': 'target', \n",
    "                       'Department Name': 'departm',\n",
    "                       'InterventionDateTime': 'date',\n",
    "                       'InterventionLocationName': 'local',\n",
    "                       'InterventionReasonCode': 'reason',\n",
    "                       'ReportingOfficerIdentificationID': 'officerID',\n",
    "                       'ResidentIndicator': 'state_res',\n",
    "                       'SearchAuthorizationCode': 'search_reason',\n",
    "                       'StatuteReason': 'stop_reason',\n",
    "                       'SubjectAge': 'age',\n",
    "                       'SubjectEthnicityCode': 'ethnic',\n",
    "                       'SubjectRaceCode': 'race',\n",
    "                       'SubjectSexCode': 'sex',\n",
    "                       'TownResidentIndicator': 'town_res'\n",
    "                      }"
   ]
  },
  {
   "cell_type": "code",
   "execution_count": 5,
   "metadata": {},
   "outputs": [
    {
     "name": "stdout",
     "output_type": "stream",
     "text": [
      "<class 'pandas.core.frame.DataFrame'>\n",
      "RangeIndex: 24827 entries, 0 to 24826\n",
      "Data columns (total 15 columns):\n",
      "search           24827 non-null bool\n",
      "target           24827 non-null bool\n",
      "departm          24827 non-null object\n",
      "date             24827 non-null datetime64[ns]\n",
      "local            24827 non-null object\n",
      "reason           24827 non-null object\n",
      "officerID        24827 non-null object\n",
      "state_res        24827 non-null bool\n",
      "search_reason    24826 non-null object\n",
      "stop_reason      24820 non-null object\n",
      "age              24827 non-null float64\n",
      "ethnic           24827 non-null object\n",
      "race             24827 non-null object\n",
      "sex              24827 non-null object\n",
      "town_res         24827 non-null bool\n",
      "dtypes: bool(4), datetime64[ns](1), float64(1), object(9)\n",
      "memory usage: 2.2+ MB\n"
     ]
    }
   ],
   "source": [
    "def data_transformer(df_original: pd.DataFrame, columns_dict: dict) -> pd.DataFrame:\n",
    "    \"\"\"Transforms the original DataFrame to make it suited for data analysis.\n",
    "    \n",
    "    Args:\n",
    "        df_original (pd.DataFrame):  Original DataFrame, as imported by pd.read_csv().\n",
    "        columns_dict (dict): Correspondence between old a new column names.\n",
    "        \n",
    "    Returns:\n",
    "        df (pd.DataFrame): Transformed DataFrame, ready for data analysis.\n",
    "        \n",
    "    TODO:\n",
    "        * to do list\n",
    "        \n",
    "    \"\"\"\n",
    "    \n",
    "    df = df_original.copy()\n",
    "    \n",
    "    # change column names\n",
    "    df = df.rename(columns = columns_dict)\n",
    "    \n",
    "    # convert date to pd.datetime\n",
    "    df.date = pd.to_datetime(df.date)\n",
    "    \n",
    "    # convert Intervention DateTime to index of the DataFrame\n",
    "    #df = df.set_index('date').sort_index()\n",
    "    \n",
    "   \n",
    "    return df\n",
    "\n",
    "df = data_transformer(df_original, remane_columns_dict)\n",
    "df.info()"
   ]
  },
  {
   "cell_type": "code",
   "execution_count": 6,
   "metadata": {},
   "outputs": [
    {
     "name": "stdout",
     "output_type": "stream",
     "text": [
      "Number of car stops: 24 827\n"
     ]
    }
   ],
   "source": [
    "print(\"Number of car stops: {:,d}\".format(df.shape[0]).replace(',', ' '))\n"
   ]
  },
  {
   "cell_type": "code",
   "execution_count": 7,
   "metadata": {
    "scrolled": false
   },
   "outputs": [
    {
     "name": "stdout",
     "output_type": "stream",
     "text": [
      "Percentage of searches:\n"
     ]
    },
    {
     "data": {
      "text/plain": [
       "False    96.858259\n",
       "True      3.141741\n",
       "Name: search, dtype: float64"
      ]
     },
     "execution_count": 7,
     "metadata": {},
     "output_type": "execute_result"
    }
   ],
   "source": [
    "print(\"Percentage of searches:\")\n",
    "df.search.value_counts(normalize=True, dropna=False)*100"
   ]
  },
  {
   "cell_type": "code",
   "execution_count": 8,
   "metadata": {},
   "outputs": [
    {
     "data": {
      "image/png": "[encoded data removed]",
      "text/plain": [
       "<Figure size 216x216 with 1 Axes>"
      ]
     },
     "metadata": {},
     "output_type": "display_data"
    }
   ],
   "source": [
    "df.search.value_counts().plot.pie(figsize=(3,3));"
   ]
  },
  {
   "cell_type": "code",
   "execution_count": 9,
   "metadata": {
    "scrolled": false
   },
   "outputs": [
    {
     "name": "stdout",
     "output_type": "stream",
     "text": [
      "Percentage of counterband discovers:\n"
     ]
    },
    {
     "data": {
      "text/plain": [
       "False    98.860112\n",
       "True      1.139888\n",
       "Name: target, dtype: float64"
      ]
     },
     "execution_count": 9,
     "metadata": {},
     "output_type": "execute_result"
    }
   ],
   "source": [
    "print(\"Percentage of counterband discovers:\")\n",
    "df.target.value_counts(normalize=True, dropna=False)*100"
   ]
  },
  {
   "cell_type": "code",
   "execution_count": 10,
   "metadata": {},
   "outputs": [
    {
     "data": {
      "image/png": "[encoded data removed]",
      "text/plain": [
       "<Figure size 288x288 with 1 Axes>"
      ]
     },
     "metadata": {
      "needs_background": "light"
     },
     "output_type": "display_data"
    }
   ],
   "source": [
    "df.target.value_counts(normalize=True).plot.bar(figsize=(4,4));"
   ]
  },
  {
   "cell_type": "code",
   "execution_count": 11,
   "metadata": {
    "scrolled": false
   },
   "outputs": [
    {
     "name": "stdout",
     "output_type": "stream",
     "text": [
      "Percentage of counterband discovers when car not searched:\n"
     ]
    },
    {
     "data": {
      "text/plain": [
       "False    99.920988\n",
       "True      0.079012\n",
       "Name: target, dtype: float64"
      ]
     },
     "execution_count": 11,
     "metadata": {},
     "output_type": "execute_result"
    }
   ],
   "source": [
    "print(\"Percentage of counterband discovers when car not searched:\")\n",
    "df[df.search==False].target.value_counts(normalize=True, dropna=False)*100"
   ]
  },
  {
   "cell_type": "code",
   "execution_count": 12,
   "metadata": {
    "scrolled": true
   },
   "outputs": [
    {
     "name": "stdout",
     "output_type": "stream",
     "text": [
      "Percentage of counterband discovers when searched:\n"
     ]
    },
    {
     "data": {
      "text/plain": [
       "False    66.153846\n",
       "True     33.846154\n",
       "Name: target, dtype: float64"
      ]
     },
     "execution_count": 12,
     "metadata": {},
     "output_type": "execute_result"
    }
   ],
   "source": [
    "print(\"Percentage of counterband discovers when searched:\")\n",
    "df[df.search==True].target.value_counts(normalize=True, dropna=False)*100"
   ]
  },
  {
   "cell_type": "code",
   "execution_count": 13,
   "metadata": {},
   "outputs": [
    {
     "data": {
      "image/png": "[encoded data removed]",
      "text/plain": [
       "<Figure size 216x216 with 1 Axes>"
      ]
     },
     "metadata": {},
     "output_type": "display_data"
    }
   ],
   "source": [
    "df[df.search==True].target.value_counts().plot.pie(figsize=(3,3));"
   ]
  },
  {
   "cell_type": "code",
   "execution_count": 14,
   "metadata": {},
   "outputs": [
    {
     "data": {
      "text/plain": [
       "118"
      ]
     },
     "execution_count": 14,
     "metadata": {},
     "output_type": "execute_result"
    }
   ],
   "source": [
    "df.departm.nunique()"
   ]
  },
  {
   "cell_type": "code",
   "execution_count": 15,
   "metadata": {
    "scrolled": false
   },
   "outputs": [
    {
     "data": {
      "text/plain": [
       "count     118.000000\n",
       "mean      210.398305\n",
       "std       310.358550\n",
       "min         1.000000\n",
       "1%          1.000000\n",
       "5%          9.800000\n",
       "10%        22.400000\n",
       "20%        55.000000\n",
       "30%        87.200000\n",
       "40%       125.600000\n",
       "50%       155.000000\n",
       "60%       177.000000\n",
       "70%       241.500000\n",
       "80%       320.600000\n",
       "95%       515.150000\n",
       "99%       673.980000\n",
       "max      3147.000000\n",
       "Name: departm, dtype: float64"
      ]
     },
     "execution_count": 15,
     "metadata": {},
     "output_type": "execute_result"
    }
   ],
   "source": [
    "pctl = (np.array([1,5] + list(range(10,90,10)) + [95,99])*0.01).round(decimals=2).tolist()\n",
    "df.departm.value_counts().describe(percentiles=pctl)"
   ]
  },
  {
   "cell_type": "code",
   "execution_count": 16,
   "metadata": {},
   "outputs": [
    {
     "data": {
      "image/png": "[encoded data removed]",
      "text/plain": [
       "<Figure size 576x288 with 1 Axes>"
      ]
     },
     "metadata": {
      "needs_background": "light"
     },
     "output_type": "display_data"
    }
   ],
   "source": [
    "df.departm.value_counts().plot.hist(xlim= (0,600), bins=range(0,600,10), figsize=(8,4))\n",
    "plt.title('Histogram of car stops per police department')\n",
    "plt.xlabel('Car stops');"
   ]
  },
  {
   "cell_type": "code",
   "execution_count": 17,
   "metadata": {
    "scrolled": true
   },
   "outputs": [
    {
     "data": {
      "image/png": "[encoded data removed]",
      "text/plain": [
       "<Figure size 576x288 with 1 Axes>"
      ]
     },
     "metadata": {
      "needs_background": "light"
     },
     "output_type": "display_data"
    }
   ],
   "source": [
    "search_dt_series = df.set_index('date').sort_index().search.where(lambda x: x==True).dropna()\n",
    "search_dt_series.resample('M').count().plot(figsize=(8, 4));\n",
    "#search_dt_series.resample('M').count()\n",
    "#search_dt_series[search_dt_series == True]\n",
    "#df.date.dt.to_period('M')\n",
    "#smonth.groupby(smonth).count()"
   ]
  },
  {
   "cell_type": "code",
   "execution_count": 18,
   "metadata": {
    "scrolled": true
   },
   "outputs": [
    {
     "data": {
      "text/plain": [
       "603"
      ]
     },
     "execution_count": 18,
     "metadata": {},
     "output_type": "execute_result"
    }
   ],
   "source": [
    "df.local.nunique()"
   ]
  },
  {
   "cell_type": "code",
   "execution_count": 19,
   "metadata": {
    "scrolled": true
   },
   "outputs": [
    {
     "data": {
      "text/plain": [
       "count    603.000000\n",
       "mean      41.172471\n",
       "std       72.635417\n",
       "min        1.000000\n",
       "1%         1.000000\n",
       "5%         1.000000\n",
       "10%        1.000000\n",
       "20%        1.000000\n",
       "30%        3.000000\n",
       "40%        6.000000\n",
       "50%       13.000000\n",
       "60%       21.000000\n",
       "70%       36.000000\n",
       "80%       59.600000\n",
       "95%      179.000000\n",
       "99%      342.900000\n",
       "max      798.000000\n",
       "Name: local, dtype: float64"
      ]
     },
     "execution_count": 19,
     "metadata": {},
     "output_type": "execute_result"
    }
   ],
   "source": [
    "pctl = (np.array([1,5] + list(range(10,90,10)) + [95,99])*0.01).round(decimals=2).tolist()\n",
    "df.local.value_counts().describe(percentiles=pctl)"
   ]
  },
  {
   "cell_type": "code",
   "execution_count": 39,
   "metadata": {
    "scrolled": true
   },
   "outputs": [
    {
     "data": {
      "image/png": "[encoded data removed]",
      "text/plain": [
       "<Figure size 576x288 with 1 Axes>"
      ]
     },
     "metadata": {
      "needs_background": "light"
     },
     "output_type": "display_data"
    }
   ],
   "source": [
    "df.local.value_counts().plot.hist(xlim= (0,150), bins=range(0,200,5), figsize=(8,4))\n",
    "plt.title('Histogram of car stops per local')\n",
    "plt.xlabel('Nº of car stops');"
   ]
  },
  {
   "cell_type": "code",
   "execution_count": 21,
   "metadata": {
    "scrolled": true
   },
   "outputs": [
    {
     "data": {
      "text/plain": [
       "V    21920\n",
       "E     2448\n",
       "I      459\n",
       "Name: reason, dtype: int64"
      ]
     },
     "execution_count": 21,
     "metadata": {},
     "output_type": "execute_result"
    }
   ],
   "source": [
    "df.reason.value_counts()"
   ]
  },
  {
   "cell_type": "code",
   "execution_count": 22,
   "metadata": {},
   "outputs": [
    {
     "data": {
      "image/png": "[encoded data removed]",
      "text/plain": [
       "<Figure size 432x288 with 1 Axes>"
      ]
     },
     "metadata": {
      "needs_background": "light"
     },
     "output_type": "display_data"
    }
   ],
   "source": [
    "df.reason.value_counts(normalize=True).plot.bar();"
   ]
  },
  {
   "cell_type": "code",
   "execution_count": 23,
   "metadata": {},
   "outputs": [
    {
     "data": {
      "text/plain": [
       "True     0.860918\n",
       "False    0.139082\n",
       "Name: state_res, dtype: float64"
      ]
     },
     "execution_count": 23,
     "metadata": {},
     "output_type": "execute_result"
    }
   ],
   "source": [
    "df.state_res.value_counts(normalize=True, dropna=False)"
   ]
  },
  {
   "cell_type": "code",
   "execution_count": 24,
   "metadata": {
    "scrolled": true
   },
   "outputs": [
    {
     "data": {
      "text/plain": [
       "N      0.963709\n",
       "O      0.018206\n",
       "C      0.011842\n",
       "I      0.006203\n",
       "NaN    0.000040\n",
       "Name: search_reason, dtype: float64"
      ]
     },
     "execution_count": 24,
     "metadata": {},
     "output_type": "execute_result"
    }
   ],
   "source": [
    "df.search_reason.value_counts(normalize=True, dropna=False)"
   ]
  },
  {
   "cell_type": "code",
   "execution_count": 25,
   "metadata": {
    "scrolled": false
   },
   "outputs": [
    {
     "data": {
      "text/plain": [
       "Speed Related             0.272405\n",
       "Defective Lights          0.093205\n",
       "Cell Phone                0.090788\n",
       "Registration              0.090506\n",
       "Moving Violation          0.077657\n",
       "Traffic Control Signal    0.074234\n",
       "Other                     0.070407\n",
       "Stop Sign                 0.066822\n",
       "STC Violation             0.052161\n",
       "Seatbelt                  0.034076\n",
       "Display of Plates         0.026946\n",
       "Other/Error               0.017400\n",
       "Window Tint               0.012043\n",
       "Administrative Offense    0.010875\n",
       "Suspended License         0.004914\n",
       "Unlicensed Operation      0.003383\n",
       "Equipment Violation       0.001813\n",
       "NaN                       0.000282\n",
       "Stop Sign                 0.000081\n",
       "Name: stop_reason, dtype: float64"
      ]
     },
     "execution_count": 25,
     "metadata": {},
     "output_type": "execute_result"
    }
   ],
   "source": [
    "df.stop_reason.value_counts(normalize=True, dropna=False)"
   ]
  },
  {
   "cell_type": "code",
   "execution_count": 26,
   "metadata": {
    "scrolled": true
   },
   "outputs": [
    {
     "data": {
      "image/png": "[encoded data removed]",
      "text/plain": [
       "<Figure size 576x288 with 1 Axes>"
      ]
     },
     "metadata": {
      "needs_background": "light"
     },
     "output_type": "display_data"
    }
   ],
   "source": [
    "df.age.plot.hist(xlim= (15,80), bins=range(0,80,1), figsize=(8,4))\n",
    "plt.title('Histogram of driver age')\n",
    "plt.xlabel('Age');"
   ]
  },
  {
   "cell_type": "code",
   "execution_count": 38,
   "metadata": {},
   "outputs": [
    {
     "data": {
      "text/plain": [
       "1.0       1\n",
       "2.0       1\n",
       "3.0       1\n",
       "5.0       1\n",
       "6.0       1\n",
       "13.0      1\n",
       "15.0      1\n",
       "16.0     60\n",
       "17.0    265\n",
       "18.0    430\n",
       "19.0    553\n",
       "20.0    679\n",
       "21.0    718\n",
       "22.0    721\n",
       "23.0    798\n",
       "24.0    756\n",
       "25.0    827\n",
       "26.0    728\n",
       "27.0    727\n",
       "28.0    685\n",
       "29.0    635\n",
       "30.0    724\n",
       "31.0    548\n",
       "32.0    546\n",
       "33.0    567\n",
       "34.0    547\n",
       "35.0    563\n",
       "36.0    486\n",
       "37.0    438\n",
       "38.0    440\n",
       "       ... \n",
       "69.0     86\n",
       "70.0    136\n",
       "71.0     89\n",
       "72.0     76\n",
       "73.0     60\n",
       "74.0     59\n",
       "75.0     70\n",
       "76.0     39\n",
       "77.0     41\n",
       "78.0     34\n",
       "79.0     18\n",
       "80.0     34\n",
       "81.0     20\n",
       "82.0     22\n",
       "83.0     16\n",
       "84.0     16\n",
       "85.0      9\n",
       "86.0     11\n",
       "87.0      9\n",
       "88.0     13\n",
       "89.0      8\n",
       "90.0      5\n",
       "91.0      5\n",
       "92.0      4\n",
       "93.0      1\n",
       "94.0      1\n",
       "95.0      2\n",
       "97.0      4\n",
       "98.0      1\n",
       "99.0      8\n",
       "Name: age, Length: 90, dtype: int64"
      ]
     },
     "execution_count": 38,
     "metadata": {},
     "output_type": "execute_result"
    }
   ],
   "source": [
    "df.age.value_counts().sort_index()"
   ]
  },
  {
   "cell_type": "code",
   "execution_count": 27,
   "metadata": {
    "scrolled": true
   },
   "outputs": [
    {
     "data": {
      "text/plain": [
       "N    0.848713\n",
       "H    0.132718\n",
       "M    0.018568\n",
       "Name: ethnic, dtype: float64"
      ]
     },
     "execution_count": 27,
     "metadata": {},
     "output_type": "execute_result"
    }
   ],
   "source": [
    "df.ethnic.value_counts(normalize=True, dropna=False)"
   ]
  },
  {
   "cell_type": "code",
   "execution_count": 28,
   "metadata": {
    "scrolled": true
   },
   "outputs": [
    {
     "data": {
      "text/plain": [
       "W    0.818786\n",
       "B    0.153462\n",
       "A    0.019012\n",
       "I    0.008740\n",
       "Name: race, dtype: float64"
      ]
     },
     "execution_count": 28,
     "metadata": {},
     "output_type": "execute_result"
    }
   ],
   "source": [
    "df.race.value_counts(normalize=True, dropna=False)"
   ]
  },
  {
   "cell_type": "code",
   "execution_count": 29,
   "metadata": {
    "scrolled": true
   },
   "outputs": [
    {
     "data": {
      "text/plain": [
       "M    0.634108\n",
       "F    0.365892\n",
       "Name: sex, dtype: float64"
      ]
     },
     "execution_count": 29,
     "metadata": {},
     "output_type": "execute_result"
    }
   ],
   "source": [
    "df.sex.value_counts(normalize=True, dropna=False)"
   ]
  },
  {
   "cell_type": "code",
   "execution_count": 30,
   "metadata": {},
   "outputs": [
    {
     "data": {
      "text/plain": [
       "False    0.685061\n",
       "True     0.314939\n",
       "Name: town_res, dtype: float64"
      ]
     },
     "execution_count": 30,
     "metadata": {},
     "output_type": "execute_result"
    }
   ],
   "source": [
    "df.town_res.value_counts(normalize=True, dropna=False)"
   ]
  }
 ],
 "metadata": {
  "kernelspec": {
   "display_name": "Python 3",
   "language": "python",
   "name": "python3"
  },
  "language_info": {
   "codemirror_mode": {
    "name": "ipython",
    "version": 3
   },
   "file_extension": ".py",
   "mimetype": "text/x-python",
   "name": "python",
   "nbconvert_exporter": "python",
   "pygments_lexer": "ipython3",
   "version": "3.7.1"
  }
 },
 "nbformat": 4,
 "nbformat_minor": 2
}
