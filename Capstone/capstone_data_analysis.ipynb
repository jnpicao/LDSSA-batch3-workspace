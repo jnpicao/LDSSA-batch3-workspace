{
 "cells": [
  {
   "cell_type": "code",
   "execution_count": 50,
   "metadata": {},
   "outputs": [],
   "source": [
    "# Operating System\n",
    "import os\n",
    "\n",
    "import pandas as pd\n",
    "import numpy as np\n",
    "\n",
    "import random\n",
    "\n",
    "import matplotlib.pyplot as plt\n",
    "%matplotlib inline\n",
    "\n",
    "# Strings\n",
    "import re"
   ]
  },
  {
   "cell_type": "markdown",
   "metadata": {},
   "source": [
    "# Load original data"
   ]
  },
  {
   "cell_type": "code",
   "execution_count": 2,
   "metadata": {},
   "outputs": [],
   "source": [
    "#file_path = \".\\data\\train.csv\"\n",
    "file_path = os.path.join('data', 'train.csv')\n",
    "\n",
    "\n",
    "# # Option 1 for reading a sample of the file\n",
    "# n_total_rows = 2437645\n",
    "# prc_rows_to_read = 10\n",
    "# n_rows_to_read = int(prc_rows_to_read/100*n_total_rows)\n",
    "# n_rows_to_skip = n_total_rows - n_rows_to_read\n",
    "\n",
    "# random.seed(178) # this is to get always the same sample. can be removed if we want the sample to change\n",
    "# list_of_rows_to_skip = random.sample(\n",
    "#     range(1, n_total_rows-1), # this is a range from the first row after the header, to the last row on the file\n",
    "#     n_rows_to_skip # this is the number of rows we want to sample, i.e, to skip\n",
    "# )\n",
    "\n",
    "\n",
    "# Option 2 for reading a sample of the file\n",
    "# sample 10% of the rows\n",
    "p = 1\n",
    "\n",
    "try:\n",
    "    df_original = pd.read_csv(file_path, \n",
    "                             skiprows = lambda row_num: random.random() > p and row_num > 0, \n",
    "                             #nrows = 10000, \n",
    "                             header=0,\n",
    "                             warn_bad_lines=True)\n",
    "except:\n",
    "    print('Ooops!!! We got an error!')\n"
   ]
  },
  {
   "cell_type": "markdown",
   "metadata": {},
   "source": [
    "# Transform data to analysis"
   ]
  },
  {
   "cell_type": "code",
   "execution_count": 51,
   "metadata": {
    "scrolled": false
   },
   "outputs": [],
   "source": [
    "remane_columns_dict = {'VehicleSearchedIndicator': 'search', \n",
    "                       'ContrabandIndicator': 'target', \n",
    "                       'Department Name': 'departm',\n",
    "                       'InterventionDateTime': 'date',\n",
    "                       'InterventionLocationName': 'local',\n",
    "                       'InterventionReasonCode': 'reason',\n",
    "                       'ReportingOfficerIdentificationID': 'officerID',\n",
    "                       'ResidentIndicator': 'state_res',\n",
    "                       'SearchAuthorizationCode': 'search_reason',\n",
    "                       'StatuteReason': 'stop_reason',\n",
    "                       'SubjectAge': 'age',\n",
    "                       'SubjectEthnicityCode': 'ethnic',\n",
    "                       'SubjectRaceCode': 'race',\n",
    "                       'SubjectSexCode': 'sex',\n",
    "                       'TownResidentIndicator': 'town_res'\n",
    "                      }"
   ]
  },
  {
   "cell_type": "code",
   "execution_count": 52,
   "metadata": {},
   "outputs": [],
   "source": [
    "def simple_clean(doc, regex_list=[(\"[\\.\\?\\(\\)\\|:;_!@/*\\-]\", \" \"), (\" +\", \" \")] ):\n",
    "    \n",
    "    # Make sure it is a string!\n",
    "    doc = str(doc)\n",
    "    \n",
    "    # remove or replace characters\n",
    "    for regex in regex_list:\n",
    "        doc = re.sub(regex[0], regex[1], doc)\n",
    "    # lowercase\n",
    "    doc = doc.lower()\n",
    "    # Trim\n",
    "    doc = doc.strip()\n",
    "    # tokenize\n",
    "    #words = tokenizer.tokenize(doc)\n",
    "    # remove punctuation\n",
    "    #words = list(filter(lambda x: x not in string.punctuation, words))\n",
    "    # stem\n",
    "    #stems = list(map(stemmer.stem, words))\n",
    "    #new_doc = \" \".join(stems)\n",
    "    new_doc = doc\n",
    "    return new_doc"
   ]
  },
  {
   "cell_type": "code",
   "execution_count": 53,
   "metadata": {
    "scrolled": true
   },
   "outputs": [
    {
     "name": "stdout",
     "output_type": "stream",
     "text": [
      "<class 'pandas.core.frame.DataFrame'>\n",
      "RangeIndex: 2473643 entries, 0 to 2473642\n",
      "Data columns (total 15 columns):\n",
      "search           bool\n",
      "target           bool\n",
      "departm          object\n",
      "date             datetime64[ns]\n",
      "local            object\n",
      "reason           object\n",
      "officerID        object\n",
      "state_res        bool\n",
      "search_reason    object\n",
      "stop_reason      object\n",
      "age              float64\n",
      "ethnic           object\n",
      "race             object\n",
      "sex              object\n",
      "town_res         bool\n",
      "dtypes: bool(4), datetime64[ns](1), float64(1), object(9)\n",
      "memory usage: 217.0+ MB\n"
     ]
    }
   ],
   "source": [
    "def data_transformer(df_original: pd.DataFrame, columns_dict: dict) -> pd.DataFrame:\n",
    "    \"\"\"Transforms the original DataFrame to make it suited for data analysis.\n",
    "    \n",
    "    Args:\n",
    "        df_original (pd.DataFrame):  Original DataFrame, as imported by pd.read_csv().\n",
    "        columns_dict (dict): Correspondence between old a new column names.\n",
    "        \n",
    "    Returns:\n",
    "        df (pd.DataFrame): Transformed DataFrame, ready for data analysis.\n",
    "        \n",
    "    TODO:\n",
    "        * to do list\n",
    "        \n",
    "    \"\"\"\n",
    "    \n",
    "    df = df_original.copy()\n",
    "    \n",
    "    # change column names\n",
    "    df = df.rename(columns = columns_dict)\n",
    "    \n",
    "    # convert date to pd.datetime\n",
    "    df.date = pd.to_datetime(df.date)\n",
    "    \n",
    "    # convert Intervention DateTime to index of the DataFrame\n",
    "    #df = df.set_index('date').sort_index()\n",
    "    \n",
    "    # Clean strings from special characters and multiple spaces\n",
    "    df.local = df.local.apply(simple_clean)\n",
    "    df.departm = df.departm.apply(simple_clean)\n",
    "    df.stop_reason = df.stop_reason.apply(simple_clean)\n",
    "   \n",
    "    return df\n",
    "\n",
    "df = data_transformer(df_original, remane_columns_dict)\n",
    "df.info()"
   ]
  },
  {
   "cell_type": "markdown",
   "metadata": {},
   "source": [
    "### Useful variable"
   ]
  },
  {
   "cell_type": "code",
   "execution_count": 62,
   "metadata": {},
   "outputs": [],
   "source": [
    "nobs = df.shape[0]"
   ]
  },
  {
   "cell_type": "code",
   "execution_count": 64,
   "metadata": {},
   "outputs": [],
   "source": [
    "nsearch = df[df.search==True].shape[0]"
   ]
  },
  {
   "cell_type": "code",
   "execution_count": 6,
   "metadata": {},
   "outputs": [
    {
     "name": "stdout",
     "output_type": "stream",
     "text": [
      "Number of car stops: 2 473 643\n"
     ]
    }
   ],
   "source": [
    "print(\"Number of car stops: {:,d}\".format(df.shape[0]).replace(',', ' '))\n"
   ]
  },
  {
   "cell_type": "code",
   "execution_count": 7,
   "metadata": {
    "scrolled": false
   },
   "outputs": [
    {
     "name": "stdout",
     "output_type": "stream",
     "text": [
      "Percentage of searches:\n"
     ]
    },
    {
     "data": {
      "text/plain": [
       "False    96.897572\n",
       "True      3.102428\n",
       "Name: search, dtype: float64"
      ]
     },
     "execution_count": 7,
     "metadata": {},
     "output_type": "execute_result"
    }
   ],
   "source": [
    "print(\"Percentage of searches:\")\n",
    "df.search.value_counts(normalize=True, dropna=False)*100"
   ]
  },
  {
   "cell_type": "code",
   "execution_count": 8,
   "metadata": {},
   "outputs": [
    {
     "data": {
      "image/png": "[encoded data removed]",
      "text/plain": [
       "<Figure size 216x216 with 1 Axes>"
      ]
     },
     "metadata": {},
     "output_type": "display_data"
    }
   ],
   "source": [
    "df.search.value_counts().plot.pie(figsize=(3,3));"
   ]
  },
  {
   "cell_type": "code",
   "execution_count": 9,
   "metadata": {
    "scrolled": false
   },
   "outputs": [
    {
     "name": "stdout",
     "output_type": "stream",
     "text": [
      "Percentage of counterband discovers:\n"
     ]
    },
    {
     "data": {
      "text/plain": [
       "False    98.854281\n",
       "True      1.145719\n",
       "Name: target, dtype: float64"
      ]
     },
     "execution_count": 9,
     "metadata": {},
     "output_type": "execute_result"
    }
   ],
   "source": [
    "print(\"Percentage of counterband discovers:\")\n",
    "df.target.value_counts(normalize=True, dropna=False)*100"
   ]
  },
  {
   "cell_type": "code",
   "execution_count": 10,
   "metadata": {
    "scrolled": true
   },
   "outputs": [
    {
     "data": {
      "image/png": "[encoded data removed]",
      "text/plain": [
       "<Figure size 288x288 with 1 Axes>"
      ]
     },
     "metadata": {
      "needs_background": "light"
     },
     "output_type": "display_data"
    }
   ],
   "source": [
    "df.target.value_counts(normalize=True).plot.bar(figsize=(4,4));"
   ]
  },
  {
   "cell_type": "code",
   "execution_count": 11,
   "metadata": {
    "scrolled": false
   },
   "outputs": [
    {
     "name": "stdout",
     "output_type": "stream",
     "text": [
      "Percentage of counterband discovers when car not searched:\n"
     ]
    },
    {
     "data": {
      "text/plain": [
       "False    99.882223\n",
       "True      0.117777\n",
       "Name: target, dtype: float64"
      ]
     },
     "execution_count": 11,
     "metadata": {},
     "output_type": "execute_result"
    }
   ],
   "source": [
    "print(\"Percentage of counterband discovers when car not searched:\")\n",
    "df[df.search==False].target.value_counts(normalize=True, dropna=False)*100"
   ]
  },
  {
   "cell_type": "code",
   "execution_count": 12,
   "metadata": {
    "scrolled": true
   },
   "outputs": [
    {
     "name": "stdout",
     "output_type": "stream",
     "text": [
      "Percentage of counterband discovers when searched:\n"
     ]
    },
    {
     "data": {
      "text/plain": [
       "False    66.748759\n",
       "True     33.251241\n",
       "Name: target, dtype: float64"
      ]
     },
     "execution_count": 12,
     "metadata": {},
     "output_type": "execute_result"
    }
   ],
   "source": [
    "print(\"Percentage of counterband discovers when searched:\")\n",
    "df[df.search==True].target.value_counts(normalize=True, dropna=False)*100"
   ]
  },
  {
   "cell_type": "code",
   "execution_count": 13,
   "metadata": {},
   "outputs": [
    {
     "data": {
      "image/png": "[encoded data removed]",
      "text/plain": [
       "<Figure size 216x216 with 1 Axes>"
      ]
     },
     "metadata": {},
     "output_type": "display_data"
    }
   ],
   "source": [
    "df[df.search==True].target.value_counts().plot.pie(figsize=(3,3));"
   ]
  },
  {
   "cell_type": "code",
   "execution_count": 14,
   "metadata": {},
   "outputs": [
    {
     "data": {
      "text/plain": [
       "122"
      ]
     },
     "execution_count": 14,
     "metadata": {},
     "output_type": "execute_result"
    }
   ],
   "source": [
    "df.departm.nunique()"
   ]
  },
  {
   "cell_type": "code",
   "execution_count": 15,
   "metadata": {
    "scrolled": false
   },
   "outputs": [
    {
     "data": {
      "text/plain": [
       "count       122.000000\n",
       "mean      20275.762295\n",
       "std       31234.830850\n",
       "min           4.000000\n",
       "1%            5.840000\n",
       "5%          217.650000\n",
       "10%        1314.900000\n",
       "20%        4383.400000\n",
       "30%        8514.900000\n",
       "40%       11984.200000\n",
       "50%       14754.000000\n",
       "60%       18054.000000\n",
       "70%       23958.700000\n",
       "80%       30324.000000\n",
       "95%       50132.250000\n",
       "99%       68511.830000\n",
       "max      322003.000000\n",
       "Name: departm, dtype: float64"
      ]
     },
     "execution_count": 15,
     "metadata": {},
     "output_type": "execute_result"
    }
   ],
   "source": [
    "pctl = (np.array([1,5] + list(range(10,90,10)) + [95,99])*0.01).round(decimals=2).tolist()\n",
    "df.departm.value_counts().describe(percentiles=pctl)"
   ]
  },
  {
   "cell_type": "code",
   "execution_count": 58,
   "metadata": {
    "scrolled": false
   },
   "outputs": [
    {
     "data": {
      "image/png": "[encoded data removed]",
      "text/plain": [
       "<Figure size 576x288 with 1 Axes>"
      ]
     },
     "metadata": {
      "needs_background": "light"
     },
     "output_type": "display_data"
    }
   ],
   "source": [
    "df.departm.value_counts().plot.hist(xlim= (0,600), bins=range(0,600,10), figsize=(8,4))\n",
    "plt.title('Histogram of car stops per police department')\n",
    "plt.xlabel('Car stops');"
   ]
  },
  {
   "cell_type": "code",
   "execution_count": 94,
   "metadata": {},
   "outputs": [
    {
     "data": {
      "image/png": "[encoded data removed]",
      "text/plain": [
       "<Figure size 576x288 with 1 Axes>"
      ]
     },
     "metadata": {
      "needs_background": "light"
     },
     "output_type": "display_data"
    }
   ],
   "source": [
    "df.set_index('date').sort_index().resample('M').search.count().plot(figsize=(8, 4))\n",
    "\n",
    "plt.title('Monthly evolution traffic stops')\n",
    "#plt.xlabel(\"Success rate\")\n",
    "plt.ylabel(\"Nº of stops\")\n",
    "\n",
    "plt.savefig(os.path.join('plots', 'stops_per_month.png'));"
   ]
  },
  {
   "cell_type": "code",
   "execution_count": 95,
   "metadata": {
    "scrolled": true
   },
   "outputs": [
    {
     "data": {
      "image/png": "[encoded data removed]",
      "text/plain": [
       "<Figure size 576x288 with 1 Axes>"
      ]
     },
     "metadata": {
      "needs_background": "light"
     },
     "output_type": "display_data"
    }
   ],
   "source": [
    "search_dt_series = df.set_index('date').sort_index().search.where(lambda x: x==True).dropna()\n",
    "search_dt_series.resample('M').count().plot(figsize=(8, 4))\n",
    "\n",
    "plt.title('Monthly evolution searches')\n",
    "plt.ylabel(\"Nº of searches\")\n",
    "\n",
    "plt.savefig(os.path.join('plots', 'searches_per_month.png'));\n",
    "\n",
    "#search_dt_series.resample('M').count()\n",
    "#search_dt_series[search_dt_series == True]\n",
    "#df.date.dt.to_period('M')\n",
    "#smonth.groupby(smonth).count()"
   ]
  },
  {
   "cell_type": "code",
   "execution_count": 76,
   "metadata": {},
   "outputs": [],
   "source": [
    "df_daily = df.set_index('date').sort_index().resample('D').count()"
   ]
  },
  {
   "cell_type": "code",
   "execution_count": 98,
   "metadata": {},
   "outputs": [
    {
     "data": {
      "text/plain": [
       "new haven               90453\n",
       "stamford                55254\n",
       "hartford                52219\n",
       "wallingford             47808\n",
       "danbury                 47610\n",
       "manchester              46756\n",
       "windsor                 44083\n",
       "new britain             41634\n",
       "east hartford           40937\n",
       "fairfield               39060\n",
       "enfield                 38225\n",
       "west hartford           37849\n",
       "torrington              37575\n",
       "westport                37203\n",
       "norwich                 33748\n",
       "norwalk                 33261\n",
       "ridgefield              32593\n",
       "west haven              32039\n",
       "groton                  31215\n",
       "newtown                 31119\n",
       "waterbury               30946\n",
       "bridgeport              30285\n",
       "vernon                  29606\n",
       "branford                28962\n",
       "southington             27269\n",
       "milford                 27229\n",
       "berlin                  26359\n",
       "hamden                  26244\n",
       "naugatuck               26063\n",
       "waterford               26016\n",
       "                        ...  \n",
       "durand east main            1\n",
       "albert street wilson        1\n",
       "main st city hall a         1\n",
       "litchfield st at hun        1\n",
       "ave                         1\n",
       "200 kennedy drive           1\n",
       "dixwell                     1\n",
       "biusiness                   1\n",
       "norwood at pulaski          1\n",
       "east main st piner          1\n",
       "main margiere               1\n",
       "oak east albert             1\n",
       "east main st at char        1\n",
       "pwaterford                  1\n",
       "migeon ave migeon av        1\n",
       "brooker street              1\n",
       "e main torrington           1\n",
       "elsie st school st          1\n",
       "morse                       1\n",
       "202 t belleview             1\n",
       "eno torringford we          1\n",
       "charles street rev          1\n",
       "east main st whitewo        1\n",
       "highland riverside          1\n",
       "east main torring we        1\n",
       "westpoty                    1\n",
       "new litchfdield iren        1\n",
       "martha st                   1\n",
       "408 litchfield              1\n",
       "                            1\n",
       "Name: local, Length: 1500, dtype: int64"
      ]
     },
     "execution_count": 98,
     "metadata": {},
     "output_type": "execute_result"
    }
   ],
   "source": [
    "df.local.value_counts(dropna=False)"
   ]
  },
  {
   "cell_type": "code",
   "execution_count": 96,
   "metadata": {
    "scrolled": true
   },
   "outputs": [
    {
     "data": {
      "text/plain": [
       "1500"
      ]
     },
     "execution_count": 96,
     "metadata": {},
     "output_type": "execute_result"
    }
   ],
   "source": [
    "df.local.nunique()"
   ]
  },
  {
   "cell_type": "code",
   "execution_count": 121,
   "metadata": {
    "scrolled": false
   },
   "outputs": [
    {
     "data": {
      "text/plain": [
       "count     1500.000000\n",
       "mean      1649.095333\n",
       "std       6476.066181\n",
       "min          1.000000\n",
       "1%           1.000000\n",
       "5%           1.000000\n",
       "10%          1.000000\n",
       "20%          1.000000\n",
       "30%          1.000000\n",
       "40%          1.000000\n",
       "50%          1.000000\n",
       "60%          2.000000\n",
       "70%          3.000000\n",
       "80%          9.000000\n",
       "95%      11816.100000\n",
       "99%      33265.870000\n",
       "max      90453.000000\n",
       "Name: local, dtype: float64"
      ]
     },
     "execution_count": 121,
     "metadata": {},
     "output_type": "execute_result"
    }
   ],
   "source": [
    "pctl = (np.array([1,5] + list(range(10,90,10)) + [95,99])*0.01).round(decimals=2).tolist()\n",
    "df.local.value_counts().describe(percentiles=pctl)"
   ]
  },
  {
   "cell_type": "code",
   "execution_count": 124,
   "metadata": {
    "scrolled": true
   },
   "outputs": [
    {
     "data": {
      "text/plain": [
       "26254.453333333335"
      ]
     },
     "execution_count": 124,
     "metadata": {},
     "output_type": "execute_result"
    }
   ],
   "source": [
    "df.groupby('local').target.count().where(lambda x: x>11816.1).dropna().mean()"
   ]
  },
  {
   "cell_type": "code",
   "execution_count": 20,
   "metadata": {
    "scrolled": true
   },
   "outputs": [
    {
     "data": {
      "image/png": "[encoded data removed]",
      "text/plain": [
       "<Figure size 576x288 with 1 Axes>"
      ]
     },
     "metadata": {
      "needs_background": "light"
     },
     "output_type": "display_data"
    }
   ],
   "source": [
    "df.local.value_counts().plot.hist(xlim= (0,150), bins=range(0,200,5), figsize=(8,4))\n",
    "plt.title('Histogram of car stops per local')\n",
    "plt.xlabel('Nº of car stops');"
   ]
  },
  {
   "cell_type": "code",
   "execution_count": 126,
   "metadata": {
    "scrolled": false
   },
   "outputs": [
    {
     "data": {
      "text/plain": [
       "V      2179595\n",
       "E       245030\n",
       "I        49013\n",
       "no           3\n",
       "NaN          2\n",
       "Name: reason, dtype: int64"
      ]
     },
     "execution_count": 126,
     "metadata": {},
     "output_type": "execute_result"
    }
   ],
   "source": [
    "df.reason.value_counts(dropna=False)"
   ]
  },
  {
   "cell_type": "code",
   "execution_count": 129,
   "metadata": {},
   "outputs": [
    {
     "data": {
      "text/plain": [
       "V      88.112755\n",
       "E       9.905633\n",
       "I       1.981410\n",
       "no      0.000121\n",
       "NaN     0.000081\n",
       "Name: reason, dtype: float64"
      ]
     },
     "execution_count": 129,
     "metadata": {},
     "output_type": "execute_result"
    }
   ],
   "source": [
    "df.reason.value_counts(dropna=False, normalize=True)*100"
   ]
  },
  {
   "cell_type": "code",
   "execution_count": 22,
   "metadata": {
    "scrolled": false
   },
   "outputs": [
    {
     "data": {
      "image/png": "[encoded data removed]",
      "text/plain": [
       "<Figure size 432x288 with 1 Axes>"
      ]
     },
     "metadata": {
      "needs_background": "light"
     },
     "output_type": "display_data"
    }
   ],
   "source": [
    "df.reason.value_counts(normalize=True).plot.bar();"
   ]
  },
  {
   "cell_type": "code",
   "execution_count": 131,
   "metadata": {},
   "outputs": [],
   "source": [
    "df.stop_reason = df.stop_reason.apply(simple_clean)"
   ]
  },
  {
   "cell_type": "code",
   "execution_count": 132,
   "metadata": {
    "scrolled": false
   },
   "outputs": [
    {
     "data": {
      "text/plain": [
       "speed related             681119\n",
       "defective lights          227836\n",
       "registration              227231\n",
       "cell phone                221641\n",
       "moving violation          190596\n",
       "traffic control signal    178880\n",
       "other                     175443\n",
       "stop sign                 166174\n",
       "stc violation             125707\n",
       "seatbelt                   80684\n",
       "display of plates          68558\n",
       "other error                44224\n",
       "administrative offense     29224\n",
       "window tint                28170\n",
       "suspended license          11555\n",
       "unlicensed operation        9499\n",
       "equipment violation         6595\n",
       "nan                          507\n",
       "Name: stop_reason, dtype: int64"
      ]
     },
     "execution_count": 132,
     "metadata": {},
     "output_type": "execute_result"
    }
   ],
   "source": [
    "df.stop_reason.value_counts(dropna=False)"
   ]
  },
  {
   "cell_type": "code",
   "execution_count": 133,
   "metadata": {
    "scrolled": true
   },
   "outputs": [
    {
     "data": {
      "text/plain": [
       "speed related             27.535057\n",
       "defective lights           9.210545\n",
       "registration               9.186087\n",
       "cell phone                 8.960105\n",
       "moving violation           7.705073\n",
       "traffic control signal     7.231440\n",
       "other                      7.092495\n",
       "stop sign                  6.717784\n",
       "stc violation              5.081857\n",
       "seatbelt                   3.261748\n",
       "display of plates          2.771540\n",
       "other error                1.787809\n",
       "administrative offense     1.181415\n",
       "window tint                1.138806\n",
       "suspended license          0.467125\n",
       "unlicensed operation       0.384009\n",
       "equipment violation        0.266611\n",
       "nan                        0.020496\n",
       "Name: stop_reason, dtype: float64"
      ]
     },
     "execution_count": 133,
     "metadata": {},
     "output_type": "execute_result"
    }
   ],
   "source": [
    "df.stop_reason.value_counts(dropna=False, normalize=True)*100"
   ]
  },
  {
   "cell_type": "markdown",
   "metadata": {},
   "source": [
    "# 'SearchAuthorizationCode': 'search_reason'"
   ]
  },
  {
   "cell_type": "markdown",
   "metadata": {},
   "source": [
    "N-Not Applicable  \n",
    "C-Consent  \n",
    "I-Inventory  \n",
    "O-Other:Probable Cause,  Reasonable Suspicion,  Plain View Contraband,  Incident to Arrest,  Drug Dog Alert, Exigent Circumstances"
   ]
  },
  {
   "cell_type": "code",
   "execution_count": 138,
   "metadata": {
    "scrolled": true
   },
   "outputs": [
    {
     "data": {
      "text/html": [
       "<div>\n",
       "<style scoped>\n",
       "    .dataframe tbody tr th:only-of-type {\n",
       "        vertical-align: middle;\n",
       "    }\n",
       "\n",
       "    .dataframe tbody tr th {\n",
       "        vertical-align: top;\n",
       "    }\n",
       "\n",
       "    .dataframe thead th {\n",
       "        text-align: right;\n",
       "    }\n",
       "</style>\n",
       "<table border=\"1\" class=\"dataframe\">\n",
       "  <thead>\n",
       "    <tr style=\"text-align: right;\">\n",
       "      <th>search</th>\n",
       "      <th>False</th>\n",
       "      <th>True</th>\n",
       "    </tr>\n",
       "    <tr>\n",
       "      <th>search_reason</th>\n",
       "      <th></th>\n",
       "      <th></th>\n",
       "    </tr>\n",
       "  </thead>\n",
       "  <tbody>\n",
       "    <tr>\n",
       "      <th>C</th>\n",
       "      <td>276</td>\n",
       "      <td>27063</td>\n",
       "    </tr>\n",
       "    <tr>\n",
       "      <th>I</th>\n",
       "      <td>318</td>\n",
       "      <td>15710</td>\n",
       "    </tr>\n",
       "    <tr>\n",
       "      <th>N</th>\n",
       "      <td>2381540</td>\n",
       "      <td>3290</td>\n",
       "    </tr>\n",
       "    <tr>\n",
       "      <th>O</th>\n",
       "      <td>14766</td>\n",
       "      <td>30670</td>\n",
       "    </tr>\n",
       "  </tbody>\n",
       "</table>\n",
       "</div>"
      ],
      "text/plain": [
       "search           False  True \n",
       "search_reason                \n",
       "C                  276  27063\n",
       "I                  318  15710\n",
       "N              2381540   3290\n",
       "O                14766  30670"
      ]
     },
     "execution_count": 138,
     "metadata": {},
     "output_type": "execute_result"
    }
   ],
   "source": [
    "pd.crosstab(df.search_reason, df.search, dropna=False)"
   ]
  },
  {
   "cell_type": "code",
   "execution_count": 148,
   "metadata": {},
   "outputs": [
    {
     "data": {
      "text/plain": [
       "15360"
      ]
     },
     "execution_count": 148,
     "metadata": {},
     "output_type": "execute_result"
    }
   ],
   "source": [
    "276+318+14766"
   ]
  },
  {
   "cell_type": "code",
   "execution_count": 150,
   "metadata": {},
   "outputs": [
    {
     "data": {
      "text/plain": [
       "0.6209465149174719"
      ]
     },
     "execution_count": 150,
     "metadata": {},
     "output_type": "execute_result"
    }
   ],
   "source": [
    "100*(276+318+14766)/nobs"
   ]
  },
  {
   "cell_type": "code",
   "execution_count": 143,
   "metadata": {
    "scrolled": true
   },
   "outputs": [
    {
     "data": {
      "text/plain": [
       "N      2384830\n",
       "O        45436\n",
       "C        27339\n",
       "I        16028\n",
       "NaN         10\n",
       "Name: search_reason, dtype: int64"
      ]
     },
     "execution_count": 143,
     "metadata": {},
     "output_type": "execute_result"
    }
   ],
   "source": [
    "df.search_reason.value_counts(dropna=False)"
   ]
  },
  {
   "cell_type": "code",
   "execution_count": 146,
   "metadata": {
    "scrolled": true
   },
   "outputs": [
    {
     "data": {
      "text/plain": [
       "N      96.409627\n",
       "O       1.836805\n",
       "C       1.105212\n",
       "I       0.647951\n",
       "NaN     0.000404\n",
       "Name: search_reason, dtype: float64"
      ]
     },
     "execution_count": 146,
     "metadata": {},
     "output_type": "execute_result"
    }
   ],
   "source": [
    "df.search_reason.value_counts(normalize=True, dropna=False)*100"
   ]
  },
  {
   "cell_type": "code",
   "execution_count": 144,
   "metadata": {},
   "outputs": [
    {
     "data": {
      "text/plain": [
       "O      30670\n",
       "C      27063\n",
       "I      15710\n",
       "N       3290\n",
       "NaN       10\n",
       "Name: search_reason, dtype: int64"
      ]
     },
     "execution_count": 144,
     "metadata": {},
     "output_type": "execute_result"
    }
   ],
   "source": [
    "df[df.search==True].search_reason.value_counts(dropna=False)"
   ]
  },
  {
   "cell_type": "code",
   "execution_count": 145,
   "metadata": {},
   "outputs": [
    {
     "data": {
      "text/plain": [
       "O      39.964557\n",
       "C      35.264454\n",
       "I      20.470922\n",
       "N       4.287036\n",
       "NaN     0.013031\n",
       "Name: search_reason, dtype: float64"
      ]
     },
     "execution_count": 145,
     "metadata": {},
     "output_type": "execute_result"
    }
   ],
   "source": [
    "df[df.search==True].search_reason.value_counts(normalize=True, dropna=False)*100"
   ]
  },
  {
   "cell_type": "code",
   "execution_count": 23,
   "metadata": {},
   "outputs": [
    {
     "data": {
      "text/plain": [
       "True     0.861496\n",
       "False    0.138504\n",
       "Name: state_res, dtype: float64"
      ]
     },
     "execution_count": 23,
     "metadata": {},
     "output_type": "execute_result"
    }
   ],
   "source": [
    "df.state_res.value_counts(normalize=True, dropna=False)"
   ]
  },
  {
   "cell_type": "code",
   "execution_count": 24,
   "metadata": {
    "scrolled": true
   },
   "outputs": [
    {
     "data": {
      "text/plain": [
       "N      0.964096\n",
       "O      0.018368\n",
       "C      0.011052\n",
       "I      0.006480\n",
       "NaN    0.000004\n",
       "Name: search_reason, dtype: float64"
      ]
     },
     "execution_count": 24,
     "metadata": {},
     "output_type": "execute_result"
    }
   ],
   "source": []
  },
  {
   "cell_type": "code",
   "execution_count": 25,
   "metadata": {
    "scrolled": false
   },
   "outputs": [
    {
     "data": {
      "text/plain": [
       "Speed Related             0.275351\n",
       "Defective Lights          0.092105\n",
       "Registration              0.091861\n",
       "Cell Phone                0.089601\n",
       "Moving Violation          0.077051\n",
       "Traffic Control Signal    0.072314\n",
       "Other                     0.070925\n",
       "Stop Sign                 0.067165\n",
       "STC Violation             0.050819\n",
       "Seatbelt                  0.032617\n",
       "Display of Plates         0.027715\n",
       "Other/Error               0.017878\n",
       "Administrative Offense    0.011814\n",
       "Window Tint               0.011388\n",
       "Suspended License         0.004671\n",
       "Unlicensed Operation      0.003840\n",
       "Equipment Violation       0.002666\n",
       "NaN                       0.000205\n",
       "Stop Sign                 0.000013\n",
       "Name: stop_reason, dtype: float64"
      ]
     },
     "execution_count": 25,
     "metadata": {},
     "output_type": "execute_result"
    }
   ],
   "source": [
    "df.stop_reason.value_counts(normalize=True, dropna=False)"
   ]
  },
  {
   "cell_type": "code",
   "execution_count": 26,
   "metadata": {
    "scrolled": true
   },
   "outputs": [
    {
     "data": {
      "image/png": "[encoded data removed]",
      "text/plain": [
       "<Figure size 576x288 with 1 Axes>"
      ]
     },
     "metadata": {
      "needs_background": "light"
     },
     "output_type": "display_data"
    }
   ],
   "source": [
    "df.age.plot.hist(xlim= (15,80), bins=range(0,80,1), figsize=(8,4))\n",
    "plt.title('Histogram of driver age')\n",
    "plt.xlabel('Age');"
   ]
  },
  {
   "cell_type": "code",
   "execution_count": 27,
   "metadata": {},
   "outputs": [
    {
     "data": {
      "text/plain": [
       "1.0       350\n",
       "2.0        94\n",
       "3.0        60\n",
       "4.0        79\n",
       "5.0        49\n",
       "6.0        32\n",
       "7.0         6\n",
       "8.0        21\n",
       "9.0        13\n",
       "10.0       40\n",
       "11.0       11\n",
       "12.0       22\n",
       "13.0       29\n",
       "14.0       96\n",
       "15.0      275\n",
       "16.0     6115\n",
       "17.0    26053\n",
       "18.0    43142\n",
       "19.0    54974\n",
       "20.0    69234\n",
       "21.0    72068\n",
       "22.0    76335\n",
       "23.0    78836\n",
       "24.0    77265\n",
       "25.0    81375\n",
       "26.0    73117\n",
       "27.0    69777\n",
       "28.0    68678\n",
       "29.0    62438\n",
       "30.0    71729\n",
       "        ...  \n",
       "70.0    10927\n",
       "71.0     7601\n",
       "72.0     7179\n",
       "73.0     6238\n",
       "74.0     5783\n",
       "75.0     5577\n",
       "76.0     4404\n",
       "77.0     3504\n",
       "78.0     3321\n",
       "79.0     2673\n",
       "80.0     3045\n",
       "81.0     2020\n",
       "82.0     1820\n",
       "83.0     1596\n",
       "84.0     1406\n",
       "85.0     1278\n",
       "86.0      962\n",
       "87.0      836\n",
       "88.0      684\n",
       "89.0      521\n",
       "90.0      456\n",
       "91.0      304\n",
       "92.0      179\n",
       "93.0      153\n",
       "94.0      101\n",
       "95.0       76\n",
       "96.0      123\n",
       "97.0      216\n",
       "98.0      132\n",
       "99.0      661\n",
       "Name: age, Length: 99, dtype: int64"
      ]
     },
     "execution_count": 27,
     "metadata": {},
     "output_type": "execute_result"
    }
   ],
   "source": [
    "df.age.value_counts().sort_index()"
   ]
  },
  {
   "cell_type": "code",
   "execution_count": 28,
   "metadata": {
    "scrolled": true
   },
   "outputs": [
    {
     "data": {
      "text/plain": [
       "N    0.848802\n",
       "H    0.132780\n",
       "M    0.018419\n",
       "Name: ethnic, dtype: float64"
      ]
     },
     "execution_count": 28,
     "metadata": {},
     "output_type": "execute_result"
    }
   ],
   "source": [
    "df.ethnic.value_counts(normalize=True, dropna=False)"
   ]
  },
  {
   "cell_type": "code",
   "execution_count": 29,
   "metadata": {
    "scrolled": true
   },
   "outputs": [
    {
     "data": {
      "text/plain": [
       "W    0.816177\n",
       "B    0.156177\n",
       "A    0.019664\n",
       "I    0.007983\n",
       "Name: race, dtype: float64"
      ]
     },
     "execution_count": 29,
     "metadata": {},
     "output_type": "execute_result"
    }
   ],
   "source": [
    "df.race.value_counts(normalize=True, dropna=False)"
   ]
  },
  {
   "cell_type": "code",
   "execution_count": 30,
   "metadata": {
    "scrolled": true
   },
   "outputs": [
    {
     "data": {
      "text/plain": [
       "M    0.631934\n",
       "F    0.368066\n",
       "Name: sex, dtype: float64"
      ]
     },
     "execution_count": 30,
     "metadata": {},
     "output_type": "execute_result"
    }
   ],
   "source": [
    "df.sex.value_counts(normalize=True, dropna=False)"
   ]
  },
  {
   "cell_type": "code",
   "execution_count": 31,
   "metadata": {},
   "outputs": [
    {
     "data": {
      "text/plain": [
       "False    0.688058\n",
       "True     0.311942\n",
       "Name: town_res, dtype: float64"
      ]
     },
     "execution_count": 31,
     "metadata": {},
     "output_type": "execute_result"
    }
   ],
   "source": [
    "df.town_res.value_counts(normalize=True, dropna=False)"
   ]
  }
 ],
 "metadata": {
  "kernelspec": {
   "display_name": "Python 3",
   "language": "python",
   "name": "python3"
  },
  "language_info": {
   "codemirror_mode": {
    "name": "ipython",
    "version": 3
   },
   "file_extension": ".py",
   "mimetype": "text/x-python",
   "name": "python",
   "nbconvert_exporter": "python",
   "pygments_lexer": "ipython3",
   "version": "3.7.1"
  }
 },
 "nbformat": 4,
 "nbformat_minor": 2
}
