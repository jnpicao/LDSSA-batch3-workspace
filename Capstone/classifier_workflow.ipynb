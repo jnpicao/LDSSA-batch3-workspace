{
 "cells": [
  {
   "cell_type": "markdown",
   "metadata": {},
   "source": [
    "# Import statements"
   ]
  },
  {
   "cell_type": "code",
   "execution_count": 1,
   "metadata": {},
   "outputs": [],
   "source": [
    "# Operating System\n",
    "import os\n",
    "\n",
    "#Pandas and Numpy\n",
    "import pandas as pd\n",
    "import numpy as np\n",
    "\n",
    "#ramdom generator\n",
    "import random\n",
    "\n",
    "from sklearn.model_selection import train_test_split\n",
    "\n",
    "from sklearn.pipeline import  Pipeline, make_pipeline, FeatureUnion, make_union\n",
    "from sklearn.base import TransformerMixin, BaseEstimator\n",
    "\n",
    "import category_encoders as ce\n",
    "from sklearn.preprocessing import KBinsDiscretizer, Binarizer\n",
    "\n",
    "from sklearn.ensemble import RandomForestClassifier\n",
    "from sklearn.tree import DecisionTreeClassifier\n",
    "\n",
    "from sklearn.impute import SimpleImputer\n",
    "\n",
    "from sklearn.metrics import precision_score, recall_score, accuracy_score, roc_auc_score, classification_report\n",
    "from sklearn.metrics import roc_curve, precision_recall_curve\n",
    "from sklearn.metrics import confusion_matrix\n",
    "\n",
    "\n",
    "#Plots\n",
    "import matplotlib.pyplot as plt\n",
    "%matplotlib inline\n",
    "\n",
    "# Statistics\n",
    "from scipy.stats import binom_test\n",
    "\n",
    "# Strings\n",
    "import re"
   ]
  },
  {
   "cell_type": "markdown",
   "metadata": {},
   "source": [
    "# Define utility functions"
   ]
  },
  {
   "cell_type": "code",
   "execution_count": 2,
   "metadata": {},
   "outputs": [],
   "source": [
    "def simple_clean(doc, regex_list=[(\"[\\.\\?\\(\\)\\|:;_!@/*\\-]\", \" \"), (\" +\", \" \")] ):\n",
    "    \n",
    "    # Make sure it is a string!\n",
    "    doc = str(doc)\n",
    "    \n",
    "    # remove or replace characters\n",
    "    for regex in regex_list:\n",
    "        doc = re.sub(regex[0], regex[1], doc)\n",
    "    # lowercase\n",
    "    doc = doc.lower()\n",
    "    # Trim\n",
    "    doc = doc.strip()\n",
    "    # tokenize\n",
    "    #words = tokenizer.tokenize(doc)\n",
    "    # remove punctuation\n",
    "    #words = list(filter(lambda x: x not in string.punctuation, words))\n",
    "    # stem\n",
    "    #stems = list(map(stemmer.stem, words))\n",
    "    #new_doc = \" \".join(stems)\n",
    "    new_doc = doc\n",
    "    return new_doc"
   ]
  },
  {
   "cell_type": "markdown",
   "metadata": {},
   "source": [
    "# Load original data"
   ]
  },
  {
   "cell_type": "code",
   "execution_count": 3,
   "metadata": {},
   "outputs": [],
   "source": [
    "file_path = os.path.join('data', 'train.csv')\n",
    "\n",
    "# Option for reading a sample of the file\n",
    "# sample 20% of the rows\n",
    "p = 1\n",
    "\n",
    "random.seed(178) # this is to get always the same sample. can be removed if we want the sample to change\n",
    "try:\n",
    "    df_original = pd.read_csv(file_path, \n",
    "                             skiprows = lambda row_num: random.random() > p and row_num > 0, \n",
    "                             #nrows = 10000, \n",
    "                             header=0,\n",
    "                             warn_bad_lines=True)\n",
    "except:\n",
    "    print('Ooops!!! We got an error!')\n",
    "else:\n",
    "    # Drop observations correspoding to stops that didn't lead to a search\n",
    "    df = df_original[df_original.VehicleSearchedIndicator==True].reset_index(drop=True).drop(columns='VehicleSearchedIndicator')\n"
   ]
  },
  {
   "cell_type": "markdown",
   "metadata": {},
   "source": [
    "# Train-Test split"
   ]
  },
  {
   "cell_type": "code",
   "execution_count": 4,
   "metadata": {},
   "outputs": [],
   "source": [
    "X_train, X_test, y_train, y_test = train_test_split(df.drop(columns='ContrabandIndicator'), \n",
    "                                                    df['ContrabandIndicator'], \n",
    "                                                    test_size=0.6, \n",
    "                                                    random_state=42)"
   ]
  },
  {
   "cell_type": "markdown",
   "metadata": {},
   "source": [
    "# Pre-process "
   ]
  },
  {
   "cell_type": "markdown",
   "metadata": {},
   "source": [
    "Both the train set and the test set will enter this pre-processing to prepare for fits ans transforms:\n",
    "* Select columns to keep;\n",
    "* Clean text features;"
   ]
  },
  {
   "cell_type": "code",
   "execution_count": 5,
   "metadata": {},
   "outputs": [],
   "source": [
    "def pre_process_data(df: pd.DataFrame) -> pd.DataFrame:\n",
    "    \n",
    "    \"\"\"Transforms the original DataFrame to make it suited to enter the workflow.\n",
    "    \n",
    "    Args:\n",
    "        df (pd.DataFrame):  Original DataFrame, it will be first X_train and then X_test.\n",
    "        \n",
    "    Returns:\n",
    "        df_new (pd.DataFrame): Transformed DataFrame, ready to enter the workflow.\n",
    "        \n",
    "    TODO:\n",
    "        * to do list\n",
    "        \n",
    "    \"\"\"\n",
    "    \n",
    "    columns_to_keep = ['Department Name', 'SearchAuthorizationCode', 'StatuteReason', 'SubjectAge']\n",
    "    \n",
    "    #columns_to_keep = ['Department Name', 'SearchAuthorizationCode','StatuteReason', 'SubjectAge', 'ResidentIndicator']\n",
    "\n",
    "    #     columns_to_keep = ['Department Name', \n",
    "#                        'InterventionReasonCode',\n",
    "#                        'ResidentIndicator', \n",
    "#                        'SearchAuthorizationCode', \n",
    "#                        'StatuteReason', \n",
    "#                        'SubjectAge', \n",
    "#                        'SubjectEthnicityCode', \n",
    "#                        'SubjectRaceCode', \n",
    "#                        'SubjectSexCode'\n",
    "#                        ]\n",
    "    \n",
    "    # copy the argument\n",
    "    df_new = df.copy()\n",
    "    \n",
    "    df_new = df_new[columns_to_keep]\n",
    "    \n",
    "    # Clean text features\n",
    "    #df_new['Department Name'] = df_new['Department Name'].apply(simple_clean)\n",
    "    #df_new['SearchAuthorizationCode'] = df_new['SearchAuthorizationCode'].apply(simple_clean)\n",
    "    #df_new['StatuteReason'] = df_new['StatuteReason'].apply(simple_clean)\n",
    "    \n",
    "    \n",
    "    return df_new"
   ]
  },
  {
   "cell_type": "markdown",
   "metadata": {},
   "source": [
    "# Code workflow"
   ]
  },
  {
   "cell_type": "code",
   "execution_count": 6,
   "metadata": {
    "scrolled": true
   },
   "outputs": [
    {
     "name": "stderr",
     "output_type": "stream",
     "text": [
      "C:\\Users\\jnpicao\\AppData\\Local\\Continuum\\anaconda3\\lib\\site-packages\\sklearn\\ensemble\\forest.py:246: FutureWarning: The default value of n_estimators will change from 10 in version 0.20 to 100 in 0.22.\n",
      "  \"10 in version 0.20 to 100 in 0.22.\", FutureWarning)\n"
     ]
    }
   ],
   "source": [
    "# Initializations\n",
    "\n",
    "decision_thr = 0.5\n",
    "\n",
    "ordinalencoder = ce.ordinal.OrdinalEncoder()\n",
    "#binarizer = KBinsDiscretizer(n_bins=10, encode='ordinal', strategy='uniform')\n",
    "binarizer = Binarizer(threshold=27)\n",
    "clf = RandomForestClassifier(random_state = 42)\n",
    "\n",
    "\n",
    "X_train_cln = pre_process_data(X_train)\n",
    "X_train_cln = ordinalencoder.fit_transform(X_train_cln)\n",
    "X_train_cln['SubjectAge'] = binarizer.fit_transform(X_train_cln[['SubjectAge']])\n",
    "clf.fit(X_train_cln, y_train)\n",
    "\n",
    "\n",
    "X_test_cln = pre_process_data(X_test)\n",
    "X_test_cln = ordinalencoder.fit_transform(X_test_cln)\n",
    "X_test_cln['SubjectAge'] = binarizer.fit_transform(X_test_cln[['SubjectAge']])\n",
    "\n",
    "#y_pred = clf.predict(X_test_cln)\n",
    "y_prob = clf.predict_proba(X_test_cln)[:,1]\n",
    "y_pred = y_prob > decision_thr\n"
   ]
  },
  {
   "cell_type": "markdown",
   "metadata": {},
   "source": [
    "# Pipeline workflow"
   ]
  },
  {
   "cell_type": "code",
   "execution_count": 7,
   "metadata": {},
   "outputs": [],
   "source": [
    "# Custom transformer to implement sentence cleaning\n",
    "class TextCleanerTransformer(TransformerMixin):\n",
    "    def __init__(self, \n",
    "                 regex_list=[(\"[\\.\\?\\(\\)\\|:;_!@/*\\-]\", \" \"), (\" +\", \" \")], \n",
    "                 lower=True, \n",
    "                 remove_punct=True):\n",
    "        self.regex_list = regex_list\n",
    "        self.lower = lower\n",
    "        self.remove_punct = remove_punct\n",
    "        \n",
    "    def transform(self, X, *_):\n",
    "        #X = list(map(self._clean_sentence, X.values))\n",
    "        X_copy = X.copy()\n",
    "        X_copy = X_copy.applymap(self._clean_sentence)\n",
    "        return X_copy\n",
    "    \n",
    "    def _clean_sentence(self, sentence):\n",
    "        \n",
    "        # Make sure it is a string!\n",
    "        sentence = str(sentence)\n",
    "        \n",
    "        # Replace given regexes\n",
    "        for regex in self.regex_list:\n",
    "            sentence = re.sub(regex[0], regex[1], sentence)\n",
    "            \n",
    "        # lowercase\n",
    "        if self.lower:\n",
    "            sentence = sentence.lower()\n",
    "        \n",
    "        # Trim\n",
    "        sentence = sentence.strip()\n",
    "        \n",
    "        return sentence\n",
    "    \n",
    "    def fit(self, *_):\n",
    "        return self"
   ]
  },
  {
   "cell_type": "code",
   "execution_count": 8,
   "metadata": {
    "scrolled": true
   },
   "outputs": [
    {
     "name": "stdout",
     "output_type": "stream",
     "text": [
      "<class 'pandas.core.frame.DataFrame'>\n",
      "Int64Index: 30697 entries, 38894 to 15795\n",
      "Data columns (total 13 columns):\n",
      "Department Name                     30697 non-null object\n",
      "InterventionDateTime                30697 non-null object\n",
      "InterventionLocationName            30693 non-null object\n",
      "InterventionReasonCode              30697 non-null object\n",
      "ReportingOfficerIdentificationID    30697 non-null object\n",
      "ResidentIndicator                   30697 non-null bool\n",
      "SearchAuthorizationCode             30691 non-null object\n",
      "StatuteReason                       30693 non-null object\n",
      "SubjectAge                          30697 non-null float64\n",
      "SubjectEthnicityCode                30697 non-null object\n",
      "SubjectRaceCode                     30697 non-null object\n",
      "SubjectSexCode                      30697 non-null object\n",
      "TownResidentIndicator               30697 non-null bool\n",
      "dtypes: bool(2), float64(1), object(10)\n",
      "memory usage: 2.9+ MB\n"
     ]
    }
   ],
   "source": [
    "X_train.info()"
   ]
  },
  {
   "cell_type": "code",
   "execution_count": 9,
   "metadata": {
    "scrolled": true
   },
   "outputs": [],
   "source": [
    "# X_train.InterventionDateTime.dt.hour"
   ]
  },
  {
   "cell_type": "code",
   "execution_count": 10,
   "metadata": {},
   "outputs": [],
   "source": [
    "# X_copy = X_train[['InterventionDateTime']].applymap(pd.to_datetime)"
   ]
  },
  {
   "cell_type": "code",
   "execution_count": 11,
   "metadata": {
    "scrolled": true
   },
   "outputs": [],
   "source": [
    "# X_copy.head(10)"
   ]
  },
  {
   "cell_type": "code",
   "execution_count": 12,
   "metadata": {},
   "outputs": [],
   "source": [
    "# pd.hourofday()"
   ]
  },
  {
   "cell_type": "code",
   "execution_count": 13,
   "metadata": {},
   "outputs": [],
   "source": [
    "# X_copy2 = X_copy.applymap(dt.hour)"
   ]
  },
  {
   "cell_type": "code",
   "execution_count": null,
   "metadata": {},
   "outputs": [],
   "source": []
  },
  {
   "cell_type": "code",
   "execution_count": 14,
   "metadata": {},
   "outputs": [],
   "source": [
    "# Custom transformer to binarize the hour of the day into low (0) and high (1) finding rate hours\n",
    "class HourOfDayTransformer(TransformerMixin):\n",
    "    \n",
    "    def __init__(self, high_rate_hours=[]):\n",
    "        self.high_rate_hours = high_rate_hours        \n",
    "        \n",
    "    def transform(self, X, *_):\n",
    "        #X = list(map(self._clean_sentence, X.values))\n",
    "        X_copy = X.copy()\n",
    "        \n",
    "        X_copy = X_copy.applymap(pd.to_datetime)\n",
    "        \n",
    "        df.date = pd.to_datetime(df.date)\n",
    "        \n",
    "        \n",
    "        \n",
    "        X_copy = X_copy.applymap(self._binarize_hours)\n",
    "        return X_copy\n",
    "    \n",
    "    def _binarize_hours(self):\n",
    "        \n",
    "        # Make sure it is a string!\n",
    "        sentence = str(sentence)\n",
    "        \n",
    "        # Replace given regexes\n",
    "        for regex in self.regex_list:\n",
    "            sentence = re.sub(regex[0], regex[1], sentence)\n",
    "            \n",
    "        # lowercase\n",
    "        if self.lower:\n",
    "            sentence = sentence.lower()\n",
    "        \n",
    "        # Trim\n",
    "        sentence = sentence.strip()\n",
    "        \n",
    "        return sentence\n",
    "    \n",
    "    def fit(self, *_):\n",
    "        return self"
   ]
  },
  {
   "cell_type": "code",
   "execution_count": 15,
   "metadata": {},
   "outputs": [],
   "source": [
    "class Selector(BaseEstimator, TransformerMixin):\n",
    "    \"\"\"\n",
    "    Transformer to select a column from the dataframe to perform additional transformations on\n",
    "    \"\"\" \n",
    "    def __init__(self, key):\n",
    "        self.key = key\n",
    "        \n",
    "    def fit(self, X, y=None):\n",
    "        return self\n",
    "    \n",
    "\n",
    "class TextSelector(Selector):\n",
    "    \"\"\"\n",
    "    Transformer to select a single column from the data frame to perform additional transformations on\n",
    "    Use on text columns in the data\n",
    "    \"\"\"\n",
    "    def transform(self, X):\n",
    "        return X[self.key]\n",
    "    \n",
    "    \n",
    "class NumberSelector(Selector):\n",
    "    \"\"\"\n",
    "    Transformer to select a single column from the data frame to perform additional transformations on\n",
    "    Use on numeric columns in the data\n",
    "    \"\"\"\n",
    "    def transform(self, X):\n",
    "        return X[self.key]\n",
    "\n",
    "    \n",
    "class BoolSelector(Selector):\n",
    "    \"\"\"\n",
    "    Transformer to select a single column from the data frame to perform additional transformations on\n",
    "    Use on numeric columns in the data\n",
    "    \"\"\"\n",
    "    def transform(self, X):\n",
    "        return X[self.key]"
   ]
  },
  {
   "cell_type": "markdown",
   "metadata": {},
   "source": [
    "### Save these one:"
   ]
  },
  {
   "cell_type": "code",
   "execution_count": 16,
   "metadata": {},
   "outputs": [],
   "source": [
    "# text_pipe = Pipeline([\n",
    "#                 ('selector', TextSelector(['Department Name', 'SearchAuthorizationCode', 'StatuteReason'])),\n",
    "#                 ('ordinalencoder', ce.ordinal.OrdinalEncoder())\n",
    "#             ])\n",
    "\n",
    "# numerical_pipe =  Pipeline([\n",
    "#                 ('selector', NumberSelector(['SubjectAge'])),\n",
    "#                 ('binarizer', Binarizer(threshold=27))\n",
    "#             ])\n",
    "\n",
    "# # Feature Union allow use to use multiple distinct features in our classifier\n",
    "# feats = FeatureUnion([('text', text_pipe), \n",
    "#                       ('numerical', numerical_pipe)])\n",
    "\n",
    "# pipe_clf = Pipeline([\n",
    "#     ('features',feats),\n",
    "#     ('classifier', RandomForestClassifier(random_state = 42)),\n",
    "# ])"
   ]
  },
  {
   "cell_type": "code",
   "execution_count": 17,
   "metadata": {},
   "outputs": [],
   "source": [
    "# # text_pipe = Pipeline([\n",
    "# #                 ('selector', TextSelector(['Department Name', 'SearchAuthorizationCode', 'StatuteReason'])),\n",
    "# #                 ('cleaner', TextCleanerTransformer()),\n",
    "# #                 ('ordinalencoder', ce.ordinal.OrdinalEncoder())\n",
    "# #             ])\n",
    "\n",
    "# text_pipe = Pipeline([\n",
    "#                 ('selector', TextSelector(['Department Name', 'SearchAuthorizationCode', 'StatuteReason'])),\n",
    "#                 ('ordinalencoder', ce.ordinal.OrdinalEncoder())\n",
    "#             ])\n",
    "\n",
    "# # numerical_pipe =  Pipeline([\n",
    "# #                 ('selector', NumberSelector(['SubjectAge'])),\n",
    "# #                 ('binarizer', KBinsDiscretizer(n_bins=10, encode='ordinal', strategy='uniform'))\n",
    "# #             ])\n",
    "\n",
    "# numerical_pipe =  Pipeline([\n",
    "#                 ('selector', NumberSelector(['SubjectAge'])),\n",
    "#                 ('binarizer', Binarizer(threshold=27))\n",
    "#             ])\n",
    "\n",
    "\n",
    "# bool_pipe =  Pipeline([\n",
    "#                 ('selector', BoolSelector(['ResidentIndicator']))                \n",
    "#             ])\n",
    "\n",
    "# # Feature Union allow use to use multiple distinct features in our classifier\n",
    "# feats = FeatureUnion([('text', text_pipe), \n",
    "#                       ('numerical', numerical_pipe)])\n",
    "\n",
    "# #feats = FeatureUnion([('text', text_pipe)])\n",
    "\n",
    "# # feats = FeatureUnion([('text', text_pipe), \n",
    "# #                       ('numerical', numerical_pipe),\n",
    "# #                       ('bool', bool_pipe)])\n",
    "\n",
    "# pipe_clf = Pipeline([\n",
    "#     ('features',feats),\n",
    "#     ('classifier', RandomForestClassifier(random_state = 42)),\n",
    "# ])"
   ]
  },
  {
   "cell_type": "code",
   "execution_count": 18,
   "metadata": {},
   "outputs": [],
   "source": [
    "text_pipe = Pipeline([\n",
    "                ('selector', TextSelector(['Department Name', 'SearchAuthorizationCode', 'StatuteReason'])),\n",
    "                ('ordinalencoder', ce.ordinal.OrdinalEncoder()),\n",
    "                ('handle_unknown_imputer', SimpleImputer(missing_values=-1, strategy='most_frequent')),\n",
    "                ('handle_missing_imputer1', SimpleImputer(missing_values=-2, strategy='most_frequent')),\n",
    "            ])\n",
    "\n",
    "numerical_pipe =  Pipeline([\n",
    "                ('selector', NumberSelector(['SubjectAge'])),\n",
    "                ('binarizer', Binarizer(threshold=27)),\n",
    "                ('handle_missing_imputer1', SimpleImputer(missing_values=np.nan, strategy='most_frequent'))\n",
    "            ])\n",
    "\n",
    "# Feature Union allow use to use multiple distinct features in our classifier\n",
    "feats = FeatureUnion([('text', text_pipe), \n",
    "                      ('numerical', numerical_pipe)])\n",
    "\n",
    "pipe_clf = Pipeline([\n",
    "    ('features',feats),\n",
    "    ('classifier', RandomForestClassifier(random_state = 42)),\n",
    "])"
   ]
  },
  {
   "cell_type": "code",
   "execution_count": 19,
   "metadata": {
    "scrolled": false
   },
   "outputs": [
    {
     "name": "stderr",
     "output_type": "stream",
     "text": [
      "C:\\Users\\jnpicao\\AppData\\Local\\Continuum\\anaconda3\\lib\\site-packages\\sklearn\\ensemble\\forest.py:246: FutureWarning: The default value of n_estimators will change from 10 in version 0.20 to 100 in 0.22.\n",
      "  \"10 in version 0.20 to 100 in 0.22.\", FutureWarning)\n"
     ]
    }
   ],
   "source": [
    "pipe_clf.fit(X_train, y_train)\n",
    "\n",
    "y_prob_pipe = pipe_clf.predict_proba(X_test)[:,1]\n",
    "y_pred_pipe = y_prob_pipe > decision_thr"
   ]
  },
  {
   "cell_type": "markdown",
   "metadata": {},
   "source": [
    "Save model results for later perfromance evaluation."
   ]
  },
  {
   "cell_type": "code",
   "execution_count": 20,
   "metadata": {},
   "outputs": [],
   "source": [
    "(X_test.join(pd.DataFrame({'y_prob': y_prob_pipe,\n",
    "                           'y_pred': y_pred_pipe,\n",
    "                           'y_true': y_test})\n",
    "                         .astype({'y_pred': 'int', 'y_true':'int'}))\n",
    "        .reset_index(drop=True)\n",
    "        .to_csv(os.path.join('data', 'test_set_performance.csv'), index=False))"
   ]
  },
  {
   "cell_type": "code",
   "execution_count": 21,
   "metadata": {},
   "outputs": [
    {
     "data": {
      "text/plain": [
       "(46046, 13)"
      ]
     },
     "execution_count": 21,
     "metadata": {},
     "output_type": "execute_result"
    }
   ],
   "source": [
    "X_test.shape"
   ]
  },
  {
   "cell_type": "markdown",
   "metadata": {},
   "source": [
    "### Validate pipeline results"
   ]
  },
  {
   "cell_type": "code",
   "execution_count": 22,
   "metadata": {},
   "outputs": [
    {
     "data": {
      "text/plain": [
       "1.3236635644154011"
      ]
     },
     "execution_count": 22,
     "metadata": {},
     "output_type": "execute_result"
    }
   ],
   "source": [
    "np.absolute(y_prob - y_prob_pipe).sum()"
   ]
  },
  {
   "cell_type": "code",
   "execution_count": 23,
   "metadata": {},
   "outputs": [
    {
     "data": {
      "text/plain": [
       "1"
      ]
     },
     "execution_count": 23,
     "metadata": {},
     "output_type": "execute_result"
    }
   ],
   "source": [
    "(y_pred != y_pred_pipe).sum()"
   ]
  },
  {
   "cell_type": "code",
   "execution_count": 24,
   "metadata": {
    "scrolled": true
   },
   "outputs": [
    {
     "data": {
      "text/html": [
       "<div>\n",
       "<style scoped>\n",
       "    .dataframe tbody tr th:only-of-type {\n",
       "        vertical-align: middle;\n",
       "    }\n",
       "\n",
       "    .dataframe tbody tr th {\n",
       "        vertical-align: top;\n",
       "    }\n",
       "\n",
       "    .dataframe thead th {\n",
       "        text-align: right;\n",
       "    }\n",
       "</style>\n",
       "<table border=\"1\" class=\"dataframe\">\n",
       "  <thead>\n",
       "    <tr style=\"text-align: right;\">\n",
       "      <th></th>\n",
       "      <th>Department Name</th>\n",
       "      <th>InterventionDateTime</th>\n",
       "      <th>InterventionLocationName</th>\n",
       "      <th>InterventionReasonCode</th>\n",
       "      <th>ReportingOfficerIdentificationID</th>\n",
       "      <th>ResidentIndicator</th>\n",
       "      <th>SearchAuthorizationCode</th>\n",
       "      <th>StatuteReason</th>\n",
       "      <th>SubjectAge</th>\n",
       "      <th>SubjectEthnicityCode</th>\n",
       "      <th>SubjectRaceCode</th>\n",
       "      <th>SubjectSexCode</th>\n",
       "      <th>TownResidentIndicator</th>\n",
       "    </tr>\n",
       "  </thead>\n",
       "  <tbody>\n",
       "    <tr>\n",
       "      <th>30717</th>\n",
       "      <td>CSP Headquarters</td>\n",
       "      <td>01/19/2016 05:11:05 PM</td>\n",
       "      <td>COLCHESTER</td>\n",
       "      <td>V</td>\n",
       "      <td>58211300</td>\n",
       "      <td>True</td>\n",
       "      <td>C</td>\n",
       "      <td>STC Violation</td>\n",
       "      <td>48.0</td>\n",
       "      <td>N</td>\n",
       "      <td>B</td>\n",
       "      <td>F</td>\n",
       "      <td>False</td>\n",
       "    </tr>\n",
       "    <tr>\n",
       "      <th>44889</th>\n",
       "      <td>Farmington</td>\n",
       "      <td>12/01/2016 11:21:00 AM</td>\n",
       "      <td>FARMINGTON</td>\n",
       "      <td>V</td>\n",
       "      <td>341</td>\n",
       "      <td>True</td>\n",
       "      <td>O</td>\n",
       "      <td>Registration</td>\n",
       "      <td>22.0</td>\n",
       "      <td>N</td>\n",
       "      <td>W</td>\n",
       "      <td>F</td>\n",
       "      <td>False</td>\n",
       "    </tr>\n",
       "    <tr>\n",
       "      <th>13938</th>\n",
       "      <td>Glastonbury</td>\n",
       "      <td>07/23/2014 12:21:00 AM</td>\n",
       "      <td>GLASTONBURY</td>\n",
       "      <td>E</td>\n",
       "      <td>JSG0383</td>\n",
       "      <td>True</td>\n",
       "      <td>C</td>\n",
       "      <td>Defective Lights</td>\n",
       "      <td>26.0</td>\n",
       "      <td>N</td>\n",
       "      <td>W</td>\n",
       "      <td>M</td>\n",
       "      <td>False</td>\n",
       "    </tr>\n",
       "    <tr>\n",
       "      <th>20220</th>\n",
       "      <td>New London</td>\n",
       "      <td>11/26/2014 12:56:00 AM</td>\n",
       "      <td>NEW LONDON</td>\n",
       "      <td>V</td>\n",
       "      <td>PSC56033</td>\n",
       "      <td>True</td>\n",
       "      <td>O</td>\n",
       "      <td>Defective Lights</td>\n",
       "      <td>35.0</td>\n",
       "      <td>N</td>\n",
       "      <td>A</td>\n",
       "      <td>M</td>\n",
       "      <td>False</td>\n",
       "    </tr>\n",
       "    <tr>\n",
       "      <th>21837</th>\n",
       "      <td>Watertown</td>\n",
       "      <td>01/01/2015 07:00:00 PM</td>\n",
       "      <td>WATERTOWN</td>\n",
       "      <td>V</td>\n",
       "      <td>1177</td>\n",
       "      <td>True</td>\n",
       "      <td>O</td>\n",
       "      <td>Other/Error</td>\n",
       "      <td>20.0</td>\n",
       "      <td>H</td>\n",
       "      <td>W</td>\n",
       "      <td>M</td>\n",
       "      <td>True</td>\n",
       "    </tr>\n",
       "    <tr>\n",
       "      <th>72386</th>\n",
       "      <td>Derby</td>\n",
       "      <td>03/30/2018 07:16:00 PM</td>\n",
       "      <td>Derby</td>\n",
       "      <td>V</td>\n",
       "      <td>061</td>\n",
       "      <td>True</td>\n",
       "      <td>O</td>\n",
       "      <td>Administrative Offense</td>\n",
       "      <td>61.0</td>\n",
       "      <td>N</td>\n",
       "      <td>B</td>\n",
       "      <td>F</td>\n",
       "      <td>False</td>\n",
       "    </tr>\n",
       "    <tr>\n",
       "      <th>28592</th>\n",
       "      <td>CSP Troop E</td>\n",
       "      <td>12/05/2015 09:11:28 AM</td>\n",
       "      <td>NORTH STONINGTON</td>\n",
       "      <td>V</td>\n",
       "      <td>1000002621</td>\n",
       "      <td>False</td>\n",
       "      <td>C</td>\n",
       "      <td>Speed Related</td>\n",
       "      <td>19.0</td>\n",
       "      <td>N</td>\n",
       "      <td>W</td>\n",
       "      <td>M</td>\n",
       "      <td>False</td>\n",
       "    </tr>\n",
       "    <tr>\n",
       "      <th>52567</th>\n",
       "      <td>Waterford</td>\n",
       "      <td>04/25/2017 01:18:00 AM</td>\n",
       "      <td>Waterford</td>\n",
       "      <td>V</td>\n",
       "      <td>73</td>\n",
       "      <td>True</td>\n",
       "      <td>O</td>\n",
       "      <td>Speed Related</td>\n",
       "      <td>22.0</td>\n",
       "      <td>N</td>\n",
       "      <td>B</td>\n",
       "      <td>F</td>\n",
       "      <td>False</td>\n",
       "    </tr>\n",
       "    <tr>\n",
       "      <th>73072</th>\n",
       "      <td>West Hartford</td>\n",
       "      <td>04/07/2018 01:36:00 PM</td>\n",
       "      <td>WEST HARTFORD</td>\n",
       "      <td>E</td>\n",
       "      <td>1000002072</td>\n",
       "      <td>True</td>\n",
       "      <td>O</td>\n",
       "      <td>Window Tint</td>\n",
       "      <td>30.0</td>\n",
       "      <td>N</td>\n",
       "      <td>B</td>\n",
       "      <td>M</td>\n",
       "      <td>False</td>\n",
       "    </tr>\n",
       "    <tr>\n",
       "      <th>41804</th>\n",
       "      <td>Manchester</td>\n",
       "      <td>09/16/2016 08:21:00 AM</td>\n",
       "      <td>Manchester</td>\n",
       "      <td>V</td>\n",
       "      <td>SEB5062</td>\n",
       "      <td>True</td>\n",
       "      <td>O</td>\n",
       "      <td>Speed Related</td>\n",
       "      <td>26.0</td>\n",
       "      <td>N</td>\n",
       "      <td>B</td>\n",
       "      <td>M</td>\n",
       "      <td>False</td>\n",
       "    </tr>\n",
       "    <tr>\n",
       "      <th>20548</th>\n",
       "      <td>Cheshire</td>\n",
       "      <td>12/03/2014 06:47:00 PM</td>\n",
       "      <td>Cheshire</td>\n",
       "      <td>V</td>\n",
       "      <td>37</td>\n",
       "      <td>True</td>\n",
       "      <td>O</td>\n",
       "      <td>Traffic Control Signal</td>\n",
       "      <td>21.0</td>\n",
       "      <td>N</td>\n",
       "      <td>W</td>\n",
       "      <td>M</td>\n",
       "      <td>True</td>\n",
       "    </tr>\n",
       "    <tr>\n",
       "      <th>20537</th>\n",
       "      <td>State Police</td>\n",
       "      <td>12/03/2014 01:58:00 PM</td>\n",
       "      <td>DURHAM</td>\n",
       "      <td>V</td>\n",
       "      <td>1000003197</td>\n",
       "      <td>True</td>\n",
       "      <td>O</td>\n",
       "      <td>Other/Error</td>\n",
       "      <td>75.0</td>\n",
       "      <td>N</td>\n",
       "      <td>W</td>\n",
       "      <td>M</td>\n",
       "      <td>True</td>\n",
       "    </tr>\n",
       "    <tr>\n",
       "      <th>652</th>\n",
       "      <td>State Police</td>\n",
       "      <td>10/16/2013 12:34:00 PM</td>\n",
       "      <td>MADISON</td>\n",
       "      <td>V</td>\n",
       "      <td>26013717</td>\n",
       "      <td>False</td>\n",
       "      <td>C</td>\n",
       "      <td>Speed Related</td>\n",
       "      <td>27.0</td>\n",
       "      <td>H</td>\n",
       "      <td>W</td>\n",
       "      <td>M</td>\n",
       "      <td>False</td>\n",
       "    </tr>\n",
       "    <tr>\n",
       "      <th>58953</th>\n",
       "      <td>Norwich</td>\n",
       "      <td>09/06/2017 06:45:00 PM</td>\n",
       "      <td>NORWICH</td>\n",
       "      <td>E</td>\n",
       "      <td>1030</td>\n",
       "      <td>True</td>\n",
       "      <td>C</td>\n",
       "      <td>Moving Violation</td>\n",
       "      <td>35.0</td>\n",
       "      <td>N</td>\n",
       "      <td>B</td>\n",
       "      <td>M</td>\n",
       "      <td>True</td>\n",
       "    </tr>\n",
       "    <tr>\n",
       "      <th>47021</th>\n",
       "      <td>Middletown</td>\n",
       "      <td>01/16/2017 05:57:00 PM</td>\n",
       "      <td>Middletown</td>\n",
       "      <td>V</td>\n",
       "      <td>253</td>\n",
       "      <td>True</td>\n",
       "      <td>O</td>\n",
       "      <td>Display of Plates</td>\n",
       "      <td>24.0</td>\n",
       "      <td>N</td>\n",
       "      <td>W</td>\n",
       "      <td>M</td>\n",
       "      <td>True</td>\n",
       "    </tr>\n",
       "    <tr>\n",
       "      <th>67700</th>\n",
       "      <td>Plymouth</td>\n",
       "      <td>02/14/2018 01:40:00 AM</td>\n",
       "      <td>Terryville</td>\n",
       "      <td>V</td>\n",
       "      <td>24</td>\n",
       "      <td>True</td>\n",
       "      <td>O</td>\n",
       "      <td>Moving Violation</td>\n",
       "      <td>24.0</td>\n",
       "      <td>N</td>\n",
       "      <td>W</td>\n",
       "      <td>M</td>\n",
       "      <td>False</td>\n",
       "    </tr>\n",
       "    <tr>\n",
       "      <th>35015</th>\n",
       "      <td>Vernon</td>\n",
       "      <td>04/15/2016 12:58:15 AM</td>\n",
       "      <td>VERNON</td>\n",
       "      <td>V</td>\n",
       "      <td>537</td>\n",
       "      <td>True</td>\n",
       "      <td>C</td>\n",
       "      <td>Traffic Control Signal</td>\n",
       "      <td>20.0</td>\n",
       "      <td>N</td>\n",
       "      <td>B</td>\n",
       "      <td>M</td>\n",
       "      <td>True</td>\n",
       "    </tr>\n",
       "    <tr>\n",
       "      <th>48853</th>\n",
       "      <td>CSP Troop L</td>\n",
       "      <td>02/19/2017 04:05:00 PM</td>\n",
       "      <td>HARWINTON</td>\n",
       "      <td>V</td>\n",
       "      <td>1000003198</td>\n",
       "      <td>True</td>\n",
       "      <td>C</td>\n",
       "      <td>Display of Plates</td>\n",
       "      <td>26.0</td>\n",
       "      <td>N</td>\n",
       "      <td>W</td>\n",
       "      <td>M</td>\n",
       "      <td>False</td>\n",
       "    </tr>\n",
       "    <tr>\n",
       "      <th>50144</th>\n",
       "      <td>Stonington</td>\n",
       "      <td>03/11/2017 03:11:00 AM</td>\n",
       "      <td>Pawcatuck</td>\n",
       "      <td>E</td>\n",
       "      <td>25</td>\n",
       "      <td>False</td>\n",
       "      <td>C</td>\n",
       "      <td>Moving Violation</td>\n",
       "      <td>41.0</td>\n",
       "      <td>N</td>\n",
       "      <td>B</td>\n",
       "      <td>M</td>\n",
       "      <td>False</td>\n",
       "    </tr>\n",
       "    <tr>\n",
       "      <th>20540</th>\n",
       "      <td>New Haven</td>\n",
       "      <td>12/03/2014 04:07:00 PM</td>\n",
       "      <td>NEW HAVEN</td>\n",
       "      <td>V</td>\n",
       "      <td>155</td>\n",
       "      <td>True</td>\n",
       "      <td>O</td>\n",
       "      <td>Window Tint</td>\n",
       "      <td>23.0</td>\n",
       "      <td>N</td>\n",
       "      <td>W</td>\n",
       "      <td>M</td>\n",
       "      <td>False</td>\n",
       "    </tr>\n",
       "    <tr>\n",
       "      <th>4145</th>\n",
       "      <td>West Hartford</td>\n",
       "      <td>01/08/2014 10:04:00 AM</td>\n",
       "      <td>West Hartford</td>\n",
       "      <td>V</td>\n",
       "      <td>1000002108</td>\n",
       "      <td>True</td>\n",
       "      <td>C</td>\n",
       "      <td>Moving Violation</td>\n",
       "      <td>44.0</td>\n",
       "      <td>N</td>\n",
       "      <td>W</td>\n",
       "      <td>M</td>\n",
       "      <td>False</td>\n",
       "    </tr>\n",
       "    <tr>\n",
       "      <th>46626</th>\n",
       "      <td>Westport</td>\n",
       "      <td>01/10/2017 01:40:00 AM</td>\n",
       "      <td>WESTPORT</td>\n",
       "      <td>E</td>\n",
       "      <td>PSC20021</td>\n",
       "      <td>True</td>\n",
       "      <td>C</td>\n",
       "      <td>Window Tint</td>\n",
       "      <td>41.0</td>\n",
       "      <td>N</td>\n",
       "      <td>W</td>\n",
       "      <td>M</td>\n",
       "      <td>False</td>\n",
       "    </tr>\n",
       "    <tr>\n",
       "      <th>30584</th>\n",
       "      <td>Vernon</td>\n",
       "      <td>01/16/2016 09:27:27 PM</td>\n",
       "      <td>VERNON</td>\n",
       "      <td>V</td>\n",
       "      <td>551</td>\n",
       "      <td>True</td>\n",
       "      <td>O</td>\n",
       "      <td>Speed Related</td>\n",
       "      <td>23.0</td>\n",
       "      <td>N</td>\n",
       "      <td>W</td>\n",
       "      <td>M</td>\n",
       "      <td>False</td>\n",
       "    </tr>\n",
       "    <tr>\n",
       "      <th>65769</th>\n",
       "      <td>Milford</td>\n",
       "      <td>01/25/2018 05:12:00 PM</td>\n",
       "      <td>MILFORD</td>\n",
       "      <td>V</td>\n",
       "      <td>295</td>\n",
       "      <td>True</td>\n",
       "      <td>C</td>\n",
       "      <td>Display of Plates</td>\n",
       "      <td>21.0</td>\n",
       "      <td>N</td>\n",
       "      <td>W</td>\n",
       "      <td>M</td>\n",
       "      <td>False</td>\n",
       "    </tr>\n",
       "    <tr>\n",
       "      <th>69650</th>\n",
       "      <td>Canton</td>\n",
       "      <td>03/03/2018 08:35:00 PM</td>\n",
       "      <td>CANTON</td>\n",
       "      <td>V</td>\n",
       "      <td>2854</td>\n",
       "      <td>True</td>\n",
       "      <td>C</td>\n",
       "      <td>Defective Lights</td>\n",
       "      <td>30.0</td>\n",
       "      <td>N</td>\n",
       "      <td>W</td>\n",
       "      <td>M</td>\n",
       "      <td>True</td>\n",
       "    </tr>\n",
       "    <tr>\n",
       "      <th>68347</th>\n",
       "      <td>Waterbury</td>\n",
       "      <td>02/20/2018 12:29:00 AM</td>\n",
       "      <td>WATERBURY</td>\n",
       "      <td>V</td>\n",
       "      <td>1032</td>\n",
       "      <td>True</td>\n",
       "      <td>O</td>\n",
       "      <td>Speed Related</td>\n",
       "      <td>19.0</td>\n",
       "      <td>N</td>\n",
       "      <td>B</td>\n",
       "      <td>M</td>\n",
       "      <td>False</td>\n",
       "    </tr>\n",
       "    <tr>\n",
       "      <th>63866</th>\n",
       "      <td>Wallingford</td>\n",
       "      <td>01/03/2018 09:26:00 PM</td>\n",
       "      <td>WALLINGFORD</td>\n",
       "      <td>E</td>\n",
       "      <td>218</td>\n",
       "      <td>True</td>\n",
       "      <td>O</td>\n",
       "      <td>Administrative Offense</td>\n",
       "      <td>20.0</td>\n",
       "      <td>H</td>\n",
       "      <td>W</td>\n",
       "      <td>M</td>\n",
       "      <td>False</td>\n",
       "    </tr>\n",
       "    <tr>\n",
       "      <th>26449</th>\n",
       "      <td>New Haven</td>\n",
       "      <td>10/16/2015 10:40:00 PM</td>\n",
       "      <td>NEW HAVEN</td>\n",
       "      <td>V</td>\n",
       "      <td>629</td>\n",
       "      <td>True</td>\n",
       "      <td>C</td>\n",
       "      <td>Traffic Control Signal</td>\n",
       "      <td>32.0</td>\n",
       "      <td>H</td>\n",
       "      <td>W</td>\n",
       "      <td>M</td>\n",
       "      <td>True</td>\n",
       "    </tr>\n",
       "    <tr>\n",
       "      <th>5173</th>\n",
       "      <td>West Hartford</td>\n",
       "      <td>01/29/2014 09:59:00 AM</td>\n",
       "      <td>WEST HARTFORD</td>\n",
       "      <td>V</td>\n",
       "      <td>1000002023</td>\n",
       "      <td>True</td>\n",
       "      <td>C</td>\n",
       "      <td>Moving Violation</td>\n",
       "      <td>23.0</td>\n",
       "      <td>N</td>\n",
       "      <td>W</td>\n",
       "      <td>M</td>\n",
       "      <td>False</td>\n",
       "    </tr>\n",
       "    <tr>\n",
       "      <th>14283</th>\n",
       "      <td>Milford</td>\n",
       "      <td>07/30/2014 05:10:00 PM</td>\n",
       "      <td>MILFORD</td>\n",
       "      <td>V</td>\n",
       "      <td>1803</td>\n",
       "      <td>True</td>\n",
       "      <td>C</td>\n",
       "      <td>Moving Violation</td>\n",
       "      <td>20.0</td>\n",
       "      <td>N</td>\n",
       "      <td>W</td>\n",
       "      <td>M</td>\n",
       "      <td>False</td>\n",
       "    </tr>\n",
       "    <tr>\n",
       "      <th>...</th>\n",
       "      <td>...</td>\n",
       "      <td>...</td>\n",
       "      <td>...</td>\n",
       "      <td>...</td>\n",
       "      <td>...</td>\n",
       "      <td>...</td>\n",
       "      <td>...</td>\n",
       "      <td>...</td>\n",
       "      <td>...</td>\n",
       "      <td>...</td>\n",
       "      <td>...</td>\n",
       "      <td>...</td>\n",
       "      <td>...</td>\n",
       "    </tr>\n",
       "    <tr>\n",
       "      <th>68644</th>\n",
       "      <td>Manchester</td>\n",
       "      <td>02/22/2018 07:14:00 PM</td>\n",
       "      <td>Manchester</td>\n",
       "      <td>V</td>\n",
       "      <td>JTS5305</td>\n",
       "      <td>True</td>\n",
       "      <td>O</td>\n",
       "      <td>Defective Lights</td>\n",
       "      <td>24.0</td>\n",
       "      <td>N</td>\n",
       "      <td>W</td>\n",
       "      <td>F</td>\n",
       "      <td>False</td>\n",
       "    </tr>\n",
       "    <tr>\n",
       "      <th>8432</th>\n",
       "      <td>Middletown</td>\n",
       "      <td>04/03/2014 11:18:00 AM</td>\n",
       "      <td>Middletown</td>\n",
       "      <td>V</td>\n",
       "      <td>163</td>\n",
       "      <td>True</td>\n",
       "      <td>O</td>\n",
       "      <td>Other</td>\n",
       "      <td>58.0</td>\n",
       "      <td>N</td>\n",
       "      <td>W</td>\n",
       "      <td>F</td>\n",
       "      <td>True</td>\n",
       "    </tr>\n",
       "    <tr>\n",
       "      <th>355</th>\n",
       "      <td>East Hartford</td>\n",
       "      <td>10/10/2013 01:11:00 PM</td>\n",
       "      <td>East Hartford</td>\n",
       "      <td>V</td>\n",
       "      <td>KNL0263</td>\n",
       "      <td>True</td>\n",
       "      <td>O</td>\n",
       "      <td>Other</td>\n",
       "      <td>29.0</td>\n",
       "      <td>H</td>\n",
       "      <td>W</td>\n",
       "      <td>M</td>\n",
       "      <td>True</td>\n",
       "    </tr>\n",
       "    <tr>\n",
       "      <th>14106</th>\n",
       "      <td>Danbury</td>\n",
       "      <td>07/26/2014 02:52:00 AM</td>\n",
       "      <td>DANBURY</td>\n",
       "      <td>V</td>\n",
       "      <td>10504</td>\n",
       "      <td>True</td>\n",
       "      <td>I</td>\n",
       "      <td>Moving Violation</td>\n",
       "      <td>32.0</td>\n",
       "      <td>H</td>\n",
       "      <td>W</td>\n",
       "      <td>M</td>\n",
       "      <td>True</td>\n",
       "    </tr>\n",
       "    <tr>\n",
       "      <th>15096</th>\n",
       "      <td>New Haven</td>\n",
       "      <td>08/14/2014 07:45:00 PM</td>\n",
       "      <td>NEW HAVEN</td>\n",
       "      <td>V</td>\n",
       "      <td>2</td>\n",
       "      <td>True</td>\n",
       "      <td>C</td>\n",
       "      <td>Window Tint</td>\n",
       "      <td>30.0</td>\n",
       "      <td>N</td>\n",
       "      <td>B</td>\n",
       "      <td>M</td>\n",
       "      <td>True</td>\n",
       "    </tr>\n",
       "    <tr>\n",
       "      <th>42379</th>\n",
       "      <td>New Haven</td>\n",
       "      <td>10/01/2016 09:50:00 PM</td>\n",
       "      <td>NEW HAVEN</td>\n",
       "      <td>V</td>\n",
       "      <td>6528</td>\n",
       "      <td>True</td>\n",
       "      <td>C</td>\n",
       "      <td>Other</td>\n",
       "      <td>32.0</td>\n",
       "      <td>N</td>\n",
       "      <td>B</td>\n",
       "      <td>M</td>\n",
       "      <td>True</td>\n",
       "    </tr>\n",
       "    <tr>\n",
       "      <th>11703</th>\n",
       "      <td>New Haven</td>\n",
       "      <td>06/06/2014 07:58:00 PM</td>\n",
       "      <td>NEW HAVEN</td>\n",
       "      <td>V</td>\n",
       "      <td>481</td>\n",
       "      <td>True</td>\n",
       "      <td>C</td>\n",
       "      <td>Display of Plates</td>\n",
       "      <td>26.0</td>\n",
       "      <td>N</td>\n",
       "      <td>B</td>\n",
       "      <td>M</td>\n",
       "      <td>False</td>\n",
       "    </tr>\n",
       "    <tr>\n",
       "      <th>56311</th>\n",
       "      <td>Darien</td>\n",
       "      <td>07/12/2017 10:05:00 AM</td>\n",
       "      <td>DARIEN</td>\n",
       "      <td>I</td>\n",
       "      <td>PSC21311</td>\n",
       "      <td>True</td>\n",
       "      <td>I</td>\n",
       "      <td>Other</td>\n",
       "      <td>40.0</td>\n",
       "      <td>N</td>\n",
       "      <td>B</td>\n",
       "      <td>M</td>\n",
       "      <td>False</td>\n",
       "    </tr>\n",
       "    <tr>\n",
       "      <th>38118</th>\n",
       "      <td>Fairfield</td>\n",
       "      <td>06/22/2016 04:27:22 PM</td>\n",
       "      <td>FAIRFIELD</td>\n",
       "      <td>V</td>\n",
       "      <td>100000707</td>\n",
       "      <td>True</td>\n",
       "      <td>O</td>\n",
       "      <td>Registration</td>\n",
       "      <td>21.0</td>\n",
       "      <td>N</td>\n",
       "      <td>B</td>\n",
       "      <td>M</td>\n",
       "      <td>False</td>\n",
       "    </tr>\n",
       "    <tr>\n",
       "      <th>71858</th>\n",
       "      <td>Stamford</td>\n",
       "      <td>03/25/2018 09:27:00 PM</td>\n",
       "      <td>STAMFORD</td>\n",
       "      <td>V</td>\n",
       "      <td>3C NIGHTS</td>\n",
       "      <td>True</td>\n",
       "      <td>C</td>\n",
       "      <td>Speed Related</td>\n",
       "      <td>21.0</td>\n",
       "      <td>N</td>\n",
       "      <td>W</td>\n",
       "      <td>M</td>\n",
       "      <td>True</td>\n",
       "    </tr>\n",
       "    <tr>\n",
       "      <th>22084</th>\n",
       "      <td>State Police</td>\n",
       "      <td>01/07/2015 01:16:00 AM</td>\n",
       "      <td>HARTFORD</td>\n",
       "      <td>E</td>\n",
       "      <td>1000002608</td>\n",
       "      <td>True</td>\n",
       "      <td>O</td>\n",
       "      <td>Display of Plates</td>\n",
       "      <td>26.0</td>\n",
       "      <td>N</td>\n",
       "      <td>B</td>\n",
       "      <td>M</td>\n",
       "      <td>False</td>\n",
       "    </tr>\n",
       "    <tr>\n",
       "      <th>7011</th>\n",
       "      <td>State Police</td>\n",
       "      <td>03/08/2014 09:02:00 PM</td>\n",
       "      <td>MANSFIELD</td>\n",
       "      <td>I</td>\n",
       "      <td>1000003229</td>\n",
       "      <td>True</td>\n",
       "      <td>C</td>\n",
       "      <td>Equipment Violation</td>\n",
       "      <td>29.0</td>\n",
       "      <td>H</td>\n",
       "      <td>W</td>\n",
       "      <td>M</td>\n",
       "      <td>False</td>\n",
       "    </tr>\n",
       "    <tr>\n",
       "      <th>70088</th>\n",
       "      <td>Waterbury</td>\n",
       "      <td>03/09/2018 12:45:00 AM</td>\n",
       "      <td>WATERBURY</td>\n",
       "      <td>E</td>\n",
       "      <td>1017</td>\n",
       "      <td>True</td>\n",
       "      <td>I</td>\n",
       "      <td>Defective Lights</td>\n",
       "      <td>20.0</td>\n",
       "      <td>H</td>\n",
       "      <td>W</td>\n",
       "      <td>M</td>\n",
       "      <td>False</td>\n",
       "    </tr>\n",
       "    <tr>\n",
       "      <th>39772</th>\n",
       "      <td>Clinton</td>\n",
       "      <td>08/02/2016 03:52:00 PM</td>\n",
       "      <td>Clinton</td>\n",
       "      <td>V</td>\n",
       "      <td>444</td>\n",
       "      <td>True</td>\n",
       "      <td>C</td>\n",
       "      <td>Moving Violation</td>\n",
       "      <td>21.0</td>\n",
       "      <td>N</td>\n",
       "      <td>W</td>\n",
       "      <td>M</td>\n",
       "      <td>True</td>\n",
       "    </tr>\n",
       "    <tr>\n",
       "      <th>13928</th>\n",
       "      <td>West Hartford</td>\n",
       "      <td>07/22/2014 07:07:00 PM</td>\n",
       "      <td>West Hartford</td>\n",
       "      <td>V</td>\n",
       "      <td>1000002164</td>\n",
       "      <td>True</td>\n",
       "      <td>C</td>\n",
       "      <td>Defective Lights</td>\n",
       "      <td>30.0</td>\n",
       "      <td>N</td>\n",
       "      <td>W</td>\n",
       "      <td>M</td>\n",
       "      <td>False</td>\n",
       "    </tr>\n",
       "    <tr>\n",
       "      <th>21206</th>\n",
       "      <td>State Police</td>\n",
       "      <td>12/18/2014 03:08:00 PM</td>\n",
       "      <td>THOMPSON</td>\n",
       "      <td>V</td>\n",
       "      <td>1000002578</td>\n",
       "      <td>False</td>\n",
       "      <td>C</td>\n",
       "      <td>Other/Error</td>\n",
       "      <td>36.0</td>\n",
       "      <td>N</td>\n",
       "      <td>W</td>\n",
       "      <td>M</td>\n",
       "      <td>False</td>\n",
       "    </tr>\n",
       "    <tr>\n",
       "      <th>2491</th>\n",
       "      <td>Norwich</td>\n",
       "      <td>11/27/2013 09:15:00 PM</td>\n",
       "      <td>NORWICH</td>\n",
       "      <td>V</td>\n",
       "      <td>266</td>\n",
       "      <td>True</td>\n",
       "      <td>C</td>\n",
       "      <td>Seatbelt</td>\n",
       "      <td>23.0</td>\n",
       "      <td>N</td>\n",
       "      <td>W</td>\n",
       "      <td>M</td>\n",
       "      <td>True</td>\n",
       "    </tr>\n",
       "    <tr>\n",
       "      <th>73583</th>\n",
       "      <td>Rocky Hill</td>\n",
       "      <td>04/12/2018 08:58:00 AM</td>\n",
       "      <td>WETHERSFIELD</td>\n",
       "      <td>V</td>\n",
       "      <td>1095410</td>\n",
       "      <td>True</td>\n",
       "      <td>O</td>\n",
       "      <td>Registration</td>\n",
       "      <td>21.0</td>\n",
       "      <td>N</td>\n",
       "      <td>W</td>\n",
       "      <td>M</td>\n",
       "      <td>True</td>\n",
       "    </tr>\n",
       "    <tr>\n",
       "      <th>60950</th>\n",
       "      <td>Fairfield</td>\n",
       "      <td>10/26/2017 06:08:00 PM</td>\n",
       "      <td>FAIRFIELD</td>\n",
       "      <td>V</td>\n",
       "      <td>100000734</td>\n",
       "      <td>True</td>\n",
       "      <td>O</td>\n",
       "      <td>Other</td>\n",
       "      <td>26.0</td>\n",
       "      <td>N</td>\n",
       "      <td>B</td>\n",
       "      <td>F</td>\n",
       "      <td>False</td>\n",
       "    </tr>\n",
       "    <tr>\n",
       "      <th>10356</th>\n",
       "      <td>Westport</td>\n",
       "      <td>05/11/2014 08:17:00 PM</td>\n",
       "      <td>WESTPORT</td>\n",
       "      <td>E</td>\n",
       "      <td>20041</td>\n",
       "      <td>True</td>\n",
       "      <td>O</td>\n",
       "      <td>Display of Plates</td>\n",
       "      <td>19.0</td>\n",
       "      <td>N</td>\n",
       "      <td>W</td>\n",
       "      <td>M</td>\n",
       "      <td>True</td>\n",
       "    </tr>\n",
       "    <tr>\n",
       "      <th>43604</th>\n",
       "      <td>CSP Troop L</td>\n",
       "      <td>11/01/2016 08:56:00 PM</td>\n",
       "      <td>LITCHFIELD</td>\n",
       "      <td>V</td>\n",
       "      <td>1000002895</td>\n",
       "      <td>True</td>\n",
       "      <td>O</td>\n",
       "      <td>STC Violation</td>\n",
       "      <td>17.0</td>\n",
       "      <td>N</td>\n",
       "      <td>W</td>\n",
       "      <td>M</td>\n",
       "      <td>True</td>\n",
       "    </tr>\n",
       "    <tr>\n",
       "      <th>12686</th>\n",
       "      <td>Clinton</td>\n",
       "      <td>06/28/2014 01:46:00 AM</td>\n",
       "      <td>Clinton</td>\n",
       "      <td>V</td>\n",
       "      <td>462</td>\n",
       "      <td>True</td>\n",
       "      <td>C</td>\n",
       "      <td>Moving Violation</td>\n",
       "      <td>36.0</td>\n",
       "      <td>N</td>\n",
       "      <td>W</td>\n",
       "      <td>F</td>\n",
       "      <td>False</td>\n",
       "    </tr>\n",
       "    <tr>\n",
       "      <th>41747</th>\n",
       "      <td>Vernon</td>\n",
       "      <td>09/15/2016 12:37:45 AM</td>\n",
       "      <td>VERNON</td>\n",
       "      <td>V</td>\n",
       "      <td>597</td>\n",
       "      <td>True</td>\n",
       "      <td>O</td>\n",
       "      <td>Speed Related</td>\n",
       "      <td>20.0</td>\n",
       "      <td>N</td>\n",
       "      <td>W</td>\n",
       "      <td>F</td>\n",
       "      <td>False</td>\n",
       "    </tr>\n",
       "    <tr>\n",
       "      <th>64593</th>\n",
       "      <td>Waterbury</td>\n",
       "      <td>01/14/2018 12:05:00 AM</td>\n",
       "      <td>WATERBURY</td>\n",
       "      <td>I</td>\n",
       "      <td>1355</td>\n",
       "      <td>True</td>\n",
       "      <td>I</td>\n",
       "      <td>Administrative Offense</td>\n",
       "      <td>21.0</td>\n",
       "      <td>H</td>\n",
       "      <td>W</td>\n",
       "      <td>M</td>\n",
       "      <td>True</td>\n",
       "    </tr>\n",
       "    <tr>\n",
       "      <th>10836</th>\n",
       "      <td>Orange</td>\n",
       "      <td>05/21/2014 09:35:00 PM</td>\n",
       "      <td>Orange</td>\n",
       "      <td>V</td>\n",
       "      <td>WKE0770</td>\n",
       "      <td>True</td>\n",
       "      <td>I</td>\n",
       "      <td>Other</td>\n",
       "      <td>29.0</td>\n",
       "      <td>N</td>\n",
       "      <td>W</td>\n",
       "      <td>M</td>\n",
       "      <td>False</td>\n",
       "    </tr>\n",
       "    <tr>\n",
       "      <th>27366</th>\n",
       "      <td>Vernon</td>\n",
       "      <td>11/08/2015 12:22:48 AM</td>\n",
       "      <td>VERNON</td>\n",
       "      <td>V</td>\n",
       "      <td>603</td>\n",
       "      <td>True</td>\n",
       "      <td>I</td>\n",
       "      <td>Moving Violation</td>\n",
       "      <td>34.0</td>\n",
       "      <td>N</td>\n",
       "      <td>W</td>\n",
       "      <td>F</td>\n",
       "      <td>True</td>\n",
       "    </tr>\n",
       "    <tr>\n",
       "      <th>63886</th>\n",
       "      <td>Groton Town</td>\n",
       "      <td>01/04/2018 01:50:00 AM</td>\n",
       "      <td>GROTON</td>\n",
       "      <td>V</td>\n",
       "      <td>LUCEA</td>\n",
       "      <td>True</td>\n",
       "      <td>O</td>\n",
       "      <td>Moving Violation</td>\n",
       "      <td>27.0</td>\n",
       "      <td>N</td>\n",
       "      <td>W</td>\n",
       "      <td>M</td>\n",
       "      <td>True</td>\n",
       "    </tr>\n",
       "    <tr>\n",
       "      <th>33884</th>\n",
       "      <td>Vernon</td>\n",
       "      <td>03/23/2016 11:56:30 PM</td>\n",
       "      <td>VERNON</td>\n",
       "      <td>V</td>\n",
       "      <td>603</td>\n",
       "      <td>True</td>\n",
       "      <td>O</td>\n",
       "      <td>Moving Violation</td>\n",
       "      <td>22.0</td>\n",
       "      <td>N</td>\n",
       "      <td>W</td>\n",
       "      <td>M</td>\n",
       "      <td>False</td>\n",
       "    </tr>\n",
       "    <tr>\n",
       "      <th>4906</th>\n",
       "      <td>New Haven</td>\n",
       "      <td>01/24/2014 12:00:00 AM</td>\n",
       "      <td>NEW HAVEN</td>\n",
       "      <td>V</td>\n",
       "      <td>282</td>\n",
       "      <td>False</td>\n",
       "      <td>O</td>\n",
       "      <td>Traffic Control Signal</td>\n",
       "      <td>22.0</td>\n",
       "      <td>N</td>\n",
       "      <td>A</td>\n",
       "      <td>M</td>\n",
       "      <td>False</td>\n",
       "    </tr>\n",
       "    <tr>\n",
       "      <th>62241</th>\n",
       "      <td>New Haven</td>\n",
       "      <td>11/26/2017 04:53:00 PM</td>\n",
       "      <td>NEW HAVEN</td>\n",
       "      <td>E</td>\n",
       "      <td>6519</td>\n",
       "      <td>True</td>\n",
       "      <td>C</td>\n",
       "      <td>Other</td>\n",
       "      <td>26.0</td>\n",
       "      <td>H</td>\n",
       "      <td>W</td>\n",
       "      <td>M</td>\n",
       "      <td>False</td>\n",
       "    </tr>\n",
       "  </tbody>\n",
       "</table>\n",
       "<p>37497 rows × 13 columns</p>\n",
       "</div>"
      ],
      "text/plain": [
       "        Department Name    InterventionDateTime InterventionLocationName  \\\n",
       "30717  CSP Headquarters  01/19/2016 05:11:05 PM               COLCHESTER   \n",
       "44889        Farmington  12/01/2016 11:21:00 AM               FARMINGTON   \n",
       "13938       Glastonbury  07/23/2014 12:21:00 AM              GLASTONBURY   \n",
       "20220        New London  11/26/2014 12:56:00 AM               NEW LONDON   \n",
       "21837         Watertown  01/01/2015 07:00:00 PM                WATERTOWN   \n",
       "72386             Derby  03/30/2018 07:16:00 PM                    Derby   \n",
       "28592       CSP Troop E  12/05/2015 09:11:28 AM         NORTH STONINGTON   \n",
       "52567         Waterford  04/25/2017 01:18:00 AM                Waterford   \n",
       "73072     West Hartford  04/07/2018 01:36:00 PM            WEST HARTFORD   \n",
       "41804        Manchester  09/16/2016 08:21:00 AM               Manchester   \n",
       "20548          Cheshire  12/03/2014 06:47:00 PM                 Cheshire   \n",
       "20537      State Police  12/03/2014 01:58:00 PM     DURHAM                 \n",
       "652        State Police  10/16/2013 12:34:00 PM                  MADISON   \n",
       "58953           Norwich  09/06/2017 06:45:00 PM                  NORWICH   \n",
       "47021        Middletown  01/16/2017 05:57:00 PM               Middletown   \n",
       "67700          Plymouth  02/14/2018 01:40:00 AM               Terryville   \n",
       "35015            Vernon  04/15/2016 12:58:15 AM                   VERNON   \n",
       "48853       CSP Troop L  02/19/2017 04:05:00 PM                HARWINTON   \n",
       "50144        Stonington  03/11/2017 03:11:00 AM                Pawcatuck   \n",
       "20540         New Haven  12/03/2014 04:07:00 PM                NEW HAVEN   \n",
       "4145      West Hartford  01/08/2014 10:04:00 AM     West Hartford          \n",
       "46626          Westport  01/10/2017 01:40:00 AM                 WESTPORT   \n",
       "30584            Vernon  01/16/2016 09:27:27 PM                   VERNON   \n",
       "65769           Milford  01/25/2018 05:12:00 PM                  MILFORD   \n",
       "69650            Canton  03/03/2018 08:35:00 PM                   CANTON   \n",
       "68347         Waterbury  02/20/2018 12:29:00 AM                WATERBURY   \n",
       "63866       Wallingford  01/03/2018 09:26:00 PM              WALLINGFORD   \n",
       "26449         New Haven  10/16/2015 10:40:00 PM                NEW HAVEN   \n",
       "5173      West Hartford  01/29/2014 09:59:00 AM     WEST HARTFORD          \n",
       "14283           Milford  07/30/2014 05:10:00 PM                  MILFORD   \n",
       "...                 ...                     ...                      ...   \n",
       "68644        Manchester  02/22/2018 07:14:00 PM               Manchester   \n",
       "8432         Middletown  04/03/2014 11:18:00 AM               Middletown   \n",
       "355       East Hartford  10/10/2013 01:11:00 PM            East Hartford   \n",
       "14106           Danbury  07/26/2014 02:52:00 AM     DANBURY                \n",
       "15096         New Haven  08/14/2014 07:45:00 PM                NEW HAVEN   \n",
       "42379         New Haven  10/01/2016 09:50:00 PM                NEW HAVEN   \n",
       "11703         New Haven  06/06/2014 07:58:00 PM                NEW HAVEN   \n",
       "56311            Darien  07/12/2017 10:05:00 AM                   DARIEN   \n",
       "38118         Fairfield  06/22/2016 04:27:22 PM                FAIRFIELD   \n",
       "71858          Stamford  03/25/2018 09:27:00 PM                 STAMFORD   \n",
       "22084      State Police  01/07/2015 01:16:00 AM     HARTFORD               \n",
       "7011       State Police  03/08/2014 09:02:00 PM     MANSFIELD              \n",
       "70088         Waterbury  03/09/2018 12:45:00 AM                WATERBURY   \n",
       "39772           Clinton  08/02/2016 03:52:00 PM                  Clinton   \n",
       "13928     West Hartford  07/22/2014 07:07:00 PM     West Hartford          \n",
       "21206      State Police  12/18/2014 03:08:00 PM     THOMPSON               \n",
       "2491            Norwich  11/27/2013 09:15:00 PM                  NORWICH   \n",
       "73583        Rocky Hill  04/12/2018 08:58:00 AM             WETHERSFIELD   \n",
       "60950         Fairfield  10/26/2017 06:08:00 PM                FAIRFIELD   \n",
       "10356          Westport  05/11/2014 08:17:00 PM                 WESTPORT   \n",
       "43604       CSP Troop L  11/01/2016 08:56:00 PM               LITCHFIELD   \n",
       "12686           Clinton  06/28/2014 01:46:00 AM                  Clinton   \n",
       "41747            Vernon  09/15/2016 12:37:45 AM                   VERNON   \n",
       "64593         Waterbury  01/14/2018 12:05:00 AM                WATERBURY   \n",
       "10836            Orange  05/21/2014 09:35:00 PM                   Orange   \n",
       "27366            Vernon  11/08/2015 12:22:48 AM                   VERNON   \n",
       "63886       Groton Town  01/04/2018 01:50:00 AM                   GROTON   \n",
       "33884            Vernon  03/23/2016 11:56:30 PM                   VERNON   \n",
       "4906          New Haven  01/24/2014 12:00:00 AM                NEW HAVEN   \n",
       "62241         New Haven  11/26/2017 04:53:00 PM                NEW HAVEN   \n",
       "\n",
       "      InterventionReasonCode ReportingOfficerIdentificationID  \\\n",
       "30717                      V                         58211300   \n",
       "44889                      V                              341   \n",
       "13938                      E                          JSG0383   \n",
       "20220                      V                         PSC56033   \n",
       "21837                      V                             1177   \n",
       "72386                      V                              061   \n",
       "28592                      V                       1000002621   \n",
       "52567                      V                               73   \n",
       "73072                      E                       1000002072   \n",
       "41804                      V                          SEB5062   \n",
       "20548                      V                               37   \n",
       "20537                      V                       1000003197   \n",
       "652                        V                         26013717   \n",
       "58953                      E                             1030   \n",
       "47021                      V                              253   \n",
       "67700                      V                               24   \n",
       "35015                      V                              537   \n",
       "48853                      V                       1000003198   \n",
       "50144                      E                               25   \n",
       "20540                      V                              155   \n",
       "4145                       V                       1000002108   \n",
       "46626                      E                         PSC20021   \n",
       "30584                      V                              551   \n",
       "65769                      V                              295   \n",
       "69650                      V                             2854   \n",
       "68347                      V                             1032   \n",
       "63866                      E                              218   \n",
       "26449                      V                              629   \n",
       "5173                       V                       1000002023   \n",
       "14283                      V                             1803   \n",
       "...                      ...                              ...   \n",
       "68644                      V                          JTS5305   \n",
       "8432                       V                              163   \n",
       "355                        V                          KNL0263   \n",
       "14106                      V                            10504   \n",
       "15096                      V                                2   \n",
       "42379                      V                             6528   \n",
       "11703                      V                              481   \n",
       "56311                      I                         PSC21311   \n",
       "38118                      V                        100000707   \n",
       "71858                      V                        3C NIGHTS   \n",
       "22084                      E                       1000002608   \n",
       "7011                       I                       1000003229   \n",
       "70088                      E                             1017   \n",
       "39772                      V                              444   \n",
       "13928                      V                       1000002164   \n",
       "21206                      V                       1000002578   \n",
       "2491                       V                              266   \n",
       "73583                      V                          1095410   \n",
       "60950                      V                        100000734   \n",
       "10356                      E                            20041   \n",
       "43604                      V                       1000002895   \n",
       "12686                      V                              462   \n",
       "41747                      V                              597   \n",
       "64593                      I                             1355   \n",
       "10836                      V                          WKE0770   \n",
       "27366                      V                              603   \n",
       "63886                      V                            LUCEA   \n",
       "33884                      V                              603   \n",
       "4906                       V                              282   \n",
       "62241                      E                             6519   \n",
       "\n",
       "       ResidentIndicator SearchAuthorizationCode           StatuteReason  \\\n",
       "30717               True                       C           STC Violation   \n",
       "44889               True                       O            Registration   \n",
       "13938               True                       C        Defective Lights   \n",
       "20220               True                       O        Defective Lights   \n",
       "21837               True                       O             Other/Error   \n",
       "72386               True                       O  Administrative Offense   \n",
       "28592              False                       C           Speed Related   \n",
       "52567               True                       O           Speed Related   \n",
       "73072               True                       O             Window Tint   \n",
       "41804               True                       O           Speed Related   \n",
       "20548               True                       O  Traffic Control Signal   \n",
       "20537               True                       O             Other/Error   \n",
       "652                False                       C           Speed Related   \n",
       "58953               True                       C        Moving Violation   \n",
       "47021               True                       O       Display of Plates   \n",
       "67700               True                       O        Moving Violation   \n",
       "35015               True                       C  Traffic Control Signal   \n",
       "48853               True                       C       Display of Plates   \n",
       "50144              False                       C        Moving Violation   \n",
       "20540               True                       O             Window Tint   \n",
       "4145                True                       C        Moving Violation   \n",
       "46626               True                       C             Window Tint   \n",
       "30584               True                       O           Speed Related   \n",
       "65769               True                       C       Display of Plates   \n",
       "69650               True                       C        Defective Lights   \n",
       "68347               True                       O           Speed Related   \n",
       "63866               True                       O  Administrative Offense   \n",
       "26449               True                       C  Traffic Control Signal   \n",
       "5173                True                       C        Moving Violation   \n",
       "14283               True                       C        Moving Violation   \n",
       "...                  ...                     ...                     ...   \n",
       "68644               True                       O        Defective Lights   \n",
       "8432                True                       O                   Other   \n",
       "355                 True                       O                   Other   \n",
       "14106               True                       I        Moving Violation   \n",
       "15096               True                       C             Window Tint   \n",
       "42379               True                       C                   Other   \n",
       "11703               True                       C       Display of Plates   \n",
       "56311               True                       I                   Other   \n",
       "38118               True                       O            Registration   \n",
       "71858               True                       C           Speed Related   \n",
       "22084               True                       O       Display of Plates   \n",
       "7011                True                       C     Equipment Violation   \n",
       "70088               True                       I        Defective Lights   \n",
       "39772               True                       C        Moving Violation   \n",
       "13928               True                       C        Defective Lights   \n",
       "21206              False                       C             Other/Error   \n",
       "2491                True                       C                Seatbelt   \n",
       "73583               True                       O            Registration   \n",
       "60950               True                       O                   Other   \n",
       "10356               True                       O       Display of Plates   \n",
       "43604               True                       O           STC Violation   \n",
       "12686               True                       C        Moving Violation   \n",
       "41747               True                       O           Speed Related   \n",
       "64593               True                       I  Administrative Offense   \n",
       "10836               True                       I                   Other   \n",
       "27366               True                       I        Moving Violation   \n",
       "63886               True                       O        Moving Violation   \n",
       "33884               True                       O        Moving Violation   \n",
       "4906               False                       O  Traffic Control Signal   \n",
       "62241               True                       C                   Other   \n",
       "\n",
       "       SubjectAge SubjectEthnicityCode SubjectRaceCode SubjectSexCode  \\\n",
       "30717        48.0                    N               B              F   \n",
       "44889        22.0                    N               W              F   \n",
       "13938        26.0                    N               W              M   \n",
       "20220        35.0                    N               A              M   \n",
       "21837        20.0                    H               W              M   \n",
       "72386        61.0                    N               B              F   \n",
       "28592        19.0                    N               W              M   \n",
       "52567        22.0                    N               B              F   \n",
       "73072        30.0                    N               B              M   \n",
       "41804        26.0                    N               B              M   \n",
       "20548        21.0                    N               W              M   \n",
       "20537        75.0                    N               W              M   \n",
       "652          27.0                    H               W              M   \n",
       "58953        35.0                    N               B              M   \n",
       "47021        24.0                    N               W              M   \n",
       "67700        24.0                    N               W              M   \n",
       "35015        20.0                    N               B              M   \n",
       "48853        26.0                    N               W              M   \n",
       "50144        41.0                    N               B              M   \n",
       "20540        23.0                    N               W              M   \n",
       "4145         44.0                    N               W              M   \n",
       "46626        41.0                    N               W              M   \n",
       "30584        23.0                    N               W              M   \n",
       "65769        21.0                    N               W              M   \n",
       "69650        30.0                    N               W              M   \n",
       "68347        19.0                    N               B              M   \n",
       "63866        20.0                    H               W              M   \n",
       "26449        32.0                    H               W              M   \n",
       "5173         23.0                    N               W              M   \n",
       "14283        20.0                    N               W              M   \n",
       "...           ...                  ...             ...            ...   \n",
       "68644        24.0                    N               W              F   \n",
       "8432         58.0                    N               W              F   \n",
       "355          29.0                    H               W              M   \n",
       "14106        32.0                    H               W              M   \n",
       "15096        30.0                    N               B              M   \n",
       "42379        32.0                    N               B              M   \n",
       "11703        26.0                    N               B              M   \n",
       "56311        40.0                    N               B              M   \n",
       "38118        21.0                    N               B              M   \n",
       "71858        21.0                    N               W              M   \n",
       "22084        26.0                    N               B              M   \n",
       "7011         29.0                    H               W              M   \n",
       "70088        20.0                    H               W              M   \n",
       "39772        21.0                    N               W              M   \n",
       "13928        30.0                    N               W              M   \n",
       "21206        36.0                    N               W              M   \n",
       "2491         23.0                    N               W              M   \n",
       "73583        21.0                    N               W              M   \n",
       "60950        26.0                    N               B              F   \n",
       "10356        19.0                    N               W              M   \n",
       "43604        17.0                    N               W              M   \n",
       "12686        36.0                    N               W              F   \n",
       "41747        20.0                    N               W              F   \n",
       "64593        21.0                    H               W              M   \n",
       "10836        29.0                    N               W              M   \n",
       "27366        34.0                    N               W              F   \n",
       "63886        27.0                    N               W              M   \n",
       "33884        22.0                    N               W              M   \n",
       "4906         22.0                    N               A              M   \n",
       "62241        26.0                    H               W              M   \n",
       "\n",
       "       TownResidentIndicator  \n",
       "30717                  False  \n",
       "44889                  False  \n",
       "13938                  False  \n",
       "20220                  False  \n",
       "21837                   True  \n",
       "72386                  False  \n",
       "28592                  False  \n",
       "52567                  False  \n",
       "73072                  False  \n",
       "41804                  False  \n",
       "20548                   True  \n",
       "20537                   True  \n",
       "652                    False  \n",
       "58953                   True  \n",
       "47021                   True  \n",
       "67700                  False  \n",
       "35015                   True  \n",
       "48853                  False  \n",
       "50144                  False  \n",
       "20540                  False  \n",
       "4145                   False  \n",
       "46626                  False  \n",
       "30584                  False  \n",
       "65769                  False  \n",
       "69650                   True  \n",
       "68347                  False  \n",
       "63866                  False  \n",
       "26449                   True  \n",
       "5173                   False  \n",
       "14283                  False  \n",
       "...                      ...  \n",
       "68644                  False  \n",
       "8432                    True  \n",
       "355                     True  \n",
       "14106                   True  \n",
       "15096                   True  \n",
       "42379                   True  \n",
       "11703                  False  \n",
       "56311                  False  \n",
       "38118                  False  \n",
       "71858                   True  \n",
       "22084                  False  \n",
       "7011                   False  \n",
       "70088                  False  \n",
       "39772                   True  \n",
       "13928                  False  \n",
       "21206                  False  \n",
       "2491                    True  \n",
       "73583                   True  \n",
       "60950                  False  \n",
       "10356                   True  \n",
       "43604                   True  \n",
       "12686                  False  \n",
       "41747                  False  \n",
       "64593                   True  \n",
       "10836                  False  \n",
       "27366                   True  \n",
       "63886                   True  \n",
       "33884                  False  \n",
       "4906                   False  \n",
       "62241                  False  \n",
       "\n",
       "[37497 rows x 13 columns]"
      ]
     },
     "execution_count": 24,
     "metadata": {},
     "output_type": "execute_result"
    }
   ],
   "source": [
    "X_test[y_pred != y_prob_pipe]"
   ]
  },
  {
   "cell_type": "code",
   "execution_count": null,
   "metadata": {},
   "outputs": [],
   "source": []
  },
  {
   "cell_type": "markdown",
   "metadata": {},
   "source": [
    "# Metrics"
   ]
  },
  {
   "cell_type": "code",
   "execution_count": 25,
   "metadata": {},
   "outputs": [],
   "source": [
    "y_true = y_test"
   ]
  },
  {
   "cell_type": "code",
   "execution_count": 26,
   "metadata": {
    "scrolled": true
   },
   "outputs": [
    {
     "data": {
      "text/plain": [
       "0.5998483699772555"
      ]
     },
     "execution_count": 26,
     "metadata": {},
     "output_type": "execute_result"
    }
   ],
   "source": [
    "precision = precision_score(y_test, y_pred)\n",
    "precision"
   ]
  },
  {
   "cell_type": "code",
   "execution_count": 27,
   "metadata": {},
   "outputs": [
    {
     "data": {
      "text/plain": [
       "0.514367442465219"
      ]
     },
     "execution_count": 27,
     "metadata": {},
     "output_type": "execute_result"
    }
   ],
   "source": [
    "recall = recall_score(y_test, y_pred)\n",
    "recall"
   ]
  },
  {
   "cell_type": "code",
   "execution_count": 28,
   "metadata": {
    "scrolled": false
   },
   "outputs": [
    {
     "data": {
      "text/plain": [
       "0.7231464187985928"
      ]
     },
     "execution_count": 28,
     "metadata": {},
     "output_type": "execute_result"
    }
   ],
   "source": [
    "accuracy = accuracy_score(y_test, y_pred)\n",
    "accuracy"
   ]
  },
  {
   "cell_type": "code",
   "execution_count": 29,
   "metadata": {
    "scrolled": true
   },
   "outputs": [],
   "source": [
    "cf = confusion_matrix(y_test, y_pred)\n",
    "TN = cf[0][0]\n",
    "TP = cf[1][1]\n",
    "FN = cf[1][0]\n",
    "FP = cf[0][1]"
   ]
  },
  {
   "cell_type": "markdown",
   "metadata": {},
   "source": [
    "Sanity checks:"
   ]
  },
  {
   "cell_type": "code",
   "execution_count": 30,
   "metadata": {},
   "outputs": [
    {
     "data": {
      "text/plain": [
       "True"
      ]
     },
     "execution_count": 30,
     "metadata": {},
     "output_type": "execute_result"
    }
   ],
   "source": [
    "precision == TP/(TP+FP) "
   ]
  },
  {
   "cell_type": "code",
   "execution_count": 31,
   "metadata": {},
   "outputs": [
    {
     "data": {
      "text/plain": [
       "True"
      ]
     },
     "execution_count": 31,
     "metadata": {},
     "output_type": "execute_result"
    }
   ],
   "source": [
    "recall == TP/(TP+FN)"
   ]
  },
  {
   "cell_type": "code",
   "execution_count": 32,
   "metadata": {
    "scrolled": true
   },
   "outputs": [
    {
     "name": "stdout",
     "output_type": "stream",
     "text": [
      "              precision    recall  f1-score   support\n",
      "\n",
      "       False       0.77      0.83      0.80     30664\n",
      "        True       0.60      0.51      0.55     15382\n",
      "\n",
      "   micro avg       0.72      0.72      0.72     46046\n",
      "   macro avg       0.69      0.67      0.68     46046\n",
      "weighted avg       0.71      0.72      0.72     46046\n",
      "\n"
     ]
    }
   ],
   "source": [
    "print(classification_report(y_test, y_pred))"
   ]
  },
  {
   "cell_type": "code",
   "execution_count": 33,
   "metadata": {},
   "outputs": [
    {
     "data": {
      "text/plain": [
       "0.2864526777570256"
      ]
     },
     "execution_count": 33,
     "metadata": {},
     "output_type": "execute_result"
    }
   ],
   "source": [
    "y_pred.sum()/y_pred.shape[0]"
   ]
  },
  {
   "cell_type": "code",
   "execution_count": 34,
   "metadata": {},
   "outputs": [
    {
     "data": {
      "text/plain": [
       "15382"
      ]
     },
     "execution_count": 34,
     "metadata": {},
     "output_type": "execute_result"
    }
   ],
   "source": [
    "y_true.sum()"
   ]
  },
  {
   "cell_type": "markdown",
   "metadata": {},
   "source": [
    "# Curves"
   ]
  },
  {
   "cell_type": "code",
   "execution_count": 35,
   "metadata": {},
   "outputs": [],
   "source": [
    "fpr, tpr, thresholds_roc = roc_curve(y_test, y_prob)\n",
    "AUROC = roc_auc_score(y_test, y_prob)*100"
   ]
  },
  {
   "cell_type": "code",
   "execution_count": 36,
   "metadata": {
    "scrolled": false
   },
   "outputs": [
    {
     "data": {
      "image/png": "[encoded data removed]",
      "text/plain": [
       "<Figure size 432x288 with 1 Axes>"
      ]
     },
     "metadata": {
      "needs_background": "light"
     },
     "output_type": "display_data"
    }
   ],
   "source": [
    "plt.figure(1)\n",
    "plt.plot([0, 1], [0, 1], 'k--')\n",
    "plt.plot(fpr, tpr, label='ROC curve')\n",
    "\n",
    "plt.xlabel('False positive rate')\n",
    "plt.ylabel('True positive rate')\n",
    "plt.title('ROC curve')\n",
    "\n",
    "plt.xlim(0, 1)\n",
    "plt.ylim(0, 1)\n",
    "\n",
    "plt.text(0.6, 0.2, \"Area = {}\".format(round(AUROC,2)), dict(size=15))\n",
    "\n",
    "plt.legend(loc='best')\n",
    "plt.show()"
   ]
  },
  {
   "cell_type": "code",
   "execution_count": 37,
   "metadata": {
    "scrolled": true
   },
   "outputs": [
    {
     "data": {
      "image/png": "[encoded data removed]",
      "text/plain": [
       "<Figure size 432x288 with 1 Axes>"
      ]
     },
     "metadata": {
      "needs_background": "light"
     },
     "output_type": "display_data"
    }
   ],
   "source": [
    "plt.figure(2)\n",
    "plt.plot(thresholds_roc, fpr , label='False PR')\n",
    "plt.plot(thresholds_roc, tpr, label='True PR')\n",
    "\n",
    "plt.axvline(x=decision_thr, color='r', linestyle='-.')\n",
    "\n",
    "plt.xlabel('Decision threshold')\n",
    "plt.ylabel('True/False positive rate')\n",
    "#plt.title('ROC curve')\n",
    "\n",
    "plt.xlim(0, 1)\n",
    "plt.ylim(0, 1)\n",
    "\n",
    "plt.legend(loc='best')\n",
    "plt.show()"
   ]
  },
  {
   "cell_type": "code",
   "execution_count": 38,
   "metadata": {},
   "outputs": [],
   "source": [
    "precision_vec, recall_vec, thresholds_pr = precision_recall_curve(y_test, y_prob)"
   ]
  },
  {
   "cell_type": "code",
   "execution_count": 39,
   "metadata": {
    "scrolled": true
   },
   "outputs": [
    {
     "data": {
      "image/png": "[encoded data removed]",
      "text/plain": [
       "<Figure size 432x288 with 1 Axes>"
      ]
     },
     "metadata": {
      "needs_background": "light"
     },
     "output_type": "display_data"
    }
   ],
   "source": [
    "plt.figure(3)\n",
    "plt.plot([0, 1], [0, 1], 'k--')\n",
    "plt.plot(recall_vec, precision_vec, label='precision-recall curve')\n",
    "\n",
    "plt.xlabel('recall')\n",
    "plt.ylabel('precision')\n",
    "plt.title('precision-recall curve')\n",
    "\n",
    "plt.xlim(0, 1)\n",
    "plt.ylim(0, 1)\n",
    "\n",
    "plt.legend(loc='best')\n",
    "plt.show()"
   ]
  },
  {
   "cell_type": "code",
   "execution_count": 40,
   "metadata": {
    "scrolled": true
   },
   "outputs": [
    {
     "data": {
      "image/png": "[encoded data removed]",
      "text/plain": [
       "<Figure size 432x288 with 1 Axes>"
      ]
     },
     "metadata": {
      "needs_background": "light"
     },
     "output_type": "display_data"
    }
   ],
   "source": [
    "plt.figure(4)\n",
    "plt.plot([0, 1], [0, 1], 'k--')\n",
    "plt.plot(thresholds_pr, recall_vec[:-1] , label='recall')\n",
    "plt.plot(thresholds_pr, precision_vec[:-1], label='precision')\n",
    "\n",
    "plt.axvline(x=decision_thr, color='r', linestyle='-.')\n",
    "\n",
    "plt.xlabel('Decision threshold')\n",
    "plt.ylabel('rate')\n",
    "plt.title('Precision-recall curve')\n",
    "\n",
    "plt.xlim(0, 1)\n",
    "plt.ylim(0, 1)\n",
    "\n",
    "plt.legend(loc='best')\n",
    "plt.show()"
   ]
  },
  {
   "cell_type": "code",
   "execution_count": null,
   "metadata": {},
   "outputs": [],
   "source": []
  },
  {
   "cell_type": "code",
   "execution_count": null,
   "metadata": {},
   "outputs": [],
   "source": []
  },
  {
   "cell_type": "code",
   "execution_count": null,
   "metadata": {},
   "outputs": [],
   "source": []
  },
  {
   "cell_type": "code",
   "execution_count": 41,
   "metadata": {
    "scrolled": true
   },
   "outputs": [
    {
     "data": {
      "text/html": [
       "<div>\n",
       "<style scoped>\n",
       "    .dataframe tbody tr th:only-of-type {\n",
       "        vertical-align: middle;\n",
       "    }\n",
       "\n",
       "    .dataframe tbody tr th {\n",
       "        vertical-align: top;\n",
       "    }\n",
       "\n",
       "    .dataframe thead th {\n",
       "        text-align: right;\n",
       "    }\n",
       "</style>\n",
       "<table border=\"1\" class=\"dataframe\">\n",
       "  <thead>\n",
       "    <tr style=\"text-align: right;\">\n",
       "      <th></th>\n",
       "      <th>y_true</th>\n",
       "      <th>y_pred</th>\n",
       "      <th>y_prob</th>\n",
       "    </tr>\n",
       "  </thead>\n",
       "  <tbody>\n",
       "    <tr>\n",
       "      <th>30717</th>\n",
       "      <td>False</td>\n",
       "      <td>False</td>\n",
       "      <td>0.355556</td>\n",
       "    </tr>\n",
       "    <tr>\n",
       "      <th>44889</th>\n",
       "      <td>True</td>\n",
       "      <td>True</td>\n",
       "      <td>0.842211</td>\n",
       "    </tr>\n",
       "    <tr>\n",
       "      <th>13938</th>\n",
       "      <td>False</td>\n",
       "      <td>False</td>\n",
       "      <td>0.308561</td>\n",
       "    </tr>\n",
       "    <tr>\n",
       "      <th>20220</th>\n",
       "      <td>False</td>\n",
       "      <td>False</td>\n",
       "      <td>0.458966</td>\n",
       "    </tr>\n",
       "    <tr>\n",
       "      <th>21837</th>\n",
       "      <td>True</td>\n",
       "      <td>True</td>\n",
       "      <td>0.708333</td>\n",
       "    </tr>\n",
       "  </tbody>\n",
       "</table>\n",
       "</div>"
      ],
      "text/plain": [
       "       y_true  y_pred    y_prob\n",
       "30717   False   False  0.355556\n",
       "44889    True    True  0.842211\n",
       "13938   False   False  0.308561\n",
       "20220   False   False  0.458966\n",
       "21837    True    True  0.708333"
      ]
     },
     "execution_count": 41,
     "metadata": {},
     "output_type": "execute_result"
    }
   ],
   "source": [
    "df_results = y_test.to_frame(name='y_true')\n",
    "df_results['y_pred'] = y_pred\n",
    "df_results['y_prob'] = y_prob\n",
    "df_results.head()"
   ]
  },
  {
   "cell_type": "code",
   "execution_count": 42,
   "metadata": {
    "scrolled": true
   },
   "outputs": [
    {
     "data": {
      "image/png": "[encoded data removed]",
      "text/plain": [
       "<Figure size 576x288 with 1 Axes>"
      ]
     },
     "metadata": {
      "needs_background": "light"
     },
     "output_type": "display_data"
    }
   ],
   "source": [
    "n_trues = df_results[df_results.y_true==True].shape[0]\n",
    "n_falses = df_results[df_results.y_true==False].shape[0]\n",
    "\n",
    "plt.figure(figsize=(8,4))\n",
    "df_results[df_results.y_true==True].y_prob.hist(bins=20, weights=np.ones(n_trues)/n_trues*100, align='mid', rwidth=0.8, alpha=0.2, label='positive class')\n",
    "df_results[df_results.y_true==False].y_prob.hist(bins=20, weights=np.ones(n_falses)/n_falses*100, align='mid', rwidth=0.8, alpha=0.2, label='negative class')\n",
    "\n",
    "plt.axvline(x=decision_thr, color='r', linestyle='-.')\n",
    "\n",
    "plt.title('Histogram of predicted probability of class 1')\n",
    "plt.xlabel(\"Predicted probability of class 1\")\n",
    "plt.ylabel(\"% of occurences\")\n",
    "\n",
    "plt.xlim(0,1)\n",
    "plt.xticks(np.arange(0, 1, step=0.1))\n",
    "\n",
    "plt.legend();"
   ]
  },
  {
   "cell_type": "code",
   "execution_count": 43,
   "metadata": {},
   "outputs": [
    {
     "data": {
      "image/png": "[encoded data removed]",
      "text/plain": [
       "<Figure size 576x288 with 1 Axes>"
      ]
     },
     "metadata": {
      "needs_background": "light"
     },
     "output_type": "display_data"
    }
   ],
   "source": [
    "plt.figure(figsize=(8,4))\n",
    "df_results[df_results.y_true==True].y_prob.hist(bins=20, align='mid', rwidth=0.8, alpha=0.2, label='positive class')\n",
    "df_results[df_results.y_true==False].y_prob.hist(bins=20, align='mid', rwidth=0.8, alpha=0.2, label='negative class')\n",
    "\n",
    "plt.axvline(x=decision_thr, color='r', linestyle='-.')\n",
    "\n",
    "plt.title('Histogram of predicted probability of class 1')\n",
    "plt.xlabel(\"Predicted probability of class 1\")\n",
    "plt.ylabel(\"Nº of occurences\")\n",
    "\n",
    "plt.xlim(0,1)\n",
    "plt.xticks(np.arange(0, 1, step=0.1))\n",
    "\n",
    "plt.legend();"
   ]
  },
  {
   "cell_type": "code",
   "execution_count": 44,
   "metadata": {},
   "outputs": [
    {
     "data": {
      "image/png": "[encoded data removed]",
      "text/plain": [
       "<Figure size 576x288 with 1 Axes>"
      ]
     },
     "metadata": {
      "needs_background": "light"
     },
     "output_type": "display_data"
    }
   ],
   "source": [
    "df_results[df_results.y_true==True].y_prob.hist(bins=20, figsize=(8,4), histtype='step',label='positive class', density=True, cumulative=True)\n",
    "df_results[df_results.y_true==False].y_prob.hist(bins=20, figsize=(8,4), histtype='step', label='negative class', density=True, cumulative=True)\n",
    "\n",
    "plt.axvline(x=decision_thr, color='r', linestyle='-.')\n",
    "\n",
    "plt.title('Histogram of predicted probability of class 1')\n",
    "plt.xlabel(\"Predicted probability of class 1\")\n",
    "plt.ylabel(\"Density\")\n",
    "\n",
    "plt.xlim(0,1)\n",
    "plt.xticks(np.arange(0, 1, step=0.1))\n",
    "\n",
    "plt.legend();"
   ]
  },
  {
   "cell_type": "code",
   "execution_count": 45,
   "metadata": {},
   "outputs": [
    {
     "data": {
      "text/plain": [
       "y_prob\n",
       "0.355556    False\n",
       "0.842211     True\n",
       "0.308561    False\n",
       "0.458966    False\n",
       "0.708333     True\n",
       "0.000000    False\n",
       "0.057460    False\n",
       "0.282269    False\n",
       "0.344168    False\n",
       "0.804051     True\n",
       "0.000000    False\n",
       "0.000000    False\n",
       "0.433900     True\n",
       "0.000000    False\n",
       "0.416667     True\n",
       "0.479296    False\n",
       "0.204195    False\n",
       "0.097471    False\n",
       "0.000000    False\n",
       "0.766692     True\n",
       "0.537499     True\n",
       "0.000000    False\n",
       "0.403660    False\n",
       "0.430556     True\n",
       "0.200000    False\n",
       "0.094979    False\n",
       "0.576674    False\n",
       "0.255201    False\n",
       "0.833023     True\n",
       "0.181569    False\n",
       "            ...  \n",
       "0.897500     True\n",
       "0.000000    False\n",
       "0.262657    False\n",
       "0.000000    False\n",
       "0.514135     True\n",
       "0.291190    False\n",
       "0.246688     True\n",
       "0.283333    False\n",
       "0.215925     True\n",
       "0.300400    False\n",
       "0.200000     True\n",
       "0.576667     True\n",
       "0.886763     True\n",
       "0.510183    False\n",
       "0.509524    False\n",
       "0.255833     True\n",
       "0.833023     True\n",
       "0.032282    False\n",
       "0.000000    False\n",
       "0.214286    False\n",
       "0.000000    False\n",
       "0.160128    False\n",
       "0.000000    False\n",
       "0.630493     True\n",
       "0.743254     True\n",
       "0.000000    False\n",
       "0.069807     True\n",
       "0.063433    False\n",
       "1.000000     True\n",
       "0.000000     True\n",
       "Name: y_true, Length: 46046, dtype: bool"
      ]
     },
     "execution_count": 45,
     "metadata": {},
     "output_type": "execute_result"
    }
   ],
   "source": [
    "df_results.set_index('y_prob').y_true"
   ]
  },
  {
   "cell_type": "markdown",
   "metadata": {},
   "source": [
    "### Predict all `True`"
   ]
  },
  {
   "cell_type": "code",
   "execution_count": 46,
   "metadata": {},
   "outputs": [],
   "source": [
    "y_pred_true = np.ones(y_test.shape).astype(bool)"
   ]
  },
  {
   "cell_type": "code",
   "execution_count": 47,
   "metadata": {},
   "outputs": [
    {
     "data": {
      "text/plain": [
       "0.3340572471007254"
      ]
     },
     "execution_count": 47,
     "metadata": {},
     "output_type": "execute_result"
    }
   ],
   "source": [
    "precision_score(y_test, y_pred_true)"
   ]
  },
  {
   "cell_type": "code",
   "execution_count": 48,
   "metadata": {},
   "outputs": [
    {
     "data": {
      "text/plain": [
       "1.0"
      ]
     },
     "execution_count": 48,
     "metadata": {},
     "output_type": "execute_result"
    }
   ],
   "source": [
    "recall_score(y_test, y_pred_true)"
   ]
  },
  {
   "cell_type": "code",
   "execution_count": 49,
   "metadata": {
    "scrolled": true
   },
   "outputs": [
    {
     "data": {
      "text/plain": [
       "0.3340572471007254"
      ]
     },
     "execution_count": 49,
     "metadata": {},
     "output_type": "execute_result"
    }
   ],
   "source": [
    "accuracy_score(y_test, y_pred_true)"
   ]
  },
  {
   "cell_type": "markdown",
   "metadata": {},
   "source": [
    "### Predict all `False`"
   ]
  },
  {
   "cell_type": "code",
   "execution_count": 50,
   "metadata": {},
   "outputs": [],
   "source": [
    "y_pred_false = np.zeros(y_test.shape).astype(bool)"
   ]
  },
  {
   "cell_type": "code",
   "execution_count": 51,
   "metadata": {},
   "outputs": [
    {
     "name": "stderr",
     "output_type": "stream",
     "text": [
      "C:\\Users\\jnpicao\\AppData\\Local\\Continuum\\anaconda3\\lib\\site-packages\\sklearn\\metrics\\classification.py:1143: UndefinedMetricWarning: Precision is ill-defined and being set to 0.0 due to no predicted samples.\n",
      "  'precision', 'predicted', average, warn_for)\n"
     ]
    },
    {
     "data": {
      "text/plain": [
       "0.0"
      ]
     },
     "execution_count": 51,
     "metadata": {},
     "output_type": "execute_result"
    }
   ],
   "source": [
    "precision_score(y_test, y_pred_false)"
   ]
  },
  {
   "cell_type": "code",
   "execution_count": 52,
   "metadata": {},
   "outputs": [
    {
     "data": {
      "text/plain": [
       "0.0"
      ]
     },
     "execution_count": 52,
     "metadata": {},
     "output_type": "execute_result"
    }
   ],
   "source": [
    "recall_score(y_test, y_pred_false)"
   ]
  },
  {
   "cell_type": "code",
   "execution_count": 53,
   "metadata": {},
   "outputs": [
    {
     "data": {
      "text/plain": [
       "0.6659427528992746"
      ]
     },
     "execution_count": 53,
     "metadata": {},
     "output_type": "execute_result"
    }
   ],
   "source": [
    "accuracy_score(y_test, y_pred_false)"
   ]
  },
  {
   "cell_type": "markdown",
   "metadata": {},
   "source": [
    "### Predict randomly with positive\\negative ratio `r`"
   ]
  },
  {
   "cell_type": "code",
   "execution_count": 54,
   "metadata": {},
   "outputs": [],
   "source": [
    "np.random.seed(425)\n",
    "ratio = 0.10"
   ]
  },
  {
   "cell_type": "code",
   "execution_count": 55,
   "metadata": {},
   "outputs": [],
   "source": [
    "# y_pred_rand = np.random.randint(2, size=y_test.shape).astype(bool)\n",
    "y_pred_rand = np.random.binomial(n=1, p=ratio, size=y_test.shape).astype(bool)"
   ]
  },
  {
   "cell_type": "markdown",
   "metadata": {},
   "source": [
    "Percentage of searches"
   ]
  },
  {
   "cell_type": "code",
   "execution_count": 56,
   "metadata": {},
   "outputs": [
    {
     "data": {
      "text/plain": [
       "0.09946575163966469"
      ]
     },
     "execution_count": 56,
     "metadata": {},
     "output_type": "execute_result"
    }
   ],
   "source": [
    "y_pred_rand.sum()/y_pred_rand.shape[0]"
   ]
  },
  {
   "cell_type": "code",
   "execution_count": 57,
   "metadata": {},
   "outputs": [
    {
     "data": {
      "text/plain": [
       "0.3299126637554585"
      ]
     },
     "execution_count": 57,
     "metadata": {},
     "output_type": "execute_result"
    }
   ],
   "source": [
    "precision_score(y_test, y_pred_rand)"
   ]
  },
  {
   "cell_type": "code",
   "execution_count": 58,
   "metadata": {},
   "outputs": [
    {
     "data": {
      "text/plain": [
       "0.09823169938889612"
      ]
     },
     "execution_count": 58,
     "metadata": {},
     "output_type": "execute_result"
    }
   ],
   "source": [
    "recall_score(y_test, y_pred_rand)"
   ]
  },
  {
   "cell_type": "code",
   "execution_count": 59,
   "metadata": {},
   "outputs": [
    {
     "data": {
      "text/plain": [
       "0.6321070234113713"
      ]
     },
     "execution_count": 59,
     "metadata": {},
     "output_type": "execute_result"
    }
   ],
   "source": [
    "accuracy_score(y_test, y_pred_rand)"
   ]
  },
  {
   "cell_type": "markdown",
   "metadata": {},
   "source": [
    "# Metrics among protected classes"
   ]
  },
  {
   "cell_type": "code",
   "execution_count": 60,
   "metadata": {},
   "outputs": [],
   "source": [
    "df_test_classes = pd.DataFrame({X_test.SubjectRaceCode.name: X_test.SubjectRaceCode, \n",
    "                                X_test.SubjectEthnicityCode.name: X_test.SubjectEthnicityCode, \n",
    "                                X_test.SubjectSexCode.name: X_test.SubjectSexCode, \n",
    "                                'y_true': y_true, \n",
    "                                'y_pred': y_pred})"
   ]
  },
  {
   "cell_type": "code",
   "execution_count": 61,
   "metadata": {},
   "outputs": [
    {
     "data": {
      "text/plain": [
       "True"
      ]
     },
     "execution_count": 61,
     "metadata": {},
     "output_type": "execute_result"
    }
   ],
   "source": [
    "#sanity check\n",
    "df_test_classes.shape[0] == X_test.shape[0]"
   ]
  },
  {
   "cell_type": "code",
   "execution_count": 62,
   "metadata": {},
   "outputs": [],
   "source": [
    "test_race_results = df_test_classes.groupby(['SubjectRaceCode','y_true', 'y_pred']).SubjectRaceCode.count()\n",
    "test_ethnic_results = df_test_classes.groupby(['SubjectEthnicityCode','y_true', 'y_pred']).SubjectEthnicityCode.count()\n",
    "test_sex_results = df_test_classes.groupby(['SubjectSexCode','y_true', 'y_pred']).SubjectSexCode.count()"
   ]
  },
  {
   "cell_type": "markdown",
   "metadata": {},
   "source": [
    "Sanity checks:"
   ]
  },
  {
   "cell_type": "code",
   "execution_count": 63,
   "metadata": {},
   "outputs": [
    {
     "data": {
      "text/plain": [
       "True"
      ]
     },
     "execution_count": 63,
     "metadata": {},
     "output_type": "execute_result"
    }
   ],
   "source": [
    "test_race_results[:,True,:].sum() == test_ethnic_results[:,True,:].sum() == test_sex_results[:,True,:].sum() == y_true.sum()"
   ]
  },
  {
   "cell_type": "code",
   "execution_count": 64,
   "metadata": {},
   "outputs": [
    {
     "data": {
      "text/plain": [
       "True"
      ]
     },
     "execution_count": 64,
     "metadata": {},
     "output_type": "execute_result"
    }
   ],
   "source": [
    "test_race_results[:,:,True].sum() == test_ethnic_results[:,:,True].sum() == test_sex_results[:,:,True].sum() == y_pred.sum()"
   ]
  },
  {
   "cell_type": "code",
   "execution_count": 65,
   "metadata": {},
   "outputs": [
    {
     "data": {
      "text/html": [
       "<div>\n",
       "<style scoped>\n",
       "    .dataframe tbody tr th:only-of-type {\n",
       "        vertical-align: middle;\n",
       "    }\n",
       "\n",
       "    .dataframe tbody tr th {\n",
       "        vertical-align: top;\n",
       "    }\n",
       "\n",
       "    .dataframe thead th {\n",
       "        text-align: right;\n",
       "    }\n",
       "</style>\n",
       "<table border=\"1\" class=\"dataframe\">\n",
       "  <thead>\n",
       "    <tr style=\"text-align: right;\">\n",
       "      <th></th>\n",
       "      <th>SubjectRaceCode</th>\n",
       "      <th>SubjectEthnicityCode</th>\n",
       "      <th>SubjectSexCode</th>\n",
       "      <th>y_true</th>\n",
       "      <th>y_pred</th>\n",
       "    </tr>\n",
       "  </thead>\n",
       "  <tbody>\n",
       "    <tr>\n",
       "      <th>30717</th>\n",
       "      <td>B</td>\n",
       "      <td>N</td>\n",
       "      <td>F</td>\n",
       "      <td>False</td>\n",
       "      <td>False</td>\n",
       "    </tr>\n",
       "    <tr>\n",
       "      <th>44889</th>\n",
       "      <td>W</td>\n",
       "      <td>N</td>\n",
       "      <td>F</td>\n",
       "      <td>True</td>\n",
       "      <td>True</td>\n",
       "    </tr>\n",
       "    <tr>\n",
       "      <th>13938</th>\n",
       "      <td>W</td>\n",
       "      <td>N</td>\n",
       "      <td>M</td>\n",
       "      <td>False</td>\n",
       "      <td>False</td>\n",
       "    </tr>\n",
       "    <tr>\n",
       "      <th>20220</th>\n",
       "      <td>A</td>\n",
       "      <td>N</td>\n",
       "      <td>M</td>\n",
       "      <td>False</td>\n",
       "      <td>False</td>\n",
       "    </tr>\n",
       "    <tr>\n",
       "      <th>21837</th>\n",
       "      <td>W</td>\n",
       "      <td>H</td>\n",
       "      <td>M</td>\n",
       "      <td>True</td>\n",
       "      <td>True</td>\n",
       "    </tr>\n",
       "    <tr>\n",
       "      <th>54524</th>\n",
       "      <td>W</td>\n",
       "      <td>H</td>\n",
       "      <td>M</td>\n",
       "      <td>False</td>\n",
       "      <td>False</td>\n",
       "    </tr>\n",
       "    <tr>\n",
       "      <th>72386</th>\n",
       "      <td>B</td>\n",
       "      <td>N</td>\n",
       "      <td>F</td>\n",
       "      <td>False</td>\n",
       "      <td>False</td>\n",
       "    </tr>\n",
       "    <tr>\n",
       "      <th>28592</th>\n",
       "      <td>W</td>\n",
       "      <td>N</td>\n",
       "      <td>M</td>\n",
       "      <td>False</td>\n",
       "      <td>False</td>\n",
       "    </tr>\n",
       "    <tr>\n",
       "      <th>52567</th>\n",
       "      <td>B</td>\n",
       "      <td>N</td>\n",
       "      <td>F</td>\n",
       "      <td>False</td>\n",
       "      <td>False</td>\n",
       "    </tr>\n",
       "    <tr>\n",
       "      <th>73072</th>\n",
       "      <td>B</td>\n",
       "      <td>N</td>\n",
       "      <td>M</td>\n",
       "      <td>True</td>\n",
       "      <td>True</td>\n",
       "    </tr>\n",
       "  </tbody>\n",
       "</table>\n",
       "</div>"
      ],
      "text/plain": [
       "      SubjectRaceCode SubjectEthnicityCode SubjectSexCode  y_true  y_pred\n",
       "30717               B                    N              F   False   False\n",
       "44889               W                    N              F    True    True\n",
       "13938               W                    N              M   False   False\n",
       "20220               A                    N              M   False   False\n",
       "21837               W                    H              M    True    True\n",
       "54524               W                    H              M   False   False\n",
       "72386               B                    N              F   False   False\n",
       "28592               W                    N              M   False   False\n",
       "52567               B                    N              F   False   False\n",
       "73072               B                    N              M    True    True"
      ]
     },
     "execution_count": 65,
     "metadata": {},
     "output_type": "execute_result"
    }
   ],
   "source": [
    "df_test_classes.head(10)"
   ]
  },
  {
   "cell_type": "markdown",
   "metadata": {},
   "source": [
    "### Precision overall"
   ]
  },
  {
   "cell_type": "code",
   "execution_count": 66,
   "metadata": {
    "scrolled": true
   },
   "outputs": [
    {
     "data": {
      "text/plain": [
       "0.5998483699772555"
      ]
     },
     "execution_count": 66,
     "metadata": {},
     "output_type": "execute_result"
    }
   ],
   "source": [
    "precision_score(y_true, y_pred)"
   ]
  },
  {
   "cell_type": "code",
   "execution_count": 67,
   "metadata": {
    "scrolled": true
   },
   "outputs": [
    {
     "data": {
      "text/plain": [
       "0.5998483699772555"
      ]
     },
     "execution_count": 67,
     "metadata": {},
     "output_type": "execute_result"
    }
   ],
   "source": [
    "# Sanity check\n",
    "df_test_classes[df_test_classes.y_pred==True].y_true.mean()"
   ]
  },
  {
   "cell_type": "markdown",
   "metadata": {},
   "source": [
    "### Precision among races"
   ]
  },
  {
   "cell_type": "markdown",
   "metadata": {},
   "source": [
    "Precision table:"
   ]
  },
  {
   "cell_type": "code",
   "execution_count": 68,
   "metadata": {
    "scrolled": false
   },
   "outputs": [
    {
     "data": {
      "text/plain": [
       "SubjectRaceCode\n",
       "A    54.761905\n",
       "B    54.816450\n",
       "I    65.714286\n",
       "W    61.991956\n",
       "Name: y_true, dtype: float64"
      ]
     },
     "execution_count": 68,
     "metadata": {},
     "output_type": "execute_result"
    }
   ],
   "source": [
    "df_test_classes[df_test_classes.y_pred==True].groupby('SubjectRaceCode').y_true.mean().apply(lambda x: x*100)"
   ]
  },
  {
   "cell_type": "markdown",
   "metadata": {},
   "source": [
    "Max. difference:"
   ]
  },
  {
   "cell_type": "code",
   "execution_count": 69,
   "metadata": {},
   "outputs": [
    {
     "data": {
      "text/plain": [
       "10.952380952380947"
      ]
     },
     "execution_count": 69,
     "metadata": {},
     "output_type": "execute_result"
    }
   ],
   "source": [
    "(df_test_classes[df_test_classes.y_pred==True].groupby('SubjectRaceCode').y_true.mean().max() - df_test_classes[df_test_classes.y_pred==True].groupby('SubjectRaceCode').y_true.mean().min())*100"
   ]
  },
  {
   "cell_type": "markdown",
   "metadata": {},
   "source": [
    "Max. difference [%]:"
   ]
  },
  {
   "cell_type": "code",
   "execution_count": 70,
   "metadata": {
    "scrolled": true
   },
   "outputs": [
    {
     "data": {
      "text/plain": [
       "16.666666666666664"
      ]
     },
     "execution_count": 70,
     "metadata": {},
     "output_type": "execute_result"
    }
   ],
   "source": [
    "(1 - df_test_classes[df_test_classes.y_pred==True].groupby('SubjectRaceCode').y_true.mean().min() / df_test_classes[df_test_classes.y_pred==True].groupby('SubjectRaceCode').y_true.mean().max())*100"
   ]
  },
  {
   "cell_type": "code",
   "execution_count": 71,
   "metadata": {},
   "outputs": [
    {
     "data": {
      "text/plain": [
       "0.06060606060606055"
      ]
     },
     "execution_count": 71,
     "metadata": {},
     "output_type": "execute_result"
    }
   ],
   "source": [
    "1-93/99"
   ]
  },
  {
   "cell_type": "markdown",
   "metadata": {},
   "source": [
    "Standard difference:"
   ]
  },
  {
   "cell_type": "code",
   "execution_count": 72,
   "metadata": {},
   "outputs": [
    {
     "data": {
      "text/plain": [
       "5.449294263666403"
      ]
     },
     "execution_count": 72,
     "metadata": {},
     "output_type": "execute_result"
    }
   ],
   "source": [
    "df_test_classes[df_test_classes.y_pred==True].groupby('SubjectRaceCode').y_true.mean().apply(lambda x: x*100).std()"
   ]
  },
  {
   "cell_type": "code",
   "execution_count": 73,
   "metadata": {
    "scrolled": true
   },
   "outputs": [
    {
     "data": {
      "image/png": "[encoded data removed]",
      "text/plain": [
       "<Figure size 432x288 with 1 Axes>"
      ]
     },
     "metadata": {
      "needs_background": "light"
     },
     "output_type": "display_data"
    }
   ],
   "source": [
    "(df_test_classes[df_test_classes.y_pred==True].groupby('SubjectRaceCode')\n",
    "                                              .y_true.mean().apply(lambda x: x*100).sort_values()\n",
    "                                              .to_frame().plot.bar(label=''))\n",
    "\n",
    "plt.axhline(y=precision*100, color='r', linestyle='-.', label='global SR')\n",
    "\n",
    "plt.title('Finding success rate (SR) among races')\n",
    "plt.xlabel(\"Subject's race\")\n",
    "plt.ylabel(\"Success Rate [%]\")\n",
    "\n",
    "plt.ylim(0,75)\n",
    "\n",
    "plt.legend(loc='upper left')\n",
    "plt.grid(axis='y')\n",
    "\n",
    "#plt.savefig(os.path.join('plots', 'discrimination_race_SR.png'));"
   ]
  },
  {
   "cell_type": "markdown",
   "metadata": {},
   "source": [
    "### Precision among ethnicities"
   ]
  },
  {
   "cell_type": "markdown",
   "metadata": {},
   "source": [
    "When the classifier predicts positive, it is more sure about the prediction for Whites than for Blacks."
   ]
  },
  {
   "cell_type": "markdown",
   "metadata": {},
   "source": [
    "Precision table:"
   ]
  },
  {
   "cell_type": "code",
   "execution_count": 74,
   "metadata": {
    "scrolled": false
   },
   "outputs": [
    {
     "data": {
      "text/plain": [
       "SubjectEthnicityCode\n",
       "H    57.643814\n",
       "M    50.000000\n",
       "N    60.642532\n",
       "Name: y_true, dtype: float64"
      ]
     },
     "execution_count": 74,
     "metadata": {},
     "output_type": "execute_result"
    }
   ],
   "source": [
    "df_test_classes[df_test_classes.y_pred==True].groupby('SubjectEthnicityCode').y_true.mean().apply(lambda x: x*100)"
   ]
  },
  {
   "cell_type": "markdown",
   "metadata": {},
   "source": [
    "Max. difference:"
   ]
  },
  {
   "cell_type": "code",
   "execution_count": 75,
   "metadata": {
    "scrolled": true
   },
   "outputs": [
    {
     "data": {
      "text/plain": [
       "10.642532221379831"
      ]
     },
     "execution_count": 75,
     "metadata": {},
     "output_type": "execute_result"
    }
   ],
   "source": [
    "(df_test_classes[df_test_classes.y_pred==True].groupby('SubjectEthnicityCode').y_true.mean().max() - df_test_classes[df_test_classes.y_pred==True].groupby('SubjectEthnicityCode').y_true.mean().min())*100"
   ]
  },
  {
   "cell_type": "markdown",
   "metadata": {},
   "source": [
    "Max. difference [%]:"
   ]
  },
  {
   "cell_type": "code",
   "execution_count": 76,
   "metadata": {},
   "outputs": [
    {
     "data": {
      "text/plain": [
       "17.5496171276762"
      ]
     },
     "execution_count": 76,
     "metadata": {},
     "output_type": "execute_result"
    }
   ],
   "source": [
    "(1 - df_test_classes[df_test_classes.y_pred==True].groupby('SubjectEthnicityCode').y_true.mean().min() / df_test_classes[df_test_classes.y_pred==True].groupby('SubjectEthnicityCode').y_true.mean().max())*100"
   ]
  },
  {
   "cell_type": "markdown",
   "metadata": {},
   "source": [
    "Standard difference:"
   ]
  },
  {
   "cell_type": "code",
   "execution_count": 77,
   "metadata": {},
   "outputs": [
    {
     "data": {
      "text/plain": [
       "5.4876178160450335"
      ]
     },
     "execution_count": 77,
     "metadata": {},
     "output_type": "execute_result"
    }
   ],
   "source": [
    "df_test_classes[df_test_classes.y_pred==True].groupby('SubjectEthnicityCode').y_true.mean().apply(lambda x: x*100).std()"
   ]
  },
  {
   "cell_type": "code",
   "execution_count": 78,
   "metadata": {
    "scrolled": true
   },
   "outputs": [
    {
     "data": {
      "image/png": "[encoded data removed]",
      "text/plain": [
       "<Figure size 432x288 with 1 Axes>"
      ]
     },
     "metadata": {
      "needs_background": "light"
     },
     "output_type": "display_data"
    }
   ],
   "source": [
    "(df_test_classes[df_test_classes.y_pred==True].groupby('SubjectEthnicityCode')\n",
    "                                              .y_true.mean().apply(lambda x: x*100).sort_values()\n",
    "                                              .to_frame().plot.bar(label=''))\n",
    "\n",
    "plt.axhline(y=precision*100, color='r', linestyle='-.', label='global SR')\n",
    "\n",
    "plt.title('Finding success rate (SR) among ethnicities')\n",
    "plt.xlabel(\"Subject's ethnicities\")\n",
    "plt.ylabel(\"Success Rate [%]\")\n",
    "\n",
    "plt.ylim(0,75)\n",
    "\n",
    "plt.legend(loc='upper left')\n",
    "plt.grid(axis='y')\n",
    "\n",
    "#plt.savefig(os.path.join('plots', 'discrimination_race_SR.png'));"
   ]
  },
  {
   "cell_type": "markdown",
   "metadata": {},
   "source": [
    "### Precision among sexes"
   ]
  },
  {
   "cell_type": "markdown",
   "metadata": {},
   "source": [
    "Precision table:"
   ]
  },
  {
   "cell_type": "code",
   "execution_count": 79,
   "metadata": {
    "scrolled": false
   },
   "outputs": [
    {
     "data": {
      "text/plain": [
       "SubjectSexCode\n",
       "F    61.132075\n",
       "M    59.731606\n",
       "Name: y_true, dtype: float64"
      ]
     },
     "execution_count": 79,
     "metadata": {},
     "output_type": "execute_result"
    }
   ],
   "source": [
    "df_test_classes[df_test_classes.y_pred==True].groupby('SubjectSexCode').y_true.mean().apply(lambda x: x*100)"
   ]
  },
  {
   "cell_type": "markdown",
   "metadata": {},
   "source": [
    "Max. difference [p.p.]:"
   ]
  },
  {
   "cell_type": "code",
   "execution_count": 80,
   "metadata": {
    "scrolled": true
   },
   "outputs": [
    {
     "data": {
      "text/plain": [
       "1.400469733613885"
      ]
     },
     "execution_count": 80,
     "metadata": {},
     "output_type": "execute_result"
    }
   ],
   "source": [
    "(df_test_classes[df_test_classes.y_pred==True].groupby('SubjectSexCode').y_true.mean().max() - df_test_classes[df_test_classes.y_pred==True].groupby('SubjectSexCode').y_true.mean().min())*100"
   ]
  },
  {
   "cell_type": "markdown",
   "metadata": {},
   "source": [
    "Max. difference [%]:"
   ]
  },
  {
   "cell_type": "code",
   "execution_count": 81,
   "metadata": {},
   "outputs": [
    {
     "data": {
      "text/plain": [
       "2.290891848195553"
      ]
     },
     "execution_count": 81,
     "metadata": {},
     "output_type": "execute_result"
    }
   ],
   "source": [
    "(1 - df_test_classes[df_test_classes.y_pred==True].groupby('SubjectSexCode').y_true.mean().min() / df_test_classes[df_test_classes.y_pred==True].groupby('SubjectSexCode').y_true.mean().max())*100"
   ]
  },
  {
   "cell_type": "markdown",
   "metadata": {},
   "source": [
    "Standard difference:"
   ]
  },
  {
   "cell_type": "code",
   "execution_count": 82,
   "metadata": {},
   "outputs": [
    {
     "data": {
      "text/plain": [
       "0.9902816454848937"
      ]
     },
     "execution_count": 82,
     "metadata": {},
     "output_type": "execute_result"
    }
   ],
   "source": [
    "df_test_classes[df_test_classes.y_pred==True].groupby('SubjectSexCode').y_true.mean().apply(lambda x: x*100).std()"
   ]
  },
  {
   "cell_type": "code",
   "execution_count": 83,
   "metadata": {
    "scrolled": true
   },
   "outputs": [
    {
     "data": {
      "image/png": "[encoded data removed]",
      "text/plain": [
       "<Figure size 432x288 with 1 Axes>"
      ]
     },
     "metadata": {
      "needs_background": "light"
     },
     "output_type": "display_data"
    }
   ],
   "source": [
    "(df_test_classes[df_test_classes.y_pred==True].groupby('SubjectSexCode')\n",
    "                                              .y_true.mean().apply(lambda x: x*100).sort_values()\n",
    "                                              .to_frame().plot.bar(label=''))\n",
    "\n",
    "plt.axhline(y=precision*100, color='r', linestyle='-.', label='global SR')\n",
    "\n",
    "plt.title('Finding success rate (SR) among sexes')\n",
    "plt.xlabel(\"Subject's sexes\")\n",
    "plt.ylabel(\"Success Rate [%]\")\n",
    "\n",
    "plt.ylim(0,75)\n",
    "\n",
    "plt.legend(loc='upper left')\n",
    "plt.grid(axis='y')\n",
    "\n",
    "#plt.savefig(os.path.join('plots', 'discrimination_race_SR.png'));"
   ]
  },
  {
   "cell_type": "markdown",
   "metadata": {},
   "source": [
    "### Recall overall"
   ]
  },
  {
   "cell_type": "code",
   "execution_count": 84,
   "metadata": {},
   "outputs": [
    {
     "data": {
      "text/plain": [
       "0.514367442465219"
      ]
     },
     "execution_count": 84,
     "metadata": {},
     "output_type": "execute_result"
    }
   ],
   "source": [
    "recall_score(y_true, y_pred)"
   ]
  },
  {
   "cell_type": "code",
   "execution_count": 85,
   "metadata": {},
   "outputs": [
    {
     "data": {
      "text/plain": [
       "0.514367442465219"
      ]
     },
     "execution_count": 85,
     "metadata": {},
     "output_type": "execute_result"
    }
   ],
   "source": [
    "# Sanity check\n",
    "df_test_classes[df_test_classes.y_true==True].y_pred.mean()"
   ]
  },
  {
   "cell_type": "code",
   "execution_count": 86,
   "metadata": {},
   "outputs": [
    {
     "data": {
      "text/plain": [
       "SubjectRaceCode\n",
       "A    0.522727\n",
       "B    0.491341\n",
       "I    0.547619\n",
       "W    0.522480\n",
       "Name: y_pred, dtype: float64"
      ]
     },
     "execution_count": 86,
     "metadata": {},
     "output_type": "execute_result"
    }
   ],
   "source": [
    "df_test_classes[df_test_classes.y_true==True].groupby('SubjectRaceCode').y_pred.mean()"
   ]
  },
  {
   "cell_type": "code",
   "execution_count": 87,
   "metadata": {},
   "outputs": [
    {
     "data": {
      "text/plain": [
       "SubjectEthnicityCode\n",
       "H    0.497281\n",
       "M    0.318471\n",
       "N    0.520964\n",
       "Name: y_pred, dtype: float64"
      ]
     },
     "execution_count": 87,
     "metadata": {},
     "output_type": "execute_result"
    }
   ],
   "source": [
    "df_test_classes[df_test_classes.y_true==True].groupby('SubjectEthnicityCode').y_pred.mean()"
   ]
  },
  {
   "cell_type": "code",
   "execution_count": 88,
   "metadata": {},
   "outputs": [
    {
     "data": {
      "text/plain": [
       "SubjectSexCode\n",
       "F    0.534066\n",
       "M    0.510117\n",
       "Name: y_pred, dtype: float64"
      ]
     },
     "execution_count": 88,
     "metadata": {},
     "output_type": "execute_result"
    }
   ],
   "source": [
    "df_test_classes[df_test_classes.y_true==True].groupby('SubjectSexCode').y_pred.mean()"
   ]
  },
  {
   "cell_type": "code",
   "execution_count": null,
   "metadata": {},
   "outputs": [],
   "source": []
  },
  {
   "cell_type": "code",
   "execution_count": null,
   "metadata": {},
   "outputs": [],
   "source": []
  },
  {
   "cell_type": "code",
   "execution_count": null,
   "metadata": {},
   "outputs": [],
   "source": []
  },
  {
   "cell_type": "code",
   "execution_count": null,
   "metadata": {},
   "outputs": [],
   "source": []
  },
  {
   "cell_type": "code",
   "execution_count": null,
   "metadata": {},
   "outputs": [],
   "source": []
  },
  {
   "cell_type": "code",
   "execution_count": null,
   "metadata": {},
   "outputs": [],
   "source": []
  },
  {
   "cell_type": "code",
   "execution_count": null,
   "metadata": {},
   "outputs": [],
   "source": []
  },
  {
   "cell_type": "code",
   "execution_count": null,
   "metadata": {},
   "outputs": [],
   "source": []
  },
  {
   "cell_type": "code",
   "execution_count": null,
   "metadata": {},
   "outputs": [],
   "source": []
  },
  {
   "cell_type": "code",
   "execution_count": null,
   "metadata": {},
   "outputs": [],
   "source": []
  },
  {
   "cell_type": "code",
   "execution_count": null,
   "metadata": {},
   "outputs": [],
   "source": []
  },
  {
   "cell_type": "code",
   "execution_count": null,
   "metadata": {},
   "outputs": [],
   "source": []
  },
  {
   "cell_type": "code",
   "execution_count": 89,
   "metadata": {},
   "outputs": [
    {
     "data": {
      "text/plain": [
       "<pandas.core.groupby.groupby.DataFrameGroupBy object at 0x00000008910383C8>"
      ]
     },
     "execution_count": 89,
     "metadata": {},
     "output_type": "execute_result"
    }
   ],
   "source": [
    "df_test_classes.groupby('SubjectRaceCode')[['y_true', 'y_pred']]"
   ]
  },
  {
   "cell_type": "code",
   "execution_count": 90,
   "metadata": {},
   "outputs": [
    {
     "data": {
      "text/plain": [
       "<pandas.core.groupby.groupby.DataFrameGroupBy object at 0x0000000890D09F28>"
      ]
     },
     "execution_count": 90,
     "metadata": {},
     "output_type": "execute_result"
    }
   ],
   "source": [
    "df_test_classes.groupby(['SubjectRaceCode','y_true', 'y_pred'])[['y_true', 'y_pred']]"
   ]
  },
  {
   "cell_type": "code",
   "execution_count": null,
   "metadata": {},
   "outputs": [],
   "source": []
  },
  {
   "cell_type": "code",
   "execution_count": 91,
   "metadata": {},
   "outputs": [
    {
     "data": {
      "text/plain": [
       "SubjectRaceCode  y_true  y_pred\n",
       "A                False   False       180\n",
       "                         True         38\n",
       "                 True    False        42\n",
       "                         True         46\n",
       "B                False   False      7856\n",
       "                         True       1637\n",
       "                 True    False      2056\n",
       "                         True       1986\n",
       "I                False   False        79\n",
       "                         True         12\n",
       "                 True    False        19\n",
       "                         True         23\n",
       "W                False   False     17271\n",
       "                         True       3591\n",
       "                 True    False      5353\n",
       "                         True       5857\n",
       "Name: SubjectRaceCode, dtype: int64"
      ]
     },
     "execution_count": 91,
     "metadata": {},
     "output_type": "execute_result"
    }
   ],
   "source": [
    "test_race_results"
   ]
  },
  {
   "cell_type": "code",
   "execution_count": 92,
   "metadata": {},
   "outputs": [
    {
     "data": {
      "text/plain": [
       "SubjectRaceCode  y_true\n",
       "A                False       38\n",
       "                 True        46\n",
       "B                False     1637\n",
       "                 True      1986\n",
       "I                False       12\n",
       "                 True        23\n",
       "W                False     3591\n",
       "                 True      5857\n",
       "Name: SubjectRaceCode, dtype: int64"
      ]
     },
     "execution_count": 92,
     "metadata": {},
     "output_type": "execute_result"
    }
   ],
   "source": [
    "test_race_results.loc[:,:,True]"
   ]
  },
  {
   "cell_type": "code",
   "execution_count": null,
   "metadata": {},
   "outputs": [],
   "source": []
  },
  {
   "cell_type": "markdown",
   "metadata": {},
   "source": [
    "### Precision by class"
   ]
  },
  {
   "cell_type": "code",
   "execution_count": 93,
   "metadata": {
    "scrolled": true
   },
   "outputs": [
    {
     "data": {
      "text/plain": [
       "SubjectRaceCode  y_true  y_pred\n",
       "A                False   False       180\n",
       "                         True         38\n",
       "                 True    False        42\n",
       "                         True         46\n",
       "B                False   False      7856\n",
       "                         True       1637\n",
       "                 True    False      2056\n",
       "                         True       1986\n",
       "I                False   False        79\n",
       "                         True         12\n",
       "                 True    False        19\n",
       "                         True         23\n",
       "W                False   False     17271\n",
       "                         True       3591\n",
       "                 True    False      5353\n",
       "                         True       5857\n",
       "Name: SubjectRaceCode, dtype: int64"
      ]
     },
     "execution_count": 93,
     "metadata": {},
     "output_type": "execute_result"
    }
   ],
   "source": [
    "test_race_results = df_test_classes.groupby(['SubjectRaceCode','y_true', 'y_pred']).SubjectRaceCode.count()\n",
    "test_race_results"
   ]
  },
  {
   "cell_type": "code",
   "execution_count": 94,
   "metadata": {},
   "outputs": [
    {
     "data": {
      "text/plain": [
       "SubjectRaceCode  y_pred\n",
       "A                False       180\n",
       "                 True         38\n",
       "B                False      7856\n",
       "                 True       1637\n",
       "I                False        79\n",
       "                 True         12\n",
       "W                False     17271\n",
       "                 True       3591\n",
       "Name: SubjectRaceCode, dtype: int64"
      ]
     },
     "execution_count": 94,
     "metadata": {},
     "output_type": "execute_result"
    }
   ],
   "source": [
    "test_race_results.loc[:,False,:]"
   ]
  },
  {
   "cell_type": "code",
   "execution_count": 95,
   "metadata": {},
   "outputs": [
    {
     "ename": "NameError",
     "evalue": "name 'df_test_race' is not defined",
     "output_type": "error",
     "traceback": [
      "\u001b[1;31m---------------------------------------------------------------------------\u001b[0m",
      "\u001b[1;31mNameError\u001b[0m                                 Traceback (most recent call last)",
      "\u001b[1;32m<ipython-input-95-28a0e77aca76>\u001b[0m in \u001b[0;36m<module>\u001b[1;34m\u001b[0m\n\u001b[0;32m      1\u001b[0m \u001b[1;31m# sanity check\u001b[0m\u001b[1;33m\u001b[0m\u001b[1;33m\u001b[0m\u001b[1;33m\u001b[0m\u001b[0m\n\u001b[1;32m----> 2\u001b[1;33m \u001b[0mdf_test_race\u001b[0m\u001b[1;33m.\u001b[0m\u001b[0my_true\u001b[0m\u001b[1;33m.\u001b[0m\u001b[0msum\u001b[0m\u001b[1;33m(\u001b[0m\u001b[1;33m)\u001b[0m \u001b[1;33m==\u001b[0m \u001b[0my_test\u001b[0m\u001b[1;33m.\u001b[0m\u001b[0msum\u001b[0m\u001b[1;33m(\u001b[0m\u001b[1;33m)\u001b[0m \u001b[1;32mand\u001b[0m \u001b[0mdf_test_race\u001b[0m\u001b[1;33m.\u001b[0m\u001b[0my_pred\u001b[0m\u001b[1;33m.\u001b[0m\u001b[0msum\u001b[0m\u001b[1;33m(\u001b[0m\u001b[1;33m)\u001b[0m \u001b[1;33m==\u001b[0m \u001b[0my_pred\u001b[0m\u001b[1;33m.\u001b[0m\u001b[0msum\u001b[0m\u001b[1;33m(\u001b[0m\u001b[1;33m)\u001b[0m\u001b[1;33m\u001b[0m\u001b[1;33m\u001b[0m\u001b[0m\n\u001b[0m",
      "\u001b[1;31mNameError\u001b[0m: name 'df_test_race' is not defined"
     ]
    }
   ],
   "source": [
    "# sanity check\n",
    "df_test_race.y_true.sum() == y_test.sum() and df_test_race.y_pred.sum() == y_pred.sum()"
   ]
  },
  {
   "cell_type": "code",
   "execution_count": null,
   "metadata": {},
   "outputs": [],
   "source": [
    "df_test_race.y_true.sum()"
   ]
  },
  {
   "cell_type": "code",
   "execution_count": null,
   "metadata": {},
   "outputs": [],
   "source": [
    "y_test.sum()"
   ]
  },
  {
   "cell_type": "code",
   "execution_count": null,
   "metadata": {},
   "outputs": [],
   "source": []
  },
  {
   "cell_type": "code",
   "execution_count": null,
   "metadata": {},
   "outputs": [],
   "source": []
  },
  {
   "cell_type": "code",
   "execution_count": null,
   "metadata": {},
   "outputs": [],
   "source": []
  },
  {
   "cell_type": "code",
   "execution_count": null,
   "metadata": {},
   "outputs": [],
   "source": [
    "recall = recall_score(y_test, y_pred)\n",
    "recall"
   ]
  },
  {
   "cell_type": "code",
   "execution_count": null,
   "metadata": {
    "scrolled": true
   },
   "outputs": [],
   "source": [
    "df_test_classes = pd.DataFrame({X_test.SubjectRaceCode.name: X_test.SubjectRaceCode, \n",
    "                                X_test.SubjectEthnicityCode.name: X_test.SubjectEthnicityCode, \n",
    "                                X_test.SubjectSexCode.name: X_test.SubjectSexCode, \n",
    "                                'y_true': y_test ,\n",
    "                                'y_pred': y_pred})\n",
    "df_test_classes"
   ]
  },
  {
   "cell_type": "code",
   "execution_count": null,
   "metadata": {},
   "outputs": [],
   "source": []
  },
  {
   "cell_type": "code",
   "execution_count": null,
   "metadata": {},
   "outputs": [],
   "source": []
  },
  {
   "cell_type": "code",
   "execution_count": null,
   "metadata": {},
   "outputs": [],
   "source": []
  },
  {
   "cell_type": "code",
   "execution_count": null,
   "metadata": {},
   "outputs": [],
   "source": []
  },
  {
   "cell_type": "code",
   "execution_count": null,
   "metadata": {},
   "outputs": [],
   "source": []
  },
  {
   "cell_type": "code",
   "execution_count": null,
   "metadata": {},
   "outputs": [],
   "source": []
  },
  {
   "cell_type": "code",
   "execution_count": null,
   "metadata": {},
   "outputs": [],
   "source": []
  },
  {
   "cell_type": "code",
   "execution_count": null,
   "metadata": {},
   "outputs": [],
   "source": [
    "5278/(5278+7912)"
   ]
  },
  {
   "cell_type": "code",
   "execution_count": null,
   "metadata": {},
   "outputs": [],
   "source": [
    "confusion_matrix(y_test, y_pred)"
   ]
  },
  {
   "cell_type": "code",
   "execution_count": null,
   "metadata": {},
   "outputs": [],
   "source": []
  },
  {
   "cell_type": "code",
   "execution_count": null,
   "metadata": {},
   "outputs": [],
   "source": []
  },
  {
   "cell_type": "code",
   "execution_count": null,
   "metadata": {},
   "outputs": [],
   "source": []
  },
  {
   "cell_type": "code",
   "execution_count": null,
   "metadata": {},
   "outputs": [],
   "source": []
  },
  {
   "cell_type": "code",
   "execution_count": null,
   "metadata": {},
   "outputs": [],
   "source": []
  },
  {
   "cell_type": "code",
   "execution_count": null,
   "metadata": {},
   "outputs": [],
   "source": []
  },
  {
   "cell_type": "code",
   "execution_count": null,
   "metadata": {},
   "outputs": [],
   "source": []
  }
 ],
 "metadata": {
  "kernelspec": {
   "display_name": "Python 3",
   "language": "python",
   "name": "python3"
  },
  "language_info": {
   "codemirror_mode": {
    "name": "ipython",
    "version": 3
   },
   "file_extension": ".py",
   "mimetype": "text/x-python",
   "name": "python",
   "nbconvert_exporter": "python",
   "pygments_lexer": "ipython3",
   "version": "3.8.3"
  }
 },
 "nbformat": 4,
 "nbformat_minor": 2
}
