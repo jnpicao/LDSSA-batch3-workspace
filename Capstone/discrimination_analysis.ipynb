{
 "cells": [
  {
   "cell_type": "code",
   "execution_count": 1,
   "metadata": {},
   "outputs": [],
   "source": [
    "# Operating System\n",
    "import os\n",
    "\n",
    "import pandas as pd\n",
    "import numpy as np\n",
    "\n",
    "import random\n",
    "\n",
    "import matplotlib.pyplot as plt\n",
    "%matplotlib inline\n",
    "\n",
    "# Strings\n",
    "import re"
   ]
  },
  {
   "cell_type": "markdown",
   "metadata": {},
   "source": [
    "# Load original data"
   ]
  },
  {
   "cell_type": "code",
   "execution_count": 2,
   "metadata": {},
   "outputs": [],
   "source": [
    "#file_path = \".\\data\\train.csv\"\n",
    "file_path = os.path.join('data', 'train.csv')\n",
    "\n",
    "\n",
    "# # Option 1 for reading a sample of the file\n",
    "# n_total_rows = 2437645\n",
    "# prc_rows_to_read = 10\n",
    "# n_rows_to_read = int(prc_rows_to_read/100*n_total_rows)\n",
    "# n_rows_to_skip = n_total_rows - n_rows_to_read\n",
    "\n",
    "# random.seed(178) # this is to get always the same sample. can be removed if we want the sample to change\n",
    "# list_of_rows_to_skip = random.sample(\n",
    "#     range(1, n_total_rows-1), # this is a range from the first row after the header, to the last row on the file\n",
    "#     n_rows_to_skip # this is the number of rows we want to sample, i.e, to skip\n",
    "# )\n",
    "\n",
    "\n",
    "# Option 2 for reading a sample of the file\n",
    "# sample 10% of the rows\n",
    "p = 1\n",
    "\n",
    "try:\n",
    "    df_original = pd.read_csv(file_path, \n",
    "                             skiprows = lambda row_num: random.random() > p and row_num > 0, \n",
    "                             #nrows = 10000, \n",
    "                             header=0,\n",
    "                             warn_bad_lines=True)\n",
    "except:\n",
    "    print('Ooops!!! We got an error!')\n"
   ]
  },
  {
   "cell_type": "markdown",
   "metadata": {},
   "source": [
    "# Transform data to analysis"
   ]
  },
  {
   "cell_type": "code",
   "execution_count": 3,
   "metadata": {
    "scrolled": false
   },
   "outputs": [],
   "source": [
    "remane_columns_dict = {'VehicleSearchedIndicator': 'search', \n",
    "                       'ContrabandIndicator': 'target', \n",
    "                       'Department Name': 'departm',\n",
    "                       'InterventionDateTime': 'date',\n",
    "                       'InterventionLocationName': 'local',\n",
    "                       'InterventionReasonCode': 'reason',\n",
    "                       'ReportingOfficerIdentificationID': 'officerID',\n",
    "                       'ResidentIndicator': 'state_res',\n",
    "                       'SearchAuthorizationCode': 'search_reason',\n",
    "                       'StatuteReason': 'stop_reason',\n",
    "                       'SubjectAge': 'age',\n",
    "                       'SubjectEthnicityCode': 'ethnic',\n",
    "                       'SubjectRaceCode': 'race',\n",
    "                       'SubjectSexCode': 'sex',\n",
    "                       'TownResidentIndicator': 'town_res'\n",
    "                      }"
   ]
  },
  {
   "cell_type": "code",
   "execution_count": 4,
   "metadata": {},
   "outputs": [],
   "source": [
    "def simple_clean(doc, regex_list=[(\"[\\.\\?\\(\\)\\|:;_!@/*\\-]\", \" \"), (\" +\", \" \")] ):\n",
    "    \n",
    "    # Make sure it is a string!\n",
    "    doc = str(doc)\n",
    "    \n",
    "    # remove or replace characters\n",
    "    for regex in regex_list:\n",
    "        doc = re.sub(regex[0], regex[1], doc)\n",
    "    # lowercase\n",
    "    doc = doc.lower()\n",
    "    # Trim\n",
    "    doc = doc.strip()\n",
    "    # tokenize\n",
    "    #words = tokenizer.tokenize(doc)\n",
    "    # remove punctuation\n",
    "    #words = list(filter(lambda x: x not in string.punctuation, words))\n",
    "    # stem\n",
    "    #stems = list(map(stemmer.stem, words))\n",
    "    #new_doc = \" \".join(stems)\n",
    "    new_doc = doc\n",
    "    return new_doc"
   ]
  },
  {
   "cell_type": "code",
   "execution_count": 5,
   "metadata": {
    "scrolled": true
   },
   "outputs": [
    {
     "name": "stdout",
     "output_type": "stream",
     "text": [
      "<class 'pandas.core.frame.DataFrame'>\n",
      "RangeIndex: 2473643 entries, 0 to 2473642\n",
      "Data columns (total 15 columns):\n",
      "search           bool\n",
      "target           bool\n",
      "departm          object\n",
      "date             datetime64[ns]\n",
      "local            object\n",
      "reason           object\n",
      "officerID        object\n",
      "state_res        bool\n",
      "search_reason    object\n",
      "stop_reason      object\n",
      "age              float64\n",
      "ethnic           object\n",
      "race             object\n",
      "sex              object\n",
      "town_res         bool\n",
      "dtypes: bool(4), datetime64[ns](1), float64(1), object(9)\n",
      "memory usage: 217.0+ MB\n"
     ]
    }
   ],
   "source": [
    "def data_transformer(df_original: pd.DataFrame, columns_dict: dict) -> pd.DataFrame:\n",
    "    \"\"\"Transforms the original DataFrame to make it suited for data analysis.\n",
    "    \n",
    "    Args:\n",
    "        df_original (pd.DataFrame):  Original DataFrame, as imported by pd.read_csv().\n",
    "        columns_dict (dict): Correspondence between old a new column names.\n",
    "        \n",
    "    Returns:\n",
    "        df (pd.DataFrame): Transformed DataFrame, ready for data analysis.\n",
    "        \n",
    "    TODO:\n",
    "        * to do list\n",
    "        \n",
    "    \"\"\"\n",
    "    \n",
    "    df = df_original.copy()\n",
    "    \n",
    "    # change column names\n",
    "    df = df.rename(columns = columns_dict)\n",
    "    \n",
    "    # convert date to pd.datetime\n",
    "    df.date = pd.to_datetime(df.date)\n",
    "    \n",
    "    # convert Intervention DateTime to index of the DataFrame\n",
    "    #df = df.set_index('date').sort_index()\n",
    "    \n",
    "    # Clean strings from special characters and multiple spaces\n",
    "    df.local = df.local.apply(simple_clean)\n",
    "    df.departm = df.departm.apply(simple_clean)\n",
    "    df.stop_reason = df.stop_reason.apply(simple_clean)\n",
    "   \n",
    "    return df\n",
    "\n",
    "df = data_transformer(df_original, remane_columns_dict)\n",
    "df.info()"
   ]
  },
  {
   "cell_type": "markdown",
   "metadata": {},
   "source": [
    "### Useful variables"
   ]
  },
  {
   "cell_type": "code",
   "execution_count": 42,
   "metadata": {},
   "outputs": [
    {
     "data": {
      "text/html": [
       "<div>\n",
       "<style scoped>\n",
       "    .dataframe tbody tr th:only-of-type {\n",
       "        vertical-align: middle;\n",
       "    }\n",
       "\n",
       "    .dataframe tbody tr th {\n",
       "        vertical-align: top;\n",
       "    }\n",
       "\n",
       "    .dataframe thead th {\n",
       "        text-align: right;\n",
       "    }\n",
       "</style>\n",
       "<table border=\"1\" class=\"dataframe\">\n",
       "  <thead>\n",
       "    <tr style=\"text-align: right;\">\n",
       "      <th></th>\n",
       "      <th>index</th>\n",
       "      <th>search</th>\n",
       "      <th>target</th>\n",
       "      <th>departm</th>\n",
       "      <th>date</th>\n",
       "      <th>local</th>\n",
       "      <th>reason</th>\n",
       "      <th>officerID</th>\n",
       "      <th>state_res</th>\n",
       "      <th>search_reason</th>\n",
       "      <th>stop_reason</th>\n",
       "      <th>age</th>\n",
       "      <th>ethnic</th>\n",
       "      <th>race</th>\n",
       "      <th>sex</th>\n",
       "      <th>town_res</th>\n",
       "    </tr>\n",
       "  </thead>\n",
       "  <tbody>\n",
       "    <tr>\n",
       "      <th>2218</th>\n",
       "      <td>72795</td>\n",
       "      <td>True</td>\n",
       "      <td>True</td>\n",
       "      <td>waterbury</td>\n",
       "      <td>2013-11-21 11:45:00</td>\n",
       "      <td>waterbury</td>\n",
       "      <td>I</td>\n",
       "      <td>2290</td>\n",
       "      <td>True</td>\n",
       "      <td>O</td>\n",
       "      <td>moving violation</td>\n",
       "      <td>28.0</td>\n",
       "      <td>N</td>\n",
       "      <td>W</td>\n",
       "      <td>F</td>\n",
       "      <td>False</td>\n",
       "    </tr>\n",
       "    <tr>\n",
       "      <th>53602</th>\n",
       "      <td>1742163</td>\n",
       "      <td>True</td>\n",
       "      <td>False</td>\n",
       "      <td>new haven</td>\n",
       "      <td>2017-05-15 16:09:00</td>\n",
       "      <td>new haven</td>\n",
       "      <td>V</td>\n",
       "      <td>6569</td>\n",
       "      <td>True</td>\n",
       "      <td>C</td>\n",
       "      <td>other</td>\n",
       "      <td>32.0</td>\n",
       "      <td>N</td>\n",
       "      <td>B</td>\n",
       "      <td>M</td>\n",
       "      <td>True</td>\n",
       "    </tr>\n",
       "    <tr>\n",
       "      <th>45054</th>\n",
       "      <td>1502648</td>\n",
       "      <td>True</td>\n",
       "      <td>True</td>\n",
       "      <td>west hartford</td>\n",
       "      <td>2016-12-04 21:54:00</td>\n",
       "      <td>west hartford</td>\n",
       "      <td>V</td>\n",
       "      <td>1000002165</td>\n",
       "      <td>True</td>\n",
       "      <td>O</td>\n",
       "      <td>stc violation</td>\n",
       "      <td>23.0</td>\n",
       "      <td>N</td>\n",
       "      <td>B</td>\n",
       "      <td>M</td>\n",
       "      <td>False</td>\n",
       "    </tr>\n",
       "    <tr>\n",
       "      <th>29299</th>\n",
       "      <td>968519</td>\n",
       "      <td>True</td>\n",
       "      <td>False</td>\n",
       "      <td>west haven</td>\n",
       "      <td>2015-12-20 00:34:41</td>\n",
       "      <td>west haven</td>\n",
       "      <td>E</td>\n",
       "      <td>1000324</td>\n",
       "      <td>True</td>\n",
       "      <td>C</td>\n",
       "      <td>window tint</td>\n",
       "      <td>32.0</td>\n",
       "      <td>H</td>\n",
       "      <td>W</td>\n",
       "      <td>M</td>\n",
       "      <td>False</td>\n",
       "    </tr>\n",
       "    <tr>\n",
       "      <th>13233</th>\n",
       "      <td>443368</td>\n",
       "      <td>True</td>\n",
       "      <td>False</td>\n",
       "      <td>new haven</td>\n",
       "      <td>2014-07-08 18:00:00</td>\n",
       "      <td>new haven</td>\n",
       "      <td>V</td>\n",
       "      <td>PSC45169</td>\n",
       "      <td>True</td>\n",
       "      <td>C</td>\n",
       "      <td>registration</td>\n",
       "      <td>28.0</td>\n",
       "      <td>N</td>\n",
       "      <td>B</td>\n",
       "      <td>M</td>\n",
       "      <td>True</td>\n",
       "    </tr>\n",
       "  </tbody>\n",
       "</table>\n",
       "</div>"
      ],
      "text/plain": [
       "         index  search  target        departm                date  \\\n",
       "2218     72795    True    True      waterbury 2013-11-21 11:45:00   \n",
       "53602  1742163    True   False      new haven 2017-05-15 16:09:00   \n",
       "45054  1502648    True    True  west hartford 2016-12-04 21:54:00   \n",
       "29299   968519    True   False     west haven 2015-12-20 00:34:41   \n",
       "13233   443368    True   False      new haven 2014-07-08 18:00:00   \n",
       "\n",
       "               local reason   officerID  state_res search_reason  \\\n",
       "2218       waterbury      I        2290       True             O   \n",
       "53602      new haven      V        6569       True             C   \n",
       "45054  west hartford      V  1000002165       True             O   \n",
       "29299     west haven      E     1000324       True             C   \n",
       "13233      new haven      V    PSC45169       True             C   \n",
       "\n",
       "            stop_reason   age ethnic race sex  town_res  \n",
       "2218   moving violation  28.0      N    W   F     False  \n",
       "53602             other  32.0      N    B   M      True  \n",
       "45054     stc violation  23.0      N    B   M     False  \n",
       "29299       window tint  32.0      H    W   M     False  \n",
       "13233      registration  28.0      N    B   M      True  "
      ]
     },
     "execution_count": 42,
     "metadata": {},
     "output_type": "execute_result"
    }
   ],
   "source": [
    "dfs = df[df.search==True].reset_index()\n",
    "dfs.sample(5)"
   ]
  },
  {
   "cell_type": "code",
   "execution_count": 6,
   "metadata": {},
   "outputs": [],
   "source": [
    "nobs = df.shape[0]"
   ]
  },
  {
   "cell_type": "code",
   "execution_count": 7,
   "metadata": {},
   "outputs": [],
   "source": [
    "nsearch = df[df.search==True].shape[0]"
   ]
  },
  {
   "cell_type": "code",
   "execution_count": 43,
   "metadata": {},
   "outputs": [
    {
     "data": {
      "text/plain": [
       "0.3325124115554513"
      ]
     },
     "execution_count": 43,
     "metadata": {},
     "output_type": "execute_result"
    }
   ],
   "source": [
    "target_global_mean = dfs.target.mean()\n",
    "target_global_mean"
   ]
  },
  {
   "cell_type": "code",
   "execution_count": 8,
   "metadata": {
    "scrolled": true
   },
   "outputs": [
    {
     "name": "stdout",
     "output_type": "stream",
     "text": [
      "Number of car stops: 2 473 643\n"
     ]
    }
   ],
   "source": [
    "print(\"Number of car stops: {:,d}\".format(df.shape[0]).replace(',', ' '))\n"
   ]
  },
  {
   "cell_type": "markdown",
   "metadata": {},
   "source": [
    "# 'SubjectEthnicityCode': 'ethnic'"
   ]
  },
  {
   "cell_type": "code",
   "execution_count": 9,
   "metadata": {
    "scrolled": true
   },
   "outputs": [
    {
     "data": {
      "text/plain": [
       "N    2099632\n",
       "H     328450\n",
       "M      45561\n",
       "Name: ethnic, dtype: int64"
      ]
     },
     "execution_count": 9,
     "metadata": {},
     "output_type": "execute_result"
    }
   ],
   "source": [
    "df.ethnic.value_counts(dropna=False)"
   ]
  },
  {
   "cell_type": "code",
   "execution_count": 10,
   "metadata": {
    "scrolled": true
   },
   "outputs": [
    {
     "data": {
      "text/plain": [
       "True"
      ]
     },
     "execution_count": 10,
     "metadata": {},
     "output_type": "execute_result"
    }
   ],
   "source": [
    "df.ethnic.value_counts(dropna=False).sum() == nobs"
   ]
  },
  {
   "cell_type": "code",
   "execution_count": 11,
   "metadata": {
    "scrolled": false
   },
   "outputs": [
    {
     "data": {
      "text/plain": [
       "N    84.880154\n",
       "H    13.277987\n",
       "M     1.841858\n",
       "Name: ethnic, dtype: float64"
      ]
     },
     "execution_count": 11,
     "metadata": {},
     "output_type": "execute_result"
    }
   ],
   "source": [
    "df.ethnic.value_counts(normalize=True, dropna=False).apply(lambda x: x*100)"
   ]
  },
  {
   "cell_type": "code",
   "execution_count": 12,
   "metadata": {},
   "outputs": [
    {
     "data": {
      "image/png": "[encoded data removed]",
      "text/plain": [
       "<Figure size 432x288 with 1 Axes>"
      ]
     },
     "metadata": {
      "needs_background": "light"
     },
     "output_type": "display_data"
    }
   ],
   "source": [
    "df.ethnic.value_counts(normalize=True, dropna=False).plot.bar();"
   ]
  },
  {
   "cell_type": "markdown",
   "metadata": {},
   "source": [
    "# 'SubjectRaceCode': 'race'"
   ]
  },
  {
   "cell_type": "code",
   "execution_count": 13,
   "metadata": {},
   "outputs": [
    {
     "data": {
      "text/plain": [
       "W    2018931\n",
       "B     386325\n",
       "A      48641\n",
       "I      19746\n",
       "Name: race, dtype: int64"
      ]
     },
     "execution_count": 13,
     "metadata": {},
     "output_type": "execute_result"
    }
   ],
   "source": [
    "df.race.value_counts(dropna=False)"
   ]
  },
  {
   "cell_type": "code",
   "execution_count": 14,
   "metadata": {},
   "outputs": [
    {
     "data": {
      "text/plain": [
       "True"
      ]
     },
     "execution_count": 14,
     "metadata": {},
     "output_type": "execute_result"
    }
   ],
   "source": [
    "df.race.value_counts(dropna=False).sum() == nobs"
   ]
  },
  {
   "cell_type": "code",
   "execution_count": 15,
   "metadata": {
    "scrolled": true
   },
   "outputs": [
    {
     "data": {
      "text/plain": [
       "W    81.617719\n",
       "B    15.617654\n",
       "A     1.966371\n",
       "I     0.798256\n",
       "Name: race, dtype: float64"
      ]
     },
     "execution_count": 15,
     "metadata": {},
     "output_type": "execute_result"
    }
   ],
   "source": [
    "df.race.value_counts(normalize=True, dropna=False)*100"
   ]
  },
  {
   "cell_type": "code",
   "execution_count": 16,
   "metadata": {
    "scrolled": true
   },
   "outputs": [
    {
     "data": {
      "text/plain": [
       "0"
      ]
     },
     "execution_count": 16,
     "metadata": {},
     "output_type": "execute_result"
    }
   ],
   "source": [
    "df.race.isna().sum()"
   ]
  },
  {
   "cell_type": "code",
   "execution_count": 17,
   "metadata": {
    "scrolled": false
   },
   "outputs": [
    {
     "data": {
      "image/png": "[encoded data removed]",
      "text/plain": [
       "<Figure size 432x288 with 1 Axes>"
      ]
     },
     "metadata": {
      "needs_background": "light"
     },
     "output_type": "display_data"
    }
   ],
   "source": [
    "df.race.value_counts(normalize=True, dropna=False).plot.bar();"
   ]
  },
  {
   "cell_type": "code",
   "execution_count": 18,
   "metadata": {},
   "outputs": [
    {
     "data": {
      "image/png": "[encoded data removed]",
      "text/plain": [
       "<Figure size 432x288 with 1 Axes>"
      ]
     },
     "metadata": {
      "needs_background": "light"
     },
     "output_type": "display_data"
    }
   ],
   "source": [
    "(df.groupby('race')[['search']].count()\n",
    "                               .apply(lambda x: 100*x/x.sum(), axis=0)\n",
    "                               .sort_values(by='search',ascending=False)\n",
    "                               .plot.bar());"
   ]
  },
  {
   "cell_type": "code",
   "execution_count": 19,
   "metadata": {
    "scrolled": false
   },
   "outputs": [
    {
     "data": {
      "image/png": "[encoded data removed]",
      "text/plain": [
       "<Figure size 432x288 with 1 Axes>"
      ]
     },
     "metadata": {
      "needs_background": "light"
     },
     "output_type": "display_data"
    }
   ],
   "source": [
    "df[df.search==True].race.value_counts(normalize=True, dropna=False).plot.bar();"
   ]
  },
  {
   "cell_type": "code",
   "execution_count": 20,
   "metadata": {},
   "outputs": [
    {
     "data": {
      "text/plain": [
       "array(['W', 'B', 'A', 'I'], dtype=object)"
      ]
     },
     "execution_count": 20,
     "metadata": {},
     "output_type": "execute_result"
    }
   ],
   "source": [
    "x = df.race.value_counts(normalize=True, dropna=False).index.values\n",
    "x"
   ]
  },
  {
   "cell_type": "code",
   "execution_count": 21,
   "metadata": {},
   "outputs": [
    {
     "data": {
      "text/plain": [
       "array([81.61771929, 15.6176538 ,  1.96637106,  0.79825585])"
      ]
     },
     "execution_count": 21,
     "metadata": {},
     "output_type": "execute_result"
    }
   ],
   "source": [
    "y1 = df.race.value_counts(normalize=True, dropna=False).values*100\n",
    "y1"
   ]
  },
  {
   "cell_type": "code",
   "execution_count": 22,
   "metadata": {},
   "outputs": [
    {
     "data": {
      "text/plain": [
       "array([69.74447181, 29.31993797,  0.64891912,  0.2866711 ])"
      ]
     },
     "execution_count": 22,
     "metadata": {},
     "output_type": "execute_result"
    }
   ],
   "source": [
    "y2 = df[df.search==True].race.value_counts(normalize=True, dropna=False).values*100\n",
    "y2"
   ]
  },
  {
   "cell_type": "code",
   "execution_count": 23,
   "metadata": {
    "scrolled": true
   },
   "outputs": [
    {
     "data": {
      "text/plain": [
       "<BarContainer object of 4 artists>"
      ]
     },
     "execution_count": 23,
     "metadata": {},
     "output_type": "execute_result"
    },
    {
     "data": {
      "image/png": "[encoded data removed]",
      "text/plain": [
       "<Figure size 432x288 with 1 Axes>"
      ]
     },
     "metadata": {
      "needs_background": "light"
     },
     "output_type": "display_data"
    }
   ],
   "source": [
    "plt.bar(x, y1)"
   ]
  },
  {
   "cell_type": "code",
   "execution_count": 24,
   "metadata": {
    "scrolled": true
   },
   "outputs": [
    {
     "data": {
      "text/html": [
       "<div>\n",
       "<style scoped>\n",
       "    .dataframe tbody tr th:only-of-type {\n",
       "        vertical-align: middle;\n",
       "    }\n",
       "\n",
       "    .dataframe tbody tr th {\n",
       "        vertical-align: top;\n",
       "    }\n",
       "\n",
       "    .dataframe thead th {\n",
       "        text-align: right;\n",
       "    }\n",
       "</style>\n",
       "<table border=\"1\" class=\"dataframe\">\n",
       "  <thead>\n",
       "    <tr style=\"text-align: right;\">\n",
       "      <th></th>\n",
       "      <th>count</th>\n",
       "      <th>sum</th>\n",
       "    </tr>\n",
       "    <tr>\n",
       "      <th>race</th>\n",
       "      <th></th>\n",
       "      <th></th>\n",
       "    </tr>\n",
       "  </thead>\n",
       "  <tbody>\n",
       "    <tr>\n",
       "      <th>A</th>\n",
       "      <td>48641</td>\n",
       "      <td>498.0</td>\n",
       "    </tr>\n",
       "    <tr>\n",
       "      <th>B</th>\n",
       "      <td>386325</td>\n",
       "      <td>22501.0</td>\n",
       "    </tr>\n",
       "    <tr>\n",
       "      <th>I</th>\n",
       "      <td>19746</td>\n",
       "      <td>220.0</td>\n",
       "    </tr>\n",
       "    <tr>\n",
       "      <th>W</th>\n",
       "      <td>2018931</td>\n",
       "      <td>53524.0</td>\n",
       "    </tr>\n",
       "  </tbody>\n",
       "</table>\n",
       "</div>"
      ],
      "text/plain": [
       "        count      sum\n",
       "race                  \n",
       "A       48641    498.0\n",
       "B      386325  22501.0\n",
       "I       19746    220.0\n",
       "W     2018931  53524.0"
      ]
     },
     "execution_count": 24,
     "metadata": {},
     "output_type": "execute_result"
    }
   ],
   "source": [
    "df.groupby('race').search.agg(['count','sum'])"
   ]
  },
  {
   "cell_type": "code",
   "execution_count": null,
   "metadata": {},
   "outputs": [],
   "source": []
  },
  {
   "cell_type": "code",
   "execution_count": null,
   "metadata": {},
   "outputs": [],
   "source": []
  },
  {
   "cell_type": "code",
   "execution_count": null,
   "metadata": {},
   "outputs": [],
   "source": []
  },
  {
   "cell_type": "code",
   "execution_count": null,
   "metadata": {},
   "outputs": [],
   "source": []
  },
  {
   "cell_type": "code",
   "execution_count": null,
   "metadata": {},
   "outputs": [],
   "source": []
  },
  {
   "cell_type": "code",
   "execution_count": null,
   "metadata": {},
   "outputs": [],
   "source": []
  },
  {
   "cell_type": "code",
   "execution_count": null,
   "metadata": {},
   "outputs": [],
   "source": []
  },
  {
   "cell_type": "markdown",
   "metadata": {},
   "source": [
    "## 'SubjectRaceCode': 'race'"
   ]
  },
  {
   "cell_type": "code",
   "execution_count": 47,
   "metadata": {
    "scrolled": true
   },
   "outputs": [
    {
     "data": {
      "image/png": "[encoded data removed]",
      "text/plain": [
       "<Figure size 288x288 with 1 Axes>"
      ]
     },
     "metadata": {
      "needs_background": "light"
     },
     "output_type": "display_data"
    }
   ],
   "source": [
    "(df.groupby('race').search.agg(['count','sum'])\n",
    "                          .apply(lambda col: 100*col/col.sum(), axis=0)\n",
    "                          .sort_values(by='count')\n",
    "                          .plot.bar(figsize=(4,4)))\n",
    "\n",
    "plt.title('Percentage of race occurrence')\n",
    "plt.xlabel(\"Subject's race\")\n",
    "plt.ylabel(\"[%]\")\n",
    "\n",
    "plt.legend(['All stops', 'Searched'])\n",
    "\n",
    "plt.savefig(os.path.join('plots', 'discrimination_race_percentage_all_searched.png'));\n"
   ]
  },
  {
   "cell_type": "code",
   "execution_count": 74,
   "metadata": {
    "scrolled": true
   },
   "outputs": [
    {
     "data": {
      "image/png": "[encoded data removed]",
      "text/plain": [
       "<Figure size 432x288 with 1 Axes>"
      ]
     },
     "metadata": {
      "needs_background": "light"
     },
     "output_type": "display_data"
    }
   ],
   "source": [
    "dfs.groupby('race').target.mean().apply(lambda x: x*100).sort_values().to_frame().plot.bar(label='target mean')\n",
    "\n",
    "plt.axhline(y=target_global_mean*100, color='r', linestyle='-.', label='global SR')\n",
    "\n",
    "plt.title('Finding success rate (SR) among races')\n",
    "plt.xlabel(\"Subject's race\")\n",
    "plt.ylabel(\"Success Rate [%]\")\n",
    "\n",
    "plt.ylim(0,42)\n",
    "\n",
    "plt.legend(loc='upper left')\n",
    "\n",
    "plt.savefig(os.path.join('plots', 'discrimination_race_SR.png'));"
   ]
  },
  {
   "cell_type": "code",
   "execution_count": 130,
   "metadata": {
    "scrolled": false
   },
   "outputs": [
    {
     "data": {
      "text/plain": [
       "<matplotlib.legend.Legend at 0xdd9fc1e80>"
      ]
     },
     "execution_count": 130,
     "metadata": {},
     "output_type": "execute_result"
    },
    {
     "data": {
      "image/png": "[encoded data removed]",
      "text/plain": [
       "<Figure size 432x288 with 1 Axes>"
      ]
     },
     "metadata": {
      "needs_background": "light"
     },
     "output_type": "display_data"
    }
   ],
   "source": [
    "# create groupby dataframe\n",
    "df_aux = df.groupby('race')[['search', 'target']].agg(['count','sum','mean'])\n",
    "\n",
    "#create index\n",
    "idx = pd.IndexSlice\n",
    "\n",
    "# Correct target mean to consider only those who were searched\n",
    "df_aux.loc[:,idx['target','mean']] = df_aux.loc[:,idx['target','sum']] / df_aux.loc[:,idx['search','sum']]\n",
    "\n",
    "df_aux = df_aux.loc[:,idx[:,'mean']].sort_values(by=('search','mean')).applymap(lambda x: x*100)\n",
    "df_aux = df_aux.T.reset_index(level=1, drop=True)\n",
    "\n",
    "df_aux.plot.bar()\n",
    "\n",
    "plt.title('Search rate and finding success rate (SR) among races')\n",
    "plt.xlabel(\"Subject's race\")\n",
    "plt.ylabel(\"Rate [%]\")\n",
    "\n",
    "plt.legend(loc='upper left')\n",
    "\n",
    "#plt.savefig(os.path.join('plots', 'discrimination_race_SR.png'));"
   ]
  },
  {
   "cell_type": "markdown",
   "metadata": {},
   "source": [
    "## 'SubjectSexCode': 'sex'"
   ]
  },
  {
   "cell_type": "code",
   "execution_count": 39,
   "metadata": {
    "scrolled": false
   },
   "outputs": [
    {
     "data": {
      "image/png": "[encoded data removed]",
      "text/plain": [
       "<Figure size 288x288 with 1 Axes>"
      ]
     },
     "metadata": {
      "needs_background": "light"
     },
     "output_type": "display_data"
    }
   ],
   "source": [
    "(df.groupby('sex').search.agg(['count','sum'])\n",
    "                          .apply(lambda col: 100*col/col.sum(), axis=0)\n",
    "                          .sort_values(by='count')\n",
    "                          .plot.bar(figsize=(4,4)))\n",
    "\n",
    "plt.title('Percentage of gender occurrence')\n",
    "plt.xlabel(\"Subject's sex\")\n",
    "plt.ylabel(\"[%]\")\n",
    "\n",
    "plt.legend(['All stops', 'Searched'])\n",
    "\n",
    "plt.savefig(os.path.join('plots', 'discrimination_sex_percentage_all_searched.png'));\n"
   ]
  },
  {
   "cell_type": "code",
   "execution_count": 76,
   "metadata": {
    "scrolled": false
   },
   "outputs": [
    {
     "data": {
      "image/png": "[encoded data removed]",
      "text/plain": [
       "<Figure size 432x288 with 1 Axes>"
      ]
     },
     "metadata": {
      "needs_background": "light"
     },
     "output_type": "display_data"
    }
   ],
   "source": [
    "dfs.groupby('sex').target.mean().apply(lambda x: x*100).sort_values().to_frame().plot.bar(label='target mean')\n",
    "\n",
    "plt.axhline(y=target_global_mean*100, color='r', linestyle='-.', label='global SR')\n",
    "\n",
    "plt.title('Finding success rate (SR) among sexes')\n",
    "plt.xlabel(\"Subject's sex\")\n",
    "plt.ylabel(\"Success Rate [%]\")\n",
    "\n",
    "plt.ylim(0,42)\n",
    "\n",
    "plt.legend(loc='upper left')\n",
    "\n",
    "plt.savefig(os.path.join('plots', 'discrimination_sex_SR.png'));"
   ]
  },
  {
   "cell_type": "code",
   "execution_count": 129,
   "metadata": {},
   "outputs": [
    {
     "data": {
      "text/plain": [
       "<matplotlib.legend.Legend at 0xdd9ffb9b0>"
      ]
     },
     "execution_count": 129,
     "metadata": {},
     "output_type": "execute_result"
    },
    {
     "data": {
      "image/png": "[encoded data removed]",
      "text/plain": [
       "<Figure size 432x288 with 1 Axes>"
      ]
     },
     "metadata": {
      "needs_background": "light"
     },
     "output_type": "display_data"
    }
   ],
   "source": [
    "# create groupby dataframe\n",
    "df_aux = df.groupby('sex')[['search', 'target']].agg(['count','sum','mean'])\n",
    "\n",
    "#create index\n",
    "idx = pd.IndexSlice\n",
    "\n",
    "# Correct target mean to consider only those who were searched\n",
    "df_aux.loc[:,idx['target','mean']] = df_aux.loc[:,idx['target','sum']] / df_aux.loc[:,idx['search','sum']]\n",
    "\n",
    "df_aux = df_aux.loc[:,idx[:,'mean']].sort_values(by=('search','mean')).applymap(lambda x: x*100)\n",
    "df_aux = df_aux.T.reset_index(level=1, drop=True)\n",
    "\n",
    "df_aux.plot.bar()\n",
    "\n",
    "plt.title('Search rate and finding success rate (SR) sexes')\n",
    "plt.xlabel(\"Subject's sex\")\n",
    "plt.ylabel(\"Rate [%]\")\n",
    "\n",
    "plt.legend(loc='upper left')\n",
    "\n",
    "#plt.savefig(os.path.join('plots', 'discrimination_race_SR.png'));"
   ]
  },
  {
   "cell_type": "markdown",
   "metadata": {},
   "source": [
    "## 'SubjectEthnicityCode': 'ethnic'"
   ]
  },
  {
   "cell_type": "code",
   "execution_count": 40,
   "metadata": {},
   "outputs": [
    {
     "data": {
      "image/png": "[encoded data removed]",
      "text/plain": [
       "<Figure size 288x288 with 1 Axes>"
      ]
     },
     "metadata": {
      "needs_background": "light"
     },
     "output_type": "display_data"
    }
   ],
   "source": [
    "(df.groupby('ethnic').search.agg(['count','sum'])\n",
    "                          .apply(lambda col: 100*col/col.sum(), axis=0)\n",
    "                          .sort_values(by='count')\n",
    "                          .plot.bar(figsize=(4,4)))\n",
    "\n",
    "plt.title('Percentage of ethnicity occurrence')\n",
    "plt.xlabel(\"Subject's ethnicity\")\n",
    "plt.ylabel(\"[%]\")\n",
    "\n",
    "plt.legend(['All stops', 'Searched'])\n",
    "\n",
    "plt.savefig(os.path.join('plots', 'discrimination_ethnic_percentage_all_searched.png'));\n"
   ]
  },
  {
   "cell_type": "code",
   "execution_count": 78,
   "metadata": {},
   "outputs": [
    {
     "data": {
      "image/png": "[encoded data removed]",
      "text/plain": [
       "<Figure size 432x288 with 1 Axes>"
      ]
     },
     "metadata": {
      "needs_background": "light"
     },
     "output_type": "display_data"
    }
   ],
   "source": [
    "dfs.groupby('ethnic').target.mean().apply(lambda x: x*100).sort_values().to_frame().plot.bar(label='target mean')\n",
    "\n",
    "plt.axhline(y=target_global_mean*100, color='r', linestyle='-.', label='global SR')\n",
    "\n",
    "plt.title('Finding success rate (SR) ethnicities')\n",
    "plt.xlabel(\"Subject's ethnicity\")\n",
    "plt.ylabel(\"Success Rate [%]\")\n",
    "\n",
    "plt.ylim(0,42)\n",
    "\n",
    "plt.legend(loc='upper left')\n",
    "\n",
    "plt.savefig(os.path.join('plots', 'discrimination_ethnic_SR.png'));"
   ]
  },
  {
   "cell_type": "code",
   "execution_count": null,
   "metadata": {},
   "outputs": [],
   "source": []
  },
  {
   "cell_type": "code",
   "execution_count": null,
   "metadata": {},
   "outputs": [],
   "source": []
  },
  {
   "cell_type": "code",
   "execution_count": null,
   "metadata": {},
   "outputs": [],
   "source": []
  },
  {
   "cell_type": "code",
   "execution_count": null,
   "metadata": {},
   "outputs": [],
   "source": []
  },
  {
   "cell_type": "code",
   "execution_count": null,
   "metadata": {},
   "outputs": [],
   "source": []
  },
  {
   "cell_type": "code",
   "execution_count": null,
   "metadata": {},
   "outputs": [],
   "source": []
  },
  {
   "cell_type": "code",
   "execution_count": null,
   "metadata": {},
   "outputs": [],
   "source": []
  },
  {
   "cell_type": "code",
   "execution_count": null,
   "metadata": {},
   "outputs": [],
   "source": []
  },
  {
   "cell_type": "code",
   "execution_count": null,
   "metadata": {},
   "outputs": [],
   "source": []
  },
  {
   "cell_type": "code",
   "execution_count": null,
   "metadata": {},
   "outputs": [],
   "source": []
  },
  {
   "cell_type": "code",
   "execution_count": 26,
   "metadata": {},
   "outputs": [
    {
     "data": {
      "text/plain": [
       "<matplotlib.axes._subplots.AxesSubplot at 0xd9d4cd240>"
      ]
     },
     "execution_count": 26,
     "metadata": {},
     "output_type": "execute_result"
    },
    {
     "data": {
      "image/png": "[encoded data removed]",
      "text/plain": [
       "<Figure size 432x288 with 1 Axes>"
      ]
     },
     "metadata": {
      "needs_background": "light"
     },
     "output_type": "display_data"
    }
   ],
   "source": [
    "(df.groupby('race').search.agg(['count'])\n",
    "                          .apply(lambda col: 100*col/col.sum(), axis=0)\n",
    "                          .plot.bar(stacked=True))"
   ]
  },
  {
   "cell_type": "code",
   "execution_count": 27,
   "metadata": {},
   "outputs": [
    {
     "ename": "SyntaxError",
     "evalue": "can't assign to literal (<ipython-input-27-2828b7a0eb13>, line 1)",
     "output_type": "error",
     "traceback": [
      "\u001b[1;36m  File \u001b[1;32m\"<ipython-input-27-2828b7a0eb13>\"\u001b[1;36m, line \u001b[1;32m1\u001b[0m\n\u001b[1;33m    kind='bar', stacked=True\u001b[0m\n\u001b[1;37m        ^\u001b[0m\n\u001b[1;31mSyntaxError\u001b[0m\u001b[1;31m:\u001b[0m can't assign to literal\n"
     ]
    }
   ],
   "source": [
    "kind='bar', stacked=True"
   ]
  },
  {
   "cell_type": "code",
   "execution_count": null,
   "metadata": {
    "scrolled": true
   },
   "outputs": [],
   "source": [
    "df.groupby('race').search.agg(['sum']).apply(lambda col: 100*col/col.sum(), axis=0).plot.bar()"
   ]
  },
  {
   "cell_type": "code",
   "execution_count": null,
   "metadata": {},
   "outputs": [],
   "source": []
  },
  {
   "cell_type": "markdown",
   "metadata": {},
   "source": [
    "# 'SubjectSexCode': 'sex'"
   ]
  },
  {
   "cell_type": "code",
   "execution_count": null,
   "metadata": {},
   "outputs": [],
   "source": [
    "df.sex.value_counts(dropna=False)"
   ]
  },
  {
   "cell_type": "code",
   "execution_count": null,
   "metadata": {},
   "outputs": [],
   "source": [
    "df.sex.value_counts(dropna=False).sum() == nobs"
   ]
  },
  {
   "cell_type": "code",
   "execution_count": null,
   "metadata": {
    "scrolled": false
   },
   "outputs": [],
   "source": [
    "df.sex.value_counts(normalize=True, dropna=False)*100"
   ]
  },
  {
   "cell_type": "code",
   "execution_count": null,
   "metadata": {},
   "outputs": [],
   "source": [
    "df.sex.value_counts(normalize=True, dropna=False).plot.bar();"
   ]
  }
 ],
 "metadata": {
  "kernelspec": {
   "display_name": "Python 3",
   "language": "python",
   "name": "python3"
  },
  "language_info": {
   "codemirror_mode": {
    "name": "ipython",
    "version": 3
   },
   "file_extension": ".py",
   "mimetype": "text/x-python",
   "name": "python",
   "nbconvert_exporter": "python",
   "pygments_lexer": "ipython3",
   "version": "3.7.1"
  }
 },
 "nbformat": 4,
 "nbformat_minor": 2
}
