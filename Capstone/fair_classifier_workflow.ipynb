{
 "cells": [
  {
   "cell_type": "markdown",
   "metadata": {},
   "source": [
    "# Import statements"
   ]
  },
  {
   "cell_type": "code",
   "execution_count": 1,
   "metadata": {},
   "outputs": [],
   "source": [
    "# Operating System\n",
    "import os\n",
    "\n",
    "#Pandas and Numpy\n",
    "import pandas as pd\n",
    "import numpy as np\n",
    "\n",
    "#ramdom generator\n",
    "import random\n",
    "\n",
    "from sklearn.model_selection import train_test_split\n",
    "\n",
    "from sklearn.pipeline import  Pipeline, make_pipeline, FeatureUnion, make_union\n",
    "from sklearn.base import TransformerMixin, BaseEstimator\n",
    "\n",
    "import category_encoders as ce\n",
    "from sklearn.preprocessing import KBinsDiscretizer, Binarizer\n",
    "\n",
    "from sklearn.ensemble import RandomForestClassifier\n",
    "from sklearn.tree import DecisionTreeClassifier\n",
    "\n",
    "from sklearn.impute import SimpleImputer\n",
    "\n",
    "from sklearn.metrics import precision_score, recall_score, accuracy_score, roc_auc_score, classification_report\n",
    "from sklearn.metrics import roc_curve, precision_recall_curve\n",
    "from sklearn.metrics import confusion_matrix\n",
    "\n",
    "\n",
    "#Plots\n",
    "import matplotlib.pyplot as plt\n",
    "%matplotlib inline\n",
    "\n",
    "# Statistics\n",
    "from scipy.stats import binom_test\n",
    "\n",
    "# Strings\n",
    "import re"
   ]
  },
  {
   "cell_type": "markdown",
   "metadata": {},
   "source": [
    "# Load original data"
   ]
  },
  {
   "cell_type": "code",
   "execution_count": 2,
   "metadata": {},
   "outputs": [],
   "source": [
    "file_path = os.path.join('data', 'train.csv')\n",
    "\n",
    "# Option for reading a sample of the file\n",
    "# sample 20% of the rows\n",
    "p = 1\n",
    "\n",
    "random.seed(178) # this is to get always the same sample. can be removed if we want the sample to change\n",
    "try:\n",
    "    df_original = pd.read_csv(file_path, \n",
    "                             skiprows = lambda row_num: random.random() > p and row_num > 0, \n",
    "                             #nrows = 10000, \n",
    "                             header=0,\n",
    "                             warn_bad_lines=True)\n",
    "except:\n",
    "    print('Ooops!!! We got an error!')\n",
    "else:\n",
    "    # Drop observations correspoding to stops that didn't lead to a search\n",
    "    df = df_original[df_original.VehicleSearchedIndicator==True].reset_index(drop=True).drop(columns='VehicleSearchedIndicator')\n"
   ]
  },
  {
   "cell_type": "markdown",
   "metadata": {},
   "source": [
    "# Train-Test split"
   ]
  },
  {
   "cell_type": "code",
   "execution_count": 3,
   "metadata": {},
   "outputs": [],
   "source": [
    "X_train, X_test, y_train, y_test = train_test_split(df.drop(columns='ContrabandIndicator'), \n",
    "                                                    df['ContrabandIndicator'], \n",
    "                                                    test_size=0.6, \n",
    "                                                    random_state=42)"
   ]
  },
  {
   "cell_type": "markdown",
   "metadata": {},
   "source": [
    "# Pipeline workflow"
   ]
  },
  {
   "cell_type": "code",
   "execution_count": 4,
   "metadata": {},
   "outputs": [],
   "source": [
    "# Custom transformer to implement sentence cleaning\n",
    "class TextCleanerTransformer(TransformerMixin):\n",
    "    def __init__(self, \n",
    "                 regex_list=[(\"[\\.\\?\\(\\)\\|:;_!@/*\\-]\", \" \"), (\" +\", \" \")], \n",
    "                 lower=True, \n",
    "                 remove_punct=True):\n",
    "        self.regex_list = regex_list\n",
    "        self.lower = lower\n",
    "        self.remove_punct = remove_punct\n",
    "        \n",
    "    def transform(self, X, *_):\n",
    "        #X = list(map(self._clean_sentence, X.values))\n",
    "        X_copy = X.copy()\n",
    "        X_copy = X_copy.applymap(self._clean_sentence)\n",
    "        return X_copy\n",
    "    \n",
    "    def _clean_sentence(self, sentence):\n",
    "        \n",
    "        # Make sure it is a string!\n",
    "        sentence = str(sentence)\n",
    "        \n",
    "        # Replace given regexes\n",
    "        for regex in self.regex_list:\n",
    "            sentence = re.sub(regex[0], regex[1], sentence)\n",
    "            \n",
    "        # lowercase\n",
    "        if self.lower:\n",
    "            sentence = sentence.lower()\n",
    "        \n",
    "        # Trim\n",
    "        sentence = sentence.strip()\n",
    "        \n",
    "        return sentence\n",
    "    \n",
    "    def fit(self, *_):\n",
    "        return self"
   ]
  },
  {
   "cell_type": "code",
   "execution_count": 5,
   "metadata": {},
   "outputs": [],
   "source": [
    "class Selector(BaseEstimator, TransformerMixin):\n",
    "    \"\"\"\n",
    "    Transformer to select a column from the dataframe to perform additional transformations on\n",
    "    \"\"\" \n",
    "    def __init__(self, key):\n",
    "        self.key = key\n",
    "        \n",
    "    def fit(self, X, y=None):\n",
    "        return self\n",
    "    \n",
    "\n",
    "class TextSelector(Selector):\n",
    "    \"\"\"\n",
    "    Transformer to select a single column from the data frame to perform additional transformations on\n",
    "    Use on text columns in the data\n",
    "    \"\"\"\n",
    "    def transform(self, X):\n",
    "        return X[self.key]\n",
    "    \n",
    "    \n",
    "class NumberSelector(Selector):\n",
    "    \"\"\"\n",
    "    Transformer to select a single column from the data frame to perform additional transformations on\n",
    "    Use on numeric columns in the data\n",
    "    \"\"\"\n",
    "    def transform(self, X):\n",
    "        return X[self.key]\n",
    "\n",
    "    \n",
    "class BoolSelector(Selector):\n",
    "    \"\"\"\n",
    "    Transformer to select a single column from the data frame to perform additional transformations on\n",
    "    Use on numeric columns in the data\n",
    "    \"\"\"\n",
    "    def transform(self, X):\n",
    "        return X[self.key]"
   ]
  },
  {
   "cell_type": "code",
   "execution_count": 24,
   "metadata": {},
   "outputs": [
    {
     "name": "stderr",
     "output_type": "stream",
     "text": [
      "C:\\Users\\jnpicao\\AppData\\Local\\Continuum\\anaconda3\\lib\\site-packages\\sklearn\\ensemble\\forest.py:246: FutureWarning: The default value of n_estimators will change from 10 in version 0.20 to 100 in 0.22.\n",
      "  \"10 in version 0.20 to 100 in 0.22.\", FutureWarning)\n"
     ]
    },
    {
     "data": {
      "text/plain": [
       "Pipeline(memory=None,\n",
       "     steps=[('features', FeatureUnion(n_jobs=None,\n",
       "       transformer_list=[('text', Pipeline(memory=None,\n",
       "     steps=[('selector', TextSelector(key=['Department Name', 'SearchAuthorizationCode', 'StatuteReason'])), ('ordinalencoder', OrdinalEncoder(cols=['Department Name', 'SearchAuthorizationCode', 'St...mators=10, n_jobs=None,\n",
       "            oob_score=False, random_state=42, verbose=0, warm_start=False))])"
      ]
     },
     "execution_count": 24,
     "metadata": {},
     "output_type": "execute_result"
    }
   ],
   "source": [
    "text_pipe = Pipeline([\n",
    "                ('selector', TextSelector(['Department Name', 'SearchAuthorizationCode', 'StatuteReason'])),\n",
    "                ('ordinalencoder', ce.ordinal.OrdinalEncoder()),\n",
    "                ('handle_unknown_imputer', SimpleImputer(missing_values=-1, strategy='most_frequent')),\n",
    "                ('handle_missing_imputer1', SimpleImputer(missing_values=-2, strategy='most_frequent')),\n",
    "            ])\n",
    "\n",
    "numerical_pipe =  Pipeline([\n",
    "                ('selector', NumberSelector(['SubjectAge'])),\n",
    "                ('binarizer', Binarizer(threshold=27)),\n",
    "                ('handle_missing_imputer1', SimpleImputer(missing_values=np.nan, strategy='most_frequent'))\n",
    "            ])\n",
    "\n",
    "# Feature Union allow use to use multiple distinct features in our classifier\n",
    "feats = FeatureUnion([('text', text_pipe), \n",
    "                      ('numerical', numerical_pipe)])\n",
    "\n",
    "pipe_clf = Pipeline([\n",
    "    ('features',feats),\n",
    "    ('classifier', RandomForestClassifier(random_state = 42)),\n",
    "])\n",
    "\n",
    "# train the classifier\n",
    "pipe_clf.fit(X_train, y_train)"
   ]
  },
  {
   "cell_type": "markdown",
   "metadata": {},
   "source": [
    "# Define a fair threshold"
   ]
  },
  {
   "cell_type": "markdown",
   "metadata": {},
   "source": [
    "Predict probability of the training samples"
   ]
  },
  {
   "cell_type": "code",
   "execution_count": 26,
   "metadata": {},
   "outputs": [],
   "source": [
    "decision_thr = 0.5\n",
    "y_prob_train = pipe_clf.predict_proba(X_train)[:,1]\n",
    "y_pred_train = y_prob_train > decision_thr"
   ]
  },
  {
   "cell_type": "markdown",
   "metadata": {},
   "source": [
    "### Metrics among protected classes in the training set using threshold 0.5"
   ]
  },
  {
   "cell_type": "code",
   "execution_count": 27,
   "metadata": {},
   "outputs": [],
   "source": [
    "df_train_classes = pd.DataFrame({X_train.SubjectRaceCode.name: X_train.SubjectRaceCode, \n",
    "                                X_train.SubjectEthnicityCode.name: X_train.SubjectEthnicityCode, \n",
    "                                X_train.SubjectSexCode.name: X_train.SubjectSexCode,\n",
    "                                'y_prob': y_prob_train,                                 \n",
    "                                'y_pred': y_pred_train,\n",
    "                                'y_true': y_train})"
   ]
  },
  {
   "cell_type": "code",
   "execution_count": 32,
   "metadata": {},
   "outputs": [],
   "source": [
    "#sanity check\n",
    "assert df_train_classes.shape[0] == X_train.shape[0]"
   ]
  },
  {
   "cell_type": "code",
   "execution_count": 33,
   "metadata": {},
   "outputs": [],
   "source": [
    "train_race_results = df_train_classes.groupby(['SubjectRaceCode','y_true', 'y_pred']).SubjectRaceCode.count()\n",
    "train_ethnic_results = df_train_classes.groupby(['SubjectEthnicityCode','y_true', 'y_pred']).SubjectEthnicityCode.count()\n",
    "train_sex_results = df_train_classes.groupby(['SubjectSexCode','y_true', 'y_pred']).SubjectSexCode.count()"
   ]
  },
  {
   "cell_type": "code",
   "execution_count": 37,
   "metadata": {},
   "outputs": [],
   "source": [
    "assert train_race_results[:,True,:].sum() == train_ethnic_results[:,True,:].sum() == train_sex_results[:,True,:].sum() == y_train.sum()"
   ]
  },
  {
   "cell_type": "code",
   "execution_count": 40,
   "metadata": {},
   "outputs": [],
   "source": [
    "assert train_race_results[:,:,True].sum() == train_ethnic_results[:,:,True].sum() == train_sex_results[:,:,True].sum() == y_pred_train.sum()"
   ]
  },
  {
   "cell_type": "code",
   "execution_count": 41,
   "metadata": {},
   "outputs": [
    {
     "data": {
      "text/html": [
       "<div>\n",
       "<style scoped>\n",
       "    .dataframe tbody tr th:only-of-type {\n",
       "        vertical-align: middle;\n",
       "    }\n",
       "\n",
       "    .dataframe tbody tr th {\n",
       "        vertical-align: top;\n",
       "    }\n",
       "\n",
       "    .dataframe thead th {\n",
       "        text-align: right;\n",
       "    }\n",
       "</style>\n",
       "<table border=\"1\" class=\"dataframe\">\n",
       "  <thead>\n",
       "    <tr style=\"text-align: right;\">\n",
       "      <th></th>\n",
       "      <th>SubjectRaceCode</th>\n",
       "      <th>SubjectEthnicityCode</th>\n",
       "      <th>SubjectSexCode</th>\n",
       "      <th>y_prob</th>\n",
       "      <th>y_pred</th>\n",
       "      <th>y_true</th>\n",
       "    </tr>\n",
       "  </thead>\n",
       "  <tbody>\n",
       "    <tr>\n",
       "      <th>38894</th>\n",
       "      <td>W</td>\n",
       "      <td>H</td>\n",
       "      <td>M</td>\n",
       "      <td>0.030179</td>\n",
       "      <td>False</td>\n",
       "      <td>False</td>\n",
       "    </tr>\n",
       "    <tr>\n",
       "      <th>8459</th>\n",
       "      <td>A</td>\n",
       "      <td>N</td>\n",
       "      <td>M</td>\n",
       "      <td>0.000000</td>\n",
       "      <td>False</td>\n",
       "      <td>False</td>\n",
       "    </tr>\n",
       "    <tr>\n",
       "      <th>9098</th>\n",
       "      <td>W</td>\n",
       "      <td>M</td>\n",
       "      <td>M</td>\n",
       "      <td>0.308388</td>\n",
       "      <td>False</td>\n",
       "      <td>False</td>\n",
       "    </tr>\n",
       "    <tr>\n",
       "      <th>52801</th>\n",
       "      <td>B</td>\n",
       "      <td>N</td>\n",
       "      <td>M</td>\n",
       "      <td>0.117050</td>\n",
       "      <td>False</td>\n",
       "      <td>False</td>\n",
       "    </tr>\n",
       "    <tr>\n",
       "      <th>30352</th>\n",
       "      <td>W</td>\n",
       "      <td>N</td>\n",
       "      <td>F</td>\n",
       "      <td>0.748077</td>\n",
       "      <td>True</td>\n",
       "      <td>True</td>\n",
       "    </tr>\n",
       "    <tr>\n",
       "      <th>678</th>\n",
       "      <td>W</td>\n",
       "      <td>N</td>\n",
       "      <td>M</td>\n",
       "      <td>0.248244</td>\n",
       "      <td>False</td>\n",
       "      <td>False</td>\n",
       "    </tr>\n",
       "    <tr>\n",
       "      <th>36494</th>\n",
       "      <td>W</td>\n",
       "      <td>N</td>\n",
       "      <td>F</td>\n",
       "      <td>0.900000</td>\n",
       "      <td>True</td>\n",
       "      <td>True</td>\n",
       "    </tr>\n",
       "    <tr>\n",
       "      <th>51729</th>\n",
       "      <td>W</td>\n",
       "      <td>N</td>\n",
       "      <td>M</td>\n",
       "      <td>0.100000</td>\n",
       "      <td>False</td>\n",
       "      <td>False</td>\n",
       "    </tr>\n",
       "    <tr>\n",
       "      <th>45364</th>\n",
       "      <td>B</td>\n",
       "      <td>N</td>\n",
       "      <td>M</td>\n",
       "      <td>0.580089</td>\n",
       "      <td>True</td>\n",
       "      <td>True</td>\n",
       "    </tr>\n",
       "    <tr>\n",
       "      <th>12013</th>\n",
       "      <td>W</td>\n",
       "      <td>H</td>\n",
       "      <td>M</td>\n",
       "      <td>0.191315</td>\n",
       "      <td>False</td>\n",
       "      <td>True</td>\n",
       "    </tr>\n",
       "  </tbody>\n",
       "</table>\n",
       "</div>"
      ],
      "text/plain": [
       "      SubjectRaceCode SubjectEthnicityCode SubjectSexCode    y_prob  y_pred  \\\n",
       "38894               W                    H              M  0.030179   False   \n",
       "8459                A                    N              M  0.000000   False   \n",
       "9098                W                    M              M  0.308388   False   \n",
       "52801               B                    N              M  0.117050   False   \n",
       "30352               W                    N              F  0.748077    True   \n",
       "678                 W                    N              M  0.248244   False   \n",
       "36494               W                    N              F  0.900000    True   \n",
       "51729               W                    N              M  0.100000   False   \n",
       "45364               B                    N              M  0.580089    True   \n",
       "12013               W                    H              M  0.191315   False   \n",
       "\n",
       "       y_true  \n",
       "38894   False  \n",
       "8459    False  \n",
       "9098    False  \n",
       "52801   False  \n",
       "30352    True  \n",
       "678     False  \n",
       "36494    True  \n",
       "51729   False  \n",
       "45364    True  \n",
       "12013    True  "
      ]
     },
     "execution_count": 41,
     "metadata": {},
     "output_type": "execute_result"
    }
   ],
   "source": [
    "df_train_classes.head(10)"
   ]
  },
  {
   "cell_type": "markdown",
   "metadata": {},
   "source": [
    "### Precision overall"
   ]
  },
  {
   "cell_type": "code",
   "execution_count": 54,
   "metadata": {
    "scrolled": true
   },
   "outputs": [
    {
     "data": {
      "text/plain": [
       "0.7152889707575408"
      ]
     },
     "execution_count": 54,
     "metadata": {},
     "output_type": "execute_result"
    }
   ],
   "source": [
    "precision_train = precision_score(y_train, y_pred_train)\n",
    "precision_train"
   ]
  },
  {
   "cell_type": "code",
   "execution_count": 55,
   "metadata": {
    "scrolled": true
   },
   "outputs": [],
   "source": [
    "# Sanity check\n",
    "assert df_train_classes[df_train_classes.y_pred==True].y_true.mean() == precision_train"
   ]
  },
  {
   "cell_type": "markdown",
   "metadata": {},
   "source": [
    "### Precision among races ('SubjectRaceCode': 'race')"
   ]
  },
  {
   "cell_type": "markdown",
   "metadata": {},
   "source": [
    "Precision table:"
   ]
  },
  {
   "cell_type": "code",
   "execution_count": 92,
   "metadata": {
    "scrolled": true
   },
   "outputs": [
    {
     "data": {
      "text/plain": [
       "SubjectRaceCode\n",
       "A    64.179104\n",
       "B    67.683713\n",
       "I    60.869565\n",
       "W    73.073855\n",
       "Name: y_true, dtype: float64"
      ]
     },
     "execution_count": 92,
     "metadata": {},
     "output_type": "execute_result"
    }
   ],
   "source": [
    "df_train_classes[df_train_classes.y_pred==True].groupby('SubjectRaceCode').y_true.mean().apply(lambda x: x*100)"
   ]
  },
  {
   "cell_type": "code",
   "execution_count": 56,
   "metadata": {
    "scrolled": true
   },
   "outputs": [
    {
     "data": {
      "image/png": "[encoded data removed]",
      "text/plain": [
       "<Figure size 432x288 with 1 Axes>"
      ]
     },
     "metadata": {
      "needs_background": "light"
     },
     "output_type": "display_data"
    }
   ],
   "source": [
    "(df_train_classes[df_train_classes.y_pred==True].groupby('SubjectRaceCode')\n",
    "                                              .y_true.mean().apply(lambda x: x*100).sort_values()\n",
    "                                              .to_frame().plot.bar(label=''))\n",
    "\n",
    "plt.axhline(y=precision_train*100, color='r', linestyle='-.', label='global SR')\n",
    "\n",
    "plt.title('Finding success rate (SR) among races')\n",
    "plt.xlabel(\"Subject's race\")\n",
    "plt.ylabel(\"Success Rate [%]\")\n",
    "\n",
    "plt.ylim(0,75)\n",
    "\n",
    "plt.legend(loc='upper left')\n",
    "plt.grid(axis='y')\n",
    "\n",
    "#plt.savefig(os.path.join('plots', 'discrimination_race_SR.png'));"
   ]
  },
  {
   "cell_type": "markdown",
   "metadata": {},
   "source": [
    "### Precision among ethnicities ('SubjectEthnicityCode': 'ethnic')"
   ]
  },
  {
   "cell_type": "markdown",
   "metadata": {},
   "source": [
    "When the classifier predicts positive, it is more sure about the prediction for Whites than for Blacks."
   ]
  },
  {
   "cell_type": "markdown",
   "metadata": {},
   "source": [
    "Precision table:"
   ]
  },
  {
   "cell_type": "code",
   "execution_count": 165,
   "metadata": {
    "scrolled": true
   },
   "outputs": [
    {
     "data": {
      "text/plain": [
       "SubjectEthnicityCode\n",
       "H    67.609874\n",
       "M    63.636364\n",
       "N    72.539158\n",
       "Name: y_true, dtype: float64"
      ]
     },
     "execution_count": 165,
     "metadata": {},
     "output_type": "execute_result"
    }
   ],
   "source": [
    "df_train_classes[df_train_classes.y_pred==True].groupby('SubjectEthnicityCode').y_true.mean().apply(lambda x: x*100)"
   ]
  },
  {
   "cell_type": "code",
   "execution_count": 166,
   "metadata": {
    "scrolled": true
   },
   "outputs": [
    {
     "data": {
      "image/png": "[encoded data removed]",
      "text/plain": [
       "<Figure size 432x288 with 1 Axes>"
      ]
     },
     "metadata": {
      "needs_background": "light"
     },
     "output_type": "display_data"
    }
   ],
   "source": [
    "(df_train_classes[df_train_classes.y_pred==True].groupby('SubjectEthnicityCode')\n",
    "                                              .y_true.mean().apply(lambda x: x*100).sort_values()\n",
    "                                              .to_frame().plot.bar(label=''))\n",
    "\n",
    "plt.axhline(y=precision_train*100, color='r', linestyle='-.', label='global SR')\n",
    "\n",
    "plt.title('Finding success rate (SR) among ethnicities')\n",
    "plt.xlabel(\"Subject's ethnicities\")\n",
    "plt.ylabel(\"Success Rate [%]\")\n",
    "\n",
    "plt.ylim(0,75)\n",
    "\n",
    "plt.legend(loc='upper left')\n",
    "plt.grid(axis='y')\n",
    "\n",
    "#plt.savefig(os.path.join('plots', 'discrimination_race_SR.png'));"
   ]
  },
  {
   "cell_type": "markdown",
   "metadata": {},
   "source": [
    "### Precision among sexes ('SubjectSexCode': 'sex')"
   ]
  },
  {
   "cell_type": "markdown",
   "metadata": {},
   "source": [
    "Precision table:"
   ]
  },
  {
   "cell_type": "code",
   "execution_count": 167,
   "metadata": {
    "scrolled": true
   },
   "outputs": [
    {
     "data": {
      "text/plain": [
       "SubjectSexCode\n",
       "F    70.222222\n",
       "M    71.818310\n",
       "Name: y_true, dtype: float64"
      ]
     },
     "execution_count": 167,
     "metadata": {},
     "output_type": "execute_result"
    }
   ],
   "source": [
    "df_train_classes[df_train_classes.y_pred==True].groupby('SubjectSexCode').y_true.mean().apply(lambda x: x*100)"
   ]
  },
  {
   "cell_type": "code",
   "execution_count": 168,
   "metadata": {
    "scrolled": true
   },
   "outputs": [
    {
     "data": {
      "image/png": "[encoded data removed]",
      "text/plain": [
       "<Figure size 432x288 with 1 Axes>"
      ]
     },
     "metadata": {
      "needs_background": "light"
     },
     "output_type": "display_data"
    }
   ],
   "source": [
    "(df_train_classes[df_train_classes.y_pred==True].groupby('SubjectSexCode')\n",
    "                                              .y_true.mean().apply(lambda x: x*100).sort_values()\n",
    "                                              .to_frame().plot.bar(label=''))\n",
    "\n",
    "plt.axhline(y=precision_train*100, color='r', linestyle='-.', label='global SR')\n",
    "\n",
    "plt.title('Finding success rate (SR) among sexes')\n",
    "plt.xlabel(\"Subject's sexes\")\n",
    "plt.ylabel(\"Success Rate [%]\")\n",
    "\n",
    "plt.ylim(0,75)\n",
    "\n",
    "plt.legend(loc='upper left')\n",
    "plt.grid(axis='y')\n",
    "\n",
    "#plt.savefig(os.path.join('plots', 'discrimination_race_SR.png'));"
   ]
  },
  {
   "cell_type": "markdown",
   "metadata": {},
   "source": [
    "## Train a fair threshold"
   ]
  },
  {
   "cell_type": "code",
   "execution_count": 161,
   "metadata": {},
   "outputs": [],
   "source": [
    "def train_thr_for_classes(df_with_classes, class_feature):\n",
    "    \n",
    "    classes = df_with_classes[class_feature].unique().tolist()\n",
    "    threshold_series = pd.Series(np.ones(len(classes)), index=classes, name='thresholds')\n",
    "    \n",
    "    max_precision = df_with_classes[df_with_classes.y_pred==True].groupby(class_feature).y_true.mean().max()\n",
    "    max_precision_class = df_with_classes[df_with_classes.y_pred==True].groupby(class_feature).y_true.mean().idxmax()\n",
    "    \n",
    "    for idx in classes:\n",
    "\n",
    "        if idx == max_precision_class:\n",
    "            threshold_series[idx] = 0.5\n",
    "\n",
    "        else:            \n",
    "            for thr in np.arange(0.5,1,0.005):\n",
    "\n",
    "                new_precision_series = df_with_classes[df_with_classes.y_prob > thr].groupby(class_feature).y_true.mean()\n",
    "                new_class_precision = new_precision_series[idx] \n",
    "                #print(idx, thr, new_class_precision)\n",
    "                \n",
    "                #if max_precision - new_class_precision < 0.001:\n",
    "                if 1 - new_class_precision/max_precision < 0.001:\n",
    "                    break\n",
    "\n",
    "            threshold_series[idx] = thr\n",
    "            \n",
    "    return threshold_series\n"
   ]
  },
  {
   "cell_type": "code",
   "execution_count": 162,
   "metadata": {},
   "outputs": [
    {
     "data": {
      "text/plain": [
       "W    0.500\n",
       "A    0.610\n",
       "B    0.585\n",
       "I    0.830\n",
       "Name: thresholds, dtype: float64"
      ]
     },
     "execution_count": 162,
     "metadata": {},
     "output_type": "execute_result"
    }
   ],
   "source": [
    "race_threshold = train_thr_for_classes(df_train_classes , 'SubjectRaceCode')\n",
    "race_threshold"
   ]
  },
  {
   "cell_type": "code",
   "execution_count": 163,
   "metadata": {},
   "outputs": [
    {
     "data": {
      "text/plain": [
       "H    0.590\n",
       "N    0.500\n",
       "M    0.585\n",
       "Name: thresholds, dtype: float64"
      ]
     },
     "execution_count": 163,
     "metadata": {},
     "output_type": "execute_result"
    }
   ],
   "source": [
    "ethnic_threshold = train_thr_for_classes(df_train_classes , 'SubjectEthnicityCode')\n",
    "ethnic_threshold"
   ]
  },
  {
   "cell_type": "code",
   "execution_count": 164,
   "metadata": {},
   "outputs": [
    {
     "data": {
      "text/plain": [
       "M    0.500\n",
       "F    0.525\n",
       "Name: thresholds, dtype: float64"
      ]
     },
     "execution_count": 164,
     "metadata": {},
     "output_type": "execute_result"
    }
   ],
   "source": [
    "sex_threshold = train_thr_for_classes(df_train_classes , 'SubjectSexCode')\n",
    "sex_threshold"
   ]
  },
  {
   "cell_type": "markdown",
   "metadata": {},
   "source": [
    "## Classifier using a fair threshold"
   ]
  },
  {
   "cell_type": "code",
   "execution_count": 184,
   "metadata": {},
   "outputs": [
    {
     "name": "stderr",
     "output_type": "stream",
     "text": [
      "C:\\Users\\jnpicao\\AppData\\Local\\Continuum\\anaconda3\\lib\\site-packages\\ipykernel_launcher.py:5: SettingWithCopyWarning: \n",
      "A value is trying to be set on a copy of a slice from a DataFrame.\n",
      "Try using .loc[row_indexer,col_indexer] = value instead\n",
      "\n",
      "See the caveats in the documentation: http://pandas.pydata.org/pandas-docs/stable/indexing.html#indexing-view-versus-copy\n",
      "  \"\"\"\n",
      "C:\\Users\\jnpicao\\AppData\\Local\\Continuum\\anaconda3\\lib\\site-packages\\ipykernel_launcher.py:6: SettingWithCopyWarning: \n",
      "A value is trying to be set on a copy of a slice from a DataFrame.\n",
      "Try using .loc[row_indexer,col_indexer] = value instead\n",
      "\n",
      "See the caveats in the documentation: http://pandas.pydata.org/pandas-docs/stable/indexing.html#indexing-view-versus-copy\n",
      "  \n",
      "C:\\Users\\jnpicao\\AppData\\Local\\Continuum\\anaconda3\\lib\\site-packages\\ipykernel_launcher.py:7: SettingWithCopyWarning: \n",
      "A value is trying to be set on a copy of a slice from a DataFrame.\n",
      "Try using .loc[row_indexer,col_indexer] = value instead\n",
      "\n",
      "See the caveats in the documentation: http://pandas.pydata.org/pandas-docs/stable/indexing.html#indexing-view-versus-copy\n",
      "  import sys\n",
      "C:\\Users\\jnpicao\\AppData\\Local\\Continuum\\anaconda3\\lib\\site-packages\\ipykernel_launcher.py:9: SettingWithCopyWarning: \n",
      "A value is trying to be set on a copy of a slice from a DataFrame.\n",
      "Try using .loc[row_indexer,col_indexer] = value instead\n",
      "\n",
      "See the caveats in the documentation: http://pandas.pydata.org/pandas-docs/stable/indexing.html#indexing-view-versus-copy\n",
      "  if __name__ == '__main__':\n"
     ]
    },
    {
     "data": {
      "text/html": [
       "<div>\n",
       "<style scoped>\n",
       "    .dataframe tbody tr th:only-of-type {\n",
       "        vertical-align: middle;\n",
       "    }\n",
       "\n",
       "    .dataframe tbody tr th {\n",
       "        vertical-align: top;\n",
       "    }\n",
       "\n",
       "    .dataframe thead th {\n",
       "        text-align: right;\n",
       "    }\n",
       "</style>\n",
       "<table border=\"1\" class=\"dataframe\">\n",
       "  <thead>\n",
       "    <tr style=\"text-align: right;\">\n",
       "      <th></th>\n",
       "      <th>SubjectRaceCode</th>\n",
       "      <th>SubjectEthnicityCode</th>\n",
       "      <th>SubjectSexCode</th>\n",
       "      <th>max_thr</th>\n",
       "    </tr>\n",
       "  </thead>\n",
       "  <tbody>\n",
       "    <tr>\n",
       "      <th>38894</th>\n",
       "      <td>0.500</td>\n",
       "      <td>0.590</td>\n",
       "      <td>0.500</td>\n",
       "      <td>0.590</td>\n",
       "    </tr>\n",
       "    <tr>\n",
       "      <th>8459</th>\n",
       "      <td>0.610</td>\n",
       "      <td>0.500</td>\n",
       "      <td>0.500</td>\n",
       "      <td>0.610</td>\n",
       "    </tr>\n",
       "    <tr>\n",
       "      <th>9098</th>\n",
       "      <td>0.500</td>\n",
       "      <td>0.585</td>\n",
       "      <td>0.500</td>\n",
       "      <td>0.585</td>\n",
       "    </tr>\n",
       "    <tr>\n",
       "      <th>52801</th>\n",
       "      <td>0.585</td>\n",
       "      <td>0.500</td>\n",
       "      <td>0.500</td>\n",
       "      <td>0.585</td>\n",
       "    </tr>\n",
       "    <tr>\n",
       "      <th>30352</th>\n",
       "      <td>0.500</td>\n",
       "      <td>0.500</td>\n",
       "      <td>0.525</td>\n",
       "      <td>0.525</td>\n",
       "    </tr>\n",
       "    <tr>\n",
       "      <th>678</th>\n",
       "      <td>0.500</td>\n",
       "      <td>0.500</td>\n",
       "      <td>0.500</td>\n",
       "      <td>0.500</td>\n",
       "    </tr>\n",
       "    <tr>\n",
       "      <th>36494</th>\n",
       "      <td>0.500</td>\n",
       "      <td>0.500</td>\n",
       "      <td>0.525</td>\n",
       "      <td>0.525</td>\n",
       "    </tr>\n",
       "    <tr>\n",
       "      <th>51729</th>\n",
       "      <td>0.500</td>\n",
       "      <td>0.500</td>\n",
       "      <td>0.500</td>\n",
       "      <td>0.500</td>\n",
       "    </tr>\n",
       "    <tr>\n",
       "      <th>45364</th>\n",
       "      <td>0.585</td>\n",
       "      <td>0.500</td>\n",
       "      <td>0.500</td>\n",
       "      <td>0.585</td>\n",
       "    </tr>\n",
       "    <tr>\n",
       "      <th>12013</th>\n",
       "      <td>0.500</td>\n",
       "      <td>0.590</td>\n",
       "      <td>0.500</td>\n",
       "      <td>0.590</td>\n",
       "    </tr>\n",
       "    <tr>\n",
       "      <th>38554</th>\n",
       "      <td>0.500</td>\n",
       "      <td>0.500</td>\n",
       "      <td>0.500</td>\n",
       "      <td>0.500</td>\n",
       "    </tr>\n",
       "    <tr>\n",
       "      <th>54123</th>\n",
       "      <td>0.500</td>\n",
       "      <td>0.500</td>\n",
       "      <td>0.525</td>\n",
       "      <td>0.525</td>\n",
       "    </tr>\n",
       "    <tr>\n",
       "      <th>34507</th>\n",
       "      <td>0.500</td>\n",
       "      <td>0.500</td>\n",
       "      <td>0.500</td>\n",
       "      <td>0.500</td>\n",
       "    </tr>\n",
       "    <tr>\n",
       "      <th>24517</th>\n",
       "      <td>0.500</td>\n",
       "      <td>0.500</td>\n",
       "      <td>0.500</td>\n",
       "      <td>0.500</td>\n",
       "    </tr>\n",
       "    <tr>\n",
       "      <th>18899</th>\n",
       "      <td>0.500</td>\n",
       "      <td>0.590</td>\n",
       "      <td>0.500</td>\n",
       "      <td>0.590</td>\n",
       "    </tr>\n",
       "    <tr>\n",
       "      <th>7204</th>\n",
       "      <td>0.500</td>\n",
       "      <td>0.590</td>\n",
       "      <td>0.500</td>\n",
       "      <td>0.590</td>\n",
       "    </tr>\n",
       "    <tr>\n",
       "      <th>57145</th>\n",
       "      <td>0.585</td>\n",
       "      <td>0.500</td>\n",
       "      <td>0.500</td>\n",
       "      <td>0.585</td>\n",
       "    </tr>\n",
       "    <tr>\n",
       "      <th>6411</th>\n",
       "      <td>0.585</td>\n",
       "      <td>0.500</td>\n",
       "      <td>0.500</td>\n",
       "      <td>0.585</td>\n",
       "    </tr>\n",
       "    <tr>\n",
       "      <th>63962</th>\n",
       "      <td>0.500</td>\n",
       "      <td>0.590</td>\n",
       "      <td>0.500</td>\n",
       "      <td>0.590</td>\n",
       "    </tr>\n",
       "    <tr>\n",
       "      <th>46544</th>\n",
       "      <td>0.500</td>\n",
       "      <td>0.500</td>\n",
       "      <td>0.500</td>\n",
       "      <td>0.500</td>\n",
       "    </tr>\n",
       "    <tr>\n",
       "      <th>31411</th>\n",
       "      <td>0.500</td>\n",
       "      <td>0.500</td>\n",
       "      <td>0.500</td>\n",
       "      <td>0.500</td>\n",
       "    </tr>\n",
       "    <tr>\n",
       "      <th>46372</th>\n",
       "      <td>0.500</td>\n",
       "      <td>0.500</td>\n",
       "      <td>0.500</td>\n",
       "      <td>0.500</td>\n",
       "    </tr>\n",
       "    <tr>\n",
       "      <th>74929</th>\n",
       "      <td>0.585</td>\n",
       "      <td>0.500</td>\n",
       "      <td>0.500</td>\n",
       "      <td>0.585</td>\n",
       "    </tr>\n",
       "    <tr>\n",
       "      <th>26125</th>\n",
       "      <td>0.585</td>\n",
       "      <td>0.500</td>\n",
       "      <td>0.500</td>\n",
       "      <td>0.585</td>\n",
       "    </tr>\n",
       "    <tr>\n",
       "      <th>31365</th>\n",
       "      <td>0.585</td>\n",
       "      <td>0.500</td>\n",
       "      <td>0.500</td>\n",
       "      <td>0.585</td>\n",
       "    </tr>\n",
       "    <tr>\n",
       "      <th>14236</th>\n",
       "      <td>0.500</td>\n",
       "      <td>0.590</td>\n",
       "      <td>0.525</td>\n",
       "      <td>0.590</td>\n",
       "    </tr>\n",
       "    <tr>\n",
       "      <th>46222</th>\n",
       "      <td>0.500</td>\n",
       "      <td>0.500</td>\n",
       "      <td>0.500</td>\n",
       "      <td>0.500</td>\n",
       "    </tr>\n",
       "    <tr>\n",
       "      <th>6909</th>\n",
       "      <td>0.585</td>\n",
       "      <td>0.500</td>\n",
       "      <td>0.500</td>\n",
       "      <td>0.585</td>\n",
       "    </tr>\n",
       "    <tr>\n",
       "      <th>17265</th>\n",
       "      <td>0.500</td>\n",
       "      <td>0.590</td>\n",
       "      <td>0.500</td>\n",
       "      <td>0.590</td>\n",
       "    </tr>\n",
       "    <tr>\n",
       "      <th>48911</th>\n",
       "      <td>0.500</td>\n",
       "      <td>0.590</td>\n",
       "      <td>0.500</td>\n",
       "      <td>0.590</td>\n",
       "    </tr>\n",
       "    <tr>\n",
       "      <th>...</th>\n",
       "      <td>...</td>\n",
       "      <td>...</td>\n",
       "      <td>...</td>\n",
       "      <td>...</td>\n",
       "    </tr>\n",
       "    <tr>\n",
       "      <th>31551</th>\n",
       "      <td>0.500</td>\n",
       "      <td>0.500</td>\n",
       "      <td>0.500</td>\n",
       "      <td>0.500</td>\n",
       "    </tr>\n",
       "    <tr>\n",
       "      <th>66803</th>\n",
       "      <td>0.585</td>\n",
       "      <td>0.500</td>\n",
       "      <td>0.500</td>\n",
       "      <td>0.585</td>\n",
       "    </tr>\n",
       "    <tr>\n",
       "      <th>56886</th>\n",
       "      <td>0.500</td>\n",
       "      <td>0.500</td>\n",
       "      <td>0.525</td>\n",
       "      <td>0.525</td>\n",
       "    </tr>\n",
       "    <tr>\n",
       "      <th>67435</th>\n",
       "      <td>0.500</td>\n",
       "      <td>0.590</td>\n",
       "      <td>0.500</td>\n",
       "      <td>0.590</td>\n",
       "    </tr>\n",
       "    <tr>\n",
       "      <th>35773</th>\n",
       "      <td>0.500</td>\n",
       "      <td>0.590</td>\n",
       "      <td>0.500</td>\n",
       "      <td>0.590</td>\n",
       "    </tr>\n",
       "    <tr>\n",
       "      <th>65725</th>\n",
       "      <td>0.585</td>\n",
       "      <td>0.500</td>\n",
       "      <td>0.500</td>\n",
       "      <td>0.585</td>\n",
       "    </tr>\n",
       "    <tr>\n",
       "      <th>59150</th>\n",
       "      <td>0.500</td>\n",
       "      <td>0.500</td>\n",
       "      <td>0.500</td>\n",
       "      <td>0.500</td>\n",
       "    </tr>\n",
       "    <tr>\n",
       "      <th>2747</th>\n",
       "      <td>0.585</td>\n",
       "      <td>0.500</td>\n",
       "      <td>0.500</td>\n",
       "      <td>0.585</td>\n",
       "    </tr>\n",
       "    <tr>\n",
       "      <th>18431</th>\n",
       "      <td>0.500</td>\n",
       "      <td>0.590</td>\n",
       "      <td>0.500</td>\n",
       "      <td>0.590</td>\n",
       "    </tr>\n",
       "    <tr>\n",
       "      <th>25658</th>\n",
       "      <td>0.500</td>\n",
       "      <td>0.500</td>\n",
       "      <td>0.500</td>\n",
       "      <td>0.500</td>\n",
       "    </tr>\n",
       "    <tr>\n",
       "      <th>71932</th>\n",
       "      <td>0.585</td>\n",
       "      <td>0.500</td>\n",
       "      <td>0.500</td>\n",
       "      <td>0.585</td>\n",
       "    </tr>\n",
       "    <tr>\n",
       "      <th>28693</th>\n",
       "      <td>0.500</td>\n",
       "      <td>0.500</td>\n",
       "      <td>0.500</td>\n",
       "      <td>0.500</td>\n",
       "    </tr>\n",
       "    <tr>\n",
       "      <th>53707</th>\n",
       "      <td>0.500</td>\n",
       "      <td>0.500</td>\n",
       "      <td>0.500</td>\n",
       "      <td>0.500</td>\n",
       "    </tr>\n",
       "    <tr>\n",
       "      <th>5311</th>\n",
       "      <td>0.500</td>\n",
       "      <td>0.585</td>\n",
       "      <td>0.500</td>\n",
       "      <td>0.585</td>\n",
       "    </tr>\n",
       "    <tr>\n",
       "      <th>67969</th>\n",
       "      <td>0.500</td>\n",
       "      <td>0.590</td>\n",
       "      <td>0.500</td>\n",
       "      <td>0.590</td>\n",
       "    </tr>\n",
       "    <tr>\n",
       "      <th>64925</th>\n",
       "      <td>0.585</td>\n",
       "      <td>0.500</td>\n",
       "      <td>0.525</td>\n",
       "      <td>0.585</td>\n",
       "    </tr>\n",
       "    <tr>\n",
       "      <th>62955</th>\n",
       "      <td>0.500</td>\n",
       "      <td>0.590</td>\n",
       "      <td>0.500</td>\n",
       "      <td>0.590</td>\n",
       "    </tr>\n",
       "    <tr>\n",
       "      <th>59735</th>\n",
       "      <td>0.500</td>\n",
       "      <td>0.590</td>\n",
       "      <td>0.500</td>\n",
       "      <td>0.590</td>\n",
       "    </tr>\n",
       "    <tr>\n",
       "      <th>769</th>\n",
       "      <td>0.500</td>\n",
       "      <td>0.500</td>\n",
       "      <td>0.500</td>\n",
       "      <td>0.500</td>\n",
       "    </tr>\n",
       "    <tr>\n",
       "      <th>64820</th>\n",
       "      <td>0.585</td>\n",
       "      <td>0.500</td>\n",
       "      <td>0.500</td>\n",
       "      <td>0.585</td>\n",
       "    </tr>\n",
       "    <tr>\n",
       "      <th>67221</th>\n",
       "      <td>0.585</td>\n",
       "      <td>0.500</td>\n",
       "      <td>0.500</td>\n",
       "      <td>0.585</td>\n",
       "    </tr>\n",
       "    <tr>\n",
       "      <th>41090</th>\n",
       "      <td>0.500</td>\n",
       "      <td>0.590</td>\n",
       "      <td>0.500</td>\n",
       "      <td>0.590</td>\n",
       "    </tr>\n",
       "    <tr>\n",
       "      <th>16023</th>\n",
       "      <td>0.500</td>\n",
       "      <td>0.590</td>\n",
       "      <td>0.500</td>\n",
       "      <td>0.590</td>\n",
       "    </tr>\n",
       "    <tr>\n",
       "      <th>60263</th>\n",
       "      <td>0.500</td>\n",
       "      <td>0.590</td>\n",
       "      <td>0.500</td>\n",
       "      <td>0.590</td>\n",
       "    </tr>\n",
       "    <tr>\n",
       "      <th>44131</th>\n",
       "      <td>0.500</td>\n",
       "      <td>0.590</td>\n",
       "      <td>0.500</td>\n",
       "      <td>0.590</td>\n",
       "    </tr>\n",
       "    <tr>\n",
       "      <th>37194</th>\n",
       "      <td>0.500</td>\n",
       "      <td>0.500</td>\n",
       "      <td>0.500</td>\n",
       "      <td>0.500</td>\n",
       "    </tr>\n",
       "    <tr>\n",
       "      <th>6265</th>\n",
       "      <td>0.500</td>\n",
       "      <td>0.585</td>\n",
       "      <td>0.500</td>\n",
       "      <td>0.585</td>\n",
       "    </tr>\n",
       "    <tr>\n",
       "      <th>54886</th>\n",
       "      <td>0.500</td>\n",
       "      <td>0.500</td>\n",
       "      <td>0.500</td>\n",
       "      <td>0.500</td>\n",
       "    </tr>\n",
       "    <tr>\n",
       "      <th>860</th>\n",
       "      <td>0.500</td>\n",
       "      <td>0.585</td>\n",
       "      <td>0.500</td>\n",
       "      <td>0.585</td>\n",
       "    </tr>\n",
       "    <tr>\n",
       "      <th>15795</th>\n",
       "      <td>0.500</td>\n",
       "      <td>0.500</td>\n",
       "      <td>0.500</td>\n",
       "      <td>0.500</td>\n",
       "    </tr>\n",
       "  </tbody>\n",
       "</table>\n",
       "<p>30697 rows × 4 columns</p>\n",
       "</div>"
      ],
      "text/plain": [
       "       SubjectRaceCode  SubjectEthnicityCode  SubjectSexCode  max_thr\n",
       "38894            0.500                 0.590           0.500    0.590\n",
       "8459             0.610                 0.500           0.500    0.610\n",
       "9098             0.500                 0.585           0.500    0.585\n",
       "52801            0.585                 0.500           0.500    0.585\n",
       "30352            0.500                 0.500           0.525    0.525\n",
       "678              0.500                 0.500           0.500    0.500\n",
       "36494            0.500                 0.500           0.525    0.525\n",
       "51729            0.500                 0.500           0.500    0.500\n",
       "45364            0.585                 0.500           0.500    0.585\n",
       "12013            0.500                 0.590           0.500    0.590\n",
       "38554            0.500                 0.500           0.500    0.500\n",
       "54123            0.500                 0.500           0.525    0.525\n",
       "34507            0.500                 0.500           0.500    0.500\n",
       "24517            0.500                 0.500           0.500    0.500\n",
       "18899            0.500                 0.590           0.500    0.590\n",
       "7204             0.500                 0.590           0.500    0.590\n",
       "57145            0.585                 0.500           0.500    0.585\n",
       "6411             0.585                 0.500           0.500    0.585\n",
       "63962            0.500                 0.590           0.500    0.590\n",
       "46544            0.500                 0.500           0.500    0.500\n",
       "31411            0.500                 0.500           0.500    0.500\n",
       "46372            0.500                 0.500           0.500    0.500\n",
       "74929            0.585                 0.500           0.500    0.585\n",
       "26125            0.585                 0.500           0.500    0.585\n",
       "31365            0.585                 0.500           0.500    0.585\n",
       "14236            0.500                 0.590           0.525    0.590\n",
       "46222            0.500                 0.500           0.500    0.500\n",
       "6909             0.585                 0.500           0.500    0.585\n",
       "17265            0.500                 0.590           0.500    0.590\n",
       "48911            0.500                 0.590           0.500    0.590\n",
       "...                ...                   ...             ...      ...\n",
       "31551            0.500                 0.500           0.500    0.500\n",
       "66803            0.585                 0.500           0.500    0.585\n",
       "56886            0.500                 0.500           0.525    0.525\n",
       "67435            0.500                 0.590           0.500    0.590\n",
       "35773            0.500                 0.590           0.500    0.590\n",
       "65725            0.585                 0.500           0.500    0.585\n",
       "59150            0.500                 0.500           0.500    0.500\n",
       "2747             0.585                 0.500           0.500    0.585\n",
       "18431            0.500                 0.590           0.500    0.590\n",
       "25658            0.500                 0.500           0.500    0.500\n",
       "71932            0.585                 0.500           0.500    0.585\n",
       "28693            0.500                 0.500           0.500    0.500\n",
       "53707            0.500                 0.500           0.500    0.500\n",
       "5311             0.500                 0.585           0.500    0.585\n",
       "67969            0.500                 0.590           0.500    0.590\n",
       "64925            0.585                 0.500           0.525    0.585\n",
       "62955            0.500                 0.590           0.500    0.590\n",
       "59735            0.500                 0.590           0.500    0.590\n",
       "769              0.500                 0.500           0.500    0.500\n",
       "64820            0.585                 0.500           0.500    0.585\n",
       "67221            0.585                 0.500           0.500    0.585\n",
       "41090            0.500                 0.590           0.500    0.590\n",
       "16023            0.500                 0.590           0.500    0.590\n",
       "60263            0.500                 0.590           0.500    0.590\n",
       "44131            0.500                 0.590           0.500    0.590\n",
       "37194            0.500                 0.500           0.500    0.500\n",
       "6265             0.500                 0.585           0.500    0.585\n",
       "54886            0.500                 0.500           0.500    0.500\n",
       "860              0.500                 0.585           0.500    0.585\n",
       "15795            0.500                 0.500           0.500    0.500\n",
       "\n",
       "[30697 rows x 4 columns]"
      ]
     },
     "execution_count": 184,
     "metadata": {},
     "output_type": "execute_result"
    }
   ],
   "source": [
    "protected_classes = ['SubjectRaceCode', 'SubjectEthnicityCode', 'SubjectSexCode']\n",
    "\n",
    "thresholds_df = df_train_classes[protected_classes]\n",
    "\n",
    "thresholds_df['SubjectRaceCode'] = thresholds_df.SubjectRaceCode.map(race_threshold)\n",
    "thresholds_df['SubjectEthnicityCode'] = thresholds_df.SubjectEthnicityCode.map(ethnic_threshold)\n",
    "thresholds_df['SubjectSexCode'] = thresholds_df.SubjectSexCode.map(sex_threshold)\n",
    "\n",
    "thresholds_df['max_thr'] = thresholds_df.max(axis=1)\n",
    "\n",
    "thresholds_df"
   ]
  },
  {
   "cell_type": "code",
   "execution_count": 190,
   "metadata": {},
   "outputs": [
    {
     "data": {
      "text/plain": [
       "SubjectRaceCode\n",
       "A    73.170732\n",
       "B    73.274336\n",
       "I    75.000000\n",
       "W    74.904148\n",
       "Name: y_true, dtype: float64"
      ]
     },
     "execution_count": 190,
     "metadata": {},
     "output_type": "execute_result"
    }
   ],
   "source": [
    "(df_train_classes[df_train_classes.y_prob > thresholds_df.max_thr].groupby('SubjectRaceCode')\n",
    "                                              .y_true.mean().apply(lambda x: x*100))"
   ]
  },
  {
   "cell_type": "code",
   "execution_count": null,
   "metadata": {},
   "outputs": [],
   "source": []
  },
  {
   "cell_type": "code",
   "execution_count": null,
   "metadata": {},
   "outputs": [],
   "source": []
  },
  {
   "cell_type": "code",
   "execution_count": null,
   "metadata": {},
   "outputs": [],
   "source": []
  },
  {
   "cell_type": "code",
   "execution_count": null,
   "metadata": {},
   "outputs": [],
   "source": []
  },
  {
   "cell_type": "code",
   "execution_count": null,
   "metadata": {},
   "outputs": [],
   "source": []
  },
  {
   "cell_type": "markdown",
   "metadata": {},
   "source": [
    "# Fair classifier performance"
   ]
  },
  {
   "cell_type": "code",
   "execution_count": 193,
   "metadata": {
    "scrolled": false
   },
   "outputs": [
    {
     "name": "stderr",
     "output_type": "stream",
     "text": [
      "C:\\Users\\jnpicao\\AppData\\Local\\Continuum\\anaconda3\\lib\\site-packages\\ipykernel_launcher.py:10: SettingWithCopyWarning: \n",
      "A value is trying to be set on a copy of a slice from a DataFrame.\n",
      "Try using .loc[row_indexer,col_indexer] = value instead\n",
      "\n",
      "See the caveats in the documentation: http://pandas.pydata.org/pandas-docs/stable/indexing.html#indexing-view-versus-copy\n",
      "  # Remove the CWD from sys.path while we load stuff.\n",
      "C:\\Users\\jnpicao\\AppData\\Local\\Continuum\\anaconda3\\lib\\site-packages\\ipykernel_launcher.py:11: SettingWithCopyWarning: \n",
      "A value is trying to be set on a copy of a slice from a DataFrame.\n",
      "Try using .loc[row_indexer,col_indexer] = value instead\n",
      "\n",
      "See the caveats in the documentation: http://pandas.pydata.org/pandas-docs/stable/indexing.html#indexing-view-versus-copy\n",
      "  # This is added back by InteractiveShellApp.init_path()\n",
      "C:\\Users\\jnpicao\\AppData\\Local\\Continuum\\anaconda3\\lib\\site-packages\\ipykernel_launcher.py:12: SettingWithCopyWarning: \n",
      "A value is trying to be set on a copy of a slice from a DataFrame.\n",
      "Try using .loc[row_indexer,col_indexer] = value instead\n",
      "\n",
      "See the caveats in the documentation: http://pandas.pydata.org/pandas-docs/stable/indexing.html#indexing-view-versus-copy\n",
      "  if sys.path[0] == '':\n",
      "C:\\Users\\jnpicao\\AppData\\Local\\Continuum\\anaconda3\\lib\\site-packages\\ipykernel_launcher.py:14: SettingWithCopyWarning: \n",
      "A value is trying to be set on a copy of a slice from a DataFrame.\n",
      "Try using .loc[row_indexer,col_indexer] = value instead\n",
      "\n",
      "See the caveats in the documentation: http://pandas.pydata.org/pandas-docs/stable/indexing.html#indexing-view-versus-copy\n",
      "  \n"
     ]
    }
   ],
   "source": [
    "\n",
    "# Compute class probability in the test set\n",
    "y_prob = pipe_clf.predict_proba(X_test)[:,1]\n",
    "\n",
    "\n",
    "# Define the individual thresholds\n",
    "\n",
    "thresholds_df = X_test[['SubjectRaceCode', 'SubjectEthnicityCode', 'SubjectSexCode']]\n",
    "\n",
    "thresholds_df['SubjectRaceCode'] = thresholds_df.SubjectRaceCode.map(race_threshold)\n",
    "thresholds_df['SubjectEthnicityCode'] = thresholds_df.SubjectEthnicityCode.map(ethnic_threshold)\n",
    "thresholds_df['SubjectSexCode'] = thresholds_df.SubjectSexCode.map(sex_threshold)\n",
    "\n",
    "thresholds_df['max_thr'] = thresholds_df.max(axis=1)\n",
    "\n",
    "# Predict class\n",
    "y_pred = y_prob > thresholds_df.max_thr"
   ]
  },
  {
   "cell_type": "markdown",
   "metadata": {},
   "source": [
    "# Metrics"
   ]
  },
  {
   "cell_type": "code",
   "execution_count": 194,
   "metadata": {},
   "outputs": [],
   "source": [
    "y_true = y_test"
   ]
  },
  {
   "cell_type": "code",
   "execution_count": 195,
   "metadata": {
    "scrolled": true
   },
   "outputs": [
    {
     "data": {
      "text/plain": [
       "0.617514374170721"
      ]
     },
     "execution_count": 195,
     "metadata": {},
     "output_type": "execute_result"
    }
   ],
   "source": [
    "precision = precision_score(y_true, y_pred)\n",
    "precision"
   ]
  },
  {
   "cell_type": "code",
   "execution_count": 196,
   "metadata": {},
   "outputs": [
    {
     "data": {
      "text/plain": [
       "0.4538421531660382"
      ]
     },
     "execution_count": 196,
     "metadata": {},
     "output_type": "execute_result"
    }
   ],
   "source": [
    "recall = recall_score(y_true, y_pred)\n",
    "recall"
   ]
  },
  {
   "cell_type": "code",
   "execution_count": 197,
   "metadata": {
    "scrolled": false
   },
   "outputs": [
    {
     "data": {
      "text/plain": [
       "0.7236459192980932"
      ]
     },
     "execution_count": 197,
     "metadata": {},
     "output_type": "execute_result"
    }
   ],
   "source": [
    "accuracy = accuracy_score(y_true, y_pred)\n",
    "accuracy"
   ]
  },
  {
   "cell_type": "code",
   "execution_count": 198,
   "metadata": {
    "scrolled": true
   },
   "outputs": [],
   "source": [
    "cf = confusion_matrix(y_true, y_pred)\n",
    "TN = cf[0][0]\n",
    "TP = cf[1][1]\n",
    "FN = cf[1][0]\n",
    "FP = cf[0][1]"
   ]
  },
  {
   "cell_type": "markdown",
   "metadata": {},
   "source": [
    "Sanity checks:"
   ]
  },
  {
   "cell_type": "code",
   "execution_count": 199,
   "metadata": {},
   "outputs": [
    {
     "data": {
      "text/plain": [
       "True"
      ]
     },
     "execution_count": 199,
     "metadata": {},
     "output_type": "execute_result"
    }
   ],
   "source": [
    "precision == TP/(TP+FP) "
   ]
  },
  {
   "cell_type": "code",
   "execution_count": 200,
   "metadata": {},
   "outputs": [
    {
     "data": {
      "text/plain": [
       "True"
      ]
     },
     "execution_count": 200,
     "metadata": {},
     "output_type": "execute_result"
    }
   ],
   "source": [
    "recall == TP/(TP+FN)"
   ]
  },
  {
   "cell_type": "code",
   "execution_count": 201,
   "metadata": {
    "scrolled": true
   },
   "outputs": [
    {
     "name": "stdout",
     "output_type": "stream",
     "text": [
      "              precision    recall  f1-score   support\n",
      "\n",
      "       False       0.76      0.86      0.81     30664\n",
      "        True       0.62      0.45      0.52     15382\n",
      "\n",
      "   micro avg       0.72      0.72      0.72     46046\n",
      "   macro avg       0.69      0.66      0.66     46046\n",
      "weighted avg       0.71      0.72      0.71     46046\n",
      "\n"
     ]
    }
   ],
   "source": [
    "print(classification_report(y_true, y_pred))"
   ]
  },
  {
   "cell_type": "code",
   "execution_count": 202,
   "metadata": {},
   "outputs": [
    {
     "data": {
      "text/plain": [
       "0.2455153542110064"
      ]
     },
     "execution_count": 202,
     "metadata": {},
     "output_type": "execute_result"
    }
   ],
   "source": [
    "y_pred.sum()/y_pred.shape[0]"
   ]
  },
  {
   "cell_type": "code",
   "execution_count": 203,
   "metadata": {},
   "outputs": [
    {
     "data": {
      "text/plain": [
       "15382"
      ]
     },
     "execution_count": 203,
     "metadata": {},
     "output_type": "execute_result"
    }
   ],
   "source": [
    "y_true.sum()"
   ]
  },
  {
   "cell_type": "markdown",
   "metadata": {},
   "source": [
    "# Curves"
   ]
  },
  {
   "cell_type": "code",
   "execution_count": 204,
   "metadata": {},
   "outputs": [],
   "source": [
    "fpr, tpr, thresholds_roc = roc_curve(y_true, y_prob)\n",
    "AUROC = roc_auc_score(y_true, y_prob)*100"
   ]
  },
  {
   "cell_type": "code",
   "execution_count": 205,
   "metadata": {
    "scrolled": false
   },
   "outputs": [
    {
     "data": {
      "image/png": "[encoded data removed]",
      "text/plain": [
       "<Figure size 432x288 with 1 Axes>"
      ]
     },
     "metadata": {
      "needs_background": "light"
     },
     "output_type": "display_data"
    }
   ],
   "source": [
    "plt.figure(1)\n",
    "plt.plot([0, 1], [0, 1], 'k--')\n",
    "plt.plot(fpr, tpr, label='ROC curve')\n",
    "\n",
    "plt.xlabel('False positive rate')\n",
    "plt.ylabel('True positive rate')\n",
    "plt.title('ROC curve')\n",
    "\n",
    "plt.xlim(0, 1)\n",
    "plt.ylim(0, 1)\n",
    "\n",
    "plt.text(0.6, 0.2, \"Area = {}\".format(round(AUROC,2)), dict(size=15))\n",
    "\n",
    "plt.legend(loc='best')\n",
    "plt.show()"
   ]
  },
  {
   "cell_type": "code",
   "execution_count": 206,
   "metadata": {
    "scrolled": true
   },
   "outputs": [
    {
     "data": {
      "image/png": "[encoded data removed]",
      "text/plain": [
       "<Figure size 432x288 with 1 Axes>"
      ]
     },
     "metadata": {
      "needs_background": "light"
     },
     "output_type": "display_data"
    }
   ],
   "source": [
    "plt.figure(2)\n",
    "plt.plot(thresholds_roc, fpr , label='False PR')\n",
    "plt.plot(thresholds_roc, tpr, label='True PR')\n",
    "\n",
    "plt.axvline(x=decision_thr, color='r', linestyle='-.')\n",
    "\n",
    "plt.xlabel('Decision threshold')\n",
    "plt.ylabel('True/False positive rate')\n",
    "#plt.title('ROC curve')\n",
    "\n",
    "plt.xlim(0, 1)\n",
    "plt.ylim(0, 1)\n",
    "\n",
    "plt.legend(loc='best')\n",
    "plt.show()"
   ]
  },
  {
   "cell_type": "code",
   "execution_count": 207,
   "metadata": {},
   "outputs": [],
   "source": [
    "precision_vec, recall_vec, thresholds_pr = precision_recall_curve(y_true, y_prob)"
   ]
  },
  {
   "cell_type": "code",
   "execution_count": 208,
   "metadata": {
    "scrolled": true
   },
   "outputs": [
    {
     "data": {
      "image/png": "[encoded data removed]",
      "text/plain": [
       "<Figure size 432x288 with 1 Axes>"
      ]
     },
     "metadata": {
      "needs_background": "light"
     },
     "output_type": "display_data"
    }
   ],
   "source": [
    "plt.figure(3)\n",
    "plt.plot([0, 1], [0, 1], 'k--')\n",
    "plt.plot(recall_vec, precision_vec, label='precision-recall curve')\n",
    "\n",
    "plt.xlabel('recall')\n",
    "plt.ylabel('precision')\n",
    "plt.title('precision-recall curve')\n",
    "\n",
    "plt.xlim(0, 1)\n",
    "plt.ylim(0, 1)\n",
    "\n",
    "plt.legend(loc='best')\n",
    "plt.show()"
   ]
  },
  {
   "cell_type": "code",
   "execution_count": 209,
   "metadata": {
    "scrolled": true
   },
   "outputs": [
    {
     "data": {
      "image/png": "[encoded data removed]",
      "text/plain": [
       "<Figure size 432x288 with 1 Axes>"
      ]
     },
     "metadata": {
      "needs_background": "light"
     },
     "output_type": "display_data"
    }
   ],
   "source": [
    "plt.figure(4)\n",
    "plt.plot([0, 1], [0, 1], 'k--')\n",
    "plt.plot(thresholds_pr, recall_vec[:-1] , label='recall')\n",
    "plt.plot(thresholds_pr, precision_vec[:-1], label='precision')\n",
    "\n",
    "plt.axvline(x=decision_thr, color='r', linestyle='-.')\n",
    "\n",
    "plt.xlabel('Decision threshold')\n",
    "plt.ylabel('rate')\n",
    "plt.title('Precision-recall curve')\n",
    "\n",
    "plt.xlim(0, 1)\n",
    "plt.ylim(0, 1)\n",
    "\n",
    "plt.legend(loc='best')\n",
    "plt.show()"
   ]
  },
  {
   "cell_type": "code",
   "execution_count": null,
   "metadata": {},
   "outputs": [],
   "source": []
  },
  {
   "cell_type": "code",
   "execution_count": null,
   "metadata": {},
   "outputs": [],
   "source": []
  },
  {
   "cell_type": "code",
   "execution_count": null,
   "metadata": {},
   "outputs": [],
   "source": []
  },
  {
   "cell_type": "code",
   "execution_count": 210,
   "metadata": {
    "scrolled": true
   },
   "outputs": [
    {
     "data": {
      "text/html": [
       "<div>\n",
       "<style scoped>\n",
       "    .dataframe tbody tr th:only-of-type {\n",
       "        vertical-align: middle;\n",
       "    }\n",
       "\n",
       "    .dataframe tbody tr th {\n",
       "        vertical-align: top;\n",
       "    }\n",
       "\n",
       "    .dataframe thead th {\n",
       "        text-align: right;\n",
       "    }\n",
       "</style>\n",
       "<table border=\"1\" class=\"dataframe\">\n",
       "  <thead>\n",
       "    <tr style=\"text-align: right;\">\n",
       "      <th></th>\n",
       "      <th>y_true</th>\n",
       "      <th>y_pred</th>\n",
       "      <th>y_prob</th>\n",
       "    </tr>\n",
       "  </thead>\n",
       "  <tbody>\n",
       "    <tr>\n",
       "      <th>30717</th>\n",
       "      <td>False</td>\n",
       "      <td>False</td>\n",
       "      <td>0.355556</td>\n",
       "    </tr>\n",
       "    <tr>\n",
       "      <th>44889</th>\n",
       "      <td>True</td>\n",
       "      <td>True</td>\n",
       "      <td>0.842211</td>\n",
       "    </tr>\n",
       "    <tr>\n",
       "      <th>13938</th>\n",
       "      <td>False</td>\n",
       "      <td>False</td>\n",
       "      <td>0.308561</td>\n",
       "    </tr>\n",
       "    <tr>\n",
       "      <th>20220</th>\n",
       "      <td>False</td>\n",
       "      <td>False</td>\n",
       "      <td>0.458966</td>\n",
       "    </tr>\n",
       "    <tr>\n",
       "      <th>21837</th>\n",
       "      <td>True</td>\n",
       "      <td>True</td>\n",
       "      <td>0.708333</td>\n",
       "    </tr>\n",
       "  </tbody>\n",
       "</table>\n",
       "</div>"
      ],
      "text/plain": [
       "       y_true  y_pred    y_prob\n",
       "30717   False   False  0.355556\n",
       "44889    True    True  0.842211\n",
       "13938   False   False  0.308561\n",
       "20220   False   False  0.458966\n",
       "21837    True    True  0.708333"
      ]
     },
     "execution_count": 210,
     "metadata": {},
     "output_type": "execute_result"
    }
   ],
   "source": [
    "df_results = y_test.to_frame(name='y_true')\n",
    "df_results['y_pred'] = y_pred\n",
    "df_results['y_prob'] = y_prob\n",
    "df_results.head()"
   ]
  },
  {
   "cell_type": "code",
   "execution_count": 211,
   "metadata": {
    "scrolled": true
   },
   "outputs": [
    {
     "data": {
      "image/png": "[encoded data removed]",
      "text/plain": [
       "<Figure size 576x288 with 1 Axes>"
      ]
     },
     "metadata": {
      "needs_background": "light"
     },
     "output_type": "display_data"
    }
   ],
   "source": [
    "n_trues = df_results[df_results.y_true==True].shape[0]\n",
    "n_falses = df_results[df_results.y_true==False].shape[0]\n",
    "\n",
    "plt.figure(figsize=(8,4))\n",
    "df_results[df_results.y_true==True].y_prob.hist(bins=20, weights=np.ones(n_trues)/n_trues*100, align='mid', rwidth=0.8, alpha=0.2, label='positive class')\n",
    "df_results[df_results.y_true==False].y_prob.hist(bins=20, weights=np.ones(n_falses)/n_falses*100, align='mid', rwidth=0.8, alpha=0.2, label='negative class')\n",
    "\n",
    "plt.axvline(x=decision_thr, color='r', linestyle='-.')\n",
    "\n",
    "plt.title('Histogram of predicted probability of class 1')\n",
    "plt.xlabel(\"Predicted probability of class 1\")\n",
    "plt.ylabel(\"% of occurences\")\n",
    "\n",
    "plt.xlim(0,1)\n",
    "plt.xticks(np.arange(0, 1, step=0.1))\n",
    "\n",
    "plt.legend();"
   ]
  },
  {
   "cell_type": "code",
   "execution_count": 212,
   "metadata": {},
   "outputs": [
    {
     "data": {
      "image/png": "[encoded data removed]",
      "text/plain": [
       "<Figure size 576x288 with 1 Axes>"
      ]
     },
     "metadata": {
      "needs_background": "light"
     },
     "output_type": "display_data"
    }
   ],
   "source": [
    "plt.figure(figsize=(8,4))\n",
    "df_results[df_results.y_true==True].y_prob.hist(bins=20, align='mid', rwidth=0.8, alpha=0.2, label='positive class')\n",
    "df_results[df_results.y_true==False].y_prob.hist(bins=20, align='mid', rwidth=0.8, alpha=0.2, label='negative class')\n",
    "\n",
    "plt.axvline(x=decision_thr, color='r', linestyle='-.')\n",
    "\n",
    "plt.title('Histogram of predicted probability of class 1')\n",
    "plt.xlabel(\"Predicted probability of class 1\")\n",
    "plt.ylabel(\"Nº of occurences\")\n",
    "\n",
    "plt.xlim(0,1)\n",
    "plt.xticks(np.arange(0, 1, step=0.1))\n",
    "\n",
    "plt.legend();"
   ]
  },
  {
   "cell_type": "code",
   "execution_count": 213,
   "metadata": {},
   "outputs": [
    {
     "data": {
      "image/png": "[encoded data removed]",
      "text/plain": [
       "<Figure size 576x288 with 1 Axes>"
      ]
     },
     "metadata": {
      "needs_background": "light"
     },
     "output_type": "display_data"
    }
   ],
   "source": [
    "df_results[df_results.y_true==True].y_prob.hist(bins=20, figsize=(8,4), histtype='step',label='positive class', density=True, cumulative=True)\n",
    "df_results[df_results.y_true==False].y_prob.hist(bins=20, figsize=(8,4), histtype='step', label='negative class', density=True, cumulative=True)\n",
    "\n",
    "plt.axvline(x=decision_thr, color='r', linestyle='-.')\n",
    "\n",
    "plt.title('Histogram of predicted probability of class 1')\n",
    "plt.xlabel(\"Predicted probability of class 1\")\n",
    "plt.ylabel(\"Density\")\n",
    "\n",
    "plt.xlim(0,1)\n",
    "plt.xticks(np.arange(0, 1, step=0.1))\n",
    "\n",
    "plt.legend();"
   ]
  },
  {
   "cell_type": "code",
   "execution_count": 214,
   "metadata": {},
   "outputs": [
    {
     "data": {
      "text/plain": [
       "y_prob\n",
       "0.355556    False\n",
       "0.842211     True\n",
       "0.308561    False\n",
       "0.458966    False\n",
       "0.708333     True\n",
       "0.000000    False\n",
       "0.057460    False\n",
       "0.282269    False\n",
       "0.344168    False\n",
       "0.804051     True\n",
       "0.000000    False\n",
       "0.000000    False\n",
       "0.433900     True\n",
       "0.000000    False\n",
       "0.416667     True\n",
       "0.479296    False\n",
       "0.204195    False\n",
       "0.097471    False\n",
       "0.000000    False\n",
       "0.766692     True\n",
       "0.537499     True\n",
       "0.000000    False\n",
       "0.403660    False\n",
       "0.430556     True\n",
       "0.200000    False\n",
       "0.094979    False\n",
       "0.576674    False\n",
       "0.255201    False\n",
       "0.833023     True\n",
       "0.181569    False\n",
       "            ...  \n",
       "0.897500     True\n",
       "0.000000    False\n",
       "0.262657    False\n",
       "0.000000    False\n",
       "0.514135     True\n",
       "0.291190    False\n",
       "0.246688     True\n",
       "0.283333    False\n",
       "0.215925     True\n",
       "0.300400    False\n",
       "0.200000     True\n",
       "0.576667     True\n",
       "0.886763     True\n",
       "0.510183    False\n",
       "0.509524    False\n",
       "0.255833     True\n",
       "0.833023     True\n",
       "0.032282    False\n",
       "0.000000    False\n",
       "0.214286    False\n",
       "0.000000    False\n",
       "0.160128    False\n",
       "0.000000    False\n",
       "0.630493     True\n",
       "0.743254     True\n",
       "0.000000    False\n",
       "0.069807     True\n",
       "0.063433    False\n",
       "1.000000     True\n",
       "0.000000     True\n",
       "Name: y_true, Length: 46046, dtype: bool"
      ]
     },
     "execution_count": 214,
     "metadata": {},
     "output_type": "execute_result"
    }
   ],
   "source": [
    "df_results.set_index('y_prob').y_true"
   ]
  },
  {
   "cell_type": "markdown",
   "metadata": {},
   "source": [
    "### Predict all `True`"
   ]
  },
  {
   "cell_type": "code",
   "execution_count": 215,
   "metadata": {},
   "outputs": [],
   "source": [
    "y_pred_true = np.ones(y_test.shape).astype(bool)"
   ]
  },
  {
   "cell_type": "code",
   "execution_count": 216,
   "metadata": {},
   "outputs": [
    {
     "data": {
      "text/plain": [
       "0.3340572471007254"
      ]
     },
     "execution_count": 216,
     "metadata": {},
     "output_type": "execute_result"
    }
   ],
   "source": [
    "precision_score(y_test, y_pred_true)"
   ]
  },
  {
   "cell_type": "code",
   "execution_count": 217,
   "metadata": {},
   "outputs": [
    {
     "data": {
      "text/plain": [
       "1.0"
      ]
     },
     "execution_count": 217,
     "metadata": {},
     "output_type": "execute_result"
    }
   ],
   "source": [
    "recall_score(y_test, y_pred_true)"
   ]
  },
  {
   "cell_type": "code",
   "execution_count": 218,
   "metadata": {
    "scrolled": true
   },
   "outputs": [
    {
     "data": {
      "text/plain": [
       "0.3340572471007254"
      ]
     },
     "execution_count": 218,
     "metadata": {},
     "output_type": "execute_result"
    }
   ],
   "source": [
    "accuracy_score(y_test, y_pred_true)"
   ]
  },
  {
   "cell_type": "markdown",
   "metadata": {},
   "source": [
    "### Predict all `False`"
   ]
  },
  {
   "cell_type": "code",
   "execution_count": 219,
   "metadata": {},
   "outputs": [],
   "source": [
    "y_pred_false = np.zeros(y_test.shape).astype(bool)"
   ]
  },
  {
   "cell_type": "code",
   "execution_count": 220,
   "metadata": {},
   "outputs": [
    {
     "name": "stderr",
     "output_type": "stream",
     "text": [
      "C:\\Users\\jnpicao\\AppData\\Local\\Continuum\\anaconda3\\lib\\site-packages\\sklearn\\metrics\\classification.py:1143: UndefinedMetricWarning: Precision is ill-defined and being set to 0.0 due to no predicted samples.\n",
      "  'precision', 'predicted', average, warn_for)\n"
     ]
    },
    {
     "data": {
      "text/plain": [
       "0.0"
      ]
     },
     "execution_count": 220,
     "metadata": {},
     "output_type": "execute_result"
    }
   ],
   "source": [
    "precision_score(y_test, y_pred_false)"
   ]
  },
  {
   "cell_type": "code",
   "execution_count": 221,
   "metadata": {},
   "outputs": [
    {
     "data": {
      "text/plain": [
       "0.0"
      ]
     },
     "execution_count": 221,
     "metadata": {},
     "output_type": "execute_result"
    }
   ],
   "source": [
    "recall_score(y_test, y_pred_false)"
   ]
  },
  {
   "cell_type": "code",
   "execution_count": 222,
   "metadata": {},
   "outputs": [
    {
     "data": {
      "text/plain": [
       "0.6659427528992746"
      ]
     },
     "execution_count": 222,
     "metadata": {},
     "output_type": "execute_result"
    }
   ],
   "source": [
    "accuracy_score(y_test, y_pred_false)"
   ]
  },
  {
   "cell_type": "markdown",
   "metadata": {},
   "source": [
    "### Predict randomly with positive\\negative ratio `r`"
   ]
  },
  {
   "cell_type": "code",
   "execution_count": 223,
   "metadata": {},
   "outputs": [],
   "source": [
    "np.random.seed(425)\n",
    "ratio = 0.10"
   ]
  },
  {
   "cell_type": "code",
   "execution_count": 224,
   "metadata": {},
   "outputs": [],
   "source": [
    "# y_pred_rand = np.random.randint(2, size=y_test.shape).astype(bool)\n",
    "y_pred_rand = np.random.binomial(n=1, p=ratio, size=y_test.shape).astype(bool)"
   ]
  },
  {
   "cell_type": "markdown",
   "metadata": {},
   "source": [
    "Percentage of searches"
   ]
  },
  {
   "cell_type": "code",
   "execution_count": 225,
   "metadata": {},
   "outputs": [
    {
     "data": {
      "text/plain": [
       "0.09946575163966469"
      ]
     },
     "execution_count": 225,
     "metadata": {},
     "output_type": "execute_result"
    }
   ],
   "source": [
    "y_pred_rand.sum()/y_pred_rand.shape[0]"
   ]
  },
  {
   "cell_type": "code",
   "execution_count": 226,
   "metadata": {},
   "outputs": [
    {
     "data": {
      "text/plain": [
       "0.3299126637554585"
      ]
     },
     "execution_count": 226,
     "metadata": {},
     "output_type": "execute_result"
    }
   ],
   "source": [
    "precision_score(y_test, y_pred_rand)"
   ]
  },
  {
   "cell_type": "code",
   "execution_count": 227,
   "metadata": {},
   "outputs": [
    {
     "data": {
      "text/plain": [
       "0.09823169938889612"
      ]
     },
     "execution_count": 227,
     "metadata": {},
     "output_type": "execute_result"
    }
   ],
   "source": [
    "recall_score(y_test, y_pred_rand)"
   ]
  },
  {
   "cell_type": "code",
   "execution_count": 228,
   "metadata": {},
   "outputs": [
    {
     "data": {
      "text/plain": [
       "0.6321070234113713"
      ]
     },
     "execution_count": 228,
     "metadata": {},
     "output_type": "execute_result"
    }
   ],
   "source": [
    "accuracy_score(y_test, y_pred_rand)"
   ]
  },
  {
   "cell_type": "markdown",
   "metadata": {},
   "source": [
    "# Metrics among protected classes"
   ]
  },
  {
   "cell_type": "code",
   "execution_count": 229,
   "metadata": {},
   "outputs": [],
   "source": [
    "df_test_classes = pd.DataFrame({X_test.SubjectRaceCode.name: X_test.SubjectRaceCode, \n",
    "                                X_test.SubjectEthnicityCode.name: X_test.SubjectEthnicityCode, \n",
    "                                X_test.SubjectSexCode.name: X_test.SubjectSexCode, \n",
    "                                'y_true': y_true, \n",
    "                                'y_pred': y_pred})"
   ]
  },
  {
   "cell_type": "code",
   "execution_count": 230,
   "metadata": {},
   "outputs": [
    {
     "data": {
      "text/plain": [
       "True"
      ]
     },
     "execution_count": 230,
     "metadata": {},
     "output_type": "execute_result"
    }
   ],
   "source": [
    "#sanity check\n",
    "df_test_classes.shape[0] == X_test.shape[0]"
   ]
  },
  {
   "cell_type": "code",
   "execution_count": 231,
   "metadata": {},
   "outputs": [],
   "source": [
    "test_race_results = df_test_classes.groupby(['SubjectRaceCode','y_true', 'y_pred']).SubjectRaceCode.count()\n",
    "test_ethnic_results = df_test_classes.groupby(['SubjectEthnicityCode','y_true', 'y_pred']).SubjectEthnicityCode.count()\n",
    "test_sex_results = df_test_classes.groupby(['SubjectSexCode','y_true', 'y_pred']).SubjectSexCode.count()"
   ]
  },
  {
   "cell_type": "markdown",
   "metadata": {},
   "source": [
    "Sanity checks:"
   ]
  },
  {
   "cell_type": "code",
   "execution_count": 232,
   "metadata": {},
   "outputs": [
    {
     "data": {
      "text/plain": [
       "True"
      ]
     },
     "execution_count": 232,
     "metadata": {},
     "output_type": "execute_result"
    }
   ],
   "source": [
    "test_race_results[:,True,:].sum() == test_ethnic_results[:,True,:].sum() == test_sex_results[:,True,:].sum() == y_true.sum()"
   ]
  },
  {
   "cell_type": "code",
   "execution_count": 233,
   "metadata": {},
   "outputs": [
    {
     "data": {
      "text/plain": [
       "True"
      ]
     },
     "execution_count": 233,
     "metadata": {},
     "output_type": "execute_result"
    }
   ],
   "source": [
    "test_race_results[:,:,True].sum() == test_ethnic_results[:,:,True].sum() == test_sex_results[:,:,True].sum() == y_pred.sum()"
   ]
  },
  {
   "cell_type": "code",
   "execution_count": 234,
   "metadata": {},
   "outputs": [
    {
     "data": {
      "text/html": [
       "<div>\n",
       "<style scoped>\n",
       "    .dataframe tbody tr th:only-of-type {\n",
       "        vertical-align: middle;\n",
       "    }\n",
       "\n",
       "    .dataframe tbody tr th {\n",
       "        vertical-align: top;\n",
       "    }\n",
       "\n",
       "    .dataframe thead th {\n",
       "        text-align: right;\n",
       "    }\n",
       "</style>\n",
       "<table border=\"1\" class=\"dataframe\">\n",
       "  <thead>\n",
       "    <tr style=\"text-align: right;\">\n",
       "      <th></th>\n",
       "      <th>SubjectRaceCode</th>\n",
       "      <th>SubjectEthnicityCode</th>\n",
       "      <th>SubjectSexCode</th>\n",
       "      <th>y_true</th>\n",
       "      <th>y_pred</th>\n",
       "    </tr>\n",
       "  </thead>\n",
       "  <tbody>\n",
       "    <tr>\n",
       "      <th>30717</th>\n",
       "      <td>B</td>\n",
       "      <td>N</td>\n",
       "      <td>F</td>\n",
       "      <td>False</td>\n",
       "      <td>False</td>\n",
       "    </tr>\n",
       "    <tr>\n",
       "      <th>44889</th>\n",
       "      <td>W</td>\n",
       "      <td>N</td>\n",
       "      <td>F</td>\n",
       "      <td>True</td>\n",
       "      <td>True</td>\n",
       "    </tr>\n",
       "    <tr>\n",
       "      <th>13938</th>\n",
       "      <td>W</td>\n",
       "      <td>N</td>\n",
       "      <td>M</td>\n",
       "      <td>False</td>\n",
       "      <td>False</td>\n",
       "    </tr>\n",
       "    <tr>\n",
       "      <th>20220</th>\n",
       "      <td>A</td>\n",
       "      <td>N</td>\n",
       "      <td>M</td>\n",
       "      <td>False</td>\n",
       "      <td>False</td>\n",
       "    </tr>\n",
       "    <tr>\n",
       "      <th>21837</th>\n",
       "      <td>W</td>\n",
       "      <td>H</td>\n",
       "      <td>M</td>\n",
       "      <td>True</td>\n",
       "      <td>True</td>\n",
       "    </tr>\n",
       "    <tr>\n",
       "      <th>54524</th>\n",
       "      <td>W</td>\n",
       "      <td>H</td>\n",
       "      <td>M</td>\n",
       "      <td>False</td>\n",
       "      <td>False</td>\n",
       "    </tr>\n",
       "    <tr>\n",
       "      <th>72386</th>\n",
       "      <td>B</td>\n",
       "      <td>N</td>\n",
       "      <td>F</td>\n",
       "      <td>False</td>\n",
       "      <td>False</td>\n",
       "    </tr>\n",
       "    <tr>\n",
       "      <th>28592</th>\n",
       "      <td>W</td>\n",
       "      <td>N</td>\n",
       "      <td>M</td>\n",
       "      <td>False</td>\n",
       "      <td>False</td>\n",
       "    </tr>\n",
       "    <tr>\n",
       "      <th>52567</th>\n",
       "      <td>B</td>\n",
       "      <td>N</td>\n",
       "      <td>F</td>\n",
       "      <td>False</td>\n",
       "      <td>False</td>\n",
       "    </tr>\n",
       "    <tr>\n",
       "      <th>73072</th>\n",
       "      <td>B</td>\n",
       "      <td>N</td>\n",
       "      <td>M</td>\n",
       "      <td>True</td>\n",
       "      <td>True</td>\n",
       "    </tr>\n",
       "  </tbody>\n",
       "</table>\n",
       "</div>"
      ],
      "text/plain": [
       "      SubjectRaceCode SubjectEthnicityCode SubjectSexCode  y_true  y_pred\n",
       "30717               B                    N              F   False   False\n",
       "44889               W                    N              F    True    True\n",
       "13938               W                    N              M   False   False\n",
       "20220               A                    N              M   False   False\n",
       "21837               W                    H              M    True    True\n",
       "54524               W                    H              M   False   False\n",
       "72386               B                    N              F   False   False\n",
       "28592               W                    N              M   False   False\n",
       "52567               B                    N              F   False   False\n",
       "73072               B                    N              M    True    True"
      ]
     },
     "execution_count": 234,
     "metadata": {},
     "output_type": "execute_result"
    }
   ],
   "source": [
    "df_test_classes.head(10)"
   ]
  },
  {
   "cell_type": "markdown",
   "metadata": {},
   "source": [
    "### Precision overall"
   ]
  },
  {
   "cell_type": "code",
   "execution_count": 235,
   "metadata": {
    "scrolled": true
   },
   "outputs": [
    {
     "data": {
      "text/plain": [
       "0.617514374170721"
      ]
     },
     "execution_count": 235,
     "metadata": {},
     "output_type": "execute_result"
    }
   ],
   "source": [
    "precision_score(y_true, y_pred)"
   ]
  },
  {
   "cell_type": "code",
   "execution_count": 236,
   "metadata": {
    "scrolled": true
   },
   "outputs": [
    {
     "data": {
      "text/plain": [
       "0.617514374170721"
      ]
     },
     "execution_count": 236,
     "metadata": {},
     "output_type": "execute_result"
    }
   ],
   "source": [
    "# Sanity check\n",
    "df_test_classes[df_test_classes.y_pred==True].y_true.mean()"
   ]
  },
  {
   "cell_type": "markdown",
   "metadata": {},
   "source": [
    "### Precision among races"
   ]
  },
  {
   "cell_type": "code",
   "execution_count": 259,
   "metadata": {},
   "outputs": [
    {
     "data": {
      "text/plain": [
       "SubjectRaceCode\n",
       "A      61\n",
       "B    2584\n",
       "I       7\n",
       "W    8653\n",
       "Name: SubjectRaceCode, dtype: int64"
      ]
     },
     "execution_count": 259,
     "metadata": {},
     "output_type": "execute_result"
    }
   ],
   "source": [
    "df_test_classes[df_test_classes.y_pred==True].groupby('SubjectRaceCode').SubjectRaceCode.count()"
   ]
  },
  {
   "cell_type": "markdown",
   "metadata": {},
   "source": [
    "Precision table:"
   ]
  },
  {
   "cell_type": "code",
   "execution_count": 256,
   "metadata": {
    "scrolled": false
   },
   "outputs": [
    {
     "data": {
      "text/plain": [
       "SubjectRaceCode\n",
       "A    59.016393\n",
       "B    56.462848\n",
       "W    63.342193\n",
       "Name: y_true, dtype: float64"
      ]
     },
     "execution_count": 256,
     "metadata": {},
     "output_type": "execute_result"
    }
   ],
   "source": [
    "df_test_classes[df_test_classes.y_pred==True].groupby('SubjectRaceCode').y_true.mean().drop('I').apply(lambda x: x*100)"
   ]
  },
  {
   "cell_type": "markdown",
   "metadata": {},
   "source": [
    "Max. difference:"
   ]
  },
  {
   "cell_type": "code",
   "execution_count": 257,
   "metadata": {},
   "outputs": [
    {
     "data": {
      "text/plain": [
       "6.879345161702366"
      ]
     },
     "execution_count": 257,
     "metadata": {},
     "output_type": "execute_result"
    }
   ],
   "source": [
    "(df_test_classes[df_test_classes.y_pred==True].groupby('SubjectRaceCode').y_true.mean().drop('I').max() - df_test_classes[df_test_classes.y_pred==True].groupby('SubjectRaceCode').y_true.mean().drop('I').min())*100"
   ]
  },
  {
   "cell_type": "markdown",
   "metadata": {},
   "source": [
    "Max. difference [%]:"
   ]
  },
  {
   "cell_type": "code",
   "execution_count": 239,
   "metadata": {
    "scrolled": true
   },
   "outputs": [
    {
     "data": {
      "text/plain": [
       "20.952012383900932"
      ]
     },
     "execution_count": 239,
     "metadata": {},
     "output_type": "execute_result"
    }
   ],
   "source": [
    "(1 - df_test_classes[df_test_classes.y_pred==True].groupby('SubjectRaceCode').y_true.mean().min() / df_test_classes[df_test_classes.y_pred==True].groupby('SubjectRaceCode').y_true.mean().max())*100"
   ]
  },
  {
   "cell_type": "code",
   "execution_count": 240,
   "metadata": {},
   "outputs": [
    {
     "data": {
      "text/plain": [
       "0.06060606060606055"
      ]
     },
     "execution_count": 240,
     "metadata": {},
     "output_type": "execute_result"
    }
   ],
   "source": [
    "1-93/99"
   ]
  },
  {
   "cell_type": "markdown",
   "metadata": {},
   "source": [
    "Standard difference:"
   ]
  },
  {
   "cell_type": "code",
   "execution_count": 241,
   "metadata": {},
   "outputs": [
    {
     "data": {
      "text/plain": [
       "6.5573309376598585"
      ]
     },
     "execution_count": 241,
     "metadata": {},
     "output_type": "execute_result"
    }
   ],
   "source": [
    "df_test_classes[df_test_classes.y_pred==True].groupby('SubjectRaceCode').y_true.mean().apply(lambda x: x*100).std()"
   ]
  },
  {
   "cell_type": "code",
   "execution_count": 242,
   "metadata": {
    "scrolled": true
   },
   "outputs": [
    {
     "data": {
      "image/png": "[encoded data removed]",
      "text/plain": [
       "<Figure size 432x288 with 1 Axes>"
      ]
     },
     "metadata": {
      "needs_background": "light"
     },
     "output_type": "display_data"
    }
   ],
   "source": [
    "(df_test_classes[df_test_classes.y_pred==True].groupby('SubjectRaceCode')\n",
    "                                              .y_true.mean().apply(lambda x: x*100).sort_values()\n",
    "                                              .to_frame().plot.bar(label=''))\n",
    "\n",
    "plt.axhline(y=precision*100, color='r', linestyle='-.', label='global SR')\n",
    "\n",
    "plt.title('Finding success rate (SR) among races')\n",
    "plt.xlabel(\"Subject's race\")\n",
    "plt.ylabel(\"Success Rate [%]\")\n",
    "\n",
    "plt.ylim(0,75)\n",
    "\n",
    "plt.legend(loc='upper left')\n",
    "plt.grid(axis='y')\n",
    "\n",
    "#plt.savefig(os.path.join('plots', 'discrimination_race_SR.png'));"
   ]
  },
  {
   "cell_type": "markdown",
   "metadata": {},
   "source": [
    "### Precision among ethnicities"
   ]
  },
  {
   "cell_type": "markdown",
   "metadata": {},
   "source": [
    "When the classifier predicts positive, it is more sure about the prediction for Whites than for Blacks."
   ]
  },
  {
   "cell_type": "markdown",
   "metadata": {},
   "source": [
    "Precision table:"
   ]
  },
  {
   "cell_type": "code",
   "execution_count": 243,
   "metadata": {
    "scrolled": false
   },
   "outputs": [
    {
     "data": {
      "text/plain": [
       "SubjectEthnicityCode\n",
       "H    61.534306\n",
       "M    55.737705\n",
       "N    61.833280\n",
       "Name: y_true, dtype: float64"
      ]
     },
     "execution_count": 243,
     "metadata": {},
     "output_type": "execute_result"
    }
   ],
   "source": [
    "df_test_classes[df_test_classes.y_pred==True].groupby('SubjectEthnicityCode').y_true.mean().apply(lambda x: x*100)"
   ]
  },
  {
   "cell_type": "markdown",
   "metadata": {},
   "source": [
    "Max. difference:"
   ]
  },
  {
   "cell_type": "code",
   "execution_count": 244,
   "metadata": {
    "scrolled": true
   },
   "outputs": [
    {
     "data": {
      "text/plain": [
       "6.095575184170987"
      ]
     },
     "execution_count": 244,
     "metadata": {},
     "output_type": "execute_result"
    }
   ],
   "source": [
    "(df_test_classes[df_test_classes.y_pred==True].groupby('SubjectEthnicityCode').y_true.mean().max() - df_test_classes[df_test_classes.y_pred==True].groupby('SubjectEthnicityCode').y_true.mean().min())*100"
   ]
  },
  {
   "cell_type": "markdown",
   "metadata": {},
   "source": [
    "Max. difference [%]:"
   ]
  },
  {
   "cell_type": "code",
   "execution_count": 245,
   "metadata": {},
   "outputs": [
    {
     "data": {
      "text/plain": [
       "9.85808156076413"
      ]
     },
     "execution_count": 245,
     "metadata": {},
     "output_type": "execute_result"
    }
   ],
   "source": [
    "(1 - df_test_classes[df_test_classes.y_pred==True].groupby('SubjectEthnicityCode').y_true.mean().min() / df_test_classes[df_test_classes.y_pred==True].groupby('SubjectEthnicityCode').y_true.mean().max())*100"
   ]
  },
  {
   "cell_type": "markdown",
   "metadata": {},
   "source": [
    "Standard difference:"
   ]
  },
  {
   "cell_type": "code",
   "execution_count": 246,
   "metadata": {},
   "outputs": [
    {
     "data": {
      "text/plain": [
       "3.4362286505078132"
      ]
     },
     "execution_count": 246,
     "metadata": {},
     "output_type": "execute_result"
    }
   ],
   "source": [
    "df_test_classes[df_test_classes.y_pred==True].groupby('SubjectEthnicityCode').y_true.mean().apply(lambda x: x*100).std()"
   ]
  },
  {
   "cell_type": "code",
   "execution_count": 247,
   "metadata": {
    "scrolled": true
   },
   "outputs": [
    {
     "data": {
      "image/png": "[encoded data removed]",
      "text/plain": [
       "<Figure size 432x288 with 1 Axes>"
      ]
     },
     "metadata": {
      "needs_background": "light"
     },
     "output_type": "display_data"
    }
   ],
   "source": [
    "(df_test_classes[df_test_classes.y_pred==True].groupby('SubjectEthnicityCode')\n",
    "                                              .y_true.mean().apply(lambda x: x*100).sort_values()\n",
    "                                              .to_frame().plot.bar(label=''))\n",
    "\n",
    "plt.axhline(y=precision*100, color='r', linestyle='-.', label='global SR')\n",
    "\n",
    "plt.title('Finding success rate (SR) among ethnicities')\n",
    "plt.xlabel(\"Subject's ethnicities\")\n",
    "plt.ylabel(\"Success Rate [%]\")\n",
    "\n",
    "plt.ylim(0,75)\n",
    "\n",
    "plt.legend(loc='upper left')\n",
    "plt.grid(axis='y')\n",
    "\n",
    "#plt.savefig(os.path.join('plots', 'discrimination_race_SR.png'));"
   ]
  },
  {
   "cell_type": "markdown",
   "metadata": {},
   "source": [
    "### Precision among sexes"
   ]
  },
  {
   "cell_type": "markdown",
   "metadata": {},
   "source": [
    "Precision table:"
   ]
  },
  {
   "cell_type": "code",
   "execution_count": 248,
   "metadata": {
    "scrolled": false
   },
   "outputs": [
    {
     "data": {
      "text/plain": [
       "SubjectSexCode\n",
       "F    63.101079\n",
       "M    61.454624\n",
       "Name: y_true, dtype: float64"
      ]
     },
     "execution_count": 248,
     "metadata": {},
     "output_type": "execute_result"
    }
   ],
   "source": [
    "df_test_classes[df_test_classes.y_pred==True].groupby('SubjectSexCode').y_true.mean().apply(lambda x: x*100)"
   ]
  },
  {
   "cell_type": "markdown",
   "metadata": {},
   "source": [
    "Max. difference [p.p.]:"
   ]
  },
  {
   "cell_type": "code",
   "execution_count": 249,
   "metadata": {
    "scrolled": true
   },
   "outputs": [
    {
     "data": {
      "text/plain": [
       "1.6464555553049265"
      ]
     },
     "execution_count": 249,
     "metadata": {},
     "output_type": "execute_result"
    }
   ],
   "source": [
    "(df_test_classes[df_test_classes.y_pred==True].groupby('SubjectSexCode').y_true.mean().max() - df_test_classes[df_test_classes.y_pred==True].groupby('SubjectSexCode').y_true.mean().min())*100"
   ]
  },
  {
   "cell_type": "markdown",
   "metadata": {},
   "source": [
    "Max. difference [%]:"
   ]
  },
  {
   "cell_type": "code",
   "execution_count": 250,
   "metadata": {},
   "outputs": [
    {
     "data": {
      "text/plain": [
       "2.6092351646278655"
      ]
     },
     "execution_count": 250,
     "metadata": {},
     "output_type": "execute_result"
    }
   ],
   "source": [
    "(1 - df_test_classes[df_test_classes.y_pred==True].groupby('SubjectSexCode').y_true.mean().min() / df_test_classes[df_test_classes.y_pred==True].groupby('SubjectSexCode').y_true.mean().max())*100"
   ]
  },
  {
   "cell_type": "markdown",
   "metadata": {},
   "source": [
    "Standard difference:"
   ]
  },
  {
   "cell_type": "code",
   "execution_count": 251,
   "metadata": {},
   "outputs": [
    {
     "data": {
      "text/plain": [
       "1.1642198880783754"
      ]
     },
     "execution_count": 251,
     "metadata": {},
     "output_type": "execute_result"
    }
   ],
   "source": [
    "df_test_classes[df_test_classes.y_pred==True].groupby('SubjectSexCode').y_true.mean().apply(lambda x: x*100).std()"
   ]
  },
  {
   "cell_type": "code",
   "execution_count": 252,
   "metadata": {
    "scrolled": true
   },
   "outputs": [
    {
     "data": {
      "image/png": "[encoded data removed]",
      "text/plain": [
       "<Figure size 432x288 with 1 Axes>"
      ]
     },
     "metadata": {
      "needs_background": "light"
     },
     "output_type": "display_data"
    }
   ],
   "source": [
    "(df_test_classes[df_test_classes.y_pred==True].groupby('SubjectSexCode')\n",
    "                                              .y_true.mean().apply(lambda x: x*100).sort_values()\n",
    "                                              .to_frame().plot.bar(label=''))\n",
    "\n",
    "plt.axhline(y=precision*100, color='r', linestyle='-.', label='global SR')\n",
    "\n",
    "plt.title('Finding success rate (SR) among sexes')\n",
    "plt.xlabel(\"Subject's sexes\")\n",
    "plt.ylabel(\"Success Rate [%]\")\n",
    "\n",
    "plt.ylim(0,75)\n",
    "\n",
    "plt.legend(loc='upper left')\n",
    "plt.grid(axis='y')\n",
    "\n",
    "#plt.savefig(os.path.join('plots', 'discrimination_race_SR.png'));"
   ]
  },
  {
   "cell_type": "markdown",
   "metadata": {},
   "source": [
    "### Recall overall"
   ]
  },
  {
   "cell_type": "code",
   "execution_count": 83,
   "metadata": {},
   "outputs": [
    {
     "data": {
      "text/plain": [
       "0.514367442465219"
      ]
     },
     "execution_count": 83,
     "metadata": {},
     "output_type": "execute_result"
    }
   ],
   "source": [
    "recall_score(y_true, y_pred)"
   ]
  },
  {
   "cell_type": "code",
   "execution_count": 84,
   "metadata": {},
   "outputs": [
    {
     "data": {
      "text/plain": [
       "0.514367442465219"
      ]
     },
     "execution_count": 84,
     "metadata": {},
     "output_type": "execute_result"
    }
   ],
   "source": [
    "# Sanity check\n",
    "df_test_classes[df_test_classes.y_true==True].y_pred.mean()"
   ]
  },
  {
   "cell_type": "code",
   "execution_count": 85,
   "metadata": {},
   "outputs": [
    {
     "data": {
      "text/plain": [
       "SubjectRaceCode\n",
       "A    0.522727\n",
       "B    0.491341\n",
       "I    0.547619\n",
       "W    0.522480\n",
       "Name: y_pred, dtype: float64"
      ]
     },
     "execution_count": 85,
     "metadata": {},
     "output_type": "execute_result"
    }
   ],
   "source": [
    "df_test_classes[df_test_classes.y_true==True].groupby('SubjectRaceCode').y_pred.mean()"
   ]
  },
  {
   "cell_type": "code",
   "execution_count": 86,
   "metadata": {},
   "outputs": [
    {
     "data": {
      "text/plain": [
       "SubjectEthnicityCode\n",
       "H    0.497281\n",
       "M    0.318471\n",
       "N    0.520964\n",
       "Name: y_pred, dtype: float64"
      ]
     },
     "execution_count": 86,
     "metadata": {},
     "output_type": "execute_result"
    }
   ],
   "source": [
    "df_test_classes[df_test_classes.y_true==True].groupby('SubjectEthnicityCode').y_pred.mean()"
   ]
  },
  {
   "cell_type": "code",
   "execution_count": 87,
   "metadata": {},
   "outputs": [
    {
     "data": {
      "text/plain": [
       "SubjectSexCode\n",
       "F    0.534066\n",
       "M    0.510117\n",
       "Name: y_pred, dtype: float64"
      ]
     },
     "execution_count": 87,
     "metadata": {},
     "output_type": "execute_result"
    }
   ],
   "source": [
    "df_test_classes[df_test_classes.y_true==True].groupby('SubjectSexCode').y_pred.mean()"
   ]
  },
  {
   "cell_type": "code",
   "execution_count": null,
   "metadata": {},
   "outputs": [],
   "source": []
  },
  {
   "cell_type": "code",
   "execution_count": null,
   "metadata": {},
   "outputs": [],
   "source": []
  },
  {
   "cell_type": "code",
   "execution_count": null,
   "metadata": {},
   "outputs": [],
   "source": []
  },
  {
   "cell_type": "code",
   "execution_count": null,
   "metadata": {},
   "outputs": [],
   "source": []
  },
  {
   "cell_type": "code",
   "execution_count": null,
   "metadata": {},
   "outputs": [],
   "source": []
  },
  {
   "cell_type": "code",
   "execution_count": null,
   "metadata": {},
   "outputs": [],
   "source": []
  },
  {
   "cell_type": "code",
   "execution_count": null,
   "metadata": {},
   "outputs": [],
   "source": []
  },
  {
   "cell_type": "code",
   "execution_count": null,
   "metadata": {},
   "outputs": [],
   "source": []
  },
  {
   "cell_type": "code",
   "execution_count": null,
   "metadata": {},
   "outputs": [],
   "source": []
  },
  {
   "cell_type": "code",
   "execution_count": null,
   "metadata": {},
   "outputs": [],
   "source": []
  },
  {
   "cell_type": "code",
   "execution_count": null,
   "metadata": {},
   "outputs": [],
   "source": []
  },
  {
   "cell_type": "code",
   "execution_count": null,
   "metadata": {},
   "outputs": [],
   "source": []
  },
  {
   "cell_type": "code",
   "execution_count": 88,
   "metadata": {},
   "outputs": [
    {
     "data": {
      "text/plain": [
       "<pandas.core.groupby.groupby.DataFrameGroupBy object at 0x000000E699EDA2E8>"
      ]
     },
     "execution_count": 88,
     "metadata": {},
     "output_type": "execute_result"
    }
   ],
   "source": [
    "df_test_classes.groupby('SubjectRaceCode')[['y_true', 'y_pred']]"
   ]
  },
  {
   "cell_type": "code",
   "execution_count": 89,
   "metadata": {},
   "outputs": [
    {
     "data": {
      "text/plain": [
       "<pandas.core.groupby.groupby.DataFrameGroupBy object at 0x000000E699ECD588>"
      ]
     },
     "execution_count": 89,
     "metadata": {},
     "output_type": "execute_result"
    }
   ],
   "source": [
    "df_test_classes.groupby(['SubjectRaceCode','y_true', 'y_pred'])[['y_true', 'y_pred']]"
   ]
  },
  {
   "cell_type": "code",
   "execution_count": null,
   "metadata": {},
   "outputs": [],
   "source": []
  },
  {
   "cell_type": "code",
   "execution_count": 90,
   "metadata": {},
   "outputs": [
    {
     "data": {
      "text/plain": [
       "SubjectRaceCode  y_true  y_pred\n",
       "A                False   False       180\n",
       "                         True         38\n",
       "                 True    False        42\n",
       "                         True         46\n",
       "B                False   False      7856\n",
       "                         True       1637\n",
       "                 True    False      2056\n",
       "                         True       1986\n",
       "I                False   False        79\n",
       "                         True         12\n",
       "                 True    False        19\n",
       "                         True         23\n",
       "W                False   False     17271\n",
       "                         True       3591\n",
       "                 True    False      5353\n",
       "                         True       5857\n",
       "Name: SubjectRaceCode, dtype: int64"
      ]
     },
     "execution_count": 90,
     "metadata": {},
     "output_type": "execute_result"
    }
   ],
   "source": [
    "test_race_results"
   ]
  },
  {
   "cell_type": "code",
   "execution_count": 91,
   "metadata": {},
   "outputs": [
    {
     "data": {
      "text/plain": [
       "SubjectRaceCode  y_true\n",
       "A                False       38\n",
       "                 True        46\n",
       "B                False     1637\n",
       "                 True      1986\n",
       "I                False       12\n",
       "                 True        23\n",
       "W                False     3591\n",
       "                 True      5857\n",
       "Name: SubjectRaceCode, dtype: int64"
      ]
     },
     "execution_count": 91,
     "metadata": {},
     "output_type": "execute_result"
    }
   ],
   "source": [
    "test_race_results.loc[:,:,True]"
   ]
  },
  {
   "cell_type": "code",
   "execution_count": null,
   "metadata": {},
   "outputs": [],
   "source": []
  },
  {
   "cell_type": "markdown",
   "metadata": {},
   "source": [
    "### Precision by class"
   ]
  },
  {
   "cell_type": "code",
   "execution_count": 92,
   "metadata": {
    "scrolled": true
   },
   "outputs": [
    {
     "data": {
      "text/plain": [
       "SubjectRaceCode  y_true  y_pred\n",
       "A                False   False       180\n",
       "                         True         38\n",
       "                 True    False        42\n",
       "                         True         46\n",
       "B                False   False      7856\n",
       "                         True       1637\n",
       "                 True    False      2056\n",
       "                         True       1986\n",
       "I                False   False        79\n",
       "                         True         12\n",
       "                 True    False        19\n",
       "                         True         23\n",
       "W                False   False     17271\n",
       "                         True       3591\n",
       "                 True    False      5353\n",
       "                         True       5857\n",
       "Name: SubjectRaceCode, dtype: int64"
      ]
     },
     "execution_count": 92,
     "metadata": {},
     "output_type": "execute_result"
    }
   ],
   "source": [
    "test_race_results = df_test_classes.groupby(['SubjectRaceCode','y_true', 'y_pred']).SubjectRaceCode.count()\n",
    "test_race_results"
   ]
  },
  {
   "cell_type": "code",
   "execution_count": 93,
   "metadata": {},
   "outputs": [
    {
     "data": {
      "text/plain": [
       "SubjectRaceCode  y_pred\n",
       "A                False       180\n",
       "                 True         38\n",
       "B                False      7856\n",
       "                 True       1637\n",
       "I                False        79\n",
       "                 True         12\n",
       "W                False     17271\n",
       "                 True       3591\n",
       "Name: SubjectRaceCode, dtype: int64"
      ]
     },
     "execution_count": 93,
     "metadata": {},
     "output_type": "execute_result"
    }
   ],
   "source": [
    "test_race_results.loc[:,False,:]"
   ]
  },
  {
   "cell_type": "code",
   "execution_count": 94,
   "metadata": {},
   "outputs": [
    {
     "ename": "NameError",
     "evalue": "name 'df_test_race' is not defined",
     "output_type": "error",
     "traceback": [
      "\u001b[1;31m---------------------------------------------------------------------------\u001b[0m",
      "\u001b[1;31mNameError\u001b[0m                                 Traceback (most recent call last)",
      "\u001b[1;32m<ipython-input-94-28a0e77aca76>\u001b[0m in \u001b[0;36m<module>\u001b[1;34m\u001b[0m\n\u001b[0;32m      1\u001b[0m \u001b[1;31m# sanity check\u001b[0m\u001b[1;33m\u001b[0m\u001b[1;33m\u001b[0m\u001b[1;33m\u001b[0m\u001b[0m\n\u001b[1;32m----> 2\u001b[1;33m \u001b[0mdf_test_race\u001b[0m\u001b[1;33m.\u001b[0m\u001b[0my_true\u001b[0m\u001b[1;33m.\u001b[0m\u001b[0msum\u001b[0m\u001b[1;33m(\u001b[0m\u001b[1;33m)\u001b[0m \u001b[1;33m==\u001b[0m \u001b[0my_test\u001b[0m\u001b[1;33m.\u001b[0m\u001b[0msum\u001b[0m\u001b[1;33m(\u001b[0m\u001b[1;33m)\u001b[0m \u001b[1;32mand\u001b[0m \u001b[0mdf_test_race\u001b[0m\u001b[1;33m.\u001b[0m\u001b[0my_pred\u001b[0m\u001b[1;33m.\u001b[0m\u001b[0msum\u001b[0m\u001b[1;33m(\u001b[0m\u001b[1;33m)\u001b[0m \u001b[1;33m==\u001b[0m \u001b[0my_pred\u001b[0m\u001b[1;33m.\u001b[0m\u001b[0msum\u001b[0m\u001b[1;33m(\u001b[0m\u001b[1;33m)\u001b[0m\u001b[1;33m\u001b[0m\u001b[1;33m\u001b[0m\u001b[0m\n\u001b[0m",
      "\u001b[1;31mNameError\u001b[0m: name 'df_test_race' is not defined"
     ]
    }
   ],
   "source": [
    "# sanity check\n",
    "df_test_race.y_true.sum() == y_test.sum() and df_test_race.y_pred.sum() == y_pred.sum()"
   ]
  },
  {
   "cell_type": "code",
   "execution_count": null,
   "metadata": {},
   "outputs": [],
   "source": [
    "df_test_race.y_true.sum()"
   ]
  },
  {
   "cell_type": "code",
   "execution_count": null,
   "metadata": {},
   "outputs": [],
   "source": [
    "y_test.sum()"
   ]
  },
  {
   "cell_type": "code",
   "execution_count": null,
   "metadata": {},
   "outputs": [],
   "source": []
  },
  {
   "cell_type": "code",
   "execution_count": null,
   "metadata": {},
   "outputs": [],
   "source": []
  },
  {
   "cell_type": "code",
   "execution_count": null,
   "metadata": {},
   "outputs": [],
   "source": []
  },
  {
   "cell_type": "code",
   "execution_count": null,
   "metadata": {},
   "outputs": [],
   "source": [
    "recall = recall_score(y_test, y_pred)\n",
    "recall"
   ]
  },
  {
   "cell_type": "code",
   "execution_count": null,
   "metadata": {
    "scrolled": true
   },
   "outputs": [],
   "source": [
    "df_test_classes = pd.DataFrame({X_test.SubjectRaceCode.name: X_test.SubjectRaceCode, \n",
    "                                X_test.SubjectEthnicityCode.name: X_test.SubjectEthnicityCode, \n",
    "                                X_test.SubjectSexCode.name: X_test.SubjectSexCode, \n",
    "                                'y_true': y_test ,\n",
    "                                'y_pred': y_pred})\n",
    "df_test_classes"
   ]
  },
  {
   "cell_type": "code",
   "execution_count": null,
   "metadata": {},
   "outputs": [],
   "source": []
  },
  {
   "cell_type": "code",
   "execution_count": null,
   "metadata": {},
   "outputs": [],
   "source": []
  },
  {
   "cell_type": "code",
   "execution_count": null,
   "metadata": {},
   "outputs": [],
   "source": []
  },
  {
   "cell_type": "code",
   "execution_count": null,
   "metadata": {},
   "outputs": [],
   "source": []
  },
  {
   "cell_type": "code",
   "execution_count": null,
   "metadata": {},
   "outputs": [],
   "source": []
  },
  {
   "cell_type": "code",
   "execution_count": null,
   "metadata": {},
   "outputs": [],
   "source": []
  },
  {
   "cell_type": "code",
   "execution_count": null,
   "metadata": {},
   "outputs": [],
   "source": []
  },
  {
   "cell_type": "code",
   "execution_count": null,
   "metadata": {},
   "outputs": [],
   "source": [
    "5278/(5278+7912)"
   ]
  },
  {
   "cell_type": "code",
   "execution_count": null,
   "metadata": {},
   "outputs": [],
   "source": [
    "confusion_matrix(y_test, y_pred)"
   ]
  },
  {
   "cell_type": "code",
   "execution_count": null,
   "metadata": {},
   "outputs": [],
   "source": []
  },
  {
   "cell_type": "code",
   "execution_count": null,
   "metadata": {},
   "outputs": [],
   "source": []
  },
  {
   "cell_type": "code",
   "execution_count": null,
   "metadata": {},
   "outputs": [],
   "source": []
  },
  {
   "cell_type": "code",
   "execution_count": null,
   "metadata": {},
   "outputs": [],
   "source": []
  },
  {
   "cell_type": "code",
   "execution_count": null,
   "metadata": {},
   "outputs": [],
   "source": []
  },
  {
   "cell_type": "code",
   "execution_count": null,
   "metadata": {},
   "outputs": [],
   "source": []
  },
  {
   "cell_type": "code",
   "execution_count": null,
   "metadata": {},
   "outputs": [],
   "source": []
  }
 ],
 "metadata": {
  "kernelspec": {
   "display_name": "Python 3",
   "language": "python",
   "name": "python3"
  },
  "language_info": {
   "codemirror_mode": {
    "name": "ipython",
    "version": 3
   },
   "file_extension": ".py",
   "mimetype": "text/x-python",
   "name": "python",
   "nbconvert_exporter": "python",
   "pygments_lexer": "ipython3",
   "version": "3.7.1"
  }
 },
 "nbformat": 4,
 "nbformat_minor": 2
}
