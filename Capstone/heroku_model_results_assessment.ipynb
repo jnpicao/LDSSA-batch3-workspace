{
 "cells": [
  {
   "cell_type": "code",
   "execution_count": 46,
   "metadata": {},
   "outputs": [],
   "source": [
    "# Operating System\n",
    "import os\n",
    "\n",
    "import pickle\n",
    "import json\n",
    "\n",
    "#Pandas and Numpy\n",
    "import pandas as pd\n",
    "import numpy as np\n",
    "\n",
    "#ramdom generator\n",
    "import random\n",
    "\n",
    "# from sklearn.model_selection import train_test_split\n",
    "\n",
    "# from sklearn.pipeline import Pipeline, make_pipeline, FeatureUnion\n",
    "# from sklearn.base import TransformerMixin, BaseEstimator\n",
    "\n",
    "# import category_encoders as ce\n",
    "# from sklearn.preprocessing import KBinsDiscretizer, Binarizer\n",
    "\n",
    "# from sklearn.ensemble import RandomForestClassifier\n",
    "# from sklearn.tree import DecisionTreeClassifier\n",
    "\n",
    "from sklearn.metrics import precision_score, recall_score, accuracy_score, roc_auc_score, classification_report\n",
    "from sklearn.metrics import roc_curve, precision_recall_curve\n",
    "from sklearn.metrics import confusion_matrix\n",
    "\n",
    "# # Custom transformers\n",
    "# from custom_transformers.transformer import Selector, TextSelector, NumberSelector, BoolSelector, TextCleanerTransformer\n",
    "\n",
    "# #CURL requests\n",
    "# import requests \n",
    "\n",
    "#Plots\n",
    "import matplotlib.pyplot as plt\n",
    "%matplotlib inline\n",
    "\n",
    "# # Statistics\n",
    "# from scipy.stats import binom_test\n",
    "\n",
    "# Strings\n",
    "import re\n"
   ]
  },
  {
   "cell_type": "markdown",
   "metadata": {},
   "source": [
    "# Load data"
   ]
  },
  {
   "cell_type": "code",
   "execution_count": 2,
   "metadata": {},
   "outputs": [],
   "source": [
    "file_path = os.path.join('heroku', 'heroku_db', 'heroku_complete_db.csv')\n",
    "\n",
    "df_results = pd.read_csv(file_path,\n",
    "                         sep=\";\",\n",
    "                         # nrows = 100, \n",
    "                         header=0,\n",
    "                         warn_bad_lines=True)\n",
    "\n"
   ]
  },
  {
   "cell_type": "code",
   "execution_count": 3,
   "metadata": {
    "scrolled": true
   },
   "outputs": [
    {
     "data": {
      "text/html": [
       "<div>\n",
       "<style scoped>\n",
       "    .dataframe tbody tr th:only-of-type {\n",
       "        vertical-align: middle;\n",
       "    }\n",
       "\n",
       "    .dataframe tbody tr th {\n",
       "        vertical-align: top;\n",
       "    }\n",
       "\n",
       "    .dataframe thead th {\n",
       "        text-align: right;\n",
       "    }\n",
       "</style>\n",
       "<table border=\"1\" class=\"dataframe\">\n",
       "  <thead>\n",
       "    <tr style=\"text-align: right;\">\n",
       "      <th></th>\n",
       "      <th>id</th>\n",
       "      <th>observation_id</th>\n",
       "      <th>observation</th>\n",
       "      <th>proba</th>\n",
       "      <th>true_class</th>\n",
       "    </tr>\n",
       "  </thead>\n",
       "  <tbody>\n",
       "    <tr>\n",
       "      <th>0</th>\n",
       "      <td>3</td>\n",
       "      <td>0</td>\n",
       "      <td>{\"id\": 0, \"observation\": {\"Department Name\": \"...</td>\n",
       "      <td>0.456029</td>\n",
       "      <td>0.0</td>\n",
       "    </tr>\n",
       "    <tr>\n",
       "      <th>1</th>\n",
       "      <td>4</td>\n",
       "      <td>1</td>\n",
       "      <td>{\"id\": 1, \"observation\": {\"Department Name\": \"...</td>\n",
       "      <td>0.456029</td>\n",
       "      <td>0.0</td>\n",
       "    </tr>\n",
       "    <tr>\n",
       "      <th>2</th>\n",
       "      <td>5</td>\n",
       "      <td>2</td>\n",
       "      <td>{\"id\": 2, \"observation\": {\"Department Name\": \"...</td>\n",
       "      <td>0.490537</td>\n",
       "      <td>1.0</td>\n",
       "    </tr>\n",
       "    <tr>\n",
       "      <th>3</th>\n",
       "      <td>6</td>\n",
       "      <td>3</td>\n",
       "      <td>{\"id\": 3, \"observation\": {\"Department Name\": \"...</td>\n",
       "      <td>0.490537</td>\n",
       "      <td>1.0</td>\n",
       "    </tr>\n",
       "    <tr>\n",
       "      <th>4</th>\n",
       "      <td>7</td>\n",
       "      <td>4</td>\n",
       "      <td>{\"id\": 4, \"observation\": {\"Department Name\": \"...</td>\n",
       "      <td>0.000000</td>\n",
       "      <td>0.0</td>\n",
       "    </tr>\n",
       "  </tbody>\n",
       "</table>\n",
       "</div>"
      ],
      "text/plain": [
       "   id  observation_id                                        observation  \\\n",
       "0   3               0  {\"id\": 0, \"observation\": {\"Department Name\": \"...   \n",
       "1   4               1  {\"id\": 1, \"observation\": {\"Department Name\": \"...   \n",
       "2   5               2  {\"id\": 2, \"observation\": {\"Department Name\": \"...   \n",
       "3   6               3  {\"id\": 3, \"observation\": {\"Department Name\": \"...   \n",
       "4   7               4  {\"id\": 4, \"observation\": {\"Department Name\": \"...   \n",
       "\n",
       "      proba  true_class  \n",
       "0  0.456029         0.0  \n",
       "1  0.456029         0.0  \n",
       "2  0.490537         1.0  \n",
       "3  0.490537         1.0  \n",
       "4  0.000000         0.0  "
      ]
     },
     "execution_count": 3,
     "metadata": {},
     "output_type": "execute_result"
    }
   ],
   "source": [
    "df_results.head()"
   ]
  },
  {
   "cell_type": "code",
   "execution_count": 4,
   "metadata": {},
   "outputs": [],
   "source": [
    "observations_decoupled = df_results['observation'].apply(json.loads).apply(pd.Series)"
   ]
  },
  {
   "cell_type": "code",
   "execution_count": 5,
   "metadata": {
    "scrolled": true
   },
   "outputs": [
    {
     "data": {
      "text/html": [
       "<div>\n",
       "<style scoped>\n",
       "    .dataframe tbody tr th:only-of-type {\n",
       "        vertical-align: middle;\n",
       "    }\n",
       "\n",
       "    .dataframe tbody tr th {\n",
       "        vertical-align: top;\n",
       "    }\n",
       "\n",
       "    .dataframe thead th {\n",
       "        text-align: right;\n",
       "    }\n",
       "</style>\n",
       "<table border=\"1\" class=\"dataframe\">\n",
       "  <thead>\n",
       "    <tr style=\"text-align: right;\">\n",
       "      <th></th>\n",
       "      <th>id</th>\n",
       "      <th>observation</th>\n",
       "    </tr>\n",
       "  </thead>\n",
       "  <tbody>\n",
       "    <tr>\n",
       "      <th>0</th>\n",
       "      <td>0</td>\n",
       "      <td>{'Department Name': 'Vernon', 'InterventionDat...</td>\n",
       "    </tr>\n",
       "    <tr>\n",
       "      <th>1</th>\n",
       "      <td>1</td>\n",
       "      <td>{'Department Name': 'Vernon', 'InterventionDat...</td>\n",
       "    </tr>\n",
       "    <tr>\n",
       "      <th>2</th>\n",
       "      <td>2</td>\n",
       "      <td>{'Department Name': 'Milford', 'InterventionDa...</td>\n",
       "    </tr>\n",
       "    <tr>\n",
       "      <th>3</th>\n",
       "      <td>3</td>\n",
       "      <td>{'Department Name': 'Milford', 'InterventionDa...</td>\n",
       "    </tr>\n",
       "    <tr>\n",
       "      <th>4</th>\n",
       "      <td>4</td>\n",
       "      <td>{'Department Name': 'Norwalk', 'InterventionDa...</td>\n",
       "    </tr>\n",
       "  </tbody>\n",
       "</table>\n",
       "</div>"
      ],
      "text/plain": [
       "   id                                        observation\n",
       "0   0  {'Department Name': 'Vernon', 'InterventionDat...\n",
       "1   1  {'Department Name': 'Vernon', 'InterventionDat...\n",
       "2   2  {'Department Name': 'Milford', 'InterventionDa...\n",
       "3   3  {'Department Name': 'Milford', 'InterventionDa...\n",
       "4   4  {'Department Name': 'Norwalk', 'InterventionDa..."
      ]
     },
     "execution_count": 5,
     "metadata": {},
     "output_type": "execute_result"
    }
   ],
   "source": [
    "observations_decoupled.head()"
   ]
  },
  {
   "cell_type": "code",
   "execution_count": 6,
   "metadata": {},
   "outputs": [],
   "source": [
    "df_obs = pd.DataFrame(list(observations_decoupled.observation), index=observations_decoupled.id)"
   ]
  },
  {
   "cell_type": "code",
   "execution_count": 7,
   "metadata": {},
   "outputs": [
    {
     "data": {
      "text/html": [
       "<div>\n",
       "<style scoped>\n",
       "    .dataframe tbody tr th:only-of-type {\n",
       "        vertical-align: middle;\n",
       "    }\n",
       "\n",
       "    .dataframe tbody tr th {\n",
       "        vertical-align: top;\n",
       "    }\n",
       "\n",
       "    .dataframe thead th {\n",
       "        text-align: right;\n",
       "    }\n",
       "</style>\n",
       "<table border=\"1\" class=\"dataframe\">\n",
       "  <thead>\n",
       "    <tr style=\"text-align: right;\">\n",
       "      <th></th>\n",
       "      <th>Department Name</th>\n",
       "      <th>InterventionDateTime</th>\n",
       "      <th>InterventionLocationName</th>\n",
       "      <th>InterventionReasonCode</th>\n",
       "      <th>ReportingOfficerIdentificationID</th>\n",
       "      <th>ResidentIndicator</th>\n",
       "      <th>SearchAuthorizationCode</th>\n",
       "      <th>StatuteReason</th>\n",
       "      <th>SubjectAge</th>\n",
       "      <th>SubjectEthnicityCode</th>\n",
       "      <th>SubjectRaceCode</th>\n",
       "      <th>SubjectSexCode</th>\n",
       "      <th>TownResidentIndicator</th>\n",
       "    </tr>\n",
       "    <tr>\n",
       "      <th>id</th>\n",
       "      <th></th>\n",
       "      <th></th>\n",
       "      <th></th>\n",
       "      <th></th>\n",
       "      <th></th>\n",
       "      <th></th>\n",
       "      <th></th>\n",
       "      <th></th>\n",
       "      <th></th>\n",
       "      <th></th>\n",
       "      <th></th>\n",
       "      <th></th>\n",
       "      <th></th>\n",
       "    </tr>\n",
       "  </thead>\n",
       "  <tbody>\n",
       "    <tr>\n",
       "      <th>0</th>\n",
       "      <td>Vernon</td>\n",
       "      <td>05/16/2018 02:39:00 AM</td>\n",
       "      <td>VERNON</td>\n",
       "      <td>V</td>\n",
       "      <td>625</td>\n",
       "      <td>False</td>\n",
       "      <td>C</td>\n",
       "      <td>Registration</td>\n",
       "      <td>40.0</td>\n",
       "      <td>N</td>\n",
       "      <td>B</td>\n",
       "      <td>M</td>\n",
       "      <td>False</td>\n",
       "    </tr>\n",
       "    <tr>\n",
       "      <th>1</th>\n",
       "      <td>Vernon</td>\n",
       "      <td>05/16/2018 02:39:00 AM</td>\n",
       "      <td>VERNON</td>\n",
       "      <td>V</td>\n",
       "      <td>625</td>\n",
       "      <td>False</td>\n",
       "      <td>C</td>\n",
       "      <td>Registration</td>\n",
       "      <td>40.0</td>\n",
       "      <td>N</td>\n",
       "      <td>B</td>\n",
       "      <td>M</td>\n",
       "      <td>False</td>\n",
       "    </tr>\n",
       "    <tr>\n",
       "      <th>2</th>\n",
       "      <td>Milford</td>\n",
       "      <td>05/16/2018 04:08:00 AM</td>\n",
       "      <td>MILFORD</td>\n",
       "      <td>E</td>\n",
       "      <td>473</td>\n",
       "      <td>True</td>\n",
       "      <td>I</td>\n",
       "      <td>Other</td>\n",
       "      <td>49.0</td>\n",
       "      <td>N</td>\n",
       "      <td>B</td>\n",
       "      <td>F</td>\n",
       "      <td>False</td>\n",
       "    </tr>\n",
       "    <tr>\n",
       "      <th>3</th>\n",
       "      <td>Milford</td>\n",
       "      <td>05/16/2018 04:08:00 AM</td>\n",
       "      <td>MILFORD</td>\n",
       "      <td>E</td>\n",
       "      <td>473</td>\n",
       "      <td>True</td>\n",
       "      <td>I</td>\n",
       "      <td>Other</td>\n",
       "      <td>49.0</td>\n",
       "      <td>N</td>\n",
       "      <td>B</td>\n",
       "      <td>F</td>\n",
       "      <td>False</td>\n",
       "    </tr>\n",
       "    <tr>\n",
       "      <th>4</th>\n",
       "      <td>Norwalk</td>\n",
       "      <td>05/16/2018 09:38:00 AM</td>\n",
       "      <td>NORWALK</td>\n",
       "      <td>V</td>\n",
       "      <td>100000335</td>\n",
       "      <td>True</td>\n",
       "      <td>I</td>\n",
       "      <td>Defective Lights</td>\n",
       "      <td>35.0</td>\n",
       "      <td>N</td>\n",
       "      <td>W</td>\n",
       "      <td>M</td>\n",
       "      <td>True</td>\n",
       "    </tr>\n",
       "  </tbody>\n",
       "</table>\n",
       "</div>"
      ],
      "text/plain": [
       "   Department Name    InterventionDateTime InterventionLocationName  \\\n",
       "id                                                                    \n",
       "0           Vernon  05/16/2018 02:39:00 AM                   VERNON   \n",
       "1           Vernon  05/16/2018 02:39:00 AM                   VERNON   \n",
       "2          Milford  05/16/2018 04:08:00 AM                  MILFORD   \n",
       "3          Milford  05/16/2018 04:08:00 AM                  MILFORD   \n",
       "4          Norwalk  05/16/2018 09:38:00 AM                  NORWALK   \n",
       "\n",
       "   InterventionReasonCode ReportingOfficerIdentificationID  ResidentIndicator  \\\n",
       "id                                                                              \n",
       "0                       V                              625              False   \n",
       "1                       V                              625              False   \n",
       "2                       E                              473               True   \n",
       "3                       E                              473               True   \n",
       "4                       V                        100000335               True   \n",
       "\n",
       "   SearchAuthorizationCode     StatuteReason  SubjectAge SubjectEthnicityCode  \\\n",
       "id                                                                              \n",
       "0                        C      Registration        40.0                    N   \n",
       "1                        C      Registration        40.0                    N   \n",
       "2                        I             Other        49.0                    N   \n",
       "3                        I             Other        49.0                    N   \n",
       "4                        I  Defective Lights        35.0                    N   \n",
       "\n",
       "   SubjectRaceCode SubjectSexCode  TownResidentIndicator  \n",
       "id                                                        \n",
       "0                B              M                  False  \n",
       "1                B              M                  False  \n",
       "2                B              F                  False  \n",
       "3                B              F                  False  \n",
       "4                W              M                   True  "
      ]
     },
     "execution_count": 7,
     "metadata": {},
     "output_type": "execute_result"
    }
   ],
   "source": [
    "df_obs.head()"
   ]
  },
  {
   "cell_type": "code",
   "execution_count": 8,
   "metadata": {},
   "outputs": [],
   "source": [
    "df_obs['proba'] = df_results['proba']"
   ]
  },
  {
   "cell_type": "code",
   "execution_count": 9,
   "metadata": {},
   "outputs": [],
   "source": [
    "df_obs['true_class'] = df_results['true_class']"
   ]
  },
  {
   "cell_type": "code",
   "execution_count": 10,
   "metadata": {},
   "outputs": [
    {
     "name": "stdout",
     "output_type": "stream",
     "text": [
      "<class 'pandas.core.frame.DataFrame'>\n",
      "Int64Index: 10002 entries, 0 to 900003\n",
      "Data columns (total 15 columns):\n",
      "Department Name                     10002 non-null object\n",
      "InterventionDateTime                10002 non-null object\n",
      "InterventionLocationName            10002 non-null object\n",
      "InterventionReasonCode              10002 non-null object\n",
      "ReportingOfficerIdentificationID    10002 non-null object\n",
      "ResidentIndicator                   10002 non-null bool\n",
      "SearchAuthorizationCode             10002 non-null object\n",
      "StatuteReason                       10002 non-null object\n",
      "SubjectAge                          10002 non-null float64\n",
      "SubjectEthnicityCode                10002 non-null object\n",
      "SubjectRaceCode                     10002 non-null object\n",
      "SubjectSexCode                      10002 non-null object\n",
      "TownResidentIndicator               10002 non-null bool\n",
      "proba                               10000 non-null float64\n",
      "true_class                          5000 non-null float64\n",
      "dtypes: bool(2), float64(3), object(10)\n",
      "memory usage: 1.1+ MB\n"
     ]
    }
   ],
   "source": [
    "df_obs.info()"
   ]
  },
  {
   "cell_type": "markdown",
   "metadata": {},
   "source": [
    "# Metrics"
   ]
  },
  {
   "cell_type": "code",
   "execution_count": 51,
   "metadata": {},
   "outputs": [],
   "source": [
    "decision_thr = 0.5"
   ]
  },
  {
   "cell_type": "code",
   "execution_count": 52,
   "metadata": {},
   "outputs": [],
   "source": [
    "y_true = df_obs.dropna().true_class.astype(int)\n",
    "y_pred = df_obs.dropna().proba.apply(lambda x: x > decision_thr).astype(int)\n",
    "y_prob = df_obs.dropna().proba"
   ]
  },
  {
   "cell_type": "code",
   "execution_count": 53,
   "metadata": {},
   "outputs": [
    {
     "data": {
      "text/plain": [
       "0.6005416384563304"
      ]
     },
     "execution_count": 53,
     "metadata": {},
     "output_type": "execute_result"
    }
   ],
   "source": [
    "precision = precision_score(y_true, y_pred)\n",
    "precision"
   ]
  },
  {
   "cell_type": "code",
   "execution_count": 54,
   "metadata": {},
   "outputs": [
    {
     "data": {
      "text/plain": [
       "0.49415041782729807"
      ]
     },
     "execution_count": 54,
     "metadata": {},
     "output_type": "execute_result"
    }
   ],
   "source": [
    "recall = recall_score(y_true, y_pred)\n",
    "recall"
   ]
  },
  {
   "cell_type": "code",
   "execution_count": 55,
   "metadata": {},
   "outputs": [
    {
     "data": {
      "text/plain": [
       "0.7004"
      ]
     },
     "execution_count": 55,
     "metadata": {},
     "output_type": "execute_result"
    }
   ],
   "source": [
    "accuracy = accuracy_score(y_true, y_pred)\n",
    "accuracy"
   ]
  },
  {
   "cell_type": "markdown",
   "metadata": {},
   "source": [
    "# Curves"
   ]
  },
  {
   "cell_type": "code",
   "execution_count": 56,
   "metadata": {},
   "outputs": [],
   "source": [
    "fpr, tpr, thresholds_roc = roc_curve(y_true, y_prob)\n",
    "AUROC = roc_auc_score(y_true, y_prob)*100"
   ]
  },
  {
   "cell_type": "code",
   "execution_count": 57,
   "metadata": {},
   "outputs": [
    {
     "data": {
      "image/png": "[encoded data removed]",
      "text/plain": [
       "<Figure size 432x288 with 1 Axes>"
      ]
     },
     "metadata": {
      "needs_background": "light"
     },
     "output_type": "display_data"
    }
   ],
   "source": [
    "plt.figure(1)\n",
    "plt.plot([0, 1], [0, 1], 'k--')\n",
    "plt.plot(fpr, tpr, label='ROC curve')\n",
    "\n",
    "plt.xlabel('False positive rate')\n",
    "plt.ylabel('True positive rate')\n",
    "plt.title('ROC curve')\n",
    "\n",
    "plt.xlim(0, 1)\n",
    "plt.ylim(0, 1)\n",
    "\n",
    "plt.text(0.6, 0.2, \"Area = {}\".format(round(AUROC,2)), dict(size=15))\n",
    "\n",
    "plt.legend(loc='best')\n",
    "plt.show()"
   ]
  },
  {
   "cell_type": "code",
   "execution_count": 58,
   "metadata": {},
   "outputs": [
    {
     "data": {
      "image/png": "[encoded data removed]",
      "text/plain": [
       "<Figure size 432x288 with 1 Axes>"
      ]
     },
     "metadata": {
      "needs_background": "light"
     },
     "output_type": "display_data"
    }
   ],
   "source": [
    "plt.figure(2)\n",
    "plt.plot(thresholds_roc, fpr , label='True PR')\n",
    "plt.plot(thresholds_roc, tpr, label='False PR')\n",
    "\n",
    "plt.axvline(x=decision_thr, color='r', linestyle='-.')\n",
    "\n",
    "plt.xlabel('Decision threshold')\n",
    "plt.ylabel('True/False positive rate')\n",
    "#plt.title('ROC curve')\n",
    "\n",
    "plt.xlim(0, 1)\n",
    "plt.ylim(0, 1)\n",
    "\n",
    "plt.legend(loc='best')\n",
    "plt.show()"
   ]
  },
  {
   "cell_type": "code",
   "execution_count": 59,
   "metadata": {},
   "outputs": [],
   "source": [
    "precision_vec, recall_vec, thresholds_pr = precision_recall_curve(y_true, y_prob)"
   ]
  },
  {
   "cell_type": "code",
   "execution_count": 60,
   "metadata": {},
   "outputs": [
    {
     "data": {
      "image/png": "[encoded data removed]",
      "text/plain": [
       "<Figure size 432x288 with 1 Axes>"
      ]
     },
     "metadata": {
      "needs_background": "light"
     },
     "output_type": "display_data"
    }
   ],
   "source": [
    "plt.figure(3)\n",
    "plt.plot([0, 1], [0, 1], 'k--')\n",
    "plt.plot(recall_vec, precision_vec, label='precision-recall curve')\n",
    "\n",
    "plt.xlabel('recall')\n",
    "plt.ylabel('precision')\n",
    "plt.title('precision-recall curve')\n",
    "\n",
    "plt.xlim(0, 1)\n",
    "plt.ylim(0, 1)\n",
    "\n",
    "plt.legend(loc='best')\n",
    "plt.show()"
   ]
  },
  {
   "cell_type": "code",
   "execution_count": null,
   "metadata": {},
   "outputs": [],
   "source": []
  },
  {
   "cell_type": "code",
   "execution_count": null,
   "metadata": {},
   "outputs": [],
   "source": []
  },
  {
   "cell_type": "code",
   "execution_count": null,
   "metadata": {},
   "outputs": [],
   "source": []
  },
  {
   "cell_type": "code",
   "execution_count": null,
   "metadata": {},
   "outputs": [],
   "source": []
  },
  {
   "cell_type": "code",
   "execution_count": null,
   "metadata": {},
   "outputs": [],
   "source": []
  },
  {
   "cell_type": "code",
   "execution_count": null,
   "metadata": {},
   "outputs": [],
   "source": []
  },
  {
   "cell_type": "code",
   "execution_count": null,
   "metadata": {},
   "outputs": [],
   "source": []
  }
 ],
 "metadata": {
  "kernelspec": {
   "display_name": "Python 3",
   "language": "python",
   "name": "python3"
  },
  "language_info": {
   "codemirror_mode": {
    "name": "ipython",
    "version": 3
   },
   "file_extension": ".py",
   "mimetype": "text/x-python",
   "name": "python",
   "nbconvert_exporter": "python",
   "pygments_lexer": "ipython3",
   "version": "3.7.1"
  }
 },
 "nbformat": 4,
 "nbformat_minor": 2
}
