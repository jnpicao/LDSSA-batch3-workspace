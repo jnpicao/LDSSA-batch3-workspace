{
 "cells": [
  {
   "cell_type": "code",
   "execution_count": 1,
   "metadata": {},
   "outputs": [],
   "source": [
    "# Operating System\n",
    "import os\n",
    "\n",
    "import pickle\n",
    "import json\n",
    "\n",
    "#Pandas and Numpy\n",
    "import pandas as pd\n",
    "import numpy as np\n",
    "\n",
    "#ramdom generator\n",
    "import random\n",
    "\n",
    "# from sklearn.model_selection import train_test_split\n",
    "\n",
    "# from sklearn.pipeline import Pipeline, make_pipeline, FeatureUnion\n",
    "# from sklearn.base import TransformerMixin, BaseEstimator\n",
    "\n",
    "# import category_encoders as ce\n",
    "# from sklearn.preprocessing import KBinsDiscretizer, Binarizer\n",
    "\n",
    "# from sklearn.ensemble import RandomForestClassifier\n",
    "# from sklearn.tree import DecisionTreeClassifier\n",
    "\n",
    "from sklearn.metrics import precision_score, recall_score, accuracy_score, roc_auc_score, classification_report\n",
    "from sklearn.metrics import roc_curve, precision_recall_curve\n",
    "from sklearn.metrics import confusion_matrix\n",
    "\n",
    "# # Custom transformers\n",
    "# from custom_transformers.transformer import Selector, TextSelector, NumberSelector, BoolSelector, TextCleanerTransformer\n",
    "\n",
    "# #CURL requests\n",
    "# import requests \n",
    "\n",
    "#Plots\n",
    "import matplotlib.pyplot as plt\n",
    "%matplotlib inline\n",
    "\n",
    "# # Statistics\n",
    "from scipy.stats import binom_test, norm\n",
    "\n",
    "# Strings\n",
    "import re\n",
    "\n",
    "# For results comparison\n",
    "from math import isclose\n"
   ]
  },
  {
   "cell_type": "markdown",
   "metadata": {},
   "source": [
    "# Load data production"
   ]
  },
  {
   "cell_type": "code",
   "execution_count": 2,
   "metadata": {},
   "outputs": [],
   "source": [
    "file_path = os.path.join('heroku', 'heroku_db', 'heroku_complete_db.csv')\n",
    "\n",
    "df_results = pd.read_csv(file_path,\n",
    "                         sep=\";\",\n",
    "                         # nrows = 100, \n",
    "                         header=0,\n",
    "                         warn_bad_lines=True)\n",
    "\n"
   ]
  },
  {
   "cell_type": "code",
   "execution_count": 3,
   "metadata": {
    "scrolled": true
   },
   "outputs": [
    {
     "data": {
      "text/html": [
       "<div>\n",
       "<style scoped>\n",
       "    .dataframe tbody tr th:only-of-type {\n",
       "        vertical-align: middle;\n",
       "    }\n",
       "\n",
       "    .dataframe tbody tr th {\n",
       "        vertical-align: top;\n",
       "    }\n",
       "\n",
       "    .dataframe thead th {\n",
       "        text-align: right;\n",
       "    }\n",
       "</style>\n",
       "<table border=\"1\" class=\"dataframe\">\n",
       "  <thead>\n",
       "    <tr style=\"text-align: right;\">\n",
       "      <th></th>\n",
       "      <th>id</th>\n",
       "      <th>observation_id</th>\n",
       "      <th>observation</th>\n",
       "      <th>proba</th>\n",
       "      <th>true_class</th>\n",
       "    </tr>\n",
       "  </thead>\n",
       "  <tbody>\n",
       "    <tr>\n",
       "      <th>0</th>\n",
       "      <td>3</td>\n",
       "      <td>0</td>\n",
       "      <td>{\"id\": 0, \"observation\": {\"Department Name\": \"...</td>\n",
       "      <td>0.456029</td>\n",
       "      <td>0.0</td>\n",
       "    </tr>\n",
       "    <tr>\n",
       "      <th>1</th>\n",
       "      <td>4</td>\n",
       "      <td>1</td>\n",
       "      <td>{\"id\": 1, \"observation\": {\"Department Name\": \"...</td>\n",
       "      <td>0.456029</td>\n",
       "      <td>0.0</td>\n",
       "    </tr>\n",
       "    <tr>\n",
       "      <th>2</th>\n",
       "      <td>5</td>\n",
       "      <td>2</td>\n",
       "      <td>{\"id\": 2, \"observation\": {\"Department Name\": \"...</td>\n",
       "      <td>0.490537</td>\n",
       "      <td>1.0</td>\n",
       "    </tr>\n",
       "    <tr>\n",
       "      <th>3</th>\n",
       "      <td>6</td>\n",
       "      <td>3</td>\n",
       "      <td>{\"id\": 3, \"observation\": {\"Department Name\": \"...</td>\n",
       "      <td>0.490537</td>\n",
       "      <td>1.0</td>\n",
       "    </tr>\n",
       "    <tr>\n",
       "      <th>4</th>\n",
       "      <td>7</td>\n",
       "      <td>4</td>\n",
       "      <td>{\"id\": 4, \"observation\": {\"Department Name\": \"...</td>\n",
       "      <td>0.000000</td>\n",
       "      <td>0.0</td>\n",
       "    </tr>\n",
       "  </tbody>\n",
       "</table>\n",
       "</div>"
      ],
      "text/plain": [
       "   id  observation_id                                        observation  \\\n",
       "0   3               0  {\"id\": 0, \"observation\": {\"Department Name\": \"...   \n",
       "1   4               1  {\"id\": 1, \"observation\": {\"Department Name\": \"...   \n",
       "2   5               2  {\"id\": 2, \"observation\": {\"Department Name\": \"...   \n",
       "3   6               3  {\"id\": 3, \"observation\": {\"Department Name\": \"...   \n",
       "4   7               4  {\"id\": 4, \"observation\": {\"Department Name\": \"...   \n",
       "\n",
       "      proba  true_class  \n",
       "0  0.456029         0.0  \n",
       "1  0.456029         0.0  \n",
       "2  0.490537         1.0  \n",
       "3  0.490537         1.0  \n",
       "4  0.000000         0.0  "
      ]
     },
     "execution_count": 3,
     "metadata": {},
     "output_type": "execute_result"
    }
   ],
   "source": [
    "df_results.head()"
   ]
  },
  {
   "cell_type": "code",
   "execution_count": 4,
   "metadata": {},
   "outputs": [],
   "source": [
    "observations_decoupled = df_results['observation'].apply(json.loads).apply(pd.Series)"
   ]
  },
  {
   "cell_type": "code",
   "execution_count": 5,
   "metadata": {
    "scrolled": true
   },
   "outputs": [
    {
     "data": {
      "text/html": [
       "<div>\n",
       "<style scoped>\n",
       "    .dataframe tbody tr th:only-of-type {\n",
       "        vertical-align: middle;\n",
       "    }\n",
       "\n",
       "    .dataframe tbody tr th {\n",
       "        vertical-align: top;\n",
       "    }\n",
       "\n",
       "    .dataframe thead th {\n",
       "        text-align: right;\n",
       "    }\n",
       "</style>\n",
       "<table border=\"1\" class=\"dataframe\">\n",
       "  <thead>\n",
       "    <tr style=\"text-align: right;\">\n",
       "      <th></th>\n",
       "      <th>id</th>\n",
       "      <th>observation</th>\n",
       "    </tr>\n",
       "  </thead>\n",
       "  <tbody>\n",
       "    <tr>\n",
       "      <th>0</th>\n",
       "      <td>0</td>\n",
       "      <td>{'Department Name': 'Vernon', 'InterventionDat...</td>\n",
       "    </tr>\n",
       "    <tr>\n",
       "      <th>1</th>\n",
       "      <td>1</td>\n",
       "      <td>{'Department Name': 'Vernon', 'InterventionDat...</td>\n",
       "    </tr>\n",
       "    <tr>\n",
       "      <th>2</th>\n",
       "      <td>2</td>\n",
       "      <td>{'Department Name': 'Milford', 'InterventionDa...</td>\n",
       "    </tr>\n",
       "    <tr>\n",
       "      <th>3</th>\n",
       "      <td>3</td>\n",
       "      <td>{'Department Name': 'Milford', 'InterventionDa...</td>\n",
       "    </tr>\n",
       "    <tr>\n",
       "      <th>4</th>\n",
       "      <td>4</td>\n",
       "      <td>{'Department Name': 'Norwalk', 'InterventionDa...</td>\n",
       "    </tr>\n",
       "  </tbody>\n",
       "</table>\n",
       "</div>"
      ],
      "text/plain": [
       "   id                                        observation\n",
       "0   0  {'Department Name': 'Vernon', 'InterventionDat...\n",
       "1   1  {'Department Name': 'Vernon', 'InterventionDat...\n",
       "2   2  {'Department Name': 'Milford', 'InterventionDa...\n",
       "3   3  {'Department Name': 'Milford', 'InterventionDa...\n",
       "4   4  {'Department Name': 'Norwalk', 'InterventionDa..."
      ]
     },
     "execution_count": 5,
     "metadata": {},
     "output_type": "execute_result"
    }
   ],
   "source": [
    "observations_decoupled.head()"
   ]
  },
  {
   "cell_type": "code",
   "execution_count": 6,
   "metadata": {},
   "outputs": [],
   "source": [
    "df_obs = pd.DataFrame(list(observations_decoupled.observation), index=observations_decoupled.id)"
   ]
  },
  {
   "cell_type": "code",
   "execution_count": 7,
   "metadata": {
    "scrolled": false
   },
   "outputs": [
    {
     "data": {
      "text/html": [
       "<div>\n",
       "<style scoped>\n",
       "    .dataframe tbody tr th:only-of-type {\n",
       "        vertical-align: middle;\n",
       "    }\n",
       "\n",
       "    .dataframe tbody tr th {\n",
       "        vertical-align: top;\n",
       "    }\n",
       "\n",
       "    .dataframe thead th {\n",
       "        text-align: right;\n",
       "    }\n",
       "</style>\n",
       "<table border=\"1\" class=\"dataframe\">\n",
       "  <thead>\n",
       "    <tr style=\"text-align: right;\">\n",
       "      <th></th>\n",
       "      <th>Department Name</th>\n",
       "      <th>InterventionDateTime</th>\n",
       "      <th>InterventionLocationName</th>\n",
       "      <th>InterventionReasonCode</th>\n",
       "      <th>ReportingOfficerIdentificationID</th>\n",
       "      <th>ResidentIndicator</th>\n",
       "      <th>SearchAuthorizationCode</th>\n",
       "      <th>StatuteReason</th>\n",
       "      <th>SubjectAge</th>\n",
       "      <th>SubjectEthnicityCode</th>\n",
       "      <th>SubjectRaceCode</th>\n",
       "      <th>SubjectSexCode</th>\n",
       "      <th>TownResidentIndicator</th>\n",
       "    </tr>\n",
       "    <tr>\n",
       "      <th>id</th>\n",
       "      <th></th>\n",
       "      <th></th>\n",
       "      <th></th>\n",
       "      <th></th>\n",
       "      <th></th>\n",
       "      <th></th>\n",
       "      <th></th>\n",
       "      <th></th>\n",
       "      <th></th>\n",
       "      <th></th>\n",
       "      <th></th>\n",
       "      <th></th>\n",
       "      <th></th>\n",
       "    </tr>\n",
       "  </thead>\n",
       "  <tbody>\n",
       "    <tr>\n",
       "      <th>0</th>\n",
       "      <td>Vernon</td>\n",
       "      <td>05/16/2018 02:39:00 AM</td>\n",
       "      <td>VERNON</td>\n",
       "      <td>V</td>\n",
       "      <td>625</td>\n",
       "      <td>False</td>\n",
       "      <td>C</td>\n",
       "      <td>Registration</td>\n",
       "      <td>40.0</td>\n",
       "      <td>N</td>\n",
       "      <td>B</td>\n",
       "      <td>M</td>\n",
       "      <td>False</td>\n",
       "    </tr>\n",
       "    <tr>\n",
       "      <th>1</th>\n",
       "      <td>Vernon</td>\n",
       "      <td>05/16/2018 02:39:00 AM</td>\n",
       "      <td>VERNON</td>\n",
       "      <td>V</td>\n",
       "      <td>625</td>\n",
       "      <td>False</td>\n",
       "      <td>C</td>\n",
       "      <td>Registration</td>\n",
       "      <td>40.0</td>\n",
       "      <td>N</td>\n",
       "      <td>B</td>\n",
       "      <td>M</td>\n",
       "      <td>False</td>\n",
       "    </tr>\n",
       "    <tr>\n",
       "      <th>2</th>\n",
       "      <td>Milford</td>\n",
       "      <td>05/16/2018 04:08:00 AM</td>\n",
       "      <td>MILFORD</td>\n",
       "      <td>E</td>\n",
       "      <td>473</td>\n",
       "      <td>True</td>\n",
       "      <td>I</td>\n",
       "      <td>Other</td>\n",
       "      <td>49.0</td>\n",
       "      <td>N</td>\n",
       "      <td>B</td>\n",
       "      <td>F</td>\n",
       "      <td>False</td>\n",
       "    </tr>\n",
       "    <tr>\n",
       "      <th>3</th>\n",
       "      <td>Milford</td>\n",
       "      <td>05/16/2018 04:08:00 AM</td>\n",
       "      <td>MILFORD</td>\n",
       "      <td>E</td>\n",
       "      <td>473</td>\n",
       "      <td>True</td>\n",
       "      <td>I</td>\n",
       "      <td>Other</td>\n",
       "      <td>49.0</td>\n",
       "      <td>N</td>\n",
       "      <td>B</td>\n",
       "      <td>F</td>\n",
       "      <td>False</td>\n",
       "    </tr>\n",
       "    <tr>\n",
       "      <th>4</th>\n",
       "      <td>Norwalk</td>\n",
       "      <td>05/16/2018 09:38:00 AM</td>\n",
       "      <td>NORWALK</td>\n",
       "      <td>V</td>\n",
       "      <td>100000335</td>\n",
       "      <td>True</td>\n",
       "      <td>I</td>\n",
       "      <td>Defective Lights</td>\n",
       "      <td>35.0</td>\n",
       "      <td>N</td>\n",
       "      <td>W</td>\n",
       "      <td>M</td>\n",
       "      <td>True</td>\n",
       "    </tr>\n",
       "  </tbody>\n",
       "</table>\n",
       "</div>"
      ],
      "text/plain": [
       "   Department Name    InterventionDateTime InterventionLocationName  \\\n",
       "id                                                                    \n",
       "0           Vernon  05/16/2018 02:39:00 AM                   VERNON   \n",
       "1           Vernon  05/16/2018 02:39:00 AM                   VERNON   \n",
       "2          Milford  05/16/2018 04:08:00 AM                  MILFORD   \n",
       "3          Milford  05/16/2018 04:08:00 AM                  MILFORD   \n",
       "4          Norwalk  05/16/2018 09:38:00 AM                  NORWALK   \n",
       "\n",
       "   InterventionReasonCode ReportingOfficerIdentificationID  ResidentIndicator  \\\n",
       "id                                                                              \n",
       "0                       V                              625              False   \n",
       "1                       V                              625              False   \n",
       "2                       E                              473               True   \n",
       "3                       E                              473               True   \n",
       "4                       V                        100000335               True   \n",
       "\n",
       "   SearchAuthorizationCode     StatuteReason  SubjectAge SubjectEthnicityCode  \\\n",
       "id                                                                              \n",
       "0                        C      Registration        40.0                    N   \n",
       "1                        C      Registration        40.0                    N   \n",
       "2                        I             Other        49.0                    N   \n",
       "3                        I             Other        49.0                    N   \n",
       "4                        I  Defective Lights        35.0                    N   \n",
       "\n",
       "   SubjectRaceCode SubjectSexCode  TownResidentIndicator  \n",
       "id                                                        \n",
       "0                B              M                  False  \n",
       "1                B              M                  False  \n",
       "2                B              F                  False  \n",
       "3                B              F                  False  \n",
       "4                W              M                   True  "
      ]
     },
     "execution_count": 7,
     "metadata": {},
     "output_type": "execute_result"
    }
   ],
   "source": [
    "df_obs.head()"
   ]
  },
  {
   "cell_type": "code",
   "execution_count": 8,
   "metadata": {},
   "outputs": [],
   "source": [
    "# Dropping the observations that we have sent to Heroku\n",
    "df_obs = df_obs.drop(index=[900001, 900003])"
   ]
  },
  {
   "cell_type": "code",
   "execution_count": 9,
   "metadata": {},
   "outputs": [],
   "source": [
    "df_obs['proba'] = df_results['proba']"
   ]
  },
  {
   "cell_type": "code",
   "execution_count": 10,
   "metadata": {},
   "outputs": [],
   "source": [
    "df_obs['true_class'] = df_results['true_class']"
   ]
  },
  {
   "cell_type": "code",
   "execution_count": 11,
   "metadata": {
    "scrolled": true
   },
   "outputs": [
    {
     "name": "stdout",
     "output_type": "stream",
     "text": [
      "<class 'pandas.core.frame.DataFrame'>\n",
      "Int64Index: 10000 entries, 0 to 9999\n",
      "Data columns (total 15 columns):\n",
      "Department Name                     10000 non-null object\n",
      "InterventionDateTime                10000 non-null object\n",
      "InterventionLocationName            10000 non-null object\n",
      "InterventionReasonCode              10000 non-null object\n",
      "ReportingOfficerIdentificationID    10000 non-null object\n",
      "ResidentIndicator                   10000 non-null bool\n",
      "SearchAuthorizationCode             10000 non-null object\n",
      "StatuteReason                       10000 non-null object\n",
      "SubjectAge                          10000 non-null float64\n",
      "SubjectEthnicityCode                10000 non-null object\n",
      "SubjectRaceCode                     10000 non-null object\n",
      "SubjectSexCode                      10000 non-null object\n",
      "TownResidentIndicator               10000 non-null bool\n",
      "proba                               10000 non-null float64\n",
      "true_class                          5000 non-null float64\n",
      "dtypes: bool(2), float64(3), object(10)\n",
      "memory usage: 1.1+ MB\n"
     ]
    }
   ],
   "source": [
    "df_obs.info()"
   ]
  },
  {
   "cell_type": "code",
   "execution_count": 12,
   "metadata": {},
   "outputs": [],
   "source": [
    "df_obs_known = df_obs.dropna()"
   ]
  },
  {
   "cell_type": "code",
   "execution_count": 145,
   "metadata": {},
   "outputs": [
    {
     "data": {
      "text/plain": [
       "(5000, 15)"
      ]
     },
     "execution_count": 145,
     "metadata": {},
     "output_type": "execute_result"
    }
   ],
   "source": [
    "df_obs_known.shape"
   ]
  },
  {
   "cell_type": "markdown",
   "metadata": {},
   "source": [
    "# Load data training"
   ]
  },
  {
   "cell_type": "code",
   "execution_count": 13,
   "metadata": {},
   "outputs": [],
   "source": [
    "file_path = os.path.join('data', 'train.csv')\n",
    "\n",
    "# Option for reading a sample of the file\n",
    "# sample 20% of the rows\n",
    "p = 1\n",
    "\n",
    "random.seed(178) # this is to get always the same sample. can be removed if we want the sample to change\n",
    "try:\n",
    "    df_original = pd.read_csv(file_path, \n",
    "                             skiprows = lambda row_num: random.random() > p and row_num > 0,                              \n",
    "                             header=0,\n",
    "                             warn_bad_lines=True)\n",
    "except:\n",
    "    print('Ooops!!! We got an error!')\n",
    "else:\n",
    "    # Drop observations correspoding to stops that didn't lead to a search\n",
    "    df_train = df_original[df_original.VehicleSearchedIndicator==True].reset_index(drop=True).drop(columns='VehicleSearchedIndicator')\n",
    "    del df_original\n"
   ]
  },
  {
   "cell_type": "code",
   "execution_count": 14,
   "metadata": {},
   "outputs": [
    {
     "name": "stdout",
     "output_type": "stream",
     "text": [
      "<class 'pandas.core.frame.DataFrame'>\n",
      "RangeIndex: 76743 entries, 0 to 76742\n",
      "Data columns (total 14 columns):\n",
      "ContrabandIndicator                 76743 non-null bool\n",
      "Department Name                     76743 non-null object\n",
      "InterventionDateTime                76743 non-null object\n",
      "InterventionLocationName            76734 non-null object\n",
      "InterventionReasonCode              76743 non-null object\n",
      "ReportingOfficerIdentificationID    76743 non-null object\n",
      "ResidentIndicator                   76743 non-null bool\n",
      "SearchAuthorizationCode             76733 non-null object\n",
      "StatuteReason                       76733 non-null object\n",
      "SubjectAge                          76743 non-null float64\n",
      "SubjectEthnicityCode                76743 non-null object\n",
      "SubjectRaceCode                     76743 non-null object\n",
      "SubjectSexCode                      76743 non-null object\n",
      "TownResidentIndicator               76743 non-null bool\n",
      "dtypes: bool(3), float64(1), object(10)\n",
      "memory usage: 6.7+ MB\n"
     ]
    }
   ],
   "source": [
    "df_train.info()"
   ]
  },
  {
   "cell_type": "markdown",
   "metadata": {},
   "source": [
    "# Metrics"
   ]
  },
  {
   "cell_type": "code",
   "execution_count": 15,
   "metadata": {},
   "outputs": [],
   "source": [
    "decision_thr = 0.5"
   ]
  },
  {
   "cell_type": "code",
   "execution_count": 16,
   "metadata": {},
   "outputs": [],
   "source": [
    "# y_true = df_obs.dropna().true_class.astype(int)\n",
    "# y_pred = df_obs.dropna().proba.apply(lambda x: x > decision_thr).astype(int)\n",
    "# y_prob = df_obs.dropna().proba"
   ]
  },
  {
   "cell_type": "code",
   "execution_count": 17,
   "metadata": {},
   "outputs": [],
   "source": [
    "y_true = df_obs_known.true_class.astype(int)\n",
    "y_pred = df_obs_known.proba.apply(lambda x: x > decision_thr).astype(int)\n",
    "y_prob = df_obs_known.proba"
   ]
  },
  {
   "cell_type": "code",
   "execution_count": 18,
   "metadata": {},
   "outputs": [
    {
     "data": {
      "text/plain": [
       "0.6005416384563304"
      ]
     },
     "execution_count": 18,
     "metadata": {},
     "output_type": "execute_result"
    }
   ],
   "source": [
    "precision = precision_score(y_true, y_pred)\n",
    "precision"
   ]
  },
  {
   "cell_type": "code",
   "execution_count": 19,
   "metadata": {},
   "outputs": [
    {
     "data": {
      "text/plain": [
       "0.49415041782729807"
      ]
     },
     "execution_count": 19,
     "metadata": {},
     "output_type": "execute_result"
    }
   ],
   "source": [
    "recall = recall_score(y_true, y_pred)\n",
    "recall"
   ]
  },
  {
   "cell_type": "code",
   "execution_count": 20,
   "metadata": {
    "scrolled": true
   },
   "outputs": [
    {
     "data": {
      "text/plain": [
       "0.7004"
      ]
     },
     "execution_count": 20,
     "metadata": {},
     "output_type": "execute_result"
    }
   ],
   "source": [
    "accuracy = accuracy_score(y_true, y_pred)\n",
    "accuracy"
   ]
  },
  {
   "cell_type": "code",
   "execution_count": 21,
   "metadata": {},
   "outputs": [
    {
     "name": "stdout",
     "output_type": "stream",
     "text": [
      "Percentage of searches performed: 29.54%\n"
     ]
    }
   ],
   "source": [
    "print(\"Percentage of searches performed: {}%\".format(y_pred.mean()*100))"
   ]
  },
  {
   "cell_type": "code",
   "execution_count": 22,
   "metadata": {},
   "outputs": [
    {
     "data": {
      "text/plain": [
       "array([[2615,  590],\n",
       "       [ 908,  887]], dtype=int64)"
      ]
     },
     "execution_count": 22,
     "metadata": {},
     "output_type": "execute_result"
    }
   ],
   "source": [
    "cf = confusion_matrix(y_true, y_pred)\n",
    "cf"
   ]
  },
  {
   "cell_type": "code",
   "execution_count": 23,
   "metadata": {},
   "outputs": [],
   "source": [
    "TN = cf[0][0]\n",
    "TP = cf[1][1]\n",
    "FN = cf[1][0]\n",
    "FP = cf[0][1]"
   ]
  },
  {
   "cell_type": "markdown",
   "metadata": {},
   "source": [
    "Sanity checks:"
   ]
  },
  {
   "cell_type": "code",
   "execution_count": 24,
   "metadata": {},
   "outputs": [
    {
     "data": {
      "text/plain": [
       "True"
      ]
     },
     "execution_count": 24,
     "metadata": {},
     "output_type": "execute_result"
    }
   ],
   "source": [
    "precision == TP/(TP+FP) "
   ]
  },
  {
   "cell_type": "code",
   "execution_count": 25,
   "metadata": {},
   "outputs": [
    {
     "data": {
      "text/plain": [
       "True"
      ]
     },
     "execution_count": 25,
     "metadata": {},
     "output_type": "execute_result"
    }
   ],
   "source": [
    "recall == TP/(TP+FN)"
   ]
  },
  {
   "cell_type": "markdown",
   "metadata": {},
   "source": [
    "### Without model decision"
   ]
  },
  {
   "cell_type": "code",
   "execution_count": 26,
   "metadata": {},
   "outputs": [],
   "source": [
    "TN2 = 0\n",
    "TP2 = y_true.sum()\n",
    "FN2 = 0\n",
    "FP2 = (y_true==0).sum()"
   ]
  },
  {
   "cell_type": "code",
   "execution_count": 27,
   "metadata": {},
   "outputs": [
    {
     "data": {
      "text/plain": [
       "0.359"
      ]
     },
     "execution_count": 27,
     "metadata": {},
     "output_type": "execute_result"
    }
   ],
   "source": [
    "precision2 = TP2/(TP2+FP2)\n",
    "precision2"
   ]
  },
  {
   "cell_type": "code",
   "execution_count": 28,
   "metadata": {},
   "outputs": [
    {
     "data": {
      "text/plain": [
       "1.0"
      ]
     },
     "execution_count": 28,
     "metadata": {},
     "output_type": "execute_result"
    }
   ],
   "source": [
    "recall2 = TP2/(TP2+FN2)\n",
    "recall2"
   ]
  },
  {
   "cell_type": "markdown",
   "metadata": {},
   "source": [
    "# Curves"
   ]
  },
  {
   "cell_type": "code",
   "execution_count": 29,
   "metadata": {},
   "outputs": [],
   "source": [
    "fpr, tpr, thresholds_roc = roc_curve(y_true, y_prob)\n",
    "AUROC = roc_auc_score(y_true, y_prob)*100"
   ]
  },
  {
   "cell_type": "code",
   "execution_count": 30,
   "metadata": {
    "scrolled": false
   },
   "outputs": [
    {
     "data": {
      "image/png": "[encoded data removed]",
      "text/plain": [
       "<Figure size 432x288 with 1 Axes>"
      ]
     },
     "metadata": {
      "needs_background": "light"
     },
     "output_type": "display_data"
    }
   ],
   "source": [
    "idx_op = (np.abs(thresholds_roc - decision_thr)).argmin()\n",
    "\n",
    "plt.figure(1)\n",
    "plt.plot([0, 1], [0, 1], 'k--')\n",
    "plt.plot(fpr, tpr, label='ROC curve')\n",
    "\n",
    "plt.xlabel('False positive rate')\n",
    "plt.ylabel('True positive rate')\n",
    "plt.title('ROC curve')\n",
    "\n",
    "plt.xlim(0, 1)\n",
    "plt.ylim(0, 1)\n",
    "\n",
    "plt.xticks(np.arange(0, 1, step=0.1))\n",
    "plt.yticks(np.arange(0, 1, step=0.1))\n",
    "\n",
    "plt.text(0.6, 0.2, \"Area = {}\".format(round(AUROC,2)), dict(size=15))\n",
    "\n",
    "plt.annotate(\"operating point\", xy=(fpr[idx_op],tpr[idx_op]), xytext=(0.03,0.7), arrowprops=dict(arrowstyle='->'))\n",
    "\n",
    "plt.legend(loc='best')\n",
    "plt.show()"
   ]
  },
  {
   "cell_type": "code",
   "execution_count": 31,
   "metadata": {},
   "outputs": [
    {
     "data": {
      "image/png": "[encoded data removed]",
      "text/plain": [
       "<Figure size 432x288 with 1 Axes>"
      ]
     },
     "metadata": {
      "needs_background": "light"
     },
     "output_type": "display_data"
    }
   ],
   "source": [
    "plt.figure(2)\n",
    "plt.plot(thresholds_roc, fpr , label='False PR')\n",
    "plt.plot(thresholds_roc, tpr, label='True PR')\n",
    "\n",
    "plt.axvline(x=decision_thr, color='r', linestyle='-.')\n",
    "\n",
    "plt.xlabel('Decision threshold')\n",
    "plt.ylabel('True/False positive rate')\n",
    "#plt.title('ROC curve')\n",
    "\n",
    "plt.xlim(0, 1)\n",
    "plt.ylim(0, 1)\n",
    "\n",
    "plt.legend(loc='best')\n",
    "plt.show()"
   ]
  },
  {
   "cell_type": "code",
   "execution_count": 32,
   "metadata": {},
   "outputs": [],
   "source": [
    "precision_vec, recall_vec, thresholds_pr = precision_recall_curve(y_true, y_prob)"
   ]
  },
  {
   "cell_type": "code",
   "execution_count": 33,
   "metadata": {},
   "outputs": [
    {
     "data": {
      "image/png": "[encoded data removed]",
      "text/plain": [
       "<Figure size 432x288 with 1 Axes>"
      ]
     },
     "metadata": {
      "needs_background": "light"
     },
     "output_type": "display_data"
    }
   ],
   "source": [
    "plt.figure(3)\n",
    "plt.plot([0, 1], [0, 1], 'k--')\n",
    "plt.plot(recall_vec, precision_vec, label='precision-recall curve')\n",
    "\n",
    "plt.xlabel('recall')\n",
    "plt.ylabel('precision')\n",
    "plt.title('precision-recall curve')\n",
    "\n",
    "plt.xlim(0, 1)\n",
    "plt.ylim(0, 1)\n",
    "\n",
    "plt.legend(loc='best')\n",
    "plt.show()"
   ]
  },
  {
   "cell_type": "markdown",
   "metadata": {},
   "source": [
    "# Metrics among protected classes"
   ]
  },
  {
   "cell_type": "markdown",
   "metadata": {},
   "source": [
    "## Deployed model"
   ]
  },
  {
   "cell_type": "code",
   "execution_count": 207,
   "metadata": {},
   "outputs": [],
   "source": [
    "# df_obs_classes = pd.DataFrame({df_obs_known.SubjectRaceCode.name: df_obs_known.SubjectRaceCode, \n",
    "#                                 df_obs_known.SubjectEthnicityCode.name: df_obs_known.SubjectEthnicityCode, \n",
    "#                                 df_obs_known.SubjectSexCode.name: df_obs_known.SubjectSexCode, \n",
    "#                                 'y_true': y_true, \n",
    "#                                 'y_pred': y_pred})"
   ]
  },
  {
   "cell_type": "code",
   "execution_count": 208,
   "metadata": {},
   "outputs": [],
   "source": [
    "df_obs_classes = pd.DataFrame({df_obs_known.SubjectRaceCode.name: df_obs_known.SubjectRaceCode, \n",
    "                               df_obs_known.SubjectEthnicityCode.name: df_obs_known.SubjectEthnicityCode, \n",
    "                               df_obs_known.SubjectSexCode.name: df_obs_known.SubjectSexCode, \n",
    "                               df_obs_known.SearchAuthorizationCode.name: df_obs_known.SearchAuthorizationCode, \n",
    "                               df_obs_known.StatuteReason.name: df_obs_known.StatuteReason, \n",
    "                               df_obs_known.SubjectAge.name: df_obs_known.SubjectAge, \n",
    "                               df_obs_known['Department Name'].name: df_obs_known['Department Name'],\n",
    "                               'y_true': y_true, \n",
    "                               'y_pred': y_pred})"
   ]
  },
  {
   "cell_type": "code",
   "execution_count": 211,
   "metadata": {},
   "outputs": [
    {
     "data": {
      "text/plain": [
       "True"
      ]
     },
     "execution_count": 211,
     "metadata": {},
     "output_type": "execute_result"
    }
   ],
   "source": [
    "#sanity check\n",
    "df_obs_classes.shape[0] == df_obs_known.shape[0]"
   ]
  },
  {
   "cell_type": "code",
   "execution_count": 212,
   "metadata": {},
   "outputs": [],
   "source": [
    "obs_race_results = df_obs_classes.groupby(['SubjectRaceCode','y_true', 'y_pred']).SubjectRaceCode.count()\n",
    "obs_ethnic_results = df_obs_classes.groupby(['SubjectEthnicityCode','y_true', 'y_pred']).SubjectEthnicityCode.count()\n",
    "obs_sex_results = df_obs_classes.groupby(['SubjectSexCode','y_true', 'y_pred']).SubjectSexCode.count()"
   ]
  },
  {
   "cell_type": "markdown",
   "metadata": {},
   "source": [
    "Sanity checks:"
   ]
  },
  {
   "cell_type": "code",
   "execution_count": 213,
   "metadata": {},
   "outputs": [
    {
     "data": {
      "text/plain": [
       "True"
      ]
     },
     "execution_count": 213,
     "metadata": {},
     "output_type": "execute_result"
    }
   ],
   "source": [
    "obs_race_results[:,1,:].sum() == obs_ethnic_results[:,1,:].sum() == obs_sex_results[:,1,:].sum() == y_true.sum()"
   ]
  },
  {
   "cell_type": "code",
   "execution_count": 214,
   "metadata": {},
   "outputs": [
    {
     "data": {
      "text/plain": [
       "True"
      ]
     },
     "execution_count": 214,
     "metadata": {},
     "output_type": "execute_result"
    }
   ],
   "source": [
    "obs_race_results[:,:,1].sum() == obs_ethnic_results[:,:,1].sum() == obs_sex_results[:,:,1].sum() == y_pred.sum()"
   ]
  },
  {
   "cell_type": "code",
   "execution_count": 215,
   "metadata": {},
   "outputs": [
    {
     "data": {
      "text/html": [
       "<div>\n",
       "<style scoped>\n",
       "    .dataframe tbody tr th:only-of-type {\n",
       "        vertical-align: middle;\n",
       "    }\n",
       "\n",
       "    .dataframe tbody tr th {\n",
       "        vertical-align: top;\n",
       "    }\n",
       "\n",
       "    .dataframe thead th {\n",
       "        text-align: right;\n",
       "    }\n",
       "</style>\n",
       "<table border=\"1\" class=\"dataframe\">\n",
       "  <thead>\n",
       "    <tr style=\"text-align: right;\">\n",
       "      <th></th>\n",
       "      <th>SubjectRaceCode</th>\n",
       "      <th>SubjectEthnicityCode</th>\n",
       "      <th>SubjectSexCode</th>\n",
       "      <th>SearchAuthorizationCode</th>\n",
       "      <th>StatuteReason</th>\n",
       "      <th>SubjectAge</th>\n",
       "      <th>Department Name</th>\n",
       "      <th>y_true</th>\n",
       "      <th>y_pred</th>\n",
       "    </tr>\n",
       "    <tr>\n",
       "      <th>id</th>\n",
       "      <th></th>\n",
       "      <th></th>\n",
       "      <th></th>\n",
       "      <th></th>\n",
       "      <th></th>\n",
       "      <th></th>\n",
       "      <th></th>\n",
       "      <th></th>\n",
       "      <th></th>\n",
       "    </tr>\n",
       "  </thead>\n",
       "  <tbody>\n",
       "    <tr>\n",
       "      <th>0</th>\n",
       "      <td>B</td>\n",
       "      <td>N</td>\n",
       "      <td>M</td>\n",
       "      <td>C</td>\n",
       "      <td>Registration</td>\n",
       "      <td>40.0</td>\n",
       "      <td>Vernon</td>\n",
       "      <td>0</td>\n",
       "      <td>0</td>\n",
       "    </tr>\n",
       "    <tr>\n",
       "      <th>1</th>\n",
       "      <td>B</td>\n",
       "      <td>N</td>\n",
       "      <td>M</td>\n",
       "      <td>C</td>\n",
       "      <td>Registration</td>\n",
       "      <td>40.0</td>\n",
       "      <td>Vernon</td>\n",
       "      <td>0</td>\n",
       "      <td>0</td>\n",
       "    </tr>\n",
       "    <tr>\n",
       "      <th>2</th>\n",
       "      <td>B</td>\n",
       "      <td>N</td>\n",
       "      <td>F</td>\n",
       "      <td>I</td>\n",
       "      <td>Other</td>\n",
       "      <td>49.0</td>\n",
       "      <td>Milford</td>\n",
       "      <td>1</td>\n",
       "      <td>0</td>\n",
       "    </tr>\n",
       "    <tr>\n",
       "      <th>3</th>\n",
       "      <td>B</td>\n",
       "      <td>N</td>\n",
       "      <td>F</td>\n",
       "      <td>I</td>\n",
       "      <td>Other</td>\n",
       "      <td>49.0</td>\n",
       "      <td>Milford</td>\n",
       "      <td>1</td>\n",
       "      <td>0</td>\n",
       "    </tr>\n",
       "    <tr>\n",
       "      <th>4</th>\n",
       "      <td>W</td>\n",
       "      <td>N</td>\n",
       "      <td>M</td>\n",
       "      <td>I</td>\n",
       "      <td>Defective Lights</td>\n",
       "      <td>35.0</td>\n",
       "      <td>Norwalk</td>\n",
       "      <td>0</td>\n",
       "      <td>0</td>\n",
       "    </tr>\n",
       "    <tr>\n",
       "      <th>5</th>\n",
       "      <td>W</td>\n",
       "      <td>N</td>\n",
       "      <td>M</td>\n",
       "      <td>I</td>\n",
       "      <td>Defective Lights</td>\n",
       "      <td>35.0</td>\n",
       "      <td>Norwalk</td>\n",
       "      <td>0</td>\n",
       "      <td>0</td>\n",
       "    </tr>\n",
       "    <tr>\n",
       "      <th>6</th>\n",
       "      <td>W</td>\n",
       "      <td>H</td>\n",
       "      <td>M</td>\n",
       "      <td>I</td>\n",
       "      <td>Administrative Offense</td>\n",
       "      <td>23.0</td>\n",
       "      <td>Naugatuck</td>\n",
       "      <td>0</td>\n",
       "      <td>0</td>\n",
       "    </tr>\n",
       "    <tr>\n",
       "      <th>7</th>\n",
       "      <td>W</td>\n",
       "      <td>H</td>\n",
       "      <td>M</td>\n",
       "      <td>I</td>\n",
       "      <td>Administrative Offense</td>\n",
       "      <td>23.0</td>\n",
       "      <td>Naugatuck</td>\n",
       "      <td>0</td>\n",
       "      <td>0</td>\n",
       "    </tr>\n",
       "    <tr>\n",
       "      <th>8</th>\n",
       "      <td>B</td>\n",
       "      <td>N</td>\n",
       "      <td>F</td>\n",
       "      <td>O</td>\n",
       "      <td>Moving Violation</td>\n",
       "      <td>24.0</td>\n",
       "      <td>Glastonbury</td>\n",
       "      <td>0</td>\n",
       "      <td>1</td>\n",
       "    </tr>\n",
       "    <tr>\n",
       "      <th>9</th>\n",
       "      <td>B</td>\n",
       "      <td>N</td>\n",
       "      <td>F</td>\n",
       "      <td>O</td>\n",
       "      <td>Moving Violation</td>\n",
       "      <td>24.0</td>\n",
       "      <td>Glastonbury</td>\n",
       "      <td>0</td>\n",
       "      <td>1</td>\n",
       "    </tr>\n",
       "  </tbody>\n",
       "</table>\n",
       "</div>"
      ],
      "text/plain": [
       "   SubjectRaceCode SubjectEthnicityCode SubjectSexCode  \\\n",
       "id                                                       \n",
       "0                B                    N              M   \n",
       "1                B                    N              M   \n",
       "2                B                    N              F   \n",
       "3                B                    N              F   \n",
       "4                W                    N              M   \n",
       "5                W                    N              M   \n",
       "6                W                    H              M   \n",
       "7                W                    H              M   \n",
       "8                B                    N              F   \n",
       "9                B                    N              F   \n",
       "\n",
       "   SearchAuthorizationCode           StatuteReason  SubjectAge  \\\n",
       "id                                                               \n",
       "0                        C            Registration        40.0   \n",
       "1                        C            Registration        40.0   \n",
       "2                        I                   Other        49.0   \n",
       "3                        I                   Other        49.0   \n",
       "4                        I        Defective Lights        35.0   \n",
       "5                        I        Defective Lights        35.0   \n",
       "6                        I  Administrative Offense        23.0   \n",
       "7                        I  Administrative Offense        23.0   \n",
       "8                        O        Moving Violation        24.0   \n",
       "9                        O        Moving Violation        24.0   \n",
       "\n",
       "   Department Name  y_true  y_pred  \n",
       "id                                  \n",
       "0           Vernon       0       0  \n",
       "1           Vernon       0       0  \n",
       "2          Milford       1       0  \n",
       "3          Milford       1       0  \n",
       "4          Norwalk       0       0  \n",
       "5          Norwalk       0       0  \n",
       "6        Naugatuck       0       0  \n",
       "7        Naugatuck       0       0  \n",
       "8      Glastonbury       0       1  \n",
       "9      Glastonbury       0       1  "
      ]
     },
     "execution_count": 215,
     "metadata": {},
     "output_type": "execute_result"
    }
   ],
   "source": [
    "df_obs_classes.head(10)"
   ]
  },
  {
   "cell_type": "markdown",
   "metadata": {},
   "source": [
    "### Precision overall"
   ]
  },
  {
   "cell_type": "code",
   "execution_count": 216,
   "metadata": {
    "scrolled": true
   },
   "outputs": [
    {
     "data": {
      "text/plain": [
       "0.6005416384563304"
      ]
     },
     "execution_count": 216,
     "metadata": {},
     "output_type": "execute_result"
    }
   ],
   "source": [
    "precision_score(y_true, y_pred)"
   ]
  },
  {
   "cell_type": "code",
   "execution_count": 217,
   "metadata": {
    "scrolled": true
   },
   "outputs": [
    {
     "data": {
      "text/plain": [
       "0.6005416384563304"
      ]
     },
     "execution_count": 217,
     "metadata": {},
     "output_type": "execute_result"
    }
   ],
   "source": [
    "# Sanity check\n",
    "df_obs_classes[df_obs_classes.y_pred==1].y_true.mean()"
   ]
  },
  {
   "cell_type": "markdown",
   "metadata": {},
   "source": [
    "### Precision among races"
   ]
  },
  {
   "cell_type": "markdown",
   "metadata": {},
   "source": [
    "Precision table:"
   ]
  },
  {
   "cell_type": "code",
   "execution_count": 218,
   "metadata": {
    "scrolled": false
   },
   "outputs": [
    {
     "data": {
      "text/plain": [
       "SubjectRaceCode\n",
       "A    57.142857\n",
       "B    59.292035\n",
       "I    50.000000\n",
       "W    60.476663\n",
       "Name: y_true, dtype: float64"
      ]
     },
     "execution_count": 218,
     "metadata": {},
     "output_type": "execute_result"
    }
   ],
   "source": [
    "df_obs_classes[df_obs_classes.y_pred==1].groupby('SubjectRaceCode').y_true.mean().apply(lambda x: x*100)"
   ]
  },
  {
   "cell_type": "markdown",
   "metadata": {},
   "source": [
    "Max. difference:"
   ]
  },
  {
   "cell_type": "code",
   "execution_count": 219,
   "metadata": {},
   "outputs": [
    {
     "data": {
      "text/plain": [
       "10.476663356504467"
      ]
     },
     "execution_count": 219,
     "metadata": {},
     "output_type": "execute_result"
    }
   ],
   "source": [
    "(df_obs_classes[df_obs_classes.y_pred==1].groupby('SubjectRaceCode').y_true.mean().max() - df_obs_classes[df_obs_classes.y_pred==1].groupby('SubjectRaceCode').y_true.mean().min())*100"
   ]
  },
  {
   "cell_type": "markdown",
   "metadata": {},
   "source": [
    "Max. difference [%]:"
   ]
  },
  {
   "cell_type": "code",
   "execution_count": 220,
   "metadata": {
    "scrolled": true
   },
   "outputs": [
    {
     "data": {
      "text/plain": [
       "17.32348111658456"
      ]
     },
     "execution_count": 220,
     "metadata": {},
     "output_type": "execute_result"
    }
   ],
   "source": [
    "(1 - df_obs_classes[df_obs_classes.y_pred==1].groupby('SubjectRaceCode').y_true.mean().min() / df_obs_classes[df_obs_classes.y_pred==1].groupby('SubjectRaceCode').y_true.mean().max())*100"
   ]
  },
  {
   "cell_type": "markdown",
   "metadata": {},
   "source": [
    "Standard difference:"
   ]
  },
  {
   "cell_type": "code",
   "execution_count": 45,
   "metadata": {},
   "outputs": [
    {
     "data": {
      "text/plain": [
       "4.692719356742923"
      ]
     },
     "execution_count": 45,
     "metadata": {},
     "output_type": "execute_result"
    }
   ],
   "source": [
    "df_obs_classes[df_obs_classes.y_pred==1].groupby('SubjectRaceCode').y_true.mean().apply(lambda x: x*100).std()"
   ]
  },
  {
   "cell_type": "code",
   "execution_count": 46,
   "metadata": {
    "scrolled": true
   },
   "outputs": [
    {
     "data": {
      "image/png": "[encoded data removed]",
      "text/plain": [
       "<Figure size 432x288 with 1 Axes>"
      ]
     },
     "metadata": {
      "needs_background": "light"
     },
     "output_type": "display_data"
    }
   ],
   "source": [
    "(df_obs_classes[df_obs_classes.y_pred==1].groupby('SubjectRaceCode')\n",
    "                                              .y_true.mean().apply(lambda x: x*100).sort_values()\n",
    "                                              .to_frame().plot.bar(label=''))\n",
    "\n",
    "plt.axhline(y=precision*100, color='r', linestyle='-.', label='global SR')\n",
    "\n",
    "plt.title('Finding success rate (SR) among races')\n",
    "plt.xlabel(\"Subject's race\")\n",
    "plt.ylabel(\"Success Rate [%]\")\n",
    "\n",
    "plt.ylim(0,75)\n",
    "\n",
    "plt.legend(loc='upper left')\n",
    "plt.grid(axis='y')\n",
    "\n",
    "#plt.savefig(os.path.join('plots', 'discrimination_race_SR.png'));"
   ]
  },
  {
   "cell_type": "markdown",
   "metadata": {},
   "source": [
    "### Precision among ethnicities"
   ]
  },
  {
   "cell_type": "markdown",
   "metadata": {},
   "source": [
    "When the classifier predicts positive, it is more sure about the prediction for Whites than for Blacks."
   ]
  },
  {
   "cell_type": "markdown",
   "metadata": {},
   "source": [
    "Precision table:"
   ]
  },
  {
   "cell_type": "code",
   "execution_count": 47,
   "metadata": {
    "scrolled": true
   },
   "outputs": [
    {
     "data": {
      "text/plain": [
       "SubjectEthnicityCode\n",
       "H    55.747126\n",
       "N    61.381754\n",
       "Name: y_true, dtype: float64"
      ]
     },
     "execution_count": 47,
     "metadata": {},
     "output_type": "execute_result"
    }
   ],
   "source": [
    "df_obs_classes[df_obs_classes.y_pred==1].groupby('SubjectEthnicityCode').y_true.mean().apply(lambda x: x*100)"
   ]
  },
  {
   "cell_type": "markdown",
   "metadata": {},
   "source": [
    "Max. difference:"
   ]
  },
  {
   "cell_type": "code",
   "execution_count": 48,
   "metadata": {
    "scrolled": true
   },
   "outputs": [
    {
     "data": {
      "text/plain": [
       "5.634627327611652"
      ]
     },
     "execution_count": 48,
     "metadata": {},
     "output_type": "execute_result"
    }
   ],
   "source": [
    "(df_obs_classes[df_obs_classes.y_pred==1].groupby('SubjectEthnicityCode').y_true.mean().max() - df_obs_classes[df_obs_classes.y_pred==1].groupby('SubjectEthnicityCode').y_true.mean().min())*100"
   ]
  },
  {
   "cell_type": "markdown",
   "metadata": {},
   "source": [
    "Max. difference [%]:"
   ]
  },
  {
   "cell_type": "code",
   "execution_count": 49,
   "metadata": {},
   "outputs": [
    {
     "data": {
      "text/plain": [
       "9.179645386541925"
      ]
     },
     "execution_count": 49,
     "metadata": {},
     "output_type": "execute_result"
    }
   ],
   "source": [
    "(1 - df_obs_classes[df_obs_classes.y_pred==1].groupby('SubjectEthnicityCode').y_true.mean().min() / df_obs_classes[df_obs_classes.y_pred==1].groupby('SubjectEthnicityCode').y_true.mean().max())*100"
   ]
  },
  {
   "cell_type": "markdown",
   "metadata": {},
   "source": [
    "Standard difference:"
   ]
  },
  {
   "cell_type": "code",
   "execution_count": 50,
   "metadata": {},
   "outputs": [
    {
     "data": {
      "text/plain": [
       "3.9842831928132347"
      ]
     },
     "execution_count": 50,
     "metadata": {},
     "output_type": "execute_result"
    }
   ],
   "source": [
    "df_obs_classes[df_obs_classes.y_pred==1].groupby('SubjectEthnicityCode').y_true.mean().apply(lambda x: x*100).std()"
   ]
  },
  {
   "cell_type": "code",
   "execution_count": 51,
   "metadata": {
    "scrolled": true
   },
   "outputs": [
    {
     "data": {
      "image/png": "[encoded data removed]",
      "text/plain": [
       "<Figure size 432x288 with 1 Axes>"
      ]
     },
     "metadata": {
      "needs_background": "light"
     },
     "output_type": "display_data"
    }
   ],
   "source": [
    "(df_obs_classes[df_obs_classes.y_pred==1].groupby('SubjectEthnicityCode')\n",
    "                                              .y_true.mean().apply(lambda x: x*100).sort_values()\n",
    "                                              .to_frame().plot.bar(label=''))\n",
    "\n",
    "plt.axhline(y=precision*100, color='r', linestyle='-.', label='global SR')\n",
    "\n",
    "plt.title('Finding success rate (SR) among ethnicities')\n",
    "plt.xlabel(\"Subject's ethnicities\")\n",
    "plt.ylabel(\"Success Rate [%]\")\n",
    "\n",
    "plt.ylim(0,75)\n",
    "\n",
    "plt.legend(loc='upper left')\n",
    "plt.grid(axis='y')\n",
    "\n",
    "#plt.savefig(os.path.join('plots', 'discrimination_race_SR.png'));"
   ]
  },
  {
   "cell_type": "markdown",
   "metadata": {},
   "source": [
    "### Precision among sexes"
   ]
  },
  {
   "cell_type": "markdown",
   "metadata": {},
   "source": [
    "Precision table:"
   ]
  },
  {
   "cell_type": "code",
   "execution_count": 52,
   "metadata": {
    "scrolled": false
   },
   "outputs": [
    {
     "data": {
      "text/plain": [
       "SubjectSexCode\n",
       "F    58.199357\n",
       "M    60.548885\n",
       "Name: y_true, dtype: float64"
      ]
     },
     "execution_count": 52,
     "metadata": {},
     "output_type": "execute_result"
    }
   ],
   "source": [
    "df_obs_classes[df_obs_classes.y_pred==1].groupby('SubjectSexCode').y_true.mean().apply(lambda x: x*100)"
   ]
  },
  {
   "cell_type": "markdown",
   "metadata": {},
   "source": [
    "Max. difference [p.p.]:"
   ]
  },
  {
   "cell_type": "code",
   "execution_count": 53,
   "metadata": {
    "scrolled": true
   },
   "outputs": [
    {
     "data": {
      "text/plain": [
       "2.349528164003689"
      ]
     },
     "execution_count": 53,
     "metadata": {},
     "output_type": "execute_result"
    }
   ],
   "source": [
    "(df_obs_classes[df_obs_classes.y_pred==1].groupby('SubjectSexCode').y_true.mean().max() - df_obs_classes[df_obs_classes.y_pred==1].groupby('SubjectSexCode').y_true.mean().min())*100"
   ]
  },
  {
   "cell_type": "markdown",
   "metadata": {},
   "source": [
    "Max. difference [%]:"
   ]
  },
  {
   "cell_type": "code",
   "execution_count": 54,
   "metadata": {},
   "outputs": [
    {
     "data": {
      "text/plain": [
       "3.8803822085386686"
      ]
     },
     "execution_count": 54,
     "metadata": {},
     "output_type": "execute_result"
    }
   ],
   "source": [
    "(1 - df_obs_classes[df_obs_classes.y_pred==1].groupby('SubjectSexCode').y_true.mean().min() / df_obs_classes[df_obs_classes.y_pred==1].groupby('SubjectSexCode').y_true.mean().max())*100"
   ]
  },
  {
   "cell_type": "markdown",
   "metadata": {},
   "source": [
    "Standard difference:"
   ]
  },
  {
   "cell_type": "code",
   "execution_count": 55,
   "metadata": {},
   "outputs": [
    {
     "data": {
      "text/plain": [
       "1.6613672973557905"
      ]
     },
     "execution_count": 55,
     "metadata": {},
     "output_type": "execute_result"
    }
   ],
   "source": [
    "df_obs_classes[df_obs_classes.y_pred==1].groupby('SubjectSexCode').y_true.mean().apply(lambda x: x*100).std()"
   ]
  },
  {
   "cell_type": "code",
   "execution_count": 56,
   "metadata": {
    "scrolled": true
   },
   "outputs": [
    {
     "data": {
      "image/png": "[encoded data removed]",
      "text/plain": [
       "<Figure size 432x288 with 1 Axes>"
      ]
     },
     "metadata": {
      "needs_background": "light"
     },
     "output_type": "display_data"
    }
   ],
   "source": [
    "(df_obs_classes[df_obs_classes.y_pred==1].groupby('SubjectSexCode')\n",
    "                                              .y_true.mean().apply(lambda x: x*100).sort_values()\n",
    "                                              .to_frame().plot.bar(label=''))\n",
    "\n",
    "plt.axhline(y=precision*100, color='r', linestyle='-.', label='global SR')\n",
    "\n",
    "plt.title('Finding success rate (SR) among sexes')\n",
    "plt.xlabel(\"Subject's sexes\")\n",
    "plt.ylabel(\"Success Rate [%]\")\n",
    "\n",
    "plt.ylim(0,75)\n",
    "\n",
    "plt.legend(loc='upper left')\n",
    "plt.grid(axis='y')\n",
    "\n",
    "#plt.savefig(os.path.join('plots', 'discrimination_race_SR.png'));"
   ]
  },
  {
   "cell_type": "markdown",
   "metadata": {},
   "source": [
    "---"
   ]
  },
  {
   "cell_type": "markdown",
   "metadata": {},
   "source": [
    "---"
   ]
  },
  {
   "cell_type": "markdown",
   "metadata": {},
   "source": [
    "---"
   ]
  },
  {
   "cell_type": "markdown",
   "metadata": {},
   "source": [
    "---"
   ]
  },
  {
   "cell_type": "markdown",
   "metadata": {},
   "source": [
    "## All requests (previous method; without model decision)"
   ]
  },
  {
   "cell_type": "markdown",
   "metadata": {},
   "source": [
    "### Precision overall"
   ]
  },
  {
   "cell_type": "code",
   "execution_count": 57,
   "metadata": {},
   "outputs": [
    {
     "data": {
      "text/plain": [
       "0.359"
      ]
     },
     "execution_count": 57,
     "metadata": {},
     "output_type": "execute_result"
    }
   ],
   "source": [
    "y_true.mean()"
   ]
  },
  {
   "cell_type": "code",
   "execution_count": 58,
   "metadata": {
    "scrolled": true
   },
   "outputs": [
    {
     "data": {
      "text/plain": [
       "0.359"
      ]
     },
     "execution_count": 58,
     "metadata": {},
     "output_type": "execute_result"
    }
   ],
   "source": [
    "precision2"
   ]
  },
  {
   "cell_type": "markdown",
   "metadata": {},
   "source": [
    "### Precision among races"
   ]
  },
  {
   "cell_type": "markdown",
   "metadata": {},
   "source": [
    "Precision table:"
   ]
  },
  {
   "cell_type": "code",
   "execution_count": 59,
   "metadata": {
    "scrolled": false
   },
   "outputs": [
    {
     "data": {
      "text/plain": [
       "SubjectRaceCode\n",
       "A    26.086957\n",
       "B    34.512725\n",
       "I    20.000000\n",
       "W    36.753675\n",
       "Name: y_true, dtype: float64"
      ]
     },
     "execution_count": 59,
     "metadata": {},
     "output_type": "execute_result"
    }
   ],
   "source": [
    "df_obs_classes.groupby('SubjectRaceCode').y_true.mean().apply(lambda x: x*100)"
   ]
  },
  {
   "cell_type": "markdown",
   "metadata": {},
   "source": [
    "Max. difference:"
   ]
  },
  {
   "cell_type": "code",
   "execution_count": 60,
   "metadata": {},
   "outputs": [
    {
     "data": {
      "text/plain": [
       "16.75367536753675"
      ]
     },
     "execution_count": 60,
     "metadata": {},
     "output_type": "execute_result"
    }
   ],
   "source": [
    "(df_obs_classes.groupby('SubjectRaceCode').y_true.mean().max() - df_obs_classes.groupby('SubjectRaceCode').y_true.mean().min())*100"
   ]
  },
  {
   "cell_type": "markdown",
   "metadata": {},
   "source": [
    "Max. difference [%]:"
   ]
  },
  {
   "cell_type": "code",
   "execution_count": 61,
   "metadata": {
    "scrolled": true
   },
   "outputs": [
    {
     "data": {
      "text/plain": [
       "45.583673469387755"
      ]
     },
     "execution_count": 61,
     "metadata": {},
     "output_type": "execute_result"
    }
   ],
   "source": [
    "(1 - df_obs_classes.groupby('SubjectRaceCode').y_true.mean().min() / df_obs_classes.groupby('SubjectRaceCode').y_true.mean().max())*100"
   ]
  },
  {
   "cell_type": "markdown",
   "metadata": {},
   "source": [
    "Standard difference:"
   ]
  },
  {
   "cell_type": "code",
   "execution_count": 62,
   "metadata": {},
   "outputs": [
    {
     "data": {
      "text/plain": [
       "7.736009897015541"
      ]
     },
     "execution_count": 62,
     "metadata": {},
     "output_type": "execute_result"
    }
   ],
   "source": [
    "df_obs_classes.groupby('SubjectRaceCode').y_true.mean().apply(lambda x: x*100).std()"
   ]
  },
  {
   "cell_type": "code",
   "execution_count": 63,
   "metadata": {
    "scrolled": false
   },
   "outputs": [
    {
     "data": {
      "image/png": "[encoded data removed]",
      "text/plain": [
       "<Figure size 432x288 with 1 Axes>"
      ]
     },
     "metadata": {
      "needs_background": "light"
     },
     "output_type": "display_data"
    }
   ],
   "source": [
    "(df_obs_classes.groupby('SubjectRaceCode')\n",
    "                                              .y_true.mean().apply(lambda x: x*100).sort_values()\n",
    "                                              .to_frame().plot.bar(label=''))\n",
    "\n",
    "plt.axhline(y=precision2*100, color='r', linestyle='-.', label='global SR')\n",
    "\n",
    "plt.title('Finding success rate (SR) among races')\n",
    "plt.xlabel(\"Subject's race\")\n",
    "plt.ylabel(\"Success Rate [%]\")\n",
    "\n",
    "plt.ylim(0,45)\n",
    "\n",
    "plt.legend(loc='upper left')\n",
    "plt.grid(axis='y')\n",
    "\n",
    "#plt.savefig(os.path.join('plots', 'discrimination_race_SR.png'));"
   ]
  },
  {
   "cell_type": "markdown",
   "metadata": {},
   "source": [
    "### Precision among ethnicities"
   ]
  },
  {
   "cell_type": "markdown",
   "metadata": {},
   "source": [
    "When the classifier predicts positive, it is more sure about the prediction for Whites than for Blacks."
   ]
  },
  {
   "cell_type": "markdown",
   "metadata": {},
   "source": [
    "Precision table:"
   ]
  },
  {
   "cell_type": "code",
   "execution_count": 64,
   "metadata": {
    "scrolled": false
   },
   "outputs": [
    {
     "data": {
      "text/plain": [
       "SubjectEthnicityCode\n",
       "H    29.843750\n",
       "N    37.983871\n",
       "Name: y_true, dtype: float64"
      ]
     },
     "execution_count": 64,
     "metadata": {},
     "output_type": "execute_result"
    }
   ],
   "source": [
    "df_obs_classes.groupby('SubjectEthnicityCode').y_true.mean().apply(lambda x: x*100)"
   ]
  },
  {
   "cell_type": "markdown",
   "metadata": {},
   "source": [
    "Max. difference:"
   ]
  },
  {
   "cell_type": "code",
   "execution_count": 65,
   "metadata": {
    "scrolled": true
   },
   "outputs": [
    {
     "data": {
      "text/plain": [
       "8.140120967741932"
      ]
     },
     "execution_count": 65,
     "metadata": {},
     "output_type": "execute_result"
    }
   ],
   "source": [
    "(df_obs_classes.groupby('SubjectEthnicityCode').y_true.mean().max() - df_obs_classes.groupby('SubjectEthnicityCode').y_true.mean().min())*100"
   ]
  },
  {
   "cell_type": "markdown",
   "metadata": {},
   "source": [
    "Max. difference [%]:"
   ]
  },
  {
   "cell_type": "code",
   "execution_count": 66,
   "metadata": {},
   "outputs": [
    {
     "data": {
      "text/plain": [
       "21.430467091295103"
      ]
     },
     "execution_count": 66,
     "metadata": {},
     "output_type": "execute_result"
    }
   ],
   "source": [
    "(1 - df_obs_classes.groupby('SubjectEthnicityCode').y_true.mean().min() / df_obs_classes.groupby('SubjectEthnicityCode').y_true.mean().max())*100"
   ]
  },
  {
   "cell_type": "markdown",
   "metadata": {},
   "source": [
    "Standard difference:"
   ]
  },
  {
   "cell_type": "code",
   "execution_count": 67,
   "metadata": {},
   "outputs": [
    {
     "data": {
      "text/plain": [
       "5.755934735969122"
      ]
     },
     "execution_count": 67,
     "metadata": {},
     "output_type": "execute_result"
    }
   ],
   "source": [
    "df_obs_classes.groupby('SubjectEthnicityCode').y_true.mean().apply(lambda x: x*100).std()"
   ]
  },
  {
   "cell_type": "code",
   "execution_count": 68,
   "metadata": {
    "scrolled": true
   },
   "outputs": [
    {
     "data": {
      "image/png": "[encoded data removed]",
      "text/plain": [
       "<Figure size 432x288 with 1 Axes>"
      ]
     },
     "metadata": {
      "needs_background": "light"
     },
     "output_type": "display_data"
    }
   ],
   "source": [
    "(df_obs_classes.groupby('SubjectEthnicityCode')\n",
    "                                              .y_true.mean().apply(lambda x: x*100).sort_values()\n",
    "                                              .to_frame().plot.bar(label=''))\n",
    "\n",
    "plt.axhline(y=precision2*100, color='r', linestyle='-.', label='global SR')\n",
    "\n",
    "plt.title('Finding success rate (SR) among ethnicities')\n",
    "plt.xlabel(\"Subject's ethnicities\")\n",
    "plt.ylabel(\"Success Rate [%]\")\n",
    "\n",
    "plt.ylim(0,45)\n",
    "\n",
    "plt.legend(loc='upper left')\n",
    "plt.grid(axis='y')\n",
    "\n",
    "#plt.savefig(os.path.join('plots', 'discrimination_race_SR.png'));"
   ]
  },
  {
   "cell_type": "markdown",
   "metadata": {},
   "source": [
    "### Precision among sexes"
   ]
  },
  {
   "cell_type": "markdown",
   "metadata": {},
   "source": [
    "Precision table:"
   ]
  },
  {
   "cell_type": "code",
   "execution_count": 69,
   "metadata": {
    "scrolled": false
   },
   "outputs": [
    {
     "data": {
      "text/plain": [
       "SubjectSexCode\n",
       "F    31.866029\n",
       "M    36.965866\n",
       "Name: y_true, dtype: float64"
      ]
     },
     "execution_count": 69,
     "metadata": {},
     "output_type": "execute_result"
    }
   ],
   "source": [
    "df_obs_classes.groupby('SubjectSexCode').y_true.mean().apply(lambda x: x*100)"
   ]
  },
  {
   "cell_type": "markdown",
   "metadata": {},
   "source": [
    "Max. difference [p.p.]:"
   ]
  },
  {
   "cell_type": "code",
   "execution_count": 70,
   "metadata": {
    "scrolled": true
   },
   "outputs": [
    {
     "data": {
      "text/plain": [
       "5.099837284280695"
      ]
     },
     "execution_count": 70,
     "metadata": {},
     "output_type": "execute_result"
    }
   ],
   "source": [
    "(df_obs_classes.groupby('SubjectSexCode').y_true.mean().max() - df_obs_classes.groupby('SubjectSexCode').y_true.mean().min())*100"
   ]
  },
  {
   "cell_type": "markdown",
   "metadata": {},
   "source": [
    "Max. difference [%]:"
   ]
  },
  {
   "cell_type": "code",
   "execution_count": 71,
   "metadata": {},
   "outputs": [
    {
     "data": {
      "text/plain": [
       "13.796071449610226"
      ]
     },
     "execution_count": 71,
     "metadata": {},
     "output_type": "execute_result"
    }
   ],
   "source": [
    "(1 - df_obs_classes.groupby('SubjectSexCode').y_true.mean().min() / df_obs_classes.groupby('SubjectSexCode').y_true.mean().max())*100"
   ]
  },
  {
   "cell_type": "markdown",
   "metadata": {},
   "source": [
    "Standard difference:"
   ]
  },
  {
   "cell_type": "code",
   "execution_count": 72,
   "metadata": {},
   "outputs": [
    {
     "data": {
      "text/plain": [
       "3.606129526662864"
      ]
     },
     "execution_count": 72,
     "metadata": {},
     "output_type": "execute_result"
    }
   ],
   "source": [
    "df_obs_classes.groupby('SubjectSexCode').y_true.mean().apply(lambda x: x*100).std()"
   ]
  },
  {
   "cell_type": "code",
   "execution_count": 73,
   "metadata": {
    "scrolled": true
   },
   "outputs": [
    {
     "data": {
      "image/png": "[encoded data removed]",
      "text/plain": [
       "<Figure size 432x288 with 1 Axes>"
      ]
     },
     "metadata": {
      "needs_background": "light"
     },
     "output_type": "display_data"
    }
   ],
   "source": [
    "(df_obs_classes.groupby('SubjectSexCode')\n",
    "                                              .y_true.mean().apply(lambda x: x*100).sort_values()\n",
    "                                              .to_frame().plot.bar(label=''))\n",
    "\n",
    "plt.axhline(y=precision2*100, color='r', linestyle='-.', label='global SR')\n",
    "\n",
    "plt.title('Finding success rate (SR) among sexes')\n",
    "plt.xlabel(\"Subject's sexes\")\n",
    "plt.ylabel(\"Success Rate [%]\")\n",
    "\n",
    "plt.ylim(0,45)\n",
    "\n",
    "plt.legend(loc='upper left')\n",
    "plt.grid(axis='y')\n",
    "\n",
    "#plt.savefig(os.path.join('plots', 'discrimination_race_SR.png'));"
   ]
  },
  {
   "cell_type": "markdown",
   "metadata": {},
   "source": [
    "---"
   ]
  },
  {
   "cell_type": "markdown",
   "metadata": {},
   "source": [
    "---"
   ]
  },
  {
   "cell_type": "markdown",
   "metadata": {},
   "source": [
    "---"
   ]
  },
  {
   "cell_type": "markdown",
   "metadata": {},
   "source": [
    "# Population analysis"
   ]
  },
  {
   "cell_type": "markdown",
   "metadata": {},
   "source": [
    "### 'SubjectRaceCode': 'race'"
   ]
  },
  {
   "cell_type": "code",
   "execution_count": 122,
   "metadata": {
    "scrolled": true
   },
   "outputs": [
    {
     "data": {
      "text/plain": [
       "SubjectRaceCode\n",
       "I     0.34\n",
       "A     0.70\n",
       "B    33.62\n",
       "W    65.34\n",
       "Name: SubjectRaceCode, dtype: float64"
      ]
     },
     "execution_count": 122,
     "metadata": {},
     "output_type": "execute_result"
    }
   ],
   "source": [
    "s_obs_race = df_obs.groupby('SubjectRaceCode').SubjectRaceCode.count().sort_values()\n",
    "s_obs_race = s_obs_race.div(s_obs_race.sum())*100\n",
    "s_obs_race"
   ]
  },
  {
   "cell_type": "code",
   "execution_count": 123,
   "metadata": {},
   "outputs": [],
   "source": [
    "# sanity check\n",
    "assert s_obs_race.sum() == 100"
   ]
  },
  {
   "cell_type": "code",
   "execution_count": 124,
   "metadata": {},
   "outputs": [
    {
     "data": {
      "text/plain": [
       "SubjectRaceCode\n",
       "I     0.286671\n",
       "A     0.648919\n",
       "B    29.319938\n",
       "W    69.744472\n",
       "Name: SubjectRaceCode, dtype: float64"
      ]
     },
     "execution_count": 124,
     "metadata": {},
     "output_type": "execute_result"
    }
   ],
   "source": [
    "s_train_race = df_train.groupby('SubjectRaceCode').SubjectRaceCode.count().sort_values()\n",
    "s_train_race = s_train_race.div(s_train_race.sum())*100\n",
    "s_train_race"
   ]
  },
  {
   "cell_type": "code",
   "execution_count": 125,
   "metadata": {},
   "outputs": [],
   "source": [
    "# sanity check\n",
    "assert s_train_race.sum() == 100"
   ]
  },
  {
   "cell_type": "code",
   "execution_count": 126,
   "metadata": {
    "scrolled": true
   },
   "outputs": [
    {
     "data": {
      "image/png": "[encoded data removed]",
      "text/plain": [
       "<Figure size 288x288 with 1 Axes>"
      ]
     },
     "metadata": {
      "needs_background": "light"
     },
     "output_type": "display_data"
    }
   ],
   "source": [
    "pd.DataFrame({'Training set': s_train_race, 'Production set': s_obs_race}).sort_values(by='Training set').plot.bar(figsize=(4,4))\n",
    "\n",
    "plt.title('Percentage of race occurrence')\n",
    "plt.xlabel(\"Subject's race\")\n",
    "plt.ylabel(\"[%]\")\n",
    "\n",
    "#plt.yticks(np.arange(0, 70, step=5))\n",
    "\n",
    "plt.grid(axis='y')\n",
    "\n",
    "#plt.legend(['Training set', 'Production set'])\n",
    "\n",
    "plt.savefig(os.path.join('plots', 'report2_population_race_compare.png'));"
   ]
  },
  {
   "cell_type": "markdown",
   "metadata": {},
   "source": [
    "Let $X_1 \\sim Binomial(n_1, p_1)$ and $\\hat{p_1} = \\frac{X_1}{n_1}$  \n",
    "and $X_2 \\sim Binomial(n_2, p_2)$ and $\\hat{p_2} = \\frac{X_2}{n_2}$  \n",
    "\n",
    "We will test $H_0: p_1=p_2$ vs. $H_1: p_1 \\neq p_2$ for class `M` using  \n",
    "\n",
    "$TS = \\frac{\\hat{p_1}-\\hat{p_2}}{\\hat{p} \\cdot (1-\\hat{p}) \\cdot (1/n_1 + 1/n_2)} \\sim Normal(0,1)$ under the null hypothesis for large $n_1$ and $n_2$."
   ]
  },
  {
   "cell_type": "code",
   "execution_count": 130,
   "metadata": {},
   "outputs": [],
   "source": [
    "test_class = 'W'\n",
    "\n",
    "y1 = df_train.groupby('SubjectRaceCode').SubjectRaceCode.count()[test_class]\n",
    "n1 = df_train.groupby('SubjectRaceCode').SubjectRaceCode.count().sum()\n",
    "\n",
    "y2 = df_obs.groupby('SubjectRaceCode').SubjectRaceCode.count()[test_class]\n",
    "n2 = df_obs.groupby('SubjectRaceCode').SubjectRaceCode.count().sum()\n",
    "\n",
    "# sanity checks:\n",
    "assert isclose(y1/n1, s_train_race[test_class]/100)\n",
    "assert isclose(y2/n2, s_obs_race[test_class]/100)"
   ]
  },
  {
   "cell_type": "code",
   "execution_count": 131,
   "metadata": {},
   "outputs": [],
   "source": [
    "p1_cap = y1/n1\n",
    "p2_cap = y2/n2\n",
    "\n",
    "p_cap = (n1*p1_cap + n2*p2_cap)/(n1 + n2)\n",
    "\n",
    "z = ( p1_cap - p2_cap )/( p_cap * (1-p_cap) * (1/n1 + 1/n2) )**(0.5)"
   ]
  },
  {
   "cell_type": "code",
   "execution_count": 132,
   "metadata": {},
   "outputs": [
    {
     "data": {
      "text/plain": [
       "0.6974"
      ]
     },
     "execution_count": 132,
     "metadata": {},
     "output_type": "execute_result"
    }
   ],
   "source": [
    "round(p1_cap,4)"
   ]
  },
  {
   "cell_type": "code",
   "execution_count": 133,
   "metadata": {
    "scrolled": true
   },
   "outputs": [
    {
     "data": {
      "text/plain": [
       "0.6534"
      ]
     },
     "execution_count": 133,
     "metadata": {},
     "output_type": "execute_result"
    }
   ],
   "source": [
    "round(p2_cap,4)"
   ]
  },
  {
   "cell_type": "code",
   "execution_count": 134,
   "metadata": {},
   "outputs": [
    {
     "data": {
      "text/plain": [
       "8.9766"
      ]
     },
     "execution_count": 134,
     "metadata": {},
     "output_type": "execute_result"
    }
   ],
   "source": [
    "round(z, 4)"
   ]
  },
  {
   "cell_type": "code",
   "execution_count": 135,
   "metadata": {
    "scrolled": false
   },
   "outputs": [
    {
     "name": "stdout",
     "output_type": "stream",
     "text": [
      "Reject null hypothesis at 5% level\n",
      "Reject null hypothesis at 1% level\n",
      "Reject null hypothesis at 0.1% level\n"
     ]
    }
   ],
   "source": [
    "if abs(z) > 1.960:\n",
    "    print(\"Reject null hypothesis at 5% level\")\n",
    "if abs(z) > 2.576:\n",
    "    print(\"Reject null hypothesis at 1% level\")\n",
    "if abs(z) > 3.291:\n",
    "    print(\"Reject null hypothesis at 0.1% level\")\n",
    "if abs(z) <= 1.960:\n",
    "    print(\"Accept the null hypothesis at 5% level\")"
   ]
  },
  {
   "cell_type": "markdown",
   "metadata": {},
   "source": [
    "$P( |Z|> z) = 1 - 2 \\times \\phi^{-1}(z)$"
   ]
  },
  {
   "cell_type": "code",
   "execution_count": 136,
   "metadata": {},
   "outputs": [
    {
     "name": "stdout",
     "output_type": "stream",
     "text": [
      "p-value: 0.0\n"
     ]
    }
   ],
   "source": [
    "print(\"p-value:\", (1-norm.cdf(abs(z)))*2)"
   ]
  },
  {
   "cell_type": "code",
   "execution_count": 137,
   "metadata": {},
   "outputs": [],
   "source": [
    "test_class = 'B'\n",
    "\n",
    "y1 = df_train.groupby('SubjectRaceCode').SubjectRaceCode.count()[test_class]\n",
    "n1 = df_train.groupby('SubjectRaceCode').SubjectRaceCode.count().sum()\n",
    "\n",
    "y2 = df_obs.groupby('SubjectRaceCode').SubjectRaceCode.count()[test_class]\n",
    "n2 = df_obs.groupby('SubjectRaceCode').SubjectRaceCode.count().sum()\n",
    "\n",
    "# sanity checks:\n",
    "assert isclose(y1/n1, s_train_race[test_class]/100)\n",
    "assert isclose(y2/n2, s_obs_race[test_class]/100)"
   ]
  },
  {
   "cell_type": "code",
   "execution_count": 138,
   "metadata": {},
   "outputs": [],
   "source": [
    "p1_cap = y1/n1\n",
    "p2_cap = y2/n2\n",
    "\n",
    "p_cap = (n1*p1_cap + n2*p2_cap)/(n1 + n2)\n",
    "\n",
    "z = ( p1_cap - p2_cap )/( p_cap * (1-p_cap) * (1/n1 + 1/n2) )**(0.5)"
   ]
  },
  {
   "cell_type": "code",
   "execution_count": 139,
   "metadata": {},
   "outputs": [
    {
     "data": {
      "text/plain": [
       "0.2932"
      ]
     },
     "execution_count": 139,
     "metadata": {},
     "output_type": "execute_result"
    }
   ],
   "source": [
    "round(p1_cap,4)"
   ]
  },
  {
   "cell_type": "code",
   "execution_count": 140,
   "metadata": {
    "scrolled": true
   },
   "outputs": [
    {
     "data": {
      "text/plain": [
       "0.3362"
      ]
     },
     "execution_count": 140,
     "metadata": {},
     "output_type": "execute_result"
    }
   ],
   "source": [
    "round(p2_cap,4)"
   ]
  },
  {
   "cell_type": "code",
   "execution_count": 141,
   "metadata": {},
   "outputs": [
    {
     "data": {
      "text/plain": [
       "-8.8417"
      ]
     },
     "execution_count": 141,
     "metadata": {},
     "output_type": "execute_result"
    }
   ],
   "source": [
    "round(z, 4)"
   ]
  },
  {
   "cell_type": "code",
   "execution_count": 142,
   "metadata": {
    "scrolled": false
   },
   "outputs": [
    {
     "name": "stdout",
     "output_type": "stream",
     "text": [
      "Reject null hypothesis at 5% level\n",
      "Reject null hypothesis at 1% level\n",
      "Reject null hypothesis at 0.1% level\n"
     ]
    }
   ],
   "source": [
    "if abs(z) > 1.960:\n",
    "    print(\"Reject null hypothesis at 5% level\")\n",
    "if abs(z) > 2.576:\n",
    "    print(\"Reject null hypothesis at 1% level\")\n",
    "if abs(z) > 3.291:\n",
    "    print(\"Reject null hypothesis at 0.1% level\")\n",
    "if abs(z) <= 1.960:\n",
    "    print(\"Accept the null hypothesis at 5% level\")"
   ]
  },
  {
   "cell_type": "markdown",
   "metadata": {},
   "source": [
    "$P( |Z|> z) = 1 - 2 \\times \\phi^{-1}(z)$"
   ]
  },
  {
   "cell_type": "code",
   "execution_count": 143,
   "metadata": {},
   "outputs": [
    {
     "name": "stdout",
     "output_type": "stream",
     "text": [
      "p-value: 0.0\n"
     ]
    }
   ],
   "source": [
    "print(\"p-value:\", (1-norm.cdf(abs(z)))*2)"
   ]
  },
  {
   "cell_type": "markdown",
   "metadata": {},
   "source": [
    "### 'SubjectEthnicityCode': 'ethnic'"
   ]
  },
  {
   "cell_type": "code",
   "execution_count": 79,
   "metadata": {
    "scrolled": false
   },
   "outputs": [
    {
     "data": {
      "text/plain": [
       "SubjectEthnicityCode\n",
       "H    26.08\n",
       "N    73.92\n",
       "Name: SubjectEthnicityCode, dtype: float64"
      ]
     },
     "execution_count": 79,
     "metadata": {},
     "output_type": "execute_result"
    }
   ],
   "source": [
    "s_obs_ethnic = df_obs.groupby('SubjectEthnicityCode').SubjectEthnicityCode.count().sort_values()\n",
    "s_obs_ethnic = s_obs_ethnic.div(s_obs_ethnic.sum())*100\n",
    "s_obs_ethnic"
   ]
  },
  {
   "cell_type": "code",
   "execution_count": 80,
   "metadata": {},
   "outputs": [],
   "source": [
    "# sanity check\n",
    "assert s_obs_ethnic.sum() == 100"
   ]
  },
  {
   "cell_type": "code",
   "execution_count": 81,
   "metadata": {},
   "outputs": [
    {
     "data": {
      "text/plain": [
       "SubjectEthnicityCode\n",
       "M     1.141472\n",
       "H    22.834656\n",
       "N    76.023872\n",
       "Name: SubjectEthnicityCode, dtype: float64"
      ]
     },
     "execution_count": 81,
     "metadata": {},
     "output_type": "execute_result"
    }
   ],
   "source": [
    "s_train_ethnic = df_train.groupby('SubjectEthnicityCode').SubjectEthnicityCode.count().sort_values()\n",
    "s_train_ethnic = s_train_ethnic.div(s_train_ethnic.sum())*100\n",
    "s_train_ethnic"
   ]
  },
  {
   "cell_type": "code",
   "execution_count": 82,
   "metadata": {},
   "outputs": [],
   "source": [
    "# sanity check\n",
    "assert s_train_ethnic.sum() == 100"
   ]
  },
  {
   "cell_type": "code",
   "execution_count": 83,
   "metadata": {},
   "outputs": [
    {
     "data": {
      "image/png": "[encoded data removed]",
      "text/plain": [
       "<Figure size 288x288 with 1 Axes>"
      ]
     },
     "metadata": {
      "needs_background": "light"
     },
     "output_type": "display_data"
    }
   ],
   "source": [
    "pd.DataFrame({'Training set': s_train_ethnic, 'Production set': s_obs_ethnic}).sort_values(by='Training set').plot.bar(figsize=(4,4))\n",
    "\n",
    "plt.title('Percentage of ethnicity occurrence')\n",
    "plt.xlabel(\"Subject's ethnicity\")\n",
    "plt.ylabel(\"[%]\")\n",
    "\n",
    "plt.grid(axis='y')\n",
    "\n",
    "#plt.legend(['Training set', 'Production set'])\n",
    "\n",
    "plt.savefig(os.path.join('plots', 'report2_population_ethnic_compare.png'));"
   ]
  },
  {
   "cell_type": "markdown",
   "metadata": {},
   "source": [
    "### 'SubjectSexCode': 'sex'"
   ]
  },
  {
   "cell_type": "code",
   "execution_count": 84,
   "metadata": {
    "scrolled": false
   },
   "outputs": [
    {
     "data": {
      "text/plain": [
       "SubjectSexCode\n",
       "F    20.14\n",
       "M    79.86\n",
       "Name: SubjectSexCode, dtype: float64"
      ]
     },
     "execution_count": 84,
     "metadata": {},
     "output_type": "execute_result"
    }
   ],
   "source": [
    "s_obs_sex = df_obs.groupby('SubjectSexCode').SubjectSexCode.count().sort_values()\n",
    "s_obs_sex = s_obs_sex.div(s_obs_sex.sum())*100\n",
    "s_obs_sex"
   ]
  },
  {
   "cell_type": "code",
   "execution_count": 85,
   "metadata": {},
   "outputs": [],
   "source": [
    "# sanity check\n",
    "assert s_obs_sex.sum() == 100"
   ]
  },
  {
   "cell_type": "code",
   "execution_count": 86,
   "metadata": {},
   "outputs": [
    {
     "data": {
      "text/plain": [
       "SubjectSexCode\n",
       "F    18.31698\n",
       "M    81.68302\n",
       "Name: SubjectSexCode, dtype: float64"
      ]
     },
     "execution_count": 86,
     "metadata": {},
     "output_type": "execute_result"
    }
   ],
   "source": [
    "s_train_sex = df_train.groupby('SubjectSexCode').SubjectSexCode.count().sort_values()\n",
    "s_train_sex = s_train_sex.div(s_train_sex.sum())*100\n",
    "s_train_sex"
   ]
  },
  {
   "cell_type": "code",
   "execution_count": 87,
   "metadata": {},
   "outputs": [],
   "source": [
    "# sanity check\n",
    "assert s_train_sex.sum() == 100"
   ]
  },
  {
   "cell_type": "code",
   "execution_count": 88,
   "metadata": {
    "scrolled": true
   },
   "outputs": [
    {
     "data": {
      "image/png": "[encoded data removed]",
      "text/plain": [
       "<Figure size 288x288 with 1 Axes>"
      ]
     },
     "metadata": {
      "needs_background": "light"
     },
     "output_type": "display_data"
    }
   ],
   "source": [
    "pd.DataFrame({'Training set': s_train_sex, 'Production set': s_obs_sex}).sort_values(by='Training set').plot.bar(figsize=(4,4))\n",
    "\n",
    "plt.title('Percentage of sex occurrence')\n",
    "plt.xlabel(\"Subject's sex\")\n",
    "plt.ylabel(\"[%]\")\n",
    "\n",
    "plt.grid(axis='y')\n",
    "\n",
    "#plt.legend(['Training set', 'Production set'])\n",
    "\n",
    "plt.savefig(os.path.join('plots', 'report2_population_sex_compare.png'));"
   ]
  },
  {
   "cell_type": "markdown",
   "metadata": {},
   "source": [
    "Let $X_1 \\sim Binomial(n_1, p_1)$ and $\\hat{p_1} = \\frac{X_1}{n_1}$  \n",
    "and $X_2 \\sim Binomial(n_2, p_2)$ and $\\hat{p_2} = \\frac{X_2}{n_2}$  \n",
    "\n",
    "We will test $H_0: p_1=p_2$ vs. $H_1: p_1 \\neq p_2$ for class `M` using  \n",
    "\n",
    "$TS = \\frac{\\hat{p_1}-\\hat{p_2}}{\\hat{p} \\cdot (1-\\hat{p}) \\cdot (1/n_1 + 1/n_2)} \\sim Normal(0,1)$ under the null hypothesis for large $n_1$ and $n_2$."
   ]
  },
  {
   "cell_type": "code",
   "execution_count": 89,
   "metadata": {},
   "outputs": [],
   "source": [
    "test_class = 'M'\n",
    "\n",
    "y1 = df_train.groupby('SubjectSexCode').SubjectSexCode.count()[test_class]\n",
    "n1 = df_train.groupby('SubjectSexCode').SubjectSexCode.count().sum()\n",
    "\n",
    "y2 = df_obs.groupby('SubjectSexCode').SubjectSexCode.count()[test_class]\n",
    "n2 = df_obs.groupby('SubjectSexCode').SubjectSexCode.count().sum()\n",
    "\n",
    "# sanity checks:\n",
    "assert isclose(y1/n1, s_train_sex[test_class]/100)\n",
    "assert isclose(y2/n2, s_obs_sex[test_class]/100)"
   ]
  },
  {
   "cell_type": "code",
   "execution_count": 91,
   "metadata": {},
   "outputs": [],
   "source": [
    "p1_cap = y1/n1\n",
    "p2_cap = y2/n2\n",
    "\n",
    "p_cap = (n1*p1_cap + n2*p2_cap)/(n1 + n2)\n",
    "\n",
    "z = ( p1_cap - p2_cap )/( p_cap * (1-p_cap) * (1/n1 + 1/n2) )**(0.5)"
   ]
  },
  {
   "cell_type": "code",
   "execution_count": 92,
   "metadata": {},
   "outputs": [
    {
     "data": {
      "text/plain": [
       "0.8168"
      ]
     },
     "execution_count": 92,
     "metadata": {},
     "output_type": "execute_result"
    }
   ],
   "source": [
    "round(p1_cap,4)"
   ]
  },
  {
   "cell_type": "code",
   "execution_count": 93,
   "metadata": {
    "scrolled": true
   },
   "outputs": [
    {
     "data": {
      "text/plain": [
       "0.7986"
      ]
     },
     "execution_count": 93,
     "metadata": {},
     "output_type": "execute_result"
    }
   ],
   "source": [
    "round(p2_cap,4)"
   ]
  },
  {
   "cell_type": "code",
   "execution_count": 94,
   "metadata": {},
   "outputs": [
    {
     "data": {
      "text/plain": [
       "4.4135"
      ]
     },
     "execution_count": 94,
     "metadata": {},
     "output_type": "execute_result"
    }
   ],
   "source": [
    "round(z, 4)"
   ]
  },
  {
   "cell_type": "code",
   "execution_count": 95,
   "metadata": {
    "scrolled": false
   },
   "outputs": [
    {
     "name": "stdout",
     "output_type": "stream",
     "text": [
      "Reject null hypothesis at 5% level\n",
      "Reject null hypothesis at 1% level\n",
      "Reject null hypothesis at 0.1% level\n"
     ]
    }
   ],
   "source": [
    "if abs(z) > 1.960:\n",
    "    print(\"Reject null hypothesis at 5% level\")\n",
    "if abs(z) > 2.576:\n",
    "    print(\"Reject null hypothesis at 1% level\")\n",
    "if abs(z) > 3.291:\n",
    "    print(\"Reject null hypothesis at 0.1% level\")\n",
    "if abs(z) <= 1.960:\n",
    "    print(\"Accept the null hypothesis at 5% level\")"
   ]
  },
  {
   "cell_type": "markdown",
   "metadata": {},
   "source": [
    "$P( |Z|> z) = 1 - 2 \\times \\phi^{-1}(z)$"
   ]
  },
  {
   "cell_type": "code",
   "execution_count": 96,
   "metadata": {},
   "outputs": [
    {
     "name": "stdout",
     "output_type": "stream",
     "text": [
      "p-value: 1.0171389268620601e-05\n"
     ]
    }
   ],
   "source": [
    "print(\"p-value:\", (1-norm.cdf(abs(z)))*2)"
   ]
  },
  {
   "cell_type": "code",
   "execution_count": 97,
   "metadata": {},
   "outputs": [],
   "source": [
    "test_class = 'F'\n",
    "\n",
    "y1 = df_train.groupby('SubjectSexCode').SubjectSexCode.count()[test_class]\n",
    "n1 = df_train.groupby('SubjectSexCode').SubjectSexCode.count().sum()\n",
    "\n",
    "y2 = df_obs.groupby('SubjectSexCode').SubjectSexCode.count()[test_class]\n",
    "n2 = df_obs.groupby('SubjectSexCode').SubjectSexCode.count().sum()\n",
    "\n",
    "# sanity checks:\n",
    "assert isclose(y1/n1, s_train_sex[test_class]/100)\n",
    "assert isclose(y2/n2, s_obs_sex[test_class]/100)"
   ]
  },
  {
   "cell_type": "code",
   "execution_count": 98,
   "metadata": {},
   "outputs": [],
   "source": [
    "p1_cap = y1/n1\n",
    "p2_cap = y2/n2\n",
    "\n",
    "p_cap = (n1*p1_cap + n2*p2_cap)/(n1 + n2)\n",
    "\n",
    "z = ( p1_cap - p2_cap )/( p_cap * (1-p_cap) * (1/n1 + 1/n2) )**(0.5)"
   ]
  },
  {
   "cell_type": "code",
   "execution_count": 99,
   "metadata": {
    "scrolled": true
   },
   "outputs": [
    {
     "name": "stdout",
     "output_type": "stream",
     "text": [
      "Reject null hypothesis at 5% level\n",
      "Reject null hypothesis at 1% level\n",
      "Reject null hypothesis at 0.1% level\n"
     ]
    }
   ],
   "source": [
    "if abs(z) > 1.960:\n",
    "    print(\"Reject null hypothesis at 5% level\")\n",
    "if abs(z) > 2.576:\n",
    "    print(\"Reject null hypothesis at 1% level\")\n",
    "if abs(z) > 3.291:\n",
    "    print(\"Reject null hypothesis at 0.1% level\")\n",
    "if abs(z) <= 1.960:\n",
    "    print(\"Accept the null hypothesis at 5% level\")"
   ]
  },
  {
   "cell_type": "markdown",
   "metadata": {},
   "source": [
    "$P( |Z|> z) = 1 - 2 \\times \\phi^{-1}(z)$"
   ]
  },
  {
   "cell_type": "code",
   "execution_count": 100,
   "metadata": {},
   "outputs": [
    {
     "name": "stdout",
     "output_type": "stream",
     "text": [
      "p-value: 0.00101713892686206 %\n"
     ]
    }
   ],
   "source": [
    "print(\"p-value:\", (1-norm.cdf(abs(z)))*2*100, \"%\")"
   ]
  },
  {
   "cell_type": "code",
   "execution_count": 101,
   "metadata": {
    "scrolled": false
   },
   "outputs": [],
   "source": [
    "# # define probability\n",
    "# p = 0.975\n",
    "# # retrieve value <= probability\n",
    "# value = norm.ppf(p)\n",
    "# print(value)\n",
    "# # confirm with cdf\n",
    "# p = norm.cdf(value)\n",
    "# print(p)"
   ]
  },
  {
   "cell_type": "markdown",
   "metadata": {},
   "source": [
    "### 'SearchAuthorizationCode': 'search_reason'"
   ]
  },
  {
   "cell_type": "code",
   "execution_count": 102,
   "metadata": {
    "scrolled": false
   },
   "outputs": [
    {
     "data": {
      "text/plain": [
       "SearchAuthorizationCode\n",
       "N     2.44\n",
       "I    24.94\n",
       "C    30.38\n",
       "O    42.24\n",
       "Name: SearchAuthorizationCode, dtype: float64"
      ]
     },
     "execution_count": 102,
     "metadata": {},
     "output_type": "execute_result"
    }
   ],
   "source": [
    "s_obs_search_reason = df_obs.groupby('SearchAuthorizationCode').SearchAuthorizationCode.count().sort_values()\n",
    "s_obs_search_reason = s_obs_search_reason.div(s_obs_search_reason.sum())*100\n",
    "s_obs_search_reason"
   ]
  },
  {
   "cell_type": "code",
   "execution_count": 103,
   "metadata": {},
   "outputs": [],
   "source": [
    "# sanity check\n",
    "assert s_obs_search_reason.sum() == 100"
   ]
  },
  {
   "cell_type": "code",
   "execution_count": 104,
   "metadata": {},
   "outputs": [
    {
     "data": {
      "text/plain": [
       "SearchAuthorizationCode\n",
       "N     4.287595\n",
       "I    20.473590\n",
       "C    35.269050\n",
       "O    39.969765\n",
       "Name: SearchAuthorizationCode, dtype: float64"
      ]
     },
     "execution_count": 104,
     "metadata": {},
     "output_type": "execute_result"
    }
   ],
   "source": [
    "s_train_search_reason = df_train.groupby('SearchAuthorizationCode').SearchAuthorizationCode.count().sort_values()\n",
    "s_train_search_reason = s_train_search_reason.div(s_train_search_reason.sum())*100\n",
    "s_train_search_reason"
   ]
  },
  {
   "cell_type": "code",
   "execution_count": 105,
   "metadata": {},
   "outputs": [],
   "source": [
    "# sanity check\n",
    "assert s_train_search_reason.sum() == 100"
   ]
  },
  {
   "cell_type": "code",
   "execution_count": 106,
   "metadata": {
    "scrolled": true
   },
   "outputs": [
    {
     "data": {
      "image/png": "[encoded data removed]",
      "text/plain": [
       "<Figure size 288x288 with 1 Axes>"
      ]
     },
     "metadata": {
      "needs_background": "light"
     },
     "output_type": "display_data"
    }
   ],
   "source": [
    "pd.DataFrame({'Training set': s_train_search_reason, 'Production set': s_obs_search_reason}).sort_values(by='Training set').plot.bar(figsize=(4,4))\n",
    "\n",
    "plt.title('Percentage of search reason occurrence')\n",
    "plt.xlabel(\"Search reason\")\n",
    "plt.ylabel(\"[%]\")\n",
    "\n",
    "plt.grid(axis='y')\n",
    "\n",
    "#plt.legend(['Training set', 'Production set'])\n",
    "\n",
    "plt.savefig(os.path.join('plots', 'report2_population_search_reason_compare.png'));"
   ]
  },
  {
   "cell_type": "markdown",
   "metadata": {},
   "source": [
    "### 'StatuteReason': 'stop_reason'"
   ]
  },
  {
   "cell_type": "code",
   "execution_count": 107,
   "metadata": {
    "scrolled": true
   },
   "outputs": [
    {
     "data": {
      "text/plain": [
       "StatuteReason\n",
       "Equipment Violation        0.50\n",
       "STC Violation              0.94\n",
       "Unlicensed Operation       1.34\n",
       "Cell Phone                 2.34\n",
       "Seatbelt                   3.32\n",
       "Traffic Control Signal     4.24\n",
       "Stop Sign                  4.78\n",
       "Window Tint                5.14\n",
       "Defective Lights           9.48\n",
       "Display of Plates         10.26\n",
       "Registration              10.26\n",
       "Speed Related             10.66\n",
       "Administrative Offense    11.50\n",
       "Other                     12.00\n",
       "Moving Violation          13.24\n",
       "Name: StatuteReason, dtype: float64"
      ]
     },
     "execution_count": 107,
     "metadata": {},
     "output_type": "execute_result"
    }
   ],
   "source": [
    "s_obs_stop_reason  = df_obs.groupby('StatuteReason').StatuteReason.count().sort_values()\n",
    "s_obs_stop_reason  = s_obs_stop_reason .div(s_obs_stop_reason .sum())*100\n",
    "s_obs_stop_reason "
   ]
  },
  {
   "cell_type": "code",
   "execution_count": 112,
   "metadata": {},
   "outputs": [],
   "source": [
    "# sanity check\n",
    "assert isclose(s_obs_stop_reason.sum(), 100)"
   ]
  },
  {
   "cell_type": "code",
   "execution_count": 113,
   "metadata": {},
   "outputs": [
    {
     "data": {
      "text/plain": [
       "StatuteReason\n",
       "Stop Sign                  0.003910\n",
       "Equipment Violation        0.732410\n",
       "STC Violation              0.775416\n",
       "Unlicensed Operation       0.908345\n",
       "Suspended License          1.793231\n",
       "Cell Phone                 2.255874\n",
       "Seatbelt                   2.831898\n",
       "Other/Error                2.919213\n",
       "Window Tint                4.398368\n",
       "Traffic Control Signal     4.842766\n",
       "Stop Sign                  4.871437\n",
       "Administrative Offense     6.314102\n",
       "Display of Plates          7.635567\n",
       "Registration               9.551301\n",
       "Speed Related             10.858431\n",
       "Defective Lights          11.894491\n",
       "Moving Violation          12.991803\n",
       "Other                     14.421435\n",
       "Name: StatuteReason, dtype: float64"
      ]
     },
     "execution_count": 113,
     "metadata": {},
     "output_type": "execute_result"
    }
   ],
   "source": [
    "s_train_stop_reason  = df_train.groupby('StatuteReason').StatuteReason.count().sort_values()\n",
    "s_train_stop_reason  = s_train_stop_reason .div(s_train_stop_reason .sum())*100\n",
    "s_train_stop_reason "
   ]
  },
  {
   "cell_type": "code",
   "execution_count": 114,
   "metadata": {},
   "outputs": [],
   "source": [
    "# sanity check\n",
    "assert isclose(s_train_stop_reason.sum(), 100)"
   ]
  },
  {
   "cell_type": "code",
   "execution_count": 115,
   "metadata": {
    "scrolled": true
   },
   "outputs": [
    {
     "data": {
      "image/png": "[encoded data removed]",
      "text/plain": [
       "<Figure size 576x288 with 1 Axes>"
      ]
     },
     "metadata": {
      "needs_background": "light"
     },
     "output_type": "display_data"
    }
   ],
   "source": [
    "pd.DataFrame({'Training set': s_train_stop_reason , 'Production set': s_obs_stop_reason }).sort_values(by='Training set').plot.bar(figsize=(8,4))\n",
    "\n",
    "plt.title('Percentage of Stop reason occurrence')\n",
    "plt.xlabel(\"Stop reason \")\n",
    "plt.ylabel(\"[%]\")\n",
    "\n",
    "plt.grid(axis='y')\n",
    "\n",
    "#plt.legend(['Training set', 'Production set'])\n",
    "\n",
    "plt.savefig(os.path.join('plots', 'report2_population_stop_reason_compare.png'));"
   ]
  },
  {
   "cell_type": "markdown",
   "metadata": {},
   "source": [
    "### 'SubjectAge': 'age'"
   ]
  },
  {
   "cell_type": "code",
   "execution_count": 116,
   "metadata": {
    "scrolled": false
   },
   "outputs": [],
   "source": [
    "s_obs_age = df_obs.groupby('SubjectAge').SubjectAge.count().sort_values()\n",
    "s_obs_age = s_obs_age .div(s_obs_age .sum())*100"
   ]
  },
  {
   "cell_type": "code",
   "execution_count": 118,
   "metadata": {},
   "outputs": [],
   "source": [
    "# sanity check\n",
    "assert isclose(s_obs_age.sum(), 100)"
   ]
  },
  {
   "cell_type": "code",
   "execution_count": 119,
   "metadata": {},
   "outputs": [],
   "source": [
    "s_train_age = df_train.groupby('SubjectAge').SubjectAge.count().sort_values()\n",
    "s_train_age = s_train_age .div(s_train_age .sum())*100"
   ]
  },
  {
   "cell_type": "code",
   "execution_count": 120,
   "metadata": {},
   "outputs": [],
   "source": [
    "# sanity check\n",
    "assert s_train_age.sum() == 100"
   ]
  },
  {
   "cell_type": "code",
   "execution_count": 121,
   "metadata": {
    "scrolled": true
   },
   "outputs": [
    {
     "data": {
      "image/png": "[encoded data removed]",
      "text/plain": [
       "<Figure size 576x288 with 1 Axes>"
      ]
     },
     "metadata": {
      "needs_background": "light"
     },
     "output_type": "display_data"
    }
   ],
   "source": [
    "pd.DataFrame({'Training set': s_train_age, 'Production set': s_obs_age}).sort_index().plot.line(figsize=(8,4))\n",
    "\n",
    "plt.title(\"Percentage of age occurrence\")\n",
    "plt.xlabel(\"Subject's age\")\n",
    "plt.ylabel(\"[%]\")\n",
    "\n",
    "plt.xlim(16,60)\n",
    "plt.ylim(0,6.5)\n",
    "\n",
    "plt.grid(axis='y')\n",
    "\n",
    "#plt.legend(['Training set', 'Production set'])\n",
    "\n",
    "#plt.savefig(os.path.join('plots', 'report2_population_age _compare.png'));"
   ]
  },
  {
   "cell_type": "markdown",
   "metadata": {},
   "source": [
    "---"
   ]
  },
  {
   "cell_type": "markdown",
   "metadata": {},
   "source": [
    "---"
   ]
  },
  {
   "cell_type": "markdown",
   "metadata": {},
   "source": [
    "---"
   ]
  },
  {
   "cell_type": "markdown",
   "metadata": {},
   "source": [
    "## Comparing training and production sets for all requests (previous method; without model decision)"
   ]
  },
  {
   "cell_type": "markdown",
   "metadata": {},
   "source": [
    "### Precision overall"
   ]
  },
  {
   "cell_type": "code",
   "execution_count": 153,
   "metadata": {},
   "outputs": [
    {
     "data": {
      "text/plain": [
       "0.359"
      ]
     },
     "execution_count": 153,
     "metadata": {},
     "output_type": "execute_result"
    }
   ],
   "source": [
    "precision_prod = y_true.mean()\n",
    "precision_prod"
   ]
  },
  {
   "cell_type": "code",
   "execution_count": 58,
   "metadata": {
    "scrolled": true
   },
   "outputs": [
    {
     "data": {
      "text/plain": [
       "0.359"
      ]
     },
     "execution_count": 58,
     "metadata": {},
     "output_type": "execute_result"
    }
   ],
   "source": [
    "precision2"
   ]
  },
  {
   "cell_type": "code",
   "execution_count": 155,
   "metadata": {},
   "outputs": [
    {
     "data": {
      "text/plain": [
       "0.3325124115554513"
      ]
     },
     "execution_count": 155,
     "metadata": {},
     "output_type": "execute_result"
    }
   ],
   "source": [
    "precision_train = df_train.ContrabandIndicator.mean()\n",
    "precision_train"
   ]
  },
  {
   "cell_type": "code",
   "execution_count": 205,
   "metadata": {},
   "outputs": [],
   "source": [
    "df_train_classes = pd.DataFrame({df_train.SubjectRaceCode.name: df_train.SubjectRaceCode, \n",
    "                                 df_train.SubjectEthnicityCode.name: df_train.SubjectEthnicityCode, \n",
    "                                 df_train.SubjectSexCode.name: df_train.SubjectSexCode, \n",
    "                                 df_train.SearchAuthorizationCode.name: df_train.SearchAuthorizationCode,\n",
    "                                 df_train.StatuteReason.name: df_train.StatuteReason,\n",
    "                                 df_train.SubjectAge.name: df_train.SubjectAge,                                 \n",
    "                                 df_train['Department Name'].name: df_train['Department Name'],\n",
    "                                'y_true': df_train.ContrabandIndicator})"
   ]
  },
  {
   "cell_type": "code",
   "execution_count": 206,
   "metadata": {},
   "outputs": [],
   "source": [
    "#sanity check\n",
    "assert df_train_classes.shape[0] == df_train.shape[0]"
   ]
  },
  {
   "cell_type": "markdown",
   "metadata": {},
   "source": [
    "### Precision among races ('SubjectRaceCode': 'race')"
   ]
  },
  {
   "cell_type": "code",
   "execution_count": 166,
   "metadata": {},
   "outputs": [
    {
     "data": {
      "text/plain": [
       "SubjectRaceCode\n",
       "A    29.116466\n",
       "B    29.972001\n",
       "I    29.545455\n",
       "W    34.683506\n",
       "Name: y_true, dtype: float64"
      ]
     },
     "execution_count": 166,
     "metadata": {},
     "output_type": "execute_result"
    }
   ],
   "source": [
    "s_train_SR_race = df_train_classes.groupby('SubjectRaceCode').y_true.mean().apply(lambda x: x*100)\n",
    "s_train_SR_race"
   ]
  },
  {
   "cell_type": "code",
   "execution_count": 167,
   "metadata": {
    "scrolled": true
   },
   "outputs": [
    {
     "data": {
      "text/plain": [
       "SubjectRaceCode\n",
       "A    26.086957\n",
       "B    34.512725\n",
       "I    20.000000\n",
       "W    36.753675\n",
       "Name: y_true, dtype: float64"
      ]
     },
     "execution_count": 167,
     "metadata": {},
     "output_type": "execute_result"
    }
   ],
   "source": [
    "s_prod_SR_race = df_obs_classes.groupby('SubjectRaceCode').y_true.mean().apply(lambda x: x*100)\n",
    "s_prod_SR_race"
   ]
  },
  {
   "cell_type": "code",
   "execution_count": 202,
   "metadata": {
    "scrolled": false
   },
   "outputs": [
    {
     "data": {
      "image/png": "[encoded data removed]",
      "text/plain": [
       "<Figure size 288x288 with 1 Axes>"
      ]
     },
     "metadata": {
      "needs_background": "light"
     },
     "output_type": "display_data"
    }
   ],
   "source": [
    "pd.DataFrame({'Training set':s_train_SR_race, 'Production set': s_prod_SR_race}).sort_values(by='Training set').plot.bar(figsize=(4,4))\n",
    "\n",
    "plt.axhline(y=precision_train*100, color='C0', linestyle='-.', label='SR train.')\n",
    "plt.axhline(y=precision_prod*100, color='C1', linestyle='-.', label='SR produc.')\n",
    "\n",
    "plt.title('Finding success rate (SR) among races')\n",
    "plt.xlabel(\"Subject's race\")\n",
    "plt.ylabel(\"Success rate [%]\")\n",
    "\n",
    "plt.ylim(0,47)\n",
    "plt.yticks(range(0,47,5))\n",
    "\n",
    "plt.grid(axis='y')\n",
    "\n",
    "plt.legend(ncol=2)\n",
    "\n",
    "plt.savefig(os.path.join('plots', 'report2_population_race_SR_compare.png'));"
   ]
  },
  {
   "cell_type": "markdown",
   "metadata": {},
   "source": [
    "### Precision among ethnicities ('SubjectEthnicityCode': 'ethnic')"
   ]
  },
  {
   "cell_type": "code",
   "execution_count": 192,
   "metadata": {},
   "outputs": [
    {
     "data": {
      "text/plain": [
       "SubjectEthnicityCode\n",
       "H    27.710568\n",
       "M    27.968037\n",
       "N    34.994772\n",
       "Name: y_true, dtype: float64"
      ]
     },
     "execution_count": 192,
     "metadata": {},
     "output_type": "execute_result"
    }
   ],
   "source": [
    "s_train_SR_ethnic = df_train_classes.groupby('SubjectEthnicityCode').y_true.mean().apply(lambda x: x*100)\n",
    "s_train_SR_ethnic"
   ]
  },
  {
   "cell_type": "code",
   "execution_count": 193,
   "metadata": {
    "scrolled": true
   },
   "outputs": [
    {
     "data": {
      "text/plain": [
       "SubjectEthnicityCode\n",
       "H    29.843750\n",
       "N    37.983871\n",
       "Name: y_true, dtype: float64"
      ]
     },
     "execution_count": 193,
     "metadata": {},
     "output_type": "execute_result"
    }
   ],
   "source": [
    "s_prod_SR_ethnic = df_obs_classes.groupby('SubjectEthnicityCode').y_true.mean().apply(lambda x: x*100)\n",
    "s_prod_SR_ethnic"
   ]
  },
  {
   "cell_type": "code",
   "execution_count": 201,
   "metadata": {
    "scrolled": true
   },
   "outputs": [
    {
     "data": {
      "image/png": "[encoded data removed]",
      "text/plain": [
       "<Figure size 288x288 with 1 Axes>"
      ]
     },
     "metadata": {
      "needs_background": "light"
     },
     "output_type": "display_data"
    }
   ],
   "source": [
    "pd.DataFrame({'Training set':s_train_SR_ethnic, 'Production set': s_prod_SR_ethnic}).sort_values(by='Training set').plot.bar(figsize=(4,4))\n",
    "\n",
    "plt.axhline(y=precision_train*100, color='C0', linestyle='-.', label='SR train.')\n",
    "plt.axhline(y=precision_prod*100, color='C1', linestyle='-.', label='SR produc.')\n",
    "\n",
    "plt.title('Finding success rate (SR) among ethnicities')\n",
    "plt.xlabel(\"Subject's ethnicity\")\n",
    "plt.ylabel(\"Success rate [%]\")\n",
    "\n",
    "plt.ylim(0,47)\n",
    "plt.yticks(range(0,47,5))\n",
    "\n",
    "plt.grid(axis='y')\n",
    "\n",
    "plt.legend(ncol=2)\n",
    "\n",
    "plt.savefig(os.path.join('plots', 'report2_population_ethnic_SR_compare.png'));"
   ]
  },
  {
   "cell_type": "markdown",
   "metadata": {},
   "source": [
    "### Precision among sexes ('SubjectSexCode': 'sex')"
   ]
  },
  {
   "cell_type": "code",
   "execution_count": 196,
   "metadata": {},
   "outputs": [
    {
     "data": {
      "text/plain": [
       "SubjectSexCode\n",
       "F    31.962723\n",
       "M    33.540184\n",
       "Name: y_true, dtype: float64"
      ]
     },
     "execution_count": 196,
     "metadata": {},
     "output_type": "execute_result"
    }
   ],
   "source": [
    "s_train_SR_sex = df_train_classes.groupby('SubjectSexCode').y_true.mean().apply(lambda x: x*100)\n",
    "s_train_SR_sex"
   ]
  },
  {
   "cell_type": "code",
   "execution_count": 197,
   "metadata": {
    "scrolled": true
   },
   "outputs": [
    {
     "data": {
      "text/plain": [
       "SubjectSexCode\n",
       "F    31.866029\n",
       "M    36.965866\n",
       "Name: y_true, dtype: float64"
      ]
     },
     "execution_count": 197,
     "metadata": {},
     "output_type": "execute_result"
    }
   ],
   "source": [
    "s_prod_SR_sex = df_obs_classes.groupby('SubjectSexCode').y_true.mean().apply(lambda x: x*100)\n",
    "s_prod_SR_sex"
   ]
  },
  {
   "cell_type": "code",
   "execution_count": 199,
   "metadata": {
    "scrolled": true
   },
   "outputs": [
    {
     "data": {
      "image/png": "[encoded data removed]",
      "text/plain": [
       "<Figure size 288x288 with 1 Axes>"
      ]
     },
     "metadata": {
      "needs_background": "light"
     },
     "output_type": "display_data"
    }
   ],
   "source": [
    "pd.DataFrame({'Training set':s_train_SR_sex, 'Production set': s_prod_SR_sex}).sort_values(by='Training set').plot.bar(figsize=(4,4))\n",
    "\n",
    "plt.axhline(y=precision_train*100, color='C0', linestyle='-.', label='SR train.')\n",
    "plt.axhline(y=precision_prod*100, color='C1', linestyle='-.', label='SR produc.')\n",
    "\n",
    "plt.title('Finding success rate (SR) among sexes')\n",
    "plt.xlabel(\"Subject's sex\")\n",
    "plt.ylabel(\"Success rate [%]\")\n",
    "\n",
    "plt.ylim(0,47)\n",
    "plt.yticks(range(0,47,5))\n",
    "\n",
    "plt.grid(axis='y')\n",
    "\n",
    "plt.legend(ncol=2)\n",
    "\n",
    "plt.savefig(os.path.join('plots', 'report2_population_sex_SR_compare.png'));"
   ]
  },
  {
   "cell_type": "markdown",
   "metadata": {},
   "source": [
    "### Precision among search reasons ('SearchAuthorizationCode': 'search_reason')"
   ]
  },
  {
   "cell_type": "code",
   "execution_count": 221,
   "metadata": {
    "scrolled": true
   },
   "outputs": [
    {
     "data": {
      "text/plain": [
       "SearchAuthorizationCode\n",
       "C    25.252189\n",
       "I    12.017823\n",
       "N    13.768997\n",
       "O    53.286599\n",
       "Name: y_true, dtype: float64"
      ]
     },
     "execution_count": 221,
     "metadata": {},
     "output_type": "execute_result"
    }
   ],
   "source": [
    "s_train_SR_search_reason = df_train_classes.groupby('SearchAuthorizationCode').y_true.mean().apply(lambda x: x*100)\n",
    "s_train_SR_search_reason"
   ]
  },
  {
   "cell_type": "code",
   "execution_count": 222,
   "metadata": {
    "scrolled": true
   },
   "outputs": [
    {
     "data": {
      "text/plain": [
       "SearchAuthorizationCode\n",
       "C    29.127517\n",
       "I    14.308176\n",
       "N    25.000000\n",
       "O    54.584527\n",
       "Name: y_true, dtype: float64"
      ]
     },
     "execution_count": 222,
     "metadata": {},
     "output_type": "execute_result"
    }
   ],
   "source": [
    "s_prod_SR_search_reason = df_obs_classes.groupby('SearchAuthorizationCode').y_true.mean().apply(lambda x: x*100)\n",
    "s_prod_SR_search_reason"
   ]
  },
  {
   "cell_type": "code",
   "execution_count": 229,
   "metadata": {
    "scrolled": false
   },
   "outputs": [
    {
     "data": {
      "image/png": "[encoded data removed]",
      "text/plain": [
       "<Figure size 288x288 with 1 Axes>"
      ]
     },
     "metadata": {
      "needs_background": "light"
     },
     "output_type": "display_data"
    }
   ],
   "source": [
    "pd.DataFrame({'Training set':s_train_SR_search_reason, 'Production set': s_prod_SR_search_reason}).sort_values(by='Training set').plot.bar(figsize=(4,4))\n",
    "\n",
    "plt.axhline(y=precision_train*100, color='C0', linestyle='-.', label='SR train.')\n",
    "plt.axhline(y=precision_prod*100, color='C1', linestyle='-.', label='SR produc.')\n",
    "\n",
    "plt.title('Finding success rate (SR) by search reason')\n",
    "plt.xlabel(\"Search reason\")\n",
    "plt.ylabel(\"Success rate [%]\")\n",
    "\n",
    "plt.ylim(0,60)\n",
    "plt.yticks(range(0,60,5))\n",
    "\n",
    "plt.grid(axis='y')\n",
    "\n",
    "plt.legend(ncol=1)\n",
    "\n",
    "plt.savefig(os.path.join('plots', 'report2_population_search_reason_SR_compare.png'));"
   ]
  },
  {
   "cell_type": "code",
   "execution_count": null,
   "metadata": {},
   "outputs": [],
   "source": []
  },
  {
   "cell_type": "code",
   "execution_count": 262,
   "metadata": {},
   "outputs": [
    {
     "data": {
      "text/plain": [
       "SearchAuthorizationCode\n",
       "C    0.759436\n",
       "I    0.361425\n",
       "N    0.414090\n",
       "O    1.602545\n",
       "Name: y_true, dtype: float64"
      ]
     },
     "execution_count": 262,
     "metadata": {},
     "output_type": "execute_result"
    }
   ],
   "source": [
    "s_train_SR_search_reason/(precision_train*100)"
   ]
  },
  {
   "cell_type": "code",
   "execution_count": 264,
   "metadata": {},
   "outputs": [
    {
     "data": {
      "text/plain": [
       "<matplotlib.legend.Legend at 0x75ffc22198>"
      ]
     },
     "execution_count": 264,
     "metadata": {},
     "output_type": "execute_result"
    },
    {
     "data": {
      "image/png": "[encoded data removed]",
      "text/plain": [
       "<Figure size 288x288 with 1 Axes>"
      ]
     },
     "metadata": {
      "needs_background": "light"
     },
     "output_type": "display_data"
    }
   ],
   "source": [
    "pd.DataFrame({'Training set':s_train_SR_search_reason/(precision_train*100), 'Production set': s_prod_SR_search_reason/(precision_prod*100)}).sort_values(by='Training set').plot.bar(figsize=(4,4))\n",
    "\n",
    "#plt.axhline(y=precision_train*100, color='C0', linestyle='-.', label='SR train.')\n",
    "#plt.axhline(y=precision_prod*100, color='C1', linestyle='-.', label='SR produc.')\n",
    "\n",
    "plt.title('Finding success rate (SR) by search reason')\n",
    "plt.xlabel(\"Search reason\")\n",
    "plt.ylabel(\"Success rate [%]\")\n",
    "\n",
    "plt.ylim(0,2)\n",
    "#plt.yticks(range(0,60,5))\n",
    "\n",
    "plt.grid(axis='y')\n",
    "\n",
    "plt.legend(ncol=1)\n"
   ]
  },
  {
   "cell_type": "code",
   "execution_count": 265,
   "metadata": {},
   "outputs": [
    {
     "data": {
      "text/plain": [
       "<matplotlib.legend.Legend at 0x75ff7b06a0>"
      ]
     },
     "execution_count": 265,
     "metadata": {},
     "output_type": "execute_result"
    },
    {
     "data": {
      "image/png": "[encoded data removed]",
      "text/plain": [
       "<Figure size 288x288 with 1 Axes>"
      ]
     },
     "metadata": {
      "needs_background": "light"
     },
     "output_type": "display_data"
    }
   ],
   "source": [
    "pd.DataFrame({'Training set':s_train_SR_search_reason/s_train_SR_search_reason.max(), 'Production set': s_prod_SR_search_reason/s_prod_SR_search_reason.max()}).sort_values(by='Training set').plot.bar(figsize=(4,4))\n",
    "\n",
    "#plt.axhline(y=precision_train*100, color='C0', linestyle='-.', label='SR train.')\n",
    "#plt.axhline(y=precision_prod*100, color='C1', linestyle='-.', label='SR produc.')\n",
    "\n",
    "plt.title('Finding success rate (SR) by search reason')\n",
    "plt.xlabel(\"Search reason\")\n",
    "plt.ylabel(\"Success rate [%]\")\n",
    "\n",
    "plt.ylim(0,1)\n",
    "#plt.yticks(range(0,60,5))\n",
    "\n",
    "plt.grid(axis='y')\n",
    "\n",
    "plt.legend(ncol=1)"
   ]
  },
  {
   "cell_type": "markdown",
   "metadata": {},
   "source": [
    "### Precision among stop reasons ('StatuteReason': 'stop_reason')"
   ]
  },
  {
   "cell_type": "code",
   "execution_count": 230,
   "metadata": {
    "scrolled": false
   },
   "outputs": [
    {
     "data": {
      "text/plain": [
       "StatuteReason\n",
       "Administrative Offense    25.159959\n",
       "Cell Phone                32.293472\n",
       "Defective Lights          36.287937\n",
       "Display of Plates         33.060249\n",
       "Equipment Violation       38.434164\n",
       "Moving Violation          34.807905\n",
       "Other                     40.059642\n",
       "Other/Error               37.008929\n",
       "Registration              22.035748\n",
       "STC Violation             27.563025\n",
       "Seatbelt                  40.911183\n",
       "Speed Related             36.737878\n",
       "Stop Sign                 32.691279\n",
       "Stop Sign                  0.000000\n",
       "Suspended License         19.186047\n",
       "Traffic Control Signal    28.336921\n",
       "Unlicensed Operation      21.807747\n",
       "Window Tint               33.274074\n",
       "Name: y_true, dtype: float64"
      ]
     },
     "execution_count": 230,
     "metadata": {},
     "output_type": "execute_result"
    }
   ],
   "source": [
    "s_train_SR_stop_reason = df_train_classes.groupby('StatuteReason').y_true.mean().apply(lambda x: x*100)\n",
    "s_train_SR_stop_reason"
   ]
  },
  {
   "cell_type": "code",
   "execution_count": 231,
   "metadata": {
    "scrolled": true
   },
   "outputs": [
    {
     "data": {
      "text/plain": [
       "StatuteReason\n",
       "Administrative Offense    24.844720\n",
       "Cell Phone                35.294118\n",
       "Defective Lights          42.489270\n",
       "Display of Plates         33.198381\n",
       "Equipment Violation       50.000000\n",
       "Moving Violation          31.428571\n",
       "Other                     50.958466\n",
       "Registration              24.583333\n",
       "STC Violation             29.032258\n",
       "Seatbelt                  45.454545\n",
       "Speed Related             42.292490\n",
       "Stop Sign                 30.434783\n",
       "Traffic Control Signal    31.683168\n",
       "Unlicensed Operation      33.333333\n",
       "Window Tint               40.800000\n",
       "Name: y_true, dtype: float64"
      ]
     },
     "execution_count": 231,
     "metadata": {},
     "output_type": "execute_result"
    }
   ],
   "source": [
    "s_prod_SR_stop_reason = df_obs_classes.groupby('StatuteReason').y_true.mean().apply(lambda x: x*100)\n",
    "s_prod_SR_stop_reason"
   ]
  },
  {
   "cell_type": "code",
   "execution_count": 234,
   "metadata": {
    "scrolled": true
   },
   "outputs": [
    {
     "data": {
      "image/png": "[encoded data removed]",
      "text/plain": [
       "<Figure size 576x288 with 1 Axes>"
      ]
     },
     "metadata": {
      "needs_background": "light"
     },
     "output_type": "display_data"
    }
   ],
   "source": [
    "pd.DataFrame({'Training set':s_train_SR_stop_reason, 'Production set': s_prod_SR_stop_reason}).sort_values(by='Training set').plot.bar(figsize=(8,4))\n",
    "\n",
    "plt.axhline(y=precision_train*100, color='C0', linestyle='-.', label='SR train.')\n",
    "plt.axhline(y=precision_prod*100, color='C1', linestyle='-.', label='SR produc.')\n",
    "\n",
    "plt.title('Finding success rate (SR) by stop reason')\n",
    "plt.xlabel(\"Stop reason\")\n",
    "plt.ylabel(\"Success rate [%]\")\n",
    "\n",
    "plt.ylim(0,55)\n",
    "plt.yticks(range(0,55,5))\n",
    "\n",
    "plt.grid(axis='y')\n",
    "\n",
    "plt.legend(ncol=1)\n",
    "\n",
    "plt.savefig(os.path.join('plots', 'report2_population_stop_reason_SR_compare.png'));"
   ]
  },
  {
   "cell_type": "markdown",
   "metadata": {},
   "source": [
    "### Precision among ages ('SubjectAge': 'age')"
   ]
  },
  {
   "cell_type": "code",
   "execution_count": 256,
   "metadata": {
    "scrolled": false
   },
   "outputs": [
    {
     "data": {
      "text/plain": [
       "SubjectAge\n",
       "<= 27    40.361477\n",
       "> 27     25.880417\n",
       "Name: y_true, dtype: float64"
      ]
     },
     "execution_count": 256,
     "metadata": {},
     "output_type": "execute_result"
    }
   ],
   "source": [
    "s_train_SR_age = df_train_classes[['SubjectAge', 'y_true']]\n",
    "s_train_SR_age.loc[:,'SubjectAge'] = s_train_SR_age.loc[:,'SubjectAge'] > 27\n",
    "s_train_SR_age.loc[:,'SubjectAge'] = s_train_SR_age.loc[:,'SubjectAge'].map({True:'> 27', False:'<= 27'})\n",
    "s_train_SR_age = s_train_SR_age.groupby('SubjectAge').y_true.mean().apply(lambda x: x*100)\n",
    "s_train_SR_age"
   ]
  },
  {
   "cell_type": "code",
   "execution_count": 257,
   "metadata": {
    "scrolled": true
   },
   "outputs": [
    {
     "data": {
      "text/plain": [
       "SubjectAge\n",
       "<= 27    42.572944\n",
       "> 27     30.387144\n",
       "Name: y_true, dtype: float64"
      ]
     },
     "execution_count": 257,
     "metadata": {},
     "output_type": "execute_result"
    }
   ],
   "source": [
    "s_prod_SR_age = df_obs_classes[['SubjectAge', 'y_true']]\n",
    "s_prod_SR_age.loc[:,'SubjectAge'] = s_prod_SR_age.loc[:,'SubjectAge'] > 27\n",
    "s_prod_SR_age.loc[:,'SubjectAge'] = s_prod_SR_age.loc[:,'SubjectAge'].map({True:'> 27', False:'<= 27'})\n",
    "s_prod_SR_age = s_prod_SR_age.groupby('SubjectAge').y_true.mean().apply(lambda x: x*100)\n",
    "s_prod_SR_age.head()"
   ]
  },
  {
   "cell_type": "code",
   "execution_count": 259,
   "metadata": {
    "scrolled": true
   },
   "outputs": [
    {
     "data": {
      "text/plain": [
       "<matplotlib.legend.Legend at 0x7580fed6a0>"
      ]
     },
     "execution_count": 259,
     "metadata": {},
     "output_type": "execute_result"
    },
    {
     "data": {
      "image/png": "[encoded data removed]",
      "text/plain": [
       "<Figure size 288x288 with 1 Axes>"
      ]
     },
     "metadata": {
      "needs_background": "light"
     },
     "output_type": "display_data"
    }
   ],
   "source": [
    "pd.DataFrame({'Training set':s_train_SR_age, 'Production set': s_prod_SR_age}).sort_values(by='Training set').plot.bar(figsize=(4,4))\n",
    "\n",
    "plt.axhline(y=precision_train*100, color='C0', linestyle='-.', label='SR train.')\n",
    "plt.axhline(y=precision_prod*100, color='C1', linestyle='-.', label='SR produc.')\n",
    "\n",
    "plt.title('Finding success rate (SR) by age')\n",
    "plt.xlabel(\"Subject's age\")\n",
    "plt.ylabel(\"Success rate [%]\")\n",
    "\n",
    "#plt.xlim(16,60)\n",
    "plt.ylim(0,55)\n",
    "plt.yticks(range(0,55,5))\n",
    "\n",
    "plt.grid(axis='y')\n",
    "\n",
    "plt.legend(ncol=1)\n",
    "\n",
    "#plt.savefig(os.path.join('plots', 'report2_population_age_SR_compare.png'));"
   ]
  },
  {
   "cell_type": "code",
   "execution_count": null,
   "metadata": {},
   "outputs": [],
   "source": []
  },
  {
   "cell_type": "code",
   "execution_count": 116,
   "metadata": {
    "scrolled": false
   },
   "outputs": [],
   "source": [
    "s_obs_age = df_obs.groupby('SubjectAge').SubjectAge.count().sort_values()\n",
    "s_obs_age = s_obs_age .div(s_obs_age .sum())*100"
   ]
  },
  {
   "cell_type": "code",
   "execution_count": 118,
   "metadata": {},
   "outputs": [],
   "source": [
    "# sanity check\n",
    "assert isclose(s_obs_age.sum(), 100)"
   ]
  },
  {
   "cell_type": "code",
   "execution_count": 119,
   "metadata": {},
   "outputs": [],
   "source": [
    "s_train_age = df_train.groupby('SubjectAge').SubjectAge.count().sort_values()\n",
    "s_train_age = s_train_age .div(s_train_age .sum())*100"
   ]
  },
  {
   "cell_type": "code",
   "execution_count": 120,
   "metadata": {},
   "outputs": [],
   "source": [
    "# sanity check\n",
    "assert s_train_age.sum() == 100"
   ]
  },
  {
   "cell_type": "code",
   "execution_count": 121,
   "metadata": {
    "scrolled": true
   },
   "outputs": [
    {
     "data": {
      "image/png": "[encoded data removed]",
      "text/plain": [
       "<Figure size 576x288 with 1 Axes>"
      ]
     },
     "metadata": {
      "needs_background": "light"
     },
     "output_type": "display_data"
    }
   ],
   "source": [
    "pd.DataFrame({'Training set': s_train_age, 'Production set': s_obs_age}).sort_index().plot.line(figsize=(8,4))\n",
    "\n",
    "plt.title(\"Percentage of age occurrence\")\n",
    "plt.xlabel(\"Subject's age\")\n",
    "plt.ylabel(\"[%]\")\n",
    "\n",
    "plt.xlim(16,60)\n",
    "plt.ylim(0,6.5)\n",
    "\n",
    "plt.grid(axis='y')\n",
    "\n",
    "#plt.legend(['Training set', 'Production set'])\n",
    "\n",
    "#plt.savefig(os.path.join('plots', 'report2_population_age _compare.png'));"
   ]
  },
  {
   "cell_type": "markdown",
   "metadata": {},
   "source": [
    "---"
   ]
  },
  {
   "cell_type": "markdown",
   "metadata": {},
   "source": [
    "---"
   ]
  },
  {
   "cell_type": "markdown",
   "metadata": {},
   "source": [
    "---"
   ]
  },
  {
   "cell_type": "code",
   "execution_count": null,
   "metadata": {},
   "outputs": [],
   "source": []
  },
  {
   "cell_type": "code",
   "execution_count": null,
   "metadata": {},
   "outputs": [],
   "source": []
  },
  {
   "cell_type": "code",
   "execution_count": null,
   "metadata": {},
   "outputs": [],
   "source": []
  },
  {
   "cell_type": "code",
   "execution_count": null,
   "metadata": {},
   "outputs": [],
   "source": []
  },
  {
   "cell_type": "code",
   "execution_count": null,
   "metadata": {},
   "outputs": [],
   "source": []
  },
  {
   "cell_type": "code",
   "execution_count": null,
   "metadata": {},
   "outputs": [],
   "source": []
  },
  {
   "cell_type": "code",
   "execution_count": null,
   "metadata": {},
   "outputs": [],
   "source": []
  },
  {
   "cell_type": "markdown",
   "metadata": {},
   "source": [
    "---"
   ]
  },
  {
   "cell_type": "markdown",
   "metadata": {},
   "source": [
    "---"
   ]
  },
  {
   "cell_type": "markdown",
   "metadata": {},
   "source": [
    "---"
   ]
  },
  {
   "cell_type": "markdown",
   "metadata": {},
   "source": [
    "# Model dynamic evaluation"
   ]
  },
  {
   "cell_type": "markdown",
   "metadata": {},
   "source": [
    "Load results on the test set from previously saved data (see `classifier_workflow` notebook)."
   ]
  },
  {
   "cell_type": "code",
   "execution_count": null,
   "metadata": {},
   "outputs": [],
   "source": [
    "file_path = os.path.join('data', 'test_set_performance.csv')\n",
    "\n",
    "try:\n",
    "    df_test_set_performance = pd.read_csv(file_path, \n",
    "                             header=0,\n",
    "                             warn_bad_lines=True)\n",
    "except:\n",
    "    print('Ooops!!! We got an error!')\n",
    "else:\n",
    "    pass    "
   ]
  },
  {
   "cell_type": "markdown",
   "metadata": {},
   "source": [
    "Results on the test set:"
   ]
  },
  {
   "cell_type": "code",
   "execution_count": null,
   "metadata": {},
   "outputs": [],
   "source": [
    "y_prob_test = df_test_set_performance.y_prob\n",
    "y_pred_test = df_test_set_performance.y_pred\n",
    "y_true_test = df_test_set_performance.y_true"
   ]
  },
  {
   "cell_type": "code",
   "execution_count": null,
   "metadata": {},
   "outputs": [],
   "source": [
    "fpr_test, tpr_test, thresholds_roc_test = roc_curve(y_true_test, y_prob_test)\n",
    "AUROC_test = roc_auc_score(y_true_test, y_prob_test)*100"
   ]
  },
  {
   "cell_type": "markdown",
   "metadata": {},
   "source": [
    "Plot again ROC curve and True/False positives curves, now including results on the test set."
   ]
  },
  {
   "cell_type": "code",
   "execution_count": null,
   "metadata": {
    "scrolled": true
   },
   "outputs": [],
   "source": [
    "plt.figure(3)\n",
    "\n",
    "plt.plot([0, 1], [0, 1], 'k--')\n",
    "plt.plot(fpr_test, tpr_test, label='Test set')\n",
    "plt.plot(fpr, tpr, label='Production test set')\n",
    "\n",
    "plt.xlabel('False positive rate')\n",
    "plt.ylabel('True positive rate')\n",
    "plt.title('ROC curve')\n",
    "\n",
    "plt.xlim(0, 1)\n",
    "plt.ylim(0, 1)\n",
    "\n",
    "plt.xticks(np.arange(0, 1, step=0.1))\n",
    "plt.yticks(np.arange(0, 1, step=0.1))\n",
    "\n",
    "\n",
    "plt.text(0.35, 0.1, \"Area production test set = {}\".format(round(AUROC,2)), dict(size=12))\n",
    "plt.text(0.35, 0.2, \"Area test set = {}\".format(round(AUROC_test,2)), dict(size=12))\n",
    "\n",
    "plt.annotate(\"operating point\", xy=(fpr[idx_op],tpr[idx_op]), xytext=(0.25,0.5), arrowprops=dict(arrowstyle='->'))\n",
    "\n",
    "plt.legend(loc='best')\n",
    "\n",
    "plt.savefig(os.path.join('plots', 'report2_ROC_curves_compare.png'));\n",
    "#plt.show()"
   ]
  },
  {
   "cell_type": "code",
   "execution_count": null,
   "metadata": {},
   "outputs": [],
   "source": [
    "plt.figure(4)\n",
    "\n",
    "plt.plot(thresholds_roc_test, tpr_test, label='Test set TPR', color='C0')\n",
    "plt.plot(thresholds_roc_test, fpr_test , label='Test set FPR', color='#6baed6')\n",
    "\n",
    "plt.plot(thresholds_roc, tpr, label='Production test TPR', color='C1')\n",
    "plt.plot(thresholds_roc, fpr , label='Production test FPR', color='#fdae6b')\n",
    "\n",
    "plt.axvline(x=decision_thr, color='r', linestyle='-.', label='threshold')\n",
    "\n",
    "plt.xlabel('Decision threshold')\n",
    "plt.ylabel('True/False positive rate')\n",
    "plt.title('True/False positive curves')\n",
    "\n",
    "plt.xlim(0, 1)\n",
    "plt.ylim(0, 1)\n",
    "\n",
    "plt.xticks(np.arange(0, 1, step=0.1))\n",
    "plt.yticks(np.arange(0, 1, step=0.1))\n",
    "\n",
    "plt.legend(loc='best')\n",
    "plt.savefig(os.path.join('plots', 'report2_TF_positives_curves_compare.png'));"
   ]
  },
  {
   "cell_type": "code",
   "execution_count": null,
   "metadata": {},
   "outputs": [],
   "source": []
  },
  {
   "cell_type": "code",
   "execution_count": null,
   "metadata": {},
   "outputs": [],
   "source": []
  },
  {
   "cell_type": "code",
   "execution_count": null,
   "metadata": {},
   "outputs": [],
   "source": []
  },
  {
   "cell_type": "code",
   "execution_count": null,
   "metadata": {},
   "outputs": [],
   "source": []
  }
 ],
 "metadata": {
  "kernelspec": {
   "display_name": "Python 3",
   "language": "python",
   "name": "python3"
  },
  "language_info": {
   "codemirror_mode": {
    "name": "ipython",
    "version": 3
   },
   "file_extension": ".py",
   "mimetype": "text/x-python",
   "name": "python",
   "nbconvert_exporter": "python",
   "pygments_lexer": "ipython3",
   "version": "3.7.1"
  }
 },
 "nbformat": 4,
 "nbformat_minor": 2
}
