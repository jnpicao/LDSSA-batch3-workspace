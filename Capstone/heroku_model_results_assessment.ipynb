{
 "cells": [
  {
   "cell_type": "code",
   "execution_count": 1,
   "metadata": {},
   "outputs": [],
   "source": [
    "# Operating System\n",
    "import os\n",
    "\n",
    "import pickle\n",
    "import json\n",
    "\n",
    "#Pandas and Numpy\n",
    "import pandas as pd\n",
    "import numpy as np\n",
    "\n",
    "#ramdom generator\n",
    "import random\n",
    "\n",
    "# from sklearn.model_selection import train_test_split\n",
    "\n",
    "# from sklearn.pipeline import Pipeline, make_pipeline, FeatureUnion\n",
    "# from sklearn.base import TransformerMixin, BaseEstimator\n",
    "\n",
    "# import category_encoders as ce\n",
    "# from sklearn.preprocessing import KBinsDiscretizer, Binarizer\n",
    "\n",
    "# from sklearn.ensemble import RandomForestClassifier\n",
    "# from sklearn.tree import DecisionTreeClassifier\n",
    "\n",
    "from sklearn.metrics import precision_score, recall_score, accuracy_score, roc_auc_score, classification_report\n",
    "from sklearn.metrics import roc_curve, precision_recall_curve\n",
    "from sklearn.metrics import confusion_matrix\n",
    "\n",
    "# # Custom transformers\n",
    "# from custom_transformers.transformer import Selector, TextSelector, NumberSelector, BoolSelector, TextCleanerTransformer\n",
    "\n",
    "# #CURL requests\n",
    "# import requests \n",
    "\n",
    "#Plots\n",
    "import matplotlib.pyplot as plt\n",
    "%matplotlib inline\n",
    "\n",
    "# # Statistics\n",
    "# from scipy.stats import binom_test\n",
    "\n",
    "# Strings\n",
    "import re\n"
   ]
  },
  {
   "cell_type": "markdown",
   "metadata": {},
   "source": [
    "# Load data production"
   ]
  },
  {
   "cell_type": "code",
   "execution_count": 2,
   "metadata": {},
   "outputs": [],
   "source": [
    "file_path = os.path.join('heroku', 'heroku_db', 'heroku_complete_db.csv')\n",
    "\n",
    "df_results = pd.read_csv(file_path,\n",
    "                         sep=\";\",\n",
    "                         # nrows = 100, \n",
    "                         header=0,\n",
    "                         warn_bad_lines=True)\n",
    "\n"
   ]
  },
  {
   "cell_type": "code",
   "execution_count": 3,
   "metadata": {
    "scrolled": true
   },
   "outputs": [
    {
     "data": {
      "text/html": [
       "<div>\n",
       "<style scoped>\n",
       "    .dataframe tbody tr th:only-of-type {\n",
       "        vertical-align: middle;\n",
       "    }\n",
       "\n",
       "    .dataframe tbody tr th {\n",
       "        vertical-align: top;\n",
       "    }\n",
       "\n",
       "    .dataframe thead th {\n",
       "        text-align: right;\n",
       "    }\n",
       "</style>\n",
       "<table border=\"1\" class=\"dataframe\">\n",
       "  <thead>\n",
       "    <tr style=\"text-align: right;\">\n",
       "      <th></th>\n",
       "      <th>id</th>\n",
       "      <th>observation_id</th>\n",
       "      <th>observation</th>\n",
       "      <th>proba</th>\n",
       "      <th>true_class</th>\n",
       "    </tr>\n",
       "  </thead>\n",
       "  <tbody>\n",
       "    <tr>\n",
       "      <th>0</th>\n",
       "      <td>3</td>\n",
       "      <td>0</td>\n",
       "      <td>{\"id\": 0, \"observation\": {\"Department Name\": \"...</td>\n",
       "      <td>0.456029</td>\n",
       "      <td>0.0</td>\n",
       "    </tr>\n",
       "    <tr>\n",
       "      <th>1</th>\n",
       "      <td>4</td>\n",
       "      <td>1</td>\n",
       "      <td>{\"id\": 1, \"observation\": {\"Department Name\": \"...</td>\n",
       "      <td>0.456029</td>\n",
       "      <td>0.0</td>\n",
       "    </tr>\n",
       "    <tr>\n",
       "      <th>2</th>\n",
       "      <td>5</td>\n",
       "      <td>2</td>\n",
       "      <td>{\"id\": 2, \"observation\": {\"Department Name\": \"...</td>\n",
       "      <td>0.490537</td>\n",
       "      <td>1.0</td>\n",
       "    </tr>\n",
       "    <tr>\n",
       "      <th>3</th>\n",
       "      <td>6</td>\n",
       "      <td>3</td>\n",
       "      <td>{\"id\": 3, \"observation\": {\"Department Name\": \"...</td>\n",
       "      <td>0.490537</td>\n",
       "      <td>1.0</td>\n",
       "    </tr>\n",
       "    <tr>\n",
       "      <th>4</th>\n",
       "      <td>7</td>\n",
       "      <td>4</td>\n",
       "      <td>{\"id\": 4, \"observation\": {\"Department Name\": \"...</td>\n",
       "      <td>0.000000</td>\n",
       "      <td>0.0</td>\n",
       "    </tr>\n",
       "  </tbody>\n",
       "</table>\n",
       "</div>"
      ],
      "text/plain": [
       "   id  observation_id                                        observation  \\\n",
       "0   3               0  {\"id\": 0, \"observation\": {\"Department Name\": \"...   \n",
       "1   4               1  {\"id\": 1, \"observation\": {\"Department Name\": \"...   \n",
       "2   5               2  {\"id\": 2, \"observation\": {\"Department Name\": \"...   \n",
       "3   6               3  {\"id\": 3, \"observation\": {\"Department Name\": \"...   \n",
       "4   7               4  {\"id\": 4, \"observation\": {\"Department Name\": \"...   \n",
       "\n",
       "      proba  true_class  \n",
       "0  0.456029         0.0  \n",
       "1  0.456029         0.0  \n",
       "2  0.490537         1.0  \n",
       "3  0.490537         1.0  \n",
       "4  0.000000         0.0  "
      ]
     },
     "execution_count": 3,
     "metadata": {},
     "output_type": "execute_result"
    }
   ],
   "source": [
    "df_results.head()"
   ]
  },
  {
   "cell_type": "code",
   "execution_count": 4,
   "metadata": {},
   "outputs": [],
   "source": [
    "observations_decoupled = df_results['observation'].apply(json.loads).apply(pd.Series)"
   ]
  },
  {
   "cell_type": "code",
   "execution_count": 5,
   "metadata": {
    "scrolled": true
   },
   "outputs": [
    {
     "data": {
      "text/html": [
       "<div>\n",
       "<style scoped>\n",
       "    .dataframe tbody tr th:only-of-type {\n",
       "        vertical-align: middle;\n",
       "    }\n",
       "\n",
       "    .dataframe tbody tr th {\n",
       "        vertical-align: top;\n",
       "    }\n",
       "\n",
       "    .dataframe thead th {\n",
       "        text-align: right;\n",
       "    }\n",
       "</style>\n",
       "<table border=\"1\" class=\"dataframe\">\n",
       "  <thead>\n",
       "    <tr style=\"text-align: right;\">\n",
       "      <th></th>\n",
       "      <th>id</th>\n",
       "      <th>observation</th>\n",
       "    </tr>\n",
       "  </thead>\n",
       "  <tbody>\n",
       "    <tr>\n",
       "      <th>0</th>\n",
       "      <td>0</td>\n",
       "      <td>{'Department Name': 'Vernon', 'InterventionDat...</td>\n",
       "    </tr>\n",
       "    <tr>\n",
       "      <th>1</th>\n",
       "      <td>1</td>\n",
       "      <td>{'Department Name': 'Vernon', 'InterventionDat...</td>\n",
       "    </tr>\n",
       "    <tr>\n",
       "      <th>2</th>\n",
       "      <td>2</td>\n",
       "      <td>{'Department Name': 'Milford', 'InterventionDa...</td>\n",
       "    </tr>\n",
       "    <tr>\n",
       "      <th>3</th>\n",
       "      <td>3</td>\n",
       "      <td>{'Department Name': 'Milford', 'InterventionDa...</td>\n",
       "    </tr>\n",
       "    <tr>\n",
       "      <th>4</th>\n",
       "      <td>4</td>\n",
       "      <td>{'Department Name': 'Norwalk', 'InterventionDa...</td>\n",
       "    </tr>\n",
       "  </tbody>\n",
       "</table>\n",
       "</div>"
      ],
      "text/plain": [
       "   id                                        observation\n",
       "0   0  {'Department Name': 'Vernon', 'InterventionDat...\n",
       "1   1  {'Department Name': 'Vernon', 'InterventionDat...\n",
       "2   2  {'Department Name': 'Milford', 'InterventionDa...\n",
       "3   3  {'Department Name': 'Milford', 'InterventionDa...\n",
       "4   4  {'Department Name': 'Norwalk', 'InterventionDa..."
      ]
     },
     "execution_count": 5,
     "metadata": {},
     "output_type": "execute_result"
    }
   ],
   "source": [
    "observations_decoupled.head()"
   ]
  },
  {
   "cell_type": "code",
   "execution_count": 6,
   "metadata": {},
   "outputs": [],
   "source": [
    "df_obs = pd.DataFrame(list(observations_decoupled.observation), index=observations_decoupled.id)"
   ]
  },
  {
   "cell_type": "code",
   "execution_count": 7,
   "metadata": {},
   "outputs": [
    {
     "data": {
      "text/html": [
       "<div>\n",
       "<style scoped>\n",
       "    .dataframe tbody tr th:only-of-type {\n",
       "        vertical-align: middle;\n",
       "    }\n",
       "\n",
       "    .dataframe tbody tr th {\n",
       "        vertical-align: top;\n",
       "    }\n",
       "\n",
       "    .dataframe thead th {\n",
       "        text-align: right;\n",
       "    }\n",
       "</style>\n",
       "<table border=\"1\" class=\"dataframe\">\n",
       "  <thead>\n",
       "    <tr style=\"text-align: right;\">\n",
       "      <th></th>\n",
       "      <th>Department Name</th>\n",
       "      <th>InterventionDateTime</th>\n",
       "      <th>InterventionLocationName</th>\n",
       "      <th>InterventionReasonCode</th>\n",
       "      <th>ReportingOfficerIdentificationID</th>\n",
       "      <th>ResidentIndicator</th>\n",
       "      <th>SearchAuthorizationCode</th>\n",
       "      <th>StatuteReason</th>\n",
       "      <th>SubjectAge</th>\n",
       "      <th>SubjectEthnicityCode</th>\n",
       "      <th>SubjectRaceCode</th>\n",
       "      <th>SubjectSexCode</th>\n",
       "      <th>TownResidentIndicator</th>\n",
       "    </tr>\n",
       "    <tr>\n",
       "      <th>id</th>\n",
       "      <th></th>\n",
       "      <th></th>\n",
       "      <th></th>\n",
       "      <th></th>\n",
       "      <th></th>\n",
       "      <th></th>\n",
       "      <th></th>\n",
       "      <th></th>\n",
       "      <th></th>\n",
       "      <th></th>\n",
       "      <th></th>\n",
       "      <th></th>\n",
       "      <th></th>\n",
       "    </tr>\n",
       "  </thead>\n",
       "  <tbody>\n",
       "    <tr>\n",
       "      <th>0</th>\n",
       "      <td>Vernon</td>\n",
       "      <td>05/16/2018 02:39:00 AM</td>\n",
       "      <td>VERNON</td>\n",
       "      <td>V</td>\n",
       "      <td>625</td>\n",
       "      <td>False</td>\n",
       "      <td>C</td>\n",
       "      <td>Registration</td>\n",
       "      <td>40.0</td>\n",
       "      <td>N</td>\n",
       "      <td>B</td>\n",
       "      <td>M</td>\n",
       "      <td>False</td>\n",
       "    </tr>\n",
       "    <tr>\n",
       "      <th>1</th>\n",
       "      <td>Vernon</td>\n",
       "      <td>05/16/2018 02:39:00 AM</td>\n",
       "      <td>VERNON</td>\n",
       "      <td>V</td>\n",
       "      <td>625</td>\n",
       "      <td>False</td>\n",
       "      <td>C</td>\n",
       "      <td>Registration</td>\n",
       "      <td>40.0</td>\n",
       "      <td>N</td>\n",
       "      <td>B</td>\n",
       "      <td>M</td>\n",
       "      <td>False</td>\n",
       "    </tr>\n",
       "    <tr>\n",
       "      <th>2</th>\n",
       "      <td>Milford</td>\n",
       "      <td>05/16/2018 04:08:00 AM</td>\n",
       "      <td>MILFORD</td>\n",
       "      <td>E</td>\n",
       "      <td>473</td>\n",
       "      <td>True</td>\n",
       "      <td>I</td>\n",
       "      <td>Other</td>\n",
       "      <td>49.0</td>\n",
       "      <td>N</td>\n",
       "      <td>B</td>\n",
       "      <td>F</td>\n",
       "      <td>False</td>\n",
       "    </tr>\n",
       "    <tr>\n",
       "      <th>3</th>\n",
       "      <td>Milford</td>\n",
       "      <td>05/16/2018 04:08:00 AM</td>\n",
       "      <td>MILFORD</td>\n",
       "      <td>E</td>\n",
       "      <td>473</td>\n",
       "      <td>True</td>\n",
       "      <td>I</td>\n",
       "      <td>Other</td>\n",
       "      <td>49.0</td>\n",
       "      <td>N</td>\n",
       "      <td>B</td>\n",
       "      <td>F</td>\n",
       "      <td>False</td>\n",
       "    </tr>\n",
       "    <tr>\n",
       "      <th>4</th>\n",
       "      <td>Norwalk</td>\n",
       "      <td>05/16/2018 09:38:00 AM</td>\n",
       "      <td>NORWALK</td>\n",
       "      <td>V</td>\n",
       "      <td>100000335</td>\n",
       "      <td>True</td>\n",
       "      <td>I</td>\n",
       "      <td>Defective Lights</td>\n",
       "      <td>35.0</td>\n",
       "      <td>N</td>\n",
       "      <td>W</td>\n",
       "      <td>M</td>\n",
       "      <td>True</td>\n",
       "    </tr>\n",
       "  </tbody>\n",
       "</table>\n",
       "</div>"
      ],
      "text/plain": [
       "   Department Name    InterventionDateTime InterventionLocationName  \\\n",
       "id                                                                    \n",
       "0           Vernon  05/16/2018 02:39:00 AM                   VERNON   \n",
       "1           Vernon  05/16/2018 02:39:00 AM                   VERNON   \n",
       "2          Milford  05/16/2018 04:08:00 AM                  MILFORD   \n",
       "3          Milford  05/16/2018 04:08:00 AM                  MILFORD   \n",
       "4          Norwalk  05/16/2018 09:38:00 AM                  NORWALK   \n",
       "\n",
       "   InterventionReasonCode ReportingOfficerIdentificationID  ResidentIndicator  \\\n",
       "id                                                                              \n",
       "0                       V                              625              False   \n",
       "1                       V                              625              False   \n",
       "2                       E                              473               True   \n",
       "3                       E                              473               True   \n",
       "4                       V                        100000335               True   \n",
       "\n",
       "   SearchAuthorizationCode     StatuteReason  SubjectAge SubjectEthnicityCode  \\\n",
       "id                                                                              \n",
       "0                        C      Registration        40.0                    N   \n",
       "1                        C      Registration        40.0                    N   \n",
       "2                        I             Other        49.0                    N   \n",
       "3                        I             Other        49.0                    N   \n",
       "4                        I  Defective Lights        35.0                    N   \n",
       "\n",
       "   SubjectRaceCode SubjectSexCode  TownResidentIndicator  \n",
       "id                                                        \n",
       "0                B              M                  False  \n",
       "1                B              M                  False  \n",
       "2                B              F                  False  \n",
       "3                B              F                  False  \n",
       "4                W              M                   True  "
      ]
     },
     "execution_count": 7,
     "metadata": {},
     "output_type": "execute_result"
    }
   ],
   "source": [
    "df_obs.head()"
   ]
  },
  {
   "cell_type": "code",
   "execution_count": 8,
   "metadata": {},
   "outputs": [],
   "source": [
    "df_obs['proba'] = df_results['proba']"
   ]
  },
  {
   "cell_type": "code",
   "execution_count": 9,
   "metadata": {},
   "outputs": [],
   "source": [
    "df_obs['true_class'] = df_results['true_class']"
   ]
  },
  {
   "cell_type": "code",
   "execution_count": 10,
   "metadata": {
    "scrolled": true
   },
   "outputs": [
    {
     "name": "stdout",
     "output_type": "stream",
     "text": [
      "<class 'pandas.core.frame.DataFrame'>\n",
      "Int64Index: 10002 entries, 0 to 900003\n",
      "Data columns (total 15 columns):\n",
      "Department Name                     10002 non-null object\n",
      "InterventionDateTime                10002 non-null object\n",
      "InterventionLocationName            10002 non-null object\n",
      "InterventionReasonCode              10002 non-null object\n",
      "ReportingOfficerIdentificationID    10002 non-null object\n",
      "ResidentIndicator                   10002 non-null bool\n",
      "SearchAuthorizationCode             10002 non-null object\n",
      "StatuteReason                       10002 non-null object\n",
      "SubjectAge                          10002 non-null float64\n",
      "SubjectEthnicityCode                10002 non-null object\n",
      "SubjectRaceCode                     10002 non-null object\n",
      "SubjectSexCode                      10002 non-null object\n",
      "TownResidentIndicator               10002 non-null bool\n",
      "proba                               10000 non-null float64\n",
      "true_class                          5000 non-null float64\n",
      "dtypes: bool(2), float64(3), object(10)\n",
      "memory usage: 1.1+ MB\n"
     ]
    }
   ],
   "source": [
    "df_obs.info()"
   ]
  },
  {
   "cell_type": "code",
   "execution_count": 11,
   "metadata": {},
   "outputs": [],
   "source": [
    "df_obs_known = df_obs.dropna()"
   ]
  },
  {
   "cell_type": "markdown",
   "metadata": {},
   "source": [
    "# Load data training"
   ]
  },
  {
   "cell_type": "code",
   "execution_count": 12,
   "metadata": {},
   "outputs": [],
   "source": [
    "file_path = os.path.join('data', 'train.csv')\n",
    "\n",
    "# Option for reading a sample of the file\n",
    "# sample 20% of the rows\n",
    "p = 1\n",
    "\n",
    "random.seed(178) # this is to get always the same sample. can be removed if we want the sample to change\n",
    "try:\n",
    "    df_original = pd.read_csv(file_path, \n",
    "                             skiprows = lambda row_num: random.random() > p and row_num > 0,                              \n",
    "                             header=0,\n",
    "                             warn_bad_lines=True)\n",
    "except:\n",
    "    print('Ooops!!! We got an error!')\n",
    "else:\n",
    "    # Drop observations correspoding to stops that didn't lead to a search\n",
    "    df_train = df_original[df_original.VehicleSearchedIndicator==True].reset_index(drop=True).drop(columns='VehicleSearchedIndicator')\n",
    "    del df_original\n"
   ]
  },
  {
   "cell_type": "code",
   "execution_count": 13,
   "metadata": {},
   "outputs": [
    {
     "name": "stdout",
     "output_type": "stream",
     "text": [
      "<class 'pandas.core.frame.DataFrame'>\n",
      "RangeIndex: 76743 entries, 0 to 76742\n",
      "Data columns (total 14 columns):\n",
      "ContrabandIndicator                 76743 non-null bool\n",
      "Department Name                     76743 non-null object\n",
      "InterventionDateTime                76743 non-null object\n",
      "InterventionLocationName            76734 non-null object\n",
      "InterventionReasonCode              76743 non-null object\n",
      "ReportingOfficerIdentificationID    76743 non-null object\n",
      "ResidentIndicator                   76743 non-null bool\n",
      "SearchAuthorizationCode             76733 non-null object\n",
      "StatuteReason                       76733 non-null object\n",
      "SubjectAge                          76743 non-null float64\n",
      "SubjectEthnicityCode                76743 non-null object\n",
      "SubjectRaceCode                     76743 non-null object\n",
      "SubjectSexCode                      76743 non-null object\n",
      "TownResidentIndicator               76743 non-null bool\n",
      "dtypes: bool(3), float64(1), object(10)\n",
      "memory usage: 6.7+ MB\n"
     ]
    }
   ],
   "source": [
    "df_train.info()"
   ]
  },
  {
   "cell_type": "markdown",
   "metadata": {},
   "source": [
    "# Metrics"
   ]
  },
  {
   "cell_type": "code",
   "execution_count": 14,
   "metadata": {},
   "outputs": [],
   "source": [
    "decision_thr = 0.5"
   ]
  },
  {
   "cell_type": "code",
   "execution_count": 15,
   "metadata": {},
   "outputs": [],
   "source": [
    "# y_true = df_obs.dropna().true_class.astype(int)\n",
    "# y_pred = df_obs.dropna().proba.apply(lambda x: x > decision_thr).astype(int)\n",
    "# y_prob = df_obs.dropna().proba"
   ]
  },
  {
   "cell_type": "code",
   "execution_count": 16,
   "metadata": {},
   "outputs": [],
   "source": [
    "y_true = df_obs_known.true_class.astype(int)\n",
    "y_pred = df_obs_known.proba.apply(lambda x: x > decision_thr).astype(int)\n",
    "y_prob = df_obs_known.proba"
   ]
  },
  {
   "cell_type": "code",
   "execution_count": 17,
   "metadata": {},
   "outputs": [
    {
     "data": {
      "text/plain": [
       "0.6005416384563304"
      ]
     },
     "execution_count": 17,
     "metadata": {},
     "output_type": "execute_result"
    }
   ],
   "source": [
    "precision = precision_score(y_true, y_pred)\n",
    "precision"
   ]
  },
  {
   "cell_type": "code",
   "execution_count": 18,
   "metadata": {},
   "outputs": [
    {
     "data": {
      "text/plain": [
       "0.49415041782729807"
      ]
     },
     "execution_count": 18,
     "metadata": {},
     "output_type": "execute_result"
    }
   ],
   "source": [
    "recall = recall_score(y_true, y_pred)\n",
    "recall"
   ]
  },
  {
   "cell_type": "code",
   "execution_count": 19,
   "metadata": {
    "scrolled": true
   },
   "outputs": [
    {
     "data": {
      "text/plain": [
       "0.7004"
      ]
     },
     "execution_count": 19,
     "metadata": {},
     "output_type": "execute_result"
    }
   ],
   "source": [
    "accuracy = accuracy_score(y_true, y_pred)\n",
    "accuracy"
   ]
  },
  {
   "cell_type": "code",
   "execution_count": 20,
   "metadata": {},
   "outputs": [
    {
     "name": "stdout",
     "output_type": "stream",
     "text": [
      "Percentage of searches performed: 29.54%\n"
     ]
    }
   ],
   "source": [
    "print(\"Percentage of searches performed: {}%\".format(y_pred.mean()*100))"
   ]
  },
  {
   "cell_type": "code",
   "execution_count": 21,
   "metadata": {},
   "outputs": [
    {
     "data": {
      "text/plain": [
       "array([[2615,  590],\n",
       "       [ 908,  887]], dtype=int64)"
      ]
     },
     "execution_count": 21,
     "metadata": {},
     "output_type": "execute_result"
    }
   ],
   "source": [
    "cf = confusion_matrix(y_true, y_pred)\n",
    "cf"
   ]
  },
  {
   "cell_type": "code",
   "execution_count": 22,
   "metadata": {},
   "outputs": [],
   "source": [
    "TN = cf[0][0]\n",
    "TP = cf[1][1]\n",
    "FN = cf[1][0]\n",
    "FP = cf[0][1]"
   ]
  },
  {
   "cell_type": "markdown",
   "metadata": {},
   "source": [
    "Sanity checks:"
   ]
  },
  {
   "cell_type": "code",
   "execution_count": 23,
   "metadata": {},
   "outputs": [
    {
     "data": {
      "text/plain": [
       "True"
      ]
     },
     "execution_count": 23,
     "metadata": {},
     "output_type": "execute_result"
    }
   ],
   "source": [
    "precision == TP/(TP+FP) "
   ]
  },
  {
   "cell_type": "code",
   "execution_count": 24,
   "metadata": {},
   "outputs": [
    {
     "data": {
      "text/plain": [
       "True"
      ]
     },
     "execution_count": 24,
     "metadata": {},
     "output_type": "execute_result"
    }
   ],
   "source": [
    "recall == TP/(TP+FN)"
   ]
  },
  {
   "cell_type": "markdown",
   "metadata": {},
   "source": [
    "### Without model decision"
   ]
  },
  {
   "cell_type": "code",
   "execution_count": 25,
   "metadata": {},
   "outputs": [],
   "source": [
    "TN2 = 0\n",
    "TP2 = y_true.sum()\n",
    "FN2 = 0\n",
    "FP2 = (y_true==0).sum()"
   ]
  },
  {
   "cell_type": "code",
   "execution_count": 26,
   "metadata": {},
   "outputs": [
    {
     "data": {
      "text/plain": [
       "0.359"
      ]
     },
     "execution_count": 26,
     "metadata": {},
     "output_type": "execute_result"
    }
   ],
   "source": [
    "precision2 = TP2/(TP2+FP2)\n",
    "precision2"
   ]
  },
  {
   "cell_type": "code",
   "execution_count": 27,
   "metadata": {},
   "outputs": [
    {
     "data": {
      "text/plain": [
       "1.0"
      ]
     },
     "execution_count": 27,
     "metadata": {},
     "output_type": "execute_result"
    }
   ],
   "source": [
    "recall2 = TP2/(TP2+FN2)\n",
    "recall2"
   ]
  },
  {
   "cell_type": "markdown",
   "metadata": {},
   "source": [
    "# Curves"
   ]
  },
  {
   "cell_type": "code",
   "execution_count": 28,
   "metadata": {},
   "outputs": [],
   "source": [
    "fpr, tpr, thresholds_roc = roc_curve(y_true, y_prob)\n",
    "AUROC = roc_auc_score(y_true, y_prob)*100"
   ]
  },
  {
   "cell_type": "code",
   "execution_count": 185,
   "metadata": {
    "scrolled": false
   },
   "outputs": [
    {
     "data": {
      "image/png": "[encoded data removed]",
      "text/plain": [
       "<Figure size 432x288 with 1 Axes>"
      ]
     },
     "metadata": {
      "needs_background": "light"
     },
     "output_type": "display_data"
    }
   ],
   "source": [
    "idx_op = (np.abs(thresholds_roc - decision_thr)).argmin()\n",
    "\n",
    "plt.figure(1)\n",
    "plt.plot([0, 1], [0, 1], 'k--')\n",
    "plt.plot(fpr, tpr, label='ROC curve')\n",
    "\n",
    "plt.xlabel('False positive rate')\n",
    "plt.ylabel('True positive rate')\n",
    "plt.title('ROC curve')\n",
    "\n",
    "plt.xlim(0, 1)\n",
    "plt.ylim(0, 1)\n",
    "\n",
    "plt.xticks(np.arange(0, 1, step=0.1))\n",
    "plt.yticks(np.arange(0, 1, step=0.1))\n",
    "\n",
    "plt.text(0.6, 0.2, \"Area = {}\".format(round(AUROC,2)), dict(size=15))\n",
    "\n",
    "plt.annotate(\"operating point\", xy=(fpr[idx_op],tpr[idx_op]), xytext=(0.03,0.7), arrowprops=dict(arrowstyle='->'))\n",
    "\n",
    "plt.legend(loc='best')\n",
    "plt.show()"
   ]
  },
  {
   "cell_type": "code",
   "execution_count": 150,
   "metadata": {},
   "outputs": [
    {
     "data": {
      "image/png": "[encoded data removed]",
      "text/plain": [
       "<Figure size 432x288 with 1 Axes>"
      ]
     },
     "metadata": {
      "needs_background": "light"
     },
     "output_type": "display_data"
    }
   ],
   "source": [
    "plt.figure(2)\n",
    "plt.plot(thresholds_roc, fpr , label='False PR')\n",
    "plt.plot(thresholds_roc, tpr, label='True PR')\n",
    "\n",
    "plt.axvline(x=decision_thr, color='r', linestyle='-.')\n",
    "\n",
    "plt.xlabel('Decision threshold')\n",
    "plt.ylabel('True/False positive rate')\n",
    "#plt.title('ROC curve')\n",
    "\n",
    "plt.xlim(0, 1)\n",
    "plt.ylim(0, 1)\n",
    "\n",
    "plt.legend(loc='best')\n",
    "plt.show()"
   ]
  },
  {
   "cell_type": "code",
   "execution_count": 33,
   "metadata": {},
   "outputs": [],
   "source": [
    "precision_vec, recall_vec, thresholds_pr = precision_recall_curve(y_true, y_prob)"
   ]
  },
  {
   "cell_type": "code",
   "execution_count": 34,
   "metadata": {},
   "outputs": [
    {
     "data": {
      "image/png": "[encoded data removed]",
      "text/plain": [
       "<Figure size 432x288 with 1 Axes>"
      ]
     },
     "metadata": {
      "needs_background": "light"
     },
     "output_type": "display_data"
    }
   ],
   "source": [
    "plt.figure(3)\n",
    "plt.plot([0, 1], [0, 1], 'k--')\n",
    "plt.plot(recall_vec, precision_vec, label='precision-recall curve')\n",
    "\n",
    "plt.xlabel('recall')\n",
    "plt.ylabel('precision')\n",
    "plt.title('precision-recall curve')\n",
    "\n",
    "plt.xlim(0, 1)\n",
    "plt.ylim(0, 1)\n",
    "\n",
    "plt.legend(loc='best')\n",
    "plt.show()"
   ]
  },
  {
   "cell_type": "markdown",
   "metadata": {},
   "source": [
    "# Metrics among protected classes"
   ]
  },
  {
   "cell_type": "markdown",
   "metadata": {},
   "source": [
    "## Deployed model"
   ]
  },
  {
   "cell_type": "code",
   "execution_count": 35,
   "metadata": {},
   "outputs": [],
   "source": [
    "df_obs_classes = pd.DataFrame({df_obs_known.SubjectRaceCode.name: df_obs_known.SubjectRaceCode, \n",
    "                                df_obs_known.SubjectEthnicityCode.name: df_obs_known.SubjectEthnicityCode, \n",
    "                                df_obs_known.SubjectSexCode.name: df_obs_known.SubjectSexCode, \n",
    "                                'y_true': y_true, \n",
    "                                'y_pred': y_pred})"
   ]
  },
  {
   "cell_type": "code",
   "execution_count": 36,
   "metadata": {},
   "outputs": [
    {
     "data": {
      "text/plain": [
       "True"
      ]
     },
     "execution_count": 36,
     "metadata": {},
     "output_type": "execute_result"
    }
   ],
   "source": [
    "#sanity check\n",
    "df_obs_classes.shape[0] == df_obs_known.shape[0]"
   ]
  },
  {
   "cell_type": "code",
   "execution_count": 37,
   "metadata": {},
   "outputs": [],
   "source": [
    "obs_race_results = df_obs_classes.groupby(['SubjectRaceCode','y_true', 'y_pred']).SubjectRaceCode.count()\n",
    "obs_ethnic_results = df_obs_classes.groupby(['SubjectEthnicityCode','y_true', 'y_pred']).SubjectEthnicityCode.count()\n",
    "obs_sex_results = df_obs_classes.groupby(['SubjectSexCode','y_true', 'y_pred']).SubjectSexCode.count()"
   ]
  },
  {
   "cell_type": "markdown",
   "metadata": {},
   "source": [
    "Sanity checks:"
   ]
  },
  {
   "cell_type": "code",
   "execution_count": 38,
   "metadata": {},
   "outputs": [
    {
     "data": {
      "text/plain": [
       "True"
      ]
     },
     "execution_count": 38,
     "metadata": {},
     "output_type": "execute_result"
    }
   ],
   "source": [
    "obs_race_results[:,1,:].sum() == obs_ethnic_results[:,1,:].sum() == obs_sex_results[:,1,:].sum() == y_true.sum()"
   ]
  },
  {
   "cell_type": "code",
   "execution_count": 39,
   "metadata": {},
   "outputs": [
    {
     "data": {
      "text/plain": [
       "True"
      ]
     },
     "execution_count": 39,
     "metadata": {},
     "output_type": "execute_result"
    }
   ],
   "source": [
    "obs_race_results[:,:,1].sum() == obs_ethnic_results[:,:,1].sum() == obs_sex_results[:,:,1].sum() == y_pred.sum()"
   ]
  },
  {
   "cell_type": "code",
   "execution_count": 40,
   "metadata": {},
   "outputs": [
    {
     "data": {
      "text/html": [
       "<div>\n",
       "<style scoped>\n",
       "    .dataframe tbody tr th:only-of-type {\n",
       "        vertical-align: middle;\n",
       "    }\n",
       "\n",
       "    .dataframe tbody tr th {\n",
       "        vertical-align: top;\n",
       "    }\n",
       "\n",
       "    .dataframe thead th {\n",
       "        text-align: right;\n",
       "    }\n",
       "</style>\n",
       "<table border=\"1\" class=\"dataframe\">\n",
       "  <thead>\n",
       "    <tr style=\"text-align: right;\">\n",
       "      <th></th>\n",
       "      <th>SubjectRaceCode</th>\n",
       "      <th>SubjectEthnicityCode</th>\n",
       "      <th>SubjectSexCode</th>\n",
       "      <th>y_true</th>\n",
       "      <th>y_pred</th>\n",
       "    </tr>\n",
       "    <tr>\n",
       "      <th>id</th>\n",
       "      <th></th>\n",
       "      <th></th>\n",
       "      <th></th>\n",
       "      <th></th>\n",
       "      <th></th>\n",
       "    </tr>\n",
       "  </thead>\n",
       "  <tbody>\n",
       "    <tr>\n",
       "      <th>0</th>\n",
       "      <td>B</td>\n",
       "      <td>N</td>\n",
       "      <td>M</td>\n",
       "      <td>0</td>\n",
       "      <td>0</td>\n",
       "    </tr>\n",
       "    <tr>\n",
       "      <th>1</th>\n",
       "      <td>B</td>\n",
       "      <td>N</td>\n",
       "      <td>M</td>\n",
       "      <td>0</td>\n",
       "      <td>0</td>\n",
       "    </tr>\n",
       "    <tr>\n",
       "      <th>2</th>\n",
       "      <td>B</td>\n",
       "      <td>N</td>\n",
       "      <td>F</td>\n",
       "      <td>1</td>\n",
       "      <td>0</td>\n",
       "    </tr>\n",
       "    <tr>\n",
       "      <th>3</th>\n",
       "      <td>B</td>\n",
       "      <td>N</td>\n",
       "      <td>F</td>\n",
       "      <td>1</td>\n",
       "      <td>0</td>\n",
       "    </tr>\n",
       "    <tr>\n",
       "      <th>4</th>\n",
       "      <td>W</td>\n",
       "      <td>N</td>\n",
       "      <td>M</td>\n",
       "      <td>0</td>\n",
       "      <td>0</td>\n",
       "    </tr>\n",
       "    <tr>\n",
       "      <th>5</th>\n",
       "      <td>W</td>\n",
       "      <td>N</td>\n",
       "      <td>M</td>\n",
       "      <td>0</td>\n",
       "      <td>0</td>\n",
       "    </tr>\n",
       "    <tr>\n",
       "      <th>6</th>\n",
       "      <td>W</td>\n",
       "      <td>H</td>\n",
       "      <td>M</td>\n",
       "      <td>0</td>\n",
       "      <td>0</td>\n",
       "    </tr>\n",
       "    <tr>\n",
       "      <th>7</th>\n",
       "      <td>W</td>\n",
       "      <td>H</td>\n",
       "      <td>M</td>\n",
       "      <td>0</td>\n",
       "      <td>0</td>\n",
       "    </tr>\n",
       "    <tr>\n",
       "      <th>8</th>\n",
       "      <td>B</td>\n",
       "      <td>N</td>\n",
       "      <td>F</td>\n",
       "      <td>0</td>\n",
       "      <td>1</td>\n",
       "    </tr>\n",
       "    <tr>\n",
       "      <th>9</th>\n",
       "      <td>B</td>\n",
       "      <td>N</td>\n",
       "      <td>F</td>\n",
       "      <td>0</td>\n",
       "      <td>1</td>\n",
       "    </tr>\n",
       "  </tbody>\n",
       "</table>\n",
       "</div>"
      ],
      "text/plain": [
       "   SubjectRaceCode SubjectEthnicityCode SubjectSexCode  y_true  y_pred\n",
       "id                                                                    \n",
       "0                B                    N              M       0       0\n",
       "1                B                    N              M       0       0\n",
       "2                B                    N              F       1       0\n",
       "3                B                    N              F       1       0\n",
       "4                W                    N              M       0       0\n",
       "5                W                    N              M       0       0\n",
       "6                W                    H              M       0       0\n",
       "7                W                    H              M       0       0\n",
       "8                B                    N              F       0       1\n",
       "9                B                    N              F       0       1"
      ]
     },
     "execution_count": 40,
     "metadata": {},
     "output_type": "execute_result"
    }
   ],
   "source": [
    "df_obs_classes.head(10)"
   ]
  },
  {
   "cell_type": "markdown",
   "metadata": {},
   "source": [
    "### Precision overall"
   ]
  },
  {
   "cell_type": "code",
   "execution_count": 41,
   "metadata": {
    "scrolled": true
   },
   "outputs": [
    {
     "data": {
      "text/plain": [
       "0.6005416384563304"
      ]
     },
     "execution_count": 41,
     "metadata": {},
     "output_type": "execute_result"
    }
   ],
   "source": [
    "precision_score(y_true, y_pred)"
   ]
  },
  {
   "cell_type": "code",
   "execution_count": 42,
   "metadata": {
    "scrolled": true
   },
   "outputs": [
    {
     "data": {
      "text/plain": [
       "0.6005416384563304"
      ]
     },
     "execution_count": 42,
     "metadata": {},
     "output_type": "execute_result"
    }
   ],
   "source": [
    "# Sanity check\n",
    "df_obs_classes[df_obs_classes.y_pred==1].y_true.mean()"
   ]
  },
  {
   "cell_type": "markdown",
   "metadata": {},
   "source": [
    "### Precision among races"
   ]
  },
  {
   "cell_type": "markdown",
   "metadata": {},
   "source": [
    "Precision table:"
   ]
  },
  {
   "cell_type": "code",
   "execution_count": 43,
   "metadata": {
    "scrolled": false
   },
   "outputs": [
    {
     "data": {
      "text/plain": [
       "SubjectRaceCode\n",
       "A    57.142857\n",
       "B    59.292035\n",
       "I    50.000000\n",
       "W    60.476663\n",
       "Name: y_true, dtype: float64"
      ]
     },
     "execution_count": 43,
     "metadata": {},
     "output_type": "execute_result"
    }
   ],
   "source": [
    "df_obs_classes[df_obs_classes.y_pred==1].groupby('SubjectRaceCode').y_true.mean().apply(lambda x: x*100)"
   ]
  },
  {
   "cell_type": "markdown",
   "metadata": {},
   "source": [
    "Max. difference:"
   ]
  },
  {
   "cell_type": "code",
   "execution_count": 44,
   "metadata": {},
   "outputs": [
    {
     "data": {
      "text/plain": [
       "10.476663356504467"
      ]
     },
     "execution_count": 44,
     "metadata": {},
     "output_type": "execute_result"
    }
   ],
   "source": [
    "(df_obs_classes[df_obs_classes.y_pred==1].groupby('SubjectRaceCode').y_true.mean().max() - df_obs_classes[df_obs_classes.y_pred==1].groupby('SubjectRaceCode').y_true.mean().min())*100"
   ]
  },
  {
   "cell_type": "markdown",
   "metadata": {},
   "source": [
    "Max. difference [%]:"
   ]
  },
  {
   "cell_type": "code",
   "execution_count": 45,
   "metadata": {
    "scrolled": true
   },
   "outputs": [
    {
     "data": {
      "text/plain": [
       "17.32348111658456"
      ]
     },
     "execution_count": 45,
     "metadata": {},
     "output_type": "execute_result"
    }
   ],
   "source": [
    "(1 - df_obs_classes[df_obs_classes.y_pred==1].groupby('SubjectRaceCode').y_true.mean().min() / df_obs_classes[df_obs_classes.y_pred==1].groupby('SubjectRaceCode').y_true.mean().max())*100"
   ]
  },
  {
   "cell_type": "markdown",
   "metadata": {},
   "source": [
    "Standard difference:"
   ]
  },
  {
   "cell_type": "code",
   "execution_count": 46,
   "metadata": {},
   "outputs": [
    {
     "data": {
      "text/plain": [
       "4.692719356742923"
      ]
     },
     "execution_count": 46,
     "metadata": {},
     "output_type": "execute_result"
    }
   ],
   "source": [
    "df_obs_classes[df_obs_classes.y_pred==1].groupby('SubjectRaceCode').y_true.mean().apply(lambda x: x*100).std()"
   ]
  },
  {
   "cell_type": "code",
   "execution_count": 47,
   "metadata": {
    "scrolled": true
   },
   "outputs": [
    {
     "data": {
      "image/png": "[encoded data removed]",
      "text/plain": [
       "<Figure size 432x288 with 1 Axes>"
      ]
     },
     "metadata": {
      "needs_background": "light"
     },
     "output_type": "display_data"
    }
   ],
   "source": [
    "(df_obs_classes[df_obs_classes.y_pred==1].groupby('SubjectRaceCode')\n",
    "                                              .y_true.mean().apply(lambda x: x*100).sort_values()\n",
    "                                              .to_frame().plot.bar(label=''))\n",
    "\n",
    "plt.axhline(y=precision*100, color='r', linestyle='-.', label='global SR')\n",
    "\n",
    "plt.title('Finding success rate (SR) among races')\n",
    "plt.xlabel(\"Subject's race\")\n",
    "plt.ylabel(\"Success Rate [%]\")\n",
    "\n",
    "plt.ylim(0,75)\n",
    "\n",
    "plt.legend(loc='upper left')\n",
    "plt.grid(axis='y')\n",
    "\n",
    "#plt.savefig(os.path.join('plots', 'discrimination_race_SR.png'));"
   ]
  },
  {
   "cell_type": "markdown",
   "metadata": {},
   "source": [
    "### Precision among ethnicities"
   ]
  },
  {
   "cell_type": "markdown",
   "metadata": {},
   "source": [
    "When the classifier predicts positive, it is more sure about the prediction for Whites than for Blacks."
   ]
  },
  {
   "cell_type": "markdown",
   "metadata": {},
   "source": [
    "Precision table:"
   ]
  },
  {
   "cell_type": "code",
   "execution_count": 48,
   "metadata": {
    "scrolled": false
   },
   "outputs": [
    {
     "data": {
      "text/plain": [
       "SubjectEthnicityCode\n",
       "H    55.747126\n",
       "N    61.381754\n",
       "Name: y_true, dtype: float64"
      ]
     },
     "execution_count": 48,
     "metadata": {},
     "output_type": "execute_result"
    }
   ],
   "source": [
    "df_obs_classes[df_obs_classes.y_pred==1].groupby('SubjectEthnicityCode').y_true.mean().apply(lambda x: x*100)"
   ]
  },
  {
   "cell_type": "markdown",
   "metadata": {},
   "source": [
    "Max. difference:"
   ]
  },
  {
   "cell_type": "code",
   "execution_count": 49,
   "metadata": {
    "scrolled": true
   },
   "outputs": [
    {
     "data": {
      "text/plain": [
       "5.634627327611652"
      ]
     },
     "execution_count": 49,
     "metadata": {},
     "output_type": "execute_result"
    }
   ],
   "source": [
    "(df_obs_classes[df_obs_classes.y_pred==1].groupby('SubjectEthnicityCode').y_true.mean().max() - df_obs_classes[df_obs_classes.y_pred==1].groupby('SubjectEthnicityCode').y_true.mean().min())*100"
   ]
  },
  {
   "cell_type": "markdown",
   "metadata": {},
   "source": [
    "Max. difference [%]:"
   ]
  },
  {
   "cell_type": "code",
   "execution_count": 50,
   "metadata": {},
   "outputs": [
    {
     "data": {
      "text/plain": [
       "9.179645386541925"
      ]
     },
     "execution_count": 50,
     "metadata": {},
     "output_type": "execute_result"
    }
   ],
   "source": [
    "(1 - df_obs_classes[df_obs_classes.y_pred==1].groupby('SubjectEthnicityCode').y_true.mean().min() / df_obs_classes[df_obs_classes.y_pred==1].groupby('SubjectEthnicityCode').y_true.mean().max())*100"
   ]
  },
  {
   "cell_type": "markdown",
   "metadata": {},
   "source": [
    "Standard difference:"
   ]
  },
  {
   "cell_type": "code",
   "execution_count": 51,
   "metadata": {},
   "outputs": [
    {
     "data": {
      "text/plain": [
       "3.9842831928132347"
      ]
     },
     "execution_count": 51,
     "metadata": {},
     "output_type": "execute_result"
    }
   ],
   "source": [
    "df_obs_classes[df_obs_classes.y_pred==1].groupby('SubjectEthnicityCode').y_true.mean().apply(lambda x: x*100).std()"
   ]
  },
  {
   "cell_type": "code",
   "execution_count": 52,
   "metadata": {
    "scrolled": true
   },
   "outputs": [
    {
     "data": {
      "image/png": "[encoded data removed]",
      "text/plain": [
       "<Figure size 432x288 with 1 Axes>"
      ]
     },
     "metadata": {
      "needs_background": "light"
     },
     "output_type": "display_data"
    }
   ],
   "source": [
    "(df_obs_classes[df_obs_classes.y_pred==1].groupby('SubjectEthnicityCode')\n",
    "                                              .y_true.mean().apply(lambda x: x*100).sort_values()\n",
    "                                              .to_frame().plot.bar(label=''))\n",
    "\n",
    "plt.axhline(y=precision*100, color='r', linestyle='-.', label='global SR')\n",
    "\n",
    "plt.title('Finding success rate (SR) among ethnicities')\n",
    "plt.xlabel(\"Subject's ethnicities\")\n",
    "plt.ylabel(\"Success Rate [%]\")\n",
    "\n",
    "plt.ylim(0,75)\n",
    "\n",
    "plt.legend(loc='upper left')\n",
    "plt.grid(axis='y')\n",
    "\n",
    "#plt.savefig(os.path.join('plots', 'discrimination_race_SR.png'));"
   ]
  },
  {
   "cell_type": "markdown",
   "metadata": {},
   "source": [
    "### Precision among sexes"
   ]
  },
  {
   "cell_type": "markdown",
   "metadata": {},
   "source": [
    "Precision table:"
   ]
  },
  {
   "cell_type": "code",
   "execution_count": 53,
   "metadata": {
    "scrolled": false
   },
   "outputs": [
    {
     "data": {
      "text/plain": [
       "SubjectSexCode\n",
       "F    58.199357\n",
       "M    60.548885\n",
       "Name: y_true, dtype: float64"
      ]
     },
     "execution_count": 53,
     "metadata": {},
     "output_type": "execute_result"
    }
   ],
   "source": [
    "df_obs_classes[df_obs_classes.y_pred==1].groupby('SubjectSexCode').y_true.mean().apply(lambda x: x*100)"
   ]
  },
  {
   "cell_type": "markdown",
   "metadata": {},
   "source": [
    "Max. difference [p.p.]:"
   ]
  },
  {
   "cell_type": "code",
   "execution_count": 54,
   "metadata": {
    "scrolled": true
   },
   "outputs": [
    {
     "data": {
      "text/plain": [
       "2.349528164003689"
      ]
     },
     "execution_count": 54,
     "metadata": {},
     "output_type": "execute_result"
    }
   ],
   "source": [
    "(df_obs_classes[df_obs_classes.y_pred==1].groupby('SubjectSexCode').y_true.mean().max() - df_obs_classes[df_obs_classes.y_pred==1].groupby('SubjectSexCode').y_true.mean().min())*100"
   ]
  },
  {
   "cell_type": "markdown",
   "metadata": {},
   "source": [
    "Max. difference [%]:"
   ]
  },
  {
   "cell_type": "code",
   "execution_count": 55,
   "metadata": {},
   "outputs": [
    {
     "data": {
      "text/plain": [
       "3.8803822085386686"
      ]
     },
     "execution_count": 55,
     "metadata": {},
     "output_type": "execute_result"
    }
   ],
   "source": [
    "(1 - df_obs_classes[df_obs_classes.y_pred==1].groupby('SubjectSexCode').y_true.mean().min() / df_obs_classes[df_obs_classes.y_pred==1].groupby('SubjectSexCode').y_true.mean().max())*100"
   ]
  },
  {
   "cell_type": "markdown",
   "metadata": {},
   "source": [
    "Standard difference:"
   ]
  },
  {
   "cell_type": "code",
   "execution_count": 56,
   "metadata": {},
   "outputs": [
    {
     "data": {
      "text/plain": [
       "1.6613672973557905"
      ]
     },
     "execution_count": 56,
     "metadata": {},
     "output_type": "execute_result"
    }
   ],
   "source": [
    "df_obs_classes[df_obs_classes.y_pred==1].groupby('SubjectSexCode').y_true.mean().apply(lambda x: x*100).std()"
   ]
  },
  {
   "cell_type": "code",
   "execution_count": 57,
   "metadata": {
    "scrolled": true
   },
   "outputs": [
    {
     "data": {
      "image/png": "[encoded data removed]",
      "text/plain": [
       "<Figure size 432x288 with 1 Axes>"
      ]
     },
     "metadata": {
      "needs_background": "light"
     },
     "output_type": "display_data"
    }
   ],
   "source": [
    "(df_obs_classes[df_obs_classes.y_pred==1].groupby('SubjectSexCode')\n",
    "                                              .y_true.mean().apply(lambda x: x*100).sort_values()\n",
    "                                              .to_frame().plot.bar(label=''))\n",
    "\n",
    "plt.axhline(y=precision*100, color='r', linestyle='-.', label='global SR')\n",
    "\n",
    "plt.title('Finding success rate (SR) among sexes')\n",
    "plt.xlabel(\"Subject's sexes\")\n",
    "plt.ylabel(\"Success Rate [%]\")\n",
    "\n",
    "plt.ylim(0,75)\n",
    "\n",
    "plt.legend(loc='upper left')\n",
    "plt.grid(axis='y')\n",
    "\n",
    "#plt.savefig(os.path.join('plots', 'discrimination_race_SR.png'));"
   ]
  },
  {
   "cell_type": "markdown",
   "metadata": {},
   "source": [
    "---"
   ]
  },
  {
   "cell_type": "markdown",
   "metadata": {},
   "source": [
    "---"
   ]
  },
  {
   "cell_type": "markdown",
   "metadata": {},
   "source": [
    "---"
   ]
  },
  {
   "cell_type": "markdown",
   "metadata": {},
   "source": [
    "---"
   ]
  },
  {
   "cell_type": "markdown",
   "metadata": {},
   "source": [
    "## All requests (previous method; without model decision)"
   ]
  },
  {
   "cell_type": "markdown",
   "metadata": {},
   "source": [
    "### Precision overall"
   ]
  },
  {
   "cell_type": "code",
   "execution_count": 58,
   "metadata": {},
   "outputs": [
    {
     "data": {
      "text/plain": [
       "0.359"
      ]
     },
     "execution_count": 58,
     "metadata": {},
     "output_type": "execute_result"
    }
   ],
   "source": [
    "y_true.mean()"
   ]
  },
  {
   "cell_type": "code",
   "execution_count": 59,
   "metadata": {
    "scrolled": true
   },
   "outputs": [
    {
     "data": {
      "text/plain": [
       "0.359"
      ]
     },
     "execution_count": 59,
     "metadata": {},
     "output_type": "execute_result"
    }
   ],
   "source": [
    "precision2"
   ]
  },
  {
   "cell_type": "markdown",
   "metadata": {},
   "source": [
    "### Precision among races"
   ]
  },
  {
   "cell_type": "markdown",
   "metadata": {},
   "source": [
    "Precision table:"
   ]
  },
  {
   "cell_type": "code",
   "execution_count": 60,
   "metadata": {
    "scrolled": false
   },
   "outputs": [
    {
     "data": {
      "text/plain": [
       "SubjectRaceCode\n",
       "A    26.086957\n",
       "B    34.512725\n",
       "I    20.000000\n",
       "W    36.753675\n",
       "Name: y_true, dtype: float64"
      ]
     },
     "execution_count": 60,
     "metadata": {},
     "output_type": "execute_result"
    }
   ],
   "source": [
    "df_obs_classes.groupby('SubjectRaceCode').y_true.mean().apply(lambda x: x*100)"
   ]
  },
  {
   "cell_type": "markdown",
   "metadata": {},
   "source": [
    "Max. difference:"
   ]
  },
  {
   "cell_type": "code",
   "execution_count": 61,
   "metadata": {},
   "outputs": [
    {
     "data": {
      "text/plain": [
       "16.75367536753675"
      ]
     },
     "execution_count": 61,
     "metadata": {},
     "output_type": "execute_result"
    }
   ],
   "source": [
    "(df_obs_classes.groupby('SubjectRaceCode').y_true.mean().max() - df_obs_classes.groupby('SubjectRaceCode').y_true.mean().min())*100"
   ]
  },
  {
   "cell_type": "markdown",
   "metadata": {},
   "source": [
    "Max. difference [%]:"
   ]
  },
  {
   "cell_type": "code",
   "execution_count": 62,
   "metadata": {
    "scrolled": true
   },
   "outputs": [
    {
     "data": {
      "text/plain": [
       "45.583673469387755"
      ]
     },
     "execution_count": 62,
     "metadata": {},
     "output_type": "execute_result"
    }
   ],
   "source": [
    "(1 - df_obs_classes.groupby('SubjectRaceCode').y_true.mean().min() / df_obs_classes.groupby('SubjectRaceCode').y_true.mean().max())*100"
   ]
  },
  {
   "cell_type": "markdown",
   "metadata": {},
   "source": [
    "Standard difference:"
   ]
  },
  {
   "cell_type": "code",
   "execution_count": 63,
   "metadata": {},
   "outputs": [
    {
     "data": {
      "text/plain": [
       "7.736009897015541"
      ]
     },
     "execution_count": 63,
     "metadata": {},
     "output_type": "execute_result"
    }
   ],
   "source": [
    "df_obs_classes.groupby('SubjectRaceCode').y_true.mean().apply(lambda x: x*100).std()"
   ]
  },
  {
   "cell_type": "code",
   "execution_count": 64,
   "metadata": {
    "scrolled": false
   },
   "outputs": [
    {
     "data": {
      "image/png": "[encoded data removed]",
      "text/plain": [
       "<Figure size 432x288 with 1 Axes>"
      ]
     },
     "metadata": {
      "needs_background": "light"
     },
     "output_type": "display_data"
    }
   ],
   "source": [
    "(df_obs_classes.groupby('SubjectRaceCode')\n",
    "                                              .y_true.mean().apply(lambda x: x*100).sort_values()\n",
    "                                              .to_frame().plot.bar(label=''))\n",
    "\n",
    "plt.axhline(y=precision2*100, color='r', linestyle='-.', label='global SR')\n",
    "\n",
    "plt.title('Finding success rate (SR) among races')\n",
    "plt.xlabel(\"Subject's race\")\n",
    "plt.ylabel(\"Success Rate [%]\")\n",
    "\n",
    "plt.ylim(0,45)\n",
    "\n",
    "plt.legend(loc='upper left')\n",
    "plt.grid(axis='y')\n",
    "\n",
    "#plt.savefig(os.path.join('plots', 'discrimination_race_SR.png'));"
   ]
  },
  {
   "cell_type": "markdown",
   "metadata": {},
   "source": [
    "### Precision among ethnicities"
   ]
  },
  {
   "cell_type": "markdown",
   "metadata": {},
   "source": [
    "When the classifier predicts positive, it is more sure about the prediction for Whites than for Blacks."
   ]
  },
  {
   "cell_type": "markdown",
   "metadata": {},
   "source": [
    "Precision table:"
   ]
  },
  {
   "cell_type": "code",
   "execution_count": 65,
   "metadata": {
    "scrolled": false
   },
   "outputs": [
    {
     "data": {
      "text/plain": [
       "SubjectEthnicityCode\n",
       "H    29.843750\n",
       "N    37.983871\n",
       "Name: y_true, dtype: float64"
      ]
     },
     "execution_count": 65,
     "metadata": {},
     "output_type": "execute_result"
    }
   ],
   "source": [
    "df_obs_classes.groupby('SubjectEthnicityCode').y_true.mean().apply(lambda x: x*100)"
   ]
  },
  {
   "cell_type": "markdown",
   "metadata": {},
   "source": [
    "Max. difference:"
   ]
  },
  {
   "cell_type": "code",
   "execution_count": 66,
   "metadata": {
    "scrolled": true
   },
   "outputs": [
    {
     "data": {
      "text/plain": [
       "8.140120967741932"
      ]
     },
     "execution_count": 66,
     "metadata": {},
     "output_type": "execute_result"
    }
   ],
   "source": [
    "(df_obs_classes.groupby('SubjectEthnicityCode').y_true.mean().max() - df_obs_classes.groupby('SubjectEthnicityCode').y_true.mean().min())*100"
   ]
  },
  {
   "cell_type": "markdown",
   "metadata": {},
   "source": [
    "Max. difference [%]:"
   ]
  },
  {
   "cell_type": "code",
   "execution_count": 67,
   "metadata": {},
   "outputs": [
    {
     "data": {
      "text/plain": [
       "21.430467091295103"
      ]
     },
     "execution_count": 67,
     "metadata": {},
     "output_type": "execute_result"
    }
   ],
   "source": [
    "(1 - df_obs_classes.groupby('SubjectEthnicityCode').y_true.mean().min() / df_obs_classes.groupby('SubjectEthnicityCode').y_true.mean().max())*100"
   ]
  },
  {
   "cell_type": "markdown",
   "metadata": {},
   "source": [
    "Standard difference:"
   ]
  },
  {
   "cell_type": "code",
   "execution_count": 68,
   "metadata": {},
   "outputs": [
    {
     "data": {
      "text/plain": [
       "5.755934735969122"
      ]
     },
     "execution_count": 68,
     "metadata": {},
     "output_type": "execute_result"
    }
   ],
   "source": [
    "df_obs_classes.groupby('SubjectEthnicityCode').y_true.mean().apply(lambda x: x*100).std()"
   ]
  },
  {
   "cell_type": "code",
   "execution_count": 69,
   "metadata": {
    "scrolled": true
   },
   "outputs": [
    {
     "data": {
      "image/png": "[encoded data removed]",
      "text/plain": [
       "<Figure size 432x288 with 1 Axes>"
      ]
     },
     "metadata": {
      "needs_background": "light"
     },
     "output_type": "display_data"
    }
   ],
   "source": [
    "(df_obs_classes.groupby('SubjectEthnicityCode')\n",
    "                                              .y_true.mean().apply(lambda x: x*100).sort_values()\n",
    "                                              .to_frame().plot.bar(label=''))\n",
    "\n",
    "plt.axhline(y=precision2*100, color='r', linestyle='-.', label='global SR')\n",
    "\n",
    "plt.title('Finding success rate (SR) among ethnicities')\n",
    "plt.xlabel(\"Subject's ethnicities\")\n",
    "plt.ylabel(\"Success Rate [%]\")\n",
    "\n",
    "plt.ylim(0,45)\n",
    "\n",
    "plt.legend(loc='upper left')\n",
    "plt.grid(axis='y')\n",
    "\n",
    "#plt.savefig(os.path.join('plots', 'discrimination_race_SR.png'));"
   ]
  },
  {
   "cell_type": "markdown",
   "metadata": {},
   "source": [
    "### Precision among sexes"
   ]
  },
  {
   "cell_type": "markdown",
   "metadata": {},
   "source": [
    "Precision table:"
   ]
  },
  {
   "cell_type": "code",
   "execution_count": 70,
   "metadata": {
    "scrolled": false
   },
   "outputs": [
    {
     "data": {
      "text/plain": [
       "SubjectSexCode\n",
       "F    31.866029\n",
       "M    36.965866\n",
       "Name: y_true, dtype: float64"
      ]
     },
     "execution_count": 70,
     "metadata": {},
     "output_type": "execute_result"
    }
   ],
   "source": [
    "df_obs_classes.groupby('SubjectSexCode').y_true.mean().apply(lambda x: x*100)"
   ]
  },
  {
   "cell_type": "markdown",
   "metadata": {},
   "source": [
    "Max. difference [p.p.]:"
   ]
  },
  {
   "cell_type": "code",
   "execution_count": 71,
   "metadata": {
    "scrolled": true
   },
   "outputs": [
    {
     "data": {
      "text/plain": [
       "5.099837284280695"
      ]
     },
     "execution_count": 71,
     "metadata": {},
     "output_type": "execute_result"
    }
   ],
   "source": [
    "(df_obs_classes.groupby('SubjectSexCode').y_true.mean().max() - df_obs_classes.groupby('SubjectSexCode').y_true.mean().min())*100"
   ]
  },
  {
   "cell_type": "markdown",
   "metadata": {},
   "source": [
    "Max. difference [%]:"
   ]
  },
  {
   "cell_type": "code",
   "execution_count": 72,
   "metadata": {},
   "outputs": [
    {
     "data": {
      "text/plain": [
       "13.796071449610226"
      ]
     },
     "execution_count": 72,
     "metadata": {},
     "output_type": "execute_result"
    }
   ],
   "source": [
    "(1 - df_obs_classes.groupby('SubjectSexCode').y_true.mean().min() / df_obs_classes.groupby('SubjectSexCode').y_true.mean().max())*100"
   ]
  },
  {
   "cell_type": "markdown",
   "metadata": {},
   "source": [
    "Standard difference:"
   ]
  },
  {
   "cell_type": "code",
   "execution_count": 73,
   "metadata": {},
   "outputs": [
    {
     "data": {
      "text/plain": [
       "3.606129526662864"
      ]
     },
     "execution_count": 73,
     "metadata": {},
     "output_type": "execute_result"
    }
   ],
   "source": [
    "df_obs_classes.groupby('SubjectSexCode').y_true.mean().apply(lambda x: x*100).std()"
   ]
  },
  {
   "cell_type": "code",
   "execution_count": 74,
   "metadata": {
    "scrolled": true
   },
   "outputs": [
    {
     "data": {
      "image/png": "[encoded data removed]",
      "text/plain": [
       "<Figure size 432x288 with 1 Axes>"
      ]
     },
     "metadata": {
      "needs_background": "light"
     },
     "output_type": "display_data"
    }
   ],
   "source": [
    "(df_obs_classes.groupby('SubjectSexCode')\n",
    "                                              .y_true.mean().apply(lambda x: x*100).sort_values()\n",
    "                                              .to_frame().plot.bar(label=''))\n",
    "\n",
    "plt.axhline(y=precision2*100, color='r', linestyle='-.', label='global SR')\n",
    "\n",
    "plt.title('Finding success rate (SR) among sexes')\n",
    "plt.xlabel(\"Subject's sexes\")\n",
    "plt.ylabel(\"Success Rate [%]\")\n",
    "\n",
    "plt.ylim(0,45)\n",
    "\n",
    "plt.legend(loc='upper left')\n",
    "plt.grid(axis='y')\n",
    "\n",
    "#plt.savefig(os.path.join('plots', 'discrimination_race_SR.png'));"
   ]
  },
  {
   "cell_type": "markdown",
   "metadata": {},
   "source": [
    "---"
   ]
  },
  {
   "cell_type": "markdown",
   "metadata": {},
   "source": [
    "---"
   ]
  },
  {
   "cell_type": "markdown",
   "metadata": {},
   "source": [
    "---"
   ]
  },
  {
   "cell_type": "markdown",
   "metadata": {},
   "source": [
    "# Population analysis"
   ]
  },
  {
   "cell_type": "markdown",
   "metadata": {},
   "source": [
    "### 'SubjectRaceCode': 'race'"
   ]
  },
  {
   "cell_type": "code",
   "execution_count": 75,
   "metadata": {
    "scrolled": true
   },
   "outputs": [
    {
     "data": {
      "text/plain": [
       "SubjectRaceCode\n",
       "I     0.339932\n",
       "A     0.699860\n",
       "B    33.613277\n",
       "W    65.346931\n",
       "Name: SubjectRaceCode, dtype: float64"
      ]
     },
     "execution_count": 75,
     "metadata": {},
     "output_type": "execute_result"
    }
   ],
   "source": [
    "s_obs_race = df_obs.groupby('SubjectRaceCode').SubjectRaceCode.count().sort_values()\n",
    "s_obs_race = s_obs_race.div(s_obs_race.sum())*100\n",
    "s_obs_race"
   ]
  },
  {
   "cell_type": "code",
   "execution_count": 76,
   "metadata": {},
   "outputs": [],
   "source": [
    "# sanity check\n",
    "assert s_obs_race.sum() == 100"
   ]
  },
  {
   "cell_type": "code",
   "execution_count": 77,
   "metadata": {},
   "outputs": [
    {
     "data": {
      "text/plain": [
       "SubjectRaceCode\n",
       "I     0.286671\n",
       "A     0.648919\n",
       "B    29.319938\n",
       "W    69.744472\n",
       "Name: SubjectRaceCode, dtype: float64"
      ]
     },
     "execution_count": 77,
     "metadata": {},
     "output_type": "execute_result"
    }
   ],
   "source": [
    "s_train_race = df_train.groupby('SubjectRaceCode').SubjectRaceCode.count().sort_values()\n",
    "s_train_race = s_train_race.div(s_train_race.sum())*100\n",
    "s_train_race"
   ]
  },
  {
   "cell_type": "code",
   "execution_count": 78,
   "metadata": {},
   "outputs": [],
   "source": [
    "# sanity check\n",
    "assert s_train_race.sum() == 100"
   ]
  },
  {
   "cell_type": "code",
   "execution_count": 231,
   "metadata": {
    "scrolled": true
   },
   "outputs": [
    {
     "data": {
      "image/png": "[encoded data removed]",
      "text/plain": [
       "<Figure size 288x288 with 1 Axes>"
      ]
     },
     "metadata": {
      "needs_background": "light"
     },
     "output_type": "display_data"
    }
   ],
   "source": [
    "pd.DataFrame({'Training set': s_train_race, 'Production set': s_obs_race}).sort_values(by='Training set').plot.bar(figsize=(4,4))\n",
    "\n",
    "plt.title('Percentage of race occurrence')\n",
    "plt.xlabel(\"Subject's race\")\n",
    "plt.ylabel(\"[%]\")\n",
    "\n",
    "#plt.yticks(np.arange(0, 70, step=5))\n",
    "\n",
    "plt.grid(axis='y')\n",
    "\n",
    "#plt.legend(['Training set', 'Production set'])\n",
    "\n",
    "plt.savefig(os.path.join('plots', 'report2_population_race_compare.png'));"
   ]
  },
  {
   "cell_type": "markdown",
   "metadata": {},
   "source": [
    "### 'SubjectEthnicityCode': 'ethnic'"
   ]
  },
  {
   "cell_type": "code",
   "execution_count": 80,
   "metadata": {
    "scrolled": false
   },
   "outputs": [
    {
     "data": {
      "text/plain": [
       "SubjectEthnicityCode\n",
       "H    26.074785\n",
       "N    73.925215\n",
       "Name: SubjectEthnicityCode, dtype: float64"
      ]
     },
     "execution_count": 80,
     "metadata": {},
     "output_type": "execute_result"
    }
   ],
   "source": [
    "s_obs_ethnic = df_obs.groupby('SubjectEthnicityCode').SubjectEthnicityCode.count().sort_values()\n",
    "s_obs_ethnic = s_obs_ethnic.div(s_obs_ethnic.sum())*100\n",
    "s_obs_ethnic"
   ]
  },
  {
   "cell_type": "code",
   "execution_count": 81,
   "metadata": {},
   "outputs": [],
   "source": [
    "# sanity check\n",
    "assert s_obs_ethnic.sum() == 100"
   ]
  },
  {
   "cell_type": "code",
   "execution_count": 82,
   "metadata": {},
   "outputs": [
    {
     "data": {
      "text/plain": [
       "SubjectEthnicityCode\n",
       "M     1.141472\n",
       "H    22.834656\n",
       "N    76.023872\n",
       "Name: SubjectEthnicityCode, dtype: float64"
      ]
     },
     "execution_count": 82,
     "metadata": {},
     "output_type": "execute_result"
    }
   ],
   "source": [
    "s_train_ethnic = df_train.groupby('SubjectEthnicityCode').SubjectEthnicityCode.count().sort_values()\n",
    "s_train_ethnic = s_train_ethnic.div(s_train_ethnic.sum())*100\n",
    "s_train_ethnic"
   ]
  },
  {
   "cell_type": "code",
   "execution_count": 83,
   "metadata": {},
   "outputs": [],
   "source": [
    "# sanity check\n",
    "assert s_train_ethnic.sum() == 100"
   ]
  },
  {
   "cell_type": "code",
   "execution_count": 232,
   "metadata": {},
   "outputs": [
    {
     "data": {
      "image/png": "[encoded data removed]",
      "text/plain": [
       "<Figure size 288x288 with 1 Axes>"
      ]
     },
     "metadata": {
      "needs_background": "light"
     },
     "output_type": "display_data"
    }
   ],
   "source": [
    "pd.DataFrame({'Training set': s_train_ethnic, 'Production set': s_obs_ethnic}).sort_values(by='Training set').plot.bar(figsize=(4,4))\n",
    "\n",
    "plt.title('Percentage of ethnicity occurrence')\n",
    "plt.xlabel(\"Subject's ethnicity\")\n",
    "plt.ylabel(\"[%]\")\n",
    "\n",
    "plt.grid(axis='y')\n",
    "\n",
    "#plt.legend(['Training set', 'Production set'])\n",
    "\n",
    "plt.savefig(os.path.join('plots', 'report2_population_ethnic_compare.png'));"
   ]
  },
  {
   "cell_type": "markdown",
   "metadata": {},
   "source": [
    "### 'SubjectSexCode': 'sex'"
   ]
  },
  {
   "cell_type": "code",
   "execution_count": 85,
   "metadata": {
    "scrolled": false
   },
   "outputs": [
    {
     "data": {
      "text/plain": [
       "SubjectSexCode\n",
       "F    20.135973\n",
       "M    79.864027\n",
       "Name: SubjectSexCode, dtype: float64"
      ]
     },
     "execution_count": 85,
     "metadata": {},
     "output_type": "execute_result"
    }
   ],
   "source": [
    "s_obs_sex = df_obs.groupby('SubjectSexCode').SubjectSexCode.count().sort_values()\n",
    "s_obs_sex = s_obs_sex.div(s_obs_sex.sum())*100\n",
    "s_obs_sex"
   ]
  },
  {
   "cell_type": "code",
   "execution_count": 86,
   "metadata": {},
   "outputs": [],
   "source": [
    "# sanity check\n",
    "assert s_obs_sex.sum() == 100"
   ]
  },
  {
   "cell_type": "code",
   "execution_count": 87,
   "metadata": {},
   "outputs": [
    {
     "data": {
      "text/plain": [
       "SubjectSexCode\n",
       "F    18.31698\n",
       "M    81.68302\n",
       "Name: SubjectSexCode, dtype: float64"
      ]
     },
     "execution_count": 87,
     "metadata": {},
     "output_type": "execute_result"
    }
   ],
   "source": [
    "s_train_sex = df_train.groupby('SubjectSexCode').SubjectSexCode.count().sort_values()\n",
    "s_train_sex = s_train_sex.div(s_train_sex.sum())*100\n",
    "s_train_sex"
   ]
  },
  {
   "cell_type": "code",
   "execution_count": 88,
   "metadata": {},
   "outputs": [],
   "source": [
    "# sanity check\n",
    "assert s_train_sex.sum() == 100"
   ]
  },
  {
   "cell_type": "code",
   "execution_count": 233,
   "metadata": {
    "scrolled": true
   },
   "outputs": [
    {
     "data": {
      "image/png": "[encoded data removed]",
      "text/plain": [
       "<Figure size 288x288 with 1 Axes>"
      ]
     },
     "metadata": {
      "needs_background": "light"
     },
     "output_type": "display_data"
    }
   ],
   "source": [
    "pd.DataFrame({'Training set': s_train_sex, 'Production set': s_obs_sex}).sort_values(by='Training set').plot.bar(figsize=(4,4))\n",
    "\n",
    "plt.title('Percentage of sex occurrence')\n",
    "plt.xlabel(\"Subject's sex\")\n",
    "plt.ylabel(\"[%]\")\n",
    "\n",
    "plt.grid(axis='y')\n",
    "\n",
    "#plt.legend(['Training set', 'Production set'])\n",
    "\n",
    "plt.savefig(os.path.join('plots', 'report2_population_sex_compare.png'));"
   ]
  },
  {
   "cell_type": "markdown",
   "metadata": {},
   "source": [
    "### 'SearchAuthorizationCode': 'search_reason'"
   ]
  },
  {
   "cell_type": "code",
   "execution_count": 199,
   "metadata": {
    "scrolled": false
   },
   "outputs": [
    {
     "data": {
      "text/plain": [
       "SearchAuthorizationCode\n",
       "N     2.439512\n",
       "I    24.935013\n",
       "C    30.383923\n",
       "O    42.241552\n",
       "Name: SearchAuthorizationCode, dtype: float64"
      ]
     },
     "execution_count": 199,
     "metadata": {},
     "output_type": "execute_result"
    }
   ],
   "source": [
    "s_obs_search_reason = df_obs.groupby('SearchAuthorizationCode').SearchAuthorizationCode.count().sort_values()\n",
    "s_obs_search_reason = s_obs_search_reason.div(s_obs_search_reason.sum())*100\n",
    "s_obs_search_reason"
   ]
  },
  {
   "cell_type": "code",
   "execution_count": 200,
   "metadata": {},
   "outputs": [],
   "source": [
    "# sanity check\n",
    "assert s_obs_search_reason.sum() == 100"
   ]
  },
  {
   "cell_type": "code",
   "execution_count": 201,
   "metadata": {},
   "outputs": [
    {
     "data": {
      "text/plain": [
       "SearchAuthorizationCode\n",
       "N     4.287595\n",
       "I    20.473590\n",
       "C    35.269050\n",
       "O    39.969765\n",
       "Name: SearchAuthorizationCode, dtype: float64"
      ]
     },
     "execution_count": 201,
     "metadata": {},
     "output_type": "execute_result"
    }
   ],
   "source": [
    "s_train_search_reason = df_train.groupby('SearchAuthorizationCode').SearchAuthorizationCode.count().sort_values()\n",
    "s_train_search_reason = s_train_search_reason.div(s_train_search_reason.sum())*100\n",
    "s_train_search_reason"
   ]
  },
  {
   "cell_type": "code",
   "execution_count": 202,
   "metadata": {},
   "outputs": [],
   "source": [
    "# sanity check\n",
    "assert s_train_search_reason.sum() == 100"
   ]
  },
  {
   "cell_type": "code",
   "execution_count": 234,
   "metadata": {
    "scrolled": true
   },
   "outputs": [
    {
     "data": {
      "image/png": "[encoded data removed]",
      "text/plain": [
       "<Figure size 288x288 with 1 Axes>"
      ]
     },
     "metadata": {
      "needs_background": "light"
     },
     "output_type": "display_data"
    }
   ],
   "source": [
    "pd.DataFrame({'Training set': s_train_search_reason, 'Production set': s_obs_search_reason}).sort_values(by='Training set').plot.bar(figsize=(4,4))\n",
    "\n",
    "plt.title('Percentage of search reason occurrence')\n",
    "plt.xlabel(\"Search reason\")\n",
    "plt.ylabel(\"[%]\")\n",
    "\n",
    "plt.grid(axis='y')\n",
    "\n",
    "#plt.legend(['Training set', 'Production set'])\n",
    "\n",
    "plt.savefig(os.path.join('plots', 'report2_population_search_reason_compare.png'));"
   ]
  },
  {
   "cell_type": "markdown",
   "metadata": {},
   "source": [
    "### 'StatuteReason': 'stop_reason'"
   ]
  },
  {
   "cell_type": "code",
   "execution_count": 204,
   "metadata": {
    "scrolled": false
   },
   "outputs": [
    {
     "data": {
      "text/plain": [
       "StatuteReason\n",
       "Equipment Violation        0.499900\n",
       "STC Violation              0.939812\n",
       "Unlicensed Operation       1.339732\n",
       "Cell Phone                 2.339532\n",
       "Seatbelt                   3.319336\n",
       "Traffic Control Signal     4.239152\n",
       "Stop Sign                  4.779044\n",
       "Window Tint                5.148970\n",
       "Defective Lights           9.478104\n",
       "Display of Plates         10.257948\n",
       "Registration              10.257948\n",
       "Speed Related             10.657868\n",
       "Administrative Offense    11.497700\n",
       "Other                     12.007598\n",
       "Moving Violation          13.237353\n",
       "Name: StatuteReason, dtype: float64"
      ]
     },
     "execution_count": 204,
     "metadata": {},
     "output_type": "execute_result"
    }
   ],
   "source": [
    "s_obs_stop_reason  = df_obs.groupby('StatuteReason').StatuteReason.count().sort_values()\n",
    "s_obs_stop_reason  = s_obs_stop_reason .div(s_obs_stop_reason .sum())*100\n",
    "s_obs_stop_reason "
   ]
  },
  {
   "cell_type": "code",
   "execution_count": 205,
   "metadata": {},
   "outputs": [],
   "source": [
    "# sanity check\n",
    "assert s_obs_stop_reason .sum() == 100"
   ]
  },
  {
   "cell_type": "code",
   "execution_count": 206,
   "metadata": {},
   "outputs": [
    {
     "data": {
      "text/plain": [
       "StatuteReason\n",
       "Stop Sign                  0.003910\n",
       "Equipment Violation        0.732410\n",
       "STC Violation              0.775416\n",
       "Unlicensed Operation       0.908345\n",
       "Suspended License          1.793231\n",
       "Cell Phone                 2.255874\n",
       "Seatbelt                   2.831898\n",
       "Other/Error                2.919213\n",
       "Window Tint                4.398368\n",
       "Traffic Control Signal     4.842766\n",
       "Stop Sign                  4.871437\n",
       "Administrative Offense     6.314102\n",
       "Display of Plates          7.635567\n",
       "Registration               9.551301\n",
       "Speed Related             10.858431\n",
       "Defective Lights          11.894491\n",
       "Moving Violation          12.991803\n",
       "Other                     14.421435\n",
       "Name: StatuteReason, dtype: float64"
      ]
     },
     "execution_count": 206,
     "metadata": {},
     "output_type": "execute_result"
    }
   ],
   "source": [
    "s_train_stop_reason  = df_train.groupby('StatuteReason').StatuteReason.count().sort_values()\n",
    "s_train_stop_reason  = s_train_stop_reason .div(s_train_stop_reason .sum())*100\n",
    "s_train_stop_reason "
   ]
  },
  {
   "cell_type": "code",
   "execution_count": 207,
   "metadata": {},
   "outputs": [],
   "source": [
    "# sanity check\n",
    "assert s_train_stop_reason .sum() == 100"
   ]
  },
  {
   "cell_type": "code",
   "execution_count": 235,
   "metadata": {
    "scrolled": true
   },
   "outputs": [
    {
     "data": {
      "image/png": "[encoded data removed]",
      "text/plain": [
       "<Figure size 576x288 with 1 Axes>"
      ]
     },
     "metadata": {
      "needs_background": "light"
     },
     "output_type": "display_data"
    }
   ],
   "source": [
    "pd.DataFrame({'Training set': s_train_stop_reason , 'Production set': s_obs_stop_reason }).sort_values(by='Training set').plot.bar(figsize=(8,4))\n",
    "\n",
    "plt.title('Percentage of Stop reason occurrence')\n",
    "plt.xlabel(\"Stop reason \")\n",
    "plt.ylabel(\"[%]\")\n",
    "\n",
    "plt.grid(axis='y')\n",
    "\n",
    "#plt.legend(['Training set', 'Production set'])\n",
    "\n",
    "plt.savefig(os.path.join('plots', 'report2_population_stop_reason_compare.png'));"
   ]
  },
  {
   "cell_type": "markdown",
   "metadata": {},
   "source": [
    "### 'SubjectAge': 'age'"
   ]
  },
  {
   "cell_type": "code",
   "execution_count": 214,
   "metadata": {
    "scrolled": false
   },
   "outputs": [],
   "source": [
    "s_obs_age = df_obs.groupby('SubjectAge').SubjectAge.count().sort_values()\n",
    "s_obs_age = s_obs_age .div(s_obs_age .sum())*100"
   ]
  },
  {
   "cell_type": "code",
   "execution_count": 215,
   "metadata": {},
   "outputs": [],
   "source": [
    "# sanity check\n",
    "assert s_obs_age.sum() == 100"
   ]
  },
  {
   "cell_type": "code",
   "execution_count": 217,
   "metadata": {},
   "outputs": [],
   "source": [
    "s_train_age = df_train.groupby('SubjectAge').SubjectAge.count().sort_values()\n",
    "s_train_age = s_train_age .div(s_train_age .sum())*100"
   ]
  },
  {
   "cell_type": "code",
   "execution_count": 219,
   "metadata": {},
   "outputs": [],
   "source": [
    "# sanity check\n",
    "assert s_train_age.sum() == 100"
   ]
  },
  {
   "cell_type": "code",
   "execution_count": 236,
   "metadata": {
    "scrolled": true
   },
   "outputs": [
    {
     "data": {
      "image/png": "[encoded data removed]",
      "text/plain": [
       "<Figure size 576x288 with 1 Axes>"
      ]
     },
     "metadata": {
      "needs_background": "light"
     },
     "output_type": "display_data"
    }
   ],
   "source": [
    "pd.DataFrame({'Training set': s_train_age, 'Production set': s_obs_age}).sort_index().plot.line(figsize=(8,4))\n",
    "\n",
    "plt.title(\"Percentage of age occurrence\")\n",
    "plt.xlabel(\"Subject's age\")\n",
    "plt.ylabel(\"[%]\")\n",
    "\n",
    "plt.xlim(16,60)\n",
    "plt.ylim(0,6.5)\n",
    "\n",
    "plt.grid(axis='y')\n",
    "\n",
    "#plt.legend(['Training set', 'Production set'])\n",
    "\n",
    "#plt.savefig(os.path.join('plots', 'report2_population_age _compare.png'));"
   ]
  },
  {
   "cell_type": "code",
   "execution_count": null,
   "metadata": {},
   "outputs": [],
   "source": []
  },
  {
   "cell_type": "markdown",
   "metadata": {},
   "source": [
    "---"
   ]
  },
  {
   "cell_type": "markdown",
   "metadata": {},
   "source": [
    "---"
   ]
  },
  {
   "cell_type": "markdown",
   "metadata": {},
   "source": [
    "---"
   ]
  },
  {
   "cell_type": "markdown",
   "metadata": {},
   "source": [
    "# Model dynamic evaluation"
   ]
  },
  {
   "cell_type": "markdown",
   "metadata": {},
   "source": [
    "Load results on the test set from previously saved data (see `classifier_workflow` notebook)."
   ]
  },
  {
   "cell_type": "code",
   "execution_count": 194,
   "metadata": {},
   "outputs": [],
   "source": [
    "file_path = os.path.join('data', 'test_set_performance.csv')\n",
    "\n",
    "try:\n",
    "    df_test_set_performance = pd.read_csv(file_path, \n",
    "                             header=0,\n",
    "                             warn_bad_lines=True)\n",
    "except:\n",
    "    print('Ooops!!! We got an error!')\n",
    "else:\n",
    "    pass    "
   ]
  },
  {
   "cell_type": "markdown",
   "metadata": {},
   "source": [
    "Results on the test set:"
   ]
  },
  {
   "cell_type": "code",
   "execution_count": 195,
   "metadata": {},
   "outputs": [],
   "source": [
    "y_prob_test = df_test_set_performance.y_prob\n",
    "y_pred_test = df_test_set_performance.y_pred\n",
    "y_true_test = df_test_set_performance.y_true"
   ]
  },
  {
   "cell_type": "code",
   "execution_count": 196,
   "metadata": {},
   "outputs": [],
   "source": [
    "fpr_test, tpr_test, thresholds_roc_test = roc_curve(y_true_test, y_prob_test)\n",
    "AUROC_test = roc_auc_score(y_true_test, y_prob_test)*100"
   ]
  },
  {
   "cell_type": "markdown",
   "metadata": {},
   "source": [
    "Plot again ROC curve and True/False positives curves, now including results on the test set."
   ]
  },
  {
   "cell_type": "code",
   "execution_count": 197,
   "metadata": {
    "scrolled": true
   },
   "outputs": [
    {
     "data": {
      "image/png": "[encoded data removed]",
      "text/plain": [
       "<Figure size 432x288 with 1 Axes>"
      ]
     },
     "metadata": {
      "needs_background": "light"
     },
     "output_type": "display_data"
    }
   ],
   "source": [
    "plt.figure(3)\n",
    "\n",
    "plt.plot([0, 1], [0, 1], 'k--')\n",
    "plt.plot(fpr_test, tpr_test, label='Test set')\n",
    "plt.plot(fpr, tpr, label='Production test set')\n",
    "\n",
    "plt.xlabel('False positive rate')\n",
    "plt.ylabel('True positive rate')\n",
    "plt.title('ROC curve')\n",
    "\n",
    "plt.xlim(0, 1)\n",
    "plt.ylim(0, 1)\n",
    "\n",
    "plt.xticks(np.arange(0, 1, step=0.1))\n",
    "plt.yticks(np.arange(0, 1, step=0.1))\n",
    "\n",
    "\n",
    "plt.text(0.35, 0.1, \"Area production test set = {}\".format(round(AUROC,2)), dict(size=12))\n",
    "plt.text(0.35, 0.2, \"Area test set = {}\".format(round(AUROC_test,2)), dict(size=12))\n",
    "\n",
    "plt.annotate(\"operating point\", xy=(fpr[idx_op],tpr[idx_op]), xytext=(0.25,0.5), arrowprops=dict(arrowstyle='->'))\n",
    "\n",
    "plt.legend(loc='best')\n",
    "\n",
    "plt.savefig(os.path.join('plots', 'report2_ROC_curves_compare.png'));\n",
    "#plt.show()"
   ]
  },
  {
   "cell_type": "code",
   "execution_count": 198,
   "metadata": {},
   "outputs": [
    {
     "data": {
      "image/png": "[encoded data removed]",
      "text/plain": [
       "<Figure size 432x288 with 1 Axes>"
      ]
     },
     "metadata": {
      "needs_background": "light"
     },
     "output_type": "display_data"
    }
   ],
   "source": [
    "plt.figure(4)\n",
    "\n",
    "plt.plot(thresholds_roc_test, tpr_test, label='Test set TPR', color='C0')\n",
    "plt.plot(thresholds_roc_test, fpr_test , label='Test set FPR', color='#6baed6')\n",
    "\n",
    "plt.plot(thresholds_roc, tpr, label='Production test TPR', color='C1')\n",
    "plt.plot(thresholds_roc, fpr , label='Production test FPR', color='#fdae6b')\n",
    "\n",
    "plt.axvline(x=decision_thr, color='r', linestyle='-.', label='threshold')\n",
    "\n",
    "plt.xlabel('Decision threshold')\n",
    "plt.ylabel('True/False positive rate')\n",
    "plt.title('True/False positive curves')\n",
    "\n",
    "plt.xlim(0, 1)\n",
    "plt.ylim(0, 1)\n",
    "\n",
    "plt.xticks(np.arange(0, 1, step=0.1))\n",
    "plt.yticks(np.arange(0, 1, step=0.1))\n",
    "\n",
    "plt.legend(loc='best')\n",
    "plt.savefig(os.path.join('plots', 'report2_TF_positives_curves_compare.png'));"
   ]
  },
  {
   "cell_type": "code",
   "execution_count": null,
   "metadata": {},
   "outputs": [],
   "source": []
  },
  {
   "cell_type": "code",
   "execution_count": null,
   "metadata": {},
   "outputs": [],
   "source": []
  },
  {
   "cell_type": "code",
   "execution_count": null,
   "metadata": {},
   "outputs": [],
   "source": []
  },
  {
   "cell_type": "code",
   "execution_count": null,
   "metadata": {},
   "outputs": [],
   "source": []
  }
 ],
 "metadata": {
  "kernelspec": {
   "display_name": "Python 3",
   "language": "python",
   "name": "python3"
  },
  "language_info": {
   "codemirror_mode": {
    "name": "ipython",
    "version": 3
   },
   "file_extension": ".py",
   "mimetype": "text/x-python",
   "name": "python",
   "nbconvert_exporter": "python",
   "pygments_lexer": "ipython3",
   "version": "3.7.1"
  }
 },
 "nbformat": 4,
 "nbformat_minor": 2
}
