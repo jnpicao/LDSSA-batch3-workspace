{
 "cells": [
  {
   "cell_type": "code",
   "execution_count": 1,
   "metadata": {},
   "outputs": [],
   "source": [
    "# Operating System\n",
    "import os\n",
    "\n",
    "#Pandas and Numpy\n",
    "import pandas as pd\n",
    "import numpy as np\n",
    "\n",
    "#ramdom generator\n",
    "import random\n",
    "\n",
    "#Plots\n",
    "import matplotlib.pyplot as plt\n",
    "%matplotlib inline\n",
    "\n",
    "# Statistics\n",
    "from scipy.stats import binom_test\n",
    "\n",
    "# Strings\n",
    "import re"
   ]
  },
  {
   "cell_type": "code",
   "execution_count": 2,
   "metadata": {},
   "outputs": [],
   "source": [
    "def ends(df, x=5):\n",
    "    return df.head(x).append(df.tail(x))"
   ]
  },
  {
   "cell_type": "markdown",
   "metadata": {},
   "source": [
    "# Load original data"
   ]
  },
  {
   "cell_type": "code",
   "execution_count": 3,
   "metadata": {},
   "outputs": [],
   "source": [
    "#file_path = \".\\data\\train.csv\"\n",
    "file_path = os.path.join('data', 'train.csv')\n",
    "\n",
    "\n",
    "# # Option 1 for reading a sample of the file\n",
    "# n_total_rows = 2437645\n",
    "# prc_rows_to_read = 10\n",
    "# n_rows_to_read = int(prc_rows_to_read/100*n_total_rows)\n",
    "# n_rows_to_skip = n_total_rows - n_rows_to_read\n",
    "\n",
    "# random.seed(178) # this is to get always the same sample. can be removed if we want the sample to change\n",
    "\n",
    "# list_of_rows_to_skip = random.sample(\n",
    "#     range(1, n_total_rows-1), # this is a range from the first row after the header, to the last row on the file\n",
    "#     n_rows_to_skip # this is the number of rows we want to sample, i.e, to skip\n",
    "# )\n",
    "\n",
    "\n",
    "# Option 2 for reading a sample of the file\n",
    "# sample 20% of the rows\n",
    "p = 1\n",
    "\n",
    "random.seed(178)  # this is to get always the same sample. can be removed if we want the sample to change\n",
    "try:\n",
    "    df_original = pd.read_csv(file_path, \n",
    "                             skiprows = lambda row_num: random.random() > p and row_num > 0, \n",
    "                             #nrows = 10000, \n",
    "                             header=0,\n",
    "                             warn_bad_lines=True)\n",
    "except:\n",
    "    print('Ooops!!! We got an error!')\n"
   ]
  },
  {
   "cell_type": "markdown",
   "metadata": {},
   "source": [
    "# Transform data to analysis"
   ]
  },
  {
   "cell_type": "code",
   "execution_count": 4,
   "metadata": {},
   "outputs": [],
   "source": [
    "remane_columns_dict = {'VehicleSearchedIndicator': 'search', \n",
    "                       'ContrabandIndicator': 'target', \n",
    "                       'Department Name': 'departm',\n",
    "                       'InterventionDateTime': 'date',\n",
    "                       'InterventionLocationName': 'local',\n",
    "                       'InterventionReasonCode': 'reason',\n",
    "                       'ReportingOfficerIdentificationID': 'officerID',\n",
    "                       'ResidentIndicator': 'state_res',\n",
    "                       'SearchAuthorizationCode': 'search_reason',\n",
    "                       'StatuteReason': 'stop_reason',\n",
    "                       'SubjectAge': 'age',\n",
    "                       'SubjectEthnicityCode': 'ethnic',\n",
    "                       'SubjectRaceCode': 'race',\n",
    "                       'SubjectSexCode': 'sex',\n",
    "                       'TownResidentIndicator': 'town_res'\n",
    "                      }"
   ]
  },
  {
   "cell_type": "code",
   "execution_count": 5,
   "metadata": {},
   "outputs": [],
   "source": [
    "def simple_clean(doc, regex_list=[(\"[\\.\\?\\(\\)\\|:;_!@/*\\-]\", \" \"), (\" +\", \" \")] ):\n",
    "    \n",
    "    # Make sure it is a string!\n",
    "    doc = str(doc)\n",
    "    \n",
    "    # remove or replace characters\n",
    "    for regex in regex_list:\n",
    "        doc = re.sub(regex[0], regex[1], doc)\n",
    "    # lowercase\n",
    "    doc = doc.lower()\n",
    "    # Trim\n",
    "    doc = doc.strip()\n",
    "    # tokenize\n",
    "    #words = tokenizer.tokenize(doc)\n",
    "    # remove punctuation\n",
    "    #words = list(filter(lambda x: x not in string.punctuation, words))\n",
    "    # stem\n",
    "    #stems = list(map(stemmer.stem, words))\n",
    "    #new_doc = \" \".join(stems)\n",
    "    new_doc = doc\n",
    "    return new_doc"
   ]
  },
  {
   "cell_type": "code",
   "execution_count": 6,
   "metadata": {},
   "outputs": [
    {
     "data": {
      "text/plain": [
       "'north america north america'"
      ]
     },
     "execution_count": 6,
     "metadata": {},
     "output_type": "execute_result"
    }
   ],
   "source": [
    "simple_clean(\"    North@ /* -  America . ?  )  ; !     north- america   \")"
   ]
  },
  {
   "cell_type": "code",
   "execution_count": 7,
   "metadata": {},
   "outputs": [],
   "source": [
    "def data_transformer(df_original: pd.DataFrame, columns_dict: dict) -> pd.DataFrame:\n",
    "    \"\"\"Transforms the original DataFrame to make it suited for data analysis.\n",
    "    \n",
    "    Args:\n",
    "        df_original (pd.DataFrame):  Original DataFrame, as imported by pd.read_csv().\n",
    "        columns_dict (dict): Correspondence between old a new column names.\n",
    "        \n",
    "    Returns:\n",
    "        df (pd.DataFrame): Transformed DataFrame, ready for data analysis.\n",
    "        \n",
    "    TODO:\n",
    "        * to do list\n",
    "        \n",
    "    \"\"\"\n",
    "    \n",
    "    df = df_original.copy()\n",
    "    \n",
    "    # change column names\n",
    "    df = df.rename(columns = columns_dict)\n",
    "    \n",
    "    # convert date to pd.datetime\n",
    "    df.date = pd.to_datetime(df.date)\n",
    "    \n",
    "    # Clean strings from special characters and multiple spaces\n",
    "    df.local = df.local.apply(simple_clean)\n",
    "    df.departm = df.departm.apply(simple_clean)\n",
    "    df.stop_reason = df.stop_reason.apply(simple_clean)\n",
    "    \n",
    "    # convert Intervention DateTime to index of the DataFrame\n",
    "    #df = df.set_index('date').sort_index()\n",
    "    \n",
    "   \n",
    "    return df\n",
    "\n",
    "df = data_transformer(df_original, remane_columns_dict)"
   ]
  },
  {
   "cell_type": "markdown",
   "metadata": {},
   "source": [
    "# Dataframe and useful variables"
   ]
  },
  {
   "cell_type": "code",
   "execution_count": 8,
   "metadata": {
    "scrolled": true
   },
   "outputs": [
    {
     "name": "stdout",
     "output_type": "stream",
     "text": [
      "<class 'pandas.core.frame.DataFrame'>\n",
      "RangeIndex: 76743 entries, 0 to 76742\n",
      "Data columns (total 16 columns):\n",
      "index            76743 non-null int64\n",
      "search           76743 non-null bool\n",
      "target           76743 non-null bool\n",
      "departm          76743 non-null object\n",
      "date             76743 non-null datetime64[ns]\n",
      "local            76743 non-null object\n",
      "reason           76743 non-null object\n",
      "officerID        76743 non-null object\n",
      "state_res        76743 non-null bool\n",
      "search_reason    76733 non-null object\n",
      "stop_reason      76743 non-null object\n",
      "age              76743 non-null float64\n",
      "ethnic           76743 non-null object\n",
      "race             76743 non-null object\n",
      "sex              76743 non-null object\n",
      "town_res         76743 non-null bool\n",
      "dtypes: bool(4), datetime64[ns](1), float64(1), int64(1), object(9)\n",
      "memory usage: 7.3+ MB\n"
     ]
    }
   ],
   "source": [
    "dfs = df[df.search==True].reset_index()\n",
    "dfs.info()"
   ]
  },
  {
   "cell_type": "code",
   "execution_count": 9,
   "metadata": {},
   "outputs": [
    {
     "data": {
      "text/plain": [
       "0.3325124115554513"
      ]
     },
     "execution_count": 9,
     "metadata": {},
     "output_type": "execute_result"
    }
   ],
   "source": [
    "target_global_mean = dfs.target.mean()\n",
    "target_global_mean"
   ]
  },
  {
   "cell_type": "code",
   "execution_count": 10,
   "metadata": {},
   "outputs": [
    {
     "data": {
      "text/plain": [
       "76743"
      ]
     },
     "execution_count": 10,
     "metadata": {},
     "output_type": "execute_result"
    }
   ],
   "source": [
    "n = dfs.shape[0]\n",
    "n"
   ]
  },
  {
   "cell_type": "code",
   "execution_count": 11,
   "metadata": {},
   "outputs": [
    {
     "data": {
      "text/plain": [
       "51.162"
      ]
     },
     "execution_count": 11,
     "metadata": {},
     "output_type": "execute_result"
    }
   ],
   "source": [
    "dfs.shape[0]/df.local.nunique()"
   ]
  },
  {
   "cell_type": "markdown",
   "metadata": {},
   "source": [
    "## Police Department ('Department Name': 'departm',)"
   ]
  },
  {
   "cell_type": "code",
   "execution_count": 12,
   "metadata": {
    "scrolled": true
   },
   "outputs": [
    {
     "data": {
      "image/png": "[encoded data removed]",
      "text/plain": [
       "<Figure size 432x288 with 1 Axes>"
      ]
     },
     "metadata": {
      "needs_background": "light"
     },
     "output_type": "display_data"
    }
   ],
   "source": [
    "dfs.groupby('departm').target.mean().hist(bins=20, alpha=0.25)\n",
    "plt.axvline(x=target_global_mean, color='r', linestyle='-.');"
   ]
  },
  {
   "cell_type": "markdown",
   "metadata": {},
   "source": [
    "Group data by police department."
   ]
  },
  {
   "cell_type": "code",
   "execution_count": 13,
   "metadata": {
    "scrolled": true
   },
   "outputs": [],
   "source": [
    "dfs_by_departm = dfs.groupby('departm').target.agg(['mean','count', 'sum']).sort_values('mean')"
   ]
  },
  {
   "cell_type": "markdown",
   "metadata": {},
   "source": [
    "p-value the test: department average == global average "
   ]
  },
  {
   "cell_type": "code",
   "execution_count": 14,
   "metadata": {},
   "outputs": [],
   "source": [
    "dfs_by_departm['binom_test_p'] = dfs_by_departm.apply(lambda x: binom_test(x['sum'], x['count'], p=target_global_mean), axis=1)"
   ]
  },
  {
   "cell_type": "markdown",
   "metadata": {},
   "source": [
    "Preview a sample of the data."
   ]
  },
  {
   "cell_type": "code",
   "execution_count": 15,
   "metadata": {},
   "outputs": [
    {
     "data": {
      "text/html": [
       "<div>\n",
       "<style scoped>\n",
       "    .dataframe tbody tr th:only-of-type {\n",
       "        vertical-align: middle;\n",
       "    }\n",
       "\n",
       "    .dataframe tbody tr th {\n",
       "        vertical-align: top;\n",
       "    }\n",
       "\n",
       "    .dataframe thead th {\n",
       "        text-align: right;\n",
       "    }\n",
       "</style>\n",
       "<table border=\"1\" class=\"dataframe\">\n",
       "  <thead>\n",
       "    <tr style=\"text-align: right;\">\n",
       "      <th></th>\n",
       "      <th>mean</th>\n",
       "      <th>count</th>\n",
       "      <th>sum</th>\n",
       "      <th>binom_test_p</th>\n",
       "    </tr>\n",
       "    <tr>\n",
       "      <th>departm</th>\n",
       "      <th></th>\n",
       "      <th></th>\n",
       "      <th></th>\n",
       "      <th></th>\n",
       "    </tr>\n",
       "  </thead>\n",
       "  <tbody>\n",
       "    <tr>\n",
       "      <th>plainfield</th>\n",
       "      <td>0.042146</td>\n",
       "      <td>261</td>\n",
       "      <td>11.0</td>\n",
       "      <td>8.496280e-31</td>\n",
       "    </tr>\n",
       "    <tr>\n",
       "      <th>new haven</th>\n",
       "      <td>0.097883</td>\n",
       "      <td>5006</td>\n",
       "      <td>490.0</td>\n",
       "      <td>4.940656e-324</td>\n",
       "    </tr>\n",
       "    <tr>\n",
       "      <th>capitol police</th>\n",
       "      <td>0.111111</td>\n",
       "      <td>18</td>\n",
       "      <td>2.0</td>\n",
       "      <td>4.731230e-02</td>\n",
       "    </tr>\n",
       "    <tr>\n",
       "      <th>willimantic</th>\n",
       "      <td>0.282946</td>\n",
       "      <td>774</td>\n",
       "      <td>219.0</td>\n",
       "      <td>3.289051e-03</td>\n",
       "    </tr>\n",
       "    <tr>\n",
       "      <th>csp troop h</th>\n",
       "      <td>0.312018</td>\n",
       "      <td>907</td>\n",
       "      <td>283.0</td>\n",
       "      <td>1.924730e-01</td>\n",
       "    </tr>\n",
       "    <tr>\n",
       "      <th>orange</th>\n",
       "      <td>0.314286</td>\n",
       "      <td>175</td>\n",
       "      <td>55.0</td>\n",
       "      <td>6.312462e-01</td>\n",
       "    </tr>\n",
       "    <tr>\n",
       "      <th>csp troop a</th>\n",
       "      <td>0.337925</td>\n",
       "      <td>1089</td>\n",
       "      <td>368.0</td>\n",
       "      <td>6.996716e-01</td>\n",
       "    </tr>\n",
       "    <tr>\n",
       "      <th>east hartford</th>\n",
       "      <td>0.411624</td>\n",
       "      <td>1669</td>\n",
       "      <td>687.0</td>\n",
       "      <td>1.541906e-11</td>\n",
       "    </tr>\n",
       "    <tr>\n",
       "      <th>csp troop l</th>\n",
       "      <td>0.462094</td>\n",
       "      <td>554</td>\n",
       "      <td>256.0</td>\n",
       "      <td>2.854759e-10</td>\n",
       "    </tr>\n",
       "    <tr>\n",
       "      <th>coventry</th>\n",
       "      <td>0.508929</td>\n",
       "      <td>112</td>\n",
       "      <td>57.0</td>\n",
       "      <td>1.215943e-04</td>\n",
       "    </tr>\n",
       "  </tbody>\n",
       "</table>\n",
       "</div>"
      ],
      "text/plain": [
       "                    mean  count    sum   binom_test_p\n",
       "departm                                              \n",
       "plainfield      0.042146    261   11.0   8.496280e-31\n",
       "new haven       0.097883   5006  490.0  4.940656e-324\n",
       "capitol police  0.111111     18    2.0   4.731230e-02\n",
       "willimantic     0.282946    774  219.0   3.289051e-03\n",
       "csp troop h     0.312018    907  283.0   1.924730e-01\n",
       "orange          0.314286    175   55.0   6.312462e-01\n",
       "csp troop a     0.337925   1089  368.0   6.996716e-01\n",
       "east hartford   0.411624   1669  687.0   1.541906e-11\n",
       "csp troop l     0.462094    554  256.0   2.854759e-10\n",
       "coventry        0.508929    112   57.0   1.215943e-04"
      ]
     },
     "execution_count": 15,
     "metadata": {},
     "output_type": "execute_result"
    }
   ],
   "source": [
    "dfs_by_departm.sample(10, random_state=42).sort_values('mean')"
   ]
  },
  {
   "cell_type": "code",
   "execution_count": 16,
   "metadata": {
    "scrolled": true
   },
   "outputs": [
    {
     "data": {
      "image/png": "[encoded data removed]",
      "text/plain": [
       "<Figure size 432x288 with 1 Axes>"
      ]
     },
     "metadata": {
      "needs_background": "light"
     },
     "output_type": "display_data"
    }
   ],
   "source": [
    "dfs.groupby('departm').target.mean().hist(bins=20, alpha=0.25, label='total')\n",
    "dfs_by_departm.loc[dfs_by_departm.binom_test_p < 0.05, 'mean'].hist(bins=20, alpha=0.25, label='p. value < 5%')\n",
    "\n",
    "plt.axvline(x=target_global_mean, color='r', linestyle='-.', label='global SR')\n",
    "\n",
    "plt.title('Histogram of department success rate')\n",
    "plt.xlabel(\"Success rate\")\n",
    "plt.ylabel(\"Nº of departments\")\n",
    "\n",
    "plt.legend()\n",
    "\n",
    "plt.savefig(os.path.join('plots', 'target_departm_average_hist.png'));"
   ]
  },
  {
   "cell_type": "code",
   "execution_count": 17,
   "metadata": {
    "scrolled": true
   },
   "outputs": [
    {
     "data": {
      "text/plain": [
       "count     117.000000\n",
       "mean      655.923077\n",
       "std       831.752742\n",
       "min         1.000000\n",
       "1%          1.000000\n",
       "2%          1.320000\n",
       "3%          2.960000\n",
       "4%          4.640000\n",
       "5%          8.200000\n",
       "6%         17.640000\n",
       "7.0%       22.120000\n",
       "8%         24.120000\n",
       "10%        41.200000\n",
       "20%       103.200000\n",
       "30%       131.600000\n",
       "40%       265.400000\n",
       "50%       472.000000\n",
       "60%       572.600000\n",
       "70%       753.200000\n",
       "80%      1047.000000\n",
       "91%      1576.000000\n",
       "92%      1587.720000\n",
       "93%      1659.280000\n",
       "94%      1760.080000\n",
       "95%      1832.800000\n",
       "96%      2151.280000\n",
       "97%      2365.840000\n",
       "98%      2649.480000\n",
       "max      5449.000000\n",
       "Name: count, dtype: float64"
      ]
     },
     "execution_count": 17,
     "metadata": {},
     "output_type": "execute_result"
    }
   ],
   "source": [
    "pctl = (np.array(list(range(1,9,1)) + list(range(10,90,10)) + list(range(91,99,1)))*0.01).round(decimals=2).tolist()\n",
    "#pctl = (np.array( list(range(0,100,1)))*0.01).round(decimals=2).tolist()\n",
    "#df.departm.value_counts().describe(percentiles=pctl)\n",
    "\n",
    "dfs_by_departm['count'].describe(percentiles=pctl)"
   ]
  },
  {
   "cell_type": "code",
   "execution_count": 18,
   "metadata": {
    "scrolled": true
   },
   "outputs": [
    {
     "data": {
      "text/plain": [
       "80"
      ]
     },
     "execution_count": 18,
     "metadata": {},
     "output_type": "execute_result"
    }
   ],
   "source": [
    "(dfs_by_departm['binom_test_p'] < 0.05).sum()"
   ]
  },
  {
   "cell_type": "code",
   "execution_count": 19,
   "metadata": {},
   "outputs": [
    {
     "data": {
      "text/plain": [
       "37"
      ]
     },
     "execution_count": 19,
     "metadata": {},
     "output_type": "execute_result"
    }
   ],
   "source": [
    "(dfs_by_departm['binom_test_p'] >= 0.05).sum()"
   ]
  },
  {
   "cell_type": "code",
   "execution_count": 20,
   "metadata": {},
   "outputs": [
    {
     "data": {
      "text/plain": [
       "117"
      ]
     },
     "execution_count": 20,
     "metadata": {},
     "output_type": "execute_result"
    }
   ],
   "source": [
    "dfs.departm.nunique()"
   ]
  },
  {
   "cell_type": "code",
   "execution_count": 21,
   "metadata": {
    "scrolled": true
   },
   "outputs": [
    {
     "data": {
      "text/html": [
       "<div>\n",
       "<style scoped>\n",
       "    .dataframe tbody tr th:only-of-type {\n",
       "        vertical-align: middle;\n",
       "    }\n",
       "\n",
       "    .dataframe tbody tr th {\n",
       "        vertical-align: top;\n",
       "    }\n",
       "\n",
       "    .dataframe thead th {\n",
       "        text-align: right;\n",
       "    }\n",
       "</style>\n",
       "<table border=\"1\" class=\"dataframe\">\n",
       "  <thead>\n",
       "    <tr style=\"text-align: right;\">\n",
       "      <th></th>\n",
       "      <th>mean</th>\n",
       "      <th>count</th>\n",
       "      <th>sum</th>\n",
       "      <th>binom_test_p</th>\n",
       "    </tr>\n",
       "    <tr>\n",
       "      <th>departm</th>\n",
       "      <th></th>\n",
       "      <th></th>\n",
       "      <th></th>\n",
       "      <th></th>\n",
       "    </tr>\n",
       "  </thead>\n",
       "  <tbody>\n",
       "    <tr>\n",
       "      <th>wcsu</th>\n",
       "      <td>0.0</td>\n",
       "      <td>1</td>\n",
       "      <td>0.0</td>\n",
       "      <td>1.000000</td>\n",
       "    </tr>\n",
       "    <tr>\n",
       "      <th>ecsu</th>\n",
       "      <td>0.0</td>\n",
       "      <td>1</td>\n",
       "      <td>0.0</td>\n",
       "      <td>1.000000</td>\n",
       "    </tr>\n",
       "    <tr>\n",
       "      <th>met dist water authority</th>\n",
       "      <td>1.0</td>\n",
       "      <td>1</td>\n",
       "      <td>1.0</td>\n",
       "      <td>0.332512</td>\n",
       "    </tr>\n",
       "  </tbody>\n",
       "</table>\n",
       "</div>"
      ],
      "text/plain": [
       "                          mean  count  sum  binom_test_p\n",
       "departm                                                 \n",
       "wcsu                       0.0      1  0.0      1.000000\n",
       "ecsu                       0.0      1  0.0      1.000000\n",
       "met dist water authority   1.0      1  1.0      0.332512"
      ]
     },
     "execution_count": 21,
     "metadata": {},
     "output_type": "execute_result"
    }
   ],
   "source": [
    "dfs_by_departm[dfs_by_departm['count'] == 1]"
   ]
  },
  {
   "cell_type": "markdown",
   "metadata": {},
   "source": [
    "<font color=red> **Try to estimate the standard deviation for each department (based on the sample size and target found) and filter if standar deviation higher than a given value, 0.1 for example.** </font>"
   ]
  },
  {
   "cell_type": "markdown",
   "metadata": {},
   "source": [
    "## Search Location ('InterventionLocationName': 'local')"
   ]
  },
  {
   "cell_type": "code",
   "execution_count": 22,
   "metadata": {},
   "outputs": [],
   "source": [
    "dfs_by_local = dfs.groupby('local').target.agg(['mean','count', 'sum']).sort_values('mean')"
   ]
  },
  {
   "cell_type": "code",
   "execution_count": 23,
   "metadata": {},
   "outputs": [
    {
     "data": {
      "text/html": [
       "<div>\n",
       "<style scoped>\n",
       "    .dataframe tbody tr th:only-of-type {\n",
       "        vertical-align: middle;\n",
       "    }\n",
       "\n",
       "    .dataframe tbody tr th {\n",
       "        vertical-align: top;\n",
       "    }\n",
       "\n",
       "    .dataframe thead th {\n",
       "        text-align: right;\n",
       "    }\n",
       "</style>\n",
       "<table border=\"1\" class=\"dataframe\">\n",
       "  <thead>\n",
       "    <tr style=\"text-align: right;\">\n",
       "      <th></th>\n",
       "      <th>mean</th>\n",
       "      <th>count</th>\n",
       "      <th>sum</th>\n",
       "      <th>binom_test_p</th>\n",
       "    </tr>\n",
       "    <tr>\n",
       "      <th>local</th>\n",
       "      <th></th>\n",
       "      <th></th>\n",
       "      <th></th>\n",
       "      <th></th>\n",
       "    </tr>\n",
       "  </thead>\n",
       "  <tbody>\n",
       "    <tr>\n",
       "      <th>419</th>\n",
       "      <td>0.000000</td>\n",
       "      <td>1</td>\n",
       "      <td>0.0</td>\n",
       "      <td>1.000000e+00</td>\n",
       "    </tr>\n",
       "    <tr>\n",
       "      <th>bridgeport</th>\n",
       "      <td>0.149666</td>\n",
       "      <td>2245</td>\n",
       "      <td>336.0</td>\n",
       "      <td>4.143100e-86</td>\n",
       "    </tr>\n",
       "    <tr>\n",
       "      <th>easton</th>\n",
       "      <td>0.227273</td>\n",
       "      <td>22</td>\n",
       "      <td>5.0</td>\n",
       "      <td>3.695348e-01</td>\n",
       "    </tr>\n",
       "    <tr>\n",
       "      <th>meriden</th>\n",
       "      <td>0.309603</td>\n",
       "      <td>604</td>\n",
       "      <td>187.0</td>\n",
       "      <td>2.436740e-01</td>\n",
       "    </tr>\n",
       "    <tr>\n",
       "      <th>killingly</th>\n",
       "      <td>0.425068</td>\n",
       "      <td>367</td>\n",
       "      <td>156.0</td>\n",
       "      <td>2.445408e-04</td>\n",
       "    </tr>\n",
       "    <tr>\n",
       "      <th>cheshire</th>\n",
       "      <td>0.430518</td>\n",
       "      <td>367</td>\n",
       "      <td>158.0</td>\n",
       "      <td>9.979633e-05</td>\n",
       "    </tr>\n",
       "    <tr>\n",
       "      <th>bloomfield</th>\n",
       "      <td>0.464037</td>\n",
       "      <td>431</td>\n",
       "      <td>200.0</td>\n",
       "      <td>1.556096e-08</td>\n",
       "    </tr>\n",
       "    <tr>\n",
       "      <th>north stonington</th>\n",
       "      <td>0.527027</td>\n",
       "      <td>74</td>\n",
       "      <td>39.0</td>\n",
       "      <td>7.331848e-04</td>\n",
       "    </tr>\n",
       "    <tr>\n",
       "      <th>east haddam</th>\n",
       "      <td>0.578125</td>\n",
       "      <td>64</td>\n",
       "      <td>37.0</td>\n",
       "      <td>8.331940e-05</td>\n",
       "    </tr>\n",
       "    <tr>\n",
       "      <th>route 8 exit 44 on r</th>\n",
       "      <td>1.000000</td>\n",
       "      <td>1</td>\n",
       "      <td>1.0</td>\n",
       "      <td>3.325124e-01</td>\n",
       "    </tr>\n",
       "  </tbody>\n",
       "</table>\n",
       "</div>"
      ],
      "text/plain": [
       "                          mean  count    sum  binom_test_p\n",
       "local                                                     \n",
       "419                   0.000000      1    0.0  1.000000e+00\n",
       "bridgeport            0.149666   2245  336.0  4.143100e-86\n",
       "easton                0.227273     22    5.0  3.695348e-01\n",
       "meriden               0.309603    604  187.0  2.436740e-01\n",
       "killingly             0.425068    367  156.0  2.445408e-04\n",
       "cheshire              0.430518    367  158.0  9.979633e-05\n",
       "bloomfield            0.464037    431  200.0  1.556096e-08\n",
       "north stonington      0.527027     74   39.0  7.331848e-04\n",
       "east haddam           0.578125     64   37.0  8.331940e-05\n",
       "route 8 exit 44 on r  1.000000      1    1.0  3.325124e-01"
      ]
     },
     "execution_count": 23,
     "metadata": {},
     "output_type": "execute_result"
    }
   ],
   "source": [
    "dfs_by_local['binom_test_p'] = dfs_by_local.apply(lambda x: binom_test(x['sum'], x['count'], p=target_global_mean), axis=1)\n",
    "\n",
    "dfs_by_local.sample(10,  random_state=42).sort_values('mean')"
   ]
  },
  {
   "cell_type": "code",
   "execution_count": 24,
   "metadata": {},
   "outputs": [
    {
     "data": {
      "image/png": "[encoded data removed]",
      "text/plain": [
       "<Figure size 432x288 with 1 Axes>"
      ]
     },
     "metadata": {
      "needs_background": "light"
     },
     "output_type": "display_data"
    }
   ],
   "source": [
    "dfs.groupby('local').target.mean().hist(bins=20, alpha=0.25, label='total')\n",
    "dfs_by_local.loc[dfs_by_local.binom_test_p < 0.02, 'mean'].hist(bins=20, alpha=0.25, label='p. value < 2%')\n",
    "plt.axvline(x=target_global_mean, color='r', linestyle='-.')\n",
    "plt.legend();"
   ]
  },
  {
   "cell_type": "code",
   "execution_count": 25,
   "metadata": {
    "scrolled": true
   },
   "outputs": [
    {
     "data": {
      "text/plain": [
       "count     267.000000\n",
       "mean      287.426966\n",
       "std       606.121136\n",
       "min         1.000000\n",
       "25%         3.000000\n",
       "50%        44.000000\n",
       "75%       252.500000\n",
       "max      5799.000000\n",
       "Name: target, dtype: float64"
      ]
     },
     "execution_count": 25,
     "metadata": {},
     "output_type": "execute_result"
    }
   ],
   "source": [
    "dfs.groupby('local').target.count().sort_values(ascending=False).describe()"
   ]
  },
  {
   "cell_type": "code",
   "execution_count": 26,
   "metadata": {},
   "outputs": [
    {
     "data": {
      "image/png": "[encoded data removed]",
      "text/plain": [
       "<Figure size 432x288 with 1 Axes>"
      ]
     },
     "metadata": {
      "needs_background": "light"
     },
     "output_type": "display_data"
    }
   ],
   "source": [
    "(dfs.groupby('local')\n",
    "    .filter(lambda x: x.shape[0]>30)\n",
    "    .groupby('local')\n",
    "    .target.mean()\n",
    ").hist(bins=20)\n",
    "plt.axvline(x=target_global_mean, color='r', linestyle='-.');"
   ]
  },
  {
   "cell_type": "code",
   "execution_count": 27,
   "metadata": {},
   "outputs": [
    {
     "data": {
      "image/png": "[encoded data removed]",
      "text/plain": [
       "<Figure size 432x288 with 1 Axes>"
      ]
     },
     "metadata": {
      "needs_background": "light"
     },
     "output_type": "display_data"
    }
   ],
   "source": [
    "dfs.groupby('local').target.mean().hist(bins=20)\n",
    "plt.axvline(x=target_global_mean, color='r', linestyle='-.');"
   ]
  },
  {
   "cell_type": "markdown",
   "metadata": {},
   "source": [
    "### Search Officer ID"
   ]
  },
  {
   "cell_type": "code",
   "execution_count": 28,
   "metadata": {
    "scrolled": true
   },
   "outputs": [
    {
     "data": {
      "image/png": "[encoded data removed]",
      "text/plain": [
       "<Figure size 432x288 with 1 Axes>"
      ]
     },
     "metadata": {
      "needs_background": "light"
     },
     "output_type": "display_data"
    }
   ],
   "source": [
    "dfs.groupby('officerID').target.mean().hist(bins=20)\n",
    "plt.axvline(x=target_global_mean, color='r', linestyle='-.');"
   ]
  },
  {
   "cell_type": "code",
   "execution_count": 34,
   "metadata": {
    "scrolled": true
   },
   "outputs": [
    {
     "data": {
      "text/plain": [
       "count    4941.000000\n",
       "mean       15.531876\n",
       "std        28.726317\n",
       "min         1.000000\n",
       "5%          1.000000\n",
       "10%         1.000000\n",
       "20%         1.000000\n",
       "30%         2.000000\n",
       "40%         3.000000\n",
       "50%         5.000000\n",
       "60%         8.000000\n",
       "70%        12.000000\n",
       "80%        21.000000\n",
       "91%        46.000000\n",
       "92%        51.000000\n",
       "93%        55.000000\n",
       "94%        61.000000\n",
       "95%        67.000000\n",
       "96%        77.000000\n",
       "97%        86.000000\n",
       "98%       106.200000\n",
       "max       517.000000\n",
       "Name: target, dtype: float64"
      ]
     },
     "execution_count": 34,
     "metadata": {},
     "output_type": "execute_result"
    }
   ],
   "source": [
    "pctl = (np.array([5] + list(range(10,90,10)) + list(range(91,99,1)))*0.01).round(decimals=2).tolist()\n",
    "#pctl = (np.array( list(range(0,100,1)))*0.01).round(decimals=2).tolist()\n",
    "#pctl = (np.array(list(range(35,75,1)))*0.01).round(decimals=2).tolist()\n",
    "\n",
    "dfs.groupby('officerID').target.count().sort_values(ascending=False).describe(percentiles=pctl)"
   ]
  },
  {
   "cell_type": "code",
   "execution_count": null,
   "metadata": {},
   "outputs": [],
   "source": [
    "dfs_by_officerID = dfs.groupby('officerID').target.agg(['mean','count', 'sum']).sort_values('mean')\n",
    "dfs_by_officerID.head()"
   ]
  },
  {
   "cell_type": "code",
   "execution_count": null,
   "metadata": {},
   "outputs": [],
   "source": [
    "dfs_by_officerID['binom_test_p'] = dfs_by_officerID.apply(lambda x: binom_test(x['sum'], x['count'], p=target_global_mean), axis=1)\n",
    "dfs_by_officerID[dfs_by_officerID.binom_test_p < 0.02]"
   ]
  },
  {
   "cell_type": "code",
   "execution_count": null,
   "metadata": {
    "scrolled": true
   },
   "outputs": [],
   "source": [
    "plt.figure(figsize=(8,4))\n",
    "dfs.groupby('officerID').target.mean().hist(bins=20, alpha=0.25, label='total')\n",
    "dfs_by_officerID.loc[dfs_by_officerID.binom_test_p < 0.02, 'mean'].hist(bins=20, alpha=0.25, label='p. value < 2%')\n",
    "plt.axvline(x=target_global_mean, color='r', linestyle='-.', label = 'global success rate')\n",
    "plt.legend();"
   ]
  },
  {
   "cell_type": "markdown",
   "metadata": {},
   "source": [
    "### Search Authorization Code"
   ]
  },
  {
   "cell_type": "code",
   "execution_count": null,
   "metadata": {},
   "outputs": [],
   "source": [
    "dfs.groupby('reason').target.mean().plot.bar()\n",
    "plt.axhline(y=target_global_mean, color='r', linestyle='-.')\n",
    "plt.legend();"
   ]
  },
  {
   "cell_type": "markdown",
   "metadata": {},
   "source": [
    "## ('SearchAuthorizationCode': 'search_reason')"
   ]
  },
  {
   "cell_type": "code",
   "execution_count": null,
   "metadata": {
    "scrolled": true
   },
   "outputs": [],
   "source": [
    "dfs.groupby('search_reason').target.mean().apply(lambda x: x*100).sort_values().to_frame().plot.bar(label='')\n",
    "\n",
    "plt.axhline(y=target_global_mean*100, color='r', linestyle='-.', label='global success rate')\n",
    "\n",
    "plt.title('Success rate by search authorization code')\n",
    "plt.xlabel(\"Search authorization code\")\n",
    "plt.ylabel(\"Success rate\")\n",
    "\n",
    "plt.grid(axis='y')\n",
    "plt.legend()\n",
    "\n",
    "plt.savefig(os.path.join('plots', 'target_search_reason_average.png'));"
   ]
  },
  {
   "cell_type": "markdown",
   "metadata": {},
   "source": [
    "## ('StatuteReason': 'stop_reason')"
   ]
  },
  {
   "cell_type": "code",
   "execution_count": null,
   "metadata": {
    "scrolled": true
   },
   "outputs": [],
   "source": [
    "dfs.groupby('stop_reason').target.mean().apply(lambda x: x*100).sort_values()[1:].to_frame().plot.bar(label='')\n",
    "\n",
    "plt.axhline(y=target_global_mean*100, color='r', linestyle='-.', label='global SR')\n",
    "\n",
    "plt.title('Success rate by car stop reason')\n",
    "plt.xlabel(\"Car stop reason\")\n",
    "plt.ylabel(\"Success rate\")\n",
    "\n",
    "plt.grid(axis='y')\n",
    "plt.legend()\n",
    "\n",
    "plt.savefig(os.path.join('plots', 'target_stop_reason_average.png'));"
   ]
  },
  {
   "cell_type": "markdown",
   "metadata": {},
   "source": [
    "## Subject's age ('SubjectAge': 'age')"
   ]
  },
  {
   "cell_type": "code",
   "execution_count": null,
   "metadata": {
    "scrolled": true
   },
   "outputs": [],
   "source": [
    "dfs.groupby('age').target.mean().plot(label='')\n",
    "\n",
    "plt.axhline(y=target_global_mean, color='r', linestyle='-.', label='global SR')\n",
    "\n",
    "plt.title(\"Success rate by subject's age\")\n",
    "plt.xlabel(\"Subject's age\")\n",
    "plt.ylabel(\"Success rate\")\n",
    "\n",
    "plt.xlim(16,60)\n",
    "plt.ylim(0,0.55)\n",
    "\n",
    "plt.legend()\n",
    "\n",
    "plt.grid()\n",
    "\n",
    "plt.savefig(os.path.join('plots', 'target_age_average.png'));"
   ]
  },
  {
   "cell_type": "code",
   "execution_count": null,
   "metadata": {
    "scrolled": true
   },
   "outputs": [],
   "source": [
    "dfs.groupby('age').target.count().sum()"
   ]
  },
  {
   "cell_type": "code",
   "execution_count": null,
   "metadata": {},
   "outputs": [],
   "source": [
    "bins=list(range(0,80,5))\n",
    "bins"
   ]
  },
  {
   "cell_type": "code",
   "execution_count": null,
   "metadata": {},
   "outputs": [],
   "source": [
    "dfs[dfs.target==True].age.plot.hist( bins=range(0,80,5), figsize=(8,4), align='mid', rwidth=0.8, label='Found', density=True, alpha=0.25)\n",
    "dfs[dfs.target==False].age.plot.hist( bins=range(0,80,5), figsize=(8,4), align='mid', rwidth=0.8, label='Not found', density=True, alpha=0.25)\n",
    "\n",
    "plt.ylim(0, 0.07)\n",
    "plt.xlim(15, 80)\n",
    "\n",
    "plt.xticks(range(15,80,5))\n",
    "\n",
    "plt.title('Histogram of driver age')\n",
    "plt.xlabel(\"Age\")\n",
    "plt.ylabel(\"Probability\")\n",
    "\n",
    "plt.legend();"
   ]
  },
  {
   "cell_type": "code",
   "execution_count": null,
   "metadata": {},
   "outputs": [],
   "source": [
    "dfs.groupby('ethnic').target.mean().plot.bar()\n",
    "plt.axhline(y=target_global_mean, color='r', linestyle='-.');"
   ]
  },
  {
   "cell_type": "code",
   "execution_count": null,
   "metadata": {},
   "outputs": [],
   "source": [
    "dfs.groupby('race').target.mean().plot.bar()\n",
    "plt.axhline(y=target_global_mean, color='r', linestyle='-.');"
   ]
  },
  {
   "cell_type": "code",
   "execution_count": null,
   "metadata": {
    "scrolled": true
   },
   "outputs": [],
   "source": [
    "dfs.groupby('sex').target.mean().plot.bar()\n",
    "plt.axhline(y=target_global_mean, color='r', linestyle='-.');"
   ]
  },
  {
   "cell_type": "markdown",
   "metadata": {},
   "source": [
    "## 'ResidentIndicator': 'state_res'"
   ]
  },
  {
   "cell_type": "code",
   "execution_count": null,
   "metadata": {
    "scrolled": false
   },
   "outputs": [],
   "source": [
    "dfs.groupby('state_res').target.mean().plot.bar()\n",
    "plt.axhline(y=target_global_mean, color='r', linestyle='-.');"
   ]
  },
  {
   "cell_type": "markdown",
   "metadata": {},
   "source": [
    "## 'TownResidentIndicator': 'town_res'"
   ]
  },
  {
   "cell_type": "code",
   "execution_count": null,
   "metadata": {
    "scrolled": true
   },
   "outputs": [],
   "source": [
    "dfs.groupby('town_res').target.mean().plot.bar()\n",
    "plt.axhline(y=target_global_mean, color='r', linestyle='-.');"
   ]
  },
  {
   "cell_type": "markdown",
   "metadata": {},
   "source": [
    "### 'TownResidentIndicator' and 'ResidentIndicator' together"
   ]
  },
  {
   "cell_type": "code",
   "execution_count": null,
   "metadata": {
    "scrolled": true
   },
   "outputs": [],
   "source": [
    "dfs.groupby(['state_res','town_res']).target.mean().plot.bar()\n",
    "plt.axhline(y=target_global_mean, color='r', linestyle='-.');"
   ]
  },
  {
   "cell_type": "code",
   "execution_count": null,
   "metadata": {},
   "outputs": [],
   "source": [
    "dfs.groupby(['state_res','town_res']).target.count()"
   ]
  },
  {
   "cell_type": "markdown",
   "metadata": {},
   "source": [
    "## 'InterventionDateTime': 'date'"
   ]
  },
  {
   "cell_type": "code",
   "execution_count": null,
   "metadata": {},
   "outputs": [],
   "source": [
    "dfs['dayofweek'] = dfs.date.dt.dayofweek"
   ]
  },
  {
   "cell_type": "code",
   "execution_count": null,
   "metadata": {},
   "outputs": [],
   "source": [
    "dfs['hour'] = dfs.date.dt.hour"
   ]
  },
  {
   "cell_type": "code",
   "execution_count": null,
   "metadata": {},
   "outputs": [],
   "source": [
    "dfs['month'] = dfs.date.dt.month"
   ]
  },
  {
   "cell_type": "code",
   "execution_count": null,
   "metadata": {},
   "outputs": [],
   "source": [
    "dfs.groupby('dayofweek').target.mean().plot.bar()\n",
    "plt.axhline(y=target_global_mean, color='r', linestyle='-.');"
   ]
  },
  {
   "cell_type": "code",
   "execution_count": null,
   "metadata": {},
   "outputs": [],
   "source": [
    "dfs.groupby('hour').target.mean().apply(lambda x: x*100).to_frame().plot.bar(label='')\n",
    "plt.axhline(y=target_global_mean*100, color='r', linestyle='-.', label='global SR')\n",
    "\n",
    "plt.title(\"Success rate by hour of the day\")\n",
    "plt.xlabel(\"Hour of the day\")\n",
    "plt.ylabel(\"Success rate \")\n",
    "\n",
    "plt.ylim(0,45)\n",
    "\n",
    "plt.legend(loc='upper left')\n",
    "plt.grid(axis='y')\n",
    "\n",
    "plt.savefig(os.path.join('plots', 'target_day_hour_average.png'));"
   ]
  },
  {
   "cell_type": "code",
   "execution_count": null,
   "metadata": {
    "scrolled": true
   },
   "outputs": [],
   "source": [
    "dfs.groupby('month').target.mean().plot.bar()\n",
    "plt.axhline(y=target_global_mean, color='r', linestyle='-.');"
   ]
  },
  {
   "cell_type": "markdown",
   "metadata": {},
   "source": [
    "# Previous analysis"
   ]
  },
  {
   "cell_type": "code",
   "execution_count": null,
   "metadata": {},
   "outputs": [],
   "source": [
    "(dfs.groupby('departm')\n",
    "    .filter(lambda x: x.shape[0]>100)\n",
    "    .groupby('departm')\n",
    "    .target.mean()\n",
    ").hist(bins=20)\n",
    "plt.axvline(x=target_global_mean, color='r', linestyle='-.');"
   ]
  },
  {
   "cell_type": "code",
   "execution_count": null,
   "metadata": {
    "scrolled": true
   },
   "outputs": [],
   "source": [
    "dfs_by_local = dfs.groupby('local').target.agg(['mean','count'])\n",
    "\n",
    "#average_number_of_searches = dfs_by_local['count'].mean()\n",
    "average_number_of_searches = dfs.shape[0]/df.local.nunique()\n",
    "\n",
    "dfs_by_local['weight'] = dfs_by_local['count']/average_number_of_searches\n",
    "#dfs_by_local['count'] = dfs_by_local['count']/total_stops\n",
    "#dfs_by_local['mean'] = dfs_by_local['mean']*dfs_by_local['count'] \n",
    "\n",
    "dfs_by_local['weight_mean'] = dfs_by_local['mean']*dfs_by_local['weight']*100\n",
    "\n",
    "dfs_by_local.head()"
   ]
  },
  {
   "cell_type": "code",
   "execution_count": null,
   "metadata": {},
   "outputs": [],
   "source": [
    "dfs_by_local['weight_mean'].describe()"
   ]
  },
  {
   "cell_type": "code",
   "execution_count": null,
   "metadata": {},
   "outputs": [],
   "source": [
    "dfs_by_local['weight_mean'].plot.hist(xlim=(0,150), bins=range(0,200,5))\n",
    "plt.axvline(x=target_global_mean*100, color='r', linestyle='-.');"
   ]
  },
  {
   "cell_type": "code",
   "execution_count": null,
   "metadata": {
    "scrolled": false
   },
   "outputs": [],
   "source": [
    "dfs.groupby('local').target.mean().hist(bins=20)\n",
    "plt.axvline(x=target_global_mean, color='r', linestyle='-.')\n",
    "\n",
    "#plt.ylim(0, 0.07)\n",
    "#plt.xlim(15, 80)\n",
    "\n",
    "#plt.xticks(range(15,80,5))\n",
    "\n",
    "plt.title('Histogram of location success rate')\n",
    "plt.xlabel(\"Success rate\")\n",
    "plt.ylabel(\"Location count\")\n",
    "\n",
    "plt.legend();"
   ]
  },
  {
   "cell_type": "code",
   "execution_count": null,
   "metadata": {
    "scrolled": false
   },
   "outputs": [],
   "source": [
    "dfs.groupby('sex')['target'].mean()"
   ]
  },
  {
   "cell_type": "code",
   "execution_count": null,
   "metadata": {
    "scrolled": true
   },
   "outputs": [],
   "source": [
    "dfs.groupby('sex').filter(lambda x: x.target.mean() > 0.33)"
   ]
  },
  {
   "cell_type": "code",
   "execution_count": null,
   "metadata": {},
   "outputs": [],
   "source": []
  }
 ],
 "metadata": {
  "kernelspec": {
   "display_name": "Python 3",
   "language": "python",
   "name": "python3"
  },
  "language_info": {
   "codemirror_mode": {
    "name": "ipython",
    "version": 3
   },
   "file_extension": ".py",
   "mimetype": "text/x-python",
   "name": "python",
   "nbconvert_exporter": "python",
   "pygments_lexer": "ipython3",
   "version": "3.7.1"
  }
 },
 "nbformat": 4,
 "nbformat_minor": 2
}
