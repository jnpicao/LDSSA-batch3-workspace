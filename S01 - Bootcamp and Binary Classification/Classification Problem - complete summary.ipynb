{
 "cells": [
  {
   "cell_type": "code",
   "execution_count": 1,
   "metadata": {},
   "outputs": [],
   "source": [
    "import pandas as pd\n",
    "import numpy as np\n",
    "\n",
    "import sklearn\n",
    "# These will be needed to prepare the dataset\n",
    "from sklearn.model_selection import train_test_split\n",
    "from sklearn.preprocessing import StandardScaler\n",
    "\n",
    "# Seed for reproducibility\n",
    "np.random.seed(42)"
   ]
  },
  {
   "cell_type": "markdown",
   "metadata": {},
   "source": [
    "## Dealing with Data Problems\n",
    "\n",
    "We will deal with the following: \n",
    "- Tidy Data\n",
    "- Data Entry Problems\n",
    "- Missing Values\n",
    "\n",
    "Tidy datasets are easy to manipulate, model and visualize, and have a specific structure:\n",
    "* each variable is a column\n",
    "* each observation is a row\n",
    "* each type of observational unit is a table"
   ]
  },
  {
   "cell_type": "markdown",
   "metadata": {},
   "source": [
    "**pandas.melt()**: convert DataFrame Long <-> Wide"
   ]
  },
  {
   "cell_type": "code",
   "execution_count": 2,
   "metadata": {},
   "outputs": [
    {
     "data": {
      "text/html": [
       "<div>\n",
       "<style scoped>\n",
       "    .dataframe tbody tr th:only-of-type {\n",
       "        vertical-align: middle;\n",
       "    }\n",
       "\n",
       "    .dataframe tbody tr th {\n",
       "        vertical-align: top;\n",
       "    }\n",
       "\n",
       "    .dataframe thead th {\n",
       "        text-align: right;\n",
       "    }\n",
       "</style>\n",
       "<table border=\"1\" class=\"dataframe\">\n",
       "  <thead>\n",
       "    <tr style=\"text-align: right;\">\n",
       "      <th></th>\n",
       "      <th>A</th>\n",
       "      <th>B</th>\n",
       "      <th>C</th>\n",
       "    </tr>\n",
       "  </thead>\n",
       "  <tbody>\n",
       "    <tr>\n",
       "      <th>0</th>\n",
       "      <td>a</td>\n",
       "      <td>1</td>\n",
       "      <td>2</td>\n",
       "    </tr>\n",
       "    <tr>\n",
       "      <th>1</th>\n",
       "      <td>b</td>\n",
       "      <td>3</td>\n",
       "      <td>4</td>\n",
       "    </tr>\n",
       "    <tr>\n",
       "      <th>2</th>\n",
       "      <td>c</td>\n",
       "      <td>5</td>\n",
       "      <td>6</td>\n",
       "    </tr>\n",
       "  </tbody>\n",
       "</table>\n",
       "</div>"
      ],
      "text/plain": [
       "   A  B  C\n",
       "0  a  1  2\n",
       "1  b  3  4\n",
       "2  c  5  6"
      ]
     },
     "execution_count": 2,
     "metadata": {},
     "output_type": "execute_result"
    }
   ],
   "source": [
    "df = pd.DataFrame({'A': {0: 'a', 1: 'b', 2: 'c'},\n",
    "                   'B': {0: 1, 1: 3, 2: 5},\n",
    "                   'C': {0: 2, 1: 4, 2: 6}})\n",
    "df"
   ]
  },
  {
   "cell_type": "code",
   "execution_count": 3,
   "metadata": {},
   "outputs": [
    {
     "data": {
      "text/html": [
       "<div>\n",
       "<style scoped>\n",
       "    .dataframe tbody tr th:only-of-type {\n",
       "        vertical-align: middle;\n",
       "    }\n",
       "\n",
       "    .dataframe tbody tr th {\n",
       "        vertical-align: top;\n",
       "    }\n",
       "\n",
       "    .dataframe thead th {\n",
       "        text-align: right;\n",
       "    }\n",
       "</style>\n",
       "<table border=\"1\" class=\"dataframe\">\n",
       "  <thead>\n",
       "    <tr style=\"text-align: right;\">\n",
       "      <th></th>\n",
       "      <th>A</th>\n",
       "      <th>myVarname</th>\n",
       "      <th>myValname</th>\n",
       "    </tr>\n",
       "  </thead>\n",
       "  <tbody>\n",
       "    <tr>\n",
       "      <th>0</th>\n",
       "      <td>a</td>\n",
       "      <td>B</td>\n",
       "      <td>1</td>\n",
       "    </tr>\n",
       "    <tr>\n",
       "      <th>1</th>\n",
       "      <td>b</td>\n",
       "      <td>B</td>\n",
       "      <td>3</td>\n",
       "    </tr>\n",
       "    <tr>\n",
       "      <th>2</th>\n",
       "      <td>c</td>\n",
       "      <td>B</td>\n",
       "      <td>5</td>\n",
       "    </tr>\n",
       "    <tr>\n",
       "      <th>3</th>\n",
       "      <td>a</td>\n",
       "      <td>C</td>\n",
       "      <td>2</td>\n",
       "    </tr>\n",
       "    <tr>\n",
       "      <th>4</th>\n",
       "      <td>b</td>\n",
       "      <td>C</td>\n",
       "      <td>4</td>\n",
       "    </tr>\n",
       "    <tr>\n",
       "      <th>5</th>\n",
       "      <td>c</td>\n",
       "      <td>C</td>\n",
       "      <td>6</td>\n",
       "    </tr>\n",
       "  </tbody>\n",
       "</table>\n",
       "</div>"
      ],
      "text/plain": [
       "   A myVarname  myValname\n",
       "0  a         B          1\n",
       "1  b         B          3\n",
       "2  c         B          5\n",
       "3  a         C          2\n",
       "4  b         C          4\n",
       "5  c         C          6"
      ]
     },
     "execution_count": 3,
     "metadata": {},
     "output_type": "execute_result"
    }
   ],
   "source": [
    "df_melt = pd.melt(df, id_vars=['A'], value_vars=['B', 'C'], var_name='myVarname', value_name='myValname')\n",
    "df_melt"
   ]
  },
  {
   "cell_type": "code",
   "execution_count": 4,
   "metadata": {
    "scrolled": true
   },
   "outputs": [],
   "source": [
    "df = pd.read_csv(\"SLU12 - Support Vector Machines/data/airbnb.csv\")"
   ]
  },
  {
   "cell_type": "markdown",
   "metadata": {},
   "source": [
    "**Define elements' id**"
   ]
  },
  {
   "cell_type": "markdown",
   "metadata": {},
   "source": [
    "`df_messy['song_id'] = range(len(df_messy))`"
   ]
  },
  {
   "cell_type": "markdown",
   "metadata": {},
   "source": [
    "**Filter elements**"
   ]
  },
  {
   "cell_type": "markdown",
   "metadata": {},
   "source": [
    "`df.isin()`  \n",
    "`series.isin()`"
   ]
  },
  {
   "cell_type": "markdown",
   "metadata": {},
   "source": [
    "**string variables**"
   ]
  },
  {
   "cell_type": "markdown",
   "metadata": {},
   "source": [
    "`df.variable = df.variable.str.lower()`  \n",
    "`df.variable = df.variable.str.strip()`  \n",
    "`df.variable = df.variable.str.replace('original', 'replaced')`  \n",
    "`df.variable = df.variable.replace({'original1': 'replaced1', 'original2': 'replaced2'})`  \n",
    "`df.variable = df.variable.str.strip()`  \n",
    "`df.variable = df.variable.str.cat()`  "
   ]
  },
  {
   "cell_type": "markdown",
   "metadata": {},
   "source": [
    "### Duplicates"
   ]
  },
  {
   "cell_type": "markdown",
   "metadata": {},
   "source": [
    "We can find duplicates using method [`duplicated()`](https://pandas.pydata.org/pandas-docs/stable/generated/pandas.DataFrame.duplicated.html) and drop duplicated data with [`drop_duplicates()`](https://pandas.pydata.org/pandas-docs/stable/generated/pandas.DataFrame.drop_duplicates.html).  \n",
    "\n",
    "`duplicated_index = df.duplicated()`: Return boolean Series denoting duplicate rows, optionally only considering certain columns.  \n",
    "`df = df.drop_duplicates()`"
   ]
  },
  {
   "cell_type": "markdown",
   "metadata": {},
   "source": [
    "### Missing values"
   ]
  },
  {
   "cell_type": "markdown",
   "metadata": {},
   "source": [
    "In order to find out what are the missing values, we can use method [`isnull`](https://pandas.pydata.org/pandas-docs/stable/reference/api/pandas.DataFrame.isnull.html#pandas.DataFrame.isnull), followed by [`sum`](https://pandas.pydata.org/pandas-docs/stable/reference/api/pandas.DataFrame.sum.html#pandas.DataFrame.sum) to count how many missing values do we have per column.  \n",
    "\n",
    "`df.isnull()`  \n",
    "`df.isnull().sum()`\n",
    "\n"
   ]
  },
  {
   "cell_type": "markdown",
   "metadata": {},
   "source": [
    "What are the rows with at least one missing value?"
   ]
  },
  {
   "cell_type": "markdown",
   "metadata": {},
   "source": [
    "For each row, we get True if any of the columns is null and False otherwise.  \n",
    "`mask = data.isnull().any(axis=1)`  \n",
    "\n",
    "We select the rows for which the mask is True.  \n",
    "`data[mask]`"
   ]
  },
  {
   "cell_type": "markdown",
   "metadata": {},
   "source": [
    "**Dropping missing values**\n",
    "\n",
    "The simplest way to handle missing values is to simply discard the rows with missing values.\n",
    "\n",
    "We can do this using method [`dropna`](https://pandas.pydata.org/pandas-docs/stable/reference/api/pandas.DataFrame.dropna.html). This method drops all the rows with any missing values from a DataFrame.  \n",
    "\n",
    "`df = df.dropna()`: Drop the rows where at least one element is missing.  \n",
    "`df = df.dropna(axis='columns')`: Drop the columns where at least one element is missing."
   ]
  },
  {
   "cell_type": "markdown",
   "metadata": {},
   "source": [
    "**Replacing with the mean or median**\n",
    "\n",
    "For numerical variables with missing values, we can replace the missing values with the mean or median of that variable. For this, we can use method [`fillna`](https://pandas.pydata.org/pandas-docs/stable/reference/api/pandas.DataFrame.fillna.html) together with [`mean`](https://pandas.pydata.org/pandas-docs/stable/reference/api/pandas.DataFrame.mean.html) or [`median`](https://pandas.pydata.org/pandas-docs/stable/reference/api/pandas.DataFrame.median.html).  \n",
    "\n",
    "`df.variable = df.variable.fillna(df.variable.median())`"
   ]
  },
  {
   "cell_type": "markdown",
   "metadata": {},
   "source": [
    "**Pro tip**\n",
    "\n",
    "We can call [`fillna`](https://pandas.pydata.org/pandas-docs/stable/reference/api/pandas.DataFrame.fillna.html) with a dictionary and handle all these replacements at the same time!  \n",
    "\n",
    "`values = {'variable1': df.variable1.median(), 'variable2': df.variable2.median()}`  \n",
    "`df = df.fillna(value=values)`"
   ]
  },
  {
   "cell_type": "markdown",
   "metadata": {},
   "source": [
    "## Preliminary data analysis"
   ]
  },
  {
   "cell_type": "code",
   "execution_count": 5,
   "metadata": {},
   "outputs": [
    {
     "name": "stdout",
     "output_type": "stream",
     "text": [
      "<class 'pandas.core.frame.DataFrame'>\n",
      "RangeIndex: 13232 entries, 0 to 13231\n",
      "Data columns (total 9 columns):\n",
      "room_id                 13232 non-null int64\n",
      "host_id                 13232 non-null int64\n",
      "room_type               13232 non-null object\n",
      "neighborhood            13232 non-null object\n",
      "reviews                 13232 non-null int64\n",
      "overall_satisfaction    13232 non-null float64\n",
      "accommodates            13232 non-null int64\n",
      "bedrooms                13232 non-null float64\n",
      "price                   13232 non-null float64\n",
      "dtypes: float64(3), int64(4), object(2)\n",
      "memory usage: 930.5+ KB\n"
     ]
    }
   ],
   "source": [
    "df.info()"
   ]
  },
  {
   "cell_type": "code",
   "execution_count": 6,
   "metadata": {},
   "outputs": [
    {
     "data": {
      "text/plain": [
       "(13232, 9)"
      ]
     },
     "execution_count": 6,
     "metadata": {},
     "output_type": "execute_result"
    }
   ],
   "source": [
    "df.shape"
   ]
  },
  {
   "cell_type": "code",
   "execution_count": 7,
   "metadata": {},
   "outputs": [
    {
     "data": {
      "text/html": [
       "<div>\n",
       "<style scoped>\n",
       "    .dataframe tbody tr th:only-of-type {\n",
       "        vertical-align: middle;\n",
       "    }\n",
       "\n",
       "    .dataframe tbody tr th {\n",
       "        vertical-align: top;\n",
       "    }\n",
       "\n",
       "    .dataframe thead th {\n",
       "        text-align: right;\n",
       "    }\n",
       "</style>\n",
       "<table border=\"1\" class=\"dataframe\">\n",
       "  <thead>\n",
       "    <tr style=\"text-align: right;\">\n",
       "      <th></th>\n",
       "      <th>room_id</th>\n",
       "      <th>host_id</th>\n",
       "      <th>room_type</th>\n",
       "      <th>neighborhood</th>\n",
       "      <th>reviews</th>\n",
       "      <th>overall_satisfaction</th>\n",
       "      <th>accommodates</th>\n",
       "      <th>bedrooms</th>\n",
       "      <th>price</th>\n",
       "    </tr>\n",
       "  </thead>\n",
       "  <tbody>\n",
       "    <tr>\n",
       "      <th>12148</th>\n",
       "      <td>18430120</td>\n",
       "      <td>123079348</td>\n",
       "      <td>Entire home/apt</td>\n",
       "      <td>Lumiar</td>\n",
       "      <td>0</td>\n",
       "      <td>0.0</td>\n",
       "      <td>4</td>\n",
       "      <td>2.0</td>\n",
       "      <td>95.0</td>\n",
       "    </tr>\n",
       "    <tr>\n",
       "      <th>8355</th>\n",
       "      <td>14035445</td>\n",
       "      <td>84062304</td>\n",
       "      <td>Private room</td>\n",
       "      <td>Parque das Nações</td>\n",
       "      <td>7</td>\n",
       "      <td>4.5</td>\n",
       "      <td>2</td>\n",
       "      <td>1.0</td>\n",
       "      <td>39.0</td>\n",
       "    </tr>\n",
       "    <tr>\n",
       "      <th>9040</th>\n",
       "      <td>14895450</td>\n",
       "      <td>69237427</td>\n",
       "      <td>Entire home/apt</td>\n",
       "      <td>São Vicente</td>\n",
       "      <td>20</td>\n",
       "      <td>5.0</td>\n",
       "      <td>5</td>\n",
       "      <td>3.0</td>\n",
       "      <td>87.0</td>\n",
       "    </tr>\n",
       "    <tr>\n",
       "      <th>63</th>\n",
       "      <td>124558</td>\n",
       "      <td>620702</td>\n",
       "      <td>Entire home/apt</td>\n",
       "      <td>Santa Maria Maior</td>\n",
       "      <td>126</td>\n",
       "      <td>4.5</td>\n",
       "      <td>6</td>\n",
       "      <td>2.0</td>\n",
       "      <td>75.0</td>\n",
       "    </tr>\n",
       "    <tr>\n",
       "      <th>9311</th>\n",
       "      <td>15269760</td>\n",
       "      <td>40814166</td>\n",
       "      <td>Entire home/apt</td>\n",
       "      <td>Belém</td>\n",
       "      <td>1</td>\n",
       "      <td>0.0</td>\n",
       "      <td>4</td>\n",
       "      <td>1.0</td>\n",
       "      <td>52.0</td>\n",
       "    </tr>\n",
       "  </tbody>\n",
       "</table>\n",
       "</div>"
      ],
      "text/plain": [
       "        room_id    host_id        room_type       neighborhood  reviews  \\\n",
       "12148  18430120  123079348  Entire home/apt             Lumiar        0   \n",
       "8355   14035445   84062304     Private room  Parque das Nações        7   \n",
       "9040   14895450   69237427  Entire home/apt        São Vicente       20   \n",
       "63       124558     620702  Entire home/apt  Santa Maria Maior      126   \n",
       "9311   15269760   40814166  Entire home/apt              Belém        1   \n",
       "\n",
       "       overall_satisfaction  accommodates  bedrooms  price  \n",
       "12148                   0.0             4       2.0   95.0  \n",
       "8355                    4.5             2       1.0   39.0  \n",
       "9040                    5.0             5       3.0   87.0  \n",
       "63                      4.5             6       2.0   75.0  \n",
       "9311                    0.0             4       1.0   52.0  "
      ]
     },
     "execution_count": 7,
     "metadata": {},
     "output_type": "execute_result"
    }
   ],
   "source": [
    "df.sample(5)"
   ]
  },
  {
   "cell_type": "code",
   "execution_count": 8,
   "metadata": {},
   "outputs": [
    {
     "data": {
      "text/html": [
       "<div>\n",
       "<style scoped>\n",
       "    .dataframe tbody tr th:only-of-type {\n",
       "        vertical-align: middle;\n",
       "    }\n",
       "\n",
       "    .dataframe tbody tr th {\n",
       "        vertical-align: top;\n",
       "    }\n",
       "\n",
       "    .dataframe thead th {\n",
       "        text-align: right;\n",
       "    }\n",
       "</style>\n",
       "<table border=\"1\" class=\"dataframe\">\n",
       "  <thead>\n",
       "    <tr style=\"text-align: right;\">\n",
       "      <th></th>\n",
       "      <th>room_id</th>\n",
       "      <th>host_id</th>\n",
       "      <th>reviews</th>\n",
       "      <th>overall_satisfaction</th>\n",
       "      <th>accommodates</th>\n",
       "      <th>bedrooms</th>\n",
       "      <th>price</th>\n",
       "    </tr>\n",
       "  </thead>\n",
       "  <tbody>\n",
       "    <tr>\n",
       "      <th>count</th>\n",
       "      <td>1.323200e+04</td>\n",
       "      <td>1.323200e+04</td>\n",
       "      <td>13232.000000</td>\n",
       "      <td>13232.000000</td>\n",
       "      <td>13232.000000</td>\n",
       "      <td>13232.000000</td>\n",
       "      <td>13232.000000</td>\n",
       "    </tr>\n",
       "    <tr>\n",
       "      <th>mean</th>\n",
       "      <td>1.055081e+07</td>\n",
       "      <td>3.616444e+07</td>\n",
       "      <td>29.130063</td>\n",
       "      <td>3.284273</td>\n",
       "      <td>3.917775</td>\n",
       "      <td>1.549501</td>\n",
       "      <td>86.592352</td>\n",
       "    </tr>\n",
       "    <tr>\n",
       "      <th>std</th>\n",
       "      <td>6.069884e+06</td>\n",
       "      <td>3.706975e+07</td>\n",
       "      <td>42.802762</td>\n",
       "      <td>2.123385</td>\n",
       "      <td>2.293757</td>\n",
       "      <td>1.062821</td>\n",
       "      <td>135.208926</td>\n",
       "    </tr>\n",
       "    <tr>\n",
       "      <th>min</th>\n",
       "      <td>6.499000e+03</td>\n",
       "      <td>1.445500e+04</td>\n",
       "      <td>0.000000</td>\n",
       "      <td>0.000000</td>\n",
       "      <td>1.000000</td>\n",
       "      <td>0.000000</td>\n",
       "      <td>10.000000</td>\n",
       "    </tr>\n",
       "    <tr>\n",
       "      <th>25%</th>\n",
       "      <td>5.054848e+06</td>\n",
       "      <td>6.197930e+06</td>\n",
       "      <td>2.000000</td>\n",
       "      <td>0.000000</td>\n",
       "      <td>2.000000</td>\n",
       "      <td>1.000000</td>\n",
       "      <td>45.000000</td>\n",
       "    </tr>\n",
       "    <tr>\n",
       "      <th>50%</th>\n",
       "      <td>1.166226e+07</td>\n",
       "      <td>2.207571e+07</td>\n",
       "      <td>11.000000</td>\n",
       "      <td>4.500000</td>\n",
       "      <td>4.000000</td>\n",
       "      <td>1.000000</td>\n",
       "      <td>64.000000</td>\n",
       "    </tr>\n",
       "    <tr>\n",
       "      <th>75%</th>\n",
       "      <td>1.609631e+07</td>\n",
       "      <td>5.546697e+07</td>\n",
       "      <td>39.000000</td>\n",
       "      <td>5.000000</td>\n",
       "      <td>5.000000</td>\n",
       "      <td>2.000000</td>\n",
       "      <td>93.000000</td>\n",
       "    </tr>\n",
       "    <tr>\n",
       "      <th>max</th>\n",
       "      <td>1.940072e+07</td>\n",
       "      <td>1.359156e+08</td>\n",
       "      <td>438.000000</td>\n",
       "      <td>5.000000</td>\n",
       "      <td>16.000000</td>\n",
       "      <td>10.000000</td>\n",
       "      <td>7496.000000</td>\n",
       "    </tr>\n",
       "  </tbody>\n",
       "</table>\n",
       "</div>"
      ],
      "text/plain": [
       "            room_id       host_id       reviews  overall_satisfaction  \\\n",
       "count  1.323200e+04  1.323200e+04  13232.000000          13232.000000   \n",
       "mean   1.055081e+07  3.616444e+07     29.130063              3.284273   \n",
       "std    6.069884e+06  3.706975e+07     42.802762              2.123385   \n",
       "min    6.499000e+03  1.445500e+04      0.000000              0.000000   \n",
       "25%    5.054848e+06  6.197930e+06      2.000000              0.000000   \n",
       "50%    1.166226e+07  2.207571e+07     11.000000              4.500000   \n",
       "75%    1.609631e+07  5.546697e+07     39.000000              5.000000   \n",
       "max    1.940072e+07  1.359156e+08    438.000000              5.000000   \n",
       "\n",
       "       accommodates      bedrooms         price  \n",
       "count  13232.000000  13232.000000  13232.000000  \n",
       "mean       3.917775      1.549501     86.592352  \n",
       "std        2.293757      1.062821    135.208926  \n",
       "min        1.000000      0.000000     10.000000  \n",
       "25%        2.000000      1.000000     45.000000  \n",
       "50%        4.000000      1.000000     64.000000  \n",
       "75%        5.000000      2.000000     93.000000  \n",
       "max       16.000000     10.000000   7496.000000  "
      ]
     },
     "execution_count": 8,
     "metadata": {},
     "output_type": "execute_result"
    }
   ],
   "source": [
    "df.describe()"
   ]
  },
  {
   "cell_type": "markdown",
   "metadata": {},
   "source": [
    "**.unique(), .nunique(), .value_counts()**"
   ]
  },
  {
   "cell_type": "markdown",
   "metadata": {},
   "source": [
    "#### max, idxmax, min, idxmin"
   ]
  },
  {
   "cell_type": "markdown",
   "metadata": {},
   "source": [
    "#### mean, median, mode"
   ]
  },
  {
   "cell_type": "code",
   "execution_count": 9,
   "metadata": {},
   "outputs": [
    {
     "data": {
      "text/plain": [
       "count    13232.000000\n",
       "mean        29.130063\n",
       "std         42.802762\n",
       "min          0.000000\n",
       "25%          2.000000\n",
       "50%         11.000000\n",
       "75%         39.000000\n",
       "max        438.000000\n",
       "Name: reviews, dtype: float64"
      ]
     },
     "execution_count": 9,
     "metadata": {},
     "output_type": "execute_result"
    }
   ],
   "source": [
    "df.reviews.describe()"
   ]
  },
  {
   "cell_type": "markdown",
   "metadata": {},
   "source": [
    "#### `series.skew()`, `series.kurosis()`"
   ]
  },
  {
   "cell_type": "markdown",
   "metadata": {},
   "source": [
    "## Plots and distributions"
   ]
  },
  {
   "cell_type": "code",
   "execution_count": 10,
   "metadata": {},
   "outputs": [],
   "source": [
    "import matplotlib.pyplot as plt\n",
    "%matplotlib inline"
   ]
  },
  {
   "cell_type": "code",
   "execution_count": 11,
   "metadata": {},
   "outputs": [
    {
     "data": {
      "image/png": "[encoded data removed]",
      "text/plain": [
       "<Figure size 432x288 with 1 Axes>"
      ]
     },
     "metadata": {
      "needs_background": "light"
     },
     "output_type": "display_data"
    }
   ],
   "source": [
    "df.reviews.plot.hist();"
   ]
  },
  {
   "cell_type": "markdown",
   "metadata": {},
   "source": [
    "We will limit the histogram because 92% of the rooms have below 100 reviews."
   ]
  },
  {
   "cell_type": "code",
   "execution_count": 12,
   "metadata": {},
   "outputs": [
    {
     "data": {
      "text/plain": [
       "0.9239721886336155"
      ]
     },
     "execution_count": 12,
     "metadata": {},
     "output_type": "execute_result"
    }
   ],
   "source": [
    "df.reviews[df.reviews<100].count()/df.reviews.count()"
   ]
  },
  {
   "cell_type": "code",
   "execution_count": 13,
   "metadata": {},
   "outputs": [
    {
     "data": {
      "image/png": "[encoded data removed]",
      "text/plain": [
       "<Figure size 864x432 with 1 Axes>"
      ]
     },
     "metadata": {
      "needs_background": "light"
     },
     "output_type": "display_data"
    }
   ],
   "source": [
    "df.reviews.plot.hist(bins=np.arange(0,101,2), xlim=(0,100), figsize=(12, 6))\n",
    "plt.xlabel('Nº of reviess')\n",
    "plt.title('Distribution of number of revies per room');"
   ]
  },
  {
   "cell_type": "markdown",
   "metadata": {},
   "source": [
    "## Variance, covariance, correlation"
   ]
  },
  {
   "cell_type": "code",
   "execution_count": 14,
   "metadata": {},
   "outputs": [],
   "source": [
    "s1 = df.reviews\n",
    "s2 = df.accommodates"
   ]
  },
  {
   "cell_type": "markdown",
   "metadata": {},
   "source": [
    "**Variance**"
   ]
  },
  {
   "cell_type": "code",
   "execution_count": 15,
   "metadata": {},
   "outputs": [
    {
     "data": {
      "text/plain": [
       "5.261321086741796"
      ]
     },
     "execution_count": 15,
     "metadata": {},
     "output_type": "execute_result"
    }
   ],
   "source": [
    "s2.var()"
   ]
  },
  {
   "cell_type": "code",
   "execution_count": 16,
   "metadata": {},
   "outputs": [
    {
     "data": {
      "text/plain": [
       "2.293756980750532"
      ]
     },
     "execution_count": 16,
     "metadata": {},
     "output_type": "execute_result"
    }
   ],
   "source": [
    "s2.std()"
   ]
  },
  {
   "cell_type": "markdown",
   "metadata": {},
   "source": [
    "**covariance**"
   ]
  },
  {
   "cell_type": "code",
   "execution_count": 17,
   "metadata": {},
   "outputs": [
    {
     "data": {
      "text/plain": [
       "0.7197875496125646"
      ]
     },
     "execution_count": 17,
     "metadata": {},
     "output_type": "execute_result"
    }
   ],
   "source": [
    "s1.cov(s2)"
   ]
  },
  {
   "cell_type": "markdown",
   "metadata": {},
   "source": [
    "**correlation**\n",
    "\n",
    "In the broadest sense correlation is any statistical association, though it commonly refers to the degree to which a pair of variables are linearly related (Pearson correlation).\n",
    "\n",
    "There are multiple reasons to use correlation instead of covariance: \n",
    "> 1. Correlation is adimensional (unit free), so it's easier to think about (none of this \"cm.years\" nonsense) \n",
    "> 2. The value of correlation takes place between -1 and +1, while covariance lies between $-\\infty$ and $+\\infty$.\n",
    "> 3. Correlation is not affected by the change in scale, while covariance is. \n",
    "\n",
    "\n",
    "Correlation is just normalized covariance. Normalized by what? By variance! \n",
    "\n",
    "$$ correlation = \\frac{covariance(X, Y)}{\\sqrt{Var(X) * Var(Y)}} $$"
   ]
  },
  {
   "cell_type": "code",
   "execution_count": 18,
   "metadata": {},
   "outputs": [
    {
     "data": {
      "text/plain": [
       "0.0073313699308307475"
      ]
     },
     "execution_count": 18,
     "metadata": {},
     "output_type": "execute_result"
    }
   ],
   "source": [
    "s1.corr(s2)"
   ]
  },
  {
   "cell_type": "markdown",
   "metadata": {},
   "source": [
    "An alternative measure is **Spearman correlation**. It is computed using the ranking position of the variable values. The easiest way to think of this, is to forget about the actual values, and consider only their relative positions (ranks).\n",
    "Spearman correlation is **much more resistant to outliers** and data entry problems than Pearson correlation."
   ]
  },
  {
   "cell_type": "code",
   "execution_count": 19,
   "metadata": {},
   "outputs": [
    {
     "data": {
      "text/plain": [
       "0.08882378299880923"
      ]
     },
     "execution_count": 19,
     "metadata": {},
     "output_type": "execute_result"
    }
   ],
   "source": [
    "s1.corr(s2, method='spearman')"
   ]
  },
  {
   "cell_type": "markdown",
   "metadata": {},
   "source": [
    "We can use Pandas DataFrame correlation method to compute de correlation table for the data."
   ]
  },
  {
   "cell_type": "code",
   "execution_count": 20,
   "metadata": {},
   "outputs": [
    {
     "data": {
      "text/html": [
       "<div>\n",
       "<style scoped>\n",
       "    .dataframe tbody tr th:only-of-type {\n",
       "        vertical-align: middle;\n",
       "    }\n",
       "\n",
       "    .dataframe tbody tr th {\n",
       "        vertical-align: top;\n",
       "    }\n",
       "\n",
       "    .dataframe thead th {\n",
       "        text-align: right;\n",
       "    }\n",
       "</style>\n",
       "<table border=\"1\" class=\"dataframe\">\n",
       "  <thead>\n",
       "    <tr style=\"text-align: right;\">\n",
       "      <th></th>\n",
       "      <th>room_id</th>\n",
       "      <th>host_id</th>\n",
       "      <th>reviews</th>\n",
       "      <th>overall_satisfaction</th>\n",
       "      <th>accommodates</th>\n",
       "      <th>bedrooms</th>\n",
       "      <th>price</th>\n",
       "    </tr>\n",
       "  </thead>\n",
       "  <tbody>\n",
       "    <tr>\n",
       "      <th>room_id</th>\n",
       "      <td>1.000000</td>\n",
       "      <td>0.595750</td>\n",
       "      <td>-0.496113</td>\n",
       "      <td>-0.308704</td>\n",
       "      <td>-0.057226</td>\n",
       "      <td>-0.030635</td>\n",
       "      <td>-0.068688</td>\n",
       "    </tr>\n",
       "    <tr>\n",
       "      <th>host_id</th>\n",
       "      <td>0.595750</td>\n",
       "      <td>1.000000</td>\n",
       "      <td>-0.286024</td>\n",
       "      <td>-0.179504</td>\n",
       "      <td>-0.071530</td>\n",
       "      <td>-0.050984</td>\n",
       "      <td>-0.048030</td>\n",
       "    </tr>\n",
       "    <tr>\n",
       "      <th>reviews</th>\n",
       "      <td>-0.496113</td>\n",
       "      <td>-0.286024</td>\n",
       "      <td>1.000000</td>\n",
       "      <td>0.431931</td>\n",
       "      <td>0.007331</td>\n",
       "      <td>-0.043997</td>\n",
       "      <td>-0.084228</td>\n",
       "    </tr>\n",
       "    <tr>\n",
       "      <th>overall_satisfaction</th>\n",
       "      <td>-0.308704</td>\n",
       "      <td>-0.179504</td>\n",
       "      <td>0.431931</td>\n",
       "      <td>1.000000</td>\n",
       "      <td>0.078501</td>\n",
       "      <td>0.019409</td>\n",
       "      <td>-0.126716</td>\n",
       "    </tr>\n",
       "    <tr>\n",
       "      <th>accommodates</th>\n",
       "      <td>-0.057226</td>\n",
       "      <td>-0.071530</td>\n",
       "      <td>0.007331</td>\n",
       "      <td>0.078501</td>\n",
       "      <td>1.000000</td>\n",
       "      <td>0.791061</td>\n",
       "      <td>0.300386</td>\n",
       "    </tr>\n",
       "    <tr>\n",
       "      <th>bedrooms</th>\n",
       "      <td>-0.030635</td>\n",
       "      <td>-0.050984</td>\n",
       "      <td>-0.043997</td>\n",
       "      <td>0.019409</td>\n",
       "      <td>0.791061</td>\n",
       "      <td>1.000000</td>\n",
       "      <td>0.302463</td>\n",
       "    </tr>\n",
       "    <tr>\n",
       "      <th>price</th>\n",
       "      <td>-0.068688</td>\n",
       "      <td>-0.048030</td>\n",
       "      <td>-0.084228</td>\n",
       "      <td>-0.126716</td>\n",
       "      <td>0.300386</td>\n",
       "      <td>0.302463</td>\n",
       "      <td>1.000000</td>\n",
       "    </tr>\n",
       "  </tbody>\n",
       "</table>\n",
       "</div>"
      ],
      "text/plain": [
       "                       room_id   host_id   reviews  overall_satisfaction  \\\n",
       "room_id               1.000000  0.595750 -0.496113             -0.308704   \n",
       "host_id               0.595750  1.000000 -0.286024             -0.179504   \n",
       "reviews              -0.496113 -0.286024  1.000000              0.431931   \n",
       "overall_satisfaction -0.308704 -0.179504  0.431931              1.000000   \n",
       "accommodates         -0.057226 -0.071530  0.007331              0.078501   \n",
       "bedrooms             -0.030635 -0.050984 -0.043997              0.019409   \n",
       "price                -0.068688 -0.048030 -0.084228             -0.126716   \n",
       "\n",
       "                      accommodates  bedrooms     price  \n",
       "room_id                  -0.057226 -0.030635 -0.068688  \n",
       "host_id                  -0.071530 -0.050984 -0.048030  \n",
       "reviews                   0.007331 -0.043997 -0.084228  \n",
       "overall_satisfaction      0.078501  0.019409 -0.126716  \n",
       "accommodates              1.000000  0.791061  0.300386  \n",
       "bedrooms                  0.791061  1.000000  0.302463  \n",
       "price                     0.300386  0.302463  1.000000  "
      ]
     },
     "execution_count": 20,
     "metadata": {},
     "output_type": "execute_result"
    }
   ],
   "source": [
    "df.corr()"
   ]
  },
  {
   "cell_type": "markdown",
   "metadata": {},
   "source": [
    "## Model selection"
   ]
  },
  {
   "cell_type": "markdown",
   "metadata": {},
   "source": [
    "## Model evaluation - bias and variance"
   ]
  },
  {
   "cell_type": "markdown",
   "metadata": {},
   "source": [
    "**The bias-variance tradeoff**  \n",
    "\n",
    "There is a trade-off between the bias (or underfitting) and variance (or overfitting). When increasing model complexity, bias is reduced while variance increases.  \n",
    "\n"
   ]
  },
  {
   "cell_type": "markdown",
   "metadata": {},
   "source": [
    "### Train-test split (aka holdout method)  \n",
    "\n",
    "---\n",
    "```python\n",
    "from sklearn.model_selection import train_test_split\n",
    "X_train, X_test, y_train, y_test = train_test_split(X, y, test_size=0.4)\n",
    "```\n",
    "---\n",
    "\n",
    "The best possible solution is to leave a random subset of the data aside from the beginning to test our final model at the end.\n",
    "\n",
    "<img src=\"SLU09 - Model Selection and Overfitting\\media\\test_set.png\" width=\"300\">\n",
    "\n",
    "*Fig.: Test set illustrated, you holdout a significant chunk of the data for testing your model in the end*"
   ]
  },
  {
   "cell_type": "markdown",
   "metadata": {},
   "source": [
    "With this method we can compute **two types evaluation metrics**:\n",
    "1. In-sample-error (ISE) or **training error**: how well our model performs on the training data.\n",
    "2. Out-of-sample error (OSE) or **testing error**: how well the model performs on previsouly unseen data and if it's picking up patterns that generalize well.  \n",
    "\n",
    "Ideally, both training and test errors are low and close to one another.  \n",
    "\n",
    "* *Underfitted* models tend to perform poorly on both train and test data, having large (and similar) in-sample- and out-of-sample errors.\n",
    "\n",
    "* *Overfitting* is detected when a model that performs on training data but not quite so well in the test set: the bigger the gap, the greater the overfitting.  \n",
    "\n",
    "Underfitted and overfitted examples:\n",
    "> SuperConservative model error:  \n",
    "> Train 12.67% | Test 10.5%  \n",
    "---  \n",
    "> WellBalanced model error:  \n",
    "> Train:   7.0% | Test: 8.5%  \n",
    "---  \n",
    "> SuperFlexible model error:  \n",
    "> Train:   0.0% | Test: 11.25%  "
   ]
  },
  {
   "cell_type": "markdown",
   "metadata": {},
   "source": [
    "### Validation set (fixed set)  \n",
    "\n",
    "----\n",
    "```python\n",
    "from sklearn.model_selection import train_test_split\n",
    "X_temp, X_test, y_temp, y_test = train_test_split(X, y, test_size=0.2)\n",
    "X_train, X_val, y_train, y_val = train_test_split(X_temp, y_temp, test_size=0.25)\n",
    "del X_temp, y_temp\n",
    "```\n",
    "---\n",
    "\n",
    "<img src=\"SLU09 - Model Selection and Overfitting\\media\\validation_set.png\" width=\"300\">\n",
    "\n",
    "*Fig.: Validation set as compared with the holdout approach*\n",
    "\n",
    "You might be wondering, how is this validation set different from the test set? Typically, a validation set will be used to tune parameters of the model, and then final evaluation of OSE will be done on the test set. \n",
    "\n",
    "We can use the validation set we created above to find the optimal value of *k* for our KNN classifier."
   ]
  },
  {
   "cell_type": "markdown",
   "metadata": {},
   "source": [
    "### Validation set (k-Fold Cross-validation)\n",
    "\n",
    "---\n",
    "```python\n",
    "from sklearn.model_selection import cross_val_score\n",
    "\n",
    "scores = cross_val_score(clf, X, y, cv=10, scoring=classification_error)\n",
    "mean_error = round(np.mean(scores), 2)\n",
    "var_error = round(np.var(scores), 2)\n",
    "```\n",
    "---  \n",
    "\n",
    "Test error results can be subject to great variability, especially for smaller datasets, depending on how we split the data (i.e., which observations go where).\n",
    "\n",
    "Also, and quite obviously, holding out *more* data reduces the amount available for training, possibly leading us to *overestimate* the test error.\n",
    "\n",
    "<img src=\"SLU09 - Model Selection and Overfitting\\media\\cross_validation.png\" width=\"600\">\n",
    "\n",
    "This way, we use every observation to both train and test out model: each fold is used once as validation, while the *k*-1 remaining folds form the training set. The mean of the error of every fold can be seen as a proxy for OSE."
   ]
  },
  {
   "cell_type": "markdown",
   "metadata": {},
   "source": [
    "## What evaluation metric to use?  \n",
    "\n",
    "The `scikit-learn` package includes most of the **validation metrics for classification** we will ever use (which can mostly found [here](http://scikit-learn.org/stable/modules/model_evaluation.html#classification-metrics)). \n",
    "\n",
    "The validation metrics for classification presented in this notebook are:\n",
    "- Accuracy Score\n",
    "- Confusion Matrix\n",
    "- Precision\n",
    "- Recall\n",
    "- F1-Score\n",
    "- Area Under the Receiver Operating Charactristic curve (AUROC)\n",
    "\n",
    "\n",
    "<img src=\"score_metrics.PNG\" width=\"800\">  \n"
   ]
  },
  {
   "cell_type": "code",
   "execution_count": 21,
   "metadata": {},
   "outputs": [],
   "source": [
    "# The sklearn metrics:\n",
    "from sklearn.metrics import accuracy_score, precision_score, \\\n",
    "                            recall_score, f1_score, roc_auc_score, roc_curve, \\\n",
    "                            confusion_matrix, precision_score, recall_score"
   ]
  },
  {
   "cell_type": "markdown",
   "metadata": {},
   "source": [
    "### The confusion matrix   \n",
    "---  \n",
    "```python  \n",
    "# this is scikit-learn's confusion matrix, we will use it a lot! \n",
    "confmat = confusion_matrix(y_true, y_pred)  \n",
    "```  \n",
    "---  \n",
    "\n",
    "or\n",
    "\n",
    "---\n",
    "```python\n",
    "tn, fp, fn, tp = confusion_matrix(y_true, y_pred).ravel()\n",
    "```\n",
    "---  \n",
    "\n",
    "In binary classification, we either predicted 0 or 1, and were either right, or wrong. This matrix covers all cases.  \n",
    "\n",
    "<img src=\"SLU11 - Metrics for Classification/data/confusion_mat_labelled.png\" width=\"400\">  \n",
    "\n",
    "Deconstructing the logic: \n",
    "- The word ***\"positive\"*** or ***\"negative\"*** refers to what we **predicted**. \n",
    "- The word ***\"true\"*** or ***\"false\"*** refers to the real **observed class**.   \n",
    "\n",
    "Reading **horizontal**: *class 0* and *class 1* **observations**.  \n",
    "Reading **vertical**: *class 0* and *class 1* **predictions**.  \n",
    "Reading **diagonal**: correct predictions ($\\searrow$) ans wrong predictions ($\\swarrow$).  \n",
    "**Sum of squares**: total number of observations.  \n"
   ]
  },
  {
   "cell_type": "markdown",
   "metadata": {},
   "source": [
    "### Different types of scores - static evaluation   \n",
    "\n",
    "An usual behaviour for a binary classification algorithm is to predict the probability of each observation to be of *class 1* (e.g. `predict_proba(self, X)` [method](https://scikit-learn.org/stable/modules/generated/sklearn.linear_model.LogisticRegression.html#sklearn.linear_model.LogisticRegression.predict_proba) in `sklearn.linear_model.LogisticRegression`) and then decide on the actual classification based on a previously set threshold ranging from 0 to 1. **For a given algorithm and a given threshold evaluation can be done using one of the following metrics**.\n",
    "\n",
    "**Accuracy** is the total fraction of correct predictions.\n",
    "\n",
    "$$ A = \\frac{Number\\ of\\ correct\\ predictions}{Total\\ number\\ of\\ predictions} = \\frac{TP + TN}{TP + TN + FP + FN}  $$  \n",
    "\n",
    "The **problem with accuracy**: If we have a more realistic dataset, where only ~0.4% of the population has *class 1* and we predict *class 0* for all observations we will get Accuracy > 99,6%.  \n",
    "\n",
    "Conclusion: \n",
    "> **Accuracy is dangerous, as it is intuitive, but only works on well balanced datasets**\n"
   ]
  },
  {
   "cell_type": "markdown",
   "metadata": {},
   "source": [
    "**Precision** is the ability to be a good classifier on the positive prediction. Appropriate when the cost of false positives is high. Leads to **higher decision thresholds**.  \n",
    "\n",
    "$$ P = \\frac{True\\ Positive}{Positive\\ predictions} = \\frac{TP}{TP+FP} $$  "
   ]
  },
  {
   "cell_type": "markdown",
   "metadata": {},
   "source": [
    "<img src=\"https://i.imgflip.com/2ombhi.jpg\" width=\"250\">"
   ]
  },
  {
   "cell_type": "markdown",
   "metadata": {},
   "source": [
    "**Recall** is the ability to be a good classifier on the positive observations. Appropriate when the cost of false negatives is high. Leads to **lower decision thresholds**.  \n",
    "\n",
    "$$ R = \\frac{True\\ Positive}{Positive\\ observations} = \\frac{TP}{TP+FN} $$  \n"
   ]
  },
  {
   "cell_type": "markdown",
   "metadata": {},
   "source": [
    "<img src=\"https://i.imgflip.com/2ombqy.jpg\" width=\"250\">"
   ]
  },
  {
   "cell_type": "markdown",
   "metadata": {},
   "source": [
    "**F1 score** is an attempt to find a \"midground\" between precision and recall. However it should be used with caution, as it assumes that both False Positives and False Negatives have the same impact on the end objective, which in a real scenario is rarely true.   \n",
    "\n",
    "$$ F1 = 2\\frac{P \\times R}{P+R} $$"
   ]
  },
  {
   "cell_type": "markdown",
   "metadata": {},
   "source": [
    "### ROC curve - dynamic evaluation   \n",
    "\n",
    "(see the Wiki page for [sensitivity and specificity](https://en.wikipedia.org/wiki/Sensitivity_and_specificity))\n",
    "\n",
    "For a given clssification algorithm, **increasing the decision threshold** (from 0 to 1):  \n",
    "\n",
    "- **Decreases** (from 1 to 0)\n",
    " - the <font color='green'>**true**</font> positive rate (or recall, $TPR = \\frac{TP}{P} = \\frac{TP}{TP + FN}$ ) - which is <font color='red'>**bad**</font>.\n",
    " - the <font color='red'>**false**</font> positive rate ($FPR = \\frac{FP}{N} = \\frac{FP}{FP + TN} $) - which is <font color='green'>**good**</font>.   \n",
    " \n",
    " \n",
    "- **Increases** (from 0 to 1)\n",
    " - the <font color='green'>**true**</font> negative rate ($TNR = \\frac{TN}{N} = \\frac{TN}{TN + FP}$ ) - which is <font color='green'>**good**</font>.\n",
    " - the <font color='red'>**false**</font> negative rate ($FNR = \\frac{FN}{P} = \\frac{FN}{FN + TP}$ ) - which is <font color='red'>**bad**</font>. \n",
    " \n",
    "\n",
    "So **at low thresholds**, we have **lots of 1s (<font color='red'>False Positives</font>)**, and **at high thresholds** we have **lots of 0s (<font color='red'>False Negatives</font>)**.  \n",
    "Also, **at low thresholds**, we have **lots of 1s (<font color='green'>True Positives</font>)**, and **at high thresholds** we have **lots of 0s (<font color='green'>False Negatives</font>)**.\n",
    "\n",
    "\n",
    "The challenge here is to find a good **balance** between **higher TPR and TNR** and **lower FPR and FNR**.\n",
    "\n",
    "<img src=\"https://www.medcalc.org/manual/_help/images/roc_intro2.png\" width=\"300\">  \n",
    "\n",
    "<img src=\"https://journals.plos.org/plosone/article/file?id=10.1371/journal.pone.0163111.g004&type=large\" width=\"600\">  \n",
    "\n",
    "\n",
    "\n",
    " \n",
    "\n",
    "What is our TPR (True Positive Rate) and FPR (False Positive Rate) for each of these thresholds?  \n",
    "\n",
    "The Receiver Operating Characteristic (ROC) curve is a very common (and important) metric for **binary classification problems** (when predicting 0 or 1).  \n",
    "\n",
    "**Formally**, it is created by plotting the fraction of true positives out of the positives (TPR = true positive rate, a.k.a., sensitivity) vs. the fraction of false positives out of the negatives (FPR = false positive rate, or 1-specificity), at various threshold settings. Sklearn already provide us with all the tools:\n",
    "\n",
    "In the following images we've drawn a perfect and random classifier overlayed with the original (ok-ish) one. \n",
    "\n",
    "<img src=\"SLU11 - Metrics for Classification/data/rocs.png\" width=\"900\">\n"
   ]
  },
  {
   "cell_type": "markdown",
   "metadata": {},
   "source": [
    "## Data Sufficiency and Selection"
   ]
  },
  {
   "cell_type": "markdown",
   "metadata": {},
   "source": [
    "The **usual loss function has a (serious) problem: it is prone to overfitting** because the optimization methods will adapt, as much as they can, the parameters to the training set.\n",
    "\n",
    "$$J = \\frac{1}{N} \\sum_{n=1}^N (y_n - \\hat{y}_n)^2$$\n",
    "\n",
    "This problem can be tackled by means of regularization."
   ]
  },
  {
   "cell_type": "markdown",
   "metadata": {},
   "source": [
    "### Regularization:  \n",
    "**1. Ridge** (L2 norm): \n",
    "\n",
    "$$J = \\frac{1}{N} \\sum_{n=1}^N (y_n - \\hat{y}_n)^2 + \\lambda_2 \\|\\beta\\|_2^2 = \\frac{1}{N} \\sum_{n=1}^N (y_n - \\hat{y}_n)^2 + \\lambda_2 \\sum_{k=1}^K \\beta_k^2$$  \n",
    "\n",
    "```python\n",
    "from sklearn.linear_model import RidgeClassifier\n",
    "clf = RidgeClassifier(normalize=True, alpha=0.0001, random_state=10)\n",
    "clf.fit(X, y)\n",
    "```\n",
    "\n",
    "or\n",
    "\n",
    "```python\n",
    "from sklearn.linear_model import LogisticRegression\n",
    "clf = LogisticRegression(penalty='l2', C=1.0)\n",
    "clf.fit(X, y)\n",
    "```\n",
    "\n",
    "\n",
    "**2. Lasso** (L1 norm):  \n",
    "\n",
    "$$J = \\frac{1}{N} \\sum_{n=1}^N (y_n - \\hat{y}_n)^2 + \\lambda_1 \\|\\beta\\|_1^1 = \\frac{1}{N} \\sum_{n=1}^N (y_n - \\hat{y}_n)^2 + \\lambda_1 \\sum_{k=1}^K \\left|\\beta_k\\right|$$\n",
    "\n",
    "\n",
    "```python\n",
    "from sklearn.linear_model import LogisticRegression\n",
    "clf = LogisticRegression(penalty='l1', C=1.0)\n",
    "clf.fit(X, y)\n",
    "```\n",
    "\n",
    "\n",
    "**3. Elastic Net** (L1+L2 norm):  \n",
    "\n",
    "```python\n",
    "from sklearn.linear_model import LogisticRegression\n",
    "clf = LogisticRegression(penalty='elasticnet', C=1.0, l1_ratio=1)\n",
    "clf.fit(X, y)\n",
    "```\n",
    "\n",
    "\n",
    "\n",
    "Regularization awards a model's *goodness of fit* while penalizing *model complexity* automatically, while it is fitting the data!"
   ]
  }
 ],
 "metadata": {
  "kernelspec": {
   "display_name": "Python 3",
   "language": "python",
   "name": "python3"
  },
  "language_info": {
   "codemirror_mode": {
    "name": "ipython",
    "version": 3
   },
   "file_extension": ".py",
   "mimetype": "text/x-python",
   "name": "python",
   "nbconvert_exporter": "python",
   "pygments_lexer": "ipython3",
   "version": "3.7.3"
  }
 },
 "nbformat": 4,
 "nbformat_minor": 2
}
