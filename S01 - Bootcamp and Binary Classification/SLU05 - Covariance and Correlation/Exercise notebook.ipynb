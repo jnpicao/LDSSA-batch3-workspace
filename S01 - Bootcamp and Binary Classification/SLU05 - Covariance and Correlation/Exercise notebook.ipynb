{
 "cells": [
  {
   "cell_type": "markdown",
   "metadata": {
    "deletable": false,
    "editable": false,
    "nbgrader": {
     "grade": false,
     "grade_id": "cell-ffd19da8ad9eb287",
     "locked": true,
     "schema_version": 1,
     "solution": false
    }
   },
   "source": [
    "# SLU 05 - Covariance and Correlation: Exercise notebook"
   ]
  },
  {
   "cell_type": "code",
   "execution_count": 1,
   "metadata": {
    "deletable": false,
    "editable": false,
    "nbgrader": {
     "grade": false,
     "grade_id": "cell-5db9010e5f96be4c",
     "locked": true,
     "schema_version": 1,
     "solution": false
    }
   },
   "outputs": [],
   "source": [
    "import pandas as pd \n",
    "import numpy as np \n",
    "import math \n",
    "\n",
    "from matplotlib import pyplot as plt \n",
    "from utils import get_house_prices_and_rooms, plot_house_prices_and_rooms\n",
    "\n",
    "# this is for grading without showing the answers \n",
    "import hashlib\n",
    "def hash_answer(answer): \n",
    "    answer=str(answer)\n",
    "    return hashlib.sha256((answer).encode()).hexdigest()"
   ]
  },
  {
   "cell_type": "markdown",
   "metadata": {
    "deletable": false,
    "editable": false,
    "nbgrader": {
     "grade": false,
     "grade_id": "cell-4e02c47394f90045",
     "locked": true,
     "schema_version": 1,
     "solution": false
    }
   },
   "source": [
    "In this notebook you will practice the following: \n",
    "\n",
    "    - Covariance \n",
    "    - Pearson correlation\n",
    "    - Spearman correlation\n",
    "    - Correlation matrix\n",
    "    - Spurious correlations"
   ]
  },
  {
   "cell_type": "markdown",
   "metadata": {
    "deletable": false,
    "editable": false,
    "nbgrader": {
     "grade": false,
     "grade_id": "cell-eb64fecb75377742",
     "locked": true,
     "schema_version": 1,
     "solution": false
    }
   },
   "source": [
    "# Exercise 1: implement covariance "
   ]
  },
  {
   "cell_type": "markdown",
   "metadata": {
    "deletable": false,
    "editable": false,
    "nbgrader": {
     "grade": false,
     "grade_id": "cell-f10b687a642dbf13",
     "locked": true,
     "schema_version": 1,
     "solution": false
    }
   },
   "source": [
    "\n",
    "Here you will implment covariance, by completing the following function.\n",
    "\n",
    "Don't worry too much about generalizing, this will be an extremely naïve implementation, just to get your hands dirty!\n",
    "\n",
    "Here is a quick reminder of the formula: \n",
    "$$ cov = \\frac{\\sum{(X - X_{avg})(Y - Y_{avg})}}{n-1} $$\n",
    "\n",
    "Where `n` is the number of points in either X or Y."
   ]
  },
  {
   "cell_type": "markdown",
   "metadata": {
    "deletable": false,
    "editable": false,
    "nbgrader": {
     "grade": false,
     "grade_id": "cell-37eedff00dee9dc8",
     "locked": true,
     "schema_version": 1,
     "solution": false
    }
   },
   "source": [
    "#### Implement the following: "
   ]
  },
  {
   "cell_type": "code",
   "execution_count": 27,
   "metadata": {
    "deletable": false,
    "nbgrader": {
     "grade": false,
     "grade_id": "cell-31802707a6bea6cf",
     "locked": false,
     "schema_version": 1,
     "solution": true
    }
   },
   "outputs": [],
   "source": [
    "def covariance_by_hand(s1, s2):\n",
    "    \"\"\" \n",
    "    Naive implementation of covariance by hand \n",
    "    \n",
    "    Args:\n",
    "        s1 (pd.Series): a pandas series \n",
    "        s2 (pd.Series): a pandas series (the same index and length as s1)\n",
    "\n",
    "    Returns:\n",
    "        covariance (float): the covariance between s1 and s2 \n",
    "    \"\"\"    \n",
    "    \n",
    "    # Note: it is generally best to do this is multiple small steps \n",
    "    # e.g. start by making s1_avg, then later s1_minus_s1_avg, etc...\n",
    "    \n",
    "    # YOUR CODE HERE\n",
    "    s1_mean = s1.mean()\n",
    "    s2_mean = s2.mean()\n",
    "    \n",
    "    s1_demeaned = s1-s1_mean\n",
    "    s2_demeaned = s2-s2_mean\n",
    "    s1_s2_demeaned_pruduct = s1_demeaned*s2_demeaned\n",
    "    \n",
    "    covariance = s1_s2_demeaned_pruduct.sum()/(s1.shape[0]-1)\n",
    "\n",
    "    return covariance"
   ]
  },
  {
   "cell_type": "code",
   "execution_count": 28,
   "metadata": {},
   "outputs": [
    {
     "data": {
      "text/plain": [
       "112.05"
      ]
     },
     "execution_count": 28,
     "metadata": {},
     "output_type": "execute_result"
    }
   ],
   "source": [
    "a = pd.Series([1, 5, 7, 10, 25])\n",
    "b = pd.Series([15, 30, 28, 45, 50])\n",
    "\n",
    "c = covariance_by_hand(a,b)\n",
    "c"
   ]
  },
  {
   "cell_type": "code",
   "execution_count": 29,
   "metadata": {
    "deletable": false,
    "editable": false,
    "nbgrader": {
     "grade": false,
     "grade_id": "cell-a2975ec922a08f98",
     "locked": true,
     "schema_version": 1,
     "solution": false
    }
   },
   "outputs": [
    {
     "name": "stdout",
     "output_type": "stream",
     "text": [
      "Covariance by hand between a and b: 112.05\n"
     ]
    }
   ],
   "source": [
    "a = pd.Series([1, 5, 7, 10, 25])\n",
    "b = pd.Series([15, 30, 28, 45, 50])\n",
    "print('Covariance by hand between a and b: %0.02f' % covariance_by_hand(a, b))"
   ]
  },
  {
   "cell_type": "markdown",
   "metadata": {
    "deletable": false,
    "editable": false,
    "nbgrader": {
     "grade": false,
     "grade_id": "cell-fb01abfb8843985d",
     "locked": true,
     "schema_version": 1,
     "solution": false
    }
   },
   "source": [
    "Expected output:   \n",
    "\n",
    "    Covariance by hand between a and b: 112.05"
   ]
  },
  {
   "cell_type": "code",
   "execution_count": 26,
   "metadata": {
    "deletable": false,
    "editable": false,
    "nbgrader": {
     "grade": true,
     "grade_id": "cell-110d6cc4cdab8695",
     "locked": true,
     "points": 4,
     "schema_version": 1,
     "solution": false
    }
   },
   "outputs": [],
   "source": [
    "a = pd.Series([1, 5, 7, 10, 25])\n",
    "b = pd.Series([15, 30, 28, 45, 50]) \n",
    "c = pd.Series([22, 55, 23, 15, 92])\n",
    "assert math.isclose(covariance_by_hand(a, b), 112.05)\n",
    "assert math.isclose(covariance_by_hand(a, c), 230.2)"
   ]
  },
  {
   "cell_type": "markdown",
   "metadata": {
    "deletable": false,
    "editable": false,
    "nbgrader": {
     "grade": false,
     "grade_id": "cell-34d6949936535344",
     "locked": true,
     "schema_version": 1,
     "solution": false
    }
   },
   "source": [
    "# Exercise 2: implement pearson correlation\n",
    "\n",
    "Correlation is simply normalized covariance! \n",
    "\n",
    "$$ correlation = \\frac{covariance(X, Y)}{\\sqrt{Var(X) * Var(Y)}} $$"
   ]
  },
  {
   "cell_type": "markdown",
   "metadata": {
    "deletable": false,
    "editable": false,
    "nbgrader": {
     "grade": false,
     "grade_id": "cell-3157a3fa30feb0d3",
     "locked": true,
     "schema_version": 1,
     "solution": false
    }
   },
   "source": [
    "#### Complete here: "
   ]
  },
  {
   "cell_type": "code",
   "execution_count": 30,
   "metadata": {
    "deletable": false,
    "nbgrader": {
     "grade": false,
     "grade_id": "cell-7e2c47095ccc50ef",
     "locked": false,
     "schema_version": 1,
     "solution": true
    }
   },
   "outputs": [],
   "source": [
    "def pearson_correlation_by_hand(s1, s2): \n",
    "    \"\"\" \n",
    "    Naive implementation of pearson correlation\n",
    "    \n",
    "    Args:\n",
    "        s1 (pd.Series): a pandas series \n",
    "        s2 (pd.Series): a pandas series (the same index and length as s1)\n",
    "\n",
    "    Returns:\n",
    "        pearson correlation (float): the correlation between s1 and s2 \n",
    "\n",
    "    \"\"\"\n",
    "    \n",
    "    # clue: remember, you've already implemented a function the top half in exercise one \n",
    "    # clue: for the square root you can use np.sqrt(...)\n",
    "    \n",
    "    # YOUR CODE HERE\n",
    "    s1_mean = s1.mean()\n",
    "    s2_mean = s2.mean()\n",
    "    \n",
    "    s1_demeaned = s1-s1_mean\n",
    "    s2_demeaned = s2-s2_mean\n",
    "    s1_s2_demeaned_pruduct = s1_demeaned*s2_demeaned\n",
    "    \n",
    "    s1_var = s1.var()\n",
    "    s2_var = s2.var()\n",
    "    \n",
    "    covariance = s1_s2_demeaned_pruduct.sum()/(s1.shape[0]-1)\n",
    "    pearson_correlation = covariance/math.sqrt(s1_var*s2_var)\n",
    "    \n",
    "    return pearson_correlation"
   ]
  },
  {
   "cell_type": "code",
   "execution_count": 31,
   "metadata": {
    "deletable": false,
    "editable": false,
    "nbgrader": {
     "grade": true,
     "grade_id": "cell-9086bbc15cf70597",
     "locked": true,
     "points": 4,
     "schema_version": 1,
     "solution": false
    }
   },
   "outputs": [
    {
     "name": "stdout",
     "output_type": "stream",
     "text": [
      "Correlation by hand between a and b: 0.87\n"
     ]
    }
   ],
   "source": [
    "a = pd.Series([1, 5, 7, 10, 25])\n",
    "b = pd.Series([15, 30, 28, 45, 50])\n",
    "print('Correlation by hand between a and b: %0.02f' % pearson_correlation_by_hand(a, b))"
   ]
  },
  {
   "cell_type": "markdown",
   "metadata": {
    "deletable": false,
    "editable": false,
    "nbgrader": {
     "grade": false,
     "grade_id": "cell-9c37db071639babe",
     "locked": true,
     "schema_version": 1,
     "solution": false
    }
   },
   "source": [
    "Expected output:   \n",
    "\n",
    "    Correlation by hand between a and b: 0.87"
   ]
  },
  {
   "cell_type": "markdown",
   "metadata": {
    "deletable": false,
    "editable": false,
    "nbgrader": {
     "grade": false,
     "grade_id": "cell-c72806087518d8f2",
     "locked": true,
     "schema_version": 1,
     "solution": false
    }
   },
   "source": [
    "# Exercise 3: implement Spearman correlation "
   ]
  },
  {
   "cell_type": "markdown",
   "metadata": {
    "deletable": false,
    "editable": false,
    "nbgrader": {
     "grade": false,
     "grade_id": "cell-a77a4a95e67dcd84",
     "locked": true,
     "schema_version": 1,
     "solution": false
    }
   },
   "source": [
    "Using your function `pearson_correlation_by_hand` calculate the Spearman correlation between `S1` and `S2`. \n",
    "\n",
    "So... what was Spearman correlation again?\n",
    "\n",
    "_Note: don't use the pandas `.corr` to solve this, that would be cheating ;)_"
   ]
  },
  {
   "cell_type": "code",
   "execution_count": 32,
   "metadata": {
    "deletable": false,
    "nbgrader": {
     "grade": false,
     "grade_id": "cell-c0748eb68560b07e",
     "locked": false,
     "schema_version": 1,
     "solution": true
    }
   },
   "outputs": [],
   "source": [
    "def spearman_correlation_using_pearson(s1, s2): \n",
    "    \"\"\" \n",
    "    Naive implementation of spearman correlation\n",
    "    \n",
    "    Args:\n",
    "        s1 (pd.Series): a pandas series \n",
    "        s2 (pd.Series): a pandas series (the same index and length as s1)\n",
    "\n",
    "    Returns:\n",
    "        spearman_correlation (float): the correlation between s1 and s2 \n",
    "\n",
    "    \"\"\"\n",
    "    \n",
    "    # \n",
    "    # do the right transformation to s1 and s2\n",
    "    # transformed_s1 = ...\n",
    "    # transformed_s2 = ...\n",
    "    # YOUR CODE HERE\n",
    "    transformed_s1 = s1.rank()\n",
    "    transformed_s2 = s2.rank()\n",
    "    \n",
    "    # Use your pearson_correlation_by_hand function to get the spearman correlation \n",
    "    # spearman_correlation = ...\n",
    "    # YOUR CODE HERE\n",
    "    spearman_correlation = pearson_correlation_by_hand(transformed_s1, transformed_s2)\n",
    "\n",
    "    return spearman_correlation"
   ]
  },
  {
   "cell_type": "code",
   "execution_count": 33,
   "metadata": {
    "deletable": false,
    "editable": false,
    "nbgrader": {
     "grade": false,
     "grade_id": "cell-b82c54b3dd3e690a",
     "locked": true,
     "schema_version": 1,
     "solution": false
    }
   },
   "outputs": [
    {
     "name": "stdout",
     "output_type": "stream",
     "text": [
      "Spearman correlation between a and b: 0.90\n"
     ]
    }
   ],
   "source": [
    "a = pd.Series([1, 5, 7, 10, 25])\n",
    "b = pd.Series([15, 30, 28, 45, 50])\n",
    "print('Spearman correlation between a and b: %0.02f' % spearman_correlation_using_pearson(a, b))"
   ]
  },
  {
   "cell_type": "markdown",
   "metadata": {
    "deletable": false,
    "editable": false,
    "nbgrader": {
     "grade": false,
     "grade_id": "cell-78f6021d73b9c7d5",
     "locked": true,
     "schema_version": 1,
     "solution": false
    }
   },
   "source": [
    "Expected output:   \n",
    "\n",
    "    Spearman correlation between a and b: 0.90"
   ]
  },
  {
   "cell_type": "code",
   "execution_count": 35,
   "metadata": {
    "deletable": false,
    "editable": false,
    "nbgrader": {
     "grade": true,
     "grade_id": "cell-9c8a1bb04133d3d5",
     "locked": true,
     "points": 4,
     "schema_version": 1,
     "solution": false
    }
   },
   "outputs": [],
   "source": [
    "a = pd.Series([1, 5, 7, 10, 25])\n",
    "b = pd.Series([15, 30, 28, 45, 50])\n",
    "c = pd.Series([22, 55, 23, 15, 92])\n",
    "\n",
    "assert math.isclose(spearman_correlation_using_pearson(a, b), a.corr(b, method='spearman'), abs_tol=.1)\n",
    "assert math.isclose(spearman_correlation_using_pearson(b, c), b.corr(c, method='spearman'), abs_tol=.1)\n",
    "assert math.isclose(spearman_correlation_using_pearson(c, a), c.corr(a, method='spearman'), abs_tol=.1)"
   ]
  },
  {
   "cell_type": "markdown",
   "metadata": {
    "deletable": false,
    "editable": false,
    "nbgrader": {
     "grade": false,
     "grade_id": "cell-f6d048d12dae577d",
     "locked": true,
     "schema_version": 1,
     "solution": false
    }
   },
   "source": [
    "----"
   ]
  },
  {
   "cell_type": "markdown",
   "metadata": {
    "deletable": false,
    "editable": false,
    "nbgrader": {
     "grade": false,
     "grade_id": "cell-cd4b4bba880399b0",
     "locked": true,
     "schema_version": 1,
     "solution": false
    }
   },
   "source": [
    "# Exercise 4: enter an outlier "
   ]
  },
  {
   "cell_type": "markdown",
   "metadata": {
    "deletable": false,
    "editable": false,
    "nbgrader": {
     "grade": false,
     "grade_id": "cell-14dafd575c8757dd",
     "locked": true,
     "schema_version": 1,
     "solution": false
    }
   },
   "source": [
    "We are going to analyze some house prices. In one case there will be no outliers, and in the other there will be a single outlier (maybe someone famous lived there) \n",
    "\n",
    "We will use regular pandas this time :) "
   ]
  },
  {
   "cell_type": "code",
   "execution_count": 36,
   "metadata": {
    "deletable": false,
    "editable": false,
    "nbgrader": {
     "grade": false,
     "grade_id": "cell-7c1d07c904f2181a",
     "locked": true,
     "schema_version": 1,
     "solution": false
    }
   },
   "outputs": [
    {
     "data": {
      "image/png": "[encoded data removed]",
      "text/plain": [
       "<Figure size 1152x288 with 2 Axes>"
      ]
     },
     "metadata": {
      "needs_background": "light"
     },
     "output_type": "display_data"
    }
   ],
   "source": [
    "plot_house_prices_and_rooms()"
   ]
  },
  {
   "cell_type": "code",
   "execution_count": 44,
   "metadata": {
    "deletable": false,
    "nbgrader": {
     "grade": false,
     "grade_id": "cell-602c35acee50ad38",
     "locked": false,
     "schema_version": 1,
     "solution": true
    }
   },
   "outputs": [],
   "source": [
    "def calculate_correlations_with_pandas(house_prices, number_of_rooms):\n",
    "    \n",
    "    # pearson_corr = ...\n",
    "    # YOUR CODE HERE\n",
    "    pearson_corr = pearson_correlation_by_hand(house_prices, number_of_rooms)\n",
    "\n",
    "    # spearman_corr = ...\n",
    "    # YOUR CODE HERE\n",
    "    spearman_corr = spearman_correlation_using_pearson(house_prices, number_of_rooms)\n",
    "    \n",
    "    type(house_prices)\n",
    "    \n",
    "    return pearson_corr, spearman_corr\n",
    "\n"
   ]
  },
  {
   "cell_type": "code",
   "execution_count": 45,
   "metadata": {},
   "outputs": [
    {
     "data": {
      "image/png": "[encoded data removed]",
      "text/plain": [
       "<Figure size 432x288 with 1 Axes>"
      ]
     },
     "metadata": {
      "needs_background": "light"
     },
     "output_type": "display_data"
    }
   ],
   "source": [
    "number_of_rooms, house_prices_normal, house_prices_with_outliers = get_house_prices_and_rooms()\n",
    "\n",
    "pearson_corr_normal, spearman_corr_normal = calculate_correlations_with_pandas(house_prices_normal, \n",
    "                                                                               number_of_rooms)\n",
    "pearson_corr_outlier, spearman_corr_outlier = calculate_correlations_with_pandas(house_prices_with_outliers, \n",
    "                                                                                 number_of_rooms)\n",
    "\n",
    "# quick plot to see what happens\n",
    "results = pd.Series({\n",
    "    'Pearson without outlier': pearson_corr_normal,\n",
    "    'Pearson with outlier': pearson_corr_outlier,\n",
    "    'Spearman without outlier': spearman_corr_normal,\n",
    "    'Spearman with outlier': spearman_corr_outlier,\n",
    "})\n",
    "\n",
    "results.plot(kind='barh')\n",
    "plt.show()"
   ]
  },
  {
   "cell_type": "markdown",
   "metadata": {},
   "source": [
    "Expected output \n",
    "\n",
    "    Pearson without outlier     0.689598\n",
    "    Pearson with outlier        0.291450\n",
    "    Spearman without outlier    0.635173\n",
    "    Spearman with outlier       0.635284"
   ]
  },
  {
   "cell_type": "code",
   "execution_count": 46,
   "metadata": {
    "deletable": false,
    "editable": false,
    "nbgrader": {
     "grade": true,
     "grade_id": "cell-1a7175bdcc21451a",
     "locked": true,
     "points": 4,
     "schema_version": 1,
     "solution": false
    }
   },
   "outputs": [],
   "source": [
    "assert math.isclose((pearson_corr_normal - pearson_corr_outlier), 0.398, abs_tol=.01)\n",
    "assert math.isclose((spearman_corr_normal - spearman_corr_outlier), 0, abs_tol=.01)"
   ]
  },
  {
   "cell_type": "markdown",
   "metadata": {
    "deletable": false,
    "editable": false,
    "nbgrader": {
     "grade": false,
     "grade_id": "cell-e629fac83d7eaae3",
     "locked": true,
     "schema_version": 1,
     "solution": false
    }
   },
   "source": [
    "# Exercise 5: Forest fires \n",
    "\n",
    "You will now use your new learned skills to examine a dataset about Forest Fires in the North of Portugal.\n",
    "\n",
    "Using whatever tools you wish, and complete the following analysis. "
   ]
  },
  {
   "cell_type": "markdown",
   "metadata": {
    "deletable": false,
    "editable": false,
    "nbgrader": {
     "grade": false,
     "grade_id": "cell-6df84e8df4330daa",
     "locked": true,
     "schema_version": 1,
     "solution": false
    }
   },
   "source": [
    "Regarding the dataset, the columns are the following: \n",
    "    1. X - x-axis spatial coordinate within the Montesinho park map: 1 to 9\n",
    "    2. Y - y-axis spatial coordinate within the Montesinho park map: 2 to 9\n",
    "    3. month - month of the year: \"jan\" to \"dec\" \n",
    "    4. day - day of the week: \"mon\" to \"sun\"\n",
    "    5. FFMC - FFMC index from the FWI system: 18.7 to 96.20\n",
    "    6. DMC - DMC index from the FWI system: 1.1 to 291.3 \n",
    "    7. DC - DC index from the FWI system: 7.9 to 860.6 \n",
    "    8. ISI - ISI index from the FWI system: 0.0 to 56.10\n",
    "    9. temp - temperature in Celsius degrees: 2.2 to 33.30\n",
    "    10. RH - relative humidity in %: 15.0 to 100\n",
    "    11. wind - wind speed in km/h: 0.40 to 9.40 \n",
    "    12. rain - outside rain in mm/m2 : 0.0 to 6.4 \n",
    "    13. area - the burned area of the forest (in ha): 0.00 to 1090.84 \n",
    "   \n",
    "_Example taken from [P. Cortez and A. Morais. A Data Mining Approach to Predict Forest Fires using Meteorological Data. ](http://www.dsi.uminho.pt/~pcortez/fires.pdf), the excellent academics who open sourced the data :)_"
   ]
  },
  {
   "cell_type": "code",
   "execution_count": 61,
   "metadata": {
    "deletable": false,
    "nbgrader": {
     "grade": false,
     "grade_id": "cell-de272afdcb6695e5",
     "locked": false,
     "schema_version": 1,
     "solution": true
    }
   },
   "outputs": [],
   "source": [
    "forest = pd.read_csv('data/forestfires.csv')\n",
    "\n",
    "# Explore the dataset \n",
    "# Hint 1: you can use display(<name of df>) to force it to pretty print\n",
    "# Hint 2: the correlation matrix and the heatmap visualization might come in handy\n",
    "# Hint 3: you may want to import something to help with the visualization \n",
    "# Hint 4: you can either paste the number, or use a purely programmatic solution. \n",
    "# Hint 5: when we say lowest and highest we mean the sign, not the \"magnitude\"\n",
    "\n",
    "# YOUR CODE HERE\n",
    "\n",
    "# Complete the following questions \n",
    "\n",
    "# Q1: What the the feature with the lowest pearson correlation with burned area?\n",
    "# lowest_pearson_correlation_with_area = ... \n",
    "# YOUR CODE HERE\n",
    "lowest_pearson_correlation_with_area = 'RH'\n",
    "\n",
    "# # Q2: What the the feature with the highest spearman correlation with burned area?\n",
    "# highest_spearman_corr_with_area = ... \n",
    "# YOUR CODE HERE\n",
    "highest_spearman_corr_with_area = 'month'\n",
    "\n",
    "# Q3: what is the pearson correlation between the area of fires, and the month of the year?\n",
    "# pearson_corr_area_month = ... \n",
    "# YOUR CODE HERE\n",
    "pearson_corr_area_month = forest.area.corr(forest.month, method='pearson')\n",
    "\n",
    "# Q4: can you think of a confounding variable that might suggest that the month does not actually cause fires?\n",
    "# possible_confounding_variable = ... \n",
    "# YOUR CODE HERE\n",
    "possible_confounding_variable = 'temp'"
   ]
  },
  {
   "cell_type": "code",
   "execution_count": 58,
   "metadata": {},
   "outputs": [
    {
     "data": {
      "text/plain": [
       "0.056495774290709656"
      ]
     },
     "execution_count": 58,
     "metadata": {},
     "output_type": "execute_result"
    }
   ],
   "source": [
    "forest = pd.read_csv('data/forestfires.csv')\n",
    "forest.area.corr(forest.month, method='pearson')"
   ]
  },
  {
   "cell_type": "markdown",
   "metadata": {
    "deletable": false,
    "editable": false,
    "nbgrader": {
     "grade": false,
     "grade_id": "cell-2a9d337dadf68949",
     "locked": true,
     "schema_version": 1,
     "solution": false
    }
   },
   "source": [
    "Expected output \n",
    "\n",
    "    No expected output on this one, see if it passes the test output ;) "
   ]
  },
  {
   "cell_type": "markdown",
   "metadata": {
    "deletable": false,
    "editable": false,
    "nbgrader": {
     "grade": false,
     "grade_id": "cell-bb1ebc00f1a506d8",
     "locked": true,
     "schema_version": 1,
     "solution": false
    }
   },
   "source": [
    "#### Test output (don't change code here) "
   ]
  },
  {
   "cell_type": "code",
   "execution_count": 62,
   "metadata": {
    "deletable": false,
    "editable": false,
    "nbgrader": {
     "grade": true,
     "grade_id": "cell-61ec8bb442300a8e",
     "locked": true,
     "points": 4,
     "schema_version": 1,
     "solution": false
    }
   },
   "outputs": [],
   "source": [
    "a = '5ba37872b8da4055745d4a9ab7d9c472471e8a8a5555f00c68d4e304b642605e'\n",
    "b = 'a5c7d1719e284f2c9485405d44f62d152cde9e6ede83e1a79a2442b65f6a8735'\n",
    "c = 'a6864eb339b0e1f6e00d75293a8840abf069a2c0fe82e6e53af6ac099793c1d5'\n",
    "d = '319b44c570a417ff3444896cd4aa77f052b6781773fc2f9aa1f1180ac745005c'\n",
    "\n",
    "\n",
    "assert hash_answer(lowest_pearson_correlation_with_area) == a\n",
    "assert hash_answer(highest_spearman_corr_with_area) == b\n",
    "assert math.isclose(pearson_corr_area_month, 0.0564, abs_tol=0.01)\n",
    "assert hash_answer(possible_confounding_variable) in [a, c, d]\n"
   ]
  }
 ],
 "metadata": {
  "kernelspec": {
   "display_name": "Python 3",
   "language": "python",
   "name": "python3"
  },
  "language_info": {
   "codemirror_mode": {
    "name": "ipython",
    "version": 3
   },
   "file_extension": ".py",
   "mimetype": "text/x-python",
   "name": "python",
   "nbconvert_exporter": "python",
   "pygments_lexer": "ipython3",
   "version": "3.7.1"
  }
 },
 "nbformat": 4,
 "nbformat_minor": 2
}
