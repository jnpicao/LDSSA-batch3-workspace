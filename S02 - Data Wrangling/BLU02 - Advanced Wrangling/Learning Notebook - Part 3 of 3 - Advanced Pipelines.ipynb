{
 "cells": [
  {
   "cell_type": "markdown",
   "metadata": {},
   "source": [
    "# BLU02 - Learning Notebook - Data wrangling workflows - Part 3 of 3"
   ]
  },
  {
   "cell_type": "code",
   "execution_count": 1,
   "metadata": {},
   "outputs": [],
   "source": [
    "import matplotlib.pyplot as plt\n",
    "\n",
    "import pandas as pd\n",
    "import os\n",
    "\n",
    "from category_encoders.ordinal import OrdinalEncoder\n",
    "\n",
    "from sklearn.base import BaseEstimator, TransformerMixin\n",
    "from sklearn.cluster import KMeans\n",
    "from sklearn.preprocessing import Imputer\n",
    "from sklearn.model_selection import train_test_split\n",
    "from sklearn.pipeline import Pipeline"
   ]
  },
  {
   "cell_type": "markdown",
   "metadata": {},
   "source": [
    "# 3 Advanced pipelines in scikit-learn\n",
    "\n",
    "Remember our workflow diagram? Let's look at it again.\n",
    "\n",
    "![data_transformation_workflow](./media/data_processing_workflow.png)\n",
    "\n",
    "*Fig 1. - A standard workflow (again).*\n",
    "\n",
    "Pandas, as amazing as it is, can only take us so far.\n",
    "\n",
    "There, beyond the known universe, lies **modeling**.\n",
    "\n",
    "Where we are at this point:\n",
    "* We are to perform transformations on data, setting up robust pipelines using nothing but Pandas\n",
    "* We can combine different dataframes, to enrich our datasets or generate new ones.\n",
    "\n",
    "Thus, here we are, modeling lying ahead of us. What's exactly new about modeling though?\n",
    "\n",
    "We will be using the same dataset, but this time we will create a train-test split, as we would do before modeling."
   ]
  },
  {
   "cell_type": "code",
   "execution_count": 2,
   "metadata": {},
   "outputs": [],
   "source": [
    "works = pd.read_csv('./data/works.csv')\n",
    "X_train, X_test = train_test_split(works)"
   ]
  },
  {
   "cell_type": "markdown",
   "metadata": {},
   "source": [
    "## 3.1 How is modeling different from transformation\n",
    "\n",
    "In Pandas, we merely transformed the original dataframe into a new one.\n",
    "\n",
    "But sometimes, this isn't possible. Let's start with an example: encoding categorical variables.\n",
    "\n",
    "Remember: we need to perform the same transformations on train and test data (and whatever data comes next)."
   ]
  },
  {
   "cell_type": "code",
   "execution_count": 3,
   "metadata": {},
   "outputs": [
    {
     "data": {
      "text/html": [
       "<div>\n",
       "<style scoped>\n",
       "    .dataframe tbody tr th:only-of-type {\n",
       "        vertical-align: middle;\n",
       "    }\n",
       "\n",
       "    .dataframe tbody tr th {\n",
       "        vertical-align: top;\n",
       "    }\n",
       "\n",
       "    .dataframe thead th {\n",
       "        text-align: right;\n",
       "    }\n",
       "</style>\n",
       "<table border=\"1\" class=\"dataframe\">\n",
       "  <thead>\n",
       "    <tr style=\"text-align: right;\">\n",
       "      <th></th>\n",
       "      <th>ComposerName</th>\n",
       "      <th>ComposerNameEncoded</th>\n",
       "    </tr>\n",
       "  </thead>\n",
       "  <tbody>\n",
       "    <tr>\n",
       "      <th>35401</th>\n",
       "      <td>Berg,  Alban</td>\n",
       "      <td>172</td>\n",
       "    </tr>\n",
       "  </tbody>\n",
       "</table>\n",
       "</div>"
      ],
      "text/plain": [
       "       ComposerName  ComposerNameEncoded\n",
       "35401  Berg,  Alban                  172"
      ]
     },
     "execution_count": 3,
     "metadata": {},
     "output_type": "execute_result"
    }
   ],
   "source": [
    "def transform_data(df):\n",
    "    df = df.copy()\n",
    "    df = (df.pipe(remove_intervals)\n",
    "            .pipe(label_encoder, 'ComposerName'))\n",
    "    return df\n",
    "\n",
    "\n",
    "def remove_intervals(df):\n",
    "    df = df.copy()\n",
    "    mask = df['Interval'].isnull()\n",
    "    df = (df.loc[mask, :]\n",
    "            .drop(columns='Interval'))\n",
    "    return df\n",
    "    \n",
    "\n",
    "def label_encoder(df, column):\n",
    "    df = df.copy()\n",
    "    df[column + 'Encoded'] = df[column].astype('category').cat.codes\n",
    "    return df\n",
    "\n",
    "\n",
    "X_train_ = transform_data(X_train)\n",
    "\n",
    "train_alban_berg = X_train_['ComposerName'] == 'Berg,  Alban'\n",
    "(X_train_.loc[train_alban_berg, ['ComposerName', 'ComposerNameEncoded']]\n",
    "         .drop_duplicates())"
   ]
  },
  {
   "cell_type": "markdown",
   "metadata": {},
   "source": [
    "All is good. We removed the intermissions (just like we did previously), and we transformed the original dataframe.\n",
    "\n",
    "For convenience, we are keeping only the `ComposerName` and `ComposerNameEncoded` columns and removing duplicates.\n",
    "\n",
    "Let's do the same to the test data."
   ]
  },
  {
   "cell_type": "code",
   "execution_count": 4,
   "metadata": {},
   "outputs": [
    {
     "data": {
      "text/html": [
       "<div>\n",
       "<style scoped>\n",
       "    .dataframe tbody tr th:only-of-type {\n",
       "        vertical-align: middle;\n",
       "    }\n",
       "\n",
       "    .dataframe tbody tr th {\n",
       "        vertical-align: top;\n",
       "    }\n",
       "\n",
       "    .dataframe thead th {\n",
       "        text-align: right;\n",
       "    }\n",
       "</style>\n",
       "<table border=\"1\" class=\"dataframe\">\n",
       "  <thead>\n",
       "    <tr style=\"text-align: right;\">\n",
       "      <th></th>\n",
       "      <th>ComposerName</th>\n",
       "      <th>ComposerNameEncoded</th>\n",
       "    </tr>\n",
       "  </thead>\n",
       "  <tbody>\n",
       "    <tr>\n",
       "      <th>23031</th>\n",
       "      <td>Berg,  Alban</td>\n",
       "      <td>97</td>\n",
       "    </tr>\n",
       "  </tbody>\n",
       "</table>\n",
       "</div>"
      ],
      "text/plain": [
       "       ComposerName  ComposerNameEncoded\n",
       "23031  Berg,  Alban                   97"
      ]
     },
     "execution_count": 4,
     "metadata": {},
     "output_type": "execute_result"
    }
   ],
   "source": [
    "X_test_ = transform_data(X_test)\n",
    "\n",
    "test_alban_berg = X_test_['ComposerName'] == 'Berg,  Alban'\n",
    "(X_test_.loc[test_alban_berg, ['ComposerName', 'ComposerNameEncoded']]\n",
    "        .drop_duplicates())"
   ]
  },
  {
   "cell_type": "markdown",
   "metadata": {},
   "source": [
    "Do you see the problem? The same `ComposerName` can (and will, in all probability) get different encodings.\n",
    "\n",
    "This problem is significant, as it would lead us to make wrong predictions!!\n",
    "\n",
    "There are other cases in which problems arise. For instance, when replacing missing values with the mean:\n",
    "* You are supposed to compute the mean on the training set and use it to transform both train and test sets\n",
    "* Otherwise, you end up underestimating your correct generalization error.\n",
    "\n",
    "This particular unit is not about modeling at a conceptual level, but you get the point: \n",
    "* Somehow, you need to fit the transformer on your training data first (e.g., define the encodings, compute the means)\n",
    "* Transform both train and test sets (and any data that might come in, really) using the pre-fitted transformers.\n",
    "\n",
    "These transformations are more like modeling. In fact, all of this *is* modeling and part of your model. \n",
    "\n",
    "How do we solve this? **We need transformers that are more like models.**\n",
    "\n",
    "## 3.2 Meet the sklearn-like transformers\n",
    "\n",
    "There are at three fundamental verbs in scikit-learn and sklearn-like libraries:\n",
    "* `.fit()`\n",
    "* `.transform()`\n",
    "* `.predict()`.\n",
    "\n",
    "You are already familiar with `.fit()` and `.predict()`, from the Bootcamp and the Hackathon #1.  We use them to train models and make predictions.\n",
    "\n",
    "Here, we will explore a new combo: `.fit()` and `.transform()`. This is how it works.\n",
    "\n",
    "![sklearn_like_transformation_pipeline](./media/sklearn_like_transformation_pipeline.png)\n",
    "\n",
    "*Fig 2. - A data pipeline with consistent transformers, fitted on the training set.*\n",
    "\n",
    "In short, we fit a transformer on the training data and use to transform the training data.\n",
    "\n",
    "We will, however, return the transformer so we can use it to transform new, incoming data as well. Confusing? Perhaps.\n",
    "\n",
    "Time to get practical: meet the `categorical_encoders`, a set of transformers for encoding categorical variables."
   ]
  },
  {
   "cell_type": "code",
   "execution_count": 5,
   "metadata": {},
   "outputs": [
    {
     "data": {
      "text/html": [
       "<div>\n",
       "<style scoped>\n",
       "    .dataframe tbody tr th:only-of-type {\n",
       "        vertical-align: middle;\n",
       "    }\n",
       "\n",
       "    .dataframe tbody tr th {\n",
       "        vertical-align: top;\n",
       "    }\n",
       "\n",
       "    .dataframe thead th {\n",
       "        text-align: right;\n",
       "    }\n",
       "</style>\n",
       "<table border=\"1\" class=\"dataframe\">\n",
       "  <thead>\n",
       "    <tr style=\"text-align: right;\">\n",
       "      <th></th>\n",
       "      <th>GUID</th>\n",
       "      <th>ProgramID</th>\n",
       "      <th>WorkID</th>\n",
       "      <th>MovementID</th>\n",
       "      <th>ComposerName</th>\n",
       "      <th>WorkTitle</th>\n",
       "      <th>Movement</th>\n",
       "      <th>ConductorName</th>\n",
       "      <th>Interval</th>\n",
       "    </tr>\n",
       "  </thead>\n",
       "  <tbody>\n",
       "    <tr>\n",
       "      <th>73108</th>\n",
       "      <td>ca245a6a-e7dd-4d59-9200-e8c147b2c5a7</td>\n",
       "      <td>9748</td>\n",
       "      <td>9455</td>\n",
       "      <td>NaN</td>\n",
       "      <td>1</td>\n",
       "      <td>RUDOLPH, THE RED-NOSED REINDEER (BRASS) (ARR. ...</td>\n",
       "      <td>NaN</td>\n",
       "      <td>NaN</td>\n",
       "      <td>NaN</td>\n",
       "    </tr>\n",
       "    <tr>\n",
       "      <th>64409</th>\n",
       "      <td>4fa64ddf-2273-420b-81cd-18f4a82ac2b1</td>\n",
       "      <td>147</td>\n",
       "      <td>1847</td>\n",
       "      <td>3.0</td>\n",
       "      <td>2</td>\n",
       "      <td>CONCERTO, PIANO, NO. 3, C MINOR, OP. 37</td>\n",
       "      <td>Rondo: Allegro</td>\n",
       "      <td>Pelletier, Wilfrid</td>\n",
       "      <td>NaN</td>\n",
       "    </tr>\n",
       "    <tr>\n",
       "      <th>6789</th>\n",
       "      <td>86acdb2f-004a-443d-90c3-1a8dbd41e1ac</td>\n",
       "      <td>2603</td>\n",
       "      <td>7162</td>\n",
       "      <td>1.0</td>\n",
       "      <td>3</td>\n",
       "      <td>TWO DANCES (ARR. Ravel)</td>\n",
       "      <td>Danse</td>\n",
       "      <td>Buketoff, Igor</td>\n",
       "      <td>NaN</td>\n",
       "    </tr>\n",
       "    <tr>\n",
       "      <th>13699</th>\n",
       "      <td>10bcb7f0-a31c-43fd-920d-e6e4a0993ef0</td>\n",
       "      <td>13856</td>\n",
       "      <td>3625</td>\n",
       "      <td>NaN</td>\n",
       "      <td>4</td>\n",
       "      <td>QUATOUR POUR LA FIN DU TEMPS</td>\n",
       "      <td>NaN</td>\n",
       "      <td>NaN</td>\n",
       "      <td>NaN</td>\n",
       "    </tr>\n",
       "    <tr>\n",
       "      <th>65280</th>\n",
       "      <td>989d04b2-bb02-4078-b3ae-8f2c936088b6</td>\n",
       "      <td>13169</td>\n",
       "      <td>416</td>\n",
       "      <td>NaN</td>\n",
       "      <td>5</td>\n",
       "      <td>PETRUSHKA (1911 VERSION)</td>\n",
       "      <td>NaN</td>\n",
       "      <td>Boulez, Pierre</td>\n",
       "      <td>NaN</td>\n",
       "    </tr>\n",
       "  </tbody>\n",
       "</table>\n",
       "</div>"
      ],
      "text/plain": [
       "                                       GUID  ProgramID  WorkID  MovementID  \\\n",
       "73108  ca245a6a-e7dd-4d59-9200-e8c147b2c5a7       9748    9455         NaN   \n",
       "64409  4fa64ddf-2273-420b-81cd-18f4a82ac2b1        147    1847         3.0   \n",
       "6789   86acdb2f-004a-443d-90c3-1a8dbd41e1ac       2603    7162         1.0   \n",
       "13699  10bcb7f0-a31c-43fd-920d-e6e4a0993ef0      13856    3625         NaN   \n",
       "65280  989d04b2-bb02-4078-b3ae-8f2c936088b6      13169     416         NaN   \n",
       "\n",
       "       ComposerName                                          WorkTitle  \\\n",
       "73108             1  RUDOLPH, THE RED-NOSED REINDEER (BRASS) (ARR. ...   \n",
       "64409             2            CONCERTO, PIANO, NO. 3, C MINOR, OP. 37   \n",
       "6789              3                            TWO DANCES (ARR. Ravel)   \n",
       "13699             4                       QUATOUR POUR LA FIN DU TEMPS   \n",
       "65280             5                           PETRUSHKA (1911 VERSION)   \n",
       "\n",
       "             Movement       ConductorName Interval  \n",
       "73108             NaN                 NaN      NaN  \n",
       "64409  Rondo: Allegro  Pelletier, Wilfrid      NaN  \n",
       "6789            Danse      Buketoff, Igor      NaN  \n",
       "13699             NaN                 NaN      NaN  \n",
       "65280             NaN      Boulez, Pierre      NaN  "
      ]
     },
     "execution_count": 5,
     "metadata": {},
     "output_type": "execute_result"
    }
   ],
   "source": [
    "encoder = OrdinalEncoder(cols=['ComposerName'])\n",
    "X_train_ = encoder.fit_transform(X_train)\n",
    "X_train_.head()"
   ]
  },
  {
   "cell_type": "markdown",
   "metadata": {},
   "source": [
    "We can now use transform our test set."
   ]
  },
  {
   "cell_type": "code",
   "execution_count": 6,
   "metadata": {},
   "outputs": [
    {
     "data": {
      "text/html": [
       "<div>\n",
       "<style scoped>\n",
       "    .dataframe tbody tr th:only-of-type {\n",
       "        vertical-align: middle;\n",
       "    }\n",
       "\n",
       "    .dataframe tbody tr th {\n",
       "        vertical-align: top;\n",
       "    }\n",
       "\n",
       "    .dataframe thead th {\n",
       "        text-align: right;\n",
       "    }\n",
       "</style>\n",
       "<table border=\"1\" class=\"dataframe\">\n",
       "  <thead>\n",
       "    <tr style=\"text-align: right;\">\n",
       "      <th></th>\n",
       "      <th>GUID</th>\n",
       "      <th>ProgramID</th>\n",
       "      <th>WorkID</th>\n",
       "      <th>MovementID</th>\n",
       "      <th>ComposerName</th>\n",
       "      <th>WorkTitle</th>\n",
       "      <th>Movement</th>\n",
       "      <th>ConductorName</th>\n",
       "      <th>Interval</th>\n",
       "    </tr>\n",
       "  </thead>\n",
       "  <tbody>\n",
       "    <tr>\n",
       "      <th>68528</th>\n",
       "      <td>e4ae00f0-b25c-49b3-ba12-b3532be5cff3</td>\n",
       "      <td>11536</td>\n",
       "      <td>0</td>\n",
       "      <td>NaN</td>\n",
       "      <td>12.0</td>\n",
       "      <td>NaN</td>\n",
       "      <td>NaN</td>\n",
       "      <td>NaN</td>\n",
       "      <td>Intermission</td>\n",
       "    </tr>\n",
       "    <tr>\n",
       "      <th>17457</th>\n",
       "      <td>4054fab1-34a4-4c00-a240-5c9a2b106d03</td>\n",
       "      <td>966</td>\n",
       "      <td>52126</td>\n",
       "      <td>NaN</td>\n",
       "      <td>21.0</td>\n",
       "      <td>SYMPHONY NO. 101, D MAJOR (THE CLOCK)</td>\n",
       "      <td>NaN</td>\n",
       "      <td>Toscanini, Arturo</td>\n",
       "      <td>NaN</td>\n",
       "    </tr>\n",
       "    <tr>\n",
       "      <th>81289</th>\n",
       "      <td>264c57ee-5c3b-4023-8321-020646d3910a</td>\n",
       "      <td>8589</td>\n",
       "      <td>7363</td>\n",
       "      <td>NaN</td>\n",
       "      <td>57.0</td>\n",
       "      <td>CAROL: HARK, THE HERALD ANGELS SING (ARR. Mathes)</td>\n",
       "      <td>NaN</td>\n",
       "      <td>Turnbull, Walter J.</td>\n",
       "      <td>NaN</td>\n",
       "    </tr>\n",
       "    <tr>\n",
       "      <th>48427</th>\n",
       "      <td>ed868d13-3e20-4e28-b23d-007f7d75c60d</td>\n",
       "      <td>13336</td>\n",
       "      <td>53078</td>\n",
       "      <td>NaN</td>\n",
       "      <td>20.0</td>\n",
       "      <td>SYMPHONY NO. 4, D MINOR, OP. 120</td>\n",
       "      <td>NaN</td>\n",
       "      <td>Boulez, Pierre</td>\n",
       "      <td>NaN</td>\n",
       "    </tr>\n",
       "    <tr>\n",
       "      <th>42743</th>\n",
       "      <td>b9961062-a780-4ea5-99e7-c7052261953e</td>\n",
       "      <td>12992</td>\n",
       "      <td>54130</td>\n",
       "      <td>NaN</td>\n",
       "      <td>45.0</td>\n",
       "      <td>FRANCESCA DA RIMINI, OP. 32</td>\n",
       "      <td>NaN</td>\n",
       "      <td>Hoogstraten, Willem van</td>\n",
       "      <td>NaN</td>\n",
       "    </tr>\n",
       "  </tbody>\n",
       "</table>\n",
       "</div>"
      ],
      "text/plain": [
       "                                       GUID  ProgramID  WorkID  MovementID  \\\n",
       "68528  e4ae00f0-b25c-49b3-ba12-b3532be5cff3      11536       0         NaN   \n",
       "17457  4054fab1-34a4-4c00-a240-5c9a2b106d03        966   52126         NaN   \n",
       "81289  264c57ee-5c3b-4023-8321-020646d3910a       8589    7363         NaN   \n",
       "48427  ed868d13-3e20-4e28-b23d-007f7d75c60d      13336   53078         NaN   \n",
       "42743  b9961062-a780-4ea5-99e7-c7052261953e      12992   54130         NaN   \n",
       "\n",
       "       ComposerName                                          WorkTitle  \\\n",
       "68528          12.0                                                NaN   \n",
       "17457          21.0              SYMPHONY NO. 101, D MAJOR (THE CLOCK)   \n",
       "81289          57.0  CAROL: HARK, THE HERALD ANGELS SING (ARR. Mathes)   \n",
       "48427          20.0                   SYMPHONY NO. 4, D MINOR, OP. 120   \n",
       "42743          45.0                        FRANCESCA DA RIMINI, OP. 32   \n",
       "\n",
       "      Movement            ConductorName      Interval  \n",
       "68528      NaN                      NaN  Intermission  \n",
       "17457      NaN        Toscanini, Arturo           NaN  \n",
       "81289      NaN      Turnbull, Walter J.           NaN  \n",
       "48427      NaN           Boulez, Pierre           NaN  \n",
       "42743      NaN  Hoogstraten, Willem van           NaN  "
      ]
     },
     "execution_count": 6,
     "metadata": {},
     "output_type": "execute_result"
    }
   ],
   "source": [
    "X_test_ = encoder.fit_transform(X_test)\n",
    "X_test_.head()"
   ]
  },
  {
   "cell_type": "markdown",
   "metadata": {},
   "source": [
    "Let's re-do our transformer functions so that they can either fit a transformer or accept a pre-fitted one.\n",
    "\n",
    "We have to change our `label_encoder()` first to incorporate this logic. Then we need to adapt `transform_data()`."
   ]
  },
  {
   "cell_type": "code",
   "execution_count": 7,
   "metadata": {},
   "outputs": [
    {
     "name": "stdout",
     "output_type": "stream",
     "text": [
      "Encodings: Marks,  Johnny             1\n",
      "Beethoven,  Ludwig  van    2\n",
      "Debussy,  Claude           3\n",
      "Messiaen,  Olivier         4\n",
      "dtype: int64\n"
     ]
    }
   ],
   "source": [
    "def transform_data(df, encoder=None):\n",
    "    df = df.copy()\n",
    "    df, encoder = (df.pipe(remove_intervals)\n",
    "                     .pipe(label_encoder, 'ComposerName', encoder))\n",
    "    \n",
    "    return df, encoder\n",
    "\n",
    "\n",
    "def label_encoder(df, columns, encoder=None):\n",
    "    if not encoder:\n",
    "        encoder = OrdinalEncoder(cols=[columns])\n",
    "        encoder.fit(df)\n",
    "        \n",
    "    preview_encodings(encoder)\n",
    "\n",
    "    df = df.copy()\n",
    "    df = encoder.transform(df)\n",
    "\n",
    "    return df, encoder\n",
    "\n",
    "    \n",
    "def preview_encodings(encoder):\n",
    "    encodings = encoder.category_mapping[0]['mapping'][:4]\n",
    "    print('Encodings: {}'.format(encodings))\n",
    "    return None\n",
    "\n",
    "X_train_, encoder = transform_data(X_train)"
   ]
  },
  {
   "cell_type": "markdown",
   "metadata": {},
   "source": [
    "In the code above, we changed our functions so that they can receive an encoder. \n",
    "\n",
    "Otherwise, they fit and return the new one for re-use.\n",
    "\n",
    "From a consistency standpoint, things should be looking good. Nonetheless, you are previewing the encoder as a sanity check."
   ]
  },
  {
   "cell_type": "code",
   "execution_count": 8,
   "metadata": {},
   "outputs": [
    {
     "name": "stdout",
     "output_type": "stream",
     "text": [
      "Encodings: Marks,  Johnny             1\n",
      "Beethoven,  Ludwig  van    2\n",
      "Debussy,  Claude           3\n",
      "Messiaen,  Olivier         4\n",
      "dtype: int64\n"
     ]
    }
   ],
   "source": [
    "X_test_ = transform_data(X_test, encoder=encoder)"
   ]
  },
  {
   "cell_type": "markdown",
   "metadata": {},
   "source": [
    "What kind of transformations do you need to perform this way? Some widespread ones are:\n",
    "* Encoding (as we've seen)\n",
    "* Scaling\n",
    "* Vectorization (you will learn about this in the next specialization!)\n",
    "* Missing data imputation.\n",
    "\n",
    "Now, this changes things (right?):\n",
    "* We lose the ability to do method chaining, as we have to return encodings as intermediate outputs\n",
    "* We need to segregate pipelines for training (fit and transform) and test (transform), which adds complexity and it's error-prone.\n",
    "\n",
    "Because we will perform the same transformations on all datasets, storing all the correct steps is critical for reproducibility and consistency.\n",
    "\n",
    "It turns out, scikit-learn provides us with a distinctive take on pipelines, to wrap all of this in a single META-TRANSFORMER.\n",
    "\n",
    "![megazord](./media/megazord.png)\n",
    "\n",
    "*Fig 3. - A meta-transformer in practice.*\n",
    "\n",
    "Meet the Megazord."
   ]
  },
  {
   "cell_type": "markdown",
   "metadata": {},
   "source": [
    "## 3.3 Pipelines\n",
    "\n",
    "The sklearn's `Pipelines` provide a higher level of abstraction than the individual building blocks.\n",
    "\n",
    "Let's tie together all these sequential transformers and run `Megazord.fit()` and `Megazord.transform()` on the whole thing.\n",
    "\n",
    "That would make managing our code much easier, right? Let's do it:\n",
    "* We want to replace the missing values with the mode\n",
    "* We want to one-hot-encode all categorical variables.\n",
    "\n",
    "First things first, some Pandas magic: let's drop the ID columns and exclude the intervals."
   ]
  },
  {
   "cell_type": "code",
   "execution_count": 9,
   "metadata": {},
   "outputs": [
    {
     "data": {
      "text/html": [
       "<div>\n",
       "<style scoped>\n",
       "    .dataframe tbody tr th:only-of-type {\n",
       "        vertical-align: middle;\n",
       "    }\n",
       "\n",
       "    .dataframe tbody tr th {\n",
       "        vertical-align: top;\n",
       "    }\n",
       "\n",
       "    .dataframe thead th {\n",
       "        text-align: right;\n",
       "    }\n",
       "</style>\n",
       "<table border=\"1\" class=\"dataframe\">\n",
       "  <thead>\n",
       "    <tr style=\"text-align: right;\">\n",
       "      <th></th>\n",
       "      <th>ComposerName</th>\n",
       "      <th>WorkTitle</th>\n",
       "      <th>Movement</th>\n",
       "      <th>ConductorName</th>\n",
       "    </tr>\n",
       "  </thead>\n",
       "  <tbody>\n",
       "    <tr>\n",
       "      <th>73108</th>\n",
       "      <td>Marks,  Johnny</td>\n",
       "      <td>RUDOLPH, THE RED-NOSED REINDEER (BRASS) (ARR. ...</td>\n",
       "      <td>NaN</td>\n",
       "      <td>NaN</td>\n",
       "    </tr>\n",
       "    <tr>\n",
       "      <th>64409</th>\n",
       "      <td>Beethoven,  Ludwig  van</td>\n",
       "      <td>CONCERTO, PIANO, NO. 3, C MINOR, OP. 37</td>\n",
       "      <td>Rondo: Allegro</td>\n",
       "      <td>Pelletier, Wilfrid</td>\n",
       "    </tr>\n",
       "    <tr>\n",
       "      <th>6789</th>\n",
       "      <td>Debussy,  Claude</td>\n",
       "      <td>TWO DANCES (ARR. Ravel)</td>\n",
       "      <td>Danse</td>\n",
       "      <td>Buketoff, Igor</td>\n",
       "    </tr>\n",
       "    <tr>\n",
       "      <th>13699</th>\n",
       "      <td>Messiaen,  Olivier</td>\n",
       "      <td>QUATOUR POUR LA FIN DU TEMPS</td>\n",
       "      <td>NaN</td>\n",
       "      <td>NaN</td>\n",
       "    </tr>\n",
       "    <tr>\n",
       "      <th>65280</th>\n",
       "      <td>Stravinsky,  Igor</td>\n",
       "      <td>PETRUSHKA (1911 VERSION)</td>\n",
       "      <td>NaN</td>\n",
       "      <td>Boulez, Pierre</td>\n",
       "    </tr>\n",
       "  </tbody>\n",
       "</table>\n",
       "</div>"
      ],
      "text/plain": [
       "                  ComposerName  \\\n",
       "73108           Marks,  Johnny   \n",
       "64409  Beethoven,  Ludwig  van   \n",
       "6789          Debussy,  Claude   \n",
       "13699       Messiaen,  Olivier   \n",
       "65280        Stravinsky,  Igor   \n",
       "\n",
       "                                               WorkTitle        Movement  \\\n",
       "73108  RUDOLPH, THE RED-NOSED REINDEER (BRASS) (ARR. ...             NaN   \n",
       "64409            CONCERTO, PIANO, NO. 3, C MINOR, OP. 37  Rondo: Allegro   \n",
       "6789                             TWO DANCES (ARR. Ravel)           Danse   \n",
       "13699                       QUATOUR POUR LA FIN DU TEMPS             NaN   \n",
       "65280                           PETRUSHKA (1911 VERSION)             NaN   \n",
       "\n",
       "            ConductorName  \n",
       "73108                 NaN  \n",
       "64409  Pelletier, Wilfrid  \n",
       "6789       Buketoff, Igor  \n",
       "13699                 NaN  \n",
       "65280      Boulez, Pierre  "
      ]
     },
     "execution_count": 9,
     "metadata": {},
     "output_type": "execute_result"
    }
   ],
   "source": [
    "def prepare_data(df):\n",
    "    df = df.copy()\n",
    "    df = (df.pipe(drop_id_fields)\n",
    "            .pipe(remove_intervals)\n",
    "            .drop_duplicates())\n",
    "    return df\n",
    "\n",
    "def drop_id_fields(df):\n",
    "    columns = ['GUID', 'ProgramID', 'WorkID', 'MovementID']\n",
    "    df = df.copy()\n",
    "    df = df.drop(columns=columns)\n",
    "    return df\n",
    "\n",
    "X_train_ = prepare_data(X_train)\n",
    "X_train_.head()"
   ]
  },
  {
   "cell_type": "code",
   "execution_count": 10,
   "metadata": {},
   "outputs": [
    {
     "data": {
      "text/html": [
       "<div>\n",
       "<style scoped>\n",
       "    .dataframe tbody tr th:only-of-type {\n",
       "        vertical-align: middle;\n",
       "    }\n",
       "\n",
       "    .dataframe tbody tr th {\n",
       "        vertical-align: top;\n",
       "    }\n",
       "\n",
       "    .dataframe thead th {\n",
       "        text-align: right;\n",
       "    }\n",
       "</style>\n",
       "<table border=\"1\" class=\"dataframe\">\n",
       "  <thead>\n",
       "    <tr style=\"text-align: right;\">\n",
       "      <th></th>\n",
       "      <th>ComposerName</th>\n",
       "      <th>WorkTitle</th>\n",
       "      <th>Movement</th>\n",
       "      <th>ConductorName</th>\n",
       "    </tr>\n",
       "  </thead>\n",
       "  <tbody>\n",
       "    <tr>\n",
       "      <th>17457</th>\n",
       "      <td>Haydn,  Franz  Joseph</td>\n",
       "      <td>SYMPHONY NO. 101, D MAJOR (THE CLOCK)</td>\n",
       "      <td>NaN</td>\n",
       "      <td>Toscanini, Arturo</td>\n",
       "    </tr>\n",
       "    <tr>\n",
       "      <th>81289</th>\n",
       "      <td>Traditional,</td>\n",
       "      <td>CAROL: HARK, THE HERALD ANGELS SING (ARR. Mathes)</td>\n",
       "      <td>NaN</td>\n",
       "      <td>Turnbull, Walter J.</td>\n",
       "    </tr>\n",
       "    <tr>\n",
       "      <th>48427</th>\n",
       "      <td>Schumann,  Robert</td>\n",
       "      <td>SYMPHONY NO. 4, D MINOR, OP. 120</td>\n",
       "      <td>NaN</td>\n",
       "      <td>Boulez, Pierre</td>\n",
       "    </tr>\n",
       "    <tr>\n",
       "      <th>42743</th>\n",
       "      <td>Tchaikovsky,  Pyotr  Ilyich</td>\n",
       "      <td>FRANCESCA DA RIMINI, OP. 32</td>\n",
       "      <td>NaN</td>\n",
       "      <td>Hoogstraten, Willem van</td>\n",
       "    </tr>\n",
       "    <tr>\n",
       "      <th>80483</th>\n",
       "      <td>Wagner,  Richard</td>\n",
       "      <td>WALKURE, DIE, WWV 86B</td>\n",
       "      <td>Ride of the Valkyries, Act III</td>\n",
       "      <td>Kostelanetz, Andre</td>\n",
       "    </tr>\n",
       "  </tbody>\n",
       "</table>\n",
       "</div>"
      ],
      "text/plain": [
       "                      ComposerName  \\\n",
       "17457        Haydn,  Franz  Joseph   \n",
       "81289                 Traditional,   \n",
       "48427            Schumann,  Robert   \n",
       "42743  Tchaikovsky,  Pyotr  Ilyich   \n",
       "80483             Wagner,  Richard   \n",
       "\n",
       "                                               WorkTitle  \\\n",
       "17457              SYMPHONY NO. 101, D MAJOR (THE CLOCK)   \n",
       "81289  CAROL: HARK, THE HERALD ANGELS SING (ARR. Mathes)   \n",
       "48427                   SYMPHONY NO. 4, D MINOR, OP. 120   \n",
       "42743                        FRANCESCA DA RIMINI, OP. 32   \n",
       "80483                              WALKURE, DIE, WWV 86B   \n",
       "\n",
       "                             Movement            ConductorName  \n",
       "17457                             NaN        Toscanini, Arturo  \n",
       "81289                             NaN      Turnbull, Walter J.  \n",
       "48427                             NaN           Boulez, Pierre  \n",
       "42743                             NaN  Hoogstraten, Willem van  \n",
       "80483  Ride of the Valkyries, Act III       Kostelanetz, Andre  "
      ]
     },
     "execution_count": 10,
     "metadata": {},
     "output_type": "execute_result"
    }
   ],
   "source": [
    "X_test_ = prepare_data(X_test)\n",
    "X_test_.head()"
   ]
  },
  {
   "cell_type": "markdown",
   "metadata": {},
   "source": [
    "Here's how we are going to do:\n",
    "1. Create an `Imputer` that replace missing values with the mode of the column\n",
    "2. Use said `Imputer` to impute the missing values\n",
    "3. Ordinal encode all the categorical features.\n",
    "\n",
    "All in one, single, amazing, Megazord.\n",
    "\n",
    "## 3.4 Custom transformers\n",
    "\n",
    "We can build own custom transformers, for as long as they follow the usual blueprint:\n",
    "* Implement `Transformer.fit()`\n",
    "* And `Transformer.transform()`.\n",
    "\n",
    "All scikit-learn estimators have `get_params()` and `set_params` functions. \n",
    "\n",
    "The easiest way to implement these functions sensibly is to inherit from `sklearn.base.BaseEstimator`, as we're doing.\n",
    "\n",
    "And `Pipeline` compatibility requires a `fit_transform()` method that we are inheriting from `sklearn.base.TransformerMixin`."
   ]
  },
  {
   "cell_type": "code",
   "execution_count": 11,
   "metadata": {},
   "outputs": [],
   "source": [
    "class FeatureMultiplier(BaseEstimator, TransformerMixin):\n",
    "    def __init__(self, some_parameter):\n",
    "        self.some_parameter = some_parameter\n",
    "\n",
    "    def fit(self, X, y=None):\n",
    "        # Fit the transformer and store it.\n",
    "        return self\n",
    "        \n",
    "    def transform(self, X):\n",
    "        # Transform X.\n",
    "        return X"
   ]
  },
  {
   "cell_type": "markdown",
   "metadata": {},
   "source": [
    "Also, we may want our transformer to accept some parameters.\n",
    "\n",
    "That's we are doing when we include `some_parameter` in the `__init__`.\n",
    "\n",
    "Back to our transformers. Our blueprint:\n",
    "* We want the estimator to be able to take a `strategy` parameter, although we will support only the mode\n",
    "* Fitting requires taking the mode of each column and storing it\n",
    "* Transform implies replacing missing values with the given column modes.\n",
    "\n",
    "How are we going to compute the modes? Pandas, as always, provides a convenient `.mode()` method."
   ]
  },
  {
   "cell_type": "code",
   "execution_count": 19,
   "metadata": {},
   "outputs": [
    {
     "data": {
      "text/html": [
       "<div>\n",
       "<style scoped>\n",
       "    .dataframe tbody tr th:only-of-type {\n",
       "        vertical-align: middle;\n",
       "    }\n",
       "\n",
       "    .dataframe tbody tr th {\n",
       "        vertical-align: top;\n",
       "    }\n",
       "\n",
       "    .dataframe thead th {\n",
       "        text-align: right;\n",
       "    }\n",
       "</style>\n",
       "<table border=\"1\" class=\"dataframe\">\n",
       "  <thead>\n",
       "    <tr style=\"text-align: right;\">\n",
       "      <th></th>\n",
       "      <th>GUID</th>\n",
       "      <th>ProgramID</th>\n",
       "      <th>WorkID</th>\n",
       "      <th>MovementID</th>\n",
       "      <th>ComposerName</th>\n",
       "      <th>WorkTitle</th>\n",
       "      <th>Movement</th>\n",
       "      <th>ConductorName</th>\n",
       "      <th>Interval</th>\n",
       "    </tr>\n",
       "  </thead>\n",
       "  <tbody>\n",
       "    <tr>\n",
       "      <th>0</th>\n",
       "      <td>659</td>\n",
       "      <td>9678</td>\n",
       "      <td>0</td>\n",
       "      <td>1.0</td>\n",
       "      <td>11</td>\n",
       "      <td>13</td>\n",
       "      <td>1</td>\n",
       "      <td>1</td>\n",
       "      <td>1</td>\n",
       "    </tr>\n",
       "  </tbody>\n",
       "</table>\n",
       "</div>"
      ],
      "text/plain": [
       "   GUID  ProgramID  WorkID  MovementID  ComposerName  WorkTitle  Movement  \\\n",
       "0   659       9678       0         1.0            11         13         1   \n",
       "\n",
       "   ConductorName  Interval  \n",
       "0              1         1  "
      ]
     },
     "execution_count": 19,
     "metadata": {},
     "output_type": "execute_result"
    }
   ],
   "source": [
    "X_train_.mode()"
   ]
  },
  {
   "cell_type": "markdown",
   "metadata": {},
   "source": [
    "To be able to use indexing we will use `df.squeeze()`, a convenient method to transform our dataframe into a `pd.Series`."
   ]
  },
  {
   "cell_type": "code",
   "execution_count": 13,
   "metadata": {},
   "outputs": [
    {
     "data": {
      "text/plain": [
       "GUID             734c1116-0caf-4f8b-80d0-5e423cd1bcc6\n",
       "ProgramID                                        9678\n",
       "WorkID                                              0\n",
       "MovementID                                          1\n",
       "ComposerName                         Wagner,  Richard\n",
       "WorkTitle                  MEISTERSINGER, DIE, WWV 96\n",
       "Movement                                     Overture\n",
       "ConductorName                        Damrosch, Walter\n",
       "Interval                                 Intermission\n",
       "Name: 0, dtype: object"
      ]
     },
     "execution_count": 13,
     "metadata": {},
     "output_type": "execute_result"
    }
   ],
   "source": [
    "X_train.mode().squeeze()"
   ]
  },
  {
   "cell_type": "markdown",
   "metadata": {},
   "source": [
    "We have everything we need."
   ]
  },
  {
   "cell_type": "code",
   "execution_count": 14,
   "metadata": {},
   "outputs": [
    {
     "data": {
      "text/html": [
       "<div>\n",
       "<style scoped>\n",
       "    .dataframe tbody tr th:only-of-type {\n",
       "        vertical-align: middle;\n",
       "    }\n",
       "\n",
       "    .dataframe tbody tr th {\n",
       "        vertical-align: top;\n",
       "    }\n",
       "\n",
       "    .dataframe thead th {\n",
       "        text-align: right;\n",
       "    }\n",
       "</style>\n",
       "<table border=\"1\" class=\"dataframe\">\n",
       "  <thead>\n",
       "    <tr style=\"text-align: right;\">\n",
       "      <th></th>\n",
       "      <th>ComposerName</th>\n",
       "      <th>WorkTitle</th>\n",
       "      <th>Movement</th>\n",
       "      <th>ConductorName</th>\n",
       "    </tr>\n",
       "  </thead>\n",
       "  <tbody>\n",
       "    <tr>\n",
       "      <th>73108</th>\n",
       "      <td>Marks,  Johnny</td>\n",
       "      <td>RUDOLPH, THE RED-NOSED REINDEER (BRASS) (ARR. ...</td>\n",
       "      <td>Overture</td>\n",
       "      <td>Damrosch, Walter</td>\n",
       "    </tr>\n",
       "    <tr>\n",
       "      <th>64409</th>\n",
       "      <td>Beethoven,  Ludwig  van</td>\n",
       "      <td>CONCERTO, PIANO, NO. 3, C MINOR, OP. 37</td>\n",
       "      <td>Rondo: Allegro</td>\n",
       "      <td>Pelletier, Wilfrid</td>\n",
       "    </tr>\n",
       "    <tr>\n",
       "      <th>6789</th>\n",
       "      <td>Debussy,  Claude</td>\n",
       "      <td>TWO DANCES (ARR. Ravel)</td>\n",
       "      <td>Danse</td>\n",
       "      <td>Buketoff, Igor</td>\n",
       "    </tr>\n",
       "    <tr>\n",
       "      <th>13699</th>\n",
       "      <td>Messiaen,  Olivier</td>\n",
       "      <td>QUATOUR POUR LA FIN DU TEMPS</td>\n",
       "      <td>Overture</td>\n",
       "      <td>Damrosch, Walter</td>\n",
       "    </tr>\n",
       "    <tr>\n",
       "      <th>65280</th>\n",
       "      <td>Stravinsky,  Igor</td>\n",
       "      <td>PETRUSHKA (1911 VERSION)</td>\n",
       "      <td>Overture</td>\n",
       "      <td>Boulez, Pierre</td>\n",
       "    </tr>\n",
       "  </tbody>\n",
       "</table>\n",
       "</div>"
      ],
      "text/plain": [
       "                  ComposerName  \\\n",
       "73108           Marks,  Johnny   \n",
       "64409  Beethoven,  Ludwig  van   \n",
       "6789          Debussy,  Claude   \n",
       "13699       Messiaen,  Olivier   \n",
       "65280        Stravinsky,  Igor   \n",
       "\n",
       "                                               WorkTitle        Movement  \\\n",
       "73108  RUDOLPH, THE RED-NOSED REINDEER (BRASS) (ARR. ...        Overture   \n",
       "64409            CONCERTO, PIANO, NO. 3, C MINOR, OP. 37  Rondo: Allegro   \n",
       "6789                             TWO DANCES (ARR. Ravel)           Danse   \n",
       "13699                       QUATOUR POUR LA FIN DU TEMPS        Overture   \n",
       "65280                           PETRUSHKA (1911 VERSION)        Overture   \n",
       "\n",
       "            ConductorName  \n",
       "73108    Damrosch, Walter  \n",
       "64409  Pelletier, Wilfrid  \n",
       "6789       Buketoff, Igor  \n",
       "13699    Damrosch, Walter  \n",
       "65280      Boulez, Pierre  "
      ]
     },
     "execution_count": 14,
     "metadata": {},
     "output_type": "execute_result"
    }
   ],
   "source": [
    "class CategoryImputer(BaseEstimator, TransformerMixin):\n",
    "    def __init__(self, strategy=None):\n",
    "        if strategy:\n",
    "            self.strategy = strategy\n",
    "        else:\n",
    "            self.strategy = 'most_frequent'\n",
    "\n",
    "    def fit(self, X, y=None):\n",
    "        if self.strategy == 'most_frequent':\n",
    "            self.fills = X.mode(axis=0).squeeze()\n",
    "            return self\n",
    "        else:\n",
    "            return 'Strategy not supported.'\n",
    "\n",
    "    def transform(self, X):\n",
    "        return pd.DataFrame(X).fillna(self.fills)\n",
    "\n",
    "\n",
    "imputer = CategoryImputer()\n",
    "X_train_ = imputer.fit_transform(X_train_)\n",
    "X_train_.head()"
   ]
  },
  {
   "cell_type": "code",
   "execution_count": 15,
   "metadata": {},
   "outputs": [
    {
     "data": {
      "text/plain": [
       "ComposerName     0\n",
       "WorkTitle        0\n",
       "Movement         0\n",
       "ConductorName    0\n",
       "dtype: int64"
      ]
     },
     "execution_count": 15,
     "metadata": {},
     "output_type": "execute_result"
    }
   ],
   "source": [
    "X_train_.isnull().sum()"
   ]
  },
  {
   "cell_type": "markdown",
   "metadata": {},
   "source": [
    "There we go! What about the test set?"
   ]
  },
  {
   "cell_type": "code",
   "execution_count": 16,
   "metadata": {},
   "outputs": [
    {
     "data": {
      "text/plain": [
       "ComposerName     0\n",
       "WorkTitle        0\n",
       "Movement         0\n",
       "ConductorName    0\n",
       "dtype: int64"
      ]
     },
     "execution_count": 16,
     "metadata": {},
     "output_type": "execute_result"
    }
   ],
   "source": [
    "X_test_ = imputer.transform(X_test_)\n",
    "X_test_.isnull().sum()"
   ]
  },
  {
   "cell_type": "markdown",
   "metadata": {},
   "source": [
    "Victory awaits!"
   ]
  },
  {
   "cell_type": "markdown",
   "metadata": {},
   "source": [
    "## 3.5 Everything together\n",
    "\n",
    "Now, we want to fill in missing values and use one-hot-encoding (remember?), all at the same time.\n",
    "\n",
    "We are reaching our destination!"
   ]
  },
  {
   "cell_type": "code",
   "execution_count": 17,
   "metadata": {},
   "outputs": [],
   "source": [
    "megazord = Pipeline([('fill_na', CategoryImputer(strategy='most_frequent')),\n",
    "                     ('encode', OrdinalEncoder())])\n",
    "\n",
    "X_train_ = megazord.fit_transform(X_train)\n",
    "X_test_ = megazord.transform(X_test)"
   ]
  },
  {
   "cell_type": "markdown",
   "metadata": {},
   "source": [
    "This way we abstract all the logic of passing transformers around.\n",
    "\n",
    "Now, can we throw a model in there? Perhaps we can.\n",
    "\n",
    "(But we shouldn't, in a way. Please note that we are exemplifying data wrangling workflows.)"
   ]
  },
  {
   "cell_type": "code",
   "execution_count": 18,
   "metadata": {},
   "outputs": [
    {
     "data": {
      "text/plain": [
       "array([6, 0, 4, ..., 2, 0, 6])"
      ]
     },
     "execution_count": 18,
     "metadata": {},
     "output_type": "execute_result"
    }
   ],
   "source": [
    "megazord = Pipeline([('fill_na', CategoryImputer(strategy='most_frequent')),\n",
    "                     ('encode', OrdinalEncoder()),\n",
    "                     ('k_means', KMeans())])\n",
    "\n",
    "megazord.fit(X_train_)\n",
    "megazord.predict(X_test_)"
   ]
  },
  {
   "cell_type": "markdown",
   "metadata": {},
   "source": [
    "For the sake of simplicity, we are encoding categorical variables as if they were ordinal, instead of using one-hot-encoding, as recommended.\n",
    "\n",
    "Take this for what it is: an example on how to build end-to-end pipelines for modeling in scikit-learn."
   ]
  }
 ],
 "metadata": {
  "kernelspec": {
   "display_name": "Python 3",
   "language": "python",
   "name": "python3"
  },
  "language_info": {
   "codemirror_mode": {
    "name": "ipython",
    "version": 3
   },
   "file_extension": ".py",
   "mimetype": "text/x-python",
   "name": "python",
   "nbconvert_exporter": "python",
   "pygments_lexer": "ipython3",
   "version": "3.7.1"
  }
 },
 "nbformat": 4,
 "nbformat_minor": 2
}
