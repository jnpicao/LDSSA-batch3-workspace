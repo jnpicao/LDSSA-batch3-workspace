{
 "cells": [
  {
   "cell_type": "code",
   "execution_count": 355,
   "metadata": {},
   "outputs": [],
   "source": [
    "# Operating System\n",
    "import os\n",
    "\n",
    "#Pandas and Numpy\n",
    "import pandas as pd\n",
    "import numpy as np\n",
    "\n",
    "#ramdom generator\n",
    "import random\n",
    "\n",
    "# detect file encoding\n",
    "import chardet\n",
    "\n",
    "from sqlalchemy import create_engine\n",
    "\n",
    "# HTTP requests\n",
    "import requests\n",
    "\n",
    "from sklearn.model_selection import train_test_split\n",
    "\n",
    "from sklearn.feature_selection import SelectKBest, chi2\n",
    "\n",
    "from sklearn.pipeline import  Pipeline, make_pipeline, FeatureUnion, make_union\n",
    "from sklearn.base import TransformerMixin, BaseEstimator\n",
    "\n",
    "import category_encoders as ce\n",
    "from sklearn.preprocessing import KBinsDiscretizer, Binarizer\n",
    "\n",
    "from sklearn.ensemble import RandomForestClassifier\n",
    "from sklearn.tree import DecisionTreeClassifier\n",
    "\n",
    "from sklearn.impute import SimpleImputer\n",
    "\n",
    "from sklearn.metrics import precision_score, recall_score, accuracy_score, roc_auc_score, classification_report\n",
    "from sklearn.metrics import roc_curve, precision_recall_curve\n",
    "from sklearn.metrics import confusion_matrix\n",
    "\n",
    "\n",
    "#Plots\n",
    "import matplotlib.pyplot as plt\n",
    "%matplotlib inline\n",
    "\n",
    "# Statistics\n",
    "from scipy.stats import binom_test\n",
    "\n",
    "# Strings\n",
    "import re"
   ]
  },
  {
   "cell_type": "markdown",
   "metadata": {},
   "source": [
    "---"
   ]
  },
  {
   "cell_type": "markdown",
   "metadata": {},
   "source": [
    "# Import submission set"
   ]
  },
  {
   "cell_type": "code",
   "execution_count": 2,
   "metadata": {},
   "outputs": [
    {
     "name": "stdout",
     "output_type": "stream",
     "text": [
      "100 files read\n"
     ]
    }
   ],
   "source": [
    "dir_path = os.path.join('data', 'transformed_data', 'data_test', 'test')\n",
    "#print(dir_path)\n",
    "\n",
    "df_submission = None\n",
    "df_aux = None\n",
    "file_counter = 0\n",
    "\n",
    "for filename in os.listdir(dir_path):\n",
    "    \n",
    "    if filename.endswith(\".xlsx\"): \n",
    "        #print(os.path.join(dir_path, filename))\n",
    "                \n",
    "        df_list = []\n",
    "        # Read two sheets in each file\n",
    "        for sheet in ['sheet_1', 'sheet_2']:            \n",
    "            try:\n",
    "                df_aux = pd.read_excel(os.path.join(dir_path, filename), sheet_name=sheet, index_col=0).sort_index()\n",
    "            except:\n",
    "                print(os.path.join(dir_path, filename))\n",
    "                print(\"{} reading error!\".format(sheet))\n",
    "                break\n",
    "            \n",
    "            df_list.append(df_aux.copy())\n",
    "            del df_aux\n",
    "            \n",
    "        # Confirm both sheets had the same elements\n",
    "        if df_list[0].index.equals(df_list[1].index) == False:\n",
    "            print(\"df_list[0].index doesn't match df_list[1].index\")\n",
    "            break\n",
    "        \n",
    "        # Merge sheets\n",
    "        df_aux_merged = pd.concat(df_list, axis='columns', sort=False)\n",
    "        file_counter += 1\n",
    "        del df_list\n",
    "       \n",
    "    \n",
    "    \n",
    "    if df_submission is None:        \n",
    "        # Se for o 1º ficheiro a ser lido cria a dataframe        \n",
    "        df_submission = df_aux_merged.copy()\n",
    "        del df_aux_merged        \n",
    "    else:\n",
    "        \n",
    "        # Confirmar se tem as mesmas colunas\n",
    "        if df_submission.columns.equals(df_aux_merged.columns):\n",
    "            df_submission = df_submission.append(df_aux_merged)\n",
    "            del df_aux_merged\n",
    "            \n",
    "        else:\n",
    "            print(os.path.join(dir_path, filename))\n",
    "            print(\"File columns doesn't match with existing df_submission.\")\n",
    "            break\n",
    "\n",
    "\n",
    "df_submission = df_submission.sort_index()\n",
    "# Confirm that it is equal to the sample submission ids\n",
    "try: \n",
    "    df_aux = pd.read_csv(os.path.join('data', 'sample_submission.csv'), index_col=0).sort_index()\n",
    "except:\n",
    "    print(\"Unable to read '{}' file\".format(os.path.join('data', 'sample_submission.csv')))\n",
    "                         \n",
    "if df_submission.index.equals(df_aux.index) == False:\n",
    "    print(\"ERROR!!! df_submission ids are not equal to 'sample_submission.csv' ids\")\n",
    "                        \n",
    "print(\"{} files read\".format(file_counter))"
   ]
  },
  {
   "cell_type": "code",
   "execution_count": 3,
   "metadata": {
    "scrolled": true
   },
   "outputs": [
    {
     "name": "stdout",
     "output_type": "stream",
     "text": [
      "<class 'pandas.core.frame.DataFrame'>\n",
      "Index: 93310 entries, 00007c55a9a7591b98a76d79216c9112 to ffff9979c9699b51cb7cda98e5bf84c2\n",
      "Data columns (total 30 columns):\n",
      "orderportalid             93310 non-null int64\n",
      "orderdate_gmt             93310 non-null object\n",
      "designer                  93310 non-null int64\n",
      "style                     93310 non-null int64\n",
      "shipper                   93310 non-null int64\n",
      "shiptypeid                93310 non-null int64\n",
      "userid                    93202 non-null float64\n",
      "isvip                     93202 non-null object\n",
      "country                   93310 non-null int64\n",
      "region                    93310 non-null int64\n",
      "ddprate                   93310 non-null float64\n",
      "countrycode               93310 non-null int64\n",
      "hasusedwishlist           93202 non-null object\n",
      "isreseller                93202 non-null object\n",
      "hasitemsonbag             93202 non-null object\n",
      "tierafterorder            85809 non-null object\n",
      "tierbeforeorder           57397 non-null object\n",
      "isusingmultipledevices    93202 non-null object\n",
      "userfraudstatus           93310 non-null int64\n",
      "promocode                 93310 non-null int64\n",
      "freereturn                93310 non-null int64\n",
      "issale                    93310 non-null object\n",
      "productid                 93310 non-null int64\n",
      "brand                     93310 non-null int64\n",
      "ddpsubcategory            86070 non-null object\n",
      "storeid                   93310 non-null int64\n",
      "countryoforigin           93310 non-null int64\n",
      "size                      93310 non-null int64\n",
      "category_1stlevel         93194 non-null object\n",
      "platform                  73496 non-null object\n",
      "dtypes: float64(2), int64(16), object(12)\n",
      "memory usage: 22.1+ MB\n"
     ]
    }
   ],
   "source": [
    "df_submission.info()"
   ]
  },
  {
   "cell_type": "code",
   "execution_count": 17,
   "metadata": {},
   "outputs": [
    {
     "data": {
      "text/plain": [
       "pandas.core.series.Series"
      ]
     },
     "execution_count": 17,
     "metadata": {},
     "output_type": "execute_result"
    }
   ],
   "source": [
    "type(df_submission.dtypes)"
   ]
  },
  {
   "cell_type": "markdown",
   "metadata": {},
   "source": [
    "---"
   ]
  },
  {
   "cell_type": "markdown",
   "metadata": {},
   "source": [
    "---"
   ]
  },
  {
   "cell_type": "markdown",
   "metadata": {},
   "source": [
    "# Querying SQL database - target"
   ]
  },
  {
   "cell_type": "code",
   "execution_count": 201,
   "metadata": {},
   "outputs": [],
   "source": [
    "host = 'data-wrangling-batch3.cl9uj9cucww7.eu-west-1.rds.amazonaws.com'\n",
    "port = 5432\n",
    "database = 'datawrangling'\n",
    "user = 'ldsa_student'\n",
    "password = 'JGIYc6jD' # replace with the datab ase password!"
   ]
  },
  {
   "cell_type": "code",
   "execution_count": 205,
   "metadata": {},
   "outputs": [],
   "source": [
    "# Db settings - PostgreSQL\n",
    "username = 'ldsa_student'\n",
    "password = 'JGIYc6jD'  # the password is not XXX by the way\n",
    "host_name = 'data-wrangling-batch3.cl9uj9cucww7.eu-west-1.rds.amazonaws.com'\n",
    "port = 5432\n",
    "db_name = 'datawrangling'\n",
    "schema = 'hackathon_students'\n",
    "\n",
    "conn_str = 'postgresql://{}:{}@{}:{}/{}'.format(username, password, host_name, port, db_name)\n",
    "conn_args = {'options': '-csearch_path={}'.format(schema)}"
   ]
  },
  {
   "cell_type": "code",
   "execution_count": 209,
   "metadata": {},
   "outputs": [],
   "source": [
    "engine = create_engine(conn_str, connect_args=conn_args)"
   ]
  },
  {
   "cell_type": "code",
   "execution_count": 210,
   "metadata": {},
   "outputs": [],
   "source": [
    "query = 'SELECT * FROM hackathon_students.targets;'\n",
    "targets = pd.read_sql_query(query, engine)"
   ]
  },
  {
   "cell_type": "code",
   "execution_count": 272,
   "metadata": {},
   "outputs": [],
   "source": [
    "df_target = targets.set_index('id').sort_index()"
   ]
  },
  {
   "cell_type": "code",
   "execution_count": 273,
   "metadata": {
    "scrolled": true
   },
   "outputs": [
    {
     "name": "stdout",
     "output_type": "stream",
     "text": [
      "<class 'pandas.core.frame.DataFrame'>\n",
      "Index: 543341 entries, 00003e3b9e5336685200ae85d21b4f5e to fffffe98d0963d27015c198262d97221\n",
      "Data columns (total 1 columns):\n",
      "returned    543341 non-null int64\n",
      "dtypes: int64(1)\n",
      "memory usage: 8.3+ MB\n"
     ]
    }
   ],
   "source": [
    "df_target.info()"
   ]
  },
  {
   "cell_type": "markdown",
   "metadata": {},
   "source": [
    "---"
   ]
  },
  {
   "cell_type": "markdown",
   "metadata": {},
   "source": [
    "---"
   ]
  },
  {
   "cell_type": "markdown",
   "metadata": {},
   "source": [
    "# Import data source 1  \n",
    "### ['tierafterorder', 'orderportalid', 'size', 'orderdate_gmt', 'hasusedwishlist']"
   ]
  },
  {
   "cell_type": "code",
   "execution_count": 215,
   "metadata": {
    "scrolled": true
   },
   "outputs": [
    {
     "data": {
      "text/plain": [
       "{'encoding': 'windows-1251',\n",
       " 'confidence': 0.5730969056434915,\n",
       " 'language': 'Bulgarian'}"
      ]
     },
     "execution_count": 215,
     "metadata": {},
     "output_type": "execute_result"
    }
   ],
   "source": [
    "file_path = os.path.join('data', 'datasource1.csv')\n",
    "\n",
    "with open(file_path, 'rb') as f:\n",
    "    read_nbytes = 100000\n",
    "    encoding_dict = chardet.detect(f.read(read_nbytes))\n",
    "\n",
    "encoding_dict"
   ]
  },
  {
   "cell_type": "markdown",
   "metadata": {},
   "source": [
    "### Read the file"
   ]
  },
  {
   "cell_type": "code",
   "execution_count": 289,
   "metadata": {},
   "outputs": [],
   "source": [
    "df1 = pd.read_csv(os.path.join('data', 'datasource1.csv'), encoding=file_encod, index_col=0).sort_index()"
   ]
  },
  {
   "cell_type": "code",
   "execution_count": 290,
   "metadata": {},
   "outputs": [],
   "source": [
    "df1 = df1.loc[:,['tierafterorder', 'orderportalid', 'size', 'orderdate_gmt', 'hasusedwishlist']]"
   ]
  },
  {
   "cell_type": "code",
   "execution_count": 291,
   "metadata": {
    "scrolled": false
   },
   "outputs": [
    {
     "name": "stdout",
     "output_type": "stream",
     "text": [
      "<class 'pandas.core.frame.DataFrame'>\n",
      "Index: 543341 entries, 00003e3b9e5336685200ae85d21b4f5e to fffffe98d0963d27015c198262d97221\n",
      "Data columns (total 5 columns):\n",
      "tierafterorder     511877 non-null object\n",
      "orderportalid      543341 non-null object\n",
      "size               543341 non-null object\n",
      "orderdate_gmt      543341 non-null object\n",
      "hasusedwishlist    542659 non-null object\n",
      "dtypes: object(5)\n",
      "memory usage: 24.9+ MB\n"
     ]
    }
   ],
   "source": [
    "df1.info()"
   ]
  },
  {
   "cell_type": "markdown",
   "metadata": {},
   "source": [
    "# Import data source 2  \n",
    "### ['shipper', 'productid', 'isreseller', 'issale', 'category_1stlevel']"
   ]
  },
  {
   "cell_type": "markdown",
   "metadata": {},
   "source": [
    "### Read the file"
   ]
  },
  {
   "cell_type": "code",
   "execution_count": 235,
   "metadata": {},
   "outputs": [],
   "source": [
    "df2 = pd.read_json(os.path.join('data', 'datasource2.json'), orient='split').sort_index()"
   ]
  },
  {
   "cell_type": "code",
   "execution_count": 236,
   "metadata": {
    "scrolled": true
   },
   "outputs": [
    {
     "name": "stdout",
     "output_type": "stream",
     "text": [
      "<class 'pandas.core.frame.DataFrame'>\n",
      "Index: 543341 entries, 00003e3b9e5336685200ae85d21b4f5e to fffffe98d0963d27015c198262d97221\n",
      "Data columns (total 5 columns):\n",
      "shipper              543341 non-null object\n",
      "productid            543341 non-null object\n",
      "isreseller           542659 non-null object\n",
      "issale               543341 non-null object\n",
      "category_1stlevel    542729 non-null object\n",
      "dtypes: object(5)\n",
      "memory usage: 24.9+ MB\n"
     ]
    }
   ],
   "source": [
    "df2.info()"
   ]
  },
  {
   "cell_type": "markdown",
   "metadata": {},
   "source": [
    "# Import data source 3  \n",
    "### ['tierbeforeorder' 'ddprate' 'platform' 'style' 'region']"
   ]
  },
  {
   "cell_type": "markdown",
   "metadata": {},
   "source": [
    "### Read the file"
   ]
  },
  {
   "cell_type": "code",
   "execution_count": 238,
   "metadata": {},
   "outputs": [],
   "source": [
    "df3 = pd.read_csv(os.path.join('data', 'datasource3.csv'), sep='|', index_col=0).sort_index()"
   ]
  },
  {
   "cell_type": "code",
   "execution_count": 239,
   "metadata": {
    "scrolled": false
   },
   "outputs": [
    {
     "name": "stdout",
     "output_type": "stream",
     "text": [
      "<class 'pandas.core.frame.DataFrame'>\n",
      "Index: 543341 entries, 00003e3b9e5336685200ae85d21b4f5e to fffffe98d0963d27015c198262d97221\n",
      "Data columns (total 5 columns):\n",
      "tierbeforeorder    369989 non-null object\n",
      "ddprate            543341 non-null object\n",
      "platform           455463 non-null object\n",
      "style              543341 non-null object\n",
      "region             543341 non-null object\n",
      "dtypes: object(5)\n",
      "memory usage: 24.9+ MB\n"
     ]
    }
   ],
   "source": [
    "df3.info()"
   ]
  },
  {
   "cell_type": "code",
   "execution_count": 240,
   "metadata": {},
   "outputs": [
    {
     "name": "stdout",
     "output_type": "stream",
     "text": [
      "['tierbeforeorder' 'ddprate' 'platform' 'style' 'region']\n"
     ]
    }
   ],
   "source": [
    "print(df3.columns.values)"
   ]
  },
  {
   "cell_type": "markdown",
   "metadata": {},
   "source": [
    "# Import data source 4\n",
    "### ['isusingmultipledevices', 'freereturn', 'userid']"
   ]
  },
  {
   "cell_type": "markdown",
   "metadata": {},
   "source": [
    "### Read the file"
   ]
  },
  {
   "cell_type": "code",
   "execution_count": 241,
   "metadata": {},
   "outputs": [],
   "source": [
    "df4 = pd.read_html(os.path.join('data', 'datasource4.html'), attrs = {'class': 'dataframe'})"
   ]
  },
  {
   "cell_type": "code",
   "execution_count": 244,
   "metadata": {},
   "outputs": [],
   "source": [
    "df4 = df4[0]"
   ]
  },
  {
   "cell_type": "code",
   "execution_count": 245,
   "metadata": {},
   "outputs": [],
   "source": [
    "df4.columns = df4.columns.droplevel(level=0)"
   ]
  },
  {
   "cell_type": "code",
   "execution_count": 247,
   "metadata": {},
   "outputs": [],
   "source": [
    "df4 = df4.set_index('id').sort_index()"
   ]
  },
  {
   "cell_type": "code",
   "execution_count": 249,
   "metadata": {},
   "outputs": [],
   "source": [
    "df4.columns =  ['isusingmultipledevices', 'freereturn', 'userid']"
   ]
  },
  {
   "cell_type": "code",
   "execution_count": 250,
   "metadata": {
    "scrolled": true
   },
   "outputs": [
    {
     "name": "stdout",
     "output_type": "stream",
     "text": [
      "<class 'pandas.core.frame.DataFrame'>\n",
      "Index: 543341 entries, 00003e3b9e5336685200ae85d21b4f5e to fffffe98d0963d27015c198262d97221\n",
      "Data columns (total 3 columns):\n",
      "isusingmultipledevices    542659 non-null object\n",
      "freereturn                543341 non-null object\n",
      "userid                    542659 non-null object\n",
      "dtypes: object(3)\n",
      "memory usage: 16.6+ MB\n"
     ]
    }
   ],
   "source": [
    "df4.info()"
   ]
  },
  {
   "cell_type": "markdown",
   "metadata": {},
   "source": [
    "# Import data source 5  \n",
    "### ['isvip', 'brand', 'promocode', 'designer']"
   ]
  },
  {
   "cell_type": "markdown",
   "metadata": {},
   "source": [
    "### Read the file"
   ]
  },
  {
   "cell_type": "code",
   "execution_count": 254,
   "metadata": {},
   "outputs": [],
   "source": [
    "df5 = pd.read_json(os.path.join('data', 'datasource5.csv'), orient='columns').sort_index()"
   ]
  },
  {
   "cell_type": "code",
   "execution_count": 255,
   "metadata": {
    "scrolled": true
   },
   "outputs": [
    {
     "name": "stdout",
     "output_type": "stream",
     "text": [
      "<class 'pandas.core.frame.DataFrame'>\n",
      "Index: 543341 entries, 00003e3b9e5336685200ae85d21b4f5e to fffffe98d0963d27015c198262d97221\n",
      "Data columns (total 4 columns):\n",
      "isvip        542659 non-null object\n",
      "brand        543341 non-null object\n",
      "promocode    543341 non-null object\n",
      "designer     543341 non-null object\n",
      "dtypes: object(4)\n",
      "memory usage: 20.7+ MB\n"
     ]
    }
   ],
   "source": [
    "df5.info()"
   ]
  },
  {
   "cell_type": "code",
   "execution_count": 257,
   "metadata": {},
   "outputs": [
    {
     "data": {
      "text/plain": [
       "array(['isvip', 'brand', 'promocode', 'designer'], dtype=object)"
      ]
     },
     "execution_count": 257,
     "metadata": {},
     "output_type": "execute_result"
    }
   ],
   "source": [
    "df5.columns.values"
   ]
  },
  {
   "cell_type": "markdown",
   "metadata": {},
   "source": [
    "# Import data source 6"
   ]
  },
  {
   "cell_type": "code",
   "execution_count": null,
   "metadata": {},
   "outputs": [],
   "source": []
  },
  {
   "cell_type": "code",
   "execution_count": null,
   "metadata": {},
   "outputs": [],
   "source": []
  },
  {
   "cell_type": "code",
   "execution_count": null,
   "metadata": {},
   "outputs": [],
   "source": []
  },
  {
   "cell_type": "code",
   "execution_count": null,
   "metadata": {},
   "outputs": [],
   "source": []
  },
  {
   "cell_type": "code",
   "execution_count": null,
   "metadata": {},
   "outputs": [],
   "source": []
  },
  {
   "cell_type": "markdown",
   "metadata": {},
   "source": [
    "# Import data source 7  \n",
    "### ['countrycode','countryoforigin','userfraudstatus']"
   ]
  },
  {
   "cell_type": "markdown",
   "metadata": {},
   "source": [
    "### Read the file"
   ]
  },
  {
   "cell_type": "code",
   "execution_count": 263,
   "metadata": {},
   "outputs": [],
   "source": [
    "df7 = pd.read_csv(os.path.join('data', 'datasource7.csv'), index_col=0).sort_index()"
   ]
  },
  {
   "cell_type": "code",
   "execution_count": 268,
   "metadata": {},
   "outputs": [],
   "source": [
    "df7 = df7.loc[:,['countrycode','countryoforigin','userfraudstatus']]"
   ]
  },
  {
   "cell_type": "code",
   "execution_count": 269,
   "metadata": {
    "scrolled": true
   },
   "outputs": [
    {
     "name": "stdout",
     "output_type": "stream",
     "text": [
      "<class 'pandas.core.frame.DataFrame'>\n",
      "Index: 543342 entries, 00003e3b9e5336685200ae85d21b4f5e to squirrel\n",
      "Data columns (total 3 columns):\n",
      "countrycode        543342 non-null object\n",
      "countryoforigin    543342 non-null object\n",
      "userfraudstatus    543342 non-null object\n",
      "dtypes: object(3)\n",
      "memory usage: 36.6+ MB\n"
     ]
    }
   ],
   "source": [
    "df7.info()"
   ]
  },
  {
   "cell_type": "markdown",
   "metadata": {},
   "source": [
    "---"
   ]
  },
  {
   "cell_type": "markdown",
   "metadata": {},
   "source": [
    "---"
   ]
  },
  {
   "cell_type": "markdown",
   "metadata": {},
   "source": [
    "---"
   ]
  },
  {
   "cell_type": "markdown",
   "metadata": {},
   "source": [
    "# Join target and local files databases"
   ]
  },
  {
   "cell_type": "code",
   "execution_count": 293,
   "metadata": {},
   "outputs": [],
   "source": [
    "df_total = (df_target.join(df1)\n",
    "                     .join(df2)\n",
    "                     .join(df3)\n",
    "                     .join(df4)\n",
    "                     .join(df5)\n",
    "                     .join(df7))"
   ]
  },
  {
   "cell_type": "code",
   "execution_count": 294,
   "metadata": {},
   "outputs": [
    {
     "name": "stdout",
     "output_type": "stream",
     "text": [
      "<class 'pandas.core.frame.DataFrame'>\n",
      "Index: 543341 entries, 00003e3b9e5336685200ae85d21b4f5e to fffffe98d0963d27015c198262d97221\n",
      "Data columns (total 26 columns):\n",
      "returned                  543341 non-null int64\n",
      "tierafterorder            511877 non-null object\n",
      "orderportalid             543341 non-null object\n",
      "size                      543341 non-null object\n",
      "orderdate_gmt             543341 non-null object\n",
      "hasusedwishlist           542659 non-null object\n",
      "shipper                   543341 non-null object\n",
      "productid                 543341 non-null object\n",
      "isreseller                542659 non-null object\n",
      "issale                    543341 non-null object\n",
      "category_1stlevel         542729 non-null object\n",
      "tierbeforeorder           369989 non-null object\n",
      "ddprate                   543341 non-null object\n",
      "platform                  455463 non-null object\n",
      "style                     543341 non-null object\n",
      "region                    543341 non-null object\n",
      "isusingmultipledevices    542659 non-null object\n",
      "freereturn                543341 non-null object\n",
      "userid                    542659 non-null object\n",
      "isvip                     542659 non-null object\n",
      "brand                     543341 non-null object\n",
      "promocode                 543341 non-null object\n",
      "designer                  543341 non-null object\n",
      "countrycode               543341 non-null object\n",
      "countryoforigin           543341 non-null object\n",
      "userfraudstatus           543341 non-null object\n",
      "dtypes: int64(1), object(25)\n",
      "memory usage: 131.9+ MB\n"
     ]
    }
   ],
   "source": [
    "df_total.info()"
   ]
  },
  {
   "cell_type": "markdown",
   "metadata": {},
   "source": [
    "---"
   ]
  },
  {
   "cell_type": "markdown",
   "metadata": {},
   "source": [
    "# Data preprocessing"
   ]
  },
  {
   "cell_type": "markdown",
   "metadata": {},
   "source": [
    "#### Check missing columns"
   ]
  },
  {
   "cell_type": "code",
   "execution_count": 295,
   "metadata": {},
   "outputs": [
    {
     "data": {
      "text/plain": [
       "['shiptypeid', 'country', 'hasitemsonbag', 'ddpsubcategory', 'storeid']"
      ]
     },
     "execution_count": 295,
     "metadata": {},
     "output_type": "execute_result"
    }
   ],
   "source": [
    "cols_missing = [col for col in df_submission.columns if col not in df_total.columns]\n",
    "cols_missing"
   ]
  },
  {
   "cell_type": "markdown",
   "metadata": {},
   "source": [
    "#### Create a copy of the complete dataframa"
   ]
  },
  {
   "cell_type": "code",
   "execution_count": 422,
   "metadata": {},
   "outputs": [],
   "source": [
    "df_clean = df_total.drop(columns='returned').copy()"
   ]
  },
  {
   "cell_type": "markdown",
   "metadata": {},
   "source": [
    "#### Drop observations with data missing from API and Website"
   ]
  },
  {
   "cell_type": "code",
   "execution_count": 423,
   "metadata": {},
   "outputs": [],
   "source": [
    "df_clean = df_clean.mask(lambda x: x==\"API\").mask(lambda x: x==\"WEBSITE\").dropna(how='all')"
   ]
  },
  {
   "cell_type": "markdown",
   "metadata": {},
   "source": [
    "#### Duplicates"
   ]
  },
  {
   "cell_type": "markdown",
   "metadata": {},
   "source": [
    "Even if there are duplicates, we will leave them all in the dataframe because the ids are different. "
   ]
  },
  {
   "cell_type": "code",
   "execution_count": 424,
   "metadata": {
    "scrolled": false
   },
   "outputs": [
    {
     "data": {
      "text/html": [
       "<div>\n",
       "<style scoped>\n",
       "    .dataframe tbody tr th:only-of-type {\n",
       "        vertical-align: middle;\n",
       "    }\n",
       "\n",
       "    .dataframe tbody tr th {\n",
       "        vertical-align: top;\n",
       "    }\n",
       "\n",
       "    .dataframe thead th {\n",
       "        text-align: right;\n",
       "    }\n",
       "</style>\n",
       "<table border=\"1\" class=\"dataframe\">\n",
       "  <thead>\n",
       "    <tr style=\"text-align: right;\">\n",
       "      <th></th>\n",
       "      <th>tierafterorder</th>\n",
       "      <th>orderportalid</th>\n",
       "      <th>size</th>\n",
       "      <th>orderdate_gmt</th>\n",
       "      <th>hasusedwishlist</th>\n",
       "      <th>shipper</th>\n",
       "      <th>productid</th>\n",
       "      <th>isreseller</th>\n",
       "      <th>issale</th>\n",
       "      <th>category_1stlevel</th>\n",
       "      <th>...</th>\n",
       "      <th>isusingmultipledevices</th>\n",
       "      <th>freereturn</th>\n",
       "      <th>userid</th>\n",
       "      <th>isvip</th>\n",
       "      <th>brand</th>\n",
       "      <th>promocode</th>\n",
       "      <th>designer</th>\n",
       "      <th>countrycode</th>\n",
       "      <th>countryoforigin</th>\n",
       "      <th>userfraudstatus</th>\n",
       "    </tr>\n",
       "    <tr>\n",
       "      <th>id</th>\n",
       "      <th></th>\n",
       "      <th></th>\n",
       "      <th></th>\n",
       "      <th></th>\n",
       "      <th></th>\n",
       "      <th></th>\n",
       "      <th></th>\n",
       "      <th></th>\n",
       "      <th></th>\n",
       "      <th></th>\n",
       "      <th></th>\n",
       "      <th></th>\n",
       "      <th></th>\n",
       "      <th></th>\n",
       "      <th></th>\n",
       "      <th></th>\n",
       "      <th></th>\n",
       "      <th></th>\n",
       "      <th></th>\n",
       "      <th></th>\n",
       "      <th></th>\n",
       "    </tr>\n",
       "  </thead>\n",
       "  <tbody>\n",
       "    <tr>\n",
       "      <th>c410003ef13d451727aeff9082c29a5c</th>\n",
       "      <td>T3</td>\n",
       "      <td>295</td>\n",
       "      <td>26</td>\n",
       "      <td>2018-01-01 02:19:39.903000+00:00</td>\n",
       "      <td>No</td>\n",
       "      <td>4</td>\n",
       "      <td>429</td>\n",
       "      <td>No</td>\n",
       "      <td>No</td>\n",
       "      <td>Shoes</td>\n",
       "      <td>...</td>\n",
       "      <td>No</td>\n",
       "      <td>1</td>\n",
       "      <td>285</td>\n",
       "      <td>Not VIP</td>\n",
       "      <td>92</td>\n",
       "      <td>1</td>\n",
       "      <td>425</td>\n",
       "      <td>14</td>\n",
       "      <td>1</td>\n",
       "      <td>3</td>\n",
       "    </tr>\n",
       "    <tr>\n",
       "      <th>35051070e572e47d2c26c241ab88307f</th>\n",
       "      <td>T3</td>\n",
       "      <td>295</td>\n",
       "      <td>26</td>\n",
       "      <td>2018-01-01 02:19:39.903000+00:00</td>\n",
       "      <td>No</td>\n",
       "      <td>4</td>\n",
       "      <td>429</td>\n",
       "      <td>No</td>\n",
       "      <td>No</td>\n",
       "      <td>Shoes</td>\n",
       "      <td>...</td>\n",
       "      <td>No</td>\n",
       "      <td>1</td>\n",
       "      <td>285</td>\n",
       "      <td>Not VIP</td>\n",
       "      <td>92</td>\n",
       "      <td>1</td>\n",
       "      <td>425</td>\n",
       "      <td>14</td>\n",
       "      <td>1</td>\n",
       "      <td>3</td>\n",
       "    </tr>\n",
       "    <tr>\n",
       "      <th>2f55707d4193dc27118a0f19a1985716</th>\n",
       "      <td>T3</td>\n",
       "      <td>295</td>\n",
       "      <td>26</td>\n",
       "      <td>2018-01-01 02:19:39.903000+00:00</td>\n",
       "      <td>No</td>\n",
       "      <td>4</td>\n",
       "      <td>429</td>\n",
       "      <td>No</td>\n",
       "      <td>No</td>\n",
       "      <td>Shoes</td>\n",
       "      <td>...</td>\n",
       "      <td>No</td>\n",
       "      <td>1</td>\n",
       "      <td>285</td>\n",
       "      <td>Not VIP</td>\n",
       "      <td>92</td>\n",
       "      <td>1</td>\n",
       "      <td>425</td>\n",
       "      <td>14</td>\n",
       "      <td>1</td>\n",
       "      <td>3</td>\n",
       "    </tr>\n",
       "    <tr>\n",
       "      <th>559cb990c9dffd8675f6bc2186971dc2</th>\n",
       "      <td>T3</td>\n",
       "      <td>295</td>\n",
       "      <td>26</td>\n",
       "      <td>2018-01-01 02:19:39.903000+00:00</td>\n",
       "      <td>No</td>\n",
       "      <td>4</td>\n",
       "      <td>429</td>\n",
       "      <td>No</td>\n",
       "      <td>No</td>\n",
       "      <td>Shoes</td>\n",
       "      <td>...</td>\n",
       "      <td>No</td>\n",
       "      <td>1</td>\n",
       "      <td>285</td>\n",
       "      <td>Not VIP</td>\n",
       "      <td>92</td>\n",
       "      <td>1</td>\n",
       "      <td>425</td>\n",
       "      <td>14</td>\n",
       "      <td>1</td>\n",
       "      <td>3</td>\n",
       "    </tr>\n",
       "    <tr>\n",
       "      <th>e3251075554389fe91d17a794861d47b</th>\n",
       "      <td>T3</td>\n",
       "      <td>676</td>\n",
       "      <td>14</td>\n",
       "      <td>2018-01-01 05:28:05.813000+00:00</td>\n",
       "      <td>Yes</td>\n",
       "      <td>2</td>\n",
       "      <td>1055</td>\n",
       "      <td>No</td>\n",
       "      <td>No</td>\n",
       "      <td>Clothing</td>\n",
       "      <td>...</td>\n",
       "      <td>No</td>\n",
       "      <td>1</td>\n",
       "      <td>650</td>\n",
       "      <td>Not VIP</td>\n",
       "      <td>46</td>\n",
       "      <td>1</td>\n",
       "      <td>1035</td>\n",
       "      <td>3</td>\n",
       "      <td>21</td>\n",
       "      <td>3</td>\n",
       "    </tr>\n",
       "    <tr>\n",
       "      <th>fa1e9c965314ccd7810fb5ea838303e5</th>\n",
       "      <td>T1</td>\n",
       "      <td>808</td>\n",
       "      <td>150</td>\n",
       "      <td>2018-01-01 06:40:08.226000+00:00</td>\n",
       "      <td>Yes</td>\n",
       "      <td>4</td>\n",
       "      <td>1257</td>\n",
       "      <td>Yes</td>\n",
       "      <td>No</td>\n",
       "      <td>Clothing</td>\n",
       "      <td>...</td>\n",
       "      <td>Yes</td>\n",
       "      <td>1</td>\n",
       "      <td>775</td>\n",
       "      <td>Not VIP</td>\n",
       "      <td>46</td>\n",
       "      <td>1</td>\n",
       "      <td>56</td>\n",
       "      <td>45</td>\n",
       "      <td>21</td>\n",
       "      <td>3</td>\n",
       "    </tr>\n",
       "    <tr>\n",
       "      <th>621fbd17da27241c58015eabe4164a52</th>\n",
       "      <td>T4</td>\n",
       "      <td>1932</td>\n",
       "      <td>1</td>\n",
       "      <td>2018-01-01 13:47:19.400000+00:00</td>\n",
       "      <td>No</td>\n",
       "      <td>5</td>\n",
       "      <td>319</td>\n",
       "      <td>No</td>\n",
       "      <td>No</td>\n",
       "      <td>Accessories</td>\n",
       "      <td>...</td>\n",
       "      <td>No</td>\n",
       "      <td>1</td>\n",
       "      <td>1851</td>\n",
       "      <td>Not VIP</td>\n",
       "      <td>87</td>\n",
       "      <td>1</td>\n",
       "      <td>317</td>\n",
       "      <td>4</td>\n",
       "      <td>2</td>\n",
       "      <td>4</td>\n",
       "    </tr>\n",
       "    <tr>\n",
       "      <th>31ca0ca71184bbdb3de7b20a51e88e90</th>\n",
       "      <td>T4</td>\n",
       "      <td>1932</td>\n",
       "      <td>1</td>\n",
       "      <td>2018-01-01 13:47:19.400000+00:00</td>\n",
       "      <td>No</td>\n",
       "      <td>5</td>\n",
       "      <td>319</td>\n",
       "      <td>No</td>\n",
       "      <td>No</td>\n",
       "      <td>Accessories</td>\n",
       "      <td>...</td>\n",
       "      <td>No</td>\n",
       "      <td>1</td>\n",
       "      <td>1851</td>\n",
       "      <td>Not VIP</td>\n",
       "      <td>87</td>\n",
       "      <td>1</td>\n",
       "      <td>317</td>\n",
       "      <td>4</td>\n",
       "      <td>2</td>\n",
       "      <td>4</td>\n",
       "    </tr>\n",
       "    <tr>\n",
       "      <th>5d2c2cee8ab0b9a36bd1ed7196bd6c4a</th>\n",
       "      <td>VIP</td>\n",
       "      <td>1951</td>\n",
       "      <td>324</td>\n",
       "      <td>2018-01-01 13:52:23.023000+00:00</td>\n",
       "      <td>Yes</td>\n",
       "      <td>5</td>\n",
       "      <td>1298</td>\n",
       "      <td>Yes</td>\n",
       "      <td>Yes</td>\n",
       "      <td>Shoes</td>\n",
       "      <td>...</td>\n",
       "      <td>Yes</td>\n",
       "      <td>1</td>\n",
       "      <td>1869</td>\n",
       "      <td>Not VIP</td>\n",
       "      <td>99</td>\n",
       "      <td>1</td>\n",
       "      <td>1269</td>\n",
       "      <td>16</td>\n",
       "      <td>23</td>\n",
       "      <td>6</td>\n",
       "    </tr>\n",
       "    <tr>\n",
       "      <th>8068fee5f49946b3a8f85b1007cd40bb</th>\n",
       "      <td>VIP</td>\n",
       "      <td>2175</td>\n",
       "      <td>54</td>\n",
       "      <td>2018-01-01 14:51:41.520000+00:00</td>\n",
       "      <td>Yes</td>\n",
       "      <td>4</td>\n",
       "      <td>3089</td>\n",
       "      <td>No</td>\n",
       "      <td>No</td>\n",
       "      <td>Clothing</td>\n",
       "      <td>...</td>\n",
       "      <td>Yes</td>\n",
       "      <td>1</td>\n",
       "      <td>2084</td>\n",
       "      <td>VIP New</td>\n",
       "      <td>97</td>\n",
       "      <td>1</td>\n",
       "      <td>3001</td>\n",
       "      <td>1</td>\n",
       "      <td>1</td>\n",
       "      <td>4</td>\n",
       "    </tr>\n",
       "  </tbody>\n",
       "</table>\n",
       "<p>10 rows × 25 columns</p>\n",
       "</div>"
      ],
      "text/plain": [
       "                                 tierafterorder orderportalid size  \\\n",
       "id                                                                   \n",
       "c410003ef13d451727aeff9082c29a5c             T3           295   26   \n",
       "35051070e572e47d2c26c241ab88307f             T3           295   26   \n",
       "2f55707d4193dc27118a0f19a1985716             T3           295   26   \n",
       "559cb990c9dffd8675f6bc2186971dc2             T3           295   26   \n",
       "e3251075554389fe91d17a794861d47b             T3           676   14   \n",
       "fa1e9c965314ccd7810fb5ea838303e5             T1           808  150   \n",
       "621fbd17da27241c58015eabe4164a52             T4          1932    1   \n",
       "31ca0ca71184bbdb3de7b20a51e88e90             T4          1932    1   \n",
       "5d2c2cee8ab0b9a36bd1ed7196bd6c4a            VIP          1951  324   \n",
       "8068fee5f49946b3a8f85b1007cd40bb            VIP          2175   54   \n",
       "\n",
       "                                                     orderdate_gmt  \\\n",
       "id                                                                   \n",
       "c410003ef13d451727aeff9082c29a5c  2018-01-01 02:19:39.903000+00:00   \n",
       "35051070e572e47d2c26c241ab88307f  2018-01-01 02:19:39.903000+00:00   \n",
       "2f55707d4193dc27118a0f19a1985716  2018-01-01 02:19:39.903000+00:00   \n",
       "559cb990c9dffd8675f6bc2186971dc2  2018-01-01 02:19:39.903000+00:00   \n",
       "e3251075554389fe91d17a794861d47b  2018-01-01 05:28:05.813000+00:00   \n",
       "fa1e9c965314ccd7810fb5ea838303e5  2018-01-01 06:40:08.226000+00:00   \n",
       "621fbd17da27241c58015eabe4164a52  2018-01-01 13:47:19.400000+00:00   \n",
       "31ca0ca71184bbdb3de7b20a51e88e90  2018-01-01 13:47:19.400000+00:00   \n",
       "5d2c2cee8ab0b9a36bd1ed7196bd6c4a  2018-01-01 13:52:23.023000+00:00   \n",
       "8068fee5f49946b3a8f85b1007cd40bb  2018-01-01 14:51:41.520000+00:00   \n",
       "\n",
       "                                 hasusedwishlist shipper productid isreseller  \\\n",
       "id                                                                              \n",
       "c410003ef13d451727aeff9082c29a5c              No       4       429         No   \n",
       "35051070e572e47d2c26c241ab88307f              No       4       429         No   \n",
       "2f55707d4193dc27118a0f19a1985716              No       4       429         No   \n",
       "559cb990c9dffd8675f6bc2186971dc2              No       4       429         No   \n",
       "e3251075554389fe91d17a794861d47b             Yes       2      1055         No   \n",
       "fa1e9c965314ccd7810fb5ea838303e5             Yes       4      1257        Yes   \n",
       "621fbd17da27241c58015eabe4164a52              No       5       319         No   \n",
       "31ca0ca71184bbdb3de7b20a51e88e90              No       5       319         No   \n",
       "5d2c2cee8ab0b9a36bd1ed7196bd6c4a             Yes       5      1298        Yes   \n",
       "8068fee5f49946b3a8f85b1007cd40bb             Yes       4      3089         No   \n",
       "\n",
       "                                 issale category_1stlevel       ...        \\\n",
       "id                                                              ...         \n",
       "c410003ef13d451727aeff9082c29a5c     No             Shoes       ...         \n",
       "35051070e572e47d2c26c241ab88307f     No             Shoes       ...         \n",
       "2f55707d4193dc27118a0f19a1985716     No             Shoes       ...         \n",
       "559cb990c9dffd8675f6bc2186971dc2     No             Shoes       ...         \n",
       "e3251075554389fe91d17a794861d47b     No          Clothing       ...         \n",
       "fa1e9c965314ccd7810fb5ea838303e5     No          Clothing       ...         \n",
       "621fbd17da27241c58015eabe4164a52     No       Accessories       ...         \n",
       "31ca0ca71184bbdb3de7b20a51e88e90     No       Accessories       ...         \n",
       "5d2c2cee8ab0b9a36bd1ed7196bd6c4a    Yes             Shoes       ...         \n",
       "8068fee5f49946b3a8f85b1007cd40bb     No          Clothing       ...         \n",
       "\n",
       "                                 isusingmultipledevices freereturn userid  \\\n",
       "id                                                                          \n",
       "c410003ef13d451727aeff9082c29a5c                     No          1    285   \n",
       "35051070e572e47d2c26c241ab88307f                     No          1    285   \n",
       "2f55707d4193dc27118a0f19a1985716                     No          1    285   \n",
       "559cb990c9dffd8675f6bc2186971dc2                     No          1    285   \n",
       "e3251075554389fe91d17a794861d47b                     No          1    650   \n",
       "fa1e9c965314ccd7810fb5ea838303e5                    Yes          1    775   \n",
       "621fbd17da27241c58015eabe4164a52                     No          1   1851   \n",
       "31ca0ca71184bbdb3de7b20a51e88e90                     No          1   1851   \n",
       "5d2c2cee8ab0b9a36bd1ed7196bd6c4a                    Yes          1   1869   \n",
       "8068fee5f49946b3a8f85b1007cd40bb                    Yes          1   2084   \n",
       "\n",
       "                                    isvip brand promocode designer  \\\n",
       "id                                                                   \n",
       "c410003ef13d451727aeff9082c29a5c  Not VIP    92         1      425   \n",
       "35051070e572e47d2c26c241ab88307f  Not VIP    92         1      425   \n",
       "2f55707d4193dc27118a0f19a1985716  Not VIP    92         1      425   \n",
       "559cb990c9dffd8675f6bc2186971dc2  Not VIP    92         1      425   \n",
       "e3251075554389fe91d17a794861d47b  Not VIP    46         1     1035   \n",
       "fa1e9c965314ccd7810fb5ea838303e5  Not VIP    46         1       56   \n",
       "621fbd17da27241c58015eabe4164a52  Not VIP    87         1      317   \n",
       "31ca0ca71184bbdb3de7b20a51e88e90  Not VIP    87         1      317   \n",
       "5d2c2cee8ab0b9a36bd1ed7196bd6c4a  Not VIP    99         1     1269   \n",
       "8068fee5f49946b3a8f85b1007cd40bb  VIP New    97         1     3001   \n",
       "\n",
       "                                 countrycode countryoforigin userfraudstatus  \n",
       "id                                                                            \n",
       "c410003ef13d451727aeff9082c29a5c          14               1               3  \n",
       "35051070e572e47d2c26c241ab88307f          14               1               3  \n",
       "2f55707d4193dc27118a0f19a1985716          14               1               3  \n",
       "559cb990c9dffd8675f6bc2186971dc2          14               1               3  \n",
       "e3251075554389fe91d17a794861d47b           3              21               3  \n",
       "fa1e9c965314ccd7810fb5ea838303e5          45              21               3  \n",
       "621fbd17da27241c58015eabe4164a52           4               2               4  \n",
       "31ca0ca71184bbdb3de7b20a51e88e90           4               2               4  \n",
       "5d2c2cee8ab0b9a36bd1ed7196bd6c4a          16              23               6  \n",
       "8068fee5f49946b3a8f85b1007cd40bb           1               1               4  \n",
       "\n",
       "[10 rows x 25 columns]"
      ]
     },
     "execution_count": 424,
     "metadata": {},
     "output_type": "execute_result"
    }
   ],
   "source": [
    "df_clean[df_clean.duplicated()].sort_values('orderdate_gmt').head(10)"
   ]
  },
  {
   "cell_type": "markdown",
   "metadata": {},
   "source": [
    "#### Convert dtypes to match those in df_submission"
   ]
  },
  {
   "cell_type": "code",
   "execution_count": 425,
   "metadata": {},
   "outputs": [],
   "source": [
    "#cols_to_convert = [col for col in df_submission.select_dtypes(include=np.number).columns]\n",
    "\n",
    "df_clean = df_clean.astype(df_submission.dtypes[df_clean.columns])\n"
   ]
  },
  {
   "cell_type": "markdown",
   "metadata": {},
   "source": [
    "#### Drop id columns"
   ]
  },
  {
   "cell_type": "code",
   "execution_count": 426,
   "metadata": {},
   "outputs": [],
   "source": [
    "df_clean = df_clean.drop(columns=['userid', 'orderportalid', 'designer', 'style'])"
   ]
  },
  {
   "cell_type": "markdown",
   "metadata": {},
   "source": [
    "---"
   ]
  },
  {
   "cell_type": "markdown",
   "metadata": {},
   "source": [
    "# Train-Test split"
   ]
  },
  {
   "cell_type": "code",
   "execution_count": 427,
   "metadata": {},
   "outputs": [],
   "source": [
    "X_train, X_test, y_train, y_test = train_test_split(df_clean, \n",
    "                                                    df_target.loc[df_clean.index,:], \n",
    "                                                    test_size=0.3, \n",
    "                                                    random_state=42)"
   ]
  },
  {
   "cell_type": "markdown",
   "metadata": {},
   "source": [
    "---"
   ]
  },
  {
   "cell_type": "markdown",
   "metadata": {},
   "source": [
    "# Classifier workflow"
   ]
  },
  {
   "cell_type": "code",
   "execution_count": 429,
   "metadata": {},
   "outputs": [],
   "source": [
    "class Selector(BaseEstimator, TransformerMixin):\n",
    "    \"\"\"\n",
    "    Transformer to select a column from the dataframe to perform additional transformations on\n",
    "    \"\"\" \n",
    "    def __init__(self, key):\n",
    "        self.key = key\n",
    "        \n",
    "    def fit(self, X, y=None):\n",
    "        return self\n",
    "    \n",
    "    def transform(self, X):\n",
    "        return X[self.key]\n"
   ]
  },
  {
   "cell_type": "code",
   "execution_count": 430,
   "metadata": {},
   "outputs": [],
   "source": [
    "# select_pipe = Pipeline([('ordinalencoder', ce.ordinal.OrdinalEncoder()),\n",
    "#                         ('handle_unknown_imputer', SimpleImputer(missing_values=-1, strategy='most_frequent')),\n",
    "#                         ('handle_missing_imputer1', SimpleImputer(missing_values=-2, strategy='most_frequent')),\n",
    "#                         ('k_best', SelectKBest(chi2, k='all'))\n",
    "#                        ])"
   ]
  },
  {
   "cell_type": "code",
   "execution_count": 431,
   "metadata": {},
   "outputs": [],
   "source": [
    "# encode_pipe = Pipeline([('handle_unknown_imputer0', SimpleImputer(strategy='most_frequent')),\n",
    "#                         ('ordinalencoder', ce.ordinal.OrdinalEncoder())\n",
    "#                         #('handle_unknown_imputer1', SimpleImputer(missing_values=-1, strategy='most_frequent')),\n",
    "#                         #('handle_missing_imputer2', SimpleImputer(missing_values=-2, strategy='most_frequent'))\n",
    "#                        ])"
   ]
  },
  {
   "cell_type": "code",
   "execution_count": 473,
   "metadata": {},
   "outputs": [],
   "source": [
    "num_pipe = Pipeline([('selector', Selector(X_train.select_dtypes(include=np.number).columns)) #, ('handle_nan_imputer', SimpleImputer(strategy='most_frequent'))\n",
    "                    ])\n",
    "\n",
    "text_pipe = Pipeline([('selector', Selector(X_train.select_dtypes(include=object).columns)),\n",
    "                      ('ordinalencoder', ce.ordinal.OrdinalEncoder())\n",
    "                     ])\n",
    "\n",
    "# Feature Union allow use to use multiple distinct features in our classifier\n",
    "feats = FeatureUnion([('text', text_pipe), \n",
    "                      ('numerical', num_pipe)])\n",
    "\n",
    "best_k_pipe = Pipeline([('features',feats), \n",
    "                        ('k_best', SelectKBest(chi2, k=15))\n",
    "                       ])\n",
    "\n",
    "clf_pipe = Pipeline([('best_k_pipe', best_k_pipe), \n",
    "                     ('classifier', RandomForestClassifier(random_state = 42))\n",
    "                    ])\n"
   ]
  },
  {
   "cell_type": "code",
   "execution_count": 474,
   "metadata": {},
   "outputs": [
    {
     "name": "stderr",
     "output_type": "stream",
     "text": [
      "C:\\Users\\jnpicao\\AppData\\Local\\Continuum\\anaconda3\\lib\\site-packages\\sklearn\\ensemble\\forest.py:246: FutureWarning: The default value of n_estimators will change from 10 in version 0.20 to 100 in 0.22.\n",
      "  \"10 in version 0.20 to 100 in 0.22.\", FutureWarning)\n",
      "C:\\Users\\jnpicao\\AppData\\Local\\Continuum\\anaconda3\\lib\\site-packages\\sklearn\\pipeline.py:267: DataConversionWarning: A column-vector y was passed when a 1d array was expected. Please change the shape of y to (n_samples,), for example using ravel().\n",
      "  self._final_estimator.fit(Xt, y, **fit_params)\n"
     ]
    },
    {
     "data": {
      "text/plain": [
       "Pipeline(memory=None,\n",
       "     steps=[('best_k_pipe', Pipeline(memory=None,\n",
       "     steps=[('features', FeatureUnion(n_jobs=None,\n",
       "       transformer_list=[('text', Pipeline(memory=None,\n",
       "     steps=[('selector', Selector(key=Index(['tierafterorder', 'orderdate_gmt', 'hasusedwishlist', 'isreseller',\n",
       "       'issale', 'category_1stlevel...mators=10, n_jobs=None,\n",
       "            oob_score=False, random_state=42, verbose=0, warm_start=False))])"
      ]
     },
     "execution_count": 474,
     "metadata": {},
     "output_type": "execute_result"
    }
   ],
   "source": [
    "clf_pipe.fit(X_train, y_train)"
   ]
  },
  {
   "cell_type": "code",
   "execution_count": 475,
   "metadata": {},
   "outputs": [],
   "source": [
    "decision_thr = 0.5\n",
    "y_prob = clf_pipe.predict_proba(X_test)[:,1]\n",
    "y_pred = y_prob > decision_thr\n",
    "y_true = y_test"
   ]
  },
  {
   "cell_type": "code",
   "execution_count": 481,
   "metadata": {
    "scrolled": true
   },
   "outputs": [],
   "source": [
    "# best_k_pipe.fit_transform(X_train, y_train)"
   ]
  },
  {
   "cell_type": "code",
   "execution_count": 482,
   "metadata": {},
   "outputs": [],
   "source": [
    "#best_k_pipe.steps[1][1].scores_"
   ]
  },
  {
   "cell_type": "code",
   "execution_count": 483,
   "metadata": {},
   "outputs": [],
   "source": [
    "#plt.bar(X_train.columns, np.log10(best_k_pipe.steps[1][1].scores_))"
   ]
  },
  {
   "cell_type": "markdown",
   "metadata": {},
   "source": [
    "# Classifier assessment"
   ]
  },
  {
   "cell_type": "code",
   "execution_count": 476,
   "metadata": {},
   "outputs": [
    {
     "data": {
      "text/plain": [
       "0.8952867425121894"
      ]
     },
     "execution_count": 476,
     "metadata": {},
     "output_type": "execute_result"
    }
   ],
   "source": [
    "precision = precision_score(y_true, y_pred)\n",
    "precision"
   ]
  },
  {
   "cell_type": "code",
   "execution_count": 477,
   "metadata": {},
   "outputs": [
    {
     "data": {
      "text/plain": [
       "0.3843317053722715"
      ]
     },
     "execution_count": 477,
     "metadata": {},
     "output_type": "execute_result"
    }
   ],
   "source": [
    "recall = recall_score(y_true, y_pred)\n",
    "recall"
   ]
  },
  {
   "cell_type": "code",
   "execution_count": 478,
   "metadata": {},
   "outputs": [
    {
     "data": {
      "text/plain": [
       "75.98851354493353"
      ]
     },
     "execution_count": 478,
     "metadata": {},
     "output_type": "execute_result"
    }
   ],
   "source": [
    "fpr, tpr, thresholds_roc = roc_curve(y_true, y_prob)\n",
    "AUROC = roc_auc_score(y_test, y_prob)*100\n",
    "AUROC"
   ]
  },
  {
   "cell_type": "code",
   "execution_count": 479,
   "metadata": {
    "scrolled": true
   },
   "outputs": [
    {
     "data": {
      "image/png": "[encoded data removed]",
      "text/plain": [
       "<Figure size 432x288 with 1 Axes>"
      ]
     },
     "metadata": {
      "needs_background": "light"
     },
     "output_type": "display_data"
    }
   ],
   "source": [
    "plt.figure(1)\n",
    "plt.plot([0, 1], [0, 1], 'k--')\n",
    "plt.plot(fpr, tpr, label='ROC curve')\n",
    "\n",
    "plt.xlabel('False positive rate')\n",
    "plt.ylabel('True positive rate')\n",
    "plt.title('ROC curve')\n",
    "\n",
    "plt.xlim(0, 1)\n",
    "plt.ylim(0, 1)\n",
    "\n",
    "plt.text(0.6, 0.2, \"Area = {}\".format(round(AUROC,2)), dict(size=15))\n",
    "\n",
    "plt.legend(loc='best')\n",
    "plt.show()"
   ]
  },
  {
   "cell_type": "markdown",
   "metadata": {},
   "source": [
    "---"
   ]
  },
  {
   "cell_type": "markdown",
   "metadata": {},
   "source": [
    "---"
   ]
  },
  {
   "cell_type": "markdown",
   "metadata": {},
   "source": [
    "---"
   ]
  },
  {
   "cell_type": "markdown",
   "metadata": {},
   "source": [
    "# Build submission file"
   ]
  },
  {
   "cell_type": "code",
   "execution_count": 494,
   "metadata": {
    "scrolled": true
   },
   "outputs": [
    {
     "name": "stdout",
     "output_type": "stream",
     "text": [
      "<class 'pandas.core.frame.DataFrame'>\n",
      "Index: 93310 entries, 00007c55a9a7591b98a76d79216c9112 to ffff9979c9699b51cb7cda98e5bf84c2\n",
      "Data columns (total 30 columns):\n",
      "orderportalid             93310 non-null int64\n",
      "orderdate_gmt             93310 non-null object\n",
      "designer                  93310 non-null int64\n",
      "style                     93310 non-null int64\n",
      "shipper                   93310 non-null int64\n",
      "shiptypeid                93310 non-null int64\n",
      "userid                    93202 non-null float64\n",
      "isvip                     93202 non-null object\n",
      "country                   93310 non-null int64\n",
      "region                    93310 non-null int64\n",
      "ddprate                   93310 non-null float64\n",
      "countrycode               93310 non-null int64\n",
      "hasusedwishlist           93202 non-null object\n",
      "isreseller                93202 non-null object\n",
      "hasitemsonbag             93202 non-null object\n",
      "tierafterorder            85809 non-null object\n",
      "tierbeforeorder           57397 non-null object\n",
      "isusingmultipledevices    93202 non-null object\n",
      "userfraudstatus           93310 non-null int64\n",
      "promocode                 93310 non-null int64\n",
      "freereturn                93310 non-null int64\n",
      "issale                    93310 non-null object\n",
      "productid                 93310 non-null int64\n",
      "brand                     93310 non-null int64\n",
      "ddpsubcategory            86070 non-null object\n",
      "storeid                   93310 non-null int64\n",
      "countryoforigin           93310 non-null int64\n",
      "size                      93310 non-null int64\n",
      "category_1stlevel         93194 non-null object\n",
      "platform                  73496 non-null object\n",
      "dtypes: float64(2), int64(16), object(12)\n",
      "memory usage: 24.6+ MB\n"
     ]
    }
   ],
   "source": [
    "df_submission.info()"
   ]
  },
  {
   "cell_type": "code",
   "execution_count": 495,
   "metadata": {},
   "outputs": [],
   "source": [
    "y_prob_submission = clf_pipe.predict_proba(df_submission)[:,-1]"
   ]
  },
  {
   "cell_type": "code",
   "execution_count": 501,
   "metadata": {},
   "outputs": [],
   "source": [
    "pd.DataFrame({'id': df_submission.index, 'returned': y_prob_submission}).to_csv(\"submission_file.csv\", index=False)"
   ]
  },
  {
   "cell_type": "code",
   "execution_count": null,
   "metadata": {},
   "outputs": [],
   "source": []
  },
  {
   "cell_type": "code",
   "execution_count": null,
   "metadata": {},
   "outputs": [],
   "source": []
  },
  {
   "cell_type": "code",
   "execution_count": null,
   "metadata": {},
   "outputs": [],
   "source": []
  },
  {
   "cell_type": "code",
   "execution_count": null,
   "metadata": {},
   "outputs": [],
   "source": []
  },
  {
   "cell_type": "code",
   "execution_count": null,
   "metadata": {},
   "outputs": [],
   "source": []
  },
  {
   "cell_type": "code",
   "execution_count": null,
   "metadata": {},
   "outputs": [],
   "source": []
  },
  {
   "cell_type": "code",
   "execution_count": 90,
   "metadata": {
    "scrolled": true
   },
   "outputs": [
    {
     "name": "stdout",
     "output_type": "stream",
     "text": [
      "tierafterorder     object\n",
      "orderportalid       int64\n",
      "size                int64\n",
      "orderdate_gmt      object\n",
      "hasusedwishlist    object\n",
      "dtype: object\n",
      "tierafterorder     object\n",
      "orderportalid       int64\n",
      "size                int64\n",
      "orderdate_gmt      object\n",
      "hasusedwishlist    object\n",
      "dtype: object\n"
     ]
    }
   ],
   "source": [
    "file_encod = encoding_dict['encoding']\n",
    "\n",
    "cols_to_use = [col for col in df_aux.columns if col in df_submission.columns]\n",
    "cols_to_convert = [col for col in df_submission.select_dtypes(include=np.number).columns if col in cols_to_use]\n",
    "df_submission_dtypes = df_submission.dtypes\n",
    "\n",
    "\n",
    "df_source1 = df_aux.copy()\n",
    "\n",
    "# keep only those columns that exist in df_submission\n",
    "df_source1 = df_source1[cols_to_use]\n",
    "\n",
    "# Convert numerical columns to numeric dtype\n",
    "df_source1[cols_to_convert] = df_source1[cols_to_convert].apply(pd.to_numeric, errors='coerce')\n",
    "\n",
    "# Drop observation if having na values in any columns\n",
    "df_source1 = df_source1.dropna()\n",
    "\n",
    "# Force types to be exactly the same as in df_submission_dtypes\n",
    "df_source1 = df_source1.astype(df_submission_dtypes[cols_to_use])\n",
    "\n",
    "# print(df_source1.dtypes)\n",
    "# print(df_submission[cols_to_use].dtypes)\n",
    "\n"
   ]
  },
  {
   "cell_type": "markdown",
   "metadata": {},
   "source": [
    "# Import API data"
   ]
  },
  {
   "cell_type": "code",
   "execution_count": 104,
   "metadata": {},
   "outputs": [],
   "source": [
    "API_url = 'https://y29rdnycjd.execute-api.eu-west-1.amazonaws.com/dev/'\n",
    "request = requests.get(API_url)"
   ]
  },
  {
   "cell_type": "code",
   "execution_count": 106,
   "metadata": {},
   "outputs": [
    {
     "data": {
      "text/plain": [
       "True"
      ]
     },
     "execution_count": 106,
     "metadata": {},
     "output_type": "execute_result"
    }
   ],
   "source": [
    "request.ok"
   ]
  },
  {
   "cell_type": "code",
   "execution_count": 107,
   "metadata": {},
   "outputs": [
    {
     "data": {
      "text/plain": [
       "'https://y29rdnycjd.execute-api.eu-west-1.amazonaws.com/dev/missingdata/{id}'"
      ]
     },
     "execution_count": 107,
     "metadata": {},
     "output_type": "execute_result"
    }
   ],
   "source": [
    "endpoint_url = API_url + 'missingdata/{id}'\n",
    "endpoint_url"
   ]
  },
  {
   "cell_type": "markdown",
   "metadata": {},
   "source": [
    "### Performing a sample request"
   ]
  },
  {
   "cell_type": "code",
   "execution_count": 165,
   "metadata": {},
   "outputs": [],
   "source": [
    "sample_id = df_source1.sample(1).index.values[0]\n",
    "sample_id = '19ca14e7ea6328a42e0eb13d585e4c22'"
   ]
  },
  {
   "cell_type": "code",
   "execution_count": 166,
   "metadata": {},
   "outputs": [],
   "source": [
    "request = requests.get(endpoint_url.format(id=sample_id))"
   ]
  },
  {
   "cell_type": "code",
   "execution_count": 167,
   "metadata": {},
   "outputs": [
    {
     "data": {
      "text/plain": [
       "'https://y29rdnycjd.execute-api.eu-west-1.amazonaws.com/dev/missingdata/19ca14e7ea6328a42e0eb13d585e4c22'"
      ]
     },
     "execution_count": 167,
     "metadata": {},
     "output_type": "execute_result"
    }
   ],
   "source": [
    "request.request.url"
   ]
  },
  {
   "cell_type": "code",
   "execution_count": 168,
   "metadata": {},
   "outputs": [
    {
     "data": {
      "text/plain": [
       "True"
      ]
     },
     "execution_count": 168,
     "metadata": {},
     "output_type": "execute_result"
    }
   ],
   "source": [
    "request.ok"
   ]
  },
  {
   "cell_type": "code",
   "execution_count": 172,
   "metadata": {
    "scrolled": true
   },
   "outputs": [
    {
     "data": {
      "text/plain": [
       "{'orderportalid': 382388,\n",
       " 'orderdate_gmt': '2018-01-01 00:15:06.020000+00:00',\n",
       " 'designer': 4295,\n",
       " 'style': 4299,\n",
       " 'shipper': 2,\n",
       " 'shiptypeid': 2,\n",
       " 'userid': 257187.0,\n",
       " 'isvip': 'Not VIP',\n",
       " 'country': 1,\n",
       " 'region': 1,\n",
       " 'ddprate': 5.0083,\n",
       " 'countrycode': 1,\n",
       " 'hasusedwishlist': 'Yes',\n",
       " 'isreseller': 'No',\n",
       " 'hasitemsonbag': 'No',\n",
       " 'tierafterorder': None,\n",
       " 'tierbeforeorder': None,\n",
       " 'isusingmultipledevices': 'Yes',\n",
       " 'userfraudstatus': 3,\n",
       " 'promocode': 1,\n",
       " 'freereturn': 1,\n",
       " 'issale': 'Yes',\n",
       " 'productid': 4450,\n",
       " 'brand': 337,\n",
       " 'ddpsubcategory': 'Footwear with outer soles of rubber or plastics',\n",
       " 'storeid': 5,\n",
       " 'countryoforigin': 1,\n",
       " 'size': 12,\n",
       " 'category_1stlevel': 'Shoes',\n",
       " 'platform': 'web',\n",
       " 'returned': None}"
      ]
     },
     "execution_count": 172,
     "metadata": {},
     "output_type": "execute_result"
    }
   ],
   "source": [
    "request.json()"
   ]
  },
  {
   "cell_type": "code",
   "execution_count": 197,
   "metadata": {},
   "outputs": [],
   "source": [
    "# ids_to_request_series = df_aux[df_aux.tierafterorder == 'API'].reset_index().id\n",
    "# replies_list = []\n",
    "\n",
    "# for id_to_request in ids_to_request_series:\n",
    "    \n",
    "#     request = requests.get(endpoint_url.format(id=id_to_request))\n",
    "#     if request.ok:\n",
    "#         replies_list.append(request.json())\n",
    "#     else:\n",
    "#         pass\n",
    "    \n",
    "# df_train = pd.DataFrame(replies_list)"
   ]
  },
  {
   "cell_type": "code",
   "execution_count": 200,
   "metadata": {},
   "outputs": [
    {
     "data": {
      "text/plain": [
       "0"
      ]
     },
     "execution_count": 200,
     "metadata": {},
     "output_type": "execute_result"
    }
   ],
   "source": [
    "df_train.returned.nunique()"
   ]
  },
  {
   "cell_type": "code",
   "execution_count": null,
   "metadata": {},
   "outputs": [],
   "source": []
  },
  {
   "cell_type": "code",
   "execution_count": null,
   "metadata": {},
   "outputs": [],
   "source": []
  },
  {
   "cell_type": "code",
   "execution_count": 193,
   "metadata": {},
   "outputs": [
    {
     "data": {
      "text/plain": [
       "pandas.core.series.Series"
      ]
     },
     "execution_count": 193,
     "metadata": {},
     "output_type": "execute_result"
    }
   ],
   "source": [
    "df_aux[df_aux.tierafterorder == 'API'].reset_index().id[0:20]"
   ]
  },
  {
   "cell_type": "code",
   "execution_count": null,
   "metadata": {},
   "outputs": [],
   "source": []
  },
  {
   "cell_type": "code",
   "execution_count": null,
   "metadata": {},
   "outputs": [],
   "source": []
  },
  {
   "cell_type": "code",
   "execution_count": null,
   "metadata": {},
   "outputs": [],
   "source": []
  },
  {
   "cell_type": "code",
   "execution_count": null,
   "metadata": {},
   "outputs": [],
   "source": []
  },
  {
   "cell_type": "code",
   "execution_count": null,
   "metadata": {},
   "outputs": [],
   "source": []
  },
  {
   "cell_type": "code",
   "execution_count": null,
   "metadata": {},
   "outputs": [],
   "source": []
  },
  {
   "cell_type": "code",
   "execution_count": 189,
   "metadata": {},
   "outputs": [
    {
     "data": {
      "text/plain": [
       "{'orderportalid': 382388,\n",
       " 'orderdate_gmt': '2018-01-01 00:15:06.020000+00:00',\n",
       " 'designer': 4295,\n",
       " 'style': 4299,\n",
       " 'shipper': 2,\n",
       " 'shiptypeid': 2,\n",
       " 'userid': 257187.0,\n",
       " 'isvip': 'Not VIP',\n",
       " 'country': 1,\n",
       " 'region': 1,\n",
       " 'ddprate': 5.0083,\n",
       " 'countrycode': 1,\n",
       " 'hasusedwishlist': 'Yes',\n",
       " 'isreseller': 'No',\n",
       " 'hasitemsonbag': 'No',\n",
       " 'tierafterorder': None,\n",
       " 'tierbeforeorder': None,\n",
       " 'isusingmultipledevices': 'Yes',\n",
       " 'userfraudstatus': 3,\n",
       " 'promocode': 1,\n",
       " 'freereturn': 1,\n",
       " 'issale': 'Yes',\n",
       " 'productid': 4450,\n",
       " 'brand': 337,\n",
       " 'ddpsubcategory': 'Footwear with outer soles of rubber or plastics',\n",
       " 'storeid': 5,\n",
       " 'countryoforigin': 1,\n",
       " 'size': 12,\n",
       " 'category_1stlevel': 'Shoes',\n",
       " 'platform': 'web',\n",
       " 'returned': None}"
      ]
     },
     "execution_count": 189,
     "metadata": {},
     "output_type": "execute_result"
    }
   ],
   "source": [
    "replies_list[0]"
   ]
  },
  {
   "cell_type": "code",
   "execution_count": 188,
   "metadata": {},
   "outputs": [
    {
     "data": {
      "text/html": [
       "<div>\n",
       "<style scoped>\n",
       "    .dataframe tbody tr th:only-of-type {\n",
       "        vertical-align: middle;\n",
       "    }\n",
       "\n",
       "    .dataframe tbody tr th {\n",
       "        vertical-align: top;\n",
       "    }\n",
       "\n",
       "    .dataframe thead th {\n",
       "        text-align: right;\n",
       "    }\n",
       "</style>\n",
       "<table border=\"1\" class=\"dataframe\">\n",
       "  <thead>\n",
       "    <tr style=\"text-align: right;\">\n",
       "      <th></th>\n",
       "      <th>brand</th>\n",
       "      <th>category_1stlevel</th>\n",
       "      <th>country</th>\n",
       "      <th>countrycode</th>\n",
       "      <th>countryoforigin</th>\n",
       "      <th>ddprate</th>\n",
       "      <th>ddpsubcategory</th>\n",
       "      <th>designer</th>\n",
       "      <th>freereturn</th>\n",
       "      <th>hasitemsonbag</th>\n",
       "      <th>...</th>\n",
       "      <th>returned</th>\n",
       "      <th>shipper</th>\n",
       "      <th>shiptypeid</th>\n",
       "      <th>size</th>\n",
       "      <th>storeid</th>\n",
       "      <th>style</th>\n",
       "      <th>tierafterorder</th>\n",
       "      <th>tierbeforeorder</th>\n",
       "      <th>userfraudstatus</th>\n",
       "      <th>userid</th>\n",
       "    </tr>\n",
       "  </thead>\n",
       "  <tbody>\n",
       "    <tr>\n",
       "      <th>0</th>\n",
       "      <td>337</td>\n",
       "      <td>Shoes</td>\n",
       "      <td>1</td>\n",
       "      <td>1</td>\n",
       "      <td>1</td>\n",
       "      <td>5.0083</td>\n",
       "      <td>Footwear with outer soles of rubber or plastics</td>\n",
       "      <td>4295</td>\n",
       "      <td>1</td>\n",
       "      <td>No</td>\n",
       "      <td>...</td>\n",
       "      <td>None</td>\n",
       "      <td>2</td>\n",
       "      <td>2</td>\n",
       "      <td>12</td>\n",
       "      <td>5</td>\n",
       "      <td>4299</td>\n",
       "      <td>None</td>\n",
       "      <td>None</td>\n",
       "      <td>3</td>\n",
       "      <td>257187.0</td>\n",
       "    </tr>\n",
       "    <tr>\n",
       "      <th>1</th>\n",
       "      <td>681</td>\n",
       "      <td>Clothing</td>\n",
       "      <td>1</td>\n",
       "      <td>1</td>\n",
       "      <td>8</td>\n",
       "      <td>0.0000</td>\n",
       "      <td>Skirts</td>\n",
       "      <td>79959</td>\n",
       "      <td>1</td>\n",
       "      <td>No</td>\n",
       "      <td>...</td>\n",
       "      <td>None</td>\n",
       "      <td>1</td>\n",
       "      <td>1</td>\n",
       "      <td>395</td>\n",
       "      <td>764</td>\n",
       "      <td>79978</td>\n",
       "      <td>None</td>\n",
       "      <td>None</td>\n",
       "      <td>3</td>\n",
       "      <td>270119.0</td>\n",
       "    </tr>\n",
       "    <tr>\n",
       "      <th>2</th>\n",
       "      <td>9</td>\n",
       "      <td>Bags</td>\n",
       "      <td>3</td>\n",
       "      <td>3</td>\n",
       "      <td>1</td>\n",
       "      <td>0.0000</td>\n",
       "      <td>Handbags, whether or not with shoulder strap, ...</td>\n",
       "      <td>13129</td>\n",
       "      <td>1</td>\n",
       "      <td>Yes</td>\n",
       "      <td>...</td>\n",
       "      <td>None</td>\n",
       "      <td>2</td>\n",
       "      <td>2</td>\n",
       "      <td>17</td>\n",
       "      <td>174</td>\n",
       "      <td>13136</td>\n",
       "      <td>None</td>\n",
       "      <td>None</td>\n",
       "      <td>3</td>\n",
       "      <td>264764.0</td>\n",
       "    </tr>\n",
       "    <tr>\n",
       "      <th>3</th>\n",
       "      <td>92</td>\n",
       "      <td>Clothing</td>\n",
       "      <td>4</td>\n",
       "      <td>4</td>\n",
       "      <td>1</td>\n",
       "      <td>0.0000</td>\n",
       "      <td>Jerseys, pullovers, cardigans, waistcoats and ...</td>\n",
       "      <td>268</td>\n",
       "      <td>1</td>\n",
       "      <td>Yes</td>\n",
       "      <td>...</td>\n",
       "      <td>None</td>\n",
       "      <td>2</td>\n",
       "      <td>9</td>\n",
       "      <td>35</td>\n",
       "      <td>156</td>\n",
       "      <td>268</td>\n",
       "      <td>VIP</td>\n",
       "      <td>VIP</td>\n",
       "      <td>6</td>\n",
       "      <td>195.0</td>\n",
       "    </tr>\n",
       "    <tr>\n",
       "      <th>4</th>\n",
       "      <td>1617</td>\n",
       "      <td>Teen Girl Clothing</td>\n",
       "      <td>1</td>\n",
       "      <td>1</td>\n",
       "      <td>1</td>\n",
       "      <td>5.0083</td>\n",
       "      <td>Dresses</td>\n",
       "      <td>148401</td>\n",
       "      <td>1</td>\n",
       "      <td>No</td>\n",
       "      <td>...</td>\n",
       "      <td>None</td>\n",
       "      <td>4</td>\n",
       "      <td>2</td>\n",
       "      <td>10</td>\n",
       "      <td>163</td>\n",
       "      <td>148434</td>\n",
       "      <td>None</td>\n",
       "      <td>None</td>\n",
       "      <td>3</td>\n",
       "      <td>254415.0</td>\n",
       "    </tr>\n",
       "    <tr>\n",
       "      <th>5</th>\n",
       "      <td>50</td>\n",
       "      <td>Homeware</td>\n",
       "      <td>4</td>\n",
       "      <td>4</td>\n",
       "      <td>2</td>\n",
       "      <td>0.0000</td>\n",
       "      <td>Articles of a kind normally carried in the poc...</td>\n",
       "      <td>428</td>\n",
       "      <td>1</td>\n",
       "      <td>No</td>\n",
       "      <td>...</td>\n",
       "      <td>None</td>\n",
       "      <td>1</td>\n",
       "      <td>3</td>\n",
       "      <td>17</td>\n",
       "      <td>39</td>\n",
       "      <td>429</td>\n",
       "      <td>T4</td>\n",
       "      <td>None</td>\n",
       "      <td>3</td>\n",
       "      <td>287.0</td>\n",
       "    </tr>\n",
       "    <tr>\n",
       "      <th>6</th>\n",
       "      <td>212</td>\n",
       "      <td>Shoes</td>\n",
       "      <td>1</td>\n",
       "      <td>1</td>\n",
       "      <td>1</td>\n",
       "      <td>5.0083</td>\n",
       "      <td>Other footwear</td>\n",
       "      <td>489</td>\n",
       "      <td>1</td>\n",
       "      <td>No</td>\n",
       "      <td>...</td>\n",
       "      <td>None</td>\n",
       "      <td>2</td>\n",
       "      <td>2</td>\n",
       "      <td>12</td>\n",
       "      <td>32</td>\n",
       "      <td>491</td>\n",
       "      <td>T4</td>\n",
       "      <td>None</td>\n",
       "      <td>3</td>\n",
       "      <td>333.0</td>\n",
       "    </tr>\n",
       "    <tr>\n",
       "      <th>7</th>\n",
       "      <td>67</td>\n",
       "      <td>Clothing</td>\n",
       "      <td>12</td>\n",
       "      <td>12</td>\n",
       "      <td>1</td>\n",
       "      <td>33.3833</td>\n",
       "      <td>T-shirts, singlets and other vests</td>\n",
       "      <td>494</td>\n",
       "      <td>1</td>\n",
       "      <td>No</td>\n",
       "      <td>...</td>\n",
       "      <td>None</td>\n",
       "      <td>2</td>\n",
       "      <td>2</td>\n",
       "      <td>14</td>\n",
       "      <td>11</td>\n",
       "      <td>496</td>\n",
       "      <td>T3</td>\n",
       "      <td>None</td>\n",
       "      <td>3</td>\n",
       "      <td>334.0</td>\n",
       "    </tr>\n",
       "    <tr>\n",
       "      <th>8</th>\n",
       "      <td>216</td>\n",
       "      <td>Clothing</td>\n",
       "      <td>39</td>\n",
       "      <td>39</td>\n",
       "      <td>1</td>\n",
       "      <td>0.0000</td>\n",
       "      <td>Coats: overcoats, raincoat, cape, cloaks and s...</td>\n",
       "      <td>515</td>\n",
       "      <td>1</td>\n",
       "      <td>Yes</td>\n",
       "      <td>...</td>\n",
       "      <td>None</td>\n",
       "      <td>1</td>\n",
       "      <td>3</td>\n",
       "      <td>7</td>\n",
       "      <td>106</td>\n",
       "      <td>517</td>\n",
       "      <td>VIP</td>\n",
       "      <td>VIP</td>\n",
       "      <td>6</td>\n",
       "      <td>342.0</td>\n",
       "    </tr>\n",
       "    <tr>\n",
       "      <th>9</th>\n",
       "      <td>141</td>\n",
       "      <td>Shoes</td>\n",
       "      <td>1</td>\n",
       "      <td>1</td>\n",
       "      <td>1</td>\n",
       "      <td>5.0083</td>\n",
       "      <td>Other footwear</td>\n",
       "      <td>150642</td>\n",
       "      <td>1</td>\n",
       "      <td>Yes</td>\n",
       "      <td>...</td>\n",
       "      <td>None</td>\n",
       "      <td>2</td>\n",
       "      <td>2</td>\n",
       "      <td>12</td>\n",
       "      <td>598</td>\n",
       "      <td>150675</td>\n",
       "      <td>T4</td>\n",
       "      <td>T4</td>\n",
       "      <td>3</td>\n",
       "      <td>258716.0</td>\n",
       "    </tr>\n",
       "    <tr>\n",
       "      <th>10</th>\n",
       "      <td>240</td>\n",
       "      <td>Clothing</td>\n",
       "      <td>7</td>\n",
       "      <td>7</td>\n",
       "      <td>8</td>\n",
       "      <td>0.0000</td>\n",
       "      <td>N/D</td>\n",
       "      <td>615</td>\n",
       "      <td>0</td>\n",
       "      <td>Yes</td>\n",
       "      <td>...</td>\n",
       "      <td>None</td>\n",
       "      <td>4</td>\n",
       "      <td>4</td>\n",
       "      <td>145</td>\n",
       "      <td>262</td>\n",
       "      <td>617</td>\n",
       "      <td>T1</td>\n",
       "      <td>T2</td>\n",
       "      <td>7</td>\n",
       "      <td>403.0</td>\n",
       "    </tr>\n",
       "    <tr>\n",
       "      <th>11</th>\n",
       "      <td>238</td>\n",
       "      <td>Clothing</td>\n",
       "      <td>7</td>\n",
       "      <td>7</td>\n",
       "      <td>8</td>\n",
       "      <td>0.0000</td>\n",
       "      <td>Trousers, overalls, shorts</td>\n",
       "      <td>614</td>\n",
       "      <td>0</td>\n",
       "      <td>Yes</td>\n",
       "      <td>...</td>\n",
       "      <td>None</td>\n",
       "      <td>4</td>\n",
       "      <td>4</td>\n",
       "      <td>145</td>\n",
       "      <td>260</td>\n",
       "      <td>616</td>\n",
       "      <td>T1</td>\n",
       "      <td>T2</td>\n",
       "      <td>7</td>\n",
       "      <td>403.0</td>\n",
       "    </tr>\n",
       "    <tr>\n",
       "      <th>12</th>\n",
       "      <td>181</td>\n",
       "      <td>Girls Clothing</td>\n",
       "      <td>19</td>\n",
       "      <td>19</td>\n",
       "      <td>20</td>\n",
       "      <td>0.0000</td>\n",
       "      <td>N/D</td>\n",
       "      <td>31109</td>\n",
       "      <td>1</td>\n",
       "      <td>Yes</td>\n",
       "      <td>...</td>\n",
       "      <td>None</td>\n",
       "      <td>2</td>\n",
       "      <td>2</td>\n",
       "      <td>85</td>\n",
       "      <td>311</td>\n",
       "      <td>31117</td>\n",
       "      <td>T4</td>\n",
       "      <td>T4</td>\n",
       "      <td>3</td>\n",
       "      <td>405.0</td>\n",
       "    </tr>\n",
       "    <tr>\n",
       "      <th>13</th>\n",
       "      <td>50</td>\n",
       "      <td>Clothing</td>\n",
       "      <td>3</td>\n",
       "      <td>3</td>\n",
       "      <td>4</td>\n",
       "      <td>0.0000</td>\n",
       "      <td>T-shirts, singlets and other vests</td>\n",
       "      <td>376</td>\n",
       "      <td>1</td>\n",
       "      <td>Yes</td>\n",
       "      <td>...</td>\n",
       "      <td>None</td>\n",
       "      <td>2</td>\n",
       "      <td>2</td>\n",
       "      <td>9</td>\n",
       "      <td>287</td>\n",
       "      <td>377</td>\n",
       "      <td>VIP</td>\n",
       "      <td>VIP</td>\n",
       "      <td>4</td>\n",
       "      <td>441.0</td>\n",
       "    </tr>\n",
       "    <tr>\n",
       "      <th>14</th>\n",
       "      <td>262</td>\n",
       "      <td>Clothing</td>\n",
       "      <td>1</td>\n",
       "      <td>1</td>\n",
       "      <td>14</td>\n",
       "      <td>0.0000</td>\n",
       "      <td>Pantyhose, tights</td>\n",
       "      <td>722</td>\n",
       "      <td>1</td>\n",
       "      <td>Yes</td>\n",
       "      <td>...</td>\n",
       "      <td>None</td>\n",
       "      <td>1</td>\n",
       "      <td>6</td>\n",
       "      <td>1</td>\n",
       "      <td>294</td>\n",
       "      <td>724</td>\n",
       "      <td>VIP</td>\n",
       "      <td>VIP</td>\n",
       "      <td>6</td>\n",
       "      <td>452.0</td>\n",
       "    </tr>\n",
       "    <tr>\n",
       "      <th>15</th>\n",
       "      <td>787</td>\n",
       "      <td>Clothing</td>\n",
       "      <td>3</td>\n",
       "      <td>3</td>\n",
       "      <td>14</td>\n",
       "      <td>0.0000</td>\n",
       "      <td>T-shirts, singlets and other vests</td>\n",
       "      <td>152935</td>\n",
       "      <td>1</td>\n",
       "      <td>Yes</td>\n",
       "      <td>...</td>\n",
       "      <td>None</td>\n",
       "      <td>5</td>\n",
       "      <td>2</td>\n",
       "      <td>19</td>\n",
       "      <td>15</td>\n",
       "      <td>152968</td>\n",
       "      <td>T2</td>\n",
       "      <td>T2</td>\n",
       "      <td>3</td>\n",
       "      <td>263147.0</td>\n",
       "    </tr>\n",
       "    <tr>\n",
       "      <th>16</th>\n",
       "      <td>126</td>\n",
       "      <td>Shoes</td>\n",
       "      <td>3</td>\n",
       "      <td>3</td>\n",
       "      <td>20</td>\n",
       "      <td>0.0000</td>\n",
       "      <td>None</td>\n",
       "      <td>5617</td>\n",
       "      <td>1</td>\n",
       "      <td>Yes</td>\n",
       "      <td>...</td>\n",
       "      <td>None</td>\n",
       "      <td>2</td>\n",
       "      <td>2</td>\n",
       "      <td>31</td>\n",
       "      <td>39</td>\n",
       "      <td>5621</td>\n",
       "      <td>T2</td>\n",
       "      <td>T2</td>\n",
       "      <td>6</td>\n",
       "      <td>468.0</td>\n",
       "    </tr>\n",
       "    <tr>\n",
       "      <th>17</th>\n",
       "      <td>155</td>\n",
       "      <td>Clothing</td>\n",
       "      <td>1</td>\n",
       "      <td>1</td>\n",
       "      <td>3</td>\n",
       "      <td>0.0000</td>\n",
       "      <td>Blouses, shirts and shirt-blouses</td>\n",
       "      <td>62223</td>\n",
       "      <td>1</td>\n",
       "      <td>Yes</td>\n",
       "      <td>...</td>\n",
       "      <td>None</td>\n",
       "      <td>4</td>\n",
       "      <td>2</td>\n",
       "      <td>9</td>\n",
       "      <td>80</td>\n",
       "      <td>62239</td>\n",
       "      <td>VIP</td>\n",
       "      <td>VIP</td>\n",
       "      <td>6</td>\n",
       "      <td>520.0</td>\n",
       "    </tr>\n",
       "    <tr>\n",
       "      <th>18</th>\n",
       "      <td>155</td>\n",
       "      <td>Clothing</td>\n",
       "      <td>1</td>\n",
       "      <td>1</td>\n",
       "      <td>6</td>\n",
       "      <td>0.0000</td>\n",
       "      <td>Blouses, shirts and shirt-blouses</td>\n",
       "      <td>857</td>\n",
       "      <td>1</td>\n",
       "      <td>Yes</td>\n",
       "      <td>...</td>\n",
       "      <td>None</td>\n",
       "      <td>1</td>\n",
       "      <td>6</td>\n",
       "      <td>47</td>\n",
       "      <td>327</td>\n",
       "      <td>859</td>\n",
       "      <td>VIP</td>\n",
       "      <td>VIP</td>\n",
       "      <td>6</td>\n",
       "      <td>520.0</td>\n",
       "    </tr>\n",
       "    <tr>\n",
       "      <th>19</th>\n",
       "      <td>162</td>\n",
       "      <td>Clothing</td>\n",
       "      <td>12</td>\n",
       "      <td>12</td>\n",
       "      <td>1</td>\n",
       "      <td>33.3833</td>\n",
       "      <td>N/D</td>\n",
       "      <td>899</td>\n",
       "      <td>1</td>\n",
       "      <td>Yes</td>\n",
       "      <td>...</td>\n",
       "      <td>None</td>\n",
       "      <td>2</td>\n",
       "      <td>2</td>\n",
       "      <td>103</td>\n",
       "      <td>189</td>\n",
       "      <td>901</td>\n",
       "      <td>VIP</td>\n",
       "      <td>VIP</td>\n",
       "      <td>6</td>\n",
       "      <td>546.0</td>\n",
       "    </tr>\n",
       "  </tbody>\n",
       "</table>\n",
       "<p>20 rows × 31 columns</p>\n",
       "</div>"
      ],
      "text/plain": [
       "    brand   category_1stlevel  country  countrycode  countryoforigin  ddprate  \\\n",
       "0     337               Shoes        1            1                1   5.0083   \n",
       "1     681            Clothing        1            1                8   0.0000   \n",
       "2       9                Bags        3            3                1   0.0000   \n",
       "3      92            Clothing        4            4                1   0.0000   \n",
       "4    1617  Teen Girl Clothing        1            1                1   5.0083   \n",
       "5      50            Homeware        4            4                2   0.0000   \n",
       "6     212               Shoes        1            1                1   5.0083   \n",
       "7      67            Clothing       12           12                1  33.3833   \n",
       "8     216            Clothing       39           39                1   0.0000   \n",
       "9     141               Shoes        1            1                1   5.0083   \n",
       "10    240            Clothing        7            7                8   0.0000   \n",
       "11    238            Clothing        7            7                8   0.0000   \n",
       "12    181      Girls Clothing       19           19               20   0.0000   \n",
       "13     50            Clothing        3            3                4   0.0000   \n",
       "14    262            Clothing        1            1               14   0.0000   \n",
       "15    787            Clothing        3            3               14   0.0000   \n",
       "16    126               Shoes        3            3               20   0.0000   \n",
       "17    155            Clothing        1            1                3   0.0000   \n",
       "18    155            Clothing        1            1                6   0.0000   \n",
       "19    162            Clothing       12           12                1  33.3833   \n",
       "\n",
       "                                       ddpsubcategory  designer  freereturn  \\\n",
       "0     Footwear with outer soles of rubber or plastics      4295           1   \n",
       "1                                              Skirts     79959           1   \n",
       "2   Handbags, whether or not with shoulder strap, ...     13129           1   \n",
       "3   Jerseys, pullovers, cardigans, waistcoats and ...       268           1   \n",
       "4                                             Dresses    148401           1   \n",
       "5   Articles of a kind normally carried in the poc...       428           1   \n",
       "6                                      Other footwear       489           1   \n",
       "7                  T-shirts, singlets and other vests       494           1   \n",
       "8   Coats: overcoats, raincoat, cape, cloaks and s...       515           1   \n",
       "9                                      Other footwear    150642           1   \n",
       "10                                                N/D       615           0   \n",
       "11                         Trousers, overalls, shorts       614           0   \n",
       "12                                                N/D     31109           1   \n",
       "13                 T-shirts, singlets and other vests       376           1   \n",
       "14                                  Pantyhose, tights       722           1   \n",
       "15                 T-shirts, singlets and other vests    152935           1   \n",
       "16                                               None      5617           1   \n",
       "17                  Blouses, shirts and shirt-blouses     62223           1   \n",
       "18                  Blouses, shirts and shirt-blouses       857           1   \n",
       "19                                                N/D       899           1   \n",
       "\n",
       "   hasitemsonbag    ...    returned shipper shiptypeid size storeid   style  \\\n",
       "0             No    ...        None       2          2   12       5    4299   \n",
       "1             No    ...        None       1          1  395     764   79978   \n",
       "2            Yes    ...        None       2          2   17     174   13136   \n",
       "3            Yes    ...        None       2          9   35     156     268   \n",
       "4             No    ...        None       4          2   10     163  148434   \n",
       "5             No    ...        None       1          3   17      39     429   \n",
       "6             No    ...        None       2          2   12      32     491   \n",
       "7             No    ...        None       2          2   14      11     496   \n",
       "8            Yes    ...        None       1          3    7     106     517   \n",
       "9            Yes    ...        None       2          2   12     598  150675   \n",
       "10           Yes    ...        None       4          4  145     262     617   \n",
       "11           Yes    ...        None       4          4  145     260     616   \n",
       "12           Yes    ...        None       2          2   85     311   31117   \n",
       "13           Yes    ...        None       2          2    9     287     377   \n",
       "14           Yes    ...        None       1          6    1     294     724   \n",
       "15           Yes    ...        None       5          2   19      15  152968   \n",
       "16           Yes    ...        None       2          2   31      39    5621   \n",
       "17           Yes    ...        None       4          2    9      80   62239   \n",
       "18           Yes    ...        None       1          6   47     327     859   \n",
       "19           Yes    ...        None       2          2  103     189     901   \n",
       "\n",
       "    tierafterorder tierbeforeorder  userfraudstatus    userid  \n",
       "0             None            None                3  257187.0  \n",
       "1             None            None                3  270119.0  \n",
       "2             None            None                3  264764.0  \n",
       "3              VIP             VIP                6     195.0  \n",
       "4             None            None                3  254415.0  \n",
       "5               T4            None                3     287.0  \n",
       "6               T4            None                3     333.0  \n",
       "7               T3            None                3     334.0  \n",
       "8              VIP             VIP                6     342.0  \n",
       "9               T4              T4                3  258716.0  \n",
       "10              T1              T2                7     403.0  \n",
       "11              T1              T2                7     403.0  \n",
       "12              T4              T4                3     405.0  \n",
       "13             VIP             VIP                4     441.0  \n",
       "14             VIP             VIP                6     452.0  \n",
       "15              T2              T2                3  263147.0  \n",
       "16              T2              T2                6     468.0  \n",
       "17             VIP             VIP                6     520.0  \n",
       "18             VIP             VIP                6     520.0  \n",
       "19             VIP             VIP                6     546.0  \n",
       "\n",
       "[20 rows x 31 columns]"
      ]
     },
     "execution_count": 188,
     "metadata": {},
     "output_type": "execute_result"
    }
   ],
   "source": [
    "pd.DataFrame(replies_list)"
   ]
  },
  {
   "cell_type": "code",
   "execution_count": 175,
   "metadata": {},
   "outputs": [
    {
     "data": {
      "text/plain": [
       "array(['cfcd208495d565ef66e7dff9f98764da',\n",
       "       'c4ca4238a0b923820dcc509a6f75849b',\n",
       "       'c81e728d9d4c2f636f067f89cc14862c',\n",
       "       'eccbc87e4b5ce2fe28308fd9f2a7baf3',\n",
       "       'a87ff679a2f3e71d9181a67b7542122c',\n",
       "       'e4da3b7fbbce2345d7772b0674a318d5',\n",
       "       '1679091c5a880faf6fb5e6087eb1b2dc',\n",
       "       '8f14e45fceea167a5a36dedd4bea2543',\n",
       "       'c9f0f895fb98ab9159f51fd0297e236d',\n",
       "       '45c48cce2e2d7fbdea1afc51c7c6ad26'], dtype=object)"
      ]
     },
     "execution_count": 175,
     "metadata": {},
     "output_type": "execute_result"
    }
   ],
   "source": [
    "df_aux.index.values[0:10]"
   ]
  },
  {
   "cell_type": "code",
   "execution_count": 153,
   "metadata": {},
   "outputs": [
    {
     "data": {
      "text/plain": [
       "T4     212069\n",
       "T2      75849\n",
       "T3      70034\n",
       "VIP     65282\n",
       "T1      38064\n",
       "Name: tierafterorder, dtype: int64"
      ]
     },
     "execution_count": 153,
     "metadata": {},
     "output_type": "execute_result"
    }
   ],
   "source": [
    "df_source1.tierafterorder.value_counts()"
   ]
  },
  {
   "cell_type": "code",
   "execution_count": 158,
   "metadata": {},
   "outputs": [
    {
     "data": {
      "text/plain": [
       "T4         212474\n",
       "T2          75885\n",
       "T3          70078\n",
       "VIP         65361\n",
       "WEBSITE     40000\n",
       "T1          38079\n",
       "API         10000\n",
       "Name: tierafterorder, dtype: int64"
      ]
     },
     "execution_count": 158,
     "metadata": {},
     "output_type": "execute_result"
    }
   ],
   "source": [
    "df_aux.tierafterorder.value_counts()"
   ]
  },
  {
   "cell_type": "code",
   "execution_count": 181,
   "metadata": {},
   "outputs": [
    {
     "data": {
      "text/plain": [
       "numpy.ndarray"
      ]
     },
     "execution_count": 181,
     "metadata": {},
     "output_type": "execute_result"
    }
   ],
   "source": [
    "type(df_aux[df_aux.tierafterorder == 'API'].index.values)"
   ]
  }
 ],
 "metadata": {
  "kernelspec": {
   "display_name": "Python 3",
   "language": "python",
   "name": "python3"
  },
  "language_info": {
   "codemirror_mode": {
    "name": "ipython",
    "version": 3
   },
   "file_extension": ".py",
   "mimetype": "text/x-python",
   "name": "python",
   "nbconvert_exporter": "python",
   "pygments_lexer": "ipython3",
   "version": "3.7.1"
  }
 },
 "nbformat": 4,
 "nbformat_minor": 2
}
