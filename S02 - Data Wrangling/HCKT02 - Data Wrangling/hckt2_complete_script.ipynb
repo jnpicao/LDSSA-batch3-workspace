{
 "cells": [
  {
   "cell_type": "code",
   "execution_count": 7,
   "metadata": {},
   "outputs": [],
   "source": [
    "# Operating System\n",
    "import os\n",
    "\n",
    "#Pandas and Numpy\n",
    "import pandas as pd\n",
    "import numpy as np\n",
    "\n",
    "#ramdom generator\n",
    "import random\n",
    "\n",
    "import chardet\n",
    "\n",
    "from sklearn.model_selection import train_test_split\n",
    "\n",
    "from sklearn.pipeline import  Pipeline, make_pipeline, FeatureUnion, make_union\n",
    "from sklearn.base import TransformerMixin, BaseEstimator\n",
    "\n",
    "import category_encoders as ce\n",
    "from sklearn.preprocessing import KBinsDiscretizer, Binarizer\n",
    "\n",
    "from sklearn.ensemble import RandomForestClassifier\n",
    "from sklearn.tree import DecisionTreeClassifier\n",
    "\n",
    "from sklearn.impute import SimpleImputer\n",
    "\n",
    "from sklearn.metrics import precision_score, recall_score, accuracy_score, roc_auc_score, classification_report\n",
    "from sklearn.metrics import roc_curve, precision_recall_curve\n",
    "from sklearn.metrics import confusion_matrix\n",
    "\n",
    "\n",
    "#Plots\n",
    "import matplotlib.pyplot as plt\n",
    "%matplotlib inline\n",
    "\n",
    "# Statistics\n",
    "from scipy.stats import binom_test\n",
    "\n",
    "# Strings\n",
    "import re"
   ]
  },
  {
   "cell_type": "markdown",
   "metadata": {},
   "source": [
    "# Import submission set"
   ]
  },
  {
   "cell_type": "code",
   "execution_count": 2,
   "metadata": {},
   "outputs": [
    {
     "name": "stdout",
     "output_type": "stream",
     "text": [
      "100 files read\n"
     ]
    }
   ],
   "source": [
    "dir_path = os.path.join('data', 'transformed_data', 'data_test', 'test')\n",
    "#print(dir_path)\n",
    "\n",
    "df_submission = None\n",
    "df_aux = None\n",
    "file_counter = 0\n",
    "\n",
    "for filename in os.listdir(dir_path):\n",
    "    \n",
    "    if filename.endswith(\".xlsx\"): \n",
    "        #print(os.path.join(dir_path, filename))\n",
    "                \n",
    "        df_list = []\n",
    "        # Read two sheets in each file\n",
    "        for sheet in ['sheet_1', 'sheet_2']:            \n",
    "            try:\n",
    "                df_aux = pd.read_excel(os.path.join(dir_path, filename), sheet_name=sheet, index_col=0).sort_index()\n",
    "            except:\n",
    "                print(os.path.join(dir_path, filename))\n",
    "                print(\"{} reading error!\".format(sheet))\n",
    "                break\n",
    "            \n",
    "            df_list.append(df_aux.copy())\n",
    "            del df_aux\n",
    "            \n",
    "        # Confirm both sheets had the same elements\n",
    "        if df_list[0].index.equals(df_list[1].index) == False:\n",
    "            print(\"df_list[0].index doesn't match df_list[1].index\")\n",
    "            break\n",
    "        \n",
    "        # Merge sheets\n",
    "        df_aux_merged = pd.concat(df_list, axis='columns', sort=False)\n",
    "        file_counter += 1\n",
    "        del df_list\n",
    "       \n",
    "    \n",
    "    \n",
    "    if df_submission is None:        \n",
    "        # Se for o 1º ficheiro a ser lido cria a dataframe        \n",
    "        df_submission = df_aux_merged.copy()\n",
    "        del df_aux_merged        \n",
    "    else:\n",
    "        \n",
    "        # Confirmar se tem as mesmas colunas\n",
    "        if df_submission.columns.equals(df_aux_merged.columns):\n",
    "            df_submission = df_submission.append(df_aux_merged)\n",
    "            del df_aux_merged\n",
    "            \n",
    "        else:\n",
    "            print(os.path.join(dir_path, filename))\n",
    "            print(\"File columns doesn't match with existing df_submission.\")\n",
    "            break\n",
    "\n",
    "\n",
    "df_submission = df_submission.sort_index()\n",
    "# Confirm that it is equal to the sample submission ids\n",
    "try: \n",
    "    df_aux = pd.read_csv(os.path.join('data', 'sample_submission.csv'), index_col=0).sort_index()\n",
    "except:\n",
    "    print(\"Unable to read '{}' file\".format(os.path.join('data', 'sample_submission.csv')))\n",
    "                         \n",
    "if df_submission.index.equals(df_aux.index) == False:\n",
    "    print(\"ERROR!!! df_submission ids are not equal to 'sample_submission.csv' ids\")\n",
    "                        \n",
    "print(\"{} files read\".format(file_counter))"
   ]
  },
  {
   "cell_type": "code",
   "execution_count": 3,
   "metadata": {
    "scrolled": true
   },
   "outputs": [
    {
     "name": "stdout",
     "output_type": "stream",
     "text": [
      "<class 'pandas.core.frame.DataFrame'>\n",
      "Index: 93310 entries, 00007c55a9a7591b98a76d79216c9112 to ffff9979c9699b51cb7cda98e5bf84c2\n",
      "Data columns (total 30 columns):\n",
      "orderportalid             93310 non-null int64\n",
      "orderdate_gmt             93310 non-null object\n",
      "designer                  93310 non-null int64\n",
      "style                     93310 non-null int64\n",
      "shipper                   93310 non-null int64\n",
      "shiptypeid                93310 non-null int64\n",
      "userid                    93202 non-null float64\n",
      "isvip                     93202 non-null object\n",
      "country                   93310 non-null int64\n",
      "region                    93310 non-null int64\n",
      "ddprate                   93310 non-null float64\n",
      "countrycode               93310 non-null int64\n",
      "hasusedwishlist           93202 non-null object\n",
      "isreseller                93202 non-null object\n",
      "hasitemsonbag             93202 non-null object\n",
      "tierafterorder            85809 non-null object\n",
      "tierbeforeorder           57397 non-null object\n",
      "isusingmultipledevices    93202 non-null object\n",
      "userfraudstatus           93310 non-null int64\n",
      "promocode                 93310 non-null int64\n",
      "freereturn                93310 non-null int64\n",
      "issale                    93310 non-null object\n",
      "productid                 93310 non-null int64\n",
      "brand                     93310 non-null int64\n",
      "ddpsubcategory            86070 non-null object\n",
      "storeid                   93310 non-null int64\n",
      "countryoforigin           93310 non-null int64\n",
      "size                      93310 non-null int64\n",
      "category_1stlevel         93194 non-null object\n",
      "platform                  73496 non-null object\n",
      "dtypes: float64(2), int64(16), object(12)\n",
      "memory usage: 22.1+ MB\n"
     ]
    }
   ],
   "source": [
    "df_submission.info()"
   ]
  },
  {
   "cell_type": "code",
   "execution_count": 17,
   "metadata": {},
   "outputs": [
    {
     "data": {
      "text/plain": [
       "pandas.core.series.Series"
      ]
     },
     "execution_count": 17,
     "metadata": {},
     "output_type": "execute_result"
    }
   ],
   "source": [
    "type(df_submission.dtypes)"
   ]
  },
  {
   "cell_type": "markdown",
   "metadata": {},
   "source": [
    "# Import data source 1"
   ]
  },
  {
   "cell_type": "code",
   "execution_count": 46,
   "metadata": {
    "scrolled": true
   },
   "outputs": [
    {
     "data": {
      "text/plain": [
       "{'encoding': 'windows-1251',\n",
       " 'confidence': 0.5730969056434915,\n",
       " 'language': 'Bulgarian'}"
      ]
     },
     "execution_count": 46,
     "metadata": {},
     "output_type": "execute_result"
    }
   ],
   "source": [
    "file_path = os.path.join('data', 'datasource1.csv')\n",
    "\n",
    "with open(file_path, 'rb') as f:\n",
    "    read_nbytes = 100000\n",
    "    encoding_dict = chardet.detect(f.read(read_nbytes))\n",
    "\n",
    "encoding_dict"
   ]
  },
  {
   "cell_type": "markdown",
   "metadata": {},
   "source": [
    "### Read the file"
   ]
  },
  {
   "cell_type": "code",
   "execution_count": 88,
   "metadata": {},
   "outputs": [],
   "source": [
    "df_aux = pd.read_csv(os.path.join('data', 'datasource1.csv'), encoding=file_encod, index_col=0)"
   ]
  },
  {
   "cell_type": "code",
   "execution_count": 99,
   "metadata": {},
   "outputs": [
    {
     "data": {
      "text/plain": [
       "id\n",
       "cfcd208495d565ef66e7dff9f98764da    Срећно! (Good luck!)\n",
       "c4ca4238a0b923820dcc509a6f75849b    Срећно! (Good luck!)\n",
       "c81e728d9d4c2f636f067f89cc14862c    Срећно! (Good luck!)\n",
       "eccbc87e4b5ce2fe28308fd9f2a7baf3    Срећно! (Good luck!)\n",
       "a87ff679a2f3e71d9181a67b7542122c    Срећно! (Good luck!)\n",
       "Name: ldsa_team_wishes_you, dtype: object"
      ]
     },
     "execution_count": 99,
     "metadata": {},
     "output_type": "execute_result"
    }
   ],
   "source": [
    "df_aux.iloc[:,5].head()"
   ]
  },
  {
   "cell_type": "code",
   "execution_count": 89,
   "metadata": {},
   "outputs": [
    {
     "name": "stdout",
     "output_type": "stream",
     "text": [
      "<class 'pandas.core.frame.DataFrame'>\n",
      "Index: 543341 entries, cfcd208495d565ef66e7dff9f98764da to a25519337908a5d92a979aae8cff43cb\n",
      "Data columns (total 6 columns):\n",
      "tierafterorder          511877 non-null object\n",
      "orderportalid           543341 non-null object\n",
      "size                    543341 non-null object\n",
      "orderdate_gmt           543341 non-null object\n",
      "hasusedwishlist         542659 non-null object\n",
      "ldsa_team_wishes_you    543341 non-null object\n",
      "dtypes: object(6)\n",
      "memory usage: 29.0+ MB\n"
     ]
    }
   ],
   "source": [
    "df_aux.info()"
   ]
  },
  {
   "cell_type": "code",
   "execution_count": 90,
   "metadata": {
    "scrolled": true
   },
   "outputs": [
    {
     "name": "stdout",
     "output_type": "stream",
     "text": [
      "tierafterorder     object\n",
      "orderportalid       int64\n",
      "size                int64\n",
      "orderdate_gmt      object\n",
      "hasusedwishlist    object\n",
      "dtype: object\n",
      "tierafterorder     object\n",
      "orderportalid       int64\n",
      "size                int64\n",
      "orderdate_gmt      object\n",
      "hasusedwishlist    object\n",
      "dtype: object\n"
     ]
    }
   ],
   "source": [
    "file_encod = encoding_dict['encoding']\n",
    "\n",
    "cols_to_use = [col for col in df_aux.columns if col in df_submission.columns]\n",
    "cols_to_convert = [col for col in df_submission.select_dtypes(include=np.number).columns if col in cols_to_use]\n",
    "df_submission_dtypes = df_submission.dtypes\n",
    "\n",
    "\n",
    "df_source1 = df_aux.copy()\n",
    "\n",
    "# keep only those columns that exist in df_submission\n",
    "df_source1 = df_source1[cols_to_use]\n",
    "\n",
    "# Convert numerical columns to numeric dtype\n",
    "df_source1[cols_to_convert] = df_source1[cols_to_convert].apply(pd.to_numeric, errors='coerce')\n",
    "\n",
    "# Drop observation if having na values in any columns\n",
    "df_source1 = df_source1.dropna()\n",
    "\n",
    "# Force types to be exactly the same as in df_submission_dtypes\n",
    "df_source1 = df_source1.astype(df_submission_dtypes[cols_to_use])\n",
    "\n",
    "# print(df_source1.dtypes)\n",
    "# print(df_submission[cols_to_use].dtypes)\n",
    "\n"
   ]
  },
  {
   "cell_type": "code",
   "execution_count": 92,
   "metadata": {},
   "outputs": [
    {
     "data": {
      "text/html": [
       "<div>\n",
       "<style scoped>\n",
       "    .dataframe tbody tr th:only-of-type {\n",
       "        vertical-align: middle;\n",
       "    }\n",
       "\n",
       "    .dataframe tbody tr th {\n",
       "        vertical-align: top;\n",
       "    }\n",
       "\n",
       "    .dataframe thead th {\n",
       "        text-align: right;\n",
       "    }\n",
       "</style>\n",
       "<table border=\"1\" class=\"dataframe\">\n",
       "  <thead>\n",
       "    <tr style=\"text-align: right;\">\n",
       "      <th></th>\n",
       "      <th>tierafterorder</th>\n",
       "      <th>orderportalid</th>\n",
       "      <th>size</th>\n",
       "      <th>orderdate_gmt</th>\n",
       "      <th>hasusedwishlist</th>\n",
       "    </tr>\n",
       "    <tr>\n",
       "      <th>id</th>\n",
       "      <th></th>\n",
       "      <th></th>\n",
       "      <th></th>\n",
       "      <th></th>\n",
       "      <th></th>\n",
       "    </tr>\n",
       "  </thead>\n",
       "  <tbody>\n",
       "    <tr>\n",
       "      <th>cfcd208495d565ef66e7dff9f98764da</th>\n",
       "      <td>T4</td>\n",
       "      <td>1</td>\n",
       "      <td>1</td>\n",
       "      <td>2018-01-01 00:00:19.733000+00:00</td>\n",
       "      <td>Yes</td>\n",
       "    </tr>\n",
       "    <tr>\n",
       "      <th>c4ca4238a0b923820dcc509a6f75849b</th>\n",
       "      <td>T3</td>\n",
       "      <td>2</td>\n",
       "      <td>2</td>\n",
       "      <td>2018-01-01 00:00:42.540000+00:00</td>\n",
       "      <td>Yes</td>\n",
       "    </tr>\n",
       "    <tr>\n",
       "      <th>c81e728d9d4c2f636f067f89cc14862c</th>\n",
       "      <td>T3</td>\n",
       "      <td>3</td>\n",
       "      <td>3</td>\n",
       "      <td>2018-01-01 00:01:15.893000+00:00</td>\n",
       "      <td>No</td>\n",
       "    </tr>\n",
       "    <tr>\n",
       "      <th>eccbc87e4b5ce2fe28308fd9f2a7baf3</th>\n",
       "      <td>T3</td>\n",
       "      <td>3</td>\n",
       "      <td>4</td>\n",
       "      <td>2018-01-01 00:01:15.893000+00:00</td>\n",
       "      <td>No</td>\n",
       "    </tr>\n",
       "    <tr>\n",
       "      <th>a87ff679a2f3e71d9181a67b7542122c</th>\n",
       "      <td>T4</td>\n",
       "      <td>4</td>\n",
       "      <td>5</td>\n",
       "      <td>2018-01-01 00:01:51.450000+00:00</td>\n",
       "      <td>No</td>\n",
       "    </tr>\n",
       "  </tbody>\n",
       "</table>\n",
       "</div>"
      ],
      "text/plain": [
       "                                 tierafterorder  orderportalid  size  \\\n",
       "id                                                                     \n",
       "cfcd208495d565ef66e7dff9f98764da             T4              1     1   \n",
       "c4ca4238a0b923820dcc509a6f75849b             T3              2     2   \n",
       "c81e728d9d4c2f636f067f89cc14862c             T3              3     3   \n",
       "eccbc87e4b5ce2fe28308fd9f2a7baf3             T3              3     4   \n",
       "a87ff679a2f3e71d9181a67b7542122c             T4              4     5   \n",
       "\n",
       "                                                     orderdate_gmt  \\\n",
       "id                                                                   \n",
       "cfcd208495d565ef66e7dff9f98764da  2018-01-01 00:00:19.733000+00:00   \n",
       "c4ca4238a0b923820dcc509a6f75849b  2018-01-01 00:00:42.540000+00:00   \n",
       "c81e728d9d4c2f636f067f89cc14862c  2018-01-01 00:01:15.893000+00:00   \n",
       "eccbc87e4b5ce2fe28308fd9f2a7baf3  2018-01-01 00:01:15.893000+00:00   \n",
       "a87ff679a2f3e71d9181a67b7542122c  2018-01-01 00:01:51.450000+00:00   \n",
       "\n",
       "                                 hasusedwishlist  \n",
       "id                                                \n",
       "cfcd208495d565ef66e7dff9f98764da             Yes  \n",
       "c4ca4238a0b923820dcc509a6f75849b             Yes  \n",
       "c81e728d9d4c2f636f067f89cc14862c              No  \n",
       "eccbc87e4b5ce2fe28308fd9f2a7baf3              No  \n",
       "a87ff679a2f3e71d9181a67b7542122c              No  "
      ]
     },
     "execution_count": 92,
     "metadata": {},
     "output_type": "execute_result"
    }
   ],
   "source": [
    "df_source1.head()"
   ]
  },
  {
   "cell_type": "code",
   "execution_count": 100,
   "metadata": {},
   "outputs": [
    {
     "name": "stdout",
     "output_type": "stream",
     "text": [
      "<class 'pandas.core.frame.DataFrame'>\n",
      "Index: 461298 entries, cfcd208495d565ef66e7dff9f98764da to a25519337908a5d92a979aae8cff43cb\n",
      "Data columns (total 5 columns):\n",
      "tierafterorder     461298 non-null object\n",
      "orderportalid      461298 non-null int64\n",
      "size               461298 non-null int64\n",
      "orderdate_gmt      461298 non-null object\n",
      "hasusedwishlist    461298 non-null object\n",
      "dtypes: int64(2), object(3)\n",
      "memory usage: 21.1+ MB\n"
     ]
    }
   ],
   "source": [
    "df_source1.info()"
   ]
  },
  {
   "cell_type": "code",
   "execution_count": null,
   "metadata": {},
   "outputs": [],
   "source": []
  }
 ],
 "metadata": {
  "kernelspec": {
   "display_name": "Python 3",
   "language": "python",
   "name": "python3"
  },
  "language_info": {
   "codemirror_mode": {
    "name": "ipython",
    "version": 3
   },
   "file_extension": ".py",
   "mimetype": "text/x-python",
   "name": "python",
   "nbconvert_exporter": "python",
   "pygments_lexer": "ipython3",
   "version": "3.7.1"
  }
 },
 "nbformat": 4,
 "nbformat_minor": 2
}
