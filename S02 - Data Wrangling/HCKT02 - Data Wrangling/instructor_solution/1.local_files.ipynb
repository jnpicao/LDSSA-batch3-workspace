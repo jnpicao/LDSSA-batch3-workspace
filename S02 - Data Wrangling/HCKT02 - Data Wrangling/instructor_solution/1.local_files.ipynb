{
 "cells": [
  {
   "cell_type": "code",
   "execution_count": 1,
   "metadata": {},
   "outputs": [
    {
     "name": "stdout",
     "output_type": "stream",
     "text": [
      "total 553840\r\n",
      "drwxr-xr-x  14 chi  staff   448B Sep 14 19:49 \u001b[1m\u001b[36m.\u001b[m\u001b[m\r\n",
      "drwxr-xr-x  10 chi  staff   320B Sep 14 19:51 \u001b[1m\u001b[36m..\u001b[m\u001b[m\r\n",
      "-rw-r--r--@  1 chi  staff   8.0K Aug 25 12:18 .DS_Store\r\n",
      "drwxr-xr-x   3 chi  staff    96B Aug 20 23:05 \u001b[1m\u001b[36m.ipynb_checkpoints\u001b[m\u001b[m\r\n",
      "-rw-r--r--   1 chi  staff    17M Sep 14 19:49 data_test.zip\r\n",
      "-rw-r--r--   1 chi  staff    41M Sep 14 19:49 data_train_1.zip\r\n",
      "-rw-r--r--   1 chi  staff    76M Sep 14 19:49 data_train_2.zip\r\n",
      "-rw-r--r--   1 chi  staff    16M Sep 14 19:49 data_train_3.zip\r\n",
      "-rw-r--r--   1 chi  staff    53M Aug 24 13:47 datasource1.csv\r\n",
      "-rw-r--r--   1 chi  staff   478B Aug 25 09:54 datasource1_small.csv\r\n",
      "-rw-r--r--   1 chi  staff    35M Aug 24 13:48 datasource2.json\r\n",
      "-rw-r--r--   1 chi  staff    28M Aug 24 13:48 datasource3.csv\r\n",
      "-rw-r--r--   1 chi  staff   4.7M Sep 14 19:49 sample_submission.csv\r\n",
      "drwxr-xr-x   4 chi  staff   128B Aug 25 12:18 \u001b[1m\u001b[36mtransformed_data\u001b[m\u001b[m\r\n"
     ]
    }
   ],
   "source": [
    "!ls -alh ../data"
   ]
  },
  {
   "cell_type": "code",
   "execution_count": 2,
   "metadata": {},
   "outputs": [
    {
     "name": "stdout",
     "output_type": "stream",
     "text": [
      "id,returned\r\n",
      "a3173126f1e0e5e456a5c74d4c0cfeb2,0.3745401188473625\r\n",
      "d85ad1398aca4b9fc5768dc55ba916b0,0.9507143064099162\r\n",
      "89d75016827f0872e8a2175353062b1e,0.7319939418114051\r\n",
      "f6a8725e35f22ab9ec58ae59028f37b3,0.5986584841970366\r\n",
      "8bb525cd90856cb8cacad2bc6c63fbdd,0.15601864044243652\r\n",
      "5ead6e0f89f0f5e511bcef658ccede19,0.15599452033620265\r\n",
      "d4cc85514e5e9efe513e3f7508fc24e7,0.05808361216819946\r\n",
      "18a498699b1231c205d651d75c9b173b,0.8661761457749352\r\n",
      "13d8a4b2a270afd12535d03cd2518aaf,0.6011150117432088\r\n"
     ]
    }
   ],
   "source": [
    "!head ../data/sample_submission.csv"
   ]
  },
  {
   "cell_type": "markdown",
   "metadata": {},
   "source": [
    "Now we need to decompress the zip files."
   ]
  },
  {
   "cell_type": "code",
   "execution_count": 3,
   "metadata": {},
   "outputs": [],
   "source": [
    "! mkdir data"
   ]
  },
  {
   "cell_type": "code",
   "execution_count": 4,
   "metadata": {},
   "outputs": [],
   "source": [
    "from zipfile import ZipFile\n",
    "\n",
    "for i in range(1,4):\n",
    "    # Create a ZipFile Object and load data_train_*.zip in it\n",
    "    with ZipFile(f'../data/data_train_{i}.zip', 'r') as zipObj:\n",
    "        # Extract all the contents of zip file in different directory\n",
    "        zipObj.extractall(f'data/data_train_{i}')"
   ]
  },
  {
   "cell_type": "markdown",
   "metadata": {},
   "source": [
    "\n",
    "### Data train 1"
   ]
  },
  {
   "cell_type": "code",
   "execution_count": 5,
   "metadata": {},
   "outputs": [
    {
     "name": "stdout",
     "output_type": "stream",
     "text": [
      "datasource1.csv   datasource2.json  datasource3.csv\r\n"
     ]
    }
   ],
   "source": [
    "ls data/data_train_1/"
   ]
  },
  {
   "cell_type": "code",
   "execution_count": 6,
   "metadata": {},
   "outputs": [],
   "source": [
    "import pandas as pd"
   ]
  },
  {
   "cell_type": "code",
   "execution_count": 7,
   "metadata": {},
   "outputs": [
    {
     "ename": "UnicodeDecodeError",
     "evalue": "'utf-8' codec can't decode byte 0xd1 in position 0: invalid continuation byte",
     "output_type": "error",
     "traceback": [
      "\u001b[0;31m---------------------------------------------------------------------------\u001b[0m",
      "\u001b[0;31mUnicodeDecodeError\u001b[0m                        Traceback (most recent call last)",
      "\u001b[0;32mpandas/_libs/parsers.pyx\u001b[0m in \u001b[0;36mpandas._libs.parsers.TextReader._convert_tokens\u001b[0;34m()\u001b[0m\n",
      "\u001b[0;32mpandas/_libs/parsers.pyx\u001b[0m in \u001b[0;36mpandas._libs.parsers.TextReader._convert_with_dtype\u001b[0;34m()\u001b[0m\n",
      "\u001b[0;32mpandas/_libs/parsers.pyx\u001b[0m in \u001b[0;36mpandas._libs.parsers.TextReader._string_convert\u001b[0;34m()\u001b[0m\n",
      "\u001b[0;32mpandas/_libs/parsers.pyx\u001b[0m in \u001b[0;36mpandas._libs.parsers._string_box_utf8\u001b[0;34m()\u001b[0m\n",
      "\u001b[0;31mUnicodeDecodeError\u001b[0m: 'utf-8' codec can't decode byte 0xd1 in position 0: invalid continuation byte",
      "\nDuring handling of the above exception, another exception occurred:\n",
      "\u001b[0;31mUnicodeDecodeError\u001b[0m                        Traceback (most recent call last)",
      "\u001b[0;32m<ipython-input-7-6586722febe5>\u001b[0m in \u001b[0;36m<module>\u001b[0;34m\u001b[0m\n\u001b[0;32m----> 1\u001b[0;31m \u001b[0mdf1\u001b[0m \u001b[0;34m=\u001b[0m \u001b[0mpd\u001b[0m\u001b[0;34m.\u001b[0m\u001b[0mread_csv\u001b[0m\u001b[0;34m(\u001b[0m\u001b[0;34m'data/data_train_1/datasource1.csv'\u001b[0m\u001b[0;34m)\u001b[0m\u001b[0;34m\u001b[0m\u001b[0;34m\u001b[0m\u001b[0m\n\u001b[0m",
      "\u001b[0;32m/usr/local/lib/python3.7/site-packages/pandas/io/parsers.py\u001b[0m in \u001b[0;36mparser_f\u001b[0;34m(filepath_or_buffer, sep, delimiter, header, names, index_col, usecols, squeeze, prefix, mangle_dupe_cols, dtype, engine, converters, true_values, false_values, skipinitialspace, skiprows, skipfooter, nrows, na_values, keep_default_na, na_filter, verbose, skip_blank_lines, parse_dates, infer_datetime_format, keep_date_col, date_parser, dayfirst, iterator, chunksize, compression, thousands, decimal, lineterminator, quotechar, quoting, doublequote, escapechar, comment, encoding, dialect, tupleize_cols, error_bad_lines, warn_bad_lines, delim_whitespace, low_memory, memory_map, float_precision)\u001b[0m\n\u001b[1;32m    700\u001b[0m                     skip_blank_lines=skip_blank_lines)\n\u001b[1;32m    701\u001b[0m \u001b[0;34m\u001b[0m\u001b[0m\n\u001b[0;32m--> 702\u001b[0;31m         \u001b[0;32mreturn\u001b[0m \u001b[0m_read\u001b[0m\u001b[0;34m(\u001b[0m\u001b[0mfilepath_or_buffer\u001b[0m\u001b[0;34m,\u001b[0m \u001b[0mkwds\u001b[0m\u001b[0;34m)\u001b[0m\u001b[0;34m\u001b[0m\u001b[0;34m\u001b[0m\u001b[0m\n\u001b[0m\u001b[1;32m    703\u001b[0m \u001b[0;34m\u001b[0m\u001b[0m\n\u001b[1;32m    704\u001b[0m     \u001b[0mparser_f\u001b[0m\u001b[0;34m.\u001b[0m\u001b[0m__name__\u001b[0m \u001b[0;34m=\u001b[0m \u001b[0mname\u001b[0m\u001b[0;34m\u001b[0m\u001b[0;34m\u001b[0m\u001b[0m\n",
      "\u001b[0;32m/usr/local/lib/python3.7/site-packages/pandas/io/parsers.py\u001b[0m in \u001b[0;36m_read\u001b[0;34m(filepath_or_buffer, kwds)\u001b[0m\n\u001b[1;32m    433\u001b[0m \u001b[0;34m\u001b[0m\u001b[0m\n\u001b[1;32m    434\u001b[0m     \u001b[0;32mtry\u001b[0m\u001b[0;34m:\u001b[0m\u001b[0;34m\u001b[0m\u001b[0;34m\u001b[0m\u001b[0m\n\u001b[0;32m--> 435\u001b[0;31m         \u001b[0mdata\u001b[0m \u001b[0;34m=\u001b[0m \u001b[0mparser\u001b[0m\u001b[0;34m.\u001b[0m\u001b[0mread\u001b[0m\u001b[0;34m(\u001b[0m\u001b[0mnrows\u001b[0m\u001b[0;34m)\u001b[0m\u001b[0;34m\u001b[0m\u001b[0;34m\u001b[0m\u001b[0m\n\u001b[0m\u001b[1;32m    436\u001b[0m     \u001b[0;32mfinally\u001b[0m\u001b[0;34m:\u001b[0m\u001b[0;34m\u001b[0m\u001b[0;34m\u001b[0m\u001b[0m\n\u001b[1;32m    437\u001b[0m         \u001b[0mparser\u001b[0m\u001b[0;34m.\u001b[0m\u001b[0mclose\u001b[0m\u001b[0;34m(\u001b[0m\u001b[0;34m)\u001b[0m\u001b[0;34m\u001b[0m\u001b[0;34m\u001b[0m\u001b[0m\n",
      "\u001b[0;32m/usr/local/lib/python3.7/site-packages/pandas/io/parsers.py\u001b[0m in \u001b[0;36mread\u001b[0;34m(self, nrows)\u001b[0m\n\u001b[1;32m   1137\u001b[0m     \u001b[0;32mdef\u001b[0m \u001b[0mread\u001b[0m\u001b[0;34m(\u001b[0m\u001b[0mself\u001b[0m\u001b[0;34m,\u001b[0m \u001b[0mnrows\u001b[0m\u001b[0;34m=\u001b[0m\u001b[0;32mNone\u001b[0m\u001b[0;34m)\u001b[0m\u001b[0;34m:\u001b[0m\u001b[0;34m\u001b[0m\u001b[0;34m\u001b[0m\u001b[0m\n\u001b[1;32m   1138\u001b[0m         \u001b[0mnrows\u001b[0m \u001b[0;34m=\u001b[0m \u001b[0m_validate_integer\u001b[0m\u001b[0;34m(\u001b[0m\u001b[0;34m'nrows'\u001b[0m\u001b[0;34m,\u001b[0m \u001b[0mnrows\u001b[0m\u001b[0;34m)\u001b[0m\u001b[0;34m\u001b[0m\u001b[0;34m\u001b[0m\u001b[0m\n\u001b[0;32m-> 1139\u001b[0;31m         \u001b[0mret\u001b[0m \u001b[0;34m=\u001b[0m \u001b[0mself\u001b[0m\u001b[0;34m.\u001b[0m\u001b[0m_engine\u001b[0m\u001b[0;34m.\u001b[0m\u001b[0mread\u001b[0m\u001b[0;34m(\u001b[0m\u001b[0mnrows\u001b[0m\u001b[0;34m)\u001b[0m\u001b[0;34m\u001b[0m\u001b[0;34m\u001b[0m\u001b[0m\n\u001b[0m\u001b[1;32m   1140\u001b[0m \u001b[0;34m\u001b[0m\u001b[0m\n\u001b[1;32m   1141\u001b[0m         \u001b[0;31m# May alter columns / col_dict\u001b[0m\u001b[0;34m\u001b[0m\u001b[0;34m\u001b[0m\u001b[0;34m\u001b[0m\u001b[0m\n",
      "\u001b[0;32m/usr/local/lib/python3.7/site-packages/pandas/io/parsers.py\u001b[0m in \u001b[0;36mread\u001b[0;34m(self, nrows)\u001b[0m\n\u001b[1;32m   1993\u001b[0m     \u001b[0;32mdef\u001b[0m \u001b[0mread\u001b[0m\u001b[0;34m(\u001b[0m\u001b[0mself\u001b[0m\u001b[0;34m,\u001b[0m \u001b[0mnrows\u001b[0m\u001b[0;34m=\u001b[0m\u001b[0;32mNone\u001b[0m\u001b[0;34m)\u001b[0m\u001b[0;34m:\u001b[0m\u001b[0;34m\u001b[0m\u001b[0;34m\u001b[0m\u001b[0m\n\u001b[1;32m   1994\u001b[0m         \u001b[0;32mtry\u001b[0m\u001b[0;34m:\u001b[0m\u001b[0;34m\u001b[0m\u001b[0;34m\u001b[0m\u001b[0m\n\u001b[0;32m-> 1995\u001b[0;31m             \u001b[0mdata\u001b[0m \u001b[0;34m=\u001b[0m \u001b[0mself\u001b[0m\u001b[0;34m.\u001b[0m\u001b[0m_reader\u001b[0m\u001b[0;34m.\u001b[0m\u001b[0mread\u001b[0m\u001b[0;34m(\u001b[0m\u001b[0mnrows\u001b[0m\u001b[0;34m)\u001b[0m\u001b[0;34m\u001b[0m\u001b[0;34m\u001b[0m\u001b[0m\n\u001b[0m\u001b[1;32m   1996\u001b[0m         \u001b[0;32mexcept\u001b[0m \u001b[0mStopIteration\u001b[0m\u001b[0;34m:\u001b[0m\u001b[0;34m\u001b[0m\u001b[0;34m\u001b[0m\u001b[0m\n\u001b[1;32m   1997\u001b[0m             \u001b[0;32mif\u001b[0m \u001b[0mself\u001b[0m\u001b[0;34m.\u001b[0m\u001b[0m_first_chunk\u001b[0m\u001b[0;34m:\u001b[0m\u001b[0;34m\u001b[0m\u001b[0;34m\u001b[0m\u001b[0m\n",
      "\u001b[0;32mpandas/_libs/parsers.pyx\u001b[0m in \u001b[0;36mpandas._libs.parsers.TextReader.read\u001b[0;34m()\u001b[0m\n",
      "\u001b[0;32mpandas/_libs/parsers.pyx\u001b[0m in \u001b[0;36mpandas._libs.parsers.TextReader._read_low_memory\u001b[0;34m()\u001b[0m\n",
      "\u001b[0;32mpandas/_libs/parsers.pyx\u001b[0m in \u001b[0;36mpandas._libs.parsers.TextReader._read_rows\u001b[0;34m()\u001b[0m\n",
      "\u001b[0;32mpandas/_libs/parsers.pyx\u001b[0m in \u001b[0;36mpandas._libs.parsers.TextReader._convert_column_data\u001b[0;34m()\u001b[0m\n",
      "\u001b[0;32mpandas/_libs/parsers.pyx\u001b[0m in \u001b[0;36mpandas._libs.parsers.TextReader._convert_tokens\u001b[0;34m()\u001b[0m\n",
      "\u001b[0;32mpandas/_libs/parsers.pyx\u001b[0m in \u001b[0;36mpandas._libs.parsers.TextReader._convert_with_dtype\u001b[0;34m()\u001b[0m\n",
      "\u001b[0;32mpandas/_libs/parsers.pyx\u001b[0m in \u001b[0;36mpandas._libs.parsers.TextReader._string_convert\u001b[0;34m()\u001b[0m\n",
      "\u001b[0;32mpandas/_libs/parsers.pyx\u001b[0m in \u001b[0;36mpandas._libs.parsers._string_box_utf8\u001b[0;34m()\u001b[0m\n",
      "\u001b[0;31mUnicodeDecodeError\u001b[0m: 'utf-8' codec can't decode byte 0xd1 in position 0: invalid continuation byte"
     ]
    }
   ],
   "source": [
    "df1 = pd.read_csv('data/data_train_1/datasource1.csv')"
   ]
  },
  {
   "cell_type": "markdown",
   "metadata": {},
   "source": [
    "First error! It seems to be a unicodedecode error, this means the file is not unicode (utf8) valid. There are a huge number of encodings available, we can use [chardet](https://chardet.readthedocs.io/en/latest/usage.html) to detect the valid encoding.\n",
    "\n",
    "To use it we just have to read the file in byte format (the `rb` flag). We only read the first 1000 bytes (so it's faster) and use `chardet.detect`."
   ]
  },
  {
   "cell_type": "code",
   "execution_count": 8,
   "metadata": {},
   "outputs": [],
   "source": [
    "import chardet"
   ]
  },
  {
   "cell_type": "code",
   "execution_count": 9,
   "metadata": {},
   "outputs": [
    {
     "data": {
      "text/plain": [
       "{'encoding': 'windows-1251',\n",
       " 'confidence': 0.5730969056434915,\n",
       " 'language': 'Bulgarian'}"
      ]
     },
     "execution_count": 9,
     "metadata": {},
     "output_type": "execute_result"
    }
   ],
   "source": [
    "with open('data/data_train_1/datasource1.csv', 'rb') as fname:\n",
    "    raw_data = fname.read()[:1000]\n",
    "    \n",
    "chardet.detect(raw_data)"
   ]
  },
  {
   "cell_type": "code",
   "execution_count": 10,
   "metadata": {},
   "outputs": [],
   "source": [
    "df1 = pd.read_csv('data/data_train_1/datasource1.csv', encoding='windows-1251')"
   ]
  },
  {
   "cell_type": "code",
   "execution_count": 11,
   "metadata": {},
   "outputs": [
    {
     "data": {
      "text/html": [
       "<div>\n",
       "<style scoped>\n",
       "    .dataframe tbody tr th:only-of-type {\n",
       "        vertical-align: middle;\n",
       "    }\n",
       "\n",
       "    .dataframe tbody tr th {\n",
       "        vertical-align: top;\n",
       "    }\n",
       "\n",
       "    .dataframe thead th {\n",
       "        text-align: right;\n",
       "    }\n",
       "</style>\n",
       "<table border=\"1\" class=\"dataframe\">\n",
       "  <thead>\n",
       "    <tr style=\"text-align: right;\">\n",
       "      <th></th>\n",
       "      <th>id</th>\n",
       "      <th>tierafterorder</th>\n",
       "      <th>orderportalid</th>\n",
       "      <th>size</th>\n",
       "      <th>orderdate_gmt</th>\n",
       "      <th>hasusedwishlist</th>\n",
       "      <th>ldsa_team_wishes_you</th>\n",
       "    </tr>\n",
       "  </thead>\n",
       "  <tbody>\n",
       "    <tr>\n",
       "      <th>0</th>\n",
       "      <td>cfcd208495d565ef66e7dff9f98764da</td>\n",
       "      <td>T4</td>\n",
       "      <td>1</td>\n",
       "      <td>1</td>\n",
       "      <td>2018-01-01 00:00:19.733000+00:00</td>\n",
       "      <td>Yes</td>\n",
       "      <td>Срећно! (Good luck!)</td>\n",
       "    </tr>\n",
       "    <tr>\n",
       "      <th>1</th>\n",
       "      <td>c4ca4238a0b923820dcc509a6f75849b</td>\n",
       "      <td>T3</td>\n",
       "      <td>2</td>\n",
       "      <td>2</td>\n",
       "      <td>2018-01-01 00:00:42.540000+00:00</td>\n",
       "      <td>Yes</td>\n",
       "      <td>Срећно! (Good luck!)</td>\n",
       "    </tr>\n",
       "    <tr>\n",
       "      <th>2</th>\n",
       "      <td>c81e728d9d4c2f636f067f89cc14862c</td>\n",
       "      <td>T3</td>\n",
       "      <td>3</td>\n",
       "      <td>3</td>\n",
       "      <td>2018-01-01 00:01:15.893000+00:00</td>\n",
       "      <td>No</td>\n",
       "      <td>Срећно! (Good luck!)</td>\n",
       "    </tr>\n",
       "    <tr>\n",
       "      <th>3</th>\n",
       "      <td>eccbc87e4b5ce2fe28308fd9f2a7baf3</td>\n",
       "      <td>T3</td>\n",
       "      <td>3</td>\n",
       "      <td>4</td>\n",
       "      <td>2018-01-01 00:01:15.893000+00:00</td>\n",
       "      <td>No</td>\n",
       "      <td>Срећно! (Good luck!)</td>\n",
       "    </tr>\n",
       "    <tr>\n",
       "      <th>4</th>\n",
       "      <td>a87ff679a2f3e71d9181a67b7542122c</td>\n",
       "      <td>T4</td>\n",
       "      <td>4</td>\n",
       "      <td>5</td>\n",
       "      <td>2018-01-01 00:01:51.450000+00:00</td>\n",
       "      <td>No</td>\n",
       "      <td>Срећно! (Good luck!)</td>\n",
       "    </tr>\n",
       "  </tbody>\n",
       "</table>\n",
       "</div>"
      ],
      "text/plain": [
       "                                 id tierafterorder orderportalid size  \\\n",
       "0  cfcd208495d565ef66e7dff9f98764da             T4             1    1   \n",
       "1  c4ca4238a0b923820dcc509a6f75849b             T3             2    2   \n",
       "2  c81e728d9d4c2f636f067f89cc14862c             T3             3    3   \n",
       "3  eccbc87e4b5ce2fe28308fd9f2a7baf3             T3             3    4   \n",
       "4  a87ff679a2f3e71d9181a67b7542122c             T4             4    5   \n",
       "\n",
       "                      orderdate_gmt hasusedwishlist  ldsa_team_wishes_you  \n",
       "0  2018-01-01 00:00:19.733000+00:00             Yes  Срећно! (Good luck!)  \n",
       "1  2018-01-01 00:00:42.540000+00:00             Yes  Срећно! (Good luck!)  \n",
       "2  2018-01-01 00:01:15.893000+00:00              No  Срећно! (Good luck!)  \n",
       "3  2018-01-01 00:01:15.893000+00:00              No  Срећно! (Good luck!)  \n",
       "4  2018-01-01 00:01:51.450000+00:00              No  Срећно! (Good luck!)  "
      ]
     },
     "execution_count": 11,
     "metadata": {},
     "output_type": "execute_result"
    }
   ],
   "source": [
    "df1.head()"
   ]
  },
  {
   "cell_type": "markdown",
   "metadata": {},
   "source": [
    "Let's set the id as the index for all the files."
   ]
  },
  {
   "cell_type": "code",
   "execution_count": 12,
   "metadata": {},
   "outputs": [],
   "source": [
    "df1 = df1.set_index('id')"
   ]
  },
  {
   "cell_type": "markdown",
   "metadata": {},
   "source": [
    "Done! Let's go to the second file of this folder."
   ]
  },
  {
   "cell_type": "code",
   "execution_count": 13,
   "metadata": {},
   "outputs": [
    {
     "name": "stdout",
     "output_type": "stream",
     "text": [
      "datasource1.csv   datasource2.json  datasource3.csv\r\n"
     ]
    }
   ],
   "source": [
    "ls data/data_train_1/"
   ]
  },
  {
   "cell_type": "markdown",
   "metadata": {},
   "source": [
    "It seems to be a json file..."
   ]
  },
  {
   "cell_type": "code",
   "execution_count": 14,
   "metadata": {},
   "outputs": [],
   "source": [
    "with open('data/data_train_1/datasource2.json') as fname:\n",
    "    df2 = pd.read_json(fname, lines=True)"
   ]
  },
  {
   "cell_type": "code",
   "execution_count": 15,
   "metadata": {},
   "outputs": [
    {
     "data": {
      "text/html": [
       "<div>\n",
       "<style scoped>\n",
       "    .dataframe tbody tr th:only-of-type {\n",
       "        vertical-align: middle;\n",
       "    }\n",
       "\n",
       "    .dataframe tbody tr th {\n",
       "        vertical-align: top;\n",
       "    }\n",
       "\n",
       "    .dataframe thead th {\n",
       "        text-align: right;\n",
       "    }\n",
       "</style>\n",
       "<table border=\"1\" class=\"dataframe\">\n",
       "  <thead>\n",
       "    <tr style=\"text-align: right;\">\n",
       "      <th></th>\n",
       "      <th>columns</th>\n",
       "      <th>data</th>\n",
       "      <th>index</th>\n",
       "    </tr>\n",
       "  </thead>\n",
       "  <tbody>\n",
       "    <tr>\n",
       "      <th>0</th>\n",
       "      <td>[shipper, productid, isreseller, issale, categ...</td>\n",
       "      <td>[[1, 1, No, Yes, Accessories], [2, 2, No, No, ...</td>\n",
       "      <td>[cfcd208495d565ef66e7dff9f98764da, c4ca4238a0b...</td>\n",
       "    </tr>\n",
       "  </tbody>\n",
       "</table>\n",
       "</div>"
      ],
      "text/plain": [
       "                                             columns  \\\n",
       "0  [shipper, productid, isreseller, issale, categ...   \n",
       "\n",
       "                                                data  \\\n",
       "0  [[1, 1, No, Yes, Accessories], [2, 2, No, No, ...   \n",
       "\n",
       "                                               index  \n",
       "0  [cfcd208495d565ef66e7dff9f98764da, c4ca4238a0b...  "
      ]
     },
     "execution_count": 15,
     "metadata": {},
     "output_type": "execute_result"
    }
   ],
   "source": [
    "df2.head()"
   ]
  },
  {
   "cell_type": "markdown",
   "metadata": {},
   "source": [
    "Ok that didn't work, maybe a different orientation? Let's check the [documentation](https://pandas.pydata.org/pandas-docs/stable/reference/api/pandas.read_json.html) and preview the json."
   ]
  },
  {
   "cell_type": "code",
   "execution_count": 18,
   "metadata": {},
   "outputs": [
    {
     "name": "stdout",
     "output_type": "stream",
     "text": [
      "{\"columns\":[\"shipper\",\"productid\",\"isreseller\",\"issale\",\"category_1stlevel\"],\"index\":[\"cfcd208495d565ef66e7dff9f98764da\",\"c4ca4238a0b923820dcc509a6f75849b\",\"c81e728d9d4c2f636f067f89cc14862c\",\"eccbc87e4b5ce2fe28308fd9f2a7baf3\",\"a87ff679a2f3e71d9181a67b7542122c\",\"e4da3b7fbbce2345d7772b0674a318d5\",\"1679091c5a880faf6fb5e6087eb1b2dc\",\"8f14e45fceea167a5a36dedd4bea2543\",\"c9f0f895fb98ab9159f51fd0297e236d\",\"45c48cce2e2d7fbdea1afc51c7c6ad26\",\"d3d9446802a44259755d38e6d163e820\",\"6512bd43d9caa6e02c990b0a8265"
     ]
    }
   ],
   "source": [
    "# this shows the first 500 bytes of the file\n",
    "! head -c 500 data/data_train_1/datasource2.json"
   ]
  },
  {
   "cell_type": "code",
   "execution_count": 19,
   "metadata": {},
   "outputs": [],
   "source": [
    "with open('data/data_train_1/datasource2.json') as fname:\n",
    "    df2 = pd.read_json(fname, orient='split')"
   ]
  },
  {
   "cell_type": "code",
   "execution_count": 20,
   "metadata": {},
   "outputs": [
    {
     "data": {
      "text/html": [
       "<div>\n",
       "<style scoped>\n",
       "    .dataframe tbody tr th:only-of-type {\n",
       "        vertical-align: middle;\n",
       "    }\n",
       "\n",
       "    .dataframe tbody tr th {\n",
       "        vertical-align: top;\n",
       "    }\n",
       "\n",
       "    .dataframe thead th {\n",
       "        text-align: right;\n",
       "    }\n",
       "</style>\n",
       "<table border=\"1\" class=\"dataframe\">\n",
       "  <thead>\n",
       "    <tr style=\"text-align: right;\">\n",
       "      <th></th>\n",
       "      <th>shipper</th>\n",
       "      <th>productid</th>\n",
       "      <th>isreseller</th>\n",
       "      <th>issale</th>\n",
       "      <th>category_1stlevel</th>\n",
       "    </tr>\n",
       "  </thead>\n",
       "  <tbody>\n",
       "    <tr>\n",
       "      <th>cfcd208495d565ef66e7dff9f98764da</th>\n",
       "      <td>1</td>\n",
       "      <td>1</td>\n",
       "      <td>No</td>\n",
       "      <td>Yes</td>\n",
       "      <td>Accessories</td>\n",
       "    </tr>\n",
       "    <tr>\n",
       "      <th>c4ca4238a0b923820dcc509a6f75849b</th>\n",
       "      <td>2</td>\n",
       "      <td>2</td>\n",
       "      <td>No</td>\n",
       "      <td>No</td>\n",
       "      <td>Clothing</td>\n",
       "    </tr>\n",
       "    <tr>\n",
       "      <th>c81e728d9d4c2f636f067f89cc14862c</th>\n",
       "      <td>2</td>\n",
       "      <td>3</td>\n",
       "      <td>No</td>\n",
       "      <td>No</td>\n",
       "      <td>Clothing</td>\n",
       "    </tr>\n",
       "    <tr>\n",
       "      <th>eccbc87e4b5ce2fe28308fd9f2a7baf3</th>\n",
       "      <td>2</td>\n",
       "      <td>4</td>\n",
       "      <td>No</td>\n",
       "      <td>Yes</td>\n",
       "      <td>Shoes</td>\n",
       "    </tr>\n",
       "    <tr>\n",
       "      <th>a87ff679a2f3e71d9181a67b7542122c</th>\n",
       "      <td>2</td>\n",
       "      <td>5</td>\n",
       "      <td>No</td>\n",
       "      <td>Yes</td>\n",
       "      <td>Shoes</td>\n",
       "    </tr>\n",
       "  </tbody>\n",
       "</table>\n",
       "</div>"
      ],
      "text/plain": [
       "                                 shipper productid isreseller issale  \\\n",
       "cfcd208495d565ef66e7dff9f98764da       1         1         No    Yes   \n",
       "c4ca4238a0b923820dcc509a6f75849b       2         2         No     No   \n",
       "c81e728d9d4c2f636f067f89cc14862c       2         3         No     No   \n",
       "eccbc87e4b5ce2fe28308fd9f2a7baf3       2         4         No    Yes   \n",
       "a87ff679a2f3e71d9181a67b7542122c       2         5         No    Yes   \n",
       "\n",
       "                                 category_1stlevel  \n",
       "cfcd208495d565ef66e7dff9f98764da       Accessories  \n",
       "c4ca4238a0b923820dcc509a6f75849b          Clothing  \n",
       "c81e728d9d4c2f636f067f89cc14862c          Clothing  \n",
       "eccbc87e4b5ce2fe28308fd9f2a7baf3             Shoes  \n",
       "a87ff679a2f3e71d9181a67b7542122c             Shoes  "
      ]
     },
     "execution_count": 20,
     "metadata": {},
     "output_type": "execute_result"
    }
   ],
   "source": [
    "df2.head()"
   ]
  },
  {
   "cell_type": "markdown",
   "metadata": {},
   "source": [
    "Ok, let's go to the third file!"
   ]
  },
  {
   "cell_type": "code",
   "execution_count": 21,
   "metadata": {},
   "outputs": [
    {
     "name": "stdout",
     "output_type": "stream",
     "text": [
      "id|tierbeforeorder|ddprate|platform|style|region\r\n",
      "cfcd208495d565ef66e7dff9f98764da||0.0|web|1|1\r\n",
      "c4ca4238a0b923820dcc509a6f75849b|T3|5.0083|app|2|1\r\n",
      "c81e728d9d4c2f636f067f89cc14862c||42.2351||3|1\r\n",
      "eccbc87e4b5ce2fe28308fd9f2a7baf3||42.2351|web|4|1\r\n",
      "a87ff679a2f3e71d9181a67b7542122c||5.0083|web|5|1\r\n",
      "e4da3b7fbbce2345d7772b0674a318d5|T2|0.0|web|6|2\r\n",
      "1679091c5a880faf6fb5e6087eb1b2dc|T2|0.0|web|7|2\r\n",
      "8f14e45fceea167a5a36dedd4bea2543|T2|0.0|web|8|2\r\n",
      "c9f0f895fb98ab9159f51fd0297e236d|T4|0.0|web|9|2\r\n"
     ]
    }
   ],
   "source": [
    "!head data/data_train_1/datasource3.csv"
   ]
  },
  {
   "cell_type": "markdown",
   "metadata": {},
   "source": [
    "Simple, it's a csv but with a pipe `|` as a separator.\n",
    "\n",
    "This is why doing a simple `!head` before running into pandas is super helpful!"
   ]
  },
  {
   "cell_type": "code",
   "execution_count": 22,
   "metadata": {},
   "outputs": [],
   "source": [
    "df3 = pd.read_csv('data/data_train_1/datasource3.csv', sep='|')"
   ]
  },
  {
   "cell_type": "code",
   "execution_count": 23,
   "metadata": {},
   "outputs": [
    {
     "data": {
      "text/html": [
       "<div>\n",
       "<style scoped>\n",
       "    .dataframe tbody tr th:only-of-type {\n",
       "        vertical-align: middle;\n",
       "    }\n",
       "\n",
       "    .dataframe tbody tr th {\n",
       "        vertical-align: top;\n",
       "    }\n",
       "\n",
       "    .dataframe thead th {\n",
       "        text-align: right;\n",
       "    }\n",
       "</style>\n",
       "<table border=\"1\" class=\"dataframe\">\n",
       "  <thead>\n",
       "    <tr style=\"text-align: right;\">\n",
       "      <th></th>\n",
       "      <th>id</th>\n",
       "      <th>tierbeforeorder</th>\n",
       "      <th>ddprate</th>\n",
       "      <th>platform</th>\n",
       "      <th>style</th>\n",
       "      <th>region</th>\n",
       "    </tr>\n",
       "  </thead>\n",
       "  <tbody>\n",
       "    <tr>\n",
       "      <th>0</th>\n",
       "      <td>cfcd208495d565ef66e7dff9f98764da</td>\n",
       "      <td>NaN</td>\n",
       "      <td>0.0</td>\n",
       "      <td>web</td>\n",
       "      <td>1</td>\n",
       "      <td>1</td>\n",
       "    </tr>\n",
       "    <tr>\n",
       "      <th>1</th>\n",
       "      <td>c4ca4238a0b923820dcc509a6f75849b</td>\n",
       "      <td>T3</td>\n",
       "      <td>5.0083</td>\n",
       "      <td>app</td>\n",
       "      <td>2</td>\n",
       "      <td>1</td>\n",
       "    </tr>\n",
       "    <tr>\n",
       "      <th>2</th>\n",
       "      <td>c81e728d9d4c2f636f067f89cc14862c</td>\n",
       "      <td>NaN</td>\n",
       "      <td>42.2351</td>\n",
       "      <td>NaN</td>\n",
       "      <td>3</td>\n",
       "      <td>1</td>\n",
       "    </tr>\n",
       "    <tr>\n",
       "      <th>3</th>\n",
       "      <td>eccbc87e4b5ce2fe28308fd9f2a7baf3</td>\n",
       "      <td>NaN</td>\n",
       "      <td>42.2351</td>\n",
       "      <td>web</td>\n",
       "      <td>4</td>\n",
       "      <td>1</td>\n",
       "    </tr>\n",
       "    <tr>\n",
       "      <th>4</th>\n",
       "      <td>a87ff679a2f3e71d9181a67b7542122c</td>\n",
       "      <td>NaN</td>\n",
       "      <td>5.0083</td>\n",
       "      <td>web</td>\n",
       "      <td>5</td>\n",
       "      <td>1</td>\n",
       "    </tr>\n",
       "  </tbody>\n",
       "</table>\n",
       "</div>"
      ],
      "text/plain": [
       "                                 id tierbeforeorder  ddprate platform style  \\\n",
       "0  cfcd208495d565ef66e7dff9f98764da             NaN      0.0      web     1   \n",
       "1  c4ca4238a0b923820dcc509a6f75849b              T3   5.0083      app     2   \n",
       "2  c81e728d9d4c2f636f067f89cc14862c             NaN  42.2351      NaN     3   \n",
       "3  eccbc87e4b5ce2fe28308fd9f2a7baf3             NaN  42.2351      web     4   \n",
       "4  a87ff679a2f3e71d9181a67b7542122c             NaN   5.0083      web     5   \n",
       "\n",
       "  region  \n",
       "0      1  \n",
       "1      1  \n",
       "2      1  \n",
       "3      1  \n",
       "4      1  "
      ]
     },
     "execution_count": 23,
     "metadata": {},
     "output_type": "execute_result"
    }
   ],
   "source": [
    "df3.head()"
   ]
  },
  {
   "cell_type": "code",
   "execution_count": 24,
   "metadata": {},
   "outputs": [],
   "source": [
    "df3 = df3.set_index('id')"
   ]
  },
  {
   "cell_type": "markdown",
   "metadata": {},
   "source": [
    "Done! Let's move to the second folder."
   ]
  },
  {
   "cell_type": "markdown",
   "metadata": {},
   "source": [
    "#### data train 2"
   ]
  },
  {
   "cell_type": "code",
   "execution_count": 25,
   "metadata": {},
   "outputs": [
    {
     "name": "stdout",
     "output_type": "stream",
     "text": [
      "total 375472\r\n",
      "drwxr-xr-x  5 chi  staff   160B Sep 14 19:54 \u001b[1m\u001b[36m.\u001b[m\u001b[m\r\n",
      "drwxr-xr-x  5 chi  staff   160B Sep 14 19:54 \u001b[1m\u001b[36m..\u001b[m\u001b[m\r\n",
      "-rw-r--r--  1 chi  staff    65M Sep 14 19:54 datasource4.html\r\n",
      "-rw-r--r--  1 chi  staff    84M Sep 14 19:54 datasource5.csv\r\n",
      "-rw-r--r--  1 chi  staff    34M Sep 14 19:54 datasource7.csv\r\n"
     ]
    }
   ],
   "source": [
    "!ls -alh data/data_train_2/"
   ]
  },
  {
   "cell_type": "markdown",
   "metadata": {},
   "source": [
    "Let's proceed with datasource4, it seems like an html file?"
   ]
  },
  {
   "cell_type": "code",
   "execution_count": 26,
   "metadata": {},
   "outputs": [
    {
     "name": "stdout",
     "output_type": "stream",
     "text": [
      "<table border=\"1\" class=\"dataframe\">\r\n",
      "  <thead>\r\n",
      "    <tr style=\"text-align: right;\">\r\n",
      "      <th></th>\r\n",
      "      <th>isusingmultipledevices</th>\r\n",
      "      <th>freereturn</th>\r\n",
      "      <th>userid</th>\r\n",
      "    </tr>\r\n",
      "    <tr>\r\n",
      "      <th>id</th>\r\n",
      "      <th></th>\r\n",
      "      <th></th>\r\n",
      "      <th></th>\r\n",
      "    </tr>\r\n",
      "  </thead>\r\n",
      "  <tbody>\r\n",
      "    <tr>\r\n",
      "      <th>cfcd208495d565ef66e7dff9f98764da</th>\r\n",
      "      <td>No</td>\r\n",
      "      <td>1</td>\r\n"
     ]
    }
   ],
   "source": [
    "!head -n 20 data/data_train_2/datasource4.html"
   ]
  },
  {
   "cell_type": "markdown",
   "metadata": {},
   "source": [
    "Let's try `pandas.read_html`!"
   ]
  },
  {
   "cell_type": "code",
   "execution_count": 27,
   "metadata": {},
   "outputs": [],
   "source": [
    "# This takes a while to run...\n",
    "df4 = pd.read_html('./data/data_train_2/datasource4.html', attrs = {'class': 'dataframe'})"
   ]
  },
  {
   "cell_type": "markdown",
   "metadata": {},
   "source": [
    "`read_html` returns a list."
   ]
  },
  {
   "cell_type": "code",
   "execution_count": 28,
   "metadata": {},
   "outputs": [
    {
     "data": {
      "text/plain": [
       "1"
      ]
     },
     "execution_count": 28,
     "metadata": {},
     "output_type": "execute_result"
    }
   ],
   "source": [
    "len(df4)"
   ]
  },
  {
   "cell_type": "markdown",
   "metadata": {},
   "source": [
    "There is only one table on the html, so we get the first element of the list."
   ]
  },
  {
   "cell_type": "code",
   "execution_count": 29,
   "metadata": {},
   "outputs": [],
   "source": [
    "df4 = df4[0]"
   ]
  },
  {
   "cell_type": "code",
   "execution_count": 30,
   "metadata": {},
   "outputs": [
    {
     "data": {
      "text/html": [
       "<div>\n",
       "<style scoped>\n",
       "    .dataframe tbody tr th:only-of-type {\n",
       "        vertical-align: middle;\n",
       "    }\n",
       "\n",
       "    .dataframe tbody tr th {\n",
       "        vertical-align: top;\n",
       "    }\n",
       "\n",
       "    .dataframe thead tr th {\n",
       "        text-align: left;\n",
       "    }\n",
       "</style>\n",
       "<table border=\"1\" class=\"dataframe\">\n",
       "  <thead>\n",
       "    <tr>\n",
       "      <th></th>\n",
       "      <th>Unnamed: 0_level_0</th>\n",
       "      <th>isusingmultipledevices</th>\n",
       "      <th>freereturn</th>\n",
       "      <th>userid</th>\n",
       "    </tr>\n",
       "    <tr>\n",
       "      <th></th>\n",
       "      <th>id</th>\n",
       "      <th>Unnamed: 1_level_1</th>\n",
       "      <th>Unnamed: 2_level_1</th>\n",
       "      <th>Unnamed: 3_level_1</th>\n",
       "    </tr>\n",
       "  </thead>\n",
       "  <tbody>\n",
       "    <tr>\n",
       "      <th>0</th>\n",
       "      <td>cfcd208495d565ef66e7dff9f98764da</td>\n",
       "      <td>No</td>\n",
       "      <td>1</td>\n",
       "      <td>1</td>\n",
       "    </tr>\n",
       "    <tr>\n",
       "      <th>1</th>\n",
       "      <td>c4ca4238a0b923820dcc509a6f75849b</td>\n",
       "      <td>No</td>\n",
       "      <td>1</td>\n",
       "      <td>2</td>\n",
       "    </tr>\n",
       "    <tr>\n",
       "      <th>2</th>\n",
       "      <td>c81e728d9d4c2f636f067f89cc14862c</td>\n",
       "      <td>No</td>\n",
       "      <td>1</td>\n",
       "      <td>3</td>\n",
       "    </tr>\n",
       "    <tr>\n",
       "      <th>3</th>\n",
       "      <td>eccbc87e4b5ce2fe28308fd9f2a7baf3</td>\n",
       "      <td>No</td>\n",
       "      <td>1</td>\n",
       "      <td>3</td>\n",
       "    </tr>\n",
       "    <tr>\n",
       "      <th>4</th>\n",
       "      <td>a87ff679a2f3e71d9181a67b7542122c</td>\n",
       "      <td>No</td>\n",
       "      <td>1</td>\n",
       "      <td>4</td>\n",
       "    </tr>\n",
       "  </tbody>\n",
       "</table>\n",
       "</div>"
      ],
      "text/plain": [
       "                 Unnamed: 0_level_0 isusingmultipledevices         freereturn  \\\n",
       "                                 id     Unnamed: 1_level_1 Unnamed: 2_level_1   \n",
       "0  cfcd208495d565ef66e7dff9f98764da                     No                  1   \n",
       "1  c4ca4238a0b923820dcc509a6f75849b                     No                  1   \n",
       "2  c81e728d9d4c2f636f067f89cc14862c                     No                  1   \n",
       "3  eccbc87e4b5ce2fe28308fd9f2a7baf3                     No                  1   \n",
       "4  a87ff679a2f3e71d9181a67b7542122c                     No                  1   \n",
       "\n",
       "              userid  \n",
       "  Unnamed: 3_level_1  \n",
       "0                  1  \n",
       "1                  2  \n",
       "2                  3  \n",
       "3                  3  \n",
       "4                  4  "
      ]
     },
     "execution_count": 30,
     "metadata": {},
     "output_type": "execute_result"
    }
   ],
   "source": [
    "df4.head()"
   ]
  },
  {
   "cell_type": "code",
   "execution_count": 31,
   "metadata": {},
   "outputs": [
    {
     "data": {
      "text/plain": [
       "MultiIndex(levels=[['Unnamed: 0_level_0', 'freereturn', 'isusingmultipledevices', 'userid'], ['Unnamed: 1_level_1', 'Unnamed: 2_level_1', 'Unnamed: 3_level_1', 'id']],\n",
       "           codes=[[0, 2, 1, 3], [3, 0, 1, 2]])"
      ]
     },
     "execution_count": 31,
     "metadata": {},
     "output_type": "execute_result"
    }
   ],
   "source": [
    "df4.columns"
   ]
  },
  {
   "cell_type": "markdown",
   "metadata": {},
   "source": [
    "It seems it is a  multiindex!, we need to get the id as an index."
   ]
  },
  {
   "cell_type": "code",
   "execution_count": 32,
   "metadata": {},
   "outputs": [],
   "source": [
    "df4.columns = df4.columns.droplevel(level=0)"
   ]
  },
  {
   "cell_type": "code",
   "execution_count": 33,
   "metadata": {},
   "outputs": [
    {
     "data": {
      "text/html": [
       "<div>\n",
       "<style scoped>\n",
       "    .dataframe tbody tr th:only-of-type {\n",
       "        vertical-align: middle;\n",
       "    }\n",
       "\n",
       "    .dataframe tbody tr th {\n",
       "        vertical-align: top;\n",
       "    }\n",
       "\n",
       "    .dataframe thead th {\n",
       "        text-align: right;\n",
       "    }\n",
       "</style>\n",
       "<table border=\"1\" class=\"dataframe\">\n",
       "  <thead>\n",
       "    <tr style=\"text-align: right;\">\n",
       "      <th></th>\n",
       "      <th>id</th>\n",
       "      <th>Unnamed: 1_level_1</th>\n",
       "      <th>Unnamed: 2_level_1</th>\n",
       "      <th>Unnamed: 3_level_1</th>\n",
       "    </tr>\n",
       "  </thead>\n",
       "  <tbody>\n",
       "    <tr>\n",
       "      <th>0</th>\n",
       "      <td>cfcd208495d565ef66e7dff9f98764da</td>\n",
       "      <td>No</td>\n",
       "      <td>1</td>\n",
       "      <td>1</td>\n",
       "    </tr>\n",
       "    <tr>\n",
       "      <th>1</th>\n",
       "      <td>c4ca4238a0b923820dcc509a6f75849b</td>\n",
       "      <td>No</td>\n",
       "      <td>1</td>\n",
       "      <td>2</td>\n",
       "    </tr>\n",
       "    <tr>\n",
       "      <th>2</th>\n",
       "      <td>c81e728d9d4c2f636f067f89cc14862c</td>\n",
       "      <td>No</td>\n",
       "      <td>1</td>\n",
       "      <td>3</td>\n",
       "    </tr>\n",
       "    <tr>\n",
       "      <th>3</th>\n",
       "      <td>eccbc87e4b5ce2fe28308fd9f2a7baf3</td>\n",
       "      <td>No</td>\n",
       "      <td>1</td>\n",
       "      <td>3</td>\n",
       "    </tr>\n",
       "    <tr>\n",
       "      <th>4</th>\n",
       "      <td>a87ff679a2f3e71d9181a67b7542122c</td>\n",
       "      <td>No</td>\n",
       "      <td>1</td>\n",
       "      <td>4</td>\n",
       "    </tr>\n",
       "  </tbody>\n",
       "</table>\n",
       "</div>"
      ],
      "text/plain": [
       "                                 id Unnamed: 1_level_1 Unnamed: 2_level_1  \\\n",
       "0  cfcd208495d565ef66e7dff9f98764da                 No                  1   \n",
       "1  c4ca4238a0b923820dcc509a6f75849b                 No                  1   \n",
       "2  c81e728d9d4c2f636f067f89cc14862c                 No                  1   \n",
       "3  eccbc87e4b5ce2fe28308fd9f2a7baf3                 No                  1   \n",
       "4  a87ff679a2f3e71d9181a67b7542122c                 No                  1   \n",
       "\n",
       "  Unnamed: 3_level_1  \n",
       "0                  1  \n",
       "1                  2  \n",
       "2                  3  \n",
       "3                  3  \n",
       "4                  4  "
      ]
     },
     "execution_count": 33,
     "metadata": {},
     "output_type": "execute_result"
    }
   ],
   "source": [
    "df4.head()"
   ]
  },
  {
   "cell_type": "code",
   "execution_count": 36,
   "metadata": {},
   "outputs": [],
   "source": [
    "df4.columns = ['id', 'isusingmultipledevices', 'freereturn', 'userid']"
   ]
  },
  {
   "cell_type": "code",
   "execution_count": 37,
   "metadata": {},
   "outputs": [
    {
     "data": {
      "text/html": [
       "<div>\n",
       "<style scoped>\n",
       "    .dataframe tbody tr th:only-of-type {\n",
       "        vertical-align: middle;\n",
       "    }\n",
       "\n",
       "    .dataframe tbody tr th {\n",
       "        vertical-align: top;\n",
       "    }\n",
       "\n",
       "    .dataframe thead th {\n",
       "        text-align: right;\n",
       "    }\n",
       "</style>\n",
       "<table border=\"1\" class=\"dataframe\">\n",
       "  <thead>\n",
       "    <tr style=\"text-align: right;\">\n",
       "      <th></th>\n",
       "      <th>id</th>\n",
       "      <th>isusingmultipledevices</th>\n",
       "      <th>freereturn</th>\n",
       "      <th>userid</th>\n",
       "    </tr>\n",
       "  </thead>\n",
       "  <tbody>\n",
       "    <tr>\n",
       "      <th>0</th>\n",
       "      <td>cfcd208495d565ef66e7dff9f98764da</td>\n",
       "      <td>No</td>\n",
       "      <td>1</td>\n",
       "      <td>1</td>\n",
       "    </tr>\n",
       "    <tr>\n",
       "      <th>1</th>\n",
       "      <td>c4ca4238a0b923820dcc509a6f75849b</td>\n",
       "      <td>No</td>\n",
       "      <td>1</td>\n",
       "      <td>2</td>\n",
       "    </tr>\n",
       "    <tr>\n",
       "      <th>2</th>\n",
       "      <td>c81e728d9d4c2f636f067f89cc14862c</td>\n",
       "      <td>No</td>\n",
       "      <td>1</td>\n",
       "      <td>3</td>\n",
       "    </tr>\n",
       "    <tr>\n",
       "      <th>3</th>\n",
       "      <td>eccbc87e4b5ce2fe28308fd9f2a7baf3</td>\n",
       "      <td>No</td>\n",
       "      <td>1</td>\n",
       "      <td>3</td>\n",
       "    </tr>\n",
       "    <tr>\n",
       "      <th>4</th>\n",
       "      <td>a87ff679a2f3e71d9181a67b7542122c</td>\n",
       "      <td>No</td>\n",
       "      <td>1</td>\n",
       "      <td>4</td>\n",
       "    </tr>\n",
       "  </tbody>\n",
       "</table>\n",
       "</div>"
      ],
      "text/plain": [
       "                                 id isusingmultipledevices freereturn userid\n",
       "0  cfcd208495d565ef66e7dff9f98764da                     No          1      1\n",
       "1  c4ca4238a0b923820dcc509a6f75849b                     No          1      2\n",
       "2  c81e728d9d4c2f636f067f89cc14862c                     No          1      3\n",
       "3  eccbc87e4b5ce2fe28308fd9f2a7baf3                     No          1      3\n",
       "4  a87ff679a2f3e71d9181a67b7542122c                     No          1      4"
      ]
     },
     "execution_count": 37,
     "metadata": {},
     "output_type": "execute_result"
    }
   ],
   "source": [
    "df4.head()"
   ]
  },
  {
   "cell_type": "code",
   "execution_count": 38,
   "metadata": {},
   "outputs": [],
   "source": [
    "df4 = df4.set_index('id')"
   ]
  },
  {
   "cell_type": "markdown",
   "metadata": {},
   "source": [
    "Done! Let's move to file 5."
   ]
  },
  {
   "cell_type": "code",
   "execution_count": 39,
   "metadata": {},
   "outputs": [],
   "source": [
    "# this might crash your browser\n",
    "# !head data/data_train_2/datasource5.csv"
   ]
  },
  {
   "cell_type": "markdown",
   "metadata": {},
   "source": [
    "Ok, this file disguises itself as a csv but its actually a json! A good reminder that file extensions don't mean anything!"
   ]
  },
  {
   "cell_type": "code",
   "execution_count": 40,
   "metadata": {},
   "outputs": [],
   "source": [
    "df5 = pd.read_json('data/data_train_2/datasource5.csv')"
   ]
  },
  {
   "cell_type": "code",
   "execution_count": 41,
   "metadata": {},
   "outputs": [
    {
     "data": {
      "text/html": [
       "<div>\n",
       "<style scoped>\n",
       "    .dataframe tbody tr th:only-of-type {\n",
       "        vertical-align: middle;\n",
       "    }\n",
       "\n",
       "    .dataframe tbody tr th {\n",
       "        vertical-align: top;\n",
       "    }\n",
       "\n",
       "    .dataframe thead th {\n",
       "        text-align: right;\n",
       "    }\n",
       "</style>\n",
       "<table border=\"1\" class=\"dataframe\">\n",
       "  <thead>\n",
       "    <tr style=\"text-align: right;\">\n",
       "      <th></th>\n",
       "      <th>isvip</th>\n",
       "      <th>brand</th>\n",
       "      <th>promocode</th>\n",
       "      <th>designer</th>\n",
       "    </tr>\n",
       "  </thead>\n",
       "  <tbody>\n",
       "    <tr>\n",
       "      <th>00003e3b9e5336685200ae85d21b4f5e</th>\n",
       "      <td>Not VIP</td>\n",
       "      <td>50</td>\n",
       "      <td>1</td>\n",
       "      <td>4133</td>\n",
       "    </tr>\n",
       "    <tr>\n",
       "      <th>000053b1e684c9e7ea73727b2238ce18</th>\n",
       "      <td>Not VIP</td>\n",
       "      <td>640</td>\n",
       "      <td>921</td>\n",
       "      <td>14465</td>\n",
       "    </tr>\n",
       "    <tr>\n",
       "      <th>00005d011db80a956aab176cc94d1d37</th>\n",
       "      <td>Not VIP</td>\n",
       "      <td>36</td>\n",
       "      <td>1</td>\n",
       "      <td>11691</td>\n",
       "    </tr>\n",
       "    <tr>\n",
       "      <th>0000a0f5746d603088ac968c91b085b5</th>\n",
       "      <td>VIP</td>\n",
       "      <td>279</td>\n",
       "      <td>1</td>\n",
       "      <td>34489</td>\n",
       "    </tr>\n",
       "    <tr>\n",
       "      <th>0000b2815cc3c2b56867cbbf4d36efa5</th>\n",
       "      <td>Not VIP</td>\n",
       "      <td>17</td>\n",
       "      <td>924</td>\n",
       "      <td>66837</td>\n",
       "    </tr>\n",
       "  </tbody>\n",
       "</table>\n",
       "</div>"
      ],
      "text/plain": [
       "                                    isvip brand promocode designer\n",
       "00003e3b9e5336685200ae85d21b4f5e  Not VIP    50         1     4133\n",
       "000053b1e684c9e7ea73727b2238ce18  Not VIP   640       921    14465\n",
       "00005d011db80a956aab176cc94d1d37  Not VIP    36         1    11691\n",
       "0000a0f5746d603088ac968c91b085b5      VIP   279         1    34489\n",
       "0000b2815cc3c2b56867cbbf4d36efa5  Not VIP    17       924    66837"
      ]
     },
     "execution_count": 41,
     "metadata": {},
     "output_type": "execute_result"
    }
   ],
   "source": [
    "df5.head()"
   ]
  },
  {
   "cell_type": "markdown",
   "metadata": {},
   "source": [
    "Done! Let's go to file 6."
   ]
  },
  {
   "cell_type": "code",
   "execution_count": 42,
   "metadata": {},
   "outputs": [
    {
     "name": "stdout",
     "output_type": "stream",
     "text": [
      "total 375472\r\n",
      "drwxr-xr-x  5 chi  staff   160B Sep 14 19:54 \u001b[1m\u001b[36m.\u001b[m\u001b[m\r\n",
      "drwxr-xr-x  5 chi  staff   160B Sep 14 19:54 \u001b[1m\u001b[36m..\u001b[m\u001b[m\r\n",
      "-rw-r--r--  1 chi  staff    65M Sep 14 19:54 datasource4.html\r\n",
      "-rw-r--r--  1 chi  staff    84M Sep 14 19:54 datasource5.csv\r\n",
      "-rw-r--r--  1 chi  staff    34M Sep 14 19:54 datasource7.csv\r\n"
     ]
    }
   ],
   "source": [
    "!ls -alh data/data_train_2/"
   ]
  },
  {
   "cell_type": "markdown",
   "metadata": {},
   "source": [
    "Well, it seems that there is no file 6 here, let's go to file 7 then."
   ]
  },
  {
   "cell_type": "code",
   "execution_count": 43,
   "metadata": {},
   "outputs": [
    {
     "name": "stdout",
     "output_type": "stream",
     "text": [
      "id,countrycode,countryoforigin,userfraudstatus,useless values (delete please),test strings (delete please)\r\n",
      "91b48f444340e38b245224d3cf495dd6,48,20,3,0.5972732194313508,tMdME\r\n",
      "68c26935d45bf7340b70c481e2578906,WEBSITE,WEBSITE,WEBSITE,0.31678691699869344,gJtKD\r\n",
      "5ef781f891290d7ff10c44fc54f28829,14,12,3,0.6405539685733376,K6iBC\r\n",
      "fe548a297e49243c8838b61221a09def,5,12,3,0.34994931238397897,0mcLU\r\n",
      "bdb4fc61cdf6cfadfd20db40fa1a64d2,17,4,1,0.6095160940464983,iBSjr\r\n",
      "24fc676fd9f7bba69640c6b1fd5c52f5,3,1,3,0.6492229983006353,2P5o3\r\n",
      "c6321d2275686eee40744053a81dd7fc,2,1,3,0.48500347145892464,8tRfn\r\n",
      "d6557be41069a1036c6cedf514f17346,46,26,3,0.6455367880637098,4o4rc\r\n",
      "5d9920797a7f15da0ac6b68a0e3db25e,3,1,3,0.60239127186448,UcbXQ\r\n"
     ]
    }
   ],
   "source": [
    "!head data/data_train_2/datasource7.csv"
   ]
  },
  {
   "cell_type": "markdown",
   "metadata": {},
   "source": [
    "Ok, we see this seems to be a csv that someone has messed with. Since csvs are basically text files this happens sometimes"
   ]
  },
  {
   "cell_type": "markdown",
   "metadata": {},
   "source": [
    "No problem, we will skip the header and we will remove the columns that are useless and have to be deleted (the file is asking very nicely after all...)."
   ]
  },
  {
   "cell_type": "code",
   "execution_count": 44,
   "metadata": {},
   "outputs": [],
   "source": [
    "df7 = pd.read_csv('data/data_train_2/datasource7.csv', \n",
    "                  header=None, \n",
    "                  skiprows=1,\n",
    "                  usecols=[0,1,2,3],\n",
    "                  names=['id','countrycode','countryoforigin','userfraudstatus']\n",
    "                 )"
   ]
  },
  {
   "cell_type": "code",
   "execution_count": 45,
   "metadata": {},
   "outputs": [
    {
     "data": {
      "text/html": [
       "<div>\n",
       "<style scoped>\n",
       "    .dataframe tbody tr th:only-of-type {\n",
       "        vertical-align: middle;\n",
       "    }\n",
       "\n",
       "    .dataframe tbody tr th {\n",
       "        vertical-align: top;\n",
       "    }\n",
       "\n",
       "    .dataframe thead th {\n",
       "        text-align: right;\n",
       "    }\n",
       "</style>\n",
       "<table border=\"1\" class=\"dataframe\">\n",
       "  <thead>\n",
       "    <tr style=\"text-align: right;\">\n",
       "      <th></th>\n",
       "      <th>id</th>\n",
       "      <th>countrycode</th>\n",
       "      <th>countryoforigin</th>\n",
       "      <th>userfraudstatus</th>\n",
       "    </tr>\n",
       "  </thead>\n",
       "  <tbody>\n",
       "    <tr>\n",
       "      <th>0</th>\n",
       "      <td>91b48f444340e38b245224d3cf495dd6</td>\n",
       "      <td>48</td>\n",
       "      <td>20</td>\n",
       "      <td>3</td>\n",
       "    </tr>\n",
       "    <tr>\n",
       "      <th>1</th>\n",
       "      <td>68c26935d45bf7340b70c481e2578906</td>\n",
       "      <td>WEBSITE</td>\n",
       "      <td>WEBSITE</td>\n",
       "      <td>WEBSITE</td>\n",
       "    </tr>\n",
       "    <tr>\n",
       "      <th>2</th>\n",
       "      <td>5ef781f891290d7ff10c44fc54f28829</td>\n",
       "      <td>14</td>\n",
       "      <td>12</td>\n",
       "      <td>3</td>\n",
       "    </tr>\n",
       "    <tr>\n",
       "      <th>3</th>\n",
       "      <td>fe548a297e49243c8838b61221a09def</td>\n",
       "      <td>5</td>\n",
       "      <td>12</td>\n",
       "      <td>3</td>\n",
       "    </tr>\n",
       "    <tr>\n",
       "      <th>4</th>\n",
       "      <td>bdb4fc61cdf6cfadfd20db40fa1a64d2</td>\n",
       "      <td>17</td>\n",
       "      <td>4</td>\n",
       "      <td>1</td>\n",
       "    </tr>\n",
       "  </tbody>\n",
       "</table>\n",
       "</div>"
      ],
      "text/plain": [
       "                                 id countrycode countryoforigin  \\\n",
       "0  91b48f444340e38b245224d3cf495dd6          48              20   \n",
       "1  68c26935d45bf7340b70c481e2578906     WEBSITE         WEBSITE   \n",
       "2  5ef781f891290d7ff10c44fc54f28829          14              12   \n",
       "3  fe548a297e49243c8838b61221a09def           5              12   \n",
       "4  bdb4fc61cdf6cfadfd20db40fa1a64d2          17               4   \n",
       "\n",
       "  userfraudstatus  \n",
       "0               3  \n",
       "1         WEBSITE  \n",
       "2               3  \n",
       "3               3  \n",
       "4               1  "
      ]
     },
     "execution_count": 45,
     "metadata": {},
     "output_type": "execute_result"
    }
   ],
   "source": [
    "df7.head()"
   ]
  },
  {
   "cell_type": "code",
   "execution_count": 46,
   "metadata": {},
   "outputs": [],
   "source": [
    "df7 = df7.set_index('id')"
   ]
  },
  {
   "cell_type": "markdown",
   "metadata": {},
   "source": [
    "Done!"
   ]
  },
  {
   "cell_type": "markdown",
   "metadata": {},
   "source": [
    "### Folder 3"
   ]
  },
  {
   "cell_type": "code",
   "execution_count": 47,
   "metadata": {},
   "outputs": [
    {
     "name": "stdout",
     "output_type": "stream",
     "text": [
      "total 0\r\n",
      "drwxr-xr-x     3 chi  staff    96B Sep 14 19:54 \u001b[1m\u001b[36m.\u001b[m\u001b[m\r\n",
      "drwxr-xr-x     5 chi  staff   160B Sep 14 19:54 \u001b[1m\u001b[36m..\u001b[m\u001b[m\r\n",
      "drwxr-xr-x  5002 chi  staff   156K Sep 14 19:54 \u001b[1m\u001b[36mdatasource6\u001b[m\u001b[m\r\n"
     ]
    }
   ],
   "source": [
    "!ls -alh data/data_train_3/"
   ]
  },
  {
   "cell_type": "markdown",
   "metadata": {},
   "source": [
    "Ok, here is the datasource6, which seems to be another folder?"
   ]
  },
  {
   "cell_type": "code",
   "execution_count": 49,
   "metadata": {},
   "outputs": [
    {
     "name": "stdout",
     "output_type": "stream",
     "text": [
      "total 118248\r\n",
      "drwxr-xr-x  5002 chi  staff   156K Sep 14 19:54 .\r\n",
      "drwxr-xr-x     3 chi  staff    96B Sep 14 19:54 ..\r\n",
      "-rw-r--r--     1 chi  staff   8.1K Sep 14 19:54 0.csv\r\n",
      "-rw-r--r--     1 chi  staff   8.8K Sep 14 19:54 1.csv\r\n",
      "-rw-r--r--     1 chi  staff   8.3K Sep 14 19:54 10.csv\r\n",
      "-rw-r--r--     1 chi  staff   8.7K Sep 14 19:54 100.csv\r\n",
      "-rw-r--r--     1 chi  staff   8.6K Sep 14 19:54 1000.csv\r\n",
      "-rw-r--r--     1 chi  staff   8.4K Sep 14 19:54 1001.csv\r\n",
      "-rw-r--r--     1 chi  staff   8.7K Sep 14 19:54 1002.csv\r\n"
     ]
    }
   ],
   "source": [
    "# try running it without the \"| head -10\" to see all the files\n",
    "!ls -alh data/data_train_3/datasource6/ | head -10"
   ]
  },
  {
   "cell_type": "markdown",
   "metadata": {},
   "source": [
    "Ok, seems to be a lot of csv files. Since they have similar names, they are probably created by some automatic process. This is good because it means that we can use the same function to read all of the files."
   ]
  },
  {
   "cell_type": "code",
   "execution_count": 50,
   "metadata": {},
   "outputs": [
    {
     "name": "stdout",
     "output_type": "stream",
     "text": [
      "id,ddpsubcategory,shiptypeid,hasitemsonbag,country\r\n",
      "6a6331cd682c28bd1d95cb865c69cbdd,\"Trousers, overalls, shorts\",2,Yes,1\r\n",
      "d2f358973ec4382ff877a9f928876e90,WEBSITE,WEBSITE,WEBSITE,WEBSITE\r\n",
      "e350ebea9bef9cd420f59c34dfa4f589,WEBSITE,WEBSITE,WEBSITE,WEBSITE\r\n",
      "a8d972f22527b09a03564f854a3eb9a3,\"Jerseys, pullovers, cardigans, waistcoats and similar articles, knitted or crocheted\",2,Yes,1\r\n",
      "2d273973a88b3ab45f0d0763300b0695,\"Handbags, whether or not with shoulder strap, including those without handle\",2,Yes,1\r\n",
      "ac0ce4c020f526032faee133bea0673b,API,API,API,API\r\n",
      "1d5d5a604ba4a3c33a00faf9494c6dbf,Other footwear with outer soles of leather,2,Yes,1\r\n",
      "c556b66075e6ceb64e3b73914c1e1cd6,Footwear with outer soles of rubber or plastics,2,No,5\r\n",
      "f26d104eb67d84cc4c8f2cb272501b56,N/D,3,No,9\r\n"
     ]
    }
   ],
   "source": [
    "!head data/data_train_3/datasource6/1000.csv"
   ]
  },
  {
   "cell_type": "markdown",
   "metadata": {},
   "source": [
    "We will create a list of dataframes and will concatenate them."
   ]
  },
  {
   "cell_type": "code",
   "execution_count": 51,
   "metadata": {},
   "outputs": [],
   "source": [
    "from pathlib import Path\n",
    "\n",
    "datasource6 = Path('data/data_train_3/datasource6/')"
   ]
  },
  {
   "cell_type": "code",
   "execution_count": 52,
   "metadata": {},
   "outputs": [],
   "source": [
    "# this takes a while to run\n",
    "ind_dfs = []\n",
    "for file in datasource6.glob('*'):\n",
    "    ind_dfs.append(pd.read_csv(file))"
   ]
  },
  {
   "cell_type": "code",
   "execution_count": 53,
   "metadata": {},
   "outputs": [],
   "source": [
    "df6 = pd.concat(ind_dfs)"
   ]
  },
  {
   "cell_type": "code",
   "execution_count": 54,
   "metadata": {},
   "outputs": [
    {
     "data": {
      "text/plain": [
       "(543341, 5)"
      ]
     },
     "execution_count": 54,
     "metadata": {},
     "output_type": "execute_result"
    }
   ],
   "source": [
    "df6.shape"
   ]
  },
  {
   "cell_type": "code",
   "execution_count": 55,
   "metadata": {},
   "outputs": [
    {
     "data": {
      "text/html": [
       "<div>\n",
       "<style scoped>\n",
       "    .dataframe tbody tr th:only-of-type {\n",
       "        vertical-align: middle;\n",
       "    }\n",
       "\n",
       "    .dataframe tbody tr th {\n",
       "        vertical-align: top;\n",
       "    }\n",
       "\n",
       "    .dataframe thead th {\n",
       "        text-align: right;\n",
       "    }\n",
       "</style>\n",
       "<table border=\"1\" class=\"dataframe\">\n",
       "  <thead>\n",
       "    <tr style=\"text-align: right;\">\n",
       "      <th></th>\n",
       "      <th>id</th>\n",
       "      <th>ddpsubcategory</th>\n",
       "      <th>shiptypeid</th>\n",
       "      <th>hasitemsonbag</th>\n",
       "      <th>country</th>\n",
       "    </tr>\n",
       "  </thead>\n",
       "  <tbody>\n",
       "    <tr>\n",
       "      <th>0</th>\n",
       "      <td>e96faaa362160d37b30cc3c06e684b53</td>\n",
       "      <td>Coats: overcoats, raincoat, cape, cloak, ski j...</td>\n",
       "      <td>2</td>\n",
       "      <td>No</td>\n",
       "      <td>1</td>\n",
       "    </tr>\n",
       "    <tr>\n",
       "      <th>1</th>\n",
       "      <td>2c68139e18d69fa4e79fc00a36ddf78a</td>\n",
       "      <td>Hats and other headgear, knitted or crocheted,...</td>\n",
       "      <td>2</td>\n",
       "      <td>No</td>\n",
       "      <td>1</td>\n",
       "    </tr>\n",
       "    <tr>\n",
       "      <th>2</th>\n",
       "      <td>8933495921cf8651a3deacb715c3970a</td>\n",
       "      <td>Jerseys, pullovers, cardigans, waistcoats and ...</td>\n",
       "      <td>2</td>\n",
       "      <td>Yes</td>\n",
       "      <td>2</td>\n",
       "    </tr>\n",
       "    <tr>\n",
       "      <th>3</th>\n",
       "      <td>99594d0d5f1bc469d458e58d35823e10</td>\n",
       "      <td>Trousers, overalls, shorts</td>\n",
       "      <td>3</td>\n",
       "      <td>No</td>\n",
       "      <td>4</td>\n",
       "    </tr>\n",
       "    <tr>\n",
       "      <th>4</th>\n",
       "      <td>2cac0e6a7cc3038c3e3da05592cc2649</td>\n",
       "      <td>Trousers, overalls, shorts</td>\n",
       "      <td>3</td>\n",
       "      <td>No</td>\n",
       "      <td>4</td>\n",
       "    </tr>\n",
       "  </tbody>\n",
       "</table>\n",
       "</div>"
      ],
      "text/plain": [
       "                                 id  \\\n",
       "0  e96faaa362160d37b30cc3c06e684b53   \n",
       "1  2c68139e18d69fa4e79fc00a36ddf78a   \n",
       "2  8933495921cf8651a3deacb715c3970a   \n",
       "3  99594d0d5f1bc469d458e58d35823e10   \n",
       "4  2cac0e6a7cc3038c3e3da05592cc2649   \n",
       "\n",
       "                                      ddpsubcategory shiptypeid hasitemsonbag  \\\n",
       "0  Coats: overcoats, raincoat, cape, cloak, ski j...          2            No   \n",
       "1  Hats and other headgear, knitted or crocheted,...          2            No   \n",
       "2  Jerseys, pullovers, cardigans, waistcoats and ...          2           Yes   \n",
       "3                         Trousers, overalls, shorts          3            No   \n",
       "4                         Trousers, overalls, shorts          3            No   \n",
       "\n",
       "  country  \n",
       "0       1  \n",
       "1       1  \n",
       "2       2  \n",
       "3       4  \n",
       "4       4  "
      ]
     },
     "execution_count": 55,
     "metadata": {},
     "output_type": "execute_result"
    }
   ],
   "source": [
    "df6.head()"
   ]
  },
  {
   "cell_type": "code",
   "execution_count": 56,
   "metadata": {},
   "outputs": [],
   "source": [
    "df6 = df6.set_index('id')"
   ]
  },
  {
   "cell_type": "markdown",
   "metadata": {},
   "source": [
    "Done!"
   ]
  },
  {
   "cell_type": "markdown",
   "metadata": {},
   "source": [
    "Now we merged them all!"
   ]
  },
  {
   "cell_type": "code",
   "execution_count": 57,
   "metadata": {},
   "outputs": [],
   "source": [
    "files_df = df1.join(df2).join(df3).join(df4).join(df5).join(df6).join(df7)"
   ]
  },
  {
   "cell_type": "code",
   "execution_count": 58,
   "metadata": {
    "scrolled": false
   },
   "outputs": [
    {
     "data": {
      "text/html": [
       "<div>\n",
       "<style scoped>\n",
       "    .dataframe tbody tr th:only-of-type {\n",
       "        vertical-align: middle;\n",
       "    }\n",
       "\n",
       "    .dataframe tbody tr th {\n",
       "        vertical-align: top;\n",
       "    }\n",
       "\n",
       "    .dataframe thead th {\n",
       "        text-align: right;\n",
       "    }\n",
       "</style>\n",
       "<table border=\"1\" class=\"dataframe\">\n",
       "  <thead>\n",
       "    <tr style=\"text-align: right;\">\n",
       "      <th></th>\n",
       "      <th>tierafterorder</th>\n",
       "      <th>orderportalid</th>\n",
       "      <th>size</th>\n",
       "      <th>orderdate_gmt</th>\n",
       "      <th>hasusedwishlist</th>\n",
       "      <th>ldsa_team_wishes_you</th>\n",
       "      <th>shipper</th>\n",
       "      <th>productid</th>\n",
       "      <th>isreseller</th>\n",
       "      <th>issale</th>\n",
       "      <th>...</th>\n",
       "      <th>brand</th>\n",
       "      <th>promocode</th>\n",
       "      <th>designer</th>\n",
       "      <th>ddpsubcategory</th>\n",
       "      <th>shiptypeid</th>\n",
       "      <th>hasitemsonbag</th>\n",
       "      <th>country</th>\n",
       "      <th>countrycode</th>\n",
       "      <th>countryoforigin</th>\n",
       "      <th>userfraudstatus</th>\n",
       "    </tr>\n",
       "    <tr>\n",
       "      <th>id</th>\n",
       "      <th></th>\n",
       "      <th></th>\n",
       "      <th></th>\n",
       "      <th></th>\n",
       "      <th></th>\n",
       "      <th></th>\n",
       "      <th></th>\n",
       "      <th></th>\n",
       "      <th></th>\n",
       "      <th></th>\n",
       "      <th></th>\n",
       "      <th></th>\n",
       "      <th></th>\n",
       "      <th></th>\n",
       "      <th></th>\n",
       "      <th></th>\n",
       "      <th></th>\n",
       "      <th></th>\n",
       "      <th></th>\n",
       "      <th></th>\n",
       "      <th></th>\n",
       "    </tr>\n",
       "  </thead>\n",
       "  <tbody>\n",
       "    <tr>\n",
       "      <th>cfcd208495d565ef66e7dff9f98764da</th>\n",
       "      <td>T4</td>\n",
       "      <td>1</td>\n",
       "      <td>1</td>\n",
       "      <td>2018-01-01 00:00:19.733000+00:00</td>\n",
       "      <td>Yes</td>\n",
       "      <td>Срећно! (Good luck!)</td>\n",
       "      <td>1</td>\n",
       "      <td>1</td>\n",
       "      <td>No</td>\n",
       "      <td>Yes</td>\n",
       "      <td>...</td>\n",
       "      <td>1</td>\n",
       "      <td>1</td>\n",
       "      <td>1</td>\n",
       "      <td>Articles of a kind normally carried in the poc...</td>\n",
       "      <td>1</td>\n",
       "      <td>No</td>\n",
       "      <td>1</td>\n",
       "      <td>1</td>\n",
       "      <td>1</td>\n",
       "      <td>1</td>\n",
       "    </tr>\n",
       "    <tr>\n",
       "      <th>c4ca4238a0b923820dcc509a6f75849b</th>\n",
       "      <td>T3</td>\n",
       "      <td>2</td>\n",
       "      <td>2</td>\n",
       "      <td>2018-01-01 00:00:42.540000+00:00</td>\n",
       "      <td>Yes</td>\n",
       "      <td>Срећно! (Good luck!)</td>\n",
       "      <td>2</td>\n",
       "      <td>2</td>\n",
       "      <td>No</td>\n",
       "      <td>No</td>\n",
       "      <td>...</td>\n",
       "      <td>2</td>\n",
       "      <td>1</td>\n",
       "      <td>2</td>\n",
       "      <td>NaN</td>\n",
       "      <td>2</td>\n",
       "      <td>No</td>\n",
       "      <td>1</td>\n",
       "      <td>1</td>\n",
       "      <td>2</td>\n",
       "      <td>2</td>\n",
       "    </tr>\n",
       "    <tr>\n",
       "      <th>c81e728d9d4c2f636f067f89cc14862c</th>\n",
       "      <td>T3</td>\n",
       "      <td>3</td>\n",
       "      <td>3</td>\n",
       "      <td>2018-01-01 00:01:15.893000+00:00</td>\n",
       "      <td>No</td>\n",
       "      <td>Срећно! (Good luck!)</td>\n",
       "      <td>2</td>\n",
       "      <td>3</td>\n",
       "      <td>No</td>\n",
       "      <td>No</td>\n",
       "      <td>...</td>\n",
       "      <td>3</td>\n",
       "      <td>1</td>\n",
       "      <td>3</td>\n",
       "      <td>Jerseys, pullovers, cardigans, waistcoats and ...</td>\n",
       "      <td>2</td>\n",
       "      <td>Yes</td>\n",
       "      <td>2</td>\n",
       "      <td>2</td>\n",
       "      <td>2</td>\n",
       "      <td>1</td>\n",
       "    </tr>\n",
       "    <tr>\n",
       "      <th>eccbc87e4b5ce2fe28308fd9f2a7baf3</th>\n",
       "      <td>T3</td>\n",
       "      <td>3</td>\n",
       "      <td>4</td>\n",
       "      <td>2018-01-01 00:01:15.893000+00:00</td>\n",
       "      <td>No</td>\n",
       "      <td>Срећно! (Good luck!)</td>\n",
       "      <td>2</td>\n",
       "      <td>4</td>\n",
       "      <td>No</td>\n",
       "      <td>Yes</td>\n",
       "      <td>...</td>\n",
       "      <td>4</td>\n",
       "      <td>1</td>\n",
       "      <td>4</td>\n",
       "      <td>Footwear with outer soles of rubber or plastics</td>\n",
       "      <td>2</td>\n",
       "      <td>Yes</td>\n",
       "      <td>2</td>\n",
       "      <td>2</td>\n",
       "      <td>2</td>\n",
       "      <td>1</td>\n",
       "    </tr>\n",
       "    <tr>\n",
       "      <th>a87ff679a2f3e71d9181a67b7542122c</th>\n",
       "      <td>T4</td>\n",
       "      <td>4</td>\n",
       "      <td>5</td>\n",
       "      <td>2018-01-01 00:01:51.450000+00:00</td>\n",
       "      <td>No</td>\n",
       "      <td>Срећно! (Good luck!)</td>\n",
       "      <td>2</td>\n",
       "      <td>5</td>\n",
       "      <td>No</td>\n",
       "      <td>Yes</td>\n",
       "      <td>...</td>\n",
       "      <td>5</td>\n",
       "      <td>1</td>\n",
       "      <td>5</td>\n",
       "      <td>Footwear with outer soles of rubber or plastics</td>\n",
       "      <td>2</td>\n",
       "      <td>No</td>\n",
       "      <td>1</td>\n",
       "      <td>1</td>\n",
       "      <td>1</td>\n",
       "      <td>3</td>\n",
       "    </tr>\n",
       "  </tbody>\n",
       "</table>\n",
       "<p>5 rows × 30 columns</p>\n",
       "</div>"
      ],
      "text/plain": [
       "                                 tierafterorder orderportalid size  \\\n",
       "id                                                                   \n",
       "cfcd208495d565ef66e7dff9f98764da             T4             1    1   \n",
       "c4ca4238a0b923820dcc509a6f75849b             T3             2    2   \n",
       "c81e728d9d4c2f636f067f89cc14862c             T3             3    3   \n",
       "eccbc87e4b5ce2fe28308fd9f2a7baf3             T3             3    4   \n",
       "a87ff679a2f3e71d9181a67b7542122c             T4             4    5   \n",
       "\n",
       "                                                     orderdate_gmt  \\\n",
       "id                                                                   \n",
       "cfcd208495d565ef66e7dff9f98764da  2018-01-01 00:00:19.733000+00:00   \n",
       "c4ca4238a0b923820dcc509a6f75849b  2018-01-01 00:00:42.540000+00:00   \n",
       "c81e728d9d4c2f636f067f89cc14862c  2018-01-01 00:01:15.893000+00:00   \n",
       "eccbc87e4b5ce2fe28308fd9f2a7baf3  2018-01-01 00:01:15.893000+00:00   \n",
       "a87ff679a2f3e71d9181a67b7542122c  2018-01-01 00:01:51.450000+00:00   \n",
       "\n",
       "                                 hasusedwishlist  ldsa_team_wishes_you  \\\n",
       "id                                                                       \n",
       "cfcd208495d565ef66e7dff9f98764da             Yes  Срећно! (Good luck!)   \n",
       "c4ca4238a0b923820dcc509a6f75849b             Yes  Срећно! (Good luck!)   \n",
       "c81e728d9d4c2f636f067f89cc14862c              No  Срећно! (Good luck!)   \n",
       "eccbc87e4b5ce2fe28308fd9f2a7baf3              No  Срећно! (Good luck!)   \n",
       "a87ff679a2f3e71d9181a67b7542122c              No  Срећно! (Good luck!)   \n",
       "\n",
       "                                 shipper productid isreseller issale  ...  \\\n",
       "id                                                                    ...   \n",
       "cfcd208495d565ef66e7dff9f98764da       1         1         No    Yes  ...   \n",
       "c4ca4238a0b923820dcc509a6f75849b       2         2         No     No  ...   \n",
       "c81e728d9d4c2f636f067f89cc14862c       2         3         No     No  ...   \n",
       "eccbc87e4b5ce2fe28308fd9f2a7baf3       2         4         No    Yes  ...   \n",
       "a87ff679a2f3e71d9181a67b7542122c       2         5         No    Yes  ...   \n",
       "\n",
       "                                 brand promocode designer  \\\n",
       "id                                                          \n",
       "cfcd208495d565ef66e7dff9f98764da     1         1        1   \n",
       "c4ca4238a0b923820dcc509a6f75849b     2         1        2   \n",
       "c81e728d9d4c2f636f067f89cc14862c     3         1        3   \n",
       "eccbc87e4b5ce2fe28308fd9f2a7baf3     4         1        4   \n",
       "a87ff679a2f3e71d9181a67b7542122c     5         1        5   \n",
       "\n",
       "                                                                     ddpsubcategory  \\\n",
       "id                                                                                    \n",
       "cfcd208495d565ef66e7dff9f98764da  Articles of a kind normally carried in the poc...   \n",
       "c4ca4238a0b923820dcc509a6f75849b                                                NaN   \n",
       "c81e728d9d4c2f636f067f89cc14862c  Jerseys, pullovers, cardigans, waistcoats and ...   \n",
       "eccbc87e4b5ce2fe28308fd9f2a7baf3    Footwear with outer soles of rubber or plastics   \n",
       "a87ff679a2f3e71d9181a67b7542122c    Footwear with outer soles of rubber or plastics   \n",
       "\n",
       "                                 shiptypeid hasitemsonbag country countrycode  \\\n",
       "id                                                                              \n",
       "cfcd208495d565ef66e7dff9f98764da          1            No       1           1   \n",
       "c4ca4238a0b923820dcc509a6f75849b          2            No       1           1   \n",
       "c81e728d9d4c2f636f067f89cc14862c          2           Yes       2           2   \n",
       "eccbc87e4b5ce2fe28308fd9f2a7baf3          2           Yes       2           2   \n",
       "a87ff679a2f3e71d9181a67b7542122c          2            No       1           1   \n",
       "\n",
       "                                 countryoforigin userfraudstatus  \n",
       "id                                                                \n",
       "cfcd208495d565ef66e7dff9f98764da               1               1  \n",
       "c4ca4238a0b923820dcc509a6f75849b               2               2  \n",
       "c81e728d9d4c2f636f067f89cc14862c               2               1  \n",
       "eccbc87e4b5ce2fe28308fd9f2a7baf3               2               1  \n",
       "a87ff679a2f3e71d9181a67b7542122c               1               3  \n",
       "\n",
       "[5 rows x 30 columns]"
      ]
     },
     "execution_count": 58,
     "metadata": {},
     "output_type": "execute_result"
    }
   ],
   "source": [
    "files_df.head()"
   ]
  },
  {
   "cell_type": "markdown",
   "metadata": {},
   "source": [
    "And output the resulting dataframe to a pickle in the `data/clean` directory!"
   ]
  },
  {
   "cell_type": "code",
   "execution_count": 60,
   "metadata": {},
   "outputs": [],
   "source": [
    "! mkdir data/clean"
   ]
  },
  {
   "cell_type": "code",
   "execution_count": 61,
   "metadata": {},
   "outputs": [],
   "source": [
    "files_df.to_pickle('data/clean/files_df.pkl')"
   ]
  }
 ],
 "metadata": {
  "kernelspec": {
   "display_name": "Python 3",
   "language": "python",
   "name": "python3"
  },
  "language_info": {
   "codemirror_mode": {
    "name": "ipython",
    "version": 3
   },
   "file_extension": ".py",
   "mimetype": "text/x-python",
   "name": "python",
   "nbconvert_exporter": "python",
   "pygments_lexer": "ipython3",
   "version": "3.7.1"
  }
 },
 "nbformat": 4,
 "nbformat_minor": 2
}
