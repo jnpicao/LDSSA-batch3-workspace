{
 "cells": [
  {
   "cell_type": "markdown",
   "metadata": {},
   "source": [
    "Here we will retrieve the api information."
   ]
  },
  {
   "cell_type": "code",
   "execution_count": 1,
   "metadata": {},
   "outputs": [],
   "source": [
    "import requests\n",
    "import pandas as pd\n",
    "from tqdm import tqdm_notebook"
   ]
  },
  {
   "cell_type": "code",
   "execution_count": 2,
   "metadata": {},
   "outputs": [],
   "source": [
    "base_url = 'https://y29rdnycjd.execute-api.eu-west-1.amazonaws.com/dev/'"
   ]
  },
  {
   "cell_type": "code",
   "execution_count": 3,
   "metadata": {},
   "outputs": [],
   "source": [
    "r = requests.get(base_url)"
   ]
  },
  {
   "cell_type": "code",
   "execution_count": 4,
   "metadata": {},
   "outputs": [
    {
     "data": {
      "text/plain": [
       "True"
      ]
     },
     "execution_count": 4,
     "metadata": {},
     "output_type": "execute_result"
    }
   ],
   "source": [
    "r.ok"
   ]
  },
  {
   "cell_type": "markdown",
   "metadata": {},
   "source": [
    "We see we can connect, so we don't need any authentication."
   ]
  },
  {
   "cell_type": "markdown",
   "metadata": {},
   "source": [
    "By checking the [api swagger doc](https://y29rdnycjd.execute-api.eu-west-1.amazonaws.com/dev/swagger.json), we see there is an endpoint named `missingdata` to which we pass an id and returns the missing columns."
   ]
  },
  {
   "cell_type": "code",
   "execution_count": 5,
   "metadata": {},
   "outputs": [
    {
     "data": {
      "text/plain": [
       "'https://y29rdnycjd.execute-api.eu-west-1.amazonaws.com/dev/missingdata/{id}'"
      ]
     },
     "execution_count": 5,
     "metadata": {},
     "output_type": "execute_result"
    }
   ],
   "source": [
    "endpoint_url = base_url + 'missingdata/{id}'\n",
    "endpoint_url"
   ]
  },
  {
   "cell_type": "code",
   "execution_count": 6,
   "metadata": {},
   "outputs": [],
   "source": [
    "sample_id = 'a0ef54d140f90a214b247122aa904a34'"
   ]
  },
  {
   "cell_type": "code",
   "execution_count": 7,
   "metadata": {},
   "outputs": [],
   "source": [
    "r = requests.get(endpoint_url.format(id=sample_id))"
   ]
  },
  {
   "cell_type": "code",
   "execution_count": 8,
   "metadata": {},
   "outputs": [
    {
     "data": {
      "text/plain": [
       "'https://y29rdnycjd.execute-api.eu-west-1.amazonaws.com/dev/missingdata/a0ef54d140f90a214b247122aa904a34'"
      ]
     },
     "execution_count": 8,
     "metadata": {},
     "output_type": "execute_result"
    }
   ],
   "source": [
    "r.request.url"
   ]
  },
  {
   "cell_type": "code",
   "execution_count": 9,
   "metadata": {},
   "outputs": [
    {
     "data": {
      "text/plain": [
       "b'{\"message\": \"Sample not found\"}\\n'"
      ]
     },
     "execution_count": 9,
     "metadata": {},
     "output_type": "execute_result"
    }
   ],
   "source": [
    "r.content"
   ]
  },
  {
   "cell_type": "markdown",
   "metadata": {},
   "source": [
    "So the endpoint works, but that id is not found."
   ]
  },
  {
   "cell_type": "markdown",
   "metadata": {},
   "source": [
    "Now we will read one of the dataframes we already created."
   ]
  },
  {
   "cell_type": "code",
   "execution_count": 10,
   "metadata": {},
   "outputs": [],
   "source": [
    "files_df = pd.read_pickle('data/clean/files_df.pkl')"
   ]
  },
  {
   "cell_type": "code",
   "execution_count": 11,
   "metadata": {},
   "outputs": [
    {
     "data": {
      "text/plain": [
       "Index(['tierafterorder', 'orderportalid', 'size', 'orderdate_gmt',\n",
       "       'hasusedwishlist', 'ldsa_team_wishes_you', 'shipper', 'productid',\n",
       "       'isreseller', 'issale', 'category_1stlevel', 'tierbeforeorder',\n",
       "       'ddprate', 'platform', 'style', 'region', 'isusingmultipledevices',\n",
       "       'freereturn', 'userid', 'isvip', 'brand', 'promocode', 'designer',\n",
       "       'ddpsubcategory', 'shiptypeid', 'hasitemsonbag', 'country',\n",
       "       'countrycode', 'countryoforigin', 'userfraudstatus'],\n",
       "      dtype='object')"
      ]
     },
     "execution_count": 11,
     "metadata": {},
     "output_type": "execute_result"
    }
   ],
   "source": [
    "files_df.columns"
   ]
  },
  {
   "cell_type": "markdown",
   "metadata": {},
   "source": [
    "So I asked the instructors how to know which ids are in the API, I did it so I didn't have to blast the API with unnecessary requests.\n",
    "\n",
    "It turns out, the rows that are in the API are those where column values are `API`."
   ]
  },
  {
   "cell_type": "code",
   "execution_count": 12,
   "metadata": {},
   "outputs": [],
   "source": [
    "ids_api = files_df[files_df.tierafterorder == 'API'].index.values"
   ]
  },
  {
   "cell_type": "code",
   "execution_count": 13,
   "metadata": {},
   "outputs": [
    {
     "data": {
      "text/plain": [
       "(10000,)"
      ]
     },
     "execution_count": 13,
     "metadata": {},
     "output_type": "execute_result"
    }
   ],
   "source": [
    "ids_api.shape"
   ]
  },
  {
   "cell_type": "code",
   "execution_count": 14,
   "metadata": {},
   "outputs": [],
   "source": [
    "def get_missing_data(row_id):\n",
    "    r = requests.get(endpoint_url.format(id=row_id))\n",
    "    if r.ok:\n",
    "        return r.json()\n",
    "    else:\n",
    "        return None"
   ]
  },
  {
   "cell_type": "code",
   "execution_count": 15,
   "metadata": {},
   "outputs": [
    {
     "data": {
      "text/plain": [
       "{'orderportalid': 382388,\n",
       " 'orderdate_gmt': '2018-01-01 00:15:06.020000+00:00',\n",
       " 'designer': 4295,\n",
       " 'style': 4299,\n",
       " 'shipper': 2,\n",
       " 'shiptypeid': 2,\n",
       " 'userid': 257187.0,\n",
       " 'isvip': 'Not VIP',\n",
       " 'country': 1,\n",
       " 'region': 1,\n",
       " 'ddprate': 5.0083,\n",
       " 'countrycode': 1,\n",
       " 'hasusedwishlist': 'Yes',\n",
       " 'isreseller': 'No',\n",
       " 'hasitemsonbag': 'No',\n",
       " 'tierafterorder': None,\n",
       " 'tierbeforeorder': None,\n",
       " 'isusingmultipledevices': 'Yes',\n",
       " 'userfraudstatus': 3,\n",
       " 'promocode': 1,\n",
       " 'freereturn': 1,\n",
       " 'issale': 'Yes',\n",
       " 'productid': 4450,\n",
       " 'brand': 337,\n",
       " 'ddpsubcategory': 'Footwear with outer soles of rubber or plastics',\n",
       " 'storeid': 5,\n",
       " 'countryoforigin': 1,\n",
       " 'size': 12,\n",
       " 'category_1stlevel': 'Shoes',\n",
       " 'platform': 'web',\n",
       " 'returned': None}"
      ]
     },
     "execution_count": 15,
     "metadata": {},
     "output_type": "execute_result"
    }
   ],
   "source": [
    "get_missing_data(ids_api[0])"
   ]
  },
  {
   "cell_type": "markdown",
   "metadata": {},
   "source": [
    "It works!"
   ]
  },
  {
   "cell_type": "markdown",
   "metadata": {},
   "source": [
    "Now we just need to do all of the requests. We will use [dask](dask.org) to speed up the process (see how to install it [here](https://docs.dask.org/en/latest/install.html))."
   ]
  },
  {
   "cell_type": "code",
   "execution_count": 16,
   "metadata": {},
   "outputs": [
    {
     "data": {
      "text/html": [
       "<table style=\"border: 2px solid white;\">\n",
       "<tr>\n",
       "<td style=\"vertical-align: top; border: 0px solid white\">\n",
       "<h3 style=\"text-align: left;\">Client</h3>\n",
       "<ul style=\"text-align: left; list-style: none; margin: 0; padding: 0;\">\n",
       "  <li><b>Scheduler: </b>tcp://127.0.0.1:58983</li>\n",
       "  <li><b>Dashboard: </b><a href='http://127.0.0.1:8787/status' target='_blank'>http://127.0.0.1:8787/status</a>\n",
       "</ul>\n",
       "</td>\n",
       "<td style=\"vertical-align: top; border: 0px solid white\">\n",
       "<h3 style=\"text-align: left;\">Cluster</h3>\n",
       "<ul style=\"text-align: left; list-style:none; margin: 0; padding: 0;\">\n",
       "  <li><b>Workers: </b>4</li>\n",
       "  <li><b>Cores: </b>4</li>\n",
       "  <li><b>Memory: </b>8.59 GB</li>\n",
       "</ul>\n",
       "</td>\n",
       "</tr>\n",
       "</table>"
      ],
      "text/plain": [
       "<Client: 'tcp://127.0.0.1:58983' processes=4 threads=4, memory=8.59 GB>"
      ]
     },
     "execution_count": 16,
     "metadata": {},
     "output_type": "execute_result"
    }
   ],
   "source": [
    "import dask\n",
    "from dask.distributed import Client\n",
    "client = Client()\n",
    "client"
   ]
  },
  {
   "cell_type": "code",
   "execution_count": 17,
   "metadata": {},
   "outputs": [],
   "source": [
    "data = [dask.delayed(get_missing_data)(row_id) for row_id in  ids_api]"
   ]
  },
  {
   "cell_type": "code",
   "execution_count": 18,
   "metadata": {},
   "outputs": [],
   "source": [
    "res = dask.compute(data)"
   ]
  },
  {
   "cell_type": "code",
   "execution_count": 19,
   "metadata": {},
   "outputs": [
    {
     "data": {
      "text/plain": [
       "10000"
      ]
     },
     "execution_count": 19,
     "metadata": {},
     "output_type": "execute_result"
    }
   ],
   "source": [
    "len(res[0])"
   ]
  },
  {
   "cell_type": "code",
   "execution_count": 20,
   "metadata": {},
   "outputs": [
    {
     "data": {
      "text/plain": [
       "{'orderportalid': 382388,\n",
       " 'orderdate_gmt': '2018-01-01 00:15:06.020000+00:00',\n",
       " 'designer': 4295,\n",
       " 'style': 4299,\n",
       " 'shipper': 2,\n",
       " 'shiptypeid': 2,\n",
       " 'userid': 257187.0,\n",
       " 'isvip': 'Not VIP',\n",
       " 'country': 1,\n",
       " 'region': 1,\n",
       " 'ddprate': 5.0083,\n",
       " 'countrycode': 1,\n",
       " 'hasusedwishlist': 'Yes',\n",
       " 'isreseller': 'No',\n",
       " 'hasitemsonbag': 'No',\n",
       " 'tierafterorder': None,\n",
       " 'tierbeforeorder': None,\n",
       " 'isusingmultipledevices': 'Yes',\n",
       " 'userfraudstatus': 3,\n",
       " 'promocode': 1,\n",
       " 'freereturn': 1,\n",
       " 'issale': 'Yes',\n",
       " 'productid': 4450,\n",
       " 'brand': 337,\n",
       " 'ddpsubcategory': 'Footwear with outer soles of rubber or plastics',\n",
       " 'storeid': 5,\n",
       " 'countryoforigin': 1,\n",
       " 'size': 12,\n",
       " 'category_1stlevel': 'Shoes',\n",
       " 'platform': 'web',\n",
       " 'returned': None}"
      ]
     },
     "execution_count": 20,
     "metadata": {},
     "output_type": "execute_result"
    }
   ],
   "source": [
    "res[0][0]"
   ]
  },
  {
   "cell_type": "markdown",
   "metadata": {},
   "source": [
    "If you don't want to use dask, you can always do it in plain python! To do it, uncomment the code below."
   ]
  },
  {
   "cell_type": "code",
   "execution_count": 21,
   "metadata": {},
   "outputs": [],
   "source": [
    "#all_data = []\n",
    "#for i in tqdm_notebook(ids_api):\n",
    "#    all_data.append(get_missing_data(i))"
   ]
  },
  {
   "cell_type": "markdown",
   "metadata": {},
   "source": [
    "Make a dataframe out of the json responses."
   ]
  },
  {
   "cell_type": "code",
   "execution_count": 22,
   "metadata": {},
   "outputs": [],
   "source": [
    "api_df = pd.DataFrame(res[0])"
   ]
  },
  {
   "cell_type": "code",
   "execution_count": 23,
   "metadata": {},
   "outputs": [
    {
     "data": {
      "text/html": [
       "<div>\n",
       "<style scoped>\n",
       "    .dataframe tbody tr th:only-of-type {\n",
       "        vertical-align: middle;\n",
       "    }\n",
       "\n",
       "    .dataframe tbody tr th {\n",
       "        vertical-align: top;\n",
       "    }\n",
       "\n",
       "    .dataframe thead th {\n",
       "        text-align: right;\n",
       "    }\n",
       "</style>\n",
       "<table border=\"1\" class=\"dataframe\">\n",
       "  <thead>\n",
       "    <tr style=\"text-align: right;\">\n",
       "      <th></th>\n",
       "      <th>brand</th>\n",
       "      <th>category_1stlevel</th>\n",
       "      <th>country</th>\n",
       "      <th>countrycode</th>\n",
       "      <th>countryoforigin</th>\n",
       "      <th>ddprate</th>\n",
       "      <th>ddpsubcategory</th>\n",
       "      <th>designer</th>\n",
       "      <th>freereturn</th>\n",
       "      <th>hasitemsonbag</th>\n",
       "      <th>...</th>\n",
       "      <th>returned</th>\n",
       "      <th>shipper</th>\n",
       "      <th>shiptypeid</th>\n",
       "      <th>size</th>\n",
       "      <th>storeid</th>\n",
       "      <th>style</th>\n",
       "      <th>tierafterorder</th>\n",
       "      <th>tierbeforeorder</th>\n",
       "      <th>userfraudstatus</th>\n",
       "      <th>userid</th>\n",
       "    </tr>\n",
       "  </thead>\n",
       "  <tbody>\n",
       "    <tr>\n",
       "      <th>0</th>\n",
       "      <td>337</td>\n",
       "      <td>Shoes</td>\n",
       "      <td>1</td>\n",
       "      <td>1</td>\n",
       "      <td>1</td>\n",
       "      <td>5.0083</td>\n",
       "      <td>Footwear with outer soles of rubber or plastics</td>\n",
       "      <td>4295</td>\n",
       "      <td>1</td>\n",
       "      <td>No</td>\n",
       "      <td>...</td>\n",
       "      <td>None</td>\n",
       "      <td>2</td>\n",
       "      <td>2</td>\n",
       "      <td>12</td>\n",
       "      <td>5</td>\n",
       "      <td>4299</td>\n",
       "      <td>None</td>\n",
       "      <td>None</td>\n",
       "      <td>3</td>\n",
       "      <td>257187.0</td>\n",
       "    </tr>\n",
       "    <tr>\n",
       "      <th>1</th>\n",
       "      <td>681</td>\n",
       "      <td>Clothing</td>\n",
       "      <td>1</td>\n",
       "      <td>1</td>\n",
       "      <td>8</td>\n",
       "      <td>0.0000</td>\n",
       "      <td>Skirts</td>\n",
       "      <td>79959</td>\n",
       "      <td>1</td>\n",
       "      <td>No</td>\n",
       "      <td>...</td>\n",
       "      <td>None</td>\n",
       "      <td>1</td>\n",
       "      <td>1</td>\n",
       "      <td>395</td>\n",
       "      <td>764</td>\n",
       "      <td>79978</td>\n",
       "      <td>None</td>\n",
       "      <td>None</td>\n",
       "      <td>3</td>\n",
       "      <td>270119.0</td>\n",
       "    </tr>\n",
       "    <tr>\n",
       "      <th>2</th>\n",
       "      <td>9</td>\n",
       "      <td>Bags</td>\n",
       "      <td>3</td>\n",
       "      <td>3</td>\n",
       "      <td>1</td>\n",
       "      <td>0.0000</td>\n",
       "      <td>Handbags, whether or not with shoulder strap, ...</td>\n",
       "      <td>13129</td>\n",
       "      <td>1</td>\n",
       "      <td>Yes</td>\n",
       "      <td>...</td>\n",
       "      <td>None</td>\n",
       "      <td>2</td>\n",
       "      <td>2</td>\n",
       "      <td>17</td>\n",
       "      <td>174</td>\n",
       "      <td>13136</td>\n",
       "      <td>None</td>\n",
       "      <td>None</td>\n",
       "      <td>3</td>\n",
       "      <td>264764.0</td>\n",
       "    </tr>\n",
       "    <tr>\n",
       "      <th>3</th>\n",
       "      <td>92</td>\n",
       "      <td>Clothing</td>\n",
       "      <td>4</td>\n",
       "      <td>4</td>\n",
       "      <td>1</td>\n",
       "      <td>0.0000</td>\n",
       "      <td>Jerseys, pullovers, cardigans, waistcoats and ...</td>\n",
       "      <td>268</td>\n",
       "      <td>1</td>\n",
       "      <td>Yes</td>\n",
       "      <td>...</td>\n",
       "      <td>None</td>\n",
       "      <td>2</td>\n",
       "      <td>9</td>\n",
       "      <td>35</td>\n",
       "      <td>156</td>\n",
       "      <td>268</td>\n",
       "      <td>VIP</td>\n",
       "      <td>VIP</td>\n",
       "      <td>6</td>\n",
       "      <td>195.0</td>\n",
       "    </tr>\n",
       "    <tr>\n",
       "      <th>4</th>\n",
       "      <td>1617</td>\n",
       "      <td>Teen Girl Clothing</td>\n",
       "      <td>1</td>\n",
       "      <td>1</td>\n",
       "      <td>1</td>\n",
       "      <td>5.0083</td>\n",
       "      <td>Dresses</td>\n",
       "      <td>148401</td>\n",
       "      <td>1</td>\n",
       "      <td>No</td>\n",
       "      <td>...</td>\n",
       "      <td>None</td>\n",
       "      <td>4</td>\n",
       "      <td>2</td>\n",
       "      <td>10</td>\n",
       "      <td>163</td>\n",
       "      <td>148434</td>\n",
       "      <td>None</td>\n",
       "      <td>None</td>\n",
       "      <td>3</td>\n",
       "      <td>254415.0</td>\n",
       "    </tr>\n",
       "  </tbody>\n",
       "</table>\n",
       "<p>5 rows × 31 columns</p>\n",
       "</div>"
      ],
      "text/plain": [
       "   brand   category_1stlevel  country  countrycode  countryoforigin  ddprate  \\\n",
       "0    337               Shoes        1            1                1   5.0083   \n",
       "1    681            Clothing        1            1                8   0.0000   \n",
       "2      9                Bags        3            3                1   0.0000   \n",
       "3     92            Clothing        4            4                1   0.0000   \n",
       "4   1617  Teen Girl Clothing        1            1                1   5.0083   \n",
       "\n",
       "                                      ddpsubcategory  designer  freereturn  \\\n",
       "0    Footwear with outer soles of rubber or plastics      4295           1   \n",
       "1                                             Skirts     79959           1   \n",
       "2  Handbags, whether or not with shoulder strap, ...     13129           1   \n",
       "3  Jerseys, pullovers, cardigans, waistcoats and ...       268           1   \n",
       "4                                            Dresses    148401           1   \n",
       "\n",
       "  hasitemsonbag  ... returned shipper shiptypeid size storeid   style  \\\n",
       "0            No  ...     None       2          2   12       5    4299   \n",
       "1            No  ...     None       1          1  395     764   79978   \n",
       "2           Yes  ...     None       2          2   17     174   13136   \n",
       "3           Yes  ...     None       2          9   35     156     268   \n",
       "4            No  ...     None       4          2   10     163  148434   \n",
       "\n",
       "   tierafterorder tierbeforeorder  userfraudstatus    userid  \n",
       "0            None            None                3  257187.0  \n",
       "1            None            None                3  270119.0  \n",
       "2            None            None                3  264764.0  \n",
       "3             VIP             VIP                6     195.0  \n",
       "4            None            None                3  254415.0  \n",
       "\n",
       "[5 rows x 31 columns]"
      ]
     },
     "execution_count": 23,
     "metadata": {},
     "output_type": "execute_result"
    }
   ],
   "source": [
    "api_df.head()"
   ]
  },
  {
   "cell_type": "code",
   "execution_count": 24,
   "metadata": {},
   "outputs": [],
   "source": [
    "api_df['id'] = ids_api"
   ]
  },
  {
   "cell_type": "code",
   "execution_count": 25,
   "metadata": {},
   "outputs": [],
   "source": [
    "api_df = api_df.set_index('id')"
   ]
  },
  {
   "cell_type": "code",
   "execution_count": 26,
   "metadata": {},
   "outputs": [],
   "source": [
    "api_df.to_pickle('data/clean/api_df.pickle')"
   ]
  }
 ],
 "metadata": {
  "kernelspec": {
   "display_name": "Python 3",
   "language": "python",
   "name": "python3"
  },
  "language_info": {
   "codemirror_mode": {
    "name": "ipython",
    "version": 3
   },
   "file_extension": ".py",
   "mimetype": "text/x-python",
   "name": "python",
   "nbconvert_exporter": "python",
   "pygments_lexer": "ipython3",
   "version": "3.7.1"
  }
 },
 "nbformat": 4,
 "nbformat_minor": 2
}
