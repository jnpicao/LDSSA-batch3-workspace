{
 "cells": [
  {
   "cell_type": "markdown",
   "metadata": {},
   "source": [
    "Now we have to put together the different datasets."
   ]
  },
  {
   "cell_type": "code",
   "execution_count": 1,
   "metadata": {},
   "outputs": [],
   "source": [
    "import pandas as pd"
   ]
  },
  {
   "cell_type": "code",
   "execution_count": 2,
   "metadata": {},
   "outputs": [],
   "source": [
    "files_df = pd.read_pickle(\"data/clean/files_df.pkl\")"
   ]
  },
  {
   "cell_type": "markdown",
   "metadata": {},
   "source": [
    "We remove from the dataframe those rows whose origin is the website (these rows have `WEBSITE` in all the values) and those that come from the API (these rows have `API` in all the values)."
   ]
  },
  {
   "cell_type": "code",
   "execution_count": 3,
   "metadata": {},
   "outputs": [
    {
     "data": {
      "text/plain": [
       "(543341, 30)"
      ]
     },
     "execution_count": 3,
     "metadata": {},
     "output_type": "execute_result"
    }
   ],
   "source": [
    "files_df.shape"
   ]
  },
  {
   "cell_type": "code",
   "execution_count": 4,
   "metadata": {},
   "outputs": [],
   "source": [
    "website_ids = files_df[files_df.tierafterorder.isin(['WEBSITE'])].index\n",
    "api_ids = files_df[files_df.tierafterorder.isin(['API'])].index"
   ]
  },
  {
   "cell_type": "code",
   "execution_count": 5,
   "metadata": {},
   "outputs": [],
   "source": [
    "files_df = files_df[-files_df.tierafterorder.isin(['WEBSITE', 'API'])]"
   ]
  },
  {
   "cell_type": "code",
   "execution_count": 6,
   "metadata": {},
   "outputs": [
    {
     "data": {
      "text/plain": [
       "(493341, 30)"
      ]
     },
     "execution_count": 6,
     "metadata": {},
     "output_type": "execute_result"
    }
   ],
   "source": [
    "files_df.shape"
   ]
  },
  {
   "cell_type": "code",
   "execution_count": 7,
   "metadata": {},
   "outputs": [
    {
     "data": {
      "text/plain": [
       "T4     212474\n",
       "T2      75885\n",
       "T3      70078\n",
       "VIP     65361\n",
       "T1      38079\n",
       "Name: tierafterorder, dtype: int64"
      ]
     },
     "execution_count": 7,
     "metadata": {},
     "output_type": "execute_result"
    }
   ],
   "source": [
    "files_df.tierafterorder.value_counts()"
   ]
  },
  {
   "cell_type": "code",
   "execution_count": 8,
   "metadata": {},
   "outputs": [],
   "source": [
    "scraped_df = pd.read_pickle('data/clean/scraped.pkl')"
   ]
  },
  {
   "cell_type": "code",
   "execution_count": 9,
   "metadata": {},
   "outputs": [
    {
     "data": {
      "text/plain": [
       "(40000, 30)"
      ]
     },
     "execution_count": 9,
     "metadata": {},
     "output_type": "execute_result"
    }
   ],
   "source": [
    "scraped_df.shape"
   ]
  },
  {
   "cell_type": "code",
   "execution_count": 10,
   "metadata": {},
   "outputs": [],
   "source": [
    "scraped_df = scraped_df.loc[website_ids]"
   ]
  },
  {
   "cell_type": "code",
   "execution_count": 11,
   "metadata": {},
   "outputs": [
    {
     "data": {
      "text/plain": [
       "(40000, 30)"
      ]
     },
     "execution_count": 11,
     "metadata": {},
     "output_type": "execute_result"
    }
   ],
   "source": [
    "scraped_df.shape"
   ]
  },
  {
   "cell_type": "code",
   "execution_count": 12,
   "metadata": {},
   "outputs": [
    {
     "data": {
      "text/html": [
       "<div>\n",
       "<style scoped>\n",
       "    .dataframe tbody tr th:only-of-type {\n",
       "        vertical-align: middle;\n",
       "    }\n",
       "\n",
       "    .dataframe tbody tr th {\n",
       "        vertical-align: top;\n",
       "    }\n",
       "\n",
       "    .dataframe thead th {\n",
       "        text-align: right;\n",
       "    }\n",
       "</style>\n",
       "<table border=\"1\" class=\"dataframe\">\n",
       "  <thead>\n",
       "    <tr style=\"text-align: right;\">\n",
       "      <th></th>\n",
       "      <th>orderportalid</th>\n",
       "      <th>orderdate_gmt</th>\n",
       "      <th>designer</th>\n",
       "      <th>style</th>\n",
       "      <th>shipper</th>\n",
       "      <th>shiptypeid</th>\n",
       "      <th>userid</th>\n",
       "      <th>isvip</th>\n",
       "      <th>country</th>\n",
       "      <th>region</th>\n",
       "      <th>...</th>\n",
       "      <th>freereturn</th>\n",
       "      <th>issale</th>\n",
       "      <th>productid</th>\n",
       "      <th>brand</th>\n",
       "      <th>ddpsubcategory</th>\n",
       "      <th>storeid</th>\n",
       "      <th>countryoforigin</th>\n",
       "      <th>size</th>\n",
       "      <th>category_1stlevel</th>\n",
       "      <th>platform</th>\n",
       "    </tr>\n",
       "    <tr>\n",
       "      <th>id</th>\n",
       "      <th></th>\n",
       "      <th></th>\n",
       "      <th></th>\n",
       "      <th></th>\n",
       "      <th></th>\n",
       "      <th></th>\n",
       "      <th></th>\n",
       "      <th></th>\n",
       "      <th></th>\n",
       "      <th></th>\n",
       "      <th></th>\n",
       "      <th></th>\n",
       "      <th></th>\n",
       "      <th></th>\n",
       "      <th></th>\n",
       "      <th></th>\n",
       "      <th></th>\n",
       "      <th></th>\n",
       "      <th></th>\n",
       "      <th></th>\n",
       "      <th></th>\n",
       "    </tr>\n",
       "  </thead>\n",
       "  <tbody>\n",
       "    <tr>\n",
       "      <th>3416a75f4cea9109507cacd8e2f2aefc</th>\n",
       "      <td>32</td>\n",
       "      <td>2018-01-01 00:18:18.093000+00:00</td>\n",
       "      <td>9314</td>\n",
       "      <td>9320</td>\n",
       "      <td>2</td>\n",
       "      <td>2</td>\n",
       "      <td>32.0</td>\n",
       "      <td>Not VIP</td>\n",
       "      <td>1</td>\n",
       "      <td>1</td>\n",
       "      <td>...</td>\n",
       "      <td>1</td>\n",
       "      <td>No</td>\n",
       "      <td>99761</td>\n",
       "      <td>105</td>\n",
       "      <td>NaN</td>\n",
       "      <td>52</td>\n",
       "      <td>34</td>\n",
       "      <td>108</td>\n",
       "      <td>Shoes</td>\n",
       "      <td>app</td>\n",
       "    </tr>\n",
       "    <tr>\n",
       "      <th>642e92efb79421734881b53e1e1b18b6</th>\n",
       "      <td>36</td>\n",
       "      <td>2018-01-01 00:20:41.350000+00:00</td>\n",
       "      <td>44</td>\n",
       "      <td>44</td>\n",
       "      <td>2</td>\n",
       "      <td>2</td>\n",
       "      <td>36.0</td>\n",
       "      <td>Not VIP</td>\n",
       "      <td>5</td>\n",
       "      <td>3</td>\n",
       "      <td>...</td>\n",
       "      <td>1</td>\n",
       "      <td>No</td>\n",
       "      <td>44</td>\n",
       "      <td>36</td>\n",
       "      <td>Articles of a kind normally carried in the poc...</td>\n",
       "      <td>35</td>\n",
       "      <td>1</td>\n",
       "      <td>17</td>\n",
       "      <td>Accessories</td>\n",
       "      <td>NaN</td>\n",
       "    </tr>\n",
       "    <tr>\n",
       "      <th>3ef815416f775098fe977004015c6193</th>\n",
       "      <td>374773</td>\n",
       "      <td>2018-01-01 00:34:25.690000+00:00</td>\n",
       "      <td>127166</td>\n",
       "      <td>127196</td>\n",
       "      <td>2</td>\n",
       "      <td>2</td>\n",
       "      <td>255071.0</td>\n",
       "      <td>Not VIP</td>\n",
       "      <td>1</td>\n",
       "      <td>1</td>\n",
       "      <td>...</td>\n",
       "      <td>1</td>\n",
       "      <td>No</td>\n",
       "      <td>148017</td>\n",
       "      <td>99</td>\n",
       "      <td>Footwear with outer soles of rubber or plastics</td>\n",
       "      <td>78</td>\n",
       "      <td>26</td>\n",
       "      <td>383</td>\n",
       "      <td>Shoes</td>\n",
       "      <td>web</td>\n",
       "    </tr>\n",
       "    <tr>\n",
       "      <th>ac627ab1ccbdb62ec96e702f07f6425b</th>\n",
       "      <td>70</td>\n",
       "      <td>2018-01-01 00:38:28.650000+00:00</td>\n",
       "      <td>72091</td>\n",
       "      <td>72109</td>\n",
       "      <td>2</td>\n",
       "      <td>2</td>\n",
       "      <td>69.0</td>\n",
       "      <td>VIP</td>\n",
       "      <td>16</td>\n",
       "      <td>4</td>\n",
       "      <td>...</td>\n",
       "      <td>1</td>\n",
       "      <td>Yes</td>\n",
       "      <td>80837</td>\n",
       "      <td>459</td>\n",
       "      <td>Jerseys, pullovers, cardigans, waistcoats and ...</td>\n",
       "      <td>311</td>\n",
       "      <td>2</td>\n",
       "      <td>48</td>\n",
       "      <td>Girls Clothing</td>\n",
       "      <td>app</td>\n",
       "    </tr>\n",
       "    <tr>\n",
       "      <th>f899139df5e1059396431415e770c6dd</th>\n",
       "      <td>70</td>\n",
       "      <td>2018-01-01 00:38:28.650000+00:00</td>\n",
       "      <td>2094</td>\n",
       "      <td>2097</td>\n",
       "      <td>2</td>\n",
       "      <td>2</td>\n",
       "      <td>69.0</td>\n",
       "      <td>VIP</td>\n",
       "      <td>16</td>\n",
       "      <td>4</td>\n",
       "      <td>...</td>\n",
       "      <td>1</td>\n",
       "      <td>No</td>\n",
       "      <td>2153</td>\n",
       "      <td>279</td>\n",
       "      <td>T-shirts, singlets and other vests</td>\n",
       "      <td>106</td>\n",
       "      <td>2</td>\n",
       "      <td>48</td>\n",
       "      <td>Girls Clothing</td>\n",
       "      <td>app</td>\n",
       "    </tr>\n",
       "  </tbody>\n",
       "</table>\n",
       "<p>5 rows × 30 columns</p>\n",
       "</div>"
      ],
      "text/plain": [
       "                                  orderportalid  \\\n",
       "id                                                \n",
       "3416a75f4cea9109507cacd8e2f2aefc             32   \n",
       "642e92efb79421734881b53e1e1b18b6             36   \n",
       "3ef815416f775098fe977004015c6193         374773   \n",
       "ac627ab1ccbdb62ec96e702f07f6425b             70   \n",
       "f899139df5e1059396431415e770c6dd             70   \n",
       "\n",
       "                                                     orderdate_gmt  designer  \\\n",
       "id                                                                             \n",
       "3416a75f4cea9109507cacd8e2f2aefc  2018-01-01 00:18:18.093000+00:00      9314   \n",
       "642e92efb79421734881b53e1e1b18b6  2018-01-01 00:20:41.350000+00:00        44   \n",
       "3ef815416f775098fe977004015c6193  2018-01-01 00:34:25.690000+00:00    127166   \n",
       "ac627ab1ccbdb62ec96e702f07f6425b  2018-01-01 00:38:28.650000+00:00     72091   \n",
       "f899139df5e1059396431415e770c6dd  2018-01-01 00:38:28.650000+00:00      2094   \n",
       "\n",
       "                                   style  shipper  shiptypeid    userid  \\\n",
       "id                                                                        \n",
       "3416a75f4cea9109507cacd8e2f2aefc    9320        2           2      32.0   \n",
       "642e92efb79421734881b53e1e1b18b6      44        2           2      36.0   \n",
       "3ef815416f775098fe977004015c6193  127196        2           2  255071.0   \n",
       "ac627ab1ccbdb62ec96e702f07f6425b   72109        2           2      69.0   \n",
       "f899139df5e1059396431415e770c6dd    2097        2           2      69.0   \n",
       "\n",
       "                                    isvip  country  region  ...  freereturn  \\\n",
       "id                                                          ...               \n",
       "3416a75f4cea9109507cacd8e2f2aefc  Not VIP        1       1  ...           1   \n",
       "642e92efb79421734881b53e1e1b18b6  Not VIP        5       3  ...           1   \n",
       "3ef815416f775098fe977004015c6193  Not VIP        1       1  ...           1   \n",
       "ac627ab1ccbdb62ec96e702f07f6425b      VIP       16       4  ...           1   \n",
       "f899139df5e1059396431415e770c6dd      VIP       16       4  ...           1   \n",
       "\n",
       "                                  issale productid brand  \\\n",
       "id                                                         \n",
       "3416a75f4cea9109507cacd8e2f2aefc      No     99761   105   \n",
       "642e92efb79421734881b53e1e1b18b6      No        44    36   \n",
       "3ef815416f775098fe977004015c6193      No    148017    99   \n",
       "ac627ab1ccbdb62ec96e702f07f6425b     Yes     80837   459   \n",
       "f899139df5e1059396431415e770c6dd      No      2153   279   \n",
       "\n",
       "                                                                     ddpsubcategory  \\\n",
       "id                                                                                    \n",
       "3416a75f4cea9109507cacd8e2f2aefc                                                NaN   \n",
       "642e92efb79421734881b53e1e1b18b6  Articles of a kind normally carried in the poc...   \n",
       "3ef815416f775098fe977004015c6193    Footwear with outer soles of rubber or plastics   \n",
       "ac627ab1ccbdb62ec96e702f07f6425b  Jerseys, pullovers, cardigans, waistcoats and ...   \n",
       "f899139df5e1059396431415e770c6dd                 T-shirts, singlets and other vests   \n",
       "\n",
       "                                 storeid countryoforigin size  \\\n",
       "id                                                              \n",
       "3416a75f4cea9109507cacd8e2f2aefc      52              34  108   \n",
       "642e92efb79421734881b53e1e1b18b6      35               1   17   \n",
       "3ef815416f775098fe977004015c6193      78              26  383   \n",
       "ac627ab1ccbdb62ec96e702f07f6425b     311               2   48   \n",
       "f899139df5e1059396431415e770c6dd     106               2   48   \n",
       "\n",
       "                                  category_1stlevel  platform  \n",
       "id                                                             \n",
       "3416a75f4cea9109507cacd8e2f2aefc              Shoes       app  \n",
       "642e92efb79421734881b53e1e1b18b6        Accessories       NaN  \n",
       "3ef815416f775098fe977004015c6193              Shoes       web  \n",
       "ac627ab1ccbdb62ec96e702f07f6425b     Girls Clothing       app  \n",
       "f899139df5e1059396431415e770c6dd     Girls Clothing       app  \n",
       "\n",
       "[5 rows x 30 columns]"
      ]
     },
     "execution_count": 12,
     "metadata": {},
     "output_type": "execute_result"
    }
   ],
   "source": [
    "scraped_df.head()"
   ]
  },
  {
   "cell_type": "code",
   "execution_count": 13,
   "metadata": {},
   "outputs": [],
   "source": [
    "targets_df = pd.read_pickle('data/clean/targets.pkl')\n",
    "storeid_df = pd.read_pickle('data/clean/storeids.pkl')"
   ]
  },
  {
   "cell_type": "code",
   "execution_count": 14,
   "metadata": {},
   "outputs": [],
   "source": [
    "api_df = pd.read_pickle('data/clean/api_df.pickle')"
   ]
  },
  {
   "cell_type": "markdown",
   "metadata": {},
   "source": [
    "We concat the dataframes that have different ids."
   ]
  },
  {
   "cell_type": "code",
   "execution_count": 15,
   "metadata": {},
   "outputs": [],
   "source": [
    "train_df = pd.concat(\n",
    "    [\n",
    "        pd.concat([files_df, api_df], sort=True),\n",
    "        scraped_df\n",
    "    ],\n",
    "    sort=True\n",
    ")"
   ]
  },
  {
   "cell_type": "code",
   "execution_count": 16,
   "metadata": {},
   "outputs": [
    {
     "data": {
      "text/plain": [
       "(543341, 32)"
      ]
     },
     "execution_count": 16,
     "metadata": {},
     "output_type": "execute_result"
    }
   ],
   "source": [
    "train_df.shape"
   ]
  },
  {
   "cell_type": "markdown",
   "metadata": {},
   "source": [
    "Now we join the files that share an index."
   ]
  },
  {
   "cell_type": "code",
   "execution_count": 17,
   "metadata": {},
   "outputs": [],
   "source": [
    "train_df = train_df.drop(columns=['returned', 'storeid']).join(targets_df).join(storeid_df)"
   ]
  },
  {
   "cell_type": "code",
   "execution_count": 18,
   "metadata": {},
   "outputs": [
    {
     "data": {
      "text/plain": [
       "(543341, 32)"
      ]
     },
     "execution_count": 18,
     "metadata": {},
     "output_type": "execute_result"
    }
   ],
   "source": [
    "train_df.shape"
   ]
  },
  {
   "cell_type": "code",
   "execution_count": 19,
   "metadata": {},
   "outputs": [],
   "source": [
    "train_df.to_pickle('data/clean/train_df_merged.pkl')"
   ]
  }
 ],
 "metadata": {
  "kernelspec": {
   "display_name": "Python 3",
   "language": "python",
   "name": "python3"
  },
  "language_info": {
   "codemirror_mode": {
    "name": "ipython",
    "version": 3
   },
   "file_extension": ".py",
   "mimetype": "text/x-python",
   "name": "python",
   "nbconvert_exporter": "python",
   "pygments_lexer": "ipython3",
   "version": "3.7.1"
  }
 },
 "nbformat": 4,
 "nbformat_minor": 2
}
