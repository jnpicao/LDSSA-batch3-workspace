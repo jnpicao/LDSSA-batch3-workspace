{
 "cells": [
  {
   "cell_type": "markdown",
   "metadata": {},
   "source": [
    "Now we will load the test file. This is important because when we deal with messy data we need to make sure that the columns in the train file exist at prediction time!"
   ]
  },
  {
   "cell_type": "code",
   "execution_count": 1,
   "metadata": {},
   "outputs": [],
   "source": [
    "import pandas as pd"
   ]
  },
  {
   "cell_type": "code",
   "execution_count": 2,
   "metadata": {},
   "outputs": [
    {
     "name": "stdout",
     "output_type": "stream",
     "text": [
      "data_test.zip          datasource1.csv        sample_submission.csv\r\n",
      "data_train_1.zip       datasource1_small.csv  \u001b[1m\u001b[36mtransformed_data\u001b[m\u001b[m/\r\n",
      "data_train_2.zip       datasource2.json\r\n",
      "data_train_3.zip       datasource3.csv\r\n"
     ]
    }
   ],
   "source": [
    "ls ../data/"
   ]
  },
  {
   "cell_type": "code",
   "execution_count": 3,
   "metadata": {},
   "outputs": [
    {
     "ename": "ValueError",
     "evalue": "('Multiple files found in compressed zip file %s', \"['transformed_data/data_test/', 'transformed_data/data_test/test/', 'transformed_data/data_test/test/test46.xlsx', 'transformed_data/data_test/test/test3.xlsx', 'transformed_data/data_test/test/test11.xlsx', 'transformed_data/data_test/test/test50.xlsx', 'transformed_data/data_test/test/test93.xlsx', 'transformed_data/data_test/test/test85.xlsx', 'transformed_data/data_test/test/test27.xlsx', 'transformed_data/data_test/test/test70.xlsx', 'transformed_data/data_test/test/test66.xlsx', 'transformed_data/data_test/test/test89.xlsx', 'transformed_data/data_test/test/test31.xlsx', 'transformed_data/data_test/test/test30.xlsx', 'transformed_data/data_test/test/test67.xlsx', 'transformed_data/data_test/test/test88.xlsx', 'transformed_data/data_test/test/test71.xlsx', 'transformed_data/data_test/test/test26.xlsx', 'transformed_data/data_test/test/test84.xlsx', 'transformed_data/data_test/test/test92.xlsx', 'transformed_data/data_test/test/test51.xlsx', 'transformed_data/data_test/test/test10.xlsx', 'transformed_data/data_test/test/test2.xlsx', 'transformed_data/data_test/test/test47.xlsx', 'transformed_data/data_test/test/test9.xlsx', 'transformed_data/data_test/test/test21.xlsx', 'transformed_data/data_test/test/test76.xlsx', 'transformed_data/data_test/test/test99.xlsx', 'transformed_data/data_test/test/test60.xlsx', 'transformed_data/data_test/test/test37.xlsx', 'transformed_data/data_test/test/test40.xlsx', 'transformed_data/data_test/test/test5.xlsx', 'transformed_data/data_test/test/test17.xlsx', 'transformed_data/data_test/test/test56.xlsx', 'transformed_data/data_test/test/test95.xlsx', 'transformed_data/data_test/test/test83.xlsx', 'transformed_data/data_test/test/test82.xlsx', 'transformed_data/data_test/test/test94.xlsx', 'transformed_data/data_test/test/test57.xlsx', 'transformed_data/data_test/test/test16.xlsx', 'transformed_data/data_test/test/test4.xlsx', 'transformed_data/data_test/test/test41.xlsx', 'transformed_data/data_test/test/test36.xlsx', 'transformed_data/data_test/test/test61.xlsx', 'transformed_data/data_test/test/test77.xlsx', 'transformed_data/data_test/test/test98.xlsx', 'transformed_data/data_test/test/test20.xlsx', 'transformed_data/data_test/test/test8.xlsx', 'transformed_data/data_test/test/test35.xlsx', 'transformed_data/data_test/test/test62.xlsx', 'transformed_data/data_test/test/test74.xlsx', 'transformed_data/data_test/test/test23.xlsx', 'transformed_data/data_test/test/test58.xlsx', 'transformed_data/data_test/test/test19.xlsx', 'transformed_data/data_test/test/test39.xlsx', 'transformed_data/data_test/test/test81.xlsx', 'transformed_data/data_test/test/test97.xlsx', 'transformed_data/data_test/test/test78.xlsx', 'transformed_data/data_test/test/test54.xlsx', 'transformed_data/data_test/test/test15.xlsx', 'transformed_data/data_test/test/test7.xlsx', 'transformed_data/data_test/test/test42.xlsx', 'transformed_data/data_test/test/test43.xlsx', 'transformed_data/data_test/test/test6.xlsx', 'transformed_data/data_test/test/test14.xlsx', 'transformed_data/data_test/test/test55.xlsx', 'transformed_data/data_test/test/test96.xlsx', 'transformed_data/data_test/test/test79.xlsx', 'transformed_data/data_test/test/test80.xlsx', 'transformed_data/data_test/test/test38.xlsx', 'transformed_data/data_test/test/test18.xlsx', 'transformed_data/data_test/test/test59.xlsx', 'transformed_data/data_test/test/test22.xlsx', 'transformed_data/data_test/test/test75.xlsx', 'transformed_data/data_test/test/test63.xlsx', 'transformed_data/data_test/test/test34.xlsx', 'transformed_data/data_test/test/test87.xlsx', 'transformed_data/data_test/test/test68.xlsx', 'transformed_data/data_test/test/test91.xlsx', 'transformed_data/data_test/test/test29.xlsx', 'transformed_data/data_test/test/test52.xlsx', 'transformed_data/data_test/test/test13.xlsx', 'transformed_data/data_test/test/test1.xlsx', 'transformed_data/data_test/test/test44.xlsx', 'transformed_data/data_test/test/test33.xlsx', 'transformed_data/data_test/test/test64.xlsx', 'transformed_data/data_test/test/test72.xlsx', 'transformed_data/data_test/test/test25.xlsx', 'transformed_data/data_test/test/test48.xlsx', 'transformed_data/data_test/test/test49.xlsx', 'transformed_data/data_test/test/test24.xlsx', 'transformed_data/data_test/test/test73.xlsx', 'transformed_data/data_test/test/test65.xlsx', 'transformed_data/data_test/test/test32.xlsx', 'transformed_data/data_test/test/test45.xlsx', 'transformed_data/data_test/test/test0.xlsx', 'transformed_data/data_test/test/test12.xlsx', 'transformed_data/data_test/test/test53.xlsx', 'transformed_data/data_test/test/test28.xlsx', 'transformed_data/data_test/test/test90.xlsx', 'transformed_data/data_test/test/test86.xlsx', 'transformed_data/data_test/test/test69.xlsx']\")",
     "output_type": "error",
     "traceback": [
      "\u001b[0;31m---------------------------------------------------------------------------\u001b[0m",
      "\u001b[0;31mValueError\u001b[0m                                Traceback (most recent call last)",
      "\u001b[0;32m<ipython-input-3-3ffd9813746a>\u001b[0m in \u001b[0;36m<module>\u001b[0;34m\u001b[0m\n\u001b[0;32m----> 1\u001b[0;31m \u001b[0mtest_df\u001b[0m \u001b[0;34m=\u001b[0m \u001b[0mpd\u001b[0m\u001b[0;34m.\u001b[0m\u001b[0mread_csv\u001b[0m\u001b[0;34m(\u001b[0m\u001b[0;34m'../data/data_test.zip'\u001b[0m\u001b[0;34m)\u001b[0m\u001b[0;34m\u001b[0m\u001b[0;34m\u001b[0m\u001b[0m\n\u001b[0m",
      "\u001b[0;32m/usr/local/lib/python3.7/site-packages/pandas/io/parsers.py\u001b[0m in \u001b[0;36mparser_f\u001b[0;34m(filepath_or_buffer, sep, delimiter, header, names, index_col, usecols, squeeze, prefix, mangle_dupe_cols, dtype, engine, converters, true_values, false_values, skipinitialspace, skiprows, skipfooter, nrows, na_values, keep_default_na, na_filter, verbose, skip_blank_lines, parse_dates, infer_datetime_format, keep_date_col, date_parser, dayfirst, iterator, chunksize, compression, thousands, decimal, lineterminator, quotechar, quoting, doublequote, escapechar, comment, encoding, dialect, tupleize_cols, error_bad_lines, warn_bad_lines, delim_whitespace, low_memory, memory_map, float_precision)\u001b[0m\n\u001b[1;32m    700\u001b[0m                     skip_blank_lines=skip_blank_lines)\n\u001b[1;32m    701\u001b[0m \u001b[0;34m\u001b[0m\u001b[0m\n\u001b[0;32m--> 702\u001b[0;31m         \u001b[0;32mreturn\u001b[0m \u001b[0m_read\u001b[0m\u001b[0;34m(\u001b[0m\u001b[0mfilepath_or_buffer\u001b[0m\u001b[0;34m,\u001b[0m \u001b[0mkwds\u001b[0m\u001b[0;34m)\u001b[0m\u001b[0;34m\u001b[0m\u001b[0;34m\u001b[0m\u001b[0m\n\u001b[0m\u001b[1;32m    703\u001b[0m \u001b[0;34m\u001b[0m\u001b[0m\n\u001b[1;32m    704\u001b[0m     \u001b[0mparser_f\u001b[0m\u001b[0;34m.\u001b[0m\u001b[0m__name__\u001b[0m \u001b[0;34m=\u001b[0m \u001b[0mname\u001b[0m\u001b[0;34m\u001b[0m\u001b[0;34m\u001b[0m\u001b[0m\n",
      "\u001b[0;32m/usr/local/lib/python3.7/site-packages/pandas/io/parsers.py\u001b[0m in \u001b[0;36m_read\u001b[0;34m(filepath_or_buffer, kwds)\u001b[0m\n\u001b[1;32m    427\u001b[0m \u001b[0;34m\u001b[0m\u001b[0m\n\u001b[1;32m    428\u001b[0m     \u001b[0;31m# Create the parser.\u001b[0m\u001b[0;34m\u001b[0m\u001b[0;34m\u001b[0m\u001b[0;34m\u001b[0m\u001b[0m\n\u001b[0;32m--> 429\u001b[0;31m     \u001b[0mparser\u001b[0m \u001b[0;34m=\u001b[0m \u001b[0mTextFileReader\u001b[0m\u001b[0;34m(\u001b[0m\u001b[0mfilepath_or_buffer\u001b[0m\u001b[0;34m,\u001b[0m \u001b[0;34m**\u001b[0m\u001b[0mkwds\u001b[0m\u001b[0;34m)\u001b[0m\u001b[0;34m\u001b[0m\u001b[0;34m\u001b[0m\u001b[0m\n\u001b[0m\u001b[1;32m    430\u001b[0m \u001b[0;34m\u001b[0m\u001b[0m\n\u001b[1;32m    431\u001b[0m     \u001b[0;32mif\u001b[0m \u001b[0mchunksize\u001b[0m \u001b[0;32mor\u001b[0m \u001b[0miterator\u001b[0m\u001b[0;34m:\u001b[0m\u001b[0;34m\u001b[0m\u001b[0;34m\u001b[0m\u001b[0m\n",
      "\u001b[0;32m/usr/local/lib/python3.7/site-packages/pandas/io/parsers.py\u001b[0m in \u001b[0;36m__init__\u001b[0;34m(self, f, engine, **kwds)\u001b[0m\n\u001b[1;32m    893\u001b[0m             \u001b[0mself\u001b[0m\u001b[0;34m.\u001b[0m\u001b[0moptions\u001b[0m\u001b[0;34m[\u001b[0m\u001b[0;34m'has_index_names'\u001b[0m\u001b[0;34m]\u001b[0m \u001b[0;34m=\u001b[0m \u001b[0mkwds\u001b[0m\u001b[0;34m[\u001b[0m\u001b[0;34m'has_index_names'\u001b[0m\u001b[0;34m]\u001b[0m\u001b[0;34m\u001b[0m\u001b[0;34m\u001b[0m\u001b[0m\n\u001b[1;32m    894\u001b[0m \u001b[0;34m\u001b[0m\u001b[0m\n\u001b[0;32m--> 895\u001b[0;31m         \u001b[0mself\u001b[0m\u001b[0;34m.\u001b[0m\u001b[0m_make_engine\u001b[0m\u001b[0;34m(\u001b[0m\u001b[0mself\u001b[0m\u001b[0;34m.\u001b[0m\u001b[0mengine\u001b[0m\u001b[0;34m)\u001b[0m\u001b[0;34m\u001b[0m\u001b[0;34m\u001b[0m\u001b[0m\n\u001b[0m\u001b[1;32m    896\u001b[0m \u001b[0;34m\u001b[0m\u001b[0m\n\u001b[1;32m    897\u001b[0m     \u001b[0;32mdef\u001b[0m \u001b[0mclose\u001b[0m\u001b[0;34m(\u001b[0m\u001b[0mself\u001b[0m\u001b[0;34m)\u001b[0m\u001b[0;34m:\u001b[0m\u001b[0;34m\u001b[0m\u001b[0;34m\u001b[0m\u001b[0m\n",
      "\u001b[0;32m/usr/local/lib/python3.7/site-packages/pandas/io/parsers.py\u001b[0m in \u001b[0;36m_make_engine\u001b[0;34m(self, engine)\u001b[0m\n\u001b[1;32m   1120\u001b[0m     \u001b[0;32mdef\u001b[0m \u001b[0m_make_engine\u001b[0m\u001b[0;34m(\u001b[0m\u001b[0mself\u001b[0m\u001b[0;34m,\u001b[0m \u001b[0mengine\u001b[0m\u001b[0;34m=\u001b[0m\u001b[0;34m'c'\u001b[0m\u001b[0;34m)\u001b[0m\u001b[0;34m:\u001b[0m\u001b[0;34m\u001b[0m\u001b[0;34m\u001b[0m\u001b[0m\n\u001b[1;32m   1121\u001b[0m         \u001b[0;32mif\u001b[0m \u001b[0mengine\u001b[0m \u001b[0;34m==\u001b[0m \u001b[0;34m'c'\u001b[0m\u001b[0;34m:\u001b[0m\u001b[0;34m\u001b[0m\u001b[0;34m\u001b[0m\u001b[0m\n\u001b[0;32m-> 1122\u001b[0;31m             \u001b[0mself\u001b[0m\u001b[0;34m.\u001b[0m\u001b[0m_engine\u001b[0m \u001b[0;34m=\u001b[0m \u001b[0mCParserWrapper\u001b[0m\u001b[0;34m(\u001b[0m\u001b[0mself\u001b[0m\u001b[0;34m.\u001b[0m\u001b[0mf\u001b[0m\u001b[0;34m,\u001b[0m \u001b[0;34m**\u001b[0m\u001b[0mself\u001b[0m\u001b[0;34m.\u001b[0m\u001b[0moptions\u001b[0m\u001b[0;34m)\u001b[0m\u001b[0;34m\u001b[0m\u001b[0;34m\u001b[0m\u001b[0m\n\u001b[0m\u001b[1;32m   1123\u001b[0m         \u001b[0;32melse\u001b[0m\u001b[0;34m:\u001b[0m\u001b[0;34m\u001b[0m\u001b[0;34m\u001b[0m\u001b[0m\n\u001b[1;32m   1124\u001b[0m             \u001b[0;32mif\u001b[0m \u001b[0mengine\u001b[0m \u001b[0;34m==\u001b[0m \u001b[0;34m'python'\u001b[0m\u001b[0;34m:\u001b[0m\u001b[0;34m\u001b[0m\u001b[0;34m\u001b[0m\u001b[0m\n",
      "\u001b[0;32m/usr/local/lib/python3.7/site-packages/pandas/io/parsers.py\u001b[0m in \u001b[0;36m__init__\u001b[0;34m(self, src, **kwds)\u001b[0m\n\u001b[1;32m   1851\u001b[0m         \u001b[0mkwds\u001b[0m\u001b[0;34m[\u001b[0m\u001b[0;34m'usecols'\u001b[0m\u001b[0;34m]\u001b[0m \u001b[0;34m=\u001b[0m \u001b[0mself\u001b[0m\u001b[0;34m.\u001b[0m\u001b[0musecols\u001b[0m\u001b[0;34m\u001b[0m\u001b[0;34m\u001b[0m\u001b[0m\n\u001b[1;32m   1852\u001b[0m \u001b[0;34m\u001b[0m\u001b[0m\n\u001b[0;32m-> 1853\u001b[0;31m         \u001b[0mself\u001b[0m\u001b[0;34m.\u001b[0m\u001b[0m_reader\u001b[0m \u001b[0;34m=\u001b[0m \u001b[0mparsers\u001b[0m\u001b[0;34m.\u001b[0m\u001b[0mTextReader\u001b[0m\u001b[0;34m(\u001b[0m\u001b[0msrc\u001b[0m\u001b[0;34m,\u001b[0m \u001b[0;34m**\u001b[0m\u001b[0mkwds\u001b[0m\u001b[0;34m)\u001b[0m\u001b[0;34m\u001b[0m\u001b[0;34m\u001b[0m\u001b[0m\n\u001b[0m\u001b[1;32m   1854\u001b[0m         \u001b[0mself\u001b[0m\u001b[0;34m.\u001b[0m\u001b[0munnamed_cols\u001b[0m \u001b[0;34m=\u001b[0m \u001b[0mself\u001b[0m\u001b[0;34m.\u001b[0m\u001b[0m_reader\u001b[0m\u001b[0;34m.\u001b[0m\u001b[0munnamed_cols\u001b[0m\u001b[0;34m\u001b[0m\u001b[0;34m\u001b[0m\u001b[0m\n\u001b[1;32m   1855\u001b[0m \u001b[0;34m\u001b[0m\u001b[0m\n",
      "\u001b[0;32mpandas/_libs/parsers.pyx\u001b[0m in \u001b[0;36mpandas._libs.parsers.TextReader.__cinit__\u001b[0;34m()\u001b[0m\n",
      "\u001b[0;32mpandas/_libs/parsers.pyx\u001b[0m in \u001b[0;36mpandas._libs.parsers.TextReader._setup_parser_source\u001b[0;34m()\u001b[0m\n",
      "\u001b[0;31mValueError\u001b[0m: ('Multiple files found in compressed zip file %s', \"['transformed_data/data_test/', 'transformed_data/data_test/test/', 'transformed_data/data_test/test/test46.xlsx', 'transformed_data/data_test/test/test3.xlsx', 'transformed_data/data_test/test/test11.xlsx', 'transformed_data/data_test/test/test50.xlsx', 'transformed_data/data_test/test/test93.xlsx', 'transformed_data/data_test/test/test85.xlsx', 'transformed_data/data_test/test/test27.xlsx', 'transformed_data/data_test/test/test70.xlsx', 'transformed_data/data_test/test/test66.xlsx', 'transformed_data/data_test/test/test89.xlsx', 'transformed_data/data_test/test/test31.xlsx', 'transformed_data/data_test/test/test30.xlsx', 'transformed_data/data_test/test/test67.xlsx', 'transformed_data/data_test/test/test88.xlsx', 'transformed_data/data_test/test/test71.xlsx', 'transformed_data/data_test/test/test26.xlsx', 'transformed_data/data_test/test/test84.xlsx', 'transformed_data/data_test/test/test92.xlsx', 'transformed_data/data_test/test/test51.xlsx', 'transformed_data/data_test/test/test10.xlsx', 'transformed_data/data_test/test/test2.xlsx', 'transformed_data/data_test/test/test47.xlsx', 'transformed_data/data_test/test/test9.xlsx', 'transformed_data/data_test/test/test21.xlsx', 'transformed_data/data_test/test/test76.xlsx', 'transformed_data/data_test/test/test99.xlsx', 'transformed_data/data_test/test/test60.xlsx', 'transformed_data/data_test/test/test37.xlsx', 'transformed_data/data_test/test/test40.xlsx', 'transformed_data/data_test/test/test5.xlsx', 'transformed_data/data_test/test/test17.xlsx', 'transformed_data/data_test/test/test56.xlsx', 'transformed_data/data_test/test/test95.xlsx', 'transformed_data/data_test/test/test83.xlsx', 'transformed_data/data_test/test/test82.xlsx', 'transformed_data/data_test/test/test94.xlsx', 'transformed_data/data_test/test/test57.xlsx', 'transformed_data/data_test/test/test16.xlsx', 'transformed_data/data_test/test/test4.xlsx', 'transformed_data/data_test/test/test41.xlsx', 'transformed_data/data_test/test/test36.xlsx', 'transformed_data/data_test/test/test61.xlsx', 'transformed_data/data_test/test/test77.xlsx', 'transformed_data/data_test/test/test98.xlsx', 'transformed_data/data_test/test/test20.xlsx', 'transformed_data/data_test/test/test8.xlsx', 'transformed_data/data_test/test/test35.xlsx', 'transformed_data/data_test/test/test62.xlsx', 'transformed_data/data_test/test/test74.xlsx', 'transformed_data/data_test/test/test23.xlsx', 'transformed_data/data_test/test/test58.xlsx', 'transformed_data/data_test/test/test19.xlsx', 'transformed_data/data_test/test/test39.xlsx', 'transformed_data/data_test/test/test81.xlsx', 'transformed_data/data_test/test/test97.xlsx', 'transformed_data/data_test/test/test78.xlsx', 'transformed_data/data_test/test/test54.xlsx', 'transformed_data/data_test/test/test15.xlsx', 'transformed_data/data_test/test/test7.xlsx', 'transformed_data/data_test/test/test42.xlsx', 'transformed_data/data_test/test/test43.xlsx', 'transformed_data/data_test/test/test6.xlsx', 'transformed_data/data_test/test/test14.xlsx', 'transformed_data/data_test/test/test55.xlsx', 'transformed_data/data_test/test/test96.xlsx', 'transformed_data/data_test/test/test79.xlsx', 'transformed_data/data_test/test/test80.xlsx', 'transformed_data/data_test/test/test38.xlsx', 'transformed_data/data_test/test/test18.xlsx', 'transformed_data/data_test/test/test59.xlsx', 'transformed_data/data_test/test/test22.xlsx', 'transformed_data/data_test/test/test75.xlsx', 'transformed_data/data_test/test/test63.xlsx', 'transformed_data/data_test/test/test34.xlsx', 'transformed_data/data_test/test/test87.xlsx', 'transformed_data/data_test/test/test68.xlsx', 'transformed_data/data_test/test/test91.xlsx', 'transformed_data/data_test/test/test29.xlsx', 'transformed_data/data_test/test/test52.xlsx', 'transformed_data/data_test/test/test13.xlsx', 'transformed_data/data_test/test/test1.xlsx', 'transformed_data/data_test/test/test44.xlsx', 'transformed_data/data_test/test/test33.xlsx', 'transformed_data/data_test/test/test64.xlsx', 'transformed_data/data_test/test/test72.xlsx', 'transformed_data/data_test/test/test25.xlsx', 'transformed_data/data_test/test/test48.xlsx', 'transformed_data/data_test/test/test49.xlsx', 'transformed_data/data_test/test/test24.xlsx', 'transformed_data/data_test/test/test73.xlsx', 'transformed_data/data_test/test/test65.xlsx', 'transformed_data/data_test/test/test32.xlsx', 'transformed_data/data_test/test/test45.xlsx', 'transformed_data/data_test/test/test0.xlsx', 'transformed_data/data_test/test/test12.xlsx', 'transformed_data/data_test/test/test53.xlsx', 'transformed_data/data_test/test/test28.xlsx', 'transformed_data/data_test/test/test90.xlsx', 'transformed_data/data_test/test/test86.xlsx', 'transformed_data/data_test/test/test69.xlsx']\")"
     ]
    }
   ],
   "source": [
    "test_df = pd.read_csv('../data/data_test.zip')"
   ]
  },
  {
   "cell_type": "markdown",
   "metadata": {},
   "source": [
    "Ok, it seems that the test data is also split in Excel files. This means we need to decompress them and read one by one into `data/data_test` dir."
   ]
  },
  {
   "cell_type": "code",
   "execution_count": 4,
   "metadata": {},
   "outputs": [
    {
     "name": "stdout",
     "output_type": "stream",
     "text": [
      "mkdir: data/data_tes: File exists\r\n"
     ]
    }
   ],
   "source": [
    "! mkdir data/data_tes"
   ]
  },
  {
   "cell_type": "code",
   "execution_count": 5,
   "metadata": {},
   "outputs": [],
   "source": [
    "from zipfile import ZipFile\n",
    "\n",
    "with ZipFile(f'../data/data_test.zip', 'r') as zipObj:\n",
    "    # Extract all the contents of zip file in different directory\n",
    "    zipObj.extractall(f'data/data_test')"
   ]
  },
  {
   "cell_type": "code",
   "execution_count": 6,
   "metadata": {},
   "outputs": [
    {
     "name": "stdout",
     "output_type": "stream",
     "text": [
      "\u001b[1m\u001b[36mtransformed_data\u001b[m\u001b[m\r\n"
     ]
    }
   ],
   "source": [
    "!ls data/data_test"
   ]
  },
  {
   "cell_type": "code",
   "execution_count": 7,
   "metadata": {},
   "outputs": [
    {
     "name": "stdout",
     "output_type": "stream",
     "text": [
      "\u001b[1m\u001b[36mdata_test\u001b[m\u001b[m\r\n"
     ]
    }
   ],
   "source": [
    "!ls data/data_test/transformed_data/"
   ]
  },
  {
   "cell_type": "markdown",
   "metadata": {},
   "source": [
    "**Enough!!!!**"
   ]
  },
  {
   "cell_type": "code",
   "execution_count": 8,
   "metadata": {},
   "outputs": [
    {
     "name": "stdout",
     "output_type": "stream",
     "text": [
      "\u001b[01;34mdata/data_test\u001b[00m\r\n",
      "└── \u001b[01;34mtransformed_data\u001b[00m\r\n",
      "    └── \u001b[01;34mdata_test\u001b[00m\r\n",
      "        └── \u001b[01;34mtest\u001b[00m\r\n",
      "            ├── test0.xlsx\r\n",
      "            ├── test1.xlsx\r\n",
      "            ├── test10.xlsx\r\n",
      "            ├── test11.xlsx\r\n",
      "            ├── test12.xlsx\r\n",
      "            ├── test13.xlsx\r\n",
      "            ├── test14.xlsx\r\n",
      "            ├── test15.xlsx\r\n",
      "            ├── test16.xlsx\r\n",
      "            ├── test17.xlsx\r\n",
      "            ├── test18.xlsx\r\n",
      "            ├── test19.xlsx\r\n",
      "            ├── test2.xlsx\r\n",
      "            ├── test20.xlsx\r\n",
      "            ├── test21.xlsx\r\n",
      "            ├── test22.xlsx\r\n",
      "            ├── test23.xlsx\r\n",
      "            ├── test24.xlsx\r\n",
      "            ├── test25.xlsx\r\n",
      "            ├── test26.xlsx\r\n",
      "            ├── test27.xlsx\r\n",
      "            ├── test28.xlsx\r\n",
      "            ├── test29.xlsx\r\n",
      "            ├── test3.xlsx\r\n",
      "            ├── test30.xlsx\r\n",
      "            ├── test31.xlsx\r\n",
      "            ├── test32.xlsx\r\n",
      "            ├── test33.xlsx\r\n",
      "            ├── test34.xlsx\r\n",
      "            ├── test35.xlsx\r\n",
      "            ├── test36.xlsx\r\n",
      "            ├── test37.xlsx\r\n",
      "            ├── test38.xlsx\r\n",
      "            ├── test39.xlsx\r\n",
      "            ├── test4.xlsx\r\n",
      "            ├── test40.xlsx\r\n",
      "            ├── test41.xlsx\r\n",
      "            ├── test42.xlsx\r\n",
      "            ├── test43.xlsx\r\n",
      "            ├── test44.xlsx\r\n",
      "            ├── test45.xlsx\r\n",
      "            ├── test46.xlsx\r\n",
      "            ├── test47.xlsx\r\n",
      "            ├── test48.xlsx\r\n",
      "            ├── test49.xlsx\r\n",
      "            ├── test5.xlsx\r\n",
      "            ├── test50.xlsx\r\n",
      "            ├── test51.xlsx\r\n",
      "            ├── test52.xlsx\r\n",
      "            ├── test53.xlsx\r\n",
      "            ├── test54.xlsx\r\n",
      "            ├── test55.xlsx\r\n",
      "            ├── test56.xlsx\r\n",
      "            ├── test57.xlsx\r\n",
      "            ├── test58.xlsx\r\n",
      "            ├── test59.xlsx\r\n",
      "            ├── test6.xlsx\r\n",
      "            ├── test60.xlsx\r\n",
      "            ├── test61.xlsx\r\n",
      "            ├── test62.xlsx\r\n",
      "            ├── test63.xlsx\r\n",
      "            ├── test64.xlsx\r\n",
      "            ├── test65.xlsx\r\n",
      "            ├── test66.xlsx\r\n",
      "            ├── test67.xlsx\r\n",
      "            ├── test68.xlsx\r\n",
      "            ├── test69.xlsx\r\n",
      "            ├── test7.xlsx\r\n",
      "            ├── test70.xlsx\r\n",
      "            ├── test71.xlsx\r\n",
      "            ├── test72.xlsx\r\n",
      "            ├── test73.xlsx\r\n",
      "            ├── test74.xlsx\r\n",
      "            ├── test75.xlsx\r\n",
      "            ├── test76.xlsx\r\n",
      "            ├── test77.xlsx\r\n",
      "            ├── test78.xlsx\r\n",
      "            ├── test79.xlsx\r\n",
      "            ├── test8.xlsx\r\n",
      "            ├── test80.xlsx\r\n",
      "            ├── test81.xlsx\r\n",
      "            ├── test82.xlsx\r\n",
      "            ├── test83.xlsx\r\n",
      "            ├── test84.xlsx\r\n",
      "            ├── test85.xlsx\r\n",
      "            ├── test86.xlsx\r\n",
      "            ├── test87.xlsx\r",
      "\r\n",
      "            ├── test88.xlsx\r\n",
      "            ├── test89.xlsx\r\n",
      "            ├── test9.xlsx\r\n",
      "            ├── test90.xlsx\r\n",
      "            ├── test91.xlsx\r\n",
      "            ├── test92.xlsx\r\n",
      "            ├── test93.xlsx\r\n",
      "            ├── test94.xlsx\r\n",
      "            ├── test95.xlsx\r\n",
      "            ├── test96.xlsx\r\n",
      "            ├── test97.xlsx\r\n",
      "            ├── test98.xlsx\r\n",
      "            └── test99.xlsx\r\n",
      "\r\n",
      "3 directories, 100 files\r\n"
     ]
    }
   ],
   "source": [
    "# You might not have this command if you're in a windows or mac\n",
    "!tree data/data_test"
   ]
  },
  {
   "cell_type": "code",
   "execution_count": 9,
   "metadata": {},
   "outputs": [
    {
     "name": "stdout",
     "output_type": "stream",
     "text": [
      "test0.xlsx  test24.xlsx test4.xlsx  test55.xlsx test70.xlsx test86.xlsx\r\n",
      "test1.xlsx  test25.xlsx test40.xlsx test56.xlsx test71.xlsx test87.xlsx\r\n",
      "test10.xlsx test26.xlsx test41.xlsx test57.xlsx test72.xlsx test88.xlsx\r\n",
      "test11.xlsx test27.xlsx test42.xlsx test58.xlsx test73.xlsx test89.xlsx\r\n",
      "test12.xlsx test28.xlsx test43.xlsx test59.xlsx test74.xlsx test9.xlsx\r\n",
      "test13.xlsx test29.xlsx test44.xlsx test6.xlsx  test75.xlsx test90.xlsx\r\n",
      "test14.xlsx test3.xlsx  test45.xlsx test60.xlsx test76.xlsx test91.xlsx\r\n",
      "test15.xlsx test30.xlsx test46.xlsx test61.xlsx test77.xlsx test92.xlsx\r\n",
      "test16.xlsx test31.xlsx test47.xlsx test62.xlsx test78.xlsx test93.xlsx\r\n",
      "test17.xlsx test32.xlsx test48.xlsx test63.xlsx test79.xlsx test94.xlsx\r\n",
      "test18.xlsx test33.xlsx test49.xlsx test64.xlsx test8.xlsx  test95.xlsx\r\n",
      "test19.xlsx test34.xlsx test5.xlsx  test65.xlsx test80.xlsx test96.xlsx\r\n",
      "test2.xlsx  test35.xlsx test50.xlsx test66.xlsx test81.xlsx test97.xlsx\r\n",
      "test20.xlsx test36.xlsx test51.xlsx test67.xlsx test82.xlsx test98.xlsx\r\n",
      "test21.xlsx test37.xlsx test52.xlsx test68.xlsx test83.xlsx test99.xlsx\r\n",
      "test22.xlsx test38.xlsx test53.xlsx test69.xlsx test84.xlsx\r\n",
      "test23.xlsx test39.xlsx test54.xlsx test7.xlsx  test85.xlsx\r\n"
     ]
    }
   ],
   "source": [
    "!ls data/data_test/transformed_data/data_test/test"
   ]
  },
  {
   "cell_type": "code",
   "execution_count": 10,
   "metadata": {},
   "outputs": [],
   "source": [
    "from pathlib import Path\n",
    "\n",
    "test = Path('data/data_test/transformed_data/data_test/test/')"
   ]
  },
  {
   "cell_type": "markdown",
   "metadata": {},
   "source": [
    "Now we iterate through every excel file. We can even use [tqdm](https://github.com/tqdm/tqdm) to get a progress indicator!"
   ]
  },
  {
   "cell_type": "code",
   "execution_count": 11,
   "metadata": {},
   "outputs": [],
   "source": [
    "from tqdm import tqdm_notebook"
   ]
  },
  {
   "cell_type": "code",
   "execution_count": 12,
   "metadata": {},
   "outputs": [
    {
     "data": {
      "application/vnd.jupyter.widget-view+json": {
       "model_id": "8674d9411e4e458ea636ad53049dcf14",
       "version_major": 2,
       "version_minor": 0
      },
      "text/plain": [
       "HBox(children=(IntProgress(value=0), HTML(value='')))"
      ]
     },
     "metadata": {},
     "output_type": "display_data"
    },
    {
     "name": "stdout",
     "output_type": "stream",
     "text": [
      "\n"
     ]
    }
   ],
   "source": [
    "files = list(test.glob('*'))\n",
    "ind_dfs = []\n",
    "\n",
    "for file in tqdm_notebook(files, total=len(files)):\n",
    "    ind_dfs.append(pd.read_excel(file))"
   ]
  },
  {
   "cell_type": "markdown",
   "metadata": {},
   "source": [
    "We append the same way we did with the datasource6."
   ]
  },
  {
   "cell_type": "code",
   "execution_count": 13,
   "metadata": {},
   "outputs": [],
   "source": [
    "test_df = pd.concat(ind_dfs)"
   ]
  },
  {
   "cell_type": "code",
   "execution_count": 14,
   "metadata": {},
   "outputs": [
    {
     "data": {
      "text/html": [
       "<div>\n",
       "<style scoped>\n",
       "    .dataframe tbody tr th:only-of-type {\n",
       "        vertical-align: middle;\n",
       "    }\n",
       "\n",
       "    .dataframe tbody tr th {\n",
       "        vertical-align: top;\n",
       "    }\n",
       "\n",
       "    .dataframe thead th {\n",
       "        text-align: right;\n",
       "    }\n",
       "</style>\n",
       "<table border=\"1\" class=\"dataframe\">\n",
       "  <thead>\n",
       "    <tr style=\"text-align: right;\">\n",
       "      <th></th>\n",
       "      <th>id</th>\n",
       "      <th>orderportalid</th>\n",
       "      <th>orderdate_gmt</th>\n",
       "      <th>designer</th>\n",
       "      <th>style</th>\n",
       "      <th>shipper</th>\n",
       "      <th>shiptypeid</th>\n",
       "      <th>userid</th>\n",
       "      <th>isvip</th>\n",
       "      <th>country</th>\n",
       "      <th>region</th>\n",
       "      <th>ddprate</th>\n",
       "      <th>countrycode</th>\n",
       "      <th>hasusedwishlist</th>\n",
       "      <th>isreseller</th>\n",
       "      <th>hasitemsonbag</th>\n",
       "      <th>tierafterorder</th>\n",
       "      <th>tierbeforeorder</th>\n",
       "      <th>isusingmultipledevices</th>\n",
       "      <th>userfraudstatus</th>\n",
       "    </tr>\n",
       "  </thead>\n",
       "  <tbody>\n",
       "    <tr>\n",
       "      <th>0</th>\n",
       "      <td>3f15fccff2058ced0fdac7cb6718a656</td>\n",
       "      <td>341282</td>\n",
       "      <td>2018-02-23 16:50:58.403000+00:00</td>\n",
       "      <td>140484</td>\n",
       "      <td>140515</td>\n",
       "      <td>1</td>\n",
       "      <td>3</td>\n",
       "      <td>29264.0</td>\n",
       "      <td>VIP</td>\n",
       "      <td>9</td>\n",
       "      <td>3</td>\n",
       "      <td>0.0000</td>\n",
       "      <td>9</td>\n",
       "      <td>No</td>\n",
       "      <td>No</td>\n",
       "      <td>No</td>\n",
       "      <td>T1</td>\n",
       "      <td>T1</td>\n",
       "      <td>No</td>\n",
       "      <td>4</td>\n",
       "    </tr>\n",
       "    <tr>\n",
       "      <th>1</th>\n",
       "      <td>cfb2173ff64d6b7440a47e71de9b4731</td>\n",
       "      <td>341283</td>\n",
       "      <td>2018-02-23 16:51:13.510000+00:00</td>\n",
       "      <td>128189</td>\n",
       "      <td>128219</td>\n",
       "      <td>4</td>\n",
       "      <td>2</td>\n",
       "      <td>5424.0</td>\n",
       "      <td>Not VIP</td>\n",
       "      <td>48</td>\n",
       "      <td>4</td>\n",
       "      <td>0.0000</td>\n",
       "      <td>48</td>\n",
       "      <td>Yes</td>\n",
       "      <td>Yes</td>\n",
       "      <td>No</td>\n",
       "      <td>VIP</td>\n",
       "      <td>VIP</td>\n",
       "      <td>Yes</td>\n",
       "      <td>6</td>\n",
       "    </tr>\n",
       "    <tr>\n",
       "      <th>2</th>\n",
       "      <td>3368f22dd34bf95e53395dcdfe2bcdb6</td>\n",
       "      <td>341283</td>\n",
       "      <td>2018-02-23 16:51:13.510000+00:00</td>\n",
       "      <td>128189</td>\n",
       "      <td>128219</td>\n",
       "      <td>4</td>\n",
       "      <td>2</td>\n",
       "      <td>5424.0</td>\n",
       "      <td>Not VIP</td>\n",
       "      <td>48</td>\n",
       "      <td>4</td>\n",
       "      <td>0.0000</td>\n",
       "      <td>48</td>\n",
       "      <td>Yes</td>\n",
       "      <td>Yes</td>\n",
       "      <td>No</td>\n",
       "      <td>VIP</td>\n",
       "      <td>VIP</td>\n",
       "      <td>Yes</td>\n",
       "      <td>6</td>\n",
       "    </tr>\n",
       "    <tr>\n",
       "      <th>3</th>\n",
       "      <td>cf433b79db5396f9812586c04b2cdd45</td>\n",
       "      <td>341284</td>\n",
       "      <td>2018-02-23 16:51:45.596000+00:00</td>\n",
       "      <td>128949</td>\n",
       "      <td>128979</td>\n",
       "      <td>2</td>\n",
       "      <td>2</td>\n",
       "      <td>121201.0</td>\n",
       "      <td>VIP</td>\n",
       "      <td>17</td>\n",
       "      <td>4</td>\n",
       "      <td>24.3652</td>\n",
       "      <td>17</td>\n",
       "      <td>Yes</td>\n",
       "      <td>No</td>\n",
       "      <td>Yes</td>\n",
       "      <td>VIP</td>\n",
       "      <td>VIP</td>\n",
       "      <td>No</td>\n",
       "      <td>4</td>\n",
       "    </tr>\n",
       "    <tr>\n",
       "      <th>4</th>\n",
       "      <td>9976b334d2fe399c2a2b8709e42078ec</td>\n",
       "      <td>341284</td>\n",
       "      <td>2018-02-23 16:51:45.596000+00:00</td>\n",
       "      <td>137342</td>\n",
       "      <td>137373</td>\n",
       "      <td>2</td>\n",
       "      <td>2</td>\n",
       "      <td>121201.0</td>\n",
       "      <td>VIP</td>\n",
       "      <td>17</td>\n",
       "      <td>4</td>\n",
       "      <td>24.3652</td>\n",
       "      <td>17</td>\n",
       "      <td>Yes</td>\n",
       "      <td>No</td>\n",
       "      <td>Yes</td>\n",
       "      <td>VIP</td>\n",
       "      <td>VIP</td>\n",
       "      <td>No</td>\n",
       "      <td>4</td>\n",
       "    </tr>\n",
       "  </tbody>\n",
       "</table>\n",
       "</div>"
      ],
      "text/plain": [
       "                                 id  orderportalid  \\\n",
       "0  3f15fccff2058ced0fdac7cb6718a656         341282   \n",
       "1  cfb2173ff64d6b7440a47e71de9b4731         341283   \n",
       "2  3368f22dd34bf95e53395dcdfe2bcdb6         341283   \n",
       "3  cf433b79db5396f9812586c04b2cdd45         341284   \n",
       "4  9976b334d2fe399c2a2b8709e42078ec         341284   \n",
       "\n",
       "                      orderdate_gmt  designer   style  shipper  shiptypeid  \\\n",
       "0  2018-02-23 16:50:58.403000+00:00    140484  140515        1           3   \n",
       "1  2018-02-23 16:51:13.510000+00:00    128189  128219        4           2   \n",
       "2  2018-02-23 16:51:13.510000+00:00    128189  128219        4           2   \n",
       "3  2018-02-23 16:51:45.596000+00:00    128949  128979        2           2   \n",
       "4  2018-02-23 16:51:45.596000+00:00    137342  137373        2           2   \n",
       "\n",
       "     userid    isvip  country  region  ddprate  countrycode hasusedwishlist  \\\n",
       "0   29264.0      VIP        9       3   0.0000            9              No   \n",
       "1    5424.0  Not VIP       48       4   0.0000           48             Yes   \n",
       "2    5424.0  Not VIP       48       4   0.0000           48             Yes   \n",
       "3  121201.0      VIP       17       4  24.3652           17             Yes   \n",
       "4  121201.0      VIP       17       4  24.3652           17             Yes   \n",
       "\n",
       "  isreseller hasitemsonbag tierafterorder tierbeforeorder  \\\n",
       "0         No            No             T1              T1   \n",
       "1        Yes            No            VIP             VIP   \n",
       "2        Yes            No            VIP             VIP   \n",
       "3         No           Yes            VIP             VIP   \n",
       "4         No           Yes            VIP             VIP   \n",
       "\n",
       "  isusingmultipledevices  userfraudstatus  \n",
       "0                     No                4  \n",
       "1                    Yes                6  \n",
       "2                    Yes                6  \n",
       "3                     No                4  \n",
       "4                     No                4  "
      ]
     },
     "execution_count": 14,
     "metadata": {},
     "output_type": "execute_result"
    }
   ],
   "source": [
    "test_df.head()"
   ]
  },
  {
   "cell_type": "markdown",
   "metadata": {},
   "source": [
    "And save to pickle "
   ]
  },
  {
   "cell_type": "code",
   "execution_count": 15,
   "metadata": {},
   "outputs": [],
   "source": [
    "test_df.to_pickle('data/clean/test_df.pickle')"
   ]
  }
 ],
 "metadata": {
  "kernelspec": {
   "display_name": "Python 3",
   "language": "python",
   "name": "python3"
  },
  "language_info": {
   "codemirror_mode": {
    "name": "ipython",
    "version": 3
   },
   "file_extension": ".py",
   "mimetype": "text/x-python",
   "name": "python",
   "nbconvert_exporter": "python",
   "pygments_lexer": "ipython3",
   "version": "3.7.1"
  }
 },
 "nbformat": 4,
 "nbformat_minor": 2
}
