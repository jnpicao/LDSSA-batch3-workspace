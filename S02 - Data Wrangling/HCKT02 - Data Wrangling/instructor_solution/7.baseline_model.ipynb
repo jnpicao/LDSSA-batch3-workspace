{
 "cells": [
  {
   "cell_type": "markdown",
   "metadata": {},
   "source": [
    "Here we will train a baseline model.\n",
    "We will first load the test file, this is important because when we deal with messy data we need to make sure that the columns in the train file exist at prediction time!"
   ]
  },
  {
   "cell_type": "code",
   "execution_count": 1,
   "metadata": {},
   "outputs": [],
   "source": [
    "import pandas as pd\n",
    "import numpy as np"
   ]
  },
  {
   "cell_type": "code",
   "execution_count": 2,
   "metadata": {},
   "outputs": [],
   "source": [
    "test_df = pd.read_pickle(\"data/clean/test_df.pickle\")"
   ]
  },
  {
   "cell_type": "code",
   "execution_count": 3,
   "metadata": {},
   "outputs": [
    {
     "data": {
      "text/plain": [
       "Index(['id', 'orderportalid', 'orderdate_gmt', 'designer', 'style', 'shipper',\n",
       "       'shiptypeid', 'userid', 'isvip', 'country', 'region', 'ddprate',\n",
       "       'countrycode', 'hasusedwishlist', 'isreseller', 'hasitemsonbag',\n",
       "       'tierafterorder', 'tierbeforeorder', 'isusingmultipledevices',\n",
       "       'userfraudstatus'],\n",
       "      dtype='object')"
      ]
     },
     "execution_count": 3,
     "metadata": {},
     "output_type": "execute_result"
    }
   ],
   "source": [
    "test_df.columns"
   ]
  },
  {
   "cell_type": "code",
   "execution_count": 4,
   "metadata": {},
   "outputs": [
    {
     "data": {
      "text/html": [
       "<div>\n",
       "<style scoped>\n",
       "    .dataframe tbody tr th:only-of-type {\n",
       "        vertical-align: middle;\n",
       "    }\n",
       "\n",
       "    .dataframe tbody tr th {\n",
       "        vertical-align: top;\n",
       "    }\n",
       "\n",
       "    .dataframe thead th {\n",
       "        text-align: right;\n",
       "    }\n",
       "</style>\n",
       "<table border=\"1\" class=\"dataframe\">\n",
       "  <thead>\n",
       "    <tr style=\"text-align: right;\">\n",
       "      <th></th>\n",
       "      <th>orderportalid</th>\n",
       "      <th>designer</th>\n",
       "      <th>style</th>\n",
       "      <th>shipper</th>\n",
       "      <th>shiptypeid</th>\n",
       "      <th>userid</th>\n",
       "      <th>country</th>\n",
       "      <th>region</th>\n",
       "      <th>ddprate</th>\n",
       "      <th>countrycode</th>\n",
       "      <th>userfraudstatus</th>\n",
       "    </tr>\n",
       "  </thead>\n",
       "  <tbody>\n",
       "    <tr>\n",
       "      <th>orderportalid</th>\n",
       "      <td>1.0</td>\n",
       "      <td>NaN</td>\n",
       "      <td>NaN</td>\n",
       "      <td>NaN</td>\n",
       "      <td>NaN</td>\n",
       "      <td>NaN</td>\n",
       "      <td>NaN</td>\n",
       "      <td>NaN</td>\n",
       "      <td>NaN</td>\n",
       "      <td>NaN</td>\n",
       "      <td>NaN</td>\n",
       "    </tr>\n",
       "    <tr>\n",
       "      <th>designer</th>\n",
       "      <td>NaN</td>\n",
       "      <td>1.000000</td>\n",
       "      <td>0.999711</td>\n",
       "      <td>NaN</td>\n",
       "      <td>NaN</td>\n",
       "      <td>NaN</td>\n",
       "      <td>NaN</td>\n",
       "      <td>NaN</td>\n",
       "      <td>NaN</td>\n",
       "      <td>NaN</td>\n",
       "      <td>NaN</td>\n",
       "    </tr>\n",
       "    <tr>\n",
       "      <th>style</th>\n",
       "      <td>NaN</td>\n",
       "      <td>0.999711</td>\n",
       "      <td>1.000000</td>\n",
       "      <td>NaN</td>\n",
       "      <td>NaN</td>\n",
       "      <td>NaN</td>\n",
       "      <td>NaN</td>\n",
       "      <td>NaN</td>\n",
       "      <td>NaN</td>\n",
       "      <td>NaN</td>\n",
       "      <td>NaN</td>\n",
       "    </tr>\n",
       "    <tr>\n",
       "      <th>shipper</th>\n",
       "      <td>NaN</td>\n",
       "      <td>NaN</td>\n",
       "      <td>NaN</td>\n",
       "      <td>1.0</td>\n",
       "      <td>NaN</td>\n",
       "      <td>NaN</td>\n",
       "      <td>NaN</td>\n",
       "      <td>NaN</td>\n",
       "      <td>NaN</td>\n",
       "      <td>NaN</td>\n",
       "      <td>NaN</td>\n",
       "    </tr>\n",
       "    <tr>\n",
       "      <th>shiptypeid</th>\n",
       "      <td>NaN</td>\n",
       "      <td>NaN</td>\n",
       "      <td>NaN</td>\n",
       "      <td>NaN</td>\n",
       "      <td>1.0</td>\n",
       "      <td>NaN</td>\n",
       "      <td>NaN</td>\n",
       "      <td>NaN</td>\n",
       "      <td>NaN</td>\n",
       "      <td>NaN</td>\n",
       "      <td>NaN</td>\n",
       "    </tr>\n",
       "    <tr>\n",
       "      <th>userid</th>\n",
       "      <td>NaN</td>\n",
       "      <td>NaN</td>\n",
       "      <td>NaN</td>\n",
       "      <td>NaN</td>\n",
       "      <td>NaN</td>\n",
       "      <td>1.0</td>\n",
       "      <td>NaN</td>\n",
       "      <td>NaN</td>\n",
       "      <td>NaN</td>\n",
       "      <td>NaN</td>\n",
       "      <td>NaN</td>\n",
       "    </tr>\n",
       "    <tr>\n",
       "      <th>country</th>\n",
       "      <td>NaN</td>\n",
       "      <td>NaN</td>\n",
       "      <td>NaN</td>\n",
       "      <td>NaN</td>\n",
       "      <td>NaN</td>\n",
       "      <td>NaN</td>\n",
       "      <td>1.000000</td>\n",
       "      <td>NaN</td>\n",
       "      <td>NaN</td>\n",
       "      <td>0.999818</td>\n",
       "      <td>NaN</td>\n",
       "    </tr>\n",
       "    <tr>\n",
       "      <th>region</th>\n",
       "      <td>NaN</td>\n",
       "      <td>NaN</td>\n",
       "      <td>NaN</td>\n",
       "      <td>NaN</td>\n",
       "      <td>NaN</td>\n",
       "      <td>NaN</td>\n",
       "      <td>NaN</td>\n",
       "      <td>1.0</td>\n",
       "      <td>NaN</td>\n",
       "      <td>NaN</td>\n",
       "      <td>NaN</td>\n",
       "    </tr>\n",
       "    <tr>\n",
       "      <th>ddprate</th>\n",
       "      <td>NaN</td>\n",
       "      <td>NaN</td>\n",
       "      <td>NaN</td>\n",
       "      <td>NaN</td>\n",
       "      <td>NaN</td>\n",
       "      <td>NaN</td>\n",
       "      <td>NaN</td>\n",
       "      <td>NaN</td>\n",
       "      <td>1.0</td>\n",
       "      <td>NaN</td>\n",
       "      <td>NaN</td>\n",
       "    </tr>\n",
       "    <tr>\n",
       "      <th>countrycode</th>\n",
       "      <td>NaN</td>\n",
       "      <td>NaN</td>\n",
       "      <td>NaN</td>\n",
       "      <td>NaN</td>\n",
       "      <td>NaN</td>\n",
       "      <td>NaN</td>\n",
       "      <td>0.999818</td>\n",
       "      <td>NaN</td>\n",
       "      <td>NaN</td>\n",
       "      <td>1.000000</td>\n",
       "      <td>NaN</td>\n",
       "    </tr>\n",
       "    <tr>\n",
       "      <th>userfraudstatus</th>\n",
       "      <td>NaN</td>\n",
       "      <td>NaN</td>\n",
       "      <td>NaN</td>\n",
       "      <td>NaN</td>\n",
       "      <td>NaN</td>\n",
       "      <td>NaN</td>\n",
       "      <td>NaN</td>\n",
       "      <td>NaN</td>\n",
       "      <td>NaN</td>\n",
       "      <td>NaN</td>\n",
       "      <td>1.0</td>\n",
       "    </tr>\n",
       "  </tbody>\n",
       "</table>\n",
       "</div>"
      ],
      "text/plain": [
       "                 orderportalid  designer     style  shipper  shiptypeid  \\\n",
       "orderportalid              1.0       NaN       NaN      NaN         NaN   \n",
       "designer                   NaN  1.000000  0.999711      NaN         NaN   \n",
       "style                      NaN  0.999711  1.000000      NaN         NaN   \n",
       "shipper                    NaN       NaN       NaN      1.0         NaN   \n",
       "shiptypeid                 NaN       NaN       NaN      NaN         1.0   \n",
       "userid                     NaN       NaN       NaN      NaN         NaN   \n",
       "country                    NaN       NaN       NaN      NaN         NaN   \n",
       "region                     NaN       NaN       NaN      NaN         NaN   \n",
       "ddprate                    NaN       NaN       NaN      NaN         NaN   \n",
       "countrycode                NaN       NaN       NaN      NaN         NaN   \n",
       "userfraudstatus            NaN       NaN       NaN      NaN         NaN   \n",
       "\n",
       "                 userid   country  region  ddprate  countrycode  \\\n",
       "orderportalid       NaN       NaN     NaN      NaN          NaN   \n",
       "designer            NaN       NaN     NaN      NaN          NaN   \n",
       "style               NaN       NaN     NaN      NaN          NaN   \n",
       "shipper             NaN       NaN     NaN      NaN          NaN   \n",
       "shiptypeid          NaN       NaN     NaN      NaN          NaN   \n",
       "userid              1.0       NaN     NaN      NaN          NaN   \n",
       "country             NaN  1.000000     NaN      NaN     0.999818   \n",
       "region              NaN       NaN     1.0      NaN          NaN   \n",
       "ddprate             NaN       NaN     NaN      1.0          NaN   \n",
       "countrycode         NaN  0.999818     NaN      NaN     1.000000   \n",
       "userfraudstatus     NaN       NaN     NaN      NaN          NaN   \n",
       "\n",
       "                 userfraudstatus  \n",
       "orderportalid                NaN  \n",
       "designer                     NaN  \n",
       "style                        NaN  \n",
       "shipper                      NaN  \n",
       "shiptypeid                   NaN  \n",
       "userid                       NaN  \n",
       "country                      NaN  \n",
       "region                       NaN  \n",
       "ddprate                      NaN  \n",
       "countrycode                  NaN  \n",
       "userfraudstatus              1.0  "
      ]
     },
     "execution_count": 4,
     "metadata": {},
     "output_type": "execute_result"
    }
   ],
   "source": [
    "corr = test_df.corr()\n",
    "corr[corr>0.99]"
   ]
  },
  {
   "cell_type": "markdown",
   "metadata": {},
   "source": [
    "*Note*, you can also use [pandas-profiling!](https://github.com/pandas-profiling/pandas-profiling)"
   ]
  },
  {
   "cell_type": "code",
   "execution_count": 5,
   "metadata": {},
   "outputs": [],
   "source": [
    "#from pandas_profiling import ProfileReport\n",
    "#report = ProfileReport(test_df)\n",
    "#report"
   ]
  },
  {
   "cell_type": "markdown",
   "metadata": {},
   "source": [
    "We will remove  the following columns because they are highly correlated with other columns:\n",
    "- countrycode (0.999918 corr with country)\n",
    "- style (0.99971 corr with designer)"
   ]
  },
  {
   "cell_type": "code",
   "execution_count": 6,
   "metadata": {},
   "outputs": [
    {
     "data": {
      "text/html": [
       "<div>\n",
       "<style scoped>\n",
       "    .dataframe tbody tr th:only-of-type {\n",
       "        vertical-align: middle;\n",
       "    }\n",
       "\n",
       "    .dataframe tbody tr th {\n",
       "        vertical-align: top;\n",
       "    }\n",
       "\n",
       "    .dataframe thead th {\n",
       "        text-align: right;\n",
       "    }\n",
       "</style>\n",
       "<table border=\"1\" class=\"dataframe\">\n",
       "  <thead>\n",
       "    <tr style=\"text-align: right;\">\n",
       "      <th></th>\n",
       "      <th>id</th>\n",
       "      <th>orderportalid</th>\n",
       "      <th>orderdate_gmt</th>\n",
       "      <th>designer</th>\n",
       "      <th>style</th>\n",
       "      <th>shipper</th>\n",
       "      <th>shiptypeid</th>\n",
       "      <th>userid</th>\n",
       "      <th>isvip</th>\n",
       "      <th>country</th>\n",
       "      <th>region</th>\n",
       "      <th>ddprate</th>\n",
       "      <th>countrycode</th>\n",
       "      <th>hasusedwishlist</th>\n",
       "      <th>isreseller</th>\n",
       "      <th>hasitemsonbag</th>\n",
       "      <th>tierafterorder</th>\n",
       "      <th>tierbeforeorder</th>\n",
       "      <th>isusingmultipledevices</th>\n",
       "      <th>userfraudstatus</th>\n",
       "    </tr>\n",
       "  </thead>\n",
       "  <tbody>\n",
       "    <tr>\n",
       "      <th>0</th>\n",
       "      <td>3f15fccff2058ced0fdac7cb6718a656</td>\n",
       "      <td>341282</td>\n",
       "      <td>2018-02-23 16:50:58.403000+00:00</td>\n",
       "      <td>140484</td>\n",
       "      <td>140515</td>\n",
       "      <td>1</td>\n",
       "      <td>3</td>\n",
       "      <td>29264.0</td>\n",
       "      <td>VIP</td>\n",
       "      <td>9</td>\n",
       "      <td>3</td>\n",
       "      <td>0.0000</td>\n",
       "      <td>9</td>\n",
       "      <td>No</td>\n",
       "      <td>No</td>\n",
       "      <td>No</td>\n",
       "      <td>T1</td>\n",
       "      <td>T1</td>\n",
       "      <td>No</td>\n",
       "      <td>4</td>\n",
       "    </tr>\n",
       "    <tr>\n",
       "      <th>1</th>\n",
       "      <td>cfb2173ff64d6b7440a47e71de9b4731</td>\n",
       "      <td>341283</td>\n",
       "      <td>2018-02-23 16:51:13.510000+00:00</td>\n",
       "      <td>128189</td>\n",
       "      <td>128219</td>\n",
       "      <td>4</td>\n",
       "      <td>2</td>\n",
       "      <td>5424.0</td>\n",
       "      <td>Not VIP</td>\n",
       "      <td>48</td>\n",
       "      <td>4</td>\n",
       "      <td>0.0000</td>\n",
       "      <td>48</td>\n",
       "      <td>Yes</td>\n",
       "      <td>Yes</td>\n",
       "      <td>No</td>\n",
       "      <td>VIP</td>\n",
       "      <td>VIP</td>\n",
       "      <td>Yes</td>\n",
       "      <td>6</td>\n",
       "    </tr>\n",
       "    <tr>\n",
       "      <th>2</th>\n",
       "      <td>3368f22dd34bf95e53395dcdfe2bcdb6</td>\n",
       "      <td>341283</td>\n",
       "      <td>2018-02-23 16:51:13.510000+00:00</td>\n",
       "      <td>128189</td>\n",
       "      <td>128219</td>\n",
       "      <td>4</td>\n",
       "      <td>2</td>\n",
       "      <td>5424.0</td>\n",
       "      <td>Not VIP</td>\n",
       "      <td>48</td>\n",
       "      <td>4</td>\n",
       "      <td>0.0000</td>\n",
       "      <td>48</td>\n",
       "      <td>Yes</td>\n",
       "      <td>Yes</td>\n",
       "      <td>No</td>\n",
       "      <td>VIP</td>\n",
       "      <td>VIP</td>\n",
       "      <td>Yes</td>\n",
       "      <td>6</td>\n",
       "    </tr>\n",
       "    <tr>\n",
       "      <th>3</th>\n",
       "      <td>cf433b79db5396f9812586c04b2cdd45</td>\n",
       "      <td>341284</td>\n",
       "      <td>2018-02-23 16:51:45.596000+00:00</td>\n",
       "      <td>128949</td>\n",
       "      <td>128979</td>\n",
       "      <td>2</td>\n",
       "      <td>2</td>\n",
       "      <td>121201.0</td>\n",
       "      <td>VIP</td>\n",
       "      <td>17</td>\n",
       "      <td>4</td>\n",
       "      <td>24.3652</td>\n",
       "      <td>17</td>\n",
       "      <td>Yes</td>\n",
       "      <td>No</td>\n",
       "      <td>Yes</td>\n",
       "      <td>VIP</td>\n",
       "      <td>VIP</td>\n",
       "      <td>No</td>\n",
       "      <td>4</td>\n",
       "    </tr>\n",
       "    <tr>\n",
       "      <th>4</th>\n",
       "      <td>9976b334d2fe399c2a2b8709e42078ec</td>\n",
       "      <td>341284</td>\n",
       "      <td>2018-02-23 16:51:45.596000+00:00</td>\n",
       "      <td>137342</td>\n",
       "      <td>137373</td>\n",
       "      <td>2</td>\n",
       "      <td>2</td>\n",
       "      <td>121201.0</td>\n",
       "      <td>VIP</td>\n",
       "      <td>17</td>\n",
       "      <td>4</td>\n",
       "      <td>24.3652</td>\n",
       "      <td>17</td>\n",
       "      <td>Yes</td>\n",
       "      <td>No</td>\n",
       "      <td>Yes</td>\n",
       "      <td>VIP</td>\n",
       "      <td>VIP</td>\n",
       "      <td>No</td>\n",
       "      <td>4</td>\n",
       "    </tr>\n",
       "  </tbody>\n",
       "</table>\n",
       "</div>"
      ],
      "text/plain": [
       "                                 id  orderportalid  \\\n",
       "0  3f15fccff2058ced0fdac7cb6718a656         341282   \n",
       "1  cfb2173ff64d6b7440a47e71de9b4731         341283   \n",
       "2  3368f22dd34bf95e53395dcdfe2bcdb6         341283   \n",
       "3  cf433b79db5396f9812586c04b2cdd45         341284   \n",
       "4  9976b334d2fe399c2a2b8709e42078ec         341284   \n",
       "\n",
       "                      orderdate_gmt  designer   style  shipper  shiptypeid  \\\n",
       "0  2018-02-23 16:50:58.403000+00:00    140484  140515        1           3   \n",
       "1  2018-02-23 16:51:13.510000+00:00    128189  128219        4           2   \n",
       "2  2018-02-23 16:51:13.510000+00:00    128189  128219        4           2   \n",
       "3  2018-02-23 16:51:45.596000+00:00    128949  128979        2           2   \n",
       "4  2018-02-23 16:51:45.596000+00:00    137342  137373        2           2   \n",
       "\n",
       "     userid    isvip  country  region  ddprate  countrycode hasusedwishlist  \\\n",
       "0   29264.0      VIP        9       3   0.0000            9              No   \n",
       "1    5424.0  Not VIP       48       4   0.0000           48             Yes   \n",
       "2    5424.0  Not VIP       48       4   0.0000           48             Yes   \n",
       "3  121201.0      VIP       17       4  24.3652           17             Yes   \n",
       "4  121201.0      VIP       17       4  24.3652           17             Yes   \n",
       "\n",
       "  isreseller hasitemsonbag tierafterorder tierbeforeorder  \\\n",
       "0         No            No             T1              T1   \n",
       "1        Yes            No            VIP             VIP   \n",
       "2        Yes            No            VIP             VIP   \n",
       "3         No           Yes            VIP             VIP   \n",
       "4         No           Yes            VIP             VIP   \n",
       "\n",
       "  isusingmultipledevices  userfraudstatus  \n",
       "0                     No                4  \n",
       "1                    Yes                6  \n",
       "2                    Yes                6  \n",
       "3                     No                4  \n",
       "4                     No                4  "
      ]
     },
     "execution_count": 6,
     "metadata": {},
     "output_type": "execute_result"
    }
   ],
   "source": [
    "test_df.head()"
   ]
  },
  {
   "cell_type": "markdown",
   "metadata": {},
   "source": [
    "`test_df.orderdate_gmt` is a datetime, we can parse it in later iterations but for now we remove it."
   ]
  },
  {
   "cell_type": "code",
   "execution_count": 7,
   "metadata": {},
   "outputs": [],
   "source": [
    "test_df = test_df.drop(columns=['countrycode', 'orderdate_gmt', 'style'])"
   ]
  },
  {
   "cell_type": "markdown",
   "metadata": {},
   "source": [
    "Now we load the training data that we previously cleaned."
   ]
  },
  {
   "cell_type": "code",
   "execution_count": 8,
   "metadata": {},
   "outputs": [],
   "source": [
    "train_df = pd.read_pickle('data/clean/train_df_merged.pkl')"
   ]
  },
  {
   "cell_type": "code",
   "execution_count": 9,
   "metadata": {},
   "outputs": [],
   "source": [
    "#train_report = ProfileReport(train_df)\n",
    "#train_report"
   ]
  },
  {
   "cell_type": "markdown",
   "metadata": {},
   "source": [
    "We evaluate cardinality of categoricals."
   ]
  },
  {
   "cell_type": "code",
   "execution_count": 10,
   "metadata": {},
   "outputs": [],
   "source": [
    "cardinality = train_df.describe(exclude=np.number).T"
   ]
  },
  {
   "cell_type": "code",
   "execution_count": 11,
   "metadata": {},
   "outputs": [
    {
     "data": {
      "text/html": [
       "<div>\n",
       "<style scoped>\n",
       "    .dataframe tbody tr th:only-of-type {\n",
       "        vertical-align: middle;\n",
       "    }\n",
       "\n",
       "    .dataframe tbody tr th {\n",
       "        vertical-align: top;\n",
       "    }\n",
       "\n",
       "    .dataframe thead th {\n",
       "        text-align: right;\n",
       "    }\n",
       "</style>\n",
       "<table border=\"1\" class=\"dataframe\">\n",
       "  <thead>\n",
       "    <tr style=\"text-align: right;\">\n",
       "      <th></th>\n",
       "      <th>count</th>\n",
       "      <th>unique</th>\n",
       "      <th>top</th>\n",
       "      <th>freq</th>\n",
       "    </tr>\n",
       "  </thead>\n",
       "  <tbody>\n",
       "    <tr>\n",
       "      <th>brand</th>\n",
       "      <td>543341</td>\n",
       "      <td>2616</td>\n",
       "      <td>87</td>\n",
       "      <td>19211</td>\n",
       "    </tr>\n",
       "    <tr>\n",
       "      <th>category_1stlevel</th>\n",
       "      <td>542687</td>\n",
       "      <td>33</td>\n",
       "      <td>Clothing</td>\n",
       "      <td>278172</td>\n",
       "    </tr>\n",
       "    <tr>\n",
       "      <th>country</th>\n",
       "      <td>543341</td>\n",
       "      <td>328</td>\n",
       "      <td>1</td>\n",
       "      <td>94021</td>\n",
       "    </tr>\n",
       "    <tr>\n",
       "      <th>countrycode</th>\n",
       "      <td>543341</td>\n",
       "      <td>327</td>\n",
       "      <td>1</td>\n",
       "      <td>94021</td>\n",
       "    </tr>\n",
       "    <tr>\n",
       "      <th>countryoforigin</th>\n",
       "      <td>543341</td>\n",
       "      <td>374</td>\n",
       "      <td>1</td>\n",
       "      <td>216945</td>\n",
       "    </tr>\n",
       "    <tr>\n",
       "      <th>ddprate</th>\n",
       "      <td>543341</td>\n",
       "      <td>1482</td>\n",
       "      <td>0.0</td>\n",
       "      <td>347593</td>\n",
       "    </tr>\n",
       "    <tr>\n",
       "      <th>ddpsubcategory</th>\n",
       "      <td>497997</td>\n",
       "      <td>127</td>\n",
       "      <td>Jerseys, pullovers, cardigans, waistcoats and ...</td>\n",
       "      <td>59037</td>\n",
       "    </tr>\n",
       "    <tr>\n",
       "      <th>designer</th>\n",
       "      <td>543341</td>\n",
       "      <td>142692</td>\n",
       "      <td>2264</td>\n",
       "      <td>1574</td>\n",
       "    </tr>\n",
       "    <tr>\n",
       "      <th>freereturn</th>\n",
       "      <td>543341</td>\n",
       "      <td>4</td>\n",
       "      <td>1</td>\n",
       "      <td>471193</td>\n",
       "    </tr>\n",
       "    <tr>\n",
       "      <th>hasitemsonbag</th>\n",
       "      <td>542584</td>\n",
       "      <td>2</td>\n",
       "      <td>No</td>\n",
       "      <td>298293</td>\n",
       "    </tr>\n",
       "    <tr>\n",
       "      <th>hasusedwishlist</th>\n",
       "      <td>542584</td>\n",
       "      <td>2</td>\n",
       "      <td>Yes</td>\n",
       "      <td>393562</td>\n",
       "    </tr>\n",
       "    <tr>\n",
       "      <th>isreseller</th>\n",
       "      <td>542584</td>\n",
       "      <td>2</td>\n",
       "      <td>No</td>\n",
       "      <td>507561</td>\n",
       "    </tr>\n",
       "    <tr>\n",
       "      <th>issale</th>\n",
       "      <td>543341</td>\n",
       "      <td>2</td>\n",
       "      <td>Yes</td>\n",
       "      <td>295262</td>\n",
       "    </tr>\n",
       "    <tr>\n",
       "      <th>isusingmultipledevices</th>\n",
       "      <td>542584</td>\n",
       "      <td>2</td>\n",
       "      <td>No</td>\n",
       "      <td>336439</td>\n",
       "    </tr>\n",
       "    <tr>\n",
       "      <th>isvip</th>\n",
       "      <td>542584</td>\n",
       "      <td>4</td>\n",
       "      <td>Not VIP</td>\n",
       "      <td>424596</td>\n",
       "    </tr>\n",
       "    <tr>\n",
       "      <th>ldsa_team_wishes_you</th>\n",
       "      <td>493341</td>\n",
       "      <td>1</td>\n",
       "      <td>Срећно! (Good luck!)</td>\n",
       "      <td>493341</td>\n",
       "    </tr>\n",
       "    <tr>\n",
       "      <th>orderdate_gmt</th>\n",
       "      <td>543341</td>\n",
       "      <td>347163</td>\n",
       "      <td>2018-01-10 15:28:51.970000+00:00</td>\n",
       "      <td>94</td>\n",
       "    </tr>\n",
       "    <tr>\n",
       "      <th>orderportalid</th>\n",
       "      <td>543341</td>\n",
       "      <td>367897</td>\n",
       "      <td>83553</td>\n",
       "      <td>86</td>\n",
       "    </tr>\n",
       "    <tr>\n",
       "      <th>platform</th>\n",
       "      <td>446864</td>\n",
       "      <td>2</td>\n",
       "      <td>web</td>\n",
       "      <td>315468</td>\n",
       "    </tr>\n",
       "    <tr>\n",
       "      <th>productid</th>\n",
       "      <td>543341</td>\n",
       "      <td>166878</td>\n",
       "      <td>109557</td>\n",
       "      <td>866</td>\n",
       "    </tr>\n",
       "    <tr>\n",
       "      <th>promocode</th>\n",
       "      <td>543341</td>\n",
       "      <td>6515</td>\n",
       "      <td>1</td>\n",
       "      <td>402175</td>\n",
       "    </tr>\n",
       "    <tr>\n",
       "      <th>region</th>\n",
       "      <td>543341</td>\n",
       "      <td>14</td>\n",
       "      <td>3</td>\n",
       "      <td>199540</td>\n",
       "    </tr>\n",
       "    <tr>\n",
       "      <th>shipper</th>\n",
       "      <td>543341</td>\n",
       "      <td>6</td>\n",
       "      <td>2</td>\n",
       "      <td>359441</td>\n",
       "    </tr>\n",
       "    <tr>\n",
       "      <th>shiptypeid</th>\n",
       "      <td>543341</td>\n",
       "      <td>45</td>\n",
       "      <td>2</td>\n",
       "      <td>381650</td>\n",
       "    </tr>\n",
       "    <tr>\n",
       "      <th>size</th>\n",
       "      <td>543341</td>\n",
       "      <td>2044</td>\n",
       "      <td>17</td>\n",
       "      <td>45692</td>\n",
       "    </tr>\n",
       "    <tr>\n",
       "      <th>style</th>\n",
       "      <td>543341</td>\n",
       "      <td>169984</td>\n",
       "      <td>2267</td>\n",
       "      <td>1477</td>\n",
       "    </tr>\n",
       "    <tr>\n",
       "      <th>tierafterorder</th>\n",
       "      <td>505189</td>\n",
       "      <td>5</td>\n",
       "      <td>T4</td>\n",
       "      <td>231316</td>\n",
       "    </tr>\n",
       "    <tr>\n",
       "      <th>tierbeforeorder</th>\n",
       "      <td>353210</td>\n",
       "      <td>5</td>\n",
       "      <td>T4</td>\n",
       "      <td>126988</td>\n",
       "    </tr>\n",
       "    <tr>\n",
       "      <th>userfraudstatus</th>\n",
       "      <td>543341</td>\n",
       "      <td>18</td>\n",
       "      <td>3</td>\n",
       "      <td>308884</td>\n",
       "    </tr>\n",
       "    <tr>\n",
       "      <th>userid</th>\n",
       "      <td>542584</td>\n",
       "      <td>262910</td>\n",
       "      <td>2247</td>\n",
       "      <td>564</td>\n",
       "    </tr>\n",
       "    <tr>\n",
       "      <th>storeid</th>\n",
       "      <td>543341</td>\n",
       "      <td>1384</td>\n",
       "      <td>WEBSITE</td>\n",
       "      <td>40000</td>\n",
       "    </tr>\n",
       "  </tbody>\n",
       "</table>\n",
       "</div>"
      ],
      "text/plain": [
       "                         count  unique  \\\n",
       "brand                   543341    2616   \n",
       "category_1stlevel       542687      33   \n",
       "country                 543341     328   \n",
       "countrycode             543341     327   \n",
       "countryoforigin         543341     374   \n",
       "ddprate                 543341    1482   \n",
       "ddpsubcategory          497997     127   \n",
       "designer                543341  142692   \n",
       "freereturn              543341       4   \n",
       "hasitemsonbag           542584       2   \n",
       "hasusedwishlist         542584       2   \n",
       "isreseller              542584       2   \n",
       "issale                  543341       2   \n",
       "isusingmultipledevices  542584       2   \n",
       "isvip                   542584       4   \n",
       "ldsa_team_wishes_you    493341       1   \n",
       "orderdate_gmt           543341  347163   \n",
       "orderportalid           543341  367897   \n",
       "platform                446864       2   \n",
       "productid               543341  166878   \n",
       "promocode               543341    6515   \n",
       "region                  543341      14   \n",
       "shipper                 543341       6   \n",
       "shiptypeid              543341      45   \n",
       "size                    543341    2044   \n",
       "style                   543341  169984   \n",
       "tierafterorder          505189       5   \n",
       "tierbeforeorder         353210       5   \n",
       "userfraudstatus         543341      18   \n",
       "userid                  542584  262910   \n",
       "storeid                 543341    1384   \n",
       "\n",
       "                                                                      top  \\\n",
       "brand                                                                  87   \n",
       "category_1stlevel                                                Clothing   \n",
       "country                                                                 1   \n",
       "countrycode                                                             1   \n",
       "countryoforigin                                                         1   \n",
       "ddprate                                                               0.0   \n",
       "ddpsubcategory          Jerseys, pullovers, cardigans, waistcoats and ...   \n",
       "designer                                                             2264   \n",
       "freereturn                                                              1   \n",
       "hasitemsonbag                                                          No   \n",
       "hasusedwishlist                                                       Yes   \n",
       "isreseller                                                             No   \n",
       "issale                                                                Yes   \n",
       "isusingmultipledevices                                                 No   \n",
       "isvip                                                             Not VIP   \n",
       "ldsa_team_wishes_you                                 Срећно! (Good luck!)   \n",
       "orderdate_gmt                            2018-01-10 15:28:51.970000+00:00   \n",
       "orderportalid                                                       83553   \n",
       "platform                                                              web   \n",
       "productid                                                          109557   \n",
       "promocode                                                               1   \n",
       "region                                                                  3   \n",
       "shipper                                                                 2   \n",
       "shiptypeid                                                              2   \n",
       "size                                                                   17   \n",
       "style                                                                2267   \n",
       "tierafterorder                                                         T4   \n",
       "tierbeforeorder                                                        T4   \n",
       "userfraudstatus                                                         3   \n",
       "userid                                                               2247   \n",
       "storeid                                                           WEBSITE   \n",
       "\n",
       "                          freq  \n",
       "brand                    19211  \n",
       "category_1stlevel       278172  \n",
       "country                  94021  \n",
       "countrycode              94021  \n",
       "countryoforigin         216945  \n",
       "ddprate                 347593  \n",
       "ddpsubcategory           59037  \n",
       "designer                  1574  \n",
       "freereturn              471193  \n",
       "hasitemsonbag           298293  \n",
       "hasusedwishlist         393562  \n",
       "isreseller              507561  \n",
       "issale                  295262  \n",
       "isusingmultipledevices  336439  \n",
       "isvip                   424596  \n",
       "ldsa_team_wishes_you    493341  \n",
       "orderdate_gmt               94  \n",
       "orderportalid               86  \n",
       "platform                315468  \n",
       "productid                  866  \n",
       "promocode               402175  \n",
       "region                  199540  \n",
       "shipper                 359441  \n",
       "shiptypeid              381650  \n",
       "size                     45692  \n",
       "style                     1477  \n",
       "tierafterorder          231316  \n",
       "tierbeforeorder         126988  \n",
       "userfraudstatus         308884  \n",
       "userid                     564  \n",
       "storeid                  40000  "
      ]
     },
     "execution_count": 11,
     "metadata": {},
     "output_type": "execute_result"
    }
   ],
   "source": [
    "cardinality"
   ]
  },
  {
   "cell_type": "markdown",
   "metadata": {},
   "source": [
    "We see the column `ddprate` is a numerical (top value is 0.0) but it's not considered a category."
   ]
  },
  {
   "cell_type": "code",
   "execution_count": 12,
   "metadata": {},
   "outputs": [
    {
     "data": {
      "text/plain": [
       "0.0        0.639733\n",
       "5.0083     0.076127\n",
       "0.0        0.064433\n",
       "24.3652    0.013999\n",
       "33.3833    0.012541\n",
       "15.4853    0.012440\n",
       "28.7029    0.009427\n",
       "35.7236    0.009134\n",
       "5.0083     0.009110\n",
       "5.008      0.008155\n",
       "5.8485     0.007428\n",
       "17.0858    0.006320\n",
       "42.2351    0.005917\n",
       "34.1055    0.004566\n",
       "7.6715     0.004261\n",
       "31.0431    0.004194\n",
       "12.9314    0.003755\n",
       "5.1665     0.003580\n",
       "14.5035    0.003550\n",
       "12.6688    0.003162\n",
       "16.2855    0.002717\n",
       "19.1182    0.002567\n",
       "37.4837    0.002363\n",
       "19.4557    0.002087\n",
       "26.3626    0.001986\n",
       "20.0       0.001804\n",
       "40.404     0.001647\n",
       "43.2407    0.001542\n",
       "46.557     0.001410\n",
       "24.3652    0.001382\n",
       "             ...   \n",
       "46.5879    0.000002\n",
       "37.5889    0.000002\n",
       "12.7452    0.000002\n",
       "30.4892    0.000002\n",
       "11.4175    0.000002\n",
       "28.4613    0.000002\n",
       "38.0336    0.000002\n",
       "18.8374    0.000002\n",
       "14.8314    0.000002\n",
       "17.8786    0.000002\n",
       "44.7903    0.000002\n",
       "11.7463    0.000002\n",
       "11.9865    0.000002\n",
       "10.229     0.000002\n",
       "15.6533    0.000002\n",
       "29.12      0.000002\n",
       "35.9539    0.000002\n",
       "11.84      0.000002\n",
       "34.4537    0.000002\n",
       "12.7957    0.000002\n",
       "14.4521    0.000002\n",
       "31.154     0.000002\n",
       "24.8328    0.000002\n",
       "42.3428    0.000002\n",
       "38.6337    0.000002\n",
       "30.4975    0.000002\n",
       "36.2374    0.000002\n",
       "8.4064     0.000002\n",
       "64.1139    0.000002\n",
       "13.8958    0.000002\n",
       "Name: ddprate, Length: 1482, dtype: float64"
      ]
     },
     "execution_count": 12,
     "metadata": {},
     "output_type": "execute_result"
    }
   ],
   "source": [
    "train_df.ddprate.value_counts(True)"
   ]
  },
  {
   "cell_type": "markdown",
   "metadata": {},
   "source": [
    "So it seems like it's a number, but somehow got defined as a categorical. Also we see there are two different kinds of 0.0?"
   ]
  },
  {
   "cell_type": "code",
   "execution_count": 13,
   "metadata": {},
   "outputs": [
    {
     "data": {
      "text/plain": [
       "array(['0.0', '5.0083', 0.0, '24.3652', '33.3833'], dtype=object)"
      ]
     },
     "execution_count": 13,
     "metadata": {},
     "output_type": "execute_result"
    }
   ],
   "source": [
    "train_df.ddprate.value_counts().head().index.values"
   ]
  },
  {
   "cell_type": "code",
   "execution_count": 14,
   "metadata": {},
   "outputs": [],
   "source": [
    "train_df.ddprate = pd.to_numeric(train_df.ddprate, errors='coerce')"
   ]
  },
  {
   "cell_type": "code",
   "execution_count": 15,
   "metadata": {},
   "outputs": [
    {
     "data": {
      "text/html": [
       "<div>\n",
       "<style scoped>\n",
       "    .dataframe tbody tr th:only-of-type {\n",
       "        vertical-align: middle;\n",
       "    }\n",
       "\n",
       "    .dataframe tbody tr th {\n",
       "        vertical-align: top;\n",
       "    }\n",
       "\n",
       "    .dataframe thead th {\n",
       "        text-align: right;\n",
       "    }\n",
       "</style>\n",
       "<table border=\"1\" class=\"dataframe\">\n",
       "  <thead>\n",
       "    <tr style=\"text-align: right;\">\n",
       "      <th></th>\n",
       "      <th>count</th>\n",
       "      <th>unique</th>\n",
       "      <th>top</th>\n",
       "      <th>freq</th>\n",
       "    </tr>\n",
       "  </thead>\n",
       "  <tbody>\n",
       "    <tr>\n",
       "      <th>designer</th>\n",
       "      <td>543341</td>\n",
       "      <td>142692</td>\n",
       "      <td>2264</td>\n",
       "      <td>1574</td>\n",
       "    </tr>\n",
       "    <tr>\n",
       "      <th>orderdate_gmt</th>\n",
       "      <td>543341</td>\n",
       "      <td>347163</td>\n",
       "      <td>2018-01-10 15:28:51.970000+00:00</td>\n",
       "      <td>94</td>\n",
       "    </tr>\n",
       "    <tr>\n",
       "      <th>orderportalid</th>\n",
       "      <td>543341</td>\n",
       "      <td>367897</td>\n",
       "      <td>83553</td>\n",
       "      <td>86</td>\n",
       "    </tr>\n",
       "    <tr>\n",
       "      <th>productid</th>\n",
       "      <td>543341</td>\n",
       "      <td>166878</td>\n",
       "      <td>109557</td>\n",
       "      <td>866</td>\n",
       "    </tr>\n",
       "    <tr>\n",
       "      <th>style</th>\n",
       "      <td>543341</td>\n",
       "      <td>169984</td>\n",
       "      <td>2267</td>\n",
       "      <td>1477</td>\n",
       "    </tr>\n",
       "    <tr>\n",
       "      <th>userid</th>\n",
       "      <td>542584</td>\n",
       "      <td>262910</td>\n",
       "      <td>2247</td>\n",
       "      <td>564</td>\n",
       "    </tr>\n",
       "  </tbody>\n",
       "</table>\n",
       "</div>"
      ],
      "text/plain": [
       "                count  unique                               top  freq\n",
       "designer       543341  142692                              2264  1574\n",
       "orderdate_gmt  543341  347163  2018-01-10 15:28:51.970000+00:00    94\n",
       "orderportalid  543341  367897                             83553    86\n",
       "productid      543341  166878                            109557   866\n",
       "style          543341  169984                              2267  1477\n",
       "userid         542584  262910                              2247   564"
      ]
     },
     "execution_count": 15,
     "metadata": {},
     "output_type": "execute_result"
    }
   ],
   "source": [
    "cardinality[cardinality.unique>100000]"
   ]
  },
  {
   "cell_type": "markdown",
   "metadata": {},
   "source": [
    "We see there are a bunch of columns that are almost ids, we should use a hashingencoder to deal with them but for now we remove them."
   ]
  },
  {
   "cell_type": "code",
   "execution_count": 16,
   "metadata": {},
   "outputs": [],
   "source": [
    "train_df = train_df.drop(columns=['orderportalid', 'userid', 'style', 'productid',\n",
    "                                  'orderdate_gmt', 'designer'])"
   ]
  },
  {
   "cell_type": "code",
   "execution_count": 17,
   "metadata": {},
   "outputs": [],
   "source": [
    "target_name = 'returned'\n",
    "y = train_df[target_name]\n",
    "X = train_df.drop(columns=[col for col in train_df if col not in test_df.columns])"
   ]
  },
  {
   "cell_type": "markdown",
   "metadata": {},
   "source": [
    "For the moment we will remove `orderportalid` since it has high cardinality."
   ]
  },
  {
   "cell_type": "code",
   "execution_count": 18,
   "metadata": {},
   "outputs": [
    {
     "data": {
      "text/html": [
       "<div>\n",
       "<style scoped>\n",
       "    .dataframe tbody tr th:only-of-type {\n",
       "        vertical-align: middle;\n",
       "    }\n",
       "\n",
       "    .dataframe tbody tr th {\n",
       "        vertical-align: top;\n",
       "    }\n",
       "\n",
       "    .dataframe thead th {\n",
       "        text-align: right;\n",
       "    }\n",
       "</style>\n",
       "<table border=\"1\" class=\"dataframe\">\n",
       "  <thead>\n",
       "    <tr style=\"text-align: right;\">\n",
       "      <th></th>\n",
       "      <th>count</th>\n",
       "      <th>unique</th>\n",
       "      <th>top</th>\n",
       "      <th>freq</th>\n",
       "    </tr>\n",
       "  </thead>\n",
       "  <tbody>\n",
       "    <tr>\n",
       "      <th>country</th>\n",
       "      <td>543341</td>\n",
       "      <td>328</td>\n",
       "      <td>1</td>\n",
       "      <td>94021</td>\n",
       "    </tr>\n",
       "    <tr>\n",
       "      <th>hasitemsonbag</th>\n",
       "      <td>542584</td>\n",
       "      <td>2</td>\n",
       "      <td>No</td>\n",
       "      <td>298293</td>\n",
       "    </tr>\n",
       "    <tr>\n",
       "      <th>hasusedwishlist</th>\n",
       "      <td>542584</td>\n",
       "      <td>2</td>\n",
       "      <td>Yes</td>\n",
       "      <td>393562</td>\n",
       "    </tr>\n",
       "    <tr>\n",
       "      <th>isreseller</th>\n",
       "      <td>542584</td>\n",
       "      <td>2</td>\n",
       "      <td>No</td>\n",
       "      <td>507561</td>\n",
       "    </tr>\n",
       "    <tr>\n",
       "      <th>isusingmultipledevices</th>\n",
       "      <td>542584</td>\n",
       "      <td>2</td>\n",
       "      <td>No</td>\n",
       "      <td>336439</td>\n",
       "    </tr>\n",
       "    <tr>\n",
       "      <th>isvip</th>\n",
       "      <td>542584</td>\n",
       "      <td>4</td>\n",
       "      <td>Not VIP</td>\n",
       "      <td>424596</td>\n",
       "    </tr>\n",
       "    <tr>\n",
       "      <th>region</th>\n",
       "      <td>543341</td>\n",
       "      <td>14</td>\n",
       "      <td>3</td>\n",
       "      <td>199540</td>\n",
       "    </tr>\n",
       "    <tr>\n",
       "      <th>shipper</th>\n",
       "      <td>543341</td>\n",
       "      <td>6</td>\n",
       "      <td>2</td>\n",
       "      <td>359441</td>\n",
       "    </tr>\n",
       "    <tr>\n",
       "      <th>shiptypeid</th>\n",
       "      <td>543341</td>\n",
       "      <td>45</td>\n",
       "      <td>2</td>\n",
       "      <td>381650</td>\n",
       "    </tr>\n",
       "    <tr>\n",
       "      <th>tierafterorder</th>\n",
       "      <td>505189</td>\n",
       "      <td>5</td>\n",
       "      <td>T4</td>\n",
       "      <td>231316</td>\n",
       "    </tr>\n",
       "    <tr>\n",
       "      <th>tierbeforeorder</th>\n",
       "      <td>353210</td>\n",
       "      <td>5</td>\n",
       "      <td>T4</td>\n",
       "      <td>126988</td>\n",
       "    </tr>\n",
       "    <tr>\n",
       "      <th>userfraudstatus</th>\n",
       "      <td>543341</td>\n",
       "      <td>18</td>\n",
       "      <td>3</td>\n",
       "      <td>308884</td>\n",
       "    </tr>\n",
       "  </tbody>\n",
       "</table>\n",
       "</div>"
      ],
      "text/plain": [
       "                         count unique      top    freq\n",
       "country                 543341    328        1   94021\n",
       "hasitemsonbag           542584      2       No  298293\n",
       "hasusedwishlist         542584      2      Yes  393562\n",
       "isreseller              542584      2       No  507561\n",
       "isusingmultipledevices  542584      2       No  336439\n",
       "isvip                   542584      4  Not VIP  424596\n",
       "region                  543341     14        3  199540\n",
       "shipper                 543341      6        2  359441\n",
       "shiptypeid              543341     45        2  381650\n",
       "tierafterorder          505189      5       T4  231316\n",
       "tierbeforeorder         353210      5       T4  126988\n",
       "userfraudstatus         543341     18        3  308884"
      ]
     },
     "execution_count": 18,
     "metadata": {},
     "output_type": "execute_result"
    }
   ],
   "source": [
    "X.describe(exclude=np.number).T"
   ]
  },
  {
   "cell_type": "markdown",
   "metadata": {},
   "source": [
    "We save it for later."
   ]
  },
  {
   "cell_type": "code",
   "execution_count": 19,
   "metadata": {},
   "outputs": [],
   "source": [
    "X.assign(returned=y).reset_index().to_csv('train.csv', index=False)"
   ]
  },
  {
   "cell_type": "markdown",
   "metadata": {},
   "source": [
    "# Baseline Model"
   ]
  },
  {
   "cell_type": "code",
   "execution_count": 20,
   "metadata": {},
   "outputs": [],
   "source": [
    "from sklearn.linear_model import LogisticRegression\n",
    "import numpy as np\n",
    "from sklearn.pipeline import make_pipeline\n",
    "from category_encoders import OneHotEncoder\n",
    "from sklearn.model_selection import train_test_split\n",
    "from sklearn.impute import SimpleImputer"
   ]
  },
  {
   "cell_type": "code",
   "execution_count": 21,
   "metadata": {},
   "outputs": [],
   "source": [
    "X_train, X_test, y_train, y_test = train_test_split(X, y, test_size=0.1)"
   ]
  },
  {
   "cell_type": "code",
   "execution_count": 22,
   "metadata": {},
   "outputs": [
    {
     "name": "stdout",
     "output_type": "stream",
     "text": [
      "(489006, 13)\n"
     ]
    }
   ],
   "source": [
    "print(X_train.shape)"
   ]
  },
  {
   "cell_type": "code",
   "execution_count": 23,
   "metadata": {},
   "outputs": [],
   "source": [
    "pipeline = make_pipeline(\n",
    " OneHotEncoder(verbose=1),\n",
    "    SimpleImputer(),\n",
    "    LogisticRegression(verbose=1)\n",
    ")"
   ]
  },
  {
   "cell_type": "markdown",
   "metadata": {},
   "source": [
    "For the first run let's just train on a sample, to make it faster."
   ]
  },
  {
   "cell_type": "code",
   "execution_count": 24,
   "metadata": {},
   "outputs": [
    {
     "name": "stderr",
     "output_type": "stream",
     "text": [
      "/usr/local/lib/python3.7/site-packages/sklearn/linear_model/logistic.py:432: FutureWarning: Default solver will be changed to 'lbfgs' in 0.22. Specify a solver to silence this warning.\n",
      "  FutureWarning)\n"
     ]
    },
    {
     "name": "stdout",
     "output_type": "stream",
     "text": [
      "[LibLinear]"
     ]
    },
    {
     "data": {
      "text/plain": [
       "Pipeline(memory=None,\n",
       "         steps=[('onehotencoder',\n",
       "                 OneHotEncoder(cols=['country', 'hasitemsonbag',\n",
       "                                     'hasusedwishlist', 'isreseller',\n",
       "                                     'isusingmultipledevices', 'isvip',\n",
       "                                     'region', 'shipper', 'shiptypeid',\n",
       "                                     'tierafterorder', 'tierbeforeorder',\n",
       "                                     'userfraudstatus'],\n",
       "                               drop_invariant=False, handle_missing='value',\n",
       "                               handle_unknown='value', return_df=True,\n",
       "                               use_cat_names=False, verbose...\n",
       "                 SimpleImputer(add_indicator=False, copy=True, fill_value=None,\n",
       "                               missing_values=nan, strategy='mean',\n",
       "                               verbose=0)),\n",
       "                ('logisticregression',\n",
       "                 LogisticRegression(C=1.0, class_weight=None, dual=False,\n",
       "                                    fit_intercept=True, intercept_scaling=1,\n",
       "                                    l1_ratio=None, max_iter=100,\n",
       "                                    multi_class='warn', n_jobs=None,\n",
       "                                    penalty='l2', random_state=None,\n",
       "                                    solver='warn', tol=0.0001, verbose=1,\n",
       "                                    warm_start=False))],\n",
       "         verbose=False)"
      ]
     },
     "execution_count": 24,
     "metadata": {},
     "output_type": "execute_result"
    }
   ],
   "source": [
    "pipeline.fit(X_train.head(100000), y_train.values[:100000])"
   ]
  },
  {
   "cell_type": "code",
   "execution_count": 25,
   "metadata": {},
   "outputs": [],
   "source": [
    "preds = pipeline.predict(X_test)"
   ]
  },
  {
   "cell_type": "code",
   "execution_count": 26,
   "metadata": {},
   "outputs": [],
   "source": [
    "from sklearn.metrics import roc_auc_score"
   ]
  },
  {
   "cell_type": "code",
   "execution_count": 27,
   "metadata": {},
   "outputs": [
    {
     "data": {
      "text/plain": [
       "0.8339974200772695"
      ]
     },
     "execution_count": 27,
     "metadata": {},
     "output_type": "execute_result"
    }
   ],
   "source": [
    "roc_auc_score(preds, y_test)"
   ]
  },
  {
   "cell_type": "code",
   "execution_count": 28,
   "metadata": {},
   "outputs": [
    {
     "data": {
      "text/plain": [
       "(54335, 13)"
      ]
     },
     "execution_count": 28,
     "metadata": {},
     "output_type": "execute_result"
    }
   ],
   "source": [
    "X_test.shape"
   ]
  },
  {
   "cell_type": "markdown",
   "metadata": {},
   "source": [
    "We load the test data."
   ]
  },
  {
   "cell_type": "code",
   "execution_count": 29,
   "metadata": {},
   "outputs": [],
   "source": [
    "test_df = pd.read_pickle('data/clean/test_df.pickle')\n",
    "test_ids = test_df.id.values"
   ]
  },
  {
   "cell_type": "code",
   "execution_count": 30,
   "metadata": {},
   "outputs": [],
   "source": [
    "test_df = test_df[[col for col in test_df.columns  if col in X.columns ]]"
   ]
  },
  {
   "cell_type": "code",
   "execution_count": 31,
   "metadata": {},
   "outputs": [
    {
     "data": {
      "text/plain": [
       "Index(['shipper', 'shiptypeid', 'isvip', 'country', 'region', 'ddprate',\n",
       "       'hasusedwishlist', 'isreseller', 'hasitemsonbag', 'tierafterorder',\n",
       "       'tierbeforeorder', 'isusingmultipledevices', 'userfraudstatus'],\n",
       "      dtype='object')"
      ]
     },
     "execution_count": 31,
     "metadata": {},
     "output_type": "execute_result"
    }
   ],
   "source": [
    "test_df.columns"
   ]
  },
  {
   "cell_type": "code",
   "execution_count": 32,
   "metadata": {},
   "outputs": [],
   "source": [
    "test_preds = pipeline.predict_proba(test_df)[:,1]"
   ]
  },
  {
   "cell_type": "code",
   "execution_count": 33,
   "metadata": {},
   "outputs": [],
   "source": [
    "baseline = pd.DataFrame({\n",
    "    \"id\":test_ids,\n",
    "    \"returned\":  test_preds\n",
    "    \n",
    "})"
   ]
  },
  {
   "cell_type": "code",
   "execution_count": 34,
   "metadata": {},
   "outputs": [],
   "source": [
    "baseline.to_csv('baseline.csv', index=False)"
   ]
  },
  {
   "cell_type": "markdown",
   "metadata": {},
   "source": [
    "We got ROCAUC of 0.68 on the leaderboard with 100k rows. Let's try with the whole dataset."
   ]
  },
  {
   "cell_type": "code",
   "execution_count": 35,
   "metadata": {},
   "outputs": [
    {
     "name": "stderr",
     "output_type": "stream",
     "text": [
      "/usr/local/lib/python3.7/site-packages/sklearn/linear_model/logistic.py:432: FutureWarning: Default solver will be changed to 'lbfgs' in 0.22. Specify a solver to silence this warning.\n",
      "  FutureWarning)\n"
     ]
    },
    {
     "name": "stdout",
     "output_type": "stream",
     "text": [
      "[LibLinear]"
     ]
    },
    {
     "data": {
      "text/plain": [
       "Pipeline(memory=None,\n",
       "         steps=[('onehotencoder',\n",
       "                 OneHotEncoder(cols=['country', 'hasitemsonbag',\n",
       "                                     'hasusedwishlist', 'isreseller',\n",
       "                                     'isusingmultipledevices', 'isvip',\n",
       "                                     'region', 'shipper', 'shiptypeid',\n",
       "                                     'tierafterorder', 'tierbeforeorder',\n",
       "                                     'userfraudstatus'],\n",
       "                               drop_invariant=False, handle_missing='value',\n",
       "                               handle_unknown='value', return_df=True,\n",
       "                               use_cat_names=False, verbose...\n",
       "                 SimpleImputer(add_indicator=False, copy=True, fill_value=None,\n",
       "                               missing_values=nan, strategy='mean',\n",
       "                               verbose=0)),\n",
       "                ('logisticregression',\n",
       "                 LogisticRegression(C=1.0, class_weight=None, dual=False,\n",
       "                                    fit_intercept=True, intercept_scaling=1,\n",
       "                                    l1_ratio=None, max_iter=100,\n",
       "                                    multi_class='warn', n_jobs=None,\n",
       "                                    penalty='l2', random_state=None,\n",
       "                                    solver='warn', tol=0.0001, verbose=1,\n",
       "                                    warm_start=False))],\n",
       "         verbose=False)"
      ]
     },
     "execution_count": 35,
     "metadata": {},
     "output_type": "execute_result"
    }
   ],
   "source": [
    "# This takes a while to run\n",
    "pipeline.fit(X_train, y_train)"
   ]
  },
  {
   "cell_type": "code",
   "execution_count": 36,
   "metadata": {},
   "outputs": [],
   "source": [
    "preds = pipeline.predict(X_test)"
   ]
  },
  {
   "cell_type": "code",
   "execution_count": 37,
   "metadata": {},
   "outputs": [
    {
     "data": {
      "text/plain": [
       "0.83405822486589"
      ]
     },
     "execution_count": 37,
     "metadata": {},
     "output_type": "execute_result"
    }
   ],
   "source": [
    "roc_auc_score(preds, y_test)"
   ]
  },
  {
   "cell_type": "code",
   "execution_count": 38,
   "metadata": {},
   "outputs": [],
   "source": [
    "test_preds2 = pipeline.predict_proba(test_df)[:,1]"
   ]
  },
  {
   "cell_type": "code",
   "execution_count": 39,
   "metadata": {},
   "outputs": [],
   "source": [
    "baseline2 = pd.DataFrame({\n",
    "    \"id\":test_ids,\n",
    "    \"returned\":  test_preds2\n",
    "    \n",
    "})\n",
    "baseline2.to_csv('baseline.2.csv', index=False)"
   ]
  },
  {
   "cell_type": "code",
   "execution_count": 40,
   "metadata": {},
   "outputs": [
    {
     "name": "stdout",
     "output_type": "stream",
     "text": [
      "done\n"
     ]
    }
   ],
   "source": [
    "print('done')"
   ]
  },
  {
   "cell_type": "markdown",
   "metadata": {},
   "source": [
    "This got a 0.773!"
   ]
  },
  {
   "cell_type": "markdown",
   "metadata": {},
   "source": [
    "We save the test df just in case"
   ]
  },
  {
   "cell_type": "code",
   "execution_count": 41,
   "metadata": {},
   "outputs": [],
   "source": [
    "test_df['id'] = test_ids\n",
    "test_df.to_csv('test.csv', index=False)"
   ]
  }
 ],
 "metadata": {
  "kernelspec": {
   "display_name": "Python 3",
   "language": "python",
   "name": "python3"
  },
  "language_info": {
   "codemirror_mode": {
    "name": "ipython",
    "version": 3
   },
   "file_extension": ".py",
   "mimetype": "text/x-python",
   "name": "python",
   "nbconvert_exporter": "python",
   "pygments_lexer": "ipython3",
   "version": "3.7.1"
  }
 },
 "nbformat": 4,
 "nbformat_minor": 2
}
