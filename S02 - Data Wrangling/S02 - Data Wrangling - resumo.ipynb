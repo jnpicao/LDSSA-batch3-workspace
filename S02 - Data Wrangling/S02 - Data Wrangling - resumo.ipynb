{
 "cells": [
  {
   "cell_type": "code",
   "execution_count": 1,
   "metadata": {},
   "outputs": [],
   "source": [
    "import pandas as pd"
   ]
  },
  {
   "cell_type": "markdown",
   "metadata": {},
   "source": [
    "## 1. ! (system shell access)\n",
    "\n",
    "In a Jupyter notebook, any statement that you start with an exclamation mark (!), will be sent to the underlying operating system."
   ]
  },
  {
   "cell_type": "code",
   "execution_count": 2,
   "metadata": {},
   "outputs": [
    {
     "name": "stdout",
     "output_type": "stream",
     "text": [
      "C:\\Users\\jnpicao\\Documents\\GitHub\\batch3-workspace\\S02 - Data Wrangling\n"
     ]
    }
   ],
   "source": [
    "!cd"
   ]
  },
  {
   "cell_type": "code",
   "execution_count": 3,
   "metadata": {},
   "outputs": [
    {
     "name": "stdout",
     "output_type": "stream",
     "text": [
      " Volume in drive C is Windows\n",
      " Volume Serial Number is 261F-6607\n",
      "\n",
      " Directory of C:\\Users\\jnpicao\\Documents\\GitHub\\batch3-workspace\\S02 - Data Wrangling\n",
      "\n",
      "05/08/2019  12:35    <DIR>          .\n",
      "05/08/2019  12:35    <DIR>          ..\n",
      "01/08/2019  15:51    <DIR>          .ipynb_checkpoints\n",
      "05/08/2019  11:51    <DIR>          BLU01 - Messy Data\n",
      "05/08/2019  12:35            21 366 S02 - Data Wrangling - resumo.ipynb\n",
      "               1 File(s)         21 366 bytes\n",
      "               4 Dir(s)  114 771 439 616 bytes free\n"
     ]
    }
   ],
   "source": [
    "!dir"
   ]
  },
  {
   "cell_type": "markdown",
   "metadata": {},
   "source": [
    "**counting the number of lines in a file**"
   ]
  },
  {
   "cell_type": "code",
   "execution_count": 4,
   "metadata": {},
   "outputs": [
    {
     "data": {
      "text/plain": [
       "18"
      ]
     },
     "execution_count": 4,
     "metadata": {},
     "output_type": "execute_result"
    }
   ],
   "source": [
    "count_total = ! findstr /R /N \"^\" \".\\BLU01 - Messy Data\\data\\exercises\\elon_musk.txt\" | find /C \":\"\n",
    "count_total = int(count_total[0])\n",
    "count_total"
   ]
  },
  {
   "cell_type": "markdown",
   "metadata": {},
   "source": [
    "## 2. File Formats Introduction  "
   ]
  },
  {
   "cell_type": "markdown",
   "metadata": {},
   "source": [
    "**Pandas has a set of functions to read data from files into pandas DataFrames**.\n",
    "Their signature looks like\n",
    "\n",
    "```\n",
    "pd.read_XXX(filepath, other arguments)\n",
    "```\n",
    "\n",
    "where XXX shoud be replaced with the file type: **csv** (for delimiter separated values files), **json**, **excel**, **html**, among others."
   ]
  },
  {
   "cell_type": "code",
   "execution_count": 5,
   "metadata": {
    "scrolled": true
   },
   "outputs": [
    {
     "name": "stdout",
     "output_type": "stream",
     "text": [
      "Ooops!!! We got an error!\n"
     ]
    }
   ],
   "source": [
    "file_path = '.\\BLU01 - Messy Data\\data\\exercises\\portugal_urban_waste_per_inhabitant.csv'\n",
    "try:\n",
    "    df3 = pd.read_csv(file_path)\n",
    "except:\n",
    "    print('Ooops!!! We got an error!')"
   ]
  },
  {
   "cell_type": "markdown",
   "metadata": {},
   "source": [
    "What if we need to inspect the file because the pandas' read functions have found some errors in the file?"
   ]
  },
  {
   "cell_type": "markdown",
   "metadata": {},
   "source": [
    "## 3. Inspect data and dealing with bad lines"
   ]
  },
  {
   "cell_type": "markdown",
   "metadata": {},
   "source": [
    "### 3.1 Ignoring bad lines  \n",
    "We can instruct pandas' read functions to ignore the bad lines (`error_bad_lines=False` to drop \"bad lines\" and avoid error)."
   ]
  },
  {
   "cell_type": "code",
   "execution_count": 6,
   "metadata": {},
   "outputs": [
    {
     "name": "stderr",
     "output_type": "stream",
     "text": [
      "b'Skipping line 3: expected 3 fields, saw 6\\nSkipping line 30: expected 3 fields, saw 5\\n'\n"
     ]
    },
    {
     "data": {
      "text/html": [
       "<div>\n",
       "<style scoped>\n",
       "    .dataframe tbody tr th:only-of-type {\n",
       "        vertical-align: middle;\n",
       "    }\n",
       "\n",
       "    .dataframe tbody tr th {\n",
       "        vertical-align: top;\n",
       "    }\n",
       "\n",
       "    .dataframe thead th {\n",
       "        text-align: right;\n",
       "    }\n",
       "</style>\n",
       "<table border=\"1\" class=\"dataframe\">\n",
       "  <thead>\n",
       "    <tr style=\"text-align: right;\">\n",
       "      <th></th>\n",
       "      <th>Urban waste collection per inhabitant (kg/inhabitant)</th>\n",
       "      <th>Selective urban waste collection per inhabitant (kg/inhabitant)</th>\n",
       "    </tr>\n",
       "    <tr>\n",
       "      <th>Years</th>\n",
       "      <th></th>\n",
       "      <th></th>\n",
       "    </tr>\n",
       "  </thead>\n",
       "  <tbody>\n",
       "    <tr>\n",
       "      <th>1989</th>\n",
       "      <td>NaN</td>\n",
       "      <td>NaN</td>\n",
       "    </tr>\n",
       "    <tr>\n",
       "      <th>1991</th>\n",
       "      <td>425.7</td>\n",
       "      <td>1.5</td>\n",
       "    </tr>\n",
       "    <tr>\n",
       "      <th>1992</th>\n",
       "      <td>NaN</td>\n",
       "      <td>1.7</td>\n",
       "    </tr>\n",
       "    <tr>\n",
       "      <th>1993</th>\n",
       "      <td>357.6</td>\n",
       "      <td>2.3</td>\n",
       "    </tr>\n",
       "    <tr>\n",
       "      <th>1994</th>\n",
       "      <td>NaN</td>\n",
       "      <td>NaN</td>\n",
       "    </tr>\n",
       "    <tr>\n",
       "      <th>1995</th>\n",
       "      <td>352.0</td>\n",
       "      <td>4.0</td>\n",
       "    </tr>\n",
       "    <tr>\n",
       "      <th>1996</th>\n",
       "      <td>371.7</td>\n",
       "      <td>5.3</td>\n",
       "    </tr>\n",
       "    <tr>\n",
       "      <th>1997</th>\n",
       "      <td>397.0</td>\n",
       "      <td>6.6</td>\n",
       "    </tr>\n",
       "    <tr>\n",
       "      <th>1998</th>\n",
       "      <td>413.2</td>\n",
       "      <td>8.1</td>\n",
       "    </tr>\n",
       "  </tbody>\n",
       "</table>\n",
       "</div>"
      ],
      "text/plain": [
       "       Urban waste collection per inhabitant (kg/inhabitant)  \\\n",
       "Years                                                          \n",
       "1989                                                 NaN       \n",
       "1991                                               425.7       \n",
       "1992                                                 NaN       \n",
       "1993                                               357.6       \n",
       "1994                                                 NaN       \n",
       "1995                                               352.0       \n",
       "1996                                               371.7       \n",
       "1997                                               397.0       \n",
       "1998                                               413.2       \n",
       "\n",
       "       Selective urban waste collection per inhabitant (kg/inhabitant)  \n",
       "Years                                                                   \n",
       "1989                                                 NaN                \n",
       "1991                                                 1.5                \n",
       "1992                                                 1.7                \n",
       "1993                                                 2.3                \n",
       "1994                                                 NaN                \n",
       "1995                                                 4.0                \n",
       "1996                                                 5.3                \n",
       "1997                                                 6.6                \n",
       "1998                                                 8.1                "
      ]
     },
     "execution_count": 6,
     "metadata": {},
     "output_type": "execute_result"
    }
   ],
   "source": [
    "df3 = pd.read_csv(file_path, error_bad_lines=False, index_col=0, na_values=['no-data', '999999'])\n",
    "df3[0:9]"
   ]
  },
  {
   "cell_type": "markdown",
   "metadata": {},
   "source": [
    "### 3.2 Open and read the files  \n",
    "\n",
    "We can open the file and inspect the lines that were skipped by `pd.read_csv()`.  "
   ]
  },
  {
   "cell_type": "markdown",
   "metadata": {},
   "source": [
    "**option 1** (we get a **list of lines**): open file and use readline() method of file object [(see The Python Tutorial - 7.2.1 Methods of File Objects)](https://docs.python.org/3.7/tutorial/inputoutput.html#methods-of-file-objects).  \n"
   ]
  },
  {
   "cell_type": "code",
   "execution_count": 7,
   "metadata": {},
   "outputs": [
    {
     "name": "stdout",
     "output_type": "stream",
     "text": [
      "Years,Urban waste collection per inhabitant (kg/inhabitant),Selective urban waste collection per inhabitant (kg/inhabitant)\n",
      "\n"
     ]
    }
   ],
   "source": [
    "# create a file object f\n",
    "f = open(file_path, 'r')\n",
    "\n",
    "# read a line\n",
    "line = f.readline()\n",
    "\n",
    "# print the content the line\n",
    "print(line)\n",
    "\n",
    "# closing the file\n",
    "f.close()"
   ]
  },
  {
   "cell_type": "markdown",
   "metadata": {},
   "source": [
    "If you want to **read all the lines** of a file in a list you can also use **`list(f)`** or **`f.readlines()`**."
   ]
  },
  {
   "cell_type": "code",
   "execution_count": 8,
   "metadata": {},
   "outputs": [
    {
     "name": "stdout",
     "output_type": "stream",
     "text": [
      "Years,Urban waste collection per inhabitant (kg/inhabitant),Selective urban waste collection per inhabitant (kg/inhabitant)\n",
      "\n",
      "1989,no-data,no-data\n",
      "\n",
      "1990,480,78.2,1990,,\n",
      "\n",
      "1991,425.7,1.5\n",
      "\n",
      "1992,999999,1.7\n",
      "\n"
     ]
    }
   ],
   "source": [
    "# create a file object f\n",
    "f = open(file_path, 'r')\n",
    "\n",
    "# create a list of lines\n",
    "lines_list = f.readlines()\n",
    "\n",
    "# print the content of specific lines\n",
    "for i in range(0,5):\n",
    "    print(lines_list[i])\n",
    "\n",
    "# closing the file\n",
    "f.close()"
   ]
  },
  {
   "cell_type": "code",
   "execution_count": 9,
   "metadata": {},
   "outputs": [
    {
     "name": "stdout",
     "output_type": "stream",
     "text": [
      "['Years,Urban waste collection per inhabitant (kg/inhabitant),Selective urban waste collection per inhabitant (kg/inhabitant)\\n', '1989,no-data,no-data\\n', '1990,480,78.2,1990,,\\n', '1991,425.7,1.5\\n', '1992,999999,1.7\\n']\n"
     ]
    }
   ],
   "source": [
    "# create a file object f\n",
    "f = open(file_path, 'r')\n",
    "\n",
    "# create a list of lines\n",
    "lines_list = list(f)\n",
    "\n",
    "# print the content of specific lines\n",
    "print(lines_list[0:5])\n",
    "\n",
    "# closing the file\n",
    "f.close()"
   ]
  },
  {
   "cell_type": "markdown",
   "metadata": {},
   "source": [
    "**option 2** (we get a **list of lists**): Python's **csv** module **reader** function that can read a csv file into a list of lists. [(see csv library documentation)](https://docs.python.org/3/library/csv.html)"
   ]
  },
  {
   "cell_type": "code",
   "execution_count": 10,
   "metadata": {},
   "outputs": [],
   "source": [
    "import csv"
   ]
  },
  {
   "cell_type": "code",
   "execution_count": 11,
   "metadata": {},
   "outputs": [
    {
     "name": "stdout",
     "output_type": "stream",
     "text": [
      "[['Years', 'Urban waste collection per inhabitant (kg/inhabitant)', 'Selective urban waste collection per inhabitant (kg/inhabitant)'], ['1989', 'no-data', 'no-data'], ['1990', '480', '78.2', '1990', '', ''], ['1991', '425.7', '1.5'], ['1992', '999999', '1.7']]\n"
     ]
    }
   ],
   "source": [
    "# create a file object f\n",
    "f = open(file_path, 'r')\n",
    "\n",
    "# read the csv into a list of lists\n",
    "csv_list = list(csv.reader(f))\n",
    "\n",
    "# these two lists correspond to the first two lines of the file\n",
    "print(csv_list[:5])"
   ]
  },
  {
   "cell_type": "code",
   "execution_count": 12,
   "metadata": {},
   "outputs": [
    {
     "data": {
      "text/plain": [
       "[['Years',\n",
       "  'Urban waste collection per inhabitant (kg/inhabitant)',\n",
       "  'Selective urban waste collection per inhabitant (kg/inhabitant)'],\n",
       " ['1989', 'no-data', 'no-data'],\n",
       " ['1990', '480', '78.2'],\n",
       " ['1991', '425.7', '1.5'],\n",
       " ['1992', '999999', '1.7']]"
      ]
     },
     "execution_count": 12,
     "metadata": {},
     "output_type": "execute_result"
    }
   ],
   "source": [
    "# each inner list can only have up to n_elements\n",
    "n_elements = 3\n",
    "csv_list_clean = [i[:n_elements] for i in csv_list]\n",
    "csv_list_clean[:5]"
   ]
  },
  {
   "cell_type": "code",
   "execution_count": 13,
   "metadata": {},
   "outputs": [
    {
     "data": {
      "text/html": [
       "<div>\n",
       "<style scoped>\n",
       "    .dataframe tbody tr th:only-of-type {\n",
       "        vertical-align: middle;\n",
       "    }\n",
       "\n",
       "    .dataframe tbody tr th {\n",
       "        vertical-align: top;\n",
       "    }\n",
       "\n",
       "    .dataframe thead th {\n",
       "        text-align: right;\n",
       "    }\n",
       "</style>\n",
       "<table border=\"1\" class=\"dataframe\">\n",
       "  <thead>\n",
       "    <tr style=\"text-align: right;\">\n",
       "      <th></th>\n",
       "      <th>Years</th>\n",
       "      <th>Urban waste collection per inhabitant (kg/inhabitant)</th>\n",
       "      <th>Selective urban waste collection per inhabitant (kg/inhabitant)</th>\n",
       "    </tr>\n",
       "  </thead>\n",
       "  <tbody>\n",
       "    <tr>\n",
       "      <th>0</th>\n",
       "      <td>1989</td>\n",
       "      <td>no-data</td>\n",
       "      <td>no-data</td>\n",
       "    </tr>\n",
       "    <tr>\n",
       "      <th>1</th>\n",
       "      <td>1990</td>\n",
       "      <td>480</td>\n",
       "      <td>78.2</td>\n",
       "    </tr>\n",
       "    <tr>\n",
       "      <th>2</th>\n",
       "      <td>1991</td>\n",
       "      <td>425.7</td>\n",
       "      <td>1.5</td>\n",
       "    </tr>\n",
       "    <tr>\n",
       "      <th>3</th>\n",
       "      <td>1992</td>\n",
       "      <td>999999</td>\n",
       "      <td>1.7</td>\n",
       "    </tr>\n",
       "    <tr>\n",
       "      <th>4</th>\n",
       "      <td>1993</td>\n",
       "      <td>357.6</td>\n",
       "      <td>2.3</td>\n",
       "    </tr>\n",
       "  </tbody>\n",
       "</table>\n",
       "</div>"
      ],
      "text/plain": [
       "  Years Urban waste collection per inhabitant (kg/inhabitant)  \\\n",
       "0  1989                                            no-data      \n",
       "1  1990                                                480      \n",
       "2  1991                                              425.7      \n",
       "3  1992                                             999999      \n",
       "4  1993                                              357.6      \n",
       "\n",
       "  Selective urban waste collection per inhabitant (kg/inhabitant)  \n",
       "0                                            no-data               \n",
       "1                                               78.2               \n",
       "2                                                1.5               \n",
       "3                                                1.7               \n",
       "4                                                2.3               "
      ]
     },
     "execution_count": 13,
     "metadata": {},
     "output_type": "execute_result"
    }
   ],
   "source": [
    "# we finally create a DataFrame, using the first list as the column names, and the other lists as data\n",
    "df = pd.DataFrame(csv_list_clean[1:], columns=csv_list_clean[0])\n",
    "df.head()"
   ]
  },
  {
   "cell_type": "code",
   "execution_count": 14,
   "metadata": {},
   "outputs": [],
   "source": [
    "# closing the file\n",
    "f.close()"
   ]
  },
  {
   "cell_type": "markdown",
   "metadata": {},
   "source": [
    "## 4. Dealing with big files"
   ]
  },
  {
   "cell_type": "markdown",
   "metadata": {},
   "source": [
    "**Only reading n lines**: `pd.read_csv(file, nrows=3)`"
   ]
  },
  {
   "cell_type": "markdown",
   "metadata": {},
   "source": [
    "**Read n random lines**  \n",
    "\n",
    "1. Find the number of lines in the file: `n_total_rows`.\n",
    "2. Find the number of rows to be skipped: `n_rows_to_skip = n_total_rows - n_rows_to_read`.\n",
    "2. Sample the rows to be skipped into a list: `list_of_rows_to_skip = random.sample( range(1, n_total_rows-1), n_skipped_rows)`.\n",
    "3. Use `pd.read_csv()` with argument `skiprows = list_of_rows_to_skip` "
   ]
  },
  {
   "cell_type": "code",
   "execution_count": 22,
   "metadata": {},
   "outputs": [
    {
     "data": {
      "text/html": [
       "<div>\n",
       "<style scoped>\n",
       "    .dataframe tbody tr th:only-of-type {\n",
       "        vertical-align: middle;\n",
       "    }\n",
       "\n",
       "    .dataframe tbody tr th {\n",
       "        vertical-align: top;\n",
       "    }\n",
       "\n",
       "    .dataframe thead th {\n",
       "        text-align: right;\n",
       "    }\n",
       "</style>\n",
       "<table border=\"1\" class=\"dataframe\">\n",
       "  <thead>\n",
       "    <tr style=\"text-align: right;\">\n",
       "      <th></th>\n",
       "      <th>#</th>\n",
       "      <th>Name</th>\n",
       "      <th>Type 1</th>\n",
       "      <th>Type 2</th>\n",
       "      <th>HP</th>\n",
       "      <th>Attack</th>\n",
       "      <th>Defense</th>\n",
       "      <th>Sp. Atk</th>\n",
       "      <th>Sp. Def</th>\n",
       "      <th>Speed</th>\n",
       "      <th>Generation</th>\n",
       "      <th>Legendary</th>\n",
       "    </tr>\n",
       "  </thead>\n",
       "  <tbody>\n",
       "    <tr>\n",
       "      <th>0</th>\n",
       "      <td>93</td>\n",
       "      <td>Dodrio</td>\n",
       "      <td>Normal</td>\n",
       "      <td>Flying</td>\n",
       "      <td>60</td>\n",
       "      <td>110</td>\n",
       "      <td>70</td>\n",
       "      <td>60</td>\n",
       "      <td>60</td>\n",
       "      <td>100</td>\n",
       "      <td>1</td>\n",
       "      <td>False</td>\n",
       "    </tr>\n",
       "    <tr>\n",
       "      <th>1</th>\n",
       "      <td>151</td>\n",
       "      <td>Omastar</td>\n",
       "      <td>Rock</td>\n",
       "      <td>Water</td>\n",
       "      <td>70</td>\n",
       "      <td>60</td>\n",
       "      <td>125</td>\n",
       "      <td>115</td>\n",
       "      <td>70</td>\n",
       "      <td>55</td>\n",
       "      <td>1</td>\n",
       "      <td>False</td>\n",
       "    </tr>\n",
       "    <tr>\n",
       "      <th>2</th>\n",
       "      <td>213</td>\n",
       "      <td>Umbreon</td>\n",
       "      <td>Dark</td>\n",
       "      <td>NaN</td>\n",
       "      <td>95</td>\n",
       "      <td>65</td>\n",
       "      <td>110</td>\n",
       "      <td>60</td>\n",
       "      <td>130</td>\n",
       "      <td>65</td>\n",
       "      <td>2</td>\n",
       "      <td>False</td>\n",
       "    </tr>\n",
       "    <tr>\n",
       "      <th>3</th>\n",
       "      <td>248</td>\n",
       "      <td>Houndoom</td>\n",
       "      <td>Dark</td>\n",
       "      <td>Fire</td>\n",
       "      <td>75</td>\n",
       "      <td>90</td>\n",
       "      <td>50</td>\n",
       "      <td>110</td>\n",
       "      <td>80</td>\n",
       "      <td>95</td>\n",
       "      <td>2</td>\n",
       "      <td>False</td>\n",
       "    </tr>\n",
       "    <tr>\n",
       "      <th>4</th>\n",
       "      <td>311</td>\n",
       "      <td>Breloom</td>\n",
       "      <td>Grass</td>\n",
       "      <td>Fighting</td>\n",
       "      <td>60</td>\n",
       "      <td>130</td>\n",
       "      <td>80</td>\n",
       "      <td>60</td>\n",
       "      <td>60</td>\n",
       "      <td>70</td>\n",
       "      <td>3</td>\n",
       "      <td>False</td>\n",
       "    </tr>\n",
       "    <tr>\n",
       "      <th>5</th>\n",
       "      <td>509</td>\n",
       "      <td>Mantyke</td>\n",
       "      <td>Water</td>\n",
       "      <td>Flying</td>\n",
       "      <td>45</td>\n",
       "      <td>20</td>\n",
       "      <td>50</td>\n",
       "      <td>60</td>\n",
       "      <td>120</td>\n",
       "      <td>50</td>\n",
       "      <td>4</td>\n",
       "      <td>False</td>\n",
       "    </tr>\n",
       "    <tr>\n",
       "      <th>6</th>\n",
       "      <td>543</td>\n",
       "      <td>Heatran</td>\n",
       "      <td>Fire</td>\n",
       "      <td>Steel</td>\n",
       "      <td>91</td>\n",
       "      <td>90</td>\n",
       "      <td>106</td>\n",
       "      <td>130</td>\n",
       "      <td>106</td>\n",
       "      <td>77</td>\n",
       "      <td>4</td>\n",
       "      <td>True</td>\n",
       "    </tr>\n",
       "    <tr>\n",
       "      <th>7</th>\n",
       "      <td>549</td>\n",
       "      <td>Manaphy</td>\n",
       "      <td>Water</td>\n",
       "      <td>NaN</td>\n",
       "      <td>100</td>\n",
       "      <td>100</td>\n",
       "      <td>100</td>\n",
       "      <td>100</td>\n",
       "      <td>100</td>\n",
       "      <td>100</td>\n",
       "      <td>4</td>\n",
       "      <td>False</td>\n",
       "    </tr>\n",
       "    <tr>\n",
       "      <th>8</th>\n",
       "      <td>800</td>\n",
       "      <td>Volcanion</td>\n",
       "      <td>Fire</td>\n",
       "      <td>Water</td>\n",
       "      <td>80</td>\n",
       "      <td>110</td>\n",
       "      <td>120</td>\n",
       "      <td>130</td>\n",
       "      <td>90</td>\n",
       "      <td>70</td>\n",
       "      <td>6</td>\n",
       "      <td>True</td>\n",
       "    </tr>\n",
       "  </tbody>\n",
       "</table>\n",
       "</div>"
      ],
      "text/plain": [
       "     #       Name  Type 1    Type 2   HP  Attack  Defense  Sp. Atk  Sp. Def  \\\n",
       "0   93     Dodrio  Normal    Flying   60     110       70       60       60   \n",
       "1  151    Omastar    Rock     Water   70      60      125      115       70   \n",
       "2  213    Umbreon    Dark       NaN   95      65      110       60      130   \n",
       "3  248   Houndoom    Dark      Fire   75      90       50      110       80   \n",
       "4  311    Breloom   Grass  Fighting   60     130       80       60       60   \n",
       "5  509    Mantyke   Water    Flying   45      20       50       60      120   \n",
       "6  543    Heatran    Fire     Steel   91      90      106      130      106   \n",
       "7  549    Manaphy   Water       NaN  100     100      100      100      100   \n",
       "8  800  Volcanion    Fire     Water   80     110      120      130       90   \n",
       "\n",
       "   Speed  Generation  Legendary  \n",
       "0    100           1      False  \n",
       "1     55           1      False  \n",
       "2     65           2      False  \n",
       "3     95           2      False  \n",
       "4     70           3      False  \n",
       "5     50           4      False  \n",
       "6     77           4       True  \n",
       "7    100           4      False  \n",
       "8     70           6       True  "
      ]
     },
     "execution_count": 22,
     "metadata": {},
     "output_type": "execute_result"
    }
   ],
   "source": [
    "import random\n",
    "\n",
    "file_path = \".\\BLU01 - Messy Data\\data\\pokemons\\pokemons.csv\"\n",
    "\n",
    "# 1-Find number of rows\n",
    "n_total_rows = ! findstr /R /N \"^\" \".\\BLU01 - Messy Data\\data\\pokemons\\pokemons.csv\" | find /C \":\"\n",
    "n_total_rows = int(n_total_rows[0])\n",
    "\n",
    "\n",
    "n_rows_to_read = 10\n",
    "n_rows_to_skip = n_total_rows - n_rows_to_read\n",
    "\n",
    "random.seed(42) # this is to get always the same sample. can be removed if we want the sample to change\n",
    "list_of_rows_to_skip = random.sample(\n",
    "    range(1, n_total_rows-1), # this is a range from the first row after the header, to the last row on the file\n",
    "    n_rows_to_skip # this is the number of rows we want to sample, i.e, to skip\n",
    ")\n",
    "\n",
    "pd.read_csv( file_path , skiprows=list_of_rows_to_skip)"
   ]
  },
  {
   "cell_type": "markdown",
   "metadata": {},
   "source": [
    "**Read random percentage of lines**  \n",
    "\n",
    "1. Provide a lambda function to the `skiprows` argument of `read_csv()`.\n",
    "2. This function will be evaluated against each of the row indices.\n",
    "3. The row will be skipped if the function returns `True`."
   ]
  },
  {
   "cell_type": "code",
   "execution_count": 28,
   "metadata": {},
   "outputs": [
    {
     "data": {
      "text/html": [
       "<div>\n",
       "<style scoped>\n",
       "    .dataframe tbody tr th:only-of-type {\n",
       "        vertical-align: middle;\n",
       "    }\n",
       "\n",
       "    .dataframe tbody tr th {\n",
       "        vertical-align: top;\n",
       "    }\n",
       "\n",
       "    .dataframe thead th {\n",
       "        text-align: right;\n",
       "    }\n",
       "</style>\n",
       "<table border=\"1\" class=\"dataframe\">\n",
       "  <thead>\n",
       "    <tr style=\"text-align: right;\">\n",
       "      <th></th>\n",
       "      <th>19</th>\n",
       "      <th>Beedrill</th>\n",
       "      <th>Bug</th>\n",
       "      <th>Poison</th>\n",
       "      <th>65</th>\n",
       "      <th>90</th>\n",
       "      <th>40</th>\n",
       "      <th>45</th>\n",
       "      <th>80</th>\n",
       "      <th>75</th>\n",
       "      <th>1</th>\n",
       "      <th>False</th>\n",
       "    </tr>\n",
       "  </thead>\n",
       "  <tbody>\n",
       "    <tr>\n",
       "      <th>0</th>\n",
       "      <td>124</td>\n",
       "      <td>Kangaskhan</td>\n",
       "      <td>Normal</td>\n",
       "      <td>NaN</td>\n",
       "      <td>105</td>\n",
       "      <td>95</td>\n",
       "      <td>80</td>\n",
       "      <td>40</td>\n",
       "      <td>80</td>\n",
       "      <td>90</td>\n",
       "      <td>1</td>\n",
       "      <td>False</td>\n",
       "    </tr>\n",
       "    <tr>\n",
       "      <th>1</th>\n",
       "      <td>269</td>\n",
       "      <td>Mega Tyranitar</td>\n",
       "      <td>Rock</td>\n",
       "      <td>Dark</td>\n",
       "      <td>100</td>\n",
       "      <td>164</td>\n",
       "      <td>150</td>\n",
       "      <td>95</td>\n",
       "      <td>120</td>\n",
       "      <td>71</td>\n",
       "      <td>2</td>\n",
       "      <td>False</td>\n",
       "    </tr>\n",
       "    <tr>\n",
       "      <th>2</th>\n",
       "      <td>290</td>\n",
       "      <td>Silcoon</td>\n",
       "      <td>Bug</td>\n",
       "      <td>NaN</td>\n",
       "      <td>50</td>\n",
       "      <td>35</td>\n",
       "      <td>55</td>\n",
       "      <td>25</td>\n",
       "      <td>25</td>\n",
       "      <td>15</td>\n",
       "      <td>3</td>\n",
       "      <td>False</td>\n",
       "    </tr>\n",
       "    <tr>\n",
       "      <th>3</th>\n",
       "      <td>297</td>\n",
       "      <td>Seedot</td>\n",
       "      <td>Grass</td>\n",
       "      <td>NaN</td>\n",
       "      <td>40</td>\n",
       "      <td>40</td>\n",
       "      <td>50</td>\n",
       "      <td>30</td>\n",
       "      <td>30</td>\n",
       "      <td>30</td>\n",
       "      <td>3</td>\n",
       "      <td>False</td>\n",
       "    </tr>\n",
       "    <tr>\n",
       "      <th>4</th>\n",
       "      <td>368</td>\n",
       "      <td>Zangoose</td>\n",
       "      <td>Normal</td>\n",
       "      <td>NaN</td>\n",
       "      <td>73</td>\n",
       "      <td>115</td>\n",
       "      <td>60</td>\n",
       "      <td>60</td>\n",
       "      <td>60</td>\n",
       "      <td>90</td>\n",
       "      <td>3</td>\n",
       "      <td>False</td>\n",
       "    </tr>\n",
       "    <tr>\n",
       "      <th>5</th>\n",
       "      <td>394</td>\n",
       "      <td>Mega Absol</td>\n",
       "      <td>Dark</td>\n",
       "      <td>NaN</td>\n",
       "      <td>65</td>\n",
       "      <td>150</td>\n",
       "      <td>60</td>\n",
       "      <td>115</td>\n",
       "      <td>60</td>\n",
       "      <td>115</td>\n",
       "      <td>3</td>\n",
       "      <td>False</td>\n",
       "    </tr>\n",
       "    <tr>\n",
       "      <th>6</th>\n",
       "      <td>427</td>\n",
       "      <td>Mega Rayquaza</td>\n",
       "      <td>Dragon</td>\n",
       "      <td>Flying</td>\n",
       "      <td>105</td>\n",
       "      <td>180</td>\n",
       "      <td>100</td>\n",
       "      <td>180</td>\n",
       "      <td>100</td>\n",
       "      <td>115</td>\n",
       "      <td>3</td>\n",
       "      <td>True</td>\n",
       "    </tr>\n",
       "    <tr>\n",
       "      <th>7</th>\n",
       "      <td>481</td>\n",
       "      <td>Purugly</td>\n",
       "      <td>Normal</td>\n",
       "      <td>NaN</td>\n",
       "      <td>71</td>\n",
       "      <td>82</td>\n",
       "      <td>64</td>\n",
       "      <td>64</td>\n",
       "      <td>59</td>\n",
       "      <td>112</td>\n",
       "      <td>4</td>\n",
       "      <td>False</td>\n",
       "    </tr>\n",
       "    <tr>\n",
       "      <th>8</th>\n",
       "      <td>684</td>\n",
       "      <td>Golett</td>\n",
       "      <td>Ground</td>\n",
       "      <td>Ghost</td>\n",
       "      <td>59</td>\n",
       "      <td>74</td>\n",
       "      <td>50</td>\n",
       "      <td>35</td>\n",
       "      <td>50</td>\n",
       "      <td>35</td>\n",
       "      <td>5</td>\n",
       "      <td>False</td>\n",
       "    </tr>\n",
       "  </tbody>\n",
       "</table>\n",
       "</div>"
      ],
      "text/plain": [
       "    19        Beedrill     Bug  Poison   65   90   40   45   80   75  1  False\n",
       "0  124      Kangaskhan  Normal     NaN  105   95   80   40   80   90  1  False\n",
       "1  269  Mega Tyranitar    Rock    Dark  100  164  150   95  120   71  2  False\n",
       "2  290         Silcoon     Bug     NaN   50   35   55   25   25   15  3  False\n",
       "3  297          Seedot   Grass     NaN   40   40   50   30   30   30  3  False\n",
       "4  368        Zangoose  Normal     NaN   73  115   60   60   60   90  3  False\n",
       "5  394      Mega Absol    Dark     NaN   65  150   60  115   60  115  3  False\n",
       "6  427   Mega Rayquaza  Dragon  Flying  105  180  100  180  100  115  3   True\n",
       "7  481         Purugly  Normal     NaN   71   82   64   64   59  112  4  False\n",
       "8  684          Golett  Ground   Ghost   59   74   50   35   50   35  5  False"
      ]
     },
     "execution_count": 28,
     "metadata": {},
     "output_type": "execute_result"
    }
   ],
   "source": [
    "file_path = \".\\BLU01 - Messy Data\\data\\pokemons\\pokemons.csv\"\n",
    "\n",
    "# sample 1% of the rows\n",
    "p = 0.01\n",
    "\n",
    "random.seed(42)\n",
    "pd.read_csv( file_path, skiprows = lambda to_skip: random.random() > p )"
   ]
  },
  {
   "cell_type": "markdown",
   "metadata": {},
   "source": [
    "**Loading file chunk by chunk using `chunksize`**  \n",
    "\n",
    "By specifying a `chunksize` to `read_csv()`, the return value will be an iterable object of type `TextFileReader` instead of a `DataFrame`, although each element of the iterator is itself a DataFrame.  "
   ]
  },
  {
   "cell_type": "code",
   "execution_count": 65,
   "metadata": {},
   "outputs": [
    {
     "data": {
      "text/plain": [
       "<pandas.io.parsers.TextFileReader at 0x4659f0cb38>"
      ]
     },
     "execution_count": 65,
     "metadata": {},
     "output_type": "execute_result"
    }
   ],
   "source": [
    "file_path = \".\\BLU01 - Messy Data\\data\\exercises\\euribor_interest_rates.csv\"\n",
    "\n",
    "chunks_iter = pd.read_csv( file_path, sep = '|' , chunksize = 5)\n",
    "chunks_iter"
   ]
  },
  {
   "cell_type": "code",
   "execution_count": 66,
   "metadata": {},
   "outputs": [
    {
     "data": {
      "text/plain": [
       "[  Euribor 3 months Euribor 6 months Euribor 12 months  Years\n",
       " 0             3,34             3,52              3,88   1999\n",
       " 1             4,86             4,83              4,75   2000\n",
       " 2             3,29             3,26              3,34   2001\n",
       " 3             2,87             2,80              2,75   2002\n",
       " 4             2,12             2,17              2,31   2003,\n",
       "   Euribor 3 months Euribor 6 months Euribor 12 months  Years\n",
       " 5             2,16             2,22              2,36   2004\n",
       " 6             2,49             2,64              2,84   2005\n",
       " 7             3,73             3,85              4,03   2006\n",
       " 8             4,68             4,71              4,75   2007\n",
       " 9             2,89             2,97              3,05   2008,\n",
       "    Euribor 3 months Euribor 6 months Euribor 12 months  Years\n",
       " 10             0,70             0,99              1,25   2009\n",
       " 11             1,01             1,23              1,51   2010\n",
       " 12             1,36             1,62              1,95   2011\n",
       " 13             0,19             0,32              0,54   2012\n",
       " 14             0,29             0,39              0,56   2013,\n",
       "    Euribor 3 months Euribor 6 months Euribor 12 months  Years\n",
       " 15             0,08             0,17              0,33   2014\n",
       " 16            -0,13            -0,04              0,06   2015\n",
       " 17            -0,32            -0,22             -0,08   2016\n",
       " 18            -0,33            -0,27             -0,19   2017]"
      ]
     },
     "execution_count": 66,
     "metadata": {},
     "output_type": "execute_result"
    }
   ],
   "source": [
    "list(chunks_iter)"
   ]
  },
  {
   "cell_type": "markdown",
   "metadata": {},
   "source": [
    "**note**: If we need to go through the data using a for loop, the iterator will work just for the first time. For more iterations we need to create more iterators or convert the iterator into a list as above."
   ]
  },
  {
   "cell_type": "code",
   "execution_count": 72,
   "metadata": {
    "scrolled": true
   },
   "outputs": [
    {
     "name": "stdout",
     "output_type": "stream",
     "text": [
      "  Euribor 3 months Euribor 6 months Euribor 12 months  Years\n",
      "0             3,34             3,52              3,88   1999\n",
      "1             4,86             4,83              4,75   2000\n",
      "2             3,29             3,26              3,34   2001\n",
      "3             2,87             2,80              2,75   2002\n",
      "4             2,12             2,17              2,31   2003\n",
      "  Euribor 3 months Euribor 6 months Euribor 12 months  Years\n",
      "5             2,16             2,22              2,36   2004\n",
      "6             2,49             2,64              2,84   2005\n",
      "7             3,73             3,85              4,03   2006\n",
      "8             4,68             4,71              4,75   2007\n",
      "9             2,89             2,97              3,05   2008\n",
      "<class 'pandas.core.frame.DataFrame'>\n",
      "<class 'pandas.core.frame.DataFrame'>\n"
     ]
    }
   ],
   "source": [
    "chunks_iter1 = pd.read_csv( file_path, sep = '|' , chunksize = 5, nrows=10)\n",
    "chunks_iter2 = pd.read_csv( file_path, sep = '|' , chunksize = 5, nrows=10)\n",
    "\n",
    "for data_chunk in chunks_iter1:\n",
    "    print(data_chunk)\n",
    "\n",
    "for data_chunk in chunks_iter2:\n",
    "    print(type(data_chunk))"
   ]
  },
  {
   "cell_type": "code",
   "execution_count": 84,
   "metadata": {},
   "outputs": [
    {
     "data": {
      "text/html": [
       "<div>\n",
       "<style scoped>\n",
       "    .dataframe tbody tr th:only-of-type {\n",
       "        vertical-align: middle;\n",
       "    }\n",
       "\n",
       "    .dataframe tbody tr th {\n",
       "        vertical-align: top;\n",
       "    }\n",
       "\n",
       "    .dataframe thead th {\n",
       "        text-align: right;\n",
       "    }\n",
       "</style>\n",
       "<table border=\"1\" class=\"dataframe\">\n",
       "  <thead>\n",
       "    <tr style=\"text-align: right;\">\n",
       "      <th></th>\n",
       "      <th>Euribor 3 months</th>\n",
       "      <th>Euribor 6 months</th>\n",
       "      <th>Euribor 12 months</th>\n",
       "      <th>Years</th>\n",
       "    </tr>\n",
       "  </thead>\n",
       "  <tbody>\n",
       "    <tr>\n",
       "      <th>13</th>\n",
       "      <td>0,19</td>\n",
       "      <td>0,32</td>\n",
       "      <td>0,54</td>\n",
       "      <td>2012</td>\n",
       "    </tr>\n",
       "    <tr>\n",
       "      <th>14</th>\n",
       "      <td>0,29</td>\n",
       "      <td>0,39</td>\n",
       "      <td>0,56</td>\n",
       "      <td>2013</td>\n",
       "    </tr>\n",
       "    <tr>\n",
       "      <th>15</th>\n",
       "      <td>0,08</td>\n",
       "      <td>0,17</td>\n",
       "      <td>0,33</td>\n",
       "      <td>2014</td>\n",
       "    </tr>\n",
       "    <tr>\n",
       "      <th>16</th>\n",
       "      <td>-0,13</td>\n",
       "      <td>-0,04</td>\n",
       "      <td>0,06</td>\n",
       "      <td>2015</td>\n",
       "    </tr>\n",
       "    <tr>\n",
       "      <th>17</th>\n",
       "      <td>-0,32</td>\n",
       "      <td>-0,22</td>\n",
       "      <td>-0,08</td>\n",
       "      <td>2016</td>\n",
       "    </tr>\n",
       "  </tbody>\n",
       "</table>\n",
       "</div>"
      ],
      "text/plain": [
       "   Euribor 3 months Euribor 6 months Euribor 12 months  Years\n",
       "13             0,19             0,32              0,54   2012\n",
       "14             0,29             0,39              0,56   2013\n",
       "15             0,08             0,17              0,33   2014\n",
       "16            -0,13            -0,04              0,06   2015\n",
       "17            -0,32            -0,22             -0,08   2016"
      ]
     },
     "execution_count": 84,
     "metadata": {},
     "output_type": "execute_result"
    }
   ],
   "source": [
    "chunks_iter = pd.read_csv( file_path, sep = '|' , chunksize = 5)\n",
    "\n",
    "chunk_df_list = []\n",
    "for data_chunk in chunks_iter:\n",
    "    #data_chunk_filtered = data_chunk.loc[data_chunk['Years'] > 2011,:]\n",
    "    data_chunk_filtered = data_chunk[data_chunk['Years'] > 2011]\n",
    "    chunk_df_list.append(data_chunk_filtered)\n",
    "\n",
    "final_pd = pd.concat(chunk_df_list, axis=0)\n",
    "final_pd.head()"
   ]
  }
 ],
 "metadata": {
  "kernelspec": {
   "display_name": "Python 3",
   "language": "python",
   "name": "python3"
  },
  "language_info": {
   "codemirror_mode": {
    "name": "ipython",
    "version": 3
   },
   "file_extension": ".py",
   "mimetype": "text/x-python",
   "name": "python",
   "nbconvert_exporter": "python",
   "pygments_lexer": "ipython3",
   "version": "3.7.1"
  }
 },
 "nbformat": 4,
 "nbformat_minor": 2
}
