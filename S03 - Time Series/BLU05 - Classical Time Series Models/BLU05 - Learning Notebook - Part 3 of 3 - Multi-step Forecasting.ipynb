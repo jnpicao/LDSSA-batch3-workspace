{
 "cells": [
  {
   "cell_type": "markdown",
   "metadata": {},
   "source": [
    "# BLU05 - Learning Notebook - Part 3 of 3 - Multi-step Forecasting"
   ]
  },
  {
   "cell_type": "code",
   "execution_count": 1,
   "metadata": {},
   "outputs": [],
   "source": [
    "import utils \n",
    "from sklearn.metrics import mean_squared_error\n",
    "from sklearn.metrics import mean_absolute_error\n",
    "import pandas as pd \n",
    "import numpy as np \n",
    "import statsmodels.api as sm  # <--- Yay! API! \n",
    "%matplotlib inline \n",
    "from sklearn.linear_model import LinearRegression\n",
    "import matplotlib.pyplot as plt\n",
    "plt.rcParams[\"figure.figsize\"] = (16, 5)\n",
    "from statsmodels.tsa.statespace.sarimax import SARIMAX\n",
    "\n",
    "import itertools\n",
    "\n",
    "import warnings\n",
    "warnings.simplefilter(action='ignore', category=FutureWarning)   \n",
    "warnings.filterwarnings(\"ignore\") # specify to ignore warning messages"
   ]
  },
  {
   "cell_type": "code",
   "execution_count": 2,
   "metadata": {},
   "outputs": [],
   "source": [
    "def get_aic(series_, params):\n",
    "    # extract the params \n",
    "    p = params[0] \n",
    "    d = params[1] \n",
    "    q = params[2] \n",
    "    P = params[3]\n",
    "    D = params[4] \n",
    "    Q = params[5]\n",
    "    S = params[6]\n",
    "    \n",
    "    # fit a model with those params \n",
    "    model = SARIMAX(series_,order=(p, d, q), seasonal_order=(P, D, Q, S),\n",
    "                                     enforce_stationarity=False,\n",
    "                                     enforce_invertibility=False)\n",
    "    \n",
    "    # fit the model\n",
    "    results = model.fit(maxiter=200)\n",
    "    \n",
    "    # return the aic \n",
    "    return results.aic"
   ]
  },
  {
   "cell_type": "code",
   "execution_count": 3,
   "metadata": {},
   "outputs": [],
   "source": [
    "airlines = utils.load_airline_data()\n",
    "airlines_logged = np.log(airlines)"
   ]
  },
  {
   "cell_type": "markdown",
   "metadata": {},
   "source": [
    "## 1. Train-test Split"
   ]
  },
  {
   "cell_type": "markdown",
   "metadata": {},
   "source": [
    "For multi-step prediction we're going to formulate the problem in a similar manner to a common ML problem. So the first thing to do is to separate the train and test, to make sure we don't leak any information. Sometimes simply looking at the test set can give us intuition that we shouldn't have. Remember that the objective of evaluating a model is to obtain a good estimation of the generalization error the model will have to never before seen data. For that, we need to pretend we don't know there is a test dataset, and use it only at the end as a good estimation of the generalization error.\n",
    "\n",
    "Also, in timeseries dataset splits need to be done taking into account the temporal nature of the data. Basically, this means that in a simple train-test split we leave the first X months for training and the last Y months for testing."
   ]
  },
  {
   "cell_type": "code",
   "execution_count": 4,
   "metadata": {},
   "outputs": [],
   "source": [
    "train = airlines_logged[:-24]\n",
    "test = airlines_logged[-24:]"
   ]
  },
  {
   "cell_type": "markdown",
   "metadata": {},
   "source": [
    "## 2. Hyper Parameter Optimization"
   ]
  },
  {
   "cell_type": "markdown",
   "metadata": {},
   "source": [
    "We're also going to need tunning for the multi-step forecasting problem, but it is going to be slightly different. Remember that for the one-step forecasting we used AIC because it accounted for overfitting. Well, the problem is that the AIC given by the SARIMAX fit refers to one-step predictions. An alternative for multi-step forecasting is going for a more ML oriented approach, using a validation set and another metric, such as the MAE."
   ]
  },
  {
   "cell_type": "code",
   "execution_count": 5,
   "metadata": {},
   "outputs": [],
   "source": [
    "p = d = q = P = D = Q = range(0, 2)   #  <--- all of the paramters between 0 and 2 \n",
    "S = [7, 12] # <-- let's pretend we have a couple of hypothesis \n",
    "params_combinations = list(itertools.product(p, d, q, P, D, Q, S))\n",
    "inputs = [[x[0], x[1], x[2], x[3], x[4], x[5], x[6]] for x in params_combinations]"
   ]
  },
  {
   "cell_type": "markdown",
   "metadata": {},
   "source": [
    "_dejavu?_"
   ]
  },
  {
   "cell_type": "markdown",
   "metadata": {},
   "source": [
    "For now just take this for granted, we're tunning the parameters using grid search. Basically, we find the parameters that give the best MAE for a validation set. This validation set should be the same lenght as the one we're going to before forecasting with the multi-step SARIMAX. In this case, 24 months."
   ]
  },
  {
   "cell_type": "code",
   "execution_count": 6,
   "metadata": {},
   "outputs": [],
   "source": [
    "def get_mae(series_, params, prediction_window):\n",
    "    p = params[0] \n",
    "    d = params[1] \n",
    "    q = params[2] \n",
    "    P = params[3]\n",
    "    D = params[4] \n",
    "    Q = params[5]\n",
    "    S = params[6]\n",
    "    \n",
    "    lenght = len(series_)\n",
    "    series_train = series_[:-prediction_window]\n",
    "    series_test = series_[-prediction_window:]\n",
    "    \n",
    "    model = sm.tsa.statespace.SARIMAX(series_train,\n",
    "                                      order=(p, d, q),\n",
    "                                      seasonal_order=(P, D, Q, S),\n",
    "                                      enforce_stationarity=False,\n",
    "                                      enforce_invertibility=False)\n",
    "\n",
    "    results = model.fit(maxiter=500)\n",
    "    prediction = results.get_forecast(steps=prediction_window)\n",
    "    predicted_mean_logged = prediction.predicted_mean\n",
    "    predicted_mean = predicted_mean_logged\n",
    "    \n",
    "    return mean_absolute_error(np.exp(series_test),np.exp(predicted_mean))"
   ]
  },
  {
   "cell_type": "code",
   "execution_count": 7,
   "metadata": {},
   "outputs": [
    {
     "name": "stdout",
     "output_type": "stream",
     "text": [
      "Wall time: 34.7 s\n"
     ]
    }
   ],
   "source": [
    "%%time \n",
    "\n",
    "prediction_window = 24\n",
    "mae_scores = {}\n",
    "params_index = {}\n",
    "\n",
    "for i in range(len(inputs)):\n",
    "        param_set = inputs[i]\n",
    "        mae = get_mae(train, param_set, prediction_window) \n",
    "        mae_scores[i] = mae\n",
    "        params_index[i] = param_set"
   ]
  },
  {
   "cell_type": "markdown",
   "metadata": {},
   "source": [
    "Wrangle these results into a usable dataframe \n",
    "\n",
    "_(note: don't worry if you don't understand this code too well for now)_"
   ]
  },
  {
   "cell_type": "code",
   "execution_count": 8,
   "metadata": {
    "scrolled": true
   },
   "outputs": [
    {
     "data": {
      "text/html": [
       "<div>\n",
       "<style scoped>\n",
       "    .dataframe tbody tr th:only-of-type {\n",
       "        vertical-align: middle;\n",
       "    }\n",
       "\n",
       "    .dataframe tbody tr th {\n",
       "        vertical-align: top;\n",
       "    }\n",
       "\n",
       "    .dataframe thead th {\n",
       "        text-align: right;\n",
       "    }\n",
       "</style>\n",
       "<table border=\"1\" class=\"dataframe\">\n",
       "  <thead>\n",
       "    <tr style=\"text-align: right;\">\n",
       "      <th></th>\n",
       "      <th>p</th>\n",
       "      <th>d</th>\n",
       "      <th>q</th>\n",
       "      <th>P</th>\n",
       "      <th>D</th>\n",
       "      <th>Q</th>\n",
       "      <th>S</th>\n",
       "      <th>mae</th>\n",
       "    </tr>\n",
       "  </thead>\n",
       "  <tbody>\n",
       "    <tr>\n",
       "      <th>79</th>\n",
       "      <td>1</td>\n",
       "      <td>0</td>\n",
       "      <td>0</td>\n",
       "      <td>1</td>\n",
       "      <td>1</td>\n",
       "      <td>1</td>\n",
       "      <td>12</td>\n",
       "      <td>11.045279</td>\n",
       "    </tr>\n",
       "    <tr>\n",
       "      <th>77</th>\n",
       "      <td>1</td>\n",
       "      <td>0</td>\n",
       "      <td>0</td>\n",
       "      <td>1</td>\n",
       "      <td>1</td>\n",
       "      <td>0</td>\n",
       "      <td>12</td>\n",
       "      <td>11.095412</td>\n",
       "    </tr>\n",
       "    <tr>\n",
       "      <th>29</th>\n",
       "      <td>0</td>\n",
       "      <td>0</td>\n",
       "      <td>1</td>\n",
       "      <td>1</td>\n",
       "      <td>1</td>\n",
       "      <td>0</td>\n",
       "      <td>12</td>\n",
       "      <td>11.785543</td>\n",
       "    </tr>\n",
       "    <tr>\n",
       "      <th>69</th>\n",
       "      <td>1</td>\n",
       "      <td>0</td>\n",
       "      <td>0</td>\n",
       "      <td>0</td>\n",
       "      <td>1</td>\n",
       "      <td>0</td>\n",
       "      <td>12</td>\n",
       "      <td>11.844365</td>\n",
       "    </tr>\n",
       "    <tr>\n",
       "      <th>71</th>\n",
       "      <td>1</td>\n",
       "      <td>0</td>\n",
       "      <td>0</td>\n",
       "      <td>0</td>\n",
       "      <td>1</td>\n",
       "      <td>1</td>\n",
       "      <td>12</td>\n",
       "      <td>12.395760</td>\n",
       "    </tr>\n",
       "  </tbody>\n",
       "</table>\n",
       "</div>"
      ],
      "text/plain": [
       "    p  d  q  P  D  Q   S        mae\n",
       "79  1  0  0  1  1  1  12  11.045279\n",
       "77  1  0  0  1  1  0  12  11.095412\n",
       "29  0  0  1  1  1  0  12  11.785543\n",
       "69  1  0  0  0  1  0  12  11.844365\n",
       "71  1  0  0  0  1  1  12  12.395760"
      ]
     },
     "execution_count": 8,
     "metadata": {},
     "output_type": "execute_result"
    }
   ],
   "source": [
    "temp = pd.DataFrame(params_index).T\n",
    "temp.columns = ['p', 'd', 'q', 'P', 'D', 'Q', 'S']\n",
    "temp['mae'] = pd.Series(mae_scores)\n",
    "temp.sort_values('mae').head()"
   ]
  },
  {
   "cell_type": "markdown",
   "metadata": {},
   "source": [
    "Great! What were the best params? "
   ]
  },
  {
   "cell_type": "code",
   "execution_count": 9,
   "metadata": {
    "scrolled": false
   },
   "outputs": [
    {
     "data": {
      "text/plain": [
       "p       1.000000\n",
       "d       0.000000\n",
       "q       0.000000\n",
       "P       1.000000\n",
       "D       1.000000\n",
       "Q       1.000000\n",
       "S      12.000000\n",
       "mae    11.045279\n",
       "Name: 79, dtype: float64"
      ]
     },
     "execution_count": 9,
     "metadata": {},
     "output_type": "execute_result"
    }
   ],
   "source": [
    "best_model_params = temp.mae.idxmin()\n",
    "temp.loc[best_model_params]"
   ]
  },
  {
   "cell_type": "markdown",
   "metadata": {},
   "source": [
    "Let's also see what we would get using the AIC on the train set"
   ]
  },
  {
   "cell_type": "code",
   "execution_count": 10,
   "metadata": {},
   "outputs": [
    {
     "name": "stdout",
     "output_type": "stream",
     "text": [
      "Wall time: 30.6 s\n"
     ]
    }
   ],
   "source": [
    "%%time \n",
    "\n",
    "aic_scores = {}\n",
    "params_index = {}\n",
    "\n",
    "for i in range(len(inputs)):\n",
    "    try: \n",
    "        param_set = inputs[i]\n",
    "        aic = get_aic(train, param_set) \n",
    "        aic_scores[i] = aic\n",
    "        params_index[i] = param_set\n",
    "    \n",
    "    # this will fail sometimes with impossible parameter combinations. \n",
    "    # ... and I'm too lazy to remember what they are. \n",
    "    except Exception as e: \n",
    "        continue"
   ]
  },
  {
   "cell_type": "code",
   "execution_count": 11,
   "metadata": {},
   "outputs": [
    {
     "data": {
      "text/html": [
       "<div>\n",
       "<style scoped>\n",
       "    .dataframe tbody tr th:only-of-type {\n",
       "        vertical-align: middle;\n",
       "    }\n",
       "\n",
       "    .dataframe tbody tr th {\n",
       "        vertical-align: top;\n",
       "    }\n",
       "\n",
       "    .dataframe thead th {\n",
       "        text-align: right;\n",
       "    }\n",
       "</style>\n",
       "<table border=\"1\" class=\"dataframe\">\n",
       "  <thead>\n",
       "    <tr style=\"text-align: right;\">\n",
       "      <th></th>\n",
       "      <th>p</th>\n",
       "      <th>d</th>\n",
       "      <th>q</th>\n",
       "      <th>P</th>\n",
       "      <th>D</th>\n",
       "      <th>Q</th>\n",
       "      <th>S</th>\n",
       "      <th>aic</th>\n",
       "    </tr>\n",
       "  </thead>\n",
       "  <tbody>\n",
       "    <tr>\n",
       "      <th>75</th>\n",
       "      <td>1</td>\n",
       "      <td>0</td>\n",
       "      <td>0</td>\n",
       "      <td>1</td>\n",
       "      <td>0</td>\n",
       "      <td>1</td>\n",
       "      <td>12</td>\n",
       "      <td>-380.289735</td>\n",
       "    </tr>\n",
       "    <tr>\n",
       "      <th>91</th>\n",
       "      <td>1</td>\n",
       "      <td>0</td>\n",
       "      <td>1</td>\n",
       "      <td>1</td>\n",
       "      <td>0</td>\n",
       "      <td>1</td>\n",
       "      <td>12</td>\n",
       "      <td>-379.970084</td>\n",
       "    </tr>\n",
       "    <tr>\n",
       "      <th>107</th>\n",
       "      <td>1</td>\n",
       "      <td>1</td>\n",
       "      <td>0</td>\n",
       "      <td>1</td>\n",
       "      <td>0</td>\n",
       "      <td>1</td>\n",
       "      <td>12</td>\n",
       "      <td>-378.605435</td>\n",
       "    </tr>\n",
       "    <tr>\n",
       "      <th>59</th>\n",
       "      <td>0</td>\n",
       "      <td>1</td>\n",
       "      <td>1</td>\n",
       "      <td>1</td>\n",
       "      <td>0</td>\n",
       "      <td>1</td>\n",
       "      <td>12</td>\n",
       "      <td>-374.761173</td>\n",
       "    </tr>\n",
       "    <tr>\n",
       "      <th>123</th>\n",
       "      <td>1</td>\n",
       "      <td>1</td>\n",
       "      <td>1</td>\n",
       "      <td>1</td>\n",
       "      <td>0</td>\n",
       "      <td>1</td>\n",
       "      <td>12</td>\n",
       "      <td>-373.159446</td>\n",
       "    </tr>\n",
       "  </tbody>\n",
       "</table>\n",
       "</div>"
      ],
      "text/plain": [
       "     p  d  q  P  D  Q   S         aic\n",
       "75   1  0  0  1  0  1  12 -380.289735\n",
       "91   1  0  1  1  0  1  12 -379.970084\n",
       "107  1  1  0  1  0  1  12 -378.605435\n",
       "59   0  1  1  1  0  1  12 -374.761173\n",
       "123  1  1  1  1  0  1  12 -373.159446"
      ]
     },
     "execution_count": 11,
     "metadata": {},
     "output_type": "execute_result"
    }
   ],
   "source": [
    "temp = pd.DataFrame(params_index).T\n",
    "temp.columns = ['p', 'd', 'q', 'P', 'D', 'Q', 'S']\n",
    "temp['aic'] = pd.Series(aic_scores)\n",
    "temp.sort_values('aic').head()"
   ]
  },
  {
   "cell_type": "code",
   "execution_count": 12,
   "metadata": {},
   "outputs": [
    {
     "data": {
      "text/plain": [
       "p        1.000000\n",
       "d        0.000000\n",
       "q        0.000000\n",
       "P        1.000000\n",
       "D        0.000000\n",
       "Q        1.000000\n",
       "S       12.000000\n",
       "aic   -380.289735\n",
       "Name: 75, dtype: float64"
      ]
     },
     "execution_count": 12,
     "metadata": {},
     "output_type": "execute_result"
    }
   ],
   "source": [
    "best_model_params = temp.aic.idxmin()\n",
    "temp.loc[best_model_params]"
   ]
  },
  {
   "cell_type": "markdown",
   "metadata": {},
   "source": [
    "Hmm, some differences, great! Let's proceed to multi-step forecasting then."
   ]
  },
  {
   "cell_type": "markdown",
   "metadata": {},
   "source": [
    "## 3. Forecasting"
   ]
  },
  {
   "cell_type": "markdown",
   "metadata": {},
   "source": [
    "Previously we used `get_prediction()` to get one-step ahead predictions. Now we need to use `get_forecast()` to get multi-step predictions.\n",
    "\n",
    "**PS:** on the `get_prediction()` method there is a dynamic parameter which is supposed to simulate a forecast. **Do not use this**. This means you are training the model on the whole dataset, and then forecasting. This is wrong because you trained your model with data that it supposedly had never seen. There is no situation in which you should use this, always go for the method below."
   ]
  },
  {
   "cell_type": "markdown",
   "metadata": {},
   "source": [
    "Let's try first with the parameters given by the MAE validation set methodology"
   ]
  },
  {
   "cell_type": "code",
   "execution_count": 44,
   "metadata": {},
   "outputs": [],
   "source": [
    "mae_model = sm.tsa.statespace.SARIMAX(train,\n",
    "                                      order=(1, 1, 1),\n",
    "                                      seasonal_order=(1, 1, 1, 12))\n",
    "\n",
    "results = mae_model.fit()\n",
    "predictions_mae_model = results.get_forecast(steps=24)"
   ]
  },
  {
   "cell_type": "code",
   "execution_count": 47,
   "metadata": {},
   "outputs": [
    {
     "data": {
      "image/png": "[encoded data removed]",
      "text/plain": [
       "<Figure size 432x288 with 1 Axes>"
      ]
     },
     "metadata": {
      "needs_background": "light"
     },
     "output_type": "display_data"
    }
   ],
   "source": [
    "plt.plot(airlines, label='original')\n",
    "plt.plot(np.exp(predictions_mae_model.predicted_mean), label='arima')\n",
    "plt.legend()\n",
    "plt.show();"
   ]
  },
  {
   "cell_type": "markdown",
   "metadata": {},
   "source": [
    "Now with the parameters given by the AIC:"
   ]
  },
  {
   "cell_type": "code",
   "execution_count": 15,
   "metadata": {},
   "outputs": [],
   "source": [
    "aic_model = sm.tsa.statespace.SARIMAX(train,\n",
    "                                      order=(1, 0, 0),\n",
    "                                      seasonal_order=(1, 0, 1, 12))\n",
    "\n",
    "results = aic_model.fit()\n",
    "predictions_aic_model = results.get_forecast(steps=24)"
   ]
  },
  {
   "cell_type": "code",
   "execution_count": 16,
   "metadata": {},
   "outputs": [
    {
     "data": {
      "image/png": "[encoded data removed]",
      "text/plain": [
       "<Figure size 432x288 with 1 Axes>"
      ]
     },
     "metadata": {
      "needs_background": "light"
     },
     "output_type": "display_data"
    }
   ],
   "source": [
    "plt.plot(airlines, label='original')\n",
    "plt.plot(np.exp(predictions_aic_model.predicted_mean), label='arima')\n",
    "plt.show();"
   ]
  },
  {
   "cell_type": "markdown",
   "metadata": {},
   "source": [
    "The AIC seems considerably worse, let's quantify this!"
   ]
  },
  {
   "cell_type": "markdown",
   "metadata": {},
   "source": [
    "## 4. Evaluation"
   ]
  },
  {
   "cell_type": "markdown",
   "metadata": {},
   "source": [
    "Using the MAE below we corroborate our intuition, the tunning based on the MAE and validation set gave better test set results. Note that this is not guaranteed to always happen."
   ]
  },
  {
   "cell_type": "code",
   "execution_count": 46,
   "metadata": {},
   "outputs": [
    {
     "data": {
      "text/plain": [
       "23.244740701873827"
      ]
     },
     "execution_count": 46,
     "metadata": {},
     "output_type": "execute_result"
    }
   ],
   "source": [
    "mean_absolute_error(airlines[-24:],np.exp(predictions_mae_model.predicted_mean))"
   ]
  },
  {
   "cell_type": "code",
   "execution_count": 18,
   "metadata": {},
   "outputs": [
    {
     "data": {
      "text/plain": [
       "41.0885840343113"
      ]
     },
     "execution_count": 18,
     "metadata": {},
     "output_type": "execute_result"
    }
   ],
   "source": [
    "mean_absolute_error(airlines[-24:],np.exp(predictions_aic_model.predicted_mean))"
   ]
  },
  {
   "cell_type": "markdown",
   "metadata": {},
   "source": [
    "To see how good these models are we should also use a multi-step timeseries forecasting baseline. A common one is simply the trend of the time series. You may recall from the last BLU that we can use a linear regression to get it:"
   ]
  },
  {
   "cell_type": "code",
   "execution_count": 19,
   "metadata": {},
   "outputs": [],
   "source": [
    "# don't worry if you don't understand this first step, it's quite simple:  \n",
    "# X will just be the 0, 1, 2, 3 on the left instead of the dates\n",
    "X = airlines.reset_index().index.values.reshape(-1, 1)\n",
    "X_train = X[:-24]\n",
    "X_predict = X[-24:]"
   ]
  },
  {
   "cell_type": "code",
   "execution_count": 48,
   "metadata": {},
   "outputs": [],
   "source": [
    "slr = LinearRegression(fit_intercept=True)\n",
    "\n",
    "slr.fit(X_train, airlines[:-24])\n",
    "\n",
    "predict_linear_trend = pd.Series(slr.predict(X_predict), index=airlines[-24:].index)"
   ]
  },
  {
   "cell_type": "code",
   "execution_count": 21,
   "metadata": {},
   "outputs": [
    {
     "data": {
      "image/png": "[encoded data removed]",
      "text/plain": [
       "<Figure size 432x288 with 1 Axes>"
      ]
     },
     "metadata": {
      "needs_background": "light"
     },
     "output_type": "display_data"
    }
   ],
   "source": [
    "airlines.plot(label=\"original data\")\n",
    "predict_linear_trend.plot(label=\"linear trend\")\n",
    "plt.legend();"
   ]
  },
  {
   "cell_type": "markdown",
   "metadata": {},
   "source": [
    "Let's compare the MAEs between the linear regression and the SARIMAX"
   ]
  },
  {
   "cell_type": "code",
   "execution_count": 22,
   "metadata": {},
   "outputs": [
    {
     "data": {
      "text/plain": [
       "56.17092116507619"
      ]
     },
     "execution_count": 22,
     "metadata": {},
     "output_type": "execute_result"
    }
   ],
   "source": [
    "mean_absolute_error(airlines[-24:],predict_linear_trend)"
   ]
  },
  {
   "cell_type": "markdown",
   "metadata": {},
   "source": [
    "Quite an improvement!"
   ]
  },
  {
   "cell_type": "markdown",
   "metadata": {},
   "source": [
    "## 4. Confidence Intervals"
   ]
  },
  {
   "cell_type": "markdown",
   "metadata": {},
   "source": [
    "Also, have we told you that you can also get confidence intervals for free? Here you go!"
   ]
  },
  {
   "cell_type": "code",
   "execution_count": 23,
   "metadata": {},
   "outputs": [],
   "source": [
    "def plot_predictions(series_, pred_):\n",
    "    \n",
    "    \"\"\" \n",
    "    Remember Sam told us to build functions as we go? Let's not write this stuff again. \n",
    "    \"\"\"\n",
    "    \n",
    "    mean_predictions_ = np.exp(pred_.predicted_mean)\n",
    "\n",
    "    pred_ci_ = np.exp(pred_.conf_int())\n",
    "    \n",
    "    series_.plot(label='observed')\n",
    "    mean_predictions_.plot(label='predicted', \n",
    "                           alpha=.7)\n",
    "\n",
    "    plt.fill_between(pred_ci_.index,\n",
    "                     pred_ci_['lower passengers_thousands'],\n",
    "                     pred_ci_['upper passengers_thousands'], \n",
    "                     color='k', \n",
    "                     alpha=.2)\n",
    "\n",
    "    plt.ylim([0, 700])\n",
    "    plt.legend()\n",
    "    plt.show()"
   ]
  },
  {
   "cell_type": "code",
   "execution_count": 24,
   "metadata": {},
   "outputs": [
    {
     "data": {
      "image/png": "[encoded data removed]",
      "text/plain": [
       "<Figure size 432x288 with 1 Axes>"
      ]
     },
     "metadata": {
      "needs_background": "light"
     },
     "output_type": "display_data"
    }
   ],
   "source": [
    "plot_predictions(airlines,predictions_mae_model)"
   ]
  },
  {
   "cell_type": "markdown",
   "metadata": {},
   "source": [
    "Confidence intervals can be very useful for business-driven decisions, in most real scenarios we're not only interested in the mean but also in the uncertainty in our predictions."
   ]
  },
  {
   "cell_type": "markdown",
   "metadata": {},
   "source": [
    "If you want to play more with classical timeseries models be sure to check the optional part 4 in this BLU which contains an excelent interactive example."
   ]
  }
 ],
 "metadata": {
  "kernelspec": {
   "display_name": "Python 3",
   "language": "python",
   "name": "python3"
  },
  "language_info": {
   "codemirror_mode": {
    "name": "ipython",
    "version": 3
   },
   "file_extension": ".py",
   "mimetype": "text/x-python",
   "name": "python",
   "nbconvert_exporter": "python",
   "pygments_lexer": "ipython3",
   "version": "3.7.3"
  }
 },
 "nbformat": 4,
 "nbformat_minor": 2
}
