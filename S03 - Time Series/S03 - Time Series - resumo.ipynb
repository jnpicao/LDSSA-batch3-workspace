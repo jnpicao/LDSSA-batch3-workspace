{
 "cells": [
  {
   "cell_type": "code",
   "execution_count": 146,
   "metadata": {},
   "outputs": [],
   "source": [
    "import pandas as pd\n",
    "import numpy as np\n",
    "import matplotlib.pyplot as plt\n",
    "\n",
    "from sklearn.linear_model import LinearRegression\n",
    "from sklearn.metrics import mean_absolute_error\n",
    "from sklearn.model_selection import ParameterGrid\n",
    "from sklearn.ensemble import GradientBoostingRegressor\n",
    "from sklearn.model_selection import TimeSeriesSplit\n",
    "from sklearn.model_selection import KFold\n",
    "\n",
    "from random import gauss\n",
    "from random import seed\n",
    "\n",
    "from statsmodels.tsa.seasonal import seasonal_decompose\n",
    "from statsmodels.tsa.stattools import acf\n",
    "from statsmodels.graphics.tsaplots import plot_acf\n",
    "from statsmodels.tsa.stattools import pacf\n",
    "from statsmodels.graphics.tsaplots import plot_pacf\n",
    "from statsmodels.tsa.stattools import adfuller\n",
    "\n",
    "from statsmodels.tsa.arima_model import ARIMA\n",
    "from statsmodels.tsa.statespace.sarimax import SARIMAX\n",
    "\n",
    "import functions"
   ]
  },
  {
   "cell_type": "markdown",
   "metadata": {},
   "source": [
    "# Questions:  \n",
    "\n",
    "* What's the relation between seasonality and lag correlation (autocorrelation)? Does it make sense to use autocorrelation to assess seasonality when we have a trend?\n",
    "* If we set `seasonal_order=(0, 0, 0, 0)` is SARIMAX exactly the same as ARIMA?  \n",
    "* SARIMAX `results.get_prediction()` returns a `statsmodels.tsa.statespace.mlemodel.PredictionResultsWrapper` object but looking to the [documentation](http://www.statsmodels.org/dev/generated/generated/statsmodels.tsa.statespace.mlemodel.MLEResults.get_prediction.html#statsmodels.tsa.statespace.mlemodel.MLEResults.get_prediction) I was expecting a numpy array!\n",
    "* "
   ]
  },
  {
   "cell_type": "markdown",
   "metadata": {},
   "source": [
    "# Useful pandas documentation for time series  \n",
    "\n",
    "* [Time series / date functionality](https://pandas.pydata.org/pandas-docs/stable/user_guide/timeseries.html)  \n",
    "* [Essential basic functionality](https://pandas.pydata.org/pandas-docs/stable/getting_started/basics.html#dt-accessor)\n",
    "* [MultiIndex / advanced indexing](https://pandas.pydata.org/pandas-docs/stable/user_guide/advanced.html)\n",
    "* [Index objects](https://pandas.pydata.org/pandas-docs/stable/reference/indexing.html)\n",
    "* [Resampling](https://pandas.pydata.org/pandas-docs/stable/reference/resampling.html)"
   ]
  },
  {
   "cell_type": "markdown",
   "metadata": {},
   "source": [
    "# BLU04 - Pandas for Timeseries"
   ]
  },
  {
   "cell_type": "code",
   "execution_count": 2,
   "metadata": {},
   "outputs": [],
   "source": [
    "data = pd.read_csv('BLU04 - Time Series Concepts/data/bitcoin.csv')"
   ]
  },
  {
   "cell_type": "code",
   "execution_count": 3,
   "metadata": {
    "scrolled": true
   },
   "outputs": [
    {
     "data": {
      "text/html": [
       "<div>\n",
       "<style scoped>\n",
       "    .dataframe tbody tr th:only-of-type {\n",
       "        vertical-align: middle;\n",
       "    }\n",
       "\n",
       "    .dataframe tbody tr th {\n",
       "        vertical-align: top;\n",
       "    }\n",
       "\n",
       "    .dataframe thead th {\n",
       "        text-align: right;\n",
       "    }\n",
       "</style>\n",
       "<table border=\"1\" class=\"dataframe\">\n",
       "  <thead>\n",
       "    <tr style=\"text-align: right;\">\n",
       "      <th></th>\n",
       "      <th>Timestamp</th>\n",
       "      <th>Open</th>\n",
       "      <th>High</th>\n",
       "      <th>Low</th>\n",
       "      <th>Close</th>\n",
       "      <th>Volume_(BTC)</th>\n",
       "      <th>Volume_(Currency)</th>\n",
       "      <th>Weighted_Price</th>\n",
       "    </tr>\n",
       "  </thead>\n",
       "  <tbody>\n",
       "    <tr>\n",
       "      <th>0</th>\n",
       "      <td>2017-01-01 00:00:00</td>\n",
       "      <td>973.37</td>\n",
       "      <td>973.37</td>\n",
       "      <td>973.35</td>\n",
       "      <td>973.35</td>\n",
       "      <td>2.122048</td>\n",
       "      <td>2065.524303</td>\n",
       "      <td>973.363509</td>\n",
       "    </tr>\n",
       "    <tr>\n",
       "      <th>1</th>\n",
       "      <td>2017-01-01 00:01:00</td>\n",
       "      <td>973.37</td>\n",
       "      <td>973.37</td>\n",
       "      <td>973.35</td>\n",
       "      <td>973.35</td>\n",
       "      <td>2.122048</td>\n",
       "      <td>2065.524303</td>\n",
       "      <td>973.363509</td>\n",
       "    </tr>\n",
       "    <tr>\n",
       "      <th>2</th>\n",
       "      <td>2017-01-01 00:02:00</td>\n",
       "      <td>973.37</td>\n",
       "      <td>973.37</td>\n",
       "      <td>973.35</td>\n",
       "      <td>973.35</td>\n",
       "      <td>2.122048</td>\n",
       "      <td>2065.524303</td>\n",
       "      <td>973.363509</td>\n",
       "    </tr>\n",
       "    <tr>\n",
       "      <th>3</th>\n",
       "      <td>2017-01-01 00:03:00</td>\n",
       "      <td>973.36</td>\n",
       "      <td>973.36</td>\n",
       "      <td>973.36</td>\n",
       "      <td>973.36</td>\n",
       "      <td>0.040000</td>\n",
       "      <td>38.934400</td>\n",
       "      <td>973.360000</td>\n",
       "    </tr>\n",
       "    <tr>\n",
       "      <th>4</th>\n",
       "      <td>2017-01-01 00:04:00</td>\n",
       "      <td>973.36</td>\n",
       "      <td>973.40</td>\n",
       "      <td>973.36</td>\n",
       "      <td>973.39</td>\n",
       "      <td>5.458800</td>\n",
       "      <td>5313.529708</td>\n",
       "      <td>973.387871</td>\n",
       "    </tr>\n",
       "  </tbody>\n",
       "</table>\n",
       "</div>"
      ],
      "text/plain": [
       "             Timestamp    Open    High     Low   Close  Volume_(BTC)  \\\n",
       "0  2017-01-01 00:00:00  973.37  973.37  973.35  973.35      2.122048   \n",
       "1  2017-01-01 00:01:00  973.37  973.37  973.35  973.35      2.122048   \n",
       "2  2017-01-01 00:02:00  973.37  973.37  973.35  973.35      2.122048   \n",
       "3  2017-01-01 00:03:00  973.36  973.36  973.36  973.36      0.040000   \n",
       "4  2017-01-01 00:04:00  973.36  973.40  973.36  973.39      5.458800   \n",
       "\n",
       "   Volume_(Currency)  Weighted_Price  \n",
       "0        2065.524303      973.363509  \n",
       "1        2065.524303      973.363509  \n",
       "2        2065.524303      973.363509  \n",
       "3          38.934400      973.360000  \n",
       "4        5313.529708      973.387871  "
      ]
     },
     "execution_count": 3,
     "metadata": {},
     "output_type": "execute_result"
    }
   ],
   "source": [
    "data.head()"
   ]
  },
  {
   "cell_type": "markdown",
   "metadata": {},
   "source": [
    "**Series `Timestamp` is type object!**"
   ]
  },
  {
   "cell_type": "code",
   "execution_count": 4,
   "metadata": {},
   "outputs": [
    {
     "name": "stdout",
     "output_type": "stream",
     "text": [
      "object\n"
     ]
    }
   ],
   "source": [
    "print(data.Timestamp.dtype)"
   ]
  },
  {
   "cell_type": "code",
   "execution_count": 5,
   "metadata": {},
   "outputs": [
    {
     "data": {
      "text/plain": [
       "0    2017-01-01 00:00:00\n",
       "1    2017-01-01 00:01:00\n",
       "2    2017-01-01 00:02:00\n",
       "3    2017-01-01 00:03:00\n",
       "4    2017-01-01 00:04:00\n",
       "Name: Timestamp, dtype: object"
      ]
     },
     "execution_count": 5,
     "metadata": {},
     "output_type": "execute_result"
    }
   ],
   "source": [
    "data.Timestamp.head()"
   ]
  },
  {
   "cell_type": "markdown",
   "metadata": {},
   "source": [
    "### Convert to `datetime`"
   ]
  },
  {
   "cell_type": "code",
   "execution_count": 6,
   "metadata": {},
   "outputs": [],
   "source": [
    "data.Timestamp = pd.to_datetime(data.Timestamp, infer_datetime_format=True)"
   ]
  },
  {
   "cell_type": "code",
   "execution_count": 7,
   "metadata": {},
   "outputs": [
    {
     "data": {
      "text/plain": [
       "0   2017-01-01 00:00:00\n",
       "1   2017-01-01 00:01:00\n",
       "2   2017-01-01 00:02:00\n",
       "3   2017-01-01 00:03:00\n",
       "4   2017-01-01 00:04:00\n",
       "Name: Timestamp, dtype: datetime64[ns]"
      ]
     },
     "execution_count": 7,
     "metadata": {},
     "output_type": "execute_result"
    }
   ],
   "source": [
    "data.Timestamp.head()"
   ]
  },
  {
   "cell_type": "markdown",
   "metadata": {},
   "source": [
    "### Computations on `datetime`\n",
    "\n",
    "**Now we can use `pandas.Series` methods and `.dt` accessor. For example...**\n",
    "\n",
    "[Pandas Time series](https://pandas.pydata.org/pandas-docs/stable/user_guide/timeseries.html)  \n",
    "[Pandas .dt accessor](https://pandas.pydata.org/pandas-docs/stable/getting_started/basics.html#dt-accessor)\n",
    "\n",
    "- `.max()`\n",
    "- `.cumsum()`\n",
    "- `.cummax()`\n",
    "- `.rolling()`\n",
    "- `.diff()`\n",
    "- `.pct_change()`"
   ]
  },
  {
   "cell_type": "code",
   "execution_count": 8,
   "metadata": {},
   "outputs": [
    {
     "data": {
      "text/plain": [
       "Timestamp('2018-03-27 00:00:00')"
      ]
     },
     "execution_count": 8,
     "metadata": {},
     "output_type": "execute_result"
    }
   ],
   "source": [
    "data.Timestamp.max()"
   ]
  },
  {
   "cell_type": "code",
   "execution_count": 9,
   "metadata": {},
   "outputs": [
    {
     "data": {
      "text/plain": [
       "0    0\n",
       "1    1\n",
       "2    2\n",
       "3    3\n",
       "4    4\n",
       "Name: Timestamp, dtype: int64"
      ]
     },
     "execution_count": 9,
     "metadata": {},
     "output_type": "execute_result"
    }
   ],
   "source": [
    "data.Timestamp.dt.minute.head()"
   ]
  },
  {
   "cell_type": "markdown",
   "metadata": {},
   "source": [
    "Converting to **time since epoch** (number of seconds that have elapsed since 00:00:00, 1 January 1970 UTC) and back."
   ]
  },
  {
   "cell_type": "code",
   "execution_count": 10,
   "metadata": {},
   "outputs": [
    {
     "data": {
      "text/plain": [
       "0    1483228800000000000\n",
       "1    1483228860000000000\n",
       "2    1483228920000000000\n",
       "3    1483228980000000000\n",
       "4    1483229040000000000\n",
       "Name: Timestamp, dtype: int64"
      ]
     },
     "execution_count": 10,
     "metadata": {},
     "output_type": "execute_result"
    }
   ],
   "source": [
    "tse_time = data.Timestamp.astype('int64')\n",
    "tse_time.head()"
   ]
  },
  {
   "cell_type": "code",
   "execution_count": 11,
   "metadata": {},
   "outputs": [
    {
     "data": {
      "text/plain": [
       "0   2017-01-01 00:00:00\n",
       "1   2017-01-01 00:01:00\n",
       "2   2017-01-01 00:02:00\n",
       "3   2017-01-01 00:03:00\n",
       "4   2017-01-01 00:04:00\n",
       "Name: Timestamp, dtype: datetime64[ns]"
      ]
     },
     "execution_count": 11,
     "metadata": {},
     "output_type": "execute_result"
    }
   ],
   "source": [
    "pd.to_datetime(tse_time).head()"
   ]
  },
  {
   "cell_type": "markdown",
   "metadata": {},
   "source": [
    "### Selecting  \n",
    "\n",
    "Timestamp is the pandas equivalent of python’s Datetime and is used for the entries that make up a DatetimeIndex.  \n",
    "See pandas [timestamp documentation](https://pandas.pydata.org/pandas-docs/stable/reference/api/pandas.Timestamp.html)"
   ]
  },
  {
   "cell_type": "markdown",
   "metadata": {},
   "source": [
    "Set Timestamp as the index."
   ]
  },
  {
   "cell_type": "code",
   "execution_count": 12,
   "metadata": {},
   "outputs": [
    {
     "data": {
      "text/html": [
       "<div>\n",
       "<style scoped>\n",
       "    .dataframe tbody tr th:only-of-type {\n",
       "        vertical-align: middle;\n",
       "    }\n",
       "\n",
       "    .dataframe tbody tr th {\n",
       "        vertical-align: top;\n",
       "    }\n",
       "\n",
       "    .dataframe thead th {\n",
       "        text-align: right;\n",
       "    }\n",
       "</style>\n",
       "<table border=\"1\" class=\"dataframe\">\n",
       "  <thead>\n",
       "    <tr style=\"text-align: right;\">\n",
       "      <th></th>\n",
       "      <th>Open</th>\n",
       "      <th>High</th>\n",
       "      <th>Low</th>\n",
       "      <th>Close</th>\n",
       "      <th>Volume_(BTC)</th>\n",
       "      <th>Volume_(Currency)</th>\n",
       "      <th>Weighted_Price</th>\n",
       "    </tr>\n",
       "    <tr>\n",
       "      <th>Timestamp</th>\n",
       "      <th></th>\n",
       "      <th></th>\n",
       "      <th></th>\n",
       "      <th></th>\n",
       "      <th></th>\n",
       "      <th></th>\n",
       "      <th></th>\n",
       "    </tr>\n",
       "  </thead>\n",
       "  <tbody>\n",
       "    <tr>\n",
       "      <th>2017-01-01 00:00:00</th>\n",
       "      <td>973.37</td>\n",
       "      <td>973.37</td>\n",
       "      <td>973.35</td>\n",
       "      <td>973.35</td>\n",
       "      <td>2.122048</td>\n",
       "      <td>2065.524303</td>\n",
       "      <td>973.363509</td>\n",
       "    </tr>\n",
       "    <tr>\n",
       "      <th>2017-01-01 00:01:00</th>\n",
       "      <td>973.37</td>\n",
       "      <td>973.37</td>\n",
       "      <td>973.35</td>\n",
       "      <td>973.35</td>\n",
       "      <td>2.122048</td>\n",
       "      <td>2065.524303</td>\n",
       "      <td>973.363509</td>\n",
       "    </tr>\n",
       "    <tr>\n",
       "      <th>2017-01-01 00:02:00</th>\n",
       "      <td>973.37</td>\n",
       "      <td>973.37</td>\n",
       "      <td>973.35</td>\n",
       "      <td>973.35</td>\n",
       "      <td>2.122048</td>\n",
       "      <td>2065.524303</td>\n",
       "      <td>973.363509</td>\n",
       "    </tr>\n",
       "    <tr>\n",
       "      <th>2017-01-01 00:03:00</th>\n",
       "      <td>973.36</td>\n",
       "      <td>973.36</td>\n",
       "      <td>973.36</td>\n",
       "      <td>973.36</td>\n",
       "      <td>0.040000</td>\n",
       "      <td>38.934400</td>\n",
       "      <td>973.360000</td>\n",
       "    </tr>\n",
       "    <tr>\n",
       "      <th>2017-01-01 00:04:00</th>\n",
       "      <td>973.36</td>\n",
       "      <td>973.40</td>\n",
       "      <td>973.36</td>\n",
       "      <td>973.39</td>\n",
       "      <td>5.458800</td>\n",
       "      <td>5313.529708</td>\n",
       "      <td>973.387871</td>\n",
       "    </tr>\n",
       "  </tbody>\n",
       "</table>\n",
       "</div>"
      ],
      "text/plain": [
       "                       Open    High     Low   Close  Volume_(BTC)  \\\n",
       "Timestamp                                                           \n",
       "2017-01-01 00:00:00  973.37  973.37  973.35  973.35      2.122048   \n",
       "2017-01-01 00:01:00  973.37  973.37  973.35  973.35      2.122048   \n",
       "2017-01-01 00:02:00  973.37  973.37  973.35  973.35      2.122048   \n",
       "2017-01-01 00:03:00  973.36  973.36  973.36  973.36      0.040000   \n",
       "2017-01-01 00:04:00  973.36  973.40  973.36  973.39      5.458800   \n",
       "\n",
       "                     Volume_(Currency)  Weighted_Price  \n",
       "Timestamp                                               \n",
       "2017-01-01 00:00:00        2065.524303      973.363509  \n",
       "2017-01-01 00:01:00        2065.524303      973.363509  \n",
       "2017-01-01 00:02:00        2065.524303      973.363509  \n",
       "2017-01-01 00:03:00          38.934400      973.360000  \n",
       "2017-01-01 00:04:00        5313.529708      973.387871  "
      ]
     },
     "execution_count": 12,
     "metadata": {},
     "output_type": "execute_result"
    }
   ],
   "source": [
    "data = data.set_index('Timestamp',drop=True)\n",
    "data.head()"
   ]
  },
  {
   "cell_type": "markdown",
   "metadata": {},
   "source": [
    "**When the index is datetime, it should always be sorted!**"
   ]
  },
  {
   "cell_type": "code",
   "execution_count": 13,
   "metadata": {},
   "outputs": [],
   "source": [
    "data = data.sort_index()"
   ]
  },
  {
   "cell_type": "code",
   "execution_count": 14,
   "metadata": {},
   "outputs": [
    {
     "data": {
      "text/html": [
       "<div>\n",
       "<style scoped>\n",
       "    .dataframe tbody tr th:only-of-type {\n",
       "        vertical-align: middle;\n",
       "    }\n",
       "\n",
       "    .dataframe tbody tr th {\n",
       "        vertical-align: top;\n",
       "    }\n",
       "\n",
       "    .dataframe thead th {\n",
       "        text-align: right;\n",
       "    }\n",
       "</style>\n",
       "<table border=\"1\" class=\"dataframe\">\n",
       "  <thead>\n",
       "    <tr style=\"text-align: right;\">\n",
       "      <th></th>\n",
       "      <th>Open</th>\n",
       "      <th>High</th>\n",
       "      <th>Low</th>\n",
       "      <th>Close</th>\n",
       "      <th>Volume_(BTC)</th>\n",
       "      <th>Volume_(Currency)</th>\n",
       "      <th>Weighted_Price</th>\n",
       "    </tr>\n",
       "    <tr>\n",
       "      <th>Timestamp</th>\n",
       "      <th></th>\n",
       "      <th></th>\n",
       "      <th></th>\n",
       "      <th></th>\n",
       "      <th></th>\n",
       "      <th></th>\n",
       "      <th></th>\n",
       "    </tr>\n",
       "  </thead>\n",
       "  <tbody>\n",
       "    <tr>\n",
       "      <th>2017-06-01 00:00:00</th>\n",
       "      <td>2303.61</td>\n",
       "      <td>2304.15</td>\n",
       "      <td>2303.12</td>\n",
       "      <td>2304.02</td>\n",
       "      <td>3.666929</td>\n",
       "      <td>8448.703295</td>\n",
       "      <td>2304.026682</td>\n",
       "    </tr>\n",
       "    <tr>\n",
       "      <th>2017-06-01 00:01:00</th>\n",
       "      <td>2303.88</td>\n",
       "      <td>2304.15</td>\n",
       "      <td>2302.00</td>\n",
       "      <td>2302.00</td>\n",
       "      <td>4.872337</td>\n",
       "      <td>11223.396828</td>\n",
       "      <td>2303.493691</td>\n",
       "    </tr>\n",
       "    <tr>\n",
       "      <th>2017-06-01 00:02:00</th>\n",
       "      <td>2303.73</td>\n",
       "      <td>2304.06</td>\n",
       "      <td>2302.05</td>\n",
       "      <td>2303.32</td>\n",
       "      <td>6.266425</td>\n",
       "      <td>14436.511779</td>\n",
       "      <td>2303.787616</td>\n",
       "    </tr>\n",
       "    <tr>\n",
       "      <th>2017-06-01 00:03:00</th>\n",
       "      <td>2303.31</td>\n",
       "      <td>2303.31</td>\n",
       "      <td>2302.08</td>\n",
       "      <td>2303.09</td>\n",
       "      <td>2.058130</td>\n",
       "      <td>4740.119791</td>\n",
       "      <td>2303.119788</td>\n",
       "    </tr>\n",
       "    <tr>\n",
       "      <th>2017-06-01 00:04:00</th>\n",
       "      <td>2303.09</td>\n",
       "      <td>2307.60</td>\n",
       "      <td>2303.09</td>\n",
       "      <td>2307.60</td>\n",
       "      <td>39.879237</td>\n",
       "      <td>91955.757727</td>\n",
       "      <td>2305.855474</td>\n",
       "    </tr>\n",
       "  </tbody>\n",
       "</table>\n",
       "</div>"
      ],
      "text/plain": [
       "                        Open     High      Low    Close  Volume_(BTC)  \\\n",
       "Timestamp                                                               \n",
       "2017-06-01 00:00:00  2303.61  2304.15  2303.12  2304.02      3.666929   \n",
       "2017-06-01 00:01:00  2303.88  2304.15  2302.00  2302.00      4.872337   \n",
       "2017-06-01 00:02:00  2303.73  2304.06  2302.05  2303.32      6.266425   \n",
       "2017-06-01 00:03:00  2303.31  2303.31  2302.08  2303.09      2.058130   \n",
       "2017-06-01 00:04:00  2303.09  2307.60  2303.09  2307.60     39.879237   \n",
       "\n",
       "                     Volume_(Currency)  Weighted_Price  \n",
       "Timestamp                                               \n",
       "2017-06-01 00:00:00        8448.703295     2304.026682  \n",
       "2017-06-01 00:01:00       11223.396828     2303.493691  \n",
       "2017-06-01 00:02:00       14436.511779     2303.787616  \n",
       "2017-06-01 00:03:00        4740.119791     2303.119788  \n",
       "2017-06-01 00:04:00       91955.757727     2305.855474  "
      ]
     },
     "execution_count": 14,
     "metadata": {},
     "output_type": "execute_result"
    }
   ],
   "source": [
    "data[data.index.month == 6].head()"
   ]
  },
  {
   "cell_type": "code",
   "execution_count": 15,
   "metadata": {},
   "outputs": [
    {
     "data": {
      "text/html": [
       "<div>\n",
       "<style scoped>\n",
       "    .dataframe tbody tr th:only-of-type {\n",
       "        vertical-align: middle;\n",
       "    }\n",
       "\n",
       "    .dataframe tbody tr th {\n",
       "        vertical-align: top;\n",
       "    }\n",
       "\n",
       "    .dataframe thead th {\n",
       "        text-align: right;\n",
       "    }\n",
       "</style>\n",
       "<table border=\"1\" class=\"dataframe\">\n",
       "  <thead>\n",
       "    <tr style=\"text-align: right;\">\n",
       "      <th></th>\n",
       "      <th>Open</th>\n",
       "      <th>High</th>\n",
       "      <th>Low</th>\n",
       "      <th>Close</th>\n",
       "      <th>Volume_(BTC)</th>\n",
       "      <th>Volume_(Currency)</th>\n",
       "      <th>Weighted_Price</th>\n",
       "    </tr>\n",
       "    <tr>\n",
       "      <th>Timestamp</th>\n",
       "      <th></th>\n",
       "      <th></th>\n",
       "      <th></th>\n",
       "      <th></th>\n",
       "      <th></th>\n",
       "      <th></th>\n",
       "      <th></th>\n",
       "    </tr>\n",
       "  </thead>\n",
       "  <tbody>\n",
       "    <tr>\n",
       "      <th>2018-01-17 00:00:00</th>\n",
       "      <td>11570.01</td>\n",
       "      <td>11570.01</td>\n",
       "      <td>11570.00</td>\n",
       "      <td>11570.00</td>\n",
       "      <td>37.374867</td>\n",
       "      <td>4.324275e+05</td>\n",
       "      <td>11570.006518</td>\n",
       "    </tr>\n",
       "    <tr>\n",
       "      <th>2018-01-17 00:01:00</th>\n",
       "      <td>11570.01</td>\n",
       "      <td>11699.00</td>\n",
       "      <td>11550.00</td>\n",
       "      <td>11627.09</td>\n",
       "      <td>82.549136</td>\n",
       "      <td>9.575156e+05</td>\n",
       "      <td>11599.340993</td>\n",
       "    </tr>\n",
       "    <tr>\n",
       "      <th>2018-01-17 00:02:00</th>\n",
       "      <td>11605.00</td>\n",
       "      <td>11700.22</td>\n",
       "      <td>11550.00</td>\n",
       "      <td>11624.00</td>\n",
       "      <td>78.062113</td>\n",
       "      <td>9.092036e+05</td>\n",
       "      <td>11647.181988</td>\n",
       "    </tr>\n",
       "    <tr>\n",
       "      <th>2018-01-17 00:03:00</th>\n",
       "      <td>11624.00</td>\n",
       "      <td>11790.00</td>\n",
       "      <td>11603.14</td>\n",
       "      <td>11725.38</td>\n",
       "      <td>92.075967</td>\n",
       "      <td>1.081329e+06</td>\n",
       "      <td>11743.878594</td>\n",
       "    </tr>\n",
       "    <tr>\n",
       "      <th>2018-01-17 00:04:00</th>\n",
       "      <td>11725.52</td>\n",
       "      <td>11800.00</td>\n",
       "      <td>11725.51</td>\n",
       "      <td>11799.99</td>\n",
       "      <td>97.790853</td>\n",
       "      <td>1.153220e+06</td>\n",
       "      <td>11792.718569</td>\n",
       "    </tr>\n",
       "  </tbody>\n",
       "</table>\n",
       "</div>"
      ],
      "text/plain": [
       "                         Open      High       Low     Close  Volume_(BTC)  \\\n",
       "Timestamp                                                                   \n",
       "2018-01-17 00:00:00  11570.01  11570.01  11570.00  11570.00     37.374867   \n",
       "2018-01-17 00:01:00  11570.01  11699.00  11550.00  11627.09     82.549136   \n",
       "2018-01-17 00:02:00  11605.00  11700.22  11550.00  11624.00     78.062113   \n",
       "2018-01-17 00:03:00  11624.00  11790.00  11603.14  11725.38     92.075967   \n",
       "2018-01-17 00:04:00  11725.52  11800.00  11725.51  11799.99     97.790853   \n",
       "\n",
       "                     Volume_(Currency)  Weighted_Price  \n",
       "Timestamp                                               \n",
       "2018-01-17 00:00:00       4.324275e+05    11570.006518  \n",
       "2018-01-17 00:01:00       9.575156e+05    11599.340993  \n",
       "2018-01-17 00:02:00       9.092036e+05    11647.181988  \n",
       "2018-01-17 00:03:00       1.081329e+06    11743.878594  \n",
       "2018-01-17 00:04:00       1.153220e+06    11792.718569  "
      ]
     },
     "execution_count": 15,
     "metadata": {},
     "output_type": "execute_result"
    }
   ],
   "source": [
    "data['01/17/2018'].head()"
   ]
  },
  {
   "cell_type": "code",
   "execution_count": 16,
   "metadata": {},
   "outputs": [
    {
     "data": {
      "text/html": [
       "<div>\n",
       "<style scoped>\n",
       "    .dataframe tbody tr th:only-of-type {\n",
       "        vertical-align: middle;\n",
       "    }\n",
       "\n",
       "    .dataframe tbody tr th {\n",
       "        vertical-align: top;\n",
       "    }\n",
       "\n",
       "    .dataframe thead th {\n",
       "        text-align: right;\n",
       "    }\n",
       "</style>\n",
       "<table border=\"1\" class=\"dataframe\">\n",
       "  <thead>\n",
       "    <tr style=\"text-align: right;\">\n",
       "      <th></th>\n",
       "      <th>Open</th>\n",
       "      <th>High</th>\n",
       "      <th>Low</th>\n",
       "      <th>Close</th>\n",
       "      <th>Volume_(BTC)</th>\n",
       "      <th>Volume_(Currency)</th>\n",
       "      <th>Weighted_Price</th>\n",
       "    </tr>\n",
       "    <tr>\n",
       "      <th>Timestamp</th>\n",
       "      <th></th>\n",
       "      <th></th>\n",
       "      <th></th>\n",
       "      <th></th>\n",
       "      <th></th>\n",
       "      <th></th>\n",
       "      <th></th>\n",
       "    </tr>\n",
       "  </thead>\n",
       "  <tbody>\n",
       "    <tr>\n",
       "      <th>2018-01-17 13:30:00</th>\n",
       "      <td>10320.37</td>\n",
       "      <td>10392.96</td>\n",
       "      <td>10320.36</td>\n",
       "      <td>10389.76</td>\n",
       "      <td>18.829533</td>\n",
       "      <td>194664.293210</td>\n",
       "      <td>10338.243544</td>\n",
       "    </tr>\n",
       "    <tr>\n",
       "      <th>2018-01-17 13:31:00</th>\n",
       "      <td>10389.76</td>\n",
       "      <td>10389.76</td>\n",
       "      <td>10310.00</td>\n",
       "      <td>10310.01</td>\n",
       "      <td>13.012326</td>\n",
       "      <td>134782.335550</td>\n",
       "      <td>10358.050813</td>\n",
       "    </tr>\n",
       "    <tr>\n",
       "      <th>2018-01-17 13:32:00</th>\n",
       "      <td>10310.00</td>\n",
       "      <td>10347.19</td>\n",
       "      <td>10310.00</td>\n",
       "      <td>10331.86</td>\n",
       "      <td>6.500988</td>\n",
       "      <td>67075.196183</td>\n",
       "      <td>10317.693217</td>\n",
       "    </tr>\n",
       "    <tr>\n",
       "      <th>2018-01-17 13:33:00</th>\n",
       "      <td>10331.87</td>\n",
       "      <td>10347.17</td>\n",
       "      <td>10331.87</td>\n",
       "      <td>10339.15</td>\n",
       "      <td>8.774058</td>\n",
       "      <td>90744.731937</td>\n",
       "      <td>10342.389840</td>\n",
       "    </tr>\n",
       "    <tr>\n",
       "      <th>2018-01-17 13:34:00</th>\n",
       "      <td>10339.14</td>\n",
       "      <td>10350.01</td>\n",
       "      <td>10330.00</td>\n",
       "      <td>10330.00</td>\n",
       "      <td>17.040271</td>\n",
       "      <td>176266.835200</td>\n",
       "      <td>10344.133215</td>\n",
       "    </tr>\n",
       "    <tr>\n",
       "      <th>2018-01-17 13:35:00</th>\n",
       "      <td>10330.00</td>\n",
       "      <td>10330.01</td>\n",
       "      <td>10300.00</td>\n",
       "      <td>10309.24</td>\n",
       "      <td>24.539315</td>\n",
       "      <td>253384.119570</td>\n",
       "      <td>10325.639333</td>\n",
       "    </tr>\n",
       "    <tr>\n",
       "      <th>2018-01-17 13:36:00</th>\n",
       "      <td>10309.24</td>\n",
       "      <td>10331.00</td>\n",
       "      <td>10280.00</td>\n",
       "      <td>10327.65</td>\n",
       "      <td>9.886690</td>\n",
       "      <td>101939.982550</td>\n",
       "      <td>10310.830554</td>\n",
       "    </tr>\n",
       "    <tr>\n",
       "      <th>2018-01-17 13:37:00</th>\n",
       "      <td>10327.64</td>\n",
       "      <td>10343.14</td>\n",
       "      <td>10327.64</td>\n",
       "      <td>10343.14</td>\n",
       "      <td>3.986264</td>\n",
       "      <td>41195.916036</td>\n",
       "      <td>10334.468167</td>\n",
       "    </tr>\n",
       "    <tr>\n",
       "      <th>2018-01-17 13:38:00</th>\n",
       "      <td>10343.13</td>\n",
       "      <td>10343.13</td>\n",
       "      <td>10281.01</td>\n",
       "      <td>10290.50</td>\n",
       "      <td>9.228567</td>\n",
       "      <td>95307.671569</td>\n",
       "      <td>10327.461751</td>\n",
       "    </tr>\n",
       "    <tr>\n",
       "      <th>2018-01-17 13:39:00</th>\n",
       "      <td>10296.73</td>\n",
       "      <td>10296.73</td>\n",
       "      <td>10211.00</td>\n",
       "      <td>10211.01</td>\n",
       "      <td>25.163574</td>\n",
       "      <td>258333.453820</td>\n",
       "      <td>10266.167159</td>\n",
       "    </tr>\n",
       "    <tr>\n",
       "      <th>2018-01-17 13:40:00</th>\n",
       "      <td>10211.00</td>\n",
       "      <td>10211.00</td>\n",
       "      <td>10150.00</td>\n",
       "      <td>10158.76</td>\n",
       "      <td>42.730382</td>\n",
       "      <td>434857.493040</td>\n",
       "      <td>10176.775159</td>\n",
       "    </tr>\n",
       "  </tbody>\n",
       "</table>\n",
       "</div>"
      ],
      "text/plain": [
       "                         Open      High       Low     Close  Volume_(BTC)  \\\n",
       "Timestamp                                                                   \n",
       "2018-01-17 13:30:00  10320.37  10392.96  10320.36  10389.76     18.829533   \n",
       "2018-01-17 13:31:00  10389.76  10389.76  10310.00  10310.01     13.012326   \n",
       "2018-01-17 13:32:00  10310.00  10347.19  10310.00  10331.86      6.500988   \n",
       "2018-01-17 13:33:00  10331.87  10347.17  10331.87  10339.15      8.774058   \n",
       "2018-01-17 13:34:00  10339.14  10350.01  10330.00  10330.00     17.040271   \n",
       "2018-01-17 13:35:00  10330.00  10330.01  10300.00  10309.24     24.539315   \n",
       "2018-01-17 13:36:00  10309.24  10331.00  10280.00  10327.65      9.886690   \n",
       "2018-01-17 13:37:00  10327.64  10343.14  10327.64  10343.14      3.986264   \n",
       "2018-01-17 13:38:00  10343.13  10343.13  10281.01  10290.50      9.228567   \n",
       "2018-01-17 13:39:00  10296.73  10296.73  10211.00  10211.01     25.163574   \n",
       "2018-01-17 13:40:00  10211.00  10211.00  10150.00  10158.76     42.730382   \n",
       "\n",
       "                     Volume_(Currency)  Weighted_Price  \n",
       "Timestamp                                               \n",
       "2018-01-17 13:30:00      194664.293210    10338.243544  \n",
       "2018-01-17 13:31:00      134782.335550    10358.050813  \n",
       "2018-01-17 13:32:00       67075.196183    10317.693217  \n",
       "2018-01-17 13:33:00       90744.731937    10342.389840  \n",
       "2018-01-17 13:34:00      176266.835200    10344.133215  \n",
       "2018-01-17 13:35:00      253384.119570    10325.639333  \n",
       "2018-01-17 13:36:00      101939.982550    10310.830554  \n",
       "2018-01-17 13:37:00       41195.916036    10334.468167  \n",
       "2018-01-17 13:38:00       95307.671569    10327.461751  \n",
       "2018-01-17 13:39:00      258333.453820    10266.167159  \n",
       "2018-01-17 13:40:00      434857.493040    10176.775159  "
      ]
     },
     "execution_count": 16,
     "metadata": {},
     "output_type": "execute_result"
    }
   ],
   "source": [
    "data['01/17/2018 1:30PM':'01/17/2018 1:40PM']"
   ]
  },
  {
   "cell_type": "markdown",
   "metadata": {},
   "source": [
    "### Resampling  \n",
    "\n",
    "[pandas resampling](https://pandas.pydata.org/pandas-docs/stable/reference/resampling.html)  \n",
    "[DataFrame.resample](https://pandas.pydata.org/pandas-docs/stable/reference/api/pandas.DataFrame.resample.html#pandas.DataFrame.resample)"
   ]
  },
  {
   "cell_type": "markdown",
   "metadata": {},
   "source": [
    "**1. Resample to get a resampler object**"
   ]
  },
  {
   "cell_type": "code",
   "execution_count": 17,
   "metadata": {},
   "outputs": [
    {
     "data": {
      "text/plain": [
       "DatetimeIndexResampler [freq=<MonthEnd>, axis=0, closed=right, label=right, convention=start, base=0]"
      ]
     },
     "execution_count": 17,
     "metadata": {},
     "output_type": "execute_result"
    }
   ],
   "source": [
    "data.Open.resample('M')"
   ]
  },
  {
   "cell_type": "markdown",
   "metadata": {},
   "source": [
    "**2. To the resampler object we apply whatever computation is needed:**\n",
    "- `.count()`\n",
    "- `.first()`\n",
    "- `.nunique()`\n",
    "- `.max()`\n",
    "- `.mean()`\n",
    "- `.sum()`\n",
    "- `.std()`\n",
    "- `.median()`\n",
    "- `quantile.()`\n",
    "- ...\n"
   ]
  },
  {
   "cell_type": "code",
   "execution_count": 18,
   "metadata": {},
   "outputs": [
    {
     "data": {
      "text/plain": [
       "Timestamp\n",
       "2017-01-31      913.900487\n",
       "2017-02-28     1063.098797\n",
       "2017-03-31     1136.307935\n",
       "2017-04-30     1215.875404\n",
       "2017-05-31     1904.348628\n",
       "2017-06-30     2618.208685\n",
       "2017-07-31     2496.632774\n",
       "2017-08-31     3836.768040\n",
       "2017-09-30     4110.907916\n",
       "2017-10-31     5292.596445\n",
       "2017-11-30     7786.211433\n",
       "2017-12-31    15106.235051\n",
       "2018-01-31    12876.412886\n",
       "2018-02-28     9384.386674\n",
       "2018-03-31     9322.472714\n",
       "Freq: M, Name: Open, dtype: float64"
      ]
     },
     "execution_count": 18,
     "metadata": {},
     "output_type": "execute_result"
    }
   ],
   "source": [
    "data.Open.resample('M').mean()"
   ]
  },
  {
   "cell_type": "markdown",
   "metadata": {},
   "source": [
    "### Multi-index  \n",
    "\n",
    "MultiIndex / advanced indexing [documentation](https://pandas.pydata.org/pandas-docs/stable/user_guide/advanced.html)."
   ]
  },
  {
   "cell_type": "code",
   "execution_count": 19,
   "metadata": {},
   "outputs": [
    {
     "data": {
      "text/html": [
       "<div>\n",
       "<style scoped>\n",
       "    .dataframe tbody tr th:only-of-type {\n",
       "        vertical-align: middle;\n",
       "    }\n",
       "\n",
       "    .dataframe tbody tr th {\n",
       "        vertical-align: top;\n",
       "    }\n",
       "\n",
       "    .dataframe thead th {\n",
       "        text-align: right;\n",
       "    }\n",
       "</style>\n",
       "<table border=\"1\" class=\"dataframe\">\n",
       "  <thead>\n",
       "    <tr style=\"text-align: right;\">\n",
       "      <th></th>\n",
       "      <th>Store</th>\n",
       "      <th>Product</th>\n",
       "      <th>Price</th>\n",
       "      <th>Quality</th>\n",
       "    </tr>\n",
       "  </thead>\n",
       "  <tbody>\n",
       "    <tr>\n",
       "      <th>0</th>\n",
       "      <td>Incontinente</td>\n",
       "      <td>Apples</td>\n",
       "      <td>3.0</td>\n",
       "      <td>2.0</td>\n",
       "    </tr>\n",
       "    <tr>\n",
       "      <th>1</th>\n",
       "      <td>Incontinente</td>\n",
       "      <td>Bananas</td>\n",
       "      <td>2.0</td>\n",
       "      <td>4.0</td>\n",
       "    </tr>\n",
       "    <tr>\n",
       "      <th>2</th>\n",
       "      <td>Incontinente</td>\n",
       "      <td>Rice</td>\n",
       "      <td>1.0</td>\n",
       "      <td>3.0</td>\n",
       "    </tr>\n",
       "    <tr>\n",
       "      <th>3</th>\n",
       "      <td>Incontinente</td>\n",
       "      <td>Olives</td>\n",
       "      <td>4.0</td>\n",
       "      <td>2.0</td>\n",
       "    </tr>\n",
       "    <tr>\n",
       "      <th>4</th>\n",
       "      <td>Dingo Poce</td>\n",
       "      <td>Apples</td>\n",
       "      <td>2.0</td>\n",
       "      <td>2.0</td>\n",
       "    </tr>\n",
       "  </tbody>\n",
       "</table>\n",
       "</div>"
      ],
      "text/plain": [
       "          Store  Product  Price  Quality\n",
       "0  Incontinente   Apples    3.0      2.0\n",
       "1  Incontinente  Bananas    2.0      4.0\n",
       "2  Incontinente     Rice    1.0      3.0\n",
       "3  Incontinente   Olives    4.0      2.0\n",
       "4    Dingo Poce   Apples    2.0      2.0"
      ]
     },
     "execution_count": 19,
     "metadata": {},
     "output_type": "execute_result"
    }
   ],
   "source": [
    "food = pd.read_csv('BLU04 - Time Series Concepts/data/food.csv')\n",
    "food.head()"
   ]
  },
  {
   "cell_type": "code",
   "execution_count": 20,
   "metadata": {},
   "outputs": [
    {
     "data": {
      "text/html": [
       "<div>\n",
       "<style scoped>\n",
       "    .dataframe tbody tr th:only-of-type {\n",
       "        vertical-align: middle;\n",
       "    }\n",
       "\n",
       "    .dataframe tbody tr th {\n",
       "        vertical-align: top;\n",
       "    }\n",
       "\n",
       "    .dataframe thead th {\n",
       "        text-align: right;\n",
       "    }\n",
       "</style>\n",
       "<table border=\"1\" class=\"dataframe\">\n",
       "  <thead>\n",
       "    <tr style=\"text-align: right;\">\n",
       "      <th></th>\n",
       "      <th></th>\n",
       "      <th>Price</th>\n",
       "      <th>Quality</th>\n",
       "    </tr>\n",
       "    <tr>\n",
       "      <th>Store</th>\n",
       "      <th>Product</th>\n",
       "      <th></th>\n",
       "      <th></th>\n",
       "    </tr>\n",
       "  </thead>\n",
       "  <tbody>\n",
       "    <tr>\n",
       "      <th rowspan=\"4\" valign=\"top\">Incontinente</th>\n",
       "      <th>Apples</th>\n",
       "      <td>3.0</td>\n",
       "      <td>2.0</td>\n",
       "    </tr>\n",
       "    <tr>\n",
       "      <th>Bananas</th>\n",
       "      <td>2.0</td>\n",
       "      <td>4.0</td>\n",
       "    </tr>\n",
       "    <tr>\n",
       "      <th>Rice</th>\n",
       "      <td>1.0</td>\n",
       "      <td>3.0</td>\n",
       "    </tr>\n",
       "    <tr>\n",
       "      <th>Olives</th>\n",
       "      <td>4.0</td>\n",
       "      <td>2.0</td>\n",
       "    </tr>\n",
       "    <tr>\n",
       "      <th>Dingo Poce</th>\n",
       "      <th>Apples</th>\n",
       "      <td>2.0</td>\n",
       "      <td>2.0</td>\n",
       "    </tr>\n",
       "  </tbody>\n",
       "</table>\n",
       "</div>"
      ],
      "text/plain": [
       "                      Price  Quality\n",
       "Store        Product                \n",
       "Incontinente Apples     3.0      2.0\n",
       "             Bananas    2.0      4.0\n",
       "             Rice       1.0      3.0\n",
       "             Olives     4.0      2.0\n",
       "Dingo Poce   Apples     2.0      2.0"
      ]
     },
     "execution_count": 20,
     "metadata": {},
     "output_type": "execute_result"
    }
   ],
   "source": [
    "food = food.set_index(['Store', 'Product'])\n",
    "food.head()"
   ]
  },
  {
   "cell_type": "markdown",
   "metadata": {},
   "source": [
    "**Always, always, sort the indexes in a multi-index Dataframe.**"
   ]
  },
  {
   "cell_type": "code",
   "execution_count": 21,
   "metadata": {},
   "outputs": [
    {
     "data": {
      "text/html": [
       "<div>\n",
       "<style scoped>\n",
       "    .dataframe tbody tr th:only-of-type {\n",
       "        vertical-align: middle;\n",
       "    }\n",
       "\n",
       "    .dataframe tbody tr th {\n",
       "        vertical-align: top;\n",
       "    }\n",
       "\n",
       "    .dataframe thead th {\n",
       "        text-align: right;\n",
       "    }\n",
       "</style>\n",
       "<table border=\"1\" class=\"dataframe\">\n",
       "  <thead>\n",
       "    <tr style=\"text-align: right;\">\n",
       "      <th></th>\n",
       "      <th></th>\n",
       "      <th>Price</th>\n",
       "      <th>Quality</th>\n",
       "    </tr>\n",
       "    <tr>\n",
       "      <th>Store</th>\n",
       "      <th>Product</th>\n",
       "      <th></th>\n",
       "      <th></th>\n",
       "    </tr>\n",
       "  </thead>\n",
       "  <tbody>\n",
       "    <tr>\n",
       "      <th rowspan=\"4\" valign=\"top\">Dingo Poce</th>\n",
       "      <th>Apples</th>\n",
       "      <td>2.0</td>\n",
       "      <td>2.0</td>\n",
       "    </tr>\n",
       "    <tr>\n",
       "      <th>Bananas</th>\n",
       "      <td>3.0</td>\n",
       "      <td>3.0</td>\n",
       "    </tr>\n",
       "    <tr>\n",
       "      <th>Dog food</th>\n",
       "      <td>7.0</td>\n",
       "      <td>1.0</td>\n",
       "    </tr>\n",
       "    <tr>\n",
       "      <th>Rice</th>\n",
       "      <td>1.0</td>\n",
       "      <td>4.0</td>\n",
       "    </tr>\n",
       "    <tr>\n",
       "      <th rowspan=\"3\" valign=\"top\">Dumbo</th>\n",
       "      <th>Apples</th>\n",
       "      <td>2.0</td>\n",
       "      <td>3.0</td>\n",
       "    </tr>\n",
       "    <tr>\n",
       "      <th>Dog food</th>\n",
       "      <td>1.0</td>\n",
       "      <td>2.0</td>\n",
       "    </tr>\n",
       "    <tr>\n",
       "      <th>Rice</th>\n",
       "      <td>5.0</td>\n",
       "      <td>4.0</td>\n",
       "    </tr>\n",
       "    <tr>\n",
       "      <th rowspan=\"4\" valign=\"top\">Incontinente</th>\n",
       "      <th>Apples</th>\n",
       "      <td>3.0</td>\n",
       "      <td>2.0</td>\n",
       "    </tr>\n",
       "    <tr>\n",
       "      <th>Bananas</th>\n",
       "      <td>2.0</td>\n",
       "      <td>4.0</td>\n",
       "    </tr>\n",
       "    <tr>\n",
       "      <th>Olives</th>\n",
       "      <td>4.0</td>\n",
       "      <td>2.0</td>\n",
       "    </tr>\n",
       "    <tr>\n",
       "      <th>Rice</th>\n",
       "      <td>1.0</td>\n",
       "      <td>3.0</td>\n",
       "    </tr>\n",
       "  </tbody>\n",
       "</table>\n",
       "</div>"
      ],
      "text/plain": [
       "                       Price  Quality\n",
       "Store        Product                 \n",
       "Dingo Poce   Apples      2.0      2.0\n",
       "             Bananas     3.0      3.0\n",
       "             Dog food    7.0      1.0\n",
       "             Rice        1.0      4.0\n",
       "Dumbo        Apples      2.0      3.0\n",
       "             Dog food    1.0      2.0\n",
       "             Rice        5.0      4.0\n",
       "Incontinente Apples      3.0      2.0\n",
       "             Bananas     2.0      4.0\n",
       "             Olives      4.0      2.0\n",
       "             Rice        1.0      3.0"
      ]
     },
     "execution_count": 21,
     "metadata": {},
     "output_type": "execute_result"
    }
   ],
   "source": [
    "food = food.sort_index()\n",
    "food"
   ]
  },
  {
   "cell_type": "markdown",
   "metadata": {},
   "source": [
    "### Selecting in multi-index  "
   ]
  },
  {
   "cell_type": "code",
   "execution_count": 22,
   "metadata": {},
   "outputs": [
    {
     "data": {
      "text/plain": [
       "Store         Product\n",
       "Dingo Poce    Apples     2.0\n",
       "Dumbo         Apples     2.0\n",
       "Incontinente  Apples     3.0\n",
       "Name: Price, dtype: float64"
      ]
     },
     "execution_count": 22,
     "metadata": {},
     "output_type": "execute_result"
    }
   ],
   "source": [
    "food.loc[(slice(None), slice('Apples', 'Apples')), 'Price']"
   ]
  },
  {
   "cell_type": "code",
   "execution_count": 23,
   "metadata": {},
   "outputs": [
    {
     "data": {
      "text/plain": [
       "Store         Product\n",
       "Dingo Poce    Apples     2.0\n",
       "Dumbo         Apples     2.0\n",
       "Incontinente  Apples     3.0\n",
       "Name: Price, dtype: float64"
      ]
     },
     "execution_count": 23,
     "metadata": {},
     "output_type": "execute_result"
    }
   ],
   "source": [
    "idx = pd.IndexSlice\n",
    "food.loc[idx[: , 'Apples'], 'Price']"
   ]
  },
  {
   "cell_type": "code",
   "execution_count": 24,
   "metadata": {},
   "outputs": [
    {
     "data": {
      "text/html": [
       "<div>\n",
       "<style scoped>\n",
       "    .dataframe tbody tr th:only-of-type {\n",
       "        vertical-align: middle;\n",
       "    }\n",
       "\n",
       "    .dataframe tbody tr th {\n",
       "        vertical-align: top;\n",
       "    }\n",
       "\n",
       "    .dataframe thead th {\n",
       "        text-align: right;\n",
       "    }\n",
       "</style>\n",
       "<table border=\"1\" class=\"dataframe\">\n",
       "  <thead>\n",
       "    <tr style=\"text-align: right;\">\n",
       "      <th></th>\n",
       "      <th>col1</th>\n",
       "      <th>col2</th>\n",
       "    </tr>\n",
       "  </thead>\n",
       "  <tbody>\n",
       "    <tr>\n",
       "      <th>0</th>\n",
       "      <td>1</td>\n",
       "      <td>2</td>\n",
       "    </tr>\n",
       "    <tr>\n",
       "      <th>1</th>\n",
       "      <td>3</td>\n",
       "      <td>1</td>\n",
       "    </tr>\n",
       "    <tr>\n",
       "      <th>2</th>\n",
       "      <td>5</td>\n",
       "      <td>7</td>\n",
       "    </tr>\n",
       "  </tbody>\n",
       "</table>\n",
       "</div>"
      ],
      "text/plain": [
       "   col1  col2\n",
       "0     1     2\n",
       "1     3     1\n",
       "2     5     7"
      ]
     },
     "execution_count": 24,
     "metadata": {},
     "output_type": "execute_result"
    }
   ],
   "source": [
    "df = pd.DataFrame({'col1':[1,3,5], 'col2':[2,1,7]})\n",
    "df"
   ]
  },
  {
   "cell_type": "code",
   "execution_count": 25,
   "metadata": {},
   "outputs": [
    {
     "data": {
      "text/html": [
       "<div>\n",
       "<style scoped>\n",
       "    .dataframe tbody tr th:only-of-type {\n",
       "        vertical-align: middle;\n",
       "    }\n",
       "\n",
       "    .dataframe tbody tr th {\n",
       "        vertical-align: top;\n",
       "    }\n",
       "\n",
       "    .dataframe thead th {\n",
       "        text-align: right;\n",
       "    }\n",
       "</style>\n",
       "<table border=\"1\" class=\"dataframe\">\n",
       "  <thead>\n",
       "    <tr style=\"text-align: right;\">\n",
       "      <th></th>\n",
       "      <th>col1</th>\n",
       "      <th>col2</th>\n",
       "    </tr>\n",
       "  </thead>\n",
       "  <tbody>\n",
       "    <tr>\n",
       "      <th>0</th>\n",
       "      <td>1</td>\n",
       "      <td>2</td>\n",
       "    </tr>\n",
       "  </tbody>\n",
       "</table>\n",
       "</div>"
      ],
      "text/plain": [
       "   col1  col2\n",
       "0     1     2"
      ]
     },
     "execution_count": 25,
     "metadata": {},
     "output_type": "execute_result"
    }
   ],
   "source": [
    "df[0:1]"
   ]
  },
  {
   "cell_type": "markdown",
   "metadata": {},
   "source": [
    "## Seasonal decomposition  \n",
    "\n",
    "Time series can be thought as a (linear or non-linear) composition of 4 components: **trend**, **cyclical**, **seasonal** and **irregular**\n",
    "\n",
    "$Y_t = Trend + Seasonal + Cyclical + residual$,  \n",
    "\n",
    "or\n",
    "\n",
    "$Y_t = Trend \\cdot Seasonal \\cdot Cyclical \\cdot residual$,  \n",
    "\n",
    "or yet another non-linear combination of all four. Each one of the previous four components is itself also a time series.  \n",
    "\n",
    "In order to understand these concepts, let's look at a dataset with [monthly totals of a US airline passangers from 1949 to 1960](https://www.kaggle.com/chirag19/air-passengers)"
   ]
  },
  {
   "cell_type": "code",
   "execution_count": 26,
   "metadata": {},
   "outputs": [],
   "source": [
    "# Read csv file\n",
    "airlines = pd.read_csv('BLU05 - Classical Time Series Models/data/international-airline-passengers.csv',\n",
    "                       header=0,\n",
    "                       names = ['Month', 'thousands of passengers'])\n",
    "\n",
    "# drop last line\n",
    "airlines = airlines.dropna()\n",
    "\n",
    "# month as index\n",
    "airlines.Month = pd.to_datetime(airlines.Month)\n",
    "airlines = airlines.set_index('Month')\n",
    "\n",
    "# convert to series\n",
    "airlines = airlines['thousands of passengers']\n",
    "\n",
    "# Explicitly set frequency. This will avoid warnings when using statsmodels.tsa.statespace.sarimax\n",
    "freq = pd.infer_freq(airlines.index)\n",
    "airlines = airlines.asfreq(freq)"
   ]
  },
  {
   "cell_type": "code",
   "execution_count": 27,
   "metadata": {},
   "outputs": [
    {
     "data": {
      "image/png": "[encoded data removed]",
      "text/plain": [
       "<Figure size 576x288 with 1 Axes>"
      ]
     },
     "metadata": {
      "needs_background": "light"
     },
     "output_type": "display_data"
    }
   ],
   "source": [
    "airlines.plot(figsize=(8, 4));"
   ]
  },
  {
   "cell_type": "markdown",
   "metadata": {},
   "source": [
    "**Trend**"
   ]
  },
  {
   "cell_type": "markdown",
   "metadata": {},
   "source": [
    "The trend is the component of the time series that allows us to see if, overall, the dependent variable we are observing is increasing or decreasing, without taking into consideration local flutuations.  \n",
    "\n",
    "The first thing you probably notice in the passengers time series is that, in general, the *passengers are increasing* even though there are anual peaks.  \n",
    "\n",
    "There are different approaches to visualize the trend, like:\n",
    "* a simple linear regression;\n",
    "* the moving average;"
   ]
  },
  {
   "cell_type": "code",
   "execution_count": 28,
   "metadata": {},
   "outputs": [],
   "source": [
    "lr = LinearRegression()\n",
    "\n",
    "y = airlines.values.reshape(-1,1)\n",
    "X = np.array(range(y.shape[0])).reshape(-1,1)\n",
    "lr.fit(X, y)\n",
    "\n",
    "linear_trend = pd.Series(lr.predict(X).reshape(-1,), index=airlines.index)"
   ]
  },
  {
   "cell_type": "code",
   "execution_count": 29,
   "metadata": {
    "scrolled": true
   },
   "outputs": [
    {
     "data": {
      "image/png": "[encoded data removed]",
      "text/plain": [
       "<Figure size 576x288 with 1 Axes>"
      ]
     },
     "metadata": {
      "needs_background": "light"
     },
     "output_type": "display_data"
    }
   ],
   "source": [
    "airlines.plot(label=\"original data\", figsize=(8, 4))\n",
    "linear_trend.plot(label=\"linear trend\")\n",
    "airlines.rolling(24,  min_periods=12, center=True).mean().plot(label=\"moving average 24 months\")\n",
    "plt.legend();"
   ]
  },
  {
   "cell_type": "markdown",
   "metadata": {},
   "source": [
    "**Seasonal**"
   ]
  },
  {
   "cell_type": "markdown",
   "metadata": {},
   "source": [
    "Unlike the cyclical component, the seasonal component changes at a fixed rate. For example, the bookings in hotels in certain cities have well known maxima (Summer) and minima (Winter).  \n",
    "\n",
    "In our time series we can see yearly minima and maxima approximately in the same months."
   ]
  },
  {
   "cell_type": "markdown",
   "metadata": {},
   "source": [
    "Auto-correlation may help to identify seasonal patterns. For example, if there is a yeraly seasonality then auto-correlation should be higher with $lag = 12$ and lower in between."
   ]
  },
  {
   "cell_type": "code",
   "execution_count": 30,
   "metadata": {},
   "outputs": [
    {
     "data": {
      "text/plain": [
       "0     1.000000\n",
       "1     0.960195\n",
       "2     0.895675\n",
       "3     0.837395\n",
       "4     0.797735\n",
       "5     0.785943\n",
       "6     0.783919\n",
       "7     0.784592\n",
       "8     0.792215\n",
       "9     0.827852\n",
       "10    0.882713\n",
       "11    0.949702\n",
       "12    0.990527\n",
       "dtype: float64"
      ]
     },
     "execution_count": 30,
     "metadata": {},
     "output_type": "execute_result"
    }
   ],
   "source": [
    "corrs = {}\n",
    "\n",
    "for lag in range(13):\n",
    "    corrs[lag] = airlines.corr(airlines.shift(lag))\n",
    "\n",
    "pd.Series(corrs)"
   ]
  },
  {
   "cell_type": "code",
   "execution_count": 31,
   "metadata": {},
   "outputs": [
    {
     "data": {
      "image/png": "[encoded data removed]",
      "text/plain": [
       "<Figure size 432x288 with 1 Axes>"
      ]
     },
     "metadata": {
      "needs_background": "light"
     },
     "output_type": "display_data"
    }
   ],
   "source": [
    "pd.Series(corrs).plot(kind='bar')\n",
    "plt.xlabel('Lag')\n",
    "plt.ylabel('Correlation between original and lagged series')\n",
    "plt.show();"
   ]
  },
  {
   "cell_type": "markdown",
   "metadata": {},
   "source": [
    "**Cyclical**"
   ]
  },
  {
   "cell_type": "markdown",
   "metadata": {},
   "source": [
    "The cyclical component is a time series that exhibits a behavior that **repeats in non-regular time intervals**. For example, the performance of the world economy in the 20st century would exhibit a strong cyclical component with non-regular cycles (remember the crisis at the 80's and 2007)."
   ]
  },
  {
   "cell_type": "markdown",
   "metadata": {},
   "source": [
    "**Residual**"
   ]
  },
  {
   "cell_type": "markdown",
   "metadata": {},
   "source": [
    "After accounting for all the previous components, the remaining component, called *irregular* or *residual*, won't have any pattern. This part of the time series is considered noise. It is used in several modelling techniques in order to check if a better model can be created."
   ]
  },
  {
   "cell_type": "markdown",
   "metadata": {},
   "source": [
    "# BLU05 - Classical Time Series Models  "
   ]
  },
  {
   "cell_type": "markdown",
   "metadata": {},
   "source": [
    "So far we have learned fundamental concepts to start modelling time series, now we'll finally learn how to actually model them. For that, we're going to dive a bit deeper into their components using a very useful library: _statsmodels_.  \n",
    "\n",
    "We will use StatsModels extensively. Statsmodels is a Python module that provides classes and functions for the estimation of many different statistical models, as well as for conducting statistical tests, and statistical data exploration\n",
    "\n",
    "(see StatsModels' [documentation](https://www.statsmodels.org/stable/index.html))."
   ]
  },
  {
   "cell_type": "markdown",
   "metadata": {},
   "source": [
    "`from statsmodels.tsa.seasonal import seasonal_decompose`"
   ]
  },
  {
   "cell_type": "markdown",
   "metadata": {},
   "source": [
    "### Trend and seasonal components using [seasonal_decompose()](https://www.statsmodels.org/stable/generated/statsmodels.tsa.seasonal.seasonal_decompose.html)."
   ]
  },
  {
   "cell_type": "markdown",
   "metadata": {},
   "source": [
    "<a id=\"multiplicative_or_additive\"></a>\n",
    "First...how do we know if our time series is **additive or multiplicative?**\n",
    "\n",
    "* **Additive:** if the magnitude of the seasonal fluctuations (variation around the trend-cycle) does not vary with the level of the time series.\n",
    "* **Multiplicative:** when the variation in the seasonal pattern appears to be proportional to the level of the time series.\n"
   ]
  },
  {
   "cell_type": "code",
   "execution_count": 32,
   "metadata": {},
   "outputs": [
    {
     "data": {
      "image/png": "[encoded data removed]",
      "text/plain": [
       "<Figure size 1152x288 with 2 Axes>"
      ]
     },
     "metadata": {
      "needs_background": "light"
     },
     "output_type": "display_data"
    }
   ],
   "source": [
    "plt.figure(figsize=(16, 4))\n",
    "\n",
    "plt.subplot(121)\n",
    "airlines.rolling(24, center=True).std().plot()\n",
    "plt.ylabel('rolling(24).std()')\n",
    "plt.title('Variation')\n",
    "\n",
    "plt.subplot(122)\n",
    "airlines.rolling(24,  min_periods=12, center=True).mean().plot(label=\"moving average 24 months\")\n",
    "plt.ylabel('rolling(24).mean()')\n",
    "plt.title('Trend')\n",
    "plt.show()"
   ]
  },
  {
   "cell_type": "markdown",
   "metadata": {},
   "source": [
    "Or in the same figure..."
   ]
  },
  {
   "cell_type": "code",
   "execution_count": 33,
   "metadata": {},
   "outputs": [
    {
     "data": {
      "image/png": "[encoded data removed]",
      "text/plain": [
       "<Figure size 1152x288 with 2 Axes>"
      ]
     },
     "metadata": {
      "needs_background": "light"
     },
     "output_type": "display_data"
    }
   ],
   "source": [
    "airlines.rolling(24, center=True).mean().plot(label='trend', ls=':')\n",
    "plt.legend(loc='upper left')\n",
    "airlines.rolling(24, center=True).std().plot(figsize=(16, 4), label='std.', secondary_y=True)\n",
    "plt.title('Moving average-24 trend and standard deviation')\n",
    "plt.legend(loc='upper left')\n",
    "plt.show()"
   ]
  },
  {
   "cell_type": "markdown",
   "metadata": {},
   "source": [
    "In our case the standard deviation increases as the trend increases, which means that the time series is multiplicative.  \n",
    "\n",
    "**A commom way to make the time series additive is to apply the log transformation.** The trend continues to be increasing but the standard deviation stabilizes around an average value."
   ]
  },
  {
   "cell_type": "code",
   "execution_count": 34,
   "metadata": {},
   "outputs": [
    {
     "data": {
      "image/png": "[encoded data removed]",
      "text/plain": [
       "<Figure size 1152x288 with 2 Axes>"
      ]
     },
     "metadata": {
      "needs_background": "light"
     },
     "output_type": "display_data"
    }
   ],
   "source": [
    "plt.figure(figsize=(16, 4))\n",
    "\n",
    "plt.subplot(121)\n",
    "airlines.apply(np.log).rolling(24, center=True).std().plot()\n",
    "plt.ylabel('apply(np.log).rolling(24).std()')\n",
    "plt.title('Variation')\n",
    "\n",
    "plt.subplot(122)\n",
    "airlines.apply(np.log).rolling(24,  min_periods=12, center=True).mean().plot(label=\"moving average 24 months\")\n",
    "plt.ylabel('apply(np.log).rolling(24).mean()')\n",
    "plt.title('Trend')\n",
    "plt.show()"
   ]
  },
  {
   "cell_type": "markdown",
   "metadata": {},
   "source": [
    "**There are several ways to implement time series decomposition**: using [moving averages](https://otexts.org/fpp2/classical-decomposition.html), [X11](https://otexts.org/fpp2/x11.html), [SEATS](https://otexts.org/fpp2/seats.html) and [STL](https://otexts.org/fpp2/stl.html).  \n",
    "\n",
    "**Moving average is the classical approach** and is the one implemented in [seasonal_decompose()](https://www.statsmodels.org/stable/generated/statsmodels.tsa.seasonal.seasonal_decompose.html)."
   ]
  },
  {
   "cell_type": "code",
   "execution_count": 35,
   "metadata": {},
   "outputs": [
    {
     "data": {
      "text/plain": [
       "<statsmodels.tsa.seasonal.DecomposeResult at 0x3291a80cf8>"
      ]
     },
     "execution_count": 35,
     "metadata": {},
     "output_type": "execute_result"
    }
   ],
   "source": [
    "decomposition = seasonal_decompose(airlines, model='multiplicative')\n",
    "decomposition"
   ]
  },
  {
   "cell_type": "markdown",
   "metadata": {},
   "source": [
    "with this object, we have access to the estimation of the following components as **pandas Series**: \n",
    "* Trend-Cyclical\n",
    "* Seasonal\n",
    "* Irregular\n",
    "\n",
    "*statsmodel* includes a function to plot all 3 components at once"
   ]
  },
  {
   "cell_type": "code",
   "execution_count": 36,
   "metadata": {
    "scrolled": true
   },
   "outputs": [
    {
     "data": {
      "image/png": "[encoded data removed]",
      "text/plain": [
       "<Figure size 432x288 with 4 Axes>"
      ]
     },
     "metadata": {
      "needs_background": "light"
     },
     "output_type": "display_data"
    }
   ],
   "source": [
    "decomposition.plot()\n",
    "plt.show()"
   ]
  },
  {
   "cell_type": "markdown",
   "metadata": {},
   "source": [
    "also, we have direct access to all 3 components"
   ]
  },
  {
   "cell_type": "code",
   "execution_count": 37,
   "metadata": {},
   "outputs": [
    {
     "data": {
      "text/plain": [
       "pandas.core.series.Series"
      ]
     },
     "execution_count": 37,
     "metadata": {},
     "output_type": "execute_result"
    }
   ],
   "source": [
    "type(decomposition.seasonal)"
   ]
  },
  {
   "cell_type": "code",
   "execution_count": 38,
   "metadata": {
    "scrolled": true
   },
   "outputs": [
    {
     "data": {
      "text/plain": [
       "Month\n",
       "1949-01-01           NaN\n",
       "1949-02-01           NaN\n",
       "1949-03-01           NaN\n",
       "1949-04-01           NaN\n",
       "1949-05-01           NaN\n",
       "1949-06-01           NaN\n",
       "1949-07-01    126.791667\n",
       "1949-08-01    127.250000\n",
       "1949-09-01    127.958333\n",
       "1949-10-01    128.583333\n",
       "Freq: MS, Name: thousands of passengers, dtype: float64"
      ]
     },
     "execution_count": 38,
     "metadata": {},
     "output_type": "execute_result"
    }
   ],
   "source": [
    "decomposition.trend.head(10)"
   ]
  },
  {
   "cell_type": "code",
   "execution_count": 39,
   "metadata": {},
   "outputs": [
    {
     "data": {
      "text/plain": [
       "count    132.000000\n",
       "mean       0.998236\n",
       "std        0.033388\n",
       "min        0.894086\n",
       "25%        0.982927\n",
       "50%        0.998219\n",
       "75%        1.015225\n",
       "max        1.093970\n",
       "Name: thousands of passengers, dtype: float64"
      ]
     },
     "execution_count": 39,
     "metadata": {},
     "output_type": "execute_result"
    }
   ],
   "source": [
    "decomposition.resid.describe()"
   ]
  },
  {
   "cell_type": "markdown",
   "metadata": {},
   "source": [
    "Well.. but be careful with `seasonal_decompose()`, this can be all very subjective and possibly misleading. Maybe we have a more objective way to look for structure? "
   ]
  },
  {
   "cell_type": "markdown",
   "metadata": {},
   "source": [
    "### Autocorrelation function  \n",
    "\n",
    "Also known as serial correlation, is the correlation of a signal with a delayed copy of itself as a function of delay.  \n",
    "\n",
    "In the previous section [(seasonal decomposition)](#Seasonal-decomposition) we manually computed autocorrelation to help identify seasonal patterns.  \n",
    "\n",
    "ACF is so useful, that statsmodel actually comes with functions to calculate and to draw them ([ACF](https://www.statsmodels.org/stable/generated/statsmodels.tsa.stattools.acf.html) and [plot ACF](https://www.statsmodels.org/stable/generated/statsmodels.graphics.tsaplots.plot_acf.html) documentation). It also gives you something super useful, which are pre-calculated confidence intervals to get an idea of how significant the auto-correlation is.\n",
    "\n",
    "\n"
   ]
  },
  {
   "cell_type": "markdown",
   "metadata": {},
   "source": [
    "`from statsmodels.tsa.stattools import acf`  \n",
    "`from statsmodels.graphics.tsaplots import plot_acf`"
   ]
  },
  {
   "cell_type": "code",
   "execution_count": 40,
   "metadata": {
    "scrolled": true
   },
   "outputs": [
    {
     "data": {
      "text/plain": [
       "array([1.        , 0.95467704, 0.88790688, 0.82384458, 0.774129  ,\n",
       "       0.73944515, 0.71137419, 0.69677541, 0.69417581, 0.71567822,\n",
       "       0.75516171, 0.80471118, 0.82952186, 0.78338294, 0.71594837,\n",
       "       0.65405405, 0.60519959, 0.56664286, 0.53569601, 0.51825101,\n",
       "       0.51285925, 0.53528635, 0.56948699, 0.61542385, 0.6386278 ,\n",
       "       0.5977521 , 0.53416841, 0.47704972, 0.43203107, 0.3944146 ,\n",
       "       0.36441703, 0.34509264, 0.33980156, 0.35909103, 0.39079178,\n",
       "       0.43013344, 0.4493648 , 0.40822635, 0.34502547, 0.28889875,\n",
       "       0.23839051])"
      ]
     },
     "execution_count": 40,
     "metadata": {},
     "output_type": "execute_result"
    }
   ],
   "source": [
    "acf(airlines, unbiased=True)"
   ]
  },
  {
   "cell_type": "code",
   "execution_count": 41,
   "metadata": {},
   "outputs": [
    {
     "data": {
      "image/png": "[encoded data removed]",
      "text/plain": [
       "<Figure size 432x288 with 1 Axes>"
      ]
     },
     "metadata": {
      "needs_background": "light"
     },
     "output_type": "display_data"
    }
   ],
   "source": [
    "plot_acf(airlines, alpha=.05, lags=30)\n",
    "plt.xlabel('lag')\n",
    "plt.ylabel('Autocorrelation')\n",
    "plt.show()"
   ]
  },
  {
   "cell_type": "markdown",
   "metadata": {},
   "source": [
    "### Partial autocorrelation function  \n",
    "\n",
    "[PACF](https://www.statsmodels.org/stable/generated/statsmodels.tsa.stattools.pacf.html) stands for Partial Auto Correlation Function.  \n",
    "\n",
    "Isn't there something annoying about our previous plot? Lag 12 has an autocorrelation peak. But so does lag 24. So we're kind of \"recycling\" autocorrelation from the previous year.  \n",
    "\n",
    "So what we want is to remove the autocorrelation that we've already accounted for, and plot just the \"unacounted for\" stuff. That's the Partial Autocorrelation Function. "
   ]
  },
  {
   "cell_type": "markdown",
   "metadata": {},
   "source": [
    "`from statsmodels.tsa.stattools import pacf`  \n",
    "`from statsmodels.graphics.tsaplots import plot_pacf`"
   ]
  },
  {
   "cell_type": "code",
   "execution_count": 42,
   "metadata": {},
   "outputs": [
    {
     "name": "stderr",
     "output_type": "stream",
     "text": [
      "C:\\Users\\jnpicao\\AppData\\Local\\Continuum\\anaconda3\\lib\\site-packages\\statsmodels\\regression\\linear_model.py:1283: RuntimeWarning: invalid value encountered in sqrt\n",
      "  return rho, np.sqrt(sigmasq)\n"
     ]
    },
    {
     "data": {
      "text/plain": [
       "array([ 1.00000000e+00,  9.54677042e-01, -2.65277317e-01,  5.54695472e-02,\n",
       "        1.08856215e-01,  8.11257853e-02,  4.12540544e-03,  1.56169553e-01,\n",
       "        1.03708330e-01,  2.88781439e-01,  2.06918048e-01,  2.41129704e-01,\n",
       "       -1.58004984e-01, -7.18324604e-01, -8.94806410e-02,  2.21605913e-01,\n",
       "        1.34622533e-01,  1.15615719e-01,  1.94829396e-01,  9.66561845e-02,\n",
       "       -2.02158680e-01, -9.36381005e-02, -3.45594572e-01, -1.06170206e-01,\n",
       "        2.77804723e-01,  5.87815922e-02,  9.86624045e-03,  2.37687367e-01,\n",
       "        9.40568218e-02, -1.47505422e-01, -1.88609051e-01, -2.52801158e-01,\n",
       "       -2.57153789e-01, -1.40349613e-01,  1.88263087e-01,  1.30686258e-01,\n",
       "        5.23902189e-01,  6.91426442e-01,  9.91163921e-01,  3.71021065e+01,\n",
       "       -8.85334119e-01])"
      ]
     },
     "execution_count": 42,
     "metadata": {},
     "output_type": "execute_result"
    }
   ],
   "source": [
    "pacf(airlines)"
   ]
  },
  {
   "cell_type": "code",
   "execution_count": 43,
   "metadata": {},
   "outputs": [
    {
     "data": {
      "image/png": "[encoded data removed]",
      "text/plain": [
       "<Figure size 432x288 with 1 Axes>"
      ]
     },
     "metadata": {
      "needs_background": "light"
     },
     "output_type": "display_data"
    }
   ],
   "source": [
    "plot_pacf(airlines, alpha=.05, lags=24)\n",
    "plt.xlabel('lag')\n",
    "plt.ylabel('Partial autocorrelation')\n",
    "plt.show()"
   ]
  },
  {
   "cell_type": "markdown",
   "metadata": {},
   "source": [
    "## Stationarity  \n",
    "\n",
    "The concept of autocorrelation is essential for modelling time series, but at least as important is understanding what is stationarity.  \n",
    "\n",
    "From https://en.wikipedia.org/wiki/Stationary_process#Weak_or_wide-sense_stationarity  \n",
    "\n",
    "> *In mathematics and statistics, a **stationary process** is a **stochastic process whose unconditional joint probability distribution does not change when shifted in time**. Consequently, parameters such as mean and variance also do not change over time.*\n",
    "\n",
    "> Since stationarity is an assumption underlying many statistical procedures used in time series analysis, **non-stationary data are often transformed to become stationary**.\n",
    "\n",
    "However, remember this: whatever transformation you do to your timeseries in your attempt to make it stationary should be one you can reverse later."
   ]
  },
  {
   "cell_type": "markdown",
   "metadata": {},
   "source": [
    "**Stabilize Variance**  \n",
    "\n",
    "First, we should stabilize the variance so that it is approximatelly constant over time. The most common way to do that, is to **apply the log transformation**.  \n",
    "\n",
    "We have done exactly that when assessing if the time series is [multiplicative or additive](#multiplicative_or_additive)"
   ]
  },
  {
   "cell_type": "markdown",
   "metadata": {},
   "source": [
    "**Removing trend**  \n",
    "\n",
    "The next step is to remove the trend, so that the means of the timeseries is aproximatelly constant over time. A trivial way to remove the trend is to use the **difference** [(Series.diff())](https://pandas.pydata.org/pandas-docs/version/0.17/generated/pandas.Series.diff.html) beween consecutive observations, instead of the observations themselves. \n"
   ]
  },
  {
   "cell_type": "markdown",
   "metadata": {},
   "source": [
    "Transform non-stationary time series into stationary..."
   ]
  },
  {
   "cell_type": "code",
   "execution_count": 44,
   "metadata": {},
   "outputs": [
    {
     "data": {
      "image/png": "[encoded data removed]",
      "text/plain": [
       "<Figure size 576x288 with 1 Axes>"
      ]
     },
     "metadata": {
      "needs_background": "light"
     },
     "output_type": "display_data"
    }
   ],
   "source": [
    "airlines_log_diff = airlines.apply(np.log).diff()\n",
    "\n",
    "airlines_log_diff.plot(figsize=(8,4), label='airlines passangers')\n",
    "plt.ylabel('log diff')\n",
    "plt.title('Stationary transformation to airlines series')\n",
    "plt.show()"
   ]
  },
  {
   "cell_type": "markdown",
   "metadata": {},
   "source": [
    "Reverse transformation..."
   ]
  },
  {
   "cell_type": "code",
   "execution_count": 45,
   "metadata": {},
   "outputs": [
    {
     "data": {
      "text/plain": [
       "count    1.430000e+02\n",
       "mean     7.453245e-15\n",
       "std      7.947836e-14\n",
       "min     -1.705303e-13\n",
       "25%     -4.263256e-14\n",
       "50%      0.000000e+00\n",
       "75%      5.684342e-14\n",
       "max      2.273737e-13\n",
       "Name: thousands of passengers, dtype: float64"
      ]
     },
     "execution_count": 45,
     "metadata": {},
     "output_type": "execute_result"
    }
   ],
   "source": [
    "airlines2 = (airlines_log_diff + airlines.apply(np.log).shift(1)).apply(np.exp)\n",
    "(airlines2- airlines).describe()"
   ]
  },
  {
   "cell_type": "markdown",
   "metadata": {},
   "source": [
    "### Evaluating stationarity  \n",
    "\n",
    "Is it stationary? It \"looks stationary\", but...   \n",
    "\n",
    "The Dickey-Fuller test has the null hypothesis that the [Unit Root](https://en.wikipedia.org/wiki/Unit_root) is present. If the unit root isn't present the timeseries can be assumed to be stationary. "
   ]
  },
  {
   "cell_type": "markdown",
   "metadata": {},
   "source": [
    "Perform Dickey-Fuller test:  \n",
    "`from statsmodels.tsa.stattools import adfuller`"
   ]
  },
  {
   "cell_type": "code",
   "execution_count": 46,
   "metadata": {},
   "outputs": [
    {
     "name": "stdout",
     "output_type": "stream",
     "text": [
      "Not working! And here is why: exog contains inf or nans\n"
     ]
    },
    {
     "name": "stderr",
     "output_type": "stream",
     "text": [
      "C:\\Users\\jnpicao\\AppData\\Local\\Continuum\\anaconda3\\lib\\site-packages\\numpy\\core\\_methods.py:153: RuntimeWarning: invalid value encountered in reduce\n",
      "  umr_maximum(a, axis, None, out, keepdims),\n",
      "C:\\Users\\jnpicao\\AppData\\Local\\Continuum\\anaconda3\\lib\\site-packages\\numpy\\core\\_methods.py:154: RuntimeWarning: invalid value encountered in reduce\n",
      "  umr_minimum(a, axis, None, None, keepdims),\n"
     ]
    }
   ],
   "source": [
    "try: \n",
    "    adfuller(airlines_log_diff)\n",
    "except Exception as e:\n",
    "    print('Not working! And here is why: %s' % e)\n",
    "    \n"
   ]
  },
  {
   "cell_type": "markdown",
   "metadata": {},
   "source": [
    "First the original series..."
   ]
  },
  {
   "cell_type": "code",
   "execution_count": 47,
   "metadata": {},
   "outputs": [
    {
     "name": "stdout",
     "output_type": "stream",
     "text": [
      "Statistic: 0.82\n",
      "pvalue:    0.992\n"
     ]
    }
   ],
   "source": [
    "adfstat, pvalue, usedlag, nobs, critvalues, icbest =  adfuller(airlines)\n",
    "\n",
    "print('Statistic: %0.02f' % adfstat)\n",
    "print('pvalue:    %0.03f' % pvalue)"
   ]
  },
  {
   "cell_type": "markdown",
   "metadata": {},
   "source": [
    "Clearly not stationary! Now after the log diff transformation..."
   ]
  },
  {
   "cell_type": "code",
   "execution_count": 48,
   "metadata": {},
   "outputs": [
    {
     "name": "stdout",
     "output_type": "stream",
     "text": [
      "Statistic: -2.72\n",
      "pvalue:    0.071\n"
     ]
    }
   ],
   "source": [
    "adfstat, pvalue, usedlag, nobs, critvalues, icbest =  adfuller(airlines_log_diff.dropna())\n",
    "\n",
    "print('Statistic: %0.02f' % adfstat)\n",
    "print('pvalue:    %0.03f' % pvalue)"
   ]
  },
  {
   "cell_type": "markdown",
   "metadata": {},
   "source": [
    "The p value is low, but not as low as we normally like it to be. We can't reject that we have unit root at a 95% confidence interval, which is a good rule of thumb. For that, we'd need to have a p value < 0.05. But since this is just an example, we can leave as it is. \n",
    "\n",
    "If we really wanted to have a more stationary time series we could use more sophisticated ways to get rid of the trend (subtracting the rolling mean) or even diff again."
   ]
  },
  {
   "cell_type": "markdown",
   "metadata": {},
   "source": [
    "## ARIMA -  AR (Auto Regressive) I (Integrated) MA (Moving Average)  \n",
    "\n",
    "ARIMA model class [documentation](http://www.statsmodels.org/dev/generated/statsmodels.tsa.arima_model.ARIMA.html).  \n",
    "ARIMA results class [documentation](http://www.statsmodels.org/dev/generated/statsmodels.tsa.arima_model.ARIMAResults.html#statsmodels.tsa.arima_model.ARIMAResults).  \n",
    "\n",
    "More detailed information [here](https://people.duke.edu/~rnau/411arim.htm)."
   ]
  },
  {
   "cell_type": "markdown",
   "metadata": {},
   "source": [
    "We want to use the model with a stationary time series, so we are going to **stabilize the variance** so that it is approximatelly constant over time. Then we are going to **remove the trend**. Exactly as before we will use the log diff transformation."
   ]
  },
  {
   "cell_type": "code",
   "execution_count": 49,
   "metadata": {},
   "outputs": [],
   "source": [
    "airlines_log_diff = airlines.apply(np.log).diff()"
   ]
  },
  {
   "cell_type": "markdown",
   "metadata": {},
   "source": [
    "About the ARIMA model API, it elegantly depends only on 3 parameters: \n",
    "\n",
    "> `ARIMA(p,d,q)`"
   ]
  },
  {
   "cell_type": "markdown",
   "metadata": {},
   "source": [
    "### 1.1 Auto regressive "
   ]
  },
  {
   "cell_type": "markdown",
   "metadata": {},
   "source": [
    "The first of our 3 parameters, `p`, is the \"number of auto-regressive terms\". An auto-regressive model means that: \n",
    "> ***“The value at a particular time depends on the value at the previous times (+ error)”***\n",
    "  \n",
    "There's a rule of thumb to use the **partial auto-correlation function** and choose the lag before the first lag within the confidence interval. For example, lag 2 is already within the confidence interval (not completely, but let's consider so) so we'll go with lag 1, thus `p`=1."
   ]
  },
  {
   "cell_type": "code",
   "execution_count": 50,
   "metadata": {},
   "outputs": [
    {
     "data": {
      "image/png": "[encoded data removed]",
      "text/plain": [
       "<Figure size 432x288 with 1 Axes>"
      ]
     },
     "metadata": {
      "needs_background": "light"
     },
     "output_type": "display_data"
    }
   ],
   "source": [
    "plot_pacf(airlines_log_diff.dropna(), alpha=.05, lags=40)  \n",
    "plt.xlabel('lag')\n",
    "plt.ylabel('Autocorrelation')\n",
    "plt.show()"
   ]
  },
  {
   "cell_type": "markdown",
   "metadata": {},
   "source": [
    "### 1.2 Integrated "
   ]
  },
  {
   "cell_type": "markdown",
   "metadata": {},
   "source": [
    "The \"integrated\" part of the name simply means that we take the diff between consecutive periods to make the time series stationary. We've already done this ahead of time (because we needed it for our ACF and PACF plots), but you can also leave it as a hyper parameter and tune it later. \n"
   ]
  },
  {
   "cell_type": "markdown",
   "metadata": {},
   "source": [
    "### 1.3 Moving Average "
   ]
  },
  {
   "cell_type": "markdown",
   "metadata": {},
   "source": [
    "The last of our 3 parameters, `q`, is the \"number of moving average terms\". \n",
    "\n",
    "The logic here is similar to the one we used for `p`, but instead of predicting values with lagged values, we are predicting errors with lagged errors. \n",
    "\n",
    "The MA terms are lagged forecast errors. In this model, what predicts `x(t)` is `e(t-1)`, `e(t-2)`, ..., where `e(i)` is the difference between the moving average at the ith instant and the actual value."
   ]
  },
  {
   "cell_type": "markdown",
   "metadata": {},
   "source": [
    "The rule of thumb for setting `q` is to use the ACF. The reasons are not trivial, and are well explained in [this fantastic StackExchange post](https://stats.stackexchange.com/questions/281666/how-does-acf-pacf-identify-the-order-of-ma-and-ar-terms?utm_medium=organic&utm_source=google_rich_qa&utm_campaign=google_rich_qa), if you are interested in digging deeper. \n",
    "\n",
    "If not, just remember: \n",
    "> For `p` use the PACF  \n",
    "> For `q` use the ACF. "
   ]
  },
  {
   "cell_type": "code",
   "execution_count": 51,
   "metadata": {},
   "outputs": [
    {
     "data": {
      "image/png": "[encoded data removed]",
      "text/plain": [
       "<Figure size 432x288 with 1 Axes>"
      ]
     },
     "metadata": {
      "needs_background": "light"
     },
     "output_type": "display_data"
    }
   ],
   "source": [
    "plot_acf(airlines_log_diff.dropna(), alpha=.05, lags=40)  \n",
    "plt.xlabel('lag')\n",
    "plt.ylabel('Autocorrelation')\n",
    "plt.show()"
   ]
  },
  {
   "cell_type": "markdown",
   "metadata": {},
   "source": [
    "As before, lags 2 is already within the confidence interval, so we'll just go with `q`=1"
   ]
  },
  {
   "cell_type": "markdown",
   "metadata": {},
   "source": [
    "### Running the model"
   ]
  },
  {
   "cell_type": "code",
   "execution_count": 52,
   "metadata": {},
   "outputs": [],
   "source": [
    "# from statsmodels.tsa.arima_model import ARIMA\n",
    "model = ARIMA(airlines_log_diff.dropna().values, order=(1, 0, 1))\n",
    "results_ARIMA = model.fit()\n",
    "predictions = results_ARIMA.predict()"
   ]
  },
  {
   "cell_type": "code",
   "execution_count": 53,
   "metadata": {},
   "outputs": [
    {
     "data": {
      "text/plain": [
       "numpy.ndarray"
      ]
     },
     "execution_count": 53,
     "metadata": {},
     "output_type": "execute_result"
    }
   ],
   "source": [
    "type(predictions)"
   ]
  },
  {
   "cell_type": "code",
   "execution_count": 54,
   "metadata": {},
   "outputs": [],
   "source": [
    "# quick adjustment to plot sizes for clarity \n",
    "plt.rcParams[\"figure.figsize\"] = (10,5)"
   ]
  },
  {
   "cell_type": "code",
   "execution_count": 55,
   "metadata": {},
   "outputs": [
    {
     "data": {
      "image/png": "[encoded data removed]",
      "text/plain": [
       "<Figure size 720x360 with 1 Axes>"
      ]
     },
     "metadata": {
      "needs_background": "light"
     },
     "output_type": "display_data"
    }
   ],
   "source": [
    "results_ARIMA.plot_predict()\n",
    "plt.show()"
   ]
  },
  {
   "cell_type": "markdown",
   "metadata": {},
   "source": [
    "A few differences between the statsmodels' ARIMA and sklearn:  \n",
    "\n",
    "1. We pass the data straight to the model (sklearn example `model = LinearRegression()`).\n",
    "2. We used `.values` to get the numpy array instead of the pandas series (in sklearn `X` and `y` can be either numpy arrays or a DataFrame and a Series).\n",
    "3. We called `fit` without any parameters (sklearn example `model.fit(X, y)`)\n",
    "4. The model isn't fit in place, we have to grab the results with a results (sklearn example `y_hat = model.predict(X)`)\n",
    "5. The predictions are a numpy array (here is the same, sklearn `model.predict(X)` returns a numpy array as well)"
   ]
  },
  {
   "cell_type": "code",
   "execution_count": 56,
   "metadata": {},
   "outputs": [],
   "source": [
    "# Obtaining predictions as a pandas Series\n",
    "prediction_ARIMA_log_diff = pd.Series(results_ARIMA.predict(), index=airlines.index[1:])\n",
    "\n",
    "# Recover from transformation\n",
    "prediction_ARIMA_log = prediction_ARIMA_log_diff + airlines.apply(np.log).shift(1)\n",
    "prediction_ARIMA = prediction_ARIMA_log.apply(np.exp)"
   ]
  },
  {
   "cell_type": "code",
   "execution_count": 57,
   "metadata": {},
   "outputs": [
    {
     "data": {
      "image/png": "[encoded data removed]",
      "text/plain": [
       "<Figure size 720x360 with 1 Axes>"
      ]
     },
     "metadata": {
      "needs_background": "light"
     },
     "output_type": "display_data"
    }
   ],
   "source": [
    "airlines.plot(label='original series')\n",
    "prediction_ARIMA.plot(label='ARIMA prediction')\n",
    "plt.legend()\n",
    "plt.show()"
   ]
  },
  {
   "cell_type": "markdown",
   "metadata": {},
   "source": [
    "## SARIMAX -  S (Seasonal) ARIMA X (with Exogenous variable)\n",
    "\n",
    "\n",
    "SARIMAX Introduction [here](http://www.statsmodels.org/dev/examples/notebooks/generated/statespace_sarimax_stata.html?highlight=predicted_mean).  \n",
    "SARIMAX model class [documentation](http://www.statsmodels.org/dev/generated/statsmodels.tsa.statespace.sarimax.SARIMAX.html).  \n",
    "SARIMAX results class [documentation](http://www.statsmodels.org/dev/generated/statsmodels.tsa.statespace.mlemodel.MLEResults.html#statsmodels.tsa.statespace.mlemodel.MLEResults).  \n",
    "\n",
    "What are the parameters? \n",
    "\n",
    "The ones below we already know. **Also note that now we're going to use d=1 to avoid having to difference the time series, and then transforming it back**. Also note that we still have to log the data, since SARIMAX can't do that by itself.\n",
    "> p = 1  \n",
    "> d = 1  \n",
    "> q = 1  \n",
    "\n",
    "But now we have a second bunch. The first 3 are analagous to the previous ones, but for the seasonal part. There are also guidelines on how to chose them, but for now we'll just use the following: \n",
    "> P = 1  \n",
    "> D = 1  \n",
    "> Q = 1  \n",
    "\n",
    "The last new parameter, `S`, is an integer giving the periodicity (number of periods in season). \n",
    "We normally have a decent intuition for this parameter: \n",
    "- If we have daily data and suspect we may have weekly trends, we may want S = 7. \n",
    "- If the data is monthly and we think the time of the year may count, maybe try S = 12. \n"
   ]
  },
  {
   "cell_type": "markdown",
   "metadata": {},
   "source": [
    "### Running the model"
   ]
  },
  {
   "cell_type": "code",
   "execution_count": 58,
   "metadata": {
    "scrolled": false
   },
   "outputs": [],
   "source": [
    "airlines_log = airlines.apply(np.log)\n",
    "\n",
    "# Initialize the model\n",
    "model = SARIMAX(airlines_log,                 # <-- holy crap just passed it pandas? No \".values\"? No .diff?\n",
    "                order=(1, 1, 1),              # <-- keeping our order as before\n",
    "                seasonal_order=(1, 0, 1, 12)) # <-- We'll get into how we found these hyper params\n",
    "\n",
    "# Fit the model\n",
    "results_SARIMAX = model.fit(maxiter=100)\n",
    "\n",
    "# Get predictions\n",
    "pred = results_SARIMAX.get_prediction()\n",
    "\n",
    "# get prediction mean value as pandas.Series\n",
    "predictions = pred.predicted_mean"
   ]
  },
  {
   "cell_type": "markdown",
   "metadata": {},
   "source": [
    "Notice that `results_SARIMAX.get_prediction()` is a `PredictionResultsWrapper` (documentation [here](http://www.statsmodels.org/dev/generated/generated/statsmodels.tsa.statespace.mlemodel.MLEResults.get_prediction.html))"
   ]
  },
  {
   "cell_type": "code",
   "execution_count": 59,
   "metadata": {},
   "outputs": [
    {
     "data": {
      "text/plain": [
       "statsmodels.tsa.statespace.mlemodel.PredictionResultsWrapper"
      ]
     },
     "execution_count": 59,
     "metadata": {},
     "output_type": "execute_result"
    }
   ],
   "source": [
    "type(results_SARIMAX.get_prediction())"
   ]
  },
  {
   "cell_type": "markdown",
   "metadata": {},
   "source": [
    "However, we can get the predictions as a panda Series by tow ways:\n",
    "1. `results_SARIMAX.get_prediction().predicted_mean`\n",
    "2. `results_SARIMAX.predict()`"
   ]
  },
  {
   "cell_type": "code",
   "execution_count": 60,
   "metadata": {},
   "outputs": [
    {
     "data": {
      "text/plain": [
       "Month\n",
       "1949-01-01    0.000000\n",
       "1949-02-01    4.718499\n",
       "1949-03-01    4.758647\n",
       "1949-04-01    4.844224\n",
       "1949-05-01    4.838411\n",
       "Freq: MS, dtype: float64"
      ]
     },
     "execution_count": 60,
     "metadata": {},
     "output_type": "execute_result"
    }
   ],
   "source": [
    "results_SARIMAX.get_prediction().predicted_mean.head()"
   ]
  },
  {
   "cell_type": "code",
   "execution_count": 61,
   "metadata": {},
   "outputs": [
    {
     "data": {
      "text/plain": [
       "Month\n",
       "1949-01-01    0.000000\n",
       "1949-02-01    4.718499\n",
       "1949-03-01    4.758647\n",
       "1949-04-01    4.844224\n",
       "1949-05-01    4.838411\n",
       "Freq: MS, dtype: float64"
      ]
     },
     "execution_count": 61,
     "metadata": {},
     "output_type": "execute_result"
    }
   ],
   "source": [
    "results_SARIMAX.predict().head()"
   ]
  },
  {
   "cell_type": "markdown",
   "metadata": {},
   "source": [
    "A few differences between SARIMAX, ARIMA and sklearn:  \n",
    "\n",
    "1. We pass the data straight to the model (same as ARIMA, sklearn example `model = LinearRegression()`).\n",
    "2. We pass the time series straight to the model as a pandas Series (in ARIMA we used `.values` and in sklearn `X` and `y` can be either numpy arrays or a DataFrame and a Series).\n",
    "3. We called `fit` without any parameters (same as ARIMA, sklearn example `model.fit(X, y)`)\n",
    "4. The model isn't fit in place, we have to grab the results with a results (same as ARIMA, sklearn example `y_hat = model.predict(X)`)\n",
    "5. The predictions are a strange object (ARIMA `results.predict()` returns a numpy array as well as sklearn `model.predict(X)`)\n",
    "6. However, if we use `pred.predicted_mean` we get a pandas Series with indices already in place!"
   ]
  },
  {
   "cell_type": "code",
   "execution_count": 62,
   "metadata": {},
   "outputs": [
    {
     "data": {
      "image/png": "[encoded data removed]",
      "text/plain": [
       "<Figure size 720x360 with 1 Axes>"
      ]
     },
     "metadata": {
      "needs_background": "light"
     },
     "output_type": "display_data"
    }
   ],
   "source": [
    "predictions_SARIMAX = predictions.apply(np.exp)\n",
    "\n",
    "plt.figure(figsize=(10, 5))\n",
    "plt.plot(airlines, label='original')\n",
    "plt.plot(predictions_SARIMAX, label='SARIMAX')\n",
    "plt.legend()\n",
    "plt.ylim((0, 650))\n",
    "plt.show();"
   ]
  },
  {
   "cell_type": "markdown",
   "metadata": {},
   "source": [
    "### Validation and evaluation"
   ]
  },
  {
   "cell_type": "markdown",
   "metadata": {},
   "source": [
    "The standard metric for timeseries claisscal models is the **AIC (Akaike information criterion)**, which is a metric that will simutaneously measure how well the model fits the data, but will control for how complex the model is. If the model is very complex, the expectation on how well it must fit the data will also go up. It is therefore useful for comparing models."
   ]
  },
  {
   "cell_type": "code",
   "execution_count": 63,
   "metadata": {},
   "outputs": [
    {
     "data": {
      "text/plain": [
       "-241.60771402611368"
      ]
     },
     "execution_count": 63,
     "metadata": {},
     "output_type": "execute_result"
    }
   ],
   "source": [
    "results_ARIMA.aic"
   ]
  },
  {
   "cell_type": "code",
   "execution_count": 64,
   "metadata": {},
   "outputs": [
    {
     "data": {
      "text/plain": [
       "-498.8023567498956"
      ]
     },
     "execution_count": 64,
     "metadata": {},
     "output_type": "execute_result"
    }
   ],
   "source": [
    "results_SARIMAX.aic"
   ]
  },
  {
   "cell_type": "markdown",
   "metadata": {},
   "source": [
    "Smaller is better, so it seems that SARIMAX performed better than ARIMA!"
   ]
  },
  {
   "cell_type": "markdown",
   "metadata": {},
   "source": [
    "Another possible criteria for evaluation is to use de **MAE (mean-absolute-error)**. For that we can use scikit learn [mean_absolute_error()](https://scikit-learn.org/stable/modules/generated/sklearn.metrics.mean_absolute_error.html)"
   ]
  },
  {
   "cell_type": "markdown",
   "metadata": {},
   "source": [
    "`from sklearn.metrics import mean_absolute_error`"
   ]
  },
  {
   "cell_type": "code",
   "execution_count": 65,
   "metadata": {},
   "outputs": [
    {
     "data": {
      "text/plain": [
       "24.498378624574404"
      ]
     },
     "execution_count": 65,
     "metadata": {},
     "output_type": "execute_result"
    }
   ],
   "source": [
    "mean_absolute_error(airlines[1:], prediction_ARIMA[1:])"
   ]
  },
  {
   "cell_type": "code",
   "execution_count": 66,
   "metadata": {},
   "outputs": [
    {
     "data": {
      "text/plain": [
       "8.173304947708417"
      ]
     },
     "execution_count": 66,
     "metadata": {},
     "output_type": "execute_result"
    }
   ],
   "source": [
    "mean_absolute_error(airlines[1:], predictions_SARIMAX[1:])"
   ]
  },
  {
   "cell_type": "markdown",
   "metadata": {},
   "source": [
    "Also with this criteria SARIMAX performed better than ARIMA.  \n",
    "\n",
    "Notice that **we must drop the first element** because it cannot be predicted by the models!"
   ]
  },
  {
   "cell_type": "markdown",
   "metadata": {},
   "source": [
    "There are also other metrics, such as R², but for that we'd need to create a validation set to avoid overfitting. Since AIC already penalizes complexity, we can use it without a validation set."
   ]
  },
  {
   "cell_type": "markdown",
   "metadata": {},
   "source": [
    "## Multi-step Forecasting  "
   ]
  },
  {
   "cell_type": "markdown",
   "metadata": {},
   "source": [
    "As you might have noticed, **the predictions above are useless**, in the sense that those predictions are being made after the data is known!  \n",
    "\n",
    "Both ARIMA and SARIMAX estimate the parameters of the model taking into account the complete set of observations, and then are using those parameters to make predictions for the known observations on which the parameters were estimated. That is, **we are assessing the model on the training set!!!**   \n",
    "\n",
    "To better understand this look at the output of the next cell. Both the estimated parameters (`results_SARIMAX.params`) and the model prediction for a specifit date ('1959-01-01') are updated at each iteration because more observations are uploaded to the model (`airlines_log[:i]`).\n",
    "\n",
    "In order **to make actual predictions we will have to use:**\n",
    "1. **train-test split**\n",
    "2. [**forecast()**](http://www.statsmodels.org/dev/generated/generated/statsmodels.tsa.statespace.mlemodel.MLEResults.forecast.html) instead of [predict()](http://www.statsmodels.org/dev/generated/generated/statsmodels.tsa.statespace.mlemodel.MLEResults.predict.html)."
   ]
  },
  {
   "cell_type": "code",
   "execution_count": 67,
   "metadata": {},
   "outputs": [
    {
     "data": {
      "text/html": [
       "<div>\n",
       "<style scoped>\n",
       "    .dataframe tbody tr th:only-of-type {\n",
       "        vertical-align: middle;\n",
       "    }\n",
       "\n",
       "    .dataframe tbody tr th {\n",
       "        vertical-align: top;\n",
       "    }\n",
       "\n",
       "    .dataframe thead th {\n",
       "        text-align: right;\n",
       "    }\n",
       "</style>\n",
       "<table border=\"1\" class=\"dataframe\">\n",
       "  <thead>\n",
       "    <tr style=\"text-align: right;\">\n",
       "      <th></th>\n",
       "      <th>ar.L1</th>\n",
       "      <th>ma.L1</th>\n",
       "      <th>ar.S.L12</th>\n",
       "      <th>ma.S.L12</th>\n",
       "      <th>sigma2</th>\n",
       "      <th>prediction_1959-01-01</th>\n",
       "    </tr>\n",
       "  </thead>\n",
       "  <tbody>\n",
       "    <tr>\n",
       "      <th>1959-01-01</th>\n",
       "      <td>-0.212590</td>\n",
       "      <td>-0.123033</td>\n",
       "      <td>-0.075625</td>\n",
       "      <td>-0.495569</td>\n",
       "      <td>0.001398</td>\n",
       "      <td>5.853197</td>\n",
       "    </tr>\n",
       "    <tr>\n",
       "      <th>1959-02-01</th>\n",
       "      <td>0.215965</td>\n",
       "      <td>-0.559353</td>\n",
       "      <td>-0.077526</td>\n",
       "      <td>-0.497375</td>\n",
       "      <td>0.001376</td>\n",
       "      <td>5.857222</td>\n",
       "    </tr>\n",
       "    <tr>\n",
       "      <th>1959-03-01</th>\n",
       "      <td>0.231910</td>\n",
       "      <td>-0.571984</td>\n",
       "      <td>-0.080864</td>\n",
       "      <td>-0.504347</td>\n",
       "      <td>0.001368</td>\n",
       "      <td>5.857542</td>\n",
       "    </tr>\n",
       "    <tr>\n",
       "      <th>1959-04-01</th>\n",
       "      <td>0.242170</td>\n",
       "      <td>-0.579043</td>\n",
       "      <td>-0.083984</td>\n",
       "      <td>-0.505488</td>\n",
       "      <td>0.001356</td>\n",
       "      <td>5.857610</td>\n",
       "    </tr>\n",
       "    <tr>\n",
       "      <th>1959-05-01</th>\n",
       "      <td>-0.316627</td>\n",
       "      <td>-0.001261</td>\n",
       "      <td>-0.077185</td>\n",
       "      <td>-0.504056</td>\n",
       "      <td>0.001366</td>\n",
       "      <td>5.852234</td>\n",
       "    </tr>\n",
       "  </tbody>\n",
       "</table>\n",
       "</div>"
      ],
      "text/plain": [
       "               ar.L1     ma.L1  ar.S.L12  ma.S.L12    sigma2  \\\n",
       "1959-01-01 -0.212590 -0.123033 -0.075625 -0.495569  0.001398   \n",
       "1959-02-01  0.215965 -0.559353 -0.077526 -0.497375  0.001376   \n",
       "1959-03-01  0.231910 -0.571984 -0.080864 -0.504347  0.001368   \n",
       "1959-04-01  0.242170 -0.579043 -0.083984 -0.505488  0.001356   \n",
       "1959-05-01 -0.316627 -0.001261 -0.077185 -0.504056  0.001366   \n",
       "\n",
       "            prediction_1959-01-01  \n",
       "1959-01-01               5.853197  \n",
       "1959-02-01               5.857222  \n",
       "1959-03-01               5.857542  \n",
       "1959-04-01               5.857610  \n",
       "1959-05-01               5.852234  "
      ]
     },
     "execution_count": 67,
     "metadata": {},
     "output_type": "execute_result"
    }
   ],
   "source": [
    "params_set = {}\n",
    "date_to_predict_str = '1959-01-01'\n",
    "date_to_predict = pd.to_datetime(date_to_predict_str)\n",
    "#idx_to_predict = airlines_log.index.get_loc(date_to_predict)\n",
    "\n",
    "\n",
    "for i in pd.date_range(date_to_predict, periods=5 , freq='MS'):\n",
    "    model = SARIMAX(airlines_log[:i], order=(1, 1, 1), seasonal_order=(1, 1, 1, 12))\n",
    "    results_SARIMAX = model.fit(maxiter=500)\n",
    "        \n",
    "    params = results_SARIMAX.params.values\n",
    "    predict = results_SARIMAX.predict()[date_to_predict]    \n",
    "    \n",
    "    params_set[i] = np.append(params, predict)\n",
    "    \n",
    "params_df = pd.DataFrame(params_set).transpose()\n",
    "params_df.columns = list(results_SARIMAX.params.index) + ['prediction_' + date_to_predict_str]\n",
    "params_df"
   ]
  },
  {
   "cell_type": "markdown",
   "metadata": {},
   "source": [
    "### Train-test Split  \n",
    "\n",
    "We're going to formulate the problem in a similar manner to a common ML problem. So the **first thing to do is to separate the train and test**, to make sure we don't leak any information.  \n",
    "\n",
    "Remember that **the objective** of evaluating a model **is to obtain a good estimation** of the generalization error the model will have **on unseen data**.  \n",
    "\n",
    "Also, in timeseries dataset splits **we need to take into account the temporal nature of the data**. Basically, this means that in a simple train-test split we leave the first X months for training and the last Y months for testing."
   ]
  },
  {
   "cell_type": "code",
   "execution_count": 68,
   "metadata": {},
   "outputs": [],
   "source": [
    "train = airlines[:-24]\n",
    "test = airlines[-24:]"
   ]
  },
  {
   "cell_type": "markdown",
   "metadata": {},
   "source": [
    "### Forecasting"
   ]
  },
  {
   "cell_type": "code",
   "execution_count": 69,
   "metadata": {},
   "outputs": [],
   "source": [
    "model = SARIMAX(train.apply(np.log),\n",
    "                order=(1, 1, 1),\n",
    "                seasonal_order=(1, 1, 1, 12))\n",
    "\n",
    "results = model.fit()\n",
    "forecast = results.get_forecast(steps=24).predicted_mean"
   ]
  },
  {
   "cell_type": "code",
   "execution_count": 70,
   "metadata": {},
   "outputs": [
    {
     "data": {
      "image/png": "[encoded data removed]",
      "text/plain": [
       "<Figure size 720x360 with 1 Axes>"
      ]
     },
     "metadata": {
      "needs_background": "light"
     },
     "output_type": "display_data"
    }
   ],
   "source": [
    "airlines.plot(label='original')\n",
    "forecast.apply(np.exp).plot(label='SARIMAX forecast')\n",
    "plt.legend()\n",
    "plt.show()"
   ]
  },
  {
   "cell_type": "markdown",
   "metadata": {},
   "source": [
    "### Validation and evaluation"
   ]
  },
  {
   "cell_type": "markdown",
   "metadata": {},
   "source": [
    "We can use the MAE to assess the model performance on the test data."
   ]
  },
  {
   "cell_type": "code",
   "execution_count": 71,
   "metadata": {},
   "outputs": [
    {
     "data": {
      "text/plain": [
       "40.92936325814083"
      ]
     },
     "execution_count": 71,
     "metadata": {},
     "output_type": "execute_result"
    }
   ],
   "source": [
    "mean_absolute_error(test, forecast.apply(np.exp))"
   ]
  },
  {
   "cell_type": "markdown",
   "metadata": {},
   "source": [
    "But to see how good the model is we should also use a **forecasting baseline**. A common one is simply **the trend of the time series**. You can use a linear regression to get it:"
   ]
  },
  {
   "cell_type": "code",
   "execution_count": 72,
   "metadata": {
    "scrolled": true
   },
   "outputs": [],
   "source": [
    "y = airlines.values.reshape(-1, 1)\n",
    "X = np.arange(y.shape[0]).reshape(-1, 1)\n",
    "train_size = 24\n",
    "\n",
    "y_train = y[:-train_size]\n",
    "X_train = X[:-train_size]\n",
    "\n",
    "y_test =  y[-train_size:]\n",
    "X_test =  X[-train_size:]\n",
    "\n",
    "lr = LinearRegression()\n",
    "lr.fit(X_train, y_train)\n",
    "\n",
    "y_pred = lr.predict(X_test)\n",
    "\n",
    "airlines_test_pred = pd.Series(y_pred.reshape(-1,), index=airlines[-train_size:].index)"
   ]
  },
  {
   "cell_type": "code",
   "execution_count": 73,
   "metadata": {},
   "outputs": [
    {
     "data": {
      "image/png": "[encoded data removed]",
      "text/plain": [
       "<Figure size 720x360 with 1 Axes>"
      ]
     },
     "metadata": {
      "needs_background": "light"
     },
     "output_type": "display_data"
    }
   ],
   "source": [
    "plt.plot(airlines, label='original')\n",
    "plt.plot(airlines_test_pred, label='linear trend prediction')\n",
    "plt.legend()\n",
    "plt.show()"
   ]
  },
  {
   "cell_type": "code",
   "execution_count": 74,
   "metadata": {},
   "outputs": [
    {
     "data": {
      "text/plain": [
       "54.93759857937666"
      ]
     },
     "execution_count": 74,
     "metadata": {},
     "output_type": "execute_result"
    }
   ],
   "source": [
    "mean_absolute_error(y_test,y_pred)"
   ]
  },
  {
   "cell_type": "markdown",
   "metadata": {},
   "source": [
    "The SARIMAX model was significantly better!"
   ]
  },
  {
   "cell_type": "markdown",
   "metadata": {},
   "source": [
    "### Confidence intervals"
   ]
  },
  {
   "cell_type": "markdown",
   "metadata": {},
   "source": [
    "# BLU06 - Machine Learning for Time Series"
   ]
  },
  {
   "cell_type": "markdown",
   "metadata": {},
   "source": [
    "## Machine learning with time series"
   ]
  },
  {
   "cell_type": "markdown",
   "metadata": {},
   "source": [
    "Machine learning models are used with tabular data. To use them for time series data **we need to formulate time series forecasting as a ML regression problem**. That's what we'll learn now. "
   ]
  },
  {
   "cell_type": "code",
   "execution_count": 75,
   "metadata": {},
   "outputs": [],
   "source": [
    "airlines_as_dataframe = pd.DataFrame(airlines)"
   ]
  },
  {
   "cell_type": "markdown",
   "metadata": {},
   "source": [
    "In time series forecasting our target is the next value of the time series. So, we need to create this target using shift."
   ]
  },
  {
   "cell_type": "code",
   "execution_count": 76,
   "metadata": {},
   "outputs": [],
   "source": [
    "airlines_as_dataframe['target'] = airlines.shift(-1)"
   ]
  },
  {
   "cell_type": "markdown",
   "metadata": {},
   "source": [
    "As we learned in the previous BLU, an important feature to predict the next timestep are the previous values, so we'll create a couple of them."
   ]
  },
  {
   "cell_type": "code",
   "execution_count": 77,
   "metadata": {},
   "outputs": [],
   "source": [
    "airlines_as_dataframe['1 period before'] = airlines.shift(1)\n",
    "airlines_as_dataframe['2 periods before'] = airlines.shift(2)"
   ]
  },
  {
   "cell_type": "code",
   "execution_count": 78,
   "metadata": {},
   "outputs": [
    {
     "data": {
      "text/html": [
       "<div>\n",
       "<style scoped>\n",
       "    .dataframe tbody tr th:only-of-type {\n",
       "        vertical-align: middle;\n",
       "    }\n",
       "\n",
       "    .dataframe tbody tr th {\n",
       "        vertical-align: top;\n",
       "    }\n",
       "\n",
       "    .dataframe thead th {\n",
       "        text-align: right;\n",
       "    }\n",
       "</style>\n",
       "<table border=\"1\" class=\"dataframe\">\n",
       "  <thead>\n",
       "    <tr style=\"text-align: right;\">\n",
       "      <th></th>\n",
       "      <th>thousands of passengers</th>\n",
       "      <th>target</th>\n",
       "      <th>1 period before</th>\n",
       "      <th>2 periods before</th>\n",
       "    </tr>\n",
       "    <tr>\n",
       "      <th>Month</th>\n",
       "      <th></th>\n",
       "      <th></th>\n",
       "      <th></th>\n",
       "      <th></th>\n",
       "    </tr>\n",
       "  </thead>\n",
       "  <tbody>\n",
       "    <tr>\n",
       "      <th>1960-08-01</th>\n",
       "      <td>606.0</td>\n",
       "      <td>508.0</td>\n",
       "      <td>622.0</td>\n",
       "      <td>535.0</td>\n",
       "    </tr>\n",
       "    <tr>\n",
       "      <th>1960-09-01</th>\n",
       "      <td>508.0</td>\n",
       "      <td>461.0</td>\n",
       "      <td>606.0</td>\n",
       "      <td>622.0</td>\n",
       "    </tr>\n",
       "    <tr>\n",
       "      <th>1960-10-01</th>\n",
       "      <td>461.0</td>\n",
       "      <td>390.0</td>\n",
       "      <td>508.0</td>\n",
       "      <td>606.0</td>\n",
       "    </tr>\n",
       "    <tr>\n",
       "      <th>1960-11-01</th>\n",
       "      <td>390.0</td>\n",
       "      <td>432.0</td>\n",
       "      <td>461.0</td>\n",
       "      <td>508.0</td>\n",
       "    </tr>\n",
       "    <tr>\n",
       "      <th>1960-12-01</th>\n",
       "      <td>432.0</td>\n",
       "      <td>NaN</td>\n",
       "      <td>390.0</td>\n",
       "      <td>461.0</td>\n",
       "    </tr>\n",
       "  </tbody>\n",
       "</table>\n",
       "</div>"
      ],
      "text/plain": [
       "            thousands of passengers  target  1 period before  2 periods before\n",
       "Month                                                                         \n",
       "1960-08-01                    606.0   508.0            622.0             535.0\n",
       "1960-09-01                    508.0   461.0            606.0             622.0\n",
       "1960-10-01                    461.0   390.0            508.0             606.0\n",
       "1960-11-01                    390.0   432.0            461.0             508.0\n",
       "1960-12-01                    432.0     NaN            390.0             461.0"
      ]
     },
     "execution_count": 78,
     "metadata": {},
     "output_type": "execute_result"
    }
   ],
   "source": [
    "airlines_as_dataframe.tail(5)"
   ]
  },
  {
   "cell_type": "markdown",
   "metadata": {},
   "source": [
    "With this, we can train on the previous days, using them as features, and predict the target.  \n",
    "\n",
    "**The last period is not used for training because we don't have a target. This is the observation we will pass to `model.predict()` in order to obtain the prediction!** "
   ]
  },
  {
   "cell_type": "markdown",
   "metadata": {},
   "source": [
    "It is good practice to organize everything in a function!!..."
   ]
  },
  {
   "cell_type": "code",
   "execution_count": 80,
   "metadata": {},
   "outputs": [],
   "source": [
    "X_train, y_train, X_last_period = functions.prepare_for_prediction(airlines, \n",
    "                                                         number_of_periods_ahead=1, \n",
    "                                                        num_periods_lagged=3)"
   ]
  },
  {
   "cell_type": "code",
   "execution_count": 81,
   "metadata": {},
   "outputs": [],
   "source": [
    "lr = LinearRegression()\n",
    "lr.fit(X_train, y_train)\n",
    "predictions = lr.predict(X_train)"
   ]
  },
  {
   "cell_type": "code",
   "execution_count": 82,
   "metadata": {},
   "outputs": [
    {
     "data": {
      "text/plain": [
       "<matplotlib.axes._subplots.AxesSubplot at 0x3291a80978>"
      ]
     },
     "execution_count": 82,
     "metadata": {},
     "output_type": "execute_result"
    },
    {
     "data": {
      "image/png": "[encoded data removed]",
      "text/plain": [
       "<Figure size 720x360 with 1 Axes>"
      ]
     },
     "metadata": {
      "needs_background": "light"
     },
     "output_type": "display_data"
    }
   ],
   "source": [
    "y_train.plot()\n",
    "pd.Series(predictions, index=y_train.index).plot()"
   ]
  },
  {
   "cell_type": "markdown",
   "metadata": {},
   "source": [
    "## Multi-step Forecasting"
   ]
  },
  {
   "cell_type": "markdown",
   "metadata": {},
   "source": [
    "We know how to predict a specific day into the future, so **we can actually do multi-step forecasting, by building one model for each step we're forecasting**. The functions below implement this, so take some time to understand them."
   ]
  },
  {
   "cell_type": "markdown",
   "metadata": {},
   "source": [
    "The first step is to **split our train and test data**:"
   ]
  },
  {
   "cell_type": "code",
   "execution_count": 83,
   "metadata": {},
   "outputs": [],
   "source": [
    "train_size = 24\n",
    "train = airlines[:-train_size]\n",
    "test = airlines[-train_size:]"
   ]
  },
  {
   "cell_type": "code",
   "execution_count": 84,
   "metadata": {},
   "outputs": [],
   "source": [
    "predictions = functions.predict_n_periods(series_ = train, \n",
    "                                n_periods = train_size,\n",
    "                                model = LinearRegression(),\n",
    "                                num_periods_lagged = 12)"
   ]
  },
  {
   "cell_type": "code",
   "execution_count": 85,
   "metadata": {},
   "outputs": [
    {
     "data": {
      "image/png": "[encoded data removed]",
      "text/plain": [
       "<Figure size 720x360 with 1 Axes>"
      ]
     },
     "metadata": {
      "needs_background": "light"
     },
     "output_type": "display_data"
    }
   ],
   "source": [
    "plt.plot(airlines, label='Original')\n",
    "plt.plot(pd.Series(predictions, index=test.index))\n",
    "plt.legend()\n",
    "plt.show()"
   ]
  },
  {
   "cell_type": "code",
   "execution_count": 86,
   "metadata": {},
   "outputs": [
    {
     "data": {
      "text/plain": [
       "27.01176952930626"
      ]
     },
     "execution_count": 86,
     "metadata": {},
     "output_type": "execute_result"
    }
   ],
   "source": [
    "mean_absolute_error(predictions,test)"
   ]
  },
  {
   "cell_type": "markdown",
   "metadata": {},
   "source": [
    "## Pre-processing and Feature Engineering  \n",
    "\n",
    "The airlines dataset is quite different from the ones you'll find in the wild. In the next part we'll exlore a dataset that contains the customers that a store had with daily frequency. We'll learn about data pre-processing, feature engineering and time series cross validation."
   ]
  },
  {
   "cell_type": "code",
   "execution_count": 87,
   "metadata": {},
   "outputs": [
    {
     "name": "stdout",
     "output_type": "stream",
     "text": [
      "<class 'pandas.core.frame.DataFrame'>\n",
      "DatetimeIndex: 1676 entries, 2013-01-02 to 2017-08-15\n",
      "Data columns (total 1 columns):\n",
      "customers    1676 non-null int64\n",
      "dtypes: int64(1)\n",
      "memory usage: 26.2 KB\n"
     ]
    }
   ],
   "source": [
    "store = pd.read_csv('BLU06 - Machine Learning for Time Series/data/stores.csv')\n",
    "store = store[store.store_nbr==1].drop('store_nbr', axis=1) \n",
    "store['date'] = pd.to_datetime(store['date'], format='%Y-%m-%d')\n",
    "store = store.set_index('date')\n",
    "store = store.sort_index()\n",
    "store.info()"
   ]
  },
  {
   "cell_type": "markdown",
   "metadata": {},
   "source": [
    "### Data pre-processing\n",
    "\n",
    "Whenever analysing time series data it's always important to verify if it has all the timestamps. Let's look at our data."
   ]
  },
  {
   "cell_type": "code",
   "execution_count": 88,
   "metadata": {},
   "outputs": [
    {
     "data": {
      "text/plain": [
       "customers    0\n",
       "dtype: int64"
      ]
     },
     "execution_count": 88,
     "metadata": {},
     "output_type": "execute_result"
    }
   ],
   "source": [
    "store.isnull().sum()"
   ]
  },
  {
   "cell_type": "markdown",
   "metadata": {},
   "source": [
    "It seems to have daily frequency. To make sure we have no missing days we can resample the data to a daily frequency. This will add all possibly non-existing days as NaNs."
   ]
  },
  {
   "cell_type": "code",
   "execution_count": 89,
   "metadata": {},
   "outputs": [],
   "source": [
    "store_resampled = store.resample('D').mean()"
   ]
  },
  {
   "cell_type": "code",
   "execution_count": 91,
   "metadata": {},
   "outputs": [
    {
     "data": {
      "text/plain": [
       "customers    11\n",
       "dtype: int64"
      ]
     },
     "execution_count": 91,
     "metadata": {},
     "output_type": "execute_result"
    }
   ],
   "source": [
    "store_resampled.isnull().sum()"
   ]
  },
  {
   "cell_type": "code",
   "execution_count": 92,
   "metadata": {},
   "outputs": [
    {
     "data": {
      "text/plain": [
       "customers    0\n",
       "dtype: int64"
      ]
     },
     "execution_count": 92,
     "metadata": {},
     "output_type": "execute_result"
    }
   ],
   "source": [
    "store_cleaned = store_resampled.fillna(0)\n",
    "store_cleaned.isnull().sum()"
   ]
  },
  {
   "cell_type": "markdown",
   "metadata": {},
   "source": [
    "### Feature Engineering"
   ]
  },
  {
   "cell_type": "code",
   "execution_count": 93,
   "metadata": {},
   "outputs": [],
   "source": [
    "store_features = store_cleaned.copy()"
   ]
  },
  {
   "cell_type": "markdown",
   "metadata": {},
   "source": [
    "**Lags and diffs**"
   ]
  },
  {
   "cell_type": "markdown",
   "metadata": {},
   "source": [
    "Similar to lags, we can also use diffs of the time series to predict it. It's possible that knowing if the sales are increasing or decreasing can help predict better the next step."
   ]
  },
  {
   "cell_type": "code",
   "execution_count": 94,
   "metadata": {},
   "outputs": [],
   "source": [
    "store_features['diff'] = store_cleaned.customers.diff()"
   ]
  },
  {
   "cell_type": "code",
   "execution_count": 95,
   "metadata": {},
   "outputs": [],
   "source": [
    "store_features['lag1'] = store_cleaned.customers.shift(1)"
   ]
  },
  {
   "cell_type": "markdown",
   "metadata": {},
   "source": [
    "**Rolling Window features**"
   ]
  },
  {
   "cell_type": "markdown",
   "metadata": {},
   "source": [
    "Another type of feature that may be relevant are rolling window features. We can extract features from that window such as the minimum, mean, maximum and standard deviation in order to give information to the model about the recent statistical properties of the time series."
   ]
  },
  {
   "cell_type": "code",
   "execution_count": 96,
   "metadata": {},
   "outputs": [],
   "source": [
    "store_features['rolling_max'] = store_features['customers'].rolling('7D').max()\n",
    "store_features['rolling_min'] = store_features['customers'].rolling('7D').min()\n",
    "store_features['rolling_mean'] = store_features['customers'].rolling('7D').mean()\n",
    "store_features['rolling_std'] = store_features['customers'].rolling('7D').std()"
   ]
  },
  {
   "cell_type": "markdown",
   "metadata": {},
   "source": [
    "**Datetime features**"
   ]
  },
  {
   "cell_type": "markdown",
   "metadata": {},
   "source": [
    "Datetime features refer to those you can extract simply from the timestamp. For example, giving information regarding which day of the week it is, which month, etc. can go a long way to help the model understand the time series better."
   ]
  },
  {
   "cell_type": "code",
   "execution_count": 97,
   "metadata": {},
   "outputs": [],
   "source": [
    "store_features['day_of_week'] = store_features.index.weekday\n",
    "store_features['month'] = store_features.index.month"
   ]
  },
  {
   "cell_type": "markdown",
   "metadata": {},
   "source": [
    "**Circular Encoding**"
   ]
  },
  {
   "cell_type": "markdown",
   "metadata": {},
   "source": [
    "Is Monday closer to Sunday than to Thursday? \"Of course it is closer, what kind of question is that?!\" Well, the issue is that the current mapping between day of the week and number is the following:  \n",
    "- Monday: 0\n",
    "- Thursday: 3\n",
    "- Sunday: 6"
   ]
  },
  {
   "cell_type": "markdown",
   "metadata": {},
   "source": [
    "**This means that the distance between Monday and Thursday is smaller than Monday and Sunday, which gives wrong intuition to the model.** This is particularly important for linear models, as well as kNNm K-means and neural networks. This means that **we have to encode these features in a such a way that they convey their cyclical nature** to the model."
   ]
  },
  {
   "cell_type": "code",
   "execution_count": 98,
   "metadata": {},
   "outputs": [],
   "source": [
    "store_features['sin_weekday'] = np.sin(2*np.pi*store_features.index.weekday/7)\n",
    "store_features['cos_weekday'] = np.cos(2*np.pi*store_features.index.weekday/7)\n",
    "        \n",
    "store_features['sin_month'] = np.sin(2*np.pi*store_features.index.month/12)\n",
    "store_features['cos_month'] = np.cos(2*np.pi*store_features.index.month/12)"
   ]
  },
  {
   "cell_type": "code",
   "execution_count": 99,
   "metadata": {},
   "outputs": [
    {
     "data": {
      "text/html": [
       "<div>\n",
       "<style scoped>\n",
       "    .dataframe tbody tr th:only-of-type {\n",
       "        vertical-align: middle;\n",
       "    }\n",
       "\n",
       "    .dataframe tbody tr th {\n",
       "        vertical-align: top;\n",
       "    }\n",
       "\n",
       "    .dataframe thead th {\n",
       "        text-align: right;\n",
       "    }\n",
       "</style>\n",
       "<table border=\"1\" class=\"dataframe\">\n",
       "  <thead>\n",
       "    <tr style=\"text-align: right;\">\n",
       "      <th></th>\n",
       "      <th>customers</th>\n",
       "      <th>diff</th>\n",
       "      <th>lag1</th>\n",
       "      <th>rolling_max</th>\n",
       "      <th>rolling_min</th>\n",
       "      <th>rolling_mean</th>\n",
       "      <th>rolling_std</th>\n",
       "      <th>day_of_week</th>\n",
       "      <th>month</th>\n",
       "      <th>sin_weekday</th>\n",
       "      <th>cos_weekday</th>\n",
       "      <th>sin_month</th>\n",
       "      <th>cos_month</th>\n",
       "    </tr>\n",
       "    <tr>\n",
       "      <th>date</th>\n",
       "      <th></th>\n",
       "      <th></th>\n",
       "      <th></th>\n",
       "      <th></th>\n",
       "      <th></th>\n",
       "      <th></th>\n",
       "      <th></th>\n",
       "      <th></th>\n",
       "      <th></th>\n",
       "      <th></th>\n",
       "      <th></th>\n",
       "      <th></th>\n",
       "      <th></th>\n",
       "    </tr>\n",
       "  </thead>\n",
       "  <tbody>\n",
       "    <tr>\n",
       "      <th>2013-01-02</th>\n",
       "      <td>2111.0</td>\n",
       "      <td>NaN</td>\n",
       "      <td>NaN</td>\n",
       "      <td>2111.0</td>\n",
       "      <td>2111.0</td>\n",
       "      <td>2111.000000</td>\n",
       "      <td>NaN</td>\n",
       "      <td>2</td>\n",
       "      <td>1</td>\n",
       "      <td>0.974928</td>\n",
       "      <td>-0.222521</td>\n",
       "      <td>0.5</td>\n",
       "      <td>0.866025</td>\n",
       "    </tr>\n",
       "    <tr>\n",
       "      <th>2013-01-03</th>\n",
       "      <td>1833.0</td>\n",
       "      <td>-278.0</td>\n",
       "      <td>2111.0</td>\n",
       "      <td>2111.0</td>\n",
       "      <td>1833.0</td>\n",
       "      <td>1972.000000</td>\n",
       "      <td>196.575685</td>\n",
       "      <td>3</td>\n",
       "      <td>1</td>\n",
       "      <td>0.433884</td>\n",
       "      <td>-0.900969</td>\n",
       "      <td>0.5</td>\n",
       "      <td>0.866025</td>\n",
       "    </tr>\n",
       "    <tr>\n",
       "      <th>2013-01-04</th>\n",
       "      <td>1863.0</td>\n",
       "      <td>30.0</td>\n",
       "      <td>1833.0</td>\n",
       "      <td>2111.0</td>\n",
       "      <td>1833.0</td>\n",
       "      <td>1935.666667</td>\n",
       "      <td>152.582218</td>\n",
       "      <td>4</td>\n",
       "      <td>1</td>\n",
       "      <td>-0.433884</td>\n",
       "      <td>-0.900969</td>\n",
       "      <td>0.5</td>\n",
       "      <td>0.866025</td>\n",
       "    </tr>\n",
       "    <tr>\n",
       "      <th>2013-01-05</th>\n",
       "      <td>1509.0</td>\n",
       "      <td>-354.0</td>\n",
       "      <td>1863.0</td>\n",
       "      <td>2111.0</td>\n",
       "      <td>1509.0</td>\n",
       "      <td>1829.000000</td>\n",
       "      <td>247.046554</td>\n",
       "      <td>5</td>\n",
       "      <td>1</td>\n",
       "      <td>-0.974928</td>\n",
       "      <td>-0.222521</td>\n",
       "      <td>0.5</td>\n",
       "      <td>0.866025</td>\n",
       "    </tr>\n",
       "    <tr>\n",
       "      <th>2013-01-06</th>\n",
       "      <td>520.0</td>\n",
       "      <td>-989.0</td>\n",
       "      <td>1509.0</td>\n",
       "      <td>2111.0</td>\n",
       "      <td>520.0</td>\n",
       "      <td>1567.200000</td>\n",
       "      <td>623.273776</td>\n",
       "      <td>6</td>\n",
       "      <td>1</td>\n",
       "      <td>-0.781831</td>\n",
       "      <td>0.623490</td>\n",
       "      <td>0.5</td>\n",
       "      <td>0.866025</td>\n",
       "    </tr>\n",
       "  </tbody>\n",
       "</table>\n",
       "</div>"
      ],
      "text/plain": [
       "            customers   diff    lag1  rolling_max  rolling_min  rolling_mean  \\\n",
       "date                                                                           \n",
       "2013-01-02     2111.0    NaN     NaN       2111.0       2111.0   2111.000000   \n",
       "2013-01-03     1833.0 -278.0  2111.0       2111.0       1833.0   1972.000000   \n",
       "2013-01-04     1863.0   30.0  1833.0       2111.0       1833.0   1935.666667   \n",
       "2013-01-05     1509.0 -354.0  1863.0       2111.0       1509.0   1829.000000   \n",
       "2013-01-06      520.0 -989.0  1509.0       2111.0        520.0   1567.200000   \n",
       "\n",
       "            rolling_std  day_of_week  month  sin_weekday  cos_weekday  \\\n",
       "date                                                                    \n",
       "2013-01-02          NaN            2      1     0.974928    -0.222521   \n",
       "2013-01-03   196.575685            3      1     0.433884    -0.900969   \n",
       "2013-01-04   152.582218            4      1    -0.433884    -0.900969   \n",
       "2013-01-05   247.046554            5      1    -0.974928    -0.222521   \n",
       "2013-01-06   623.273776            6      1    -0.781831     0.623490   \n",
       "\n",
       "            sin_month  cos_month  \n",
       "date                              \n",
       "2013-01-02        0.5   0.866025  \n",
       "2013-01-03        0.5   0.866025  \n",
       "2013-01-04        0.5   0.866025  \n",
       "2013-01-05        0.5   0.866025  \n",
       "2013-01-06        0.5   0.866025  "
      ]
     },
     "execution_count": 99,
     "metadata": {},
     "output_type": "execute_result"
    }
   ],
   "source": [
    "store_features.head()"
   ]
  },
  {
   "cell_type": "markdown",
   "metadata": {},
   "source": [
    "## Time Series Hyper Parameter Optimization"
   ]
  },
  {
   "cell_type": "markdown",
   "metadata": {},
   "source": [
    "For hyper parameter optimization **we need**:\n",
    "1. **Train set**: To train the model with the different parameter's combinations.\n",
    "2. **Validation set**: To assess the performance estimates with the different parameters.\n",
    "3. **Test set**: To evaluate the performance of the best set of parameters on unseen data."
   ]
  },
  {
   "cell_type": "markdown",
   "metadata": {},
   "source": [
    "### Parameter grid"
   ]
  },
  {
   "cell_type": "markdown",
   "metadata": {},
   "source": [
    "Let's create a parameter grid with the combinations we want to test using sklearn's [ParameterGrid](https://scikit-learn.org/stable/modules/generated/sklearn.model_selection.ParameterGrid.html) and apply the **grid search** proccess (aka brute force) for hyper parameter optimization."
   ]
  },
  {
   "cell_type": "markdown",
   "metadata": {},
   "source": [
    "`from sklearn.model_selection import ParameterGrid`"
   ]
  },
  {
   "cell_type": "code",
   "execution_count": 100,
   "metadata": {},
   "outputs": [],
   "source": [
    "param_grid = {'model': [LinearRegression(), GradientBoostingRegressor()], \n",
    "              'num_periods_lagged':np.arange(1,3),\n",
    "              'num_periods_diffed':np.arange(0,3),\n",
    "              'weekday':[True,False],\n",
    "              'month':[True,False],\n",
    "              'holidays': [True],\n",
    "              'rolling' : [[np.mean,np.min,np.max,np.std]]\n",
    "             }\n",
    "\n",
    "grid = ParameterGrid(param_grid)"
   ]
  },
  {
   "cell_type": "markdown",
   "metadata": {},
   "source": [
    "`ParameterGrid()` returns an iterable over parameter value combinations. Below an iteration example."
   ]
  },
  {
   "cell_type": "code",
   "execution_count": 101,
   "metadata": {},
   "outputs": [
    {
     "data": {
      "text/plain": [
       "{'holidays': True,\n",
       " 'model': GradientBoostingRegressor(alpha=0.9, criterion='friedman_mse', init=None,\n",
       "              learning_rate=0.1, loss='ls', max_depth=3, max_features=None,\n",
       "              max_leaf_nodes=None, min_impurity_decrease=0.0,\n",
       "              min_impurity_split=None, min_samples_leaf=1,\n",
       "              min_samples_split=2, min_weight_fraction_leaf=0.0,\n",
       "              n_estimators=100, n_iter_no_change=None, presort='auto',\n",
       "              random_state=None, subsample=1.0, tol=0.0001,\n",
       "              validation_fraction=0.1, verbose=0, warm_start=False),\n",
       " 'month': False,\n",
       " 'num_periods_diffed': 2,\n",
       " 'num_periods_lagged': 2,\n",
       " 'rolling': [<function numpy.core.fromnumeric.mean(a, axis=None, dtype=None, out=None, keepdims=<no value>)>,\n",
       "  <function numpy.core.fromnumeric.amin(a, axis=None, out=None, keepdims=<no value>, initial=<no value>)>,\n",
       "  <function numpy.core.fromnumeric.amax(a, axis=None, out=None, keepdims=<no value>, initial=<no value>)>,\n",
       "  <function numpy.core.fromnumeric.std(a, axis=None, dtype=None, out=None, ddof=0, keepdims=<no value>)>],\n",
       " 'weekday': False}"
      ]
     },
     "execution_count": 101,
     "metadata": {},
     "output_type": "execute_result"
    }
   ],
   "source": [
    "for param in grid:\n",
    "    # just showing it is iterable and printin the last value as example\n",
    "    continue\n",
    "\n",
    "param"
   ]
  },
  {
   "cell_type": "markdown",
   "metadata": {},
   "source": [
    "### The simplest option: training, validation and test set"
   ]
  },
  {
   "cell_type": "markdown",
   "metadata": {},
   "source": [
    "The simplest option is the one descibed above:\n",
    "1. **Train set**: To train the model with the different parameter's combinations.\n",
    "2. **Validation set**: To assess the performance estimates with the different parameters.\n",
    "3. **Test set**: To evaluate the performance of the best set of parameters on unseen data."
   ]
  },
  {
   "cell_type": "code",
   "execution_count": 111,
   "metadata": {},
   "outputs": [],
   "source": [
    "test_size = val_size = 150\n",
    "train_size = store_cleaned.shape[0] - val_size - test_size\n",
    "\n",
    "train = store_cleaned[:train_size]\n",
    "val = store_cleaned[train_size:-test_size]\n",
    "test = store_cleaned[-test_size:]"
   ]
  },
  {
   "cell_type": "markdown",
   "metadata": {},
   "source": [
    "Now that we have a split set and a parameter grid we can test on a validation set to see which combination of features gives best performance!"
   ]
  },
  {
   "cell_type": "code",
   "execution_count": 118,
   "metadata": {},
   "outputs": [
    {
     "data": {
      "text/plain": [
       "46"
      ]
     },
     "execution_count": 118,
     "metadata": {},
     "output_type": "execute_result"
    }
   ],
   "source": [
    "#Careful!!! 3 to 4 min!!!!\n",
    "\n",
    "# error_lst = []\n",
    "# for params in list(grid):\n",
    "#     predictions = functions.predict_n_periods(series_=train, \n",
    "#                       n_periods=val.shape[0], \n",
    "#                       model=params['model'], \n",
    "#                       num_periods_lagged=params['num_periods_lagged'],\n",
    "#                       num_periods_diffed=params['num_periods_diffed'],\n",
    "#                       weekday=params['weekday'],\n",
    "#                       month=params['month'],\n",
    "#                       rolling=params['rolling']\n",
    "#                     )\n",
    "\n",
    "#     error_lst.append(mean_absolute_error(val,predictions))\n",
    "\n",
    "# results = pd.DataFrame({'model':grid, 'mae':error_lst}).sort_values(by='mae').reset_index(drop=True)\n",
    "# best_model = results.model[0]\n",
    "# best_model"
   ]
  },
  {
   "cell_type": "markdown",
   "metadata": {},
   "source": [
    "### The best option: Cross-validation"
   ]
  },
  {
   "cell_type": "markdown",
   "metadata": {},
   "source": [
    "Now we don't have a validation set because the test self itself will be split for training and validation"
   ]
  },
  {
   "cell_type": "code",
   "execution_count": 143,
   "metadata": {},
   "outputs": [],
   "source": [
    "test_size = 365\n",
    "train_size = store_cleaned.shape[0] - test_size\n",
    "\n",
    "train = store_cleaned[:train_size]\n",
    "test = store_cleaned[-test_size:]"
   ]
  },
  {
   "cell_type": "markdown",
   "metadata": {},
   "source": [
    "**k-Fold Cross-validation**"
   ]
  },
  {
   "cell_type": "markdown",
   "metadata": {},
   "source": [
    "Test error results can be subject to great variability, especially for smaller datasets, depending on how we split the data (i.e., which observations go where).\n",
    "\n",
    "Also, and quite obviously, holding out *more* data reduces the amount available for training, possibly leading us to *overestimate* the test error.\n",
    "\n",
    "In *k*-fold cross validation:\n",
    "1. The original sample is randomly partitioned into *k* equal sized parts, or subsamples\n",
    "\n",
    "2. Each time, we leave out part *k*, fit the model to the other *k*-1 subsets combined in a single dataset, and then test the model against the left out *k*th part\n",
    "\n",
    "3. This is done for each *k* = 1, 2, ..., *K*, and then the results are combined, using, for example, the mean error.\n",
    "\n",
    "<img src=https://raw.githubusercontent.com/qingkaikong/blog/master/2017_05_More_on_applying_ANN/figures/figure_1.jpg width=\"400\">"
   ]
  },
  {
   "cell_type": "markdown",
   "metadata": {},
   "source": [
    "`from sklearn.model_selection import KFold`"
   ]
  },
  {
   "cell_type": "code",
   "execution_count": 149,
   "metadata": {},
   "outputs": [
    {
     "ename": "KeyError",
     "evalue": "'[ 133  134  135 ... 1319 1320 1321] not in index'",
     "output_type": "error",
     "traceback": [
      "\u001b[1;31m---------------------------------------------------------------------------\u001b[0m",
      "\u001b[1;31mKeyError\u001b[0m                                  Traceback (most recent call last)",
      "\u001b[1;32m<ipython-input-149-01cd658d0af1>\u001b[0m in \u001b[0;36m<module>\u001b[1;34m\u001b[0m\n\u001b[0;32m      6\u001b[0m \u001b[1;32mfor\u001b[0m \u001b[0mii\u001b[0m\u001b[1;33m,\u001b[0m \u001b[1;33m(\u001b[0m\u001b[0mtr\u001b[0m\u001b[1;33m,\u001b[0m \u001b[0mtt\u001b[0m\u001b[1;33m)\u001b[0m \u001b[1;32min\u001b[0m \u001b[0menumerate\u001b[0m\u001b[1;33m(\u001b[0m\u001b[0mcv\u001b[0m\u001b[1;33m.\u001b[0m\u001b[0msplit\u001b[0m\u001b[1;33m(\u001b[0m\u001b[0mtrain\u001b[0m\u001b[1;33m/\u001b[0m\u001b[0mtrain\u001b[0m\u001b[1;33m.\u001b[0m\u001b[0mmax\u001b[0m\u001b[1;33m(\u001b[0m\u001b[1;33m)\u001b[0m\u001b[1;33m)\u001b[0m\u001b[1;33m)\u001b[0m\u001b[1;33m:\u001b[0m\u001b[1;33m\u001b[0m\u001b[1;33m\u001b[0m\u001b[0m\n\u001b[0;32m      7\u001b[0m     \u001b[1;31m# Plot the training data on each iteration, to see the behavior of the CV\u001b[0m\u001b[1;33m\u001b[0m\u001b[1;33m\u001b[0m\u001b[1;33m\u001b[0m\u001b[0m\n\u001b[1;32m----> 8\u001b[1;33m     \u001b[0max\u001b[0m\u001b[1;33m.\u001b[0m\u001b[0mplot\u001b[0m\u001b[1;33m(\u001b[0m\u001b[0mtrain\u001b[0m\u001b[1;33m.\u001b[0m\u001b[0mindex\u001b[0m\u001b[1;33m[\u001b[0m\u001b[0mtr\u001b[0m\u001b[1;33m]\u001b[0m\u001b[1;33m,\u001b[0m \u001b[0mii\u001b[0m \u001b[1;33m+\u001b[0m \u001b[0mtrain\u001b[0m\u001b[1;33m[\u001b[0m\u001b[0mtr\u001b[0m\u001b[1;33m]\u001b[0m\u001b[1;33m/\u001b[0m\u001b[0mstore_train\u001b[0m\u001b[1;33m.\u001b[0m\u001b[0mmax\u001b[0m\u001b[1;33m(\u001b[0m\u001b[1;33m)\u001b[0m\u001b[1;33m,\u001b[0m \u001b[0mcolor\u001b[0m\u001b[1;33m=\u001b[0m\u001b[1;34m'green'\u001b[0m\u001b[1;33m)\u001b[0m\u001b[1;33m\u001b[0m\u001b[1;33m\u001b[0m\u001b[0m\n\u001b[0m\u001b[0;32m      9\u001b[0m     \u001b[0max\u001b[0m\u001b[1;33m.\u001b[0m\u001b[0mplot\u001b[0m\u001b[1;33m(\u001b[0m\u001b[0mtrain\u001b[0m\u001b[1;33m.\u001b[0m\u001b[0mindex\u001b[0m\u001b[1;33m[\u001b[0m\u001b[0mtt\u001b[0m\u001b[1;33m]\u001b[0m\u001b[1;33m,\u001b[0m \u001b[0mii\u001b[0m \u001b[1;33m+\u001b[0m \u001b[0mtrain\u001b[0m\u001b[1;33m[\u001b[0m\u001b[0mtt\u001b[0m\u001b[1;33m]\u001b[0m\u001b[1;33m/\u001b[0m\u001b[0mstore_train\u001b[0m\u001b[1;33m.\u001b[0m\u001b[0mmax\u001b[0m\u001b[1;33m(\u001b[0m\u001b[1;33m)\u001b[0m\u001b[1;33m,\u001b[0m \u001b[0mcolor\u001b[0m\u001b[1;33m=\u001b[0m\u001b[1;34m'orange'\u001b[0m\u001b[1;33m)\u001b[0m\u001b[1;33m\u001b[0m\u001b[1;33m\u001b[0m\u001b[0m\n\u001b[0;32m     10\u001b[0m \u001b[1;33m\u001b[0m\u001b[0m\n",
      "\u001b[1;32m~\\AppData\\Local\\Continuum\\anaconda3\\lib\\site-packages\\pandas\\core\\frame.py\u001b[0m in \u001b[0;36m__getitem__\u001b[1;34m(self, key)\u001b[0m\n\u001b[0;32m   2680\u001b[0m         \u001b[1;32mif\u001b[0m \u001b[0misinstance\u001b[0m\u001b[1;33m(\u001b[0m\u001b[0mkey\u001b[0m\u001b[1;33m,\u001b[0m \u001b[1;33m(\u001b[0m\u001b[0mSeries\u001b[0m\u001b[1;33m,\u001b[0m \u001b[0mnp\u001b[0m\u001b[1;33m.\u001b[0m\u001b[0mndarray\u001b[0m\u001b[1;33m,\u001b[0m \u001b[0mIndex\u001b[0m\u001b[1;33m,\u001b[0m \u001b[0mlist\u001b[0m\u001b[1;33m)\u001b[0m\u001b[1;33m)\u001b[0m\u001b[1;33m:\u001b[0m\u001b[1;33m\u001b[0m\u001b[1;33m\u001b[0m\u001b[0m\n\u001b[0;32m   2681\u001b[0m             \u001b[1;31m# either boolean or fancy integer index\u001b[0m\u001b[1;33m\u001b[0m\u001b[1;33m\u001b[0m\u001b[1;33m\u001b[0m\u001b[0m\n\u001b[1;32m-> 2682\u001b[1;33m             \u001b[1;32mreturn\u001b[0m \u001b[0mself\u001b[0m\u001b[1;33m.\u001b[0m\u001b[0m_getitem_array\u001b[0m\u001b[1;33m(\u001b[0m\u001b[0mkey\u001b[0m\u001b[1;33m)\u001b[0m\u001b[1;33m\u001b[0m\u001b[1;33m\u001b[0m\u001b[0m\n\u001b[0m\u001b[0;32m   2683\u001b[0m         \u001b[1;32melif\u001b[0m \u001b[0misinstance\u001b[0m\u001b[1;33m(\u001b[0m\u001b[0mkey\u001b[0m\u001b[1;33m,\u001b[0m \u001b[0mDataFrame\u001b[0m\u001b[1;33m)\u001b[0m\u001b[1;33m:\u001b[0m\u001b[1;33m\u001b[0m\u001b[1;33m\u001b[0m\u001b[0m\n\u001b[0;32m   2684\u001b[0m             \u001b[1;32mreturn\u001b[0m \u001b[0mself\u001b[0m\u001b[1;33m.\u001b[0m\u001b[0m_getitem_frame\u001b[0m\u001b[1;33m(\u001b[0m\u001b[0mkey\u001b[0m\u001b[1;33m)\u001b[0m\u001b[1;33m\u001b[0m\u001b[1;33m\u001b[0m\u001b[0m\n",
      "\u001b[1;32m~\\AppData\\Local\\Continuum\\anaconda3\\lib\\site-packages\\pandas\\core\\frame.py\u001b[0m in \u001b[0;36m_getitem_array\u001b[1;34m(self, key)\u001b[0m\n\u001b[0;32m   2724\u001b[0m             \u001b[1;32mreturn\u001b[0m \u001b[0mself\u001b[0m\u001b[1;33m.\u001b[0m\u001b[0m_take\u001b[0m\u001b[1;33m(\u001b[0m\u001b[0mindexer\u001b[0m\u001b[1;33m,\u001b[0m \u001b[0maxis\u001b[0m\u001b[1;33m=\u001b[0m\u001b[1;36m0\u001b[0m\u001b[1;33m)\u001b[0m\u001b[1;33m\u001b[0m\u001b[1;33m\u001b[0m\u001b[0m\n\u001b[0;32m   2725\u001b[0m         \u001b[1;32melse\u001b[0m\u001b[1;33m:\u001b[0m\u001b[1;33m\u001b[0m\u001b[1;33m\u001b[0m\u001b[0m\n\u001b[1;32m-> 2726\u001b[1;33m             \u001b[0mindexer\u001b[0m \u001b[1;33m=\u001b[0m \u001b[0mself\u001b[0m\u001b[1;33m.\u001b[0m\u001b[0mloc\u001b[0m\u001b[1;33m.\u001b[0m\u001b[0m_convert_to_indexer\u001b[0m\u001b[1;33m(\u001b[0m\u001b[0mkey\u001b[0m\u001b[1;33m,\u001b[0m \u001b[0maxis\u001b[0m\u001b[1;33m=\u001b[0m\u001b[1;36m1\u001b[0m\u001b[1;33m)\u001b[0m\u001b[1;33m\u001b[0m\u001b[1;33m\u001b[0m\u001b[0m\n\u001b[0m\u001b[0;32m   2727\u001b[0m             \u001b[1;32mreturn\u001b[0m \u001b[0mself\u001b[0m\u001b[1;33m.\u001b[0m\u001b[0m_take\u001b[0m\u001b[1;33m(\u001b[0m\u001b[0mindexer\u001b[0m\u001b[1;33m,\u001b[0m \u001b[0maxis\u001b[0m\u001b[1;33m=\u001b[0m\u001b[1;36m1\u001b[0m\u001b[1;33m)\u001b[0m\u001b[1;33m\u001b[0m\u001b[1;33m\u001b[0m\u001b[0m\n\u001b[0;32m   2728\u001b[0m \u001b[1;33m\u001b[0m\u001b[0m\n",
      "\u001b[1;32m~\\AppData\\Local\\Continuum\\anaconda3\\lib\\site-packages\\pandas\\core\\indexing.py\u001b[0m in \u001b[0;36m_convert_to_indexer\u001b[1;34m(self, obj, axis, is_setter)\u001b[0m\n\u001b[0;32m   1325\u001b[0m                 \u001b[1;32mif\u001b[0m \u001b[0mmask\u001b[0m\u001b[1;33m.\u001b[0m\u001b[0many\u001b[0m\u001b[1;33m(\u001b[0m\u001b[1;33m)\u001b[0m\u001b[1;33m:\u001b[0m\u001b[1;33m\u001b[0m\u001b[1;33m\u001b[0m\u001b[0m\n\u001b[0;32m   1326\u001b[0m                     raise KeyError('{mask} not in index'\n\u001b[1;32m-> 1327\u001b[1;33m                                    .format(mask=objarr[mask]))\n\u001b[0m\u001b[0;32m   1328\u001b[0m \u001b[1;33m\u001b[0m\u001b[0m\n\u001b[0;32m   1329\u001b[0m                 \u001b[1;32mreturn\u001b[0m \u001b[0mcom\u001b[0m\u001b[1;33m.\u001b[0m\u001b[0m_values_from_object\u001b[0m\u001b[1;33m(\u001b[0m\u001b[0mindexer\u001b[0m\u001b[1;33m)\u001b[0m\u001b[1;33m\u001b[0m\u001b[1;33m\u001b[0m\u001b[0m\n",
      "\u001b[1;31mKeyError\u001b[0m: '[ 133  134  135 ... 1319 1320 1321] not in index'"
     ]
    },
    {
     "data": {
      "image/png": "[encoded data removed]",
      "text/plain": [
       "<Figure size 720x360 with 1 Axes>"
      ]
     },
     "metadata": {
      "needs_background": "light"
     },
     "output_type": "display_data"
    }
   ],
   "source": [
    "# Create time-series cross-validation object\n",
    "cv = KFold(n_splits=10)\n",
    "\n",
    "# Iterate through CV splits\n",
    "fig, ax = plt.subplots()\n",
    "for ii, (tr, tt) in enumerate(cv.split(train/train.max())):\n",
    "    # Plot the training data on each iteration, to see the behavior of the CV\n",
    "    ax.plot(train.index[tr], ii + train[tr]/store_train.max(), color='green')\n",
    "    ax.plot(train.index[tt], ii + train[tt]/store_train.max(), color='orange')\n",
    "\n",
    "ax.set(title='Training data on each CV iteration', ylabel='CV iteration')\n",
    "plt.show()"
   ]
  },
  {
   "cell_type": "code",
   "execution_count": null,
   "metadata": {},
   "outputs": [],
   "source": []
  },
  {
   "cell_type": "markdown",
   "metadata": {},
   "source": [
    "# Addressing the problem"
   ]
  },
  {
   "cell_type": "markdown",
   "metadata": {},
   "source": [
    "1. compute the timedelta of the set and make sure all periods are present.\n",
    "```python\n",
    "# Compare the results below\n",
    "(pd.to_datetime('first_date')-pd.to_datetime('last_date')).days\n",
    "df.index.shape[0]\n",
    "```\n",
    "\n",
    "2. Insert the missing elements.\n",
    "```python\n",
    "df = df.resample('D').mean()\n",
    "df_resampled[df_resampled.customers.isnull()]\n",
    "```  \n",
    "\n",
    "3. Create the lags, target and `dropna()`.\n",
    "```python\n",
    "df_features = df_resampled.copy()\n",
    "df_features['lag1'] = df_features.customers.shift(1)\n",
    "df_features['lag2'] = df_features.customers.shift(2)\n",
    "df_features['lag3'] = df_features.customers.shift(3)\n",
    "df_features['target'] = df_features.customers.shift(-1)\n",
    "df_features = df_features.dropna()\n",
    "```  \n",
    "\n",
    "4. Split the train, validation and test sets.  \n",
    "\n",
    "```python\n",
    "test_size = val_size = 150\n",
    "train_size = df_features.shape[0] - val_size - test_size\n",
    "\n",
    "train = df_features[:train_size]\n",
    "val = df_features[train_size:-test_size]\n",
    "test = df_features[-test_size:]\n",
    "```  \n",
    "\n",
    "5. srf\n"
   ]
  },
  {
   "cell_type": "code",
   "execution_count": 173,
   "metadata": {
    "scrolled": true
   },
   "outputs": [
    {
     "data": {
      "text/html": [
       "<div>\n",
       "<style scoped>\n",
       "    .dataframe tbody tr th:only-of-type {\n",
       "        vertical-align: middle;\n",
       "    }\n",
       "\n",
       "    .dataframe tbody tr th {\n",
       "        vertical-align: top;\n",
       "    }\n",
       "\n",
       "    .dataframe thead th {\n",
       "        text-align: right;\n",
       "    }\n",
       "</style>\n",
       "<table border=\"1\" class=\"dataframe\">\n",
       "  <thead>\n",
       "    <tr style=\"text-align: right;\">\n",
       "      <th></th>\n",
       "      <th>ts</th>\n",
       "      <th>lag_1</th>\n",
       "      <th>lag_2</th>\n",
       "      <th>target_1</th>\n",
       "      <th>target_2</th>\n",
       "      <th>target_3</th>\n",
       "      <th>target_4</th>\n",
       "      <th>target_5</th>\n",
       "      <th>target_6</th>\n",
       "      <th>target_7</th>\n",
       "      <th>target_8</th>\n",
       "      <th>target_9</th>\n",
       "      <th>target_10</th>\n",
       "      <th>target_11</th>\n",
       "      <th>target_12</th>\n",
       "    </tr>\n",
       "    <tr>\n",
       "      <th>date</th>\n",
       "      <th></th>\n",
       "      <th></th>\n",
       "      <th></th>\n",
       "      <th></th>\n",
       "      <th></th>\n",
       "      <th></th>\n",
       "      <th></th>\n",
       "      <th></th>\n",
       "      <th></th>\n",
       "      <th></th>\n",
       "      <th></th>\n",
       "      <th></th>\n",
       "      <th></th>\n",
       "      <th></th>\n",
       "      <th></th>\n",
       "    </tr>\n",
       "  </thead>\n",
       "  <tbody>\n",
       "    <tr>\n",
       "      <th>2013-01-04</th>\n",
       "      <td>1863.0</td>\n",
       "      <td>1833.0</td>\n",
       "      <td>2111.0</td>\n",
       "      <td>1509.0</td>\n",
       "      <td>520.0</td>\n",
       "      <td>1807.0</td>\n",
       "      <td>1869.0</td>\n",
       "      <td>1910.0</td>\n",
       "      <td>1679.0</td>\n",
       "      <td>1813.0</td>\n",
       "      <td>1473.0</td>\n",
       "      <td>542.0</td>\n",
       "      <td>1780.0</td>\n",
       "      <td>1680.0</td>\n",
       "      <td>1933.0</td>\n",
       "    </tr>\n",
       "    <tr>\n",
       "      <th>2013-01-05</th>\n",
       "      <td>1509.0</td>\n",
       "      <td>1863.0</td>\n",
       "      <td>1833.0</td>\n",
       "      <td>520.0</td>\n",
       "      <td>1807.0</td>\n",
       "      <td>1869.0</td>\n",
       "      <td>1910.0</td>\n",
       "      <td>1679.0</td>\n",
       "      <td>1813.0</td>\n",
       "      <td>1473.0</td>\n",
       "      <td>542.0</td>\n",
       "      <td>1780.0</td>\n",
       "      <td>1680.0</td>\n",
       "      <td>1933.0</td>\n",
       "      <td>1786.0</td>\n",
       "    </tr>\n",
       "    <tr>\n",
       "      <th>2013-01-06</th>\n",
       "      <td>520.0</td>\n",
       "      <td>1509.0</td>\n",
       "      <td>1863.0</td>\n",
       "      <td>1807.0</td>\n",
       "      <td>1869.0</td>\n",
       "      <td>1910.0</td>\n",
       "      <td>1679.0</td>\n",
       "      <td>1813.0</td>\n",
       "      <td>1473.0</td>\n",
       "      <td>542.0</td>\n",
       "      <td>1780.0</td>\n",
       "      <td>1680.0</td>\n",
       "      <td>1933.0</td>\n",
       "      <td>1786.0</td>\n",
       "      <td>1745.0</td>\n",
       "    </tr>\n",
       "    <tr>\n",
       "      <th>2013-01-07</th>\n",
       "      <td>1807.0</td>\n",
       "      <td>520.0</td>\n",
       "      <td>1509.0</td>\n",
       "      <td>1869.0</td>\n",
       "      <td>1910.0</td>\n",
       "      <td>1679.0</td>\n",
       "      <td>1813.0</td>\n",
       "      <td>1473.0</td>\n",
       "      <td>542.0</td>\n",
       "      <td>1780.0</td>\n",
       "      <td>1680.0</td>\n",
       "      <td>1933.0</td>\n",
       "      <td>1786.0</td>\n",
       "      <td>1745.0</td>\n",
       "      <td>1389.0</td>\n",
       "    </tr>\n",
       "    <tr>\n",
       "      <th>2013-01-08</th>\n",
       "      <td>1869.0</td>\n",
       "      <td>1807.0</td>\n",
       "      <td>520.0</td>\n",
       "      <td>1910.0</td>\n",
       "      <td>1679.0</td>\n",
       "      <td>1813.0</td>\n",
       "      <td>1473.0</td>\n",
       "      <td>542.0</td>\n",
       "      <td>1780.0</td>\n",
       "      <td>1680.0</td>\n",
       "      <td>1933.0</td>\n",
       "      <td>1786.0</td>\n",
       "      <td>1745.0</td>\n",
       "      <td>1389.0</td>\n",
       "      <td>507.0</td>\n",
       "    </tr>\n",
       "    <tr>\n",
       "      <th>2013-01-09</th>\n",
       "      <td>1910.0</td>\n",
       "      <td>1869.0</td>\n",
       "      <td>1807.0</td>\n",
       "      <td>1679.0</td>\n",
       "      <td>1813.0</td>\n",
       "      <td>1473.0</td>\n",
       "      <td>542.0</td>\n",
       "      <td>1780.0</td>\n",
       "      <td>1680.0</td>\n",
       "      <td>1933.0</td>\n",
       "      <td>1786.0</td>\n",
       "      <td>1745.0</td>\n",
       "      <td>1389.0</td>\n",
       "      <td>507.0</td>\n",
       "      <td>1770.0</td>\n",
       "    </tr>\n",
       "    <tr>\n",
       "      <th>2013-01-10</th>\n",
       "      <td>1679.0</td>\n",
       "      <td>1910.0</td>\n",
       "      <td>1869.0</td>\n",
       "      <td>1813.0</td>\n",
       "      <td>1473.0</td>\n",
       "      <td>542.0</td>\n",
       "      <td>1780.0</td>\n",
       "      <td>1680.0</td>\n",
       "      <td>1933.0</td>\n",
       "      <td>1786.0</td>\n",
       "      <td>1745.0</td>\n",
       "      <td>1389.0</td>\n",
       "      <td>507.0</td>\n",
       "      <td>1770.0</td>\n",
       "      <td>1762.0</td>\n",
       "    </tr>\n",
       "    <tr>\n",
       "      <th>2013-01-11</th>\n",
       "      <td>1813.0</td>\n",
       "      <td>1679.0</td>\n",
       "      <td>1910.0</td>\n",
       "      <td>1473.0</td>\n",
       "      <td>542.0</td>\n",
       "      <td>1780.0</td>\n",
       "      <td>1680.0</td>\n",
       "      <td>1933.0</td>\n",
       "      <td>1786.0</td>\n",
       "      <td>1745.0</td>\n",
       "      <td>1389.0</td>\n",
       "      <td>507.0</td>\n",
       "      <td>1770.0</td>\n",
       "      <td>1762.0</td>\n",
       "      <td>1873.0</td>\n",
       "    </tr>\n",
       "    <tr>\n",
       "      <th>2013-01-12</th>\n",
       "      <td>1473.0</td>\n",
       "      <td>1813.0</td>\n",
       "      <td>1679.0</td>\n",
       "      <td>542.0</td>\n",
       "      <td>1780.0</td>\n",
       "      <td>1680.0</td>\n",
       "      <td>1933.0</td>\n",
       "      <td>1786.0</td>\n",
       "      <td>1745.0</td>\n",
       "      <td>1389.0</td>\n",
       "      <td>507.0</td>\n",
       "      <td>1770.0</td>\n",
       "      <td>1762.0</td>\n",
       "      <td>1873.0</td>\n",
       "      <td>1616.0</td>\n",
       "    </tr>\n",
       "    <tr>\n",
       "      <th>2013-01-13</th>\n",
       "      <td>542.0</td>\n",
       "      <td>1473.0</td>\n",
       "      <td>1813.0</td>\n",
       "      <td>1780.0</td>\n",
       "      <td>1680.0</td>\n",
       "      <td>1933.0</td>\n",
       "      <td>1786.0</td>\n",
       "      <td>1745.0</td>\n",
       "      <td>1389.0</td>\n",
       "      <td>507.0</td>\n",
       "      <td>1770.0</td>\n",
       "      <td>1762.0</td>\n",
       "      <td>1873.0</td>\n",
       "      <td>1616.0</td>\n",
       "      <td>1770.0</td>\n",
       "    </tr>\n",
       "    <tr>\n",
       "      <th>2013-01-14</th>\n",
       "      <td>1780.0</td>\n",
       "      <td>542.0</td>\n",
       "      <td>1473.0</td>\n",
       "      <td>1680.0</td>\n",
       "      <td>1933.0</td>\n",
       "      <td>1786.0</td>\n",
       "      <td>1745.0</td>\n",
       "      <td>1389.0</td>\n",
       "      <td>507.0</td>\n",
       "      <td>1770.0</td>\n",
       "      <td>1762.0</td>\n",
       "      <td>1873.0</td>\n",
       "      <td>1616.0</td>\n",
       "      <td>1770.0</td>\n",
       "      <td>1295.0</td>\n",
       "    </tr>\n",
       "    <tr>\n",
       "      <th>2013-01-15</th>\n",
       "      <td>1680.0</td>\n",
       "      <td>1780.0</td>\n",
       "      <td>542.0</td>\n",
       "      <td>1933.0</td>\n",
       "      <td>1786.0</td>\n",
       "      <td>1745.0</td>\n",
       "      <td>1389.0</td>\n",
       "      <td>507.0</td>\n",
       "      <td>1770.0</td>\n",
       "      <td>1762.0</td>\n",
       "      <td>1873.0</td>\n",
       "      <td>1616.0</td>\n",
       "      <td>1770.0</td>\n",
       "      <td>1295.0</td>\n",
       "      <td>542.0</td>\n",
       "    </tr>\n",
       "    <tr>\n",
       "      <th>2013-01-16</th>\n",
       "      <td>1933.0</td>\n",
       "      <td>1680.0</td>\n",
       "      <td>1780.0</td>\n",
       "      <td>1786.0</td>\n",
       "      <td>1745.0</td>\n",
       "      <td>1389.0</td>\n",
       "      <td>507.0</td>\n",
       "      <td>1770.0</td>\n",
       "      <td>1762.0</td>\n",
       "      <td>1873.0</td>\n",
       "      <td>1616.0</td>\n",
       "      <td>1770.0</td>\n",
       "      <td>1295.0</td>\n",
       "      <td>542.0</td>\n",
       "      <td>1738.0</td>\n",
       "    </tr>\n",
       "    <tr>\n",
       "      <th>2013-01-17</th>\n",
       "      <td>1786.0</td>\n",
       "      <td>1933.0</td>\n",
       "      <td>1680.0</td>\n",
       "      <td>1745.0</td>\n",
       "      <td>1389.0</td>\n",
       "      <td>507.0</td>\n",
       "      <td>1770.0</td>\n",
       "      <td>1762.0</td>\n",
       "      <td>1873.0</td>\n",
       "      <td>1616.0</td>\n",
       "      <td>1770.0</td>\n",
       "      <td>1295.0</td>\n",
       "      <td>542.0</td>\n",
       "      <td>1738.0</td>\n",
       "      <td>1772.0</td>\n",
       "    </tr>\n",
       "    <tr>\n",
       "      <th>2013-01-18</th>\n",
       "      <td>1745.0</td>\n",
       "      <td>1786.0</td>\n",
       "      <td>1933.0</td>\n",
       "      <td>1389.0</td>\n",
       "      <td>507.0</td>\n",
       "      <td>1770.0</td>\n",
       "      <td>1762.0</td>\n",
       "      <td>1873.0</td>\n",
       "      <td>1616.0</td>\n",
       "      <td>1770.0</td>\n",
       "      <td>1295.0</td>\n",
       "      <td>542.0</td>\n",
       "      <td>1738.0</td>\n",
       "      <td>1772.0</td>\n",
       "      <td>1877.0</td>\n",
       "    </tr>\n",
       "  </tbody>\n",
       "</table>\n",
       "</div>"
      ],
      "text/plain": [
       "                ts   lag_1   lag_2  target_1  target_2  target_3  target_4  \\\n",
       "date                                                                         \n",
       "2013-01-04  1863.0  1833.0  2111.0    1509.0     520.0    1807.0    1869.0   \n",
       "2013-01-05  1509.0  1863.0  1833.0     520.0    1807.0    1869.0    1910.0   \n",
       "2013-01-06   520.0  1509.0  1863.0    1807.0    1869.0    1910.0    1679.0   \n",
       "2013-01-07  1807.0   520.0  1509.0    1869.0    1910.0    1679.0    1813.0   \n",
       "2013-01-08  1869.0  1807.0   520.0    1910.0    1679.0    1813.0    1473.0   \n",
       "2013-01-09  1910.0  1869.0  1807.0    1679.0    1813.0    1473.0     542.0   \n",
       "2013-01-10  1679.0  1910.0  1869.0    1813.0    1473.0     542.0    1780.0   \n",
       "2013-01-11  1813.0  1679.0  1910.0    1473.0     542.0    1780.0    1680.0   \n",
       "2013-01-12  1473.0  1813.0  1679.0     542.0    1780.0    1680.0    1933.0   \n",
       "2013-01-13   542.0  1473.0  1813.0    1780.0    1680.0    1933.0    1786.0   \n",
       "2013-01-14  1780.0   542.0  1473.0    1680.0    1933.0    1786.0    1745.0   \n",
       "2013-01-15  1680.0  1780.0   542.0    1933.0    1786.0    1745.0    1389.0   \n",
       "2013-01-16  1933.0  1680.0  1780.0    1786.0    1745.0    1389.0     507.0   \n",
       "2013-01-17  1786.0  1933.0  1680.0    1745.0    1389.0     507.0    1770.0   \n",
       "2013-01-18  1745.0  1786.0  1933.0    1389.0     507.0    1770.0    1762.0   \n",
       "\n",
       "            target_5  target_6  target_7  target_8  target_9  target_10  \\\n",
       "date                                                                      \n",
       "2013-01-04    1910.0    1679.0    1813.0    1473.0     542.0     1780.0   \n",
       "2013-01-05    1679.0    1813.0    1473.0     542.0    1780.0     1680.0   \n",
       "2013-01-06    1813.0    1473.0     542.0    1780.0    1680.0     1933.0   \n",
       "2013-01-07    1473.0     542.0    1780.0    1680.0    1933.0     1786.0   \n",
       "2013-01-08     542.0    1780.0    1680.0    1933.0    1786.0     1745.0   \n",
       "2013-01-09    1780.0    1680.0    1933.0    1786.0    1745.0     1389.0   \n",
       "2013-01-10    1680.0    1933.0    1786.0    1745.0    1389.0      507.0   \n",
       "2013-01-11    1933.0    1786.0    1745.0    1389.0     507.0     1770.0   \n",
       "2013-01-12    1786.0    1745.0    1389.0     507.0    1770.0     1762.0   \n",
       "2013-01-13    1745.0    1389.0     507.0    1770.0    1762.0     1873.0   \n",
       "2013-01-14    1389.0     507.0    1770.0    1762.0    1873.0     1616.0   \n",
       "2013-01-15     507.0    1770.0    1762.0    1873.0    1616.0     1770.0   \n",
       "2013-01-16    1770.0    1762.0    1873.0    1616.0    1770.0     1295.0   \n",
       "2013-01-17    1762.0    1873.0    1616.0    1770.0    1295.0      542.0   \n",
       "2013-01-18    1873.0    1616.0    1770.0    1295.0     542.0     1738.0   \n",
       "\n",
       "            target_11  target_12  \n",
       "date                              \n",
       "2013-01-04     1680.0     1933.0  \n",
       "2013-01-05     1933.0     1786.0  \n",
       "2013-01-06     1786.0     1745.0  \n",
       "2013-01-07     1745.0     1389.0  \n",
       "2013-01-08     1389.0      507.0  \n",
       "2013-01-09      507.0     1770.0  \n",
       "2013-01-10     1770.0     1762.0  \n",
       "2013-01-11     1762.0     1873.0  \n",
       "2013-01-12     1873.0     1616.0  \n",
       "2013-01-13     1616.0     1770.0  \n",
       "2013-01-14     1770.0     1295.0  \n",
       "2013-01-15     1295.0      542.0  \n",
       "2013-01-16      542.0     1738.0  \n",
       "2013-01-17     1738.0     1772.0  \n",
       "2013-01-18     1772.0     1877.0  "
      ]
     },
     "execution_count": 173,
     "metadata": {},
     "output_type": "execute_result"
    }
   ],
   "source": [
    "def predict_n_periods(series_, n_periods_ahead, num_periods_lagged, model=0, num_periods_diffed=0, weekday=False, month=False, rolling=[], holidays=False): \n",
    "    \n",
    "    \n",
    "    # Build lags\n",
    "    df_prepare = pd.DataFrame(series_)\n",
    "    df_prepare.columns = ['ts']\n",
    "    for lag in range(1, num_periods_lagged+1):\n",
    "        df_prepare['lag_{}'.format(str(lag))] = df_prepare['ts'].shift(lag)\n",
    "    \n",
    "    # Build targets\n",
    "    for ahead in range(1, n_periods_ahead+1):\n",
    "        df_prepare['target_{}'.format(str(ahead))] = df_prepare['ts'].shift(-ahead)\n",
    "    \n",
    "    # Drop NaN values at the top\n",
    "    df_prepare = df_prepare[num_periods_lagged:]\n",
    "    # Split sets\n",
    "    \n",
    "    return df_prepare\n",
    "    \n",
    "df_test = predict_n_periods(store_cleaned.customers, n_periods_ahead = 12, num_periods_lagged=2)\n",
    "df_test.head(15)"
   ]
  },
  {
   "cell_type": "code",
   "execution_count": 174,
   "metadata": {},
   "outputs": [
    {
     "name": "stdout",
     "output_type": "stream",
     "text": [
      "<class 'pandas.core.frame.DataFrame'>\n",
      "DatetimeIndex: 1685 entries, 2013-01-04 to 2017-08-15\n",
      "Freq: D\n",
      "Data columns (total 15 columns):\n",
      "ts           1685 non-null float64\n",
      "lag_1        1685 non-null float64\n",
      "lag_2        1685 non-null float64\n",
      "target_1     1684 non-null float64\n",
      "target_2     1683 non-null float64\n",
      "target_3     1682 non-null float64\n",
      "target_4     1681 non-null float64\n",
      "target_5     1680 non-null float64\n",
      "target_6     1679 non-null float64\n",
      "target_7     1678 non-null float64\n",
      "target_8     1677 non-null float64\n",
      "target_9     1676 non-null float64\n",
      "target_10    1675 non-null float64\n",
      "target_11    1674 non-null float64\n",
      "target_12    1673 non-null float64\n",
      "dtypes: float64(15)\n",
      "memory usage: 210.6 KB\n"
     ]
    }
   ],
   "source": [
    "df_test.info()"
   ]
  },
  {
   "cell_type": "code",
   "execution_count": 176,
   "metadata": {
    "scrolled": true
   },
   "outputs": [
    {
     "name": "stdout",
     "output_type": "stream",
     "text": [
      "<class 'pandas.core.frame.DataFrame'>\n",
      "DatetimeIndex: 1687 entries, 2013-01-02 to 2017-08-15\n",
      "Freq: D\n",
      "Data columns (total 1 columns):\n",
      "customers    1687 non-null float64\n",
      "dtypes: float64(1)\n",
      "memory usage: 26.4 KB\n"
     ]
    }
   ],
   "source": [
    "store_cleaned.info()"
   ]
  },
  {
   "cell_type": "markdown",
   "metadata": {},
   "source": [
    "**BLU06 - Learning Notebook - Part 1 of 3 - Time Series Problem Formulation (Multi-step Forecasting)**  \n",
    "\n",
    "For multi-step forecasting we are first splitting the time-series between train and test set. The test set comprises the most recent 24 observations (i.e., months) and we aim at forecasting 24 months ahead. My question is:\n",
    "\n",
    "> If our goal is to forecast 24 months ahead and our test set is the previous 24 months how is it possible that we can have targets on the test set?\n",
    "\n",
    "Now, I understand that for the *complete model* (given by the function `predict_n_periods(...)`) the test set is adequate, but each single prediction is made by a different *single prediction model* (implemented by the function `predict_period_n(...)`), and these *single prediction models* are not being tested themselves.\n",
    "\n",
    "My idea would be:\n",
    "\n",
    "1. Built the targets. Where target for prediction `n` would be `time_series.shift(-n)`.\n",
    "2. Drop NaA. If forecasting 24 months ahead then the most recent 24 observations would be dropped.\n",
    "3. Split the remaining dataframe between train and test set (and eventually a validation set as well)\n",
    "\n",
    "With this solution we could test each _single prediction model_, with no downside as far as I can see. Does it make sense?"
   ]
  }
 ],
 "metadata": {
  "kernelspec": {
   "display_name": "Python 3",
   "language": "python",
   "name": "python3"
  },
  "language_info": {
   "codemirror_mode": {
    "name": "ipython",
    "version": 3
   },
   "file_extension": ".py",
   "mimetype": "text/x-python",
   "name": "python",
   "nbconvert_exporter": "python",
   "pygments_lexer": "ipython3",
   "version": "3.7.1"
  }
 },
 "nbformat": 4,
 "nbformat_minor": 2
}
