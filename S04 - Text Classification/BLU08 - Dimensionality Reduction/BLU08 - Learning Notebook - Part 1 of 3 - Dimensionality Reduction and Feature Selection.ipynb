{
 "cells": [
  {
   "cell_type": "markdown",
   "metadata": {},
   "source": [
    "## Part 1 - Dimensionality Reduction and Feature Selection\n",
    "\n",
    "\n",
    "Thinking in high dimensions is particularly hard. A 1-D dot would hardly be able to imagine a 2D world. In the same way, the square below struggles to think of our 3D world. For us, it is very difficult to imagine dimensions above the 3rd. We have proxies for thinking of a 4th dimension - passing of time, a 3D surface with some extra measure represented by color, etc - but this starts to become really difficult to work above the 4th dimension.  \n",
    "\n",
    "![dimensionality](./media/flatland.png)\n",
    "\n",
    "Thankfully, when dealing with ML problems, you can go above three features without trying to imagine how they would look like (Lucky you!). However, you still need to understand how the number of dimensions might affect - either positively or negatively - your models and how to work with high dimensional spaces. Don't worry, we will guide you through it."
   ]
  },
  {
   "cell_type": "code",
   "execution_count": 1,
   "metadata": {
    "scrolled": false
   },
   "outputs": [],
   "source": [
    "import string\n",
    "import re\n",
    "import numpy as np\n",
    "import pandas as pd \n",
    "import matplotlib.pyplot as plt\n",
    "from pylab import barh,plot,yticks,show,grid,xlabel,figure,cla,close\n",
    "from nltk.tokenize import WordPunctTokenizer\n",
    "\n",
    "from sklearn.metrics import accuracy_score\n",
    "from sklearn.model_selection import train_test_split\n",
    "from sklearn.feature_extraction.text import CountVectorizer, TfidfVectorizer\n",
    "from sklearn.naive_bayes import MultinomialNB\n",
    "from sklearn import svm\n",
    "from sklearn.metrics import accuracy_score\n",
    "from sklearn.feature_selection import SelectFromModel\n",
    "from sklearn.feature_selection import SelectKBest, chi2"
   ]
  },
  {
   "cell_type": "markdown",
   "metadata": {},
   "source": [
    "## 1. The curse of dimensionality\n",
    "\n",
    "So far you learned how to handle text data by transforming it into a vectorized feature space. Namely, we mostly used preprocessing tricks and some sort of count over words - remember the CountVectorizer and TF-IDF - to generate our feature space. However, as you might have realized, the number of features for these problems is huge, in particular if you want to cover all language. In the limit, your feature space will cover the entire vocabulary!\n",
    "\n",
    "\n",
    "The effect of high dimensionality features when modelling these problems is called the **curse of dimensionality**. You can probably already see some of the effects of these curse, right?\n",
    "\n",
    "* To start with, more features, will obviously mean a longer training process\n",
    "* On another hand, a higher dimensionality can actually hurt the classifier performance\n",
    "\n",
    "\n",
    "\n",
    "#### But I thought \"more features\" meant \"more accuracy\"...\n",
    "\n",
    "This is not always true. When you have high dimensionality problems, the use of all the features might actually hurt your model. The model becomes more prone to overfitting and might have worse accuracy in points outside your training data."
   ]
  },
  {
   "cell_type": "markdown",
   "metadata": {},
   "source": [
    "\n",
    "## 2.  Basic Feature Selection\n",
    "\n",
    "One of the ways you might think of to reduce your feature dimensionality is by performing feature selection. We are going to walk you through some methods with an actual example. Let's start by loading some data - we are going to use the twitter dataset of republican and democrat tweets"
   ]
  },
  {
   "cell_type": "markdown",
   "metadata": {},
   "source": [
    "### 2.1 - Get your dataset\n",
    "\n",
    "Start by importing the dataset. "
   ]
  },
  {
   "cell_type": "code",
   "execution_count": 2,
   "metadata": {
    "scrolled": false
   },
   "outputs": [],
   "source": [
    "df = pd.read_csv('./datasets/twitter_rep_dem_data_small.csv')"
   ]
  },
  {
   "cell_type": "code",
   "execution_count": 3,
   "metadata": {
    "scrolled": true
   },
   "outputs": [
    {
     "name": "stdout",
     "output_type": "stream",
     "text": [
      "<class 'pandas.core.frame.DataFrame'>\n",
      "RangeIndex: 18519 entries, 0 to 18518\n",
      "Data columns (total 3 columns):\n",
      "Party     18519 non-null object\n",
      "Handle    18519 non-null object\n",
      "Tweet     18519 non-null object\n",
      "dtypes: object(3)\n",
      "memory usage: 434.1+ KB\n"
     ]
    }
   ],
   "source": [
    "df.info()"
   ]
  },
  {
   "cell_type": "code",
   "execution_count": 4,
   "metadata": {},
   "outputs": [
    {
     "data": {
      "text/plain": [
       "{'Democrat', 'Republican'}"
      ]
     },
     "execution_count": 4,
     "metadata": {},
     "output_type": "execute_result"
    }
   ],
   "source": [
    "set(df.Party)"
   ]
  },
  {
   "cell_type": "markdown",
   "metadata": {},
   "source": [
    "### 2.2 - Get to know our problem \n",
    "\n",
    "We'll first learn our categories and see a few examples of how our training data looks like. "
   ]
  },
  {
   "cell_type": "code",
   "execution_count": 5,
   "metadata": {
    "scrolled": false
   },
   "outputs": [
    {
     "name": "stdout",
     "output_type": "stream",
     "text": [
      "Categories:\n",
      "Democrat, Republican\n"
     ]
    }
   ],
   "source": [
    "print('Categories:')\n",
    "print(', '.join(set(df.Party)))"
   ]
  },
  {
   "cell_type": "markdown",
   "metadata": {},
   "source": [
    "Check class balances"
   ]
  },
  {
   "cell_type": "code",
   "execution_count": 6,
   "metadata": {},
   "outputs": [
    {
     "data": {
      "text/plain": [
       "Republican    9302\n",
       "Democrat      9217\n",
       "Name: Party, dtype: int64"
      ]
     },
     "execution_count": 6,
     "metadata": {},
     "output_type": "execute_result"
    }
   ],
   "source": [
    "df.Party.value_counts()"
   ]
  },
  {
   "cell_type": "markdown",
   "metadata": {},
   "source": [
    "Pretty balanced!"
   ]
  },
  {
   "cell_type": "code",
   "execution_count": 7,
   "metadata": {
    "scrolled": false
   },
   "outputs": [
    {
     "data": {
      "text/html": [
       "<div>\n",
       "<style scoped>\n",
       "    .dataframe tbody tr th:only-of-type {\n",
       "        vertical-align: middle;\n",
       "    }\n",
       "\n",
       "    .dataframe tbody tr th {\n",
       "        vertical-align: top;\n",
       "    }\n",
       "\n",
       "    .dataframe thead th {\n",
       "        text-align: right;\n",
       "    }\n",
       "</style>\n",
       "<table border=\"1\" class=\"dataframe\">\n",
       "  <thead>\n",
       "    <tr style=\"text-align: right;\">\n",
       "      <th></th>\n",
       "      <th>Party</th>\n",
       "      <th>Handle</th>\n",
       "      <th>Tweet</th>\n",
       "    </tr>\n",
       "  </thead>\n",
       "  <tbody>\n",
       "    <tr>\n",
       "      <th>0</th>\n",
       "      <td>Democrat</td>\n",
       "      <td>RepDarrenSoto</td>\n",
       "      <td>Today, Senate Dems vote to #SaveTheInternet. P...</td>\n",
       "    </tr>\n",
       "    <tr>\n",
       "      <th>1</th>\n",
       "      <td>Democrat</td>\n",
       "      <td>RepDarrenSoto</td>\n",
       "      <td>RT @WinterHavenSun: Winter Haven resident / Al...</td>\n",
       "    </tr>\n",
       "    <tr>\n",
       "      <th>2</th>\n",
       "      <td>Democrat</td>\n",
       "      <td>RepDarrenSoto</td>\n",
       "      <td>RT @NBCLatino: .@RepDarrenSoto noted that Hurr...</td>\n",
       "    </tr>\n",
       "    <tr>\n",
       "      <th>3</th>\n",
       "      <td>Democrat</td>\n",
       "      <td>RepDarrenSoto</td>\n",
       "      <td>RT @NALCABPolicy: Meeting with @RepDarrenSoto ...</td>\n",
       "    </tr>\n",
       "    <tr>\n",
       "      <th>4</th>\n",
       "      <td>Democrat</td>\n",
       "      <td>RepDarrenSoto</td>\n",
       "      <td>RT @Vegalteno: Hurricane season starts on June...</td>\n",
       "    </tr>\n",
       "    <tr>\n",
       "      <th>5</th>\n",
       "      <td>Democrat</td>\n",
       "      <td>RepDarrenSoto</td>\n",
       "      <td>RT @EmgageActionFL: Thank you to all who came ...</td>\n",
       "    </tr>\n",
       "    <tr>\n",
       "      <th>6</th>\n",
       "      <td>Democrat</td>\n",
       "      <td>RepDarrenSoto</td>\n",
       "      <td>Hurricane Maria left approx $90 billion in dam...</td>\n",
       "    </tr>\n",
       "    <tr>\n",
       "      <th>7</th>\n",
       "      <td>Democrat</td>\n",
       "      <td>RepDarrenSoto</td>\n",
       "      <td>RT @Tharryry: I am delighted that @RepDarrenSo...</td>\n",
       "    </tr>\n",
       "    <tr>\n",
       "      <th>8</th>\n",
       "      <td>Democrat</td>\n",
       "      <td>RepDarrenSoto</td>\n",
       "      <td>RT @HispanicCaucus: Trump's anti-immigrant pol...</td>\n",
       "    </tr>\n",
       "    <tr>\n",
       "      <th>9</th>\n",
       "      <td>Democrat</td>\n",
       "      <td>RepDarrenSoto</td>\n",
       "      <td>RT @RepStephMurphy: Great joining @WeAreUnidos...</td>\n",
       "    </tr>\n",
       "  </tbody>\n",
       "</table>\n",
       "</div>"
      ],
      "text/plain": [
       "      Party         Handle                                              Tweet\n",
       "0  Democrat  RepDarrenSoto  Today, Senate Dems vote to #SaveTheInternet. P...\n",
       "1  Democrat  RepDarrenSoto  RT @WinterHavenSun: Winter Haven resident / Al...\n",
       "2  Democrat  RepDarrenSoto  RT @NBCLatino: .@RepDarrenSoto noted that Hurr...\n",
       "3  Democrat  RepDarrenSoto  RT @NALCABPolicy: Meeting with @RepDarrenSoto ...\n",
       "4  Democrat  RepDarrenSoto  RT @Vegalteno: Hurricane season starts on June...\n",
       "5  Democrat  RepDarrenSoto  RT @EmgageActionFL: Thank you to all who came ...\n",
       "6  Democrat  RepDarrenSoto  Hurricane Maria left approx $90 billion in dam...\n",
       "7  Democrat  RepDarrenSoto  RT @Tharryry: I am delighted that @RepDarrenSo...\n",
       "8  Democrat  RepDarrenSoto  RT @HispanicCaucus: Trump's anti-immigrant pol...\n",
       "9  Democrat  RepDarrenSoto  RT @RepStephMurphy: Great joining @WeAreUnidos..."
      ]
     },
     "execution_count": 7,
     "metadata": {},
     "output_type": "execute_result"
    }
   ],
   "source": [
    "df.head(10)"
   ]
  },
  {
   "cell_type": "markdown",
   "metadata": {},
   "source": [
    "You'll notice that our tweets are just text with some particularities. For example, it is common to have twitter handles in the text, defined by the \"@\" character. Our data also has three columns, but we are going to ignore the *Handle* column for now and just focus on classifying *Tweets* with *Party* labels."
   ]
  },
  {
   "cell_type": "markdown",
   "metadata": {},
   "source": [
    "### 2.3 - Feature Extraction\n",
    "\n",
    "Our data is simply raw text, each element a document to be classified, with a corresponding label, which is the Party of the tweet. Pretty simple, right?\n",
    "\n",
    "Since you are a great student, you went thoroughly through BLU07 and you already know how to prepare, handle text and extract some simple features. So let's process our data and use TfidfVectorizer with a range of 1-2 ngrams to get us some simple features.\n",
    "\n",
    "First let's apply simple tokenization and remove punctuation. To avoid overfitting to twitter related information, like the handles tagged in the messages, let's remove those, so our focus is only on the language."
   ]
  },
  {
   "cell_type": "code",
   "execution_count": 8,
   "metadata": {
    "scrolled": false
   },
   "outputs": [
    {
     "data": {
      "text/html": [
       "<div>\n",
       "<style scoped>\n",
       "    .dataframe tbody tr th:only-of-type {\n",
       "        vertical-align: middle;\n",
       "    }\n",
       "\n",
       "    .dataframe tbody tr th {\n",
       "        vertical-align: top;\n",
       "    }\n",
       "\n",
       "    .dataframe thead th {\n",
       "        text-align: right;\n",
       "    }\n",
       "</style>\n",
       "<table border=\"1\" class=\"dataframe\">\n",
       "  <thead>\n",
       "    <tr style=\"text-align: right;\">\n",
       "      <th></th>\n",
       "      <th>Party</th>\n",
       "      <th>Handle</th>\n",
       "      <th>Tweet</th>\n",
       "    </tr>\n",
       "  </thead>\n",
       "  <tbody>\n",
       "    <tr>\n",
       "      <th>0</th>\n",
       "      <td>Democrat</td>\n",
       "      <td>RepDarrenSoto</td>\n",
       "      <td>today , senate dems vote to # savetheinternet ...</td>\n",
       "    </tr>\n",
       "    <tr>\n",
       "      <th>1</th>\n",
       "      <td>Democrat</td>\n",
       "      <td>RepDarrenSoto</td>\n",
       "      <td>rt : winter haven resident / alta vista teache...</td>\n",
       "    </tr>\n",
       "    <tr>\n",
       "      <th>2</th>\n",
       "      <td>Democrat</td>\n",
       "      <td>RepDarrenSoto</td>\n",
       "      <td>rt : . noted that hurricane maria has left app...</td>\n",
       "    </tr>\n",
       "    <tr>\n",
       "      <th>3</th>\n",
       "      <td>Democrat</td>\n",
       "      <td>RepDarrenSoto</td>\n",
       "      <td>rt : meeting with . thanks for taking the time...</td>\n",
       "    </tr>\n",
       "    <tr>\n",
       "      <th>4</th>\n",
       "      <td>Democrat</td>\n",
       "      <td>RepDarrenSoto</td>\n",
       "      <td>rt : hurricane season starts on june 1st ; pue...</td>\n",
       "    </tr>\n",
       "    <tr>\n",
       "      <th>5</th>\n",
       "      <td>Democrat</td>\n",
       "      <td>RepDarrenSoto</td>\n",
       "      <td>rt : thank you to all who came out to our orla...</td>\n",
       "    </tr>\n",
       "    <tr>\n",
       "      <th>6</th>\n",
       "      <td>Democrat</td>\n",
       "      <td>RepDarrenSoto</td>\n",
       "      <td>hurricane maria left approx $ 90 billion in da...</td>\n",
       "    </tr>\n",
       "    <tr>\n",
       "      <th>7</th>\n",
       "      <td>Democrat</td>\n",
       "      <td>RepDarrenSoto</td>\n",
       "      <td>rt : i am delighted that will be voting for th...</td>\n",
       "    </tr>\n",
       "    <tr>\n",
       "      <th>8</th>\n",
       "      <td>Democrat</td>\n",
       "      <td>RepDarrenSoto</td>\n",
       "      <td>rt : trump ' s anti - immigrant policies are h...</td>\n",
       "    </tr>\n",
       "    <tr>\n",
       "      <th>9</th>\n",
       "      <td>Democrat</td>\n",
       "      <td>RepDarrenSoto</td>\n",
       "      <td>rt : great joining and for a roundtable in # o...</td>\n",
       "    </tr>\n",
       "  </tbody>\n",
       "</table>\n",
       "</div>"
      ],
      "text/plain": [
       "      Party         Handle                                              Tweet\n",
       "0  Democrat  RepDarrenSoto  today , senate dems vote to # savetheinternet ...\n",
       "1  Democrat  RepDarrenSoto  rt : winter haven resident / alta vista teache...\n",
       "2  Democrat  RepDarrenSoto  rt : . noted that hurricane maria has left app...\n",
       "3  Democrat  RepDarrenSoto  rt : meeting with . thanks for taking the time...\n",
       "4  Democrat  RepDarrenSoto  rt : hurricane season starts on june 1st ; pue...\n",
       "5  Democrat  RepDarrenSoto  rt : thank you to all who came out to our orla...\n",
       "6  Democrat  RepDarrenSoto  hurricane maria left approx $ 90 billion in da...\n",
       "7  Democrat  RepDarrenSoto  rt : i am delighted that will be voting for th...\n",
       "8  Democrat  RepDarrenSoto  rt : trump ' s anti - immigrant policies are h...\n",
       "9  Democrat  RepDarrenSoto  rt : great joining and for a roundtable in # o..."
      ]
     },
     "execution_count": 8,
     "metadata": {},
     "output_type": "execute_result"
    }
   ],
   "source": [
    "handle_removal = lambda doc: re.subn(r'@\\w+','', doc.lower())[0]\n",
    "df['Tweet'] = df['Tweet'].map(handle_removal)\n",
    "\n",
    "simple_tokenizer = lambda doc: \" \".join(WordPunctTokenizer().tokenize(doc))\n",
    "df['Tweet'] = df['Tweet'].map(simple_tokenizer)\n",
    "\n",
    "df.head(10)"
   ]
  },
  {
   "cell_type": "markdown",
   "metadata": {},
   "source": [
    "Now let's split our data and apply some vectorization. Let's pick a random seed so the results are replicable."
   ]
  },
  {
   "cell_type": "code",
   "execution_count": 9,
   "metadata": {},
   "outputs": [],
   "source": [
    "seed = 42"
   ]
  },
  {
   "cell_type": "markdown",
   "metadata": {},
   "source": [
    "<img src=\"./media/random.jpg\" width=\"400\">"
   ]
  },
  {
   "cell_type": "code",
   "execution_count": 43,
   "metadata": {
    "scrolled": true
   },
   "outputs": [
    {
     "name": "stdout",
     "output_type": "stream",
     "text": [
      "Training examples: 38889\n",
      "Test examples: 16668\n",
      "\n",
      "1.14 s ± 79.6 ms per loop (mean ± std. dev. of 7 runs, 1 loop each)\n"
     ]
    }
   ],
   "source": [
    "train_data, test_data = train_test_split(df, test_size=0.3, random_state=seed)\n",
    "\n",
    "print('Training examples: {}'.format(train_data.size))\n",
    "print('Test examples: {}\\n'.format(test_data.size))\n",
    "\n",
    "# important: only train the vectorizer on the training data\n",
    "vectorizer = TfidfVectorizer(ngram_range=(1,2))\n",
    "%timeit vectorizer.fit(train_data.Tweet)\n",
    "\n",
    "X_train = vectorizer.transform(train_data.Tweet)\n",
    "X_test = vectorizer.transform(test_data.Tweet)\n",
    "\n",
    "y_train = train_data.Party\n",
    "y_test = test_data.Party"
   ]
  },
  {
   "cell_type": "code",
   "execution_count": 46,
   "metadata": {},
   "outputs": [
    {
     "data": {
      "text/plain": [
       "38889"
      ]
     },
     "execution_count": 46,
     "metadata": {},
     "output_type": "execute_result"
    }
   ],
   "source": [
    "train_data.shape[0]*3"
   ]
  },
  {
   "cell_type": "code",
   "execution_count": 37,
   "metadata": {},
   "outputs": [
    {
     "data": {
      "text/plain": [
       "matrix([[0., 0., 0., ..., 0., 0., 0.],\n",
       "        [0., 0., 0., ..., 0., 0., 0.],\n",
       "        [0., 0., 0., ..., 0., 0., 0.],\n",
       "        ...,\n",
       "        [0., 0., 0., ..., 0., 0., 0.],\n",
       "        [0., 0., 0., ..., 0., 0., 0.],\n",
       "        [0., 0., 0., ..., 0., 0., 0.]])"
      ]
     },
     "execution_count": 37,
     "metadata": {},
     "output_type": "execute_result"
    }
   ],
   "source": [
    "X_train.todense()"
   ]
  },
  {
   "cell_type": "markdown",
   "metadata": {},
   "source": [
    "### 2.4 - Getting our baseline\n",
    "\n",
    "Let's get our baseline accuracy and measure the time it takes to fit a Naive Bayes Model, a model you should be familiar with and which in NLP comes hand in hand with the Bag Of Words representation (if you don't get the joke below, eventually you should go read about naive bayes).\n",
    "\n",
    "<img src=\"./media/frequentists_vs_bayesians_2x.png\" width=\"400\">\n",
    "\n"
   ]
  },
  {
   "cell_type": "code",
   "execution_count": 41,
   "metadata": {
    "scrolled": false
   },
   "outputs": [
    {
     "name": "stdout",
     "output_type": "stream",
     "text": [
      "50.2 ms ± 1.47 ms per loop (mean ± std. dev. of 7 runs, 10 loops each)\n",
      "Accuracy: 0.7595392368610511\n"
     ]
    }
   ],
   "source": [
    "clf =  MultinomialNB()\n",
    "%timeit clf.fit(X_train, y_train)\n",
    "\n",
    "y_pred = clf.predict(X_test)\n",
    "print('Accuracy: {}'.format(accuracy_score(y_pred, y_test)))"
   ]
  },
  {
   "cell_type": "code",
   "execution_count": 42,
   "metadata": {},
   "outputs": [
    {
     "data": {
      "text/plain": [
       "array(['Republican', 'Democrat', 'Republican', ..., 'Democrat',\n",
       "       'Republican', 'Republican'], dtype='<U10')"
      ]
     },
     "execution_count": 42,
     "metadata": {},
     "output_type": "execute_result"
    }
   ],
   "source": [
    "y_pred"
   ]
  },
  {
   "cell_type": "markdown",
   "metadata": {},
   "source": [
    "### 2.5 - Feature selection\n",
    "\n",
    "Now that we have our baseline, let's start by looking into the number of features used in our classifier:"
   ]
  },
  {
   "cell_type": "code",
   "execution_count": 13,
   "metadata": {
    "scrolled": false
   },
   "outputs": [
    {
     "data": {
      "text/plain": [
       "(12963, 138409)"
      ]
     },
     "execution_count": 13,
     "metadata": {},
     "output_type": "execute_result"
    }
   ],
   "source": [
    "X_train.shape"
   ]
  },
  {
   "cell_type": "markdown",
   "metadata": {},
   "source": [
    "So far so good, and our classifier even trained pretty fast, but a 140K-dimensional space is obviously very difficult to interpret (think back to the fact that even 4D is difficult for us to grasp). Let's instead try to extract our K most important words. One way that you might think to do this is actually to just get the features corresponding to the most frequent terms. In fact, our TfidfVectorizer already has an option for that. Let's see the impact on our training speed and accuracy."
   ]
  },
  {
   "cell_type": "code",
   "execution_count": 14,
   "metadata": {},
   "outputs": [
    {
     "name": "stdout",
     "output_type": "stream",
     "text": [
      "Using 10 features\n",
      "----\n",
      "36.1 ms ± 354 µs per loop (mean ± std. dev. of 7 runs, 10 loops each)\n",
      "Accuracy: 0.5259179265658748\n",
      "\n",
      "Using 100 features\n",
      "----\n",
      "39.5 ms ± 5.31 ms per loop (mean ± std. dev. of 7 runs, 10 loops each)\n",
      "Accuracy: 0.5815334773218143\n",
      "\n",
      "Using 1000 features\n",
      "----\n",
      "36.9 ms ± 849 µs per loop (mean ± std. dev. of 7 runs, 10 loops each)\n",
      "Accuracy: 0.6637868970482361\n",
      "\n",
      "Using 5000 features\n",
      "----\n",
      "37.6 ms ± 237 µs per loop (mean ± std. dev. of 7 runs, 10 loops each)\n",
      "Accuracy: 0.7177825773938085\n",
      "\n",
      "Using 10000 features\n",
      "----\n",
      "41.1 ms ± 4.62 ms per loop (mean ± std. dev. of 7 runs, 10 loops each)\n",
      "Accuracy: 0.7341612670986322\n",
      "\n",
      "Using 50000 features\n",
      "----\n",
      "51.5 ms ± 718 µs per loop (mean ± std. dev. of 7 runs, 10 loops each)\n",
      "Accuracy: 0.7543196544276458\n",
      "\n",
      "Using 100000 features\n",
      "----\n",
      "56.3 ms ± 875 µs per loop (mean ± std. dev. of 7 runs, 10 loops each)\n",
      "Accuracy: 0.7543196544276458\n",
      "\n"
     ]
    }
   ],
   "source": [
    "for k in [10, 100, 1000, 5000, 10000, 50000, 100000]:\n",
    "    print('Using {} features'.format(k))\n",
    "    print('----'.format(k))\n",
    "    \n",
    "    X_train = train_data.Tweet\n",
    "    X_test = test_data.Tweet\n",
    "    \n",
    "    vectorizer_truncated = TfidfVectorizer(ngram_range=(1,2), max_features=k)\n",
    "    vectorizer_truncated.fit(X_train)\n",
    "\n",
    "    X_train_truncated = vectorizer_truncated.transform(X_train)\n",
    "    X_test_truncated = vectorizer_truncated.transform(X_test)\n",
    "    \n",
    "    clf =  MultinomialNB()\n",
    "    %timeit clf.fit(X_train_truncated, y_train)\n",
    "    y_pred = clf.predict(X_test_truncated)\n",
    "    \n",
    "    print('Accuracy: {}\\n'.format(accuracy_score(y_pred, y_test)))"
   ]
  },
  {
   "cell_type": "markdown",
   "metadata": {},
   "source": [
    "Ok, so no amazing effects. Let's look into the actual top K-features to see if they make sense."
   ]
  },
  {
   "cell_type": "code",
   "execution_count": 15,
   "metadata": {},
   "outputs": [
    {
     "name": "stdout",
     "output_type": "stream",
     "text": [
      "amp\n",
      "great\n",
      "house\n",
      "https\n",
      "rt\n",
      "tax\n",
      "thank\n",
      "time\n",
      "today\n",
      "trump\n"
     ]
    }
   ],
   "source": [
    "K=10\n",
    "vectorizer_truncated = TfidfVectorizer(ngram_range=(1,2), max_features=K, stop_words='english')\n",
    "vectorizer_truncated.fit(X_train)\n",
    "feature_names = vectorizer_truncated.get_feature_names()\n",
    "for f in feature_names:\n",
    "    print(f)"
   ]
  },
  {
   "cell_type": "markdown",
   "metadata": {},
   "source": [
    "As you can see, the top 10 features are basically meaningless when thinking of our classes. In the next cell you will see that the counts of these words are balanced between classes."
   ]
  },
  {
   "cell_type": "code",
   "execution_count": 16,
   "metadata": {},
   "outputs": [],
   "source": [
    "sub_punct = lambda s: re.sub(r'\\s+\\W*[a-z]?\\W*\\s+', ' ', s)"
   ]
  },
  {
   "cell_type": "code",
   "execution_count": 17,
   "metadata": {},
   "outputs": [
    {
     "name": "stdout",
     "output_type": "stream",
     "text": [
      "Documents that contain the word \"amp\"\n",
      "----\n",
      "Democrat      838\n",
      "Republican    692\n",
      "Name: Party, dtype: int64\n",
      "\n",
      "\n",
      "Documents that contain the word \"great\"\n",
      "----\n",
      "Republican    455\n",
      "Democrat      250\n",
      "Name: Party, dtype: int64\n",
      "\n",
      "\n",
      "Documents that contain the word \"house\"\n",
      "----\n",
      "Republican    335\n",
      "Democrat      209\n",
      "Name: Party, dtype: int64\n",
      "\n",
      "\n",
      "Documents that contain the word \"https\"\n",
      "----\n",
      "Democrat      4818\n",
      "Republican    4702\n",
      "Name: Party, dtype: int64\n",
      "\n",
      "\n",
      "Documents that contain the word \"rt\"\n",
      "----\n",
      "Republican    2755\n",
      "Democrat      2670\n",
      "Name: Party, dtype: int64\n",
      "\n",
      "\n",
      "Documents that contain the word \"tax\"\n",
      "----\n",
      "Republican    800\n",
      "Democrat      217\n",
      "Name: Party, dtype: int64\n",
      "\n",
      "\n",
      "Documents that contain the word \"thank\"\n",
      "----\n",
      "Democrat      525\n",
      "Republican    472\n",
      "Name: Party, dtype: int64\n",
      "\n",
      "\n",
      "Documents that contain the word \"time\"\n",
      "----\n",
      "Republican    267\n",
      "Democrat      237\n",
      "Name: Party, dtype: int64\n",
      "\n",
      "\n",
      "Documents that contain the word \"today\"\n",
      "----\n",
      "Republican    718\n",
      "Democrat      532\n",
      "Name: Party, dtype: int64\n",
      "\n",
      "\n",
      "Documents that contain the word \"trump\"\n",
      "----\n",
      "Democrat      351\n",
      "Republican    115\n",
      "Name: Party, dtype: int64\n",
      "\n",
      "\n"
     ]
    }
   ],
   "source": [
    "for feature in feature_names:\n",
    "    print('Documents that contain the word \"{}\"'.format(feature))\n",
    "    print('----')\n",
    "    docs = X_train.apply(sub_punct).str.lower().str.contains(feature)\n",
    "    print(str(y_train[docs].value_counts()) + '\\n\\n')"
   ]
  },
  {
   "cell_type": "markdown",
   "metadata": {},
   "source": [
    "Tip: Notice that most of these words are normally considered stopwords. Try to exclude stopwords from the TfidfVectorizer and see what new top features you obtain. You will probably see that there will be some common words and some \"political discourse\" words, but not really democrat/republican specific. \n",
    "\n",
    "But let's move on to more meaningful approaches."
   ]
  },
  {
   "cell_type": "markdown",
   "metadata": {},
   "source": [
    "## 3.  Feature Selection through statistical analysis\n",
    "\n",
    "Basic feature selection methods might actually work sometimes, in particular if you pick a reasonable heuristic to decide on which features to choose. In our case, obviously, just picking the higher counts is not that good, since it does not provide any useful information on the labels. But you could imagine for example trying to pick as features words that appear only (or almost only) on one of our classes.\n",
    "\n",
    "Although this might seem a good idea, depending on your problem, you would probably not want to lose that much time thinking about heuristics, implementing them and comparing them. This is where statistical tests are useful. You don't have to reason on the features you are using, these tests use your data to provide insights on your features.\n",
    "\n",
    "##### Chi-squared test\n",
    "\n",
    "The chi-squared test is one of these tests. The chi-squared formula measures how much expected counts and observed counts of variables/distributions deviate from each other. It can be used to test for independce between two variables, like defined by the equation below, where $O_{x_1x_2}$ is the observation of the conjuction of variables and $E_{x_1x_2}$ the corresponding expected value, this is, the expected value given our hypothesis *$H_0$: the variables are independent*.\n",
    "\n",
    "$$\\chi^2 = \\sum{\\frac{(O_{x_1x_2} - E_{x_1x_2})^2}{E_{x_1x_2}}}$$\n",
    "\n",
    "For feature selection we want to test the independence of our features from the class labels. In our particular case, we define $x_1=t$ as our term or word and $x_2=c$ as our class label. A small chi-squared value will mean that the term is closer to independence from the class, and a big value that it is very dependent on the class.\n",
    "\n",
    "Knowing the details of the chi-squared can be useful for you, but in the context of our BLU is not our primary goal and there are more useful methods for text features that you will learn about in the following notebooks. However, we provide at the end of this BLU a more detailed explanation of this test, and some examples, if you wish to understand it better (see Annex A).\n",
    "\n",
    "We will lean on the previous example and show you how chi-squared would help us select more meaningful features."
   ]
  },
  {
   "cell_type": "markdown",
   "metadata": {},
   "source": [
    "## 3.1 - Setup problem\n",
    "\n",
    "Like before, let's fetch our data, extract its features, run a baseline, and move from there."
   ]
  },
  {
   "cell_type": "code",
   "execution_count": 18,
   "metadata": {},
   "outputs": [
    {
     "name": "stdout",
     "output_type": "stream",
     "text": [
      "1.22 s ± 77.7 ms per loop (mean ± std. dev. of 7 runs, 1 loop each)\n",
      "61 ms ± 7.04 ms per loop (mean ± std. dev. of 7 runs, 10 loops each)\n",
      "Accuracy: 0.7595392368610511\n"
     ]
    }
   ],
   "source": [
    "stat_df = pd.read_csv('./datasets/twitter_rep_dem_data_small.csv')\n",
    "\n",
    "stat_df['Tweet'] = stat_df['Tweet'].map(handle_removal)\n",
    "stat_df['Tweet'] = stat_df['Tweet'].map(simple_tokenizer)\n",
    "\n",
    "stat_train_data, stat_test_data = train_test_split(stat_df, test_size=0.3, random_state=seed)\n",
    "\n",
    "stat_vectorizer = TfidfVectorizer(ngram_range=(1,2))\n",
    "%timeit stat_vectorizer.fit(stat_train_data.Tweet)\n",
    "\n",
    "stat_X_train = stat_vectorizer.transform(stat_train_data.Tweet)\n",
    "stat_X_test = stat_vectorizer.transform(stat_test_data.Tweet)\n",
    "\n",
    "stat_y_train = stat_train_data.Party\n",
    "stat_y_test = stat_test_data.Party\n",
    "\n",
    "stat_clf =  MultinomialNB()\n",
    "%timeit stat_clf.fit(stat_X_train, stat_y_train)\n",
    "\n",
    "stat_pred = stat_clf.predict(stat_X_test)\n",
    "\n",
    "print('Accuracy: {}'.format(accuracy_score(stat_pred, stat_y_test)))"
   ]
  },
  {
   "cell_type": "markdown",
   "metadata": {},
   "source": [
    "## 3.2 - Feature Selection from chi-squared\n",
    "\n",
    "We will now use the chi2 and obtain some chi-squared values for our features. "
   ]
  },
  {
   "cell_type": "code",
   "execution_count": 47,
   "metadata": {
    "scrolled": false
   },
   "outputs": [],
   "source": [
    "chi_values, p_values = chi2(stat_X_train, stat_y_train)"
   ]
  },
  {
   "cell_type": "code",
   "execution_count": 73,
   "metadata": {
    "scrolled": true
   },
   "outputs": [
    {
     "name": "stdout",
     "output_type": "stream",
     "text": [
      "stat_X_train type: <class 'scipy.sparse.csr.csr_matrix'>\n",
      "stat_X_train.shape: (12963, 138409)\n",
      "\n",
      "chi_values type: <class 'numpy.ndarray'>\n",
      "chi_values shape: (138409,)\n"
     ]
    }
   ],
   "source": [
    "print(\"stat_X_train type: {}\".format(type(stat_X_train)))\n",
    "print(\"stat_X_train.shape: {}\".format(stat_X_train.shape))\n",
    "print(\"\\nchi_values type: {}\".format(type(chi_values)))\n",
    "print(\"chi_values shape: {}\".format(chi_values.shape))"
   ]
  },
  {
   "cell_type": "markdown",
   "metadata": {},
   "source": [
    "We can plot the most dependent features from the chi-squared values."
   ]
  },
  {
   "cell_type": "code",
   "execution_count": 51,
   "metadata": {
    "scrolled": true
   },
   "outputs": [
    {
     "data": {
      "image/png": "[encoded data removed]",
      "text/plain": [
       "<Figure size 864x720 with 1 Axes>"
      ]
     },
     "metadata": {
      "needs_background": "light"
     },
     "output_type": "display_data"
    }
   ],
   "source": [
    "feature_names = stat_vectorizer.get_feature_names()\n",
    "\n",
    "cla()   # Clear axis\n",
    "close() # Close a figure window\n",
    "\n",
    "figure(figsize=(12,10))\n",
    "zipped_chi_squared = zip(feature_names, chi_values)\n",
    "sorted_chi_values = sorted(zipped_chi_squared, key=lambda x:x[1]) \n",
    "top_chi_values = list(zip(*sorted_chi_values[-30:]))\n",
    "\n",
    "x = range(len(top_chi_values[1]))\n",
    "labels = top_chi_values[0]\n",
    "barh(x, list(top_chi_values)[1], align='center', alpha=.2, color='g')\n",
    "yticks(x, labels)\n",
    "xlabel('$\\chi^2$')\n",
    "show()"
   ]
  },
  {
   "cell_type": "markdown",
   "metadata": {},
   "source": [
    "**Forma mais simples de fazer o mesmo gráfico**"
   ]
  },
  {
   "cell_type": "code",
   "execution_count": 65,
   "metadata": {},
   "outputs": [],
   "source": [
    "feature_chi_series = pd.Series(chi_values, index=feature_names)"
   ]
  },
  {
   "cell_type": "code",
   "execution_count": 76,
   "metadata": {},
   "outputs": [
    {
     "data": {
      "image/png": "[encoded data removed]",
      "text/plain": [
       "<Figure size 864x720 with 1 Axes>"
      ]
     },
     "metadata": {
      "needs_background": "light"
     },
     "output_type": "display_data"
    }
   ],
   "source": [
    "feature_chi_series.sort_values(ascending=True)[-30:].plot.barh(figsize=(12,10), align='center', alpha=.2, color='g');"
   ]
  },
  {
   "cell_type": "markdown",
   "metadata": {},
   "source": [
    "Actually, scikit-learn already provides a function to directly select the K-best features for our model, so we are going to use that to extract our most important features. We can confirm that the top features selected match the ones with the highest chi-values"
   ]
  },
  {
   "cell_type": "code",
   "execution_count": 22,
   "metadata": {},
   "outputs": [
    {
     "name": "stdout",
     "output_type": "stream",
     "text": [
      "chairman\n",
      "code\n",
      "hearing\n",
      "reform\n",
      "tax\n",
      "tax reform\n",
      "taxcutsandjobsact\n",
      "taxreform\n",
      "texas\n",
      "the taxcutsandjobsact\n"
     ]
    }
   ],
   "source": [
    "ch2 = SelectKBest(chi2, k=10)\n",
    "ch2.fit(stat_X_train, stat_y_train)\n",
    "\n",
    "most_important_features = [feature_names[i] for i in ch2.get_support(indices=True)]\n",
    "for f in most_important_features:\n",
    "    print(f)"
   ]
  },
  {
   "cell_type": "markdown",
   "metadata": {},
   "source": [
    "Now we're getting somewhere, these new features are starting to make sense. We can look into their distribution of  over our documents to get a sense of the relation they share with the labels of the dataset."
   ]
  },
  {
   "cell_type": "code",
   "execution_count": 23,
   "metadata": {},
   "outputs": [
    {
     "name": "stdout",
     "output_type": "stream",
     "text": [
      "Documents that contain the word \"chairman\"\n",
      "----\n",
      "Republican    196\n",
      "Democrat        8\n",
      "Name: Party, dtype: int64\n",
      "\n",
      "\n",
      "Documents that contain the word \"code\"\n",
      "----\n",
      "Republican    107\n",
      "Democrat        8\n",
      "Name: Party, dtype: int64\n",
      "\n",
      "\n",
      "Documents that contain the word \"hearing\"\n",
      "----\n",
      "Republican    264\n",
      "Democrat       62\n",
      "Name: Party, dtype: int64\n",
      "\n",
      "\n",
      "Documents that contain the word \"reform\"\n",
      "----\n",
      "Republican    426\n",
      "Democrat       34\n",
      "Name: Party, dtype: int64\n",
      "\n",
      "\n",
      "Documents that contain the word \"tax\"\n",
      "----\n",
      "Republican    800\n",
      "Democrat      217\n",
      "Name: Party, dtype: int64\n",
      "\n",
      "\n",
      "Documents that contain the word \"tax reform\"\n",
      "----\n",
      "Republican    126\n",
      "Democrat        6\n",
      "Name: Party, dtype: int64\n",
      "\n",
      "\n",
      "Documents that contain the word \"taxcutsandjobsact\"\n",
      "----\n",
      "Republican    102\n",
      "Name: Party, dtype: int64\n",
      "\n",
      "\n",
      "Documents that contain the word \"taxreform\"\n",
      "----\n",
      "Republican    227\n",
      "Democrat        2\n",
      "Name: Party, dtype: int64\n",
      "\n",
      "\n",
      "Documents that contain the word \"texas\"\n",
      "----\n",
      "Republican    121\n",
      "Democrat        1\n",
      "Name: Party, dtype: int64\n",
      "\n",
      "\n",
      "Documents that contain the word \"the taxcutsandjobsact\"\n",
      "----\n",
      "Republican    86\n",
      "Name: Party, dtype: int64\n",
      "\n",
      "\n"
     ]
    }
   ],
   "source": [
    "for feature in most_important_features:\n",
    "    print('Documents that contain the word \"{}\"'.format(feature))\n",
    "    print('----')\n",
    "    docs = stat_train_data['Tweet'].apply(sub_punct).str.contains(feature)\n",
    "    print(str(stat_y_train[docs].value_counts()) + '\\n\\n')"
   ]
  },
  {
   "cell_type": "markdown",
   "metadata": {},
   "source": [
    "As you can see, some words are much more common in Republican tweets compared to Democrat tweets. These features are thus much more interpretable and might have a better impact on training."
   ]
  },
  {
   "cell_type": "code",
   "execution_count": 24,
   "metadata": {
    "scrolled": false
   },
   "outputs": [
    {
     "name": "stdout",
     "output_type": "stream",
     "text": [
      "Using 10 features\n",
      "----\n",
      "36.1 ms ± 275 µs per loop (mean ± std. dev. of 7 runs, 10 loops each)\n",
      "Accuracy: 0.4744420446364291\n",
      "\n",
      "Using 100 features\n",
      "----\n",
      "38.1 ms ± 2.51 ms per loop (mean ± std. dev. of 7 runs, 10 loops each)\n",
      "Accuracy: 0.5984521238300936\n",
      "\n",
      "Using 1000 features\n",
      "----\n",
      "36.6 ms ± 911 µs per loop (mean ± std. dev. of 7 runs, 10 loops each)\n",
      "Accuracy: 0.709143268538517\n",
      "\n",
      "Using 5000 features\n",
      "----\n",
      "39.9 ms ± 4.78 ms per loop (mean ± std. dev. of 7 runs, 10 loops each)\n",
      "Accuracy: 0.7321814254859611\n",
      "\n",
      "Using 10000 features\n",
      "----\n",
      "37.1 ms ± 244 µs per loop (mean ± std. dev. of 7 runs, 10 loops each)\n",
      "Accuracy: 0.7368610511159107\n",
      "\n",
      "Using 50000 features\n",
      "----\n",
      "51.3 ms ± 1.68 ms per loop (mean ± std. dev. of 7 runs, 10 loops each)\n",
      "Accuracy: 0.7496400287976962\n",
      "\n",
      "Using 100000 features\n",
      "----\n",
      "57.1 ms ± 5.08 ms per loop (mean ± std. dev. of 7 runs, 10 loops each)\n",
      "Accuracy: 0.7566594672426206\n",
      "\n",
      "Using all features\n",
      "----\n",
      "60.7 ms ± 3.71 ms per loop (mean ± std. dev. of 7 runs, 10 loops each)\n",
      "Accuracy: 0.7595392368610511\n",
      "\n"
     ]
    }
   ],
   "source": [
    "for k in [10, 100, 1000, 5000, 10000, 50000, 100000, 'all']:\n",
    "    print('Using {} features'.format(k))\n",
    "    print('----'.format(k))\n",
    "    \n",
    "    ch2_train = SelectKBest(chi2, k=k)\n",
    "    ch2_train.fit(stat_X_train, stat_y_train)\n",
    "    X_train_chi = ch2_train.transform(stat_X_train)\n",
    "    X_test_chi = ch2_train.transform(stat_X_test)\n",
    "\n",
    "    clf = MultinomialNB()\n",
    "    %timeit clf.fit(X_train_chi, stat_y_train)\n",
    "\n",
    "    y_pred = clf.predict(X_test_chi)\n",
    "\n",
    "    print('Accuracy: {}\\n'.format(accuracy_score(y_pred, stat_y_test)))\n",
    "\n"
   ]
  },
  {
   "cell_type": "markdown",
   "metadata": {},
   "source": [
    "Using 100000 features we get only slightly better results. However, looking at the features themselves, we can clearly see this is a better feature selection method than the previous one, but we could still use a bit more gain and speed improvements.\n",
    "\n",
    "One thing that feature selection does not take into consideration is feature interaction, which can limit a bit the gains in performance. In the remaining of this BLU you will learn about more elaborate methods to perform dimensionality reduction, in particular some very recent methods that are the standard in text-related tasks. "
   ]
  },
  {
   "cell_type": "markdown",
   "metadata": {},
   "source": [
    "## 4. Final remarks\n",
    "\n",
    "After reading this notebook you should understand:\n",
    "\n",
    " - What is the curse of dimensionality\n",
    " - How can you perform simple feature selection by reasoning about your problem\n",
    " - How to apply statistical methods for feature selection by finding dependencies between features and labels\n",
    " \n",
    "Keep in mind that predicting in the real world is much less theoretical. The performance of these methods will depend a lot on your problem, the size of your dataset, your model choice, your preprocessing. You can use feature selection to improve speed, avoid overfitting, or even just to interpret your features and how they interact with your classes. \n",
    "\n",
    "<br>\n",
    "\n",
    "-----\n",
    "\n",
    "**Suggestion**: try to vary the following options/parameters and analyze its impact:\n",
    "\n",
    "- Experiment a bit more with your preprocessing and see its impact\n",
    "- Try other feature extraction options such as the simple CountVectorizer\n",
    "- Use smaller slices of the dataset to see how the dataset size impacts both baseline and feature selected results\n",
    "- Experiment with other classifiers and the impact of the dimensionality reduction on these\n",
    "- Try to use the model to evaluate other text data, search for republican/democrat posts/news/blogs and see how well your model classifies each, for example political speeches.\n",
    "\n",
    "-----\n",
    "\n",
    "<br>\n",
    "\n",
    "Although we focused on simple heuristics and in the chi-squared method, there are other features selection methods that you might find useful. Some examples of these are:\n",
    "\n",
    "- Feature selection through variance (sklearn.feature_selection.VarianceThreshold)\n",
    "- Feature selection through mutual information\n",
    "- Recursive feature elimination\n",
    "- Tree-based feature selection\n",
    "\n",
    "**And remember, these methods just tell us that there is a relation between labels and features, but not the nature of that relation.** Now go and apply these methods!\n",
    "\n",
    "![correlation](./media/correlation.png)\n",
    "\n",
    "\n"
   ]
  },
  {
   "cell_type": "markdown",
   "metadata": {},
   "source": [
    "-------------\n",
    "\n",
    "## Annex A.  Details on chi-squared\n",
    "\n",
    "\n",
    "Let's do a really quick example for you to understand how this works. Let's say we are modeling how characteristics from star trek characters that appear in an episode are related to their death, and among our features we have one particular called \"has red t-shirt\" which can take only two categorical values: Yes/No.\n",
    "\n",
    "Let's build a table representing this scenario:\n",
    "\n",
    "|  Has red t-shirt    | Dies   | Does not die | Total |\n",
    "|----------------------|--------|--------------|-------|\n",
    "|         Yes          |   63   |      9       |  72   |\n",
    "|         No           |   13   |     40       |  53   |\n",
    "|         total        |   76   |     49       |  125  |\n",
    "\n",
    "This is what we call a contigency table, and it contains our observed values. Testing for independence of the variables, our expected value is computed from the probabilities $N*P(x_1x_2) = N*P(x_1)P(x_2) $, and we get:\n",
    "\n",
    "|  Has red t-shirt    | Dies   | Does not die | \n",
    "|----------------------|--------|--------------|\n",
    "|         Yes          |  43.78 $$(125 * \\frac{76}{125}\\frac{72}{125})$$ | 28.22 $$(125 * \\frac{49}{125}\\frac{72}{125})$$ |\n",
    "|         No           |  32.22 $$(125 * \\frac{76}{125}\\frac{53}{125})$$ | 20.78 $$(125 * \\frac{49}{125}\\frac{53}{125})$$ |\n",
    "\n",
    "Now we can use these expected values to compute chi-squared using the formula $\\chi^2 = \\sum{\\frac{(O_{x_1x_2} - E_{x_1x_2})^2}{E_{x_1x_2}}}$\n",
    "\n",
    "|  Has red t-shirt    | Dies   | Does not die | \n",
    "|----------------------|--------|--------------|\n",
    "|         Yes          |  8.44 $$(\\frac{(63-43.78)^2}{43.78})$$ | 13.09 $$(\\frac{(9-28.22)^2}{28.22})$$ |\n",
    "|         No           |  11.47 $$(\\frac{(13-32.22)^2}{32.22})$$ | 17.79 $$(\\frac{(40-20.78)^2}{20.78})$$ |\n",
    "\n",
    "Summing these values, we get a chi-squared of 50.79, which corresponds to a p-value < .00001, which means we are dealing with dependent variables. \n",
    "\n",
    "<img src=\"./media/dig3graves.jpeg\" width=\"500\">\n"
   ]
  },
  {
   "cell_type": "markdown",
   "metadata": {},
   "source": [
    "### Chi-squared in BoW context\n",
    "\n",
    "But how about our context? Our variables are not categorical, so how do we compute this? Actually the chi-squared value can be extended to frequencies, building a contingency table from the feature values and class label. Starting from a table of word frequencies:\n",
    "\n",
    "\n",
    "|                      |&nbsp; &nbsp; &nbsp; &nbsp; &nbsp; &nbsp; $C_0$ &nbsp;&nbsp; &nbsp; &nbsp; &nbsp; &nbsp;   | ... | &nbsp; &nbsp; &nbsp; &nbsp; &nbsp; &nbsp; $C_j $  &nbsp; &nbsp; &nbsp; &nbsp; &nbsp; &nbsp;  | ... | &nbsp; &nbsp; &nbsp; &nbsp; &nbsp; &nbsp; &nbsp; &nbsp; &nbsp; &nbsp; &nbsp; &nbsp; Total               |\n",
    "|----------------------|---------------------|-----|-------------------------|-----|----------------------------|\n",
    "|   Word 0             |  $$C_{t_0, c_0}$$   | ... |  $$C_{t_0, c_1}$$       | ... | $$ \\sum_j{C_{t_0, c_j}} $$ |\n",
    "|   Word 1             |  $$C_{t_1, c_0}$$   | ... |  $$C_{t_1, c_1}$$       | ... | $$ \\sum_j{C_{t_1, c_j}} $$ |\n",
    "|    ...               |   ...               | ... |     ...                 | ... |        ...                 |  \n",
    "|   Word i             |  $$C_{t_i, c_0}$$   | ... |  $$C_{t_i, c_1}$$       | ... | $$ \\sum_j{C_{t_i, c_j}} $$ |\n",
    "|    ...               |   ...               | ... |     ...                 | ... |        ...                 |  \n",
    "|   Total       | $$ \\sum_i{C_{t_i, c_0}} $$ | ... |$$\\sum_i{C_{t_i, c_j}} $$| ... | $$ N = \\sum_{i,j}{C_{t_i, c_j}} $$|  \n",
    "\n",
    "\n",
    "We can take each feature ($t=x_i$) and class ($c=c_j$) and assume a table of the form:\n",
    "\n",
    "|                      | Class j   | Not Class j |  Total | \n",
    "|----------------------|-----------|-------------|--------|\n",
    "|   Word i             |  $C_{tc}$ |   $C_{tx}$  |  $C_{tc}$ + $C_{tx}$ |\n",
    "|   Not Word i         |  $C_{xc}$ |   $C_{xx}$  |  $C_{xc}$ + $C_{xx}$ | \n",
    "|   Total      |  $C_{tc}$ + $C_{xc}$ |   $C_{tx}$ + $C_{xx}$  |  N = $C_{tc}$ + $C_{xc}$ + $C_{tx}$ + $C_{xx}$ |\n",
    "\n",
    "Where:\n",
    "\n",
    "- $C_{tc}$ : counts of co-ocurrences of the term and class \n",
    "- $C_{tx}$ : counts of ocurrences of the term but not the class \n",
    "- $C_{xc}$ : counts of ocurrences of the class but not the term\n",
    "- $C_{xx}$ : counts of ocurrences outside the class and without the term\n",
    "\n",
    "<br>\n",
    "Notice that you can compute your negative word counts (\"Not Word i\") by using the totals:\n",
    "\n",
    "$$C_{xc} = \\sum_i{C_{t_i, c}} - C_{tc}  \\quad\\quad C_{tx} = \\sum_j{C_{t, c_j}} - C_{tc} \\quad\\quad C_{xx} = N - C_{tc} - C_{tx} - C_{xc} $$\n",
    "\n",
    "<br>\n",
    "The expression can be expanded to the following, for each term $t$ and class $c$:\n",
    "\n",
    "$$\\chi^2(t, c) = \\frac{N(C_{tc}C_{xx}-C_{tx}C_{xc})^2}{(C_{tc}+C_{xc})(C_{tx}+C_{xx})(C_{tc}+C_{tx})(C_{xc}+C_{xx})}$$\n",
    "\n",
    "<br>\n",
    "\n",
    "-----\n",
    "\n",
    "**Sugestion**: If, like me, you can't move forward without understanding the origin of these expressions, try to get from the initial expression to this expanded form. However, if you get stuck on the math, just go into the notebook **Learning Notebook - Optional - Chi-squared math** and follow the demonstration.\n",
    "\n",
    "-----\n",
    "\n",
    "\n",
    "<br>\n",
    "And we will get for all our terms and classes the chi-squared values indication correlation\n",
    "\n",
    "|                      | Republican ($C_0$)  | Democrat ($C_1$) |  \n",
    "|----------------------|-----------|-------------|\n",
    "|   Word 0             |  $$\\chi^2(t_0, c_0)$$ |  $$\\chi^2(t_0, c_1)$$ | \n",
    "|   Word 1             |  $$\\chi^2(t_1, c_0)$$ |  $$\\chi^2(t_1, c_1)$$ | \n",
    "|    ...               |   ...     |     ...     |       \n",
    "|   Word i             |  $$\\chi^2(t_i, c_0)$$ |  $$\\chi^2(t_i, c_1)$$ | \n",
    "|    ...               |   ...     |     ...     | \n",
    "\n",
    "\n",
    "\n",
    "### Chi-squared and TF-IDF\n",
    "\n",
    "You've seen how to apply chi-squared for categorical values and now for frequencies, more specifically for word frequencies. But we were applying it to TF-IDF values, values that seem to violate the chi-squared rules. The reason why we can apply the chi-squared to TF-IDF values is actually because these are just weighted/scaled frequencies and the probabilities and totals should add up.\n",
    "\n",
    "\n",
    "### Implementation, finally!\n",
    "\n",
    "Let's apply this and write a function that receives a matrix with term counts for each label."
   ]
  },
  {
   "cell_type": "code",
   "execution_count": 25,
   "metadata": {},
   "outputs": [],
   "source": [
    "def chi_squared(counts):\n",
    "    \"\"\"\n",
    "    Non vectorized version of chi squared function - the idea is that you see the relation with the formula above, \n",
    "    but you should never use such an inefficient version when actually performing a chi-squared analysis\n",
    "    \"\"\"\n",
    "    print(\"Applying chi-squared to {} feature and {} classes\".format(counts.shape[0], counts.shape[1]))\n",
    "    chi_values = np.zeros(counts.shape)\n",
    "    for i in range(counts.shape[0]):\n",
    "        for j in range(counts.shape[1]):\n",
    "            n = counts.sum()\n",
    "            c_tc = counts[i,j]\n",
    "            c_tx = counts.sum(axis=1)[i,0]-c_tc\n",
    "            c_xc = counts.sum(axis=0)[0,j]-c_tc\n",
    "            c_xx = n-c_tc-c_tx-c_xc\n",
    "            chi_values[i,j] = n*(((c_tc*c_xx)-(c_tx*c_xc))**2)/((c_tc+c_xc)*(c_tx+c_xx)*(c_tc+c_tx)*(c_xc+c_xx))\n",
    "    return chi_values\n",
    "\n",
    "def chi_squared_vect(counts):\n",
    "    \"\"\"\n",
    "    Vectorized version of chi squared function - this is still a non-optimized version, but it should run faster than \n",
    "    the previous function\n",
    "    \"\"\"\n",
    "    print(\"Applying chi-squared to {} feature and {} classes\".format(counts.shape[0], counts.shape[1]))\n",
    "    n = counts.sum()\n",
    "    c_tc = counts\n",
    "    c_tx = counts.sum(axis=1)-counts\n",
    "    c_xc = counts.sum(axis=0)-counts\n",
    "    c_xx = n * np.ones(counts.shape) - counts - c_tx - c_xc\n",
    "    num = n * np.square(np.multiply(c_tc, c_xx)-np.multiply(c_tx, c_xc))\n",
    "    den = np.multiply(np.multiply(np.multiply(c_tc+c_xc, c_tx+c_xx), c_tc+c_tx), c_xc+c_xx)\n",
    "    chi_values = np.divide(num, den)\n",
    "    return chi_values"
   ]
  },
  {
   "cell_type": "markdown",
   "metadata": {},
   "source": [
    "### Applying to our previous example\n",
    "\n",
    "Now we'll apply our functions to a small portion of our data (first 100 tweets) since our implementation is not optimized, in particular the non-vectorized example. If we find the features with higher chi-values, we find our more important features, which are the ones with less independence."
   ]
  },
  {
   "cell_type": "code",
   "execution_count": 26,
   "metadata": {},
   "outputs": [
    {
     "name": "stdout",
     "output_type": "stream",
     "text": [
      "Applying chi-squared to 138409 feature and 2 classes\n",
      "Most important features:\n",
      "\n",
      "chairman, value: 24.846272877542923\n",
      "code, value: 12.933225558706729\n",
      "hearing, value: 14.19673500702519\n",
      "reform, value: 14.104207101906178\n",
      "tax, value: 22.33857645946327\n",
      "tax reform, value: 14.347639988872228\n",
      "taxcutsandjobsact, value: 14.522494937205447\n",
      "taxreform, value: 26.959234731744832\n",
      "texas, value: 15.279411340041444\n",
      "the taxcutsandjobsact, value: 12.734023819258736\n"
     ]
    }
   ],
   "source": [
    "small_vectorizer = TfidfVectorizer(ngram_range=(1,2))\n",
    "small_vectorizer.fit(train_data.Tweet)\n",
    "small_X_train = small_vectorizer.transform(train_data.Tweet)\n",
    "small_y_train = train_data.Party\n",
    "\n",
    "idx_rep = np.where(small_y_train=='Republican') \n",
    "idx_dem = np.where(small_y_train=='Democrat') \n",
    "\n",
    "counts_rep = small_X_train[idx_rep[0], :].sum(axis=0)\n",
    "counts_dem = small_X_train[idx_dem[0], :].sum(axis=0)\n",
    "counts = np.concatenate((counts_rep, counts_dem))\n",
    "\n",
    "# chi_values = chi_squared(counts.transpose())\n",
    "chi_values_vect = chi_squared_vect(counts.transpose())\n",
    "\n",
    "feature_names = small_vectorizer.get_feature_names()\n",
    "\n",
    "best_features = chi_values_vect.argsort(axis=0).tolist()\n",
    "\n",
    "print(\"Most important features:\\n\")\n",
    "for idx in sorted(best_features[-10:]):\n",
    "    print(u\"{}, value: {}\".format(feature_names[idx[0]], chi_values_vect[idx[0], 0]))\n"
   ]
  },
  {
   "cell_type": "markdown",
   "metadata": {},
   "source": [
    "Awesome, we got to the same results as the scikit-learn! Time to move on to the next notebook!"
   ]
  }
 ],
 "metadata": {
  "kernelspec": {
   "display_name": "Python 3",
   "language": "python",
   "name": "python3"
  },
  "language_info": {
   "codemirror_mode": {
    "name": "ipython",
    "version": 3
   },
   "file_extension": ".py",
   "mimetype": "text/x-python",
   "name": "python",
   "nbconvert_exporter": "python",
   "pygments_lexer": "ipython3",
   "version": "3.7.1"
  }
 },
 "nbformat": 4,
 "nbformat_minor": 2
}
