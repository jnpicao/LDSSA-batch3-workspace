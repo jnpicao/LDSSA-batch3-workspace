{
 "cells": [
  {
   "cell_type": "markdown",
   "metadata": {},
   "source": [
    "# Functions and implementation"
   ]
  },
  {
   "cell_type": "code",
   "execution_count": 75,
   "metadata": {},
   "outputs": [],
   "source": [
    "import string\n",
    "import re\n",
    "\n",
    "import matplotlib.pyplot as plt\n",
    "\n",
    "from collections import Counter, OrderedDict\n",
    "\n",
    "import numpy as np\n",
    "import pandas as pd \n",
    "\n",
    "from nltk.tokenize import WordPunctTokenizer\n",
    "from nltk.tokenize import WhitespaceTokenizer\n",
    "from nltk.stem.snowball import SnowballStemmer\n",
    "\n",
    "from sklearn.model_selection import train_test_split\n",
    "from sklearn.feature_extraction.text import CountVectorizer, TfidfVectorizer\n",
    "from sklearn.naive_bayes import MultinomialNB\n",
    "from sklearn.feature_selection import SelectKBest, chi2\n",
    "\n",
    "from sklearn.metrics import precision_score, recall_score, accuracy_score\n",
    "\n"
   ]
  },
  {
   "cell_type": "markdown",
   "metadata": {},
   "source": [
    "## Summary of the process "
   ]
  },
  {
   "cell_type": "markdown",
   "metadata": {},
   "source": [
    "* Receive all documents (i.e. texts) as a `List`, `DataFrame` or `Series`.  \n",
    "\n",
    "\n",
    "* Define function to clean a string:\n",
    " * ```python\n",
    "     def clean(doc, regex_list=[(\"<[^>]*>\", \"\")] ):\n",
    "        \n",
    "        # remove or replace characters\n",
    "        for regex in regex_list:\n",
    "            doc = re.sub(regex[0], regex[1], doc)\n",
    "        # lowercase\n",
    "        doc = doc.lower()\n",
    "        # tokenize\n",
    "        words = tokenizer.tokenize(doc)\n",
    "        # remove punctuation\n",
    "        words = list(filter(lambda x: x not in string.punctuation, words))\n",
    "        # stem\n",
    "        stems = list(map(stemmer.stem, words))\n",
    "        new_doc = \" \".join(stems)\n",
    "        return new_doc\n",
    "   ```  \n",
    "\n",
    "\n",
    "* Appy `df.applymap(clean)` or `series.apply(clean)` or List comprehension.   \n",
    "\n",
    "\n",
    "* Define a function to build the set of distinct words (i.e., the vocabulary) occurring in `docs` (see `Counter()` and `OrderedDict()` in [library collections](https://docs.python.org/2/library/collections.html)):\n",
    " * ```python\n",
    "     def build_vocabulary(docs):\n",
    "        vocabulary = Counter()\n",
    "\n",
    "        for doc in docs:\n",
    "            words = doc.split()\n",
    "            vocabulary.update(words)\n",
    "\n",
    "        return OrderedDict(vocabulary.most_common())\n",
    " ```\n",
    "\n",
    "\n",
    "* Define a function to vectorize the documents, i.e., convert documents into a table where each line represents one document and the columns are the word counts.  \n",
    " * ```python\n",
    "     def vectorize(docs):\n",
    "        vocabulary = build_vocabulary()\n",
    "        vectors = []\n",
    "        for doc in docs:\n",
    "            vector = np.array([doc.count(word) for word in vocabulary])\n",
    "            vectors.append(vector)\n",
    "\n",
    "        return vectors\n",
    " ```\n",
    "\n",
    "* `docs_BOW = pd.DataFrame(vectorize(), columns=build_vocabulary())`  \n",
    "\n",
    "\n",
    "* Improvements to the bag of words representation:\n",
    " * Remove *stop words*\n",
    " * Term Frequency - Inverse Document Frequency (TF-IDF)\n",
    " * nest\n",
    "\n",
    "**Or...**\n",
    "\n",
    "* use fsadf"
   ]
  },
  {
   "cell_type": "markdown",
   "metadata": {},
   "source": [
    "## Alternatives"
   ]
  },
  {
   "cell_type": "markdown",
   "metadata": {},
   "source": [
    "* Instead of a `clean()` function define a sklearn `Class` with the clean function inside so we can call a `transform()` method to apply the cleaning to each document. In this way we can include this step in a Pipeline.  \n",
    "\n",
    "\n",
    "* Use sklearn [CountVectorizer()](https://scikit-learn.org/stable/modules/generated/sklearn.feature_extraction.text.CountVectorizer.html) instead of `build_vocabulary()` + `vectorize()`.  \n",
    "It receives an iterable of documents and returns a vectorized sparse matrix of token counts of those documents.  \n",
    "\n",
    "\n",
    "* Use sklearn [TfidfTransformer()](https://scikit-learn.org/stable/modules/generated/sklearn.feature_extraction.text.TfidfTransformer.html) to transform a count matrix to a normalized tf or tf-idf representation.  \n",
    "`CountVectorizer()` followed by `TfidfTransformer()` is equivalent to [TfidfVectorizer()](https://scikit-learn.org/stable/modules/generated/sklearn.feature_extraction.text.TfidfVectorizer.html).  \n",
    "\n",
    "\n",
    "* next"
   ]
  },
  {
   "cell_type": "markdown",
   "metadata": {},
   "source": [
    "# Implementation"
   ]
  },
  {
   "cell_type": "code",
   "execution_count": 16,
   "metadata": {},
   "outputs": [
    {
     "data": {
      "text/html": [
       "<div>\n",
       "<style scoped>\n",
       "    .dataframe tbody tr th:only-of-type {\n",
       "        vertical-align: middle;\n",
       "    }\n",
       "\n",
       "    .dataframe tbody tr th {\n",
       "        vertical-align: top;\n",
       "    }\n",
       "\n",
       "    .dataframe thead th {\n",
       "        text-align: right;\n",
       "    }\n",
       "</style>\n",
       "<table border=\"1\" class=\"dataframe\">\n",
       "  <thead>\n",
       "    <tr style=\"text-align: right;\">\n",
       "      <th></th>\n",
       "      <th>sentiment</th>\n",
       "      <th>text</th>\n",
       "    </tr>\n",
       "  </thead>\n",
       "  <tbody>\n",
       "    <tr>\n",
       "      <th>0</th>\n",
       "      <td>Negative</td>\n",
       "      <td>Aldolpho (Steve Buscemi), an aspiring film mak...</td>\n",
       "    </tr>\n",
       "    <tr>\n",
       "      <th>1</th>\n",
       "      <td>Negative</td>\n",
       "      <td>An unfunny, unworthy picture which is an undes...</td>\n",
       "    </tr>\n",
       "    <tr>\n",
       "      <th>2</th>\n",
       "      <td>Negative</td>\n",
       "      <td>A failure. The movie was just not good. It has...</td>\n",
       "    </tr>\n",
       "    <tr>\n",
       "      <th>3</th>\n",
       "      <td>Positive</td>\n",
       "      <td>I saw this movie Sunday afternoon. I absolutel...</td>\n",
       "    </tr>\n",
       "    <tr>\n",
       "      <th>4</th>\n",
       "      <td>Negative</td>\n",
       "      <td>Disney goes to the well one too many times as ...</td>\n",
       "    </tr>\n",
       "  </tbody>\n",
       "</table>\n",
       "</div>"
      ],
      "text/plain": [
       "  sentiment                                               text\n",
       "0  Negative  Aldolpho (Steve Buscemi), an aspiring film mak...\n",
       "1  Negative  An unfunny, unworthy picture which is an undes...\n",
       "2  Negative  A failure. The movie was just not good. It has...\n",
       "3  Positive  I saw this movie Sunday afternoon. I absolutel...\n",
       "4  Negative  Disney goes to the well one too many times as ..."
      ]
     },
     "execution_count": 16,
     "metadata": {},
     "output_type": "execute_result"
    }
   ],
   "source": [
    "df = pd.read_csv('./BLU07 - Feature Extraction/data/imdb_sentiment.csv')\n",
    "df.head()"
   ]
  },
  {
   "cell_type": "code",
   "execution_count": 17,
   "metadata": {
    "scrolled": false
   },
   "outputs": [
    {
     "name": "stdout",
     "output_type": "stream",
     "text": [
      "<class 'pandas.core.frame.DataFrame'>\n",
      "RangeIndex: 5000 entries, 0 to 4999\n",
      "Data columns (total 2 columns):\n",
      "sentiment    5000 non-null object\n",
      "text         5000 non-null object\n",
      "dtypes: object(2)\n",
      "memory usage: 78.2+ KB\n"
     ]
    }
   ],
   "source": [
    "df.info()"
   ]
  },
  {
   "cell_type": "markdown",
   "metadata": {},
   "source": [
    "## Cleaning function"
   ]
  },
  {
   "cell_type": "code",
   "execution_count": 29,
   "metadata": {},
   "outputs": [],
   "source": [
    "def clean(doc,\n",
    "          regex_list = [(\"<[^>]*>\", \"\")], \n",
    "          tokenizer = WordPunctTokenizer(),\n",
    "          stemmer = SnowballStemmer(\"english\", ignore_stopwords=False)):\n",
    "    \n",
    "        \n",
    "    # Replace given regexes\n",
    "    for regex in regex_list:\n",
    "        doc = re.sub(regex[0], regex[1], doc)\n",
    "    \n",
    "    # lowercase\n",
    "    doc = doc.lower()\n",
    "    \n",
    "    # tokenize\n",
    "    words = tokenizer.tokenize(doc)\n",
    "    \n",
    "    # remove punctuation\n",
    "    words = list(filter(lambda x: x not in string.punctuation, words))\n",
    "    \n",
    "    # stem\n",
    "    stems = list(map(stemmer.stem, words))\n",
    "    \n",
    "    new_doc = \" \".join(stems)\n",
    "    \n",
    "    return new_doc\n"
   ]
  },
  {
   "cell_type": "code",
   "execution_count": 39,
   "metadata": {},
   "outputs": [
    {
     "data": {
      "text/plain": [
       "\"A failure. The movie was just not good. It has humor that 5 year olds that will not even giggle at. I mean, sure, some parts were amusing, but most of it is not. Lindsey Lohan is a great actress (and a bad singer,) and she should be working on better movies. The movie should have been aired as a Disney Channel original movie, that is FREE.<br /><br />The only thing that was well done about this movie was the music. Nothing like a remade rock soundtrack to brighten up your day. These songs are so good. Especially Alyson and Amanda's Walking On Sunshine and Caleigh Peter's, Beach Boy song, Fun Fun Fun.<br /><br />4 out of 10. If I gave it a ten, 9 of that would be the music and 1 will be the movie. Not worth your money, but the soundtrack is.\""
      ]
     },
     "execution_count": 39,
     "metadata": {},
     "output_type": "execute_result"
    }
   ],
   "source": [
    "df.text[2]"
   ]
  },
  {
   "cell_type": "code",
   "execution_count": 46,
   "metadata": {},
   "outputs": [
    {
     "data": {
      "text/plain": [
       "'a failur the movi was just not good it has humor that 5 year old that will not even giggl at i mean sure some part were amus but most of it is not lindsey lohan is a great actress and a bad singer ,) and she should be work on better movi the movi should have been air as a disney channel origin movi that is free the only thing that was well done about this movi was the music noth like a remad rock soundtrack to brighten up your day these song are so good especi alyson and amanda s walk on sunshin and caleigh peter s beach boy song fun fun fun 4 out of 10 if i gave it a ten 9 of that would be the music and 1 will be the movi not worth your money but the soundtrack is'"
      ]
     },
     "execution_count": 46,
     "metadata": {},
     "output_type": "execute_result"
    }
   ],
   "source": [
    "df.text[[2]].apply(clean)[2]"
   ]
  },
  {
   "cell_type": "code",
   "execution_count": 50,
   "metadata": {
    "scrolled": true
   },
   "outputs": [
    {
     "data": {
      "text/plain": [
       "\"a failure. the movi was just not good. it has humor that 5 year old that will not even giggl at. i mean, sure, some part were amusing, but most of it is not. lindsey lohan is a great actress (and a bad singer,) and she should be work on better movies. the movi should have been air as a disney channel origin movie, that is free.th onli thing that was well done about this movi was the music. noth like a remad rock soundtrack to brighten up your day. these song are so good. especi alyson and amanda walk on sunshin and caleigh peter's, beach boy song, fun fun fun.4 out of 10. if i gave it a ten, 9 of that would be the music and 1 will be the movie. not worth your money, but the soundtrack is.\""
      ]
     },
     "execution_count": 50,
     "metadata": {},
     "output_type": "execute_result"
    }
   ],
   "source": [
    "clean_args = ([(\"<[^>]*>\", \"\")], \n",
    "        WhitespaceTokenizer(),\n",
    "        SnowballStemmer(\"english\"))\n",
    "\n",
    "df.text[[2]].apply(clean, args=clean_args)[2]"
   ]
  },
  {
   "cell_type": "markdown",
   "metadata": {},
   "source": [
    "## NLP predictor"
   ]
  },
  {
   "cell_type": "code",
   "execution_count": 63,
   "metadata": {},
   "outputs": [],
   "source": [
    "def NLP_get_predictions(X_train, y_train, X_test, y_test,\n",
    "                        vectorizer = TfidfVectorizer(ngram_range=(1,1), stop_words=None),\n",
    "                        clf = MultinomialNB()):\n",
    "    '''Returns a fitted TfidfVectorizer and the test precision and recall on the 'spam' class\n",
    "       from a KNeighborsClassifier trained on the inputted train data\n",
    "    \n",
    "    Parameters:\n",
    "        X_train (Series): Text data for training\n",
    "        y_train (Series): Labels corresponding to X_train\n",
    "        X_test (Series): Text data for testing\n",
    "        y_test (Series): Labels corresponding to X_test\n",
    "\n",
    "    Returns:\n",
    "        vectorizer (TfidfVectorizer): TfidfVectorizer with max_features == 50, fitted to X_train\n",
    "        precision (float): The precision score of the spam class on the test data from a\n",
    "                           KNeighborsClassifier fitted to the vectorized training data\n",
    "        recall (float): The recall score of the spam class on the test data from a\n",
    "                        KNeighborsClassifier fitted to the vectorized training data\n",
    "    '''\n",
    "    \n",
    "    # Fit the vectorizer to the train data    \n",
    "    vectorizer.fit(X_train)\n",
    "    \n",
    "    X_train_vect = vectorizer.transform(X_train)\n",
    "    X_test_vect = vectorizer.transform(X_test)\n",
    "    \n",
    "    y_train = y_train.values\n",
    "    y_test = y_test.values\n",
    "    \n",
    "    \n",
    "    # Fit the classifier to the train data\n",
    "    clf.fit(X_train_vect, y_train)\n",
    "\n",
    "    y_pred = clf.predict(X_test_vect)\n",
    "    \n",
    "    # Performance assessment\n",
    "    accuracy = np.mean(y_pred == y_test)    \n",
    "    #precision = precision_score(vect_y_test=='spam', pred=='spam')\n",
    "    #recall = recall_score(vect_y_test=='spam', pred=='spam')\n",
    "        \n",
    "    return y_pred, vectorizer, clf"
   ]
  },
  {
   "cell_type": "code",
   "execution_count": 64,
   "metadata": {},
   "outputs": [],
   "source": [
    "X_train, X_test, y_train, y_test = train_test_split(df['text'].apply(clean), df['sentiment'], test_size=0.3, random_state=42)"
   ]
  },
  {
   "cell_type": "code",
   "execution_count": 65,
   "metadata": {},
   "outputs": [],
   "source": [
    "y_pred, vectorizer, classifier = NLP_get_predictions(X_train, y_train, X_test, y_test)"
   ]
  },
  {
   "cell_type": "code",
   "execution_count": 67,
   "metadata": {
    "scrolled": true
   },
   "outputs": [
    {
     "data": {
      "text/plain": [
       "0.8546666666666667"
      ]
     },
     "execution_count": 67,
     "metadata": {},
     "output_type": "execute_result"
    }
   ],
   "source": [
    "accuracy = np.mean(y_pred == y_test)\n",
    "accuracy"
   ]
  },
  {
   "cell_type": "markdown",
   "metadata": {},
   "source": [
    "## Feature Selction"
   ]
  },
  {
   "cell_type": "markdown",
   "metadata": {},
   "source": [
    "### Using scikit-learn [chi2](https://scikit-learn.org/stable/modules/generated/sklearn.feature_selection.chi2.html)"
   ]
  },
  {
   "cell_type": "code",
   "execution_count": 71,
   "metadata": {
    "scrolled": true
   },
   "outputs": [
    {
     "name": "stdout",
     "output_type": "stream",
     "text": [
      "X_train_vect type: <class 'scipy.sparse.csr.csr_matrix'>\n",
      "X_train_vect.shape: (3500, 22668)\n",
      "\n",
      "chi_values type: <class 'numpy.ndarray'>\n",
      "chi_values shape: (22668,)\n"
     ]
    }
   ],
   "source": [
    "X_train_vect = vectorizer.transform(X_train)\n",
    "chi_values, p_values = chi2(X_train_vect, y_train)\n",
    "\n",
    "print(\"X_train_vect type: {}\".format(type(X_train_vect)))\n",
    "print(\"X_train_vect.shape: {}\".format(X_train_vect.shape))\n",
    "print(\"\\nchi_values type: {}\".format(type(chi_values)))\n",
    "print(\"chi_values shape: {}\".format(chi_values.shape))"
   ]
  },
  {
   "cell_type": "code",
   "execution_count": 80,
   "metadata": {
    "scrolled": true
   },
   "outputs": [
    {
     "data": {
      "image/png": "[encoded data removed]",
      "text/plain": [
       "<Figure size 864x504 with 1 Axes>"
      ]
     },
     "metadata": {
      "needs_background": "light"
     },
     "output_type": "display_data"
    }
   ],
   "source": [
    "feature_names = vectorizer.get_feature_names()\n",
    "\n",
    "feature_chi_series = pd.Series(chi_values, index=feature_names)\n",
    "\n",
    "feature_chi_series.sort_values(ascending=True)[-10:].plot.barh(figsize=(12,7), align='center', alpha=.2, color='g')\n",
    "plt.show()"
   ]
  },
  {
   "cell_type": "markdown",
   "metadata": {},
   "source": [
    "### Using scikit-learn [SelectKBest](https://scikit-learn.org/stable/modules/generated/sklearn.feature_selection.SelectKBest.html)"
   ]
  },
  {
   "cell_type": "code",
   "execution_count": 81,
   "metadata": {},
   "outputs": [],
   "source": [
    "X_train_vect = vectorizer.transform(X_train)\n",
    "\n",
    "ch2_selector = SelectKBest(chi2, k=10)\n",
    "ch2_selector.fit(X_train_vect, y_train)\n",
    "\n",
    "X_train_vect_new = ch2_selector.transform(X_train_vect)"
   ]
  },
  {
   "cell_type": "code",
   "execution_count": 82,
   "metadata": {},
   "outputs": [
    {
     "data": {
      "text/plain": [
       "<3500x10 sparse matrix of type '<class 'numpy.float64'>'\n",
       "\twith 3796 stored elements in Compressed Sparse Row format>"
      ]
     },
     "execution_count": 82,
     "metadata": {},
     "output_type": "execute_result"
    }
   ],
   "source": [
    "X_train_vect_new"
   ]
  },
  {
   "cell_type": "code",
   "execution_count": 97,
   "metadata": {},
   "outputs": [
    {
     "data": {
      "text/plain": [
       "array(['aw', 'bad', 'bore', 'excel', 'great', 'horribl', 'poor',\n",
       "       'terribl', 'wast', 'worst'], dtype='<U25')"
      ]
     },
     "execution_count": 97,
     "metadata": {},
     "output_type": "execute_result"
    }
   ],
   "source": [
    "np.array(vectorizer.get_feature_names())[ch2_selector.get_support()]"
   ]
  }
 ],
 "metadata": {
  "kernelspec": {
   "display_name": "Python 3",
   "language": "python",
   "name": "python3"
  },
  "language_info": {
   "codemirror_mode": {
    "name": "ipython",
    "version": 3
   },
   "file_extension": ".py",
   "mimetype": "text/x-python",
   "name": "python",
   "nbconvert_exporter": "python",
   "pygments_lexer": "ipython3",
   "version": "3.7.1"
  }
 },
 "nbformat": 4,
 "nbformat_minor": 2
}
