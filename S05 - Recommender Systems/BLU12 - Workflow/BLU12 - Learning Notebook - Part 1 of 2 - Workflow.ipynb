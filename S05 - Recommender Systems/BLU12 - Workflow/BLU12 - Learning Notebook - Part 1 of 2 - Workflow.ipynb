{
 "cells": [
  {
   "cell_type": "code",
   "execution_count": 1,
   "metadata": {},
   "outputs": [],
   "source": [
    "# Import the necessary dependencies\n",
    "\n",
    "# Operating System\n",
    "import os\n",
    "\n",
    "# Numpy, Pandas and Scipy\n",
    "import numpy as np\n",
    "import pandas as pd\n",
    "from scipy.sparse import csr_matrix, coo_matrix, save_npz, load_npz\n",
    "\n",
    "# Scikit-learn\n",
    "from sklearn.metrics.pairwise import cosine_similarity\n",
    "from sklearn.model_selection import train_test_split\n",
    "\n",
    "# Model Evaluation\n",
    "from evaluation import evaluate"
   ]
  },
  {
   "cell_type": "markdown",
   "metadata": {},
   "source": [
    "# BLU12 - Learning Notebook - Workflow\n",
    "## Introduction\n",
    "This week we are going to simulate the real-life environment of the Hackathon! We will provide you with a dataset, some tips and you are going to train, validate and predict with a Recommender System using all the knowledge acquired throughout this specialization. This exercise is very similar to the Hackathon of the previous year.\n",
    "\n",
    "## Context\n",
    "You have finished the Academy and you are hired as a Data Scientist in Recommentunify *(ignore the horrible company name, it works and we have more important stuff to discuss)*.\n",
    "\n",
    "First week and the job and the CEO of the next-unicorn-startup that hired you pitches your first task for the company. NASA has discovered that \"Despacito 2\" is on the making and you need to **urgently avoid this scenario.**\n",
    "\n",
    "<img src=\"./media/despacito_nasa.jpg\" alt=\"Miss me yet?\" width=\"500\"/>\n",
    "\n",
    "He doesn't care how you do it or how it works, just that you use fancy trendy eye-catching mind-blowing AI *stuff* to promote Recommentunify's name in the Data Science industry.\n",
    "\n",
    "## Technical Task\n",
    "After the pitch from the CEO, you talk with your Lead Data Scientist and you get the tasks needed to fulfil the job. The company collected some data on the users, you will need to create the Recommender System that is effective enough so that your users will not need a 2nd version of a Despacito.\n",
    "\n",
    "Your Lead DS keeps some of the data as a test set (in which you will estimate production performance) and gives you the remaining data for yourself."
   ]
  },
  {
   "cell_type": "markdown",
   "metadata": {},
   "source": [
    "### Technical Details - Type Hints\n",
    "Since this specialization focuses on the workflow, we will add a cool new feature of more recent versions of Python called \"Type Hints\". Hints allow you to document the code \"within itself\" and allow for new users and reviewers to better understand what you are doing (consider your future self as a new user when you have to pick up code that you've created a long time ago). This is basically adding the type of the argument after the argument name in the function. You can also hint what should be the return type. If you do not use anything else, Python will not enforce the argument type (will acept as it is), but this is still useful for documentation and debugging.\n",
    "\n",
    "```\n",
    "def add_two(x: int) -> int: return x+2\n",
    "\n",
    "print(add_two(2))     # receives int and returns 4, which is an int\n",
    "print(add_two(2.2))   # receives float and returns 4.2 , which is also float (still works)\n",
    "```\n",
    "\n",
    "### Technical Details - Docstrings\n",
    "You can make use of the [Docstrings](https://en.wikipedia.org/wiki/Docstring) to better document your code. There are several styles available. We will use the \"Google Style\" for this notebook.\n",
    "\n",
    "As an example, you can document in a function its overall behaviour (what is used for), what are the expected parameters and returns (along with their types), as well as defining the TODOs for the difficult tasks you are too lazy to code yourself *(future self will be wiser to pick-up on this).*"
   ]
  },
  {
   "cell_type": "markdown",
   "metadata": {},
   "source": [
    "## Step -1: Understanding the data\n",
    "You have available under the `./data/` folder some files that you can use for building the Recommender System. As a good scientist, the first step is to validate that the data you have will be good enough to proceed.\n",
    "\n",
    "The files we have available for the **training** stage are:\n",
    "* `train_play_counts.txt` has the listening history for each user\n",
    "* `song_tag.csv`: has the relationship between tags and songs\n",
    "* `songs.txt`: has the correspondence between the song_id (a unique id, eg: SOAAADD12AB018A9DD) and the song_index (an integer index, eg: 1)\n",
    "* `tags.csv`: has the correspondence between the tag_id (a tag name, eg: classic rock) and the tag_index (an integer index, eg: 1)\n",
    "\n",
    "\n",
    "\n",
    "For the **test** stage, we have:\n",
    "* `test_users.csv`: has the user_ids for which a recommendation should be produced\n",
    "* `example_output.csv`: has an example of an output (just for a couple of users)\n",
    "\n",
    "The best approach is to look at the raw files and print out the first rows of each file just to get a overall sense of what we have.\n",
    "\n",
    "*Note for Windows users: remember that you need to convert the head command into the Windows equivalent. Tip: you can use what you learned in Data Wrangling Learning Unit!*"
   ]
  },
  {
   "cell_type": "code",
   "execution_count": 2,
   "metadata": {},
   "outputs": [
    {
     "name": "stdout",
     "output_type": "stream",
     "text": [
      "train_play_counts.txt \n",
      "\n"
     ]
    },
    {
     "name": "stderr",
     "output_type": "stream",
     "text": [
      "'head' is not recognized as an internal or external command,\n",
      "operable program or batch file.\n"
     ]
    }
   ],
   "source": [
    "print(\"train_play_counts.txt \\n\")\n",
    "!head -3 data/train_play_counts.txt"
   ]
  },
  {
   "cell_type": "code",
   "execution_count": 3,
   "metadata": {},
   "outputs": [
    {
     "name": "stdout",
     "output_type": "stream",
     "text": [
      "song_tag.csv\n",
      "\n"
     ]
    },
    {
     "name": "stderr",
     "output_type": "stream",
     "text": [
      "'head' is not recognized as an internal or external command,\n",
      "operable program or batch file.\n"
     ]
    }
   ],
   "source": [
    "print(\"song_tag.csv\\n\")\n",
    "!head -4 data/song_tag.csv"
   ]
  },
  {
   "cell_type": "code",
   "execution_count": 4,
   "metadata": {},
   "outputs": [
    {
     "name": "stdout",
     "output_type": "stream",
     "text": [
      "songs.txt \n",
      "\n"
     ]
    },
    {
     "name": "stderr",
     "output_type": "stream",
     "text": [
      "'head' is not recognized as an internal or external command,\n",
      "operable program or batch file.\n"
     ]
    }
   ],
   "source": [
    "print(\"songs.txt \\n\")\n",
    "!head -3 data/songs.txt"
   ]
  },
  {
   "cell_type": "code",
   "execution_count": 5,
   "metadata": {},
   "outputs": [
    {
     "name": "stdout",
     "output_type": "stream",
     "text": [
      "tags.csv \n",
      "\n"
     ]
    },
    {
     "name": "stderr",
     "output_type": "stream",
     "text": [
      "'head' is not recognized as an internal or external command,\n",
      "operable program or batch file.\n"
     ]
    }
   ],
   "source": [
    "print(\"tags.csv \\n\")\n",
    "!head -4 data/tags.csv"
   ]
  },
  {
   "cell_type": "code",
   "execution_count": 6,
   "metadata": {},
   "outputs": [
    {
     "name": "stdout",
     "output_type": "stream",
     "text": [
      "test_users.csv \n",
      "\n"
     ]
    },
    {
     "name": "stderr",
     "output_type": "stream",
     "text": [
      "'head' is not recognized as an internal or external command,\n",
      "operable program or batch file.\n"
     ]
    }
   ],
   "source": [
    "print(\"test_users.csv \\n\")\n",
    "!head -3 data/test_users.csv"
   ]
  },
  {
   "cell_type": "code",
   "execution_count": 7,
   "metadata": {
    "scrolled": true
   },
   "outputs": [
    {
     "name": "stdout",
     "output_type": "stream",
     "text": [
      "example_output.csv \n",
      "\n"
     ]
    },
    {
     "name": "stderr",
     "output_type": "stream",
     "text": [
      "'head' is not recognized as an internal or external command,\n",
      "operable program or batch file.\n"
     ]
    }
   ],
   "source": [
    "print(\"example_output.csv \\n\")\n",
    "!head -1 data/example_output.csv"
   ]
  },
  {
   "cell_type": "markdown",
   "metadata": {},
   "source": [
    "## Step 0: Load the Data\n",
    "After validating that the data we have is good enough, we start with building the ratings matrix. Our strategy for the first model is to get a non-personalized system as a baseline. This allows us to both predict for existing users (no cold-start problem) and for new users.\n",
    "\n",
    "Note: since the `song_tag.csv` is heavy, it was stored in a zip file which you will need to unzip."
   ]
  },
  {
   "cell_type": "markdown",
   "metadata": {},
   "source": [
    "## Step 0.1: Load the Train and Test files"
   ]
  },
  {
   "cell_type": "code",
   "execution_count": 8,
   "metadata": {},
   "outputs": [
    {
     "data": {
      "text/html": [
       "<div>\n",
       "<style scoped>\n",
       "    .dataframe tbody tr th:only-of-type {\n",
       "        vertical-align: middle;\n",
       "    }\n",
       "\n",
       "    .dataframe tbody tr th {\n",
       "        vertical-align: top;\n",
       "    }\n",
       "\n",
       "    .dataframe thead th {\n",
       "        text-align: right;\n",
       "    }\n",
       "</style>\n",
       "<table border=\"1\" class=\"dataframe\">\n",
       "  <thead>\n",
       "    <tr style=\"text-align: right;\">\n",
       "      <th></th>\n",
       "      <th>user</th>\n",
       "      <th>song_id</th>\n",
       "      <th>rating</th>\n",
       "    </tr>\n",
       "  </thead>\n",
       "  <tbody>\n",
       "    <tr>\n",
       "      <th>0</th>\n",
       "      <td>fd50c4007b68a3737fe052d5a4f78ce8aa117f3d</td>\n",
       "      <td>SOBONKR12A58A7A7E0</td>\n",
       "      <td>1</td>\n",
       "    </tr>\n",
       "    <tr>\n",
       "      <th>1</th>\n",
       "      <td>fd50c4007b68a3737fe052d5a4f78ce8aa117f3d</td>\n",
       "      <td>SOEGIYH12A6D4FC0E3</td>\n",
       "      <td>1</td>\n",
       "    </tr>\n",
       "    <tr>\n",
       "      <th>2</th>\n",
       "      <td>fd50c4007b68a3737fe052d5a4f78ce8aa117f3d</td>\n",
       "      <td>SOFLJQZ12A6D4FADA6</td>\n",
       "      <td>1</td>\n",
       "    </tr>\n",
       "    <tr>\n",
       "      <th>3</th>\n",
       "      <td>fd50c4007b68a3737fe052d5a4f78ce8aa117f3d</td>\n",
       "      <td>SOHTKMO12AB01843B0</td>\n",
       "      <td>1</td>\n",
       "    </tr>\n",
       "    <tr>\n",
       "      <th>4</th>\n",
       "      <td>fd50c4007b68a3737fe052d5a4f78ce8aa117f3d</td>\n",
       "      <td>SODQZCY12A6D4F9D11</td>\n",
       "      <td>1</td>\n",
       "    </tr>\n",
       "  </tbody>\n",
       "</table>\n",
       "</div>"
      ],
      "text/plain": [
       "                                       user             song_id  rating\n",
       "0  fd50c4007b68a3737fe052d5a4f78ce8aa117f3d  SOBONKR12A58A7A7E0       1\n",
       "1  fd50c4007b68a3737fe052d5a4f78ce8aa117f3d  SOEGIYH12A6D4FC0E3       1\n",
       "2  fd50c4007b68a3737fe052d5a4f78ce8aa117f3d  SOFLJQZ12A6D4FADA6       1\n",
       "3  fd50c4007b68a3737fe052d5a4f78ce8aa117f3d  SOHTKMO12AB01843B0       1\n",
       "4  fd50c4007b68a3737fe052d5a4f78ce8aa117f3d  SODQZCY12A6D4F9D11       1"
      ]
     },
     "execution_count": 8,
     "metadata": {},
     "output_type": "execute_result"
    }
   ],
   "source": [
    "def read_users_history() -> pd.DataFrame:\n",
    "    \"\"\"Imports the listening history for each user.\n",
    "    \n",
    "    Returns:\n",
    "        data (pd.DataFrame): DataFrame with the user for each user. \n",
    "                             The rows are tuples of (user, song_id, rating).\n",
    "                             \n",
    "    \"\"\"\n",
    "    path = os.path.join('data', 'train_play_counts.txt')\n",
    "    data = pd.read_csv(path, names=['user', 'song_id', 'rating'], sep='\\t')\n",
    "    return data\n",
    "\n",
    "data = read_users_history()\n",
    "data.head()"
   ]
  },
  {
   "cell_type": "code",
   "execution_count": 9,
   "metadata": {},
   "outputs": [
    {
     "name": "stdout",
     "output_type": "stream",
     "text": [
      "<class 'pandas.core.frame.DataFrame'>\n",
      "RangeIndex: 100000 entries, 0 to 99999\n",
      "Data columns (total 3 columns):\n",
      "user       100000 non-null object\n",
      "song_id    100000 non-null object\n",
      "rating     100000 non-null int64\n",
      "dtypes: int64(1), object(2)\n",
      "memory usage: 2.3+ MB\n"
     ]
    }
   ],
   "source": [
    "data.info()"
   ]
  },
  {
   "cell_type": "code",
   "execution_count": 10,
   "metadata": {},
   "outputs": [
    {
     "data": {
      "text/plain": [
       "(7526,)"
      ]
     },
     "execution_count": 10,
     "metadata": {},
     "output_type": "execute_result"
    }
   ],
   "source": [
    "data.user.unique().shape"
   ]
  },
  {
   "cell_type": "code",
   "execution_count": 11,
   "metadata": {},
   "outputs": [
    {
     "name": "stdout",
     "output_type": "stream",
     "text": [
      "We have 100,000 ratings in total.\n"
     ]
    }
   ],
   "source": [
    "# How many ratings do we have in total?\n",
    "# Tip: The \":,\" at the end of the f-string adds the thousand separator.\n",
    "print(f\"We have {len(data):,} ratings in total.\")"
   ]
  },
  {
   "cell_type": "code",
   "execution_count": 12,
   "metadata": {},
   "outputs": [
    {
     "data": {
      "text/html": [
       "<div>\n",
       "<style scoped>\n",
       "    .dataframe tbody tr th:only-of-type {\n",
       "        vertical-align: middle;\n",
       "    }\n",
       "\n",
       "    .dataframe tbody tr th {\n",
       "        vertical-align: top;\n",
       "    }\n",
       "\n",
       "    .dataframe thead th {\n",
       "        text-align: right;\n",
       "    }\n",
       "</style>\n",
       "<table border=\"1\" class=\"dataframe\">\n",
       "  <thead>\n",
       "    <tr style=\"text-align: right;\">\n",
       "      <th></th>\n",
       "      <th>users to recommend songs</th>\n",
       "    </tr>\n",
       "  </thead>\n",
       "  <tbody>\n",
       "    <tr>\n",
       "      <th>0</th>\n",
       "      <td>56d985c92960b98ad76a48b10a062b0cd86795bf</td>\n",
       "    </tr>\n",
       "    <tr>\n",
       "      <th>1</th>\n",
       "      <td>0102d1549242d159df98f333aee4041f96f37e98</td>\n",
       "    </tr>\n",
       "    <tr>\n",
       "      <th>2</th>\n",
       "      <td>991411f0dca94f348c7bd3eae93b6e6c061605f1</td>\n",
       "    </tr>\n",
       "    <tr>\n",
       "      <th>3</th>\n",
       "      <td>03feb8ee0424fc5c0bafb25e4bdc6d9380a3caba</td>\n",
       "    </tr>\n",
       "    <tr>\n",
       "      <th>4</th>\n",
       "      <td>323fbb28144eefa3eabfa22bd310dfb0713de80d</td>\n",
       "    </tr>\n",
       "  </tbody>\n",
       "</table>\n",
       "</div>"
      ],
      "text/plain": [
       "                   users to recommend songs\n",
       "0  56d985c92960b98ad76a48b10a062b0cd86795bf\n",
       "1  0102d1549242d159df98f333aee4041f96f37e98\n",
       "2  991411f0dca94f348c7bd3eae93b6e6c061605f1\n",
       "3  03feb8ee0424fc5c0bafb25e4bdc6d9380a3caba\n",
       "4  323fbb28144eefa3eabfa22bd310dfb0713de80d"
      ]
     },
     "execution_count": 12,
     "metadata": {},
     "output_type": "execute_result"
    }
   ],
   "source": [
    "def read_test_users() -> pd.DataFrame:\n",
    "    \"\"\"Imports the list of users for which we need to predict.\n",
    "    \n",
    "    Returns:\n",
    "        users_to_pred (pd.DataFrame): DataFrame with the users for which we will recommend songs. \n",
    "    \"\"\"\n",
    "\n",
    "    path = os.path.join('data', 'test_users.csv')\n",
    "    users_to_pred_ = pd.read_csv(path, names=['users to recommend songs'])\n",
    "    \n",
    "    return users_to_pred_\n",
    "\n",
    "\n",
    "users_to_pred = read_test_users()\n",
    "users_to_pred.head()"
   ]
  },
  {
   "cell_type": "code",
   "execution_count": 13,
   "metadata": {},
   "outputs": [
    {
     "name": "stdout",
     "output_type": "stream",
     "text": [
      "We have 1000 users in need for better songs!\n"
     ]
    }
   ],
   "source": [
    "# For how many users are we recommending stuff?\n",
    "print(f\"We have {len(users_to_pred)} users in need for better songs!\")"
   ]
  },
  {
   "cell_type": "markdown",
   "metadata": {},
   "source": [
    "## Step 0.2: Compare the train and test files"
   ]
  },
  {
   "cell_type": "code",
   "execution_count": 14,
   "metadata": {},
   "outputs": [
    {
     "data": {
      "text/plain": [
       "users to recommend songs    700\n",
       "dtype: int64"
      ]
     },
     "execution_count": 14,
     "metadata": {},
     "output_type": "execute_result"
    }
   ],
   "source": [
    "# And for how many users we already know something?\n",
    "# For the 1000 users in our test set, we have data for 700 in the original listening history.\n",
    "# For the remaining 300 we will have to use non-personalized strategies.\n",
    "users_to_pred.isin(data.user.values).sum()"
   ]
  },
  {
   "cell_type": "code",
   "execution_count": 15,
   "metadata": {},
   "outputs": [],
   "source": [
    "def get_indices_from_users_to_pred(users_to_pred: pd.DataFrame, data: pd.DataFrame):\n",
    "    \"\"\"Get the indices of users_to_pred for which we have data and for which we don't.\n",
    "    \n",
    "    Args:\n",
    "        users_to_pred (pd.DataFrame): DataFrame containing the list of users we are going to recommend items.\n",
    "        data (pd.DataFrame): Original of listening history for the users.\n",
    "        \n",
    "    Returns:\n",
    "        index_users_in_data (Int64Index): Index that filters the users_to_pred to get the user_id's with training data.\n",
    "        index_users_not_in_data (Int64Index): Index that filters the users_to_pred to get the user_id's without training data.\n",
    "        \n",
    "    \"\"\"\n",
    "    index_users_in_data = users_to_pred[users_to_pred.isin(data.user.values).values].index\n",
    "    index_users_not_in_data = users_to_pred[~users_to_pred.isin(data.user.values).values].index\n",
    "    \n",
    "    return index_users_in_data, index_users_not_in_data\n",
    "\n",
    "\n",
    "index_users_in_data, index_users_not_in_data = get_indices_from_users_to_pred(users_to_pred, data)"
   ]
  },
  {
   "cell_type": "code",
   "execution_count": 16,
   "metadata": {},
   "outputs": [
    {
     "name": "stdout",
     "output_type": "stream",
     "text": [
      "The index for users which we have training data has length of 700.\n",
      "The index for users which we don't have training data has length of 300.\n"
     ]
    }
   ],
   "source": [
    "# For further inspection, we advise you to look at the objects themselves.\n",
    "print(f\"The index for users which we have training data has length of {len(index_users_in_data)}.\")\n",
    "print(f\"The index for users which we don't have training data has length of {len(index_users_not_in_data)}.\")"
   ]
  },
  {
   "cell_type": "code",
   "execution_count": 17,
   "metadata": {},
   "outputs": [
    {
     "name": "stdout",
     "output_type": "stream",
     "text": [
      "(700, 1)\n"
     ]
    },
    {
     "data": {
      "text/html": [
       "<div>\n",
       "<style scoped>\n",
       "    .dataframe tbody tr th:only-of-type {\n",
       "        vertical-align: middle;\n",
       "    }\n",
       "\n",
       "    .dataframe tbody tr th {\n",
       "        vertical-align: top;\n",
       "    }\n",
       "\n",
       "    .dataframe thead th {\n",
       "        text-align: right;\n",
       "    }\n",
       "</style>\n",
       "<table border=\"1\" class=\"dataframe\">\n",
       "  <thead>\n",
       "    <tr style=\"text-align: right;\">\n",
       "      <th></th>\n",
       "      <th>users to recommend songs</th>\n",
       "    </tr>\n",
       "  </thead>\n",
       "  <tbody>\n",
       "    <tr>\n",
       "      <th>0</th>\n",
       "      <td>56d985c92960b98ad76a48b10a062b0cd86795bf</td>\n",
       "    </tr>\n",
       "    <tr>\n",
       "      <th>1</th>\n",
       "      <td>991411f0dca94f348c7bd3eae93b6e6c061605f1</td>\n",
       "    </tr>\n",
       "    <tr>\n",
       "      <th>2</th>\n",
       "      <td>323fbb28144eefa3eabfa22bd310dfb0713de80d</td>\n",
       "    </tr>\n",
       "    <tr>\n",
       "      <th>3</th>\n",
       "      <td>55c750f0951ca1021b26c0e758660bb8a2c49d3a</td>\n",
       "    </tr>\n",
       "    <tr>\n",
       "      <th>4</th>\n",
       "      <td>b458e3d697276a93aa6926caf1ff08e875933940</td>\n",
       "    </tr>\n",
       "  </tbody>\n",
       "</table>\n",
       "</div>"
      ],
      "text/plain": [
       "                   users to recommend songs\n",
       "0  56d985c92960b98ad76a48b10a062b0cd86795bf\n",
       "1  991411f0dca94f348c7bd3eae93b6e6c061605f1\n",
       "2  323fbb28144eefa3eabfa22bd310dfb0713de80d\n",
       "3  55c750f0951ca1021b26c0e758660bb8a2c49d3a\n",
       "4  b458e3d697276a93aa6926caf1ff08e875933940"
      ]
     },
     "execution_count": 17,
     "metadata": {},
     "output_type": "execute_result"
    }
   ],
   "source": [
    "def get_users_to_pred_by_index(users_to_pred, index_users_in_data):\n",
    "    \"\"\"DataFrame with user_id's in test set for for which we have training data.\n",
    "\n",
    "    Args: \n",
    "        users_to_pred (pd.DataFrame): DataFrame containing the list of users we are going to recommend items.\n",
    "        index_users_in_data (Int64Index): Index that filters the users_to_pred to get the user_id's with training data.\n",
    "    Returns:\n",
    "        users_in_data (pd.DataFrame): Dataframe containing the list of user_id's with training data.\n",
    "    \n",
    "    \"\"\"\n",
    "    return users_to_pred.iloc[index_users_in_data].reset_index(drop=True)\n",
    "\n",
    "# Get the test users with training data\n",
    "test_users_in_data = get_users_to_pred_by_index(users_to_pred, index_users_in_data)\n",
    "print(test_users_in_data.shape)\n",
    "test_users_in_data.head()"
   ]
  },
  {
   "cell_type": "code",
   "execution_count": 18,
   "metadata": {
    "scrolled": true
   },
   "outputs": [
    {
     "name": "stdout",
     "output_type": "stream",
     "text": [
      "(300, 1)\n"
     ]
    },
    {
     "data": {
      "text/html": [
       "<div>\n",
       "<style scoped>\n",
       "    .dataframe tbody tr th:only-of-type {\n",
       "        vertical-align: middle;\n",
       "    }\n",
       "\n",
       "    .dataframe tbody tr th {\n",
       "        vertical-align: top;\n",
       "    }\n",
       "\n",
       "    .dataframe thead th {\n",
       "        text-align: right;\n",
       "    }\n",
       "</style>\n",
       "<table border=\"1\" class=\"dataframe\">\n",
       "  <thead>\n",
       "    <tr style=\"text-align: right;\">\n",
       "      <th></th>\n",
       "      <th>users to recommend songs</th>\n",
       "    </tr>\n",
       "  </thead>\n",
       "  <tbody>\n",
       "    <tr>\n",
       "      <th>0</th>\n",
       "      <td>0102d1549242d159df98f333aee4041f96f37e98</td>\n",
       "    </tr>\n",
       "    <tr>\n",
       "      <th>1</th>\n",
       "      <td>03feb8ee0424fc5c0bafb25e4bdc6d9380a3caba</td>\n",
       "    </tr>\n",
       "    <tr>\n",
       "      <th>2</th>\n",
       "      <td>02e4174f754ee4546f4c4438a4bea6ed877c6c4f</td>\n",
       "    </tr>\n",
       "    <tr>\n",
       "      <th>3</th>\n",
       "      <td>03070a3284db565b2e67f8ad01ce96c31c9986dd</td>\n",
       "    </tr>\n",
       "    <tr>\n",
       "      <th>4</th>\n",
       "      <td>01dd0b2bb39643b8925a672105819d599f827c87</td>\n",
       "    </tr>\n",
       "  </tbody>\n",
       "</table>\n",
       "</div>"
      ],
      "text/plain": [
       "                   users to recommend songs\n",
       "0  0102d1549242d159df98f333aee4041f96f37e98\n",
       "1  03feb8ee0424fc5c0bafb25e4bdc6d9380a3caba\n",
       "2  02e4174f754ee4546f4c4438a4bea6ed877c6c4f\n",
       "3  03070a3284db565b2e67f8ad01ce96c31c9986dd\n",
       "4  01dd0b2bb39643b8925a672105819d599f827c87"
      ]
     },
     "execution_count": 18,
     "metadata": {},
     "output_type": "execute_result"
    }
   ],
   "source": [
    "# Get the test users without training data\n",
    "test_users_not_in_data = get_users_to_pred_by_index(users_to_pred, index_users_not_in_data)\n",
    "print(test_users_not_in_data.shape)\n",
    "test_users_not_in_data.head()"
   ]
  },
  {
   "cell_type": "markdown",
   "metadata": {},
   "source": [
    "## Step 0.3: Create the Ratings matrix"
   ]
  },
  {
   "cell_type": "code",
   "execution_count": 19,
   "metadata": {
    "scrolled": true
   },
   "outputs": [
    {
     "data": {
      "text/plain": [
       "<7526x41194 sparse matrix of type '<class 'numpy.int64'>'\n",
       "\twith 100000 stored elements in Compressed Sparse Row format>"
      ]
     },
     "execution_count": 19,
     "metadata": {},
     "output_type": "execute_result"
    }
   ],
   "source": [
    "def make_ratings(data: pd.DataFrame) -> csr_matrix:\n",
    "    \"\"\"Creates the ratings matrix of listening history.\n",
    "    \n",
    "    Creates the ratings matrix from the listening history imported using the read_users_history() method.\n",
    "    \n",
    "    Args:\n",
    "        data (pd.DataFrame):  listening history for the users.\n",
    "        \n",
    "    Returns:\n",
    "        ratings (csr_matrix): ratings matrix with shape (n_users, n_items)\n",
    "        \n",
    "    TODO:\n",
    "        * Add the shape as an optional parameter.\n",
    "        \n",
    "    \"\"\"\n",
    "    # You have probably seen this before\n",
    "    users, user_pos = np.unique(data.iloc[:, 0].values, return_inverse=True)\n",
    "    items, item_pos = np.unique(data.iloc[:, 1].values, return_inverse=True)\n",
    "    values = data.iloc[:, 2].fillna(0).values\n",
    "    \n",
    "    shape = (len(users), len(items))\n",
    "\n",
    "    R_ = coo_matrix((values, (user_pos, item_pos)), shape=shape).tocsr()\n",
    "    \n",
    "    return R_\n",
    "\n",
    "\n",
    "R = make_ratings(data)\n",
    "R"
   ]
  },
  {
   "cell_type": "code",
   "execution_count": 20,
   "metadata": {},
   "outputs": [],
   "source": [
    "data_pivot = data.pivot(index='user', columns='song_id', values='rating').sort_index().fillna(0)\n",
    "data_pivot_csr = csr_matrix(data_pivot)"
   ]
  },
  {
   "cell_type": "code",
   "execution_count": 21,
   "metadata": {},
   "outputs": [
    {
     "name": "stdout",
     "output_type": "stream",
     "text": [
      "<class 'pandas.core.frame.DataFrame'>\n",
      "Index: 7526 entries, 0011d5f4fb02ff276763d385c3f2ded2b00ad94a to ffe98099df91d5ff4a9ab02f58bb9dc87b278cb2\n",
      "Columns: 41194 entries, SOAAAGQ12A8C1420C8 to SOZZZRV12A8C1361F1\n",
      "dtypes: float64(41194)\n",
      "memory usage: 2.3+ GB\n"
     ]
    }
   ],
   "source": [
    "data_pivot.info()"
   ]
  },
  {
   "cell_type": "code",
   "execution_count": 22,
   "metadata": {},
   "outputs": [
    {
     "data": {
      "text/plain": [
       "0"
      ]
     },
     "execution_count": 22,
     "metadata": {},
     "output_type": "execute_result"
    }
   ],
   "source": [
    "(data_pivot_csr != R).todense().sum()"
   ]
  },
  {
   "cell_type": "code",
   "execution_count": 23,
   "metadata": {
    "scrolled": true
   },
   "outputs": [
    {
     "name": "stdout",
     "output_type": "stream",
     "text": [
      "The shape is (7526, 41194)\n",
      "The dtypes of the elements are int64\n",
      "The number of stored elements is 100000\n",
      "The type of the matrix is <class 'scipy.sparse.csr.csr_matrix'>\n"
     ]
    }
   ],
   "source": [
    "# Just for mental (in)sanity, let's match the info of the matrix to what is printed in the previous cell.\n",
    "print(f\"The shape is {R.shape}\")\n",
    "print(f\"The dtypes of the elements are {R.dtype}\")\n",
    "print(f\"The number of stored elements is {R.nnz}\")\n",
    "print(f\"The type of the matrix is {type(R)}\")"
   ]
  },
  {
   "cell_type": "code",
   "execution_count": 24,
   "metadata": {
    "scrolled": true
   },
   "outputs": [
    {
     "data": {
      "text/html": [
       "<div>\n",
       "<style scoped>\n",
       "    .dataframe tbody tr th:only-of-type {\n",
       "        vertical-align: middle;\n",
       "    }\n",
       "\n",
       "    .dataframe tbody tr th {\n",
       "        vertical-align: top;\n",
       "    }\n",
       "\n",
       "    .dataframe thead th {\n",
       "        text-align: right;\n",
       "    }\n",
       "</style>\n",
       "<table border=\"1\" class=\"dataframe\">\n",
       "  <thead>\n",
       "    <tr style=\"text-align: right;\">\n",
       "      <th></th>\n",
       "      <th>users to recommend songs</th>\n",
       "    </tr>\n",
       "  </thead>\n",
       "  <tbody>\n",
       "    <tr>\n",
       "      <th>0</th>\n",
       "      <td>0011d5f4fb02ff276763d385c3f2ded2b00ad94a</td>\n",
       "    </tr>\n",
       "    <tr>\n",
       "      <th>1</th>\n",
       "      <td>002511b392561fc1d426d875c386b356a6fc5702</td>\n",
       "    </tr>\n",
       "    <tr>\n",
       "      <th>2</th>\n",
       "      <td>002dfbc3c073b55a64a4abab34c0ca1f13897f1c</td>\n",
       "    </tr>\n",
       "    <tr>\n",
       "      <th>3</th>\n",
       "      <td>003998bc33cddeba02428a43391c6716e523c8f7</td>\n",
       "    </tr>\n",
       "    <tr>\n",
       "      <th>4</th>\n",
       "      <td>0042d2027dfa0340e31d2aa875c4be229730efb7</td>\n",
       "    </tr>\n",
       "  </tbody>\n",
       "</table>\n",
       "</div>"
      ],
      "text/plain": [
       "                   users to recommend songs\n",
       "0  0011d5f4fb02ff276763d385c3f2ded2b00ad94a\n",
       "1  002511b392561fc1d426d875c386b356a6fc5702\n",
       "2  002dfbc3c073b55a64a4abab34c0ca1f13897f1c\n",
       "3  003998bc33cddeba02428a43391c6716e523c8f7\n",
       "4  0042d2027dfa0340e31d2aa875c4be229730efb7"
      ]
     },
     "execution_count": 24,
     "metadata": {},
     "output_type": "execute_result"
    }
   ],
   "source": [
    "# Let's store a Series with the unique user id's that we have in the original data.\n",
    "def get_unique_users(data):\n",
    "    \"\"\"Get unique users in training data.\n",
    "    \n",
    "    Args:\n",
    "        data (pd.DataFrame):  listening history for the users.\n",
    "        \n",
    "    Returns:\n",
    "        unique_users (pd.DataFrame): DataFrame of one column with unique users in training data.\n",
    "    \n",
    "    \"\"\"\n",
    "    return pd.DataFrame(np.unique(data.iloc[:, 0].values), columns=[\"users to recommend songs\"])\n",
    "\n",
    "\n",
    "unique_users_training_data = get_unique_users(data)\n",
    "unique_users_training_data.head()"
   ]
  },
  {
   "cell_type": "code",
   "execution_count": 78,
   "metadata": {},
   "outputs": [
    {
     "data": {
      "text/plain": [
       "0"
      ]
     },
     "execution_count": 78,
     "metadata": {},
     "output_type": "execute_result"
    }
   ],
   "source": [
    "(np.sort(unique_users_training_data.values.reshape(-1,)) != np.sort(data.user.unique())).sum()"
   ]
  },
  {
   "cell_type": "markdown",
   "metadata": {},
   "source": [
    "## Step 0.4: Record the indices of users\n",
    "After having the users for the test set and the original ratings matrix, let's create some indices which we will use later on to filter data. Don't worry if it does not seem much intuitive in the beginning, you will further return to this and get a better grasp."
   ]
  },
  {
   "cell_type": "code",
   "execution_count": 25,
   "metadata": {},
   "outputs": [],
   "source": [
    "def get_indices_in_ratings_for_test_users_in_data(data: pd.DataFrame, test_users_in_data: pd.DataFrame):\n",
    "    \"\"\"Returns the index of the ratings matrix for the test users for which we have training data.\n",
    "    \n",
    "    Args:\n",
    "        data (pd.DataFrame): DataFrame with the user for each user. \n",
    "                             The rows are tuples of (user, song_id, rating).\n",
    "                             \n",
    "        test_users_in_data (pd.DataFrame): DataFrame containing the list of test users for which we have training data.\n",
    "        \n",
    "    Returns:\n",
    "        indices_ratings_tests_users_in_data (np.array): Indices of users in test set with training data for ratings matrix.\n",
    "    \n",
    "    \"\"\"\n",
    "    unique_users = get_unique_users(data).iloc[:, 0]\n",
    "    # df.index.to_numpy() not available before pandas version 0.24.0\n",
    "    #indices_ratings_tests_users_in_data = unique_users[unique_users.isin(test_users_in_data.iloc[:, 0])].index.to_numpy()\n",
    "    indices_ratings_tests_users_in_data = unique_users[unique_users.isin(test_users_in_data.iloc[:, 0])].index.values\n",
    "    return indices_ratings_tests_users_in_data\n",
    "\n",
    "indices_ratings_tests_users_in_data = get_indices_in_ratings_for_test_users_in_data(data, test_users_in_data)"
   ]
  },
  {
   "cell_type": "code",
   "execution_count": 26,
   "metadata": {},
   "outputs": [
    {
     "data": {
      "text/plain": [
       "700"
      ]
     },
     "execution_count": 26,
     "metadata": {},
     "output_type": "execute_result"
    }
   ],
   "source": [
    "len(indices_ratings_tests_users_in_data)"
   ]
  },
  {
   "cell_type": "code",
   "execution_count": 27,
   "metadata": {},
   "outputs": [
    {
     "name": "stdout",
     "output_type": "stream",
     "text": [
      "As expected, the length of the indices should be 700, matching the number of users in test set with training data.\n"
     ]
    }
   ],
   "source": [
    "print(f\"As expected, the length of the indices should be {len(indices_ratings_tests_users_in_data)}, matching the number of users in test set with training data.\")"
   ]
  },
  {
   "cell_type": "markdown",
   "metadata": {},
   "source": [
    "## Step 1: Understand your data flow\n",
    "In the end, we will be predicting over a test set of users, which may or may not have ratings available in our training data. For the ones in the test set for which we have data in the training, we may use personalized recommendation systems. Otherwise, we need to switch to non-personalized recommendations. \n",
    "\n",
    "To split into train and validation, we undersample the original list of ratings but we need to make sure that the overall shape is the same (making sure that by undersampling we do not affect the shape of the full matrix)."
   ]
  },
  {
   "cell_type": "code",
   "execution_count": 28,
   "metadata": {
    "scrolled": true
   },
   "outputs": [
    {
     "data": {
      "text/plain": [
       "<7526x41194 sparse matrix of type '<class 'numpy.int64'>'\n",
       "\twith 100000 stored elements in Compressed Sparse Row format>"
      ]
     },
     "execution_count": 28,
     "metadata": {},
     "output_type": "execute_result"
    }
   ],
   "source": [
    "def make_ratings(data: pd.DataFrame, shape: tuple = None) -> csr_matrix:\n",
    "    \"\"\"Creates the ratings matrix of listening history with optional shape\n",
    "    \n",
    "    2nd version of the make_ratings which handles the previous TODO.\n",
    "    Creates the ratings matrix from the listening history imported using the read_users_history() method.\n",
    "    \n",
    "    Args:\n",
    "        data (pd.DataFrame):  Listening history for the users.\n",
    "        shape (tuple): The overall (n_users, n_items) shape desired for the matrix. \n",
    "                       If None, define the shape with the (n_users, n_items) from data argument.\n",
    "        \n",
    "    Returns:\n",
    "        ratings (csr_matrix): Ratings matrix with shape (n_users, n_items).\n",
    "    \n",
    "    \"\"\"\n",
    "    # You have probably seen this before\n",
    "    users, user_pos = np.unique(data.iloc[:, 0].values, return_inverse=True)\n",
    "    items, item_pos = np.unique(data.iloc[:, 1].values, return_inverse=True)\n",
    "    values = data.iloc[:, 2].fillna(0).values\n",
    "    \n",
    "    if shape == None:\n",
    "        shape = (len(users), len(items))\n",
    "\n",
    "    R_ = coo_matrix((values, (user_pos, item_pos)), shape=shape).tocsr()\n",
    "    return R_\n",
    "\n",
    "\n",
    "R = make_ratings(data)\n",
    "R"
   ]
  },
  {
   "cell_type": "code",
   "execution_count": 115,
   "metadata": {},
   "outputs": [],
   "source": [
    "data_test1 = data.sample(frac=0.2, random_state=12).sort_index()"
   ]
  },
  {
   "cell_type": "code",
   "execution_count": 95,
   "metadata": {
    "scrolled": true
   },
   "outputs": [
    {
     "data": {
      "text/plain": [
       "array([23441, 90125, 57892, ..., 35701, 95879, 12911], dtype=int64)"
      ]
     },
     "execution_count": 95,
     "metadata": {},
     "output_type": "execute_result"
    }
   ],
   "source": [
    "data.sample(frac=0.2, random_state=12).index.values"
   ]
  },
  {
   "cell_type": "code",
   "execution_count": 122,
   "metadata": {},
   "outputs": [],
   "source": [
    "sample_idx_values = data.sample(frac=0.2, random_state=12).index.values\n",
    "sample_idx_bool = data.index.isin(sample_idx_values)\n",
    "not_sample_idx_bool = ~data.index.isin(sample_idx_values)"
   ]
  },
  {
   "cell_type": "code",
   "execution_count": 116,
   "metadata": {},
   "outputs": [],
   "source": [
    "data_test2 = data.loc[data.sample(frac=0.2, random_state=12).index.values,:].sort_index()"
   ]
  },
  {
   "cell_type": "code",
   "execution_count": 118,
   "metadata": {},
   "outputs": [],
   "source": [
    "data_test3 = data[sample_idx_bool].sort_index()"
   ]
  },
  {
   "cell_type": "code",
   "execution_count": 117,
   "metadata": {},
   "outputs": [
    {
     "data": {
      "text/plain": [
       "user       0\n",
       "song_id    0\n",
       "rating     0\n",
       "dtype: int64"
      ]
     },
     "execution_count": 117,
     "metadata": {},
     "output_type": "execute_result"
    }
   ],
   "source": [
    "(data_test1 != data_test2).sum()"
   ]
  },
  {
   "cell_type": "code",
   "execution_count": 119,
   "metadata": {
    "scrolled": true
   },
   "outputs": [
    {
     "data": {
      "text/plain": [
       "user       0\n",
       "song_id    0\n",
       "rating     0\n",
       "dtype: int64"
      ]
     },
     "execution_count": 119,
     "metadata": {},
     "output_type": "execute_result"
    }
   ],
   "source": [
    "(data_test1 != data_test3).sum()"
   ]
  },
  {
   "cell_type": "code",
   "execution_count": 29,
   "metadata": {
    "scrolled": true
   },
   "outputs": [],
   "source": [
    "# Percentage of listening history used for validation.\n",
    "test_size = 0.2\n",
    "\n",
    "def make_train_val_split(data: pd.DataFrame, test_size : float = 0.2, shape: tuple = None):\n",
    "    \"\"\"Split the data into train and validation and returns the ratings matrixes accordingly.\n",
    "    \n",
    "    Args:\n",
    "        data (pd.DataFrame): Listening history for the users.\n",
    "        test_size (float): Percentage of listening history used for validation.\n",
    "        shape (tuple): The overall (n_users, n_items) shape desired for the matrix. \n",
    "                       If None, define the shape with the (n_users, n_items) from 'data' argument.\n",
    "    \n",
    "    Returns:\n",
    "        ratings_train (csr_matrix): Ratings matrix for train.\n",
    "        ratings_val (csr_matrix): Ratings matrix for validation.\n",
    "    \n",
    "    \"\"\"\n",
    "    train_data, val_data = train_test_split(data, test_size=test_size)\n",
    "    R_train = make_ratings(train_data, shape=shape)\n",
    "    R_val = make_ratings(val_data, shape=shape)\n",
    "    return R_train, R_val\n",
    "\n",
    "ratings_train, ratings_val = make_train_val_split(data, test_size=test_size, shape=R.shape)"
   ]
  },
  {
   "cell_type": "code",
   "execution_count": 30,
   "metadata": {},
   "outputs": [
    {
     "name": "stdout",
     "output_type": "stream",
     "text": [
      "After the split we have 80,000 ratings in the train set and 20,000 ratings in the validation set.\n"
     ]
    }
   ],
   "source": [
    "# After the train/validation split, let's compare the number of ratings available in each matrix.\n",
    "print(f\"After the split we have {ratings_train.nnz:,} ratings in the train set and {ratings_val.nnz:,} ratings in the validation set.\")"
   ]
  },
  {
   "cell_type": "markdown",
   "metadata": {},
   "source": [
    "## Step 2: Non-Personalized\n",
    "Let's build our baseline using one of the the Non-Personalized techniques we learned in BLU10 - \"Popular Items\". This basically fetches the items which have more ratings overall (we don't care if it is good or bad). Is this how it should be?\n",
    "\n",
    "<img src=\"./media/fry_good_bad.jpg\" alt=\"Confused Fry\" width=\"300\"/>\n",
    "\n",
    "\n",
    "Probably not. But it is worth a shot!"
   ]
  },
  {
   "cell_type": "code",
   "execution_count": 31,
   "metadata": {},
   "outputs": [
    {
     "data": {
      "text/plain": [
       "array([ 2291,  1189, 26658,  8341,  1337,  6291, 29451, 20000,  2308,\n",
       "        4573, 27842, 28289, 22541, 17599, 19514, 28702,  5007, 11369,\n",
       "       22463, 16195, 16235, 26894, 33217, 30780, 30378, 28185,  7985,\n",
       "       22489, 16225,  1771, 18976, 20054, 28933, 24625, 29084, 13069,\n",
       "        5095, 34519, 20412, 14408, 22979,  4822, 32433,  6790, 22308,\n",
       "       30691, 12300, 16823, 15149, 13078, 27322,  8099, 32125, 24154,\n",
       "       26752, 15837,  9679, 30600, 27807,  3606, 20365,  2263, 25243,\n",
       "       25546, 19506, 35474, 28284,  4575, 18821, 17392, 14076, 28591,\n",
       "       34621, 32616, 16509, 19395, 15597, 17920, 24603, 23191, 22718,\n",
       "       28661, 27860, 19068,   191, 32990, 19132,  4201, 18527, 17237,\n",
       "       27806, 17362,   793, 17111,  4794, 32703,  7903,  5752, 28148,\n",
       "       22642], dtype=int64)"
      ]
     },
     "execution_count": 31,
     "metadata": {},
     "output_type": "execute_result"
    }
   ],
   "source": [
    "def get_most_rated(ratings: csr_matrix, n: int) -> np.matrix:\n",
    "    \"\"\"Returns the n most rated items in a ratings matrix.\n",
    "    \n",
    "    Args:\n",
    "        ratings (csr_matrix): A sparse ratings matrix\n",
    "        n (int): The number of top-n items we should retrieve.\n",
    "        \n",
    "    Returns:\n",
    "        most_rated (np.matrix): An array of the most rated items.\n",
    "    \n",
    "    \"\"\"\n",
    "    \n",
    "    def count_ratings(R_):\n",
    "        return np.array(R_.sum(axis=0))[0]\n",
    "    \n",
    "    ratings_ = count_ratings(ratings)\n",
    "    return np.negative(ratings_).argsort()[:n]\n",
    "\n",
    "\n",
    "non_pers_most_rated = get_most_rated(ratings_train, 100)\n",
    "non_pers_most_rated"
   ]
  },
  {
   "cell_type": "code",
   "execution_count": 32,
   "metadata": {
    "scrolled": true
   },
   "outputs": [
    {
     "data": {
      "text/html": [
       "<div>\n",
       "<style scoped>\n",
       "    .dataframe tbody tr th:only-of-type {\n",
       "        vertical-align: middle;\n",
       "    }\n",
       "\n",
       "    .dataframe tbody tr th {\n",
       "        vertical-align: top;\n",
       "    }\n",
       "\n",
       "    .dataframe thead th {\n",
       "        text-align: right;\n",
       "    }\n",
       "</style>\n",
       "<table border=\"1\" class=\"dataframe\">\n",
       "  <thead>\n",
       "    <tr style=\"text-align: right;\">\n",
       "      <th></th>\n",
       "      <th>0</th>\n",
       "      <th>1</th>\n",
       "      <th>2</th>\n",
       "      <th>3</th>\n",
       "      <th>4</th>\n",
       "      <th>5</th>\n",
       "      <th>6</th>\n",
       "      <th>7</th>\n",
       "      <th>8</th>\n",
       "      <th>9</th>\n",
       "      <th>...</th>\n",
       "      <th>90</th>\n",
       "      <th>91</th>\n",
       "      <th>92</th>\n",
       "      <th>93</th>\n",
       "      <th>94</th>\n",
       "      <th>95</th>\n",
       "      <th>96</th>\n",
       "      <th>97</th>\n",
       "      <th>98</th>\n",
       "      <th>99</th>\n",
       "    </tr>\n",
       "    <tr>\n",
       "      <th>users to recommend songs</th>\n",
       "      <th></th>\n",
       "      <th></th>\n",
       "      <th></th>\n",
       "      <th></th>\n",
       "      <th></th>\n",
       "      <th></th>\n",
       "      <th></th>\n",
       "      <th></th>\n",
       "      <th></th>\n",
       "      <th></th>\n",
       "      <th></th>\n",
       "      <th></th>\n",
       "      <th></th>\n",
       "      <th></th>\n",
       "      <th></th>\n",
       "      <th></th>\n",
       "      <th></th>\n",
       "      <th></th>\n",
       "      <th></th>\n",
       "      <th></th>\n",
       "      <th></th>\n",
       "    </tr>\n",
       "  </thead>\n",
       "  <tbody>\n",
       "    <tr>\n",
       "      <th>0011d5f4fb02ff276763d385c3f2ded2b00ad94a</th>\n",
       "      <td>2291</td>\n",
       "      <td>1189</td>\n",
       "      <td>26658</td>\n",
       "      <td>8341</td>\n",
       "      <td>1337</td>\n",
       "      <td>6291</td>\n",
       "      <td>29451</td>\n",
       "      <td>20000</td>\n",
       "      <td>2308</td>\n",
       "      <td>4573</td>\n",
       "      <td>...</td>\n",
       "      <td>27806</td>\n",
       "      <td>17362</td>\n",
       "      <td>793</td>\n",
       "      <td>17111</td>\n",
       "      <td>4794</td>\n",
       "      <td>32703</td>\n",
       "      <td>7903</td>\n",
       "      <td>5752</td>\n",
       "      <td>28148</td>\n",
       "      <td>22642</td>\n",
       "    </tr>\n",
       "    <tr>\n",
       "      <th>002511b392561fc1d426d875c386b356a6fc5702</th>\n",
       "      <td>2291</td>\n",
       "      <td>1189</td>\n",
       "      <td>26658</td>\n",
       "      <td>8341</td>\n",
       "      <td>1337</td>\n",
       "      <td>6291</td>\n",
       "      <td>29451</td>\n",
       "      <td>20000</td>\n",
       "      <td>2308</td>\n",
       "      <td>4573</td>\n",
       "      <td>...</td>\n",
       "      <td>27806</td>\n",
       "      <td>17362</td>\n",
       "      <td>793</td>\n",
       "      <td>17111</td>\n",
       "      <td>4794</td>\n",
       "      <td>32703</td>\n",
       "      <td>7903</td>\n",
       "      <td>5752</td>\n",
       "      <td>28148</td>\n",
       "      <td>22642</td>\n",
       "    </tr>\n",
       "    <tr>\n",
       "      <th>002dfbc3c073b55a64a4abab34c0ca1f13897f1c</th>\n",
       "      <td>2291</td>\n",
       "      <td>1189</td>\n",
       "      <td>26658</td>\n",
       "      <td>8341</td>\n",
       "      <td>1337</td>\n",
       "      <td>6291</td>\n",
       "      <td>29451</td>\n",
       "      <td>20000</td>\n",
       "      <td>2308</td>\n",
       "      <td>4573</td>\n",
       "      <td>...</td>\n",
       "      <td>27806</td>\n",
       "      <td>17362</td>\n",
       "      <td>793</td>\n",
       "      <td>17111</td>\n",
       "      <td>4794</td>\n",
       "      <td>32703</td>\n",
       "      <td>7903</td>\n",
       "      <td>5752</td>\n",
       "      <td>28148</td>\n",
       "      <td>22642</td>\n",
       "    </tr>\n",
       "    <tr>\n",
       "      <th>003998bc33cddeba02428a43391c6716e523c8f7</th>\n",
       "      <td>2291</td>\n",
       "      <td>1189</td>\n",
       "      <td>26658</td>\n",
       "      <td>8341</td>\n",
       "      <td>1337</td>\n",
       "      <td>6291</td>\n",
       "      <td>29451</td>\n",
       "      <td>20000</td>\n",
       "      <td>2308</td>\n",
       "      <td>4573</td>\n",
       "      <td>...</td>\n",
       "      <td>27806</td>\n",
       "      <td>17362</td>\n",
       "      <td>793</td>\n",
       "      <td>17111</td>\n",
       "      <td>4794</td>\n",
       "      <td>32703</td>\n",
       "      <td>7903</td>\n",
       "      <td>5752</td>\n",
       "      <td>28148</td>\n",
       "      <td>22642</td>\n",
       "    </tr>\n",
       "    <tr>\n",
       "      <th>0042d2027dfa0340e31d2aa875c4be229730efb7</th>\n",
       "      <td>2291</td>\n",
       "      <td>1189</td>\n",
       "      <td>26658</td>\n",
       "      <td>8341</td>\n",
       "      <td>1337</td>\n",
       "      <td>6291</td>\n",
       "      <td>29451</td>\n",
       "      <td>20000</td>\n",
       "      <td>2308</td>\n",
       "      <td>4573</td>\n",
       "      <td>...</td>\n",
       "      <td>27806</td>\n",
       "      <td>17362</td>\n",
       "      <td>793</td>\n",
       "      <td>17111</td>\n",
       "      <td>4794</td>\n",
       "      <td>32703</td>\n",
       "      <td>7903</td>\n",
       "      <td>5752</td>\n",
       "      <td>28148</td>\n",
       "      <td>22642</td>\n",
       "    </tr>\n",
       "  </tbody>\n",
       "</table>\n",
       "<p>5 rows × 100 columns</p>\n",
       "</div>"
      ],
      "text/plain": [
       "                                            0     1      2     3     4     5   \\\n",
       "users to recommend songs                                                        \n",
       "0011d5f4fb02ff276763d385c3f2ded2b00ad94a  2291  1189  26658  8341  1337  6291   \n",
       "002511b392561fc1d426d875c386b356a6fc5702  2291  1189  26658  8341  1337  6291   \n",
       "002dfbc3c073b55a64a4abab34c0ca1f13897f1c  2291  1189  26658  8341  1337  6291   \n",
       "003998bc33cddeba02428a43391c6716e523c8f7  2291  1189  26658  8341  1337  6291   \n",
       "0042d2027dfa0340e31d2aa875c4be229730efb7  2291  1189  26658  8341  1337  6291   \n",
       "\n",
       "                                             6      7     8     9   ...    \\\n",
       "users to recommend songs                                            ...     \n",
       "0011d5f4fb02ff276763d385c3f2ded2b00ad94a  29451  20000  2308  4573  ...     \n",
       "002511b392561fc1d426d875c386b356a6fc5702  29451  20000  2308  4573  ...     \n",
       "002dfbc3c073b55a64a4abab34c0ca1f13897f1c  29451  20000  2308  4573  ...     \n",
       "003998bc33cddeba02428a43391c6716e523c8f7  29451  20000  2308  4573  ...     \n",
       "0042d2027dfa0340e31d2aa875c4be229730efb7  29451  20000  2308  4573  ...     \n",
       "\n",
       "                                             90     91   92     93    94  \\\n",
       "users to recommend songs                                                   \n",
       "0011d5f4fb02ff276763d385c3f2ded2b00ad94a  27806  17362  793  17111  4794   \n",
       "002511b392561fc1d426d875c386b356a6fc5702  27806  17362  793  17111  4794   \n",
       "002dfbc3c073b55a64a4abab34c0ca1f13897f1c  27806  17362  793  17111  4794   \n",
       "003998bc33cddeba02428a43391c6716e523c8f7  27806  17362  793  17111  4794   \n",
       "0042d2027dfa0340e31d2aa875c4be229730efb7  27806  17362  793  17111  4794   \n",
       "\n",
       "                                             95    96    97     98     99  \n",
       "users to recommend songs                                                   \n",
       "0011d5f4fb02ff276763d385c3f2ded2b00ad94a  32703  7903  5752  28148  22642  \n",
       "002511b392561fc1d426d875c386b356a6fc5702  32703  7903  5752  28148  22642  \n",
       "002dfbc3c073b55a64a4abab34c0ca1f13897f1c  32703  7903  5752  28148  22642  \n",
       "003998bc33cddeba02428a43391c6716e523c8f7  32703  7903  5752  28148  22642  \n",
       "0042d2027dfa0340e31d2aa875c4be229730efb7  32703  7903  5752  28148  22642  \n",
       "\n",
       "[5 rows x 100 columns]"
      ]
     },
     "execution_count": 32,
     "metadata": {},
     "output_type": "execute_result"
    }
   ],
   "source": [
    "def convert_non_pers_recommendations_to_df(non_pers_recs: np.array, users_to_pred: pd.DataFrame) -> pd.DataFrame:\n",
    "    \"\"\"\n",
    "    Converts the non-personalized most rated to an DataFrame with the users and the recommendations.\n",
    "    We will basically repeat the non_pers_recs array for the number of users in need.\n",
    "    \n",
    "    Args:\n",
    "        non_pers_recs (np.array): Array of indices for the best non-personalized items to recommend.\n",
    "        users_to_pred (pd.DataFrame): DataFrame containing the users which need recommendations.\n",
    "        \n",
    "    Returns:\n",
    "        non_pers_most_rated_matrix (np.array): Two dimensional array of (n_users, top_n_items)\n",
    "    \n",
    "    \"\"\"\n",
    "    non_pers_df = pd.DataFrame(np.zeros((len(users_to_pred), 1), dtype=non_pers_recs.dtype) + non_pers_recs)\n",
    "    non_pers_df = pd.concat([users_to_pred, non_pers_df], axis=1)\n",
    "    non_pers_df = non_pers_df.set_index(\"users to recommend songs\")\n",
    "    \n",
    "    return non_pers_df\n",
    "\n",
    "\n",
    "non_pers_most_rated_df = convert_non_pers_recommendations_to_df(non_pers_most_rated, unique_users_training_data)\n",
    "non_pers_most_rated_df.head()"
   ]
  },
  {
   "cell_type": "code",
   "execution_count": 173,
   "metadata": {
    "scrolled": true
   },
   "outputs": [],
   "source": [
    "one_user_pred_df = pd.DataFrame(non_pers_most_rated).T\n",
    "number_of_users = unique_users_training_data.shape[0]\n",
    "\n",
    "preds_withoud_users_df = pd.concat([one_user_pred_df]*number_of_users, axis=0, ignore_index=True)\n",
    "preds_withoud_users_df = preds_withoud_users_df.reset_index(drop=True)\n",
    "\n",
    "non_pers_most_rated_df2 = pd.concat([preds_withoud_users_df, unique_users_training_data.reset_index(drop=True)], axis=1)\n",
    "non_pers_most_rated_df2 = non_pers_most_rated_df2.set_index('users to recommend songs', drop=True)\n",
    "\n",
    "#non_pers_most_rated_df2"
   ]
  },
  {
   "cell_type": "code",
   "execution_count": 174,
   "metadata": {},
   "outputs": [
    {
     "data": {
      "text/plain": [
       "True"
      ]
     },
     "execution_count": 174,
     "metadata": {},
     "output_type": "execute_result"
    }
   ],
   "source": [
    "non_pers_most_rated_df.equals(non_pers_most_rated_df)"
   ]
  },
  {
   "cell_type": "code",
   "execution_count": 33,
   "metadata": {
    "scrolled": true
   },
   "outputs": [
    {
     "data": {
      "text/plain": [
       "{'0011d5f4fb02ff276763d385c3f2ded2b00ad94a': [2291,\n",
       "  1189,\n",
       "  26658,\n",
       "  8341,\n",
       "  1337,\n",
       "  6291,\n",
       "  29451,\n",
       "  20000,\n",
       "  2308,\n",
       "  4573,\n",
       "  27842,\n",
       "  28289,\n",
       "  22541,\n",
       "  17599,\n",
       "  19514,\n",
       "  28702,\n",
       "  5007,\n",
       "  11369,\n",
       "  22463,\n",
       "  16195,\n",
       "  16235,\n",
       "  26894,\n",
       "  33217,\n",
       "  30780,\n",
       "  30378,\n",
       "  28185,\n",
       "  7985,\n",
       "  22489,\n",
       "  16225,\n",
       "  1771,\n",
       "  18976,\n",
       "  20054,\n",
       "  28933,\n",
       "  24625,\n",
       "  29084,\n",
       "  13069,\n",
       "  5095,\n",
       "  34519,\n",
       "  20412,\n",
       "  14408,\n",
       "  22979,\n",
       "  4822,\n",
       "  32433,\n",
       "  6790,\n",
       "  22308,\n",
       "  30691,\n",
       "  12300,\n",
       "  16823,\n",
       "  15149,\n",
       "  13078,\n",
       "  27322,\n",
       "  8099,\n",
       "  32125,\n",
       "  24154,\n",
       "  26752,\n",
       "  15837,\n",
       "  9679,\n",
       "  30600,\n",
       "  27807,\n",
       "  3606,\n",
       "  20365,\n",
       "  2263,\n",
       "  25243,\n",
       "  25546,\n",
       "  19506,\n",
       "  35474,\n",
       "  28284,\n",
       "  4575,\n",
       "  18821,\n",
       "  17392,\n",
       "  14076,\n",
       "  28591,\n",
       "  34621,\n",
       "  32616,\n",
       "  16509,\n",
       "  19395,\n",
       "  15597,\n",
       "  17920,\n",
       "  24603,\n",
       "  23191,\n",
       "  22718,\n",
       "  28661,\n",
       "  27860,\n",
       "  19068,\n",
       "  191,\n",
       "  32990,\n",
       "  19132,\n",
       "  4201,\n",
       "  18527,\n",
       "  17237,\n",
       "  27806,\n",
       "  17362,\n",
       "  793,\n",
       "  17111,\n",
       "  4794,\n",
       "  32703,\n",
       "  7903,\n",
       "  5752,\n",
       "  28148,\n",
       "  22642]}"
      ]
     },
     "execution_count": 33,
     "metadata": {},
     "output_type": "execute_result"
    }
   ],
   "source": [
    "def create_dict_preds(preds_df: pd.DataFrame) -> dict:\n",
    "    \"\"\"Convert the predictions DataFrame (index:users -> columns: items) to a dictionary of key (user->list of items).\n",
    "    \n",
    "    Args: \n",
    "        preds_df (pd.DataFrame): DataFrame containing the users and the ordered predictions.\n",
    "        \n",
    "    Returns:\n",
    "        preds_dict (dict): Dict of (user_id: list of items) used for evaluating the performance.\n",
    "    \n",
    "    \"\"\"\n",
    "    return {preds_df.index[i]: preds_df.values[i].tolist() for i in range(len(preds_df))}\n",
    "\n",
    "\n",
    "non_pers_dict = create_dict_preds(non_pers_most_rated_df)\n",
    "# Since dicts in python are not ordered, we need to HAMMER DOWN a way to print some values.\n",
    "dict(list(non_pers_dict.items())[0:1])"
   ]
  },
  {
   "cell_type": "markdown",
   "metadata": {},
   "source": [
    "### Step 2.2 - Creating the Ground Truth\n",
    "Since we are splitting the data into train and validation, we will test the predictions we get with the training data in the validation set. To do this, we need to determine what is the ground truth (the actual outcomes) of the recommendations for the validation set. \n",
    "\n",
    "The main idea is to pick up a sorted array for each user on the songs with highest value in the validaton ratings matrix."
   ]
  },
  {
   "cell_type": "code",
   "execution_count": 34,
   "metadata": {
    "scrolled": false
   },
   "outputs": [
    {
     "data": {
      "text/html": [
       "<div>\n",
       "<style scoped>\n",
       "    .dataframe tbody tr th:only-of-type {\n",
       "        vertical-align: middle;\n",
       "    }\n",
       "\n",
       "    .dataframe tbody tr th {\n",
       "        vertical-align: top;\n",
       "    }\n",
       "\n",
       "    .dataframe thead th {\n",
       "        text-align: right;\n",
       "    }\n",
       "</style>\n",
       "<table border=\"1\" class=\"dataframe\">\n",
       "  <thead>\n",
       "    <tr style=\"text-align: right;\">\n",
       "      <th></th>\n",
       "      <th>0</th>\n",
       "      <th>1</th>\n",
       "      <th>2</th>\n",
       "      <th>3</th>\n",
       "      <th>4</th>\n",
       "      <th>5</th>\n",
       "      <th>6</th>\n",
       "      <th>7</th>\n",
       "      <th>8</th>\n",
       "      <th>9</th>\n",
       "      <th>...</th>\n",
       "      <th>90</th>\n",
       "      <th>91</th>\n",
       "      <th>92</th>\n",
       "      <th>93</th>\n",
       "      <th>94</th>\n",
       "      <th>95</th>\n",
       "      <th>96</th>\n",
       "      <th>97</th>\n",
       "      <th>98</th>\n",
       "      <th>99</th>\n",
       "    </tr>\n",
       "    <tr>\n",
       "      <th>users to recommend songs</th>\n",
       "      <th></th>\n",
       "      <th></th>\n",
       "      <th></th>\n",
       "      <th></th>\n",
       "      <th></th>\n",
       "      <th></th>\n",
       "      <th></th>\n",
       "      <th></th>\n",
       "      <th></th>\n",
       "      <th></th>\n",
       "      <th></th>\n",
       "      <th></th>\n",
       "      <th></th>\n",
       "      <th></th>\n",
       "      <th></th>\n",
       "      <th></th>\n",
       "      <th></th>\n",
       "      <th></th>\n",
       "      <th></th>\n",
       "      <th></th>\n",
       "      <th></th>\n",
       "    </tr>\n",
       "  </thead>\n",
       "  <tbody>\n",
       "    <tr>\n",
       "      <th>0011d5f4fb02ff276763d385c3f2ded2b00ad94a</th>\n",
       "      <td>12420</td>\n",
       "      <td>1952</td>\n",
       "      <td>5896</td>\n",
       "      <td>27461</td>\n",
       "      <td>27462</td>\n",
       "      <td>27463</td>\n",
       "      <td>27464</td>\n",
       "      <td>27465</td>\n",
       "      <td>27466</td>\n",
       "      <td>27467</td>\n",
       "      <td>...</td>\n",
       "      <td>27388</td>\n",
       "      <td>27390</td>\n",
       "      <td>27391</td>\n",
       "      <td>27392</td>\n",
       "      <td>27393</td>\n",
       "      <td>27394</td>\n",
       "      <td>27395</td>\n",
       "      <td>27396</td>\n",
       "      <td>27389</td>\n",
       "      <td>27397</td>\n",
       "    </tr>\n",
       "    <tr>\n",
       "      <th>002511b392561fc1d426d875c386b356a6fc5702</th>\n",
       "      <td>5967</td>\n",
       "      <td>9243</td>\n",
       "      <td>10803</td>\n",
       "      <td>12524</td>\n",
       "      <td>10249</td>\n",
       "      <td>27462</td>\n",
       "      <td>27463</td>\n",
       "      <td>27464</td>\n",
       "      <td>27465</td>\n",
       "      <td>27466</td>\n",
       "      <td>...</td>\n",
       "      <td>27380</td>\n",
       "      <td>27388</td>\n",
       "      <td>27390</td>\n",
       "      <td>27391</td>\n",
       "      <td>27392</td>\n",
       "      <td>27393</td>\n",
       "      <td>27394</td>\n",
       "      <td>27395</td>\n",
       "      <td>27396</td>\n",
       "      <td>27389</td>\n",
       "    </tr>\n",
       "    <tr>\n",
       "      <th>002dfbc3c073b55a64a4abab34c0ca1f13897f1c</th>\n",
       "      <td>12002</td>\n",
       "      <td>8794</td>\n",
       "      <td>3600</td>\n",
       "      <td>5113</td>\n",
       "      <td>6303</td>\n",
       "      <td>6909</td>\n",
       "      <td>27461</td>\n",
       "      <td>27462</td>\n",
       "      <td>27463</td>\n",
       "      <td>27464</td>\n",
       "      <td>...</td>\n",
       "      <td>27380</td>\n",
       "      <td>27388</td>\n",
       "      <td>27390</td>\n",
       "      <td>27391</td>\n",
       "      <td>27392</td>\n",
       "      <td>27393</td>\n",
       "      <td>27394</td>\n",
       "      <td>27395</td>\n",
       "      <td>27396</td>\n",
       "      <td>27389</td>\n",
       "    </tr>\n",
       "    <tr>\n",
       "      <th>003998bc33cddeba02428a43391c6716e523c8f7</th>\n",
       "      <td>10564</td>\n",
       "      <td>12295</td>\n",
       "      <td>0</td>\n",
       "      <td>27459</td>\n",
       "      <td>27460</td>\n",
       "      <td>27461</td>\n",
       "      <td>27462</td>\n",
       "      <td>27463</td>\n",
       "      <td>27464</td>\n",
       "      <td>27465</td>\n",
       "      <td>...</td>\n",
       "      <td>27378</td>\n",
       "      <td>27386</td>\n",
       "      <td>27388</td>\n",
       "      <td>27389</td>\n",
       "      <td>27390</td>\n",
       "      <td>27391</td>\n",
       "      <td>27392</td>\n",
       "      <td>27393</td>\n",
       "      <td>27394</td>\n",
       "      <td>27387</td>\n",
       "    </tr>\n",
       "    <tr>\n",
       "      <th>0042d2027dfa0340e31d2aa875c4be229730efb7</th>\n",
       "      <td>6099</td>\n",
       "      <td>0</td>\n",
       "      <td>27458</td>\n",
       "      <td>27459</td>\n",
       "      <td>27460</td>\n",
       "      <td>27461</td>\n",
       "      <td>27462</td>\n",
       "      <td>27463</td>\n",
       "      <td>27457</td>\n",
       "      <td>27464</td>\n",
       "      <td>...</td>\n",
       "      <td>27387</td>\n",
       "      <td>27388</td>\n",
       "      <td>27389</td>\n",
       "      <td>27390</td>\n",
       "      <td>27391</td>\n",
       "      <td>27392</td>\n",
       "      <td>27393</td>\n",
       "      <td>27386</td>\n",
       "      <td>27394</td>\n",
       "      <td>27376</td>\n",
       "    </tr>\n",
       "  </tbody>\n",
       "</table>\n",
       "<p>5 rows × 100 columns</p>\n",
       "</div>"
      ],
      "text/plain": [
       "                                             0      1      2      3      4   \\\n",
       "users to recommend songs                                                      \n",
       "0011d5f4fb02ff276763d385c3f2ded2b00ad94a  12420   1952   5896  27461  27462   \n",
       "002511b392561fc1d426d875c386b356a6fc5702   5967   9243  10803  12524  10249   \n",
       "002dfbc3c073b55a64a4abab34c0ca1f13897f1c  12002   8794   3600   5113   6303   \n",
       "003998bc33cddeba02428a43391c6716e523c8f7  10564  12295      0  27459  27460   \n",
       "0042d2027dfa0340e31d2aa875c4be229730efb7   6099      0  27458  27459  27460   \n",
       "\n",
       "                                             5      6      7      8      9   \\\n",
       "users to recommend songs                                                      \n",
       "0011d5f4fb02ff276763d385c3f2ded2b00ad94a  27463  27464  27465  27466  27467   \n",
       "002511b392561fc1d426d875c386b356a6fc5702  27462  27463  27464  27465  27466   \n",
       "002dfbc3c073b55a64a4abab34c0ca1f13897f1c   6909  27461  27462  27463  27464   \n",
       "003998bc33cddeba02428a43391c6716e523c8f7  27461  27462  27463  27464  27465   \n",
       "0042d2027dfa0340e31d2aa875c4be229730efb7  27461  27462  27463  27457  27464   \n",
       "\n",
       "                                          ...       90     91     92     93  \\\n",
       "users to recommend songs                  ...                                 \n",
       "0011d5f4fb02ff276763d385c3f2ded2b00ad94a  ...    27388  27390  27391  27392   \n",
       "002511b392561fc1d426d875c386b356a6fc5702  ...    27380  27388  27390  27391   \n",
       "002dfbc3c073b55a64a4abab34c0ca1f13897f1c  ...    27380  27388  27390  27391   \n",
       "003998bc33cddeba02428a43391c6716e523c8f7  ...    27378  27386  27388  27389   \n",
       "0042d2027dfa0340e31d2aa875c4be229730efb7  ...    27387  27388  27389  27390   \n",
       "\n",
       "                                             94     95     96     97     98  \\\n",
       "users to recommend songs                                                      \n",
       "0011d5f4fb02ff276763d385c3f2ded2b00ad94a  27393  27394  27395  27396  27389   \n",
       "002511b392561fc1d426d875c386b356a6fc5702  27392  27393  27394  27395  27396   \n",
       "002dfbc3c073b55a64a4abab34c0ca1f13897f1c  27392  27393  27394  27395  27396   \n",
       "003998bc33cddeba02428a43391c6716e523c8f7  27390  27391  27392  27393  27394   \n",
       "0042d2027dfa0340e31d2aa875c4be229730efb7  27391  27392  27393  27386  27394   \n",
       "\n",
       "                                             99  \n",
       "users to recommend songs                         \n",
       "0011d5f4fb02ff276763d385c3f2ded2b00ad94a  27397  \n",
       "002511b392561fc1d426d875c386b356a6fc5702  27389  \n",
       "002dfbc3c073b55a64a4abab34c0ca1f13897f1c  27389  \n",
       "003998bc33cddeba02428a43391c6716e523c8f7  27387  \n",
       "0042d2027dfa0340e31d2aa875c4be229730efb7  27376  \n",
       "\n",
       "[5 rows x 100 columns]"
      ]
     },
     "execution_count": 34,
     "metadata": {},
     "output_type": "execute_result"
    }
   ],
   "source": [
    "def get_y_true(R_val_, users_to_pred, n=100):\n",
    "    \"\"\"Get the ground truth (best recommendations) of the users in the validation set.\n",
    "    \n",
    "    Args:\n",
    "        R_val_ (csr_matrix): Validation set ratings matrix.\n",
    "        n (int): Number of top-n items.\n",
    "        \n",
    "    Returns:\n",
    "        y_true_df (pd.DataFrame): DataFrame which returns the y_true items.\n",
    "        \n",
    "    \"\"\"\n",
    "    top_from_R_val = pd.DataFrame(np.negative(R_val_).toarray().argsort()[:, :n])\n",
    "    y_true_df = pd.concat([users_to_pred, top_from_R_val], axis=1)\n",
    "    y_true_df = y_true_df.set_index(\"users to recommend songs\")\n",
    "    return y_true_df\n",
    "\n",
    "\n",
    "y_true_df = get_y_true(ratings_val, unique_users_training_data, n=100)\n",
    "y_true_df.head()"
   ]
  },
  {
   "cell_type": "code",
   "execution_count": 35,
   "metadata": {},
   "outputs": [],
   "source": [
    "# Create the dictionary with the ground truth.\n",
    "y_true_dict = create_dict_preds(y_true_df)"
   ]
  },
  {
   "cell_type": "markdown",
   "metadata": {},
   "source": [
    "## Evaluate\n",
    "We will use the Mean Average Precision @ K to evaluate our predictions."
   ]
  },
  {
   "cell_type": "code",
   "execution_count": 36,
   "metadata": {},
   "outputs": [
    {
     "data": {
      "text/plain": [
       "5.251524099386366e-06"
      ]
     },
     "execution_count": 36,
     "metadata": {},
     "output_type": "execute_result"
    }
   ],
   "source": [
    "evaluate(y_true_dict, non_pers_dict)"
   ]
  },
  {
   "cell_type": "markdown",
   "metadata": {},
   "source": [
    "## Predict \n",
    "To submit your predictions, you just need to convert your recommendations to the formatwe have in the `example_output.csv` file."
   ]
  },
  {
   "cell_type": "code",
   "execution_count": 37,
   "metadata": {},
   "outputs": [],
   "source": [
    "# Join both dataframes with user_id's\n",
    "all_test_users = pd.concat([test_users_in_data, test_users_not_in_data]).reset_index(drop=True)"
   ]
  },
  {
   "cell_type": "code",
   "execution_count": 38,
   "metadata": {},
   "outputs": [
    {
     "name": "stdout",
     "output_type": "stream",
     "text": [
      "(1000, 100)\n"
     ]
    },
    {
     "data": {
      "text/html": [
       "<div>\n",
       "<style scoped>\n",
       "    .dataframe tbody tr th:only-of-type {\n",
       "        vertical-align: middle;\n",
       "    }\n",
       "\n",
       "    .dataframe tbody tr th {\n",
       "        vertical-align: top;\n",
       "    }\n",
       "\n",
       "    .dataframe thead th {\n",
       "        text-align: right;\n",
       "    }\n",
       "</style>\n",
       "<table border=\"1\" class=\"dataframe\">\n",
       "  <thead>\n",
       "    <tr style=\"text-align: right;\">\n",
       "      <th></th>\n",
       "      <th>0</th>\n",
       "      <th>1</th>\n",
       "      <th>2</th>\n",
       "      <th>3</th>\n",
       "      <th>4</th>\n",
       "      <th>5</th>\n",
       "      <th>6</th>\n",
       "      <th>7</th>\n",
       "      <th>8</th>\n",
       "      <th>9</th>\n",
       "      <th>...</th>\n",
       "      <th>90</th>\n",
       "      <th>91</th>\n",
       "      <th>92</th>\n",
       "      <th>93</th>\n",
       "      <th>94</th>\n",
       "      <th>95</th>\n",
       "      <th>96</th>\n",
       "      <th>97</th>\n",
       "      <th>98</th>\n",
       "      <th>99</th>\n",
       "    </tr>\n",
       "    <tr>\n",
       "      <th>users to recommend songs</th>\n",
       "      <th></th>\n",
       "      <th></th>\n",
       "      <th></th>\n",
       "      <th></th>\n",
       "      <th></th>\n",
       "      <th></th>\n",
       "      <th></th>\n",
       "      <th></th>\n",
       "      <th></th>\n",
       "      <th></th>\n",
       "      <th></th>\n",
       "      <th></th>\n",
       "      <th></th>\n",
       "      <th></th>\n",
       "      <th></th>\n",
       "      <th></th>\n",
       "      <th></th>\n",
       "      <th></th>\n",
       "      <th></th>\n",
       "      <th></th>\n",
       "      <th></th>\n",
       "    </tr>\n",
       "  </thead>\n",
       "  <tbody>\n",
       "    <tr>\n",
       "      <th>56d985c92960b98ad76a48b10a062b0cd86795bf</th>\n",
       "      <td>2291</td>\n",
       "      <td>1189</td>\n",
       "      <td>26658</td>\n",
       "      <td>8341</td>\n",
       "      <td>1337</td>\n",
       "      <td>6291</td>\n",
       "      <td>29451</td>\n",
       "      <td>20000</td>\n",
       "      <td>2308</td>\n",
       "      <td>4573</td>\n",
       "      <td>...</td>\n",
       "      <td>27806</td>\n",
       "      <td>17362</td>\n",
       "      <td>793</td>\n",
       "      <td>17111</td>\n",
       "      <td>4794</td>\n",
       "      <td>32703</td>\n",
       "      <td>7903</td>\n",
       "      <td>5752</td>\n",
       "      <td>28148</td>\n",
       "      <td>22642</td>\n",
       "    </tr>\n",
       "    <tr>\n",
       "      <th>991411f0dca94f348c7bd3eae93b6e6c061605f1</th>\n",
       "      <td>2291</td>\n",
       "      <td>1189</td>\n",
       "      <td>26658</td>\n",
       "      <td>8341</td>\n",
       "      <td>1337</td>\n",
       "      <td>6291</td>\n",
       "      <td>29451</td>\n",
       "      <td>20000</td>\n",
       "      <td>2308</td>\n",
       "      <td>4573</td>\n",
       "      <td>...</td>\n",
       "      <td>27806</td>\n",
       "      <td>17362</td>\n",
       "      <td>793</td>\n",
       "      <td>17111</td>\n",
       "      <td>4794</td>\n",
       "      <td>32703</td>\n",
       "      <td>7903</td>\n",
       "      <td>5752</td>\n",
       "      <td>28148</td>\n",
       "      <td>22642</td>\n",
       "    </tr>\n",
       "    <tr>\n",
       "      <th>323fbb28144eefa3eabfa22bd310dfb0713de80d</th>\n",
       "      <td>2291</td>\n",
       "      <td>1189</td>\n",
       "      <td>26658</td>\n",
       "      <td>8341</td>\n",
       "      <td>1337</td>\n",
       "      <td>6291</td>\n",
       "      <td>29451</td>\n",
       "      <td>20000</td>\n",
       "      <td>2308</td>\n",
       "      <td>4573</td>\n",
       "      <td>...</td>\n",
       "      <td>27806</td>\n",
       "      <td>17362</td>\n",
       "      <td>793</td>\n",
       "      <td>17111</td>\n",
       "      <td>4794</td>\n",
       "      <td>32703</td>\n",
       "      <td>7903</td>\n",
       "      <td>5752</td>\n",
       "      <td>28148</td>\n",
       "      <td>22642</td>\n",
       "    </tr>\n",
       "    <tr>\n",
       "      <th>55c750f0951ca1021b26c0e758660bb8a2c49d3a</th>\n",
       "      <td>2291</td>\n",
       "      <td>1189</td>\n",
       "      <td>26658</td>\n",
       "      <td>8341</td>\n",
       "      <td>1337</td>\n",
       "      <td>6291</td>\n",
       "      <td>29451</td>\n",
       "      <td>20000</td>\n",
       "      <td>2308</td>\n",
       "      <td>4573</td>\n",
       "      <td>...</td>\n",
       "      <td>27806</td>\n",
       "      <td>17362</td>\n",
       "      <td>793</td>\n",
       "      <td>17111</td>\n",
       "      <td>4794</td>\n",
       "      <td>32703</td>\n",
       "      <td>7903</td>\n",
       "      <td>5752</td>\n",
       "      <td>28148</td>\n",
       "      <td>22642</td>\n",
       "    </tr>\n",
       "    <tr>\n",
       "      <th>b458e3d697276a93aa6926caf1ff08e875933940</th>\n",
       "      <td>2291</td>\n",
       "      <td>1189</td>\n",
       "      <td>26658</td>\n",
       "      <td>8341</td>\n",
       "      <td>1337</td>\n",
       "      <td>6291</td>\n",
       "      <td>29451</td>\n",
       "      <td>20000</td>\n",
       "      <td>2308</td>\n",
       "      <td>4573</td>\n",
       "      <td>...</td>\n",
       "      <td>27806</td>\n",
       "      <td>17362</td>\n",
       "      <td>793</td>\n",
       "      <td>17111</td>\n",
       "      <td>4794</td>\n",
       "      <td>32703</td>\n",
       "      <td>7903</td>\n",
       "      <td>5752</td>\n",
       "      <td>28148</td>\n",
       "      <td>22642</td>\n",
       "    </tr>\n",
       "  </tbody>\n",
       "</table>\n",
       "<p>5 rows × 100 columns</p>\n",
       "</div>"
      ],
      "text/plain": [
       "                                            0     1      2     3     4     5   \\\n",
       "users to recommend songs                                                        \n",
       "56d985c92960b98ad76a48b10a062b0cd86795bf  2291  1189  26658  8341  1337  6291   \n",
       "991411f0dca94f348c7bd3eae93b6e6c061605f1  2291  1189  26658  8341  1337  6291   \n",
       "323fbb28144eefa3eabfa22bd310dfb0713de80d  2291  1189  26658  8341  1337  6291   \n",
       "55c750f0951ca1021b26c0e758660bb8a2c49d3a  2291  1189  26658  8341  1337  6291   \n",
       "b458e3d697276a93aa6926caf1ff08e875933940  2291  1189  26658  8341  1337  6291   \n",
       "\n",
       "                                             6      7     8     9   ...    \\\n",
       "users to recommend songs                                            ...     \n",
       "56d985c92960b98ad76a48b10a062b0cd86795bf  29451  20000  2308  4573  ...     \n",
       "991411f0dca94f348c7bd3eae93b6e6c061605f1  29451  20000  2308  4573  ...     \n",
       "323fbb28144eefa3eabfa22bd310dfb0713de80d  29451  20000  2308  4573  ...     \n",
       "55c750f0951ca1021b26c0e758660bb8a2c49d3a  29451  20000  2308  4573  ...     \n",
       "b458e3d697276a93aa6926caf1ff08e875933940  29451  20000  2308  4573  ...     \n",
       "\n",
       "                                             90     91   92     93    94  \\\n",
       "users to recommend songs                                                   \n",
       "56d985c92960b98ad76a48b10a062b0cd86795bf  27806  17362  793  17111  4794   \n",
       "991411f0dca94f348c7bd3eae93b6e6c061605f1  27806  17362  793  17111  4794   \n",
       "323fbb28144eefa3eabfa22bd310dfb0713de80d  27806  17362  793  17111  4794   \n",
       "55c750f0951ca1021b26c0e758660bb8a2c49d3a  27806  17362  793  17111  4794   \n",
       "b458e3d697276a93aa6926caf1ff08e875933940  27806  17362  793  17111  4794   \n",
       "\n",
       "                                             95    96    97     98     99  \n",
       "users to recommend songs                                                   \n",
       "56d985c92960b98ad76a48b10a062b0cd86795bf  32703  7903  5752  28148  22642  \n",
       "991411f0dca94f348c7bd3eae93b6e6c061605f1  32703  7903  5752  28148  22642  \n",
       "323fbb28144eefa3eabfa22bd310dfb0713de80d  32703  7903  5752  28148  22642  \n",
       "55c750f0951ca1021b26c0e758660bb8a2c49d3a  32703  7903  5752  28148  22642  \n",
       "b458e3d697276a93aa6926caf1ff08e875933940  32703  7903  5752  28148  22642  \n",
       "\n",
       "[5 rows x 100 columns]"
      ]
     },
     "execution_count": 38,
     "metadata": {},
     "output_type": "execute_result"
    }
   ],
   "source": [
    "non_pers_test_most_rated_df = convert_non_pers_recommendations_to_df(non_pers_most_rated, all_test_users)\n",
    "print(non_pers_test_most_rated_df.shape)\n",
    "non_pers_test_most_rated_df.head()"
   ]
  },
  {
   "cell_type": "code",
   "execution_count": 39,
   "metadata": {},
   "outputs": [
    {
     "name": "stdout",
     "output_type": "stream",
     "text": [
      "Saved to csv in 'data\\test_non_personalized_recommendations.csv'.\n"
     ]
    }
   ],
   "source": [
    "def save_predictions(predictions: pd.DataFrame, output_path: str):\n",
    "    \"\"\"Save predictions to csv.\n",
    "    \n",
    "    Saves the predictions into a csv file with the format we need.\n",
    "    We keep the index since it contains the user ids.\n",
    "    \n",
    "    Args:\n",
    "        predictions (pd.DataFrame): DataFrame with user_id as index and ordered recommendations in the columns.\n",
    "        output_path (str): Filepath for the predictions file.\n",
    "    \n",
    "    \"\"\"\n",
    "    predictions.to_csv(output_path, header=None)\n",
    "    print(f\"Saved to csv in '{output_path}'.\")\n",
    "    \n",
    "    \n",
    "save_predictions(non_pers_test_most_rated_df, os.path.join(\"data\", \"test_non_personalized_recommendations.csv\"))"
   ]
  },
  {
   "cell_type": "code",
   "execution_count": 40,
   "metadata": {},
   "outputs": [
    {
     "name": "stdout",
     "output_type": "stream",
     "text": [
      "Saved to csv in 'data\\new_users_non_personalized.csv'.\n"
     ]
    }
   ],
   "source": [
    "# Filter the non-personalized recommendations for the users without training data and save\n",
    "new_users_recommendations = non_pers_most_rated_df.iloc[index_users_not_in_data]\n",
    "save_predictions(new_users_recommendations, os.path.join(\"data\", \"new_users_non_personalized.csv\"))"
   ]
  },
  {
   "cell_type": "markdown",
   "metadata": {},
   "source": [
    "## Step 3: Personalized\n"
   ]
  },
  {
   "cell_type": "markdown",
   "metadata": {},
   "source": [
    "### Step 3.1 - Collaborative filtering\n"
   ]
  },
  {
   "cell_type": "code",
   "execution_count": 41,
   "metadata": {},
   "outputs": [
    {
     "data": {
      "text/plain": [
       "<7526x7526 sparse matrix of type '<class 'numpy.float64'>'\n",
       "\twith 1092971 stored elements in Compressed Sparse Row format>"
      ]
     },
     "execution_count": 41,
     "metadata": {},
     "output_type": "execute_result"
    }
   ],
   "source": [
    "def make_user_similarities(R_):\n",
    "    \"\"\"Creates the user similarities matrix.\n",
    "    \n",
    "    Args:\n",
    "        R_ (csr_matrix): Ratings matrix.\n",
    "        \n",
    "    Returns:\n",
    "        user_similarities (csr_matrix): Matrix with user similarities.\n",
    "    \n",
    "    \"\"\"\n",
    "    return cosine_similarity(R_, dense_output=False)\n",
    "\n",
    "\n",
    "user_similarities = make_user_similarities(ratings_train)\n",
    "user_similarities"
   ]
  },
  {
   "cell_type": "code",
   "execution_count": 42,
   "metadata": {},
   "outputs": [
    {
     "name": "stderr",
     "output_type": "stream",
     "text": [
      "C:\\Users\\jnpicao\\AppData\\Local\\Continuum\\anaconda3\\lib\\site-packages\\scipy\\sparse\\base.py:594: RuntimeWarning: invalid value encountered in true_divide\n",
      "  return np.true_divide(self.todense(), other)\n"
     ]
    },
    {
     "data": {
      "text/plain": [
       "<7526x41194 sparse matrix of type '<class 'numpy.float64'>'\n",
       "\twith 9377700 stored elements in Compressed Sparse Row format>"
      ]
     },
     "execution_count": 42,
     "metadata": {},
     "output_type": "execute_result"
    }
   ],
   "source": [
    "def make_user_predictions_collab_filt(S: csr_matrix, R_: csr_matrix):\n",
    "    \"\"\"Predict using collaborative filtering.\n",
    "    \n",
    "    Args:\n",
    "        S (csr_matrix): Similarities matrix (tipically using the cosine_similarity).\n",
    "        R_ (csr_matrix): Ratings matrix.\n",
    "        \n",
    "    Returns:\n",
    "        preds (csr_matrix): Predictions matrix.\n",
    "    \n",
    "    \"\"\"\n",
    "    weighted_sum = np.dot(S, R_)\n",
    "    \n",
    "    # We use the absolute value to support negative similarities.\n",
    "    # In this particular example there are none.\n",
    "    sum_of_weights = np.abs(S).sum(axis=1)\n",
    "    \n",
    "    preds = weighted_sum / sum_of_weights\n",
    "    \n",
    "    # Exclude previously rated items.\n",
    "    preds[R_.nonzero()] = 0\n",
    "    \n",
    "    return csr_matrix(preds)\n",
    " \n",
    "\n",
    "collab_filt_user_preds = make_user_predictions_collab_filt(user_similarities, ratings_train)\n",
    "collab_filt_user_preds"
   ]
  },
  {
   "cell_type": "code",
   "execution_count": 43,
   "metadata": {},
   "outputs": [
    {
     "data": {
      "text/plain": [
       "0.9697518960697379"
      ]
     },
     "execution_count": 43,
     "metadata": {},
     "output_type": "execute_result"
    }
   ],
   "source": [
    "def sparsity(matrix):\n",
    "    \"\"\"Calculates the sparsity of a matrix.\n",
    "    \n",
    "    Args:\n",
    "        matrix (csr_matrix): Sparse matrix.\n",
    "        \n",
    "    Returns:\n",
    "        sparsity_ (float): Sparsity percentage (between 0 and 1).\n",
    "    \n",
    "    \"\"\"\n",
    "    return 1 - matrix.nnz / (matrix.shape[0] * matrix.shape[1])\n",
    "\n",
    "\n",
    "sparsity(collab_filt_user_preds)"
   ]
  },
  {
   "cell_type": "code",
   "execution_count": 44,
   "metadata": {},
   "outputs": [
    {
     "name": "stdout",
     "output_type": "stream",
     "text": [
      "(7526, 100)\n"
     ]
    },
    {
     "data": {
      "text/plain": [
       "array([[17599, 19514, 31557, ..., 28856, 17486,  8929],\n",
       "       [33212, 34271, 13847, ..., 30474, 16550, 25964],\n",
       "       [ 8649, 26909, 29451, ...,  4637, 25532,  4314],\n",
       "       ...,\n",
       "       [ 5387, 28702, 20340, ...,  4193, 27025, 32196],\n",
       "       [30897, 24612, 27307, ..., 32092, 27185,   741],\n",
       "       [    0, 27457, 27458, ..., 27385, 27393, 27375]], dtype=int64)"
      ]
     },
     "execution_count": 44,
     "metadata": {},
     "output_type": "execute_result"
    }
   ],
   "source": [
    "def get_most_rated_from_user_preds(user_preds_: csr_matrix, n: int) -> np.matrix:\n",
    "    \"\"\"Returns the n most rated items from the user predictions.\n",
    "    \n",
    "    Args:\n",
    "        ratings (csr_matrix): A sparse ratings matrix\n",
    "        n (int): The number of top-n items we should retrieve.\n",
    "        \n",
    "    Returns:\n",
    "        most_rated (np.matrix): An array of the most rated items.\n",
    "    \n",
    "    \"\"\"\n",
    "    pred_ = np.negative(user_preds_).toarray()\n",
    "    return pred_.argsort()[:, :n]\n",
    "\n",
    "\n",
    "collab_filt_most_rated = get_most_rated_from_user_preds(collab_filt_user_preds, 100)\n",
    "print(collab_filt_most_rated.shape)\n",
    "collab_filt_most_rated"
   ]
  },
  {
   "cell_type": "code",
   "execution_count": 45,
   "metadata": {},
   "outputs": [
    {
     "data": {
      "text/html": [
       "<div>\n",
       "<style scoped>\n",
       "    .dataframe tbody tr th:only-of-type {\n",
       "        vertical-align: middle;\n",
       "    }\n",
       "\n",
       "    .dataframe tbody tr th {\n",
       "        vertical-align: top;\n",
       "    }\n",
       "\n",
       "    .dataframe thead th {\n",
       "        text-align: right;\n",
       "    }\n",
       "</style>\n",
       "<table border=\"1\" class=\"dataframe\">\n",
       "  <thead>\n",
       "    <tr style=\"text-align: right;\">\n",
       "      <th></th>\n",
       "      <th>0</th>\n",
       "      <th>1</th>\n",
       "      <th>2</th>\n",
       "      <th>3</th>\n",
       "      <th>4</th>\n",
       "      <th>5</th>\n",
       "      <th>6</th>\n",
       "      <th>7</th>\n",
       "      <th>8</th>\n",
       "      <th>9</th>\n",
       "      <th>...</th>\n",
       "      <th>90</th>\n",
       "      <th>91</th>\n",
       "      <th>92</th>\n",
       "      <th>93</th>\n",
       "      <th>94</th>\n",
       "      <th>95</th>\n",
       "      <th>96</th>\n",
       "      <th>97</th>\n",
       "      <th>98</th>\n",
       "      <th>99</th>\n",
       "    </tr>\n",
       "    <tr>\n",
       "      <th>users to recommend songs</th>\n",
       "      <th></th>\n",
       "      <th></th>\n",
       "      <th></th>\n",
       "      <th></th>\n",
       "      <th></th>\n",
       "      <th></th>\n",
       "      <th></th>\n",
       "      <th></th>\n",
       "      <th></th>\n",
       "      <th></th>\n",
       "      <th></th>\n",
       "      <th></th>\n",
       "      <th></th>\n",
       "      <th></th>\n",
       "      <th></th>\n",
       "      <th></th>\n",
       "      <th></th>\n",
       "      <th></th>\n",
       "      <th></th>\n",
       "      <th></th>\n",
       "      <th></th>\n",
       "    </tr>\n",
       "  </thead>\n",
       "  <tbody>\n",
       "    <tr>\n",
       "      <th>0011d5f4fb02ff276763d385c3f2ded2b00ad94a</th>\n",
       "      <td>17599</td>\n",
       "      <td>19514</td>\n",
       "      <td>31557</td>\n",
       "      <td>30668</td>\n",
       "      <td>14194</td>\n",
       "      <td>2291</td>\n",
       "      <td>10115</td>\n",
       "      <td>32616</td>\n",
       "      <td>8967</td>\n",
       "      <td>8341</td>\n",
       "      <td>...</td>\n",
       "      <td>18747</td>\n",
       "      <td>1022</td>\n",
       "      <td>8119</td>\n",
       "      <td>9679</td>\n",
       "      <td>30527</td>\n",
       "      <td>33317</td>\n",
       "      <td>30836</td>\n",
       "      <td>28856</td>\n",
       "      <td>17486</td>\n",
       "      <td>8929</td>\n",
       "    </tr>\n",
       "    <tr>\n",
       "      <th>002511b392561fc1d426d875c386b356a6fc5702</th>\n",
       "      <td>33212</td>\n",
       "      <td>34271</td>\n",
       "      <td>13847</td>\n",
       "      <td>23659</td>\n",
       "      <td>12842</td>\n",
       "      <td>4524</td>\n",
       "      <td>32419</td>\n",
       "      <td>7961</td>\n",
       "      <td>17854</td>\n",
       "      <td>734</td>\n",
       "      <td>...</td>\n",
       "      <td>30412</td>\n",
       "      <td>31106</td>\n",
       "      <td>13129</td>\n",
       "      <td>27307</td>\n",
       "      <td>7944</td>\n",
       "      <td>11094</td>\n",
       "      <td>29923</td>\n",
       "      <td>30474</td>\n",
       "      <td>16550</td>\n",
       "      <td>25964</td>\n",
       "    </tr>\n",
       "    <tr>\n",
       "      <th>002dfbc3c073b55a64a4abab34c0ca1f13897f1c</th>\n",
       "      <td>8649</td>\n",
       "      <td>26909</td>\n",
       "      <td>29451</td>\n",
       "      <td>8341</td>\n",
       "      <td>6291</td>\n",
       "      <td>11369</td>\n",
       "      <td>8925</td>\n",
       "      <td>28702</td>\n",
       "      <td>20000</td>\n",
       "      <td>6571</td>\n",
       "      <td>...</td>\n",
       "      <td>19514</td>\n",
       "      <td>6851</td>\n",
       "      <td>26752</td>\n",
       "      <td>30828</td>\n",
       "      <td>27806</td>\n",
       "      <td>27891</td>\n",
       "      <td>32433</td>\n",
       "      <td>4637</td>\n",
       "      <td>25532</td>\n",
       "      <td>4314</td>\n",
       "    </tr>\n",
       "    <tr>\n",
       "      <th>003998bc33cddeba02428a43391c6716e523c8f7</th>\n",
       "      <td>26658</td>\n",
       "      <td>5697</td>\n",
       "      <td>33162</td>\n",
       "      <td>27696</td>\n",
       "      <td>22584</td>\n",
       "      <td>3713</td>\n",
       "      <td>24154</td>\n",
       "      <td>35471</td>\n",
       "      <td>13456</td>\n",
       "      <td>1050</td>\n",
       "      <td>...</td>\n",
       "      <td>1191</td>\n",
       "      <td>8582</td>\n",
       "      <td>818</td>\n",
       "      <td>26072</td>\n",
       "      <td>3372</td>\n",
       "      <td>18639</td>\n",
       "      <td>11369</td>\n",
       "      <td>21107</td>\n",
       "      <td>14741</td>\n",
       "      <td>21821</td>\n",
       "    </tr>\n",
       "    <tr>\n",
       "      <th>0042d2027dfa0340e31d2aa875c4be229730efb7</th>\n",
       "      <td>3097</td>\n",
       "      <td>31331</td>\n",
       "      <td>25554</td>\n",
       "      <td>17303</td>\n",
       "      <td>22541</td>\n",
       "      <td>31042</td>\n",
       "      <td>16195</td>\n",
       "      <td>28577</td>\n",
       "      <td>14114</td>\n",
       "      <td>10766</td>\n",
       "      <td>...</td>\n",
       "      <td>20286</td>\n",
       "      <td>18322</td>\n",
       "      <td>13069</td>\n",
       "      <td>3204</td>\n",
       "      <td>19887</td>\n",
       "      <td>30176</td>\n",
       "      <td>27656</td>\n",
       "      <td>21275</td>\n",
       "      <td>882</td>\n",
       "      <td>35534</td>\n",
       "    </tr>\n",
       "  </tbody>\n",
       "</table>\n",
       "<p>5 rows × 100 columns</p>\n",
       "</div>"
      ],
      "text/plain": [
       "                                             0      1      2      3      4   \\\n",
       "users to recommend songs                                                      \n",
       "0011d5f4fb02ff276763d385c3f2ded2b00ad94a  17599  19514  31557  30668  14194   \n",
       "002511b392561fc1d426d875c386b356a6fc5702  33212  34271  13847  23659  12842   \n",
       "002dfbc3c073b55a64a4abab34c0ca1f13897f1c   8649  26909  29451   8341   6291   \n",
       "003998bc33cddeba02428a43391c6716e523c8f7  26658   5697  33162  27696  22584   \n",
       "0042d2027dfa0340e31d2aa875c4be229730efb7   3097  31331  25554  17303  22541   \n",
       "\n",
       "                                             5      6      7      8      9   \\\n",
       "users to recommend songs                                                      \n",
       "0011d5f4fb02ff276763d385c3f2ded2b00ad94a   2291  10115  32616   8967   8341   \n",
       "002511b392561fc1d426d875c386b356a6fc5702   4524  32419   7961  17854    734   \n",
       "002dfbc3c073b55a64a4abab34c0ca1f13897f1c  11369   8925  28702  20000   6571   \n",
       "003998bc33cddeba02428a43391c6716e523c8f7   3713  24154  35471  13456   1050   \n",
       "0042d2027dfa0340e31d2aa875c4be229730efb7  31042  16195  28577  14114  10766   \n",
       "\n",
       "                                          ...       90     91     92     93  \\\n",
       "users to recommend songs                  ...                                 \n",
       "0011d5f4fb02ff276763d385c3f2ded2b00ad94a  ...    18747   1022   8119   9679   \n",
       "002511b392561fc1d426d875c386b356a6fc5702  ...    30412  31106  13129  27307   \n",
       "002dfbc3c073b55a64a4abab34c0ca1f13897f1c  ...    19514   6851  26752  30828   \n",
       "003998bc33cddeba02428a43391c6716e523c8f7  ...     1191   8582    818  26072   \n",
       "0042d2027dfa0340e31d2aa875c4be229730efb7  ...    20286  18322  13069   3204   \n",
       "\n",
       "                                             94     95     96     97     98  \\\n",
       "users to recommend songs                                                      \n",
       "0011d5f4fb02ff276763d385c3f2ded2b00ad94a  30527  33317  30836  28856  17486   \n",
       "002511b392561fc1d426d875c386b356a6fc5702   7944  11094  29923  30474  16550   \n",
       "002dfbc3c073b55a64a4abab34c0ca1f13897f1c  27806  27891  32433   4637  25532   \n",
       "003998bc33cddeba02428a43391c6716e523c8f7   3372  18639  11369  21107  14741   \n",
       "0042d2027dfa0340e31d2aa875c4be229730efb7  19887  30176  27656  21275    882   \n",
       "\n",
       "                                             99  \n",
       "users to recommend songs                         \n",
       "0011d5f4fb02ff276763d385c3f2ded2b00ad94a   8929  \n",
       "002511b392561fc1d426d875c386b356a6fc5702  25964  \n",
       "002dfbc3c073b55a64a4abab34c0ca1f13897f1c   4314  \n",
       "003998bc33cddeba02428a43391c6716e523c8f7  21821  \n",
       "0042d2027dfa0340e31d2aa875c4be229730efb7  35534  \n",
       "\n",
       "[5 rows x 100 columns]"
      ]
     },
     "execution_count": 45,
     "metadata": {},
     "output_type": "execute_result"
    }
   ],
   "source": [
    "def convert_pers_recommendations_to_df(pers_recs: np.array, users_to_pred: pd.DataFrame) -> pd.DataFrame:\n",
    "    \"\"\"Converts the personalized most rated to an DataFrame with the users and the recommendations.\n",
    "    \n",
    "    Args:\n",
    "        pers_recs (np.array): Array of indices for the best personalized items to recommend.\n",
    "        users_to_pred (pd.DataFrame): DataFrame containing the users which need recommendations.\n",
    "        \n",
    "    Returns:\n",
    "        non_pers_most_rated_matrix (np.array): Two dimensional array of (n_users, top_n_items)\n",
    "    \n",
    "    \"\"\"\n",
    "    pers_df = pd.concat([users_to_pred, pd.DataFrame(pers_recs)], axis=1)\n",
    "    pers_df = pers_df.set_index(\"users to recommend songs\")\n",
    "    \n",
    "    return pers_df\n",
    "\n",
    "\n",
    "collab_filt_most_rated_df = convert_pers_recommendations_to_df(collab_filt_most_rated, unique_users_training_data)\n",
    "collab_filt_most_rated_df.head()"
   ]
  },
  {
   "cell_type": "code",
   "execution_count": 46,
   "metadata": {
    "scrolled": true
   },
   "outputs": [
    {
     "data": {
      "text/plain": [
       "{'0011d5f4fb02ff276763d385c3f2ded2b00ad94a': [17599,\n",
       "  19514,\n",
       "  31557,\n",
       "  30668,\n",
       "  14194,\n",
       "  2291,\n",
       "  10115,\n",
       "  32616,\n",
       "  8967,\n",
       "  8341,\n",
       "  26658,\n",
       "  15254,\n",
       "  30780,\n",
       "  26812,\n",
       "  29084,\n",
       "  9506,\n",
       "  33145,\n",
       "  25836,\n",
       "  12716,\n",
       "  28311,\n",
       "  2341,\n",
       "  28289,\n",
       "  5289,\n",
       "  26293,\n",
       "  4822,\n",
       "  4472,\n",
       "  25131,\n",
       "  35164,\n",
       "  2781,\n",
       "  1337,\n",
       "  24154,\n",
       "  11902,\n",
       "  29867,\n",
       "  22915,\n",
       "  20725,\n",
       "  33529,\n",
       "  8388,\n",
       "  16195,\n",
       "  1189,\n",
       "  2308,\n",
       "  11560,\n",
       "  3187,\n",
       "  28933,\n",
       "  22489,\n",
       "  29513,\n",
       "  25954,\n",
       "  16225,\n",
       "  31457,\n",
       "  11369,\n",
       "  22979,\n",
       "  12767,\n",
       "  22547,\n",
       "  32433,\n",
       "  8989,\n",
       "  25530,\n",
       "  21547,\n",
       "  2854,\n",
       "  5531,\n",
       "  21487,\n",
       "  29004,\n",
       "  33290,\n",
       "  28717,\n",
       "  9856,\n",
       "  33606,\n",
       "  32501,\n",
       "  34628,\n",
       "  658,\n",
       "  16235,\n",
       "  25060,\n",
       "  12595,\n",
       "  11884,\n",
       "  28179,\n",
       "  15990,\n",
       "  6291,\n",
       "  3606,\n",
       "  20000,\n",
       "  6961,\n",
       "  8333,\n",
       "  15597,\n",
       "  13228,\n",
       "  30376,\n",
       "  15498,\n",
       "  13867,\n",
       "  32272,\n",
       "  7903,\n",
       "  19068,\n",
       "  1771,\n",
       "  2263,\n",
       "  5752,\n",
       "  27860,\n",
       "  18747,\n",
       "  1022,\n",
       "  8119,\n",
       "  9679,\n",
       "  30527,\n",
       "  33317,\n",
       "  30836,\n",
       "  28856,\n",
       "  17486,\n",
       "  8929]}"
      ]
     },
     "execution_count": 46,
     "metadata": {},
     "output_type": "execute_result"
    }
   ],
   "source": [
    "collab_filt_dict = create_dict_preds(collab_filt_most_rated_df)\n",
    "# Since dicts in python are not ordered, we need to HAMMER DOWN a way to print some values.\n",
    "dict(list(collab_filt_dict.items())[0:1])"
   ]
  },
  {
   "cell_type": "markdown",
   "metadata": {},
   "source": [
    "## Evaluate\n",
    "We use again the Mean Average Precision @ K to evaluate our predictions."
   ]
  },
  {
   "cell_type": "code",
   "execution_count": 47,
   "metadata": {
    "scrolled": true
   },
   "outputs": [
    {
     "data": {
      "text/plain": [
       "0.030477454861760348"
      ]
     },
     "execution_count": 47,
     "metadata": {},
     "output_type": "execute_result"
    }
   ],
   "source": [
    "evaluate(y_true_dict, collab_filt_dict)"
   ]
  },
  {
   "cell_type": "markdown",
   "metadata": {},
   "source": [
    "## Predict \n",
    "To submit your predictions, you just need to convert your recommendations to the format we have in the `example_output.csv` file."
   ]
  },
  {
   "cell_type": "code",
   "execution_count": 48,
   "metadata": {},
   "outputs": [
    {
     "name": "stdout",
     "output_type": "stream",
     "text": [
      "(700, 100)\n"
     ]
    },
    {
     "data": {
      "text/html": [
       "<div>\n",
       "<style scoped>\n",
       "    .dataframe tbody tr th:only-of-type {\n",
       "        vertical-align: middle;\n",
       "    }\n",
       "\n",
       "    .dataframe tbody tr th {\n",
       "        vertical-align: top;\n",
       "    }\n",
       "\n",
       "    .dataframe thead th {\n",
       "        text-align: right;\n",
       "    }\n",
       "</style>\n",
       "<table border=\"1\" class=\"dataframe\">\n",
       "  <thead>\n",
       "    <tr style=\"text-align: right;\">\n",
       "      <th></th>\n",
       "      <th>0</th>\n",
       "      <th>1</th>\n",
       "      <th>2</th>\n",
       "      <th>3</th>\n",
       "      <th>4</th>\n",
       "      <th>5</th>\n",
       "      <th>6</th>\n",
       "      <th>7</th>\n",
       "      <th>8</th>\n",
       "      <th>9</th>\n",
       "      <th>...</th>\n",
       "      <th>90</th>\n",
       "      <th>91</th>\n",
       "      <th>92</th>\n",
       "      <th>93</th>\n",
       "      <th>94</th>\n",
       "      <th>95</th>\n",
       "      <th>96</th>\n",
       "      <th>97</th>\n",
       "      <th>98</th>\n",
       "      <th>99</th>\n",
       "    </tr>\n",
       "    <tr>\n",
       "      <th>users to recommend songs</th>\n",
       "      <th></th>\n",
       "      <th></th>\n",
       "      <th></th>\n",
       "      <th></th>\n",
       "      <th></th>\n",
       "      <th></th>\n",
       "      <th></th>\n",
       "      <th></th>\n",
       "      <th></th>\n",
       "      <th></th>\n",
       "      <th></th>\n",
       "      <th></th>\n",
       "      <th></th>\n",
       "      <th></th>\n",
       "      <th></th>\n",
       "      <th></th>\n",
       "      <th></th>\n",
       "      <th></th>\n",
       "      <th></th>\n",
       "      <th></th>\n",
       "      <th></th>\n",
       "    </tr>\n",
       "  </thead>\n",
       "  <tbody>\n",
       "    <tr>\n",
       "      <th>56d985c92960b98ad76a48b10a062b0cd86795bf</th>\n",
       "      <td>2686</td>\n",
       "      <td>3097</td>\n",
       "      <td>16221</td>\n",
       "      <td>30422</td>\n",
       "      <td>11368</td>\n",
       "      <td>29087</td>\n",
       "      <td>35203</td>\n",
       "      <td>16195</td>\n",
       "      <td>31319</td>\n",
       "      <td>9064</td>\n",
       "      <td>...</td>\n",
       "      <td>27474</td>\n",
       "      <td>27473</td>\n",
       "      <td>27493</td>\n",
       "      <td>27471</td>\n",
       "      <td>27470</td>\n",
       "      <td>27482</td>\n",
       "      <td>0</td>\n",
       "      <td>27448</td>\n",
       "      <td>27452</td>\n",
       "      <td>27395</td>\n",
       "    </tr>\n",
       "    <tr>\n",
       "      <th>991411f0dca94f348c7bd3eae93b6e6c061605f1</th>\n",
       "      <td>21350</td>\n",
       "      <td>25246</td>\n",
       "      <td>4849</td>\n",
       "      <td>32542</td>\n",
       "      <td>6480</td>\n",
       "      <td>30930</td>\n",
       "      <td>24635</td>\n",
       "      <td>29434</td>\n",
       "      <td>18913</td>\n",
       "      <td>1208</td>\n",
       "      <td>...</td>\n",
       "      <td>27439</td>\n",
       "      <td>27461</td>\n",
       "      <td>27440</td>\n",
       "      <td>27442</td>\n",
       "      <td>27443</td>\n",
       "      <td>27444</td>\n",
       "      <td>27445</td>\n",
       "      <td>27446</td>\n",
       "      <td>27447</td>\n",
       "      <td>27441</td>\n",
       "    </tr>\n",
       "    <tr>\n",
       "      <th>323fbb28144eefa3eabfa22bd310dfb0713de80d</th>\n",
       "      <td>22227</td>\n",
       "      <td>22566</td>\n",
       "      <td>2783</td>\n",
       "      <td>28702</td>\n",
       "      <td>3318</td>\n",
       "      <td>4786</td>\n",
       "      <td>28111</td>\n",
       "      <td>34221</td>\n",
       "      <td>21679</td>\n",
       "      <td>7004</td>\n",
       "      <td>...</td>\n",
       "      <td>28495</td>\n",
       "      <td>20863</td>\n",
       "      <td>31814</td>\n",
       "      <td>15084</td>\n",
       "      <td>21234</td>\n",
       "      <td>9</td>\n",
       "      <td>25518</td>\n",
       "      <td>23613</td>\n",
       "      <td>24625</td>\n",
       "      <td>3325</td>\n",
       "    </tr>\n",
       "    <tr>\n",
       "      <th>55c750f0951ca1021b26c0e758660bb8a2c49d3a</th>\n",
       "      <td>2291</td>\n",
       "      <td>1189</td>\n",
       "      <td>2308</td>\n",
       "      <td>28702</td>\n",
       "      <td>28289</td>\n",
       "      <td>26053</td>\n",
       "      <td>35474</td>\n",
       "      <td>6291</td>\n",
       "      <td>32433</td>\n",
       "      <td>30780</td>\n",
       "      <td>...</td>\n",
       "      <td>7903</td>\n",
       "      <td>27777</td>\n",
       "      <td>1198</td>\n",
       "      <td>28495</td>\n",
       "      <td>21533</td>\n",
       "      <td>9953</td>\n",
       "      <td>17765</td>\n",
       "      <td>964</td>\n",
       "      <td>22956</td>\n",
       "      <td>10645</td>\n",
       "    </tr>\n",
       "    <tr>\n",
       "      <th>b458e3d697276a93aa6926caf1ff08e875933940</th>\n",
       "      <td>2291</td>\n",
       "      <td>29451</td>\n",
       "      <td>8341</td>\n",
       "      <td>6291</td>\n",
       "      <td>28702</td>\n",
       "      <td>33162</td>\n",
       "      <td>22541</td>\n",
       "      <td>1337</td>\n",
       "      <td>20000</td>\n",
       "      <td>1771</td>\n",
       "      <td>...</td>\n",
       "      <td>13456</td>\n",
       "      <td>22463</td>\n",
       "      <td>8848</td>\n",
       "      <td>4787</td>\n",
       "      <td>25546</td>\n",
       "      <td>30924</td>\n",
       "      <td>14818</td>\n",
       "      <td>23084</td>\n",
       "      <td>32469</td>\n",
       "      <td>3606</td>\n",
       "    </tr>\n",
       "  </tbody>\n",
       "</table>\n",
       "<p>5 rows × 100 columns</p>\n",
       "</div>"
      ],
      "text/plain": [
       "                                             0      1      2      3      4   \\\n",
       "users to recommend songs                                                      \n",
       "56d985c92960b98ad76a48b10a062b0cd86795bf   2686   3097  16221  30422  11368   \n",
       "991411f0dca94f348c7bd3eae93b6e6c061605f1  21350  25246   4849  32542   6480   \n",
       "323fbb28144eefa3eabfa22bd310dfb0713de80d  22227  22566   2783  28702   3318   \n",
       "55c750f0951ca1021b26c0e758660bb8a2c49d3a   2291   1189   2308  28702  28289   \n",
       "b458e3d697276a93aa6926caf1ff08e875933940   2291  29451   8341   6291  28702   \n",
       "\n",
       "                                             5      6      7      8      9   \\\n",
       "users to recommend songs                                                      \n",
       "56d985c92960b98ad76a48b10a062b0cd86795bf  29087  35203  16195  31319   9064   \n",
       "991411f0dca94f348c7bd3eae93b6e6c061605f1  30930  24635  29434  18913   1208   \n",
       "323fbb28144eefa3eabfa22bd310dfb0713de80d   4786  28111  34221  21679   7004   \n",
       "55c750f0951ca1021b26c0e758660bb8a2c49d3a  26053  35474   6291  32433  30780   \n",
       "b458e3d697276a93aa6926caf1ff08e875933940  33162  22541   1337  20000   1771   \n",
       "\n",
       "                                          ...       90     91     92     93  \\\n",
       "users to recommend songs                  ...                                 \n",
       "56d985c92960b98ad76a48b10a062b0cd86795bf  ...    27474  27473  27493  27471   \n",
       "991411f0dca94f348c7bd3eae93b6e6c061605f1  ...    27439  27461  27440  27442   \n",
       "323fbb28144eefa3eabfa22bd310dfb0713de80d  ...    28495  20863  31814  15084   \n",
       "55c750f0951ca1021b26c0e758660bb8a2c49d3a  ...     7903  27777   1198  28495   \n",
       "b458e3d697276a93aa6926caf1ff08e875933940  ...    13456  22463   8848   4787   \n",
       "\n",
       "                                             94     95     96     97     98  \\\n",
       "users to recommend songs                                                      \n",
       "56d985c92960b98ad76a48b10a062b0cd86795bf  27470  27482      0  27448  27452   \n",
       "991411f0dca94f348c7bd3eae93b6e6c061605f1  27443  27444  27445  27446  27447   \n",
       "323fbb28144eefa3eabfa22bd310dfb0713de80d  21234      9  25518  23613  24625   \n",
       "55c750f0951ca1021b26c0e758660bb8a2c49d3a  21533   9953  17765    964  22956   \n",
       "b458e3d697276a93aa6926caf1ff08e875933940  25546  30924  14818  23084  32469   \n",
       "\n",
       "                                             99  \n",
       "users to recommend songs                         \n",
       "56d985c92960b98ad76a48b10a062b0cd86795bf  27395  \n",
       "991411f0dca94f348c7bd3eae93b6e6c061605f1  27441  \n",
       "323fbb28144eefa3eabfa22bd310dfb0713de80d   3325  \n",
       "55c750f0951ca1021b26c0e758660bb8a2c49d3a  10645  \n",
       "b458e3d697276a93aa6926caf1ff08e875933940   3606  \n",
       "\n",
       "[5 rows x 100 columns]"
      ]
     },
     "execution_count": 48,
     "metadata": {},
     "output_type": "execute_result"
    }
   ],
   "source": [
    "# Filter the collaborative filtering most rated DataFrame  using the test_users_in_data mask.\n",
    "#collab_filt_most_rated_in_data_df = collab_filt_most_rated_df.loc[test_users_in_data.iloc[:, 0].to_list()]\n",
    "# to_list() not available, use tolist() instead\n",
    "collab_filt_most_rated_in_data_df = collab_filt_most_rated_df.loc[test_users_in_data.iloc[:, 0].tolist()]\n",
    "print(collab_filt_most_rated_in_data_df.shape)\n",
    "collab_filt_most_rated_in_data_df.head()"
   ]
  },
  {
   "cell_type": "code",
   "execution_count": 49,
   "metadata": {},
   "outputs": [
    {
     "name": "stdout",
     "output_type": "stream",
     "text": [
      "(300, 100)\n"
     ]
    },
    {
     "data": {
      "text/html": [
       "<div>\n",
       "<style scoped>\n",
       "    .dataframe tbody tr th:only-of-type {\n",
       "        vertical-align: middle;\n",
       "    }\n",
       "\n",
       "    .dataframe tbody tr th {\n",
       "        vertical-align: top;\n",
       "    }\n",
       "\n",
       "    .dataframe thead th {\n",
       "        text-align: right;\n",
       "    }\n",
       "</style>\n",
       "<table border=\"1\" class=\"dataframe\">\n",
       "  <thead>\n",
       "    <tr style=\"text-align: right;\">\n",
       "      <th></th>\n",
       "      <th>0</th>\n",
       "      <th>1</th>\n",
       "      <th>2</th>\n",
       "      <th>3</th>\n",
       "      <th>4</th>\n",
       "      <th>5</th>\n",
       "      <th>6</th>\n",
       "      <th>7</th>\n",
       "      <th>8</th>\n",
       "      <th>9</th>\n",
       "      <th>...</th>\n",
       "      <th>90</th>\n",
       "      <th>91</th>\n",
       "      <th>92</th>\n",
       "      <th>93</th>\n",
       "      <th>94</th>\n",
       "      <th>95</th>\n",
       "      <th>96</th>\n",
       "      <th>97</th>\n",
       "      <th>98</th>\n",
       "      <th>99</th>\n",
       "    </tr>\n",
       "    <tr>\n",
       "      <th>users to recommend songs</th>\n",
       "      <th></th>\n",
       "      <th></th>\n",
       "      <th></th>\n",
       "      <th></th>\n",
       "      <th></th>\n",
       "      <th></th>\n",
       "      <th></th>\n",
       "      <th></th>\n",
       "      <th></th>\n",
       "      <th></th>\n",
       "      <th></th>\n",
       "      <th></th>\n",
       "      <th></th>\n",
       "      <th></th>\n",
       "      <th></th>\n",
       "      <th></th>\n",
       "      <th></th>\n",
       "      <th></th>\n",
       "      <th></th>\n",
       "      <th></th>\n",
       "      <th></th>\n",
       "    </tr>\n",
       "  </thead>\n",
       "  <tbody>\n",
       "    <tr>\n",
       "      <th>002511b392561fc1d426d875c386b356a6fc5702</th>\n",
       "      <td>2291</td>\n",
       "      <td>1189</td>\n",
       "      <td>26658</td>\n",
       "      <td>8341</td>\n",
       "      <td>1337</td>\n",
       "      <td>6291</td>\n",
       "      <td>29451</td>\n",
       "      <td>20000</td>\n",
       "      <td>2308</td>\n",
       "      <td>4573</td>\n",
       "      <td>...</td>\n",
       "      <td>27806</td>\n",
       "      <td>17362</td>\n",
       "      <td>793</td>\n",
       "      <td>17111</td>\n",
       "      <td>4794</td>\n",
       "      <td>32703</td>\n",
       "      <td>7903</td>\n",
       "      <td>5752</td>\n",
       "      <td>28148</td>\n",
       "      <td>22642</td>\n",
       "    </tr>\n",
       "    <tr>\n",
       "      <th>003998bc33cddeba02428a43391c6716e523c8f7</th>\n",
       "      <td>2291</td>\n",
       "      <td>1189</td>\n",
       "      <td>26658</td>\n",
       "      <td>8341</td>\n",
       "      <td>1337</td>\n",
       "      <td>6291</td>\n",
       "      <td>29451</td>\n",
       "      <td>20000</td>\n",
       "      <td>2308</td>\n",
       "      <td>4573</td>\n",
       "      <td>...</td>\n",
       "      <td>27806</td>\n",
       "      <td>17362</td>\n",
       "      <td>793</td>\n",
       "      <td>17111</td>\n",
       "      <td>4794</td>\n",
       "      <td>32703</td>\n",
       "      <td>7903</td>\n",
       "      <td>5752</td>\n",
       "      <td>28148</td>\n",
       "      <td>22642</td>\n",
       "    </tr>\n",
       "    <tr>\n",
       "      <th>005b1fab38cdeb9d5bb97debcf73b44050994a3e</th>\n",
       "      <td>2291</td>\n",
       "      <td>1189</td>\n",
       "      <td>26658</td>\n",
       "      <td>8341</td>\n",
       "      <td>1337</td>\n",
       "      <td>6291</td>\n",
       "      <td>29451</td>\n",
       "      <td>20000</td>\n",
       "      <td>2308</td>\n",
       "      <td>4573</td>\n",
       "      <td>...</td>\n",
       "      <td>27806</td>\n",
       "      <td>17362</td>\n",
       "      <td>793</td>\n",
       "      <td>17111</td>\n",
       "      <td>4794</td>\n",
       "      <td>32703</td>\n",
       "      <td>7903</td>\n",
       "      <td>5752</td>\n",
       "      <td>28148</td>\n",
       "      <td>22642</td>\n",
       "    </tr>\n",
       "    <tr>\n",
       "      <th>005cc5d858319f13f88228f62341e5a4270f8e75</th>\n",
       "      <td>2291</td>\n",
       "      <td>1189</td>\n",
       "      <td>26658</td>\n",
       "      <td>8341</td>\n",
       "      <td>1337</td>\n",
       "      <td>6291</td>\n",
       "      <td>29451</td>\n",
       "      <td>20000</td>\n",
       "      <td>2308</td>\n",
       "      <td>4573</td>\n",
       "      <td>...</td>\n",
       "      <td>27806</td>\n",
       "      <td>17362</td>\n",
       "      <td>793</td>\n",
       "      <td>17111</td>\n",
       "      <td>4794</td>\n",
       "      <td>32703</td>\n",
       "      <td>7903</td>\n",
       "      <td>5752</td>\n",
       "      <td>28148</td>\n",
       "      <td>22642</td>\n",
       "    </tr>\n",
       "    <tr>\n",
       "      <th>006d3c79b9ed677280f8ddbc422d7b0fedd6d1fa</th>\n",
       "      <td>2291</td>\n",
       "      <td>1189</td>\n",
       "      <td>26658</td>\n",
       "      <td>8341</td>\n",
       "      <td>1337</td>\n",
       "      <td>6291</td>\n",
       "      <td>29451</td>\n",
       "      <td>20000</td>\n",
       "      <td>2308</td>\n",
       "      <td>4573</td>\n",
       "      <td>...</td>\n",
       "      <td>27806</td>\n",
       "      <td>17362</td>\n",
       "      <td>793</td>\n",
       "      <td>17111</td>\n",
       "      <td>4794</td>\n",
       "      <td>32703</td>\n",
       "      <td>7903</td>\n",
       "      <td>5752</td>\n",
       "      <td>28148</td>\n",
       "      <td>22642</td>\n",
       "    </tr>\n",
       "  </tbody>\n",
       "</table>\n",
       "<p>5 rows × 100 columns</p>\n",
       "</div>"
      ],
      "text/plain": [
       "                                            0     1      2     3     4     5   \\\n",
       "users to recommend songs                                                        \n",
       "002511b392561fc1d426d875c386b356a6fc5702  2291  1189  26658  8341  1337  6291   \n",
       "003998bc33cddeba02428a43391c6716e523c8f7  2291  1189  26658  8341  1337  6291   \n",
       "005b1fab38cdeb9d5bb97debcf73b44050994a3e  2291  1189  26658  8341  1337  6291   \n",
       "005cc5d858319f13f88228f62341e5a4270f8e75  2291  1189  26658  8341  1337  6291   \n",
       "006d3c79b9ed677280f8ddbc422d7b0fedd6d1fa  2291  1189  26658  8341  1337  6291   \n",
       "\n",
       "                                             6      7     8     9   ...    \\\n",
       "users to recommend songs                                            ...     \n",
       "002511b392561fc1d426d875c386b356a6fc5702  29451  20000  2308  4573  ...     \n",
       "003998bc33cddeba02428a43391c6716e523c8f7  29451  20000  2308  4573  ...     \n",
       "005b1fab38cdeb9d5bb97debcf73b44050994a3e  29451  20000  2308  4573  ...     \n",
       "005cc5d858319f13f88228f62341e5a4270f8e75  29451  20000  2308  4573  ...     \n",
       "006d3c79b9ed677280f8ddbc422d7b0fedd6d1fa  29451  20000  2308  4573  ...     \n",
       "\n",
       "                                             90     91   92     93    94  \\\n",
       "users to recommend songs                                                   \n",
       "002511b392561fc1d426d875c386b356a6fc5702  27806  17362  793  17111  4794   \n",
       "003998bc33cddeba02428a43391c6716e523c8f7  27806  17362  793  17111  4794   \n",
       "005b1fab38cdeb9d5bb97debcf73b44050994a3e  27806  17362  793  17111  4794   \n",
       "005cc5d858319f13f88228f62341e5a4270f8e75  27806  17362  793  17111  4794   \n",
       "006d3c79b9ed677280f8ddbc422d7b0fedd6d1fa  27806  17362  793  17111  4794   \n",
       "\n",
       "                                             95    96    97     98     99  \n",
       "users to recommend songs                                                   \n",
       "002511b392561fc1d426d875c386b356a6fc5702  32703  7903  5752  28148  22642  \n",
       "003998bc33cddeba02428a43391c6716e523c8f7  32703  7903  5752  28148  22642  \n",
       "005b1fab38cdeb9d5bb97debcf73b44050994a3e  32703  7903  5752  28148  22642  \n",
       "005cc5d858319f13f88228f62341e5a4270f8e75  32703  7903  5752  28148  22642  \n",
       "006d3c79b9ed677280f8ddbc422d7b0fedd6d1fa  32703  7903  5752  28148  22642  \n",
       "\n",
       "[5 rows x 100 columns]"
      ]
     },
     "execution_count": 49,
     "metadata": {},
     "output_type": "execute_result"
    }
   ],
   "source": [
    "print(new_users_recommendations.shape)\n",
    "new_users_recommendations.head()"
   ]
  },
  {
   "cell_type": "code",
   "execution_count": 50,
   "metadata": {},
   "outputs": [
    {
     "name": "stdout",
     "output_type": "stream",
     "text": [
      "(1000, 100)\n"
     ]
    }
   ],
   "source": [
    "collab_filt_most_rated_test_df = pd.concat([collab_filt_most_rated_in_data_df, new_users_recommendations])\n",
    "print(collab_filt_most_rated_test_df.shape)"
   ]
  },
  {
   "cell_type": "code",
   "execution_count": 51,
   "metadata": {},
   "outputs": [
    {
     "name": "stdout",
     "output_type": "stream",
     "text": [
      "Saved to csv in 'data\\collab_filt_recommendations.csv'.\n"
     ]
    }
   ],
   "source": [
    "# Save the collaborative filtering recommendations \n",
    "save_predictions(collab_filt_most_rated_test_df, os.path.join(\"data\", \"collab_filt_recommendations.csv\"))"
   ]
  },
  {
   "cell_type": "markdown",
   "metadata": {},
   "source": [
    "### Step 3.2 - Content-based recommendations"
   ]
  },
  {
   "cell_type": "code",
   "execution_count": 52,
   "metadata": {},
   "outputs": [
    {
     "ename": "FileNotFoundError",
     "evalue": "File b'data\\\\song_tag.csv' does not exist",
     "output_type": "error",
     "traceback": [
      "\u001b[1;31m---------------------------------------------------------------------------\u001b[0m",
      "\u001b[1;31mFileNotFoundError\u001b[0m                         Traceback (most recent call last)",
      "\u001b[1;32m<ipython-input-52-330ff0cadfe1>\u001b[0m in \u001b[0;36m<module>\u001b[1;34m\u001b[0m\n\u001b[0;32m     12\u001b[0m \u001b[1;33m\u001b[0m\u001b[0m\n\u001b[0;32m     13\u001b[0m \u001b[1;33m\u001b[0m\u001b[0m\n\u001b[1;32m---> 14\u001b[1;33m \u001b[0mtags\u001b[0m \u001b[1;33m=\u001b[0m \u001b[0mread_tags\u001b[0m\u001b[1;33m(\u001b[0m\u001b[1;33m)\u001b[0m\u001b[1;33m\u001b[0m\u001b[1;33m\u001b[0m\u001b[0m\n\u001b[0m\u001b[0;32m     15\u001b[0m \u001b[0mprint\u001b[0m\u001b[1;33m(\u001b[0m\u001b[0mtags\u001b[0m\u001b[1;33m.\u001b[0m\u001b[0mshape\u001b[0m\u001b[1;33m)\u001b[0m\u001b[1;33m\u001b[0m\u001b[1;33m\u001b[0m\u001b[0m\n\u001b[0;32m     16\u001b[0m \u001b[0mtags\u001b[0m\u001b[1;33m.\u001b[0m\u001b[0mhead\u001b[0m\u001b[1;33m(\u001b[0m\u001b[1;33m)\u001b[0m\u001b[1;33m\u001b[0m\u001b[1;33m\u001b[0m\u001b[0m\n",
      "\u001b[1;32m<ipython-input-52-330ff0cadfe1>\u001b[0m in \u001b[0;36mread_tags\u001b[1;34m()\u001b[0m\n\u001b[0;32m      8\u001b[0m     \"\"\"\n\u001b[0;32m      9\u001b[0m     \u001b[0mpath\u001b[0m \u001b[1;33m=\u001b[0m \u001b[0mos\u001b[0m\u001b[1;33m.\u001b[0m\u001b[0mpath\u001b[0m\u001b[1;33m.\u001b[0m\u001b[0mjoin\u001b[0m\u001b[1;33m(\u001b[0m\u001b[1;34m'data'\u001b[0m\u001b[1;33m,\u001b[0m \u001b[1;34m'song_tag.csv'\u001b[0m\u001b[1;33m)\u001b[0m\u001b[1;33m\u001b[0m\u001b[1;33m\u001b[0m\u001b[0m\n\u001b[1;32m---> 10\u001b[1;33m     \u001b[0mdata\u001b[0m \u001b[1;33m=\u001b[0m \u001b[0mpd\u001b[0m\u001b[1;33m.\u001b[0m\u001b[0mread_csv\u001b[0m\u001b[1;33m(\u001b[0m\u001b[0mpath\u001b[0m\u001b[1;33m)\u001b[0m\u001b[1;33m\u001b[0m\u001b[1;33m\u001b[0m\u001b[0m\n\u001b[0m\u001b[0;32m     11\u001b[0m     \u001b[1;32mreturn\u001b[0m \u001b[0mdata\u001b[0m\u001b[1;33m\u001b[0m\u001b[1;33m\u001b[0m\u001b[0m\n\u001b[0;32m     12\u001b[0m \u001b[1;33m\u001b[0m\u001b[0m\n",
      "\u001b[1;32m~\\AppData\\Local\\Continuum\\anaconda3\\lib\\site-packages\\pandas\\io\\parsers.py\u001b[0m in \u001b[0;36mparser_f\u001b[1;34m(filepath_or_buffer, sep, delimiter, header, names, index_col, usecols, squeeze, prefix, mangle_dupe_cols, dtype, engine, converters, true_values, false_values, skipinitialspace, skiprows, nrows, na_values, keep_default_na, na_filter, verbose, skip_blank_lines, parse_dates, infer_datetime_format, keep_date_col, date_parser, dayfirst, iterator, chunksize, compression, thousands, decimal, lineterminator, quotechar, quoting, escapechar, comment, encoding, dialect, tupleize_cols, error_bad_lines, warn_bad_lines, skipfooter, doublequote, delim_whitespace, low_memory, memory_map, float_precision)\u001b[0m\n\u001b[0;32m    676\u001b[0m                     skip_blank_lines=skip_blank_lines)\n\u001b[0;32m    677\u001b[0m \u001b[1;33m\u001b[0m\u001b[0m\n\u001b[1;32m--> 678\u001b[1;33m         \u001b[1;32mreturn\u001b[0m \u001b[0m_read\u001b[0m\u001b[1;33m(\u001b[0m\u001b[0mfilepath_or_buffer\u001b[0m\u001b[1;33m,\u001b[0m \u001b[0mkwds\u001b[0m\u001b[1;33m)\u001b[0m\u001b[1;33m\u001b[0m\u001b[1;33m\u001b[0m\u001b[0m\n\u001b[0m\u001b[0;32m    679\u001b[0m \u001b[1;33m\u001b[0m\u001b[0m\n\u001b[0;32m    680\u001b[0m     \u001b[0mparser_f\u001b[0m\u001b[1;33m.\u001b[0m\u001b[0m__name__\u001b[0m \u001b[1;33m=\u001b[0m \u001b[0mname\u001b[0m\u001b[1;33m\u001b[0m\u001b[1;33m\u001b[0m\u001b[0m\n",
      "\u001b[1;32m~\\AppData\\Local\\Continuum\\anaconda3\\lib\\site-packages\\pandas\\io\\parsers.py\u001b[0m in \u001b[0;36m_read\u001b[1;34m(filepath_or_buffer, kwds)\u001b[0m\n\u001b[0;32m    438\u001b[0m \u001b[1;33m\u001b[0m\u001b[0m\n\u001b[0;32m    439\u001b[0m     \u001b[1;31m# Create the parser.\u001b[0m\u001b[1;33m\u001b[0m\u001b[1;33m\u001b[0m\u001b[1;33m\u001b[0m\u001b[0m\n\u001b[1;32m--> 440\u001b[1;33m     \u001b[0mparser\u001b[0m \u001b[1;33m=\u001b[0m \u001b[0mTextFileReader\u001b[0m\u001b[1;33m(\u001b[0m\u001b[0mfilepath_or_buffer\u001b[0m\u001b[1;33m,\u001b[0m \u001b[1;33m**\u001b[0m\u001b[0mkwds\u001b[0m\u001b[1;33m)\u001b[0m\u001b[1;33m\u001b[0m\u001b[1;33m\u001b[0m\u001b[0m\n\u001b[0m\u001b[0;32m    441\u001b[0m \u001b[1;33m\u001b[0m\u001b[0m\n\u001b[0;32m    442\u001b[0m     \u001b[1;32mif\u001b[0m \u001b[0mchunksize\u001b[0m \u001b[1;32mor\u001b[0m \u001b[0miterator\u001b[0m\u001b[1;33m:\u001b[0m\u001b[1;33m\u001b[0m\u001b[1;33m\u001b[0m\u001b[0m\n",
      "\u001b[1;32m~\\AppData\\Local\\Continuum\\anaconda3\\lib\\site-packages\\pandas\\io\\parsers.py\u001b[0m in \u001b[0;36m__init__\u001b[1;34m(self, f, engine, **kwds)\u001b[0m\n\u001b[0;32m    785\u001b[0m             \u001b[0mself\u001b[0m\u001b[1;33m.\u001b[0m\u001b[0moptions\u001b[0m\u001b[1;33m[\u001b[0m\u001b[1;34m'has_index_names'\u001b[0m\u001b[1;33m]\u001b[0m \u001b[1;33m=\u001b[0m \u001b[0mkwds\u001b[0m\u001b[1;33m[\u001b[0m\u001b[1;34m'has_index_names'\u001b[0m\u001b[1;33m]\u001b[0m\u001b[1;33m\u001b[0m\u001b[1;33m\u001b[0m\u001b[0m\n\u001b[0;32m    786\u001b[0m \u001b[1;33m\u001b[0m\u001b[0m\n\u001b[1;32m--> 787\u001b[1;33m         \u001b[0mself\u001b[0m\u001b[1;33m.\u001b[0m\u001b[0m_make_engine\u001b[0m\u001b[1;33m(\u001b[0m\u001b[0mself\u001b[0m\u001b[1;33m.\u001b[0m\u001b[0mengine\u001b[0m\u001b[1;33m)\u001b[0m\u001b[1;33m\u001b[0m\u001b[1;33m\u001b[0m\u001b[0m\n\u001b[0m\u001b[0;32m    788\u001b[0m \u001b[1;33m\u001b[0m\u001b[0m\n\u001b[0;32m    789\u001b[0m     \u001b[1;32mdef\u001b[0m \u001b[0mclose\u001b[0m\u001b[1;33m(\u001b[0m\u001b[0mself\u001b[0m\u001b[1;33m)\u001b[0m\u001b[1;33m:\u001b[0m\u001b[1;33m\u001b[0m\u001b[1;33m\u001b[0m\u001b[0m\n",
      "\u001b[1;32m~\\AppData\\Local\\Continuum\\anaconda3\\lib\\site-packages\\pandas\\io\\parsers.py\u001b[0m in \u001b[0;36m_make_engine\u001b[1;34m(self, engine)\u001b[0m\n\u001b[0;32m   1012\u001b[0m     \u001b[1;32mdef\u001b[0m \u001b[0m_make_engine\u001b[0m\u001b[1;33m(\u001b[0m\u001b[0mself\u001b[0m\u001b[1;33m,\u001b[0m \u001b[0mengine\u001b[0m\u001b[1;33m=\u001b[0m\u001b[1;34m'c'\u001b[0m\u001b[1;33m)\u001b[0m\u001b[1;33m:\u001b[0m\u001b[1;33m\u001b[0m\u001b[1;33m\u001b[0m\u001b[0m\n\u001b[0;32m   1013\u001b[0m         \u001b[1;32mif\u001b[0m \u001b[0mengine\u001b[0m \u001b[1;33m==\u001b[0m \u001b[1;34m'c'\u001b[0m\u001b[1;33m:\u001b[0m\u001b[1;33m\u001b[0m\u001b[1;33m\u001b[0m\u001b[0m\n\u001b[1;32m-> 1014\u001b[1;33m             \u001b[0mself\u001b[0m\u001b[1;33m.\u001b[0m\u001b[0m_engine\u001b[0m \u001b[1;33m=\u001b[0m \u001b[0mCParserWrapper\u001b[0m\u001b[1;33m(\u001b[0m\u001b[0mself\u001b[0m\u001b[1;33m.\u001b[0m\u001b[0mf\u001b[0m\u001b[1;33m,\u001b[0m \u001b[1;33m**\u001b[0m\u001b[0mself\u001b[0m\u001b[1;33m.\u001b[0m\u001b[0moptions\u001b[0m\u001b[1;33m)\u001b[0m\u001b[1;33m\u001b[0m\u001b[1;33m\u001b[0m\u001b[0m\n\u001b[0m\u001b[0;32m   1015\u001b[0m         \u001b[1;32melse\u001b[0m\u001b[1;33m:\u001b[0m\u001b[1;33m\u001b[0m\u001b[1;33m\u001b[0m\u001b[0m\n\u001b[0;32m   1016\u001b[0m             \u001b[1;32mif\u001b[0m \u001b[0mengine\u001b[0m \u001b[1;33m==\u001b[0m \u001b[1;34m'python'\u001b[0m\u001b[1;33m:\u001b[0m\u001b[1;33m\u001b[0m\u001b[1;33m\u001b[0m\u001b[0m\n",
      "\u001b[1;32m~\\AppData\\Local\\Continuum\\anaconda3\\lib\\site-packages\\pandas\\io\\parsers.py\u001b[0m in \u001b[0;36m__init__\u001b[1;34m(self, src, **kwds)\u001b[0m\n\u001b[0;32m   1706\u001b[0m         \u001b[0mkwds\u001b[0m\u001b[1;33m[\u001b[0m\u001b[1;34m'usecols'\u001b[0m\u001b[1;33m]\u001b[0m \u001b[1;33m=\u001b[0m \u001b[0mself\u001b[0m\u001b[1;33m.\u001b[0m\u001b[0musecols\u001b[0m\u001b[1;33m\u001b[0m\u001b[1;33m\u001b[0m\u001b[0m\n\u001b[0;32m   1707\u001b[0m \u001b[1;33m\u001b[0m\u001b[0m\n\u001b[1;32m-> 1708\u001b[1;33m         \u001b[0mself\u001b[0m\u001b[1;33m.\u001b[0m\u001b[0m_reader\u001b[0m \u001b[1;33m=\u001b[0m \u001b[0mparsers\u001b[0m\u001b[1;33m.\u001b[0m\u001b[0mTextReader\u001b[0m\u001b[1;33m(\u001b[0m\u001b[0msrc\u001b[0m\u001b[1;33m,\u001b[0m \u001b[1;33m**\u001b[0m\u001b[0mkwds\u001b[0m\u001b[1;33m)\u001b[0m\u001b[1;33m\u001b[0m\u001b[1;33m\u001b[0m\u001b[0m\n\u001b[0m\u001b[0;32m   1709\u001b[0m \u001b[1;33m\u001b[0m\u001b[0m\n\u001b[0;32m   1710\u001b[0m         \u001b[0mpassed_names\u001b[0m \u001b[1;33m=\u001b[0m \u001b[0mself\u001b[0m\u001b[1;33m.\u001b[0m\u001b[0mnames\u001b[0m \u001b[1;32mis\u001b[0m \u001b[1;32mNone\u001b[0m\u001b[1;33m\u001b[0m\u001b[1;33m\u001b[0m\u001b[0m\n",
      "\u001b[1;32mpandas/_libs/parsers.pyx\u001b[0m in \u001b[0;36mpandas._libs.parsers.TextReader.__cinit__\u001b[1;34m()\u001b[0m\n",
      "\u001b[1;32mpandas/_libs/parsers.pyx\u001b[0m in \u001b[0;36mpandas._libs.parsers.TextReader._setup_parser_source\u001b[1;34m()\u001b[0m\n",
      "\u001b[1;31mFileNotFoundError\u001b[0m: File b'data\\\\song_tag.csv' does not exist"
     ]
    }
   ],
   "source": [
    "# If you had a FileNotFoundError, make sure you have unziped the `song_tag.zip` file.\n",
    "def read_tags():\n",
    "    \"\"\"Import the song tags file.\n",
    "    \n",
    "    Returns:\n",
    "        tags (pd.DataFram): DataFrame with song_index, tag_index and value of the tag in the song.\n",
    "        \n",
    "    \"\"\"\n",
    "    path = os.path.join('data', 'song_tag.csv')\n",
    "    data = pd.read_csv(path)\n",
    "    return data\n",
    "\n",
    "\n",
    "tags = read_tags()\n",
    "print(tags.shape)\n",
    "tags.head()"
   ]
  },
  {
   "cell_type": "code",
   "execution_count": null,
   "metadata": {},
   "outputs": [],
   "source": [
    "def read_songs():\n",
    "    \"\"\"Import the songs file.\n",
    "    \n",
    "    Returns:\n",
    "        songs (pd.DataFrame): DataFrame containing the song_id and the corresponding song_index.\n",
    "    \n",
    "    \"\"\"\n",
    "    path = os.path.join('data', 'songs.txt')\n",
    "    data = pd.read_csv(path, names=['song_id', 'song_index'], sep=' ')\n",
    "    return data\n",
    "\n",
    "\n",
    "songs= read_songs()\n",
    "print(songs.shape)\n",
    "songs.head()"
   ]
  },
  {
   "cell_type": "code",
   "execution_count": null,
   "metadata": {},
   "outputs": [],
   "source": [
    "def merge_tags_songs(tags, songs, data):\n",
    "    \"\"\"Join the tags, songs and ratings data sources into a single frame).\n",
    "    \n",
    "    Args:\n",
    "        tags (pd.DataFram): DataFrame with song_index, tag_index and value of the tag in the song.\n",
    "        songs (pd.DataFrame): DataFrame containing the song_id and the corresponding song_index.\n",
    "        \n",
    "    Returns:\n",
    "        tags_cleaned (pd.DataFrame): Matches the song_id to the tag_index with a corresponding value.\n",
    "    \n",
    "    \"\"\"\n",
    "    tags_cleaned = (tags.merge(songs, how='left', on='song_index')\n",
    "                        .merge(data, how='right', on='song_id')\n",
    "                   )[['song_id', 'tag_index', 'val']]\n",
    "    return tags_cleaned\n",
    "\n",
    "tags_cleaned = merge_tags_songs(tags, songs, data)\n",
    "print(tags_cleaned.shape)\n",
    "tags_cleaned.head()"
   ]
  },
  {
   "cell_type": "code",
   "execution_count": null,
   "metadata": {},
   "outputs": [],
   "source": [
    "# Get the number of unique song_id's for which we have tags. \n",
    "tags_cleaned.song_id.nunique()"
   ]
  },
  {
   "cell_type": "code",
   "execution_count": null,
   "metadata": {},
   "outputs": [],
   "source": [
    "def make_item_profiles(data):\n",
    "    \"\"\"Creates the item profiles matrix.\n",
    "    \n",
    "    Args:\n",
    "        data (pd.DataFrame): DataFrame containing the (rows, columns, values) for the ratings matrix.\n",
    "                             In this case, we have (song_id, tag_index, value).\n",
    "    \n",
    "    Returns:\n",
    "        item_profiles (csr_matrix): Item profiles matrix. Items as rows, tags as columns.\n",
    "    \n",
    "    \"\"\"\n",
    "    items, item_pos = np.unique(data.iloc[:, 0].values, return_inverse=True)\n",
    "    tags, tag_pos = np.unique(data.iloc[:, 1].values, return_inverse=True)\n",
    "    values = data.iloc[:, 2].fillna(0).values\n",
    "    \n",
    "    shape = (len(items), len(tags))\n",
    "\n",
    "    item_profiles_ = coo_matrix((values, (item_pos, tag_pos)), shape=shape).tocsr()\n",
    "    return item_profiles_\n",
    "\n",
    "\n",
    "item_profiles = make_item_profiles(tags_cleaned)\n",
    "item_profiles"
   ]
  },
  {
   "cell_type": "code",
   "execution_count": null,
   "metadata": {},
   "outputs": [],
   "source": [
    "def make_user_profiles(R_, item_profiles_):\n",
    "    \"\"\"Calculate the user profiles with the items.\n",
    "    \n",
    "    Args:\n",
    "        R_ (csr_matrix): Ratings matrix with shape (n_users, n_items).\n",
    "        item_profiles_ (csr_matrix): Item profiles matrix with shape (n_items, n_tags).\n",
    "        \n",
    "    Returns:\n",
    "        user_profiles (csr_matrix): User profiles considering the ratings and the item profiles, with shape (n_users, n_tags).\n",
    "        \n",
    "    \"\"\"\n",
    "    return np.dot(R_, item_profiles_)\n",
    "\n",
    "\n",
    "user_profiles = make_user_profiles(ratings_train, item_profiles)\n",
    "user_profiles"
   ]
  },
  {
   "cell_type": "code",
   "execution_count": null,
   "metadata": {},
   "outputs": [],
   "source": [
    "def make_user_predictions_content(R_, item_profiles_, user_profiles_):\n",
    "    \"\"\"Produces content-based predictions.\n",
    "    \n",
    "    Args:\n",
    "        R_ (csr_matrix): Ratings matrix with shape (n_users, n_items).\n",
    "        item_profiles_ (csr_matrix): Item profiles matrix with shape (n_items, n_tags).\n",
    "        user_profiles (csr_matrix): User profiles considering the ratings and the item profiles, with shape (n_users, n_tags).\n",
    "       \n",
    "    Returns:\n",
    "        preds (csr_matrix): Predictions of ratings using content-based recommendations.\n",
    "    \n",
    "    \"\"\"\n",
    "    \n",
    "    # Since we are not looking at the values inbetween the cosine_similarity and excluding previously rated items,\n",
    "    # we can define dense_output=False to speed up.\n",
    "    preds = cosine_similarity(user_profiles_, item_profiles_, dense_output=False)\n",
    "    \n",
    "    # Exclude previously rated items.\n",
    "    preds[R_.nonzero()] = 0\n",
    "    \n",
    "    return preds\n",
    "\n",
    "\n",
    "content_user_preds = make_user_predictions_content(ratings_train, item_profiles, user_profiles)\n",
    "content_user_preds"
   ]
  },
  {
   "cell_type": "code",
   "execution_count": null,
   "metadata": {},
   "outputs": [],
   "source": [
    "content_most_rated = get_most_rated_from_user_preds(content_user_preds, 100)\n",
    "print(content_most_rated.shape)\n",
    "content_most_rated"
   ]
  },
  {
   "cell_type": "code",
   "execution_count": null,
   "metadata": {},
   "outputs": [],
   "source": [
    "content_most_rated_df = convert_pers_recommendations_to_df(content_most_rated, unique_users_training_data)\n",
    "print(content_most_rated_df.shape)\n",
    "content_most_rated_df.head()"
   ]
  },
  {
   "cell_type": "code",
   "execution_count": null,
   "metadata": {},
   "outputs": [],
   "source": [
    "content_dict = create_dict_preds(content_most_rated_df)\n",
    "# Since dicts in python are not ordered, we need to HAMMER DOWN a way to print some values.\n",
    "dict(list(content_dict.items())[0:2])"
   ]
  },
  {
   "cell_type": "markdown",
   "metadata": {},
   "source": [
    "## Evaluate\n",
    "We use again the Mean Average Precision @ K to evaluate our predictions."
   ]
  },
  {
   "cell_type": "code",
   "execution_count": null,
   "metadata": {
    "scrolled": true
   },
   "outputs": [],
   "source": [
    "evaluate(y_true_dict, content_dict)"
   ]
  },
  {
   "cell_type": "markdown",
   "metadata": {},
   "source": [
    "## Predict \n",
    "To submit your predictions, you just need to convert your recommendations to the formatwe have in the `example_output.csv` file."
   ]
  },
  {
   "cell_type": "code",
   "execution_count": null,
   "metadata": {},
   "outputs": [],
   "source": [
    "content_most_rated_in_data_df = content_most_rated_df.loc[test_users_in_data.iloc[:, 0].to_list()]\n",
    "print(content_most_rated_in_data_df.shape)\n",
    "content_most_rated_in_data_df.head()"
   ]
  },
  {
   "cell_type": "code",
   "execution_count": null,
   "metadata": {},
   "outputs": [],
   "source": [
    "print(new_users_recommendations.shape)\n",
    "new_users_recommendations.head()"
   ]
  },
  {
   "cell_type": "code",
   "execution_count": null,
   "metadata": {
    "scrolled": true
   },
   "outputs": [],
   "source": [
    "content_most_rated_test_df = pd.concat([content_most_rated_in_data_df, new_users_recommendations])\n",
    "print(content_most_rated_test_df.shape)"
   ]
  },
  {
   "cell_type": "code",
   "execution_count": null,
   "metadata": {},
   "outputs": [],
   "source": [
    "# Save the content-based filtering recommendations \n",
    "save_predictions(content_most_rated_test_df, os.path.join(\"data\", \"content_recommendations.csv\"))"
   ]
  },
  {
   "cell_type": "code",
   "execution_count": null,
   "metadata": {},
   "outputs": [],
   "source": []
  }
 ],
 "metadata": {
  "kernelspec": {
   "display_name": "Python 3",
   "language": "python",
   "name": "python3"
  },
  "language_info": {
   "codemirror_mode": {
    "name": "ipython",
    "version": 3
   },
   "file_extension": ".py",
   "mimetype": "text/x-python",
   "name": "python",
   "nbconvert_exporter": "python",
   "pygments_lexer": "ipython3",
   "version": "3.7.1"
  }
 },
 "nbformat": 4,
 "nbformat_minor": 2
}
