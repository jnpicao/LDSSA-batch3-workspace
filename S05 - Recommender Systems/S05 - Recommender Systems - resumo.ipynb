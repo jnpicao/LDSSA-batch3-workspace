{
 "cells": [
  {
   "cell_type": "code",
   "execution_count": 1,
   "metadata": {},
   "outputs": [],
   "source": [
    "import numpy as np\n",
    "import pandas as pd\n",
    "import scipy as sp\n",
    "\n",
    "from scipy.sparse import random, csr_matrix"
   ]
  },
  {
   "cell_type": "markdown",
   "metadata": {},
   "source": [
    "# 1 Framework\n",
    "\n",
    "**Recommendation Systems (RS)** are software systems that recommend items to users, that they might like.\n",
    "\n",
    "We start by learning the main components of an RS.\n",
    "\n",
    "![Recommender Sytems Framework](./BLU10 - Non-personalised recommender systems/media/recommender_systems_framework.png)\n",
    "\n",
    "*Fig.1 - RS framework with a community, plus the basic and extended models.*\n",
    "\n",
    "We refer back to this framework frequently throughout the specialization, but for now, let's drill down into each component.\n",
    "\n",
    "## 1.1 Users\n",
    "\n",
    "The *consumers* or people, denoted by $U = \\{u_0, u_1, ..., u_m\\}$.\n",
    "\n",
    "We reserve the indexing letters $u$ and $v$ to denote generic individual users.\n",
    "\n",
    "## 1.2 Items\n",
    "\n",
    "The *products* or things, a set $I = \\{i_0, i_1, ..., i_n\\}$. \n",
    "\n",
    "The indexing letters for letters for items are $i$, $j$ and $l$.\n",
    "\n",
    "## 1.3 Community\n",
    "\n",
    "The space of all possible ($u$, $i$) pairs is given by $U \\times I = \\{(u_0, i_0), (u_0, i_1), ..., (u_0, i_n), ..., (u_m, i_n)\\}$.\n",
    "\n",
    "The resulting set $U \\times I$ contains $\\left\\vert{U}\\right\\vert * \\left\\vert{I}\\right\\vert = m * n$ possible combinations.\n",
    "\n",
    "\n",
    "\n",
    "## 1.4 Ratings\n",
    "\n",
    "We write the set $R = \\{r_{u_0, i_0}, ..., r_{u_m, i_n}\\}$, where each rating $r_{u, i}$ corresponds to a user-item pair $(u, i) \\in U \\times I$.\n",
    "\n",
    "We use $R'$ for the set of all *recorded* ratings, such as:\n",
    "\n",
    "* Any user $u \\in U$ can make no more than one rating $r_{u, i}$ for a particular item $i \\in I$.\n",
    "* Any user $u \\in U$ is free to rate, or not, any number of items $i \\in I$, including none.\n",
    "\n",
    "Formally, the set of recorded ratings (**existing ratings**) $R' \\subseteq R$ (**all possible ratings**). \n",
    "<br>\n",
    "\n",
    "#### Explicit and implicit ratings\n",
    "\n",
    "Feedback is said to be explicit when provided by the user and implicit if inferred based on user actions (e.g., clicks).  \n",
    "\n",
    "Implicit feedback usually takes the form of unary data.\n",
    "\n",
    "#### Rating scale\n",
    "\n",
    "We write $S$ the set of possible ratings. For example, in 1-5 stars rating system $r_{u, i} \\in S = \\{1, 2, 3, 4, 5\\}$.\n",
    "\n",
    "| Type of data    | Description                          | Rating scale (examples) | Explicit/Implicit |  \n",
    "|-----------------|--------------------------------------|-------------------------|-------------------|\n",
    "| Numeric         | Continuous ratings                   | $S = [1, 5]$            | Explicit          |\n",
    "| Ordinal         | Ordered categories                   | $S = \\{1, 2, 3, 4, 5\\}$ | Explicit          |\n",
    "| Binary          | Good or bad  (e.g., Upvote/Downvote) | $S = \\{-1, 1\\}$         | Explicit          |\n",
    "| Unary           | User action  (e.g., Click, Purchase) | $S = \\{1\\}$             | Implicit          |\n",
    "*Table 1: Different types of data and rating scales*\n",
    "\n",
    "\n",
    "## 1.5 Ratings matrix \n",
    "\n",
    "We represent the set $R = \\{r_{u_0, i_0}, ..., r_{u_m, i_n}\\}$ as a $U \\times I$  matrix - the **ratings matrix** -, where the values are the ratings $r_{u, i}$, if they exist:\n",
    "\n",
    "$$\\begin{bmatrix}r_{u_0, i_0} & r_{u_0, i_1} & ... & r_{u_0, i_n}\\\\ r_{u_1, i_0} & r_{u_1, i_1} & ... & r_{u_1, i_n}\\\\... & ... & ... & ...\\\\ r_{u_m, i_0} & r_{u_m, i_1} & ... & r_{u_m, i_n}\\end{bmatrix}$$\n",
    "\n",
    "We represent not recorded ratings $r_{u, i} \\notin R'$ as zeros or missing values, enforcing the $U \\times I$ shape.\n",
    "\n",
    "\n",
    "#### Example of rating matrix\n",
    "\n",
    "Consider the following ratings matrix $R$, with $S = \\{1, 2, 3, 4, 5\\}$:\n",
    "\n",
    "$$\\begin{bmatrix}1 &  & 2\\\\ 1 & 5 & \\\\  & 2 & 1\\end{bmatrix}$$\n",
    "\n",
    "\n",
    "## 1.6 Important subsets\n",
    "\n",
    "The subset of users that have rated an item $i \\in I$ is given by $U_i \\subseteq U$. \n",
    "\n",
    "We write $I_u \\subseteq I$ the subset of items rated by user $u \\in U$.\n",
    "\n",
    "The subset items that have been rated by users $u, v \\in U$ is $I_{u, v} \\subseteq I$. \n",
    "\n",
    "Finally, $U_{i, j} \\subseteq U$ is used for the subset of users that rated both items $i, j \\in I$.\n",
    "\n",
    "\n",
    "---\n",
    "---\n",
    "\n",
    "## 1.7 Profiles\n",
    "\n",
    "**Profiles** are a collection of objects (users or items, in our framework) and their **attributes**.\n",
    "\n",
    "Consider the set of attributes $A = \\{a_0, ..., a_r\\}$, where $r \\in \\mathbb{N_0}$. Let be $A$ an arbitrary set of **item attributes**.\n",
    "\n",
    "We can define profiles $P = \\{p_{i_0, a_0}, ..., p_{i_n, a_r}\\}$, where $(i, a) \\in I \\times A$ and values $p_{i, a}$ indicate the presence of $a$ in $i$.\n",
    "\n",
    "Let be $B$ be an arbitrary set of user characteristics, and we can apply the same reasoning to build **user profiles**.\n",
    "\n",
    "Typically, item profiles contain information about the content of the items, and user profiles are more focused on demographics.\n",
    "\n",
    "\n",
    "## 1.8 User model\n",
    "\n",
    "As introduced above, RS are in the business of matching users and items.\n",
    "\n",
    "Sometimes, it's convenient to have user and item profiles in the same attribute space $A$.\n",
    "\n",
    "The user model $M$, defines $M = \\{m_{u_0, a_0}, ..., m_{u_m, a_r}\\}$, for $(u, a) \\in U \\times A$, where $A$ is the set of item attributes."
   ]
  },
  {
   "cell_type": "markdown",
   "metadata": {},
   "source": [
    "# 2 Recommendations\n",
    "\n",
    "**The whole objective of Recommender Systems is to fill in the blanks in our ratings matrix** ($r_{u, i} \\notin R'$) and return the best possible items to the user.\n",
    "\n",
    "Throughout the course, we learn different ways to predict unseen ratings.\n",
    "\n",
    "### Prediction step\n",
    "\n",
    "**The RS core computation is to predict the utility of unseen items**.\n",
    "\n",
    "That is, for the user $u$ we need to predict $r_{u, i}$ for each item $i \\in I \\setminus I_u$.  \n",
    "<br>\n",
    "<br>\n",
    "\n",
    "\n",
    "In mathematical language, we want to learn a function $f$ that maps user-item pairs into ratings $f : U \\times I \\to S$ given by $\\hat{r}_{u, i} = f(u, i)$ where $S$ is the set of possible ratings.\n",
    "\n",
    "Once we have it, there two main types of recommendations: **top-$N$** and **best-item**.\n",
    "\n",
    "### Top-*K* items\n",
    "\n",
    "For a given user $u \\in U$, we need a set of predictions $\\hat{R}_u = \\{f(u, i) : (u, i) \\in u \\times (I \\setminus I_u)\\}$.\n",
    "\n",
    "Then we can order $\\hat{R}_u$ as $\\hat{r}_{u, i_0} \\geq \\hat{r}_{u, i_1} \\geq ... \\geq \\hat{r}_{u, i_k}$ and return the items $i \\in (I \\setminus I_u)$ associated with the *k*-largest predicted ratings $\\hat{r}_{u, i}$.  \n",
    "\n",
    "\n",
    "### Best-item\n",
    "\n",
    "Can be seen as a particular case of top-$K$, with $K = 1$.\n"
   ]
  },
  {
   "cell_type": "markdown",
   "metadata": {},
   "source": [
    "## 2.1 Non-personalized RS  \n",
    "\n",
    "In this case we consider users only as providers of ratings, but **we ignore users' preferences when providing the recommendation**.  \n",
    "\n",
    "We use this approach **only when we lack information about the preferences of the specific user we are providing a recommendation**.  \n",
    "\n",
    "The rationale is that a generic user also likes something that is liked by many users.\n",
    "\n",
    "* **Most-rated**: Check which elements are greater than zero (`R>0`), sum along the columns (`axis=0`) and **return the indices** of the top-$N$ most-rated items (`np.negative().argsort()[:n]`).  \n",
    "\n",
    "\n",
    "* **Most-rated above threshold**: Check which elements are greater than threshold (`R>threshold`), sum along the columns (`axis=0`) and **return the indices** of the top-$N$ most-rated items (`np.negative().argsort()[:n]`).  \n",
    "\n",
    "\n",
    "* **Higher average-rating**: Replace zeros by NaN, compute mean along the columns (`axis=0`) and **return the indices** of the top-$N$.\n"
   ]
  },
  {
   "cell_type": "markdown",
   "metadata": {},
   "source": [
    "# 3 Implementation\n",
    "\n",
    "## 3.1 Compressed Sparse Row (CSR) \n",
    "\n",
    "[numpy csr_matrix](https://docs.scipy.org/doc/scipy/reference/generated/scipy.sparse.csr_matrix.html)\n",
    "\n",
    "The Compressed Sparse Row (CSR), uses three arrays:\n",
    "* `data`, the value vector containing all non-zero values in [row-major order](https://en.wikipedia.org/wiki/Row-_and_column-major_order)\n",
    "* `indptr`, the index pointer indicates at which element of the value vector the row starts\n",
    "* `indices`, contains the column indices (which column each of the values come from).\n"
   ]
  },
  {
   "cell_type": "code",
   "execution_count": 3,
   "metadata": {},
   "outputs": [
    {
     "data": {
      "text/plain": [
       "array([[1, 0, 2],\n",
       "       [1, 5, 0],\n",
       "       [0, 2, 1]])"
      ]
     },
     "execution_count": 3,
     "metadata": {},
     "output_type": "execute_result"
    }
   ],
   "source": [
    "data = np.array([1, 0, 2, 1, 5, 0, 0, 2, 1]).reshape(3, 3)\n",
    "data"
   ]
  },
  {
   "cell_type": "code",
   "execution_count": 15,
   "metadata": {},
   "outputs": [
    {
     "data": {
      "text/plain": [
       "<3x3 sparse matrix of type '<class 'numpy.int32'>'\n",
       "\twith 6 stored elements in Compressed Sparse Row format>"
      ]
     },
     "execution_count": 15,
     "metadata": {},
     "output_type": "execute_result"
    }
   ],
   "source": [
    "R = csr_matrix(data)\n",
    "R"
   ]
  },
  {
   "cell_type": "code",
   "execution_count": 8,
   "metadata": {},
   "outputs": [
    {
     "data": {
      "text/plain": [
       "array([1, 2, 1, 5, 2, 1], dtype=int32)"
      ]
     },
     "execution_count": 8,
     "metadata": {},
     "output_type": "execute_result"
    }
   ],
   "source": [
    "R.data"
   ]
  },
  {
   "cell_type": "code",
   "execution_count": 13,
   "metadata": {},
   "outputs": [
    {
     "data": {
      "text/plain": [
       "1"
      ]
     },
     "execution_count": 13,
     "metadata": {},
     "output_type": "execute_result"
    }
   ],
   "source": [
    "R[0,0]"
   ]
  },
  {
   "cell_type": "code",
   "execution_count": 14,
   "metadata": {
    "scrolled": true
   },
   "outputs": [
    {
     "data": {
      "text/plain": [
       "6"
      ]
     },
     "execution_count": 14,
     "metadata": {},
     "output_type": "execute_result"
    }
   ],
   "source": [
    "R.nnz"
   ]
  },
  {
   "cell_type": "markdown",
   "metadata": {},
   "source": [
    "## 3.2 Numpy arrays vs. matrices  \n",
    "\n",
    "Numpy matrices are strictly 2-dimensional, while numpy arrays (ndarrays) are N-dimensional. **Matrix objects are a subclass of ndarray**, so they inherit all the attributes and methods of ndarrays.\n",
    "\n",
    "The main advantage of numpy matrices is that they provide a convenient notation for matrix multiplication: if a and b are matrices, then a*b is their matrix product.\n",
    "\n",
    "**Warning!!!** The output of some numpy functions (like `np.argsort()`over an axis) for a matrix may not be as expected!"
   ]
  },
  {
   "cell_type": "code",
   "execution_count": 27,
   "metadata": {},
   "outputs": [
    {
     "data": {
      "text/plain": [
       "matrix([[1, 0, 2],\n",
       "        [1, 5, 0],\n",
       "        [0, 2, 1]], dtype=int32)"
      ]
     },
     "execution_count": 27,
     "metadata": {},
     "output_type": "execute_result"
    }
   ],
   "source": [
    "R.todense()"
   ]
  },
  {
   "cell_type": "code",
   "execution_count": 28,
   "metadata": {},
   "outputs": [
    {
     "data": {
      "text/plain": [
       "array([[1, 0, 2],\n",
       "       [1, 5, 0],\n",
       "       [0, 2, 1]], dtype=int32)"
      ]
     },
     "execution_count": 28,
     "metadata": {},
     "output_type": "execute_result"
    }
   ],
   "source": [
    "R.toarray()"
   ]
  },
  {
   "cell_type": "code",
   "execution_count": 29,
   "metadata": {},
   "outputs": [
    {
     "data": {
      "text/plain": [
       "array([[1, 0, 2],\n",
       "       [1, 5, 0],\n",
       "       [0, 2, 1]], dtype=int32)"
      ]
     },
     "execution_count": 29,
     "metadata": {},
     "output_type": "execute_result"
    }
   ],
   "source": [
    "np.asarray(R.todense())"
   ]
  },
  {
   "cell_type": "markdown",
   "metadata": {},
   "source": [
    "## From pandas DataFrame to scipy sparse"
   ]
  },
  {
   "cell_type": "code",
   "execution_count": 17,
   "metadata": {},
   "outputs": [
    {
     "data": {
      "text/html": [
       "<div>\n",
       "<style scoped>\n",
       "    .dataframe tbody tr th:only-of-type {\n",
       "        vertical-align: middle;\n",
       "    }\n",
       "\n",
       "    .dataframe tbody tr th {\n",
       "        vertical-align: top;\n",
       "    }\n",
       "\n",
       "    .dataframe thead th {\n",
       "        text-align: right;\n",
       "    }\n",
       "</style>\n",
       "<table border=\"1\" class=\"dataframe\">\n",
       "  <thead>\n",
       "    <tr style=\"text-align: right;\">\n",
       "      <th></th>\n",
       "      <th>0</th>\n",
       "      <th>1</th>\n",
       "      <th>2</th>\n",
       "    </tr>\n",
       "  </thead>\n",
       "  <tbody>\n",
       "    <tr>\n",
       "      <th>0</th>\n",
       "      <td>1</td>\n",
       "      <td>0</td>\n",
       "      <td>2</td>\n",
       "    </tr>\n",
       "    <tr>\n",
       "      <th>1</th>\n",
       "      <td>1</td>\n",
       "      <td>5</td>\n",
       "      <td>0</td>\n",
       "    </tr>\n",
       "    <tr>\n",
       "      <th>2</th>\n",
       "      <td>0</td>\n",
       "      <td>2</td>\n",
       "      <td>1</td>\n",
       "    </tr>\n",
       "  </tbody>\n",
       "</table>\n",
       "</div>"
      ],
      "text/plain": [
       "   0  1  2\n",
       "0  1  0  2\n",
       "1  1  5  0\n",
       "2  0  2  1"
      ]
     },
     "execution_count": 17,
     "metadata": {},
     "output_type": "execute_result"
    }
   ],
   "source": [
    "data_df = pd.DataFrame(data)\n",
    "data_df"
   ]
  },
  {
   "cell_type": "code",
   "execution_count": 18,
   "metadata": {},
   "outputs": [],
   "source": [
    "R_from_df = csr_matrix(data_df.values)"
   ]
  },
  {
   "cell_type": "code",
   "execution_count": 22,
   "metadata": {},
   "outputs": [
    {
     "data": {
      "text/plain": [
       "0"
      ]
     },
     "execution_count": 22,
     "metadata": {},
     "output_type": "execute_result"
    }
   ],
   "source": [
    "(R_from_df != R).sum()"
   ]
  }
 ],
 "metadata": {
  "kernelspec": {
   "display_name": "Python 3",
   "language": "python",
   "name": "python3"
  },
  "language_info": {
   "codemirror_mode": {
    "name": "ipython",
    "version": 3
   },
   "file_extension": ".py",
   "mimetype": "text/x-python",
   "name": "python",
   "nbconvert_exporter": "python",
   "pygments_lexer": "ipython3",
   "version": "3.7.1"
  }
 },
 "nbformat": 4,
 "nbformat_minor": 2
}
