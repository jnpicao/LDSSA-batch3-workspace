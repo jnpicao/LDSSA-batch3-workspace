{
 "cells": [
  {
   "cell_type": "markdown",
   "metadata": {
    "deletable": false,
    "editable": false,
    "nbgrader": {
     "grade": false,
     "grade_id": "cell-b4d7d915e2c9c198",
     "locked": true,
     "schema_version": 1,
     "solution": false
    }
   },
   "source": [
    "# SLU14 - k-Nearest Neighbors (kNN)\n",
    "\n",
    "In this notebook we will have exercises covering the following topics:\n",
    "\n",
    "- k-Nearest Neighbours Algorithm\n",
    "- A Primer on Distance\n",
    "- Some considerations about kNN\n",
    "- Using kNN"
   ]
  },
  {
   "cell_type": "code",
   "execution_count": 1,
   "metadata": {
    "deletable": false,
    "editable": false,
    "nbgrader": {
     "grade": false,
     "grade_id": "cell-10e27f42036825d8",
     "locked": true,
     "schema_version": 1,
     "solution": false
    }
   },
   "outputs": [],
   "source": [
    "# Place any important imports at the top of the notebook when possible\n",
    "import hashlib\n",
    "import json\n",
    "import math\n",
    "import numpy as np\n",
    "import os\n",
    "import pandas as pd\n",
    "\n",
    "from sklearn import datasets"
   ]
  },
  {
   "cell_type": "markdown",
   "metadata": {
    "deletable": false,
    "editable": false,
    "nbgrader": {
     "grade": false,
     "grade_id": "cell-463ec86e1e15c6e9",
     "locked": true,
     "schema_version": 1,
     "solution": false
    }
   },
   "source": [
    "## Distances"
   ]
  },
  {
   "cell_type": "markdown",
   "metadata": {
    "deletable": false,
    "editable": false,
    "nbgrader": {
     "grade": false,
     "grade_id": "cell-eeacdcb05a198df9",
     "locked": true,
     "schema_version": 1,
     "solution": false
    }
   },
   "source": [
    "### Exercise 1\n",
    "\n",
    "Define a function called `euclidean_distance`. This function should receive two arguments, `a` and `b`, which are numpy arrays with shape `(N,)`, where `N` is the number of dimensions of the inputs `a` and `b`.\n",
    "\n",
    "If the two arrays don't have the same shape, return None.\n",
    "\n",
    "In case the arguments are valid, return the euclidean distance between them.\n",
    "\n",
    "Of course you know about the function [numpy.linalg.norm](https://docs.scipy.org/doc/numpy/reference/generated/numpy.linalg.norm.html), which does exactly what we're asking here, but please take this opportunity to really understand the euclidean distance! Feel free to use it to double check your answer."
   ]
  },
  {
   "cell_type": "code",
   "execution_count": 2,
   "metadata": {
    "deletable": false,
    "nbgrader": {
     "grade": false,
     "grade_id": "cell-6e62f4a661edbaf0",
     "locked": false,
     "schema_version": 1,
     "solution": true
    }
   },
   "outputs": [],
   "source": [
    "# implement a function called euclidean_distance\n",
    "\n",
    "def euclidean_distance(a, b):\n",
    "    \"\"\"\n",
    "    Euclidean distance between two vectors.\n",
    "    \n",
    "    Parameters\n",
    "    ----------\n",
    "    a: numpy array with shape (N,)\n",
    "    b: numpy array with shape (N,)\n",
    "    \n",
    "    Returns\n",
    "    ----------\n",
    "    distance: float\n",
    "    \"\"\"\n",
    "\n",
    "    # YOUR CODE HERE\n",
    "      \n",
    "    if a.shape == b.shape:        \n",
    "        dif_sqred = (a-b)**2        \n",
    "        return np.sqrt(dif_sqred.sum())\n",
    "    else:\n",
    "        return None\n",
    "    "
   ]
  },
  {
   "cell_type": "code",
   "execution_count": 3,
   "metadata": {
    "deletable": false,
    "editable": false,
    "nbgrader": {
     "grade": true,
     "grade_id": "cell-79f8353bbd6472e8",
     "locked": true,
     "points": 2,
     "schema_version": 1,
     "solution": false
    }
   },
   "outputs": [],
   "source": [
    "# Test case 1\n",
    "a = np.array([1, 2, 4])\n",
    "b = np.array([-1, 0, 4])\n",
    "\n",
    "assert math.isclose(euclidean_distance(a, b), 2.8284, rel_tol=1e-03)\n",
    "\n",
    "\n",
    "# Test case 2\n",
    "a = np.array([1, 2])\n",
    "b = np.array([-1, 0, 4])\n",
    "\n",
    "assert euclidean_distance(a, b) is None\n",
    "             \n",
    "\n",
    "# Test case 3\n",
    "a = np.array([1])\n",
    "b = np.array([-1])\n",
    "\n",
    "assert math.isclose(euclidean_distance(a, b), 2.0, rel_tol=1e-03)\n",
    "\n",
    "\n",
    "# Test case 4\n",
    "a = np.array([0, 0])\n",
    "b = np.array([2, 3])\n",
    "\n",
    "assert math.isclose(euclidean_distance(a, b), 3.6055, rel_tol=1e-03)\n",
    "\n",
    "\n",
    "# Test case 5\n",
    "a = np.array([0, 1, 2, 3, 4])\n",
    "b = np.array([0, -1, -2, -3, -4])\n",
    "\n",
    "assert math.isclose(euclidean_distance(a, b), 10.9544, rel_tol=1e-03)"
   ]
  },
  {
   "cell_type": "markdown",
   "metadata": {
    "deletable": false,
    "editable": false,
    "nbgrader": {
     "grade": false,
     "grade_id": "cell-f32c1ab40034bb93",
     "locked": true,
     "schema_version": 1,
     "solution": false
    }
   },
   "source": [
    "### Exercise 2\n",
    "\n",
    "Define a function called `dot_product`. This function should receive two arguments, `a` and `b`, which are numpy arrays with shape `(N,)`, where `N` is the number of dimensions of the inputs `a` and `b`.\n",
    "\n",
    "You can assume the two arrays have the same shape.\n",
    "\n",
    "The function should return the dot product between the arrays.\n",
    "\n",
    "Of course you know about the function [numpy.dot](https://docs.scipy.org/doc/numpy/reference/generated/numpy.dot.html), , which does exactly what we're asking here, but please take this opportunity to really understand the dot product! Feel free to use it to double check your answer."
   ]
  },
  {
   "cell_type": "code",
   "execution_count": 4,
   "metadata": {
    "deletable": false,
    "nbgrader": {
     "grade": false,
     "grade_id": "cell-43b14f7973bc4e14",
     "locked": false,
     "schema_version": 1,
     "solution": true
    }
   },
   "outputs": [],
   "source": [
    "# implement a function called dot_product\n",
    "\n",
    "def dot_product(a, b):\n",
    "    \"\"\"\n",
    "    Dot product between two vectors.\n",
    "    \n",
    "    Parameters\n",
    "    ----------\n",
    "    a: numpy array with shape (N,)\n",
    "    b: numpy array with shape (N,)\n",
    "    \n",
    "    Returns\n",
    "    ----------\n",
    "    dot_product: float\n",
    "    \"\"\"\n",
    "\n",
    "   # YOUR CODE HERE\n",
    "    a_b_product = a*b\n",
    "    return a_b_product.sum()\n"
   ]
  },
  {
   "cell_type": "code",
   "execution_count": 5,
   "metadata": {
    "deletable": false,
    "editable": false,
    "nbgrader": {
     "grade": true,
     "grade_id": "cell-56abbfc68bda30ca",
     "locked": true,
     "points": 2,
     "schema_version": 1,
     "solution": false
    }
   },
   "outputs": [],
   "source": [
    "tests = [\n",
    "    {\n",
    "        'input': [np.array([1, 2, 4]), np.array([-1, 0, 4])],\n",
    "        'output_hash': 'e629fa6598d732768f7c726b4b621285f9c3b85303900aa912017db7617d8bdb'\n",
    "    },\n",
    "    {\n",
    "        'input': [np.array([0, 0]), np.array([2, 3])],\n",
    "        'output_hash': '5feceb66ffc86f38d952786c6d696c79c2dbc239dd4e91b46729d73a27fb57e9'\n",
    "    },\n",
    "    {\n",
    "        'input': [np.array([0, 1, 2, 3, 4]), np.array([0, -1, -2, -3, -4])],\n",
    "        'output_hash': '4cbaf3fbc9b6ccc6d363e9cac9d51c6d3012fc8991a30cbe952c5e92c7927d92'\n",
    "    }\n",
    "]\n",
    "\n",
    "for test in tests:\n",
    "    answer = dot_product(*test['input'])\n",
    "    answer_hash = hashlib.sha256(bytes(str(answer), encoding='utf8')).hexdigest()\n",
    "    \n",
    "    assert answer_hash == test['output_hash']"
   ]
  },
  {
   "cell_type": "markdown",
   "metadata": {
    "deletable": false,
    "editable": false,
    "nbgrader": {
     "grade": false,
     "grade_id": "cell-ce5055e9a3d5ddd2",
     "locked": true,
     "schema_version": 1,
     "solution": false
    }
   },
   "source": [
    "### Exercise 3\n",
    "\n",
    "Define a function called `cosine_distance`. This function should receive two arguments, `a` and `b`, which are numpy arrays with shape `(N,)`, where `N` is the number of dimensions of the inputs `a` and `b`.\n",
    "\n",
    "You can assume the two arrays have the same shape.\n",
    "\n",
    "The function should return the cosine distance between the arrays.\n",
    "\n",
    "Of course you know about the function [scipy.distance.cosine](https://docs.scipy.org/doc/scipy-0.14.0/reference/generated/scipy.spatial.distance.cosine.html), which does exactly what we're asking here, but please take this opportunity to really understand the cosine distance! Feel free to use it to double check your answer.\n",
    "\n",
    "After you've implemented the function, take a moment to think what values can the cosine distance function return."
   ]
  },
  {
   "cell_type": "code",
   "execution_count": 6,
   "metadata": {
    "deletable": false,
    "nbgrader": {
     "grade": false,
     "grade_id": "cell-fea2e1fad9590587",
     "locked": false,
     "schema_version": 1,
     "solution": true
    }
   },
   "outputs": [],
   "source": [
    "# implement a function called cosine_distance\n",
    "\n",
    "def cosine_distance(a, b):\n",
    "    \"\"\"\n",
    "    Cosine distance between two vectors.\n",
    "    \n",
    "    Parameters\n",
    "    ----------\n",
    "    a: numpy array with shape (N,)\n",
    "    b: numpy array with shape (N,)\n",
    "    \n",
    "    Returns\n",
    "    ----------\n",
    "    cosine_distance: float\n",
    "    \"\"\"\n",
    "\n",
    "    # YOUR CODE HERE\n",
    "    a_norm = np.sqrt((a**2).sum())\n",
    "    b_norm = np.sqrt((b**2).sum())\n",
    "    a_b_dot_product = dot_product(a, b)\n",
    "    \n",
    "    cosine_distance = 1-a_b_dot_product/(a_norm*b_norm)\n",
    "    \n",
    "    return cosine_distance\n"
   ]
  },
  {
   "cell_type": "code",
   "execution_count": 7,
   "metadata": {
    "deletable": false,
    "editable": false,
    "nbgrader": {
     "grade": true,
     "grade_id": "cell-e8800226668cce18",
     "locked": true,
     "points": 2,
     "schema_version": 1,
     "solution": false
    }
   },
   "outputs": [],
   "source": [
    "# Test case 1\n",
    "a = np.array([1, 2, 4])\n",
    "b = np.array([-1, 0, 4])\n",
    "\n",
    "assert math.isclose(cosine_distance(a, b), 0.2061, rel_tol=1e-03)\n",
    "\n",
    "\n",
    "# Test case 2\n",
    "a = np.array([0, 1])\n",
    "b = np.array([1, 0])\n",
    "\n",
    "assert math.isclose(cosine_distance(a, b), 1.0, rel_tol=1e-03)\n",
    "\n",
    "\n",
    "# Test case 3\n",
    "a = np.array([0, 1, 2, 3, 4])\n",
    "b = np.array([0, -1, -2, -3, -4])\n",
    "\n",
    "assert math.isclose(cosine_distance(a, b), 2.0, rel_tol=1e-03)"
   ]
  },
  {
   "cell_type": "markdown",
   "metadata": {
    "deletable": false,
    "editable": false,
    "nbgrader": {
     "grade": false,
     "grade_id": "cell-504dea6c50a50be1",
     "locked": true,
     "schema_version": 1,
     "solution": false
    }
   },
   "source": [
    "## Implementing the kNN algorithm\n",
    "\n",
    "By hand! Let's do this!"
   ]
  },
  {
   "cell_type": "markdown",
   "metadata": {
    "deletable": false,
    "editable": false,
    "nbgrader": {
     "grade": false,
     "grade_id": "cell-1217971c6312dfe5",
     "locked": true,
     "schema_version": 1,
     "solution": false
    }
   },
   "source": [
    "![lets_do_this](media/lets_do_this.gif)"
   ]
  },
  {
   "cell_type": "markdown",
   "metadata": {
    "deletable": false,
    "editable": false,
    "nbgrader": {
     "grade": false,
     "grade_id": "cell-afacbad08e39318b",
     "locked": true,
     "schema_version": 1,
     "solution": false
    }
   },
   "source": [
    "### Exercise 4\n",
    "\n",
    "The first step is to implement a function that computes a distance between one point and each other point in a dataset.\n",
    "\n",
    "Let's implement a function called `compute_distances`, that:\n",
    "\n",
    "* receives three arguments:\n",
    "    * x, which is a numpy array with shape (d,)\n",
    "    * dataset, which is a numpy array with shape (N, d), where N is the dataset size\n",
    "    * distance_type, which can be 'euclidean', 'cosine', 'dot'\n",
    "* computes the distance between x and all the points in the dataset. You should choose the right distance function, depending on the distance_function value. You can either use the functions that we've implemented above, or import them from numpy/scipy\n",
    "* returns a numpy array of shape (N,) with the computed distances"
   ]
  },
  {
   "cell_type": "code",
   "execution_count": 8,
   "metadata": {
    "deletable": false,
    "nbgrader": {
     "grade": false,
     "grade_id": "cell-579a133d5f7272c2",
     "locked": false,
     "schema_version": 1,
     "solution": true
    }
   },
   "outputs": [],
   "source": [
    "# implement a function called compute_distances\n",
    "\n",
    "def compute_distances(x, dataset, distance_type):\n",
    "    \"\"\"\n",
    "    Computes a distance between a point and all the other points in a dataset.\n",
    "    Supported distance functions are: euclidean, dot, cosine.\n",
    "    \n",
    "    Parameters\n",
    "    ----------\n",
    "    x: numpy array with shape (d,)\n",
    "    dataset: numpy array with shape (N, d)\n",
    "    distance_type: string\n",
    "    \n",
    "    Returns\n",
    "    ----------\n",
    "    distances: numpy array with shape (N,)\n",
    "    \"\"\"\n",
    "\n",
    "   # YOUR CODE HERE\n",
    "    N = dataset.shape[0]\n",
    "    d = dataset.shape[1]\n",
    "    \n",
    "    distances = np.zeros(N)\n",
    "    \n",
    "    for i in range(N):\n",
    "        array_n2 = dataset[i,:]\n",
    "        if distance_type == 'euclidean':\n",
    "            distances[i] = euclidean_distance(x, array_n2)\n",
    "        elif distance_type == 'cosine':\n",
    "            distances[i] = cosine_distance(x, array_n2)\n",
    "        elif distance_type == 'dot':\n",
    "            distances[i] = dot_product(x, array_n2)\n",
    "    \n",
    "    return distances\n"
   ]
  },
  {
   "cell_type": "code",
   "execution_count": 9,
   "metadata": {
    "deletable": false,
    "editable": false,
    "nbgrader": {
     "grade": true,
     "grade_id": "cell-601006c4a24f1f22",
     "locked": true,
     "points": 2,
     "schema_version": 1,
     "solution": false
    }
   },
   "outputs": [],
   "source": [
    "dataset = datasets.load_iris().data\n",
    "x = np.array([4.9, 3.0, 6.1, 2.2])\n",
    "\n",
    "# Testing with euclidean distance\n",
    "distances = compute_distances(x, dataset, 'euclidean')\n",
    "\n",
    "assert isinstance(distances, np.ndarray), \"The function should return a numpy array!\"\n",
    "assert distances.shape == (150,), \"The returned numpy array has the wrong shape!\"\n",
    "assert math.isclose(distances[13], 5.456189, rel_tol=1e-03), \"The returned numpy array has the wrong values!\"\n",
    "assert math.isclose(distances[47], 5.120546, rel_tol=1e-03), \"The returned numpy array has the wrong values!\"\n",
    "assert math.isclose(distances[112], 1.994993, rel_tol=1e-03), \"The returned numpy array has the wrong values!\"\n",
    "\n",
    "# Testing with dot product distance\n",
    "distances = compute_distances(x, dataset, 'dot')\n",
    "\n",
    "assert isinstance(distances, np.ndarray), \"The function should return a numpy array!\"\n",
    "assert distances.shape == (150,), \"The returned numpy array has the wrong shape!\"\n",
    "assert math.isclose(distances[13], 37.0, rel_tol=1e-03), \"The returned numpy array has the wrong values!\"\n",
    "assert math.isclose(distances[47], 41.12, rel_tol=1e-03), \"The returned numpy array has the wrong values!\"\n",
    "assert math.isclose(distances[112], 80.49, rel_tol=1e-03), \"The returned numpy array has the wrong values!\"\n",
    "\n",
    "# Testing with cosine distance\n",
    "distances = compute_distances(x, dataset, 'cosine')\n",
    "\n",
    "assert isinstance(distances, np.ndarray), \"The function should return a numpy array!\"\n",
    "assert distances.shape == (150,), \"The returned numpy array has the wrong shape!\"\n",
    "assert math.isclose(distances[13], 0.202958, rel_tol=1e-03), \"The returned numpy array has the wrong values!\"\n",
    "assert math.isclose(distances[47], 0.17874, rel_tol=1e-03), \"The returned numpy array has the wrong values!\"\n",
    "assert math.isclose(distances[112], 0.02015, rel_tol=1e-03), \"The returned numpy array has the wrong values!\""
   ]
  },
  {
   "cell_type": "markdown",
   "metadata": {
    "deletable": false,
    "editable": false,
    "nbgrader": {
     "grade": false,
     "grade_id": "cell-a3813d5e73431adf",
     "locked": true,
     "schema_version": 1,
     "solution": false
    }
   },
   "source": [
    "### Exercise 5\n",
    "\n",
    "Now that we have a function that computes the distance between one point and all the other points in a dataset, we need to select the point's nearest neighbours, which are the points in the dataset for which the distance is the minimum.\n",
    "\n",
    "In this exercise, you'll implement a function called `select_nearest_neighbours`, that:\n",
    "\n",
    "* receives two arguments:\n",
    "    * distances, which is a numpy array with distances (like the one returned in the previous question)\n",
    "    * k, which is the number of nearest neighbours that we want to consider\n",
    "* gets the indexes of the k smallest distances\n",
    "* returns a numpy array of shape (k,) with those indexes\n",
    "\n",
    "Hint: check [numpy.argsort](https://docs.scipy.org/doc/numpy/reference/generated/numpy.argsort.html)."
   ]
  },
  {
   "cell_type": "code",
   "execution_count": 10,
   "metadata": {
    "deletable": false,
    "nbgrader": {
     "grade": false,
     "grade_id": "cell-85c4b341dcff88cc",
     "locked": false,
     "schema_version": 1,
     "solution": true
    }
   },
   "outputs": [],
   "source": [
    "# implement a function called select_nearest_neighbours\n",
    "\n",
    "def select_nearest_neighbours(distances, k):\n",
    "    \"\"\"\n",
    "    Selects the k nearest neighbours\n",
    "    \n",
    "    Parameters\n",
    "    ----------\n",
    "    distances: numpy array with shape (N,)\n",
    "    k: int, the number of nearest neighbours we want to consider\n",
    "    \n",
    "    Returns\n",
    "    ----------\n",
    "    indexes: numpy array with shape (k,)\n",
    "    \"\"\"\n",
    "\n",
    "    # YOUR CODE HERE\n",
    "    kn_idx = distances.argsort()\n",
    "    \n",
    "    return kn_idx[0:k]"
   ]
  },
  {
   "cell_type": "code",
   "execution_count": 11,
   "metadata": {
    "deletable": false,
    "editable": false,
    "nbgrader": {
     "grade": true,
     "grade_id": "cell-07282de273cda24e",
     "locked": true,
     "points": 2,
     "schema_version": 1,
     "solution": false
    }
   },
   "outputs": [],
   "source": [
    "# This is to make the random predictable\n",
    "np.random.seed(42)\n",
    "\n",
    "# Test case 1\n",
    "knn = select_nearest_neighbours(np.random.rand(150), 3)\n",
    "assert knn.shape == (3,)\n",
    "assert hashlib.sha256(bytes(knn[2])).hexdigest() == '01d448afd928065458cf670b60f5a594d735af0172c8d67f22a81680132681ca'\n",
    "\n",
    "# Test case 2\n",
    "knn = select_nearest_neighbours(np.random.rand(49), 10)\n",
    "assert knn.shape == (10,)\n",
    "assert hashlib.sha256(bytes(knn[5])).hexdigest() == '11e431c215c5bd334cecbd43148274edf3ffdbd6cd6479fe279577fbe5f52ce6'"
   ]
  },
  {
   "cell_type": "markdown",
   "metadata": {
    "deletable": false,
    "editable": false,
    "nbgrader": {
     "grade": false,
     "grade_id": "cell-517ad31f00e4c79a",
     "locked": true,
     "schema_version": 1,
     "solution": false
    }
   },
   "source": [
    "### Exercise 6\n",
    "\n",
    "Now that we have a function that gets the indexes of the k nearest neighbours, we need to get the values of those neighbours, so that afterwards we can predict the label for our point.\n",
    "\n",
    "In this exercise, you'll implement a function called `get_nn_labels`, that:\n",
    "\n",
    "* receives two arguments:\n",
    "    * neighbour_indexes, which are the indexes of the k nearest neighbours (like the output of the last function)\n",
    "    * y_train, which is a numpy array with the targets from the a training set\n",
    "* gets the values from y_train using the indexes from neighbour_indexes\n",
    "* returns a numpy array of shape (k,) with those values"
   ]
  },
  {
   "cell_type": "code",
   "execution_count": 12,
   "metadata": {
    "deletable": false,
    "nbgrader": {
     "grade": false,
     "grade_id": "cell-f9d4962cb0206df9",
     "locked": false,
     "schema_version": 1,
     "solution": true
    }
   },
   "outputs": [],
   "source": [
    "# implement a function called get_nn_labels\n",
    "\n",
    "def get_nn_labels(y_train, neighbour_indexes):\n",
    "    \"\"\"\n",
    "    Selects the label values from the k nearest neighbours\n",
    "    \n",
    "    Parameters\n",
    "    ----------\n",
    "    y_train: numpy array with shape (N,)\n",
    "    neighbour_indexes: numpy array with shape (k,)\n",
    "    \n",
    "    Returns\n",
    "    ----------\n",
    "    labels: numpy array with shape (k,)\n",
    "    \"\"\"\n",
    "\n",
    "    # YOUR CODE HERE\n",
    "    #NOTA: para indexar elementos de um array podemos usar uma lista com os respectivos\n",
    "    #índices mas também outro array.\n",
    "    #labels = y_train[list(neighbour_indexes)]\n",
    "    labels = y_train[neighbour_indexes]\n",
    "    \n",
    "    return labels"
   ]
  },
  {
   "cell_type": "code",
   "execution_count": 13,
   "metadata": {},
   "outputs": [
    {
     "name": "stdout",
     "output_type": "stream",
     "text": [
      "[37 95 73 59 15 15  5 86 60 70]\n"
     ]
    },
    {
     "data": {
      "text/plain": [
       "array([95, 73, 86])"
      ]
     },
     "execution_count": 13,
     "metadata": {},
     "output_type": "execute_result"
    }
   ],
   "source": [
    "np.random.seed(42)\n",
    "x = (100*np.random.rand(10)).astype(int)\n",
    "print(x)\n",
    "idx = np.array([1,2,7])\n",
    "x[list(idx)]"
   ]
  },
  {
   "cell_type": "code",
   "execution_count": 14,
   "metadata": {},
   "outputs": [
    {
     "data": {
      "text/plain": [
       "list"
      ]
     },
     "execution_count": 14,
     "metadata": {},
     "output_type": "execute_result"
    }
   ],
   "source": [
    "type(list(idx))"
   ]
  },
  {
   "cell_type": "code",
   "execution_count": 15,
   "metadata": {
    "deletable": false,
    "editable": false,
    "nbgrader": {
     "grade": true,
     "grade_id": "cell-10829453a40bdac6",
     "locked": true,
     "points": 1,
     "schema_version": 1,
     "solution": false
    }
   },
   "outputs": [],
   "source": [
    "np.random.seed(42) \n",
    "\n",
    "# Test case 1\n",
    "answer = get_nn_labels(np.random.rand(150), np.random.randint(0, 3, 3))\n",
    "assert answer.shape == (3,)\n",
    "assert math.isclose(answer[0], 0.37454, rel_tol=1e-03)\n",
    "\n",
    "# Test case 2\n",
    "answer = get_nn_labels(np.random.rand(10), np.random.randint(0, 3, 7))\n",
    "assert answer.shape == (7,)\n",
    "assert math.isclose(answer[3], 0.44778, rel_tol=1e-03)"
   ]
  },
  {
   "cell_type": "markdown",
   "metadata": {
    "deletable": false,
    "editable": false,
    "nbgrader": {
     "grade": false,
     "grade_id": "cell-024239d63f8c5d01",
     "locked": true,
     "schema_version": 1,
     "solution": false
    }
   },
   "source": [
    "### Exercise 7\n",
    "\n",
    "Next we need to predict a label for our point based on the labels of the nearest neighbours.\n",
    "\n",
    "In this exercise, you'll implement a function called `predict_label_majority`, that:\n",
    "\n",
    "* receives one argument:\n",
    "    * nn_labels, which are the labels from the k nearest neighbours\n",
    "* returns the most frequent label"
   ]
  },
  {
   "cell_type": "code",
   "execution_count": 16,
   "metadata": {
    "deletable": false,
    "nbgrader": {
     "grade": false,
     "grade_id": "cell-2bb5e40e2eb26f8c",
     "locked": false,
     "schema_version": 1,
     "solution": true
    }
   },
   "outputs": [],
   "source": [
    "# implement a function called predict_label_majority\n",
    "\n",
    "def predict_label_majority(nn_labels):\n",
    "    \"\"\"\n",
    "    Selects the most frequent label in nn_labels\n",
    "    \n",
    "    Parameters\n",
    "    ----------\n",
    "    nn_labels: numpy array with shape (k,)\n",
    "    \n",
    "    Returns\n",
    "    ----------\n",
    "    label: int\n",
    "    \"\"\"\n",
    "\n",
    "    # YOUR CODE HERE\n",
    "    #from statistics import mode\n",
    "    from scipy import stats\n",
    "    \n",
    "    modes_array = stats.mode(nn_labels)[0]\n",
    "    label = modes_array[0]\n",
    "    label = int(label)\n",
    "    \n",
    "    return label\n",
    "    "
   ]
  },
  {
   "cell_type": "code",
   "execution_count": 17,
   "metadata": {},
   "outputs": [
    {
     "name": "stdout",
     "output_type": "stream",
     "text": [
      "[3 9 7 5 1 1]\n"
     ]
    },
    {
     "data": {
      "text/plain": [
       "ModeResult(mode=array([1]), count=array([2]))"
      ]
     },
     "execution_count": 17,
     "metadata": {},
     "output_type": "execute_result"
    }
   ],
   "source": [
    "from statistics import mode\n",
    "from scipy import stats\n",
    "np.random.seed(42)\n",
    "x = 10*np.random.rand(6)\n",
    "x = x.astype(int)\n",
    "print(x)\n",
    "stats.mode(x)\n",
    "#type(stats.mode(x)[0])"
   ]
  },
  {
   "cell_type": "code",
   "execution_count": 18,
   "metadata": {},
   "outputs": [
    {
     "name": "stdout",
     "output_type": "stream",
     "text": [
      "2\n"
     ]
    }
   ],
   "source": [
    "np.random.seed(42) \n",
    "x=np.random.randint(0, 3, 5)\n",
    "answer = predict_label_majority(np.random.randint(0, 3, 5))\n",
    "print(answer)\n",
    "assert isinstance(answer, int)"
   ]
  },
  {
   "cell_type": "code",
   "execution_count": 19,
   "metadata": {
    "deletable": false,
    "editable": false,
    "nbgrader": {
     "grade": true,
     "grade_id": "cell-52fb6a8a51b6ff92",
     "locked": true,
     "points": 2,
     "schema_version": 1,
     "solution": false
    }
   },
   "outputs": [],
   "source": [
    "np.random.seed(42) \n",
    "\n",
    "# Test case 1\n",
    "answer = predict_label_majority(np.random.randint(0, 3, 3))\n",
    "assert isinstance(answer, int)\n",
    "assert hashlib.sha256(bytes(answer)).hexdigest() == '96a296d224f285c67bee93c30f8a309157f0daa35dc5b87e410b78630a09cfc7'\n",
    "\n",
    "\n",
    "# Test case 2\n",
    "answer = predict_label_majority(np.random.randint(0, 3, 5))\n",
    "assert isinstance(answer, int)\n",
    "assert hashlib.sha256(bytes(answer)).hexdigest() == 'e3b0c44298fc1c149afbf4c8996fb92427ae41e4649b934ca495991b7852b855'"
   ]
  },
  {
   "cell_type": "markdown",
   "metadata": {
    "deletable": false,
    "editable": false,
    "nbgrader": {
     "grade": false,
     "grade_id": "cell-75c560ee36ba7ee3",
     "locked": true,
     "schema_version": 1,
     "solution": false
    }
   },
   "source": [
    "### Exercise 8\n",
    "\n",
    "Finally we can put everything together and implement the knn classifier!\n",
    "\n",
    "In this exercise, you'll implement a function called `knn_classifier`, that:\n",
    "\n",
    "* receives five arguments:\n",
    "    * x, which is a numpy array with shape (d,)\n",
    "    * dataset, which is a numpy array with shape (N, d), where N is the dataset size\n",
    "    * targets, which is a numpy array with shape (N,), that has the targets for each of the points in the dataset\n",
    "    * k, which is the number of nearest neighbours our knn algorithm will consider\n",
    "    * distance_function, which can be 'euclidean', 'cosine', 'dot'\n",
    "* uses all the functions that we implemented above in order to implement a knn_classifier!"
   ]
  },
  {
   "cell_type": "code",
   "execution_count": 20,
   "metadata": {
    "deletable": false,
    "nbgrader": {
     "grade": false,
     "grade_id": "cell-3f9aa28fb4a072fc",
     "locked": false,
     "schema_version": 1,
     "solution": true
    }
   },
   "outputs": [],
   "source": [
    "# implement a function called knn_classifier\n",
    "\n",
    "def knn_classifier(x, dataset, targets, k, distance_function):\n",
    "    \"\"\"\n",
    "    Predicts the label for a single point, given a dataset, a value for k and a distance function\n",
    "    \n",
    "    Parameters\n",
    "    ----------\n",
    "    x: numpy array with shape (d,)\n",
    "    dataset: numpy array with shape (N, d)\n",
    "    targets: numpy array with shape (N,)\n",
    "    k: int\n",
    "    distance_function: string\n",
    "    \n",
    "    Returns\n",
    "    ----------\n",
    "    label: int\n",
    "    \"\"\"\n",
    "\n",
    "    # YOUR CODE HERE\n",
    "    \n",
    "    distances = compute_distances(x, dataset, distance_function)\n",
    "    # distances: numpy array with shape (N,)\n",
    "    \n",
    "    k_nn_indexes = select_nearest_neighbours(distances, k)    \n",
    "    # k_nn_indexes: numpy array with shape (k,)\n",
    "    \n",
    "    k_nn_labels = get_nn_labels(targets, k_nn_indexes)\n",
    "    #k_nn_labels: numpy array with shape (k,)\n",
    "    \n",
    "    k_nn_prediction = predict_label_majority(k_nn_labels)\n",
    "    #k_nn_prediction: int\n",
    "    \n",
    "    return k_nn_prediction\n",
    "    "
   ]
  },
  {
   "cell_type": "code",
   "execution_count": 21,
   "metadata": {
    "deletable": false,
    "editable": false,
    "nbgrader": {
     "grade": true,
     "grade_id": "cell-5aa854b52cad24aa",
     "locked": true,
     "points": 1,
     "schema_version": 1,
     "solution": false
    }
   },
   "outputs": [],
   "source": [
    "dataset = datasets.load_iris().data\n",
    "targets = datasets.load_iris().target\n",
    "x = np.array([4.9, 3.0, 6.1, 2.2])\n",
    "\n",
    "tests = [\n",
    "    {\n",
    "        'input': [x, dataset, targets, 3, 'euclidean'],\n",
    "        'expected_value': 2\n",
    "    },\n",
    "    {\n",
    "        'input': [x, dataset, targets, 5, 'dot'],\n",
    "        'expected_value': 0\n",
    "    },\n",
    "    {\n",
    "        'input': [x, dataset, targets, 1, 'cosine'],\n",
    "        'expected_value': 2\n",
    "    }\n",
    "]\n",
    "\n",
    "for test in tests:\n",
    "    pred_label = knn_classifier(*test['input'])\n",
    "    assert isinstance(pred_label, int), \"The function should return an integer!\"\n",
    "    assert pred_label == test['expected_value'], \"The returned int has the wrong value!\""
   ]
  },
  {
   "cell_type": "markdown",
   "metadata": {
    "deletable": false,
    "editable": false,
    "nbgrader": {
     "grade": false,
     "grade_id": "cell-2ee17f126f1a73d7",
     "locked": true,
     "schema_version": 1,
     "solution": false
    }
   },
   "source": [
    "Now that we've implemented a knn classifier, let's go a bit further and implement a knn regressor!\n",
    "\n",
    "Luckily, we can reuse most of the functions we've already implemented!\n",
    "\n",
    "Keep up the good work, we're almost there!"
   ]
  },
  {
   "cell_type": "markdown",
   "metadata": {
    "deletable": false,
    "editable": false,
    "nbgrader": {
     "grade": false,
     "grade_id": "cell-dea39d8bb2bae597",
     "locked": true,
     "schema_version": 1,
     "solution": false
    }
   },
   "source": [
    "![almost_there](media/almost_there.gif)"
   ]
  },
  {
   "cell_type": "markdown",
   "metadata": {
    "deletable": false,
    "editable": false,
    "nbgrader": {
     "grade": false,
     "grade_id": "cell-cc945e549ac117f2",
     "locked": true,
     "schema_version": 1,
     "solution": false
    }
   },
   "source": [
    "### Exercise 9\n",
    "\n",
    "As we explained in the learning notebook, the main difference between a knn classifier and a knn regressor is the way we choo\n",
    "se the predicted label from the labels of the nearest neighbours.\n",
    "\n",
    "For the classifier case we used a majority vote. In the regressor case, we want to use an the average value of the neighbours' labels.\n",
    "\n",
    "In this exercise, you'll implement a function called `predict_label_average`, that:\n",
    "\n",
    "* receives one argument:\n",
    "    * nn_labels, which are the labels from the k nearest neighbours\n",
    "* returns the average of the nearest neighbours' labels"
   ]
  },
  {
   "cell_type": "code",
   "execution_count": 22,
   "metadata": {
    "deletable": false,
    "nbgrader": {
     "grade": false,
     "grade_id": "cell-33d0f1adaca50dba",
     "locked": false,
     "schema_version": 1,
     "solution": true
    }
   },
   "outputs": [],
   "source": [
    "# implement a function called predict_label_majority\n",
    "\n",
    "def predict_label_average(nn_labels):\n",
    "    \"\"\"\n",
    "    Gets the average of the labels from the nearest neighbours\n",
    "    \n",
    "    Parameters\n",
    "    ----------\n",
    "    nn_labels: numpy array with shape (k,)\n",
    "    \n",
    "    Returns\n",
    "    ----------\n",
    "    label: float\n",
    "    \"\"\"\n",
    "\n",
    "    # YOUR CODE HERE    \n",
    "    label = nn_labels.mean()\n",
    "    \n",
    "    return label"
   ]
  },
  {
   "cell_type": "code",
   "execution_count": 23,
   "metadata": {
    "deletable": false,
    "editable": false,
    "nbgrader": {
     "grade": true,
     "grade_id": "cell-2dcba0438d15f319",
     "locked": true,
     "points": 2,
     "schema_version": 1,
     "solution": false
    }
   },
   "outputs": [],
   "source": [
    "np.random.seed(42) \n",
    "\n",
    "label_average = predict_label_average(np.random.rand(3))\n",
    "assert isinstance(label_average, float)\n",
    "assert math.isclose(label_average, 0.685749, rel_tol=1e-04)\n",
    "\n",
    "label_average = predict_label_average(np.random.rand(5))\n",
    "assert isinstance(label_average, float)\n",
    "assert math.isclose(label_average, 0.3669862, rel_tol=1e-04)"
   ]
  },
  {
   "cell_type": "markdown",
   "metadata": {
    "deletable": false,
    "editable": false,
    "nbgrader": {
     "grade": false,
     "grade_id": "cell-7a3f694fbcb9bc02",
     "locked": true,
     "schema_version": 1,
     "solution": false
    }
   },
   "source": [
    "### Exercise 10\n",
    "\n",
    "And we're ready to implement the knn regressor!\n",
    "\n",
    "In this exercise, you'll implement a function called `knn_regressor`, that:\n",
    "\n",
    "* receives five arguments:\n",
    "    * x, which is a numpy array with shape (d,)\n",
    "    * dataset, which is a numpy array with shape (N, d), where N is the dataset size, and d is the number of dimensions that the points in the dataset have\n",
    "    * targets, which is a numpy array with shape (N,), that has the targets for each of the points in the dataset\n",
    "    * k, which is the number of nearest neighbours our knn algorithm will consider\n",
    "    * distance_function, which can be 'euclidean', 'cosine', 'dot'\n",
    "* uses all the functions that we implemented above in order to implement a knn_regressor!"
   ]
  },
  {
   "cell_type": "code",
   "execution_count": 24,
   "metadata": {
    "deletable": false,
    "nbgrader": {
     "grade": false,
     "grade_id": "cell-5cb72f729002e93f",
     "locked": false,
     "schema_version": 1,
     "solution": true
    }
   },
   "outputs": [],
   "source": [
    "# implement a function called knn_classifier\n",
    "\n",
    "def knn_regressor(x, dataset, targets, k, distance_function):\n",
    "    \"\"\"\n",
    "    Predicts the label for a single point, given a dataset, a value for k and a distance function\n",
    "    \n",
    "    Parameters\n",
    "    ----------\n",
    "    x: numpy array with shape (d,)\n",
    "    dataset: numpy array with shape (N, d)\n",
    "    targets: numpy array with shape (N,)\n",
    "    k: int\n",
    "    distance_function: string\n",
    "    \n",
    "    Returns\n",
    "    ----------\n",
    "    label: float\n",
    "    \"\"\"\n",
    "\n",
    "    # YOUR CODE HERE\n",
    "    \n",
    "    distances = compute_distances(x, dataset, distance_function)\n",
    "    # distances: numpy array with shape (N,)\n",
    "    \n",
    "    k_nn_indexes = select_nearest_neighbours(distances, k)    \n",
    "    # k_nn_indexes: numpy array with shape (k,)\n",
    "    \n",
    "    k_nn_labels = get_nn_labels(targets, k_nn_indexes)\n",
    "    #k_nn_labels: numpy array with shape (k,)\n",
    "    \n",
    "    k_nn_prediction = predict_label_average(k_nn_labels)\n",
    "    #k_nn_prediction: int\n",
    "    \n",
    "    return k_nn_prediction\n",
    "   "
   ]
  },
  {
   "cell_type": "code",
   "execution_count": 25,
   "metadata": {
    "deletable": false,
    "editable": false,
    "nbgrader": {
     "grade": true,
     "grade_id": "cell-90a7594798c1c9fe",
     "locked": true,
     "points": 1,
     "schema_version": 1,
     "solution": false
    }
   },
   "outputs": [],
   "source": [
    "np.random.seed(42)\n",
    "dataset = datasets.load_diabetes().data\n",
    "targets = datasets.load_diabetes().target\n",
    "x = np.random.rand(10)\n",
    "\n",
    "prediction = knn_regressor(x, dataset, targets, 3, 'euclidean')\n",
    "assert isinstance(prediction, float)\n",
    "assert math.isclose(prediction, 265.666, rel_tol=1e-04)\n",
    "\n",
    "prediction = knn_regressor(x, dataset, targets, 5, 'dot')\n",
    "assert isinstance(prediction, float)\n",
    "assert math.isclose(prediction, 92.8, rel_tol=1e-04)\n",
    "\n",
    "prediction = knn_regressor(x, dataset, targets, 1, 'cosine')\n",
    "assert isinstance(prediction, float)\n",
    "assert math.isclose(prediction, 264.0, rel_tol=1e-04)"
   ]
  },
  {
   "cell_type": "markdown",
   "metadata": {
    "deletable": false,
    "editable": false,
    "nbgrader": {
     "grade": false,
     "grade_id": "cell-5e58c10a7fb9bd1f",
     "locked": true,
     "schema_version": 1,
     "solution": false
    }
   },
   "source": [
    "**Well done!!!**"
   ]
  },
  {
   "cell_type": "markdown",
   "metadata": {
    "deletable": false,
    "editable": false,
    "nbgrader": {
     "grade": false,
     "grade_id": "cell-8046f36d570b2100",
     "locked": true,
     "schema_version": 1,
     "solution": false
    }
   },
   "source": [
    "![we_did_it](media/we_did_it.gif)"
   ]
  },
  {
   "cell_type": "markdown",
   "metadata": {
    "deletable": false,
    "editable": false,
    "nbgrader": {
     "grade": false,
     "grade_id": "cell-49a7da6e8b5dc30a",
     "locked": true,
     "schema_version": 1,
     "solution": false
    }
   },
   "source": [
    "Finally let's wrap this up with a couple of exercises on how to use scikit's knn models.\n",
    "\n",
    "## Using scikit's knn models"
   ]
  },
  {
   "cell_type": "markdown",
   "metadata": {
    "deletable": false,
    "editable": false,
    "nbgrader": {
     "grade": false,
     "grade_id": "cell-29d1ac30de7cb219",
     "locked": true,
     "schema_version": 1,
     "solution": false
    }
   },
   "source": [
    "### Exercise 11\n",
    "\n",
    "Use a `KNeighborsClassifier` to create predictions for the [wine dataset](https://scikit-learn.org/stable/modules/generated/sklearn.datasets.load_wine.html#sklearn.datasets.load_wine).\n",
    "\n",
    "Follow the instructions in the comments in the exercise cell."
   ]
  },
  {
   "cell_type": "code",
   "execution_count": 26,
   "metadata": {
    "deletable": false,
    "editable": false,
    "nbgrader": {
     "grade": false,
     "grade_id": "cell-2f75ec8dc1d54dd9",
     "locked": true,
     "schema_version": 1,
     "solution": false
    }
   },
   "outputs": [],
   "source": [
    "import numpy as np\n",
    "import pandas as pd\n",
    "import hashlib\n",
    "import json\n",
    "\n",
    "from scipy.spatial.distance import cosine\n",
    "from sklearn.model_selection import train_test_split\n",
    "from sklearn.neighbors import KNeighborsClassifier, KNeighborsRegressor\n",
    "from sklearn.metrics import accuracy_score"
   ]
  },
  {
   "cell_type": "code",
   "execution_count": 27,
   "metadata": {
    "deletable": false,
    "nbgrader": {
     "grade": false,
     "grade_id": "cell-08dc6b8c978617eb",
     "locked": false,
     "schema_version": 1,
     "solution": true
    }
   },
   "outputs": [],
   "source": [
    "# We start by importing the dataset\n",
    "data = datasets.load_wine()\n",
    "\n",
    "# Now do a train test split, using the train_test_split function from scikit\n",
    "# Use a test_size of 0.33 and a random_state of 42\n",
    "# X_train, X_test, y_train, y_test = ...\n",
    "\n",
    "# YOUR CODE HERE\n",
    "X = data['data']\n",
    "y = data['target']\n",
    "\n",
    "X_train, X_test, y_train, y_test = train_test_split(X, y, test_size=0.33, random_state=42)\n"
   ]
  },
  {
   "cell_type": "markdown",
   "metadata": {},
   "source": [
    "**sklearn.datasets.load_wine(return_X_y=False)**  \n",
    "\n",
    "Returns:\n",
    "- data : Bunch  \n",
    "\n",
    "Dictionary-like object, the interesting attributes are: ‘data’, the data to learn, ‘target’, the classification labels, ‘target_names’, the meaning of the labels, ‘feature_names’, the meaning of the features, and ‘DESCR’, the full description of the dataset."
   ]
  },
  {
   "cell_type": "code",
   "execution_count": 28,
   "metadata": {},
   "outputs": [
    {
     "name": "stdout",
     "output_type": "stream",
     "text": [
      "<class 'numpy.ndarray'>\n",
      "<class 'numpy.ndarray'>\n",
      "['class_0' 'class_1' 'class_2']\n",
      "['alcohol', 'malic_acid', 'ash', 'alcalinity_of_ash', 'magnesium', 'total_phenols', 'flavanoids', 'nonflavanoid_phenols', 'proanthocyanins', 'color_intensity', 'hue', 'od280/od315_of_diluted_wines', 'proline']\n"
     ]
    }
   ],
   "source": [
    "data = datasets.load_wine()\n",
    "#X_train, X_test = train_test_split(data, test_size=0.33, random_state=42)\n",
    "print(type(data['data']))\n",
    "print(type(data['target']))\n",
    "print(data['target_names'])\n",
    "print(data['feature_names'])\n",
    "#type(X_train)"
   ]
  },
  {
   "cell_type": "code",
   "execution_count": 29,
   "metadata": {
    "deletable": false,
    "editable": false,
    "nbgrader": {
     "grade": true,
     "grade_id": "cell-85dd231d39ba1054",
     "locked": true,
     "points": 1,
     "schema_version": 1,
     "solution": false
    }
   },
   "outputs": [],
   "source": [
    "tests = [\n",
    "    {\n",
    "        'dataset_type': 'X_train',\n",
    "        'dataset': X_train,\n",
    "        'shape_hash': '4c89825fdaebd81d00f7b45dafa18ef7b1ba1ae7842ef7d783557c3c9ddf7a03'\n",
    "    },\n",
    "    {\n",
    "        'dataset_type': 'X_test',\n",
    "        'dataset': X_test,\n",
    "        'shape_hash': 'f6c8d3daeed9b2c2df64a756aa8d44614e45f108d571247865e59315fbfe578f'\n",
    "    },\n",
    "    {\n",
    "        'dataset_type': 'y_train',\n",
    "        'dataset': y_train,\n",
    "        'shape_hash': 'ea38832e303c9a40cfe8b6160fd949f7317febe9633fc7c8a1153aa5e7c2512e'\n",
    "    },\n",
    "    {\n",
    "        'dataset_type': 'y_test',\n",
    "        'dataset': y_test,\n",
    "        'shape_hash': '8f332db1356cb4786b468baab31bd75565bd751de9d984c92f9defbcc3ef172d'\n",
    "    },\n",
    "]\n",
    "\n",
    "for test in tests:\n",
    "    shape_hash = hashlib.sha256(json.dumps(test['dataset'].shape).encode()).hexdigest()\n",
    "\n",
    "    assert isinstance(test['dataset'], np.ndarray), f\"{test['dataset_type']} should be a numpy array!\"\n",
    "    assert shape_hash == test['shape_hash'], \"The returned numpy array has the wrong shape!\""
   ]
  },
  {
   "cell_type": "code",
   "execution_count": 30,
   "metadata": {
    "deletable": false,
    "nbgrader": {
     "grade": false,
     "grade_id": "cell-bf5bdec884565df8",
     "locked": false,
     "schema_version": 1,
     "solution": true
    }
   },
   "outputs": [
    {
     "name": "stdout",
     "output_type": "stream",
     "text": [
      "<class 'float'>\n"
     ]
    }
   ],
   "source": [
    "# Now instantiate a kNN Classifier with k=3, that uses the euclidean distance as distance function\n",
    "# In scikit, the euclidean distance is the default one and goes by the name of 'minkowski'\n",
    "# which is in fact a generalisation of the euclidean distance\n",
    "# clf = ...\n",
    "# YOUR CODE HERE\n",
    "clf = KNeighborsClassifier(n_neighbors=3)\n",
    "clf.fit(X_train, y_train)\n",
    "\n",
    "# Get predictions for the test dataset\n",
    "# y_pred = ...\n",
    "# YOUR CODE HERE\n",
    "y_pred = clf.predict(X_test)\n",
    "\n",
    "# Measure the accuracy of your solution using scikit's accuracy_score function\n",
    "# accuracy = ...\n",
    "# YOUR CODE HERE\n",
    "accuracy = float(accuracy_score(y_test, y_pred))\n",
    "print(type(accuracy))\n"
   ]
  },
  {
   "cell_type": "code",
   "execution_count": 31,
   "metadata": {
    "deletable": false,
    "editable": false,
    "nbgrader": {
     "grade": true,
     "grade_id": "cell-04b5eaa6dd765f64",
     "locked": true,
     "points": 1,
     "schema_version": 1,
     "solution": false
    }
   },
   "outputs": [],
   "source": [
    "assert isinstance(clf, KNeighborsClassifier)\n",
    "assert clf.n_neighbors == 3\n",
    "assert clf.metric == 'minkowski'\n",
    "\n",
    "assert isinstance(y_pred, np.ndarray)\n",
    "assert y_pred.shape == (59,)\n",
    "\n",
    "assert isinstance(accuracy, float)\n",
    "assert math.isclose(accuracy, 0.694915, rel_tol=1e-04)"
   ]
  },
  {
   "cell_type": "markdown",
   "metadata": {
    "deletable": false,
    "editable": false,
    "nbgrader": {
     "grade": false,
     "grade_id": "cell-967467f1173ef45d",
     "locked": true,
     "schema_version": 1,
     "solution": false
    }
   },
   "source": [
    "## Exercise 12\n",
    "\n",
    "Now we want to see the difference if we use the cosine distance instead of the euclidean distance.\n",
    "\n",
    "Go through the same steps as the previous exercise, but use the cosine distance as the distance metric in the knn classifier."
   ]
  },
  {
   "cell_type": "code",
   "execution_count": 32,
   "metadata": {
    "deletable": false,
    "nbgrader": {
     "grade": false,
     "grade_id": "cell-2d3c89f8bdfa66f9",
     "locked": false,
     "schema_version": 1,
     "solution": true
    }
   },
   "outputs": [],
   "source": [
    "# Instantiate a kNN Classifier with k=3, that uses the cosine distance as distance function\n",
    "# clf = ...\n",
    "# YOUR CODE HERE\n",
    "from scipy.spatial.distance import cosine as cos_dist\n",
    "clf = KNeighborsClassifier(n_neighbors=3, metric=cos_dist)\n",
    "clf.fit(X_train, y_train)\n",
    "\n",
    "\n",
    "# Get predictions for the test dataset\n",
    "# y_pred = ...\n",
    "# YOUR CODE HERE\n",
    "y_pred = clf.predict(X_test)\n",
    "\n",
    "# Measure the accuracy of your solution using scikit's accuracy_score function\n",
    "# accuracy = ...\n",
    "# YOUR CODE HERE\n",
    "accuracy = float(accuracy_score(y_test, y_pred))\n"
   ]
  },
  {
   "cell_type": "code",
   "execution_count": 33,
   "metadata": {
    "deletable": false,
    "editable": false,
    "nbgrader": {
     "grade": true,
     "grade_id": "cell-27bbc70efc45d988",
     "locked": true,
     "points": 1,
     "schema_version": 1,
     "solution": false
    }
   },
   "outputs": [],
   "source": [
    "assert isinstance(clf, KNeighborsClassifier)\n",
    "assert clf.n_neighbors == 3\n",
    "assert clf.metric == cosine\n",
    "\n",
    "assert isinstance(y_pred, np.ndarray)\n",
    "assert y_pred.shape == (59,)\n",
    "\n",
    "assert isinstance(accuracy, float)\n",
    "assert math.isclose(accuracy, 0.7796610, rel_tol=1e-04)"
   ]
  },
  {
   "cell_type": "markdown",
   "metadata": {
    "deletable": false,
    "editable": false,
    "nbgrader": {
     "grade": false,
     "grade_id": "cell-202c9f284ddef192",
     "locked": true,
     "schema_version": 1,
     "solution": false
    }
   },
   "source": [
    "And we're done! Nice job ;)"
   ]
  },
  {
   "cell_type": "markdown",
   "metadata": {
    "deletable": false,
    "editable": false,
    "nbgrader": {
     "grade": false,
     "grade_id": "cell-1a098c74dbde1f1a",
     "locked": true,
     "schema_version": 1,
     "solution": false
    }
   },
   "source": [
    "![were_done](media/were_done.gif)"
   ]
  }
 ],
 "metadata": {
  "kernelspec": {
   "display_name": "Python 3",
   "language": "python",
   "name": "python3"
  },
  "language_info": {
   "codemirror_mode": {
    "name": "ipython",
    "version": 3
   },
   "file_extension": ".py",
   "mimetype": "text/x-python",
   "name": "python",
   "nbconvert_exporter": "python",
   "pygments_lexer": "ipython3",
   "version": "3.7.3"
  }
 },
 "nbformat": 4,
 "nbformat_minor": 2
}
